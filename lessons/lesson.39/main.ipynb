{
 "cells": [
  {
   "cell_type": "code",
   "execution_count": 1,
   "id": "df400540-b022-4361-ac2e-5c1b47b88ba3",
   "metadata": {},
   "outputs": [
    {
     "name": "stdout",
     "output_type": "stream",
     "text": [
      "Hello World\n"
     ]
    }
   ],
   "source": [
    "print(\"Hello World\")"
   ]
  },
  {
   "cell_type": "code",
   "execution_count": 3,
   "id": "aaa28896-192e-41b0-8e0f-c87729b26af1",
   "metadata": {},
   "outputs": [
    {
     "name": "stdout",
     "output_type": "stream",
     "text": [
      "<module 'numpy' from '/Users/suren/MyFiles/OTUS/lessons/Python-Basic.2023.05/39.numpy/venv/lib/python3.11/site-packages/numpy/__init__.py'>\n",
      "Help on package numpy.doc in numpy:\n",
      "\n",
      "NAME\n",
      "    numpy.doc\n",
      "\n",
      "DESCRIPTION\n",
      "    Topical documentation\n",
      "    =====================\n",
      "    \n",
      "    The following topics are available:\n",
      "    \n",
      "    - constants\n",
      "    - ufuncs\n",
      "    \n",
      "    You can view them by\n",
      "    \n",
      "    >>> help(np.doc.TOPIC)                                      #doctest: +SKIP\n",
      "\n",
      "PACKAGE CONTENTS\n",
      "    constants\n",
      "    ufuncs\n",
      "\n",
      "DATA\n",
      "    __all__ = ['constants', 'ufuncs', '__doc__']\n",
      "\n",
      "FILE\n",
      "    /Users/suren/MyFiles/OTUS/lessons/Python-Basic.2023.05/39.numpy/venv/lib/python3.11/site-packages/numpy/doc/__init__.py\n",
      "\n",
      "\n"
     ]
    }
   ],
   "source": [
    "# pip install numpy\n",
    "\n",
    "import numpy as np\n",
    "from numpy import doc\n",
    "\n",
    "print(repr(np))\n",
    "\n",
    "help(doc)"
   ]
  },
  {
   "cell_type": "code",
   "execution_count": 4,
   "id": "f67658b6-c2f1-4b94-848d-0db9b2a51bde",
   "metadata": {},
   "outputs": [],
   "source": [
    "a = np.array([1, 2, 3])"
   ]
  },
  {
   "cell_type": "code",
   "execution_count": 5,
   "id": "17d3dd71-33f5-477e-8877-565df5f859f3",
   "metadata": {},
   "outputs": [
    {
     "data": {
      "text/plain": [
       "array([1, 2, 3])"
      ]
     },
     "execution_count": 5,
     "metadata": {},
     "output_type": "execute_result"
    }
   ],
   "source": [
    "a"
   ]
  },
  {
   "cell_type": "code",
   "execution_count": 6,
   "id": "993164c4-b739-40df-9936-2345ce8c8441",
   "metadata": {},
   "outputs": [
    {
     "name": "stdout",
     "output_type": "stream",
     "text": [
      "[1 2 3]\n"
     ]
    }
   ],
   "source": [
    "print(a)"
   ]
  },
  {
   "cell_type": "code",
   "execution_count": 7,
   "id": "1fae49a1-361f-4e4e-8d49-56a14d8e4ea3",
   "metadata": {},
   "outputs": [
    {
     "name": "stdout",
     "output_type": "stream",
     "text": [
      "[ 5  7 11 13]\n"
     ]
    }
   ],
   "source": [
    "a = np.array([5, 7, 11, 13])\n",
    "print(a)"
   ]
  },
  {
   "cell_type": "code",
   "execution_count": 8,
   "id": "70a1d658-06fb-4536-b020-0ccb31578fc5",
   "metadata": {},
   "outputs": [
    {
     "name": "stdout",
     "output_type": "stream",
     "text": [
      "int64\n"
     ]
    }
   ],
   "source": [
    "print(a.dtype)"
   ]
  },
  {
   "cell_type": "code",
   "execution_count": 9,
   "id": "3e4697c7-ae2b-4aa2-b5e9-d12dcf573649",
   "metadata": {},
   "outputs": [
    {
     "data": {
      "text/plain": [
       "(4,)"
      ]
     },
     "execution_count": 9,
     "metadata": {},
     "output_type": "execute_result"
    }
   ],
   "source": [
    "a.shape"
   ]
  },
  {
   "cell_type": "code",
   "execution_count": 10,
   "id": "9cf178b5-8a97-4237-9eab-8a9d174c24d8",
   "metadata": {},
   "outputs": [
    {
     "data": {
      "text/plain": [
       "1"
      ]
     },
     "execution_count": 10,
     "metadata": {},
     "output_type": "execute_result"
    }
   ],
   "source": [
    "a.ndim"
   ]
  },
  {
   "cell_type": "code",
   "execution_count": 11,
   "id": "22978d05-7d38-45d4-97be-51e013add1a7",
   "metadata": {},
   "outputs": [
    {
     "data": {
      "text/plain": [
       "array([[4, 5, 6],\n",
       "       [7, 8, 9]])"
      ]
     },
     "execution_count": 11,
     "metadata": {},
     "output_type": "execute_result"
    }
   ],
   "source": [
    "b = np.array([\n",
    "    [4, 5, 6],\n",
    "    [7, 8, 9],\n",
    "])\n",
    "b"
   ]
  },
  {
   "cell_type": "code",
   "execution_count": 12,
   "id": "9b7fd3fa-4778-42e9-be5f-b51ff871e8c7",
   "metadata": {},
   "outputs": [
    {
     "name": "stdout",
     "output_type": "stream",
     "text": [
      "[[4 5 6]\n",
      " [7 8 9]]\n"
     ]
    }
   ],
   "source": [
    "print(b)"
   ]
  },
  {
   "cell_type": "code",
   "execution_count": 13,
   "id": "082ebc4e-3eb3-426d-9a2f-925a07a9a66c",
   "metadata": {},
   "outputs": [
    {
     "data": {
      "text/plain": [
       "[array([4, 5, 6]), array([7, 8, 9])]"
      ]
     },
     "execution_count": 13,
     "metadata": {},
     "output_type": "execute_result"
    }
   ],
   "source": [
    "list(b)"
   ]
  },
  {
   "cell_type": "code",
   "execution_count": 14,
   "id": "d196537d-98ea-4a83-8f32-c2767ae1930d",
   "metadata": {},
   "outputs": [
    {
     "data": {
      "text/plain": [
       "dtype('int64')"
      ]
     },
     "execution_count": 14,
     "metadata": {},
     "output_type": "execute_result"
    }
   ],
   "source": [
    "b.dtype"
   ]
  },
  {
   "cell_type": "code",
   "execution_count": 15,
   "id": "3762b627-aa27-477d-8b9a-ecd0df9b90c5",
   "metadata": {},
   "outputs": [],
   "source": [
    "b.dtype = np.int16"
   ]
  },
  {
   "cell_type": "code",
   "execution_count": 16,
   "id": "31760f94-a7bf-4191-8921-0f84be1565b9",
   "metadata": {},
   "outputs": [
    {
     "data": {
      "text/plain": [
       "array([[4, 0, 0, 0, 5, 0, 0, 0, 6, 0, 0, 0],\n",
       "       [7, 0, 0, 0, 8, 0, 0, 0, 9, 0, 0, 0]], dtype=int16)"
      ]
     },
     "execution_count": 16,
     "metadata": {},
     "output_type": "execute_result"
    }
   ],
   "source": [
    "b"
   ]
  },
  {
   "cell_type": "code",
   "execution_count": 17,
   "id": "02ac2324-2ef0-48cf-86ec-04f0cbf638d7",
   "metadata": {},
   "outputs": [
    {
     "data": {
      "text/plain": [
       "(2, 12)"
      ]
     },
     "execution_count": 17,
     "metadata": {},
     "output_type": "execute_result"
    }
   ],
   "source": [
    "b.shape"
   ]
  },
  {
   "cell_type": "code",
   "execution_count": 18,
   "id": "44ca1576-77b7-47a0-a01e-dc1815a6c1eb",
   "metadata": {},
   "outputs": [
    {
     "data": {
      "text/plain": [
       "array([[1, 2, 3],\n",
       "       [7, 8, 9]], dtype=int16)"
      ]
     },
     "execution_count": 18,
     "metadata": {},
     "output_type": "execute_result"
    }
   ],
   "source": [
    "b = np.array([\n",
    "    [1, 2, 3],\n",
    "    [7, 8, 9],\n",
    "], dtype=np.int16)\n",
    "b"
   ]
  },
  {
   "cell_type": "code",
   "execution_count": 19,
   "id": "11dc77b4-aac2-4dc7-b219-fde609370b2d",
   "metadata": {},
   "outputs": [
    {
     "name": "stdout",
     "output_type": "stream",
     "text": [
      "[[1 2 3]\n",
      " [7 8 9]]\n"
     ]
    }
   ],
   "source": [
    "print(b)"
   ]
  },
  {
   "cell_type": "code",
   "execution_count": 20,
   "id": "3f20dabf-dfb5-4f6e-8b53-439f28035d39",
   "metadata": {},
   "outputs": [
    {
     "data": {
      "text/plain": [
       "array([0, 1, 2, 3, 4, 5])"
      ]
     },
     "execution_count": 20,
     "metadata": {},
     "output_type": "execute_result"
    }
   ],
   "source": [
    "c = np.arange(6)\n",
    "c"
   ]
  },
  {
   "cell_type": "code",
   "execution_count": 21,
   "id": "0a89ea03-cad0-4fb2-b5b8-9a25e4f983f3",
   "metadata": {},
   "outputs": [
    {
     "data": {
      "text/plain": [
       "4294967296"
      ]
     },
     "execution_count": 21,
     "metadata": {},
     "output_type": "execute_result"
    }
   ],
   "source": [
    "2 ** 32"
   ]
  },
  {
   "cell_type": "code",
   "execution_count": 22,
   "id": "0cf562c7-d1e2-41bb-8c48-f7cf94013d7d",
   "metadata": {},
   "outputs": [
    {
     "data": {
      "text/plain": [
       "4294967299"
      ]
     },
     "execution_count": 22,
     "metadata": {},
     "output_type": "execute_result"
    }
   ],
   "source": [
    "2 ** 32 + 3"
   ]
  },
  {
   "cell_type": "code",
   "execution_count": 23,
   "id": "b25d4649-96e8-44f4-9d96-5809a5ccfb8e",
   "metadata": {},
   "outputs": [
    {
     "data": {
      "text/plain": [
       "array([4294967299])"
      ]
     },
     "execution_count": 23,
     "metadata": {},
     "output_type": "execute_result"
    }
   ],
   "source": [
    "a = np.array([2 ** 32 + 3])\n",
    "a"
   ]
  },
  {
   "cell_type": "code",
   "execution_count": 24,
   "id": "05126ff9-5f91-4e5e-a7c6-f7d907b192fe",
   "metadata": {},
   "outputs": [
    {
     "data": {
      "text/plain": [
       "dtype('int64')"
      ]
     },
     "execution_count": 24,
     "metadata": {},
     "output_type": "execute_result"
    }
   ],
   "source": [
    "a.dtype"
   ]
  },
  {
   "cell_type": "code",
   "execution_count": 25,
   "id": "11fc6ae3-8e77-4bab-8bdb-58b9e5487f85",
   "metadata": {},
   "outputs": [],
   "source": [
    "a.dtype = np.int16"
   ]
  },
  {
   "cell_type": "code",
   "execution_count": 26,
   "id": "38bd7d12-b73d-4043-9106-ca2568d09423",
   "metadata": {},
   "outputs": [
    {
     "data": {
      "text/plain": [
       "array([3, 0, 1, 0], dtype=int16)"
      ]
     },
     "execution_count": 26,
     "metadata": {},
     "output_type": "execute_result"
    }
   ],
   "source": [
    "a"
   ]
  },
  {
   "cell_type": "code",
   "execution_count": 27,
   "id": "21b6d168-e5a8-4043-834e-d0a5b468b84a",
   "metadata": {},
   "outputs": [
    {
     "data": {
      "text/plain": [
       "array([ 10,  15,  20,  25,  30,  35,  40,  45,  50,  55,  60,  65,  70,\n",
       "        75,  80,  85,  90,  95, 100, 105])"
      ]
     },
     "execution_count": 27,
     "metadata": {},
     "output_type": "execute_result"
    }
   ],
   "source": [
    "a = np.arange(10, 110, 5)\n",
    "a"
   ]
  },
  {
   "cell_type": "code",
   "execution_count": 28,
   "id": "44a19267-6bc7-44f0-bd9a-f14b8415d937",
   "metadata": {},
   "outputs": [
    {
     "data": {
      "text/plain": [
       "(20,)"
      ]
     },
     "execution_count": 28,
     "metadata": {},
     "output_type": "execute_result"
    }
   ],
   "source": [
    "a.shape"
   ]
  },
  {
   "cell_type": "code",
   "execution_count": 29,
   "id": "87b04d85-af7e-4e15-a85d-a83682913820",
   "metadata": {},
   "outputs": [
    {
     "data": {
      "text/plain": [
       "array([[ 10,  15,  20,  25,  30],\n",
       "       [ 35,  40,  45,  50,  55],\n",
       "       [ 60,  65,  70,  75,  80],\n",
       "       [ 85,  90,  95, 100, 105]])"
      ]
     },
     "execution_count": 29,
     "metadata": {},
     "output_type": "execute_result"
    }
   ],
   "source": [
    "a = a.reshape(4, 5)\n",
    "a"
   ]
  },
  {
   "cell_type": "code",
   "execution_count": 30,
   "id": "22a94aa0-60a6-4f98-bc40-40b1cf6578a2",
   "metadata": {},
   "outputs": [
    {
     "data": {
      "text/plain": [
       "(4, 5)"
      ]
     },
     "execution_count": 30,
     "metadata": {},
     "output_type": "execute_result"
    }
   ],
   "source": [
    "a.shape"
   ]
  },
  {
   "cell_type": "code",
   "execution_count": 31,
   "id": "3efd5679-d295-42bc-89d3-8ec0db044d35",
   "metadata": {},
   "outputs": [
    {
     "data": {
      "text/plain": [
       "array([[ 10,  15,  20,  25,  30],\n",
       "       [ 35,  40,  45,  50,  55],\n",
       "       [ 60,  65,  70,  75,  80],\n",
       "       [ 85,  90,  95, 100, 105]])"
      ]
     },
     "execution_count": 31,
     "metadata": {},
     "output_type": "execute_result"
    }
   ],
   "source": [
    "a = np.arange(10, 110, 5).reshape(4, 5)\n",
    "a"
   ]
  },
  {
   "cell_type": "code",
   "execution_count": 32,
   "id": "65923d68-e771-4aab-a3a3-8a14a2c84db2",
   "metadata": {},
   "outputs": [
    {
     "data": {
      "text/plain": [
       "array([10, 15, 20, 25, 30])"
      ]
     },
     "execution_count": 32,
     "metadata": {},
     "output_type": "execute_result"
    }
   ],
   "source": [
    "a[0]"
   ]
  },
  {
   "cell_type": "code",
   "execution_count": 33,
   "id": "8673fe69-ba9e-4fef-be0a-1a2408984410",
   "metadata": {},
   "outputs": [
    {
     "data": {
      "text/plain": [
       "25"
      ]
     },
     "execution_count": 33,
     "metadata": {},
     "output_type": "execute_result"
    }
   ],
   "source": [
    "a[0][3]"
   ]
  },
  {
   "cell_type": "code",
   "execution_count": 34,
   "id": "58b08e15-f53e-4340-84a5-e1ad4c362d6e",
   "metadata": {},
   "outputs": [
    {
     "data": {
      "text/plain": [
       "25"
      ]
     },
     "execution_count": 34,
     "metadata": {},
     "output_type": "execute_result"
    }
   ],
   "source": [
    "a[0, 3]"
   ]
  },
  {
   "cell_type": "code",
   "execution_count": 35,
   "id": "906ff61e-887a-431f-9abb-08ee6bdf394f",
   "metadata": {},
   "outputs": [
    {
     "data": {
      "text/plain": [
       "array([0, 1, 2, 3, 4, 5])"
      ]
     },
     "execution_count": 35,
     "metadata": {},
     "output_type": "execute_result"
    }
   ],
   "source": [
    "c"
   ]
  },
  {
   "cell_type": "code",
   "execution_count": 36,
   "id": "00069b46-538b-4b26-85f3-829a2939141a",
   "metadata": {},
   "outputs": [
    {
     "data": {
      "text/plain": [
       "array([7, 7, 7, 7, 7, 7])"
      ]
     },
     "execution_count": 36,
     "metadata": {},
     "output_type": "execute_result"
    }
   ],
   "source": [
    "c.fill(7)\n",
    "c"
   ]
  },
  {
   "cell_type": "code",
   "execution_count": 37,
   "id": "d12495bc-c4a3-477d-83f9-127068daa9fa",
   "metadata": {},
   "outputs": [
    {
     "data": {
      "text/plain": [
       "array([2.05833592e-312, 2.33419537e-312])"
      ]
     },
     "execution_count": 37,
     "metadata": {},
     "output_type": "execute_result"
    }
   ],
   "source": [
    "c = np.empty(2)\n",
    "c"
   ]
  },
  {
   "cell_type": "code",
   "execution_count": 38,
   "id": "450b5f7e-01ce-4386-aa11-51e45201d635",
   "metadata": {},
   "outputs": [
    {
     "data": {
      "text/plain": [
       "array([1, 1], dtype=int8)"
      ]
     },
     "execution_count": 38,
     "metadata": {},
     "output_type": "execute_result"
    }
   ],
   "source": [
    "np.empty(2, dtype=np.int8)"
   ]
  },
  {
   "cell_type": "code",
   "execution_count": 39,
   "id": "407623c6-cf56-43ac-9ff8-f39197f66ffd",
   "metadata": {},
   "outputs": [
    {
     "data": {
      "text/plain": [
       "array([     0,      0,      0,  16368,      0,      0,      0,  16390,\n",
       "            0,      0,      0,  16408,      0,      0, -32768,  16421,\n",
       "            0,      0,      0,  16433], dtype=int16)"
      ]
     },
     "execution_count": 39,
     "metadata": {},
     "output_type": "execute_result"
    }
   ],
   "source": [
    "np.empty(20, dtype=np.int16)"
   ]
  },
  {
   "cell_type": "code",
   "execution_count": 40,
   "id": "cf25ba58-4884-4034-8531-a37a4a4ec268",
   "metadata": {},
   "outputs": [
    {
     "data": {
      "text/plain": [
       "array([2.05833592e-312, 2.33419537e-312])"
      ]
     },
     "execution_count": 40,
     "metadata": {},
     "output_type": "execute_result"
    }
   ],
   "source": [
    "c"
   ]
  },
  {
   "cell_type": "code",
   "execution_count": 41,
   "id": "c64e6d26-210b-4772-8877-0bd8189f025a",
   "metadata": {},
   "outputs": [
    {
     "data": {
      "text/plain": [
       "dtype('float64')"
      ]
     },
     "execution_count": 41,
     "metadata": {},
     "output_type": "execute_result"
    }
   ],
   "source": [
    "c.dtype"
   ]
  },
  {
   "cell_type": "code",
   "execution_count": 42,
   "id": "d44645f4-ee7d-4a42-add3-48f79acb29e9",
   "metadata": {},
   "outputs": [
    {
     "data": {
      "text/plain": [
       "array([1., 1.])"
      ]
     },
     "execution_count": 42,
     "metadata": {},
     "output_type": "execute_result"
    }
   ],
   "source": [
    "c.fill(1)\n",
    "c"
   ]
  },
  {
   "cell_type": "code",
   "execution_count": 43,
   "id": "200abc8b-a278-4d6d-a153-fbc3d8b912b8",
   "metadata": {},
   "outputs": [
    {
     "data": {
      "text/plain": [
       "array([1, 3, 5, 7, 9])"
      ]
     },
     "execution_count": 43,
     "metadata": {},
     "output_type": "execute_result"
    }
   ],
   "source": [
    "np.arange(1, 10, 2)"
   ]
  },
  {
   "cell_type": "code",
   "execution_count": 44,
   "id": "46cf72b2-6251-44cc-bb8e-1cd502918147",
   "metadata": {},
   "outputs": [
    {
     "data": {
      "text/plain": [
       "array([1. , 1.5, 2. , 2.5, 3. , 3.5, 4. , 4.5, 5. , 5.5, 6. , 6.5, 7. ,\n",
       "       7.5, 8. , 8.5, 9. , 9.5])"
      ]
     },
     "execution_count": 44,
     "metadata": {},
     "output_type": "execute_result"
    }
   ],
   "source": [
    "np.arange(1, 10, 0.5)"
   ]
  },
  {
   "cell_type": "code",
   "execution_count": 45,
   "id": "b69b4562-0a04-4323-b715-2fb860319e92",
   "metadata": {},
   "outputs": [
    {
     "data": {
      "text/plain": [
       "array([ 1.  ,  3.25,  5.5 ,  7.75, 10.  ])"
      ]
     },
     "execution_count": 45,
     "metadata": {},
     "output_type": "execute_result"
    }
   ],
   "source": [
    "a = np.linspace(1, 10, 5)\n",
    "a"
   ]
  },
  {
   "cell_type": "code",
   "execution_count": 46,
   "id": "1a20f5a7-6141-4346-a72d-7141fc0ce91e",
   "metadata": {},
   "outputs": [
    {
     "data": {
      "text/plain": [
       "(5,)"
      ]
     },
     "execution_count": 46,
     "metadata": {},
     "output_type": "execute_result"
    }
   ],
   "source": [
    "a.shape"
   ]
  },
  {
   "cell_type": "code",
   "execution_count": 47,
   "id": "3465d0d7-063f-40f5-adfc-ade99a174cf4",
   "metadata": {},
   "outputs": [
    {
     "data": {
      "text/plain": [
       "array([0., 0., 0., 0., 0., 0., 0., 0., 0., 0.])"
      ]
     },
     "execution_count": 47,
     "metadata": {},
     "output_type": "execute_result"
    }
   ],
   "source": [
    "np.zeros(10)"
   ]
  },
  {
   "cell_type": "code",
   "execution_count": 48,
   "id": "800dd335-c522-415e-b894-d094dd8b26e8",
   "metadata": {},
   "outputs": [
    {
     "data": {
      "text/plain": [
       "array([0., 0., 0., 0., 0., 0., 0., 0., 0., 0.])"
      ]
     },
     "execution_count": 48,
     "metadata": {},
     "output_type": "execute_result"
    }
   ],
   "source": [
    "SIZE = 10\n",
    "SHAPE = (SIZE, )\n",
    "\n",
    "np.zeros(SHAPE)"
   ]
  },
  {
   "cell_type": "code",
   "execution_count": 49,
   "id": "05331cd6-44e1-454f-be5d-6de1ca5ba799",
   "metadata": {},
   "outputs": [
    {
     "data": {
      "text/plain": [
       "array([[0., 0., 0., 0.],\n",
       "       [0., 0., 0., 0.],\n",
       "       [0., 0., 0., 0.]])"
      ]
     },
     "execution_count": 49,
     "metadata": {},
     "output_type": "execute_result"
    }
   ],
   "source": [
    "SIZE_X = 3\n",
    "SIZE_Y = 4\n",
    "SHAPE = (SIZE_X, SIZE_Y)\n",
    "\n",
    "a = np.zeros(SHAPE)\n",
    "a"
   ]
  },
  {
   "cell_type": "code",
   "execution_count": 50,
   "id": "8ed39101-2bee-4ad2-aa1f-3165955fad78",
   "metadata": {},
   "outputs": [
    {
     "data": {
      "text/plain": [
       "(3, 4)"
      ]
     },
     "execution_count": 50,
     "metadata": {},
     "output_type": "execute_result"
    }
   ],
   "source": [
    "a.shape"
   ]
  },
  {
   "cell_type": "code",
   "execution_count": 51,
   "id": "bae95fbd-3330-4a22-af97-6f728a7cc7c0",
   "metadata": {},
   "outputs": [
    {
     "data": {
      "text/plain": [
       "array([ 1,  2,  3,  4,  5,  6,  7,  8,  9, 10])"
      ]
     },
     "execution_count": 51,
     "metadata": {},
     "output_type": "execute_result"
    }
   ],
   "source": [
    "a = np.arange(1, 11)\n",
    "a"
   ]
  },
  {
   "cell_type": "code",
   "execution_count": 52,
   "id": "3ea92c6f-15cd-4cb5-9387-2d127bbb488a",
   "metadata": {},
   "outputs": [
    {
     "data": {
      "text/plain": [
       "array([20, 22, 24, 26, 28, 30, 32, 34, 36, 38])"
      ]
     },
     "execution_count": 52,
     "metadata": {},
     "output_type": "execute_result"
    }
   ],
   "source": [
    "b = np.arange(20, 40, 2)\n",
    "b"
   ]
  },
  {
   "cell_type": "code",
   "execution_count": 53,
   "id": "de803e73-9573-4812-81c9-0e0f09d78c8d",
   "metadata": {},
   "outputs": [
    {
     "name": "stdout",
     "output_type": "stream",
     "text": [
      "21\n",
      "24\n",
      "27\n",
      "30\n",
      "33\n",
      "36\n",
      "39\n",
      "42\n",
      "45\n",
      "48\n"
     ]
    }
   ],
   "source": [
    "for a_i, b_i in zip(a, b):\n",
    "    print(a_i + b_i)"
   ]
  },
  {
   "cell_type": "code",
   "execution_count": 54,
   "id": "70c1dd89-f842-4af7-b326-3ea42fa11551",
   "metadata": {},
   "outputs": [
    {
     "data": {
      "text/plain": [
       "array([21, 24, 27, 30, 33, 36, 39, 42, 45, 48])"
      ]
     },
     "execution_count": 54,
     "metadata": {},
     "output_type": "execute_result"
    }
   ],
   "source": [
    "a + b"
   ]
  },
  {
   "cell_type": "code",
   "execution_count": 55,
   "id": "3b5cc3b5-8c05-4044-8062-f4464ae0b442",
   "metadata": {},
   "outputs": [
    {
     "data": {
      "text/plain": [
       "(3, 4)"
      ]
     },
     "execution_count": 55,
     "metadata": {},
     "output_type": "execute_result"
    }
   ],
   "source": [
    "SHAPE"
   ]
  },
  {
   "cell_type": "code",
   "execution_count": 56,
   "id": "5bab18f5-f471-4e83-9df6-cd5275c3996e",
   "metadata": {},
   "outputs": [
    {
     "name": "stdout",
     "output_type": "stream",
     "text": [
      "[[ 1  2  3  4]\n",
      " [ 5  6  7  8]\n",
      " [ 9 10 11 12]]\n",
      "[[10 13 16 19]\n",
      " [22 25 28 31]\n",
      " [34 37 40 43]]\n"
     ]
    }
   ],
   "source": [
    "a = np.arange(1, 13, 1).reshape(SHAPE)\n",
    "b = np.arange(10, 46, 3).reshape(SHAPE)\n",
    "\n",
    "print(a)\n",
    "print(b)"
   ]
  },
  {
   "cell_type": "code",
   "execution_count": 57,
   "id": "15bb5ed4-2f4f-466f-89ea-6fbe78ed6b15",
   "metadata": {},
   "outputs": [
    {
     "name": "stdout",
     "output_type": "stream",
     "text": [
      "(3, 4)\n",
      "(3, 4)\n"
     ]
    }
   ],
   "source": [
    "print(a.shape)\n",
    "print(b.shape)"
   ]
  },
  {
   "cell_type": "code",
   "execution_count": 58,
   "id": "e125f3c8-148c-42f0-ac17-fa4eb45ab2af",
   "metadata": {},
   "outputs": [
    {
     "data": {
      "text/plain": [
       "array([[11, 15, 19, 23],\n",
       "       [27, 31, 35, 39],\n",
       "       [43, 47, 51, 55]])"
      ]
     },
     "execution_count": 58,
     "metadata": {},
     "output_type": "execute_result"
    }
   ],
   "source": [
    "a + b"
   ]
  },
  {
   "cell_type": "code",
   "execution_count": 59,
   "id": "1f62ab06-5ccf-4d7f-829f-89200383c00c",
   "metadata": {},
   "outputs": [
    {
     "data": {
      "text/plain": [
       "array([[ 9, 11, 13, 15],\n",
       "       [17, 19, 21, 23],\n",
       "       [25, 27, 29, 31]])"
      ]
     },
     "execution_count": 59,
     "metadata": {},
     "output_type": "execute_result"
    }
   ],
   "source": [
    "b - a"
   ]
  },
  {
   "cell_type": "code",
   "execution_count": 60,
   "id": "5e184853-2177-4dcc-88d3-7d53e51222d8",
   "metadata": {},
   "outputs": [
    {
     "data": {
      "text/plain": [
       "array([[ 10,  26,  48,  76],\n",
       "       [110, 150, 196, 248],\n",
       "       [306, 370, 440, 516]])"
      ]
     },
     "execution_count": 60,
     "metadata": {},
     "output_type": "execute_result"
    }
   ],
   "source": [
    "a * b"
   ]
  },
  {
   "cell_type": "code",
   "execution_count": 61,
   "id": "0b23de50-40da-4bf6-b73d-f4566c52076d",
   "metadata": {},
   "outputs": [
    {
     "data": {
      "text/plain": [
       "array([[10.        ,  6.5       ,  5.33333333,  4.75      ],\n",
       "       [ 4.4       ,  4.16666667,  4.        ,  3.875     ],\n",
       "       [ 3.77777778,  3.7       ,  3.63636364,  3.58333333]])"
      ]
     },
     "execution_count": 61,
     "metadata": {},
     "output_type": "execute_result"
    }
   ],
   "source": [
    "b / a"
   ]
  },
  {
   "cell_type": "code",
   "execution_count": 62,
   "id": "d36012e6-c322-4581-b788-baec0b53fe15",
   "metadata": {},
   "outputs": [
    {
     "ename": "ValueError",
     "evalue": "operands could not be broadcast together with shapes (2,) (3,) ",
     "output_type": "error",
     "traceback": [
      "\u001b[0;31m---------------------------------------------------------------------------\u001b[0m",
      "\u001b[0;31mValueError\u001b[0m                                Traceback (most recent call last)",
      "Cell \u001b[0;32mIn[62], line 1\u001b[0m\n\u001b[0;32m----> 1\u001b[0m \u001b[43mnp\u001b[49m\u001b[38;5;241;43m.\u001b[39;49m\u001b[43marange\u001b[49m\u001b[43m(\u001b[49m\u001b[38;5;241;43m2\u001b[39;49m\u001b[43m)\u001b[49m\u001b[43m \u001b[49m\u001b[38;5;241;43m+\u001b[39;49m\u001b[43m \u001b[49m\u001b[43mnp\u001b[49m\u001b[38;5;241;43m.\u001b[39;49m\u001b[43marange\u001b[49m\u001b[43m(\u001b[49m\u001b[38;5;241;43m3\u001b[39;49m\u001b[43m)\u001b[49m\n",
      "\u001b[0;31mValueError\u001b[0m: operands could not be broadcast together with shapes (2,) (3,) "
     ]
    }
   ],
   "source": [
    "# ValueError: operands could not be broadcast together with shapes (2,) (3,) \n",
    "np.arange(2) + np.arange(3)"
   ]
  },
  {
   "cell_type": "code",
   "execution_count": 64,
   "id": "bc178820-d642-494d-b868-08d953d3dfd2",
   "metadata": {},
   "outputs": [
    {
     "ename": "ValueError",
     "evalue": "operands could not be broadcast together with shapes (2,3) (3,2) ",
     "output_type": "error",
     "traceback": [
      "\u001b[0;31m---------------------------------------------------------------------------\u001b[0m",
      "\u001b[0;31mValueError\u001b[0m                                Traceback (most recent call last)",
      "Cell \u001b[0;32mIn[64], line 1\u001b[0m\n\u001b[0;32m----> 1\u001b[0m \u001b[43mnp\u001b[49m\u001b[38;5;241;43m.\u001b[39;49m\u001b[43marange\u001b[49m\u001b[43m(\u001b[49m\u001b[38;5;241;43m6\u001b[39;49m\u001b[43m)\u001b[49m\u001b[38;5;241;43m.\u001b[39;49m\u001b[43mreshape\u001b[49m\u001b[43m(\u001b[49m\u001b[43m(\u001b[49m\u001b[38;5;241;43m2\u001b[39;49m\u001b[43m,\u001b[49m\u001b[43m \u001b[49m\u001b[38;5;241;43m3\u001b[39;49m\u001b[43m)\u001b[49m\u001b[43m)\u001b[49m\u001b[43m \u001b[49m\u001b[38;5;241;43m+\u001b[39;49m\u001b[43m \u001b[49m\u001b[43mnp\u001b[49m\u001b[38;5;241;43m.\u001b[39;49m\u001b[43marange\u001b[49m\u001b[43m(\u001b[49m\u001b[38;5;241;43m6\u001b[39;49m\u001b[43m)\u001b[49m\u001b[38;5;241;43m.\u001b[39;49m\u001b[43mreshape\u001b[49m\u001b[43m(\u001b[49m\u001b[43m(\u001b[49m\u001b[38;5;241;43m3\u001b[39;49m\u001b[43m,\u001b[49m\u001b[43m \u001b[49m\u001b[38;5;241;43m2\u001b[39;49m\u001b[43m)\u001b[49m\u001b[43m)\u001b[49m\n",
      "\u001b[0;31mValueError\u001b[0m: operands could not be broadcast together with shapes (2,3) (3,2) "
     ]
    }
   ],
   "source": [
    "# ValueError: operands could not be broadcast together with shapes (2,3) (3,2) \n",
    "np.arange(6).reshape((2, 3)) + np.arange(6).reshape((3, 2))"
   ]
  },
  {
   "cell_type": "code",
   "execution_count": 65,
   "id": "b13171df-a6ef-4b5e-b83c-4f206727c04b",
   "metadata": {},
   "outputs": [
    {
     "ename": "ValueError",
     "evalue": "operands could not be broadcast together with shapes (2,3) (3,2) ",
     "output_type": "error",
     "traceback": [
      "\u001b[0;31m---------------------------------------------------------------------------\u001b[0m",
      "\u001b[0;31mValueError\u001b[0m                                Traceback (most recent call last)",
      "Cell \u001b[0;32mIn[65], line 1\u001b[0m\n\u001b[0;32m----> 1\u001b[0m \u001b[43mnp\u001b[49m\u001b[38;5;241;43m.\u001b[39;49m\u001b[43marange\u001b[49m\u001b[43m(\u001b[49m\u001b[38;5;241;43m6\u001b[39;49m\u001b[43m)\u001b[49m\u001b[38;5;241;43m.\u001b[39;49m\u001b[43mreshape\u001b[49m\u001b[43m(\u001b[49m\u001b[43m(\u001b[49m\u001b[38;5;241;43m2\u001b[39;49m\u001b[43m,\u001b[49m\u001b[43m \u001b[49m\u001b[38;5;241;43m3\u001b[39;49m\u001b[43m)\u001b[49m\u001b[43m)\u001b[49m\u001b[43m \u001b[49m\u001b[38;5;241;43m*\u001b[39;49m\u001b[43m \u001b[49m\u001b[43mnp\u001b[49m\u001b[38;5;241;43m.\u001b[39;49m\u001b[43marange\u001b[49m\u001b[43m(\u001b[49m\u001b[38;5;241;43m6\u001b[39;49m\u001b[43m)\u001b[49m\u001b[38;5;241;43m.\u001b[39;49m\u001b[43mreshape\u001b[49m\u001b[43m(\u001b[49m\u001b[43m(\u001b[49m\u001b[38;5;241;43m3\u001b[39;49m\u001b[43m,\u001b[49m\u001b[43m \u001b[49m\u001b[38;5;241;43m2\u001b[39;49m\u001b[43m)\u001b[49m\u001b[43m)\u001b[49m\n",
      "\u001b[0;31mValueError\u001b[0m: operands could not be broadcast together with shapes (2,3) (3,2) "
     ]
    }
   ],
   "source": [
    "np.arange(6).reshape((2, 3)) * np.arange(6).reshape((3, 2))"
   ]
  },
  {
   "cell_type": "code",
   "execution_count": 66,
   "id": "1339e664-8c70-487a-b87c-36eb65a6e714",
   "metadata": {},
   "outputs": [
    {
     "data": {
      "text/plain": [
       "array([[ 9, 11, 13, 15],\n",
       "       [17, 19, 21, 23],\n",
       "       [25, 27, 29, 31]])"
      ]
     },
     "execution_count": 66,
     "metadata": {},
     "output_type": "execute_result"
    }
   ],
   "source": [
    "b - a"
   ]
  },
  {
   "cell_type": "code",
   "execution_count": 67,
   "id": "37433c8d-995c-4fd3-aced-e9bb8fd53f46",
   "metadata": {},
   "outputs": [
    {
     "ename": "AttributeError",
     "evalue": "'numpy.ndarray' object has no attribute 'diff'",
     "output_type": "error",
     "traceback": [
      "\u001b[0;31m---------------------------------------------------------------------------\u001b[0m",
      "\u001b[0;31mAttributeError\u001b[0m                            Traceback (most recent call last)",
      "Cell \u001b[0;32mIn[67], line 1\u001b[0m\n\u001b[0;32m----> 1\u001b[0m \u001b[43mb\u001b[49m\u001b[38;5;241;43m.\u001b[39;49m\u001b[43mdiff\u001b[49m(a)\n",
      "\u001b[0;31mAttributeError\u001b[0m: 'numpy.ndarray' object has no attribute 'diff'"
     ]
    }
   ],
   "source": [
    "b.diff(a)"
   ]
  },
  {
   "cell_type": "code",
   "execution_count": 68,
   "id": "ed0dcb1e-0c44-47fd-83c2-9ec584a4ffda",
   "metadata": {},
   "outputs": [
    {
     "data": {
      "text/plain": [
       "array([[1, 1, 1],\n",
       "       [1, 1, 1],\n",
       "       [1, 1, 1]])"
      ]
     },
     "execution_count": 68,
     "metadata": {},
     "output_type": "execute_result"
    }
   ],
   "source": [
    "np.diff(a)"
   ]
  },
  {
   "cell_type": "code",
   "execution_count": 69,
   "id": "31c0829b-3a6a-47de-8dff-3f897973d1f8",
   "metadata": {},
   "outputs": [
    {
     "data": {
      "text/plain": [
       "array([[3, 3, 3],\n",
       "       [3, 3, 3],\n",
       "       [3, 3, 3]])"
      ]
     },
     "execution_count": 69,
     "metadata": {},
     "output_type": "execute_result"
    }
   ],
   "source": [
    "np.diff(b)"
   ]
  },
  {
   "cell_type": "code",
   "execution_count": 70,
   "id": "993ae6e9-d5b2-4f3d-8fa9-8a8a17f151c3",
   "metadata": {},
   "outputs": [
    {
     "data": {
      "text/plain": [
       "array([[10, 13, 16, 19],\n",
       "       [22, 25, 28, 31],\n",
       "       [34, 37, 40, 43]])"
      ]
     },
     "execution_count": 70,
     "metadata": {},
     "output_type": "execute_result"
    }
   ],
   "source": [
    "b"
   ]
  },
  {
   "cell_type": "code",
   "execution_count": 71,
   "id": "60d463a9-0096-495b-a62f-5a18061c4b2f",
   "metadata": {},
   "outputs": [
    {
     "data": {
      "text/plain": [
       "array([[12, 12, 12, 12],\n",
       "       [12, 12, 12, 12]])"
      ]
     },
     "execution_count": 71,
     "metadata": {},
     "output_type": "execute_result"
    }
   ],
   "source": [
    "np.diff(b, axis=0)"
   ]
  },
  {
   "cell_type": "code",
   "execution_count": 72,
   "id": "303f9e54-73f6-4954-978f-68d34e5e7a1f",
   "metadata": {},
   "outputs": [
    {
     "data": {
      "text/plain": [
       "array(['1', '2', 'qwerty'], dtype='<U21')"
      ]
     },
     "execution_count": 72,
     "metadata": {},
     "output_type": "execute_result"
    }
   ],
   "source": [
    "c = np.array([1, 2, \"qwerty\"])\n",
    "c"
   ]
  },
  {
   "cell_type": "code",
   "execution_count": 73,
   "id": "f0e8821a-7f4d-4a59-a6ac-9343deb76c05",
   "metadata": {},
   "outputs": [
    {
     "data": {
      "text/plain": [
       "array([1, 2, 'qwerty', None], dtype=object)"
      ]
     },
     "execution_count": 73,
     "metadata": {},
     "output_type": "execute_result"
    }
   ],
   "source": [
    "c = np.array([1, 2, \"qwerty\", None])\n",
    "c"
   ]
  },
  {
   "cell_type": "code",
   "execution_count": 74,
   "id": "ef70bb9d-ec52-4feb-90e5-c6f48883669c",
   "metadata": {},
   "outputs": [
    {
     "data": {
      "text/plain": [
       "array([[3, 3, 3],\n",
       "       [3, 3, 3],\n",
       "       [3, 3, 3]])"
      ]
     },
     "execution_count": 74,
     "metadata": {},
     "output_type": "execute_result"
    }
   ],
   "source": [
    "np.diff(b, axis=1)"
   ]
  },
  {
   "cell_type": "code",
   "execution_count": 75,
   "id": "b93d04de-8b8f-44fc-b7fe-ecc7368c6cc4",
   "metadata": {},
   "outputs": [
    {
     "data": {
      "text/plain": [
       "array([ 2,  0,  4, -8, 10, -1])"
      ]
     },
     "execution_count": 75,
     "metadata": {},
     "output_type": "execute_result"
    }
   ],
   "source": [
    "np.diff(np.array([1, 3, 3, 7, -1, 9, 8]))"
   ]
  },
  {
   "cell_type": "code",
   "execution_count": 76,
   "id": "b21b587d-f1d8-439a-977e-89a4799aa6b8",
   "metadata": {},
   "outputs": [
    {
     "data": {
      "text/plain": [
       "array([ 1,  3,  3,  7, -1,  9,  8])"
      ]
     },
     "execution_count": 76,
     "metadata": {},
     "output_type": "execute_result"
    }
   ],
   "source": [
    "c = np.array([1, 3, 3, 7, -1, 9, 8])\n",
    "c"
   ]
  },
  {
   "cell_type": "code",
   "execution_count": 77,
   "id": "1e359d16-d18b-4925-9491-9a7ee53c26c7",
   "metadata": {},
   "outputs": [
    {
     "data": {
      "text/plain": [
       "30"
      ]
     },
     "execution_count": 77,
     "metadata": {},
     "output_type": "execute_result"
    }
   ],
   "source": [
    "np.sum(c)"
   ]
  },
  {
   "cell_type": "code",
   "execution_count": 78,
   "id": "e2f9093d-3a56-439d-82f1-d06386a072af",
   "metadata": {},
   "outputs": [
    {
     "data": {
      "text/plain": [
       "array([[10, 13, 16, 19],\n",
       "       [22, 25, 28, 31],\n",
       "       [34, 37, 40, 43]])"
      ]
     },
     "execution_count": 78,
     "metadata": {},
     "output_type": "execute_result"
    }
   ],
   "source": [
    "b"
   ]
  },
  {
   "cell_type": "code",
   "execution_count": 79,
   "id": "a016e141-8ecf-423e-b6df-e68e097e1282",
   "metadata": {},
   "outputs": [
    {
     "data": {
      "text/plain": [
       "array([66, 75, 84, 93])"
      ]
     },
     "execution_count": 79,
     "metadata": {},
     "output_type": "execute_result"
    }
   ],
   "source": [
    "np.sum(b, axis=0)"
   ]
  },
  {
   "cell_type": "code",
   "execution_count": 80,
   "id": "f64adbc1-9ec1-47ba-9fbf-df964e1502b4",
   "metadata": {},
   "outputs": [
    {
     "data": {
      "text/plain": [
       "40823331028480000"
      ]
     },
     "execution_count": 80,
     "metadata": {},
     "output_type": "execute_result"
    }
   ],
   "source": [
    "np.prod(b)"
   ]
  },
  {
   "cell_type": "code",
   "execution_count": 81,
   "id": "cbdb8771-d33a-4c41-809b-c578ff482d63",
   "metadata": {},
   "outputs": [
    {
     "data": {
      "text/plain": [
       "array([  39520,  477400, 2163760])"
      ]
     },
     "execution_count": 81,
     "metadata": {},
     "output_type": "execute_result"
    }
   ],
   "source": [
    "np.prod(b, axis=1)"
   ]
  },
  {
   "cell_type": "code",
   "execution_count": 82,
   "id": "91b894ef-3593-4263-a3ae-3d3659e865d8",
   "metadata": {},
   "outputs": [
    {
     "data": {
      "text/plain": [
       "2163760"
      ]
     },
     "execution_count": 82,
     "metadata": {},
     "output_type": "execute_result"
    }
   ],
   "source": [
    "34 * 37 * 40 * 43"
   ]
  },
  {
   "cell_type": "code",
   "execution_count": 83,
   "id": "c41137d2-a836-4491-b79b-3bc7d9c2724b",
   "metadata": {},
   "outputs": [
    {
     "data": {
      "text/plain": [
       "array([ 7480, 12025, 17920, 25327])"
      ]
     },
     "execution_count": 83,
     "metadata": {},
     "output_type": "execute_result"
    }
   ],
   "source": [
    "np.prod(b, axis=0)"
   ]
  },
  {
   "cell_type": "code",
   "execution_count": 84,
   "id": "f749bc32-84da-4f37-a76a-d14bdfdb54c7",
   "metadata": {},
   "outputs": [
    {
     "ename": "LinAlgError",
     "evalue": "Last 2 dimensions of the array must be square",
     "output_type": "error",
     "traceback": [
      "\u001b[0;31m---------------------------------------------------------------------------\u001b[0m",
      "\u001b[0;31mLinAlgError\u001b[0m                               Traceback (most recent call last)",
      "Cell \u001b[0;32mIn[84], line 1\u001b[0m\n\u001b[0;32m----> 1\u001b[0m \u001b[43mnp\u001b[49m\u001b[38;5;241;43m.\u001b[39;49m\u001b[43mlinalg\u001b[49m\u001b[38;5;241;43m.\u001b[39;49m\u001b[43mdet\u001b[49m\u001b[43m(\u001b[49m\u001b[43mb\u001b[49m\u001b[43m)\u001b[49m\n",
      "File \u001b[0;32m~/MyFiles/OTUS/lessons/Python-Basic.2023.05/39.numpy/venv/lib/python3.11/site-packages/numpy/linalg/linalg.py:2177\u001b[0m, in \u001b[0;36mdet\u001b[0;34m(a)\u001b[0m\n\u001b[1;32m   2175\u001b[0m a \u001b[38;5;241m=\u001b[39m asarray(a)\n\u001b[1;32m   2176\u001b[0m _assert_stacked_2d(a)\n\u001b[0;32m-> 2177\u001b[0m \u001b[43m_assert_stacked_square\u001b[49m\u001b[43m(\u001b[49m\u001b[43ma\u001b[49m\u001b[43m)\u001b[49m\n\u001b[1;32m   2178\u001b[0m t, result_t \u001b[38;5;241m=\u001b[39m _commonType(a)\n\u001b[1;32m   2179\u001b[0m signature \u001b[38;5;241m=\u001b[39m \u001b[38;5;124m'\u001b[39m\u001b[38;5;124mD->D\u001b[39m\u001b[38;5;124m'\u001b[39m \u001b[38;5;28;01mif\u001b[39;00m isComplexType(t) \u001b[38;5;28;01melse\u001b[39;00m \u001b[38;5;124m'\u001b[39m\u001b[38;5;124md->d\u001b[39m\u001b[38;5;124m'\u001b[39m\n",
      "File \u001b[0;32m~/MyFiles/OTUS/lessons/Python-Basic.2023.05/39.numpy/venv/lib/python3.11/site-packages/numpy/linalg/linalg.py:213\u001b[0m, in \u001b[0;36m_assert_stacked_square\u001b[0;34m(*arrays)\u001b[0m\n\u001b[1;32m    211\u001b[0m m, n \u001b[38;5;241m=\u001b[39m a\u001b[38;5;241m.\u001b[39mshape[\u001b[38;5;241m-\u001b[39m\u001b[38;5;241m2\u001b[39m:]\n\u001b[1;32m    212\u001b[0m \u001b[38;5;28;01mif\u001b[39;00m m \u001b[38;5;241m!=\u001b[39m n:\n\u001b[0;32m--> 213\u001b[0m     \u001b[38;5;28;01mraise\u001b[39;00m LinAlgError(\u001b[38;5;124m'\u001b[39m\u001b[38;5;124mLast 2 dimensions of the array must be square\u001b[39m\u001b[38;5;124m'\u001b[39m)\n",
      "\u001b[0;31mLinAlgError\u001b[0m: Last 2 dimensions of the array must be square"
     ]
    }
   ],
   "source": [
    "np.linalg.det(b)"
   ]
  },
  {
   "cell_type": "code",
   "execution_count": 85,
   "id": "94386920-71e7-4858-98b4-a291efb3f0ea",
   "metadata": {},
   "outputs": [
    {
     "name": "stdout",
     "output_type": "stream",
     "text": [
      "[[ 0  1  2  3]\n",
      " [ 4  5  6  7]\n",
      " [ 8  9 10 11]\n",
      " [12 13 14 15]]\n"
     ]
    }
   ],
   "source": [
    "m = np.arange(16).reshape((4, 4))\n",
    "print(m)"
   ]
  },
  {
   "cell_type": "code",
   "execution_count": 86,
   "id": "012f5bab-7dbd-4594-845f-e00f6551443a",
   "metadata": {},
   "outputs": [
    {
     "data": {
      "text/plain": [
       "-7.099748146989162e-30"
      ]
     },
     "execution_count": 86,
     "metadata": {},
     "output_type": "execute_result"
    }
   ],
   "source": [
    "np.linalg.det(m)"
   ]
  },
  {
   "cell_type": "code",
   "execution_count": 87,
   "id": "e9576aad-887c-468f-8988-039da535be20",
   "metadata": {},
   "outputs": [
    {
     "name": "stdout",
     "output_type": "stream",
     "text": [
      "[[-4 -1  2]\n",
      " [10  4 -1]\n",
      " [ 8  3  1]]\n"
     ]
    }
   ],
   "source": [
    "m = np.array([\n",
    "    [-4, -1, 2],\n",
    "    [10, 4, -1],\n",
    "    [8, 3, 1],\n",
    "])\n",
    "print(m)"
   ]
  },
  {
   "cell_type": "code",
   "execution_count": 88,
   "id": "8c6153aa-444a-4e01-8d74-33bc4a7c49e2",
   "metadata": {},
   "outputs": [
    {
     "data": {
      "text/plain": [
       "(3, 3)"
      ]
     },
     "execution_count": 88,
     "metadata": {},
     "output_type": "execute_result"
    }
   ],
   "source": [
    "m.shape"
   ]
  },
  {
   "cell_type": "code",
   "execution_count": 89,
   "id": "f82bec8d-61cb-4e92-9a3e-a072d92cddcc",
   "metadata": {},
   "outputs": [
    {
     "data": {
      "text/plain": [
       "-14.000000000000009"
      ]
     },
     "execution_count": 89,
     "metadata": {},
     "output_type": "execute_result"
    }
   ],
   "source": [
    "np.linalg.det(m)"
   ]
  },
  {
   "cell_type": "code",
   "execution_count": 90,
   "id": "f61505c5-d2fb-4036-ba9b-d65692f62ee2",
   "metadata": {},
   "outputs": [
    {
     "data": {
      "text/plain": [
       "dtype('int64')"
      ]
     },
     "execution_count": 90,
     "metadata": {},
     "output_type": "execute_result"
    }
   ],
   "source": [
    "m.dtype"
   ]
  },
  {
   "cell_type": "code",
   "execution_count": 91,
   "id": "656b11aa-c87d-4069-b4db-cfbe8a15643e",
   "metadata": {},
   "outputs": [
    {
     "name": "stdout",
     "output_type": "stream",
     "text": [
      "[[-4 -1  2]\n",
      " [10  4 -1]\n",
      " [ 8  3  1]]\n"
     ]
    }
   ],
   "source": [
    "m = np.array([\n",
    "    [-4, -1, 2],\n",
    "    [10, 4, -1],\n",
    "    [8, 3, 1],\n",
    "], dtype=np.int16)\n",
    "print(m)"
   ]
  },
  {
   "cell_type": "code",
   "execution_count": 92,
   "id": "316eef23-1fc2-42d8-bd2d-29a073c7c789",
   "metadata": {},
   "outputs": [
    {
     "data": {
      "text/plain": [
       "-14.000000000000009"
      ]
     },
     "execution_count": 92,
     "metadata": {},
     "output_type": "execute_result"
    }
   ],
   "source": [
    "np.linalg.det(m)"
   ]
  },
  {
   "cell_type": "code",
   "execution_count": 94,
   "id": "fa82eda0-0fd7-4563-9818-f0f63703b4a7",
   "metadata": {},
   "outputs": [
    {
     "data": {
      "text/plain": [
       "array([ 1,  3,  3,  7, -1,  9,  8])"
      ]
     },
     "execution_count": 94,
     "metadata": {},
     "output_type": "execute_result"
    }
   ],
   "source": [
    "c"
   ]
  },
  {
   "cell_type": "code",
   "execution_count": 95,
   "id": "b7da7224-4948-4bef-bb85-35a9aeb7e7e5",
   "metadata": {},
   "outputs": [
    {
     "data": {
      "text/plain": [
       "array([[10, 13, 16, 19],\n",
       "       [22, 25, 28, 31],\n",
       "       [34, 37, 40, 43]])"
      ]
     },
     "execution_count": 95,
     "metadata": {},
     "output_type": "execute_result"
    }
   ],
   "source": [
    "b"
   ]
  },
  {
   "cell_type": "code",
   "execution_count": 97,
   "id": "862adc87-d080-4494-adb3-a5f011736810",
   "metadata": {},
   "outputs": [
    {
     "data": {
      "text/plain": [
       "array([[10, 22, 34],\n",
       "       [13, 25, 37],\n",
       "       [16, 28, 40],\n",
       "       [19, 31, 43]])"
      ]
     },
     "execution_count": 97,
     "metadata": {},
     "output_type": "execute_result"
    }
   ],
   "source": [
    "b_t = b.transpose()\n",
    "b_t"
   ]
  },
  {
   "cell_type": "code",
   "execution_count": 98,
   "id": "691e2cba-341d-45d0-b583-40e4cf3e7473",
   "metadata": {},
   "outputs": [
    {
     "data": {
      "text/plain": [
       "(4, 3)"
      ]
     },
     "execution_count": 98,
     "metadata": {},
     "output_type": "execute_result"
    }
   ],
   "source": [
    "b_t.shape"
   ]
  },
  {
   "cell_type": "code",
   "execution_count": 99,
   "id": "b1966d8e-4eb9-46ba-a795-b40a19f2861f",
   "metadata": {},
   "outputs": [
    {
     "data": {
      "text/plain": [
       "(3, 4)"
      ]
     },
     "execution_count": 99,
     "metadata": {},
     "output_type": "execute_result"
    }
   ],
   "source": [
    "b.shape"
   ]
  },
  {
   "cell_type": "code",
   "execution_count": 100,
   "id": "20f32655-b6ff-4d75-8cf9-fb100b80b5b9",
   "metadata": {},
   "outputs": [
    {
     "data": {
      "text/plain": [
       "array([[10, 22, 34],\n",
       "       [13, 25, 37],\n",
       "       [16, 28, 40],\n",
       "       [19, 31, 43]])"
      ]
     },
     "execution_count": 100,
     "metadata": {},
     "output_type": "execute_result"
    }
   ],
   "source": [
    "b.T"
   ]
  },
  {
   "cell_type": "code",
   "execution_count": 101,
   "id": "f23ada43-bf59-43a2-bf95-36de4ed45c08",
   "metadata": {},
   "outputs": [
    {
     "data": {
      "text/plain": [
       "array([[ 1,  2,  3,  4],\n",
       "       [ 5,  6,  7,  8],\n",
       "       [ 9, 10, 11, 12]])"
      ]
     },
     "execution_count": 101,
     "metadata": {},
     "output_type": "execute_result"
    }
   ],
   "source": [
    "a"
   ]
  },
  {
   "cell_type": "code",
   "execution_count": 102,
   "id": "59349e12-ee2c-4bbd-8d46-6e2fe1fe489a",
   "metadata": {},
   "outputs": [
    {
     "data": {
      "text/plain": [
       "array([[False, False, False, False],\n",
       "       [False, False, False,  True],\n",
       "       [ True,  True,  True,  True]])"
      ]
     },
     "execution_count": 102,
     "metadata": {},
     "output_type": "execute_result"
    }
   ],
   "source": [
    "a > 7"
   ]
  },
  {
   "cell_type": "code",
   "execution_count": 103,
   "id": "ba4de6df-a3ba-4add-8452-8b62b3052015",
   "metadata": {},
   "outputs": [
    {
     "data": {
      "text/plain": [
       "array([[-4, -1,  2],\n",
       "       [10,  4, -1],\n",
       "       [ 8,  3,  1]], dtype=int16)"
      ]
     },
     "execution_count": 103,
     "metadata": {},
     "output_type": "execute_result"
    }
   ],
   "source": [
    "m"
   ]
  },
  {
   "cell_type": "code",
   "execution_count": 104,
   "id": "38e412a0-1947-4884-9589-b7e97ffa30db",
   "metadata": {},
   "outputs": [
    {
     "data": {
      "text/plain": [
       "array([[ True,  True,  True],\n",
       "       [False, False,  True],\n",
       "       [False,  True,  True]])"
      ]
     },
     "execution_count": 104,
     "metadata": {},
     "output_type": "execute_result"
    }
   ],
   "source": [
    "m < 4"
   ]
  },
  {
   "cell_type": "code",
   "execution_count": 105,
   "id": "469c2ce2-49ec-4b9f-b6d2-a50046c4677c",
   "metadata": {},
   "outputs": [
    {
     "data": {
      "text/plain": [
       "array([[ True,  True,  True,  True],\n",
       "       [ True,  True,  True,  True],\n",
       "       [ True,  True,  True,  True]])"
      ]
     },
     "execution_count": 105,
     "metadata": {},
     "output_type": "execute_result"
    }
   ],
   "source": [
    "a == a"
   ]
  },
  {
   "cell_type": "code",
   "execution_count": 106,
   "id": "10a23c81-ebd8-47ae-a8f2-327dd12ace8b",
   "metadata": {},
   "outputs": [
    {
     "data": {
      "text/plain": [
       "array([[False, False, False, False],\n",
       "       [False, False, False, False],\n",
       "       [False, False, False, False]])"
      ]
     },
     "execution_count": 106,
     "metadata": {},
     "output_type": "execute_result"
    }
   ],
   "source": [
    "a == b"
   ]
  },
  {
   "cell_type": "code",
   "execution_count": 107,
   "id": "a47165c7-071c-49be-8cca-c5bed1b1dfef",
   "metadata": {},
   "outputs": [
    {
     "data": {
      "text/plain": [
       "array([[ 1,  2,  3,  4],\n",
       "       [ 5,  6,  7,  8],\n",
       "       [ 9, 10, 11, 12]])"
      ]
     },
     "execution_count": 107,
     "metadata": {},
     "output_type": "execute_result"
    }
   ],
   "source": [
    "a"
   ]
  },
  {
   "cell_type": "code",
   "execution_count": 108,
   "id": "684ea75a-ec17-40ea-9a47-dd3e80629c0a",
   "metadata": {},
   "outputs": [
    {
     "data": {
      "text/plain": [
       "array([[10, 13, 16, 19],\n",
       "       [22, 25, 28, 31],\n",
       "       [34, 37, 40, 43]])"
      ]
     },
     "execution_count": 108,
     "metadata": {},
     "output_type": "execute_result"
    }
   ],
   "source": [
    "b"
   ]
  },
  {
   "cell_type": "code",
   "execution_count": 109,
   "id": "f5e66e16-b56d-45d0-8b89-5d6355434352",
   "metadata": {},
   "outputs": [
    {
     "data": {
      "text/plain": [
       "array([ 1,  3,  3,  7, -1,  9,  8])"
      ]
     },
     "execution_count": 109,
     "metadata": {},
     "output_type": "execute_result"
    }
   ],
   "source": [
    "c"
   ]
  },
  {
   "cell_type": "code",
   "execution_count": 112,
   "id": "66168f74-49c9-40b7-942d-faeb24d01eb5",
   "metadata": {},
   "outputs": [
    {
     "data": {
      "text/plain": [
       "array([[16, 18, 20, 22],\n",
       "       [24, 26, 28, 30],\n",
       "       [32, 34, 36, 38]])"
      ]
     },
     "execution_count": 112,
     "metadata": {},
     "output_type": "execute_result"
    }
   ],
   "source": [
    "c = np.arange(16, 40, 2).reshape(b.shape)\n",
    "c"
   ]
  },
  {
   "cell_type": "code",
   "execution_count": 113,
   "id": "88634118-ddc7-412d-a94a-493539e254ab",
   "metadata": {},
   "outputs": [
    {
     "data": {
      "text/plain": [
       "array([[False, False, False, False],\n",
       "       [False, False,  True, False],\n",
       "       [False, False, False, False]])"
      ]
     },
     "execution_count": 113,
     "metadata": {},
     "output_type": "execute_result"
    }
   ],
   "source": [
    "b == c"
   ]
  },
  {
   "cell_type": "code",
   "execution_count": 114,
   "id": "88bdd0c1-9c4e-48a3-95f7-f3502e449aba",
   "metadata": {},
   "outputs": [
    {
     "data": {
      "text/plain": [
       "array([[False, False, False, False],\n",
       "       [False, False, False,  True],\n",
       "       [ True,  True,  True,  True]])"
      ]
     },
     "execution_count": 114,
     "metadata": {},
     "output_type": "execute_result"
    }
   ],
   "source": [
    "b > c"
   ]
  },
  {
   "cell_type": "code",
   "execution_count": 115,
   "id": "394a5f67-6151-4d08-9a7a-97ad4952056f",
   "metadata": {},
   "outputs": [
    {
     "data": {
      "text/plain": [
       "array([[10, 13, 16, 19],\n",
       "       [22, 25, 28, 31],\n",
       "       [34, 37, 40, 43]])"
      ]
     },
     "execution_count": 115,
     "metadata": {},
     "output_type": "execute_result"
    }
   ],
   "source": [
    "b"
   ]
  },
  {
   "cell_type": "code",
   "execution_count": 116,
   "id": "b5fc0e67-df3e-4530-b3a5-9e7eae081f47",
   "metadata": {},
   "outputs": [
    {
     "data": {
      "text/plain": [
       "array([[16, 18, 20, 22],\n",
       "       [24, 26, 28, 30],\n",
       "       [32, 34, 36, 38]])"
      ]
     },
     "execution_count": 116,
     "metadata": {},
     "output_type": "execute_result"
    }
   ],
   "source": [
    "c"
   ]
  },
  {
   "cell_type": "code",
   "execution_count": 117,
   "id": "63759186-87da-440f-80b3-8ef3998397c1",
   "metadata": {},
   "outputs": [
    {
     "data": {
      "text/plain": [
       "array([[ 1,  2,  3,  4],\n",
       "       [ 5,  6,  7,  8],\n",
       "       [ 9, 10, 11, 12]])"
      ]
     },
     "execution_count": 117,
     "metadata": {},
     "output_type": "execute_result"
    }
   ],
   "source": [
    "a"
   ]
  },
  {
   "cell_type": "code",
   "execution_count": 118,
   "id": "05d9ca68-de3e-4fd9-a484-5eb7cebf8912",
   "metadata": {},
   "outputs": [
    {
     "data": {
      "text/plain": [
       "array([10, 11, 12, 13, 14, 15, 16, 17, 18, 19])"
      ]
     },
     "execution_count": 118,
     "metadata": {},
     "output_type": "execute_result"
    }
   ],
   "source": [
    "a = np.arange(10, 20)\n",
    "a"
   ]
  },
  {
   "cell_type": "code",
   "execution_count": 119,
   "id": "e1f0dd5e-c837-4be5-92af-d3cd74c32484",
   "metadata": {},
   "outputs": [
    {
     "data": {
      "text/plain": [
       "10"
      ]
     },
     "execution_count": 119,
     "metadata": {},
     "output_type": "execute_result"
    }
   ],
   "source": [
    "a[0]"
   ]
  },
  {
   "cell_type": "code",
   "execution_count": 120,
   "id": "d0d65474-742a-448f-82db-460c96075395",
   "metadata": {},
   "outputs": [
    {
     "data": {
      "text/plain": [
       "19"
      ]
     },
     "execution_count": 120,
     "metadata": {},
     "output_type": "execute_result"
    }
   ],
   "source": [
    "a[9]"
   ]
  },
  {
   "cell_type": "code",
   "execution_count": 121,
   "id": "f05056d0-35e9-4ee4-8f22-1bf890c758d9",
   "metadata": {},
   "outputs": [
    {
     "data": {
      "text/plain": [
       "19"
      ]
     },
     "execution_count": 121,
     "metadata": {},
     "output_type": "execute_result"
    }
   ],
   "source": [
    "a[-1]"
   ]
  },
  {
   "cell_type": "code",
   "execution_count": 122,
   "id": "2f08e0f6-7e73-4618-b4b4-f8dde876696b",
   "metadata": {},
   "outputs": [
    {
     "data": {
      "text/plain": [
       "array([10, 11, 12, 13, 14])"
      ]
     },
     "execution_count": 122,
     "metadata": {},
     "output_type": "execute_result"
    }
   ],
   "source": [
    "a[:5]"
   ]
  },
  {
   "cell_type": "code",
   "execution_count": 123,
   "id": "65d7fd12-8b41-4016-8745-439fb931086e",
   "metadata": {},
   "outputs": [
    {
     "data": {
      "text/plain": [
       "array([16, 17, 18, 19])"
      ]
     },
     "execution_count": 123,
     "metadata": {},
     "output_type": "execute_result"
    }
   ],
   "source": [
    "a[6:]"
   ]
  },
  {
   "cell_type": "code",
   "execution_count": 124,
   "id": "70816b3b-8afb-4b64-b49f-f1e1a2f6f62b",
   "metadata": {},
   "outputs": [
    {
     "data": {
      "text/plain": [
       "array([13, 14, 15, 16])"
      ]
     },
     "execution_count": 124,
     "metadata": {},
     "output_type": "execute_result"
    }
   ],
   "source": [
    "a[3:7]"
   ]
  },
  {
   "cell_type": "code",
   "execution_count": 125,
   "id": "b5b82450-07ce-495b-ab7d-f360ab4d3580",
   "metadata": {},
   "outputs": [
    {
     "data": {
      "text/plain": [
       "array([12, 15])"
      ]
     },
     "execution_count": 125,
     "metadata": {},
     "output_type": "execute_result"
    }
   ],
   "source": [
    "a[2:7:3]"
   ]
  },
  {
   "cell_type": "code",
   "execution_count": 126,
   "id": "ae149ab2-248e-4f6c-a2cc-82da073aff2b",
   "metadata": {},
   "outputs": [
    {
     "data": {
      "text/plain": [
       "array([13, 15, 17])"
      ]
     },
     "execution_count": 126,
     "metadata": {},
     "output_type": "execute_result"
    }
   ],
   "source": [
    "a[3:8:2]"
   ]
  },
  {
   "cell_type": "code",
   "execution_count": 127,
   "id": "e13a7abc-5c35-41a6-b8c3-767383490ca6",
   "metadata": {},
   "outputs": [
    {
     "data": {
      "text/plain": [
       "array([10, 11, 12, 13, 14, 15, 16, 17, 18, 19])"
      ]
     },
     "execution_count": 127,
     "metadata": {},
     "output_type": "execute_result"
    }
   ],
   "source": [
    "a"
   ]
  },
  {
   "cell_type": "code",
   "execution_count": 128,
   "id": "57935c72-de9c-4972-8cc4-9a394a98f8b1",
   "metadata": {},
   "outputs": [
    {
     "data": {
      "text/plain": [
       "array([19, 18, 17, 16, 15, 14, 13, 12, 11, 10])"
      ]
     },
     "execution_count": 128,
     "metadata": {},
     "output_type": "execute_result"
    }
   ],
   "source": [
    "a[::-1]"
   ]
  },
  {
   "cell_type": "code",
   "execution_count": 129,
   "id": "a1e6ab63-ce54-401b-b3df-089e8af23144",
   "metadata": {},
   "outputs": [
    {
     "data": {
      "text/plain": [
       "[1, 2, 3, 4, 5, 6, 7, 8, 9]"
      ]
     },
     "execution_count": 129,
     "metadata": {},
     "output_type": "execute_result"
    }
   ],
   "source": [
    "nums = list(range(1, 10))\n",
    "nums"
   ]
  },
  {
   "cell_type": "code",
   "execution_count": 131,
   "id": "b17dff30-6b3d-4bfd-b9c7-b3f975ed11cc",
   "metadata": {},
   "outputs": [
    {
     "data": {
      "text/plain": [
       "[3, 4, 5]"
      ]
     },
     "execution_count": 131,
     "metadata": {},
     "output_type": "execute_result"
    }
   ],
   "source": [
    "nums[2:5]"
   ]
  },
  {
   "cell_type": "code",
   "execution_count": 132,
   "id": "d6b471bf-7625-4303-8b6e-1edf570838f1",
   "metadata": {},
   "outputs": [],
   "source": [
    "nums[2:5] = [10, 11, 12]"
   ]
  },
  {
   "cell_type": "code",
   "execution_count": 133,
   "id": "9ddfe449-c8ef-44f9-89a4-2d79fdf6cf78",
   "metadata": {},
   "outputs": [
    {
     "data": {
      "text/plain": [
       "[1, 2, 10, 11, 12, 6, 7, 8, 9]"
      ]
     },
     "execution_count": 133,
     "metadata": {},
     "output_type": "execute_result"
    }
   ],
   "source": [
    "nums"
   ]
  },
  {
   "cell_type": "code",
   "execution_count": 134,
   "id": "d7263e07-f7ea-47d7-80cf-86218afa5641",
   "metadata": {},
   "outputs": [
    {
     "data": {
      "text/plain": [
       "[11, 12, 6, 7]"
      ]
     },
     "execution_count": 134,
     "metadata": {},
     "output_type": "execute_result"
    }
   ],
   "source": [
    "nums[3:7]"
   ]
  },
  {
   "cell_type": "code",
   "execution_count": 135,
   "id": "cc766b95-df80-44c2-b163-7134b0d31b53",
   "metadata": {},
   "outputs": [],
   "source": [
    "nums[3:7] = [4, 2]"
   ]
  },
  {
   "cell_type": "code",
   "execution_count": 136,
   "id": "cbf29753-1203-4809-8e80-28b28917ba95",
   "metadata": {},
   "outputs": [
    {
     "data": {
      "text/plain": [
       "[1, 2, 10, 4, 2, 8, 9]"
      ]
     },
     "execution_count": 136,
     "metadata": {},
     "output_type": "execute_result"
    }
   ],
   "source": [
    "nums"
   ]
  },
  {
   "cell_type": "code",
   "execution_count": 137,
   "id": "c8206fff-c0f9-49ef-a5cb-c38e0d8bab38",
   "metadata": {},
   "outputs": [
    {
     "data": {
      "text/plain": [
       "array([10, 11, 12, 13, 14, 15, 16, 17, 18, 19])"
      ]
     },
     "execution_count": 137,
     "metadata": {},
     "output_type": "execute_result"
    }
   ],
   "source": [
    "a"
   ]
  },
  {
   "cell_type": "code",
   "execution_count": 138,
   "id": "29923dbb-7fd3-45e2-ae69-59a1a6c974c2",
   "metadata": {},
   "outputs": [
    {
     "data": {
      "text/plain": [
       "array([13, 14, 15])"
      ]
     },
     "execution_count": 138,
     "metadata": {},
     "output_type": "execute_result"
    }
   ],
   "source": [
    "a[3:6]"
   ]
  },
  {
   "cell_type": "code",
   "execution_count": 139,
   "id": "0260a6e5-49bd-4e32-b1c9-d32d0bc654df",
   "metadata": {},
   "outputs": [
    {
     "ename": "ValueError",
     "evalue": "could not broadcast input array from shape (2,) into shape (3,)",
     "output_type": "error",
     "traceback": [
      "\u001b[0;31m---------------------------------------------------------------------------\u001b[0m",
      "\u001b[0;31mValueError\u001b[0m                                Traceback (most recent call last)",
      "Cell \u001b[0;32mIn[139], line 1\u001b[0m\n\u001b[0;32m----> 1\u001b[0m \u001b[43ma\u001b[49m\u001b[43m[\u001b[49m\u001b[38;5;241;43m3\u001b[39;49m\u001b[43m:\u001b[49m\u001b[38;5;241;43m6\u001b[39;49m\u001b[43m]\u001b[49m \u001b[38;5;241m=\u001b[39m [\u001b[38;5;241m42\u001b[39m, \u001b[38;5;241m10\u001b[39m]\n",
      "\u001b[0;31mValueError\u001b[0m: could not broadcast input array from shape (2,) into shape (3,)"
     ]
    }
   ],
   "source": [
    "a[3:6] = [42, 10]"
   ]
  },
  {
   "cell_type": "code",
   "execution_count": 140,
   "id": "893eb052-a60c-4a01-9cbc-cc0f880d269b",
   "metadata": {},
   "outputs": [],
   "source": [
    "a[3:6] = [42, 10, 11]"
   ]
  },
  {
   "cell_type": "code",
   "execution_count": 141,
   "id": "2ebda2d3-fdbb-4b0f-9eca-48f949e7357f",
   "metadata": {},
   "outputs": [
    {
     "data": {
      "text/plain": [
       "array([10, 11, 12, 42, 10, 11, 16, 17, 18, 19])"
      ]
     },
     "execution_count": 141,
     "metadata": {},
     "output_type": "execute_result"
    }
   ],
   "source": [
    "a"
   ]
  },
  {
   "cell_type": "code",
   "execution_count": 142,
   "id": "273650ac-45c3-4352-a927-137d082db644",
   "metadata": {},
   "outputs": [
    {
     "data": {
      "text/plain": [
       "array([10, 11, 12,  5,  5,  5,  5, 17, 18, 19])"
      ]
     },
     "execution_count": 142,
     "metadata": {},
     "output_type": "execute_result"
    }
   ],
   "source": [
    "a[3:7] = 5\n",
    "a"
   ]
  },
  {
   "cell_type": "code",
   "execution_count": 143,
   "id": "c80bed40-6571-46a3-90cc-d4ae1f488d1c",
   "metadata": {},
   "outputs": [
    {
     "data": {
      "text/plain": [
       "[2, 8]"
      ]
     },
     "execution_count": 143,
     "metadata": {},
     "output_type": "execute_result"
    }
   ],
   "source": [
    "nums[4:6]"
   ]
  },
  {
   "cell_type": "code",
   "execution_count": 144,
   "id": "23edd79e-1d8e-4973-9963-7deb5ecc8b4e",
   "metadata": {},
   "outputs": [
    {
     "data": {
      "text/plain": [
       "[1, 2, 10, 4, 2, 8, 9]"
      ]
     },
     "execution_count": 144,
     "metadata": {},
     "output_type": "execute_result"
    }
   ],
   "source": [
    "nums"
   ]
  },
  {
   "cell_type": "code",
   "execution_count": 146,
   "id": "c0f9ed7d-38f8-4637-878c-2ddb56cf1b79",
   "metadata": {},
   "outputs": [
    {
     "data": {
      "text/plain": [
       "[1, 2, 10, 4, 1, 9]"
      ]
     },
     "execution_count": 146,
     "metadata": {},
     "output_type": "execute_result"
    }
   ],
   "source": [
    "nums[4:6] = [1]\n",
    "nums"
   ]
  },
  {
   "cell_type": "code",
   "execution_count": 147,
   "id": "fd69721b-a9cd-4244-ae98-5e6e6b5cdf61",
   "metadata": {},
   "outputs": [
    {
     "ename": "TypeError",
     "evalue": "can only assign an iterable",
     "output_type": "error",
     "traceback": [
      "\u001b[0;31m---------------------------------------------------------------------------\u001b[0m",
      "\u001b[0;31mTypeError\u001b[0m                                 Traceback (most recent call last)",
      "Cell \u001b[0;32mIn[147], line 1\u001b[0m\n\u001b[0;32m----> 1\u001b[0m \u001b[43mnums\u001b[49m\u001b[43m[\u001b[49m\u001b[38;5;241;43m4\u001b[39;49m\u001b[43m:\u001b[49m\u001b[38;5;241;43m6\u001b[39;49m\u001b[43m]\u001b[49m \u001b[38;5;241m=\u001b[39m \u001b[38;5;241m1\u001b[39m\n",
      "\u001b[0;31mTypeError\u001b[0m: can only assign an iterable"
     ]
    }
   ],
   "source": [
    "nums[4:6] = 1"
   ]
  },
  {
   "cell_type": "code",
   "execution_count": 148,
   "id": "8138699f-5ede-4d17-8213-349ef11d0ac9",
   "metadata": {},
   "outputs": [
    {
     "data": {
      "text/plain": [
       "(3, 4)"
      ]
     },
     "execution_count": 148,
     "metadata": {},
     "output_type": "execute_result"
    }
   ],
   "source": [
    "SHAPE"
   ]
  },
  {
   "cell_type": "code",
   "execution_count": 149,
   "id": "4030cc88-def4-4db0-9e63-7446a1c28ae2",
   "metadata": {},
   "outputs": [
    {
     "data": {
      "text/plain": [
       "array([[ 0,  1,  2,  3,  4],\n",
       "       [10, 11, 12, 13, 14],\n",
       "       [20, 21, 22, 23, 24],\n",
       "       [30, 31, 32, 33, 34]], dtype=int32)"
      ]
     },
     "execution_count": 149,
     "metadata": {},
     "output_type": "execute_result"
    }
   ],
   "source": [
    "def func(x, y):\n",
    "    return x * 10 + y\n",
    "\n",
    "SHAPE = (4, 5)\n",
    "a = np.fromfunction(func, SHAPE, dtype=np.int32)\n",
    "a"
   ]
  },
  {
   "cell_type": "code",
   "execution_count": 150,
   "id": "34c0d23f-288a-4d43-b684-b3d199ffb229",
   "metadata": {},
   "outputs": [
    {
     "data": {
      "text/plain": [
       "array([[[ 0,  1,  2,  3,  4,  5],\n",
       "        [ 6,  7,  8,  9, 10, 11],\n",
       "        [12, 13, 14, 15, 16, 17],\n",
       "        [18, 19, 20, 21, 22, 23]],\n",
       "\n",
       "       [[24, 25, 26, 27, 28, 29],\n",
       "        [30, 31, 32, 33, 34, 35],\n",
       "        [36, 37, 38, 39, 40, 41],\n",
       "        [42, 43, 44, 45, 46, 47]]])"
      ]
     },
     "execution_count": 150,
     "metadata": {},
     "output_type": "execute_result"
    }
   ],
   "source": [
    "SHAPE_3D = (2, 4, 6)\n",
    "a = np.arange(48).reshape(SHAPE_3D)\n",
    "a"
   ]
  },
  {
   "cell_type": "code",
   "execution_count": 151,
   "id": "7f46dba4-f80d-47b1-a7bc-8e8227a77e8b",
   "metadata": {},
   "outputs": [
    {
     "data": {
      "text/plain": [
       "array([[ 0,  1,  2,  3,  4,  5],\n",
       "       [ 6,  7,  8,  9, 10, 11],\n",
       "       [12, 13, 14, 15, 16, 17],\n",
       "       [18, 19, 20, 21, 22, 23]])"
      ]
     },
     "execution_count": 151,
     "metadata": {},
     "output_type": "execute_result"
    }
   ],
   "source": [
    "a[0]"
   ]
  },
  {
   "cell_type": "code",
   "execution_count": 152,
   "id": "ddc45ae6-2a13-4082-a350-28b230b5b701",
   "metadata": {},
   "outputs": [
    {
     "data": {
      "text/plain": [
       "(2, 4, 6)"
      ]
     },
     "execution_count": 152,
     "metadata": {},
     "output_type": "execute_result"
    }
   ],
   "source": [
    "a.shape"
   ]
  },
  {
   "cell_type": "code",
   "execution_count": 153,
   "id": "e16bc6d6-0644-4688-a659-a7ab977b2175",
   "metadata": {},
   "outputs": [
    {
     "data": {
      "text/plain": [
       "(4, 6)"
      ]
     },
     "execution_count": 153,
     "metadata": {},
     "output_type": "execute_result"
    }
   ],
   "source": [
    "a[0].shape"
   ]
  },
  {
   "cell_type": "code",
   "execution_count": 154,
   "id": "bc30c3ab-8aa1-48e5-ba3e-91c064322658",
   "metadata": {},
   "outputs": [
    {
     "data": {
      "text/plain": [
       "array([0, 1, 2, 3, 4, 5])"
      ]
     },
     "execution_count": 154,
     "metadata": {},
     "output_type": "execute_result"
    }
   ],
   "source": [
    "a[0, 0]"
   ]
  },
  {
   "cell_type": "code",
   "execution_count": 155,
   "id": "5ad4cfad-2352-44fe-a5c0-14739d7df16f",
   "metadata": {},
   "outputs": [
    {
     "data": {
      "text/plain": [
       "array([0, 1, 2, 3, 4, 5])"
      ]
     },
     "execution_count": 155,
     "metadata": {},
     "output_type": "execute_result"
    }
   ],
   "source": [
    "a[0][0]"
   ]
  },
  {
   "cell_type": "code",
   "execution_count": 156,
   "id": "458199f7-5e36-4a5b-849f-1ec03fa89197",
   "metadata": {},
   "outputs": [
    {
     "data": {
      "text/plain": [
       "array([42, 43, 44, 45, 46, 47])"
      ]
     },
     "execution_count": 156,
     "metadata": {},
     "output_type": "execute_result"
    }
   ],
   "source": [
    "a[1, 3]"
   ]
  },
  {
   "cell_type": "code",
   "execution_count": 157,
   "id": "35e3e9bc-386c-40d4-9823-8a33809e33d8",
   "metadata": {},
   "outputs": [
    {
     "data": {
      "text/plain": [
       "48"
      ]
     },
     "execution_count": 157,
     "metadata": {},
     "output_type": "execute_result"
    }
   ],
   "source": [
    "a.size"
   ]
  },
  {
   "cell_type": "code",
   "execution_count": 158,
   "id": "834cf9df-1bd8-408d-9293-f839d5c980dc",
   "metadata": {},
   "outputs": [
    {
     "data": {
      "text/plain": [
       "3"
      ]
     },
     "execution_count": 158,
     "metadata": {},
     "output_type": "execute_result"
    }
   ],
   "source": [
    "a.ndim"
   ]
  },
  {
   "cell_type": "code",
   "execution_count": 159,
   "id": "71fdd5f9-0076-43cc-a631-79e56c1108fc",
   "metadata": {},
   "outputs": [
    {
     "data": {
      "text/plain": [
       "(2, 4, 6)"
      ]
     },
     "execution_count": 159,
     "metadata": {},
     "output_type": "execute_result"
    }
   ],
   "source": [
    "a.shape"
   ]
  },
  {
   "cell_type": "code",
   "execution_count": 160,
   "id": "7dd3719d-fcc7-4ebc-a093-97470a00540c",
   "metadata": {},
   "outputs": [
    {
     "data": {
      "text/plain": [
       "5"
      ]
     },
     "execution_count": 160,
     "metadata": {},
     "output_type": "execute_result"
    }
   ],
   "source": [
    "a[0, 0, 5]"
   ]
  },
  {
   "cell_type": "code",
   "execution_count": 161,
   "id": "89d0b99c-169e-4c23-b182-ed72bad7a777",
   "metadata": {},
   "outputs": [
    {
     "data": {
      "text/plain": [
       "11"
      ]
     },
     "execution_count": 161,
     "metadata": {},
     "output_type": "execute_result"
    }
   ],
   "source": [
    "a[0, 1, 5]"
   ]
  },
  {
   "cell_type": "code",
   "execution_count": 162,
   "id": "7fbf9ef5-7f38-4198-84b1-03904f1e6941",
   "metadata": {},
   "outputs": [
    {
     "data": {
      "text/plain": [
       "array([ 5, 11, 17, 23])"
      ]
     },
     "execution_count": 162,
     "metadata": {},
     "output_type": "execute_result"
    }
   ],
   "source": [
    "a[0, :, 5]"
   ]
  },
  {
   "cell_type": "code",
   "execution_count": 163,
   "id": "3f89a2d1-601d-4184-a734-5a658b1e1dc2",
   "metadata": {},
   "outputs": [
    {
     "data": {
      "text/plain": [
       "array([[ 5, 11, 17, 23],\n",
       "       [29, 35, 41, 47]])"
      ]
     },
     "execution_count": 163,
     "metadata": {},
     "output_type": "execute_result"
    }
   ],
   "source": [
    "a[:, :, 5]"
   ]
  },
  {
   "cell_type": "code",
   "execution_count": 164,
   "id": "f7ae8ca6-5ff9-40db-89e7-cd33ee6e1644",
   "metadata": {},
   "outputs": [
    {
     "data": {
      "text/plain": [
       "array([[ 5, 11, 17, 23],\n",
       "       [29, 35, 41, 47]])"
      ]
     },
     "execution_count": 164,
     "metadata": {},
     "output_type": "execute_result"
    }
   ],
   "source": [
    "a[..., 5]"
   ]
  },
  {
   "cell_type": "code",
   "execution_count": 165,
   "id": "34997e30-3fde-4010-ad1a-20607b49cdea",
   "metadata": {},
   "outputs": [
    {
     "data": {
      "text/plain": [
       "Ellipsis"
      ]
     },
     "execution_count": 165,
     "metadata": {},
     "output_type": "execute_result"
    }
   ],
   "source": [
    "..."
   ]
  },
  {
   "cell_type": "code",
   "execution_count": 166,
   "id": "605ffdaa-da92-431f-8ac3-d6d608f6aeab",
   "metadata": {},
   "outputs": [
    {
     "name": "stdout",
     "output_type": "stream",
     "text": [
      "(2, 3, 4, 5, 6)\n"
     ]
    }
   ],
   "source": [
    "SHAPE_5D = tuple(range(2, 7))\n",
    "print(SHAPE_5D)"
   ]
  },
  {
   "cell_type": "code",
   "execution_count": 167,
   "id": "e6b4184e-867c-4cac-a07a-9b873ec52251",
   "metadata": {},
   "outputs": [
    {
     "data": {
      "text/plain": [
       "array([[[[[     0,      0,      0,      0,     71,      0],\n",
       "          [     0,      0, -19456,   7171,      1,      0],\n",
       "          [  -819,   6912,      1,      0,  14241,   1092],\n",
       "          [     1,      0,      1,      0,      0,      0],\n",
       "          [    -1,     -1,     -1,     -1,     -1,     -1]],\n",
       "\n",
       "         [[    -1,     -1, -16560,   1243,      1,      0],\n",
       "          [     0,      0,     -1,     -1,   3436,   6913],\n",
       "          [     1,      0,  14241,   1092,      1,      0],\n",
       "          [     1,      0,      9,      0,      0,      0],\n",
       "          [     0,      0,      1,      0,      0,      0]],\n",
       "\n",
       "         [[-16560,   1243,      1,      0,     28,      0],\n",
       "          [    -1,     -1,   3452,   6913,      1,      0],\n",
       "          [ 14241,   1092,      1,      0,      1,      0],\n",
       "          [    11,      0,     56,      0,      0,      0],\n",
       "          [     0,      0,      0,      0,     10,      0]],\n",
       "\n",
       "         [[     0,      0,     28,      0,     -1,     -1],\n",
       "          [  3460,   6913,      1,      0,  14241,   1092],\n",
       "          [     1,      0,      1,      0,     11,      0],\n",
       "          [   112,      0,      0,      0,      1,      0],\n",
       "          [     2,      0,    112,      0,      0,      0]]],\n",
       "\n",
       "\n",
       "        [[[    26,      0,     -1,     -1,   3484,   6913],\n",
       "          [     1,      0,  14241,   1092,      1,      0],\n",
       "          [     1,      0,      8,      0,    168,      0],\n",
       "          [     0,      0,      1,      0,      7,      0],\n",
       "          [   184,      0,      0,      0,     16,      0]],\n",
       "\n",
       "         [[    -1,     -1,    948,   6913,      1,      0],\n",
       "          [  6559,   1261,      1,      0,      1,      0],\n",
       "          [    11,      0,    224,      0,      0,      0],\n",
       "          [     1,      0,      3,      0,    240,      0],\n",
       "          [     0,      0,  27212,   7050,      1,      0]],\n",
       "\n",
       "         [[  1196,   6913,      1,      0,      1,      0],\n",
       "          [     2,      0,      1,      0,     11,      0],\n",
       "          [   280,      0,      0,      0,     11,      0],\n",
       "          [    29,      0,    171,      0,      1,      0],\n",
       "          [     0,      0,      0,      0,      0,      0]],\n",
       "\n",
       "         [[     0,      0,      1,      0,      1,      0],\n",
       "          [    11,      0,     29,      0,     90,      0],\n",
       "          [     2,      0,      0,      0,      0,      0],\n",
       "          [     0,      0,      0,      0,      1,      0],\n",
       "          [     1,      0,      0,      0,      8,      0]]],\n",
       "\n",
       "\n",
       "        [[[     2,      0,      0,      0,      0,      0],\n",
       "          [     0,      0,      0,      0,      0,      0],\n",
       "          [     2,      0,      2,      0,      0,      0],\n",
       "          [     5,      0,    101,      0,      3,      0],\n",
       "          [     0,      0,      0,      0,      0,      0]],\n",
       "\n",
       "         [[     0,      0,      2,      0,      2,      0],\n",
       "          [     0,      0,      5,      0,    101,      0],\n",
       "          [     2,      0,      0,      0,      0,      0],\n",
       "          [     0,      0,      0,      0,      2,      0],\n",
       "          [     2,      0,      6,      0,     14,      0]],\n",
       "\n",
       "         [[   166,      0,      1,      0,      0,      0],\n",
       "          [     0,      0,      0,      0,      0,      0],\n",
       "          [     2,      0,      2,      0,      0,      0],\n",
       "          [    15,      0,    171,      0,      1,      0],\n",
       "          [     0,      0,      0,      0,      0,      0]],\n",
       "\n",
       "         [[     0,      0,      2,      0,      2,      0],\n",
       "          [     0,      0,     15,      0,      1,      0],\n",
       "          [     0,      0,      0,      0,      0,      0],\n",
       "          [     0,      0,      0,      0,      2,      0],\n",
       "          [     2,      0,      0,      0,     15,      0]]]],\n",
       "\n",
       "\n",
       "\n",
       "       [[[[   100,      0,      2,      0,      0,      0],\n",
       "          [     0,      0,      0,      0,      0,      0],\n",
       "          [     2,      0,      2,      0,      0,      0],\n",
       "          [    15,      0,     83,      0,      0,      0],\n",
       "          [     0,      0,      0,      0,      0,      0]],\n",
       "\n",
       "         [[     0,      0,      2,      0,      2,      0],\n",
       "          [     0,      0,     15,      0,      0,      0],\n",
       "          [     0,      0,      0,      0,      0,      0],\n",
       "          [     0,      0,      0,      0,      0,      0],\n",
       "          [     0,      0,      0,      0,      0,      0]],\n",
       "\n",
       "         [[     0,      0,      0,      0,      0,      0],\n",
       "          [     0,      0,      0,      0,      0,      0],\n",
       "          [     0,      0,      0,      0,      0,      0],\n",
       "          [     0,      0,      0,      0,      0,      0],\n",
       "          [     0,      0,      0,      0,      0,      0]],\n",
       "\n",
       "         [[     0,      0,      0,      0,      0,      0],\n",
       "          [     0,      0,      0,      0,      0,      0],\n",
       "          [     0,      0,      0,      0,      0,      0],\n",
       "          [     0,      0,      0,      0,      0,      0],\n",
       "          [     0,      0,      0,      0,      0,      0]]],\n",
       "\n",
       "\n",
       "        [[[     0,      0,      0,      0,      0,      0],\n",
       "          [     0,      0,      0,      0,      0,      0],\n",
       "          [     0,      0,      0,      0,      0,      0],\n",
       "          [     0,      0,      0,      0,      0,      0],\n",
       "          [     0,      0,      0,      0,      0,      0]],\n",
       "\n",
       "         [[     0,      0,      0,      0,      0,      0],\n",
       "          [     0,      0,      0,      0,      0,      0],\n",
       "          [     0,      0,      0,      0,      0,      0],\n",
       "          [     0,      0,      0,      0,      0,      0],\n",
       "          [     0,      0,      0,      0,      0,      0]],\n",
       "\n",
       "         [[     0,      0,      0,      0,      0,      0],\n",
       "          [     0,      0,      0,      0,      0,      0],\n",
       "          [     0,      0,      0,      0,      0,      0],\n",
       "          [     0,      0,      0,      0,      0,      0],\n",
       "          [     0,      0,      0,      0,      0,      0]],\n",
       "\n",
       "         [[     0,      0,      0,      0,      0,      0],\n",
       "          [     0,      0,      0,      0,      0,      0],\n",
       "          [     0,      0,      0,      0,      0,      0],\n",
       "          [     0,      0,      0,      0,      0,      0],\n",
       "          [     0,      0,      0,      0,      0,      0]]],\n",
       "\n",
       "\n",
       "        [[[     0,      0,      0,      0,      0,      0],\n",
       "          [     0,      0,      0,      0,      0,      0],\n",
       "          [     0,      0,      0,      0,      0,      0],\n",
       "          [     0,      0,      0,      0,      0,      0],\n",
       "          [     0,      0,      0,      0,      0,      0]],\n",
       "\n",
       "         [[     0,      0,      0,      0,      0,      0],\n",
       "          [     0,      0,      0,      0, -27200,   1195],\n",
       "          [     1,      0, -29248,   1195,      1,      0],\n",
       "          [-30208,   1195,      1,      0, -30144,   1195],\n",
       "          [     1,      0,  -1664,   1192,      1,      0]],\n",
       "\n",
       "         [[ -1984,   1192,      1,      0,  -2368,   1192],\n",
       "          [     1,      0,  -2880,   1192,      1,      0],\n",
       "          [ -3136,   1192,      1,      0,  -9664,   1192],\n",
       "          [     1,      0,  -9920,   1192,      1,      0],\n",
       "          [-10176,   1192,      1,      0,      0,      0]],\n",
       "\n",
       "         [[     0,      0,      0,      0,      0,      0],\n",
       "          [     0,      0,      0,      0,      0,      0],\n",
       "          [     0,      0,      0,      0,      0,      0],\n",
       "          [     0,      0,      0,      0,      0,      0],\n",
       "          [     0,      0,      0,      0,      0,      0]]]]],\n",
       "      dtype=int16)"
      ]
     },
     "execution_count": 167,
     "metadata": {},
     "output_type": "execute_result"
    }
   ],
   "source": [
    "a = np.empty(SHAPE_5D, dtype=np.int16)\n",
    "a"
   ]
  },
  {
   "cell_type": "code",
   "execution_count": 168,
   "id": "5a46e60e-3e8e-4782-9f58-722006755058",
   "metadata": {},
   "outputs": [
    {
     "data": {
      "text/plain": [
       "array([[[[   0,    0, 1092,    0,   -1],\n",
       "         [   0, 6913,    0,    0,    0],\n",
       "         [   0,    0,    0,    0,    0],\n",
       "         [  -1, 1092,    0,    0,    0]],\n",
       "\n",
       "        [[6913,    0,    0,    0,    0],\n",
       "         [   0,    0,    0,    0,    0],\n",
       "         [   0,    0,    0,    0,    0],\n",
       "         [   0,    0,    0,    0,    0]],\n",
       "\n",
       "        [[   0,    0,    0,    0,    0],\n",
       "         [   0,    0,    0,    0,    0],\n",
       "         [   0,    0,    0,    0,    0],\n",
       "         [   0,    0,    0,    0,    0]]],\n",
       "\n",
       "\n",
       "       [[[   0,    0,    0,    0,    0],\n",
       "         [   0,    0,    0,    0,    0],\n",
       "         [   0,    0,    0,    0,    0],\n",
       "         [   0,    0,    0,    0,    0]],\n",
       "\n",
       "        [[   0,    0,    0,    0,    0],\n",
       "         [   0,    0,    0,    0,    0],\n",
       "         [   0,    0,    0,    0,    0],\n",
       "         [   0,    0,    0,    0,    0]],\n",
       "\n",
       "        [[   0,    0,    0,    0,    0],\n",
       "         [   0, 1195,    0, 1195,    0],\n",
       "         [1192,    0, 1192,    0,    0],\n",
       "         [   0,    0,    0,    0,    0]]]], dtype=int16)"
      ]
     },
     "execution_count": 168,
     "metadata": {},
     "output_type": "execute_result"
    }
   ],
   "source": [
    "a[..., -1]"
   ]
  },
  {
   "cell_type": "code",
   "execution_count": 169,
   "id": "f99b3ea5-8330-438f-b8da-e0efbe2fdf69",
   "metadata": {},
   "outputs": [
    {
     "data": {
      "text/plain": [
       "720"
      ]
     },
     "execution_count": 169,
     "metadata": {},
     "output_type": "execute_result"
    }
   ],
   "source": [
    "a.size"
   ]
  },
  {
   "cell_type": "code",
   "execution_count": 170,
   "id": "82fffc6b-bb13-40fe-8b64-3285cb6c357d",
   "metadata": {},
   "outputs": [
    {
     "data": {
      "text/plain": [
       "5"
      ]
     },
     "execution_count": 170,
     "metadata": {},
     "output_type": "execute_result"
    }
   ],
   "source": [
    "a.ndim"
   ]
  },
  {
   "cell_type": "code",
   "execution_count": 171,
   "id": "3b8ef4b0-df51-4472-84fb-745faa86a6ae",
   "metadata": {},
   "outputs": [
    {
     "data": {
      "text/plain": [
       "(2, 3, 4, 5, 6)"
      ]
     },
     "execution_count": 171,
     "metadata": {},
     "output_type": "execute_result"
    }
   ],
   "source": [
    "a.shape"
   ]
  },
  {
   "cell_type": "code",
   "execution_count": 172,
   "id": "a7d5a4ac-e2c5-46a6-a8bf-8b646adcfbe2",
   "metadata": {},
   "outputs": [
    {
     "data": {
      "text/plain": [
       "(2, 3, 4, 5, 6)"
      ]
     },
     "execution_count": 172,
     "metadata": {},
     "output_type": "execute_result"
    }
   ],
   "source": [
    "SHAPE_5D"
   ]
  },
  {
   "cell_type": "code",
   "execution_count": 173,
   "id": "c4b2991a-4fc3-4b26-a32f-fcdb5ce9f787",
   "metadata": {},
   "outputs": [
    {
     "data": {
      "text/plain": [
       "array([[[   0,    0,    0,    0,    0],\n",
       "        [   0,    0,    0,    0,    0],\n",
       "        [   0,    0,    0,    0,    0],\n",
       "        [   0,    0,    0,    0,    0]],\n",
       "\n",
       "       [[   0,    0,    0,    0,    0],\n",
       "        [   0,    0,    0,    0,    0],\n",
       "        [   0,    0,    0,    0,    0],\n",
       "        [   0,    0,    0,    0,    0]],\n",
       "\n",
       "       [[   0,    0,    0,    0,    0],\n",
       "        [   0,    0, 1195,    0, 1192],\n",
       "        [   0, 1192,    0, 1192,    0],\n",
       "        [   0,    0,    0,    0,    0]]], dtype=int16)"
      ]
     },
     "execution_count": 173,
     "metadata": {},
     "output_type": "execute_result"
    }
   ],
   "source": [
    "a[1, ..., 3]"
   ]
  },
  {
   "cell_type": "code",
   "execution_count": 174,
   "id": "0355d685-2650-45ce-b35e-dbf97eb39787",
   "metadata": {},
   "outputs": [
    {
     "data": {
      "text/plain": [
       "array([[[   0,    0,    0,    0,    0],\n",
       "        [   0,    0,    0,    0,    0],\n",
       "        [   0,    0,    0,    0,    0],\n",
       "        [   0,    0,    0,    0,    0]],\n",
       "\n",
       "       [[   0,    0,    0,    0,    0],\n",
       "        [   0,    0,    0,    0,    0],\n",
       "        [   0,    0,    0,    0,    0],\n",
       "        [   0,    0,    0,    0,    0]],\n",
       "\n",
       "       [[   0,    0,    0,    0,    0],\n",
       "        [   0,    0, 1195,    0, 1192],\n",
       "        [   0, 1192,    0, 1192,    0],\n",
       "        [   0,    0,    0,    0,    0]]], dtype=int16)"
      ]
     },
     "execution_count": 174,
     "metadata": {},
     "output_type": "execute_result"
    }
   ],
   "source": [
    "a[1, :, :, :, 3]"
   ]
  },
  {
   "cell_type": "code",
   "execution_count": 175,
   "id": "6876d31a-02b9-4f7b-9580-2f86e642e5c1",
   "metadata": {},
   "outputs": [
    {
     "data": {
      "text/plain": [
       "array([[[[     0,      0],\n",
       "         [     0,      0],\n",
       "         [     0,      0],\n",
       "         [     0,      0],\n",
       "         [     0,      0]],\n",
       "\n",
       "        [[     0,      2],\n",
       "         [     0,      0],\n",
       "         [     0,      0],\n",
       "         [     0,      0],\n",
       "         [     0,      0]],\n",
       "\n",
       "        [[     0,      0],\n",
       "         [     0,      0],\n",
       "         [     0,      0],\n",
       "         [     0,      0],\n",
       "         [     0,      0]],\n",
       "\n",
       "        [[     0,      0],\n",
       "         [     0,      0],\n",
       "         [     0,      0],\n",
       "         [     0,      0],\n",
       "         [     0,      0]]],\n",
       "\n",
       "\n",
       "       [[[     0,      0],\n",
       "         [     0,      0],\n",
       "         [     0,      0],\n",
       "         [     0,      0],\n",
       "         [     0,      0]],\n",
       "\n",
       "        [[     0,      0],\n",
       "         [     0,      0],\n",
       "         [     0,      0],\n",
       "         [     0,      0],\n",
       "         [     0,      0]],\n",
       "\n",
       "        [[     0,      0],\n",
       "         [     0,      0],\n",
       "         [     0,      0],\n",
       "         [     0,      0],\n",
       "         [     0,      0]],\n",
       "\n",
       "        [[     0,      0],\n",
       "         [     0,      0],\n",
       "         [     0,      0],\n",
       "         [     0,      0],\n",
       "         [     0,      0]]],\n",
       "\n",
       "\n",
       "       [[[     0,      0],\n",
       "         [     0,      0],\n",
       "         [     0,      0],\n",
       "         [     0,      0],\n",
       "         [     0,      0]],\n",
       "\n",
       "        [[     0,      0],\n",
       "         [     0, -27200],\n",
       "         [  1195,      1],\n",
       "         [     0, -30144],\n",
       "         [  1192,      1]],\n",
       "\n",
       "        [[     0,  -2368],\n",
       "         [  1192,      1],\n",
       "         [     0,  -9664],\n",
       "         [  1192,      1],\n",
       "         [     0,      0]],\n",
       "\n",
       "        [[     0,      0],\n",
       "         [     0,      0],\n",
       "         [     0,      0],\n",
       "         [     0,      0],\n",
       "         [     0,      0]]]], dtype=int16)"
      ]
     },
     "execution_count": 175,
     "metadata": {},
     "output_type": "execute_result"
    }
   ],
   "source": [
    "a[1, ..., 3:5]"
   ]
  },
  {
   "cell_type": "code",
   "execution_count": 176,
   "id": "c9f8cef8-803a-44a1-af1a-43e12ba9d479",
   "metadata": {},
   "outputs": [
    {
     "data": {
      "text/plain": [
       "array([[[[     0,      0],\n",
       "         [     0,      0],\n",
       "         [     0,      0],\n",
       "         [     0,      0],\n",
       "         [     0,      0]],\n",
       "\n",
       "        [[     0,      2],\n",
       "         [     0,      0],\n",
       "         [     0,      0],\n",
       "         [     0,      0],\n",
       "         [     0,      0]],\n",
       "\n",
       "        [[     0,      0],\n",
       "         [     0,      0],\n",
       "         [     0,      0],\n",
       "         [     0,      0],\n",
       "         [     0,      0]],\n",
       "\n",
       "        [[     0,      0],\n",
       "         [     0,      0],\n",
       "         [     0,      0],\n",
       "         [     0,      0],\n",
       "         [     0,      0]]],\n",
       "\n",
       "\n",
       "       [[[     0,      0],\n",
       "         [     0,      0],\n",
       "         [     0,      0],\n",
       "         [     0,      0],\n",
       "         [     0,      0]],\n",
       "\n",
       "        [[     0,      0],\n",
       "         [     0,      0],\n",
       "         [     0,      0],\n",
       "         [     0,      0],\n",
       "         [     0,      0]],\n",
       "\n",
       "        [[     0,      0],\n",
       "         [     0,      0],\n",
       "         [     0,      0],\n",
       "         [     0,      0],\n",
       "         [     0,      0]],\n",
       "\n",
       "        [[     0,      0],\n",
       "         [     0,      0],\n",
       "         [     0,      0],\n",
       "         [     0,      0],\n",
       "         [     0,      0]]],\n",
       "\n",
       "\n",
       "       [[[     0,      0],\n",
       "         [     0,      0],\n",
       "         [     0,      0],\n",
       "         [     0,      0],\n",
       "         [     0,      0]],\n",
       "\n",
       "        [[     0,      0],\n",
       "         [     0, -27200],\n",
       "         [  1195,      1],\n",
       "         [     0, -30144],\n",
       "         [  1192,      1]],\n",
       "\n",
       "        [[     0,  -2368],\n",
       "         [  1192,      1],\n",
       "         [     0,  -9664],\n",
       "         [  1192,      1],\n",
       "         [     0,      0]],\n",
       "\n",
       "        [[     0,      0],\n",
       "         [     0,      0],\n",
       "         [     0,      0],\n",
       "         [     0,      0],\n",
       "         [     0,      0]]]], dtype=int16)"
      ]
     },
     "execution_count": 176,
     "metadata": {},
     "output_type": "execute_result"
    }
   ],
   "source": [
    "a[1, ..., 3:-1]"
   ]
  },
  {
   "cell_type": "code",
   "execution_count": 177,
   "id": "34cb0064-4062-4cbe-8211-b730949efe2b",
   "metadata": {},
   "outputs": [
    {
     "data": {
      "text/plain": [
       "array([[10, 13, 16, 19],\n",
       "       [22, 25, 28, 31],\n",
       "       [34, 37, 40, 43]])"
      ]
     },
     "execution_count": 177,
     "metadata": {},
     "output_type": "execute_result"
    }
   ],
   "source": [
    "b"
   ]
  },
  {
   "cell_type": "code",
   "execution_count": 178,
   "id": "ecef32e0-31d1-429f-b711-c748faaccf1c",
   "metadata": {},
   "outputs": [
    {
     "data": {
      "text/plain": [
       "array([[16, 18, 20, 22],\n",
       "       [24, 26, 28, 30],\n",
       "       [32, 34, 36, 38]])"
      ]
     },
     "execution_count": 178,
     "metadata": {},
     "output_type": "execute_result"
    }
   ],
   "source": [
    "c"
   ]
  },
  {
   "cell_type": "code",
   "execution_count": 179,
   "id": "e2db239e-f130-42ed-8d79-f00081e3197f",
   "metadata": {},
   "outputs": [
    {
     "data": {
      "text/plain": [
       "array([[False, False, False, False],\n",
       "       [False, False, False,  True],\n",
       "       [ True,  True,  True,  True]])"
      ]
     },
     "execution_count": 179,
     "metadata": {},
     "output_type": "execute_result"
    }
   ],
   "source": [
    "b > c"
   ]
  },
  {
   "cell_type": "code",
   "execution_count": 180,
   "id": "979634af-3617-419e-b13e-a8f2db3d0be4",
   "metadata": {},
   "outputs": [
    {
     "data": {
      "text/plain": [
       "False"
      ]
     },
     "execution_count": 180,
     "metadata": {},
     "output_type": "execute_result"
    }
   ],
   "source": [
    "np.all(b > c)"
   ]
  },
  {
   "cell_type": "code",
   "execution_count": 181,
   "id": "0292c724-6c99-4b54-bae6-a36b47bbadf9",
   "metadata": {},
   "outputs": [
    {
     "data": {
      "text/plain": [
       "True"
      ]
     },
     "execution_count": 181,
     "metadata": {},
     "output_type": "execute_result"
    }
   ],
   "source": [
    "np.any(b > c)"
   ]
  },
  {
   "cell_type": "code",
   "execution_count": 182,
   "id": "65e10b4b-12ba-4430-a5bc-8f01e2e72fb6",
   "metadata": {},
   "outputs": [
    {
     "data": {
      "text/plain": [
       "array([ True,  True,  True,  True])"
      ]
     },
     "execution_count": 182,
     "metadata": {},
     "output_type": "execute_result"
    }
   ],
   "source": [
    "np.any(b > c, axis=0)"
   ]
  },
  {
   "cell_type": "code",
   "execution_count": 183,
   "id": "5236b4e8-819d-497c-bb5f-e24b9bccbe4b",
   "metadata": {},
   "outputs": [
    {
     "data": {
      "text/plain": [
       "array([False,  True,  True])"
      ]
     },
     "execution_count": 183,
     "metadata": {},
     "output_type": "execute_result"
    }
   ],
   "source": [
    "np.any(b > c, axis=1)"
   ]
  },
  {
   "cell_type": "code",
   "execution_count": 184,
   "id": "b12220b1-967c-43f8-b76c-65d1838178c6",
   "metadata": {},
   "outputs": [
    {
     "data": {
      "text/plain": [
       "array([False, False, False, False])"
      ]
     },
     "execution_count": 184,
     "metadata": {},
     "output_type": "execute_result"
    }
   ],
   "source": [
    "np.all(b > c, axis=0)"
   ]
  },
  {
   "cell_type": "code",
   "execution_count": 185,
   "id": "ad84edbc-ccb9-4770-8bd2-3addd77bb1d6",
   "metadata": {},
   "outputs": [
    {
     "data": {
      "text/plain": [
       "array([False, False,  True])"
      ]
     },
     "execution_count": 185,
     "metadata": {},
     "output_type": "execute_result"
    }
   ],
   "source": [
    "np.all(b > c, axis=1)"
   ]
  },
  {
   "cell_type": "code",
   "execution_count": 186,
   "id": "d6432804-7f78-488d-8160-d37303f13cd2",
   "metadata": {},
   "outputs": [
    {
     "data": {
      "text/plain": [
       "array([[[[[     0,      0,      0,      0,      0,     71],\n",
       "          [-19456,      0,      0,      0,      1,   7171],\n",
       "          [  -819,      0,      1,   1092,   6912,  14241],\n",
       "          [     0,      0,      0,      0,      1,      1],\n",
       "          [    -1,     -1,     -1,     -1,     -1,     -1]],\n",
       "\n",
       "         [[-16560,     -1,     -1,      0,      1,   1243],\n",
       "          [    -1,     -1,      0,      0,   3436,   6913],\n",
       "          [     0,      0,      1,      1,   1092,  14241],\n",
       "          [     0,      0,      0,      0,      1,      9],\n",
       "          [     0,      0,      0,      0,      0,      1]],\n",
       "\n",
       "         [[-16560,      0,      0,      1,     28,   1243],\n",
       "          [    -1,     -1,      0,      1,   3452,   6913],\n",
       "          [     0,      0,      1,      1,   1092,  14241],\n",
       "          [     0,      0,      0,      0,     11,     56],\n",
       "          [     0,      0,      0,      0,      0,     10]],\n",
       "\n",
       "         [[    -1,     -1,      0,      0,      0,     28],\n",
       "          [     0,      1,   1092,   3460,   6913,  14241],\n",
       "          [     0,      0,      0,      1,      1,     11],\n",
       "          [     0,      0,      0,      0,      1,    112],\n",
       "          [     0,      0,      0,      0,      2,    112]]],\n",
       "\n",
       "\n",
       "        [[[    -1,     -1,      0,     26,   3484,   6913],\n",
       "          [     0,      0,      1,      1,   1092,  14241],\n",
       "          [     0,      0,      0,      1,      8,    168],\n",
       "          [     0,      0,      0,      0,      1,      7],\n",
       "          [     0,      0,      0,      0,     16,    184]],\n",
       "\n",
       "         [[    -1,     -1,      0,      1,    948,   6913],\n",
       "          [     0,      0,      1,      1,   1261,   6559],\n",
       "          [     0,      0,      0,      0,     11,    224],\n",
       "          [     0,      0,      0,      1,      3,    240],\n",
       "          [     0,      0,      0,      1,   7050,  27212]],\n",
       "\n",
       "         [[     0,      0,      1,      1,   1196,   6913],\n",
       "          [     0,      0,      0,      1,      2,     11],\n",
       "          [     0,      0,      0,      0,     11,    280],\n",
       "          [     0,      0,      0,      1,     29,    171],\n",
       "          [     0,      0,      0,      0,      0,      0]],\n",
       "\n",
       "         [[     0,      0,      0,      0,      1,      1],\n",
       "          [     0,      0,      0,     11,     29,     90],\n",
       "          [     0,      0,      0,      0,      0,      2],\n",
       "          [     0,      0,      0,      0,      0,      1],\n",
       "          [     0,      0,      0,      0,      1,      8]]],\n",
       "\n",
       "\n",
       "        [[[     0,      0,      0,      0,      0,      2],\n",
       "          [     0,      0,      0,      0,      0,      0],\n",
       "          [     0,      0,      0,      0,      2,      2],\n",
       "          [     0,      0,      0,      3,      5,    101],\n",
       "          [     0,      0,      0,      0,      0,      0]],\n",
       "\n",
       "         [[     0,      0,      0,      0,      2,      2],\n",
       "          [     0,      0,      0,      0,      5,    101],\n",
       "          [     0,      0,      0,      0,      0,      2],\n",
       "          [     0,      0,      0,      0,      0,      2],\n",
       "          [     0,      0,      0,      2,      6,     14]],\n",
       "\n",
       "         [[     0,      0,      0,      0,      1,    166],\n",
       "          [     0,      0,      0,      0,      0,      0],\n",
       "          [     0,      0,      0,      0,      2,      2],\n",
       "          [     0,      0,      0,      1,     15,    171],\n",
       "          [     0,      0,      0,      0,      0,      0]],\n",
       "\n",
       "         [[     0,      0,      0,      0,      2,      2],\n",
       "          [     0,      0,      0,      0,      1,     15],\n",
       "          [     0,      0,      0,      0,      0,      0],\n",
       "          [     0,      0,      0,      0,      0,      2],\n",
       "          [     0,      0,      0,      0,      2,     15]]]],\n",
       "\n",
       "\n",
       "\n",
       "       [[[[     0,      0,      0,      0,      2,    100],\n",
       "          [     0,      0,      0,      0,      0,      0],\n",
       "          [     0,      0,      0,      0,      2,      2],\n",
       "          [     0,      0,      0,      0,     15,     83],\n",
       "          [     0,      0,      0,      0,      0,      0]],\n",
       "\n",
       "         [[     0,      0,      0,      0,      2,      2],\n",
       "          [     0,      0,      0,      0,      0,     15],\n",
       "          [     0,      0,      0,      0,      0,      0],\n",
       "          [     0,      0,      0,      0,      0,      0],\n",
       "          [     0,      0,      0,      0,      0,      0]],\n",
       "\n",
       "         [[     0,      0,      0,      0,      0,      0],\n",
       "          [     0,      0,      0,      0,      0,      0],\n",
       "          [     0,      0,      0,      0,      0,      0],\n",
       "          [     0,      0,      0,      0,      0,      0],\n",
       "          [     0,      0,      0,      0,      0,      0]],\n",
       "\n",
       "         [[     0,      0,      0,      0,      0,      0],\n",
       "          [     0,      0,      0,      0,      0,      0],\n",
       "          [     0,      0,      0,      0,      0,      0],\n",
       "          [     0,      0,      0,      0,      0,      0],\n",
       "          [     0,      0,      0,      0,      0,      0]]],\n",
       "\n",
       "\n",
       "        [[[     0,      0,      0,      0,      0,      0],\n",
       "          [     0,      0,      0,      0,      0,      0],\n",
       "          [     0,      0,      0,      0,      0,      0],\n",
       "          [     0,      0,      0,      0,      0,      0],\n",
       "          [     0,      0,      0,      0,      0,      0]],\n",
       "\n",
       "         [[     0,      0,      0,      0,      0,      0],\n",
       "          [     0,      0,      0,      0,      0,      0],\n",
       "          [     0,      0,      0,      0,      0,      0],\n",
       "          [     0,      0,      0,      0,      0,      0],\n",
       "          [     0,      0,      0,      0,      0,      0]],\n",
       "\n",
       "         [[     0,      0,      0,      0,      0,      0],\n",
       "          [     0,      0,      0,      0,      0,      0],\n",
       "          [     0,      0,      0,      0,      0,      0],\n",
       "          [     0,      0,      0,      0,      0,      0],\n",
       "          [     0,      0,      0,      0,      0,      0]],\n",
       "\n",
       "         [[     0,      0,      0,      0,      0,      0],\n",
       "          [     0,      0,      0,      0,      0,      0],\n",
       "          [     0,      0,      0,      0,      0,      0],\n",
       "          [     0,      0,      0,      0,      0,      0],\n",
       "          [     0,      0,      0,      0,      0,      0]]],\n",
       "\n",
       "\n",
       "        [[[     0,      0,      0,      0,      0,      0],\n",
       "          [     0,      0,      0,      0,      0,      0],\n",
       "          [     0,      0,      0,      0,      0,      0],\n",
       "          [     0,      0,      0,      0,      0,      0],\n",
       "          [     0,      0,      0,      0,      0,      0]],\n",
       "\n",
       "         [[     0,      0,      0,      0,      0,      0],\n",
       "          [-27200,      0,      0,      0,      0,   1195],\n",
       "          [-29248,      0,      0,      1,      1,   1195],\n",
       "          [-30208, -30144,      0,      1,   1195,   1195],\n",
       "          [ -1664,      0,      0,      1,      1,   1192]],\n",
       "\n",
       "         [[ -2368,  -1984,      0,      1,   1192,   1192],\n",
       "          [ -2880,      0,      0,      1,      1,   1192],\n",
       "          [ -9664,  -3136,      0,      1,   1192,   1192],\n",
       "          [ -9920,      0,      0,      1,      1,   1192],\n",
       "          [-10176,      0,      0,      0,      1,   1192]],\n",
       "\n",
       "         [[     0,      0,      0,      0,      0,      0],\n",
       "          [     0,      0,      0,      0,      0,      0],\n",
       "          [     0,      0,      0,      0,      0,      0],\n",
       "          [     0,      0,      0,      0,      0,      0],\n",
       "          [     0,      0,      0,      0,      0,      0]]]]],\n",
       "      dtype=int16)"
      ]
     },
     "execution_count": 186,
     "metadata": {},
     "output_type": "execute_result"
    }
   ],
   "source": [
    "np.sort(a)"
   ]
  },
  {
   "cell_type": "code",
   "execution_count": 187,
   "id": "a2295d2b-a557-4f19-aada-192e8ede0d7d",
   "metadata": {},
   "outputs": [
    {
     "data": {
      "text/plain": [
       "array([[10, 13, 16, 19],\n",
       "       [22, 25, 28, 31],\n",
       "       [34, 37, 40, 43]])"
      ]
     },
     "execution_count": 187,
     "metadata": {},
     "output_type": "execute_result"
    }
   ],
   "source": [
    "np.sort(b)"
   ]
  },
  {
   "cell_type": "code",
   "execution_count": 188,
   "id": "9c4afe27-24ed-489a-99c4-0cdfa62e3e39",
   "metadata": {},
   "outputs": [
    {
     "data": {
      "text/plain": [
       "array([[10, 13, 16, 19],\n",
       "       [22, 25, 28, 31],\n",
       "       [34, 37, 40, 43]])"
      ]
     },
     "execution_count": 188,
     "metadata": {},
     "output_type": "execute_result"
    }
   ],
   "source": [
    "b"
   ]
  },
  {
   "cell_type": "code",
   "execution_count": 189,
   "id": "15372a0b-4158-48b8-b4f0-b45f874b6be8",
   "metadata": {},
   "outputs": [
    {
     "data": {
      "text/plain": [
       "array([[10, 13, 16, 19],\n",
       "       [22, 25, 28, 31],\n",
       "       [34, 37, 40, 43]])"
      ]
     },
     "execution_count": 189,
     "metadata": {},
     "output_type": "execute_result"
    }
   ],
   "source": [
    "np.sort(b, axis=1)"
   ]
  },
  {
   "cell_type": "code",
   "execution_count": 190,
   "id": "eebc8792-2fac-4613-9694-c9fd80062549",
   "metadata": {},
   "outputs": [
    {
     "data": {
      "text/plain": [
       "array([[10, 13, 16, 19],\n",
       "       [22, 25, 28, 31],\n",
       "       [34, 37, 40, 43]])"
      ]
     },
     "execution_count": 190,
     "metadata": {},
     "output_type": "execute_result"
    }
   ],
   "source": [
    "np.sort(b, axis=0)"
   ]
  },
  {
   "cell_type": "code",
   "execution_count": 191,
   "id": "0f26d9ec-2348-4b46-9cea-95a44b33cde1",
   "metadata": {},
   "outputs": [
    {
     "data": {
      "text/plain": [
       "array([[-4, -1,  2],\n",
       "       [10,  4, -1],\n",
       "       [ 8,  3,  1]], dtype=int16)"
      ]
     },
     "execution_count": 191,
     "metadata": {},
     "output_type": "execute_result"
    }
   ],
   "source": [
    "m"
   ]
  },
  {
   "cell_type": "code",
   "execution_count": 192,
   "id": "b6f60ffc-5458-4111-8b19-ff60ef951d83",
   "metadata": {},
   "outputs": [
    {
     "data": {
      "text/plain": [
       "array([[-4, -1,  2],\n",
       "       [-1,  4, 10],\n",
       "       [ 1,  3,  8]], dtype=int16)"
      ]
     },
     "execution_count": 192,
     "metadata": {},
     "output_type": "execute_result"
    }
   ],
   "source": [
    "np.sort(m)"
   ]
  },
  {
   "cell_type": "code",
   "execution_count": 193,
   "id": "c3ffffa9-9aed-41e5-8b8f-3c9b1f620196",
   "metadata": {},
   "outputs": [
    {
     "data": {
      "text/plain": [
       "array([[-4, -1, -1],\n",
       "       [ 8,  3,  1],\n",
       "       [10,  4,  2]], dtype=int16)"
      ]
     },
     "execution_count": 193,
     "metadata": {},
     "output_type": "execute_result"
    }
   ],
   "source": [
    "np.sort(m, axis=0)"
   ]
  },
  {
   "cell_type": "code",
   "execution_count": 194,
   "id": "16719cfc-7999-460a-93fc-f29cec7e0eca",
   "metadata": {},
   "outputs": [
    {
     "data": {
      "text/plain": [
       "array([[-4, -1,  2],\n",
       "       [10,  4, -1],\n",
       "       [ 8,  3,  1]], dtype=int16)"
      ]
     },
     "execution_count": 194,
     "metadata": {},
     "output_type": "execute_result"
    }
   ],
   "source": [
    "m"
   ]
  },
  {
   "cell_type": "code",
   "execution_count": 195,
   "id": "b2f7b7db-cae8-45de-bba7-66158a89561f",
   "metadata": {},
   "outputs": [
    {
     "data": {
      "text/plain": [
       "2.0"
      ]
     },
     "execution_count": 195,
     "metadata": {},
     "output_type": "execute_result"
    }
   ],
   "source": [
    "np.median(m)"
   ]
  },
  {
   "cell_type": "code",
   "execution_count": 196,
   "id": "14e9c91e-a68f-40ff-80cb-29104e4b58e5",
   "metadata": {},
   "outputs": [
    {
     "data": {
      "text/plain": [
       "2.4444444444444446"
      ]
     },
     "execution_count": 196,
     "metadata": {},
     "output_type": "execute_result"
    }
   ],
   "source": [
    "np.average(m)"
   ]
  },
  {
   "cell_type": "code",
   "execution_count": 197,
   "id": "f07b97e8-a7d6-4baa-b82c-2746cd3c19a4",
   "metadata": {},
   "outputs": [
    {
     "data": {
      "text/plain": [
       "0.0"
      ]
     },
     "execution_count": 197,
     "metadata": {},
     "output_type": "execute_result"
    }
   ],
   "source": [
    "np.median(a)"
   ]
  },
  {
   "cell_type": "code",
   "execution_count": 198,
   "id": "595f4e0b-88d4-4452-aa00-4b1538fdfaf8",
   "metadata": {},
   "outputs": [
    {
     "data": {
      "text/plain": [
       "-2.8069444444444445"
      ]
     },
     "execution_count": 198,
     "metadata": {},
     "output_type": "execute_result"
    }
   ],
   "source": [
    "np.average(a)"
   ]
  },
  {
   "cell_type": "code",
   "execution_count": 199,
   "id": "cd761516-ab50-402b-9c6c-08b0e33df69c",
   "metadata": {},
   "outputs": [
    {
     "data": {
      "text/plain": [
       "2.4444444444444446"
      ]
     },
     "execution_count": 199,
     "metadata": {},
     "output_type": "execute_result"
    }
   ],
   "source": [
    "np.mean(m)"
   ]
  },
  {
   "cell_type": "code",
   "execution_count": null,
   "id": "f4715aed-ec1d-4327-acc9-6b1d4753e637",
   "metadata": {},
   "outputs": [],
   "source": []
  }
 ],
 "metadata": {
  "kernelspec": {
   "display_name": "Python 3 (ipykernel)",
   "language": "python",
   "name": "python3"
  },
  "language_info": {
   "codemirror_mode": {
    "name": "ipython",
    "version": 3
   },
   "file_extension": ".py",
   "mimetype": "text/x-python",
   "name": "python",
   "nbconvert_exporter": "python",
   "pygments_lexer": "ipython3",
   "version": "3.11.4"
  }
 },
 "nbformat": 4,
 "nbformat_minor": 5
}
