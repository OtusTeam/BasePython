{
 "cells": [
  {
   "cell_type": "code",
   "execution_count": 5,
   "id": "a625dcb2",
   "metadata": {},
   "outputs": [
    {
     "name": "stdout",
     "output_type": "stream",
     "text": [
      "Help on package numpy.doc in numpy:\n",
      "\n",
      "NAME\n",
      "    numpy.doc\n",
      "\n",
      "DESCRIPTION\n",
      "    Topical documentation\n",
      "    =====================\n",
      "    \n",
      "    The following topics are available:\n",
      "    \n",
      "    - constants\n",
      "    - ufuncs\n",
      "    \n",
      "    You can view them by\n",
      "    \n",
      "    >>> help(np.doc.TOPIC)                                      #doctest: +SKIP\n",
      "\n",
      "PACKAGE CONTENTS\n",
      "    constants\n",
      "    ufuncs\n",
      "\n",
      "DATA\n",
      "    __all__ = ['constants', 'ufuncs', '__doc__']\n",
      "\n",
      "FILE\n",
      "    /Users/suren/MyFiles/OTUS/lessons/Python-Basic.2022-02/34.numpy/venv/lib/python3.10/site-packages/numpy/doc/__init__.py\n",
      "\n",
      "\n"
     ]
    }
   ],
   "source": [
    "import numpy as np\n",
    "from numpy import doc\n",
    "\n",
    "help(doc)\n",
    "# help(doc.constants)"
   ]
  },
  {
   "cell_type": "code",
   "execution_count": 6,
   "id": "0e981bdd",
   "metadata": {},
   "outputs": [
    {
     "data": {
      "text/plain": [
       "<function numpy.array>"
      ]
     },
     "execution_count": 6,
     "metadata": {},
     "output_type": "execute_result"
    }
   ],
   "source": [
    "np.array"
   ]
  },
  {
   "cell_type": "code",
   "execution_count": 7,
   "id": "b9088144",
   "metadata": {},
   "outputs": [
    {
     "name": "stdout",
     "output_type": "stream",
     "text": [
      "[1 2 3]\n",
      "array([1, 2, 3])\n",
      "<class 'numpy.ndarray'>\n"
     ]
    }
   ],
   "source": [
    "a = np.array([1, 2, 3])\n",
    "print(a)\n",
    "print(repr(a))\n",
    "print(type(a))"
   ]
  },
  {
   "cell_type": "code",
   "execution_count": 8,
   "id": "f6641ded",
   "metadata": {},
   "outputs": [
    {
     "name": "stdout",
     "output_type": "stream",
     "text": [
      "1\n",
      "(3,)\n"
     ]
    }
   ],
   "source": [
    "print(a.ndim)\n",
    "print(a.shape)"
   ]
  },
  {
   "cell_type": "code",
   "execution_count": 9,
   "id": "a8d88641",
   "metadata": {},
   "outputs": [
    {
     "data": {
      "text/plain": [
       "dtype('int64')"
      ]
     },
     "execution_count": 9,
     "metadata": {},
     "output_type": "execute_result"
    }
   ],
   "source": [
    "a.dtype"
   ]
  },
  {
   "cell_type": "code",
   "execution_count": 10,
   "id": "22412062",
   "metadata": {},
   "outputs": [
    {
     "data": {
      "text/plain": [
       "8"
      ]
     },
     "execution_count": 10,
     "metadata": {},
     "output_type": "execute_result"
    }
   ],
   "source": [
    "a.itemsize"
   ]
  },
  {
   "cell_type": "code",
   "execution_count": 11,
   "id": "6d42e1a3",
   "metadata": {},
   "outputs": [
    {
     "data": {
      "text/plain": [
       "array([[4, 5, 6],\n",
       "       [7, 8, 9]])"
      ]
     },
     "execution_count": 11,
     "metadata": {},
     "output_type": "execute_result"
    }
   ],
   "source": [
    "b = np.array([\n",
    "    [4, 5, 6],\n",
    "    [7, 8, 9],\n",
    "])\n",
    "b"
   ]
  },
  {
   "cell_type": "code",
   "execution_count": 13,
   "id": "f9ae6dc5",
   "metadata": {},
   "outputs": [
    {
     "name": "stdout",
     "output_type": "stream",
     "text": [
      "2\n",
      "(2, 3)\n",
      "6\n"
     ]
    }
   ],
   "source": [
    "print(b.ndim)\n",
    "print(b.shape)\n",
    "print(b.size)"
   ]
  },
  {
   "cell_type": "code",
   "execution_count": 14,
   "id": "2ee369da",
   "metadata": {},
   "outputs": [
    {
     "name": "stdout",
     "output_type": "stream",
     "text": [
      "int64\n"
     ]
    }
   ],
   "source": [
    "print(b.dtype)"
   ]
  },
  {
   "cell_type": "code",
   "execution_count": 15,
   "id": "327bca78",
   "metadata": {},
   "outputs": [
    {
     "name": "stdout",
     "output_type": "stream",
     "text": [
      "int64\n"
     ]
    }
   ],
   "source": [
    "print(b.dtype.name)"
   ]
  },
  {
   "cell_type": "code",
   "execution_count": 16,
   "id": "c55b2f89",
   "metadata": {},
   "outputs": [
    {
     "name": "stdout",
     "output_type": "stream",
     "text": [
      "dtype('int64')\n"
     ]
    }
   ],
   "source": [
    "print(repr(b.dtype))"
   ]
  },
  {
   "cell_type": "code",
   "execution_count": 17,
   "id": "492261b3",
   "metadata": {},
   "outputs": [
    {
     "data": {
      "text/plain": [
       "numpy.int32"
      ]
     },
     "execution_count": 17,
     "metadata": {},
     "output_type": "execute_result"
    }
   ],
   "source": [
    "np.int32"
   ]
  },
  {
   "cell_type": "code",
   "execution_count": 18,
   "id": "157a02a2",
   "metadata": {},
   "outputs": [
    {
     "name": "stdout",
     "output_type": "stream",
     "text": [
      "['ALLOW_THREADS', 'AxisError', 'BUFSIZE', 'CLIP', 'ComplexWarning', 'DataSource', 'ERR_CALL', 'ERR_DEFAULT', 'ERR_IGNORE', 'ERR_LOG', 'ERR_PRINT', 'ERR_RAISE', 'ERR_WARN', 'FLOATING_POINT_SUPPORT', 'FPE_DIVIDEBYZERO', 'FPE_INVALID', 'FPE_OVERFLOW', 'FPE_UNDERFLOW', 'False_', 'Inf', 'Infinity', 'MAXDIMS', 'MAY_SHARE_BOUNDS', 'MAY_SHARE_EXACT', 'ModuleDeprecationWarning', 'NAN', 'NINF', 'NZERO', 'NaN', 'PINF', 'PZERO', 'RAISE', 'RankWarning', 'SHIFT_DIVIDEBYZERO', 'SHIFT_INVALID', 'SHIFT_OVERFLOW', 'SHIFT_UNDERFLOW', 'ScalarType', 'Tester', 'TooHardError', 'True_', 'UFUNC_BUFSIZE_DEFAULT', 'UFUNC_PYVALS_NAME', 'VisibleDeprecationWarning', 'WRAP', '_CopyMode', '_NoValue', '_UFUNC_API', '__NUMPY_SETUP__', '__all__', '__builtins__', '__cached__', '__config__', '__deprecated_attrs__', '__dir__', '__doc__', '__expired_functions__', '__file__', '__getattr__', '__git_version__', '__loader__', '__name__', '__package__', '__path__', '__spec__', '__version__', '_add_newdoc_ufunc', '_distributor_init', '_financial_names', '_globals', '_mat', '_pyinstaller_hooks_dir', '_pytesttester', '_version', 'abs', 'absolute', 'add', 'add_docstring', 'add_newdoc', 'add_newdoc_ufunc', 'all', 'allclose', 'alltrue', 'amax', 'amin', 'angle', 'any', 'append', 'apply_along_axis', 'apply_over_axes', 'arange', 'arccos', 'arccosh', 'arcsin', 'arcsinh', 'arctan', 'arctan2', 'arctanh', 'argmax', 'argmin', 'argpartition', 'argsort', 'argwhere', 'around', 'array', 'array2string', 'array_equal', 'array_equiv', 'array_repr', 'array_split', 'array_str', 'asanyarray', 'asarray', 'asarray_chkfinite', 'ascontiguousarray', 'asfarray', 'asfortranarray', 'asmatrix', 'atleast_1d', 'atleast_2d', 'atleast_3d', 'average', 'bartlett', 'base_repr', 'binary_repr', 'bincount', 'bitwise_and', 'bitwise_not', 'bitwise_or', 'bitwise_xor', 'blackman', 'block', 'bmat', 'bool8', 'bool_', 'broadcast', 'broadcast_arrays', 'broadcast_shapes', 'broadcast_to', 'busday_count', 'busday_offset', 'busdaycalendar', 'byte', 'byte_bounds', 'bytes0', 'bytes_', 'c_', 'can_cast', 'cast', 'cbrt', 'cdouble', 'ceil', 'cfloat', 'char', 'character', 'chararray', 'choose', 'clip', 'clongdouble', 'clongfloat', 'column_stack', 'common_type', 'compare_chararrays', 'compat', 'complex128', 'complex64', 'complex_', 'complexfloating', 'compress', 'concatenate', 'conj', 'conjugate', 'convolve', 'copy', 'copysign', 'copyto', 'core', 'corrcoef', 'correlate', 'cos', 'cosh', 'count_nonzero', 'cov', 'cross', 'csingle', 'ctypeslib', 'cumprod', 'cumproduct', 'cumsum', 'datetime64', 'datetime_as_string', 'datetime_data', 'deg2rad', 'degrees', 'delete', 'deprecate', 'deprecate_with_doc', 'diag', 'diag_indices', 'diag_indices_from', 'diagflat', 'diagonal', 'diff', 'digitize', 'disp', 'divide', 'divmod', 'doc', 'dot', 'double', 'dsplit', 'dstack', 'dtype', 'e', 'ediff1d', 'einsum', 'einsum_path', 'emath', 'empty', 'empty_like', 'equal', 'error_message', 'errstate', 'euler_gamma', 'exp', 'exp2', 'expand_dims', 'expm1', 'extract', 'eye', 'fabs', 'fastCopyAndTranspose', 'fft', 'fill_diagonal', 'find_common_type', 'finfo', 'fix', 'flatiter', 'flatnonzero', 'flexible', 'flip', 'fliplr', 'flipud', 'float16', 'float32', 'float64', 'float_', 'float_power', 'floating', 'floor', 'floor_divide', 'fmax', 'fmin', 'fmod', 'format_float_positional', 'format_float_scientific', 'format_parser', 'frexp', 'from_dlpack', 'frombuffer', 'fromfile', 'fromfunction', 'fromiter', 'frompyfunc', 'fromregex', 'fromstring', 'full', 'full_like', 'gcd', 'generic', 'genfromtxt', 'geomspace', 'get_array_wrap', 'get_include', 'get_printoptions', 'getbufsize', 'geterr', 'geterrcall', 'geterrobj', 'gradient', 'greater', 'greater_equal', 'half', 'hamming', 'hanning', 'heaviside', 'histogram', 'histogram2d', 'histogram_bin_edges', 'histogramdd', 'hsplit', 'hstack', 'hypot', 'i0', 'identity', 'iinfo', 'imag', 'in1d', 'index_exp', 'indices', 'inexact', 'inf', 'info', 'infty', 'inner', 'insert', 'int0', 'int16', 'int32', 'int64', 'int8', 'int_', 'intc', 'integer', 'interp', 'intersect1d', 'intp', 'invert', 'is_busday', 'isclose', 'iscomplex', 'iscomplexobj', 'isfinite', 'isfortran', 'isin', 'isinf', 'isnan', 'isnat', 'isneginf', 'isposinf', 'isreal', 'isrealobj', 'isscalar', 'issctype', 'issubclass_', 'issubdtype', 'issubsctype', 'iterable', 'ix_', 'kaiser', 'kron', 'lcm', 'ldexp', 'left_shift', 'less', 'less_equal', 'lexsort', 'lib', 'linalg', 'linspace', 'little_endian', 'load', 'loadtxt', 'log', 'log10', 'log1p', 'log2', 'logaddexp', 'logaddexp2', 'logical_and', 'logical_not', 'logical_or', 'logical_xor', 'logspace', 'longcomplex', 'longdouble', 'longfloat', 'longlong', 'lookfor', 'ma', 'mask_indices', 'mat', 'math', 'matmul', 'matrix', 'matrixlib', 'max', 'maximum', 'maximum_sctype', 'may_share_memory', 'mean', 'median', 'memmap', 'meshgrid', 'mgrid', 'min', 'min_scalar_type', 'minimum', 'mintypecode', 'mod', 'modf', 'moveaxis', 'msort', 'multiply', 'nan', 'nan_to_num', 'nanargmax', 'nanargmin', 'nancumprod', 'nancumsum', 'nanmax', 'nanmean', 'nanmedian', 'nanmin', 'nanpercentile', 'nanprod', 'nanquantile', 'nanstd', 'nansum', 'nanvar', 'nbytes', 'ndarray', 'ndenumerate', 'ndim', 'ndindex', 'nditer', 'negative', 'nested_iters', 'newaxis', 'nextafter', 'nonzero', 'not_equal', 'numarray', 'number', 'obj2sctype', 'object0', 'object_', 'ogrid', 'oldnumeric', 'ones', 'ones_like', 'os', 'outer', 'packbits', 'pad', 'partition', 'percentile', 'pi', 'piecewise', 'place', 'poly', 'poly1d', 'polyadd', 'polyder', 'polydiv', 'polyfit', 'polyint', 'polymul', 'polynomial', 'polysub', 'polyval', 'positive', 'power', 'printoptions', 'prod', 'product', 'promote_types', 'ptp', 'put', 'put_along_axis', 'putmask', 'quantile', 'r_', 'rad2deg', 'radians', 'random', 'ravel', 'ravel_multi_index', 'real', 'real_if_close', 'rec', 'recarray', 'recfromcsv', 'recfromtxt', 'reciprocal', 'record', 'remainder', 'repeat', 'require', 'reshape', 'resize', 'result_type', 'right_shift', 'rint', 'roll', 'rollaxis', 'roots', 'rot90', 'round', 'round_', 'row_stack', 's_', 'safe_eval', 'save', 'savetxt', 'savez', 'savez_compressed', 'sctype2char', 'sctypeDict', 'sctypes', 'searchsorted', 'select', 'set_numeric_ops', 'set_printoptions', 'set_string_function', 'setbufsize', 'setdiff1d', 'seterr', 'seterrcall', 'seterrobj', 'setxor1d', 'shape', 'shares_memory', 'short', 'show_config', 'sign', 'signbit', 'signedinteger', 'sin', 'sinc', 'single', 'singlecomplex', 'sinh', 'size', 'sometrue', 'sort', 'sort_complex', 'source', 'spacing', 'split', 'sqrt', 'square', 'squeeze', 'stack', 'std', 'str0', 'str_', 'string_', 'subtract', 'sum', 'swapaxes', 'sys', 'take', 'take_along_axis', 'tan', 'tanh', 'tensordot', 'test', 'testing', 'tile', 'timedelta64', 'trace', 'tracemalloc_domain', 'transpose', 'trapz', 'tri', 'tril', 'tril_indices', 'tril_indices_from', 'trim_zeros', 'triu', 'triu_indices', 'triu_indices_from', 'true_divide', 'trunc', 'typecodes', 'typename', 'ubyte', 'ufunc', 'uint', 'uint0', 'uint16', 'uint32', 'uint64', 'uint8', 'uintc', 'uintp', 'ulonglong', 'unicode_', 'union1d', 'unique', 'unpackbits', 'unravel_index', 'unsignedinteger', 'unwrap', 'use_hugepage', 'ushort', 'vander', 'var', 'vdot', 'vectorize', 'version', 'void', 'void0', 'vsplit', 'vstack', 'w', 'warnings', 'where', 'who', 'zeros', 'zeros_like']\n"
     ]
    }
   ],
   "source": [
    "print(dir(np))"
   ]
  },
  {
   "cell_type": "code",
   "execution_count": 20,
   "id": "e6e0136d",
   "metadata": {},
   "outputs": [
    {
     "name": "stdout",
     "output_type": "stream",
     "text": [
      "int64\n",
      "8\n",
      "int32\n",
      "4\n"
     ]
    }
   ],
   "source": [
    "print(b.dtype)\n",
    "print(b.itemsize)\n",
    "b.dtype = np.int32\n",
    "\n",
    "print(b.dtype)\n",
    "print(b.itemsize)"
   ]
  },
  {
   "cell_type": "code",
   "execution_count": 21,
   "id": "69fca276",
   "metadata": {},
   "outputs": [
    {
     "name": "stdout",
     "output_type": "stream",
     "text": [
      "[1 2]\n",
      "int32\n"
     ]
    }
   ],
   "source": [
    "c = np.array([1, 2], dtype=np.int32)\n",
    "\n",
    "print(c)\n",
    "print(c.dtype)"
   ]
  },
  {
   "cell_type": "code",
   "execution_count": 22,
   "id": "7adbadd0",
   "metadata": {},
   "outputs": [
    {
     "data": {
      "text/plain": [
       "array([0, 1, 2, 3, 4])"
      ]
     },
     "execution_count": 22,
     "metadata": {},
     "output_type": "execute_result"
    }
   ],
   "source": [
    "np.array(range(5))"
   ]
  },
  {
   "cell_type": "code",
   "execution_count": 23,
   "id": "ee96e346",
   "metadata": {},
   "outputs": [
    {
     "data": {
      "text/plain": [
       "array([ 0,  1,  2,  3,  4,  5,  6,  7,  8,  9, 10, 11, 12, 13, 14])"
      ]
     },
     "execution_count": 23,
     "metadata": {},
     "output_type": "execute_result"
    }
   ],
   "source": [
    "np.arange(15)"
   ]
  },
  {
   "cell_type": "code",
   "execution_count": 25,
   "id": "c894b37a",
   "metadata": {},
   "outputs": [
    {
     "name": "stdout",
     "output_type": "stream",
     "text": [
      "[ 0  1  2  3  4  5  6  7  8  9 10 11 12 13 14]\n",
      "(15,)\n",
      "[[ 0  1  2  3  4]\n",
      " [ 5  6  7  8  9]\n",
      " [10 11 12 13 14]]\n",
      "(3, 5)\n"
     ]
    }
   ],
   "source": [
    "a = np.arange(15)\n",
    "print(a)\n",
    "print(a.shape)\n",
    "a = a.reshape(3, 5)\n",
    "print(a)\n",
    "print(a.shape)"
   ]
  },
  {
   "cell_type": "code",
   "execution_count": 26,
   "id": "4df9b1e1",
   "metadata": {},
   "outputs": [
    {
     "name": "stdout",
     "output_type": "stream",
     "text": [
      "[[ 15  20  25  30  35]\n",
      " [ 40  45  50  55  60]\n",
      " [ 65  70  75  80  85]\n",
      " [ 90  95 100 105 110]]\n"
     ]
    }
   ],
   "source": [
    "b = np.arange(15, 115, 5).reshape(4, 5)\n",
    "print(b)"
   ]
  },
  {
   "cell_type": "code",
   "execution_count": 28,
   "id": "1def5d87",
   "metadata": {},
   "outputs": [
    {
     "name": "stdout",
     "output_type": "stream",
     "text": [
      "2\n",
      "(4, 5)\n",
      "20\n",
      "int64\n",
      "8\n"
     ]
    }
   ],
   "source": [
    "print(b.ndim)\n",
    "print(b.shape)\n",
    "print(b.size)\n",
    "print(b.dtype)\n",
    "print(b.itemsize)"
   ]
  },
  {
   "cell_type": "code",
   "execution_count": 29,
   "id": "94dc1764",
   "metadata": {},
   "outputs": [
    {
     "name": "stdout",
     "output_type": "stream",
     "text": [
      "[1.  1.5 2.  2.5 3.  3.5 4.  4.5]\n"
     ]
    }
   ],
   "source": [
    "a = np.arange(1, 5, 0.5)\n",
    "print(a)"
   ]
  },
  {
   "cell_type": "code",
   "execution_count": 30,
   "id": "d3e0467e",
   "metadata": {},
   "outputs": [
    {
     "name": "stdout",
     "output_type": "stream",
     "text": [
      "8\n"
     ]
    }
   ],
   "source": [
    "print(a.size)"
   ]
  },
  {
   "cell_type": "code",
   "execution_count": 31,
   "id": "8fd05371",
   "metadata": {},
   "outputs": [
    {
     "name": "stdout",
     "output_type": "stream",
     "text": [
      "[0.  0.3 0.6 0.9 1.2 1.5 1.8]\n"
     ]
    }
   ],
   "source": [
    "a = np.arange(0, 2, 0.3)\n",
    "print(a)"
   ]
  },
  {
   "cell_type": "code",
   "execution_count": 32,
   "id": "8cb39df2",
   "metadata": {},
   "outputs": [
    {
     "name": "stdout",
     "output_type": "stream",
     "text": [
      "[0.         0.31578947 0.63157895 0.94736842 1.26315789 1.57894737\n",
      " 1.89473684 2.21052632 2.52631579 2.84210526 3.15789474 3.47368421\n",
      " 3.78947368 4.10526316 4.42105263 4.73684211 5.05263158 5.36842105\n",
      " 5.68421053 6.        ]\n"
     ]
    }
   ],
   "source": [
    "a = np.linspace(0, 6, 20)\n",
    "print(a)"
   ]
  },
  {
   "cell_type": "code",
   "execution_count": 34,
   "id": "6d8e4f0d",
   "metadata": {},
   "outputs": [
    {
     "name": "stdout",
     "output_type": "stream",
     "text": [
      "[ 1.   5.5 10. ]\n"
     ]
    }
   ],
   "source": [
    "print(np.linspace(1, 10, 3))"
   ]
  },
  {
   "cell_type": "code",
   "execution_count": 36,
   "id": "ca25e12e",
   "metadata": {},
   "outputs": [
    {
     "name": "stdout",
     "output_type": "stream",
     "text": [
      "[0 1 2 3 4 5 6 7 8 9]\n",
      "[10 11 12 13 14 15 16 17 18 19]\n"
     ]
    }
   ],
   "source": [
    "a = np.arange(10)\n",
    "b = np.arange(10, 20)\n",
    "\n",
    "print(a)\n",
    "print(b)"
   ]
  },
  {
   "cell_type": "code",
   "execution_count": 38,
   "id": "b231023b",
   "metadata": {},
   "outputs": [
    {
     "name": "stdout",
     "output_type": "stream",
     "text": [
      "[0. 0. 0. 0. 0. 0. 0. 0. 0. 0.]\n"
     ]
    }
   ],
   "source": [
    "SIZE = 10\n",
    "SHAPE = (SIZE, )\n",
    "\n",
    "res = np.zeros(SHAPE)\n",
    "print(res)"
   ]
  },
  {
   "cell_type": "code",
   "execution_count": 40,
   "id": "4690c051",
   "metadata": {},
   "outputs": [
    {
     "name": "stdout",
     "output_type": "stream",
     "text": [
      "[[0. 0. 0. 0. 0.]\n",
      " [0. 0. 0. 0. 0.]\n",
      " [0. 0. 0. 0. 0.]]\n"
     ]
    }
   ],
   "source": [
    "SIZE_X = 3\n",
    "SIZE_Y = 5\n",
    "SHAPE = (SIZE_X, SIZE_Y)\n",
    "\n",
    "res = np.zeros(SHAPE)\n",
    "print(res)"
   ]
  },
  {
   "cell_type": "code",
   "execution_count": 41,
   "id": "0834684a",
   "metadata": {},
   "outputs": [
    {
     "data": {
      "text/plain": [
       "dtype('float64')"
      ]
     },
     "execution_count": 41,
     "metadata": {},
     "output_type": "execute_result"
    }
   ],
   "source": [
    "res.dtype"
   ]
  },
  {
   "cell_type": "code",
   "execution_count": 42,
   "id": "7fef67ef",
   "metadata": {},
   "outputs": [
    {
     "data": {
      "text/plain": [
       "dtype('int64')"
      ]
     },
     "execution_count": 42,
     "metadata": {},
     "output_type": "execute_result"
    }
   ],
   "source": [
    "a.dtype"
   ]
  },
  {
   "cell_type": "code",
   "execution_count": 43,
   "id": "14f89a7d",
   "metadata": {},
   "outputs": [
    {
     "name": "stdout",
     "output_type": "stream",
     "text": [
      "[[0 0 0 0 0]\n",
      " [0 0 0 0 0]\n",
      " [0 0 0 0 0]]\n"
     ]
    }
   ],
   "source": [
    "SIZE_X = 3\n",
    "SIZE_Y = 5\n",
    "SHAPE = (SIZE_X, SIZE_Y)\n",
    "\n",
    "res = np.zeros(SHAPE, dtype=a.dtype)\n",
    "print(res)"
   ]
  },
  {
   "cell_type": "code",
   "execution_count": 44,
   "id": "c7362af0",
   "metadata": {},
   "outputs": [
    {
     "data": {
      "text/plain": [
       "dtype('int64')"
      ]
     },
     "execution_count": 44,
     "metadata": {},
     "output_type": "execute_result"
    }
   ],
   "source": [
    "res.dtype"
   ]
  },
  {
   "cell_type": "code",
   "execution_count": 45,
   "id": "265a6938",
   "metadata": {},
   "outputs": [
    {
     "data": {
      "text/plain": [
       "array([0, 1, 2, 3, 4, 5, 6, 7, 8, 9])"
      ]
     },
     "execution_count": 45,
     "metadata": {},
     "output_type": "execute_result"
    }
   ],
   "source": [
    "a"
   ]
  },
  {
   "cell_type": "code",
   "execution_count": 46,
   "id": "044bd474",
   "metadata": {},
   "outputs": [
    {
     "data": {
      "text/plain": [
       "array([10, 11, 12, 13, 14, 15, 16, 17, 18, 19])"
      ]
     },
     "execution_count": 46,
     "metadata": {},
     "output_type": "execute_result"
    }
   ],
   "source": [
    "b"
   ]
  },
  {
   "cell_type": "code",
   "execution_count": null,
   "id": "1c673ba5",
   "metadata": {},
   "outputs": [],
   "source": [
    "# for i_a, i_b in zip(a, b):\n",
    "#     ..."
   ]
  },
  {
   "cell_type": "code",
   "execution_count": 47,
   "id": "f2464beb",
   "metadata": {},
   "outputs": [
    {
     "data": {
      "text/plain": [
       "array([10, 12, 14, 16, 18, 20, 22, 24, 26, 28])"
      ]
     },
     "execution_count": 47,
     "metadata": {},
     "output_type": "execute_result"
    }
   ],
   "source": [
    "a + b"
   ]
  },
  {
   "cell_type": "code",
   "execution_count": 48,
   "id": "e74ce601",
   "metadata": {},
   "outputs": [
    {
     "data": {
      "text/plain": [
       "[1, 2, 3, 4]"
      ]
     },
     "execution_count": 48,
     "metadata": {},
     "output_type": "execute_result"
    }
   ],
   "source": [
    "[1, 2] + [3, 4]"
   ]
  },
  {
   "cell_type": "code",
   "execution_count": 49,
   "id": "d5207137",
   "metadata": {},
   "outputs": [
    {
     "data": {
      "text/plain": [
       "array([  0,  11,  24,  39,  56,  75,  96, 119, 144, 171])"
      ]
     },
     "execution_count": 49,
     "metadata": {},
     "output_type": "execute_result"
    }
   ],
   "source": [
    "a * b"
   ]
  },
  {
   "cell_type": "code",
   "execution_count": 50,
   "id": "288d5d05",
   "metadata": {},
   "outputs": [
    {
     "name": "stdout",
     "output_type": "stream",
     "text": [
      "[[1 2 3]\n",
      " [4 5 6]]\n",
      "[[ 9 10 11]\n",
      " [12 13 14]]\n"
     ]
    }
   ],
   "source": [
    "SHAPE = 2, 3\n",
    "a = np.arange(1, 7).reshape(SHAPE)\n",
    "b = np.arange(9, 15).reshape(SHAPE)\n",
    "\n",
    "print(a)\n",
    "print(b)"
   ]
  },
  {
   "cell_type": "code",
   "execution_count": 51,
   "id": "a74ad8f4",
   "metadata": {},
   "outputs": [
    {
     "data": {
      "text/plain": [
       "array([[10, 12, 14],\n",
       "       [16, 18, 20]])"
      ]
     },
     "execution_count": 51,
     "metadata": {},
     "output_type": "execute_result"
    }
   ],
   "source": [
    "a + b"
   ]
  },
  {
   "cell_type": "code",
   "execution_count": 52,
   "id": "603c1496",
   "metadata": {},
   "outputs": [
    {
     "data": {
      "text/plain": [
       "array([[ 9, 20, 33],\n",
       "       [48, 65, 84]])"
      ]
     },
     "execution_count": 52,
     "metadata": {},
     "output_type": "execute_result"
    }
   ],
   "source": [
    "a * b"
   ]
  },
  {
   "cell_type": "code",
   "execution_count": 53,
   "id": "f5ea859c",
   "metadata": {},
   "outputs": [
    {
     "data": {
      "text/plain": [
       "array([[-8, -8, -8],\n",
       "       [-8, -8, -8]])"
      ]
     },
     "execution_count": 53,
     "metadata": {},
     "output_type": "execute_result"
    }
   ],
   "source": [
    "a - b"
   ]
  },
  {
   "cell_type": "code",
   "execution_count": 54,
   "id": "ed5d061f",
   "metadata": {},
   "outputs": [
    {
     "data": {
      "text/plain": [
       "array([[8, 8, 8],\n",
       "       [8, 8, 8]])"
      ]
     },
     "execution_count": 54,
     "metadata": {},
     "output_type": "execute_result"
    }
   ],
   "source": [
    "b - a"
   ]
  },
  {
   "cell_type": "code",
   "execution_count": 55,
   "id": "27e31c9e",
   "metadata": {},
   "outputs": [
    {
     "data": {
      "text/plain": [
       "array([[9.        , 5.        , 3.66666667],\n",
       "       [3.        , 2.6       , 2.33333333]])"
      ]
     },
     "execution_count": 55,
     "metadata": {},
     "output_type": "execute_result"
    }
   ],
   "source": [
    "b / a"
   ]
  },
  {
   "cell_type": "code",
   "execution_count": 56,
   "id": "8158978b",
   "metadata": {},
   "outputs": [
    {
     "ename": "ValueError",
     "evalue": "operands could not be broadcast together with shapes (7,) (9,) ",
     "output_type": "error",
     "traceback": [
      "\u001b[0;31m---------------------------------------------------------------------------\u001b[0m",
      "\u001b[0;31mValueError\u001b[0m                                Traceback (most recent call last)",
      "Input \u001b[0;32mIn [56]\u001b[0m, in \u001b[0;36m<cell line: 4>\u001b[0;34m()\u001b[0m\n\u001b[1;32m      1\u001b[0m a \u001b[38;5;241m=\u001b[39m np\u001b[38;5;241m.\u001b[39marange(\u001b[38;5;241m7\u001b[39m)\n\u001b[1;32m      2\u001b[0m b \u001b[38;5;241m=\u001b[39m np\u001b[38;5;241m.\u001b[39marange(\u001b[38;5;241m9\u001b[39m)\n\u001b[0;32m----> 4\u001b[0m \u001b[43ma\u001b[49m\u001b[43m \u001b[49m\u001b[38;5;241;43m+\u001b[39;49m\u001b[43m \u001b[49m\u001b[43mb\u001b[49m\n",
      "\u001b[0;31mValueError\u001b[0m: operands could not be broadcast together with shapes (7,) (9,) "
     ]
    }
   ],
   "source": [
    "a = np.arange(7)\n",
    "b = np.arange(9)\n",
    "\n",
    "# operands could not be broadcast together with shapes (7,) (9,) \n",
    "a + b"
   ]
  },
  {
   "cell_type": "code",
   "execution_count": 57,
   "id": "8a259bfc",
   "metadata": {},
   "outputs": [
    {
     "name": "stdout",
     "output_type": "stream",
     "text": [
      "[0 1 2 3 4 5 6 7 8 9]\n",
      "[10 11 12 13 14 15 16 17 18 19]\n"
     ]
    }
   ],
   "source": [
    "a = np.arange(10)\n",
    "b = np.arange(10, 20)\n",
    "\n",
    "print(a)\n",
    "print(b)"
   ]
  },
  {
   "cell_type": "code",
   "execution_count": 58,
   "id": "499428d1",
   "metadata": {},
   "outputs": [
    {
     "data": {
      "text/plain": [
       "array([0.        , 0.09090909, 0.16666667, 0.23076923, 0.28571429,\n",
       "       0.33333333, 0.375     , 0.41176471, 0.44444444, 0.47368421])"
      ]
     },
     "execution_count": 58,
     "metadata": {},
     "output_type": "execute_result"
    }
   ],
   "source": [
    "a / b"
   ]
  },
  {
   "cell_type": "code",
   "execution_count": 59,
   "id": "e59cdf7f",
   "metadata": {},
   "outputs": [
    {
     "name": "stderr",
     "output_type": "stream",
     "text": [
      "/var/folders/r0/f247yh3j4djfkghshd5yf41m0000gn/T/ipykernel_5230/1491818542.py:1: RuntimeWarning: divide by zero encountered in divide\n",
      "  b / a\n"
     ]
    },
    {
     "data": {
      "text/plain": [
       "array([        inf, 11.        ,  6.        ,  4.33333333,  3.5       ,\n",
       "        3.        ,  2.66666667,  2.42857143,  2.25      ,  2.11111111])"
      ]
     },
     "execution_count": 59,
     "metadata": {},
     "output_type": "execute_result"
    }
   ],
   "source": [
    "b / a"
   ]
  },
  {
   "cell_type": "code",
   "execution_count": 60,
   "id": "74ce0494",
   "metadata": {},
   "outputs": [
    {
     "data": {
      "text/plain": [
       "<function numpy.diff(a, n=1, axis=-1, prepend=<no value>, append=<no value>)>"
      ]
     },
     "execution_count": 60,
     "metadata": {},
     "output_type": "execute_result"
    }
   ],
   "source": [
    "np.diff"
   ]
  },
  {
   "cell_type": "code",
   "execution_count": 61,
   "id": "8f58cb8b",
   "metadata": {},
   "outputs": [
    {
     "data": {
      "text/plain": [
       "array([1, 1, 1, 1, 1, 1, 1, 1, 1])"
      ]
     },
     "execution_count": 61,
     "metadata": {},
     "output_type": "execute_result"
    }
   ],
   "source": [
    "np.diff(a)"
   ]
  },
  {
   "cell_type": "code",
   "execution_count": 63,
   "id": "0f5f8590",
   "metadata": {},
   "outputs": [
    {
     "data": {
      "text/plain": [
       "array([ 2, -1,  3,  2])"
      ]
     },
     "execution_count": 63,
     "metadata": {},
     "output_type": "execute_result"
    }
   ],
   "source": [
    "np.diff(np.array([1, 3, 2, 5, 7]))"
   ]
  },
  {
   "cell_type": "code",
   "execution_count": 64,
   "id": "fd6d501c",
   "metadata": {},
   "outputs": [
    {
     "name": "stdout",
     "output_type": "stream",
     "text": [
      "[[10 15 20 25]\n",
      " [30 35 40 45]]\n"
     ]
    },
    {
     "data": {
      "text/plain": [
       "array([[5, 5, 5],\n",
       "       [5, 5, 5]])"
      ]
     },
     "execution_count": 64,
     "metadata": {},
     "output_type": "execute_result"
    }
   ],
   "source": [
    "a = np.arange(10, 50, 5).reshape(2, 4)\n",
    "print(a)\n",
    "np.diff(a)"
   ]
  },
  {
   "cell_type": "code",
   "execution_count": 65,
   "id": "2f3ba878",
   "metadata": {},
   "outputs": [
    {
     "data": {
      "text/plain": [
       "array([[ 30,  45,  60,  75],\n",
       "       [ 90, 105, 120, 135]])"
      ]
     },
     "execution_count": 65,
     "metadata": {},
     "output_type": "execute_result"
    }
   ],
   "source": [
    "a * 3"
   ]
  },
  {
   "cell_type": "code",
   "execution_count": 66,
   "id": "2b45f865",
   "metadata": {},
   "outputs": [
    {
     "data": {
      "text/plain": [
       "220"
      ]
     },
     "execution_count": 66,
     "metadata": {},
     "output_type": "execute_result"
    }
   ],
   "source": [
    "np.sum(a)"
   ]
  },
  {
   "cell_type": "code",
   "execution_count": 67,
   "id": "1c33f229",
   "metadata": {},
   "outputs": [
    {
     "data": {
      "text/plain": [
       "660"
      ]
     },
     "execution_count": 67,
     "metadata": {},
     "output_type": "execute_result"
    }
   ],
   "source": [
    "np.sum(a * 3)"
   ]
  },
  {
   "cell_type": "code",
   "execution_count": 68,
   "id": "27f72389",
   "metadata": {},
   "outputs": [
    {
     "data": {
      "text/plain": [
       "2"
      ]
     },
     "execution_count": 68,
     "metadata": {},
     "output_type": "execute_result"
    }
   ],
   "source": [
    "a.ndim"
   ]
  },
  {
   "cell_type": "code",
   "execution_count": 69,
   "id": "158ab59d",
   "metadata": {},
   "outputs": [
    {
     "data": {
      "text/plain": [
       "(2, 4)"
      ]
     },
     "execution_count": 69,
     "metadata": {},
     "output_type": "execute_result"
    }
   ],
   "source": [
    "a.shape"
   ]
  },
  {
   "cell_type": "code",
   "execution_count": 71,
   "id": "ab661288",
   "metadata": {},
   "outputs": [
    {
     "data": {
      "text/plain": [
       "array([40, 50, 60, 70])"
      ]
     },
     "execution_count": 71,
     "metadata": {},
     "output_type": "execute_result"
    }
   ],
   "source": [
    "np.sum(a, axis=0)"
   ]
  },
  {
   "cell_type": "code",
   "execution_count": 72,
   "id": "48f3d805",
   "metadata": {},
   "outputs": [
    {
     "data": {
      "text/plain": [
       "array([[10, 15, 20, 25],\n",
       "       [30, 35, 40, 45]])"
      ]
     },
     "execution_count": 72,
     "metadata": {},
     "output_type": "execute_result"
    }
   ],
   "source": [
    "a"
   ]
  },
  {
   "cell_type": "code",
   "execution_count": 73,
   "id": "b488973d",
   "metadata": {},
   "outputs": [
    {
     "data": {
      "text/plain": [
       "array([ 70, 150])"
      ]
     },
     "execution_count": 73,
     "metadata": {},
     "output_type": "execute_result"
    }
   ],
   "source": [
    "np.sum(a, axis=1)"
   ]
  },
  {
   "cell_type": "code",
   "execution_count": 74,
   "id": "375e4cb1",
   "metadata": {},
   "outputs": [
    {
     "data": {
      "text/plain": [
       "141750000000"
      ]
     },
     "execution_count": 74,
     "metadata": {},
     "output_type": "execute_result"
    }
   ],
   "source": [
    "np.prod(a)"
   ]
  },
  {
   "cell_type": "code",
   "execution_count": 75,
   "id": "f2efd262",
   "metadata": {},
   "outputs": [
    {
     "data": {
      "text/plain": [
       "array([ 300,  525,  800, 1125])"
      ]
     },
     "execution_count": 75,
     "metadata": {},
     "output_type": "execute_result"
    }
   ],
   "source": [
    "np.prod(a, axis=0)"
   ]
  },
  {
   "cell_type": "code",
   "execution_count": 76,
   "id": "50e8b7be",
   "metadata": {},
   "outputs": [
    {
     "data": {
      "text/plain": [
       "array([  75000, 1890000])"
      ]
     },
     "execution_count": 76,
     "metadata": {},
     "output_type": "execute_result"
    }
   ],
   "source": [
    "np.prod(a, axis=1)"
   ]
  },
  {
   "cell_type": "code",
   "execution_count": 77,
   "id": "f4f4aaa8",
   "metadata": {},
   "outputs": [
    {
     "data": {
      "text/plain": [
       "array([[ 100,  225,  400,  625],\n",
       "       [ 900, 1225, 1600, 2025]])"
      ]
     },
     "execution_count": 77,
     "metadata": {},
     "output_type": "execute_result"
    }
   ],
   "source": [
    "a ** 2"
   ]
  },
  {
   "cell_type": "code",
   "execution_count": 78,
   "id": "5645681a",
   "metadata": {},
   "outputs": [
    {
     "data": {
      "text/plain": [
       "array([[10, 15, 20, 25],\n",
       "       [30, 35, 40, 45]])"
      ]
     },
     "execution_count": 78,
     "metadata": {},
     "output_type": "execute_result"
    }
   ],
   "source": [
    "a"
   ]
  },
  {
   "cell_type": "code",
   "execution_count": 79,
   "id": "29fed2ad",
   "metadata": {},
   "outputs": [
    {
     "data": {
      "text/plain": [
       "array([[10, 30],\n",
       "       [15, 35],\n",
       "       [20, 40],\n",
       "       [25, 45]])"
      ]
     },
     "execution_count": 79,
     "metadata": {},
     "output_type": "execute_result"
    }
   ],
   "source": [
    "a.transpose()"
   ]
  },
  {
   "cell_type": "code",
   "execution_count": 80,
   "id": "3e6d621c",
   "metadata": {},
   "outputs": [
    {
     "name": "stdout",
     "output_type": "stream",
     "text": [
      "[[10 11 12 13 14]\n",
      " [15 16 17 18 19]\n",
      " [20 21 22 23 24]\n",
      " [25 26 27 28 29]]\n",
      "[[10 15 20 25]\n",
      " [11 16 21 26]\n",
      " [12 17 22 27]\n",
      " [13 18 23 28]\n",
      " [14 19 24 29]]\n"
     ]
    }
   ],
   "source": [
    "a = np.arange(10, 30).reshape(4, 5)\n",
    "print(a)\n",
    "print(a.transpose())"
   ]
  },
  {
   "cell_type": "code",
   "execution_count": 81,
   "id": "7fbfb47b",
   "metadata": {},
   "outputs": [
    {
     "name": "stdout",
     "output_type": "stream",
     "text": [
      "[[10 15]\n",
      " [20 25]]\n"
     ]
    }
   ],
   "source": [
    "a = np.arange(10, 30, 5).reshape(2, 2)\n",
    "print(a)"
   ]
  },
  {
   "cell_type": "code",
   "execution_count": 82,
   "id": "78698ebe",
   "metadata": {},
   "outputs": [
    {
     "data": {
      "text/plain": [
       "-49.99999999999999"
      ]
     },
     "execution_count": 82,
     "metadata": {},
     "output_type": "execute_result"
    }
   ],
   "source": [
    "np.linalg.det(a)"
   ]
  },
  {
   "cell_type": "code",
   "execution_count": 83,
   "id": "e631c6de",
   "metadata": {},
   "outputs": [
    {
     "name": "stdout",
     "output_type": "stream",
     "text": [
      "[[10 11 12]\n",
      " [13 14 15]\n",
      " [16 17 18]]\n"
     ]
    }
   ],
   "source": [
    "a = np.arange(10, 19).reshape(3, 3)\n",
    "print(a)"
   ]
  },
  {
   "cell_type": "code",
   "execution_count": 84,
   "id": "e9677692",
   "metadata": {},
   "outputs": [
    {
     "data": {
      "text/plain": [
       "0.0"
      ]
     },
     "execution_count": 84,
     "metadata": {},
     "output_type": "execute_result"
    }
   ],
   "source": [
    "np.linalg.det(a)"
   ]
  },
  {
   "cell_type": "code",
   "execution_count": 85,
   "id": "f5fd3806",
   "metadata": {},
   "outputs": [
    {
     "data": {
      "text/plain": [
       "array([[30, 33, 36],\n",
       "       [39, 42, 45],\n",
       "       [48, 51, 54]])"
      ]
     },
     "execution_count": 85,
     "metadata": {},
     "output_type": "execute_result"
    }
   ],
   "source": [
    "a * 3"
   ]
  },
  {
   "cell_type": "code",
   "execution_count": 86,
   "id": "ca6348c2",
   "metadata": {},
   "outputs": [
    {
     "data": {
      "text/plain": [
       "array([[100, 121, 144],\n",
       "       [169, 196, 225],\n",
       "       [256, 289, 324]])"
      ]
     },
     "execution_count": 86,
     "metadata": {},
     "output_type": "execute_result"
    }
   ],
   "source": [
    "a * a"
   ]
  },
  {
   "cell_type": "code",
   "execution_count": 87,
   "id": "3d0981e8",
   "metadata": {},
   "outputs": [
    {
     "data": {
      "text/plain": [
       "array([[10, 11, 12],\n",
       "       [13, 14, 15],\n",
       "       [16, 17, 18]])"
      ]
     },
     "execution_count": 87,
     "metadata": {},
     "output_type": "execute_result"
    }
   ],
   "source": [
    "a"
   ]
  },
  {
   "cell_type": "code",
   "execution_count": 88,
   "id": "9ca4b224",
   "metadata": {},
   "outputs": [
    {
     "data": {
      "text/plain": [
       "array([[False, False, False],\n",
       "       [False,  True,  True],\n",
       "       [ True,  True,  True]])"
      ]
     },
     "execution_count": 88,
     "metadata": {},
     "output_type": "execute_result"
    }
   ],
   "source": [
    "a > 13"
   ]
  },
  {
   "cell_type": "code",
   "execution_count": 89,
   "id": "25fedac2",
   "metadata": {},
   "outputs": [
    {
     "data": {
      "text/plain": [
       "dtype('bool')"
      ]
     },
     "execution_count": 89,
     "metadata": {},
     "output_type": "execute_result"
    }
   ],
   "source": [
    "(a > 13).dtype"
   ]
  },
  {
   "cell_type": "code",
   "execution_count": 90,
   "id": "f0beb36c",
   "metadata": {},
   "outputs": [
    {
     "data": {
      "text/plain": [
       "array([[ True,  True,  True],\n",
       "       [ True,  True,  True],\n",
       "       [ True,  True,  True]])"
      ]
     },
     "execution_count": 90,
     "metadata": {},
     "output_type": "execute_result"
    }
   ],
   "source": [
    "a == a"
   ]
  },
  {
   "cell_type": "code",
   "execution_count": 91,
   "id": "7e48a3b8",
   "metadata": {},
   "outputs": [
    {
     "data": {
      "text/plain": [
       "array([[ True, False, False],\n",
       "       [False, False, False],\n",
       "       [False, False, False]])"
      ]
     },
     "execution_count": 91,
     "metadata": {},
     "output_type": "execute_result"
    }
   ],
   "source": [
    "a == 10"
   ]
  },
  {
   "cell_type": "code",
   "execution_count": 92,
   "id": "a932ef6b",
   "metadata": {},
   "outputs": [
    {
     "data": {
      "text/plain": [
       "array([10, 11, 12, 13, 14, 15, 16, 17, 18, 19])"
      ]
     },
     "execution_count": 92,
     "metadata": {},
     "output_type": "execute_result"
    }
   ],
   "source": [
    "b"
   ]
  },
  {
   "cell_type": "code",
   "execution_count": 94,
   "id": "86ca7737",
   "metadata": {},
   "outputs": [
    {
     "name": "stdout",
     "output_type": "stream",
     "text": [
      "[[20 19 18]\n",
      " [17 16 15]\n",
      " [14 13 12]]\n"
     ]
    }
   ],
   "source": [
    "b = np.arange(20, 11, -1).reshape(3, 3)\n",
    "print(b)"
   ]
  },
  {
   "cell_type": "code",
   "execution_count": 95,
   "id": "3c1960be",
   "metadata": {},
   "outputs": [
    {
     "data": {
      "text/plain": [
       "array([[False, False, False],\n",
       "       [False, False, False],\n",
       "       [ True,  True,  True]])"
      ]
     },
     "execution_count": 95,
     "metadata": {},
     "output_type": "execute_result"
    }
   ],
   "source": [
    "a > b"
   ]
  },
  {
   "cell_type": "code",
   "execution_count": 96,
   "id": "ead48254",
   "metadata": {},
   "outputs": [
    {
     "data": {
      "text/plain": [
       "array([[10, 11, 12],\n",
       "       [13, 14, 15],\n",
       "       [16, 17, 18]])"
      ]
     },
     "execution_count": 96,
     "metadata": {},
     "output_type": "execute_result"
    }
   ],
   "source": [
    "a"
   ]
  },
  {
   "cell_type": "code",
   "execution_count": 97,
   "id": "3e9033f4",
   "metadata": {},
   "outputs": [
    {
     "data": {
      "text/plain": [
       "array([[False, False, False],\n",
       "       [False, False,  True],\n",
       "       [False, False, False]])"
      ]
     },
     "execution_count": 97,
     "metadata": {},
     "output_type": "execute_result"
    }
   ],
   "source": [
    "a == b"
   ]
  },
  {
   "cell_type": "code",
   "execution_count": 98,
   "id": "e0aeeb81",
   "metadata": {},
   "outputs": [
    {
     "data": {
      "text/plain": [
       "array([[0.5       , 0.57894737, 0.66666667],\n",
       "       [0.76470588, 0.875     , 1.        ],\n",
       "       [1.14285714, 1.30769231, 1.5       ]])"
      ]
     },
     "execution_count": 98,
     "metadata": {},
     "output_type": "execute_result"
    }
   ],
   "source": [
    "a / b"
   ]
  },
  {
   "cell_type": "code",
   "execution_count": 99,
   "id": "a541b455",
   "metadata": {},
   "outputs": [],
   "source": [
    "a = np.arange(10)"
   ]
  },
  {
   "cell_type": "code",
   "execution_count": 100,
   "id": "2075b093",
   "metadata": {},
   "outputs": [
    {
     "data": {
      "text/plain": [
       "array([0, 1, 2, 3, 4, 5, 6, 7, 8, 9])"
      ]
     },
     "execution_count": 100,
     "metadata": {},
     "output_type": "execute_result"
    }
   ],
   "source": [
    "a"
   ]
  },
  {
   "cell_type": "code",
   "execution_count": 101,
   "id": "7148ec0f",
   "metadata": {},
   "outputs": [
    {
     "data": {
      "text/plain": [
       "0"
      ]
     },
     "execution_count": 101,
     "metadata": {},
     "output_type": "execute_result"
    }
   ],
   "source": [
    "a[0]"
   ]
  },
  {
   "cell_type": "code",
   "execution_count": 102,
   "id": "a3399578",
   "metadata": {},
   "outputs": [
    {
     "data": {
      "text/plain": [
       "5"
      ]
     },
     "execution_count": 102,
     "metadata": {},
     "output_type": "execute_result"
    }
   ],
   "source": [
    "a[5]"
   ]
  },
  {
   "cell_type": "code",
   "execution_count": 103,
   "id": "79842c9f",
   "metadata": {},
   "outputs": [
    {
     "data": {
      "text/plain": [
       "array([  0,   1,   8,  27,  64, 125, 216, 343, 512, 729])"
      ]
     },
     "execution_count": 103,
     "metadata": {},
     "output_type": "execute_result"
    }
   ],
   "source": [
    "a = np.arange(10) ** 3\n",
    "a"
   ]
  },
  {
   "cell_type": "code",
   "execution_count": 104,
   "id": "3b25f52a",
   "metadata": {},
   "outputs": [
    {
     "data": {
      "text/plain": [
       "27"
      ]
     },
     "execution_count": 104,
     "metadata": {},
     "output_type": "execute_result"
    }
   ],
   "source": [
    "a[3]"
   ]
  },
  {
   "cell_type": "code",
   "execution_count": 105,
   "id": "10b6125d",
   "metadata": {},
   "outputs": [
    {
     "data": {
      "text/plain": [
       "array([ 0,  1,  8, 27, 64])"
      ]
     },
     "execution_count": 105,
     "metadata": {},
     "output_type": "execute_result"
    }
   ],
   "source": [
    "a[:5]"
   ]
  },
  {
   "cell_type": "code",
   "execution_count": 106,
   "id": "fc52dbdf",
   "metadata": {},
   "outputs": [
    {
     "data": {
      "text/plain": [
       "array([343, 512, 729])"
      ]
     },
     "execution_count": 106,
     "metadata": {},
     "output_type": "execute_result"
    }
   ],
   "source": [
    "a[7:]"
   ]
  },
  {
   "cell_type": "code",
   "execution_count": 107,
   "id": "8a6ce1ed",
   "metadata": {},
   "outputs": [
    {
     "data": {
      "text/plain": [
       "array([ 27, 125])"
      ]
     },
     "execution_count": 107,
     "metadata": {},
     "output_type": "execute_result"
    }
   ],
   "source": [
    "a[3:7:2]"
   ]
  },
  {
   "cell_type": "code",
   "execution_count": 108,
   "id": "e30c60a4",
   "metadata": {},
   "outputs": [
    {
     "data": {
      "text/plain": [
       "array([  1,  27, 125])"
      ]
     },
     "execution_count": 108,
     "metadata": {},
     "output_type": "execute_result"
    }
   ],
   "source": [
    "a[1:7:2]"
   ]
  },
  {
   "cell_type": "code",
   "execution_count": 109,
   "id": "986af273",
   "metadata": {},
   "outputs": [
    {
     "name": "stdout",
     "output_type": "stream",
     "text": [
      "0\n",
      "<class 'numpy.int64'>\n",
      "1\n",
      "<class 'numpy.int64'>\n",
      "8\n",
      "<class 'numpy.int64'>\n",
      "27\n",
      "<class 'numpy.int64'>\n",
      "64\n",
      "<class 'numpy.int64'>\n",
      "125\n",
      "<class 'numpy.int64'>\n",
      "216\n",
      "<class 'numpy.int64'>\n",
      "343\n",
      "<class 'numpy.int64'>\n",
      "512\n",
      "<class 'numpy.int64'>\n",
      "729\n",
      "<class 'numpy.int64'>\n"
     ]
    }
   ],
   "source": [
    "for i in a:\n",
    "    print(i)\n",
    "    print(type(i))"
   ]
  },
  {
   "cell_type": "code",
   "execution_count": 110,
   "id": "fa096ee8",
   "metadata": {},
   "outputs": [
    {
     "data": {
      "text/plain": [
       "array([729, 512, 343, 216, 125,  64,  27,   8,   1,   0])"
      ]
     },
     "execution_count": 110,
     "metadata": {},
     "output_type": "execute_result"
    }
   ],
   "source": [
    "a[::-1]"
   ]
  },
  {
   "cell_type": "code",
   "execution_count": 111,
   "id": "c4f8ba38",
   "metadata": {},
   "outputs": [
    {
     "name": "stdout",
     "output_type": "stream",
     "text": [
      "[1, 2, 3, 4, 5, 6, 7]\n",
      "[1, 2, 9, 8, 6, 7]\n"
     ]
    }
   ],
   "source": [
    "list1 = [1, 2, 3, 4, 5, 6, 7]\n",
    "print(list1)\n",
    "list1[2:5] = [9, 8]\n",
    "print(list1)"
   ]
  },
  {
   "cell_type": "code",
   "execution_count": 112,
   "id": "7e6010da",
   "metadata": {},
   "outputs": [
    {
     "ename": "TypeError",
     "evalue": "can only assign an iterable",
     "output_type": "error",
     "traceback": [
      "\u001b[0;31m---------------------------------------------------------------------------\u001b[0m",
      "\u001b[0;31mTypeError\u001b[0m                                 Traceback (most recent call last)",
      "Input \u001b[0;32mIn [112]\u001b[0m, in \u001b[0;36m<cell line: 1>\u001b[0;34m()\u001b[0m\n\u001b[0;32m----> 1\u001b[0m list1[\u001b[38;5;241m2\u001b[39m:\u001b[38;5;241m5\u001b[39m] \u001b[38;5;241m=\u001b[39m \u001b[38;5;241m1\u001b[39m\n",
      "\u001b[0;31mTypeError\u001b[0m: can only assign an iterable"
     ]
    }
   ],
   "source": [
    "list1[2:5] = 1"
   ]
  },
  {
   "cell_type": "code",
   "execution_count": 113,
   "id": "74763589",
   "metadata": {},
   "outputs": [
    {
     "data": {
      "text/plain": [
       "array([  0,   1,   8,  27,  64, 125, 216, 343, 512])"
      ]
     },
     "execution_count": 113,
     "metadata": {},
     "output_type": "execute_result"
    }
   ],
   "source": [
    "a[:9]"
   ]
  },
  {
   "cell_type": "code",
   "execution_count": 114,
   "id": "5376c35e",
   "metadata": {},
   "outputs": [
    {
     "data": {
      "text/plain": [
       "array([  0,   1,   8,  27,  64, 125, 216, 343, 512, 729])"
      ]
     },
     "execution_count": 114,
     "metadata": {},
     "output_type": "execute_result"
    }
   ],
   "source": [
    "a"
   ]
  },
  {
   "cell_type": "code",
   "execution_count": 115,
   "id": "7ee4766c",
   "metadata": {},
   "outputs": [
    {
     "data": {
      "text/plain": [
       "array([  0,  27, 216])"
      ]
     },
     "execution_count": 115,
     "metadata": {},
     "output_type": "execute_result"
    }
   ],
   "source": [
    "a[:9:3]"
   ]
  },
  {
   "cell_type": "code",
   "execution_count": 116,
   "id": "740c92fe",
   "metadata": {},
   "outputs": [
    {
     "data": {
      "text/plain": [
       "array([777,   1,   8, 777,  64, 125, 777, 343, 512, 729])"
      ]
     },
     "execution_count": 116,
     "metadata": {},
     "output_type": "execute_result"
    }
   ],
   "source": [
    "a[:9:3] = 777\n",
    "a"
   ]
  },
  {
   "cell_type": "code",
   "execution_count": 117,
   "id": "b92350eb",
   "metadata": {},
   "outputs": [],
   "source": [
    "def f(x, y):\n",
    "    print(\"x:\", x)\n",
    "    print(\"y:\", y)\n",
    "    return 10 * x + y"
   ]
  },
  {
   "cell_type": "code",
   "execution_count": 118,
   "id": "0f47a39d",
   "metadata": {},
   "outputs": [
    {
     "name": "stdout",
     "output_type": "stream",
     "text": [
      "x: 5\n",
      "y: 7\n"
     ]
    },
    {
     "data": {
      "text/plain": [
       "57"
      ]
     },
     "execution_count": 118,
     "metadata": {},
     "output_type": "execute_result"
    }
   ],
   "source": [
    "f(5, 7)"
   ]
  },
  {
   "cell_type": "code",
   "execution_count": 119,
   "id": "6d3de76d",
   "metadata": {},
   "outputs": [
    {
     "name": "stdout",
     "output_type": "stream",
     "text": [
      "x: [[0. 0. 0. 0. 0.]\n",
      " [1. 1. 1. 1. 1.]\n",
      " [2. 2. 2. 2. 2.]\n",
      " [3. 3. 3. 3. 3.]]\n",
      "y: [[0. 1. 2. 3. 4.]\n",
      " [0. 1. 2. 3. 4.]\n",
      " [0. 1. 2. 3. 4.]\n",
      " [0. 1. 2. 3. 4.]]\n",
      "[[ 0.  1.  2.  3.  4.]\n",
      " [10. 11. 12. 13. 14.]\n",
      " [20. 21. 22. 23. 24.]\n",
      " [30. 31. 32. 33. 34.]]\n"
     ]
    }
   ],
   "source": [
    "SHAPE = (4, 5)\n",
    "a = np.fromfunction(f, SHAPE)\n",
    "print(a)"
   ]
  },
  {
   "cell_type": "code",
   "execution_count": 120,
   "id": "843068ae",
   "metadata": {},
   "outputs": [
    {
     "name": "stdout",
     "output_type": "stream",
     "text": [
      "x: [[0 0 0 0 0]\n",
      " [1 1 1 1 1]\n",
      " [2 2 2 2 2]\n",
      " [3 3 3 3 3]]\n",
      "y: [[0 1 2 3 4]\n",
      " [0 1 2 3 4]\n",
      " [0 1 2 3 4]\n",
      " [0 1 2 3 4]]\n",
      "[[ 0  1  2  3  4]\n",
      " [10 11 12 13 14]\n",
      " [20 21 22 23 24]\n",
      " [30 31 32 33 34]]\n"
     ]
    }
   ],
   "source": [
    "a = np.fromfunction(f, SHAPE, dtype=np.int8)\n",
    "print(a)"
   ]
  },
  {
   "cell_type": "code",
   "execution_count": 121,
   "id": "c1ffed0c",
   "metadata": {},
   "outputs": [
    {
     "data": {
      "text/plain": [
       "array([[ 0,  1,  2,  3,  4],\n",
       "       [10, 11, 12, 13, 14],\n",
       "       [20, 21, 22, 23, 24],\n",
       "       [30, 31, 32, 33, 34]], dtype=int8)"
      ]
     },
     "execution_count": 121,
     "metadata": {},
     "output_type": "execute_result"
    }
   ],
   "source": [
    "a"
   ]
  },
  {
   "cell_type": "code",
   "execution_count": 122,
   "id": "1088023e",
   "metadata": {},
   "outputs": [
    {
     "data": {
      "text/plain": [
       "array([10, 11, 12, 13, 14], dtype=int8)"
      ]
     },
     "execution_count": 122,
     "metadata": {},
     "output_type": "execute_result"
    }
   ],
   "source": [
    "a[1]"
   ]
  },
  {
   "cell_type": "code",
   "execution_count": 123,
   "id": "45d6b623",
   "metadata": {},
   "outputs": [
    {
     "data": {
      "text/plain": [
       "array([30, 31, 32, 33, 34], dtype=int8)"
      ]
     },
     "execution_count": 123,
     "metadata": {},
     "output_type": "execute_result"
    }
   ],
   "source": [
    "a[3]"
   ]
  },
  {
   "cell_type": "code",
   "execution_count": 124,
   "id": "87b89751",
   "metadata": {},
   "outputs": [
    {
     "data": {
      "text/plain": [
       "23"
      ]
     },
     "execution_count": 124,
     "metadata": {},
     "output_type": "execute_result"
    }
   ],
   "source": [
    "a[2][3]"
   ]
  },
  {
   "cell_type": "code",
   "execution_count": 125,
   "id": "917f2568",
   "metadata": {},
   "outputs": [
    {
     "data": {
      "text/plain": [
       "23"
      ]
     },
     "execution_count": 125,
     "metadata": {},
     "output_type": "execute_result"
    }
   ],
   "source": [
    "a[2, 3]"
   ]
  },
  {
   "cell_type": "code",
   "execution_count": 126,
   "id": "de41de3d",
   "metadata": {},
   "outputs": [
    {
     "data": {
      "text/plain": [
       "32"
      ]
     },
     "execution_count": 126,
     "metadata": {},
     "output_type": "execute_result"
    }
   ],
   "source": [
    "a[3, 2]"
   ]
  },
  {
   "cell_type": "code",
   "execution_count": 127,
   "id": "a9b641de",
   "metadata": {},
   "outputs": [
    {
     "data": {
      "text/plain": [
       "0"
      ]
     },
     "execution_count": 127,
     "metadata": {},
     "output_type": "execute_result"
    }
   ],
   "source": [
    "a[0, 0]"
   ]
  },
  {
   "cell_type": "code",
   "execution_count": 128,
   "id": "fe0ebee7",
   "metadata": {},
   "outputs": [
    {
     "data": {
      "text/plain": [
       "array([ 3, 13, 23, 33], dtype=int8)"
      ]
     },
     "execution_count": 128,
     "metadata": {},
     "output_type": "execute_result"
    }
   ],
   "source": [
    "a[:, 3]"
   ]
  },
  {
   "cell_type": "code",
   "execution_count": 129,
   "id": "3123b96a",
   "metadata": {},
   "outputs": [
    {
     "data": {
      "text/plain": [
       "array([[ 0,  1,  2,  3,  4],\n",
       "       [10, 11, 12, 13, 14],\n",
       "       [20, 21, 22, 23, 24],\n",
       "       [30, 31, 32, 33, 34]], dtype=int8)"
      ]
     },
     "execution_count": 129,
     "metadata": {},
     "output_type": "execute_result"
    }
   ],
   "source": [
    "a"
   ]
  },
  {
   "cell_type": "code",
   "execution_count": 130,
   "id": "9fdc93fc",
   "metadata": {},
   "outputs": [
    {
     "data": {
      "text/plain": [
       "array([[ 2],\n",
       "       [12],\n",
       "       [22],\n",
       "       [32]], dtype=int8)"
      ]
     },
     "execution_count": 130,
     "metadata": {},
     "output_type": "execute_result"
    }
   ],
   "source": [
    "a[:, 2:3]"
   ]
  },
  {
   "cell_type": "code",
   "execution_count": 131,
   "id": "caf40a9a",
   "metadata": {},
   "outputs": [
    {
     "data": {
      "text/plain": [
       "array([[ 1,  2],\n",
       "       [11, 12],\n",
       "       [21, 22],\n",
       "       [31, 32]], dtype=int8)"
      ]
     },
     "execution_count": 131,
     "metadata": {},
     "output_type": "execute_result"
    }
   ],
   "source": [
    "a[:, 1:3]"
   ]
  },
  {
   "cell_type": "code",
   "execution_count": 132,
   "id": "a172a6b2",
   "metadata": {},
   "outputs": [
    {
     "data": {
      "text/plain": [
       "array([[11, 12],\n",
       "       [21, 22],\n",
       "       [31, 32]], dtype=int8)"
      ]
     },
     "execution_count": 132,
     "metadata": {},
     "output_type": "execute_result"
    }
   ],
   "source": [
    "a[1:, 1:3]"
   ]
  },
  {
   "cell_type": "code",
   "execution_count": 133,
   "id": "08bc9c01",
   "metadata": {},
   "outputs": [
    {
     "data": {
      "text/plain": [
       "array([30, 31, 32, 33, 34], dtype=int8)"
      ]
     },
     "execution_count": 133,
     "metadata": {},
     "output_type": "execute_result"
    }
   ],
   "source": [
    "a[-1]"
   ]
  },
  {
   "cell_type": "code",
   "execution_count": 134,
   "id": "c667844b",
   "metadata": {},
   "outputs": [
    {
     "data": {
      "text/plain": [
       "array([[ 0,  1,  2,  3,  4],\n",
       "       [10, 11, 12, 13, 14],\n",
       "       [20, 21, 22, 23, 24],\n",
       "       [30, 31, 32, 33, 34]], dtype=int8)"
      ]
     },
     "execution_count": 134,
     "metadata": {},
     "output_type": "execute_result"
    }
   ],
   "source": [
    "a"
   ]
  },
  {
   "cell_type": "code",
   "execution_count": 135,
   "id": "2f20bc26",
   "metadata": {},
   "outputs": [
    {
     "data": {
      "text/plain": [
       "array([[30, 31, 32, 33, 34],\n",
       "       [20, 21, 22, 23, 24],\n",
       "       [10, 11, 12, 13, 14],\n",
       "       [ 0,  1,  2,  3,  4]], dtype=int8)"
      ]
     },
     "execution_count": 135,
     "metadata": {},
     "output_type": "execute_result"
    }
   ],
   "source": [
    "a[::-1]"
   ]
  },
  {
   "cell_type": "code",
   "execution_count": 136,
   "id": "cfe58dd3",
   "metadata": {},
   "outputs": [
    {
     "data": {
      "text/plain": [
       "array([[34, 33, 32, 31, 30],\n",
       "       [24, 23, 22, 21, 20],\n",
       "       [14, 13, 12, 11, 10],\n",
       "       [ 4,  3,  2,  1,  0]], dtype=int8)"
      ]
     },
     "execution_count": 136,
     "metadata": {},
     "output_type": "execute_result"
    }
   ],
   "source": [
    "a[::-1, ::-1]"
   ]
  },
  {
   "cell_type": "code",
   "execution_count": 137,
   "id": "6bf28ef6",
   "metadata": {},
   "outputs": [
    {
     "data": {
      "text/plain": [
       "array([ 0.,  1.,  2.,  3.,  4., 10., 11., 12., 13., 14., 20., 21., 22.,\n",
       "       23., 24., 30., 31., 32., 33., 34.])"
      ]
     },
     "execution_count": 137,
     "metadata": {},
     "output_type": "execute_result"
    }
   ],
   "source": [
    "np.empty(20)"
   ]
  },
  {
   "cell_type": "code",
   "execution_count": 138,
   "id": "4d094065",
   "metadata": {},
   "outputs": [
    {
     "data": {
      "text/plain": [
       "array([ 0.,  1.,  2.,  3.,  4., 10., 11., 12., 13., 14., 20., 21., 22.,\n",
       "       23., 24., 30., 31., 32., 33., 34.])"
      ]
     },
     "execution_count": 138,
     "metadata": {},
     "output_type": "execute_result"
    }
   ],
   "source": [
    "np.empty(20)"
   ]
  },
  {
   "cell_type": "code",
   "execution_count": 139,
   "id": "2cb22c27",
   "metadata": {},
   "outputs": [
    {
     "data": {
      "text/plain": [
       "array([0.0e+000, 4.9e-324, 9.9e-324, 1.5e-323, 2.0e-323, 2.5e-323,\n",
       "       3.0e-323, 3.5e-323, 4.0e-323, 4.4e-323])"
      ]
     },
     "execution_count": 139,
     "metadata": {},
     "output_type": "execute_result"
    }
   ],
   "source": [
    "np.empty(10)"
   ]
  },
  {
   "cell_type": "code",
   "execution_count": 140,
   "id": "66930482",
   "metadata": {},
   "outputs": [
    {
     "data": {
      "text/plain": [
       "(4, 5)"
      ]
     },
     "execution_count": 140,
     "metadata": {},
     "output_type": "execute_result"
    }
   ],
   "source": [
    "a.shape"
   ]
  },
  {
   "cell_type": "code",
   "execution_count": 142,
   "id": "e9c10835",
   "metadata": {},
   "outputs": [
    {
     "name": "stdout",
     "output_type": "stream",
     "text": [
      "[1 1 1 1]\n",
      "[3 3 3 3]\n"
     ]
    }
   ],
   "source": [
    "b = np.empty(4, dtype=a.dtype)\n",
    "print(b)\n",
    "b.fill(3)\n",
    "print(b)"
   ]
  },
  {
   "cell_type": "code",
   "execution_count": 143,
   "id": "a680d61e",
   "metadata": {},
   "outputs": [
    {
     "data": {
      "text/plain": [
       "array([[30, 31, 32, 33, 34],\n",
       "       [30, 31, 32, 33, 34],\n",
       "       [30, 31, 32, 33, 34],\n",
       "       [30, 31, 32, 33, 34]], dtype=int8)"
      ]
     },
     "execution_count": 143,
     "metadata": {},
     "output_type": "execute_result"
    }
   ],
   "source": [
    "a[b]"
   ]
  },
  {
   "cell_type": "code",
   "execution_count": 144,
   "id": "2e9f09ae",
   "metadata": {},
   "outputs": [
    {
     "data": {
      "text/plain": [
       "array([[ 0,  1,  2,  3,  4],\n",
       "       [10, 11, 12, 13, 14],\n",
       "       [20, 21, 22, 23, 24],\n",
       "       [30, 31, 32, 33, 34]], dtype=int8)"
      ]
     },
     "execution_count": 144,
     "metadata": {},
     "output_type": "execute_result"
    }
   ],
   "source": [
    "a"
   ]
  },
  {
   "cell_type": "code",
   "execution_count": 145,
   "id": "fa398e57",
   "metadata": {},
   "outputs": [
    {
     "data": {
      "text/plain": [
       "array([3, 3, 3, 3], dtype=int8)"
      ]
     },
     "execution_count": 145,
     "metadata": {},
     "output_type": "execute_result"
    }
   ],
   "source": [
    "b"
   ]
  },
  {
   "cell_type": "code",
   "execution_count": 146,
   "id": "c22da1fc",
   "metadata": {},
   "outputs": [
    {
     "name": "stdout",
     "output_type": "stream",
     "text": [
      "[1 1 1]\n"
     ]
    }
   ],
   "source": [
    "c = np.empty(3, dtype=np.int8)\n",
    "print(c)"
   ]
  },
  {
   "cell_type": "code",
   "execution_count": 147,
   "id": "99ea4d5d",
   "metadata": {},
   "outputs": [
    {
     "data": {
      "text/plain": [
       "array([[10, 11, 12, 13, 14],\n",
       "       [10, 11, 12, 13, 14],\n",
       "       [10, 11, 12, 13, 14]], dtype=int8)"
      ]
     },
     "execution_count": 147,
     "metadata": {},
     "output_type": "execute_result"
    }
   ],
   "source": [
    "a[c]"
   ]
  },
  {
   "cell_type": "code",
   "execution_count": 148,
   "id": "5a269889",
   "metadata": {},
   "outputs": [
    {
     "name": "stdout",
     "output_type": "stream",
     "text": [
      "[3 1 2]\n"
     ]
    }
   ],
   "source": [
    "c = np.array([3, 1, 2], dtype=np.int8)\n",
    "print(c)"
   ]
  },
  {
   "cell_type": "code",
   "execution_count": 149,
   "id": "de219195",
   "metadata": {},
   "outputs": [
    {
     "data": {
      "text/plain": [
       "array([[30, 31, 32, 33, 34],\n",
       "       [10, 11, 12, 13, 14],\n",
       "       [20, 21, 22, 23, 24]], dtype=int8)"
      ]
     },
     "execution_count": 149,
     "metadata": {},
     "output_type": "execute_result"
    }
   ],
   "source": [
    "a[c]"
   ]
  },
  {
   "cell_type": "code",
   "execution_count": 150,
   "id": "6299dbf8",
   "metadata": {},
   "outputs": [
    {
     "data": {
      "text/plain": [
       "array([[ 0,  1,  2,  3,  4],\n",
       "       [10, 11, 12, 13, 14],\n",
       "       [20, 21, 22, 23, 24],\n",
       "       [30, 31, 32, 33, 34]], dtype=int8)"
      ]
     },
     "execution_count": 150,
     "metadata": {},
     "output_type": "execute_result"
    }
   ],
   "source": [
    "a"
   ]
  },
  {
   "cell_type": "code",
   "execution_count": 152,
   "id": "135c937a",
   "metadata": {},
   "outputs": [
    {
     "data": {
      "text/plain": [
       "array([[[ 0,  1,  2,  3,  4,  5],\n",
       "        [ 6,  7,  8,  9, 10, 11],\n",
       "        [12, 13, 14, 15, 16, 17],\n",
       "        [18, 19, 20, 21, 22, 23]],\n",
       "\n",
       "       [[24, 25, 26, 27, 28, 29],\n",
       "        [30, 31, 32, 33, 34, 35],\n",
       "        [36, 37, 38, 39, 40, 41],\n",
       "        [42, 43, 44, 45, 46, 47]]])"
      ]
     },
     "execution_count": 152,
     "metadata": {},
     "output_type": "execute_result"
    }
   ],
   "source": [
    "SHAPE_3D = (2, 4, 6)\n",
    "a = np.arange(48).reshape(SHAPE_3D)\n",
    "a"
   ]
  },
  {
   "cell_type": "code",
   "execution_count": 153,
   "id": "30942a30",
   "metadata": {},
   "outputs": [
    {
     "name": "stdout",
     "output_type": "stream",
     "text": [
      "3\n",
      "48\n",
      "(2, 4, 6)\n"
     ]
    }
   ],
   "source": [
    "print(a.ndim)\n",
    "print(a.size)\n",
    "print(a.shape)"
   ]
  },
  {
   "cell_type": "code",
   "execution_count": 154,
   "id": "b7fc44eb",
   "metadata": {},
   "outputs": [
    {
     "data": {
      "text/plain": [
       "array([[ 5, 11, 17, 23],\n",
       "       [29, 35, 41, 47]])"
      ]
     },
     "execution_count": 154,
     "metadata": {},
     "output_type": "execute_result"
    }
   ],
   "source": [
    "a[:, :, 5]"
   ]
  },
  {
   "cell_type": "code",
   "execution_count": 155,
   "id": "95ac52d0",
   "metadata": {},
   "outputs": [
    {
     "data": {
      "text/plain": [
       "array([[ 5, 11, 17, 23],\n",
       "       [29, 35, 41, 47]])"
      ]
     },
     "execution_count": 155,
     "metadata": {},
     "output_type": "execute_result"
    }
   ],
   "source": [
    "a[..., 5]"
   ]
  },
  {
   "cell_type": "code",
   "execution_count": 156,
   "id": "71bea5fe",
   "metadata": {},
   "outputs": [
    {
     "name": "stdout",
     "output_type": "stream",
     "text": [
      "(2, 3, 4, 5, 6)\n"
     ]
    }
   ],
   "source": [
    "SHAPE_5D = tuple(range(2, 7))\n",
    "print(SHAPE_5D)"
   ]
  },
  {
   "cell_type": "code",
   "execution_count": 157,
   "id": "fab68f60",
   "metadata": {},
   "outputs": [
    {
     "name": "stdout",
     "output_type": "stream",
     "text": [
      "[[[[[     0      0      0      0     39      0]\n",
      "    [     0      0      0      0      0      0]\n",
      "    [ 18471   1046      1      0      0      0]\n",
      "    [     0      0      0      0      0      0]\n",
      "    [    -1     -1     -1     -1      0      0]]\n",
      "\n",
      "   [[     0      0      1      0   5119   8191]\n",
      "    [     0      0      0      0      9      0]\n",
      "    [     0      0 -10200   1816      1      0]\n",
      "    [ 14700   2689      1      0     -1     -1]\n",
      "    [    -1     -1      0      0      0      0]]\n",
      "\n",
      "   [[    -1     -1     -1     -1      0      0]\n",
      "    [     0      0      1      0      1      0]\n",
      "    [    72      0      0      0     11      0]\n",
      "    [     0      0 -10200   1816      1      0]\n",
      "    [ 14716   2689      1      0      1      0]]\n",
      "\n",
      "   [[     0      0     28      0      0      0]\n",
      "    [    -1     -1     -1     -1      0      0]\n",
      "    [     0      0      1      0      1      0]\n",
      "    [   144      0      0      0     11      0]\n",
      "    [     0      0 -10200   1816      1      0]]]\n",
      "\n",
      "\n",
      "  [[[ 14724   2689      1      0      0      0]\n",
      "    [     0      0     28      0      0      0]\n",
      "    [    -1     -1     -1     -1     10      0]\n",
      "    [     0      0      1      0      1      0]\n",
      "    [   216      0      0      0      8      0]]\n",
      "\n",
      "   [[     0      0 -10199   1816      1      0]\n",
      "    [ 17976   2689      1      0    360  10869]\n",
      "    [     1      0     26      0      0      0]\n",
      "    [    -1     -1     -1     -1      0      0]\n",
      "    [     0      0      1      0      1      0]]\n",
      "\n",
      "   [[   288      0      0      0     11      0]\n",
      "    [     0      0 -10200   1816      1      0]\n",
      "    [ 12572   2689      1      0    364  10869]\n",
      "    [     1      0     16      0      0      0]\n",
      "    [    -1     -1     -1     -1      0      0]]\n",
      "\n",
      "   [[     0      0      1      0      1      0]\n",
      "    [   360      0      0      0     11      0]\n",
      "    [     0      0 -13856   1817      1      0]\n",
      "    [ 12472   2689      1      0      1      0]\n",
      "    [     0      0     26      0      0      0]]]\n",
      "\n",
      "\n",
      "  [[[    -1     -1     -1     -1  -4592   1807]\n",
      "    [     1      0      1      0      0      0]\n",
      "    [   432      0      0      0      3      0]\n",
      "    [     0      0  -9688   1816      1      0]\n",
      "    [ 17976   2689      1      0      0      0]]\n",
      "\n",
      "   [[     0      0      0      0      0      0]\n",
      "    [     0      0      0      0      0      0]\n",
      "    [     0      0      1      0      0      0]\n",
      "    [     0      0      0      0  -9689   1816]\n",
      "    [     1      0      0      0      0      0]]\n",
      "\n",
      "   [[     0      0      0      0      0      0]\n",
      "    [     0      0      0      0      0      0]\n",
      "    [     0      0      0      0      0      0]\n",
      "    [     0      0      0      0      0      0]\n",
      "    [     0      0      0      0      0      0]]\n",
      "\n",
      "   [[     0      0      0      0      0      0]\n",
      "    [     0      0      0      0      0      0]\n",
      "    [     0      0      0      0      0      0]\n",
      "    [     0      0      0      0      0      0]\n",
      "    [     0      0  -9689   1816      1      0]]]]\n",
      "\n",
      "\n",
      "\n",
      " [[[[     0      0      0      0    432      0]\n",
      "    [     0      0      2      0      0      0]\n",
      "    [ -9689   1816      1      0  14588   2689]\n",
      "    [     1      0     -1     -1     -1     -1]\n",
      "    [    26      0      0      0     -1     -1]]\n",
      "\n",
      "   [[    -1     -1  -9688   1816      1      0]\n",
      "    [     1      0      1      0    728      0]\n",
      "    [     0      0      9      0      0      0]\n",
      "    [ -9688   1816      1      0  14616   2689]\n",
      "    [     1      0      1      0      1      0]]\n",
      "\n",
      "   [[-22796  19044      1      0      0      0]\n",
      "    [     0      0      1      0      0      0]\n",
      "    [     1      0      0      0  -4784   1807]\n",
      "    [     1      0      1      0      0      0]\n",
      "    [ -2368   1815      1      0  -2349   1815]]\n",
      "\n",
      "   [[     1      0  -2349   1815      1      0]\n",
      "    [ -2345   1815      1      0      0      0]\n",
      "    [     0      0    816      0      0      0]\n",
      "    [     2      0      0      0  -2345   1815]\n",
      "    [     1      0 -22996  19044      1      0]]]\n",
      "\n",
      "\n",
      "  [[[     0      0      0      0      4      0]\n",
      "    [     0      0      2      0      0      0]\n",
      "    [ -4784   1807      1      0      1      0]\n",
      "    [     0      0  -2368   1815      1      0]\n",
      "    [ -2349   1815      1      0  -2349   1815]]\n",
      "\n",
      "   [[     1      0  -2345   1815      1      0]\n",
      "    [ -2345   1815      1      0    928      0]\n",
      "    [     0      0     11      0      0      0]\n",
      "    [ -2344   1815      1      0 -22796  19044]\n",
      "    [     1      0      1      0      0      0]]\n",
      "\n",
      "   [[-22194   1813      1      0 -22193   1813]\n",
      "    [     1      0  -4784   1807      1      0]\n",
      "    [     1      0      0      0   1040      0]\n",
      "    [     0      0      3      0      0      0]\n",
      "    [ -2344   1815      1      0 -22784  19044]]\n",
      "\n",
      "   [[     1      0     -1     -1     -1     -1]\n",
      "    [  3710 -20466   8168 -15026      1      0]\n",
      "    [     1      0   1096      0      0      0]\n",
      "    [     1      0      0      0 -22192   1813]\n",
      "    [     1      0  14616   2689      1      0]]]\n",
      "\n",
      "\n",
      "  [[[  3055 -29800   6173 -24823  -6880   1004]\n",
      "    [     1      0  16432    651      1      0]\n",
      "    [ 26853  -9691  18976 -20295      1      0]\n",
      "    [     1      0  16432    651      1      0]\n",
      "    [ -5623 -14768 -10081   6460  -6720   1004]]\n",
      "\n",
      "   [[     1      0  16432    651      1      0]\n",
      "    [ -6528 -17375  12545  -8902  -6560   1004]\n",
      "    [     1      0  16432    651      1      0]\n",
      "    [  -127 -19543  -7857  -8830  23424   1005]\n",
      "    [     1      0  16432    651      1      0]]\n",
      "\n",
      "   [[-19111 -23682 -19426 -25520  -6240   1004]\n",
      "    [     1      0  16432    651      1      0]\n",
      "    [ 20687 -15626   7476 -32007  -5680   1004]\n",
      "    [     1      0  16432    651      1      0]\n",
      "    [ -8334 -31312  -1680   1081  -5600   1004]]\n",
      "\n",
      "   [[     1      0  16432    651      1      0]\n",
      "    [ 16665 -10184  23881  21648  -5360   1004]\n",
      "    [     1      0  16432    651      1      0]\n",
      "    [  1387   3194 -10882  19000  -5120   1004]\n",
      "    [     1      0  16432    651      1      0]]]]]\n"
     ]
    }
   ],
   "source": [
    "a = np.empty(SHAPE_5D, dtype=np.int16)\n",
    "print(a)"
   ]
  },
  {
   "cell_type": "code",
   "execution_count": 158,
   "id": "7506fd74",
   "metadata": {},
   "outputs": [
    {
     "name": "stdout",
     "output_type": "stream",
     "text": [
      "5\n",
      "720\n",
      "(2, 3, 4, 5, 6)\n"
     ]
    }
   ],
   "source": [
    "print(a.ndim)\n",
    "print(a.size)\n",
    "print(a.shape)"
   ]
  },
  {
   "cell_type": "code",
   "execution_count": 159,
   "id": "0bc26f99",
   "metadata": {},
   "outputs": [
    {
     "data": {
      "text/plain": [
       "array([[[    0,     0,  2689,    -1,    -1],\n",
       "        [    0,     0,     0,  2689,     0],\n",
       "        [    0,     0,  1807,     0,  1815],\n",
       "        [    0,     0,     0,  1815,     0]],\n",
       "\n",
       "       [[    0,     0,     0,     0,  1815],\n",
       "        [    0,     0,     0, 19044,     0],\n",
       "        [ 1813,     0,     0,     0, 19044],\n",
       "        [   -1,     0,     0,  1813,     0]],\n",
       "\n",
       "       [[ 1004,     0,     0,     0,  1004],\n",
       "        [    0,  1004,     0,  1005,     0],\n",
       "        [ 1004,     0,  1004,     0,  1004],\n",
       "        [    0,  1004,     0,  1004,     0]]], dtype=int16)"
      ]
     },
     "execution_count": 159,
     "metadata": {},
     "output_type": "execute_result"
    }
   ],
   "source": [
    "a[1, ..., 5]"
   ]
  },
  {
   "cell_type": "code",
   "execution_count": 160,
   "id": "83bba528",
   "metadata": {},
   "outputs": [
    {
     "data": {
      "text/plain": [
       "(3, 4, 5)"
      ]
     },
     "execution_count": 160,
     "metadata": {},
     "output_type": "execute_result"
    }
   ],
   "source": [
    "(a[1, ..., 5]).shape"
   ]
  },
  {
   "cell_type": "code",
   "execution_count": 161,
   "id": "c628c48b",
   "metadata": {},
   "outputs": [
    {
     "name": "stdout",
     "output_type": "stream",
     "text": [
      "[[[[[  0   1   2   3   4   5]\n",
      "    [  6   7   8   9  10  11]\n",
      "    [ 12  13  14  15  16  17]\n",
      "    [ 18  19  20  21  22  23]\n",
      "    [ 24  25  26  27  28  29]]\n",
      "\n",
      "   [[ 30  31  32  33  34  35]\n",
      "    [ 36  37  38  39  40  41]\n",
      "    [ 42  43  44  45  46  47]\n",
      "    [ 48  49  50  51  52  53]\n",
      "    [ 54  55  56  57  58  59]]\n",
      "\n",
      "   [[ 60  61  62  63  64  65]\n",
      "    [ 66  67  68  69  70  71]\n",
      "    [ 72  73  74  75  76  77]\n",
      "    [ 78  79  80  81  82  83]\n",
      "    [ 84  85  86  87  88  89]]\n",
      "\n",
      "   [[ 90  91  92  93  94  95]\n",
      "    [ 96  97  98  99 100 101]\n",
      "    [102 103 104 105 106 107]\n",
      "    [108 109 110 111 112 113]\n",
      "    [114 115 116 117 118 119]]]\n",
      "\n",
      "\n",
      "  [[[120 121 122 123 124 125]\n",
      "    [126 127 128 129 130 131]\n",
      "    [132 133 134 135 136 137]\n",
      "    [138 139 140 141 142 143]\n",
      "    [144 145 146 147 148 149]]\n",
      "\n",
      "   [[150 151 152 153 154 155]\n",
      "    [156 157 158 159 160 161]\n",
      "    [162 163 164 165 166 167]\n",
      "    [168 169 170 171 172 173]\n",
      "    [174 175 176 177 178 179]]\n",
      "\n",
      "   [[180 181 182 183 184 185]\n",
      "    [186 187 188 189 190 191]\n",
      "    [192 193 194 195 196 197]\n",
      "    [198 199 200 201 202 203]\n",
      "    [204 205 206 207 208 209]]\n",
      "\n",
      "   [[210 211 212 213 214 215]\n",
      "    [216 217 218 219 220 221]\n",
      "    [222 223 224 225 226 227]\n",
      "    [228 229 230 231 232 233]\n",
      "    [234 235 236 237 238 239]]]\n",
      "\n",
      "\n",
      "  [[[240 241 242 243 244 245]\n",
      "    [246 247 248 249 250 251]\n",
      "    [252 253 254 255 256 257]\n",
      "    [258 259 260 261 262 263]\n",
      "    [264 265 266 267 268 269]]\n",
      "\n",
      "   [[270 271 272 273 274 275]\n",
      "    [276 277 278 279 280 281]\n",
      "    [282 283 284 285 286 287]\n",
      "    [288 289 290 291 292 293]\n",
      "    [294 295 296 297 298 299]]\n",
      "\n",
      "   [[300 301 302 303 304 305]\n",
      "    [306 307 308 309 310 311]\n",
      "    [312 313 314 315 316 317]\n",
      "    [318 319 320 321 322 323]\n",
      "    [324 325 326 327 328 329]]\n",
      "\n",
      "   [[330 331 332 333 334 335]\n",
      "    [336 337 338 339 340 341]\n",
      "    [342 343 344 345 346 347]\n",
      "    [348 349 350 351 352 353]\n",
      "    [354 355 356 357 358 359]]]]\n",
      "\n",
      "\n",
      "\n",
      " [[[[360 361 362 363 364 365]\n",
      "    [366 367 368 369 370 371]\n",
      "    [372 373 374 375 376 377]\n",
      "    [378 379 380 381 382 383]\n",
      "    [384 385 386 387 388 389]]\n",
      "\n",
      "   [[390 391 392 393 394 395]\n",
      "    [396 397 398 399 400 401]\n",
      "    [402 403 404 405 406 407]\n",
      "    [408 409 410 411 412 413]\n",
      "    [414 415 416 417 418 419]]\n",
      "\n",
      "   [[420 421 422 423 424 425]\n",
      "    [426 427 428 429 430 431]\n",
      "    [432 433 434 435 436 437]\n",
      "    [438 439 440 441 442 443]\n",
      "    [444 445 446 447 448 449]]\n",
      "\n",
      "   [[450 451 452 453 454 455]\n",
      "    [456 457 458 459 460 461]\n",
      "    [462 463 464 465 466 467]\n",
      "    [468 469 470 471 472 473]\n",
      "    [474 475 476 477 478 479]]]\n",
      "\n",
      "\n",
      "  [[[480 481 482 483 484 485]\n",
      "    [486 487 488 489 490 491]\n",
      "    [492 493 494 495 496 497]\n",
      "    [498 499 500 501 502 503]\n",
      "    [504 505 506 507 508 509]]\n",
      "\n",
      "   [[510 511 512 513 514 515]\n",
      "    [516 517 518 519 520 521]\n",
      "    [522 523 524 525 526 527]\n",
      "    [528 529 530 531 532 533]\n",
      "    [534 535 536 537 538 539]]\n",
      "\n",
      "   [[540 541 542 543 544 545]\n",
      "    [546 547 548 549 550 551]\n",
      "    [552 553 554 555 556 557]\n",
      "    [558 559 560 561 562 563]\n",
      "    [564 565 566 567 568 569]]\n",
      "\n",
      "   [[570 571 572 573 574 575]\n",
      "    [576 577 578 579 580 581]\n",
      "    [582 583 584 585 586 587]\n",
      "    [588 589 590 591 592 593]\n",
      "    [594 595 596 597 598 599]]]\n",
      "\n",
      "\n",
      "  [[[600 601 602 603 604 605]\n",
      "    [606 607 608 609 610 611]\n",
      "    [612 613 614 615 616 617]\n",
      "    [618 619 620 621 622 623]\n",
      "    [624 625 626 627 628 629]]\n",
      "\n",
      "   [[630 631 632 633 634 635]\n",
      "    [636 637 638 639 640 641]\n",
      "    [642 643 644 645 646 647]\n",
      "    [648 649 650 651 652 653]\n",
      "    [654 655 656 657 658 659]]\n",
      "\n",
      "   [[660 661 662 663 664 665]\n",
      "    [666 667 668 669 670 671]\n",
      "    [672 673 674 675 676 677]\n",
      "    [678 679 680 681 682 683]\n",
      "    [684 685 686 687 688 689]]\n",
      "\n",
      "   [[690 691 692 693 694 695]\n",
      "    [696 697 698 699 700 701]\n",
      "    [702 703 704 705 706 707]\n",
      "    [708 709 710 711 712 713]\n",
      "    [714 715 716 717 718 719]]]]]\n"
     ]
    }
   ],
   "source": [
    "a = np.arange(a.size).reshape(a.shape)\n",
    "print(a)"
   ]
  },
  {
   "cell_type": "code",
   "execution_count": 163,
   "id": "c549dea9",
   "metadata": {},
   "outputs": [
    {
     "name": "stdout",
     "output_type": "stream",
     "text": [
      "[[[  3   9  15  21  27]\n",
      "  [ 33  39  45  51  57]\n",
      "  [ 63  69  75  81  87]\n",
      "  [ 93  99 105 111 117]]\n",
      "\n",
      " [[123 129 135 141 147]\n",
      "  [153 159 165 171 177]\n",
      "  [183 189 195 201 207]\n",
      "  [213 219 225 231 237]]\n",
      "\n",
      " [[243 249 255 261 267]\n",
      "  [273 279 285 291 297]\n",
      "  [303 309 315 321 327]\n",
      "  [333 339 345 351 357]]]\n"
     ]
    }
   ],
   "source": [
    "print(a[0, ..., 3])"
   ]
  },
  {
   "cell_type": "code",
   "execution_count": 164,
   "id": "7fb5fa19",
   "metadata": {},
   "outputs": [
    {
     "name": "stdout",
     "output_type": "stream",
     "text": [
      "[[[[  1   2]\n",
      "   [  7   8]\n",
      "   [ 13  14]\n",
      "   [ 19  20]\n",
      "   [ 25  26]]\n",
      "\n",
      "  [[ 31  32]\n",
      "   [ 37  38]\n",
      "   [ 43  44]\n",
      "   [ 49  50]\n",
      "   [ 55  56]]\n",
      "\n",
      "  [[ 61  62]\n",
      "   [ 67  68]\n",
      "   [ 73  74]\n",
      "   [ 79  80]\n",
      "   [ 85  86]]\n",
      "\n",
      "  [[ 91  92]\n",
      "   [ 97  98]\n",
      "   [103 104]\n",
      "   [109 110]\n",
      "   [115 116]]]\n",
      "\n",
      "\n",
      " [[[121 122]\n",
      "   [127 128]\n",
      "   [133 134]\n",
      "   [139 140]\n",
      "   [145 146]]\n",
      "\n",
      "  [[151 152]\n",
      "   [157 158]\n",
      "   [163 164]\n",
      "   [169 170]\n",
      "   [175 176]]\n",
      "\n",
      "  [[181 182]\n",
      "   [187 188]\n",
      "   [193 194]\n",
      "   [199 200]\n",
      "   [205 206]]\n",
      "\n",
      "  [[211 212]\n",
      "   [217 218]\n",
      "   [223 224]\n",
      "   [229 230]\n",
      "   [235 236]]]\n",
      "\n",
      "\n",
      " [[[241 242]\n",
      "   [247 248]\n",
      "   [253 254]\n",
      "   [259 260]\n",
      "   [265 266]]\n",
      "\n",
      "  [[271 272]\n",
      "   [277 278]\n",
      "   [283 284]\n",
      "   [289 290]\n",
      "   [295 296]]\n",
      "\n",
      "  [[301 302]\n",
      "   [307 308]\n",
      "   [313 314]\n",
      "   [319 320]\n",
      "   [325 326]]\n",
      "\n",
      "  [[331 332]\n",
      "   [337 338]\n",
      "   [343 344]\n",
      "   [349 350]\n",
      "   [355 356]]]]\n"
     ]
    }
   ],
   "source": [
    "print(a[0, ..., 1:3])"
   ]
  },
  {
   "cell_type": "code",
   "execution_count": 165,
   "id": "deaea4e2",
   "metadata": {},
   "outputs": [
    {
     "data": {
      "text/plain": [
       "(3, 4, 5, 2)"
      ]
     },
     "execution_count": 165,
     "metadata": {},
     "output_type": "execute_result"
    }
   ],
   "source": [
    "(a[0, ..., 1:3]).shape"
   ]
  },
  {
   "cell_type": "code",
   "execution_count": 166,
   "id": "bce36dad",
   "metadata": {},
   "outputs": [
    {
     "data": {
      "text/plain": [
       "array([[[[[   0,    3,    6,    9,   12,   15],\n",
       "          [  18,   21,   24,   27,   30,   33],\n",
       "          [  36,   39,   42,   45,   48,   51],\n",
       "          [  54,   57,   60,   63,   66,   69],\n",
       "          [  72,   75,   78,   81,   84,   87]],\n",
       "\n",
       "         [[  90,   93,   96,   99,  102,  105],\n",
       "          [ 108,  111,  114,  117,  120,  123],\n",
       "          [ 126,  129,  132,  135,  138,  141],\n",
       "          [ 144,  147,  150,  153,  156,  159],\n",
       "          [ 162,  165,  168,  171,  174,  177]],\n",
       "\n",
       "         [[ 180,  183,  186,  189,  192,  195],\n",
       "          [ 198,  201,  204,  207,  210,  213],\n",
       "          [ 216,  219,  222,  225,  228,  231],\n",
       "          [ 234,  237,  240,  243,  246,  249],\n",
       "          [ 252,  255,  258,  261,  264,  267]],\n",
       "\n",
       "         [[ 270,  273,  276,  279,  282,  285],\n",
       "          [ 288,  291,  294,  297,  300,  303],\n",
       "          [ 306,  309,  312,  315,  318,  321],\n",
       "          [ 324,  327,  330,  333,  336,  339],\n",
       "          [ 342,  345,  348,  351,  354,  357]]],\n",
       "\n",
       "\n",
       "        [[[ 360,  363,  366,  369,  372,  375],\n",
       "          [ 378,  381,  384,  387,  390,  393],\n",
       "          [ 396,  399,  402,  405,  408,  411],\n",
       "          [ 414,  417,  420,  423,  426,  429],\n",
       "          [ 432,  435,  438,  441,  444,  447]],\n",
       "\n",
       "         [[ 450,  453,  456,  459,  462,  465],\n",
       "          [ 468,  471,  474,  477,  480,  483],\n",
       "          [ 486,  489,  492,  495,  498,  501],\n",
       "          [ 504,  507,  510,  513,  516,  519],\n",
       "          [ 522,  525,  528,  531,  534,  537]],\n",
       "\n",
       "         [[ 540,  543,  546,  549,  552,  555],\n",
       "          [ 558,  561,  564,  567,  570,  573],\n",
       "          [ 576,  579,  582,  585,  588,  591],\n",
       "          [ 594,  597,  600,  603,  606,  609],\n",
       "          [ 612,  615,  618,  621,  624,  627]],\n",
       "\n",
       "         [[ 630,  633,  636,  639,  642,  645],\n",
       "          [ 648,  651,  654,  657,  660,  663],\n",
       "          [ 666,  669,  672,  675,  678,  681],\n",
       "          [ 684,  687,  690,  693,  696,  699],\n",
       "          [ 702,  705,  708,  711,  714,  717]]],\n",
       "\n",
       "\n",
       "        [[[ 720,  723,  726,  729,  732,  735],\n",
       "          [ 738,  741,  744,  747,  750,  753],\n",
       "          [ 756,  759,  762,  765,  768,  771],\n",
       "          [ 774,  777,  780,  783,  786,  789],\n",
       "          [ 792,  795,  798,  801,  804,  807]],\n",
       "\n",
       "         [[ 810,  813,  816,  819,  822,  825],\n",
       "          [ 828,  831,  834,  837,  840,  843],\n",
       "          [ 846,  849,  852,  855,  858,  861],\n",
       "          [ 864,  867,  870,  873,  876,  879],\n",
       "          [ 882,  885,  888,  891,  894,  897]],\n",
       "\n",
       "         [[ 900,  903,  906,  909,  912,  915],\n",
       "          [ 918,  921,  924,  927,  930,  933],\n",
       "          [ 936,  939,  942,  945,  948,  951],\n",
       "          [ 954,  957,  960,  963,  966,  969],\n",
       "          [ 972,  975,  978,  981,  984,  987]],\n",
       "\n",
       "         [[ 990,  993,  996,  999, 1002, 1005],\n",
       "          [1008, 1011, 1014, 1017, 1020, 1023],\n",
       "          [1026, 1029, 1032, 1035, 1038, 1041],\n",
       "          [1044, 1047, 1050, 1053, 1056, 1059],\n",
       "          [1062, 1065, 1068, 1071, 1074, 1077]]]],\n",
       "\n",
       "\n",
       "\n",
       "       [[[[1080, 1083, 1086, 1089, 1092, 1095],\n",
       "          [1098, 1101, 1104, 1107, 1110, 1113],\n",
       "          [1116, 1119, 1122, 1125, 1128, 1131],\n",
       "          [1134, 1137, 1140, 1143, 1146, 1149],\n",
       "          [1152, 1155, 1158, 1161, 1164, 1167]],\n",
       "\n",
       "         [[1170, 1173, 1176, 1179, 1182, 1185],\n",
       "          [1188, 1191, 1194, 1197, 1200, 1203],\n",
       "          [1206, 1209, 1212, 1215, 1218, 1221],\n",
       "          [1224, 1227, 1230, 1233, 1236, 1239],\n",
       "          [1242, 1245, 1248, 1251, 1254, 1257]],\n",
       "\n",
       "         [[1260, 1263, 1266, 1269, 1272, 1275],\n",
       "          [1278, 1281, 1284, 1287, 1290, 1293],\n",
       "          [1296, 1299, 1302, 1305, 1308, 1311],\n",
       "          [1314, 1317, 1320, 1323, 1326, 1329],\n",
       "          [1332, 1335, 1338, 1341, 1344, 1347]],\n",
       "\n",
       "         [[1350, 1353, 1356, 1359, 1362, 1365],\n",
       "          [1368, 1371, 1374, 1377, 1380, 1383],\n",
       "          [1386, 1389, 1392, 1395, 1398, 1401],\n",
       "          [1404, 1407, 1410, 1413, 1416, 1419],\n",
       "          [1422, 1425, 1428, 1431, 1434, 1437]]],\n",
       "\n",
       "\n",
       "        [[[1440, 1443, 1446, 1449, 1452, 1455],\n",
       "          [1458, 1461, 1464, 1467, 1470, 1473],\n",
       "          [1476, 1479, 1482, 1485, 1488, 1491],\n",
       "          [1494, 1497, 1500, 1503, 1506, 1509],\n",
       "          [1512, 1515, 1518, 1521, 1524, 1527]],\n",
       "\n",
       "         [[1530, 1533, 1536, 1539, 1542, 1545],\n",
       "          [1548, 1551, 1554, 1557, 1560, 1563],\n",
       "          [1566, 1569, 1572, 1575, 1578, 1581],\n",
       "          [1584, 1587, 1590, 1593, 1596, 1599],\n",
       "          [1602, 1605, 1608, 1611, 1614, 1617]],\n",
       "\n",
       "         [[1620, 1623, 1626, 1629, 1632, 1635],\n",
       "          [1638, 1641, 1644, 1647, 1650, 1653],\n",
       "          [1656, 1659, 1662, 1665, 1668, 1671],\n",
       "          [1674, 1677, 1680, 1683, 1686, 1689],\n",
       "          [1692, 1695, 1698, 1701, 1704, 1707]],\n",
       "\n",
       "         [[1710, 1713, 1716, 1719, 1722, 1725],\n",
       "          [1728, 1731, 1734, 1737, 1740, 1743],\n",
       "          [1746, 1749, 1752, 1755, 1758, 1761],\n",
       "          [1764, 1767, 1770, 1773, 1776, 1779],\n",
       "          [1782, 1785, 1788, 1791, 1794, 1797]]],\n",
       "\n",
       "\n",
       "        [[[1800, 1803, 1806, 1809, 1812, 1815],\n",
       "          [1818, 1821, 1824, 1827, 1830, 1833],\n",
       "          [1836, 1839, 1842, 1845, 1848, 1851],\n",
       "          [1854, 1857, 1860, 1863, 1866, 1869],\n",
       "          [1872, 1875, 1878, 1881, 1884, 1887]],\n",
       "\n",
       "         [[1890, 1893, 1896, 1899, 1902, 1905],\n",
       "          [1908, 1911, 1914, 1917, 1920, 1923],\n",
       "          [1926, 1929, 1932, 1935, 1938, 1941],\n",
       "          [1944, 1947, 1950, 1953, 1956, 1959],\n",
       "          [1962, 1965, 1968, 1971, 1974, 1977]],\n",
       "\n",
       "         [[1980, 1983, 1986, 1989, 1992, 1995],\n",
       "          [1998, 2001, 2004, 2007, 2010, 2013],\n",
       "          [2016, 2019, 2022, 2025, 2028, 2031],\n",
       "          [2034, 2037, 2040, 2043, 2046, 2049],\n",
       "          [2052, 2055, 2058, 2061, 2064, 2067]],\n",
       "\n",
       "         [[2070, 2073, 2076, 2079, 2082, 2085],\n",
       "          [2088, 2091, 2094, 2097, 2100, 2103],\n",
       "          [2106, 2109, 2112, 2115, 2118, 2121],\n",
       "          [2124, 2127, 2130, 2133, 2136, 2139],\n",
       "          [2142, 2145, 2148, 2151, 2154, 2157]]]]])"
      ]
     },
     "execution_count": 166,
     "metadata": {},
     "output_type": "execute_result"
    }
   ],
   "source": [
    "a * 3"
   ]
  },
  {
   "cell_type": "code",
   "execution_count": null,
   "id": "a8a2a1a7",
   "metadata": {},
   "outputs": [],
   "source": []
  },
  {
   "cell_type": "code",
   "execution_count": null,
   "id": "a7a8de33",
   "metadata": {},
   "outputs": [],
   "source": []
  },
  {
   "cell_type": "code",
   "execution_count": null,
   "id": "5ba04168",
   "metadata": {},
   "outputs": [],
   "source": []
  }
 ],
 "metadata": {
  "kernelspec": {
   "display_name": "Python 3 (ipykernel)",
   "language": "python",
   "name": "python3"
  },
  "language_info": {
   "codemirror_mode": {
    "name": "ipython",
    "version": 3
   },
   "file_extension": ".py",
   "mimetype": "text/x-python",
   "name": "python",
   "nbconvert_exporter": "python",
   "pygments_lexer": "ipython3",
   "version": "3.10.4"
  }
 },
 "nbformat": 4,
 "nbformat_minor": 5
}
