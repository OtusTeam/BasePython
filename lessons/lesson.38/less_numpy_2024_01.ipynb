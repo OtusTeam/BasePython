{
 "cells": [
  {
   "cell_type": "markdown",
   "id": "3beee22a-5061-4212-91be-0bb837538c2f",
   "metadata": {
    "collapsed": false,
    "jupyter": {
     "outputs_hidden": false
    }
   },
   "source": [
    "## Семинар NumPy"
   ]
  },
  {
   "cell_type": "markdown",
   "id": "77e31a0b-91a3-4a5d-8b15-8caaee619f98",
   "metadata": {},
   "source": [
    "pip install numpy"
   ]
  },
  {
   "cell_type": "code",
   "execution_count": 1,
   "id": "6f9b3728-f67a-47ab-9d70-321c4cee55f5",
   "metadata": {},
   "outputs": [],
   "source": [
    "import numpy as np"
   ]
  },
  {
   "cell_type": "code",
   "execution_count": 3,
   "id": "cf052a5c-33a2-47ec-a97f-c57de8e15728",
   "metadata": {},
   "outputs": [],
   "source": [
    "array1 = np.array([\n",
    "    [1, 2, 3],\n",
    "    [4, 5, 6],\n",
    "    [7, 8, 9],\n",
    "])"
   ]
  },
  {
   "cell_type": "code",
   "execution_count": 4,
   "id": "f034808a-25ee-44d4-80f9-66a95b7ba449",
   "metadata": {},
   "outputs": [
    {
     "data": {
      "text/plain": [
       "array([[1, 2, 3],\n",
       "       [4, 5, 6],\n",
       "       [7, 8, 9]])"
      ]
     },
     "execution_count": 4,
     "metadata": {},
     "output_type": "execute_result"
    }
   ],
   "source": [
    "array1"
   ]
  },
  {
   "cell_type": "code",
   "execution_count": 5,
   "id": "2ef94042-7b1c-43b9-b9bb-0a2ece905bce",
   "metadata": {},
   "outputs": [
    {
     "data": {
      "text/plain": [
       "array([1., 1., 1.])"
      ]
     },
     "execution_count": 5,
     "metadata": {},
     "output_type": "execute_result"
    }
   ],
   "source": [
    "np.ones(3)"
   ]
  },
  {
   "cell_type": "code",
   "execution_count": 6,
   "id": "3091c0b3-b042-4cc2-bef2-e7081462e57b",
   "metadata": {},
   "outputs": [
    {
     "data": {
      "text/plain": [
       "array([0., 0., 0., 0.])"
      ]
     },
     "execution_count": 6,
     "metadata": {},
     "output_type": "execute_result"
    }
   ],
   "source": [
    "np.zeros(4)"
   ]
  },
  {
   "cell_type": "code",
   "execution_count": 7,
   "id": "25f5cbca-de2d-4fea-a77c-c1de22d64f38",
   "metadata": {},
   "outputs": [
    {
     "data": {
      "text/plain": [
       "array([0.23026832, 0.1503466 , 0.34925894, 0.69241732, 0.61690614])"
      ]
     },
     "execution_count": 7,
     "metadata": {},
     "output_type": "execute_result"
    }
   ],
   "source": [
    "np.random.random(5)"
   ]
  },
  {
   "cell_type": "code",
   "execution_count": 8,
   "id": "4d1ef9ed-35ba-4ae6-946b-1881d20d6f76",
   "metadata": {},
   "outputs": [
    {
     "data": {
      "text/plain": [
       "array([10, 15, 20, 25])"
      ]
     },
     "execution_count": 8,
     "metadata": {},
     "output_type": "execute_result"
    }
   ],
   "source": [
    "np.arange(10, 30, 5)"
   ]
  },
  {
   "cell_type": "code",
   "execution_count": 10,
   "id": "42ad571f-92b9-44c5-87cf-b5be9cc4505e",
   "metadata": {},
   "outputs": [
    {
     "data": {
      "text/plain": [
       "array([0.  , 0.25, 0.5 , 0.75, 1.  , 1.25, 1.5 , 1.75, 2.  ])"
      ]
     },
     "execution_count": 10,
     "metadata": {},
     "output_type": "execute_result"
    }
   ],
   "source": [
    "np.linspace(0, 2, 9)"
   ]
  },
  {
   "cell_type": "code",
   "execution_count": 12,
   "id": "b5c0a501-2a77-4d03-b084-842ab81c2534",
   "metadata": {},
   "outputs": [
    {
     "data": {
      "text/plain": [
       "array([[0., 0., 0., 0., 0., 0., 0.],\n",
       "       [0., 0., 0., 0., 0., 0., 0.],\n",
       "       [0., 0., 0., 0., 0., 0., 0.]])"
      ]
     },
     "execution_count": 12,
     "metadata": {},
     "output_type": "execute_result"
    }
   ],
   "source": [
    "np.zeros([3,7])"
   ]
  },
  {
   "cell_type": "code",
   "execution_count": 13,
   "id": "897d7fd5-bb32-462e-af0d-9446c200060d",
   "metadata": {},
   "outputs": [
    {
     "data": {
      "text/plain": [
       "array([[1, 2, 3],\n",
       "       [4, 5, 6],\n",
       "       [7, 8, 9]])"
      ]
     },
     "execution_count": 13,
     "metadata": {},
     "output_type": "execute_result"
    }
   ],
   "source": [
    "array1"
   ]
  },
  {
   "cell_type": "code",
   "execution_count": 14,
   "id": "8d97ee70-ccba-427e-b487-6bcf3d06c110",
   "metadata": {},
   "outputs": [
    {
     "data": {
      "text/plain": [
       "2"
      ]
     },
     "execution_count": 14,
     "metadata": {},
     "output_type": "execute_result"
    }
   ],
   "source": [
    "array1.ndim"
   ]
  },
  {
   "cell_type": "code",
   "execution_count": 15,
   "id": "d029b1c2-fef9-4fac-9118-6b6c6529769c",
   "metadata": {},
   "outputs": [
    {
     "data": {
      "text/plain": [
       "(3, 3)"
      ]
     },
     "execution_count": 15,
     "metadata": {},
     "output_type": "execute_result"
    }
   ],
   "source": [
    "array1.shape"
   ]
  },
  {
   "cell_type": "code",
   "execution_count": 16,
   "id": "8686a5f0-f36c-4084-9afa-4120b5176044",
   "metadata": {},
   "outputs": [],
   "source": [
    "array2 = np.zeros([3,7])"
   ]
  },
  {
   "cell_type": "code",
   "execution_count": 17,
   "id": "ebce06b6-23b3-406b-a392-ac26d8f46ed8",
   "metadata": {},
   "outputs": [
    {
     "data": {
      "text/plain": [
       "(3, 7)"
      ]
     },
     "execution_count": 17,
     "metadata": {},
     "output_type": "execute_result"
    }
   ],
   "source": [
    "array2.shape"
   ]
  },
  {
   "cell_type": "code",
   "execution_count": 18,
   "id": "1e81899c-aad8-4df0-bfc7-939a0aca914d",
   "metadata": {},
   "outputs": [
    {
     "data": {
      "text/plain": [
       "9"
      ]
     },
     "execution_count": 18,
     "metadata": {},
     "output_type": "execute_result"
    }
   ],
   "source": [
    "array1.size"
   ]
  },
  {
   "cell_type": "code",
   "execution_count": 19,
   "id": "d90b7146-b3cd-49df-9709-21c24515d635",
   "metadata": {},
   "outputs": [
    {
     "data": {
      "text/plain": [
       "21"
      ]
     },
     "execution_count": 19,
     "metadata": {},
     "output_type": "execute_result"
    }
   ],
   "source": [
    "array2.size"
   ]
  },
  {
   "cell_type": "code",
   "execution_count": 20,
   "id": "bc47fc51-c70e-4112-838f-aa9b2ca17da0",
   "metadata": {},
   "outputs": [
    {
     "data": {
      "text/plain": [
       "dtype('int64')"
      ]
     },
     "execution_count": 20,
     "metadata": {},
     "output_type": "execute_result"
    }
   ],
   "source": [
    "array1.dtype"
   ]
  },
  {
   "cell_type": "code",
   "execution_count": 21,
   "id": "62fd8c05-167e-4ada-97e1-f0eb5cd91e46",
   "metadata": {},
   "outputs": [
    {
     "data": {
      "text/plain": [
       "8"
      ]
     },
     "execution_count": 21,
     "metadata": {},
     "output_type": "execute_result"
    }
   ],
   "source": [
    "array1.itemsize"
   ]
  },
  {
   "cell_type": "code",
   "execution_count": 22,
   "id": "f0e63f44-efc5-48ef-b867-b69ec2f2bb5c",
   "metadata": {},
   "outputs": [
    {
     "data": {
      "text/plain": [
       "8"
      ]
     },
     "execution_count": 22,
     "metadata": {},
     "output_type": "execute_result"
    }
   ],
   "source": [
    "array2.itemsize"
   ]
  },
  {
   "cell_type": "code",
   "execution_count": 23,
   "id": "55fd3d7b-ac4c-4cd1-9b43-128de7239f5f",
   "metadata": {},
   "outputs": [],
   "source": [
    "data1 = np.array([1, 2])"
   ]
  },
  {
   "cell_type": "code",
   "execution_count": 24,
   "id": "3feed04b-84eb-4380-8331-fab24c414b65",
   "metadata": {},
   "outputs": [
    {
     "data": {
      "text/plain": [
       "array([1, 2])"
      ]
     },
     "execution_count": 24,
     "metadata": {},
     "output_type": "execute_result"
    }
   ],
   "source": [
    "data1"
   ]
  },
  {
   "cell_type": "code",
   "execution_count": 25,
   "id": "4276a221-617c-4473-8839-758a7a80248a",
   "metadata": {},
   "outputs": [],
   "source": [
    "data2 = np.ones(2)"
   ]
  },
  {
   "cell_type": "code",
   "execution_count": 26,
   "id": "a68921f0-1651-4ff5-aa42-d74336fc0261",
   "metadata": {},
   "outputs": [
    {
     "data": {
      "text/plain": [
       "array([1., 1.])"
      ]
     },
     "execution_count": 26,
     "metadata": {},
     "output_type": "execute_result"
    }
   ],
   "source": [
    "data2"
   ]
  },
  {
   "cell_type": "code",
   "execution_count": 27,
   "id": "975e82ad-809f-4363-add9-935afee74e94",
   "metadata": {},
   "outputs": [],
   "source": [
    "res = data1 + data2"
   ]
  },
  {
   "cell_type": "code",
   "execution_count": 28,
   "id": "5004e16f-d5a9-4815-b46a-ff3baed9288d",
   "metadata": {},
   "outputs": [
    {
     "data": {
      "text/plain": [
       "array([2., 3.])"
      ]
     },
     "execution_count": 28,
     "metadata": {},
     "output_type": "execute_result"
    }
   ],
   "source": [
    "res"
   ]
  },
  {
   "cell_type": "code",
   "execution_count": 29,
   "id": "f7f92c93-f612-44a2-b443-970377dc545c",
   "metadata": {},
   "outputs": [],
   "source": [
    "res = data1 - data2"
   ]
  },
  {
   "cell_type": "code",
   "execution_count": 30,
   "id": "beca9941-f390-42e2-9e52-e37ea3c96f81",
   "metadata": {},
   "outputs": [
    {
     "data": {
      "text/plain": [
       "array([0., 1.])"
      ]
     },
     "execution_count": 30,
     "metadata": {},
     "output_type": "execute_result"
    }
   ],
   "source": [
    "res"
   ]
  },
  {
   "cell_type": "code",
   "execution_count": 31,
   "id": "d4000060-09d9-4b5d-a365-cced4f74cf76",
   "metadata": {},
   "outputs": [
    {
     "data": {
      "text/plain": [
       "array([1., 2.])"
      ]
     },
     "execution_count": 31,
     "metadata": {},
     "output_type": "execute_result"
    }
   ],
   "source": [
    "data1 * data2"
   ]
  },
  {
   "cell_type": "code",
   "execution_count": 32,
   "id": "d2e7a8ff-bcb0-4d0b-934d-2348dbd6275f",
   "metadata": {},
   "outputs": [
    {
     "data": {
      "text/plain": [
       "array([[ 3,  6,  9],\n",
       "       [12, 15, 18],\n",
       "       [21, 24, 27]])"
      ]
     },
     "execution_count": 32,
     "metadata": {},
     "output_type": "execute_result"
    }
   ],
   "source": [
    "array1  * 3"
   ]
  },
  {
   "cell_type": "code",
   "execution_count": 33,
   "id": "2d87dcdc-0f0e-4d11-bfb9-e73b57a2f622",
   "metadata": {},
   "outputs": [
    {
     "data": {
      "text/plain": [
       "array([4, 8])"
      ]
     },
     "execution_count": 33,
     "metadata": {},
     "output_type": "execute_result"
    }
   ],
   "source": [
    "data1 * 4"
   ]
  },
  {
   "cell_type": "code",
   "execution_count": 34,
   "id": "57f11915-f3fb-4010-8655-6b7686bfe200",
   "metadata": {},
   "outputs": [
    {
     "data": {
      "text/plain": [
       "array([[1, 2, 3],\n",
       "       [4, 5, 6],\n",
       "       [7, 8, 9]])"
      ]
     },
     "execution_count": 34,
     "metadata": {},
     "output_type": "execute_result"
    }
   ],
   "source": [
    "array1"
   ]
  },
  {
   "cell_type": "code",
   "execution_count": 35,
   "id": "e1f43123-b690-4ba7-80b7-71aa89fcc074",
   "metadata": {},
   "outputs": [],
   "source": [
    "data3 = ([1, 2, 3, 4, 5, 6, 7, 8, 9])"
   ]
  },
  {
   "cell_type": "code",
   "execution_count": 36,
   "id": "e0f30af9-27d7-46ba-a7a8-9771b00d9f72",
   "metadata": {},
   "outputs": [
    {
     "data": {
      "text/plain": [
       "[1, 2, 3, 4, 5, 6, 7, 8, 9]"
      ]
     },
     "execution_count": 36,
     "metadata": {},
     "output_type": "execute_result"
    }
   ],
   "source": [
    "data3"
   ]
  },
  {
   "cell_type": "code",
   "execution_count": 38,
   "id": "e3c34813-7810-4b26-9992-82881df1719d",
   "metadata": {},
   "outputs": [
    {
     "data": {
      "text/plain": [
       "1"
      ]
     },
     "execution_count": 38,
     "metadata": {},
     "output_type": "execute_result"
    }
   ],
   "source": [
    "data3[0]"
   ]
  },
  {
   "cell_type": "code",
   "execution_count": 39,
   "id": "52f5491a-1a33-4902-950d-31aed05519e3",
   "metadata": {},
   "outputs": [
    {
     "data": {
      "text/plain": [
       "3"
      ]
     },
     "execution_count": 39,
     "metadata": {},
     "output_type": "execute_result"
    }
   ],
   "source": [
    "data3[2]"
   ]
  },
  {
   "cell_type": "code",
   "execution_count": 40,
   "id": "f3501962-4551-436b-b3fa-572cb3b53182",
   "metadata": {},
   "outputs": [
    {
     "data": {
      "text/plain": [
       "[2, 3, 4, 5]"
      ]
     },
     "execution_count": 40,
     "metadata": {},
     "output_type": "execute_result"
    }
   ],
   "source": [
    "data3[1:5]"
   ]
  },
  {
   "cell_type": "code",
   "execution_count": 41,
   "id": "a5c1fe1d-f839-4c7e-b079-a9d61e965f57",
   "metadata": {},
   "outputs": [
    {
     "data": {
      "text/plain": [
       "[2, 3, 4, 5, 6, 7, 8, 9]"
      ]
     },
     "execution_count": 41,
     "metadata": {},
     "output_type": "execute_result"
    }
   ],
   "source": [
    "data3[1:]"
   ]
  },
  {
   "cell_type": "code",
   "execution_count": 42,
   "id": "78e1842c-1423-41d8-85c9-44abdf6fab4a",
   "metadata": {},
   "outputs": [
    {
     "data": {
      "text/plain": [
       "[2, 4, 6, 8]"
      ]
     },
     "execution_count": 42,
     "metadata": {},
     "output_type": "execute_result"
    }
   ],
   "source": [
    "data3[1:8:2]"
   ]
  },
  {
   "cell_type": "code",
   "execution_count": 43,
   "id": "954bd201-099c-47f8-880b-0fa2abcb4ab9",
   "metadata": {},
   "outputs": [
    {
     "ename": "AttributeError",
     "evalue": "'list' object has no attribute 'min'",
     "output_type": "error",
     "traceback": [
      "\u001b[0;31m---------------------------------------------------------------------------\u001b[0m",
      "\u001b[0;31mAttributeError\u001b[0m                            Traceback (most recent call last)",
      "Cell \u001b[0;32mIn[43], line 1\u001b[0m\n\u001b[0;32m----> 1\u001b[0m \u001b[43mdata3\u001b[49m\u001b[38;5;241;43m.\u001b[39;49m\u001b[43mmin\u001b[49m()\n",
      "\u001b[0;31mAttributeError\u001b[0m: 'list' object has no attribute 'min'"
     ]
    }
   ],
   "source": [
    "data3.min()"
   ]
  },
  {
   "cell_type": "code",
   "execution_count": 44,
   "id": "8e778991-07b9-4e4f-b22b-bbd5582570b8",
   "metadata": {},
   "outputs": [
    {
     "data": {
      "text/plain": [
       "array([[1, 2, 3],\n",
       "       [4, 5, 6],\n",
       "       [7, 8, 9]])"
      ]
     },
     "execution_count": 44,
     "metadata": {},
     "output_type": "execute_result"
    }
   ],
   "source": [
    "array1"
   ]
  },
  {
   "cell_type": "code",
   "execution_count": 45,
   "id": "59f19aee-60a4-4683-830c-f06e0298c1b3",
   "metadata": {},
   "outputs": [],
   "source": [
    "data3 = np.array([1, 2, 3, 4, 5, 6, 7, 8, 9])"
   ]
  },
  {
   "cell_type": "code",
   "execution_count": 46,
   "id": "213bb611-9e14-4077-ab1a-23cce3a16078",
   "metadata": {},
   "outputs": [
    {
     "data": {
      "text/plain": [
       "array([1, 2, 3, 4, 5, 6, 7, 8, 9])"
      ]
     },
     "execution_count": 46,
     "metadata": {},
     "output_type": "execute_result"
    }
   ],
   "source": [
    "data3"
   ]
  },
  {
   "cell_type": "code",
   "execution_count": 47,
   "id": "f2e3e04a-a98f-4b52-b116-c0acd66c4309",
   "metadata": {},
   "outputs": [
    {
     "data": {
      "text/plain": [
       "1"
      ]
     },
     "execution_count": 47,
     "metadata": {},
     "output_type": "execute_result"
    }
   ],
   "source": [
    "data3[0]"
   ]
  },
  {
   "cell_type": "code",
   "execution_count": 48,
   "id": "68fd3b3b-8297-49ec-a0e0-9675deb4f3e1",
   "metadata": {},
   "outputs": [
    {
     "data": {
      "text/plain": [
       "array([2, 3, 4, 5])"
      ]
     },
     "execution_count": 48,
     "metadata": {},
     "output_type": "execute_result"
    }
   ],
   "source": [
    "data3[1:5]"
   ]
  },
  {
   "cell_type": "code",
   "execution_count": 49,
   "id": "a138344d-9d53-4e5f-b3f0-169468f7bc48",
   "metadata": {},
   "outputs": [
    {
     "data": {
      "text/plain": [
       "array([2, 4, 6, 8])"
      ]
     },
     "execution_count": 49,
     "metadata": {},
     "output_type": "execute_result"
    }
   ],
   "source": [
    "data3[1:8:2]"
   ]
  },
  {
   "cell_type": "code",
   "execution_count": 50,
   "id": "7aafc104-06be-4937-a9da-3bbce6c90e56",
   "metadata": {},
   "outputs": [
    {
     "data": {
      "text/plain": [
       "1"
      ]
     },
     "execution_count": 50,
     "metadata": {},
     "output_type": "execute_result"
    }
   ],
   "source": [
    "data3.min()"
   ]
  },
  {
   "cell_type": "code",
   "execution_count": 51,
   "id": "3f0ca658-62b0-4221-95a9-10c2cf10bb20",
   "metadata": {},
   "outputs": [
    {
     "data": {
      "text/plain": [
       "9"
      ]
     },
     "execution_count": 51,
     "metadata": {},
     "output_type": "execute_result"
    }
   ],
   "source": [
    "data3.max()"
   ]
  },
  {
   "cell_type": "code",
   "execution_count": 52,
   "id": "9ae1ad33-683a-4e23-b5f6-438e30a1a10b",
   "metadata": {},
   "outputs": [
    {
     "data": {
      "text/plain": [
       "45"
      ]
     },
     "execution_count": 52,
     "metadata": {},
     "output_type": "execute_result"
    }
   ],
   "source": [
    "data3.sum()"
   ]
  },
  {
   "cell_type": "code",
   "execution_count": 53,
   "id": "a01984a0-a91e-4a43-9f20-027226732222",
   "metadata": {},
   "outputs": [
    {
     "data": {
      "text/plain": [
       "5.0"
      ]
     },
     "execution_count": 53,
     "metadata": {},
     "output_type": "execute_result"
    }
   ],
   "source": [
    "data3.mean()"
   ]
  },
  {
   "cell_type": "code",
   "execution_count": 54,
   "id": "4432c11b-a191-42d8-a193-79c980373875",
   "metadata": {},
   "outputs": [
    {
     "data": {
      "text/plain": [
       "362880"
      ]
     },
     "execution_count": 54,
     "metadata": {},
     "output_type": "execute_result"
    }
   ],
   "source": [
    "data3.prod()"
   ]
  },
  {
   "cell_type": "code",
   "execution_count": 55,
   "id": "6fe22476-10fd-4e93-9cf4-1c0ba59af2d7",
   "metadata": {},
   "outputs": [],
   "source": [
    "array1 = np.array([\n",
    "    [1, 2, 3],\n",
    "    [4, 5, 6],\n",
    "    [7, 8, 9],\n",
    "])"
   ]
  },
  {
   "cell_type": "code",
   "execution_count": 56,
   "id": "b676eef9-f5ad-4633-8407-9da1b81dcbef",
   "metadata": {},
   "outputs": [],
   "source": [
    "array3 = np.array([\n",
    "    [10, 20, 30],\n",
    "    [40, 50, 60],\n",
    "    [70, 80, 90],\n",
    "])"
   ]
  },
  {
   "cell_type": "code",
   "execution_count": 57,
   "id": "81dc2354-29d2-4e6e-a880-d2a070acd16e",
   "metadata": {},
   "outputs": [
    {
     "data": {
      "text/plain": [
       "array([[10, 20, 30],\n",
       "       [40, 50, 60],\n",
       "       [70, 80, 90]])"
      ]
     },
     "execution_count": 57,
     "metadata": {},
     "output_type": "execute_result"
    }
   ],
   "source": [
    "array3"
   ]
  },
  {
   "cell_type": "code",
   "execution_count": 58,
   "id": "6ac5eb65-92bf-4c55-bfb0-cb70c7d69d68",
   "metadata": {},
   "outputs": [
    {
     "data": {
      "text/plain": [
       "array([[11, 22, 33],\n",
       "       [44, 55, 66],\n",
       "       [77, 88, 99]])"
      ]
     },
     "execution_count": 58,
     "metadata": {},
     "output_type": "execute_result"
    }
   ],
   "source": [
    "array1 + array3"
   ]
  },
  {
   "cell_type": "code",
   "execution_count": 59,
   "id": "64fd1466-0401-408c-a633-fd9b19fb5e25",
   "metadata": {},
   "outputs": [
    {
     "data": {
      "text/plain": [
       "array([[ -9, -18, -27],\n",
       "       [-36, -45, -54],\n",
       "       [-63, -72, -81]])"
      ]
     },
     "execution_count": 59,
     "metadata": {},
     "output_type": "execute_result"
    }
   ],
   "source": [
    "array1 - array3"
   ]
  },
  {
   "cell_type": "code",
   "execution_count": 60,
   "id": "e2272ce7-2418-4ff0-b552-a6006b442aeb",
   "metadata": {},
   "outputs": [
    {
     "data": {
      "text/plain": [
       "array([[ 9, 18, 27],\n",
       "       [36, 45, 54],\n",
       "       [63, 72, 81]])"
      ]
     },
     "execution_count": 60,
     "metadata": {},
     "output_type": "execute_result"
    }
   ],
   "source": [
    "array3 - array1"
   ]
  },
  {
   "cell_type": "code",
   "execution_count": 61,
   "id": "bf0734c8-61fe-49fe-9a3c-273d5c806f49",
   "metadata": {},
   "outputs": [
    {
     "data": {
      "text/plain": [
       "array([[1, 2, 3],\n",
       "       [4, 5, 6],\n",
       "       [7, 8, 9]])"
      ]
     },
     "execution_count": 61,
     "metadata": {},
     "output_type": "execute_result"
    }
   ],
   "source": [
    "array1"
   ]
  },
  {
   "cell_type": "code",
   "execution_count": 62,
   "id": "5e1275b5-8f5c-4f54-9036-721b56382ef1",
   "metadata": {},
   "outputs": [
    {
     "data": {
      "text/plain": [
       "3"
      ]
     },
     "execution_count": 62,
     "metadata": {},
     "output_type": "execute_result"
    }
   ],
   "source": [
    "array1[0, 2]"
   ]
  },
  {
   "cell_type": "code",
   "execution_count": 63,
   "id": "86c9d8a7-2b30-4e17-afb2-c18286d20398",
   "metadata": {},
   "outputs": [
    {
     "data": {
      "text/plain": [
       "array([[4, 5, 6],\n",
       "       [7, 8, 9]])"
      ]
     },
     "execution_count": 63,
     "metadata": {},
     "output_type": "execute_result"
    }
   ],
   "source": [
    "array1[1:3]"
   ]
  },
  {
   "cell_type": "code",
   "execution_count": 64,
   "id": "b938e785-e213-4f4f-8ad5-9bde68b45468",
   "metadata": {},
   "outputs": [
    {
     "data": {
      "text/plain": [
       "array([[4, 5],\n",
       "       [7, 8]])"
      ]
     },
     "execution_count": 64,
     "metadata": {},
     "output_type": "execute_result"
    }
   ],
   "source": [
    "array1[1:3, :2]"
   ]
  },
  {
   "cell_type": "code",
   "execution_count": 65,
   "id": "75189f5b-4b30-474f-bb1a-682007cd6440",
   "metadata": {},
   "outputs": [
    {
     "data": {
      "text/plain": [
       "1"
      ]
     },
     "execution_count": 65,
     "metadata": {},
     "output_type": "execute_result"
    }
   ],
   "source": [
    "array1.min()"
   ]
  },
  {
   "cell_type": "code",
   "execution_count": 66,
   "id": "ef0f9bce-f216-4499-a0c4-a3da7a43dff1",
   "metadata": {},
   "outputs": [
    {
     "data": {
      "text/plain": [
       "9"
      ]
     },
     "execution_count": 66,
     "metadata": {},
     "output_type": "execute_result"
    }
   ],
   "source": [
    "array1.max()"
   ]
  },
  {
   "cell_type": "code",
   "execution_count": 67,
   "id": "858213bd-334b-42cb-b4b8-0360a49b121d",
   "metadata": {},
   "outputs": [
    {
     "data": {
      "text/plain": [
       "45"
      ]
     },
     "execution_count": 67,
     "metadata": {},
     "output_type": "execute_result"
    }
   ],
   "source": [
    "array1.sum()"
   ]
  },
  {
   "cell_type": "code",
   "execution_count": 68,
   "id": "a4e62fc9-cc6b-4f61-ba0c-cf89e316fe40",
   "metadata": {},
   "outputs": [
    {
     "data": {
      "text/plain": [
       "5.0"
      ]
     },
     "execution_count": 68,
     "metadata": {},
     "output_type": "execute_result"
    }
   ],
   "source": [
    "array1.mean()"
   ]
  },
  {
   "cell_type": "code",
   "execution_count": 69,
   "id": "370646bc-3a04-4b5b-871b-d75542e87279",
   "metadata": {},
   "outputs": [
    {
     "data": {
      "text/plain": [
       "(3, 3)"
      ]
     },
     "execution_count": 69,
     "metadata": {},
     "output_type": "execute_result"
    }
   ],
   "source": [
    "array1.shape"
   ]
  },
  {
   "cell_type": "code",
   "execution_count": 73,
   "id": "597a32b1-f14f-48a9-9b0d-4ae82278b5e0",
   "metadata": {},
   "outputs": [],
   "source": [
    "data3 = np.array([1, 2, 3, 4, 5, 6, 7, 8, 9, 10])"
   ]
  },
  {
   "cell_type": "code",
   "execution_count": 74,
   "id": "b9f328af-2f54-4b0d-98a3-c21d4343434d",
   "metadata": {},
   "outputs": [
    {
     "data": {
      "text/plain": [
       "array([ 1,  2,  3,  4,  5,  6,  7,  8,  9, 10])"
      ]
     },
     "execution_count": 74,
     "metadata": {},
     "output_type": "execute_result"
    }
   ],
   "source": [
    "data3"
   ]
  },
  {
   "cell_type": "code",
   "execution_count": 75,
   "id": "a35aa0ed-0feb-4557-8f79-c842d9f222ed",
   "metadata": {},
   "outputs": [
    {
     "data": {
      "text/plain": [
       "(10,)"
      ]
     },
     "execution_count": 75,
     "metadata": {},
     "output_type": "execute_result"
    }
   ],
   "source": [
    "data3.shape"
   ]
  },
  {
   "cell_type": "code",
   "execution_count": 77,
   "id": "495b527b-2091-4e72-8ec2-96132abaa058",
   "metadata": {},
   "outputs": [],
   "source": [
    "data4 = data3.reshape(5, 2)"
   ]
  },
  {
   "cell_type": "code",
   "execution_count": 78,
   "id": "bd1a9dfb-c6a7-4077-9fd0-0858542b0d75",
   "metadata": {},
   "outputs": [
    {
     "data": {
      "text/plain": [
       "array([[ 1,  2],\n",
       "       [ 3,  4],\n",
       "       [ 5,  6],\n",
       "       [ 7,  8],\n",
       "       [ 9, 10]])"
      ]
     },
     "execution_count": 78,
     "metadata": {},
     "output_type": "execute_result"
    }
   ],
   "source": [
    "data4"
   ]
  },
  {
   "cell_type": "code",
   "execution_count": 82,
   "id": "86287190-279a-42ad-b887-f5e35b358724",
   "metadata": {},
   "outputs": [],
   "source": [
    "data5 = np.array([1, 2, 3, 4, 5, 6, 7, 8, 9, 10, 11, 12])"
   ]
  },
  {
   "cell_type": "code",
   "execution_count": 83,
   "id": "83338322-dcd6-4af2-90b0-d882dbed3eaa",
   "metadata": {},
   "outputs": [],
   "source": [
    "data7 = data5.reshape(2, 3, 2)"
   ]
  },
  {
   "cell_type": "code",
   "execution_count": 84,
   "id": "86cfd800-ae26-41a7-9689-d556b02a3717",
   "metadata": {},
   "outputs": [
    {
     "data": {
      "text/plain": [
       "array([[[ 1,  2],\n",
       "        [ 3,  4],\n",
       "        [ 5,  6]],\n",
       "\n",
       "       [[ 7,  8],\n",
       "        [ 9, 10],\n",
       "        [11, 12]]])"
      ]
     },
     "execution_count": 84,
     "metadata": {},
     "output_type": "execute_result"
    }
   ],
   "source": [
    "data7"
   ]
  },
  {
   "cell_type": "code",
   "execution_count": 89,
   "id": "68771d1e-4038-4d9b-b9e5-1a704b84746c",
   "metadata": {},
   "outputs": [],
   "source": [
    "array5 = np.array([\n",
    "    [17, 3, 30],\n",
    "    [10, 5, 12],\n",
    "    [7, 10, 9],\n",
    "])"
   ]
  },
  {
   "cell_type": "code",
   "execution_count": 90,
   "id": "3d374666-c09e-4ead-87e0-39de5e6a744c",
   "metadata": {},
   "outputs": [
    {
     "data": {
      "text/plain": [
       "30"
      ]
     },
     "execution_count": 90,
     "metadata": {},
     "output_type": "execute_result"
    }
   ],
   "source": [
    "array5.max()"
   ]
  },
  {
   "cell_type": "code",
   "execution_count": 91,
   "id": "407b9857-6fc8-46d3-bc1f-cc072457a74d",
   "metadata": {},
   "outputs": [
    {
     "data": {
      "text/plain": [
       "array([17, 10, 30])"
      ]
     },
     "execution_count": 91,
     "metadata": {},
     "output_type": "execute_result"
    }
   ],
   "source": [
    "array5.max(axis=0)"
   ]
  },
  {
   "cell_type": "code",
   "execution_count": 92,
   "id": "8a6b3c3f-4fef-495f-b5f6-55241c0e2264",
   "metadata": {},
   "outputs": [
    {
     "data": {
      "text/plain": [
       "array([30, 12, 10])"
      ]
     },
     "execution_count": 92,
     "metadata": {},
     "output_type": "execute_result"
    }
   ],
   "source": [
    "array5.max(axis=1)"
   ]
  },
  {
   "cell_type": "code",
   "execution_count": null,
   "id": "5db2a3e2-84e1-4233-b2fc-4b89f82d23f8",
   "metadata": {},
   "outputs": [],
   "source": []
  },
  {
   "cell_type": "markdown",
   "id": "4d0ecdc7-b9db-4ed2-b7fa-cb314d718c01",
   "metadata": {},
   "source": [
    "# PANDAS"
   ]
  },
  {
   "cell_type": "markdown",
   "id": "ca56e6ef-2a8a-4ad1-b535-1b557251274d",
   "metadata": {},
   "source": [
    "pip install pandas"
   ]
  },
  {
   "cell_type": "code",
   "execution_count": 93,
   "id": "319391b2-6041-4a64-87dc-dcd11d690d58",
   "metadata": {},
   "outputs": [],
   "source": [
    "import pandas as pd"
   ]
  },
  {
   "cell_type": "code",
   "execution_count": 94,
   "id": "effd83e3-4690-412b-9055-da11e1cc7063",
   "metadata": {},
   "outputs": [],
   "source": [
    "data = pd.Series([4, 5, 7, 8, 2, 1])"
   ]
  },
  {
   "cell_type": "code",
   "execution_count": 95,
   "id": "a0d5a0fe-9ce4-43ef-a0b6-b087a35a5888",
   "metadata": {},
   "outputs": [
    {
     "data": {
      "text/plain": [
       "0    4\n",
       "1    5\n",
       "2    7\n",
       "3    8\n",
       "4    2\n",
       "5    1\n",
       "dtype: int64"
      ]
     },
     "execution_count": 95,
     "metadata": {},
     "output_type": "execute_result"
    }
   ],
   "source": [
    "data"
   ]
  },
  {
   "cell_type": "code",
   "execution_count": 96,
   "id": "97abe937-9963-403b-ba3a-5a88081f1943",
   "metadata": {},
   "outputs": [],
   "source": [
    "data = pd.Series([4, 5, 7, 1], index=['a', 'b', 'c', 'd'])"
   ]
  },
  {
   "cell_type": "code",
   "execution_count": 97,
   "id": "e9a2eec0-0a94-4851-93b0-a84a9e8ee8ff",
   "metadata": {},
   "outputs": [
    {
     "data": {
      "text/plain": [
       "a    4\n",
       "b    5\n",
       "c    7\n",
       "d    1\n",
       "dtype: int64"
      ]
     },
     "execution_count": 97,
     "metadata": {},
     "output_type": "execute_result"
    }
   ],
   "source": [
    "data"
   ]
  },
  {
   "cell_type": "code",
   "execution_count": 98,
   "id": "6b92f64e-3e80-48cf-871d-0472a109a5c4",
   "metadata": {},
   "outputs": [
    {
     "data": {
      "text/plain": [
       "Index(['a', 'b', 'c', 'd'], dtype='object')"
      ]
     },
     "execution_count": 98,
     "metadata": {},
     "output_type": "execute_result"
    }
   ],
   "source": [
    "data.index"
   ]
  },
  {
   "cell_type": "code",
   "execution_count": 99,
   "id": "8e99e13b-2dd0-48eb-8e23-5c920e0598b1",
   "metadata": {},
   "outputs": [
    {
     "data": {
      "text/plain": [
       "array([4, 5, 7, 1])"
      ]
     },
     "execution_count": 99,
     "metadata": {},
     "output_type": "execute_result"
    }
   ],
   "source": [
    "data.values"
   ]
  },
  {
   "cell_type": "code",
   "execution_count": 100,
   "id": "91a43f89-6f7b-41db-b132-7a50fec2b7e3",
   "metadata": {},
   "outputs": [
    {
     "name": "stderr",
     "output_type": "stream",
     "text": [
      "/tmp/ipykernel_14978/1743741225.py:1: FutureWarning: Series.__getitem__ treating keys as positions is deprecated. In a future version, integer keys will always be treated as labels (consistent with DataFrame behavior). To access a value by position, use `ser.iloc[pos]`\n",
      "  data[0]\n"
     ]
    },
    {
     "data": {
      "text/plain": [
       "4"
      ]
     },
     "execution_count": 100,
     "metadata": {},
     "output_type": "execute_result"
    }
   ],
   "source": [
    "data[0]"
   ]
  },
  {
   "cell_type": "code",
   "execution_count": 101,
   "id": "b3f09756-4d29-4430-acf0-445e49360683",
   "metadata": {},
   "outputs": [
    {
     "data": {
      "text/plain": [
       "5"
      ]
     },
     "execution_count": 101,
     "metadata": {},
     "output_type": "execute_result"
    }
   ],
   "source": [
    "data['b']"
   ]
  },
  {
   "cell_type": "code",
   "execution_count": 102,
   "id": "eec6d8f5-41de-492c-9f9b-3229c1c978f7",
   "metadata": {},
   "outputs": [],
   "source": [
    "my_dict = {\n",
    "'Count': [46, 37, 44, 42,  25],\n",
    "'Toys': ['Toys1', 'Toys2', 'Toys3', 'Toys4', 'Toys5'],\n",
    "'Name': ['Car', 'Book', 'Pen', 'Fruit', 'ball' ]\n",
    "}\n"
   ]
  },
  {
   "cell_type": "code",
   "execution_count": 103,
   "id": "7f3c821d-df34-47c9-80db-1f6a27565935",
   "metadata": {},
   "outputs": [
    {
     "data": {
      "text/plain": [
       "{'Count': [46, 37, 44, 42, 25],\n",
       " 'Toys': ['Toys1', 'Toys2', 'Toys3', 'Toys4', 'Toys5'],\n",
       " 'Name': ['Car', 'Book', 'Pen', 'Fruit', 'ball']}"
      ]
     },
     "execution_count": 103,
     "metadata": {},
     "output_type": "execute_result"
    }
   ],
   "source": [
    "my_dict"
   ]
  },
  {
   "cell_type": "code",
   "execution_count": 105,
   "id": "3db47e0f-f59e-4f55-a9da-cc1b817cbff0",
   "metadata": {},
   "outputs": [],
   "source": [
    "df = pd.DataFrame(my_dict)"
   ]
  },
  {
   "cell_type": "code",
   "execution_count": 106,
   "id": "03047617-5403-4699-a428-080d32c3fced",
   "metadata": {},
   "outputs": [
    {
     "data": {
      "text/html": [
       "<div>\n",
       "<style scoped>\n",
       "    .dataframe tbody tr th:only-of-type {\n",
       "        vertical-align: middle;\n",
       "    }\n",
       "\n",
       "    .dataframe tbody tr th {\n",
       "        vertical-align: top;\n",
       "    }\n",
       "\n",
       "    .dataframe thead th {\n",
       "        text-align: right;\n",
       "    }\n",
       "</style>\n",
       "<table border=\"1\" class=\"dataframe\">\n",
       "  <thead>\n",
       "    <tr style=\"text-align: right;\">\n",
       "      <th></th>\n",
       "      <th>Count</th>\n",
       "      <th>Toys</th>\n",
       "      <th>Name</th>\n",
       "    </tr>\n",
       "  </thead>\n",
       "  <tbody>\n",
       "    <tr>\n",
       "      <th>0</th>\n",
       "      <td>46</td>\n",
       "      <td>Toys1</td>\n",
       "      <td>Car</td>\n",
       "    </tr>\n",
       "    <tr>\n",
       "      <th>1</th>\n",
       "      <td>37</td>\n",
       "      <td>Toys2</td>\n",
       "      <td>Book</td>\n",
       "    </tr>\n",
       "    <tr>\n",
       "      <th>2</th>\n",
       "      <td>44</td>\n",
       "      <td>Toys3</td>\n",
       "      <td>Pen</td>\n",
       "    </tr>\n",
       "    <tr>\n",
       "      <th>3</th>\n",
       "      <td>42</td>\n",
       "      <td>Toys4</td>\n",
       "      <td>Fruit</td>\n",
       "    </tr>\n",
       "    <tr>\n",
       "      <th>4</th>\n",
       "      <td>25</td>\n",
       "      <td>Toys5</td>\n",
       "      <td>ball</td>\n",
       "    </tr>\n",
       "  </tbody>\n",
       "</table>\n",
       "</div>"
      ],
      "text/plain": [
       "   Count   Toys   Name\n",
       "0     46  Toys1    Car\n",
       "1     37  Toys2   Book\n",
       "2     44  Toys3    Pen\n",
       "3     42  Toys4  Fruit\n",
       "4     25  Toys5   ball"
      ]
     },
     "execution_count": 106,
     "metadata": {},
     "output_type": "execute_result"
    }
   ],
   "source": [
    "df"
   ]
  },
  {
   "cell_type": "code",
   "execution_count": 107,
   "id": "e3c83bd6-465a-4739-b120-c34403a4d2df",
   "metadata": {},
   "outputs": [],
   "source": [
    "new_dict = {\"Город\": [\"Москва\", \"Сочи\", \"Краснодар\", \"Тула\", \"Орёл\", \"Спб\", \"Тверь\"],\n",
    "\t\t\"Кол-во магазинов\": [17, 2, 5, 3, 1, 10, 4],\n",
    "\t\t\"Товар\": [\"Продукты\", \"Всё для дома\", \"Аптека\", \"Детский\", \"Стройматериалы\", \"Продукты\", \"Аптека\"],\n",
    "\t\t\"Доход\": [100000, 20300, 75000, 17000, 5700, 75000, 5700]}"
   ]
  },
  {
   "cell_type": "code",
   "execution_count": 110,
   "id": "d783e21c-5c7d-4659-84a7-e234c95d8a63",
   "metadata": {},
   "outputs": [],
   "source": [
    "df1 = pd.DataFrame(new_dict)"
   ]
  },
  {
   "cell_type": "code",
   "execution_count": 111,
   "id": "b6cc98b5-1116-4652-bbc1-00911fc419e4",
   "metadata": {},
   "outputs": [
    {
     "data": {
      "text/html": [
       "<div>\n",
       "<style scoped>\n",
       "    .dataframe tbody tr th:only-of-type {\n",
       "        vertical-align: middle;\n",
       "    }\n",
       "\n",
       "    .dataframe tbody tr th {\n",
       "        vertical-align: top;\n",
       "    }\n",
       "\n",
       "    .dataframe thead th {\n",
       "        text-align: right;\n",
       "    }\n",
       "</style>\n",
       "<table border=\"1\" class=\"dataframe\">\n",
       "  <thead>\n",
       "    <tr style=\"text-align: right;\">\n",
       "      <th></th>\n",
       "      <th>Город</th>\n",
       "      <th>Кол-во магазинов</th>\n",
       "      <th>Товар</th>\n",
       "      <th>Доход</th>\n",
       "    </tr>\n",
       "  </thead>\n",
       "  <tbody>\n",
       "    <tr>\n",
       "      <th>0</th>\n",
       "      <td>Москва</td>\n",
       "      <td>17</td>\n",
       "      <td>Продукты</td>\n",
       "      <td>100000</td>\n",
       "    </tr>\n",
       "    <tr>\n",
       "      <th>1</th>\n",
       "      <td>Сочи</td>\n",
       "      <td>2</td>\n",
       "      <td>Всё для дома</td>\n",
       "      <td>20300</td>\n",
       "    </tr>\n",
       "    <tr>\n",
       "      <th>2</th>\n",
       "      <td>Краснодар</td>\n",
       "      <td>5</td>\n",
       "      <td>Аптека</td>\n",
       "      <td>75000</td>\n",
       "    </tr>\n",
       "    <tr>\n",
       "      <th>3</th>\n",
       "      <td>Тула</td>\n",
       "      <td>3</td>\n",
       "      <td>Детский</td>\n",
       "      <td>17000</td>\n",
       "    </tr>\n",
       "    <tr>\n",
       "      <th>4</th>\n",
       "      <td>Орёл</td>\n",
       "      <td>1</td>\n",
       "      <td>Стройматериалы</td>\n",
       "      <td>5700</td>\n",
       "    </tr>\n",
       "    <tr>\n",
       "      <th>5</th>\n",
       "      <td>Спб</td>\n",
       "      <td>10</td>\n",
       "      <td>Продукты</td>\n",
       "      <td>75000</td>\n",
       "    </tr>\n",
       "    <tr>\n",
       "      <th>6</th>\n",
       "      <td>Тверь</td>\n",
       "      <td>4</td>\n",
       "      <td>Аптека</td>\n",
       "      <td>5700</td>\n",
       "    </tr>\n",
       "  </tbody>\n",
       "</table>\n",
       "</div>"
      ],
      "text/plain": [
       "       Город  Кол-во магазинов           Товар   Доход\n",
       "0     Москва                17        Продукты  100000\n",
       "1       Сочи                 2    Всё для дома   20300\n",
       "2  Краснодар                 5          Аптека   75000\n",
       "3       Тула                 3         Детский   17000\n",
       "4       Орёл                 1  Стройматериалы    5700\n",
       "5        Спб                10        Продукты   75000\n",
       "6      Тверь                 4          Аптека    5700"
      ]
     },
     "execution_count": 111,
     "metadata": {},
     "output_type": "execute_result"
    }
   ],
   "source": [
    "df1"
   ]
  },
  {
   "cell_type": "code",
   "execution_count": 112,
   "id": "9944f5dc-0295-4316-8927-aacc1e32726b",
   "metadata": {},
   "outputs": [
    {
     "data": {
      "text/plain": [
       "pandas.core.frame.DataFrame"
      ]
     },
     "execution_count": 112,
     "metadata": {},
     "output_type": "execute_result"
    }
   ],
   "source": [
    "type(df1)"
   ]
  },
  {
   "cell_type": "code",
   "execution_count": 114,
   "id": "4033e301-7cf1-4271-bc18-12cf9e8a40c7",
   "metadata": {},
   "outputs": [
    {
     "data": {
      "text/plain": [
       "0    100000\n",
       "1     20300\n",
       "2     75000\n",
       "3     17000\n",
       "4      5700\n",
       "5     75000\n",
       "6      5700\n",
       "Name: Доход, dtype: int64"
      ]
     },
     "execution_count": 114,
     "metadata": {},
     "output_type": "execute_result"
    }
   ],
   "source": [
    "df1['Доход']"
   ]
  },
  {
   "cell_type": "code",
   "execution_count": 115,
   "id": "24c79f28-71fc-4c60-959b-2081b6162444",
   "metadata": {},
   "outputs": [
    {
     "data": {
      "text/plain": [
       "0       Москва\n",
       "1         Сочи\n",
       "2    Краснодар\n",
       "3         Тула\n",
       "4         Орёл\n",
       "5          Спб\n",
       "6        Тверь\n",
       "Name: Город, dtype: object"
      ]
     },
     "execution_count": 115,
     "metadata": {},
     "output_type": "execute_result"
    }
   ],
   "source": [
    "df1['Город']"
   ]
  },
  {
   "cell_type": "code",
   "execution_count": 116,
   "id": "668a9448-7e26-4217-95a4-c58db2311e2e",
   "metadata": {},
   "outputs": [
    {
     "data": {
      "text/plain": [
       "1         Сочи\n",
       "2    Краснодар\n",
       "Name: Город, dtype: object"
      ]
     },
     "execution_count": 116,
     "metadata": {},
     "output_type": "execute_result"
    }
   ],
   "source": [
    "df1['Город'][1:3]"
   ]
  },
  {
   "cell_type": "code",
   "execution_count": 119,
   "id": "bdefef10-10fd-4c27-afdb-c8a4fdc70e47",
   "metadata": {},
   "outputs": [
    {
     "data": {
      "text/html": [
       "<div>\n",
       "<style scoped>\n",
       "    .dataframe tbody tr th:only-of-type {\n",
       "        vertical-align: middle;\n",
       "    }\n",
       "\n",
       "    .dataframe tbody tr th {\n",
       "        vertical-align: top;\n",
       "    }\n",
       "\n",
       "    .dataframe thead th {\n",
       "        text-align: right;\n",
       "    }\n",
       "</style>\n",
       "<table border=\"1\" class=\"dataframe\">\n",
       "  <thead>\n",
       "    <tr style=\"text-align: right;\">\n",
       "      <th></th>\n",
       "      <th>Доход</th>\n",
       "      <th>Товар</th>\n",
       "      <th>Город</th>\n",
       "    </tr>\n",
       "  </thead>\n",
       "  <tbody>\n",
       "    <tr>\n",
       "      <th>0</th>\n",
       "      <td>100000</td>\n",
       "      <td>Продукты</td>\n",
       "      <td>Москва</td>\n",
       "    </tr>\n",
       "    <tr>\n",
       "      <th>1</th>\n",
       "      <td>20300</td>\n",
       "      <td>Всё для дома</td>\n",
       "      <td>Сочи</td>\n",
       "    </tr>\n",
       "    <tr>\n",
       "      <th>2</th>\n",
       "      <td>75000</td>\n",
       "      <td>Аптека</td>\n",
       "      <td>Краснодар</td>\n",
       "    </tr>\n",
       "    <tr>\n",
       "      <th>3</th>\n",
       "      <td>17000</td>\n",
       "      <td>Детский</td>\n",
       "      <td>Тула</td>\n",
       "    </tr>\n",
       "    <tr>\n",
       "      <th>4</th>\n",
       "      <td>5700</td>\n",
       "      <td>Стройматериалы</td>\n",
       "      <td>Орёл</td>\n",
       "    </tr>\n",
       "    <tr>\n",
       "      <th>5</th>\n",
       "      <td>75000</td>\n",
       "      <td>Продукты</td>\n",
       "      <td>Спб</td>\n",
       "    </tr>\n",
       "    <tr>\n",
       "      <th>6</th>\n",
       "      <td>5700</td>\n",
       "      <td>Аптека</td>\n",
       "      <td>Тверь</td>\n",
       "    </tr>\n",
       "  </tbody>\n",
       "</table>\n",
       "</div>"
      ],
      "text/plain": [
       "    Доход           Товар      Город\n",
       "0  100000        Продукты     Москва\n",
       "1   20300    Всё для дома       Сочи\n",
       "2   75000          Аптека  Краснодар\n",
       "3   17000         Детский       Тула\n",
       "4    5700  Стройматериалы       Орёл\n",
       "5   75000        Продукты        Спб\n",
       "6    5700          Аптека      Тверь"
      ]
     },
     "execution_count": 119,
     "metadata": {},
     "output_type": "execute_result"
    }
   ],
   "source": [
    "df1[['Доход', 'Товар', 'Город']]"
   ]
  },
  {
   "cell_type": "code",
   "execution_count": 120,
   "id": "0286ce3b-f830-4fa1-8f95-d54ed8368c74",
   "metadata": {},
   "outputs": [
    {
     "data": {
      "text/html": [
       "<div>\n",
       "<style scoped>\n",
       "    .dataframe tbody tr th:only-of-type {\n",
       "        vertical-align: middle;\n",
       "    }\n",
       "\n",
       "    .dataframe tbody tr th {\n",
       "        vertical-align: top;\n",
       "    }\n",
       "\n",
       "    .dataframe thead th {\n",
       "        text-align: right;\n",
       "    }\n",
       "</style>\n",
       "<table border=\"1\" class=\"dataframe\">\n",
       "  <thead>\n",
       "    <tr style=\"text-align: right;\">\n",
       "      <th></th>\n",
       "      <th>Город</th>\n",
       "      <th>Кол-во магазинов</th>\n",
       "      <th>Товар</th>\n",
       "      <th>Доход</th>\n",
       "    </tr>\n",
       "  </thead>\n",
       "  <tbody>\n",
       "    <tr>\n",
       "      <th>0</th>\n",
       "      <td>Москва</td>\n",
       "      <td>17</td>\n",
       "      <td>Продукты</td>\n",
       "      <td>100000</td>\n",
       "    </tr>\n",
       "    <tr>\n",
       "      <th>1</th>\n",
       "      <td>Сочи</td>\n",
       "      <td>2</td>\n",
       "      <td>Всё для дома</td>\n",
       "      <td>20300</td>\n",
       "    </tr>\n",
       "    <tr>\n",
       "      <th>2</th>\n",
       "      <td>Краснодар</td>\n",
       "      <td>5</td>\n",
       "      <td>Аптека</td>\n",
       "      <td>75000</td>\n",
       "    </tr>\n",
       "  </tbody>\n",
       "</table>\n",
       "</div>"
      ],
      "text/plain": [
       "       Город  Кол-во магазинов         Товар   Доход\n",
       "0     Москва                17      Продукты  100000\n",
       "1       Сочи                 2  Всё для дома   20300\n",
       "2  Краснодар                 5        Аптека   75000"
      ]
     },
     "execution_count": 120,
     "metadata": {},
     "output_type": "execute_result"
    }
   ],
   "source": [
    "df1[0:3]"
   ]
  },
  {
   "cell_type": "code",
   "execution_count": 122,
   "id": "3abcc104-14d9-46a9-925d-7b5fb03338c7",
   "metadata": {},
   "outputs": [
    {
     "data": {
      "text/plain": [
       "Город                 Москва\n",
       "Кол-во магазинов          17\n",
       "Товар               Продукты\n",
       "Доход                 100000\n",
       "Name: 0, dtype: object"
      ]
     },
     "execution_count": 122,
     "metadata": {},
     "output_type": "execute_result"
    }
   ],
   "source": [
    "df1.iloc[0]"
   ]
  },
  {
   "cell_type": "code",
   "execution_count": 123,
   "id": "70a89633-ba3a-48b9-bc0f-11e363248f70",
   "metadata": {},
   "outputs": [
    {
     "data": {
      "text/plain": [
       "Город                       Сочи\n",
       "Кол-во магазинов               2\n",
       "Товар               Всё для дома\n",
       "Доход                      20300\n",
       "Name: 1, dtype: object"
      ]
     },
     "execution_count": 123,
     "metadata": {},
     "output_type": "execute_result"
    }
   ],
   "source": [
    "df1.iloc[1]"
   ]
  },
  {
   "cell_type": "code",
   "execution_count": 124,
   "id": "d8a724fa-fccf-478c-8c52-dda4192cb7c4",
   "metadata": {},
   "outputs": [
    {
     "data": {
      "text/html": [
       "<div>\n",
       "<style scoped>\n",
       "    .dataframe tbody tr th:only-of-type {\n",
       "        vertical-align: middle;\n",
       "    }\n",
       "\n",
       "    .dataframe tbody tr th {\n",
       "        vertical-align: top;\n",
       "    }\n",
       "\n",
       "    .dataframe thead th {\n",
       "        text-align: right;\n",
       "    }\n",
       "</style>\n",
       "<table border=\"1\" class=\"dataframe\">\n",
       "  <thead>\n",
       "    <tr style=\"text-align: right;\">\n",
       "      <th></th>\n",
       "      <th>Город</th>\n",
       "      <th>Кол-во магазинов</th>\n",
       "      <th>Товар</th>\n",
       "      <th>Доход</th>\n",
       "    </tr>\n",
       "  </thead>\n",
       "  <tbody>\n",
       "    <tr>\n",
       "      <th>1</th>\n",
       "      <td>Сочи</td>\n",
       "      <td>2</td>\n",
       "      <td>Всё для дома</td>\n",
       "      <td>20300</td>\n",
       "    </tr>\n",
       "    <tr>\n",
       "      <th>2</th>\n",
       "      <td>Краснодар</td>\n",
       "      <td>5</td>\n",
       "      <td>Аптека</td>\n",
       "      <td>75000</td>\n",
       "    </tr>\n",
       "  </tbody>\n",
       "</table>\n",
       "</div>"
      ],
      "text/plain": [
       "       Город  Кол-во магазинов         Товар  Доход\n",
       "1       Сочи                 2  Всё для дома  20300\n",
       "2  Краснодар                 5        Аптека  75000"
      ]
     },
     "execution_count": 124,
     "metadata": {},
     "output_type": "execute_result"
    }
   ],
   "source": [
    "df1.iloc[1:3]"
   ]
  },
  {
   "cell_type": "code",
   "execution_count": 125,
   "id": "24dcc2c0-f297-4ae1-bcba-d88abc7caad9",
   "metadata": {},
   "outputs": [
    {
     "data": {
      "text/html": [
       "<div>\n",
       "<style scoped>\n",
       "    .dataframe tbody tr th:only-of-type {\n",
       "        vertical-align: middle;\n",
       "    }\n",
       "\n",
       "    .dataframe tbody tr th {\n",
       "        vertical-align: top;\n",
       "    }\n",
       "\n",
       "    .dataframe thead th {\n",
       "        text-align: right;\n",
       "    }\n",
       "</style>\n",
       "<table border=\"1\" class=\"dataframe\">\n",
       "  <thead>\n",
       "    <tr style=\"text-align: right;\">\n",
       "      <th></th>\n",
       "      <th>Город</th>\n",
       "      <th>Кол-во магазинов</th>\n",
       "      <th>Товар</th>\n",
       "      <th>Доход</th>\n",
       "    </tr>\n",
       "  </thead>\n",
       "  <tbody>\n",
       "    <tr>\n",
       "      <th>0</th>\n",
       "      <td>Москва</td>\n",
       "      <td>17</td>\n",
       "      <td>Продукты</td>\n",
       "      <td>100000</td>\n",
       "    </tr>\n",
       "    <tr>\n",
       "      <th>1</th>\n",
       "      <td>Сочи</td>\n",
       "      <td>2</td>\n",
       "      <td>Всё для дома</td>\n",
       "      <td>20300</td>\n",
       "    </tr>\n",
       "    <tr>\n",
       "      <th>2</th>\n",
       "      <td>Краснодар</td>\n",
       "      <td>5</td>\n",
       "      <td>Аптека</td>\n",
       "      <td>75000</td>\n",
       "    </tr>\n",
       "    <tr>\n",
       "      <th>3</th>\n",
       "      <td>Тула</td>\n",
       "      <td>3</td>\n",
       "      <td>Детский</td>\n",
       "      <td>17000</td>\n",
       "    </tr>\n",
       "    <tr>\n",
       "      <th>4</th>\n",
       "      <td>Орёл</td>\n",
       "      <td>1</td>\n",
       "      <td>Стройматериалы</td>\n",
       "      <td>5700</td>\n",
       "    </tr>\n",
       "    <tr>\n",
       "      <th>5</th>\n",
       "      <td>Спб</td>\n",
       "      <td>10</td>\n",
       "      <td>Продукты</td>\n",
       "      <td>75000</td>\n",
       "    </tr>\n",
       "    <tr>\n",
       "      <th>6</th>\n",
       "      <td>Тверь</td>\n",
       "      <td>4</td>\n",
       "      <td>Аптека</td>\n",
       "      <td>5700</td>\n",
       "    </tr>\n",
       "  </tbody>\n",
       "</table>\n",
       "</div>"
      ],
      "text/plain": [
       "       Город  Кол-во магазинов           Товар   Доход\n",
       "0     Москва                17        Продукты  100000\n",
       "1       Сочи                 2    Всё для дома   20300\n",
       "2  Краснодар                 5          Аптека   75000\n",
       "3       Тула                 3         Детский   17000\n",
       "4       Орёл                 1  Стройматериалы    5700\n",
       "5        Спб                10        Продукты   75000\n",
       "6      Тверь                 4          Аптека    5700"
      ]
     },
     "execution_count": 125,
     "metadata": {},
     "output_type": "execute_result"
    }
   ],
   "source": [
    "df1"
   ]
  },
  {
   "cell_type": "code",
   "execution_count": 126,
   "id": "47121f26-0db5-4564-bd07-3a716f708654",
   "metadata": {},
   "outputs": [
    {
     "data": {
      "text/plain": [
       "2"
      ]
     },
     "execution_count": 126,
     "metadata": {},
     "output_type": "execute_result"
    }
   ],
   "source": [
    "df1.iloc[1, 1]"
   ]
  },
  {
   "cell_type": "code",
   "execution_count": 127,
   "id": "5a90cdaf-d44b-49cc-8bf7-b11ec72b4884",
   "metadata": {},
   "outputs": [
    {
     "data": {
      "text/plain": [
       "'Аптека'"
      ]
     },
     "execution_count": 127,
     "metadata": {},
     "output_type": "execute_result"
    }
   ],
   "source": [
    "df1.iloc[2, 2]"
   ]
  },
  {
   "cell_type": "code",
   "execution_count": 128,
   "id": "134a8660-3009-4e8b-a8d9-411dab14ffa0",
   "metadata": {},
   "outputs": [
    {
     "data": {
      "text/html": [
       "<div>\n",
       "<style scoped>\n",
       "    .dataframe tbody tr th:only-of-type {\n",
       "        vertical-align: middle;\n",
       "    }\n",
       "\n",
       "    .dataframe tbody tr th {\n",
       "        vertical-align: top;\n",
       "    }\n",
       "\n",
       "    .dataframe thead th {\n",
       "        text-align: right;\n",
       "    }\n",
       "</style>\n",
       "<table border=\"1\" class=\"dataframe\">\n",
       "  <thead>\n",
       "    <tr style=\"text-align: right;\">\n",
       "      <th></th>\n",
       "      <th>Товар</th>\n",
       "      <th>Доход</th>\n",
       "    </tr>\n",
       "  </thead>\n",
       "  <tbody>\n",
       "    <tr>\n",
       "      <th>1</th>\n",
       "      <td>Всё для дома</td>\n",
       "      <td>20300</td>\n",
       "    </tr>\n",
       "    <tr>\n",
       "      <th>2</th>\n",
       "      <td>Аптека</td>\n",
       "      <td>75000</td>\n",
       "    </tr>\n",
       "  </tbody>\n",
       "</table>\n",
       "</div>"
      ],
      "text/plain": [
       "          Товар  Доход\n",
       "1  Всё для дома  20300\n",
       "2        Аптека  75000"
      ]
     },
     "execution_count": 128,
     "metadata": {},
     "output_type": "execute_result"
    }
   ],
   "source": [
    "df1.iloc[1:3, 2:]"
   ]
  },
  {
   "cell_type": "code",
   "execution_count": null,
   "id": "a0e58733-bd4b-4ead-961d-c13784eef646",
   "metadata": {},
   "outputs": [],
   "source": []
  }
 ],
 "metadata": {
  "kernelspec": {
   "display_name": "Python 3 (ipykernel)",
   "language": "python",
   "name": "python3"
  },
  "language_info": {
   "codemirror_mode": {
    "name": "ipython",
    "version": 3
   },
   "file_extension": ".py",
   "mimetype": "text/x-python",
   "name": "python",
   "nbconvert_exporter": "python",
   "pygments_lexer": "ipython3",
   "version": "3.11.6"
  }
 },
 "nbformat": 4,
 "nbformat_minor": 5
}
