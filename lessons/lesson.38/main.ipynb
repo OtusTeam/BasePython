{
 "cells": [
  {
   "cell_type": "code",
   "execution_count": 4,
   "id": "03f3b286",
   "metadata": {},
   "outputs": [
    {
     "name": "stdout",
     "output_type": "stream",
     "text": [
      "<module 'numpy' from '/Users/suren/MyFiles/OTUS/lessons/Python-Basic.2023.02/38.numpy/venv/lib/python3.11/site-packages/numpy/__init__.py'>\n",
      "Help on package numpy.doc in numpy:\n",
      "\n",
      "NAME\n",
      "    numpy.doc\n",
      "\n",
      "DESCRIPTION\n",
      "    Topical documentation\n",
      "    =====================\n",
      "    \n",
      "    The following topics are available:\n",
      "    \n",
      "    - constants\n",
      "    - ufuncs\n",
      "    \n",
      "    You can view them by\n",
      "    \n",
      "    >>> help(np.doc.TOPIC)                                      #doctest: +SKIP\n",
      "\n",
      "PACKAGE CONTENTS\n",
      "    constants\n",
      "    ufuncs\n",
      "\n",
      "DATA\n",
      "    __all__ = ['constants', 'ufuncs', '__doc__']\n",
      "\n",
      "FILE\n",
      "    /Users/suren/MyFiles/OTUS/lessons/Python-Basic.2023.02/38.numpy/venv/lib/python3.11/site-packages/numpy/doc/__init__.py\n",
      "\n",
      "\n"
     ]
    }
   ],
   "source": [
    "# pip install numpy\n",
    "\n",
    "import numpy as np\n",
    "from numpy import doc\n",
    "\n",
    "print(repr(np))\n",
    "\n",
    "help(doc)"
   ]
  },
  {
   "cell_type": "code",
   "execution_count": 5,
   "id": "23b36ffd",
   "metadata": {},
   "outputs": [
    {
     "data": {
      "text/plain": [
       "<function numpy.array>"
      ]
     },
     "execution_count": 5,
     "metadata": {},
     "output_type": "execute_result"
    }
   ],
   "source": [
    "np.array"
   ]
  },
  {
   "cell_type": "code",
   "execution_count": 6,
   "id": "7f56ee06",
   "metadata": {},
   "outputs": [
    {
     "name": "stdout",
     "output_type": "stream",
     "text": [
      "[1 2 3]\n",
      "array([1, 2, 3])\n",
      "<class 'numpy.ndarray'>\n"
     ]
    }
   ],
   "source": [
    "a = np.array([1, 2, 3])\n",
    "print(a)\n",
    "print(repr(a))\n",
    "print(type(a))"
   ]
  },
  {
   "cell_type": "code",
   "execution_count": 7,
   "id": "9373169d",
   "metadata": {},
   "outputs": [
    {
     "name": "stdout",
     "output_type": "stream",
     "text": [
      "dim: 1\n",
      "shape (3,)\n"
     ]
    }
   ],
   "source": [
    "print(\"dim:\", a.ndim)\n",
    "print(\"shape\", a.shape)"
   ]
  },
  {
   "cell_type": "code",
   "execution_count": 8,
   "id": "2dca3ae5",
   "metadata": {},
   "outputs": [
    {
     "data": {
      "text/plain": [
       "dtype('int64')"
      ]
     },
     "execution_count": 8,
     "metadata": {},
     "output_type": "execute_result"
    }
   ],
   "source": [
    "a.dtype"
   ]
  },
  {
   "cell_type": "code",
   "execution_count": 9,
   "id": "e84bd7c5",
   "metadata": {},
   "outputs": [
    {
     "data": {
      "text/plain": [
       "8"
      ]
     },
     "execution_count": 9,
     "metadata": {},
     "output_type": "execute_result"
    }
   ],
   "source": [
    "a.itemsize"
   ]
  },
  {
   "cell_type": "code",
   "execution_count": 10,
   "id": "92a6e87f",
   "metadata": {},
   "outputs": [
    {
     "data": {
      "text/plain": [
       "array([[4, 5, 6],\n",
       "       [7, 8, 9]])"
      ]
     },
     "execution_count": 10,
     "metadata": {},
     "output_type": "execute_result"
    }
   ],
   "source": [
    "b = np.array([\n",
    "    [4, 5, 6],\n",
    "    [7, 8, 9],\n",
    "])\n",
    "b"
   ]
  },
  {
   "cell_type": "code",
   "execution_count": 11,
   "id": "66dd4377",
   "metadata": {},
   "outputs": [
    {
     "name": "stdout",
     "output_type": "stream",
     "text": [
      "dim: 2\n",
      "shape (2, 3)\n",
      "size: 6\n"
     ]
    }
   ],
   "source": [
    "print(\"dim:\", b.ndim)\n",
    "print(\"shape\", b.shape)\n",
    "print(\"size:\", b.size)"
   ]
  },
  {
   "cell_type": "code",
   "execution_count": 13,
   "id": "7accb4bc",
   "metadata": {},
   "outputs": [
    {
     "data": {
      "text/plain": [
       "dtype('int64')"
      ]
     },
     "execution_count": 13,
     "metadata": {},
     "output_type": "execute_result"
    }
   ],
   "source": [
    "b.dtype"
   ]
  },
  {
   "cell_type": "code",
   "execution_count": 14,
   "id": "2a730671",
   "metadata": {},
   "outputs": [
    {
     "data": {
      "text/plain": [
       "'int64'"
      ]
     },
     "execution_count": 14,
     "metadata": {},
     "output_type": "execute_result"
    }
   ],
   "source": [
    "b.dtype.name"
   ]
  },
  {
   "cell_type": "code",
   "execution_count": 15,
   "id": "a7df5f8a",
   "metadata": {},
   "outputs": [
    {
     "name": "stdout",
     "output_type": "stream",
     "text": [
      "int64\n",
      "8\n"
     ]
    }
   ],
   "source": [
    "print(b.dtype)\n",
    "print(b.itemsize)"
   ]
  },
  {
   "cell_type": "code",
   "execution_count": 16,
   "id": "46ee32e5",
   "metadata": {},
   "outputs": [
    {
     "name": "stdout",
     "output_type": "stream",
     "text": [
      "int32\n",
      "4\n"
     ]
    }
   ],
   "source": [
    "b.dtype = np.int32\n",
    "print(b.dtype)\n",
    "print(b.itemsize)"
   ]
  },
  {
   "cell_type": "code",
   "execution_count": 17,
   "id": "d3e728ad",
   "metadata": {},
   "outputs": [
    {
     "data": {
      "text/plain": [
       "array([1, 2, 3, 4], dtype=int8)"
      ]
     },
     "execution_count": 17,
     "metadata": {},
     "output_type": "execute_result"
    }
   ],
   "source": [
    "c = np.array([1, 2, 3, 4], dtype=np.int8)\n",
    "c"
   ]
  },
  {
   "cell_type": "code",
   "execution_count": 18,
   "id": "b4672107",
   "metadata": {},
   "outputs": [
    {
     "data": {
      "text/plain": [
       "1"
      ]
     },
     "execution_count": 18,
     "metadata": {},
     "output_type": "execute_result"
    }
   ],
   "source": [
    "c.itemsize"
   ]
  },
  {
   "cell_type": "code",
   "execution_count": 19,
   "id": "83963e02",
   "metadata": {},
   "outputs": [
    {
     "data": {
      "text/plain": [
       "array([ 1,  2,  3,  4,  5,  6,  7,  8,  9, 10, 11])"
      ]
     },
     "execution_count": 19,
     "metadata": {},
     "output_type": "execute_result"
    }
   ],
   "source": [
    "np.array(range(1, 12))"
   ]
  },
  {
   "cell_type": "code",
   "execution_count": 20,
   "id": "b7480352",
   "metadata": {},
   "outputs": [
    {
     "data": {
      "text/plain": [
       "array([0, 1, 2, 3, 4, 5, 6, 7])"
      ]
     },
     "execution_count": 20,
     "metadata": {},
     "output_type": "execute_result"
    }
   ],
   "source": [
    "np.array(range(8))"
   ]
  },
  {
   "cell_type": "code",
   "execution_count": 21,
   "id": "2d6cd51d",
   "metadata": {},
   "outputs": [
    {
     "data": {
      "text/plain": [
       "array([0, 1, 2, 3, 4, 5, 6, 7])"
      ]
     },
     "execution_count": 21,
     "metadata": {},
     "output_type": "execute_result"
    }
   ],
   "source": [
    "np.arange(8)"
   ]
  },
  {
   "cell_type": "code",
   "execution_count": 22,
   "id": "370ef60c",
   "metadata": {},
   "outputs": [
    {
     "data": {
      "text/plain": [
       "array([ 15,  20,  25,  30,  35,  40,  45,  50,  55,  60,  65,  70,  75,\n",
       "        80,  85,  90,  95, 100, 105, 110])"
      ]
     },
     "execution_count": 22,
     "metadata": {},
     "output_type": "execute_result"
    }
   ],
   "source": [
    "np.array(range(15, 115, 5))"
   ]
  },
  {
   "cell_type": "code",
   "execution_count": 23,
   "id": "d50206ae",
   "metadata": {},
   "outputs": [
    {
     "data": {
      "text/plain": [
       "array([ 15,  20,  25,  30,  35,  40,  45,  50,  55,  60,  65,  70,  75,\n",
       "        80,  85,  90,  95, 100, 105, 110])"
      ]
     },
     "execution_count": 23,
     "metadata": {},
     "output_type": "execute_result"
    }
   ],
   "source": [
    "np.arange(15, 115, 5)"
   ]
  },
  {
   "cell_type": "code",
   "execution_count": 24,
   "id": "07a819d1",
   "metadata": {},
   "outputs": [
    {
     "data": {
      "text/plain": [
       "array([[ 15,  20,  25,  30,  35],\n",
       "       [ 40,  45,  50,  55,  60],\n",
       "       [ 65,  70,  75,  80,  85],\n",
       "       [ 90,  95, 100, 105, 110]])"
      ]
     },
     "execution_count": 24,
     "metadata": {},
     "output_type": "execute_result"
    }
   ],
   "source": [
    "a = np.arange(15, 115, 5).reshape(4, 5)\n",
    "a"
   ]
  },
  {
   "cell_type": "code",
   "execution_count": 25,
   "id": "da7f6fd0",
   "metadata": {},
   "outputs": [
    {
     "data": {
      "text/plain": [
       "2"
      ]
     },
     "execution_count": 25,
     "metadata": {},
     "output_type": "execute_result"
    }
   ],
   "source": [
    "a.ndim"
   ]
  },
  {
   "cell_type": "code",
   "execution_count": 26,
   "id": "fff33744",
   "metadata": {},
   "outputs": [
    {
     "data": {
      "text/plain": [
       "(4, 5)"
      ]
     },
     "execution_count": 26,
     "metadata": {},
     "output_type": "execute_result"
    }
   ],
   "source": [
    "a.shape"
   ]
  },
  {
   "cell_type": "code",
   "execution_count": 27,
   "id": "b3486511",
   "metadata": {},
   "outputs": [
    {
     "data": {
      "text/plain": [
       "array([1, 2])"
      ]
     },
     "execution_count": 27,
     "metadata": {},
     "output_type": "execute_result"
    }
   ],
   "source": [
    "a = np.array([1, 2])\n",
    "a"
   ]
  },
  {
   "cell_type": "code",
   "execution_count": 28,
   "id": "50be5397",
   "metadata": {},
   "outputs": [
    {
     "data": {
      "text/plain": [
       "dtype('int64')"
      ]
     },
     "execution_count": 28,
     "metadata": {},
     "output_type": "execute_result"
    }
   ],
   "source": [
    "a.dtype"
   ]
  },
  {
   "cell_type": "code",
   "execution_count": 29,
   "id": "a9c675e1",
   "metadata": {},
   "outputs": [
    {
     "data": {
      "text/plain": [
       "array([3, 3])"
      ]
     },
     "execution_count": 29,
     "metadata": {},
     "output_type": "execute_result"
    }
   ],
   "source": [
    "a.fill(3)\n",
    "a"
   ]
  },
  {
   "cell_type": "code",
   "execution_count": 30,
   "id": "237fc939",
   "metadata": {},
   "outputs": [
    {
     "data": {
      "text/plain": [
       "array([6.68130202e-125, 1.22920287e+300])"
      ]
     },
     "execution_count": 30,
     "metadata": {},
     "output_type": "execute_result"
    }
   ],
   "source": [
    "a = np.empty(2)\n",
    "a"
   ]
  },
  {
   "cell_type": "code",
   "execution_count": 31,
   "id": "e9200768",
   "metadata": {},
   "outputs": [
    {
     "data": {
      "text/plain": [
       "dtype('float64')"
      ]
     },
     "execution_count": 31,
     "metadata": {},
     "output_type": "execute_result"
    }
   ],
   "source": [
    "a.dtype"
   ]
  },
  {
   "cell_type": "code",
   "execution_count": 32,
   "id": "52f150ea",
   "metadata": {},
   "outputs": [
    {
     "data": {
      "text/plain": [
       "array([1., 1.])"
      ]
     },
     "execution_count": 32,
     "metadata": {},
     "output_type": "execute_result"
    }
   ],
   "source": [
    "a.fill(1)\n",
    "a"
   ]
  },
  {
   "cell_type": "code",
   "execution_count": 33,
   "id": "428b91df",
   "metadata": {},
   "outputs": [
    {
     "data": {
      "text/plain": [
       "dtype('float64')"
      ]
     },
     "execution_count": 33,
     "metadata": {},
     "output_type": "execute_result"
    }
   ],
   "source": [
    "a.dtype"
   ]
  },
  {
   "cell_type": "code",
   "execution_count": 34,
   "id": "0044f946",
   "metadata": {},
   "outputs": [
    {
     "data": {
      "text/plain": [
       "array([1. , 1.5, 2. , 2.5, 3. , 3.5, 4. , 4.5])"
      ]
     },
     "execution_count": 34,
     "metadata": {},
     "output_type": "execute_result"
    }
   ],
   "source": [
    "a = np.arange(1, 5, 0.5)\n",
    "a"
   ]
  },
  {
   "cell_type": "code",
   "execution_count": 35,
   "id": "6d080dbf",
   "metadata": {},
   "outputs": [
    {
     "data": {
      "text/plain": [
       "dtype('float64')"
      ]
     },
     "execution_count": 35,
     "metadata": {},
     "output_type": "execute_result"
    }
   ],
   "source": [
    "a.dtype"
   ]
  },
  {
   "cell_type": "code",
   "execution_count": 36,
   "id": "7144a377",
   "metadata": {},
   "outputs": [
    {
     "data": {
      "text/plain": [
       "array([0. , 0.3, 0.6, 0.9, 1.2, 1.5, 1.8])"
      ]
     },
     "execution_count": 36,
     "metadata": {},
     "output_type": "execute_result"
    }
   ],
   "source": [
    "np.arange(0, 2, 0.3)"
   ]
  },
  {
   "cell_type": "code",
   "execution_count": 37,
   "id": "aac9de12",
   "metadata": {},
   "outputs": [
    {
     "name": "stdout",
     "output_type": "stream",
     "text": [
      "[0.         0.31578947 0.63157895 0.94736842 1.26315789 1.57894737\n",
      " 1.89473684 2.21052632 2.52631579 2.84210526 3.15789474 3.47368421\n",
      " 3.78947368 4.10526316 4.42105263 4.73684211 5.05263158 5.36842105\n",
      " 5.68421053 6.        ]\n"
     ]
    }
   ],
   "source": [
    "a = np.linspace(0, 6, 20)\n",
    "print(a)"
   ]
  },
  {
   "cell_type": "code",
   "execution_count": 38,
   "id": "afacc2a7",
   "metadata": {},
   "outputs": [
    {
     "data": {
      "text/plain": [
       "array([ 1. ,  5.5, 10. ])"
      ]
     },
     "execution_count": 38,
     "metadata": {},
     "output_type": "execute_result"
    }
   ],
   "source": [
    "np.linspace(1, 10, 3)"
   ]
  },
  {
   "cell_type": "code",
   "execution_count": 39,
   "id": "6185e454",
   "metadata": {},
   "outputs": [
    {
     "data": {
      "text/plain": [
       "array([0., 0., 0., 0., 0., 0., 0., 0., 0., 0.])"
      ]
     },
     "execution_count": 39,
     "metadata": {},
     "output_type": "execute_result"
    }
   ],
   "source": [
    "np.zeros(10)"
   ]
  },
  {
   "cell_type": "code",
   "execution_count": 40,
   "id": "e1052fd6",
   "metadata": {},
   "outputs": [
    {
     "data": {
      "text/plain": [
       "array([0., 0., 0., 0., 0., 0., 0., 0., 0., 0.])"
      ]
     },
     "execution_count": 40,
     "metadata": {},
     "output_type": "execute_result"
    }
   ],
   "source": [
    "SIZE = 10\n",
    "SHAPE = (SIZE, )\n",
    "\n",
    "np.zeros(SHAPE)"
   ]
  },
  {
   "cell_type": "code",
   "execution_count": 42,
   "id": "cdcff6fa",
   "metadata": {},
   "outputs": [
    {
     "data": {
      "text/plain": [
       "array([[0., 0., 0., 0., 0.],\n",
       "       [0., 0., 0., 0., 0.],\n",
       "       [0., 0., 0., 0., 0.]])"
      ]
     },
     "execution_count": 42,
     "metadata": {},
     "output_type": "execute_result"
    }
   ],
   "source": [
    "SIZE_X = 3\n",
    "SIZE_Y = 5\n",
    "SHAPE = (SIZE_X, SIZE_Y)\n",
    "\n",
    "a = np.zeros(SHAPE)\n",
    "a"
   ]
  },
  {
   "cell_type": "code",
   "execution_count": 43,
   "id": "99baea2d",
   "metadata": {},
   "outputs": [
    {
     "data": {
      "text/plain": [
       "dtype('float64')"
      ]
     },
     "execution_count": 43,
     "metadata": {},
     "output_type": "execute_result"
    }
   ],
   "source": [
    "a.dtype"
   ]
  },
  {
   "cell_type": "code",
   "execution_count": 44,
   "id": "fec044dd",
   "metadata": {},
   "outputs": [
    {
     "data": {
      "text/plain": [
       "15"
      ]
     },
     "execution_count": 44,
     "metadata": {},
     "output_type": "execute_result"
    }
   ],
   "source": [
    "a.size"
   ]
  },
  {
   "cell_type": "code",
   "execution_count": 45,
   "id": "5301c466",
   "metadata": {},
   "outputs": [
    {
     "data": {
      "text/plain": [
       "(3, 5)"
      ]
     },
     "execution_count": 45,
     "metadata": {},
     "output_type": "execute_result"
    }
   ],
   "source": [
    "a.shape"
   ]
  },
  {
   "cell_type": "code",
   "execution_count": 47,
   "id": "c62f752c",
   "metadata": {},
   "outputs": [
    {
     "data": {
      "text/plain": [
       "array([[0, 0, 0, 0, 0],\n",
       "       [0, 0, 0, 0, 0],\n",
       "       [0, 0, 0, 0, 0]], dtype=int32)"
      ]
     },
     "execution_count": 47,
     "metadata": {},
     "output_type": "execute_result"
    }
   ],
   "source": [
    "a = np.zeros(SHAPE, dtype=np.int32)\n",
    "a"
   ]
  },
  {
   "cell_type": "code",
   "execution_count": 48,
   "id": "0edf76b3",
   "metadata": {},
   "outputs": [
    {
     "data": {
      "text/plain": [
       "array([ 1,  2,  3,  4,  5,  6,  7,  8,  9, 10])"
      ]
     },
     "execution_count": 48,
     "metadata": {},
     "output_type": "execute_result"
    }
   ],
   "source": [
    "a = np.arange(1, 11)\n",
    "a"
   ]
  },
  {
   "cell_type": "code",
   "execution_count": 50,
   "id": "6fa73313",
   "metadata": {},
   "outputs": [
    {
     "data": {
      "text/plain": [
       "array([20, 22, 24, 26, 28, 30, 32, 34, 36, 38])"
      ]
     },
     "execution_count": 50,
     "metadata": {},
     "output_type": "execute_result"
    }
   ],
   "source": [
    "b = np.arange(20, 40, 2)\n",
    "b"
   ]
  },
  {
   "cell_type": "code",
   "execution_count": 51,
   "id": "17e74375",
   "metadata": {},
   "outputs": [
    {
     "name": "stdout",
     "output_type": "stream",
     "text": [
      "21\n",
      "24\n",
      "27\n",
      "30\n",
      "33\n",
      "36\n",
      "39\n",
      "42\n",
      "45\n",
      "48\n"
     ]
    }
   ],
   "source": [
    "for a_i, b_i in zip(a, b):\n",
    "    print(a_i + b_i)"
   ]
  },
  {
   "cell_type": "code",
   "execution_count": 52,
   "id": "bbac442f",
   "metadata": {},
   "outputs": [
    {
     "data": {
      "text/plain": [
       "array([21, 24, 27, 30, 33, 36, 39, 42, 45, 48])"
      ]
     },
     "execution_count": 52,
     "metadata": {},
     "output_type": "execute_result"
    }
   ],
   "source": [
    "a + b"
   ]
  },
  {
   "cell_type": "code",
   "execution_count": 53,
   "id": "b8f73855",
   "metadata": {},
   "outputs": [
    {
     "data": {
      "text/plain": [
       "[1, 2, 3, 4]"
      ]
     },
     "execution_count": 53,
     "metadata": {},
     "output_type": "execute_result"
    }
   ],
   "source": [
    "[1, 2] + [3, 4]"
   ]
  },
  {
   "cell_type": "code",
   "execution_count": 54,
   "id": "2dd85035",
   "metadata": {},
   "outputs": [
    {
     "data": {
      "text/plain": [
       "array([19, 20, 21, 22, 23, 24, 25, 26, 27, 28])"
      ]
     },
     "execution_count": 54,
     "metadata": {},
     "output_type": "execute_result"
    }
   ],
   "source": [
    "b - a"
   ]
  },
  {
   "cell_type": "code",
   "execution_count": 55,
   "id": "dbb0b3e8",
   "metadata": {},
   "outputs": [
    {
     "data": {
      "text/plain": [
       "array([ 20,  44,  72, 104, 140, 180, 224, 272, 324, 380])"
      ]
     },
     "execution_count": 55,
     "metadata": {},
     "output_type": "execute_result"
    }
   ],
   "source": [
    "a * b"
   ]
  },
  {
   "cell_type": "code",
   "execution_count": 56,
   "id": "ac4e2522",
   "metadata": {},
   "outputs": [
    {
     "name": "stdout",
     "output_type": "stream",
     "text": [
      "[[1 2 3]\n",
      " [4 5 6]]\n",
      "[[ 9 10 11]\n",
      " [12 13 14]]\n"
     ]
    }
   ],
   "source": [
    "SHAPE = 2, 3\n",
    "a = np.arange(1, 7).reshape(SHAPE)\n",
    "b = np.arange(9, 15).reshape(SHAPE)\n",
    "\n",
    "print(a)\n",
    "print(b)"
   ]
  },
  {
   "cell_type": "code",
   "execution_count": 57,
   "id": "7a0b127e",
   "metadata": {},
   "outputs": [
    {
     "name": "stdout",
     "output_type": "stream",
     "text": [
      "(2, 3)\n",
      "(2, 3)\n"
     ]
    }
   ],
   "source": [
    "print(a.shape)\n",
    "print(b.shape)"
   ]
  },
  {
   "cell_type": "code",
   "execution_count": 58,
   "id": "c19ff29b",
   "metadata": {},
   "outputs": [
    {
     "data": {
      "text/plain": [
       "array([[10, 12, 14],\n",
       "       [16, 18, 20]])"
      ]
     },
     "execution_count": 58,
     "metadata": {},
     "output_type": "execute_result"
    }
   ],
   "source": [
    "a + b"
   ]
  },
  {
   "cell_type": "code",
   "execution_count": 59,
   "id": "b41d9eba",
   "metadata": {},
   "outputs": [
    {
     "data": {
      "text/plain": [
       "array([[ 9, 20, 33],\n",
       "       [48, 65, 84]])"
      ]
     },
     "execution_count": 59,
     "metadata": {},
     "output_type": "execute_result"
    }
   ],
   "source": [
    "a * b"
   ]
  },
  {
   "cell_type": "code",
   "execution_count": 60,
   "id": "a7926af0",
   "metadata": {},
   "outputs": [
    {
     "data": {
      "text/plain": [
       "array([[8, 8, 8],\n",
       "       [8, 8, 8]])"
      ]
     },
     "execution_count": 60,
     "metadata": {},
     "output_type": "execute_result"
    }
   ],
   "source": [
    "b - a"
   ]
  },
  {
   "cell_type": "code",
   "execution_count": 61,
   "id": "136def8b",
   "metadata": {},
   "outputs": [
    {
     "data": {
      "text/plain": [
       "array([[-8, -8, -8],\n",
       "       [-8, -8, -8]])"
      ]
     },
     "execution_count": 61,
     "metadata": {},
     "output_type": "execute_result"
    }
   ],
   "source": [
    "a - b"
   ]
  },
  {
   "cell_type": "code",
   "execution_count": 62,
   "id": "50cd36a1",
   "metadata": {},
   "outputs": [
    {
     "data": {
      "text/plain": [
       "array([[9.        , 5.        , 3.66666667],\n",
       "       [3.        , 2.6       , 2.33333333]])"
      ]
     },
     "execution_count": 62,
     "metadata": {},
     "output_type": "execute_result"
    }
   ],
   "source": [
    "b / a"
   ]
  },
  {
   "cell_type": "code",
   "execution_count": 63,
   "id": "7386ec5a",
   "metadata": {},
   "outputs": [
    {
     "data": {
      "text/plain": [
       "array([[0.11111111, 0.2       , 0.27272727],\n",
       "       [0.33333333, 0.38461538, 0.42857143]])"
      ]
     },
     "execution_count": 63,
     "metadata": {},
     "output_type": "execute_result"
    }
   ],
   "source": [
    "a / b"
   ]
  },
  {
   "cell_type": "code",
   "execution_count": 64,
   "id": "6b330519",
   "metadata": {},
   "outputs": [
    {
     "ename": "ValueError",
     "evalue": "operands could not be broadcast together with shapes (2,) (3,) ",
     "output_type": "error",
     "traceback": [
      "\u001b[0;31m---------------------------------------------------------------------------\u001b[0m",
      "\u001b[0;31mValueError\u001b[0m                                Traceback (most recent call last)",
      "Cell \u001b[0;32mIn[64], line 1\u001b[0m\n\u001b[0;32m----> 1\u001b[0m \u001b[43mnp\u001b[49m\u001b[38;5;241;43m.\u001b[39;49m\u001b[43marange\u001b[49m\u001b[43m(\u001b[49m\u001b[38;5;241;43m2\u001b[39;49m\u001b[43m)\u001b[49m\u001b[43m \u001b[49m\u001b[38;5;241;43m+\u001b[39;49m\u001b[43m \u001b[49m\u001b[43mnp\u001b[49m\u001b[38;5;241;43m.\u001b[39;49m\u001b[43marange\u001b[49m\u001b[43m(\u001b[49m\u001b[38;5;241;43m3\u001b[39;49m\u001b[43m)\u001b[49m\n",
      "\u001b[0;31mValueError\u001b[0m: operands could not be broadcast together with shapes (2,) (3,) "
     ]
    }
   ],
   "source": [
    "# operands could not be broadcast together with shapes (2,) (3,) \n",
    "np.arange(2) + np.arange(3)"
   ]
  },
  {
   "cell_type": "code",
   "execution_count": 65,
   "id": "33999ce1",
   "metadata": {},
   "outputs": [
    {
     "name": "stdout",
     "output_type": "stream",
     "text": [
      "[0 1 2 3 4 5 6 7 8 9]\n",
      "[10 11 12 13 14 15 16 17 18 19]\n"
     ]
    }
   ],
   "source": [
    "a = np.arange(10)\n",
    "b = np.arange(10, 20)\n",
    "\n",
    "print(a)\n",
    "print(b)"
   ]
  },
  {
   "cell_type": "code",
   "execution_count": 66,
   "id": "836eb9b5",
   "metadata": {},
   "outputs": [
    {
     "data": {
      "text/plain": [
       "array([10, 12, 14, 16, 18, 20, 22, 24, 26, 28])"
      ]
     },
     "execution_count": 66,
     "metadata": {},
     "output_type": "execute_result"
    }
   ],
   "source": [
    "a + b"
   ]
  },
  {
   "cell_type": "code",
   "execution_count": 67,
   "id": "3345ecb8",
   "metadata": {},
   "outputs": [
    {
     "data": {
      "text/plain": [
       "array([0.        , 0.09090909, 0.16666667, 0.23076923, 0.28571429,\n",
       "       0.33333333, 0.375     , 0.41176471, 0.44444444, 0.47368421])"
      ]
     },
     "execution_count": 67,
     "metadata": {},
     "output_type": "execute_result"
    }
   ],
   "source": [
    "a / b"
   ]
  },
  {
   "cell_type": "code",
   "execution_count": 68,
   "id": "4b7b97d7",
   "metadata": {},
   "outputs": [
    {
     "name": "stderr",
     "output_type": "stream",
     "text": [
      "/var/folders/r0/f247yh3j4djfkghshd5yf41m0000gn/T/ipykernel_47464/1491818542.py:1: RuntimeWarning: divide by zero encountered in divide\n",
      "  b / a\n"
     ]
    },
    {
     "data": {
      "text/plain": [
       "array([        inf, 11.        ,  6.        ,  4.33333333,  3.5       ,\n",
       "        3.        ,  2.66666667,  2.42857143,  2.25      ,  2.11111111])"
      ]
     },
     "execution_count": 68,
     "metadata": {},
     "output_type": "execute_result"
    }
   ],
   "source": [
    "b / a"
   ]
  },
  {
   "cell_type": "code",
   "execution_count": 70,
   "id": "05cb6a81",
   "metadata": {},
   "outputs": [
    {
     "data": {
      "text/plain": [
       "<function diff at 0x1131efa30>"
      ]
     },
     "execution_count": 70,
     "metadata": {},
     "output_type": "execute_result"
    }
   ],
   "source": [
    "np.diff"
   ]
  },
  {
   "cell_type": "code",
   "execution_count": 71,
   "id": "e243787b",
   "metadata": {},
   "outputs": [
    {
     "data": {
      "text/plain": [
       "array([1, 1, 1, 1, 1, 1, 1, 1, 1])"
      ]
     },
     "execution_count": 71,
     "metadata": {},
     "output_type": "execute_result"
    }
   ],
   "source": [
    "np.diff(a)"
   ]
  },
  {
   "cell_type": "code",
   "execution_count": 72,
   "id": "38a2bf15",
   "metadata": {},
   "outputs": [
    {
     "data": {
      "text/plain": [
       "array([ 2, -1,  6, -4,  5])"
      ]
     },
     "execution_count": 72,
     "metadata": {},
     "output_type": "execute_result"
    }
   ],
   "source": [
    "np.diff(np.array([1, 3, 2, 8, 4, 9]))"
   ]
  },
  {
   "cell_type": "code",
   "execution_count": 85,
   "id": "c1704ffa",
   "metadata": {},
   "outputs": [
    {
     "data": {
      "text/plain": [
       "array([  1.,   2.,   4.,   8.,  16.,  32.,  64., 128.])"
      ]
     },
     "execution_count": 85,
     "metadata": {},
     "output_type": "execute_result"
    }
   ],
   "source": [
    "a = np.geomspace(1, 128, num=8)\n",
    "a"
   ]
  },
  {
   "cell_type": "code",
   "execution_count": 86,
   "id": "c7d52d7e",
   "metadata": {},
   "outputs": [
    {
     "data": {
      "text/plain": [
       "array([[  1.,   2.,   4.,   8.],\n",
       "       [ 16.,  32.,  64., 128.]])"
      ]
     },
     "execution_count": 86,
     "metadata": {},
     "output_type": "execute_result"
    }
   ],
   "source": [
    "a = a.reshape(2, 4)\n",
    "a"
   ]
  },
  {
   "cell_type": "code",
   "execution_count": 87,
   "id": "324b037c",
   "metadata": {},
   "outputs": [
    {
     "data": {
      "text/plain": [
       "2"
      ]
     },
     "execution_count": 87,
     "metadata": {},
     "output_type": "execute_result"
    }
   ],
   "source": [
    "a.ndim"
   ]
  },
  {
   "cell_type": "code",
   "execution_count": 88,
   "id": "6286a56a",
   "metadata": {},
   "outputs": [
    {
     "data": {
      "text/plain": [
       "(2, 4)"
      ]
     },
     "execution_count": 88,
     "metadata": {},
     "output_type": "execute_result"
    }
   ],
   "source": [
    "a.shape"
   ]
  },
  {
   "cell_type": "code",
   "execution_count": 89,
   "id": "9cc643d1",
   "metadata": {},
   "outputs": [
    {
     "data": {
      "text/plain": [
       "array([[ 1.,  2.,  4.],\n",
       "       [16., 32., 64.]])"
      ]
     },
     "execution_count": 89,
     "metadata": {},
     "output_type": "execute_result"
    }
   ],
   "source": [
    "np.diff(a)"
   ]
  },
  {
   "cell_type": "code",
   "execution_count": 92,
   "id": "198a6a96",
   "metadata": {},
   "outputs": [
    {
     "data": {
      "text/plain": [
       "array([[  1.        ,   1.77469563,   3.14954459,   5.58948304],\n",
       "       [  9.91963114,  17.60432608,  31.24232064,  55.44561003],\n",
       "       [ 98.39908203, 174.62842127, 309.91229678, 550.        ]])"
      ]
     },
     "execution_count": 92,
     "metadata": {},
     "output_type": "execute_result"
    }
   ],
   "source": [
    "a = np.geomspace(1, 550, num=12).reshape(3, 4)\n",
    "a"
   ]
  },
  {
   "cell_type": "code",
   "execution_count": 93,
   "id": "def17a36",
   "metadata": {},
   "outputs": [
    {
     "data": {
      "text/plain": [
       "array([[  0.77469563,   1.37484896,   2.43993845],\n",
       "       [  7.68469494,  13.63799455,  24.20328939],\n",
       "       [ 76.22933923, 135.28387552, 240.08770322]])"
      ]
     },
     "execution_count": 93,
     "metadata": {},
     "output_type": "execute_result"
    }
   ],
   "source": [
    "np.diff(a)"
   ]
  },
  {
   "cell_type": "code",
   "execution_count": 94,
   "id": "9a51fdcb",
   "metadata": {},
   "outputs": [
    {
     "data": {
      "text/plain": [
       "1258.6654112298233"
      ]
     },
     "execution_count": 94,
     "metadata": {},
     "output_type": "execute_result"
    }
   ],
   "source": [
    "np.sum(a)"
   ]
  },
  {
   "cell_type": "code",
   "execution_count": 95,
   "id": "978c2df6",
   "metadata": {},
   "outputs": [
    {
     "data": {
      "text/plain": [
       "6"
      ]
     },
     "execution_count": 95,
     "metadata": {},
     "output_type": "execute_result"
    }
   ],
   "source": [
    "sum([1, 2, 3])"
   ]
  },
  {
   "cell_type": "code",
   "execution_count": 97,
   "id": "685666dd",
   "metadata": {},
   "outputs": [
    {
     "data": {
      "text/plain": [
       "array([ 1.,  4.,  7., 10.])"
      ]
     },
     "execution_count": 97,
     "metadata": {},
     "output_type": "execute_result"
    }
   ],
   "source": [
    "a = np.linspace(1, 10, 4)\n",
    "a"
   ]
  },
  {
   "cell_type": "code",
   "execution_count": 98,
   "id": "a30aba10",
   "metadata": {},
   "outputs": [
    {
     "data": {
      "text/plain": [
       "22.0"
      ]
     },
     "execution_count": 98,
     "metadata": {},
     "output_type": "execute_result"
    }
   ],
   "source": [
    "np.sum(a)"
   ]
  },
  {
   "cell_type": "code",
   "execution_count": 99,
   "id": "6d458fa9",
   "metadata": {},
   "outputs": [
    {
     "data": {
      "text/plain": [
       "array([ 1.,  4.,  7., 10.])"
      ]
     },
     "execution_count": 99,
     "metadata": {},
     "output_type": "execute_result"
    }
   ],
   "source": [
    "a"
   ]
  },
  {
   "cell_type": "code",
   "execution_count": 100,
   "id": "55bd1c11",
   "metadata": {},
   "outputs": [
    {
     "data": {
      "text/plain": [
       "array([ 3., 12., 21., 30.])"
      ]
     },
     "execution_count": 100,
     "metadata": {},
     "output_type": "execute_result"
    }
   ],
   "source": [
    "a * 3"
   ]
  },
  {
   "cell_type": "code",
   "execution_count": 101,
   "id": "1b3c75c2",
   "metadata": {},
   "outputs": [
    {
     "data": {
      "text/plain": [
       "array([ 1.,  4.,  7., 10.])"
      ]
     },
     "execution_count": 101,
     "metadata": {},
     "output_type": "execute_result"
    }
   ],
   "source": [
    "a"
   ]
  },
  {
   "cell_type": "code",
   "execution_count": 106,
   "id": "7a689c40",
   "metadata": {},
   "outputs": [
    {
     "data": {
      "text/plain": [
       "array([[  1.,   2.,   4.,   8.],\n",
       "       [ 16.,  32.,  64., 128.]], dtype=float16)"
      ]
     },
     "execution_count": 106,
     "metadata": {},
     "output_type": "execute_result"
    }
   ],
   "source": [
    "a = np.geomspace(1, 128, num=8, dtype=np.float16).reshape(2, 4)\n",
    "a"
   ]
  },
  {
   "cell_type": "code",
   "execution_count": 107,
   "id": "d43434bc",
   "metadata": {},
   "outputs": [
    {
     "data": {
      "text/plain": [
       "255.0"
      ]
     },
     "execution_count": 107,
     "metadata": {},
     "output_type": "execute_result"
    }
   ],
   "source": [
    "np.sum(a)"
   ]
  },
  {
   "cell_type": "code",
   "execution_count": 108,
   "id": "e0dbb023",
   "metadata": {},
   "outputs": [
    {
     "data": {
      "text/plain": [
       "array([[  2.,   4.,   8.,  16.],\n",
       "       [ 32.,  64., 128., 256.]], dtype=float16)"
      ]
     },
     "execution_count": 108,
     "metadata": {},
     "output_type": "execute_result"
    }
   ],
   "source": [
    "a * 2"
   ]
  },
  {
   "cell_type": "code",
   "execution_count": 109,
   "id": "c227319b",
   "metadata": {},
   "outputs": [
    {
     "data": {
      "text/plain": [
       "array([ 17.,  34.,  68., 136.], dtype=float16)"
      ]
     },
     "execution_count": 109,
     "metadata": {},
     "output_type": "execute_result"
    }
   ],
   "source": [
    "np.sum(a, axis=0)"
   ]
  },
  {
   "cell_type": "code",
   "execution_count": 111,
   "id": "dd578f9f",
   "metadata": {},
   "outputs": [
    {
     "data": {
      "text/plain": [
       "(2, 4)"
      ]
     },
     "execution_count": 111,
     "metadata": {},
     "output_type": "execute_result"
    }
   ],
   "source": [
    "a.shape"
   ]
  },
  {
   "cell_type": "code",
   "execution_count": 112,
   "id": "097e7dcd",
   "metadata": {},
   "outputs": [
    {
     "data": {
      "text/plain": [
       "2"
      ]
     },
     "execution_count": 112,
     "metadata": {},
     "output_type": "execute_result"
    }
   ],
   "source": [
    "a.shape[0]"
   ]
  },
  {
   "cell_type": "code",
   "execution_count": 113,
   "id": "4eb1ff4b",
   "metadata": {},
   "outputs": [
    {
     "data": {
      "text/plain": [
       "4"
      ]
     },
     "execution_count": 113,
     "metadata": {},
     "output_type": "execute_result"
    }
   ],
   "source": [
    "a.shape[1]"
   ]
  },
  {
   "cell_type": "code",
   "execution_count": 114,
   "id": "e5923832",
   "metadata": {},
   "outputs": [
    {
     "data": {
      "text/plain": [
       "array([ 15., 240.], dtype=float16)"
      ]
     },
     "execution_count": 114,
     "metadata": {},
     "output_type": "execute_result"
    }
   ],
   "source": [
    "np.sum(a, axis=1)"
   ]
  },
  {
   "cell_type": "code",
   "execution_count": 117,
   "id": "dd2d0123",
   "metadata": {},
   "outputs": [
    {
     "data": {
      "text/plain": [
       "268435460.0"
      ]
     },
     "execution_count": 117,
     "metadata": {},
     "output_type": "execute_result"
    }
   ],
   "source": [
    "np.prod(a, dtype=np.float32)"
   ]
  },
  {
   "cell_type": "code",
   "execution_count": 118,
   "id": "45d17586",
   "metadata": {},
   "outputs": [
    {
     "data": {
      "text/plain": [
       "array([  16.,   64.,  256., 1024.], dtype=float16)"
      ]
     },
     "execution_count": 118,
     "metadata": {},
     "output_type": "execute_result"
    }
   ],
   "source": [
    "np.prod(a, axis=0)"
   ]
  },
  {
   "cell_type": "code",
   "execution_count": 120,
   "id": "34582c53",
   "metadata": {},
   "outputs": [
    {
     "data": {
      "text/plain": [
       "array([6.400000e+01, 4.194304e+06])"
      ]
     },
     "execution_count": 120,
     "metadata": {},
     "output_type": "execute_result"
    }
   ],
   "source": [
    "np.prod(a, axis=1, dtype=np.float64)"
   ]
  },
  {
   "cell_type": "code",
   "execution_count": 121,
   "id": "e22d7763",
   "metadata": {},
   "outputs": [
    {
     "data": {
      "text/plain": [
       "4194304"
      ]
     },
     "execution_count": 121,
     "metadata": {},
     "output_type": "execute_result"
    }
   ],
   "source": [
    "16 *  32 *  64 * 128"
   ]
  },
  {
   "cell_type": "code",
   "execution_count": 122,
   "id": "cf16d28d",
   "metadata": {},
   "outputs": [
    {
     "data": {
      "text/plain": [
       "array([[  1.,   2.,   4.,   8.],\n",
       "       [ 16.,  32.,  64., 128.]], dtype=float16)"
      ]
     },
     "execution_count": 122,
     "metadata": {},
     "output_type": "execute_result"
    }
   ],
   "source": [
    "a"
   ]
  },
  {
   "cell_type": "code",
   "execution_count": 123,
   "id": "5000d5a2",
   "metadata": {},
   "outputs": [
    {
     "data": {
      "text/plain": [
       "array([[1.000e+00, 4.000e+00, 1.600e+01, 6.400e+01],\n",
       "       [2.560e+02, 1.024e+03, 4.096e+03, 1.638e+04]], dtype=float16)"
      ]
     },
     "execution_count": 123,
     "metadata": {},
     "output_type": "execute_result"
    }
   ],
   "source": [
    "a ** 2"
   ]
  },
  {
   "cell_type": "code",
   "execution_count": 127,
   "id": "4b1736fd",
   "metadata": {},
   "outputs": [
    {
     "name": "stdout",
     "output_type": "stream",
     "text": [
      "2\n",
      "(4, 5)\n"
     ]
    },
    {
     "data": {
      "text/plain": [
       "array([[10, 11, 12, 13, 14],\n",
       "       [15, 16, 17, 18, 19],\n",
       "       [20, 21, 22, 23, 24],\n",
       "       [25, 26, 27, 28, 29]])"
      ]
     },
     "execution_count": 127,
     "metadata": {},
     "output_type": "execute_result"
    }
   ],
   "source": [
    "a = np.arange(10, 30).reshape(4, 5)\n",
    "print(a.ndim)\n",
    "print(a.shape)\n",
    "a"
   ]
  },
  {
   "cell_type": "code",
   "execution_count": 128,
   "id": "a09889cb",
   "metadata": {},
   "outputs": [
    {
     "name": "stdout",
     "output_type": "stream",
     "text": [
      "2\n",
      "(5, 4)\n"
     ]
    },
    {
     "data": {
      "text/plain": [
       "array([[10, 15, 20, 25],\n",
       "       [11, 16, 21, 26],\n",
       "       [12, 17, 22, 27],\n",
       "       [13, 18, 23, 28],\n",
       "       [14, 19, 24, 29]])"
      ]
     },
     "execution_count": 128,
     "metadata": {},
     "output_type": "execute_result"
    }
   ],
   "source": [
    "transposed_a = a.transpose()\n",
    "print(transposed_a.ndim)\n",
    "print(transposed_a.shape)\n",
    "transposed_a"
   ]
  },
  {
   "cell_type": "code",
   "execution_count": 129,
   "id": "355c7a5b",
   "metadata": {},
   "outputs": [
    {
     "data": {
      "text/plain": [
       "array([[10, 15, 20, 25],\n",
       "       [11, 16, 21, 26],\n",
       "       [12, 17, 22, 27],\n",
       "       [13, 18, 23, 28],\n",
       "       [14, 19, 24, 29]])"
      ]
     },
     "execution_count": 129,
     "metadata": {},
     "output_type": "execute_result"
    }
   ],
   "source": [
    "a.T"
   ]
  },
  {
   "cell_type": "code",
   "execution_count": 130,
   "id": "4f3ab7da",
   "metadata": {},
   "outputs": [
    {
     "data": {
      "text/plain": [
       "<module 'numpy.linalg' from '/Users/suren/MyFiles/OTUS/lessons/Python-Basic.2023.02/38.numpy/venv/lib/python3.11/site-packages/numpy/linalg/__init__.py'>"
      ]
     },
     "execution_count": 130,
     "metadata": {},
     "output_type": "execute_result"
    }
   ],
   "source": [
    "np.linalg"
   ]
  },
  {
   "cell_type": "code",
   "execution_count": 131,
   "id": "0db2b350",
   "metadata": {},
   "outputs": [
    {
     "name": "stdout",
     "output_type": "stream",
     "text": [
      "[[10 15]\n",
      " [20 25]]\n"
     ]
    },
    {
     "data": {
      "text/plain": [
       "-49.99999999999999"
      ]
     },
     "execution_count": 131,
     "metadata": {},
     "output_type": "execute_result"
    }
   ],
   "source": [
    "a = np.arange(10, 30, 5).reshape(2, 2)\n",
    "print(a)\n",
    "np.linalg.det(a)"
   ]
  },
  {
   "cell_type": "code",
   "execution_count": 132,
   "id": "4c38a3c1",
   "metadata": {},
   "outputs": [
    {
     "name": "stdout",
     "output_type": "stream",
     "text": [
      "[[1 2]\n",
      " [3 4]]\n"
     ]
    },
    {
     "data": {
      "text/plain": [
       "-2.0000000000000004"
      ]
     },
     "execution_count": 132,
     "metadata": {},
     "output_type": "execute_result"
    }
   ],
   "source": [
    "a = np.array([[1, 2], [3, 4]])\n",
    "print(a)\n",
    "np.linalg.det(a)"
   ]
  },
  {
   "cell_type": "code",
   "execution_count": 133,
   "id": "07250e1f",
   "metadata": {},
   "outputs": [
    {
     "data": {
      "text/plain": [
       "0.30000000000000004"
      ]
     },
     "execution_count": 133,
     "metadata": {},
     "output_type": "execute_result"
    }
   ],
   "source": [
    "0.1 + 0.2"
   ]
  },
  {
   "cell_type": "code",
   "execution_count": 134,
   "id": "89326536",
   "metadata": {},
   "outputs": [
    {
     "name": "stdout",
     "output_type": "stream",
     "text": [
      "[0.1]\n",
      "[0.2]\n"
     ]
    },
    {
     "data": {
      "text/plain": [
       "array([0.3])"
      ]
     },
     "execution_count": 134,
     "metadata": {},
     "output_type": "execute_result"
    }
   ],
   "source": [
    "a = np.array([0.1])\n",
    "b = np.array([0.2])\n",
    "print(a)\n",
    "print(b)\n",
    "a + b"
   ]
  },
  {
   "cell_type": "code",
   "execution_count": 135,
   "id": "47013060",
   "metadata": {},
   "outputs": [
    {
     "data": {
      "text/plain": [
       "array([0.1])"
      ]
     },
     "execution_count": 135,
     "metadata": {},
     "output_type": "execute_result"
    }
   ],
   "source": [
    "a"
   ]
  },
  {
   "cell_type": "code",
   "execution_count": 140,
   "id": "89f06fe1",
   "metadata": {},
   "outputs": [
    {
     "data": {
      "text/plain": [
       "array([[10, 11, 12, 13],\n",
       "       [14, 15, 16, 17],\n",
       "       [18, 19, 20, 21]])"
      ]
     },
     "execution_count": 140,
     "metadata": {},
     "output_type": "execute_result"
    }
   ],
   "source": [
    "a = np.arange(10, 22).reshape(3, 4)\n",
    "a"
   ]
  },
  {
   "cell_type": "code",
   "execution_count": 141,
   "id": "0a37ca81",
   "metadata": {},
   "outputs": [
    {
     "data": {
      "text/plain": [
       "array([[False, False, False, False],\n",
       "       [ True,  True,  True,  True],\n",
       "       [ True,  True,  True,  True]])"
      ]
     },
     "execution_count": 141,
     "metadata": {},
     "output_type": "execute_result"
    }
   ],
   "source": [
    "a > 13"
   ]
  },
  {
   "cell_type": "code",
   "execution_count": 142,
   "id": "96bcc560",
   "metadata": {},
   "outputs": [
    {
     "name": "stdout",
     "output_type": "stream",
     "text": [
      "bool\n",
      "2\n",
      "(3, 4)\n",
      "(3, 4)\n"
     ]
    }
   ],
   "source": [
    "result = a > 13\n",
    "print(result.dtype)\n",
    "print(result.ndim)\n",
    "print(result.shape)\n",
    "print(a.shape)"
   ]
  },
  {
   "cell_type": "code",
   "execution_count": 143,
   "id": "612949a3",
   "metadata": {},
   "outputs": [
    {
     "data": {
      "text/plain": [
       "dtype('bool')"
      ]
     },
     "execution_count": 143,
     "metadata": {},
     "output_type": "execute_result"
    }
   ],
   "source": [
    "result.dtype"
   ]
  },
  {
   "cell_type": "code",
   "execution_count": 144,
   "id": "101c64c9",
   "metadata": {},
   "outputs": [
    {
     "data": {
      "text/plain": [
       "array([[ True,  True,  True,  True],\n",
       "       [ True,  True,  True,  True],\n",
       "       [ True,  True,  True,  True]])"
      ]
     },
     "execution_count": 144,
     "metadata": {},
     "output_type": "execute_result"
    }
   ],
   "source": [
    "a == a"
   ]
  },
  {
   "cell_type": "code",
   "execution_count": 146,
   "id": "b8e3fde1",
   "metadata": {},
   "outputs": [
    {
     "data": {
      "text/plain": [
       "array([[23, 22, 21, 20],\n",
       "       [19, 18, 17, 16],\n",
       "       [15, 14, 13, 12]])"
      ]
     },
     "execution_count": 146,
     "metadata": {},
     "output_type": "execute_result"
    }
   ],
   "source": [
    "b = np.arange(23, 11, -1).reshape(3, 4)\n",
    "b"
   ]
  },
  {
   "cell_type": "code",
   "execution_count": 147,
   "id": "98e876f4",
   "metadata": {},
   "outputs": [
    {
     "data": {
      "text/plain": [
       "array([[10, 11, 12, 13],\n",
       "       [14, 15, 16, 17],\n",
       "       [18, 19, 20, 21]])"
      ]
     },
     "execution_count": 147,
     "metadata": {},
     "output_type": "execute_result"
    }
   ],
   "source": [
    "a"
   ]
  },
  {
   "cell_type": "code",
   "execution_count": 148,
   "id": "c10b9042",
   "metadata": {},
   "outputs": [
    {
     "data": {
      "text/plain": [
       "array([[False, False, False, False],\n",
       "       [False, False, False,  True],\n",
       "       [ True,  True,  True,  True]])"
      ]
     },
     "execution_count": 148,
     "metadata": {},
     "output_type": "execute_result"
    }
   ],
   "source": [
    "a > b"
   ]
  },
  {
   "cell_type": "code",
   "execution_count": 149,
   "id": "03371385",
   "metadata": {},
   "outputs": [
    {
     "data": {
      "text/plain": [
       "array([[-13, -11,  -9,  -7],\n",
       "       [ -5,  -3,  -1,   1],\n",
       "       [  3,   5,   7,   9]])"
      ]
     },
     "execution_count": 149,
     "metadata": {},
     "output_type": "execute_result"
    }
   ],
   "source": [
    "a - b"
   ]
  },
  {
   "cell_type": "code",
   "execution_count": 150,
   "id": "de9cd8aa",
   "metadata": {},
   "outputs": [
    {
     "data": {
      "text/plain": [
       "array([[0.43478261, 0.5       , 0.57142857, 0.65      ],\n",
       "       [0.73684211, 0.83333333, 0.94117647, 1.0625    ],\n",
       "       [1.2       , 1.35714286, 1.53846154, 1.75      ]])"
      ]
     },
     "execution_count": 150,
     "metadata": {},
     "output_type": "execute_result"
    }
   ],
   "source": [
    "a / b"
   ]
  },
  {
   "cell_type": "code",
   "execution_count": 151,
   "id": "e7925137",
   "metadata": {},
   "outputs": [
    {
     "data": {
      "text/plain": [
       "array([0, 1, 2, 3, 4, 5, 6, 7, 8, 9])"
      ]
     },
     "execution_count": 151,
     "metadata": {},
     "output_type": "execute_result"
    }
   ],
   "source": [
    "a = np.arange(10)\n",
    "a"
   ]
  },
  {
   "cell_type": "code",
   "execution_count": 152,
   "id": "3d750713",
   "metadata": {},
   "outputs": [
    {
     "data": {
      "text/plain": [
       "0"
      ]
     },
     "execution_count": 152,
     "metadata": {},
     "output_type": "execute_result"
    }
   ],
   "source": [
    "a[0]"
   ]
  },
  {
   "cell_type": "code",
   "execution_count": 153,
   "id": "fa2b4fa2",
   "metadata": {},
   "outputs": [
    {
     "data": {
      "text/plain": [
       "2"
      ]
     },
     "execution_count": 153,
     "metadata": {},
     "output_type": "execute_result"
    }
   ],
   "source": [
    "a[2]"
   ]
  },
  {
   "cell_type": "code",
   "execution_count": 154,
   "id": "803100b5",
   "metadata": {},
   "outputs": [
    {
     "data": {
      "text/plain": [
       "array([10, 11, 12, 13, 14, 15, 16, 17, 18, 19])"
      ]
     },
     "execution_count": 154,
     "metadata": {},
     "output_type": "execute_result"
    }
   ],
   "source": [
    "a = np.arange(10, 20)\n",
    "a"
   ]
  },
  {
   "cell_type": "code",
   "execution_count": 155,
   "id": "a443c27b",
   "metadata": {},
   "outputs": [
    {
     "data": {
      "text/plain": [
       "10"
      ]
     },
     "execution_count": 155,
     "metadata": {},
     "output_type": "execute_result"
    }
   ],
   "source": [
    "a[0]"
   ]
  },
  {
   "cell_type": "code",
   "execution_count": 156,
   "id": "c61e390f",
   "metadata": {},
   "outputs": [
    {
     "data": {
      "text/plain": [
       "19"
      ]
     },
     "execution_count": 156,
     "metadata": {},
     "output_type": "execute_result"
    }
   ],
   "source": [
    "a[9]"
   ]
  },
  {
   "cell_type": "code",
   "execution_count": 157,
   "id": "92cfe13f",
   "metadata": {},
   "outputs": [
    {
     "data": {
      "text/plain": [
       "array([10, 11, 12, 13, 14])"
      ]
     },
     "execution_count": 157,
     "metadata": {},
     "output_type": "execute_result"
    }
   ],
   "source": [
    "a[:5]"
   ]
  },
  {
   "cell_type": "code",
   "execution_count": 158,
   "id": "e1f3cab3",
   "metadata": {},
   "outputs": [
    {
     "data": {
      "text/plain": [
       "array([16, 17, 18, 19])"
      ]
     },
     "execution_count": 158,
     "metadata": {},
     "output_type": "execute_result"
    }
   ],
   "source": [
    "a[6:]"
   ]
  },
  {
   "cell_type": "code",
   "execution_count": 159,
   "id": "3855e38f",
   "metadata": {},
   "outputs": [
    {
     "data": {
      "text/plain": [
       "array([13, 14, 15, 16])"
      ]
     },
     "execution_count": 159,
     "metadata": {},
     "output_type": "execute_result"
    }
   ],
   "source": [
    "a[3:7]"
   ]
  },
  {
   "cell_type": "code",
   "execution_count": 160,
   "id": "90c66b82",
   "metadata": {},
   "outputs": [
    {
     "data": {
      "text/plain": [
       "array([12, 15])"
      ]
     },
     "execution_count": 160,
     "metadata": {},
     "output_type": "execute_result"
    }
   ],
   "source": [
    "a[2:7:3]"
   ]
  },
  {
   "cell_type": "code",
   "execution_count": 161,
   "id": "9f02fe67",
   "metadata": {},
   "outputs": [
    {
     "data": {
      "text/plain": [
       "array([13, 15, 17])"
      ]
     },
     "execution_count": 161,
     "metadata": {},
     "output_type": "execute_result"
    }
   ],
   "source": [
    "a[3:8:2]"
   ]
  },
  {
   "cell_type": "code",
   "execution_count": 162,
   "id": "8acfb444",
   "metadata": {},
   "outputs": [
    {
     "data": {
      "text/plain": [
       "array([10, 11, 12, 13, 14, 15, 16, 17, 18, 19])"
      ]
     },
     "execution_count": 162,
     "metadata": {},
     "output_type": "execute_result"
    }
   ],
   "source": [
    "a"
   ]
  },
  {
   "cell_type": "code",
   "execution_count": 163,
   "id": "0baac9c2",
   "metadata": {},
   "outputs": [
    {
     "data": {
      "text/plain": [
       "array([13, 15])"
      ]
     },
     "execution_count": 163,
     "metadata": {},
     "output_type": "execute_result"
    }
   ],
   "source": [
    "a[3:7:2]"
   ]
  },
  {
   "cell_type": "code",
   "execution_count": 164,
   "id": "5b08d76c",
   "metadata": {},
   "outputs": [
    {
     "data": {
      "text/plain": [
       "array([12, 15])"
      ]
     },
     "execution_count": 164,
     "metadata": {},
     "output_type": "execute_result"
    }
   ],
   "source": [
    "a[2:7:3]"
   ]
  },
  {
   "cell_type": "code",
   "execution_count": 165,
   "id": "2923b5e2",
   "metadata": {},
   "outputs": [
    {
     "data": {
      "text/plain": [
       "array([12, 15])"
      ]
     },
     "execution_count": 165,
     "metadata": {},
     "output_type": "execute_result"
    }
   ],
   "source": [
    "a[2:8:3]"
   ]
  },
  {
   "cell_type": "code",
   "execution_count": 166,
   "id": "e85dfe78",
   "metadata": {},
   "outputs": [
    {
     "data": {
      "text/plain": [
       "array([19, 18, 17, 16, 15, 14, 13, 12, 11, 10])"
      ]
     },
     "execution_count": 166,
     "metadata": {},
     "output_type": "execute_result"
    }
   ],
   "source": [
    "a[::-1]"
   ]
  },
  {
   "cell_type": "code",
   "execution_count": 167,
   "id": "e88546ce",
   "metadata": {},
   "outputs": [
    {
     "name": "stdout",
     "output_type": "stream",
     "text": [
      "[1, 2, 3, 4, 5, 6, 7]\n"
     ]
    }
   ],
   "source": [
    "numbers = list(range(1, 8))\n",
    "print(numbers)"
   ]
  },
  {
   "cell_type": "code",
   "execution_count": 168,
   "id": "d4e531fc",
   "metadata": {},
   "outputs": [
    {
     "data": {
      "text/plain": [
       "[3, 4, 5]"
      ]
     },
     "execution_count": 168,
     "metadata": {},
     "output_type": "execute_result"
    }
   ],
   "source": [
    "numbers[2:5]"
   ]
  },
  {
   "cell_type": "code",
   "execution_count": 169,
   "id": "471b69fb",
   "metadata": {},
   "outputs": [
    {
     "name": "stdout",
     "output_type": "stream",
     "text": [
      "[1, 2, 9, 10, 11, 6, 7]\n"
     ]
    }
   ],
   "source": [
    "numbers[2:5] = [9, 10, 11]\n",
    "print(numbers)"
   ]
  },
  {
   "cell_type": "code",
   "execution_count": 170,
   "id": "93593a1b",
   "metadata": {},
   "outputs": [
    {
     "data": {
      "text/plain": [
       "[1, 2, -1, -2, 6, 7]"
      ]
     },
     "execution_count": 170,
     "metadata": {},
     "output_type": "execute_result"
    }
   ],
   "source": [
    "numbers[2:5] = [-1, -2]\n",
    "numbers"
   ]
  },
  {
   "cell_type": "code",
   "execution_count": 171,
   "id": "3bf080cc",
   "metadata": {},
   "outputs": [],
   "source": [
    "numbers[2:5] = [4]"
   ]
  },
  {
   "cell_type": "code",
   "execution_count": 172,
   "id": "52cd7404",
   "metadata": {},
   "outputs": [
    {
     "data": {
      "text/plain": [
       "[1, 2, 4, 7]"
      ]
     },
     "execution_count": 172,
     "metadata": {},
     "output_type": "execute_result"
    }
   ],
   "source": [
    "numbers"
   ]
  },
  {
   "cell_type": "code",
   "execution_count": 173,
   "id": "9f642ed9",
   "metadata": {},
   "outputs": [
    {
     "ename": "TypeError",
     "evalue": "can only assign an iterable",
     "output_type": "error",
     "traceback": [
      "\u001b[0;31m---------------------------------------------------------------------------\u001b[0m",
      "\u001b[0;31mTypeError\u001b[0m                                 Traceback (most recent call last)",
      "Cell \u001b[0;32mIn[173], line 1\u001b[0m\n\u001b[0;32m----> 1\u001b[0m \u001b[43mnumbers\u001b[49m\u001b[43m[\u001b[49m\u001b[38;5;241;43m2\u001b[39;49m\u001b[43m:\u001b[49m\u001b[38;5;241;43m3\u001b[39;49m\u001b[43m]\u001b[49m \u001b[38;5;241m=\u001b[39m \u001b[38;5;241m1\u001b[39m\n",
      "\u001b[0;31mTypeError\u001b[0m: can only assign an iterable"
     ]
    }
   ],
   "source": [
    "numbers[2:3] = 1"
   ]
  },
  {
   "cell_type": "code",
   "execution_count": 174,
   "id": "b232b398",
   "metadata": {},
   "outputs": [
    {
     "data": {
      "text/plain": [
       "array([10, 11, 12, 13, 14, 15, 16, 17, 18, 19])"
      ]
     },
     "execution_count": 174,
     "metadata": {},
     "output_type": "execute_result"
    }
   ],
   "source": [
    "a"
   ]
  },
  {
   "cell_type": "code",
   "execution_count": 175,
   "id": "9239b7b9",
   "metadata": {},
   "outputs": [
    {
     "data": {
      "text/plain": [
       "array([13, 14])"
      ]
     },
     "execution_count": 175,
     "metadata": {},
     "output_type": "execute_result"
    }
   ],
   "source": [
    "a[3:5]"
   ]
  },
  {
   "cell_type": "code",
   "execution_count": 176,
   "id": "069d4252",
   "metadata": {},
   "outputs": [],
   "source": [
    "a[3:5] = [3, 4]"
   ]
  },
  {
   "cell_type": "code",
   "execution_count": 177,
   "id": "32313d2c",
   "metadata": {},
   "outputs": [
    {
     "data": {
      "text/plain": [
       "array([10, 11, 12,  3,  4, 15, 16, 17, 18, 19])"
      ]
     },
     "execution_count": 177,
     "metadata": {},
     "output_type": "execute_result"
    }
   ],
   "source": [
    "a"
   ]
  },
  {
   "cell_type": "code",
   "execution_count": 178,
   "id": "7274fcab",
   "metadata": {},
   "outputs": [
    {
     "data": {
      "text/plain": [
       "dtype('int64')"
      ]
     },
     "execution_count": 178,
     "metadata": {},
     "output_type": "execute_result"
    }
   ],
   "source": [
    "a.dtype"
   ]
  },
  {
   "cell_type": "code",
   "execution_count": 179,
   "id": "e2fb8c05",
   "metadata": {},
   "outputs": [
    {
     "data": {
      "text/plain": [
       "array([10, 11, 12,  7,  7,  7, 16, 17, 18, 19])"
      ]
     },
     "execution_count": 179,
     "metadata": {},
     "output_type": "execute_result"
    }
   ],
   "source": [
    "a[3:6] = 7\n",
    "a"
   ]
  },
  {
   "cell_type": "code",
   "execution_count": 180,
   "id": "16630c48",
   "metadata": {},
   "outputs": [
    {
     "data": {
      "text/plain": [
       "array([10,  7])"
      ]
     },
     "execution_count": 180,
     "metadata": {},
     "output_type": "execute_result"
    }
   ],
   "source": [
    "a[:5:3]"
   ]
  },
  {
   "cell_type": "code",
   "execution_count": 181,
   "id": "b83a49a9",
   "metadata": {},
   "outputs": [
    {
     "data": {
      "text/plain": [
       "array([ 4, 11, 12,  4,  7,  7, 16, 17, 18, 19])"
      ]
     },
     "execution_count": 181,
     "metadata": {},
     "output_type": "execute_result"
    }
   ],
   "source": [
    "a[:5:3] = 4\n",
    "a"
   ]
  },
  {
   "cell_type": "code",
   "execution_count": 190,
   "id": "46c5e2ed",
   "metadata": {},
   "outputs": [
    {
     "data": {
      "text/plain": [
       "array([[ 0,  1,  2,  3,  4],\n",
       "       [10, 11, 12, 13, 14],\n",
       "       [20, 21, 22, 23, 24],\n",
       "       [30, 31, 32, 33, 34]])"
      ]
     },
     "execution_count": 190,
     "metadata": {},
     "output_type": "execute_result"
    }
   ],
   "source": [
    "def func(x, y):\n",
    "    return 10 * x + y \n",
    "\n",
    "SHAPE = (4, 5)\n",
    "a = np.fromfunction(func, SHAPE, dtype=np.int64)\n",
    "a"
   ]
  },
  {
   "cell_type": "code",
   "execution_count": 191,
   "id": "7e71d125",
   "metadata": {},
   "outputs": [
    {
     "data": {
      "text/plain": [
       "dtype('int64')"
      ]
     },
     "execution_count": 191,
     "metadata": {},
     "output_type": "execute_result"
    }
   ],
   "source": [
    "a.dtype"
   ]
  },
  {
   "cell_type": "code",
   "execution_count": 192,
   "id": "48b33889",
   "metadata": {},
   "outputs": [],
   "source": [
    "a.dtype = int"
   ]
  },
  {
   "cell_type": "code",
   "execution_count": 193,
   "id": "91d1d45c",
   "metadata": {},
   "outputs": [
    {
     "data": {
      "text/plain": [
       "array([[ 0,  1,  2,  3,  4],\n",
       "       [10, 11, 12, 13, 14],\n",
       "       [20, 21, 22, 23, 24],\n",
       "       [30, 31, 32, 33, 34]])"
      ]
     },
     "execution_count": 193,
     "metadata": {},
     "output_type": "execute_result"
    }
   ],
   "source": [
    "a"
   ]
  },
  {
   "cell_type": "code",
   "execution_count": 194,
   "id": "a845004d",
   "metadata": {},
   "outputs": [
    {
     "data": {
      "text/plain": [
       "dtype('int64')"
      ]
     },
     "execution_count": 194,
     "metadata": {},
     "output_type": "execute_result"
    }
   ],
   "source": [
    "a.dtype"
   ]
  },
  {
   "cell_type": "code",
   "execution_count": 195,
   "id": "a1435b8c",
   "metadata": {},
   "outputs": [
    {
     "data": {
      "text/plain": [
       "array([0, 1, 2, 3, 4])"
      ]
     },
     "execution_count": 195,
     "metadata": {},
     "output_type": "execute_result"
    }
   ],
   "source": [
    "a[0]"
   ]
  },
  {
   "cell_type": "code",
   "execution_count": 196,
   "id": "d292f003",
   "metadata": {},
   "outputs": [
    {
     "data": {
      "text/plain": [
       "array([30, 31, 32, 33, 34])"
      ]
     },
     "execution_count": 196,
     "metadata": {},
     "output_type": "execute_result"
    }
   ],
   "source": [
    "a[-1]"
   ]
  },
  {
   "cell_type": "code",
   "execution_count": 197,
   "id": "15c9f4b5",
   "metadata": {},
   "outputs": [
    {
     "data": {
      "text/plain": [
       "array([20, 21, 22, 23, 24])"
      ]
     },
     "execution_count": 197,
     "metadata": {},
     "output_type": "execute_result"
    }
   ],
   "source": [
    "a[2]"
   ]
  },
  {
   "cell_type": "code",
   "execution_count": 198,
   "id": "0a044582",
   "metadata": {},
   "outputs": [
    {
     "data": {
      "text/plain": [
       "23"
      ]
     },
     "execution_count": 198,
     "metadata": {},
     "output_type": "execute_result"
    }
   ],
   "source": [
    "a[2][3]"
   ]
  },
  {
   "cell_type": "code",
   "execution_count": 199,
   "id": "f223f174",
   "metadata": {},
   "outputs": [
    {
     "data": {
      "text/plain": [
       "23"
      ]
     },
     "execution_count": 199,
     "metadata": {},
     "output_type": "execute_result"
    }
   ],
   "source": [
    "a[2, 3]"
   ]
  },
  {
   "cell_type": "code",
   "execution_count": 200,
   "id": "bc563621",
   "metadata": {},
   "outputs": [
    {
     "data": {
      "text/plain": [
       "32"
      ]
     },
     "execution_count": 200,
     "metadata": {},
     "output_type": "execute_result"
    }
   ],
   "source": [
    "a[3, 2]"
   ]
  },
  {
   "cell_type": "code",
   "execution_count": 201,
   "id": "95cc29f4",
   "metadata": {},
   "outputs": [
    {
     "data": {
      "text/plain": [
       "array([[ 0,  1,  2,  3,  4],\n",
       "       [10, 11, 12, 13, 14],\n",
       "       [20, 21, 22, 23, 24],\n",
       "       [30, 31, 32, 33, 34]])"
      ]
     },
     "execution_count": 201,
     "metadata": {},
     "output_type": "execute_result"
    }
   ],
   "source": [
    "a[:]"
   ]
  },
  {
   "cell_type": "code",
   "execution_count": 202,
   "id": "9c7f5d39",
   "metadata": {},
   "outputs": [
    {
     "data": {
      "text/plain": [
       "array([ 1, 11, 21, 31])"
      ]
     },
     "execution_count": 202,
     "metadata": {},
     "output_type": "execute_result"
    }
   ],
   "source": [
    "a[:, 1]"
   ]
  },
  {
   "cell_type": "code",
   "execution_count": 203,
   "id": "aef17b71",
   "metadata": {},
   "outputs": [
    {
     "data": {
      "text/plain": [
       "array([[ 1,  2],\n",
       "       [11, 12],\n",
       "       [21, 22],\n",
       "       [31, 32]])"
      ]
     },
     "execution_count": 203,
     "metadata": {},
     "output_type": "execute_result"
    }
   ],
   "source": [
    "a[:, 1:3]"
   ]
  },
  {
   "cell_type": "code",
   "execution_count": 204,
   "id": "060c2377",
   "metadata": {},
   "outputs": [
    {
     "data": {
      "text/plain": [
       "array([[21, 22],\n",
       "       [31, 32]])"
      ]
     },
     "execution_count": 204,
     "metadata": {},
     "output_type": "execute_result"
    }
   ],
   "source": [
    "a[2:, 1:3]"
   ]
  },
  {
   "cell_type": "code",
   "execution_count": 206,
   "id": "70c6dcf6",
   "metadata": {},
   "outputs": [
    {
     "data": {
      "text/plain": [
       "array([[23, 22],\n",
       "       [33, 32]])"
      ]
     },
     "execution_count": 206,
     "metadata": {},
     "output_type": "execute_result"
    }
   ],
   "source": [
    "a[2:, 3:1:-1]"
   ]
  },
  {
   "cell_type": "code",
   "execution_count": 207,
   "id": "261e7d7a",
   "metadata": {},
   "outputs": [
    {
     "data": {
      "text/plain": [
       "array([[33, 32]])"
      ]
     },
     "execution_count": 207,
     "metadata": {},
     "output_type": "execute_result"
    }
   ],
   "source": [
    "a[:2:-1, 3:1:-1]"
   ]
  },
  {
   "cell_type": "code",
   "execution_count": 212,
   "id": "b38ad38f",
   "metadata": {},
   "outputs": [
    {
     "data": {
      "text/plain": [
       "array([[33, 32],\n",
       "       [23, 22]])"
      ]
     },
     "execution_count": 212,
     "metadata": {},
     "output_type": "execute_result"
    }
   ],
   "source": [
    "a[:1:-1, 3:1:-1]"
   ]
  },
  {
   "cell_type": "code",
   "execution_count": 213,
   "id": "9a908404",
   "metadata": {},
   "outputs": [
    {
     "data": {
      "text/plain": [
       "array([[30, 31, 32, 33, 34],\n",
       "       [20, 21, 22, 23, 24],\n",
       "       [10, 11, 12, 13, 14],\n",
       "       [ 0,  1,  2,  3,  4]])"
      ]
     },
     "execution_count": 213,
     "metadata": {},
     "output_type": "execute_result"
    }
   ],
   "source": [
    "a[::-1]"
   ]
  },
  {
   "cell_type": "code",
   "execution_count": 214,
   "id": "ca644c32",
   "metadata": {},
   "outputs": [
    {
     "data": {
      "text/plain": [
       "array([[34, 33, 32, 31, 30],\n",
       "       [24, 23, 22, 21, 20],\n",
       "       [14, 13, 12, 11, 10],\n",
       "       [ 4,  3,  2,  1,  0]])"
      ]
     },
     "execution_count": 214,
     "metadata": {},
     "output_type": "execute_result"
    }
   ],
   "source": [
    "a[::-1, ::-1]"
   ]
  },
  {
   "cell_type": "code",
   "execution_count": 215,
   "id": "e92bffae",
   "metadata": {},
   "outputs": [
    {
     "data": {
      "text/plain": [
       "array([[[ 0,  1,  2,  3,  4,  5],\n",
       "        [ 6,  7,  8,  9, 10, 11],\n",
       "        [12, 13, 14, 15, 16, 17],\n",
       "        [18, 19, 20, 21, 22, 23]],\n",
       "\n",
       "       [[24, 25, 26, 27, 28, 29],\n",
       "        [30, 31, 32, 33, 34, 35],\n",
       "        [36, 37, 38, 39, 40, 41],\n",
       "        [42, 43, 44, 45, 46, 47]]])"
      ]
     },
     "execution_count": 215,
     "metadata": {},
     "output_type": "execute_result"
    }
   ],
   "source": [
    "SHAPE_3D = (2, 4, 6)\n",
    "a = np.arange(48).reshape(SHAPE_3D)\n",
    "a"
   ]
  },
  {
   "cell_type": "code",
   "execution_count": 216,
   "id": "f908ac3c",
   "metadata": {},
   "outputs": [
    {
     "name": "stdout",
     "output_type": "stream",
     "text": [
      "3\n",
      "(2, 4, 6)\n",
      "48\n"
     ]
    }
   ],
   "source": [
    "print(a.ndim)\n",
    "print(a.shape)\n",
    "print(a.size)"
   ]
  },
  {
   "cell_type": "code",
   "execution_count": 217,
   "id": "d7bb6d19",
   "metadata": {},
   "outputs": [
    {
     "data": {
      "text/plain": [
       "array([[ 0,  1,  2,  3,  4,  5],\n",
       "       [ 6,  7,  8,  9, 10, 11],\n",
       "       [12, 13, 14, 15, 16, 17],\n",
       "       [18, 19, 20, 21, 22, 23]])"
      ]
     },
     "execution_count": 217,
     "metadata": {},
     "output_type": "execute_result"
    }
   ],
   "source": [
    "a[0]"
   ]
  },
  {
   "cell_type": "code",
   "execution_count": 218,
   "id": "cc6ee6a1",
   "metadata": {},
   "outputs": [
    {
     "data": {
      "text/plain": [
       "array([[12, 13, 14, 15, 16, 17],\n",
       "       [36, 37, 38, 39, 40, 41]])"
      ]
     },
     "execution_count": 218,
     "metadata": {},
     "output_type": "execute_result"
    }
   ],
   "source": [
    "a[:, 2]"
   ]
  },
  {
   "cell_type": "code",
   "execution_count": 219,
   "id": "8bdb6908",
   "metadata": {},
   "outputs": [
    {
     "data": {
      "text/plain": [
       "array([[ 5, 11, 17, 23],\n",
       "       [29, 35, 41, 47]])"
      ]
     },
     "execution_count": 219,
     "metadata": {},
     "output_type": "execute_result"
    }
   ],
   "source": [
    "a[:, :, 5]"
   ]
  },
  {
   "cell_type": "code",
   "execution_count": 220,
   "id": "c414787b",
   "metadata": {},
   "outputs": [
    {
     "data": {
      "text/plain": [
       "array([[ 5, 11, 17, 23],\n",
       "       [29, 35, 41, 47]])"
      ]
     },
     "execution_count": 220,
     "metadata": {},
     "output_type": "execute_result"
    }
   ],
   "source": [
    "a[..., 5]"
   ]
  },
  {
   "cell_type": "code",
   "execution_count": 221,
   "id": "6b1d2be5",
   "metadata": {},
   "outputs": [
    {
     "data": {
      "text/plain": [
       "Ellipsis"
      ]
     },
     "execution_count": 221,
     "metadata": {},
     "output_type": "execute_result"
    }
   ],
   "source": [
    "..."
   ]
  },
  {
   "cell_type": "code",
   "execution_count": 222,
   "id": "14c9ff44",
   "metadata": {},
   "outputs": [
    {
     "name": "stdout",
     "output_type": "stream",
     "text": [
      "(2, 3, 4, 5, 6)\n"
     ]
    }
   ],
   "source": [
    "SHAPE_5D = tuple(range(2, 7))\n",
    "print(SHAPE_5D)"
   ]
  },
  {
   "cell_type": "code",
   "execution_count": 226,
   "id": "13d49415",
   "metadata": {},
   "outputs": [
    {
     "data": {
      "text/plain": [
       "array([[[[[     0,      0,      0,      0,    204,      0],\n",
       "          [     1,      0,   1536,   1428,      1,      0],\n",
       "          [-15777,   4608,      1,      0, -16031,   5395],\n",
       "          [     1,      0,      1,      0,      0,      0],\n",
       "          [    -1,     -1,     -1,     -1,     -1,     -1]],\n",
       "\n",
       "         [[    -1,     -1,   -464,   5379,      1,      0],\n",
       "          [     0,      0,     -1,     -1, -11412,   4608],\n",
       "          [     1,      0, -16031,   5395,      1,      0],\n",
       "          [     1,      0,      9,      0,      0,      0],\n",
       "          [     0,      0,      1,      0,      0,      0]],\n",
       "\n",
       "         [[  -464,   5379,      1,      0,     28,      0],\n",
       "          [    -1,     -1, -11396,   4608,      1,      0],\n",
       "          [-16031,   5395,      1,      0,      1,      0],\n",
       "          [    11,      0,     56,      0,      0,      0],\n",
       "          [     0,      0,      0,      0,     10,      0]],\n",
       "\n",
       "         [[     0,      0,     28,      0,     -1,     -1],\n",
       "          [-11388,   4608,      1,      0, -16031,   5395],\n",
       "          [     1,      0,      1,      0,     11,      0],\n",
       "          [   112,      0,      0,      0,      1,      0],\n",
       "          [     2,      0,    112,      0,      0,      0]]],\n",
       "\n",
       "\n",
       "        [[[    26,      0,     -1,     -1, -11364,   4608],\n",
       "          [     1,      0, -16031,   5395,      1,      0],\n",
       "          [     1,      0,      8,      0,    168,      0],\n",
       "          [     0,      0,      1,      0,      7,      0],\n",
       "          [   184,      0,      0,      0,     16,      0]],\n",
       "\n",
       "         [[    -1,     -1, -13900,   4608,      1,      0],\n",
       "          [ 13183,   5435,      1,      0,      1,      0],\n",
       "          [    11,      0,    224,      0,      0,      0],\n",
       "          [     1,      0,      3,      0,    240,      0],\n",
       "          [     0,      0, -24676,   4180,      1,      0]],\n",
       "\n",
       "         [[-13652,   4608,      1,      0,      1,      0],\n",
       "          [     2,      0,      1,      0,     11,      0],\n",
       "          [   280,      0,      0,      0,      0,      0],\n",
       "          [     0,      0,   -176,   5379,      1,      0],\n",
       "          [     1,      0,      1,      0, -24128,   1274]],\n",
       "\n",
       "         [[     1,      0,  11955,   5430,      1,      0],\n",
       "          [     1,      0,      7,      0,    336,      0],\n",
       "          [     0,      0,  11936,   5430,      1,      0],\n",
       "          [ 11955,   5430,      1,      0,      0,      0],\n",
       "          [     0,      0,      3,      0,      0,      0]]],\n",
       "\n",
       "\n",
       "        [[[ 14352,   5435,      1,      0,      2,      0],\n",
       "          [     1,      0, -24176,   1274,      1,      0],\n",
       "          [ 11959,   5430,      1,      0,      1,      0],\n",
       "          [     2,      0,    392,      0,      0,      0],\n",
       "          [ 11936,   5430,      1,      0,  11955,   5430]],\n",
       "\n",
       "         [[     1,      0,  11955,   5430,      1,      0],\n",
       "          [     1,      0,      0,      0,   -176,   5379],\n",
       "          [     1,      0,  27408,   5436,      1,      0],\n",
       "          [-24128,   1274,      1,      0,  11959,   5430],\n",
       "          [     1,      0,      1,      0,      9,      0]],\n",
       "\n",
       "         [[   472,      0,      0,      0, -17096,   1342],\n",
       "          [     1,      0,  -6192,   5379,      1,      0],\n",
       "          [-17096,   1342,      1,      0, -24124,   1274],\n",
       "          [     1,      0,  11959,   5430,      1,      0],\n",
       "          [     1,      0,      3,      0,    552,      0]],\n",
       "\n",
       "         [[     0,      0,      0,      0,      0,      0],\n",
       "          [ -6192,   5379,      1,      0,      3,      0],\n",
       "          [     2,      0, -23900,   1274,      1,      0],\n",
       "          [ 11959,   5430,      1,      0,      1,      0],\n",
       "          [     7,      0,    608,      0,      0,      0]]]],\n",
       "\n",
       "\n",
       "\n",
       "       [[[[ 11936,   5430,      1,      0,  11955,   5430],\n",
       "          [     1,      0,  11955,   5430,      1,      0],\n",
       "          [ 11959,   5430,      1,      0,      0,      0],\n",
       "          [     0,      0,  15216,   5435,      1,      0],\n",
       "          [-17096,   1342,      1,      0,      4,      0]],\n",
       "\n",
       "         [[     2,      0, -24100,   1274,      1,      0],\n",
       "          [ 11959,   5430,      1,      0,      1,      0],\n",
       "          [     2,      0,    664,      0,      0,      0],\n",
       "          [ 11936,   5430,      1,      0,  11955,   5430],\n",
       "          [     1,      0,  11955,   5430,      1,      0]],\n",
       "\n",
       "         [[ 11959,   5430,      1,      0,  11959,   5430],\n",
       "          [     1,      0,      1,      0,      0,      0],\n",
       "          [ -6192,   5379,      1,      0, -17096,   1342],\n",
       "          [     1,      0, -23900,   1274,      1,      0],\n",
       "          [ 11960,   5430,      1,      0,      1,      0]],\n",
       "\n",
       "         [[    11,      0,    760,      0,      0,      0],\n",
       "          [ 28528,   5436,      1,      0, -17096,   1342],\n",
       "          [     1,      0,  15696,   5435,      1,      0],\n",
       "          [-23900,   1274,      1,      0,  28640,   5436],\n",
       "          [     1,      0,      1,      0,      3,      0]]],\n",
       "\n",
       "\n",
       "        [[[   856,      0,      0,      0, -17096,   1342],\n",
       "          [     1,      0,  28752,   5436,      1,      0],\n",
       "          [-17096,   1342,      1,      0,  15888,   5435],\n",
       "          [     1,      0, -17096,   1342,      1,      0],\n",
       "          [-17096,   1342,      1,      0,  28864,   5436]],\n",
       "\n",
       "         [[     1,      0, -17096,   1342,      1,      0],\n",
       "          [ 15984,   5435,      1,      0, -17096,   1342],\n",
       "          [     1,      0,  28976,   5436,      1,      0],\n",
       "          [-17096,   1342,      1,      0,  16080,   5435],\n",
       "          [     1,      0, -17096,   1342,      1,      0]],\n",
       "\n",
       "         [[ 29088,   5436,      1,      0, -17096,   1342],\n",
       "          [     1,      0,  16176,   5435,      1,      0],\n",
       "          [-17096,   1342,      1,      0,  29200,   5436],\n",
       "          [     1,      0, -17096,   1342,      1,      0],\n",
       "          [ 16272,   5435,      1,      0, -17096,   1342]],\n",
       "\n",
       "         [[     1,      0,  29312,   5436,      1,      0],\n",
       "          [-17096,   1342,      1,      0,  13200,   5435],\n",
       "          [     1,      0, -17096,   1342,      1,      0],\n",
       "          [-17096,   1342,      1,      0,  29424,   5436],\n",
       "          [     1,      0, -17096,   1342,      1,      0]]],\n",
       "\n",
       "\n",
       "        [[[-32720,   5438,      1,      0, -17096,   1342],\n",
       "          [     1,      0,  29536,   5436,      1,      0],\n",
       "          [-17096,   1342,      1,      0, -32624,   5438],\n",
       "          [     1,      0, -17096,   1342,      1,      0],\n",
       "          [ 29648,   5436,      1,      0, -17096,   1342]],\n",
       "\n",
       "         [[     1,      0, -32528,   5438,      1,      0],\n",
       "          [-17096,   1342,      1,      0,  29760,   5436],\n",
       "          [     1,      0, -17096,   1342,      1,      0],\n",
       "          [-32432,   5438,      1,      0, -17096,   1342],\n",
       "          [     1,      0,  29872,   5436,      1,      0]],\n",
       "\n",
       "         [[-17096,   1342,      1,      0, -32336,   5438],\n",
       "          [     1,      0, -17096,   1342,      1,      0],\n",
       "          [-17096,   1342,      1,      0, -17096,   1342],\n",
       "          [     1,      0,  29984,   5436,      1,      0],\n",
       "          [-17096,   1342,      1,      0,  13440,   5396]],\n",
       "\n",
       "         [[     1,      0,  13504,   5396,      1,      0],\n",
       "          [ 13568,   5396,      1,      0,  13632,   5396],\n",
       "          [     1,      0, -19776,   5398,      1,      0],\n",
       "          [  -576,   5190,      1,      0,  -9792,   5190],\n",
       "          [     1,      0,  13760,   5396,      1,      0]]]]],\n",
       "      dtype=int16)"
      ]
     },
     "execution_count": 226,
     "metadata": {},
     "output_type": "execute_result"
    }
   ],
   "source": [
    "a = np.empty(SHAPE_5D, dtype=np.int16)\n",
    "a"
   ]
  },
  {
   "cell_type": "code",
   "execution_count": 227,
   "id": "df978e36",
   "metadata": {},
   "outputs": [
    {
     "name": "stdout",
     "output_type": "stream",
     "text": [
      "5\n",
      "(2, 3, 4, 5, 6)\n",
      "720\n"
     ]
    }
   ],
   "source": [
    "print(a.ndim)\n",
    "print(a.shape)\n",
    "print(a.size)"
   ]
  },
  {
   "cell_type": "code",
   "execution_count": 229,
   "id": "f8a3945a",
   "metadata": {},
   "outputs": [
    {
     "name": "stdout",
     "output_type": "stream",
     "text": [
      "3\n",
      "(3, 4, 5)\n",
      "60\n"
     ]
    },
    {
     "data": {
      "text/plain": [
       "array([[[   0, 5430,    0, 5435,    0],\n",
       "        [1274,    0,    0,    0, 5430],\n",
       "        [   0,    0,    0, 1274,    0],\n",
       "        [   0,    0, 5435,    0,    0]],\n",
       "\n",
       "       [[   0, 5436,    0, 1342,    0],\n",
       "        [1342,    0, 5436,    0, 1342],\n",
       "        [   0, 5435,    0, 1342,    0],\n",
       "        [5436,    0, 1342,    0, 1342]],\n",
       "\n",
       "       [[   0, 5436,    0, 1342,    0],\n",
       "        [5438,    0, 1342,    0, 5436],\n",
       "        [   0, 1342,    0, 5436,    0],\n",
       "        [5396,    0, 5398,    0, 5396]]], dtype=int16)"
      ]
     },
     "execution_count": 229,
     "metadata": {},
     "output_type": "execute_result"
    }
   ],
   "source": [
    "d = a[1, :, :, :, 3]\n",
    "print(d.ndim)\n",
    "print(d.shape)\n",
    "print(d.size)\n",
    "d"
   ]
  },
  {
   "cell_type": "code",
   "execution_count": 232,
   "id": "6139a003",
   "metadata": {},
   "outputs": [
    {
     "data": {
      "text/plain": [
       "array([[[   0, 5430,    0, 5435,    0],\n",
       "        [1274,    0,    0,    0, 5430],\n",
       "        [   0,    0,    0, 1274,    0],\n",
       "        [   0,    0, 5435,    0,    0]],\n",
       "\n",
       "       [[   0, 5436,    0, 1342,    0],\n",
       "        [1342,    0, 5436,    0, 1342],\n",
       "        [   0, 5435,    0, 1342,    0],\n",
       "        [5436,    0, 1342,    0, 1342]],\n",
       "\n",
       "       [[   0, 5436,    0, 1342,    0],\n",
       "        [5438,    0, 1342,    0, 5436],\n",
       "        [   0, 1342,    0, 5436,    0],\n",
       "        [5396,    0, 5398,    0, 5396]]], dtype=int16)"
      ]
     },
     "execution_count": 232,
     "metadata": {},
     "output_type": "execute_result"
    }
   ],
   "source": [
    "b = a[1, ..., 3]\n",
    "b"
   ]
  },
  {
   "cell_type": "code",
   "execution_count": 233,
   "id": "0e5a8cf3",
   "metadata": {},
   "outputs": [
    {
     "data": {
      "text/plain": [
       "array([[[ True,  True,  True,  True,  True],\n",
       "        [ True,  True,  True,  True,  True],\n",
       "        [ True,  True,  True,  True,  True],\n",
       "        [ True,  True,  True,  True,  True]],\n",
       "\n",
       "       [[ True,  True,  True,  True,  True],\n",
       "        [ True,  True,  True,  True,  True],\n",
       "        [ True,  True,  True,  True,  True],\n",
       "        [ True,  True,  True,  True,  True]],\n",
       "\n",
       "       [[ True,  True,  True,  True,  True],\n",
       "        [ True,  True,  True,  True,  True],\n",
       "        [ True,  True,  True,  True,  True],\n",
       "        [ True,  True,  True,  True,  True]]])"
      ]
     },
     "execution_count": 233,
     "metadata": {},
     "output_type": "execute_result"
    }
   ],
   "source": [
    "d == b"
   ]
  },
  {
   "cell_type": "code",
   "execution_count": 238,
   "id": "3cd0616a",
   "metadata": {},
   "outputs": [
    {
     "data": {
      "text/plain": [
       "array([[[[     0,  11955],\n",
       "         [  5430,      1],\n",
       "         [     0,      0],\n",
       "         [  5435,      1],\n",
       "         [     0,      4]],\n",
       "\n",
       "        [[  1274,      1],\n",
       "         [     0,      1],\n",
       "         [     0,      0],\n",
       "         [     0,  11955],\n",
       "         [  5430,      1]],\n",
       "\n",
       "        [[     0,  11959],\n",
       "         [     0,      0],\n",
       "         [     0, -17096],\n",
       "         [  1274,      1],\n",
       "         [     0,      1]],\n",
       "\n",
       "        [[     0,      0],\n",
       "         [     0, -17096],\n",
       "         [  5435,      1],\n",
       "         [     0,  28640],\n",
       "         [     0,      3]]],\n",
       "\n",
       "\n",
       "       [[[     0, -17096],\n",
       "         [  5436,      1],\n",
       "         [     0,  15888],\n",
       "         [  1342,      1],\n",
       "         [     0,  28864]],\n",
       "\n",
       "        [[  1342,      1],\n",
       "         [     0, -17096],\n",
       "         [  5436,      1],\n",
       "         [     0,  16080],\n",
       "         [  1342,      1]],\n",
       "\n",
       "        [[     0, -17096],\n",
       "         [  5435,      1],\n",
       "         [     0,  29200],\n",
       "         [  1342,      1],\n",
       "         [     0, -17096]],\n",
       "\n",
       "        [[  5436,      1],\n",
       "         [     0,  13200],\n",
       "         [  1342,      1],\n",
       "         [     0,  29424],\n",
       "         [  1342,      1]]],\n",
       "\n",
       "\n",
       "       [[[     0, -17096],\n",
       "         [  5436,      1],\n",
       "         [     0, -32624],\n",
       "         [  1342,      1],\n",
       "         [     0, -17096]],\n",
       "\n",
       "        [[  5438,      1],\n",
       "         [     0,  29760],\n",
       "         [  1342,      1],\n",
       "         [     0, -17096],\n",
       "         [  5436,      1]],\n",
       "\n",
       "        [[     0, -32336],\n",
       "         [  1342,      1],\n",
       "         [     0, -17096],\n",
       "         [  5436,      1],\n",
       "         [     0,  13440]],\n",
       "\n",
       "        [[  5396,      1],\n",
       "         [     0,  13632],\n",
       "         [  5398,      1],\n",
       "         [     0,  -9792],\n",
       "         [  5396,      1]]]], dtype=int16)"
      ]
     },
     "execution_count": 238,
     "metadata": {},
     "output_type": "execute_result"
    }
   ],
   "source": [
    "k = a[1, ..., 3:5]\n",
    "k"
   ]
  },
  {
   "cell_type": "code",
   "execution_count": 244,
   "id": "7e4fb6d9",
   "metadata": {},
   "outputs": [
    {
     "data": {
      "text/plain": [
       "array([[[[   0],\n",
       "         [5430],\n",
       "         [   0],\n",
       "         [5435],\n",
       "         [   0]],\n",
       "\n",
       "        [[1274],\n",
       "         [   0],\n",
       "         [   0],\n",
       "         [   0],\n",
       "         [5430]],\n",
       "\n",
       "        [[   0],\n",
       "         [   0],\n",
       "         [   0],\n",
       "         [1274],\n",
       "         [   0]],\n",
       "\n",
       "        [[   0],\n",
       "         [   0],\n",
       "         [5435],\n",
       "         [   0],\n",
       "         [   0]]],\n",
       "\n",
       "\n",
       "       [[[   0],\n",
       "         [5436],\n",
       "         [   0],\n",
       "         [1342],\n",
       "         [   0]],\n",
       "\n",
       "        [[1342],\n",
       "         [   0],\n",
       "         [5436],\n",
       "         [   0],\n",
       "         [1342]],\n",
       "\n",
       "        [[   0],\n",
       "         [5435],\n",
       "         [   0],\n",
       "         [1342],\n",
       "         [   0]],\n",
       "\n",
       "        [[5436],\n",
       "         [   0],\n",
       "         [1342],\n",
       "         [   0],\n",
       "         [1342]]],\n",
       "\n",
       "\n",
       "       [[[   0],\n",
       "         [5436],\n",
       "         [   0],\n",
       "         [1342],\n",
       "         [   0]],\n",
       "\n",
       "        [[5438],\n",
       "         [   0],\n",
       "         [1342],\n",
       "         [   0],\n",
       "         [5436]],\n",
       "\n",
       "        [[   0],\n",
       "         [1342],\n",
       "         [   0],\n",
       "         [5436],\n",
       "         [   0]],\n",
       "\n",
       "        [[5396],\n",
       "         [   0],\n",
       "         [5398],\n",
       "         [   0],\n",
       "         [5396]]]], dtype=int16)"
      ]
     },
     "execution_count": 244,
     "metadata": {},
     "output_type": "execute_result"
    }
   ],
   "source": [
    "c = a[1, ..., 3:-2]\n",
    "c"
   ]
  },
  {
   "cell_type": "code",
   "execution_count": 245,
   "id": "dc359b0d",
   "metadata": {},
   "outputs": [
    {
     "name": "stdout",
     "output_type": "stream",
     "text": [
      "4\n",
      "(3, 4, 5, 1)\n",
      "60\n"
     ]
    }
   ],
   "source": [
    "print(c.ndim)\n",
    "print(c.shape)\n",
    "print(c.size)"
   ]
  },
  {
   "cell_type": "code",
   "execution_count": 246,
   "id": "6d1c8e5d",
   "metadata": {},
   "outputs": [
    {
     "name": "stdout",
     "output_type": "stream",
     "text": [
      "4\n",
      "(3, 4, 5, 2)\n",
      "120\n"
     ]
    }
   ],
   "source": [
    "print(k.ndim)\n",
    "print(k.shape)\n",
    "print(k.size)"
   ]
  },
  {
   "cell_type": "code",
   "execution_count": null,
   "id": "e1ef7483",
   "metadata": {},
   "outputs": [],
   "source": []
  }
 ],
 "metadata": {
  "kernelspec": {
   "display_name": "Python 3 (ipykernel)",
   "language": "python",
   "name": "python3"
  },
  "language_info": {
   "codemirror_mode": {
    "name": "ipython",
    "version": 3
   },
   "file_extension": ".py",
   "mimetype": "text/x-python",
   "name": "python",
   "nbconvert_exporter": "python",
   "pygments_lexer": "ipython3",
   "version": "3.11.4"
  }
 },
 "nbformat": 4,
 "nbformat_minor": 5
}
