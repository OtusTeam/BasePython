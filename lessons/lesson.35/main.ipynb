{
 "cells": [
  {
   "cell_type": "code",
   "execution_count": 1,
   "id": "2656adb2",
   "metadata": {},
   "outputs": [
    {
     "name": "stdout",
     "output_type": "stream",
     "text": [
      "<module 'pandas' from '/Users/suren/MyFiles/OTUS/lessons/Python-Basic.2022-02/35.pandas/venv/lib/python3.10/site-packages/pandas/__init__.py'>\n"
     ]
    }
   ],
   "source": [
    "import pandas as pd\n",
    "\n",
    "print(pd)"
   ]
  },
  {
   "cell_type": "code",
   "execution_count": 2,
   "id": "19ab0d98",
   "metadata": {},
   "outputs": [
    {
     "data": {
      "text/plain": [
       "[165.5, 234.8, 211.1, 455.3, 152.9, 532.7]"
      ]
     },
     "execution_count": 2,
     "metadata": {},
     "output_type": "execute_result"
    }
   ],
   "source": [
    "salries_list = [\n",
    "    165.5,\n",
    "    234.8,\n",
    "    211.1,\n",
    "    455.3,\n",
    "    152.9,\n",
    "    532.7,\n",
    "]\n",
    "\n",
    "salries_list"
   ]
  },
  {
   "cell_type": "code",
   "execution_count": 3,
   "id": "4e913a04",
   "metadata": {},
   "outputs": [
    {
     "data": {
      "text/plain": [
       "0    165.5\n",
       "1    234.8\n",
       "2    211.1\n",
       "3    455.3\n",
       "4    152.9\n",
       "5    532.7\n",
       "dtype: float64"
      ]
     },
     "execution_count": 3,
     "metadata": {},
     "output_type": "execute_result"
    }
   ],
   "source": [
    "salaries_series = pd.Series(salries_list)\n",
    "salaries_series"
   ]
  },
  {
   "cell_type": "code",
   "execution_count": 4,
   "id": "6157d6fa",
   "metadata": {},
   "outputs": [
    {
     "name": "stdout",
     "output_type": "stream",
     "text": [
      "0    165.5\n",
      "1    234.8\n",
      "2    211.1\n",
      "3    455.3\n",
      "4    152.9\n",
      "5    532.7\n",
      "dtype: float64\n"
     ]
    }
   ],
   "source": [
    "print(salaries_series)"
   ]
  },
  {
   "cell_type": "code",
   "execution_count": 5,
   "id": "69cec4d8",
   "metadata": {},
   "outputs": [
    {
     "name": "stdout",
     "output_type": "stream",
     "text": [
      "<class 'pandas.core.series.Series'>\n"
     ]
    }
   ],
   "source": [
    "print(type(salaries_series))"
   ]
  },
  {
   "cell_type": "code",
   "execution_count": 6,
   "id": "57ea83a3",
   "metadata": {},
   "outputs": [
    {
     "data": {
      "text/plain": [
       "[165.5, 234.8, 211.1, 455.3, 152.9, 532.7]"
      ]
     },
     "execution_count": 6,
     "metadata": {},
     "output_type": "execute_result"
    }
   ],
   "source": [
    "salaries_series.to_list()"
   ]
  },
  {
   "cell_type": "code",
   "execution_count": 7,
   "id": "6534be4b",
   "metadata": {},
   "outputs": [
    {
     "data": {
      "text/plain": [
       "array([165.5, 234.8, 211.1, 455.3, 152.9, 532.7])"
      ]
     },
     "execution_count": 7,
     "metadata": {},
     "output_type": "execute_result"
    }
   ],
   "source": [
    "salaries_series.to_numpy()"
   ]
  },
  {
   "cell_type": "code",
   "execution_count": 8,
   "id": "e2946105",
   "metadata": {},
   "outputs": [
    {
     "data": {
      "text/plain": [
       "dtype('float64')"
      ]
     },
     "execution_count": 8,
     "metadata": {},
     "output_type": "execute_result"
    }
   ],
   "source": [
    "salaries_series.to_numpy().dtype"
   ]
  },
  {
   "cell_type": "code",
   "execution_count": 9,
   "id": "078b3fcd",
   "metadata": {},
   "outputs": [
    {
     "data": {
      "text/plain": [
       "['John', 'Kate', 'Sam', 'Nick', 'Clark', 'Ann']"
      ]
     },
     "execution_count": 9,
     "metadata": {},
     "output_type": "execute_result"
    }
   ],
   "source": [
    "workers_names = [\n",
    "    \"John\",\n",
    "    \"Kate\",\n",
    "    \"Sam\",\n",
    "    \"Nick\",\n",
    "    \"Clark\",\n",
    "    \"Ann\",\n",
    "]\n",
    "workers_names"
   ]
  },
  {
   "cell_type": "code",
   "execution_count": 10,
   "id": "da93042d",
   "metadata": {},
   "outputs": [
    {
     "data": {
      "text/plain": [
       "John     165.5\n",
       "Kate     234.8\n",
       "Sam      211.1\n",
       "Nick     455.3\n",
       "Clark    152.9\n",
       "Ann      532.7\n",
       "Name: Salaries, dtype: float64"
      ]
     },
     "execution_count": 10,
     "metadata": {},
     "output_type": "execute_result"
    }
   ],
   "source": [
    "salaries = pd.Series(\n",
    "    salries_list,\n",
    "    index=workers_names,\n",
    "    name=\"Salaries\",\n",
    ")\n",
    "\n",
    "salaries"
   ]
  },
  {
   "cell_type": "code",
   "execution_count": 11,
   "id": "c4a5f2e3",
   "metadata": {},
   "outputs": [
    {
     "data": {
      "text/plain": [
       "165.5"
      ]
     },
     "execution_count": 11,
     "metadata": {},
     "output_type": "execute_result"
    }
   ],
   "source": [
    "salaries['John']"
   ]
  },
  {
   "cell_type": "code",
   "execution_count": 12,
   "id": "2509cd44",
   "metadata": {},
   "outputs": [
    {
     "data": {
      "text/plain": [
       "211.1"
      ]
     },
     "execution_count": 12,
     "metadata": {},
     "output_type": "execute_result"
    }
   ],
   "source": [
    "salaries[2]"
   ]
  },
  {
   "cell_type": "code",
   "execution_count": 13,
   "id": "7934a5ba",
   "metadata": {},
   "outputs": [
    {
     "data": {
      "text/plain": [
       "Index(['John', 'Kate', 'Sam', 'Nick', 'Clark', 'Ann'], dtype='object')"
      ]
     },
     "execution_count": 13,
     "metadata": {},
     "output_type": "execute_result"
    }
   ],
   "source": [
    "salaries.index"
   ]
  },
  {
   "cell_type": "code",
   "execution_count": 14,
   "id": "9e485d86",
   "metadata": {},
   "outputs": [
    {
     "data": {
      "text/plain": [
       "RangeIndex(start=0, stop=6, step=1)"
      ]
     },
     "execution_count": 14,
     "metadata": {},
     "output_type": "execute_result"
    }
   ],
   "source": [
    "salaries_series.index"
   ]
  },
  {
   "cell_type": "code",
   "execution_count": 15,
   "id": "4d414a25",
   "metadata": {},
   "outputs": [
    {
     "data": {
      "text/plain": [
       "3    455.3\n",
       "4    152.9\n",
       "dtype: float64"
      ]
     },
     "execution_count": 15,
     "metadata": {},
     "output_type": "execute_result"
    }
   ],
   "source": [
    "salaries_series[3:5]"
   ]
  },
  {
   "cell_type": "code",
   "execution_count": 16,
   "id": "5ba906f6",
   "metadata": {},
   "outputs": [
    {
     "data": {
      "text/plain": [
       "0    165.5\n",
       "1    234.8\n",
       "2    211.1\n",
       "3    455.3\n",
       "4    152.9\n",
       "5    532.7\n",
       "dtype: float64"
      ]
     },
     "execution_count": 16,
     "metadata": {},
     "output_type": "execute_result"
    }
   ],
   "source": [
    "salaries_series"
   ]
  },
  {
   "cell_type": "code",
   "execution_count": 17,
   "id": "12bef63c",
   "metadata": {},
   "outputs": [
    {
     "data": {
      "text/plain": [
       "Sam     211.1\n",
       "Nick    455.3\n",
       "Name: Salaries, dtype: float64"
      ]
     },
     "execution_count": 17,
     "metadata": {},
     "output_type": "execute_result"
    }
   ],
   "source": [
    "salaries[2:4]"
   ]
  },
  {
   "cell_type": "code",
   "execution_count": 18,
   "id": "06fe1b4f",
   "metadata": {},
   "outputs": [
    {
     "data": {
      "text/plain": [
       "John     165.5\n",
       "Kate     234.8\n",
       "Sam      211.1\n",
       "Nick     455.3\n",
       "Clark    152.9\n",
       "Ann      532.7\n",
       "Name: Salaries, dtype: float64"
      ]
     },
     "execution_count": 18,
     "metadata": {},
     "output_type": "execute_result"
    }
   ],
   "source": [
    "salaries"
   ]
  },
  {
   "cell_type": "code",
   "execution_count": 19,
   "id": "6fb4af22",
   "metadata": {},
   "outputs": [
    {
     "data": {
      "text/plain": [
       "Kate     234.8\n",
       "Sam      211.1\n",
       "Nick     455.3\n",
       "Clark    152.9\n",
       "Name: Salaries, dtype: float64"
      ]
     },
     "execution_count": 19,
     "metadata": {},
     "output_type": "execute_result"
    }
   ],
   "source": [
    "salaries['Kate':'Clark']"
   ]
  },
  {
   "cell_type": "code",
   "execution_count": 20,
   "id": "efe8245f",
   "metadata": {},
   "outputs": [
    {
     "data": {
      "text/plain": [
       "John    165.5\n",
       "Kate    234.8\n",
       "Sam     211.1\n",
       "Nick    455.3\n",
       "Name: Salaries, dtype: float64"
      ]
     },
     "execution_count": 20,
     "metadata": {},
     "output_type": "execute_result"
    }
   ],
   "source": [
    "salaries[0:4]"
   ]
  },
  {
   "cell_type": "code",
   "execution_count": 21,
   "id": "4c5bc9d8",
   "metadata": {},
   "outputs": [
    {
     "data": {
      "text/plain": [
       "John    165.5\n",
       "Kate    234.8\n",
       "Sam     211.1\n",
       "Nick    455.3\n",
       "Name: Salaries, dtype: float64"
      ]
     },
     "execution_count": 21,
     "metadata": {},
     "output_type": "execute_result"
    }
   ],
   "source": [
    "salaries[:4]"
   ]
  },
  {
   "cell_type": "code",
   "execution_count": 22,
   "id": "a075783a",
   "metadata": {},
   "outputs": [
    {
     "data": {
      "text/plain": [
       "John    165.5\n",
       "Kate    234.8\n",
       "Sam     211.1\n",
       "Nick    455.3\n",
       "Name: Salaries, dtype: float64"
      ]
     },
     "execution_count": 22,
     "metadata": {},
     "output_type": "execute_result"
    }
   ],
   "source": [
    "salaries[:'Nick']"
   ]
  },
  {
   "cell_type": "code",
   "execution_count": 23,
   "id": "a71de7bb",
   "metadata": {},
   "outputs": [
    {
     "name": "stdout",
     "output_type": "stream",
     "text": [
      "John     165.5\n",
      "Kate     234.8\n",
      "Sam      211.1\n",
      "Nick     455.3\n",
      "Clark    152.9\n",
      "Ann      532.7\n",
      "Name: Salaries, dtype: float64\n"
     ]
    }
   ],
   "source": [
    "print(salaries)"
   ]
  },
  {
   "cell_type": "code",
   "execution_count": 24,
   "id": "9c955a9e",
   "metadata": {},
   "outputs": [
    {
     "data": {
      "text/plain": [
       "['Ann',\n",
       " 'Clark',\n",
       " 'John',\n",
       " 'Kate',\n",
       " 'Nick',\n",
       " 'Sam',\n",
       " 'T',\n",
       " '_AXIS_LEN',\n",
       " '_AXIS_ORDERS',\n",
       " '_AXIS_TO_AXIS_NUMBER',\n",
       " '_HANDLED_TYPES',\n",
       " '__abs__',\n",
       " '__add__',\n",
       " '__and__',\n",
       " '__annotations__',\n",
       " '__array__',\n",
       " '__array_priority__',\n",
       " '__array_ufunc__',\n",
       " '__array_wrap__',\n",
       " '__bool__',\n",
       " '__class__',\n",
       " '__contains__',\n",
       " '__copy__',\n",
       " '__deepcopy__',\n",
       " '__delattr__',\n",
       " '__delitem__',\n",
       " '__dict__',\n",
       " '__dir__',\n",
       " '__divmod__',\n",
       " '__doc__',\n",
       " '__eq__',\n",
       " '__finalize__',\n",
       " '__float__',\n",
       " '__floordiv__',\n",
       " '__format__',\n",
       " '__ge__',\n",
       " '__getattr__',\n",
       " '__getattribute__',\n",
       " '__getitem__',\n",
       " '__getstate__',\n",
       " '__gt__',\n",
       " '__hash__',\n",
       " '__iadd__',\n",
       " '__iand__',\n",
       " '__ifloordiv__',\n",
       " '__imod__',\n",
       " '__imul__',\n",
       " '__init__',\n",
       " '__init_subclass__',\n",
       " '__int__',\n",
       " '__invert__',\n",
       " '__ior__',\n",
       " '__ipow__',\n",
       " '__isub__',\n",
       " '__iter__',\n",
       " '__itruediv__',\n",
       " '__ixor__',\n",
       " '__le__',\n",
       " '__len__',\n",
       " '__long__',\n",
       " '__lt__',\n",
       " '__matmul__',\n",
       " '__mod__',\n",
       " '__module__',\n",
       " '__mul__',\n",
       " '__ne__',\n",
       " '__neg__',\n",
       " '__new__',\n",
       " '__nonzero__',\n",
       " '__or__',\n",
       " '__pos__',\n",
       " '__pow__',\n",
       " '__radd__',\n",
       " '__rand__',\n",
       " '__rdivmod__',\n",
       " '__reduce__',\n",
       " '__reduce_ex__',\n",
       " '__repr__',\n",
       " '__rfloordiv__',\n",
       " '__rmatmul__',\n",
       " '__rmod__',\n",
       " '__rmul__',\n",
       " '__ror__',\n",
       " '__round__',\n",
       " '__rpow__',\n",
       " '__rsub__',\n",
       " '__rtruediv__',\n",
       " '__rxor__',\n",
       " '__setattr__',\n",
       " '__setitem__',\n",
       " '__setstate__',\n",
       " '__sizeof__',\n",
       " '__str__',\n",
       " '__sub__',\n",
       " '__subclasshook__',\n",
       " '__truediv__',\n",
       " '__weakref__',\n",
       " '__xor__',\n",
       " '_accessors',\n",
       " '_accum_func',\n",
       " '_add_numeric_operations',\n",
       " '_agg_by_level',\n",
       " '_agg_examples_doc',\n",
       " '_agg_see_also_doc',\n",
       " '_align_frame',\n",
       " '_align_series',\n",
       " '_append',\n",
       " '_arith_method',\n",
       " '_as_manager',\n",
       " '_attrs',\n",
       " '_binop',\n",
       " '_can_hold_na',\n",
       " '_check_inplace_and_allows_duplicate_labels',\n",
       " '_check_inplace_setting',\n",
       " '_check_is_chained_assignment_possible',\n",
       " '_check_label_or_level_ambiguity',\n",
       " '_check_setitem_copy',\n",
       " '_clear_item_cache',\n",
       " '_clip_with_one_bound',\n",
       " '_clip_with_scalar',\n",
       " '_cmp_method',\n",
       " '_consolidate',\n",
       " '_consolidate_inplace',\n",
       " '_construct_axes_dict',\n",
       " '_construct_axes_from_arguments',\n",
       " '_construct_result',\n",
       " '_constructor',\n",
       " '_constructor_expanddim',\n",
       " '_convert',\n",
       " '_convert_dtypes',\n",
       " '_data',\n",
       " '_dir_additions',\n",
       " '_dir_deletions',\n",
       " '_drop_axis',\n",
       " '_drop_labels_or_levels',\n",
       " '_duplicated',\n",
       " '_find_valid_index',\n",
       " '_flags',\n",
       " '_from_mgr',\n",
       " '_get_axis',\n",
       " '_get_axis_name',\n",
       " '_get_axis_number',\n",
       " '_get_axis_resolvers',\n",
       " '_get_block_manager_axis',\n",
       " '_get_bool_data',\n",
       " '_get_cacher',\n",
       " '_get_cleaned_column_resolvers',\n",
       " '_get_index_resolvers',\n",
       " '_get_label_or_level_values',\n",
       " '_get_numeric_data',\n",
       " '_get_value',\n",
       " '_get_values',\n",
       " '_get_values_tuple',\n",
       " '_get_with',\n",
       " '_gotitem',\n",
       " '_hidden_attrs',\n",
       " '_indexed_same',\n",
       " '_info_axis',\n",
       " '_info_axis_name',\n",
       " '_info_axis_number',\n",
       " '_init_dict',\n",
       " '_init_mgr',\n",
       " '_inplace_method',\n",
       " '_internal_names',\n",
       " '_internal_names_set',\n",
       " '_is_cached',\n",
       " '_is_copy',\n",
       " '_is_label_or_level_reference',\n",
       " '_is_label_reference',\n",
       " '_is_level_reference',\n",
       " '_is_mixed_type',\n",
       " '_is_view',\n",
       " '_item_cache',\n",
       " '_ixs',\n",
       " '_logical_func',\n",
       " '_logical_method',\n",
       " '_map_values',\n",
       " '_maybe_update_cacher',\n",
       " '_memory_usage',\n",
       " '_metadata',\n",
       " '_mgr',\n",
       " '_min_count_stat_function',\n",
       " '_name',\n",
       " '_needs_reindex_multi',\n",
       " '_protect_consolidate',\n",
       " '_reduce',\n",
       " '_reindex_axes',\n",
       " '_reindex_indexer',\n",
       " '_reindex_multi',\n",
       " '_reindex_with_indexers',\n",
       " '_rename',\n",
       " '_replace_single',\n",
       " '_repr_data_resource_',\n",
       " '_repr_latex_',\n",
       " '_reset_cache',\n",
       " '_reset_cacher',\n",
       " '_set_as_cached',\n",
       " '_set_axis',\n",
       " '_set_axis_name',\n",
       " '_set_axis_nocheck',\n",
       " '_set_is_copy',\n",
       " '_set_labels',\n",
       " '_set_name',\n",
       " '_set_value',\n",
       " '_set_values',\n",
       " '_set_with',\n",
       " '_set_with_engine',\n",
       " '_slice',\n",
       " '_stat_axis',\n",
       " '_stat_axis_name',\n",
       " '_stat_axis_number',\n",
       " '_stat_function',\n",
       " '_stat_function_ddof',\n",
       " '_take_with_is_copy',\n",
       " '_typ',\n",
       " '_update_inplace',\n",
       " '_validate_dtype',\n",
       " '_values',\n",
       " '_where',\n",
       " 'abs',\n",
       " 'add',\n",
       " 'add_prefix',\n",
       " 'add_suffix',\n",
       " 'agg',\n",
       " 'aggregate',\n",
       " 'align',\n",
       " 'all',\n",
       " 'any',\n",
       " 'append',\n",
       " 'apply',\n",
       " 'argmax',\n",
       " 'argmin',\n",
       " 'argsort',\n",
       " 'array',\n",
       " 'asfreq',\n",
       " 'asof',\n",
       " 'astype',\n",
       " 'at',\n",
       " 'at_time',\n",
       " 'attrs',\n",
       " 'autocorr',\n",
       " 'axes',\n",
       " 'backfill',\n",
       " 'between',\n",
       " 'between_time',\n",
       " 'bfill',\n",
       " 'bool',\n",
       " 'clip',\n",
       " 'combine',\n",
       " 'combine_first',\n",
       " 'compare',\n",
       " 'convert_dtypes',\n",
       " 'copy',\n",
       " 'corr',\n",
       " 'count',\n",
       " 'cov',\n",
       " 'cummax',\n",
       " 'cummin',\n",
       " 'cumprod',\n",
       " 'cumsum',\n",
       " 'describe',\n",
       " 'diff',\n",
       " 'div',\n",
       " 'divide',\n",
       " 'divmod',\n",
       " 'dot',\n",
       " 'drop',\n",
       " 'drop_duplicates',\n",
       " 'droplevel',\n",
       " 'dropna',\n",
       " 'dtype',\n",
       " 'dtypes',\n",
       " 'duplicated',\n",
       " 'empty',\n",
       " 'eq',\n",
       " 'equals',\n",
       " 'ewm',\n",
       " 'expanding',\n",
       " 'explode',\n",
       " 'factorize',\n",
       " 'ffill',\n",
       " 'fillna',\n",
       " 'filter',\n",
       " 'first',\n",
       " 'first_valid_index',\n",
       " 'flags',\n",
       " 'floordiv',\n",
       " 'ge',\n",
       " 'get',\n",
       " 'groupby',\n",
       " 'gt',\n",
       " 'hasnans',\n",
       " 'head',\n",
       " 'hist',\n",
       " 'iat',\n",
       " 'idxmax',\n",
       " 'idxmin',\n",
       " 'iloc',\n",
       " 'index',\n",
       " 'infer_objects',\n",
       " 'info',\n",
       " 'interpolate',\n",
       " 'is_monotonic',\n",
       " 'is_monotonic_decreasing',\n",
       " 'is_monotonic_increasing',\n",
       " 'is_unique',\n",
       " 'isin',\n",
       " 'isna',\n",
       " 'isnull',\n",
       " 'item',\n",
       " 'items',\n",
       " 'iteritems',\n",
       " 'keys',\n",
       " 'kurt',\n",
       " 'kurtosis',\n",
       " 'last',\n",
       " 'last_valid_index',\n",
       " 'le',\n",
       " 'loc',\n",
       " 'lt',\n",
       " 'mad',\n",
       " 'map',\n",
       " 'mask',\n",
       " 'max',\n",
       " 'mean',\n",
       " 'median',\n",
       " 'memory_usage',\n",
       " 'min',\n",
       " 'mod',\n",
       " 'mode',\n",
       " 'mul',\n",
       " 'multiply',\n",
       " 'name',\n",
       " 'nbytes',\n",
       " 'ndim',\n",
       " 'ne',\n",
       " 'nlargest',\n",
       " 'notna',\n",
       " 'notnull',\n",
       " 'nsmallest',\n",
       " 'nunique',\n",
       " 'pad',\n",
       " 'pct_change',\n",
       " 'pipe',\n",
       " 'plot',\n",
       " 'pop',\n",
       " 'pow',\n",
       " 'prod',\n",
       " 'product',\n",
       " 'quantile',\n",
       " 'radd',\n",
       " 'rank',\n",
       " 'ravel',\n",
       " 'rdiv',\n",
       " 'rdivmod',\n",
       " 'reindex',\n",
       " 'reindex_like',\n",
       " 'rename',\n",
       " 'rename_axis',\n",
       " 'reorder_levels',\n",
       " 'repeat',\n",
       " 'replace',\n",
       " 'resample',\n",
       " 'reset_index',\n",
       " 'rfloordiv',\n",
       " 'rmod',\n",
       " 'rmul',\n",
       " 'rolling',\n",
       " 'round',\n",
       " 'rpow',\n",
       " 'rsub',\n",
       " 'rtruediv',\n",
       " 'sample',\n",
       " 'searchsorted',\n",
       " 'sem',\n",
       " 'set_axis',\n",
       " 'set_flags',\n",
       " 'shape',\n",
       " 'shift',\n",
       " 'size',\n",
       " 'skew',\n",
       " 'slice_shift',\n",
       " 'sort_index',\n",
       " 'sort_values',\n",
       " 'squeeze',\n",
       " 'std',\n",
       " 'sub',\n",
       " 'subtract',\n",
       " 'sum',\n",
       " 'swapaxes',\n",
       " 'swaplevel',\n",
       " 'tail',\n",
       " 'take',\n",
       " 'to_clipboard',\n",
       " 'to_csv',\n",
       " 'to_dict',\n",
       " 'to_excel',\n",
       " 'to_frame',\n",
       " 'to_hdf',\n",
       " 'to_json',\n",
       " 'to_latex',\n",
       " 'to_list',\n",
       " 'to_markdown',\n",
       " 'to_numpy',\n",
       " 'to_period',\n",
       " 'to_pickle',\n",
       " 'to_sql',\n",
       " 'to_string',\n",
       " 'to_timestamp',\n",
       " 'to_xarray',\n",
       " 'transform',\n",
       " 'transpose',\n",
       " 'truediv',\n",
       " 'truncate',\n",
       " 'tz_convert',\n",
       " 'tz_localize',\n",
       " 'unique',\n",
       " 'unstack',\n",
       " 'update',\n",
       " 'value_counts',\n",
       " 'values',\n",
       " 'var',\n",
       " 'view',\n",
       " 'where',\n",
       " 'xs']"
      ]
     },
     "execution_count": 24,
     "metadata": {},
     "output_type": "execute_result"
    }
   ],
   "source": [
    "dir(salaries)"
   ]
  },
  {
   "cell_type": "code",
   "execution_count": 25,
   "id": "3c76f37d",
   "metadata": {},
   "outputs": [
    {
     "data": {
      "text/plain": [
       "292.05"
      ]
     },
     "execution_count": 25,
     "metadata": {},
     "output_type": "execute_result"
    }
   ],
   "source": [
    "salaries.mean()"
   ]
  },
  {
   "cell_type": "code",
   "execution_count": 26,
   "id": "3cc2ab1d",
   "metadata": {},
   "outputs": [
    {
     "name": "stdout",
     "output_type": "stream",
     "text": [
      "Help on method mean in module pandas.core.generic:\n",
      "\n",
      "mean(axis: 'int | None | lib.NoDefault' = <no_default>, skipna=True, level=None, numeric_only=None, **kwargs) method of pandas.core.series.Series instance\n",
      "    Return the mean of the values over the requested axis.\n",
      "    \n",
      "    Parameters\n",
      "    ----------\n",
      "    axis : {index (0)}\n",
      "        Axis for the function to be applied on.\n",
      "    skipna : bool, default True\n",
      "        Exclude NA/null values when computing the result.\n",
      "    level : int or level name, default None\n",
      "        If the axis is a MultiIndex (hierarchical), count along a\n",
      "        particular level, collapsing into a scalar.\n",
      "    numeric_only : bool, default None\n",
      "        Include only float, int, boolean columns. If None, will attempt to use\n",
      "        everything, then use only numeric data. Not implemented for Series.\n",
      "    **kwargs\n",
      "        Additional keyword arguments to be passed to the function.\n",
      "    \n",
      "    Returns\n",
      "    -------\n",
      "    scalar or Series (if level specified)\n",
      "\n"
     ]
    }
   ],
   "source": [
    "help(salaries.mean)"
   ]
  },
  {
   "cell_type": "code",
   "execution_count": 27,
   "id": "a44ee612",
   "metadata": {},
   "outputs": [
    {
     "data": {
      "text/plain": [
       "292.05"
      ]
     },
     "execution_count": 27,
     "metadata": {},
     "output_type": "execute_result"
    }
   ],
   "source": [
    "salaries.mean()"
   ]
  },
  {
   "cell_type": "code",
   "execution_count": 28,
   "id": "a307ed34",
   "metadata": {},
   "outputs": [
    {
     "data": {
      "text/plain": [
       "222.95"
      ]
     },
     "execution_count": 28,
     "metadata": {},
     "output_type": "execute_result"
    }
   ],
   "source": [
    "salaries.median()"
   ]
  },
  {
   "cell_type": "code",
   "execution_count": 29,
   "id": "73e5f014",
   "metadata": {},
   "outputs": [
    {
     "data": {
      "text/plain": [
       "165.5    1\n",
       "234.8    1\n",
       "211.1    1\n",
       "455.3    1\n",
       "152.9    1\n",
       "532.7    1\n",
       "Name: Salaries, dtype: int64"
      ]
     },
     "execution_count": 29,
     "metadata": {},
     "output_type": "execute_result"
    }
   ],
   "source": [
    "salaries.value_counts()"
   ]
  },
  {
   "cell_type": "code",
   "execution_count": 30,
   "id": "4dacd81e",
   "metadata": {},
   "outputs": [
    {
     "data": {
      "text/plain": [
       "2    3\n",
       "1    2\n",
       "3    2\n",
       "4    1\n",
       "5    1\n",
       "dtype: int64"
      ]
     },
     "execution_count": 30,
     "metadata": {},
     "output_type": "execute_result"
    }
   ],
   "source": [
    "pd.Series([1, 2, 3, 2, 3, 1, 4, 5, 2]).value_counts()"
   ]
  },
  {
   "cell_type": "code",
   "execution_count": 31,
   "id": "19b9308f",
   "metadata": {},
   "outputs": [
    {
     "data": {
      "text/plain": [
       "2    0.333333\n",
       "1    0.222222\n",
       "3    0.222222\n",
       "4    0.111111\n",
       "5    0.111111\n",
       "dtype: float64"
      ]
     },
     "execution_count": 31,
     "metadata": {},
     "output_type": "execute_result"
    }
   ],
   "source": [
    "pd.Series([1, 2, 3, 2, 3, 1, 4, 5, 2]).value_counts(normalize=True)"
   ]
  },
  {
   "cell_type": "code",
   "execution_count": 32,
   "id": "276b2143",
   "metadata": {},
   "outputs": [],
   "source": [
    "s = salaries.copy()"
   ]
  },
  {
   "cell_type": "code",
   "execution_count": 33,
   "id": "f6f66ce3",
   "metadata": {},
   "outputs": [
    {
     "data": {
      "text/plain": [
       "John     165.5\n",
       "Kate     234.8\n",
       "Sam      211.1\n",
       "Nick     455.3\n",
       "Clark    152.9\n",
       "Ann      532.7\n",
       "Name: Salaries, dtype: float64"
      ]
     },
     "execution_count": 33,
     "metadata": {},
     "output_type": "execute_result"
    }
   ],
   "source": [
    "s"
   ]
  },
  {
   "cell_type": "code",
   "execution_count": 34,
   "id": "ade224c2",
   "metadata": {},
   "outputs": [
    {
     "data": {
      "text/plain": [
       "John     True\n",
       "Kate     True\n",
       "Sam      True\n",
       "Nick     True\n",
       "Clark    True\n",
       "Ann      True\n",
       "Name: Salaries, dtype: bool"
      ]
     },
     "execution_count": 34,
     "metadata": {},
     "output_type": "execute_result"
    }
   ],
   "source": [
    "s == salaries"
   ]
  },
  {
   "cell_type": "code",
   "execution_count": 35,
   "id": "d7edc286",
   "metadata": {},
   "outputs": [
    {
     "data": {
      "text/plain": [
       "False"
      ]
     },
     "execution_count": 35,
     "metadata": {},
     "output_type": "execute_result"
    }
   ],
   "source": [
    "s is salaries"
   ]
  },
  {
   "cell_type": "code",
   "execution_count": 36,
   "id": "921217b3",
   "metadata": {},
   "outputs": [
    {
     "data": {
      "text/plain": [
       "Index(['John', 'Kate', 'Sam', 'Nick', 'Clark', 'Ann'], dtype='object')"
      ]
     },
     "execution_count": 36,
     "metadata": {},
     "output_type": "execute_result"
    }
   ],
   "source": [
    "s.index"
   ]
  },
  {
   "cell_type": "code",
   "execution_count": 37,
   "id": "21c7e816",
   "metadata": {},
   "outputs": [
    {
     "data": {
      "text/plain": [
       "<bound method Series.reset_index of John     165.5\n",
       "Kate     234.8\n",
       "Sam      211.1\n",
       "Nick     455.3\n",
       "Clark    152.9\n",
       "Ann      532.7\n",
       "Name: Salaries, dtype: float64>"
      ]
     },
     "execution_count": 37,
     "metadata": {},
     "output_type": "execute_result"
    }
   ],
   "source": [
    "s.reset_index"
   ]
  },
  {
   "cell_type": "code",
   "execution_count": 38,
   "id": "c00a42d2",
   "metadata": {},
   "outputs": [
    {
     "data": {
      "text/html": [
       "<div>\n",
       "<style scoped>\n",
       "    .dataframe tbody tr th:only-of-type {\n",
       "        vertical-align: middle;\n",
       "    }\n",
       "\n",
       "    .dataframe tbody tr th {\n",
       "        vertical-align: top;\n",
       "    }\n",
       "\n",
       "    .dataframe thead th {\n",
       "        text-align: right;\n",
       "    }\n",
       "</style>\n",
       "<table border=\"1\" class=\"dataframe\">\n",
       "  <thead>\n",
       "    <tr style=\"text-align: right;\">\n",
       "      <th></th>\n",
       "      <th>index</th>\n",
       "      <th>Salaries</th>\n",
       "    </tr>\n",
       "  </thead>\n",
       "  <tbody>\n",
       "    <tr>\n",
       "      <th>0</th>\n",
       "      <td>John</td>\n",
       "      <td>165.5</td>\n",
       "    </tr>\n",
       "    <tr>\n",
       "      <th>1</th>\n",
       "      <td>Kate</td>\n",
       "      <td>234.8</td>\n",
       "    </tr>\n",
       "    <tr>\n",
       "      <th>2</th>\n",
       "      <td>Sam</td>\n",
       "      <td>211.1</td>\n",
       "    </tr>\n",
       "    <tr>\n",
       "      <th>3</th>\n",
       "      <td>Nick</td>\n",
       "      <td>455.3</td>\n",
       "    </tr>\n",
       "    <tr>\n",
       "      <th>4</th>\n",
       "      <td>Clark</td>\n",
       "      <td>152.9</td>\n",
       "    </tr>\n",
       "    <tr>\n",
       "      <th>5</th>\n",
       "      <td>Ann</td>\n",
       "      <td>532.7</td>\n",
       "    </tr>\n",
       "  </tbody>\n",
       "</table>\n",
       "</div>"
      ],
      "text/plain": [
       "   index  Salaries\n",
       "0   John     165.5\n",
       "1   Kate     234.8\n",
       "2    Sam     211.1\n",
       "3   Nick     455.3\n",
       "4  Clark     152.9\n",
       "5    Ann     532.7"
      ]
     },
     "execution_count": 38,
     "metadata": {},
     "output_type": "execute_result"
    }
   ],
   "source": [
    "s.reset_index()"
   ]
  },
  {
   "cell_type": "code",
   "execution_count": 39,
   "id": "f7b951e4",
   "metadata": {},
   "outputs": [
    {
     "name": "stdout",
     "output_type": "stream",
     "text": [
      "   index  Salaries\n",
      "0   John     165.5\n",
      "1   Kate     234.8\n",
      "2    Sam     211.1\n",
      "3   Nick     455.3\n",
      "4  Clark     152.9\n",
      "5    Ann     532.7\n"
     ]
    }
   ],
   "source": [
    "print(s.reset_index())"
   ]
  },
  {
   "cell_type": "code",
   "execution_count": 40,
   "id": "b05075bd",
   "metadata": {},
   "outputs": [
    {
     "data": {
      "text/plain": [
       "John     165.5\n",
       "Kate     234.8\n",
       "Sam      211.1\n",
       "Nick     455.3\n",
       "Clark    152.9\n",
       "Ann      532.7\n",
       "Name: Salaries, dtype: float64"
      ]
     },
     "execution_count": 40,
     "metadata": {},
     "output_type": "execute_result"
    }
   ],
   "source": [
    "s"
   ]
  },
  {
   "cell_type": "code",
   "execution_count": 41,
   "id": "a670dcce",
   "metadata": {},
   "outputs": [],
   "source": [
    "s.reset_index(inplace=True, drop=True)"
   ]
  },
  {
   "cell_type": "code",
   "execution_count": 42,
   "id": "f585f09a",
   "metadata": {},
   "outputs": [
    {
     "data": {
      "text/plain": [
       "0    165.5\n",
       "1    234.8\n",
       "2    211.1\n",
       "3    455.3\n",
       "4    152.9\n",
       "5    532.7\n",
       "Name: Salaries, dtype: float64"
      ]
     },
     "execution_count": 42,
     "metadata": {},
     "output_type": "execute_result"
    }
   ],
   "source": [
    "s"
   ]
  },
  {
   "cell_type": "code",
   "execution_count": 43,
   "id": "58e93e51",
   "metadata": {},
   "outputs": [
    {
     "data": {
      "text/plain": [
       "RangeIndex(start=0, stop=6, step=1)"
      ]
     },
     "execution_count": 43,
     "metadata": {},
     "output_type": "execute_result"
    }
   ],
   "source": [
    "s.index"
   ]
  },
  {
   "cell_type": "code",
   "execution_count": 44,
   "id": "ddf1bf84",
   "metadata": {},
   "outputs": [
    {
     "data": {
      "text/plain": [
       "John     165.5\n",
       "Kate     234.8\n",
       "Sam      211.1\n",
       "Nick     455.3\n",
       "Clark    152.9\n",
       "Ann      532.7\n",
       "Name: Salaries, dtype: float64"
      ]
     },
     "execution_count": 44,
     "metadata": {},
     "output_type": "execute_result"
    }
   ],
   "source": [
    "salaries"
   ]
  },
  {
   "cell_type": "code",
   "execution_count": 45,
   "id": "c292aca0",
   "metadata": {},
   "outputs": [
    {
     "data": {
      "text/plain": [
       "0    165.5\n",
       "1    234.8\n",
       "2    211.1\n",
       "3    455.3\n",
       "4    152.9\n",
       "5    532.7\n",
       "Name: Salaries, dtype: float64"
      ]
     },
     "execution_count": 45,
     "metadata": {},
     "output_type": "execute_result"
    }
   ],
   "source": [
    "salaries.reset_index(drop=True)"
   ]
  },
  {
   "cell_type": "code",
   "execution_count": 46,
   "id": "949fd6a1",
   "metadata": {},
   "outputs": [
    {
     "data": {
      "text/plain": [
       "John     165.5\n",
       "Kate     234.8\n",
       "Sam      211.1\n",
       "Nick     455.3\n",
       "Clark    152.9\n",
       "Ann      532.7\n",
       "Name: Salaries, dtype: float64"
      ]
     },
     "execution_count": 46,
     "metadata": {},
     "output_type": "execute_result"
    }
   ],
   "source": [
    "salaries"
   ]
  },
  {
   "cell_type": "code",
   "execution_count": 47,
   "id": "7baa6b3a",
   "metadata": {},
   "outputs": [
    {
     "data": {
      "text/plain": [
       "count      6.000000\n",
       "mean     292.050000\n",
       "std      161.103119\n",
       "min      152.900000\n",
       "25%      176.900000\n",
       "50%      222.950000\n",
       "75%      400.175000\n",
       "max      532.700000\n",
       "Name: Salaries, dtype: float64"
      ]
     },
     "execution_count": 47,
     "metadata": {},
     "output_type": "execute_result"
    }
   ],
   "source": [
    "salaries.describe()"
   ]
  },
  {
   "cell_type": "code",
   "execution_count": 48,
   "id": "d264bb11",
   "metadata": {},
   "outputs": [
    {
     "data": {
      "text/plain": [
       "John     165.5\n",
       "Kate     234.8\n",
       "Sam      211.1\n",
       "Nick     455.3\n",
       "Clark    152.9\n",
       "Ann      532.7\n",
       "Name: Salaries, dtype: float64"
      ]
     },
     "execution_count": 48,
     "metadata": {},
     "output_type": "execute_result"
    }
   ],
   "source": [
    "salaries"
   ]
  },
  {
   "cell_type": "code",
   "execution_count": 49,
   "id": "b4351f8f",
   "metadata": {},
   "outputs": [
    {
     "data": {
      "text/plain": [
       "'{\"John\":165.5,\"Kate\":234.8,\"Sam\":211.1,\"Nick\":455.3,\"Clark\":152.9,\"Ann\":532.7}'"
      ]
     },
     "execution_count": 49,
     "metadata": {},
     "output_type": "execute_result"
    }
   ],
   "source": [
    "salaries.to_json()"
   ]
  },
  {
   "cell_type": "code",
   "execution_count": null,
   "id": "eebe6fb8",
   "metadata": {},
   "outputs": [],
   "source": []
  },
  {
   "cell_type": "code",
   "execution_count": 50,
   "id": "1bfd6eef",
   "metadata": {},
   "outputs": [
    {
     "data": {
      "text/html": [
       "<div>\n",
       "<style scoped>\n",
       "    .dataframe tbody tr th:only-of-type {\n",
       "        vertical-align: middle;\n",
       "    }\n",
       "\n",
       "    .dataframe tbody tr th {\n",
       "        vertical-align: top;\n",
       "    }\n",
       "\n",
       "    .dataframe thead th {\n",
       "        text-align: right;\n",
       "    }\n",
       "</style>\n",
       "<table border=\"1\" class=\"dataframe\">\n",
       "  <thead>\n",
       "    <tr style=\"text-align: right;\">\n",
       "      <th></th>\n",
       "      <th>name</th>\n",
       "      <th>salary</th>\n",
       "      <th>age</th>\n",
       "    </tr>\n",
       "  </thead>\n",
       "  <tbody>\n",
       "    <tr>\n",
       "      <th>0</th>\n",
       "      <td>John</td>\n",
       "      <td>169.5</td>\n",
       "      <td>18</td>\n",
       "    </tr>\n",
       "    <tr>\n",
       "      <th>1</th>\n",
       "      <td>Sam</td>\n",
       "      <td>234.7</td>\n",
       "      <td>27</td>\n",
       "    </tr>\n",
       "    <tr>\n",
       "      <th>2</th>\n",
       "      <td>Bob</td>\n",
       "      <td>158.3</td>\n",
       "      <td>33</td>\n",
       "    </tr>\n",
       "  </tbody>\n",
       "</table>\n",
       "</div>"
      ],
      "text/plain": [
       "   name  salary  age\n",
       "0  John   169.5   18\n",
       "1   Sam   234.7   27\n",
       "2   Bob   158.3   33"
      ]
     },
     "execution_count": 50,
     "metadata": {},
     "output_type": "execute_result"
    }
   ],
   "source": [
    "workers_salaries = [\n",
    "    {\n",
    "        \"name\": \"John\",\n",
    "        \"salary\": 169.5,\n",
    "        \"age\": 18,\n",
    "    },\n",
    "    {\n",
    "        \"name\": \"Sam\",\n",
    "        \"salary\": 234.7,\n",
    "        \"age\": 27,\n",
    "    },\n",
    "    \n",
    "    {\n",
    "        \"name\": \"Bob\",\n",
    "        \"salary\": 158.3,\n",
    "        \"age\": 33,\n",
    "    },\n",
    "]\n",
    "\n",
    "salaries_df = pd.DataFrame(workers_salaries)\n",
    "salaries_df"
   ]
  },
  {
   "cell_type": "code",
   "execution_count": 51,
   "id": "8a8fcde1",
   "metadata": {},
   "outputs": [
    {
     "data": {
      "text/plain": [
       "RangeIndex(start=0, stop=3, step=1)"
      ]
     },
     "execution_count": 51,
     "metadata": {},
     "output_type": "execute_result"
    }
   ],
   "source": [
    "salaries_df.index"
   ]
  },
  {
   "cell_type": "code",
   "execution_count": 52,
   "id": "8becf9e7",
   "metadata": {},
   "outputs": [
    {
     "data": {
      "text/plain": [
       "0    John\n",
       "1     Sam\n",
       "2     Bob\n",
       "Name: name, dtype: object"
      ]
     },
     "execution_count": 52,
     "metadata": {},
     "output_type": "execute_result"
    }
   ],
   "source": [
    "salaries_df['name']"
   ]
  },
  {
   "cell_type": "code",
   "execution_count": 53,
   "id": "582a3fd4",
   "metadata": {},
   "outputs": [
    {
     "data": {
      "text/plain": [
       "'John'"
      ]
     },
     "execution_count": 53,
     "metadata": {},
     "output_type": "execute_result"
    }
   ],
   "source": [
    "salaries_df['name'][0]"
   ]
  },
  {
   "cell_type": "code",
   "execution_count": 54,
   "id": "3fc1ab8c",
   "metadata": {},
   "outputs": [
    {
     "data": {
      "text/plain": [
       "John     165.5\n",
       "Kate     234.8\n",
       "Sam      211.1\n",
       "Nick     455.3\n",
       "Clark    152.9\n",
       "Ann      532.7\n",
       "Name: Salaries, dtype: float64"
      ]
     },
     "execution_count": 54,
     "metadata": {},
     "output_type": "execute_result"
    }
   ],
   "source": [
    "salaries"
   ]
  },
  {
   "cell_type": "code",
   "execution_count": 55,
   "id": "0849e83a",
   "metadata": {},
   "outputs": [
    {
     "name": "stdout",
     "output_type": "stream",
     "text": [
      "Help on _iLocIndexer in module pandas.core.indexing object:\n",
      "\n",
      "class _iLocIndexer(_LocationIndexer)\n",
      " |  Purely integer-location based indexing for selection by position.\n",
      " |  \n",
      " |  ``.iloc[]`` is primarily integer position based (from ``0`` to\n",
      " |  ``length-1`` of the axis), but may also be used with a boolean\n",
      " |  array.\n",
      " |  \n",
      " |  Allowed inputs are:\n",
      " |  \n",
      " |  - An integer, e.g. ``5``.\n",
      " |  - A list or array of integers, e.g. ``[4, 3, 0]``.\n",
      " |  - A slice object with ints, e.g. ``1:7``.\n",
      " |  - A boolean array.\n",
      " |  - A ``callable`` function with one argument (the calling Series or\n",
      " |    DataFrame) and that returns valid output for indexing (one of the above).\n",
      " |    This is useful in method chains, when you don't have a reference to the\n",
      " |    calling object, but would like to base your selection on some value.\n",
      " |  \n",
      " |  ``.iloc`` will raise ``IndexError`` if a requested indexer is\n",
      " |  out-of-bounds, except *slice* indexers which allow out-of-bounds\n",
      " |  indexing (this conforms with python/numpy *slice* semantics).\n",
      " |  \n",
      " |  See more at :ref:`Selection by Position <indexing.integer>`.\n",
      " |  \n",
      " |  See Also\n",
      " |  --------\n",
      " |  DataFrame.iat : Fast integer location scalar accessor.\n",
      " |  DataFrame.loc : Purely label-location based indexer for selection by label.\n",
      " |  Series.iloc : Purely integer-location based indexing for\n",
      " |                 selection by position.\n",
      " |  \n",
      " |  Examples\n",
      " |  --------\n",
      " |  >>> mydict = [{'a': 1, 'b': 2, 'c': 3, 'd': 4},\n",
      " |  ...           {'a': 100, 'b': 200, 'c': 300, 'd': 400},\n",
      " |  ...           {'a': 1000, 'b': 2000, 'c': 3000, 'd': 4000 }]\n",
      " |  >>> df = pd.DataFrame(mydict)\n",
      " |  >>> df\n",
      " |        a     b     c     d\n",
      " |  0     1     2     3     4\n",
      " |  1   100   200   300   400\n",
      " |  2  1000  2000  3000  4000\n",
      " |  \n",
      " |  **Indexing just the rows**\n",
      " |  \n",
      " |  With a scalar integer.\n",
      " |  \n",
      " |  >>> type(df.iloc[0])\n",
      " |  <class 'pandas.core.series.Series'>\n",
      " |  >>> df.iloc[0]\n",
      " |  a    1\n",
      " |  b    2\n",
      " |  c    3\n",
      " |  d    4\n",
      " |  Name: 0, dtype: int64\n",
      " |  \n",
      " |  With a list of integers.\n",
      " |  \n",
      " |  >>> df.iloc[[0]]\n",
      " |     a  b  c  d\n",
      " |  0  1  2  3  4\n",
      " |  >>> type(df.iloc[[0]])\n",
      " |  <class 'pandas.core.frame.DataFrame'>\n",
      " |  \n",
      " |  >>> df.iloc[[0, 1]]\n",
      " |       a    b    c    d\n",
      " |  0    1    2    3    4\n",
      " |  1  100  200  300  400\n",
      " |  \n",
      " |  With a `slice` object.\n",
      " |  \n",
      " |  >>> df.iloc[:3]\n",
      " |        a     b     c     d\n",
      " |  0     1     2     3     4\n",
      " |  1   100   200   300   400\n",
      " |  2  1000  2000  3000  4000\n",
      " |  \n",
      " |  With a boolean mask the same length as the index.\n",
      " |  \n",
      " |  >>> df.iloc[[True, False, True]]\n",
      " |        a     b     c     d\n",
      " |  0     1     2     3     4\n",
      " |  2  1000  2000  3000  4000\n",
      " |  \n",
      " |  With a callable, useful in method chains. The `x` passed\n",
      " |  to the ``lambda`` is the DataFrame being sliced. This selects\n",
      " |  the rows whose index label even.\n",
      " |  \n",
      " |  >>> df.iloc[lambda x: x.index % 2 == 0]\n",
      " |        a     b     c     d\n",
      " |  0     1     2     3     4\n",
      " |  2  1000  2000  3000  4000\n",
      " |  \n",
      " |  **Indexing both axes**\n",
      " |  \n",
      " |  You can mix the indexer types for the index and columns. Use ``:`` to\n",
      " |  select the entire axis.\n",
      " |  \n",
      " |  With scalar integers.\n",
      " |  \n",
      " |  >>> df.iloc[0, 1]\n",
      " |  2\n",
      " |  \n",
      " |  With lists of integers.\n",
      " |  \n",
      " |  >>> df.iloc[[0, 2], [1, 3]]\n",
      " |        b     d\n",
      " |  0     2     4\n",
      " |  2  2000  4000\n",
      " |  \n",
      " |  With `slice` objects.\n",
      " |  \n",
      " |  >>> df.iloc[1:3, 0:3]\n",
      " |        a     b     c\n",
      " |  1   100   200   300\n",
      " |  2  1000  2000  3000\n",
      " |  \n",
      " |  With a boolean array whose length matches the columns.\n",
      " |  \n",
      " |  >>> df.iloc[:, [True, False, True, False]]\n",
      " |        a     c\n",
      " |  0     1     3\n",
      " |  1   100   300\n",
      " |  2  1000  3000\n",
      " |  \n",
      " |  With a callable function that expects the Series or DataFrame.\n",
      " |  \n",
      " |  >>> df.iloc[:, lambda df: [0, 2]]\n",
      " |        a     c\n",
      " |  0     1     3\n",
      " |  1   100   300\n",
      " |  2  1000  3000\n",
      " |  \n",
      " |  Method resolution order:\n",
      " |      _iLocIndexer\n",
      " |      _LocationIndexer\n",
      " |      pandas._libs.indexing.NDFrameIndexerBase\n",
      " |      builtins.object\n",
      " |  \n",
      " |  Data and other attributes defined here:\n",
      " |  \n",
      " |  __annotations__ = {}\n",
      " |  \n",
      " |  ----------------------------------------------------------------------\n",
      " |  Methods inherited from _LocationIndexer:\n",
      " |  \n",
      " |  __call__(self, axis=None)\n",
      " |      Call self as a function.\n",
      " |  \n",
      " |  __getitem__(self, key)\n",
      " |  \n",
      " |  __setitem__(self, key, value)\n",
      " |  \n",
      " |  ----------------------------------------------------------------------\n",
      " |  Data descriptors inherited from _LocationIndexer:\n",
      " |  \n",
      " |  __dict__\n",
      " |      dictionary for instance variables (if defined)\n",
      " |  \n",
      " |  __weakref__\n",
      " |      list of weak references to the object (if defined)\n",
      " |  \n",
      " |  ----------------------------------------------------------------------\n",
      " |  Data and other attributes inherited from _LocationIndexer:\n",
      " |  \n",
      " |  axis = None\n",
      " |  \n",
      " |  ----------------------------------------------------------------------\n",
      " |  Methods inherited from pandas._libs.indexing.NDFrameIndexerBase:\n",
      " |  \n",
      " |  __init__(self, /, *args, **kwargs)\n",
      " |      Initialize self.  See help(type(self)) for accurate signature.\n",
      " |  \n",
      " |  __reduce__ = __reduce_cython__(...)\n",
      " |  \n",
      " |  __setstate__ = __setstate_cython__(...)\n",
      " |  \n",
      " |  ----------------------------------------------------------------------\n",
      " |  Static methods inherited from pandas._libs.indexing.NDFrameIndexerBase:\n",
      " |  \n",
      " |  __new__(*args, **kwargs) from builtins.type\n",
      " |      Create and return a new object.  See help(type) for accurate signature.\n",
      " |  \n",
      " |  ----------------------------------------------------------------------\n",
      " |  Data descriptors inherited from pandas._libs.indexing.NDFrameIndexerBase:\n",
      " |  \n",
      " |  name\n",
      " |  \n",
      " |  ndim\n",
      " |  \n",
      " |  obj\n",
      "\n"
     ]
    }
   ],
   "source": [
    "help(salaries.iloc)"
   ]
  },
  {
   "cell_type": "code",
   "execution_count": 56,
   "id": "894edff1",
   "metadata": {},
   "outputs": [
    {
     "name": "stdout",
     "output_type": "stream",
     "text": [
      "Help on _LocIndexer in module pandas.core.indexing object:\n",
      "\n",
      "class _LocIndexer(_LocationIndexer)\n",
      " |  Access a group of rows and columns by label(s) or a boolean array.\n",
      " |  \n",
      " |  ``.loc[]`` is primarily label based, but may also be used with a\n",
      " |  boolean array.\n",
      " |  \n",
      " |  Allowed inputs are:\n",
      " |  \n",
      " |  - A single label, e.g. ``5`` or ``'a'``, (note that ``5`` is\n",
      " |    interpreted as a *label* of the index, and **never** as an\n",
      " |    integer position along the index).\n",
      " |  - A list or array of labels, e.g. ``['a', 'b', 'c']``.\n",
      " |  - A slice object with labels, e.g. ``'a':'f'``.\n",
      " |  \n",
      " |    .. warning:: Note that contrary to usual python slices, **both** the\n",
      " |        start and the stop are included\n",
      " |  \n",
      " |  - A boolean array of the same length as the axis being sliced,\n",
      " |    e.g. ``[True, False, True]``.\n",
      " |  - An alignable boolean Series. The index of the key will be aligned before\n",
      " |    masking.\n",
      " |  - An alignable Index. The Index of the returned selection will be the input.\n",
      " |  - A ``callable`` function with one argument (the calling Series or\n",
      " |    DataFrame) and that returns valid output for indexing (one of the above)\n",
      " |  \n",
      " |  See more at :ref:`Selection by Label <indexing.label>`.\n",
      " |  \n",
      " |  Raises\n",
      " |  ------\n",
      " |  KeyError\n",
      " |      If any items are not found.\n",
      " |  IndexingError\n",
      " |      If an indexed key is passed and its index is unalignable to the frame index.\n",
      " |  \n",
      " |  See Also\n",
      " |  --------\n",
      " |  DataFrame.at : Access a single value for a row/column label pair.\n",
      " |  DataFrame.iloc : Access group of rows and columns by integer position(s).\n",
      " |  DataFrame.xs : Returns a cross-section (row(s) or column(s)) from the\n",
      " |      Series/DataFrame.\n",
      " |  Series.loc : Access group of values using labels.\n",
      " |  \n",
      " |  Examples\n",
      " |  --------\n",
      " |  **Getting values**\n",
      " |  \n",
      " |  >>> df = pd.DataFrame([[1, 2], [4, 5], [7, 8]],\n",
      " |  ...      index=['cobra', 'viper', 'sidewinder'],\n",
      " |  ...      columns=['max_speed', 'shield'])\n",
      " |  >>> df\n",
      " |              max_speed  shield\n",
      " |  cobra               1       2\n",
      " |  viper               4       5\n",
      " |  sidewinder          7       8\n",
      " |  \n",
      " |  Single label. Note this returns the row as a Series.\n",
      " |  \n",
      " |  >>> df.loc['viper']\n",
      " |  max_speed    4\n",
      " |  shield       5\n",
      " |  Name: viper, dtype: int64\n",
      " |  \n",
      " |  List of labels. Note using ``[[]]`` returns a DataFrame.\n",
      " |  \n",
      " |  >>> df.loc[['viper', 'sidewinder']]\n",
      " |              max_speed  shield\n",
      " |  viper               4       5\n",
      " |  sidewinder          7       8\n",
      " |  \n",
      " |  Single label for row and column\n",
      " |  \n",
      " |  >>> df.loc['cobra', 'shield']\n",
      " |  2\n",
      " |  \n",
      " |  Slice with labels for row and single label for column. As mentioned\n",
      " |  above, note that both the start and stop of the slice are included.\n",
      " |  \n",
      " |  >>> df.loc['cobra':'viper', 'max_speed']\n",
      " |  cobra    1\n",
      " |  viper    4\n",
      " |  Name: max_speed, dtype: int64\n",
      " |  \n",
      " |  Boolean list with the same length as the row axis\n",
      " |  \n",
      " |  >>> df.loc[[False, False, True]]\n",
      " |              max_speed  shield\n",
      " |  sidewinder          7       8\n",
      " |  \n",
      " |  Alignable boolean Series:\n",
      " |  \n",
      " |  >>> df.loc[pd.Series([False, True, False],\n",
      " |  ...        index=['viper', 'sidewinder', 'cobra'])]\n",
      " |              max_speed  shield\n",
      " |  sidewinder          7       8\n",
      " |  \n",
      " |  Index (same behavior as ``df.reindex``)\n",
      " |  \n",
      " |  >>> df.loc[pd.Index([\"cobra\", \"viper\"], name=\"foo\")]\n",
      " |         max_speed  shield\n",
      " |  foo\n",
      " |  cobra          1       2\n",
      " |  viper          4       5\n",
      " |  \n",
      " |  Conditional that returns a boolean Series\n",
      " |  \n",
      " |  >>> df.loc[df['shield'] > 6]\n",
      " |              max_speed  shield\n",
      " |  sidewinder          7       8\n",
      " |  \n",
      " |  Conditional that returns a boolean Series with column labels specified\n",
      " |  \n",
      " |  >>> df.loc[df['shield'] > 6, ['max_speed']]\n",
      " |              max_speed\n",
      " |  sidewinder          7\n",
      " |  \n",
      " |  Callable that returns a boolean Series\n",
      " |  \n",
      " |  >>> df.loc[lambda df: df['shield'] == 8]\n",
      " |              max_speed  shield\n",
      " |  sidewinder          7       8\n",
      " |  \n",
      " |  **Setting values**\n",
      " |  \n",
      " |  Set value for all items matching the list of labels\n",
      " |  \n",
      " |  >>> df.loc[['viper', 'sidewinder'], ['shield']] = 50\n",
      " |  >>> df\n",
      " |              max_speed  shield\n",
      " |  cobra               1       2\n",
      " |  viper               4      50\n",
      " |  sidewinder          7      50\n",
      " |  \n",
      " |  Set value for an entire row\n",
      " |  \n",
      " |  >>> df.loc['cobra'] = 10\n",
      " |  >>> df\n",
      " |              max_speed  shield\n",
      " |  cobra              10      10\n",
      " |  viper               4      50\n",
      " |  sidewinder          7      50\n",
      " |  \n",
      " |  Set value for an entire column\n",
      " |  \n",
      " |  >>> df.loc[:, 'max_speed'] = 30\n",
      " |  >>> df\n",
      " |              max_speed  shield\n",
      " |  cobra              30      10\n",
      " |  viper              30      50\n",
      " |  sidewinder         30      50\n",
      " |  \n",
      " |  Set value for rows matching callable condition\n",
      " |  \n",
      " |  >>> df.loc[df['shield'] > 35] = 0\n",
      " |  >>> df\n",
      " |              max_speed  shield\n",
      " |  cobra              30      10\n",
      " |  viper               0       0\n",
      " |  sidewinder          0       0\n",
      " |  \n",
      " |  **Getting values on a DataFrame with an index that has integer labels**\n",
      " |  \n",
      " |  Another example using integers for the index\n",
      " |  \n",
      " |  >>> df = pd.DataFrame([[1, 2], [4, 5], [7, 8]],\n",
      " |  ...      index=[7, 8, 9], columns=['max_speed', 'shield'])\n",
      " |  >>> df\n",
      " |     max_speed  shield\n",
      " |  7          1       2\n",
      " |  8          4       5\n",
      " |  9          7       8\n",
      " |  \n",
      " |  Slice with integer labels for rows. As mentioned above, note that both\n",
      " |  the start and stop of the slice are included.\n",
      " |  \n",
      " |  >>> df.loc[7:9]\n",
      " |     max_speed  shield\n",
      " |  7          1       2\n",
      " |  8          4       5\n",
      " |  9          7       8\n",
      " |  \n",
      " |  **Getting values with a MultiIndex**\n",
      " |  \n",
      " |  A number of examples using a DataFrame with a MultiIndex\n",
      " |  \n",
      " |  >>> tuples = [\n",
      " |  ...    ('cobra', 'mark i'), ('cobra', 'mark ii'),\n",
      " |  ...    ('sidewinder', 'mark i'), ('sidewinder', 'mark ii'),\n",
      " |  ...    ('viper', 'mark ii'), ('viper', 'mark iii')\n",
      " |  ... ]\n",
      " |  >>> index = pd.MultiIndex.from_tuples(tuples)\n",
      " |  >>> values = [[12, 2], [0, 4], [10, 20],\n",
      " |  ...         [1, 4], [7, 1], [16, 36]]\n",
      " |  >>> df = pd.DataFrame(values, columns=['max_speed', 'shield'], index=index)\n",
      " |  >>> df\n",
      " |                       max_speed  shield\n",
      " |  cobra      mark i           12       2\n",
      " |             mark ii           0       4\n",
      " |  sidewinder mark i           10      20\n",
      " |             mark ii           1       4\n",
      " |  viper      mark ii           7       1\n",
      " |             mark iii         16      36\n",
      " |  \n",
      " |  Single label. Note this returns a DataFrame with a single index.\n",
      " |  \n",
      " |  >>> df.loc['cobra']\n",
      " |           max_speed  shield\n",
      " |  mark i          12       2\n",
      " |  mark ii          0       4\n",
      " |  \n",
      " |  Single index tuple. Note this returns a Series.\n",
      " |  \n",
      " |  >>> df.loc[('cobra', 'mark ii')]\n",
      " |  max_speed    0\n",
      " |  shield       4\n",
      " |  Name: (cobra, mark ii), dtype: int64\n",
      " |  \n",
      " |  Single label for row and column. Similar to passing in a tuple, this\n",
      " |  returns a Series.\n",
      " |  \n",
      " |  >>> df.loc['cobra', 'mark i']\n",
      " |  max_speed    12\n",
      " |  shield        2\n",
      " |  Name: (cobra, mark i), dtype: int64\n",
      " |  \n",
      " |  Single tuple. Note using ``[[]]`` returns a DataFrame.\n",
      " |  \n",
      " |  >>> df.loc[[('cobra', 'mark ii')]]\n",
      " |                 max_speed  shield\n",
      " |  cobra mark ii          0       4\n",
      " |  \n",
      " |  Single tuple for the index with a single label for the column\n",
      " |  \n",
      " |  >>> df.loc[('cobra', 'mark i'), 'shield']\n",
      " |  2\n",
      " |  \n",
      " |  Slice from index tuple to single label\n",
      " |  \n",
      " |  >>> df.loc[('cobra', 'mark i'):'viper']\n",
      " |                       max_speed  shield\n",
      " |  cobra      mark i           12       2\n",
      " |             mark ii           0       4\n",
      " |  sidewinder mark i           10      20\n",
      " |             mark ii           1       4\n",
      " |  viper      mark ii           7       1\n",
      " |             mark iii         16      36\n",
      " |  \n",
      " |  Slice from index tuple to index tuple\n",
      " |  \n",
      " |  >>> df.loc[('cobra', 'mark i'):('viper', 'mark ii')]\n",
      " |                      max_speed  shield\n",
      " |  cobra      mark i          12       2\n",
      " |             mark ii          0       4\n",
      " |  sidewinder mark i          10      20\n",
      " |             mark ii          1       4\n",
      " |  viper      mark ii          7       1\n",
      " |  \n",
      " |  Method resolution order:\n",
      " |      _LocIndexer\n",
      " |      _LocationIndexer\n",
      " |      pandas._libs.indexing.NDFrameIndexerBase\n",
      " |      builtins.object\n",
      " |  \n",
      " |  Data and other attributes defined here:\n",
      " |  \n",
      " |  __annotations__ = {'_takeable': 'bool'}\n",
      " |  \n",
      " |  ----------------------------------------------------------------------\n",
      " |  Methods inherited from _LocationIndexer:\n",
      " |  \n",
      " |  __call__(self, axis=None)\n",
      " |      Call self as a function.\n",
      " |  \n",
      " |  __getitem__(self, key)\n",
      " |  \n",
      " |  __setitem__(self, key, value)\n",
      " |  \n",
      " |  ----------------------------------------------------------------------\n",
      " |  Data descriptors inherited from _LocationIndexer:\n",
      " |  \n",
      " |  __dict__\n",
      " |      dictionary for instance variables (if defined)\n",
      " |  \n",
      " |  __weakref__\n",
      " |      list of weak references to the object (if defined)\n",
      " |  \n",
      " |  ----------------------------------------------------------------------\n",
      " |  Data and other attributes inherited from _LocationIndexer:\n",
      " |  \n",
      " |  axis = None\n",
      " |  \n",
      " |  ----------------------------------------------------------------------\n",
      " |  Methods inherited from pandas._libs.indexing.NDFrameIndexerBase:\n",
      " |  \n",
      " |  __init__(self, /, *args, **kwargs)\n",
      " |      Initialize self.  See help(type(self)) for accurate signature.\n",
      " |  \n",
      " |  __reduce__ = __reduce_cython__(...)\n",
      " |  \n",
      " |  __setstate__ = __setstate_cython__(...)\n",
      " |  \n",
      " |  ----------------------------------------------------------------------\n",
      " |  Static methods inherited from pandas._libs.indexing.NDFrameIndexerBase:\n",
      " |  \n",
      " |  __new__(*args, **kwargs) from builtins.type\n",
      " |      Create and return a new object.  See help(type) for accurate signature.\n",
      " |  \n",
      " |  ----------------------------------------------------------------------\n",
      " |  Data descriptors inherited from pandas._libs.indexing.NDFrameIndexerBase:\n",
      " |  \n",
      " |  name\n",
      " |  \n",
      " |  ndim\n",
      " |  \n",
      " |  obj\n",
      "\n"
     ]
    }
   ],
   "source": [
    "help(salaries.loc)"
   ]
  },
  {
   "cell_type": "code",
   "execution_count": 57,
   "id": "8bbbf45f",
   "metadata": {},
   "outputs": [
    {
     "data": {
      "text/plain": [
       "John     165.5\n",
       "Kate     234.8\n",
       "Sam      211.1\n",
       "Nick     455.3\n",
       "Clark    152.9\n",
       "Ann      532.7\n",
       "Name: Salaries, dtype: float64"
      ]
     },
     "execution_count": 57,
     "metadata": {},
     "output_type": "execute_result"
    }
   ],
   "source": [
    "salaries"
   ]
  },
  {
   "cell_type": "code",
   "execution_count": 58,
   "id": "217bc3f5",
   "metadata": {},
   "outputs": [
    {
     "data": {
      "text/plain": [
       "455.3"
      ]
     },
     "execution_count": 58,
     "metadata": {},
     "output_type": "execute_result"
    }
   ],
   "source": [
    "salaries['Nick']"
   ]
  },
  {
   "cell_type": "code",
   "execution_count": 59,
   "id": "310dd4da",
   "metadata": {},
   "outputs": [
    {
     "data": {
      "text/plain": [
       "Nick     455.3\n",
       "Clark    152.9\n",
       "Ann      532.7\n",
       "Name: Salaries, dtype: float64"
      ]
     },
     "execution_count": 59,
     "metadata": {},
     "output_type": "execute_result"
    }
   ],
   "source": [
    "salaries['Nick':'Ann']"
   ]
  },
  {
   "cell_type": "code",
   "execution_count": 60,
   "id": "bb9ac46d",
   "metadata": {},
   "outputs": [
    {
     "data": {
      "text/plain": [
       "Nick     455.3\n",
       "Clark    152.9\n",
       "Ann      532.7\n",
       "Name: Salaries, dtype: float64"
      ]
     },
     "execution_count": 60,
     "metadata": {},
     "output_type": "execute_result"
    }
   ],
   "source": [
    "salaries.loc['Nick':'Ann']"
   ]
  },
  {
   "cell_type": "code",
   "execution_count": 61,
   "id": "e6f6f642",
   "metadata": {},
   "outputs": [
    {
     "data": {
      "text/plain": [
       "Nick     455.3\n",
       "Clark    152.9\n",
       "Name: Salaries, dtype: float64"
      ]
     },
     "execution_count": 61,
     "metadata": {},
     "output_type": "execute_result"
    }
   ],
   "source": [
    "salaries.iloc[3:5]"
   ]
  },
  {
   "cell_type": "code",
   "execution_count": 62,
   "id": "56af7fb1",
   "metadata": {},
   "outputs": [
    {
     "data": {
      "text/plain": [
       "Nick     455.3\n",
       "Clark    152.9\n",
       "Name: Salaries, dtype: float64"
      ]
     },
     "execution_count": 62,
     "metadata": {},
     "output_type": "execute_result"
    }
   ],
   "source": [
    "salaries[3:5]"
   ]
  },
  {
   "cell_type": "code",
   "execution_count": 63,
   "id": "076d16ca",
   "metadata": {},
   "outputs": [
    {
     "data": {
      "text/html": [
       "<div>\n",
       "<style scoped>\n",
       "    .dataframe tbody tr th:only-of-type {\n",
       "        vertical-align: middle;\n",
       "    }\n",
       "\n",
       "    .dataframe tbody tr th {\n",
       "        vertical-align: top;\n",
       "    }\n",
       "\n",
       "    .dataframe thead th {\n",
       "        text-align: right;\n",
       "    }\n",
       "</style>\n",
       "<table border=\"1\" class=\"dataframe\">\n",
       "  <thead>\n",
       "    <tr style=\"text-align: right;\">\n",
       "      <th></th>\n",
       "      <th>name</th>\n",
       "      <th>salary</th>\n",
       "      <th>age</th>\n",
       "    </tr>\n",
       "  </thead>\n",
       "  <tbody>\n",
       "    <tr>\n",
       "      <th>0</th>\n",
       "      <td>John</td>\n",
       "      <td>169.5</td>\n",
       "      <td>18</td>\n",
       "    </tr>\n",
       "    <tr>\n",
       "      <th>1</th>\n",
       "      <td>Sam</td>\n",
       "      <td>234.7</td>\n",
       "      <td>27</td>\n",
       "    </tr>\n",
       "    <tr>\n",
       "      <th>2</th>\n",
       "      <td>Bob</td>\n",
       "      <td>158.3</td>\n",
       "      <td>33</td>\n",
       "    </tr>\n",
       "  </tbody>\n",
       "</table>\n",
       "</div>"
      ],
      "text/plain": [
       "   name  salary  age\n",
       "0  John   169.5   18\n",
       "1   Sam   234.7   27\n",
       "2   Bob   158.3   33"
      ]
     },
     "execution_count": 63,
     "metadata": {},
     "output_type": "execute_result"
    }
   ],
   "source": [
    "salaries_df"
   ]
  },
  {
   "cell_type": "code",
   "execution_count": 64,
   "id": "77d7ef4a",
   "metadata": {},
   "outputs": [
    {
     "data": {
      "text/plain": [
       "name        Sam\n",
       "salary    234.7\n",
       "age          27\n",
       "Name: 1, dtype: object"
      ]
     },
     "execution_count": 64,
     "metadata": {},
     "output_type": "execute_result"
    }
   ],
   "source": [
    "salaries_df.iloc[1]"
   ]
  },
  {
   "cell_type": "code",
   "execution_count": 65,
   "id": "e8b79a8e",
   "metadata": {},
   "outputs": [
    {
     "data": {
      "text/html": [
       "<div>\n",
       "<style scoped>\n",
       "    .dataframe tbody tr th:only-of-type {\n",
       "        vertical-align: middle;\n",
       "    }\n",
       "\n",
       "    .dataframe tbody tr th {\n",
       "        vertical-align: top;\n",
       "    }\n",
       "\n",
       "    .dataframe thead th {\n",
       "        text-align: right;\n",
       "    }\n",
       "</style>\n",
       "<table border=\"1\" class=\"dataframe\">\n",
       "  <thead>\n",
       "    <tr style=\"text-align: right;\">\n",
       "      <th></th>\n",
       "      <th>name</th>\n",
       "      <th>salary</th>\n",
       "      <th>age</th>\n",
       "    </tr>\n",
       "  </thead>\n",
       "  <tbody>\n",
       "    <tr>\n",
       "      <th>1</th>\n",
       "      <td>Sam</td>\n",
       "      <td>234.7</td>\n",
       "      <td>27</td>\n",
       "    </tr>\n",
       "  </tbody>\n",
       "</table>\n",
       "</div>"
      ],
      "text/plain": [
       "  name  salary  age\n",
       "1  Sam   234.7   27"
      ]
     },
     "execution_count": 65,
     "metadata": {},
     "output_type": "execute_result"
    }
   ],
   "source": [
    "salaries_df.iloc[1:2]"
   ]
  },
  {
   "cell_type": "code",
   "execution_count": 66,
   "id": "b1e21318",
   "metadata": {},
   "outputs": [
    {
     "data": {
      "text/html": [
       "<div>\n",
       "<style scoped>\n",
       "    .dataframe tbody tr th:only-of-type {\n",
       "        vertical-align: middle;\n",
       "    }\n",
       "\n",
       "    .dataframe tbody tr th {\n",
       "        vertical-align: top;\n",
       "    }\n",
       "\n",
       "    .dataframe thead th {\n",
       "        text-align: right;\n",
       "    }\n",
       "</style>\n",
       "<table border=\"1\" class=\"dataframe\">\n",
       "  <thead>\n",
       "    <tr style=\"text-align: right;\">\n",
       "      <th></th>\n",
       "      <th>name</th>\n",
       "      <th>salary</th>\n",
       "      <th>age</th>\n",
       "    </tr>\n",
       "  </thead>\n",
       "  <tbody>\n",
       "    <tr>\n",
       "      <th>0</th>\n",
       "      <td>John</td>\n",
       "      <td>169.5</td>\n",
       "      <td>18</td>\n",
       "    </tr>\n",
       "    <tr>\n",
       "      <th>1</th>\n",
       "      <td>Sam</td>\n",
       "      <td>234.7</td>\n",
       "      <td>27</td>\n",
       "    </tr>\n",
       "  </tbody>\n",
       "</table>\n",
       "</div>"
      ],
      "text/plain": [
       "   name  salary  age\n",
       "0  John   169.5   18\n",
       "1   Sam   234.7   27"
      ]
     },
     "execution_count": 66,
     "metadata": {},
     "output_type": "execute_result"
    }
   ],
   "source": [
    "salaries_df.iloc[0:2]"
   ]
  },
  {
   "cell_type": "code",
   "execution_count": 67,
   "id": "9ccabcfc",
   "metadata": {},
   "outputs": [
    {
     "data": {
      "text/html": [
       "<div>\n",
       "<style scoped>\n",
       "    .dataframe tbody tr th:only-of-type {\n",
       "        vertical-align: middle;\n",
       "    }\n",
       "\n",
       "    .dataframe tbody tr th {\n",
       "        vertical-align: top;\n",
       "    }\n",
       "\n",
       "    .dataframe thead th {\n",
       "        text-align: right;\n",
       "    }\n",
       "</style>\n",
       "<table border=\"1\" class=\"dataframe\">\n",
       "  <thead>\n",
       "    <tr style=\"text-align: right;\">\n",
       "      <th></th>\n",
       "      <th>name</th>\n",
       "      <th>salary</th>\n",
       "      <th>age</th>\n",
       "    </tr>\n",
       "  </thead>\n",
       "  <tbody>\n",
       "    <tr>\n",
       "      <th>1</th>\n",
       "      <td>Sam</td>\n",
       "      <td>234.7</td>\n",
       "      <td>27</td>\n",
       "    </tr>\n",
       "    <tr>\n",
       "      <th>2</th>\n",
       "      <td>Bob</td>\n",
       "      <td>158.3</td>\n",
       "      <td>33</td>\n",
       "    </tr>\n",
       "  </tbody>\n",
       "</table>\n",
       "</div>"
      ],
      "text/plain": [
       "  name  salary  age\n",
       "1  Sam   234.7   27\n",
       "2  Bob   158.3   33"
      ]
     },
     "execution_count": 67,
     "metadata": {},
     "output_type": "execute_result"
    }
   ],
   "source": [
    "salaries_df.iloc[1:3]"
   ]
  },
  {
   "cell_type": "code",
   "execution_count": 68,
   "id": "0a08128e",
   "metadata": {},
   "outputs": [
    {
     "data": {
      "text/plain": [
       "name       John\n",
       "salary    169.5\n",
       "age          18\n",
       "Name: 0, dtype: object"
      ]
     },
     "execution_count": 68,
     "metadata": {},
     "output_type": "execute_result"
    }
   ],
   "source": [
    "salaries_df.loc[0]"
   ]
  },
  {
   "cell_type": "code",
   "execution_count": 69,
   "id": "bee25b20",
   "metadata": {},
   "outputs": [
    {
     "data": {
      "text/plain": [
       "RangeIndex(start=0, stop=3, step=1)"
      ]
     },
     "execution_count": 69,
     "metadata": {},
     "output_type": "execute_result"
    }
   ],
   "source": [
    "salaries_df.index"
   ]
  },
  {
   "cell_type": "code",
   "execution_count": 70,
   "id": "61f360d0",
   "metadata": {},
   "outputs": [],
   "source": [
    "salaries_df.index = ['j', 's', 'b']"
   ]
  },
  {
   "cell_type": "code",
   "execution_count": 71,
   "id": "9b7bc7ab",
   "metadata": {},
   "outputs": [
    {
     "data": {
      "text/html": [
       "<div>\n",
       "<style scoped>\n",
       "    .dataframe tbody tr th:only-of-type {\n",
       "        vertical-align: middle;\n",
       "    }\n",
       "\n",
       "    .dataframe tbody tr th {\n",
       "        vertical-align: top;\n",
       "    }\n",
       "\n",
       "    .dataframe thead th {\n",
       "        text-align: right;\n",
       "    }\n",
       "</style>\n",
       "<table border=\"1\" class=\"dataframe\">\n",
       "  <thead>\n",
       "    <tr style=\"text-align: right;\">\n",
       "      <th></th>\n",
       "      <th>name</th>\n",
       "      <th>salary</th>\n",
       "      <th>age</th>\n",
       "    </tr>\n",
       "  </thead>\n",
       "  <tbody>\n",
       "    <tr>\n",
       "      <th>j</th>\n",
       "      <td>John</td>\n",
       "      <td>169.5</td>\n",
       "      <td>18</td>\n",
       "    </tr>\n",
       "    <tr>\n",
       "      <th>s</th>\n",
       "      <td>Sam</td>\n",
       "      <td>234.7</td>\n",
       "      <td>27</td>\n",
       "    </tr>\n",
       "    <tr>\n",
       "      <th>b</th>\n",
       "      <td>Bob</td>\n",
       "      <td>158.3</td>\n",
       "      <td>33</td>\n",
       "    </tr>\n",
       "  </tbody>\n",
       "</table>\n",
       "</div>"
      ],
      "text/plain": [
       "   name  salary  age\n",
       "j  John   169.5   18\n",
       "s   Sam   234.7   27\n",
       "b   Bob   158.3   33"
      ]
     },
     "execution_count": 71,
     "metadata": {},
     "output_type": "execute_result"
    }
   ],
   "source": [
    "salaries_df"
   ]
  },
  {
   "cell_type": "code",
   "execution_count": 72,
   "id": "23234e77",
   "metadata": {},
   "outputs": [
    {
     "data": {
      "text/plain": [
       "name       John\n",
       "salary    169.5\n",
       "age          18\n",
       "Name: j, dtype: object"
      ]
     },
     "execution_count": 72,
     "metadata": {},
     "output_type": "execute_result"
    }
   ],
   "source": [
    "salaries_df.loc['j']"
   ]
  },
  {
   "cell_type": "code",
   "execution_count": 73,
   "id": "069c210b",
   "metadata": {},
   "outputs": [
    {
     "data": {
      "text/html": [
       "<div>\n",
       "<style scoped>\n",
       "    .dataframe tbody tr th:only-of-type {\n",
       "        vertical-align: middle;\n",
       "    }\n",
       "\n",
       "    .dataframe tbody tr th {\n",
       "        vertical-align: top;\n",
       "    }\n",
       "\n",
       "    .dataframe thead th {\n",
       "        text-align: right;\n",
       "    }\n",
       "</style>\n",
       "<table border=\"1\" class=\"dataframe\">\n",
       "  <thead>\n",
       "    <tr style=\"text-align: right;\">\n",
       "      <th></th>\n",
       "      <th>name</th>\n",
       "      <th>salary</th>\n",
       "      <th>age</th>\n",
       "    </tr>\n",
       "  </thead>\n",
       "  <tbody>\n",
       "    <tr>\n",
       "      <th>j</th>\n",
       "      <td>John</td>\n",
       "      <td>169.5</td>\n",
       "      <td>18</td>\n",
       "    </tr>\n",
       "    <tr>\n",
       "      <th>s</th>\n",
       "      <td>Sam</td>\n",
       "      <td>234.7</td>\n",
       "      <td>27</td>\n",
       "    </tr>\n",
       "  </tbody>\n",
       "</table>\n",
       "</div>"
      ],
      "text/plain": [
       "   name  salary  age\n",
       "j  John   169.5   18\n",
       "s   Sam   234.7   27"
      ]
     },
     "execution_count": 73,
     "metadata": {},
     "output_type": "execute_result"
    }
   ],
   "source": [
    "salaries_df.loc['j':'s']"
   ]
  },
  {
   "cell_type": "code",
   "execution_count": 74,
   "id": "2f7a5b21",
   "metadata": {},
   "outputs": [
    {
     "data": {
      "text/plain": [
       "name        Sam\n",
       "salary    234.7\n",
       "age          27\n",
       "Name: s, dtype: object"
      ]
     },
     "execution_count": 74,
     "metadata": {},
     "output_type": "execute_result"
    }
   ],
   "source": [
    "salaries_df.iloc[1]"
   ]
  },
  {
   "cell_type": "code",
   "execution_count": 75,
   "id": "38d8e008",
   "metadata": {},
   "outputs": [
    {
     "data": {
      "text/html": [
       "<div>\n",
       "<style scoped>\n",
       "    .dataframe tbody tr th:only-of-type {\n",
       "        vertical-align: middle;\n",
       "    }\n",
       "\n",
       "    .dataframe tbody tr th {\n",
       "        vertical-align: top;\n",
       "    }\n",
       "\n",
       "    .dataframe thead th {\n",
       "        text-align: right;\n",
       "    }\n",
       "</style>\n",
       "<table border=\"1\" class=\"dataframe\">\n",
       "  <thead>\n",
       "    <tr style=\"text-align: right;\">\n",
       "      <th></th>\n",
       "      <th>name</th>\n",
       "      <th>salary</th>\n",
       "      <th>age</th>\n",
       "    </tr>\n",
       "  </thead>\n",
       "  <tbody>\n",
       "    <tr>\n",
       "      <th>s</th>\n",
       "      <td>Sam</td>\n",
       "      <td>234.7</td>\n",
       "      <td>27</td>\n",
       "    </tr>\n",
       "    <tr>\n",
       "      <th>b</th>\n",
       "      <td>Bob</td>\n",
       "      <td>158.3</td>\n",
       "      <td>33</td>\n",
       "    </tr>\n",
       "  </tbody>\n",
       "</table>\n",
       "</div>"
      ],
      "text/plain": [
       "  name  salary  age\n",
       "s  Sam   234.7   27\n",
       "b  Bob   158.3   33"
      ]
     },
     "execution_count": 75,
     "metadata": {},
     "output_type": "execute_result"
    }
   ],
   "source": [
    "salaries_df.iloc[1:3]"
   ]
  },
  {
   "cell_type": "code",
   "execution_count": 76,
   "id": "f2c960fd",
   "metadata": {},
   "outputs": [
    {
     "data": {
      "text/plain": [
       "'{\"name\":{\"j\":\"John\",\"s\":\"Sam\",\"b\":\"Bob\"},\"salary\":{\"j\":169.5,\"s\":234.7,\"b\":158.3},\"age\":{\"j\":18,\"s\":27,\"b\":33}}'"
      ]
     },
     "execution_count": 76,
     "metadata": {},
     "output_type": "execute_result"
    }
   ],
   "source": [
    "salaries_df.to_json()"
   ]
  },
  {
   "cell_type": "code",
   "execution_count": 77,
   "id": "78d75877",
   "metadata": {},
   "outputs": [],
   "source": [
    "salaries_df.to_csv('salaries.csv')"
   ]
  },
  {
   "cell_type": "code",
   "execution_count": 78,
   "id": "205e9b8a",
   "metadata": {},
   "outputs": [
    {
     "data": {
      "text/html": [
       "<div>\n",
       "<style scoped>\n",
       "    .dataframe tbody tr th:only-of-type {\n",
       "        vertical-align: middle;\n",
       "    }\n",
       "\n",
       "    .dataframe tbody tr th {\n",
       "        vertical-align: top;\n",
       "    }\n",
       "\n",
       "    .dataframe thead th {\n",
       "        text-align: right;\n",
       "    }\n",
       "</style>\n",
       "<table border=\"1\" class=\"dataframe\">\n",
       "  <thead>\n",
       "    <tr style=\"text-align: right;\">\n",
       "      <th></th>\n",
       "      <th>Unnamed: 0</th>\n",
       "      <th>name</th>\n",
       "      <th>salary</th>\n",
       "      <th>age</th>\n",
       "    </tr>\n",
       "  </thead>\n",
       "  <tbody>\n",
       "    <tr>\n",
       "      <th>0</th>\n",
       "      <td>j</td>\n",
       "      <td>John</td>\n",
       "      <td>169.5</td>\n",
       "      <td>18</td>\n",
       "    </tr>\n",
       "    <tr>\n",
       "      <th>1</th>\n",
       "      <td>s</td>\n",
       "      <td>Sam</td>\n",
       "      <td>234.7</td>\n",
       "      <td>27</td>\n",
       "    </tr>\n",
       "    <tr>\n",
       "      <th>2</th>\n",
       "      <td>b</td>\n",
       "      <td>Bob</td>\n",
       "      <td>158.3</td>\n",
       "      <td>33</td>\n",
       "    </tr>\n",
       "  </tbody>\n",
       "</table>\n",
       "</div>"
      ],
      "text/plain": [
       "  Unnamed: 0  name  salary  age\n",
       "0          j  John   169.5   18\n",
       "1          s   Sam   234.7   27\n",
       "2          b   Bob   158.3   33"
      ]
     },
     "execution_count": 78,
     "metadata": {},
     "output_type": "execute_result"
    }
   ],
   "source": [
    "pd.read_csv('salaries.csv')"
   ]
  },
  {
   "cell_type": "code",
   "execution_count": 79,
   "id": "0490845a",
   "metadata": {},
   "outputs": [
    {
     "data": {
      "text/html": [
       "<div>\n",
       "<style scoped>\n",
       "    .dataframe tbody tr th:only-of-type {\n",
       "        vertical-align: middle;\n",
       "    }\n",
       "\n",
       "    .dataframe tbody tr th {\n",
       "        vertical-align: top;\n",
       "    }\n",
       "\n",
       "    .dataframe thead th {\n",
       "        text-align: right;\n",
       "    }\n",
       "</style>\n",
       "<table border=\"1\" class=\"dataframe\">\n",
       "  <thead>\n",
       "    <tr style=\"text-align: right;\">\n",
       "      <th></th>\n",
       "      <th>name</th>\n",
       "      <th>salary</th>\n",
       "      <th>age</th>\n",
       "    </tr>\n",
       "  </thead>\n",
       "  <tbody>\n",
       "    <tr>\n",
       "      <th>j</th>\n",
       "      <td>John</td>\n",
       "      <td>169.5</td>\n",
       "      <td>18</td>\n",
       "    </tr>\n",
       "    <tr>\n",
       "      <th>s</th>\n",
       "      <td>Sam</td>\n",
       "      <td>234.7</td>\n",
       "      <td>27</td>\n",
       "    </tr>\n",
       "    <tr>\n",
       "      <th>b</th>\n",
       "      <td>Bob</td>\n",
       "      <td>158.3</td>\n",
       "      <td>33</td>\n",
       "    </tr>\n",
       "  </tbody>\n",
       "</table>\n",
       "</div>"
      ],
      "text/plain": [
       "   name  salary  age\n",
       "j  John   169.5   18\n",
       "s   Sam   234.7   27\n",
       "b   Bob   158.3   33"
      ]
     },
     "execution_count": 79,
     "metadata": {},
     "output_type": "execute_result"
    }
   ],
   "source": [
    "pd.read_csv('salaries.csv', index_col=0)"
   ]
  },
  {
   "cell_type": "code",
   "execution_count": 80,
   "id": "1dbf16c8",
   "metadata": {},
   "outputs": [
    {
     "data": {
      "text/html": [
       "<div>\n",
       "<style scoped>\n",
       "    .dataframe tbody tr th:only-of-type {\n",
       "        vertical-align: middle;\n",
       "    }\n",
       "\n",
       "    .dataframe tbody tr th {\n",
       "        vertical-align: top;\n",
       "    }\n",
       "\n",
       "    .dataframe thead th {\n",
       "        text-align: right;\n",
       "    }\n",
       "</style>\n",
       "<table border=\"1\" class=\"dataframe\">\n",
       "  <thead>\n",
       "    <tr style=\"text-align: right;\">\n",
       "      <th></th>\n",
       "      <th>name</th>\n",
       "      <th>salary</th>\n",
       "      <th>age</th>\n",
       "    </tr>\n",
       "  </thead>\n",
       "  <tbody>\n",
       "    <tr>\n",
       "      <th>j</th>\n",
       "      <td>John</td>\n",
       "      <td>169.5</td>\n",
       "      <td>18</td>\n",
       "    </tr>\n",
       "    <tr>\n",
       "      <th>s</th>\n",
       "      <td>Sam</td>\n",
       "      <td>234.7</td>\n",
       "      <td>27</td>\n",
       "    </tr>\n",
       "    <tr>\n",
       "      <th>b</th>\n",
       "      <td>Bob</td>\n",
       "      <td>158.3</td>\n",
       "      <td>33</td>\n",
       "    </tr>\n",
       "  </tbody>\n",
       "</table>\n",
       "</div>"
      ],
      "text/plain": [
       "   name  salary  age\n",
       "j  John   169.5   18\n",
       "s   Sam   234.7   27\n",
       "b   Bob   158.3   33"
      ]
     },
     "execution_count": 80,
     "metadata": {},
     "output_type": "execute_result"
    }
   ],
   "source": [
    "salaries_df"
   ]
  },
  {
   "cell_type": "code",
   "execution_count": 81,
   "id": "d65e610c",
   "metadata": {},
   "outputs": [
    {
     "data": {
      "text/plain": [
       "{'name': {'j': 'John', 's': 'Sam', 'b': 'Bob'},\n",
       " 'salary': {'j': 169.5, 's': 234.7, 'b': 158.3},\n",
       " 'age': {'j': 18, 's': 27, 'b': 33}}"
      ]
     },
     "execution_count": 81,
     "metadata": {},
     "output_type": "execute_result"
    }
   ],
   "source": [
    "salaries_df.to_dict()"
   ]
  },
  {
   "cell_type": "code",
   "execution_count": 82,
   "id": "be76a5e4",
   "metadata": {},
   "outputs": [
    {
     "data": {
      "text/plain": [
       "<generator object DataFrame.iterrows at 0x12634f990>"
      ]
     },
     "execution_count": 82,
     "metadata": {},
     "output_type": "execute_result"
    }
   ],
   "source": [
    "salaries_df.iterrows()"
   ]
  },
  {
   "cell_type": "code",
   "execution_count": 83,
   "id": "164edccf",
   "metadata": {},
   "outputs": [
    {
     "name": "stdout",
     "output_type": "stream",
     "text": [
      "('j', name       John\n",
      "salary    169.5\n",
      "age          18\n",
      "Name: j, dtype: object)\n",
      "('s', name        Sam\n",
      "salary    234.7\n",
      "age          27\n",
      "Name: s, dtype: object)\n",
      "('b', name        Bob\n",
      "salary    158.3\n",
      "age          33\n",
      "Name: b, dtype: object)\n"
     ]
    }
   ],
   "source": [
    "for item in salaries_df.iterrows():\n",
    "    print(item)"
   ]
  },
  {
   "cell_type": "code",
   "execution_count": 84,
   "id": "df4a476d",
   "metadata": {},
   "outputs": [
    {
     "name": "stdout",
     "output_type": "stream",
     "text": [
      "j 18 John\n",
      "<class 'pandas.core.series.Series'>\n",
      "s 27 Sam\n",
      "<class 'pandas.core.series.Series'>\n",
      "b 33 Bob\n",
      "<class 'pandas.core.series.Series'>\n"
     ]
    }
   ],
   "source": [
    "for idx, row in salaries_df.iterrows():\n",
    "    print(idx, row.age, row['name'])\n",
    "    print(type(row))"
   ]
  },
  {
   "cell_type": "code",
   "execution_count": 85,
   "id": "cc8b683a",
   "metadata": {},
   "outputs": [
    {
     "data": {
      "text/html": [
       "<div>\n",
       "<style scoped>\n",
       "    .dataframe tbody tr th:only-of-type {\n",
       "        vertical-align: middle;\n",
       "    }\n",
       "\n",
       "    .dataframe tbody tr th {\n",
       "        vertical-align: top;\n",
       "    }\n",
       "\n",
       "    .dataframe thead th {\n",
       "        text-align: right;\n",
       "    }\n",
       "</style>\n",
       "<table border=\"1\" class=\"dataframe\">\n",
       "  <thead>\n",
       "    <tr style=\"text-align: right;\">\n",
       "      <th></th>\n",
       "      <th>name</th>\n",
       "      <th>salary</th>\n",
       "      <th>age</th>\n",
       "    </tr>\n",
       "  </thead>\n",
       "  <tbody>\n",
       "    <tr>\n",
       "      <th>s</th>\n",
       "      <td>Sam</td>\n",
       "      <td>234.7</td>\n",
       "      <td>27</td>\n",
       "    </tr>\n",
       "    <tr>\n",
       "      <th>b</th>\n",
       "      <td>Bob</td>\n",
       "      <td>158.3</td>\n",
       "      <td>33</td>\n",
       "    </tr>\n",
       "  </tbody>\n",
       "</table>\n",
       "</div>"
      ],
      "text/plain": [
       "  name  salary  age\n",
       "s  Sam   234.7   27\n",
       "b  Bob   158.3   33"
      ]
     },
     "execution_count": 85,
     "metadata": {},
     "output_type": "execute_result"
    }
   ],
   "source": [
    "salaries_df.iloc[1:3]"
   ]
  },
  {
   "cell_type": "code",
   "execution_count": 86,
   "id": "3e73e780",
   "metadata": {},
   "outputs": [
    {
     "data": {
      "text/html": [
       "<div>\n",
       "<style scoped>\n",
       "    .dataframe tbody tr th:only-of-type {\n",
       "        vertical-align: middle;\n",
       "    }\n",
       "\n",
       "    .dataframe tbody tr th {\n",
       "        vertical-align: top;\n",
       "    }\n",
       "\n",
       "    .dataframe thead th {\n",
       "        text-align: right;\n",
       "    }\n",
       "</style>\n",
       "<table border=\"1\" class=\"dataframe\">\n",
       "  <thead>\n",
       "    <tr style=\"text-align: right;\">\n",
       "      <th></th>\n",
       "      <th>name</th>\n",
       "      <th>salary</th>\n",
       "      <th>age</th>\n",
       "    </tr>\n",
       "  </thead>\n",
       "  <tbody>\n",
       "    <tr>\n",
       "      <th>s</th>\n",
       "      <td>Sam</td>\n",
       "      <td>234.7</td>\n",
       "      <td>27</td>\n",
       "    </tr>\n",
       "    <tr>\n",
       "      <th>b</th>\n",
       "      <td>Bob</td>\n",
       "      <td>158.3</td>\n",
       "      <td>33</td>\n",
       "    </tr>\n",
       "  </tbody>\n",
       "</table>\n",
       "</div>"
      ],
      "text/plain": [
       "  name  salary  age\n",
       "s  Sam   234.7   27\n",
       "b  Bob   158.3   33"
      ]
     },
     "execution_count": 86,
     "metadata": {},
     "output_type": "execute_result"
    }
   ],
   "source": [
    "salaries_df.loc['s':'b']"
   ]
  },
  {
   "cell_type": "code",
   "execution_count": 87,
   "id": "15788b7d",
   "metadata": {},
   "outputs": [
    {
     "data": {
      "text/plain": [
       "s    234.7\n",
       "b    158.3\n",
       "Name: salary, dtype: float64"
      ]
     },
     "execution_count": 87,
     "metadata": {},
     "output_type": "execute_result"
    }
   ],
   "source": [
    "salaries_df.loc['s':'b', 'salary']"
   ]
  },
  {
   "cell_type": "code",
   "execution_count": 88,
   "id": "c2adae66",
   "metadata": {},
   "outputs": [
    {
     "data": {
      "text/html": [
       "<div>\n",
       "<style scoped>\n",
       "    .dataframe tbody tr th:only-of-type {\n",
       "        vertical-align: middle;\n",
       "    }\n",
       "\n",
       "    .dataframe tbody tr th {\n",
       "        vertical-align: top;\n",
       "    }\n",
       "\n",
       "    .dataframe thead th {\n",
       "        text-align: right;\n",
       "    }\n",
       "</style>\n",
       "<table border=\"1\" class=\"dataframe\">\n",
       "  <thead>\n",
       "    <tr style=\"text-align: right;\">\n",
       "      <th></th>\n",
       "      <th>name</th>\n",
       "      <th>salary</th>\n",
       "    </tr>\n",
       "  </thead>\n",
       "  <tbody>\n",
       "    <tr>\n",
       "      <th>s</th>\n",
       "      <td>Sam</td>\n",
       "      <td>234.7</td>\n",
       "    </tr>\n",
       "    <tr>\n",
       "      <th>b</th>\n",
       "      <td>Bob</td>\n",
       "      <td>158.3</td>\n",
       "    </tr>\n",
       "  </tbody>\n",
       "</table>\n",
       "</div>"
      ],
      "text/plain": [
       "  name  salary\n",
       "s  Sam   234.7\n",
       "b  Bob   158.3"
      ]
     },
     "execution_count": 88,
     "metadata": {},
     "output_type": "execute_result"
    }
   ],
   "source": [
    "salaries_df.loc['s':'b', ['name', 'salary']]"
   ]
  },
  {
   "cell_type": "code",
   "execution_count": 89,
   "id": "b2bcf35c",
   "metadata": {},
   "outputs": [
    {
     "data": {
      "text/html": [
       "<div>\n",
       "<style scoped>\n",
       "    .dataframe tbody tr th:only-of-type {\n",
       "        vertical-align: middle;\n",
       "    }\n",
       "\n",
       "    .dataframe tbody tr th {\n",
       "        vertical-align: top;\n",
       "    }\n",
       "\n",
       "    .dataframe thead th {\n",
       "        text-align: right;\n",
       "    }\n",
       "</style>\n",
       "<table border=\"1\" class=\"dataframe\">\n",
       "  <thead>\n",
       "    <tr style=\"text-align: right;\">\n",
       "      <th></th>\n",
       "      <th>country</th>\n",
       "      <th>population</th>\n",
       "      <th>square</th>\n",
       "    </tr>\n",
       "  </thead>\n",
       "  <tbody>\n",
       "    <tr>\n",
       "      <th>RU</th>\n",
       "      <td>Russia</td>\n",
       "      <td>144.5</td>\n",
       "      <td>17250000</td>\n",
       "    </tr>\n",
       "    <tr>\n",
       "      <th>KZ</th>\n",
       "      <td>Kazakhstan</td>\n",
       "      <td>18.3</td>\n",
       "      <td>2724900</td>\n",
       "    </tr>\n",
       "    <tr>\n",
       "      <th>UA</th>\n",
       "      <td>Ukraine</td>\n",
       "      <td>42.4</td>\n",
       "      <td>603628</td>\n",
       "    </tr>\n",
       "    <tr>\n",
       "      <th>BY</th>\n",
       "      <td>Belarus</td>\n",
       "      <td>9.5</td>\n",
       "      <td>207595</td>\n",
       "    </tr>\n",
       "  </tbody>\n",
       "</table>\n",
       "</div>"
      ],
      "text/plain": [
       "       country  population    square\n",
       "RU      Russia       144.5  17250000\n",
       "KZ  Kazakhstan        18.3   2724900\n",
       "UA     Ukraine        42.4    603628\n",
       "BY     Belarus         9.5    207595"
      ]
     },
     "execution_count": 89,
     "metadata": {},
     "output_type": "execute_result"
    }
   ],
   "source": [
    "countries_info = {\n",
    "    'country': ['Russia', 'Kazakhstan', 'Ukraine', 'Belarus'],\n",
    "    'population': [144.5, 18.3, 42.4, 9.5],\n",
    "    'square': [17_250_000, 2_724_900, 603_628, 207_595],\n",
    "}\n",
    "countries_indexes = ['RU', 'KZ', 'UA', 'BY']\n",
    "\n",
    "countries_df = pd.DataFrame(\n",
    "    countries_info,\n",
    "    index=countries_indexes,\n",
    ")\n",
    "countries_df"
   ]
  },
  {
   "cell_type": "code",
   "execution_count": 90,
   "id": "74c9ae9f",
   "metadata": {},
   "outputs": [
    {
     "data": {
      "text/plain": [
       "Index(['RU', 'KZ', 'UA', 'BY'], dtype='object')"
      ]
     },
     "execution_count": 90,
     "metadata": {},
     "output_type": "execute_result"
    }
   ],
   "source": [
    "countries_df.index"
   ]
  },
  {
   "cell_type": "code",
   "execution_count": 91,
   "id": "a3bfb56b",
   "metadata": {},
   "outputs": [],
   "source": [
    "countries_df.index.name = 'code'"
   ]
  },
  {
   "cell_type": "code",
   "execution_count": 92,
   "id": "aa1a0ede",
   "metadata": {},
   "outputs": [
    {
     "data": {
      "text/plain": [
       "Index(['RU', 'KZ', 'UA', 'BY'], dtype='object', name='code')"
      ]
     },
     "execution_count": 92,
     "metadata": {},
     "output_type": "execute_result"
    }
   ],
   "source": [
    "countries_df.index"
   ]
  },
  {
   "cell_type": "code",
   "execution_count": 93,
   "id": "95791710",
   "metadata": {},
   "outputs": [
    {
     "data": {
      "text/html": [
       "<div>\n",
       "<style scoped>\n",
       "    .dataframe tbody tr th:only-of-type {\n",
       "        vertical-align: middle;\n",
       "    }\n",
       "\n",
       "    .dataframe tbody tr th {\n",
       "        vertical-align: top;\n",
       "    }\n",
       "\n",
       "    .dataframe thead th {\n",
       "        text-align: right;\n",
       "    }\n",
       "</style>\n",
       "<table border=\"1\" class=\"dataframe\">\n",
       "  <thead>\n",
       "    <tr style=\"text-align: right;\">\n",
       "      <th></th>\n",
       "      <th>country</th>\n",
       "      <th>population</th>\n",
       "      <th>square</th>\n",
       "    </tr>\n",
       "    <tr>\n",
       "      <th>code</th>\n",
       "      <th></th>\n",
       "      <th></th>\n",
       "      <th></th>\n",
       "    </tr>\n",
       "  </thead>\n",
       "  <tbody>\n",
       "    <tr>\n",
       "      <th>RU</th>\n",
       "      <td>Russia</td>\n",
       "      <td>144.5</td>\n",
       "      <td>17250000</td>\n",
       "    </tr>\n",
       "    <tr>\n",
       "      <th>KZ</th>\n",
       "      <td>Kazakhstan</td>\n",
       "      <td>18.3</td>\n",
       "      <td>2724900</td>\n",
       "    </tr>\n",
       "    <tr>\n",
       "      <th>UA</th>\n",
       "      <td>Ukraine</td>\n",
       "      <td>42.4</td>\n",
       "      <td>603628</td>\n",
       "    </tr>\n",
       "    <tr>\n",
       "      <th>BY</th>\n",
       "      <td>Belarus</td>\n",
       "      <td>9.5</td>\n",
       "      <td>207595</td>\n",
       "    </tr>\n",
       "  </tbody>\n",
       "</table>\n",
       "</div>"
      ],
      "text/plain": [
       "         country  population    square\n",
       "code                                  \n",
       "RU        Russia       144.5  17250000\n",
       "KZ    Kazakhstan        18.3   2724900\n",
       "UA       Ukraine        42.4    603628\n",
       "BY       Belarus         9.5    207595"
      ]
     },
     "execution_count": 93,
     "metadata": {},
     "output_type": "execute_result"
    }
   ],
   "source": [
    "countries_df"
   ]
  },
  {
   "cell_type": "code",
   "execution_count": 94,
   "id": "d6d71f57",
   "metadata": {},
   "outputs": [
    {
     "data": {
      "text/html": [
       "<div>\n",
       "<style scoped>\n",
       "    .dataframe tbody tr th:only-of-type {\n",
       "        vertical-align: middle;\n",
       "    }\n",
       "\n",
       "    .dataframe tbody tr th {\n",
       "        vertical-align: top;\n",
       "    }\n",
       "\n",
       "    .dataframe thead th {\n",
       "        text-align: right;\n",
       "    }\n",
       "</style>\n",
       "<table border=\"1\" class=\"dataframe\">\n",
       "  <thead>\n",
       "    <tr style=\"text-align: right;\">\n",
       "      <th></th>\n",
       "      <th>country</th>\n",
       "      <th>population</th>\n",
       "      <th>square</th>\n",
       "      <th>density</th>\n",
       "    </tr>\n",
       "    <tr>\n",
       "      <th>code</th>\n",
       "      <th></th>\n",
       "      <th></th>\n",
       "      <th></th>\n",
       "      <th></th>\n",
       "    </tr>\n",
       "  </thead>\n",
       "  <tbody>\n",
       "    <tr>\n",
       "      <th>RU</th>\n",
       "      <td>Russia</td>\n",
       "      <td>144.5</td>\n",
       "      <td>17250000</td>\n",
       "      <td>8.376812</td>\n",
       "    </tr>\n",
       "    <tr>\n",
       "      <th>KZ</th>\n",
       "      <td>Kazakhstan</td>\n",
       "      <td>18.3</td>\n",
       "      <td>2724900</td>\n",
       "      <td>6.715843</td>\n",
       "    </tr>\n",
       "    <tr>\n",
       "      <th>UA</th>\n",
       "      <td>Ukraine</td>\n",
       "      <td>42.4</td>\n",
       "      <td>603628</td>\n",
       "      <td>70.241937</td>\n",
       "    </tr>\n",
       "    <tr>\n",
       "      <th>BY</th>\n",
       "      <td>Belarus</td>\n",
       "      <td>9.5</td>\n",
       "      <td>207595</td>\n",
       "      <td>45.762181</td>\n",
       "    </tr>\n",
       "  </tbody>\n",
       "</table>\n",
       "</div>"
      ],
      "text/plain": [
       "         country  population    square    density\n",
       "code                                             \n",
       "RU        Russia       144.5  17250000   8.376812\n",
       "KZ    Kazakhstan        18.3   2724900   6.715843\n",
       "UA       Ukraine        42.4    603628  70.241937\n",
       "BY       Belarus         9.5    207595  45.762181"
      ]
     },
     "execution_count": 94,
     "metadata": {},
     "output_type": "execute_result"
    }
   ],
   "source": [
    "countries_df['density'] = countries_df.population * 1_000_000 / countries_df.square\n",
    "countries_df"
   ]
  },
  {
   "cell_type": "code",
   "execution_count": 95,
   "id": "c4cc93e6",
   "metadata": {},
   "outputs": [
    {
     "data": {
      "text/plain": [
       "2"
      ]
     },
     "execution_count": 95,
     "metadata": {},
     "output_type": "execute_result"
    }
   ],
   "source": [
    "round(2.5)"
   ]
  },
  {
   "cell_type": "code",
   "execution_count": 96,
   "id": "3418d2b7",
   "metadata": {},
   "outputs": [
    {
     "data": {
      "text/plain": [
       "3"
      ]
     },
     "execution_count": 96,
     "metadata": {},
     "output_type": "execute_result"
    }
   ],
   "source": [
    "round(2.6)"
   ]
  },
  {
   "cell_type": "code",
   "execution_count": 97,
   "id": "63097a87",
   "metadata": {},
   "outputs": [
    {
     "data": {
      "text/html": [
       "<div>\n",
       "<style scoped>\n",
       "    .dataframe tbody tr th:only-of-type {\n",
       "        vertical-align: middle;\n",
       "    }\n",
       "\n",
       "    .dataframe tbody tr th {\n",
       "        vertical-align: top;\n",
       "    }\n",
       "\n",
       "    .dataframe thead th {\n",
       "        text-align: right;\n",
       "    }\n",
       "</style>\n",
       "<table border=\"1\" class=\"dataframe\">\n",
       "  <thead>\n",
       "    <tr style=\"text-align: right;\">\n",
       "      <th></th>\n",
       "      <th>country</th>\n",
       "      <th>population</th>\n",
       "      <th>square</th>\n",
       "      <th>density</th>\n",
       "      <th>density_int</th>\n",
       "    </tr>\n",
       "    <tr>\n",
       "      <th>code</th>\n",
       "      <th></th>\n",
       "      <th></th>\n",
       "      <th></th>\n",
       "      <th></th>\n",
       "      <th></th>\n",
       "    </tr>\n",
       "  </thead>\n",
       "  <tbody>\n",
       "    <tr>\n",
       "      <th>RU</th>\n",
       "      <td>Russia</td>\n",
       "      <td>144.5</td>\n",
       "      <td>17250000</td>\n",
       "      <td>8.376812</td>\n",
       "      <td>8</td>\n",
       "    </tr>\n",
       "    <tr>\n",
       "      <th>KZ</th>\n",
       "      <td>Kazakhstan</td>\n",
       "      <td>18.3</td>\n",
       "      <td>2724900</td>\n",
       "      <td>6.715843</td>\n",
       "      <td>7</td>\n",
       "    </tr>\n",
       "    <tr>\n",
       "      <th>UA</th>\n",
       "      <td>Ukraine</td>\n",
       "      <td>42.4</td>\n",
       "      <td>603628</td>\n",
       "      <td>70.241937</td>\n",
       "      <td>70</td>\n",
       "    </tr>\n",
       "    <tr>\n",
       "      <th>BY</th>\n",
       "      <td>Belarus</td>\n",
       "      <td>9.5</td>\n",
       "      <td>207595</td>\n",
       "      <td>45.762181</td>\n",
       "      <td>46</td>\n",
       "    </tr>\n",
       "  </tbody>\n",
       "</table>\n",
       "</div>"
      ],
      "text/plain": [
       "         country  population    square    density  density_int\n",
       "code                                                          \n",
       "RU        Russia       144.5  17250000   8.376812            8\n",
       "KZ    Kazakhstan        18.3   2724900   6.715843            7\n",
       "UA       Ukraine        42.4    603628  70.241937           70\n",
       "BY       Belarus         9.5    207595  45.762181           46"
      ]
     },
     "execution_count": 97,
     "metadata": {},
     "output_type": "execute_result"
    }
   ],
   "source": [
    "countries_df['density_int'] = countries_df['density'].apply(round)\n",
    "countries_df"
   ]
  },
  {
   "cell_type": "code",
   "execution_count": 98,
   "id": "55774cfc",
   "metadata": {},
   "outputs": [
    {
     "data": {
      "text/html": [
       "<div>\n",
       "<style scoped>\n",
       "    .dataframe tbody tr th:only-of-type {\n",
       "        vertical-align: middle;\n",
       "    }\n",
       "\n",
       "    .dataframe tbody tr th {\n",
       "        vertical-align: top;\n",
       "    }\n",
       "\n",
       "    .dataframe thead th {\n",
       "        text-align: right;\n",
       "    }\n",
       "</style>\n",
       "<table border=\"1\" class=\"dataframe\">\n",
       "  <thead>\n",
       "    <tr style=\"text-align: right;\">\n",
       "      <th></th>\n",
       "      <th>country</th>\n",
       "      <th>population</th>\n",
       "      <th>square</th>\n",
       "      <th>density_int</th>\n",
       "    </tr>\n",
       "    <tr>\n",
       "      <th>code</th>\n",
       "      <th></th>\n",
       "      <th></th>\n",
       "      <th></th>\n",
       "      <th></th>\n",
       "    </tr>\n",
       "  </thead>\n",
       "  <tbody>\n",
       "    <tr>\n",
       "      <th>RU</th>\n",
       "      <td>Russia</td>\n",
       "      <td>144.5</td>\n",
       "      <td>17250000</td>\n",
       "      <td>8</td>\n",
       "    </tr>\n",
       "    <tr>\n",
       "      <th>KZ</th>\n",
       "      <td>Kazakhstan</td>\n",
       "      <td>18.3</td>\n",
       "      <td>2724900</td>\n",
       "      <td>7</td>\n",
       "    </tr>\n",
       "    <tr>\n",
       "      <th>UA</th>\n",
       "      <td>Ukraine</td>\n",
       "      <td>42.4</td>\n",
       "      <td>603628</td>\n",
       "      <td>70</td>\n",
       "    </tr>\n",
       "    <tr>\n",
       "      <th>BY</th>\n",
       "      <td>Belarus</td>\n",
       "      <td>9.5</td>\n",
       "      <td>207595</td>\n",
       "      <td>46</td>\n",
       "    </tr>\n",
       "  </tbody>\n",
       "</table>\n",
       "</div>"
      ],
      "text/plain": [
       "         country  population    square  density_int\n",
       "code                                               \n",
       "RU        Russia       144.5  17250000            8\n",
       "KZ    Kazakhstan        18.3   2724900            7\n",
       "UA       Ukraine        42.4    603628           70\n",
       "BY       Belarus         9.5    207595           46"
      ]
     },
     "execution_count": 98,
     "metadata": {},
     "output_type": "execute_result"
    }
   ],
   "source": [
    "countries_df.drop('density', axis=1)"
   ]
  },
  {
   "cell_type": "code",
   "execution_count": 99,
   "id": "69f504e7",
   "metadata": {},
   "outputs": [
    {
     "data": {
      "text/html": [
       "<div>\n",
       "<style scoped>\n",
       "    .dataframe tbody tr th:only-of-type {\n",
       "        vertical-align: middle;\n",
       "    }\n",
       "\n",
       "    .dataframe tbody tr th {\n",
       "        vertical-align: top;\n",
       "    }\n",
       "\n",
       "    .dataframe thead th {\n",
       "        text-align: right;\n",
       "    }\n",
       "</style>\n",
       "<table border=\"1\" class=\"dataframe\">\n",
       "  <thead>\n",
       "    <tr style=\"text-align: right;\">\n",
       "      <th></th>\n",
       "      <th>country</th>\n",
       "      <th>population</th>\n",
       "      <th>square</th>\n",
       "      <th>density</th>\n",
       "      <th>density_int</th>\n",
       "    </tr>\n",
       "    <tr>\n",
       "      <th>code</th>\n",
       "      <th></th>\n",
       "      <th></th>\n",
       "      <th></th>\n",
       "      <th></th>\n",
       "      <th></th>\n",
       "    </tr>\n",
       "  </thead>\n",
       "  <tbody>\n",
       "    <tr>\n",
       "      <th>RU</th>\n",
       "      <td>Russia</td>\n",
       "      <td>144.5</td>\n",
       "      <td>17250000</td>\n",
       "      <td>8.376812</td>\n",
       "      <td>8</td>\n",
       "    </tr>\n",
       "    <tr>\n",
       "      <th>KZ</th>\n",
       "      <td>Kazakhstan</td>\n",
       "      <td>18.3</td>\n",
       "      <td>2724900</td>\n",
       "      <td>6.715843</td>\n",
       "      <td>7</td>\n",
       "    </tr>\n",
       "    <tr>\n",
       "      <th>UA</th>\n",
       "      <td>Ukraine</td>\n",
       "      <td>42.4</td>\n",
       "      <td>603628</td>\n",
       "      <td>70.241937</td>\n",
       "      <td>70</td>\n",
       "    </tr>\n",
       "    <tr>\n",
       "      <th>BY</th>\n",
       "      <td>Belarus</td>\n",
       "      <td>9.5</td>\n",
       "      <td>207595</td>\n",
       "      <td>45.762181</td>\n",
       "      <td>46</td>\n",
       "    </tr>\n",
       "  </tbody>\n",
       "</table>\n",
       "</div>"
      ],
      "text/plain": [
       "         country  population    square    density  density_int\n",
       "code                                                          \n",
       "RU        Russia       144.5  17250000   8.376812            8\n",
       "KZ    Kazakhstan        18.3   2724900   6.715843            7\n",
       "UA       Ukraine        42.4    603628  70.241937           70\n",
       "BY       Belarus         9.5    207595  45.762181           46"
      ]
     },
     "execution_count": 99,
     "metadata": {},
     "output_type": "execute_result"
    }
   ],
   "source": [
    "countries_df"
   ]
  },
  {
   "cell_type": "code",
   "execution_count": 100,
   "id": "288e843f",
   "metadata": {},
   "outputs": [
    {
     "data": {
      "text/html": [
       "<div>\n",
       "<style scoped>\n",
       "    .dataframe tbody tr th:only-of-type {\n",
       "        vertical-align: middle;\n",
       "    }\n",
       "\n",
       "    .dataframe tbody tr th {\n",
       "        vertical-align: top;\n",
       "    }\n",
       "\n",
       "    .dataframe thead th {\n",
       "        text-align: right;\n",
       "    }\n",
       "</style>\n",
       "<table border=\"1\" class=\"dataframe\">\n",
       "  <thead>\n",
       "    <tr style=\"text-align: right;\">\n",
       "      <th></th>\n",
       "      <th>country</th>\n",
       "      <th>population</th>\n",
       "      <th>square</th>\n",
       "      <th>density_int</th>\n",
       "    </tr>\n",
       "    <tr>\n",
       "      <th>code</th>\n",
       "      <th></th>\n",
       "      <th></th>\n",
       "      <th></th>\n",
       "      <th></th>\n",
       "    </tr>\n",
       "  </thead>\n",
       "  <tbody>\n",
       "    <tr>\n",
       "      <th>RU</th>\n",
       "      <td>Russia</td>\n",
       "      <td>144.5</td>\n",
       "      <td>17250000</td>\n",
       "      <td>8</td>\n",
       "    </tr>\n",
       "    <tr>\n",
       "      <th>KZ</th>\n",
       "      <td>Kazakhstan</td>\n",
       "      <td>18.3</td>\n",
       "      <td>2724900</td>\n",
       "      <td>7</td>\n",
       "    </tr>\n",
       "    <tr>\n",
       "      <th>UA</th>\n",
       "      <td>Ukraine</td>\n",
       "      <td>42.4</td>\n",
       "      <td>603628</td>\n",
       "      <td>70</td>\n",
       "    </tr>\n",
       "    <tr>\n",
       "      <th>BY</th>\n",
       "      <td>Belarus</td>\n",
       "      <td>9.5</td>\n",
       "      <td>207595</td>\n",
       "      <td>46</td>\n",
       "    </tr>\n",
       "  </tbody>\n",
       "</table>\n",
       "</div>"
      ],
      "text/plain": [
       "         country  population    square  density_int\n",
       "code                                               \n",
       "RU        Russia       144.5  17250000            8\n",
       "KZ    Kazakhstan        18.3   2724900            7\n",
       "UA       Ukraine        42.4    603628           70\n",
       "BY       Belarus         9.5    207595           46"
      ]
     },
     "execution_count": 100,
     "metadata": {},
     "output_type": "execute_result"
    }
   ],
   "source": [
    "# countries_df.drop(inplace=True)\n",
    "countries_df.drop(columns=['density'])"
   ]
  },
  {
   "cell_type": "code",
   "execution_count": 101,
   "id": "3e3fdb27",
   "metadata": {},
   "outputs": [
    {
     "data": {
      "text/html": [
       "<div>\n",
       "<style scoped>\n",
       "    .dataframe tbody tr th:only-of-type {\n",
       "        vertical-align: middle;\n",
       "    }\n",
       "\n",
       "    .dataframe tbody tr th {\n",
       "        vertical-align: top;\n",
       "    }\n",
       "\n",
       "    .dataframe thead th {\n",
       "        text-align: right;\n",
       "    }\n",
       "</style>\n",
       "<table border=\"1\" class=\"dataframe\">\n",
       "  <thead>\n",
       "    <tr style=\"text-align: right;\">\n",
       "      <th></th>\n",
       "      <th>PassengerID</th>\n",
       "      <th>Name</th>\n",
       "      <th>PClass</th>\n",
       "      <th>Age</th>\n",
       "      <th>Sex</th>\n",
       "      <th>Survived</th>\n",
       "      <th>SexCode</th>\n",
       "    </tr>\n",
       "  </thead>\n",
       "  <tbody>\n",
       "    <tr>\n",
       "      <th>0</th>\n",
       "      <td>1</td>\n",
       "      <td>Allen, Miss Elisabeth Walton</td>\n",
       "      <td>1st</td>\n",
       "      <td>29.00</td>\n",
       "      <td>female</td>\n",
       "      <td>1</td>\n",
       "      <td>1</td>\n",
       "    </tr>\n",
       "    <tr>\n",
       "      <th>1</th>\n",
       "      <td>2</td>\n",
       "      <td>Allison, Miss Helen Loraine</td>\n",
       "      <td>1st</td>\n",
       "      <td>2.00</td>\n",
       "      <td>female</td>\n",
       "      <td>0</td>\n",
       "      <td>1</td>\n",
       "    </tr>\n",
       "    <tr>\n",
       "      <th>2</th>\n",
       "      <td>3</td>\n",
       "      <td>Allison, Mr Hudson Joshua Creighton</td>\n",
       "      <td>1st</td>\n",
       "      <td>30.00</td>\n",
       "      <td>male</td>\n",
       "      <td>0</td>\n",
       "      <td>0</td>\n",
       "    </tr>\n",
       "    <tr>\n",
       "      <th>3</th>\n",
       "      <td>4</td>\n",
       "      <td>Allison, Mrs Hudson JC (Bessie Waldo Daniels)</td>\n",
       "      <td>1st</td>\n",
       "      <td>25.00</td>\n",
       "      <td>female</td>\n",
       "      <td>0</td>\n",
       "      <td>1</td>\n",
       "    </tr>\n",
       "    <tr>\n",
       "      <th>4</th>\n",
       "      <td>5</td>\n",
       "      <td>Allison, Master Hudson Trevor</td>\n",
       "      <td>1st</td>\n",
       "      <td>0.92</td>\n",
       "      <td>male</td>\n",
       "      <td>1</td>\n",
       "      <td>0</td>\n",
       "    </tr>\n",
       "    <tr>\n",
       "      <th>...</th>\n",
       "      <td>...</td>\n",
       "      <td>...</td>\n",
       "      <td>...</td>\n",
       "      <td>...</td>\n",
       "      <td>...</td>\n",
       "      <td>...</td>\n",
       "      <td>...</td>\n",
       "    </tr>\n",
       "    <tr>\n",
       "      <th>1308</th>\n",
       "      <td>1309</td>\n",
       "      <td>Zakarian, Mr Artun</td>\n",
       "      <td>3rd</td>\n",
       "      <td>27.00</td>\n",
       "      <td>male</td>\n",
       "      <td>0</td>\n",
       "      <td>0</td>\n",
       "    </tr>\n",
       "    <tr>\n",
       "      <th>1309</th>\n",
       "      <td>1310</td>\n",
       "      <td>Zakarian, Mr Maprieder</td>\n",
       "      <td>3rd</td>\n",
       "      <td>26.00</td>\n",
       "      <td>male</td>\n",
       "      <td>0</td>\n",
       "      <td>0</td>\n",
       "    </tr>\n",
       "    <tr>\n",
       "      <th>1310</th>\n",
       "      <td>1311</td>\n",
       "      <td>Zenni, Mr Philip</td>\n",
       "      <td>3rd</td>\n",
       "      <td>22.00</td>\n",
       "      <td>male</td>\n",
       "      <td>0</td>\n",
       "      <td>0</td>\n",
       "    </tr>\n",
       "    <tr>\n",
       "      <th>1311</th>\n",
       "      <td>1312</td>\n",
       "      <td>Lievens, Mr Rene</td>\n",
       "      <td>3rd</td>\n",
       "      <td>24.00</td>\n",
       "      <td>male</td>\n",
       "      <td>0</td>\n",
       "      <td>0</td>\n",
       "    </tr>\n",
       "    <tr>\n",
       "      <th>1312</th>\n",
       "      <td>1313</td>\n",
       "      <td>Zimmerman, Leo</td>\n",
       "      <td>3rd</td>\n",
       "      <td>29.00</td>\n",
       "      <td>male</td>\n",
       "      <td>0</td>\n",
       "      <td>0</td>\n",
       "    </tr>\n",
       "  </tbody>\n",
       "</table>\n",
       "<p>1313 rows × 7 columns</p>\n",
       "</div>"
      ],
      "text/plain": [
       "      PassengerID                                           Name PClass  \\\n",
       "0               1                   Allen, Miss Elisabeth Walton    1st   \n",
       "1               2                    Allison, Miss Helen Loraine    1st   \n",
       "2               3            Allison, Mr Hudson Joshua Creighton    1st   \n",
       "3               4  Allison, Mrs Hudson JC (Bessie Waldo Daniels)    1st   \n",
       "4               5                  Allison, Master Hudson Trevor    1st   \n",
       "...           ...                                            ...    ...   \n",
       "1308         1309                             Zakarian, Mr Artun    3rd   \n",
       "1309         1310                         Zakarian, Mr Maprieder    3rd   \n",
       "1310         1311                               Zenni, Mr Philip    3rd   \n",
       "1311         1312                               Lievens, Mr Rene    3rd   \n",
       "1312         1313                                 Zimmerman, Leo    3rd   \n",
       "\n",
       "        Age     Sex  Survived  SexCode  \n",
       "0     29.00  female         1        1  \n",
       "1      2.00  female         0        1  \n",
       "2     30.00    male         0        0  \n",
       "3     25.00  female         0        1  \n",
       "4      0.92    male         1        0  \n",
       "...     ...     ...       ...      ...  \n",
       "1308  27.00    male         0        0  \n",
       "1309  26.00    male         0        0  \n",
       "1310  22.00    male         0        0  \n",
       "1311  24.00    male         0        0  \n",
       "1312  29.00    male         0        0  \n",
       "\n",
       "[1313 rows x 7 columns]"
      ]
     },
     "execution_count": 101,
     "metadata": {},
     "output_type": "execute_result"
    }
   ],
   "source": [
    "titanic_df = pd.read_csv('data/titanic.csv')\n",
    "titanic_df"
   ]
  },
  {
   "cell_type": "code",
   "execution_count": 102,
   "id": "dc0751a4",
   "metadata": {},
   "outputs": [],
   "source": [
    "# pd.set_option('display.max_columns', 10)\n",
    "# pd.set_option('display.max_rows', 10)"
   ]
  },
  {
   "cell_type": "code",
   "execution_count": 103,
   "id": "61e438d4",
   "metadata": {},
   "outputs": [
    {
     "data": {
      "text/html": [
       "<div>\n",
       "<style scoped>\n",
       "    .dataframe tbody tr th:only-of-type {\n",
       "        vertical-align: middle;\n",
       "    }\n",
       "\n",
       "    .dataframe tbody tr th {\n",
       "        vertical-align: top;\n",
       "    }\n",
       "\n",
       "    .dataframe thead th {\n",
       "        text-align: right;\n",
       "    }\n",
       "</style>\n",
       "<table border=\"1\" class=\"dataframe\">\n",
       "  <thead>\n",
       "    <tr style=\"text-align: right;\">\n",
       "      <th></th>\n",
       "      <th>PassengerID</th>\n",
       "      <th>Name</th>\n",
       "      <th>PClass</th>\n",
       "      <th>Age</th>\n",
       "      <th>Sex</th>\n",
       "      <th>Survived</th>\n",
       "      <th>SexCode</th>\n",
       "    </tr>\n",
       "  </thead>\n",
       "  <tbody>\n",
       "    <tr>\n",
       "      <th>1303</th>\n",
       "      <td>1304</td>\n",
       "      <td>Yasbeck, Mr Antoni</td>\n",
       "      <td>3rd</td>\n",
       "      <td>27.0</td>\n",
       "      <td>male</td>\n",
       "      <td>0</td>\n",
       "      <td>0</td>\n",
       "    </tr>\n",
       "    <tr>\n",
       "      <th>1304</th>\n",
       "      <td>1305</td>\n",
       "      <td>Yasbeck, Mrs Antoni</td>\n",
       "      <td>3rd</td>\n",
       "      <td>15.0</td>\n",
       "      <td>female</td>\n",
       "      <td>1</td>\n",
       "      <td>1</td>\n",
       "    </tr>\n",
       "    <tr>\n",
       "      <th>1305</th>\n",
       "      <td>1306</td>\n",
       "      <td>Youssef, Mr Gerios</td>\n",
       "      <td>3rd</td>\n",
       "      <td>NaN</td>\n",
       "      <td>male</td>\n",
       "      <td>0</td>\n",
       "      <td>0</td>\n",
       "    </tr>\n",
       "    <tr>\n",
       "      <th>1306</th>\n",
       "      <td>1307</td>\n",
       "      <td>Zabour, Miss Hileni</td>\n",
       "      <td>3rd</td>\n",
       "      <td>NaN</td>\n",
       "      <td>female</td>\n",
       "      <td>0</td>\n",
       "      <td>1</td>\n",
       "    </tr>\n",
       "    <tr>\n",
       "      <th>1307</th>\n",
       "      <td>1308</td>\n",
       "      <td>Zabour, Miss Tamini</td>\n",
       "      <td>3rd</td>\n",
       "      <td>NaN</td>\n",
       "      <td>female</td>\n",
       "      <td>0</td>\n",
       "      <td>1</td>\n",
       "    </tr>\n",
       "    <tr>\n",
       "      <th>1308</th>\n",
       "      <td>1309</td>\n",
       "      <td>Zakarian, Mr Artun</td>\n",
       "      <td>3rd</td>\n",
       "      <td>27.0</td>\n",
       "      <td>male</td>\n",
       "      <td>0</td>\n",
       "      <td>0</td>\n",
       "    </tr>\n",
       "    <tr>\n",
       "      <th>1309</th>\n",
       "      <td>1310</td>\n",
       "      <td>Zakarian, Mr Maprieder</td>\n",
       "      <td>3rd</td>\n",
       "      <td>26.0</td>\n",
       "      <td>male</td>\n",
       "      <td>0</td>\n",
       "      <td>0</td>\n",
       "    </tr>\n",
       "    <tr>\n",
       "      <th>1310</th>\n",
       "      <td>1311</td>\n",
       "      <td>Zenni, Mr Philip</td>\n",
       "      <td>3rd</td>\n",
       "      <td>22.0</td>\n",
       "      <td>male</td>\n",
       "      <td>0</td>\n",
       "      <td>0</td>\n",
       "    </tr>\n",
       "    <tr>\n",
       "      <th>1311</th>\n",
       "      <td>1312</td>\n",
       "      <td>Lievens, Mr Rene</td>\n",
       "      <td>3rd</td>\n",
       "      <td>24.0</td>\n",
       "      <td>male</td>\n",
       "      <td>0</td>\n",
       "      <td>0</td>\n",
       "    </tr>\n",
       "    <tr>\n",
       "      <th>1312</th>\n",
       "      <td>1313</td>\n",
       "      <td>Zimmerman, Leo</td>\n",
       "      <td>3rd</td>\n",
       "      <td>29.0</td>\n",
       "      <td>male</td>\n",
       "      <td>0</td>\n",
       "      <td>0</td>\n",
       "    </tr>\n",
       "  </tbody>\n",
       "</table>\n",
       "</div>"
      ],
      "text/plain": [
       "      PassengerID                    Name PClass   Age     Sex  Survived  \\\n",
       "1303         1304      Yasbeck, Mr Antoni    3rd  27.0    male         0   \n",
       "1304         1305     Yasbeck, Mrs Antoni    3rd  15.0  female         1   \n",
       "1305         1306      Youssef, Mr Gerios    3rd   NaN    male         0   \n",
       "1306         1307     Zabour, Miss Hileni    3rd   NaN  female         0   \n",
       "1307         1308     Zabour, Miss Tamini    3rd   NaN  female         0   \n",
       "1308         1309      Zakarian, Mr Artun    3rd  27.0    male         0   \n",
       "1309         1310  Zakarian, Mr Maprieder    3rd  26.0    male         0   \n",
       "1310         1311        Zenni, Mr Philip    3rd  22.0    male         0   \n",
       "1311         1312        Lievens, Mr Rene    3rd  24.0    male         0   \n",
       "1312         1313          Zimmerman, Leo    3rd  29.0    male         0   \n",
       "\n",
       "      SexCode  \n",
       "1303        0  \n",
       "1304        1  \n",
       "1305        0  \n",
       "1306        1  \n",
       "1307        1  \n",
       "1308        0  \n",
       "1309        0  \n",
       "1310        0  \n",
       "1311        0  \n",
       "1312        0  "
      ]
     },
     "execution_count": 103,
     "metadata": {},
     "output_type": "execute_result"
    }
   ],
   "source": [
    "titanic_df.tail(10)"
   ]
  },
  {
   "cell_type": "code",
   "execution_count": 104,
   "id": "0e3de0f6",
   "metadata": {},
   "outputs": [
    {
     "data": {
      "text/html": [
       "<div>\n",
       "<style scoped>\n",
       "    .dataframe tbody tr th:only-of-type {\n",
       "        vertical-align: middle;\n",
       "    }\n",
       "\n",
       "    .dataframe tbody tr th {\n",
       "        vertical-align: top;\n",
       "    }\n",
       "\n",
       "    .dataframe thead th {\n",
       "        text-align: right;\n",
       "    }\n",
       "</style>\n",
       "<table border=\"1\" class=\"dataframe\">\n",
       "  <thead>\n",
       "    <tr style=\"text-align: right;\">\n",
       "      <th></th>\n",
       "      <th>PassengerID</th>\n",
       "      <th>Name</th>\n",
       "      <th>PClass</th>\n",
       "      <th>Age</th>\n",
       "      <th>Sex</th>\n",
       "      <th>Survived</th>\n",
       "      <th>SexCode</th>\n",
       "    </tr>\n",
       "  </thead>\n",
       "  <tbody>\n",
       "    <tr>\n",
       "      <th>0</th>\n",
       "      <td>1</td>\n",
       "      <td>Allen, Miss Elisabeth Walton</td>\n",
       "      <td>1st</td>\n",
       "      <td>29.00</td>\n",
       "      <td>female</td>\n",
       "      <td>1</td>\n",
       "      <td>1</td>\n",
       "    </tr>\n",
       "    <tr>\n",
       "      <th>1</th>\n",
       "      <td>2</td>\n",
       "      <td>Allison, Miss Helen Loraine</td>\n",
       "      <td>1st</td>\n",
       "      <td>2.00</td>\n",
       "      <td>female</td>\n",
       "      <td>0</td>\n",
       "      <td>1</td>\n",
       "    </tr>\n",
       "    <tr>\n",
       "      <th>2</th>\n",
       "      <td>3</td>\n",
       "      <td>Allison, Mr Hudson Joshua Creighton</td>\n",
       "      <td>1st</td>\n",
       "      <td>30.00</td>\n",
       "      <td>male</td>\n",
       "      <td>0</td>\n",
       "      <td>0</td>\n",
       "    </tr>\n",
       "    <tr>\n",
       "      <th>3</th>\n",
       "      <td>4</td>\n",
       "      <td>Allison, Mrs Hudson JC (Bessie Waldo Daniels)</td>\n",
       "      <td>1st</td>\n",
       "      <td>25.00</td>\n",
       "      <td>female</td>\n",
       "      <td>0</td>\n",
       "      <td>1</td>\n",
       "    </tr>\n",
       "    <tr>\n",
       "      <th>4</th>\n",
       "      <td>5</td>\n",
       "      <td>Allison, Master Hudson Trevor</td>\n",
       "      <td>1st</td>\n",
       "      <td>0.92</td>\n",
       "      <td>male</td>\n",
       "      <td>1</td>\n",
       "      <td>0</td>\n",
       "    </tr>\n",
       "    <tr>\n",
       "      <th>5</th>\n",
       "      <td>6</td>\n",
       "      <td>Anderson, Mr Harry</td>\n",
       "      <td>1st</td>\n",
       "      <td>47.00</td>\n",
       "      <td>male</td>\n",
       "      <td>1</td>\n",
       "      <td>0</td>\n",
       "    </tr>\n",
       "    <tr>\n",
       "      <th>6</th>\n",
       "      <td>7</td>\n",
       "      <td>Andrews, Miss Kornelia Theodosia</td>\n",
       "      <td>1st</td>\n",
       "      <td>63.00</td>\n",
       "      <td>female</td>\n",
       "      <td>1</td>\n",
       "      <td>1</td>\n",
       "    </tr>\n",
       "    <tr>\n",
       "      <th>7</th>\n",
       "      <td>8</td>\n",
       "      <td>Andrews, Mr Thomas, jr</td>\n",
       "      <td>1st</td>\n",
       "      <td>39.00</td>\n",
       "      <td>male</td>\n",
       "      <td>0</td>\n",
       "      <td>0</td>\n",
       "    </tr>\n",
       "    <tr>\n",
       "      <th>8</th>\n",
       "      <td>9</td>\n",
       "      <td>Appleton, Mrs Edward Dale (Charlotte Lamson)</td>\n",
       "      <td>1st</td>\n",
       "      <td>58.00</td>\n",
       "      <td>female</td>\n",
       "      <td>1</td>\n",
       "      <td>1</td>\n",
       "    </tr>\n",
       "    <tr>\n",
       "      <th>9</th>\n",
       "      <td>10</td>\n",
       "      <td>Artagaveytia, Mr Ramon</td>\n",
       "      <td>1st</td>\n",
       "      <td>71.00</td>\n",
       "      <td>male</td>\n",
       "      <td>0</td>\n",
       "      <td>0</td>\n",
       "    </tr>\n",
       "  </tbody>\n",
       "</table>\n",
       "</div>"
      ],
      "text/plain": [
       "   PassengerID                                           Name PClass    Age  \\\n",
       "0            1                   Allen, Miss Elisabeth Walton    1st  29.00   \n",
       "1            2                    Allison, Miss Helen Loraine    1st   2.00   \n",
       "2            3            Allison, Mr Hudson Joshua Creighton    1st  30.00   \n",
       "3            4  Allison, Mrs Hudson JC (Bessie Waldo Daniels)    1st  25.00   \n",
       "4            5                  Allison, Master Hudson Trevor    1st   0.92   \n",
       "5            6                             Anderson, Mr Harry    1st  47.00   \n",
       "6            7               Andrews, Miss Kornelia Theodosia    1st  63.00   \n",
       "7            8                         Andrews, Mr Thomas, jr    1st  39.00   \n",
       "8            9   Appleton, Mrs Edward Dale (Charlotte Lamson)    1st  58.00   \n",
       "9           10                         Artagaveytia, Mr Ramon    1st  71.00   \n",
       "\n",
       "      Sex  Survived  SexCode  \n",
       "0  female         1        1  \n",
       "1  female         0        1  \n",
       "2    male         0        0  \n",
       "3  female         0        1  \n",
       "4    male         1        0  \n",
       "5    male         1        0  \n",
       "6  female         1        1  \n",
       "7    male         0        0  \n",
       "8  female         1        1  \n",
       "9    male         0        0  "
      ]
     },
     "execution_count": 104,
     "metadata": {},
     "output_type": "execute_result"
    }
   ],
   "source": [
    "titanic_df.head(10)"
   ]
  },
  {
   "cell_type": "code",
   "execution_count": 105,
   "id": "6c55de65",
   "metadata": {},
   "outputs": [
    {
     "name": "stdout",
     "output_type": "stream",
     "text": [
      "<class 'pandas.core.frame.DataFrame'>\n",
      "RangeIndex: 1313 entries, 0 to 1312\n",
      "Data columns (total 7 columns):\n",
      " #   Column       Non-Null Count  Dtype  \n",
      "---  ------       --------------  -----  \n",
      " 0   PassengerID  1313 non-null   int64  \n",
      " 1   Name         1313 non-null   object \n",
      " 2   PClass       1313 non-null   object \n",
      " 3   Age          756 non-null    float64\n",
      " 4   Sex          1313 non-null   object \n",
      " 5   Survived     1313 non-null   int64  \n",
      " 6   SexCode      1313 non-null   int64  \n",
      "dtypes: float64(1), int64(3), object(3)\n",
      "memory usage: 71.9+ KB\n"
     ]
    }
   ],
   "source": [
    "titanic_df.info()"
   ]
  },
  {
   "cell_type": "code",
   "execution_count": 106,
   "id": "6a411706",
   "metadata": {},
   "outputs": [
    {
     "data": {
      "text/html": [
       "<div>\n",
       "<style scoped>\n",
       "    .dataframe tbody tr th:only-of-type {\n",
       "        vertical-align: middle;\n",
       "    }\n",
       "\n",
       "    .dataframe tbody tr th {\n",
       "        vertical-align: top;\n",
       "    }\n",
       "\n",
       "    .dataframe thead th {\n",
       "        text-align: right;\n",
       "    }\n",
       "</style>\n",
       "<table border=\"1\" class=\"dataframe\">\n",
       "  <thead>\n",
       "    <tr style=\"text-align: right;\">\n",
       "      <th></th>\n",
       "      <th>PassengerID</th>\n",
       "      <th>Age</th>\n",
       "      <th>Survived</th>\n",
       "      <th>SexCode</th>\n",
       "    </tr>\n",
       "  </thead>\n",
       "  <tbody>\n",
       "    <tr>\n",
       "      <th>count</th>\n",
       "      <td>1313.000000</td>\n",
       "      <td>756.000000</td>\n",
       "      <td>1313.000000</td>\n",
       "      <td>1313.000000</td>\n",
       "    </tr>\n",
       "    <tr>\n",
       "      <th>mean</th>\n",
       "      <td>657.000000</td>\n",
       "      <td>30.397989</td>\n",
       "      <td>0.342727</td>\n",
       "      <td>0.351866</td>\n",
       "    </tr>\n",
       "    <tr>\n",
       "      <th>std</th>\n",
       "      <td>379.174762</td>\n",
       "      <td>14.259049</td>\n",
       "      <td>0.474802</td>\n",
       "      <td>0.477734</td>\n",
       "    </tr>\n",
       "    <tr>\n",
       "      <th>min</th>\n",
       "      <td>1.000000</td>\n",
       "      <td>0.170000</td>\n",
       "      <td>0.000000</td>\n",
       "      <td>0.000000</td>\n",
       "    </tr>\n",
       "    <tr>\n",
       "      <th>25%</th>\n",
       "      <td>329.000000</td>\n",
       "      <td>21.000000</td>\n",
       "      <td>0.000000</td>\n",
       "      <td>0.000000</td>\n",
       "    </tr>\n",
       "    <tr>\n",
       "      <th>50%</th>\n",
       "      <td>657.000000</td>\n",
       "      <td>28.000000</td>\n",
       "      <td>0.000000</td>\n",
       "      <td>0.000000</td>\n",
       "    </tr>\n",
       "    <tr>\n",
       "      <th>75%</th>\n",
       "      <td>985.000000</td>\n",
       "      <td>39.000000</td>\n",
       "      <td>1.000000</td>\n",
       "      <td>1.000000</td>\n",
       "    </tr>\n",
       "    <tr>\n",
       "      <th>max</th>\n",
       "      <td>1313.000000</td>\n",
       "      <td>71.000000</td>\n",
       "      <td>1.000000</td>\n",
       "      <td>1.000000</td>\n",
       "    </tr>\n",
       "  </tbody>\n",
       "</table>\n",
       "</div>"
      ],
      "text/plain": [
       "       PassengerID         Age     Survived      SexCode\n",
       "count  1313.000000  756.000000  1313.000000  1313.000000\n",
       "mean    657.000000   30.397989     0.342727     0.351866\n",
       "std     379.174762   14.259049     0.474802     0.477734\n",
       "min       1.000000    0.170000     0.000000     0.000000\n",
       "25%     329.000000   21.000000     0.000000     0.000000\n",
       "50%     657.000000   28.000000     0.000000     0.000000\n",
       "75%     985.000000   39.000000     1.000000     1.000000\n",
       "max    1313.000000   71.000000     1.000000     1.000000"
      ]
     },
     "execution_count": 106,
     "metadata": {},
     "output_type": "execute_result"
    }
   ],
   "source": [
    "titanic_df.describe()"
   ]
  },
  {
   "cell_type": "code",
   "execution_count": 107,
   "id": "9cc3d273",
   "metadata": {},
   "outputs": [
    {
     "data": {
      "text/plain": [
       "Index(['PassengerID', 'Name', 'PClass', 'Age', 'Sex', 'Survived', 'SexCode'], dtype='object')"
      ]
     },
     "execution_count": 107,
     "metadata": {},
     "output_type": "execute_result"
    }
   ],
   "source": [
    "titanic_df.columns"
   ]
  },
  {
   "cell_type": "code",
   "execution_count": 108,
   "id": "1250aa2e",
   "metadata": {},
   "outputs": [],
   "source": [
    "df = titanic_df"
   ]
  },
  {
   "cell_type": "code",
   "execution_count": 109,
   "id": "a4b7d6a3",
   "metadata": {},
   "outputs": [
    {
     "data": {
      "text/plain": [
       "0       1st\n",
       "1       1st\n",
       "2       1st\n",
       "3       1st\n",
       "4       1st\n",
       "       ... \n",
       "1308    3rd\n",
       "1309    3rd\n",
       "1310    3rd\n",
       "1311    3rd\n",
       "1312    3rd\n",
       "Name: PClass, Length: 1313, dtype: object"
      ]
     },
     "execution_count": 109,
     "metadata": {},
     "output_type": "execute_result"
    }
   ],
   "source": [
    "df['PClass']"
   ]
  },
  {
   "cell_type": "code",
   "execution_count": 110,
   "id": "23820198",
   "metadata": {},
   "outputs": [
    {
     "data": {
      "text/plain": [
       "3rd    711\n",
       "1st    322\n",
       "2nd    279\n",
       "*        1\n",
       "Name: PClass, dtype: int64"
      ]
     },
     "execution_count": 110,
     "metadata": {},
     "output_type": "execute_result"
    }
   ],
   "source": [
    "df['PClass'].value_counts()"
   ]
  },
  {
   "cell_type": "code",
   "execution_count": 111,
   "id": "08127e4e",
   "metadata": {},
   "outputs": [
    {
     "data": {
      "text/plain": [
       "PClass\n",
       "3rd    0.541508\n",
       "1st    0.245240\n",
       "2nd    0.212490\n",
       "*      0.000762\n",
       "dtype: float64"
      ]
     },
     "execution_count": 111,
     "metadata": {},
     "output_type": "execute_result"
    }
   ],
   "source": [
    "df.value_counts('PClass', normalize=True)"
   ]
  },
  {
   "cell_type": "code",
   "execution_count": 112,
   "id": "bd5046b5",
   "metadata": {},
   "outputs": [
    {
     "data": {
      "text/plain": [
       "True"
      ]
     },
     "execution_count": 112,
     "metadata": {},
     "output_type": "execute_result"
    }
   ],
   "source": [
    "df['PClass'] is not None"
   ]
  },
  {
   "cell_type": "code",
   "execution_count": 113,
   "id": "9691214e",
   "metadata": {},
   "outputs": [
    {
     "data": {
      "text/plain": [
       "0       True\n",
       "1       True\n",
       "2       True\n",
       "3       True\n",
       "4       True\n",
       "        ... \n",
       "1308    True\n",
       "1309    True\n",
       "1310    True\n",
       "1311    True\n",
       "1312    True\n",
       "Name: PClass, Length: 1313, dtype: bool"
      ]
     },
     "execution_count": 113,
     "metadata": {},
     "output_type": "execute_result"
    }
   ],
   "source": [
    "df['PClass'] != None"
   ]
  },
  {
   "cell_type": "code",
   "execution_count": 114,
   "id": "d98e9e81",
   "metadata": {},
   "outputs": [
    {
     "data": {
      "text/plain": [
       "0       False\n",
       "1       False\n",
       "2       False\n",
       "3       False\n",
       "4       False\n",
       "        ...  \n",
       "1308    False\n",
       "1309    False\n",
       "1310    False\n",
       "1311    False\n",
       "1312    False\n",
       "Name: PClass, Length: 1313, dtype: bool"
      ]
     },
     "execution_count": 114,
     "metadata": {},
     "output_type": "execute_result"
    }
   ],
   "source": [
    "df['PClass'] == None"
   ]
  },
  {
   "cell_type": "code",
   "execution_count": 115,
   "id": "47198ed1",
   "metadata": {},
   "outputs": [
    {
     "data": {
      "text/html": [
       "<div>\n",
       "<style scoped>\n",
       "    .dataframe tbody tr th:only-of-type {\n",
       "        vertical-align: middle;\n",
       "    }\n",
       "\n",
       "    .dataframe tbody tr th {\n",
       "        vertical-align: top;\n",
       "    }\n",
       "\n",
       "    .dataframe thead th {\n",
       "        text-align: right;\n",
       "    }\n",
       "</style>\n",
       "<table border=\"1\" class=\"dataframe\">\n",
       "  <thead>\n",
       "    <tr style=\"text-align: right;\">\n",
       "      <th></th>\n",
       "      <th>PassengerID</th>\n",
       "      <th>Name</th>\n",
       "      <th>PClass</th>\n",
       "      <th>Age</th>\n",
       "      <th>Sex</th>\n",
       "      <th>Survived</th>\n",
       "      <th>SexCode</th>\n",
       "    </tr>\n",
       "  </thead>\n",
       "  <tbody>\n",
       "    <tr>\n",
       "      <th>456</th>\n",
       "      <td>457</td>\n",
       "      <td>Jacobsohn Mr Samuel</td>\n",
       "      <td>*</td>\n",
       "      <td>NaN</td>\n",
       "      <td>male</td>\n",
       "      <td>0</td>\n",
       "      <td>0</td>\n",
       "    </tr>\n",
       "  </tbody>\n",
       "</table>\n",
       "</div>"
      ],
      "text/plain": [
       "     PassengerID                 Name PClass  Age   Sex  Survived  SexCode\n",
       "456          457  Jacobsohn Mr Samuel      *  NaN  male         0        0"
      ]
     },
     "execution_count": 115,
     "metadata": {},
     "output_type": "execute_result"
    }
   ],
   "source": [
    "df.loc[df['PClass'] == '*']"
   ]
  },
  {
   "cell_type": "code",
   "execution_count": 116,
   "id": "3d25e75b",
   "metadata": {},
   "outputs": [
    {
     "data": {
      "text/plain": [
       "Sex\n",
       "male      851\n",
       "female    462\n",
       "dtype: int64"
      ]
     },
     "execution_count": 116,
     "metadata": {},
     "output_type": "execute_result"
    }
   ],
   "source": [
    "df.value_counts('Sex')"
   ]
  },
  {
   "cell_type": "code",
   "execution_count": 117,
   "id": "f54f2e3b",
   "metadata": {},
   "outputs": [
    {
     "data": {
      "text/plain": [
       "Age\n",
       "22.00    35\n",
       "30.00    31\n",
       "21.00    31\n",
       "18.00    30\n",
       "36.00    29\n",
       "         ..\n",
       "0.80      1\n",
       "67.00     1\n",
       "69.00     1\n",
       "70.00     1\n",
       "0.17      1\n",
       "Length: 75, dtype: int64"
      ]
     },
     "execution_count": 117,
     "metadata": {},
     "output_type": "execute_result"
    }
   ],
   "source": [
    "df.value_counts('Age')"
   ]
  },
  {
   "cell_type": "code",
   "execution_count": 118,
   "id": "19a3245f",
   "metadata": {},
   "outputs": [
    {
     "name": "stdout",
     "output_type": "stream",
     "text": [
      "<pandas.core.groupby.generic.DataFrameGroupBy object at 0x126421780>\n"
     ]
    }
   ],
   "source": [
    "print(df.groupby('Sex'))"
   ]
  },
  {
   "cell_type": "code",
   "execution_count": 119,
   "id": "257b0ba0",
   "metadata": {},
   "outputs": [
    {
     "data": {
      "text/html": [
       "<div>\n",
       "<style scoped>\n",
       "    .dataframe tbody tr th:only-of-type {\n",
       "        vertical-align: middle;\n",
       "    }\n",
       "\n",
       "    .dataframe tbody tr th {\n",
       "        vertical-align: top;\n",
       "    }\n",
       "\n",
       "    .dataframe thead th {\n",
       "        text-align: right;\n",
       "    }\n",
       "</style>\n",
       "<table border=\"1\" class=\"dataframe\">\n",
       "  <thead>\n",
       "    <tr style=\"text-align: right;\">\n",
       "      <th></th>\n",
       "      <th>PassengerID</th>\n",
       "      <th>Name</th>\n",
       "      <th>PClass</th>\n",
       "      <th>Age</th>\n",
       "      <th>Survived</th>\n",
       "      <th>SexCode</th>\n",
       "    </tr>\n",
       "    <tr>\n",
       "      <th>Sex</th>\n",
       "      <th></th>\n",
       "      <th></th>\n",
       "      <th></th>\n",
       "      <th></th>\n",
       "      <th></th>\n",
       "      <th></th>\n",
       "    </tr>\n",
       "  </thead>\n",
       "  <tbody>\n",
       "    <tr>\n",
       "      <th>female</th>\n",
       "      <td>462</td>\n",
       "      <td>462</td>\n",
       "      <td>462</td>\n",
       "      <td>288</td>\n",
       "      <td>462</td>\n",
       "      <td>462</td>\n",
       "    </tr>\n",
       "    <tr>\n",
       "      <th>male</th>\n",
       "      <td>851</td>\n",
       "      <td>851</td>\n",
       "      <td>851</td>\n",
       "      <td>468</td>\n",
       "      <td>851</td>\n",
       "      <td>851</td>\n",
       "    </tr>\n",
       "  </tbody>\n",
       "</table>\n",
       "</div>"
      ],
      "text/plain": [
       "        PassengerID  Name  PClass  Age  Survived  SexCode\n",
       "Sex                                                      \n",
       "female          462   462     462  288       462      462\n",
       "male            851   851     851  468       851      851"
      ]
     },
     "execution_count": 119,
     "metadata": {},
     "output_type": "execute_result"
    }
   ],
   "source": [
    "df.groupby('Sex').count()"
   ]
  },
  {
   "cell_type": "code",
   "execution_count": 120,
   "id": "0940913b",
   "metadata": {},
   "outputs": [
    {
     "data": {
      "text/html": [
       "<div>\n",
       "<style scoped>\n",
       "    .dataframe tbody tr th:only-of-type {\n",
       "        vertical-align: middle;\n",
       "    }\n",
       "\n",
       "    .dataframe tbody tr th {\n",
       "        vertical-align: top;\n",
       "    }\n",
       "\n",
       "    .dataframe thead th {\n",
       "        text-align: right;\n",
       "    }\n",
       "</style>\n",
       "<table border=\"1\" class=\"dataframe\">\n",
       "  <thead>\n",
       "    <tr style=\"text-align: right;\">\n",
       "      <th></th>\n",
       "      <th>PassengerID</th>\n",
       "      <th>Age</th>\n",
       "      <th>Survived</th>\n",
       "      <th>SexCode</th>\n",
       "    </tr>\n",
       "    <tr>\n",
       "      <th>Sex</th>\n",
       "      <th></th>\n",
       "      <th></th>\n",
       "      <th></th>\n",
       "      <th></th>\n",
       "    </tr>\n",
       "  </thead>\n",
       "  <tbody>\n",
       "    <tr>\n",
       "      <th>female</th>\n",
       "      <td>592.679654</td>\n",
       "      <td>29.396424</td>\n",
       "      <td>0.666667</td>\n",
       "      <td>1.0</td>\n",
       "    </tr>\n",
       "    <tr>\n",
       "      <th>male</th>\n",
       "      <td>691.918919</td>\n",
       "      <td>31.014338</td>\n",
       "      <td>0.166863</td>\n",
       "      <td>0.0</td>\n",
       "    </tr>\n",
       "  </tbody>\n",
       "</table>\n",
       "</div>"
      ],
      "text/plain": [
       "        PassengerID        Age  Survived  SexCode\n",
       "Sex                                              \n",
       "female   592.679654  29.396424  0.666667      1.0\n",
       "male     691.918919  31.014338  0.166863      0.0"
      ]
     },
     "execution_count": 120,
     "metadata": {},
     "output_type": "execute_result"
    }
   ],
   "source": [
    "df.groupby('Sex').mean()"
   ]
  },
  {
   "cell_type": "code",
   "execution_count": 121,
   "id": "7a2647b9",
   "metadata": {},
   "outputs": [
    {
     "data": {
      "text/html": [
       "<div>\n",
       "<style scoped>\n",
       "    .dataframe tbody tr th:only-of-type {\n",
       "        vertical-align: middle;\n",
       "    }\n",
       "\n",
       "    .dataframe tbody tr th {\n",
       "        vertical-align: top;\n",
       "    }\n",
       "\n",
       "    .dataframe thead th {\n",
       "        text-align: right;\n",
       "    }\n",
       "</style>\n",
       "<table border=\"1\" class=\"dataframe\">\n",
       "  <thead>\n",
       "    <tr style=\"text-align: right;\">\n",
       "      <th></th>\n",
       "      <th>PassengerID</th>\n",
       "      <th>Age</th>\n",
       "      <th>Survived</th>\n",
       "      <th>SexCode</th>\n",
       "    </tr>\n",
       "    <tr>\n",
       "      <th>Sex</th>\n",
       "      <th></th>\n",
       "      <th></th>\n",
       "      <th></th>\n",
       "      <th></th>\n",
       "    </tr>\n",
       "  </thead>\n",
       "  <tbody>\n",
       "    <tr>\n",
       "      <th>female</th>\n",
       "      <td>563.5</td>\n",
       "      <td>27.0</td>\n",
       "      <td>1.0</td>\n",
       "      <td>1.0</td>\n",
       "    </tr>\n",
       "    <tr>\n",
       "      <th>male</th>\n",
       "      <td>715.0</td>\n",
       "      <td>29.0</td>\n",
       "      <td>0.0</td>\n",
       "      <td>0.0</td>\n",
       "    </tr>\n",
       "  </tbody>\n",
       "</table>\n",
       "</div>"
      ],
      "text/plain": [
       "        PassengerID   Age  Survived  SexCode\n",
       "Sex                                         \n",
       "female        563.5  27.0       1.0      1.0\n",
       "male          715.0  29.0       0.0      0.0"
      ]
     },
     "execution_count": 121,
     "metadata": {},
     "output_type": "execute_result"
    }
   ],
   "source": [
    "df.groupby('Sex').median()"
   ]
  },
  {
   "cell_type": "code",
   "execution_count": 122,
   "id": "857e2e8e",
   "metadata": {},
   "outputs": [
    {
     "data": {
      "text/plain": [
       "Sex\n",
       "female    27.0\n",
       "male      29.0\n",
       "Name: Age, dtype: float64"
      ]
     },
     "execution_count": 122,
     "metadata": {},
     "output_type": "execute_result"
    }
   ],
   "source": [
    "df.groupby('Sex')['Age'].median()"
   ]
  },
  {
   "cell_type": "code",
   "execution_count": 123,
   "id": "2f157978",
   "metadata": {},
   "outputs": [
    {
     "data": {
      "text/html": [
       "<div>\n",
       "<style scoped>\n",
       "    .dataframe tbody tr th:only-of-type {\n",
       "        vertical-align: middle;\n",
       "    }\n",
       "\n",
       "    .dataframe tbody tr th {\n",
       "        vertical-align: top;\n",
       "    }\n",
       "\n",
       "    .dataframe thead th {\n",
       "        text-align: right;\n",
       "    }\n",
       "</style>\n",
       "<table border=\"1\" class=\"dataframe\">\n",
       "  <thead>\n",
       "    <tr style=\"text-align: right;\">\n",
       "      <th></th>\n",
       "      <th></th>\n",
       "      <th>PassengerID</th>\n",
       "      <th>Name</th>\n",
       "      <th>PClass</th>\n",
       "      <th>Age</th>\n",
       "      <th>SexCode</th>\n",
       "    </tr>\n",
       "    <tr>\n",
       "      <th>Sex</th>\n",
       "      <th>Survived</th>\n",
       "      <th></th>\n",
       "      <th></th>\n",
       "      <th></th>\n",
       "      <th></th>\n",
       "      <th></th>\n",
       "    </tr>\n",
       "  </thead>\n",
       "  <tbody>\n",
       "    <tr>\n",
       "      <th rowspan=\"2\" valign=\"top\">female</th>\n",
       "      <th>0</th>\n",
       "      <td>154</td>\n",
       "      <td>154</td>\n",
       "      <td>154</td>\n",
       "      <td>71</td>\n",
       "      <td>154</td>\n",
       "    </tr>\n",
       "    <tr>\n",
       "      <th>1</th>\n",
       "      <td>308</td>\n",
       "      <td>308</td>\n",
       "      <td>308</td>\n",
       "      <td>217</td>\n",
       "      <td>308</td>\n",
       "    </tr>\n",
       "    <tr>\n",
       "      <th rowspan=\"2\" valign=\"top\">male</th>\n",
       "      <th>0</th>\n",
       "      <td>709</td>\n",
       "      <td>709</td>\n",
       "      <td>709</td>\n",
       "      <td>372</td>\n",
       "      <td>709</td>\n",
       "    </tr>\n",
       "    <tr>\n",
       "      <th>1</th>\n",
       "      <td>142</td>\n",
       "      <td>142</td>\n",
       "      <td>142</td>\n",
       "      <td>96</td>\n",
       "      <td>142</td>\n",
       "    </tr>\n",
       "  </tbody>\n",
       "</table>\n",
       "</div>"
      ],
      "text/plain": [
       "                 PassengerID  Name  PClass  Age  SexCode\n",
       "Sex    Survived                                         \n",
       "female 0                 154   154     154   71      154\n",
       "       1                 308   308     308  217      308\n",
       "male   0                 709   709     709  372      709\n",
       "       1                 142   142     142   96      142"
      ]
     },
     "execution_count": 123,
     "metadata": {},
     "output_type": "execute_result"
    }
   ],
   "source": [
    "df.groupby(['Sex', 'Survived']).count()"
   ]
  },
  {
   "cell_type": "code",
   "execution_count": 124,
   "id": "dcae2ba8",
   "metadata": {},
   "outputs": [
    {
     "data": {
      "text/html": [
       "<div>\n",
       "<style scoped>\n",
       "    .dataframe tbody tr th:only-of-type {\n",
       "        vertical-align: middle;\n",
       "    }\n",
       "\n",
       "    .dataframe tbody tr th {\n",
       "        vertical-align: top;\n",
       "    }\n",
       "\n",
       "    .dataframe thead th {\n",
       "        text-align: right;\n",
       "    }\n",
       "</style>\n",
       "<table border=\"1\" class=\"dataframe\">\n",
       "  <thead>\n",
       "    <tr style=\"text-align: right;\">\n",
       "      <th></th>\n",
       "      <th></th>\n",
       "      <th>PassengerID</th>\n",
       "    </tr>\n",
       "    <tr>\n",
       "      <th>Sex</th>\n",
       "      <th>Survived</th>\n",
       "      <th></th>\n",
       "    </tr>\n",
       "  </thead>\n",
       "  <tbody>\n",
       "    <tr>\n",
       "      <th rowspan=\"2\" valign=\"top\">female</th>\n",
       "      <th>0</th>\n",
       "      <td>154</td>\n",
       "    </tr>\n",
       "    <tr>\n",
       "      <th>1</th>\n",
       "      <td>308</td>\n",
       "    </tr>\n",
       "    <tr>\n",
       "      <th rowspan=\"2\" valign=\"top\">male</th>\n",
       "      <th>0</th>\n",
       "      <td>709</td>\n",
       "    </tr>\n",
       "    <tr>\n",
       "      <th>1</th>\n",
       "      <td>142</td>\n",
       "    </tr>\n",
       "  </tbody>\n",
       "</table>\n",
       "</div>"
      ],
      "text/plain": [
       "                 PassengerID\n",
       "Sex    Survived             \n",
       "female 0                 154\n",
       "       1                 308\n",
       "male   0                 709\n",
       "       1                 142"
      ]
     },
     "execution_count": 124,
     "metadata": {},
     "output_type": "execute_result"
    }
   ],
   "source": [
    "df.groupby(['Sex', 'Survived'])[['PassengerID']].count()"
   ]
  },
  {
   "cell_type": "code",
   "execution_count": 125,
   "id": "8996d62d",
   "metadata": {},
   "outputs": [
    {
     "data": {
      "text/html": [
       "<div>\n",
       "<style scoped>\n",
       "    .dataframe tbody tr th:only-of-type {\n",
       "        vertical-align: middle;\n",
       "    }\n",
       "\n",
       "    .dataframe tbody tr th {\n",
       "        vertical-align: top;\n",
       "    }\n",
       "\n",
       "    .dataframe thead th {\n",
       "        text-align: right;\n",
       "    }\n",
       "</style>\n",
       "<table border=\"1\" class=\"dataframe\">\n",
       "  <thead>\n",
       "    <tr style=\"text-align: right;\">\n",
       "      <th></th>\n",
       "      <th></th>\n",
       "      <th>Age</th>\n",
       "    </tr>\n",
       "    <tr>\n",
       "      <th>Sex</th>\n",
       "      <th>Survived</th>\n",
       "      <th></th>\n",
       "    </tr>\n",
       "  </thead>\n",
       "  <tbody>\n",
       "    <tr>\n",
       "      <th rowspan=\"2\" valign=\"top\">female</th>\n",
       "      <th>0</th>\n",
       "      <td>24.0</td>\n",
       "    </tr>\n",
       "    <tr>\n",
       "      <th>1</th>\n",
       "      <td>29.0</td>\n",
       "    </tr>\n",
       "    <tr>\n",
       "      <th rowspan=\"2\" valign=\"top\">male</th>\n",
       "      <th>0</th>\n",
       "      <td>29.0</td>\n",
       "    </tr>\n",
       "    <tr>\n",
       "      <th>1</th>\n",
       "      <td>26.0</td>\n",
       "    </tr>\n",
       "  </tbody>\n",
       "</table>\n",
       "</div>"
      ],
      "text/plain": [
       "                  Age\n",
       "Sex    Survived      \n",
       "female 0         24.0\n",
       "       1         29.0\n",
       "male   0         29.0\n",
       "       1         26.0"
      ]
     },
     "execution_count": 125,
     "metadata": {},
     "output_type": "execute_result"
    }
   ],
   "source": [
    "df.groupby(['Sex', 'Survived'])[['Age']].median()"
   ]
  },
  {
   "cell_type": "code",
   "execution_count": 126,
   "id": "1e9d99e1",
   "metadata": {},
   "outputs": [
    {
     "data": {
      "text/html": [
       "<div>\n",
       "<style scoped>\n",
       "    .dataframe tbody tr th:only-of-type {\n",
       "        vertical-align: middle;\n",
       "    }\n",
       "\n",
       "    .dataframe tbody tr th {\n",
       "        vertical-align: top;\n",
       "    }\n",
       "\n",
       "    .dataframe thead tr th {\n",
       "        text-align: left;\n",
       "    }\n",
       "\n",
       "    .dataframe thead tr:last-of-type th {\n",
       "        text-align: right;\n",
       "    }\n",
       "</style>\n",
       "<table border=\"1\" class=\"dataframe\">\n",
       "  <thead>\n",
       "    <tr>\n",
       "      <th></th>\n",
       "      <th colspan=\"3\" halign=\"left\">Age</th>\n",
       "    </tr>\n",
       "    <tr>\n",
       "      <th>PClass</th>\n",
       "      <th>1st</th>\n",
       "      <th>2nd</th>\n",
       "      <th>3rd</th>\n",
       "    </tr>\n",
       "    <tr>\n",
       "      <th>Sex</th>\n",
       "      <th></th>\n",
       "      <th></th>\n",
       "      <th></th>\n",
       "    </tr>\n",
       "  </thead>\n",
       "  <tbody>\n",
       "    <tr>\n",
       "      <th>female</th>\n",
       "      <td>37.772277</td>\n",
       "      <td>27.388235</td>\n",
       "      <td>22.776176</td>\n",
       "    </tr>\n",
       "    <tr>\n",
       "      <th>male</th>\n",
       "      <td>41.199360</td>\n",
       "      <td>28.910472</td>\n",
       "      <td>26.357222</td>\n",
       "    </tr>\n",
       "  </tbody>\n",
       "</table>\n",
       "</div>"
      ],
      "text/plain": [
       "              Age                      \n",
       "PClass        1st        2nd        3rd\n",
       "Sex                                    \n",
       "female  37.772277  27.388235  22.776176\n",
       "male    41.199360  28.910472  26.357222"
      ]
     },
     "execution_count": 126,
     "metadata": {},
     "output_type": "execute_result"
    }
   ],
   "source": [
    "df.pivot_table(\n",
    "    index=['Sex'],\n",
    "    columns=['PClass'],\n",
    "    values=['Age'],\n",
    "    aggfunc='mean',\n",
    ")"
   ]
  },
  {
   "cell_type": "code",
   "execution_count": 127,
   "id": "f3337ab8",
   "metadata": {},
   "outputs": [
    {
     "data": {
      "text/html": [
       "<div>\n",
       "<style scoped>\n",
       "    .dataframe tbody tr th:only-of-type {\n",
       "        vertical-align: middle;\n",
       "    }\n",
       "\n",
       "    .dataframe tbody tr th {\n",
       "        vertical-align: top;\n",
       "    }\n",
       "\n",
       "    .dataframe thead tr th {\n",
       "        text-align: left;\n",
       "    }\n",
       "\n",
       "    .dataframe thead tr:last-of-type th {\n",
       "        text-align: right;\n",
       "    }\n",
       "</style>\n",
       "<table border=\"1\" class=\"dataframe\">\n",
       "  <thead>\n",
       "    <tr>\n",
       "      <th></th>\n",
       "      <th colspan=\"3\" halign=\"left\">Age</th>\n",
       "    </tr>\n",
       "    <tr>\n",
       "      <th>PClass</th>\n",
       "      <th>1st</th>\n",
       "      <th>2nd</th>\n",
       "      <th>3rd</th>\n",
       "    </tr>\n",
       "    <tr>\n",
       "      <th>Sex</th>\n",
       "      <th></th>\n",
       "      <th></th>\n",
       "      <th></th>\n",
       "    </tr>\n",
       "  </thead>\n",
       "  <tbody>\n",
       "    <tr>\n",
       "      <th>female</th>\n",
       "      <td>38.0</td>\n",
       "      <td>28.0</td>\n",
       "      <td>22.0</td>\n",
       "    </tr>\n",
       "    <tr>\n",
       "      <th>male</th>\n",
       "      <td>42.0</td>\n",
       "      <td>28.0</td>\n",
       "      <td>25.5</td>\n",
       "    </tr>\n",
       "  </tbody>\n",
       "</table>\n",
       "</div>"
      ],
      "text/plain": [
       "         Age            \n",
       "PClass   1st   2nd   3rd\n",
       "Sex                     \n",
       "female  38.0  28.0  22.0\n",
       "male    42.0  28.0  25.5"
      ]
     },
     "execution_count": 127,
     "metadata": {},
     "output_type": "execute_result"
    }
   ],
   "source": [
    "df.pivot_table(\n",
    "    index=['Sex'],\n",
    "    columns=['PClass'],\n",
    "    values=['Age'],\n",
    "    aggfunc='median',\n",
    ")"
   ]
  },
  {
   "cell_type": "code",
   "execution_count": 128,
   "id": "7e4fe115",
   "metadata": {},
   "outputs": [
    {
     "data": {
      "text/html": [
       "<div>\n",
       "<style scoped>\n",
       "    .dataframe tbody tr th:only-of-type {\n",
       "        vertical-align: middle;\n",
       "    }\n",
       "\n",
       "    .dataframe tbody tr th {\n",
       "        vertical-align: top;\n",
       "    }\n",
       "\n",
       "    .dataframe thead tr th {\n",
       "        text-align: left;\n",
       "    }\n",
       "\n",
       "    .dataframe thead tr:last-of-type th {\n",
       "        text-align: right;\n",
       "    }\n",
       "</style>\n",
       "<table border=\"1\" class=\"dataframe\">\n",
       "  <thead>\n",
       "    <tr>\n",
       "      <th></th>\n",
       "      <th colspan=\"2\" halign=\"left\">Age</th>\n",
       "    </tr>\n",
       "    <tr>\n",
       "      <th>Survived</th>\n",
       "      <th>0</th>\n",
       "      <th>1</th>\n",
       "    </tr>\n",
       "    <tr>\n",
       "      <th>Sex</th>\n",
       "      <th></th>\n",
       "      <th></th>\n",
       "    </tr>\n",
       "  </thead>\n",
       "  <tbody>\n",
       "    <tr>\n",
       "      <th>female</th>\n",
       "      <td>24.901408</td>\n",
       "      <td>30.867143</td>\n",
       "    </tr>\n",
       "    <tr>\n",
       "      <th>male</th>\n",
       "      <td>32.320780</td>\n",
       "      <td>25.951875</td>\n",
       "    </tr>\n",
       "  </tbody>\n",
       "</table>\n",
       "</div>"
      ],
      "text/plain": [
       "                Age           \n",
       "Survived          0          1\n",
       "Sex                           \n",
       "female    24.901408  30.867143\n",
       "male      32.320780  25.951875"
      ]
     },
     "execution_count": 128,
     "metadata": {},
     "output_type": "execute_result"
    }
   ],
   "source": [
    "df.pivot_table(\n",
    "    index=['Sex'],\n",
    "    columns=['Survived'],\n",
    "    values=['Age'],\n",
    "    aggfunc='mean',\n",
    ")"
   ]
  },
  {
   "cell_type": "code",
   "execution_count": 129,
   "id": "63048dbd",
   "metadata": {},
   "outputs": [
    {
     "data": {
      "text/html": [
       "<div>\n",
       "<style scoped>\n",
       "    .dataframe tbody tr th:only-of-type {\n",
       "        vertical-align: middle;\n",
       "    }\n",
       "\n",
       "    .dataframe tbody tr th {\n",
       "        vertical-align: top;\n",
       "    }\n",
       "\n",
       "    .dataframe thead tr th {\n",
       "        text-align: left;\n",
       "    }\n",
       "\n",
       "    .dataframe thead tr:last-of-type th {\n",
       "        text-align: right;\n",
       "    }\n",
       "</style>\n",
       "<table border=\"1\" class=\"dataframe\">\n",
       "  <thead>\n",
       "    <tr>\n",
       "      <th></th>\n",
       "      <th colspan=\"2\" halign=\"left\">Age</th>\n",
       "    </tr>\n",
       "    <tr>\n",
       "      <th>Survived</th>\n",
       "      <th>0</th>\n",
       "      <th>1</th>\n",
       "    </tr>\n",
       "    <tr>\n",
       "      <th>Sex</th>\n",
       "      <th></th>\n",
       "      <th></th>\n",
       "    </tr>\n",
       "  </thead>\n",
       "  <tbody>\n",
       "    <tr>\n",
       "      <th>female</th>\n",
       "      <td>24.0</td>\n",
       "      <td>29.0</td>\n",
       "    </tr>\n",
       "    <tr>\n",
       "      <th>male</th>\n",
       "      <td>29.0</td>\n",
       "      <td>26.0</td>\n",
       "    </tr>\n",
       "  </tbody>\n",
       "</table>\n",
       "</div>"
      ],
      "text/plain": [
       "           Age      \n",
       "Survived     0     1\n",
       "Sex                 \n",
       "female    24.0  29.0\n",
       "male      29.0  26.0"
      ]
     },
     "execution_count": 129,
     "metadata": {},
     "output_type": "execute_result"
    }
   ],
   "source": [
    "df.pivot_table(\n",
    "    index=['Sex'],\n",
    "    columns=['Survived'],\n",
    "    values=['Age'],\n",
    "    aggfunc='median',\n",
    ")"
   ]
  },
  {
   "cell_type": "code",
   "execution_count": 130,
   "id": "8f6ad846",
   "metadata": {},
   "outputs": [
    {
     "data": {
      "text/html": [
       "<div>\n",
       "<style scoped>\n",
       "    .dataframe tbody tr th:only-of-type {\n",
       "        vertical-align: middle;\n",
       "    }\n",
       "\n",
       "    .dataframe tbody tr th {\n",
       "        vertical-align: top;\n",
       "    }\n",
       "\n",
       "    .dataframe thead th {\n",
       "        text-align: right;\n",
       "    }\n",
       "</style>\n",
       "<table border=\"1\" class=\"dataframe\">\n",
       "  <thead>\n",
       "    <tr style=\"text-align: right;\">\n",
       "      <th></th>\n",
       "      <th>AT0000A18XM4 SW</th>\n",
       "      <th>BE0974268972 BB</th>\n",
       "      <th>US0527691069 US</th>\n",
       "      <th>DE0007164600 GR</th>\n",
       "      <th>US6092071058 US</th>\n",
       "    </tr>\n",
       "  </thead>\n",
       "  <tbody>\n",
       "    <tr>\n",
       "      <th>2014-01-14</th>\n",
       "      <td>0.184660</td>\n",
       "      <td>0.275706</td>\n",
       "      <td>0.303425</td>\n",
       "      <td>0.042841</td>\n",
       "      <td>0.193368</td>\n",
       "    </tr>\n",
       "    <tr>\n",
       "      <th>2014-01-15</th>\n",
       "      <td>0.225875</td>\n",
       "      <td>0.147861</td>\n",
       "      <td>0.151211</td>\n",
       "      <td>0.224074</td>\n",
       "      <td>0.250978</td>\n",
       "    </tr>\n",
       "    <tr>\n",
       "      <th>2014-01-16</th>\n",
       "      <td>0.261017</td>\n",
       "      <td>0.334213</td>\n",
       "      <td>0.293336</td>\n",
       "      <td>0.015744</td>\n",
       "      <td>0.095690</td>\n",
       "    </tr>\n",
       "    <tr>\n",
       "      <th>2014-01-17</th>\n",
       "      <td>0.160168</td>\n",
       "      <td>0.231034</td>\n",
       "      <td>0.092674</td>\n",
       "      <td>0.269050</td>\n",
       "      <td>0.247074</td>\n",
       "    </tr>\n",
       "    <tr>\n",
       "      <th>2014-01-18</th>\n",
       "      <td>0.057162</td>\n",
       "      <td>0.254146</td>\n",
       "      <td>0.027286</td>\n",
       "      <td>0.480660</td>\n",
       "      <td>0.180746</td>\n",
       "    </tr>\n",
       "    <tr>\n",
       "      <th>...</th>\n",
       "      <td>...</td>\n",
       "      <td>...</td>\n",
       "      <td>...</td>\n",
       "      <td>...</td>\n",
       "      <td>...</td>\n",
       "    </tr>\n",
       "    <tr>\n",
       "      <th>2018-02-28</th>\n",
       "      <td>0.123821</td>\n",
       "      <td>0.167899</td>\n",
       "      <td>0.120844</td>\n",
       "      <td>0.088780</td>\n",
       "      <td>0.498657</td>\n",
       "    </tr>\n",
       "    <tr>\n",
       "      <th>2018-03-01</th>\n",
       "      <td>0.035043</td>\n",
       "      <td>0.289624</td>\n",
       "      <td>0.220871</td>\n",
       "      <td>0.136366</td>\n",
       "      <td>0.318096</td>\n",
       "    </tr>\n",
       "    <tr>\n",
       "      <th>2018-03-02</th>\n",
       "      <td>0.397155</td>\n",
       "      <td>0.362025</td>\n",
       "      <td>0.050554</td>\n",
       "      <td>0.020247</td>\n",
       "      <td>0.170019</td>\n",
       "    </tr>\n",
       "    <tr>\n",
       "      <th>2018-03-03</th>\n",
       "      <td>0.319902</td>\n",
       "      <td>0.277405</td>\n",
       "      <td>0.051719</td>\n",
       "      <td>0.008164</td>\n",
       "      <td>0.342810</td>\n",
       "    </tr>\n",
       "    <tr>\n",
       "      <th>2018-03-06</th>\n",
       "      <td>0.057699</td>\n",
       "      <td>0.352290</td>\n",
       "      <td>0.291162</td>\n",
       "      <td>0.197700</td>\n",
       "      <td>0.101148</td>\n",
       "    </tr>\n",
       "  </tbody>\n",
       "</table>\n",
       "<p>1081 rows × 5 columns</p>\n",
       "</div>"
      ],
      "text/plain": [
       "            AT0000A18XM4 SW  BE0974268972 BB  US0527691069 US  \\\n",
       "2014-01-14         0.184660         0.275706         0.303425   \n",
       "2014-01-15         0.225875         0.147861         0.151211   \n",
       "2014-01-16         0.261017         0.334213         0.293336   \n",
       "2014-01-17         0.160168         0.231034         0.092674   \n",
       "2014-01-18         0.057162         0.254146         0.027286   \n",
       "...                     ...              ...              ...   \n",
       "2018-02-28         0.123821         0.167899         0.120844   \n",
       "2018-03-01         0.035043         0.289624         0.220871   \n",
       "2018-03-02         0.397155         0.362025         0.050554   \n",
       "2018-03-03         0.319902         0.277405         0.051719   \n",
       "2018-03-06         0.057699         0.352290         0.291162   \n",
       "\n",
       "            DE0007164600 GR  US6092071058 US  \n",
       "2014-01-14         0.042841         0.193368  \n",
       "2014-01-15         0.224074         0.250978  \n",
       "2014-01-16         0.015744         0.095690  \n",
       "2014-01-17         0.269050         0.247074  \n",
       "2014-01-18         0.480660         0.180746  \n",
       "...                     ...              ...  \n",
       "2018-02-28         0.088780         0.498657  \n",
       "2018-03-01         0.136366         0.318096  \n",
       "2018-03-02         0.020247         0.170019  \n",
       "2018-03-03         0.008164         0.342810  \n",
       "2018-03-06         0.197700         0.101148  \n",
       "\n",
       "[1081 rows x 5 columns]"
      ]
     },
     "execution_count": 130,
     "metadata": {},
     "output_type": "execute_result"
    }
   ],
   "source": [
    "weights_df = pd.read_csv('data/weights.csv', index_col=0, parse_dates=True)\n",
    "weights_df"
   ]
  },
  {
   "cell_type": "code",
   "execution_count": 131,
   "id": "827b3120",
   "metadata": {},
   "outputs": [
    {
     "data": {
      "text/html": [
       "<div>\n",
       "<style scoped>\n",
       "    .dataframe tbody tr th:only-of-type {\n",
       "        vertical-align: middle;\n",
       "    }\n",
       "\n",
       "    .dataframe tbody tr th {\n",
       "        vertical-align: top;\n",
       "    }\n",
       "\n",
       "    .dataframe thead th {\n",
       "        text-align: right;\n",
       "    }\n",
       "</style>\n",
       "<table border=\"1\" class=\"dataframe\">\n",
       "  <thead>\n",
       "    <tr style=\"text-align: right;\">\n",
       "      <th></th>\n",
       "      <th>AT0000A18XM4 SW</th>\n",
       "      <th>BE0974268972 BB</th>\n",
       "      <th>US0527691069 US</th>\n",
       "      <th>DE0007164600 GR</th>\n",
       "      <th>US6092071058 US</th>\n",
       "    </tr>\n",
       "  </thead>\n",
       "  <tbody>\n",
       "    <tr>\n",
       "      <th>2018-03-06</th>\n",
       "      <td>0.057699</td>\n",
       "      <td>0.352290</td>\n",
       "      <td>0.291162</td>\n",
       "      <td>0.197700</td>\n",
       "      <td>0.101148</td>\n",
       "    </tr>\n",
       "    <tr>\n",
       "      <th>2018-03-03</th>\n",
       "      <td>0.319902</td>\n",
       "      <td>0.277405</td>\n",
       "      <td>0.051719</td>\n",
       "      <td>0.008164</td>\n",
       "      <td>0.342810</td>\n",
       "    </tr>\n",
       "    <tr>\n",
       "      <th>2018-03-02</th>\n",
       "      <td>0.397155</td>\n",
       "      <td>0.362025</td>\n",
       "      <td>0.050554</td>\n",
       "      <td>0.020247</td>\n",
       "      <td>0.170019</td>\n",
       "    </tr>\n",
       "    <tr>\n",
       "      <th>2018-03-01</th>\n",
       "      <td>0.035043</td>\n",
       "      <td>0.289624</td>\n",
       "      <td>0.220871</td>\n",
       "      <td>0.136366</td>\n",
       "      <td>0.318096</td>\n",
       "    </tr>\n",
       "    <tr>\n",
       "      <th>2018-02-28</th>\n",
       "      <td>0.123821</td>\n",
       "      <td>0.167899</td>\n",
       "      <td>0.120844</td>\n",
       "      <td>0.088780</td>\n",
       "      <td>0.498657</td>\n",
       "    </tr>\n",
       "    <tr>\n",
       "      <th>...</th>\n",
       "      <td>...</td>\n",
       "      <td>...</td>\n",
       "      <td>...</td>\n",
       "      <td>...</td>\n",
       "      <td>...</td>\n",
       "    </tr>\n",
       "    <tr>\n",
       "      <th>2014-01-18</th>\n",
       "      <td>0.057162</td>\n",
       "      <td>0.254146</td>\n",
       "      <td>0.027286</td>\n",
       "      <td>0.480660</td>\n",
       "      <td>0.180746</td>\n",
       "    </tr>\n",
       "    <tr>\n",
       "      <th>2014-01-17</th>\n",
       "      <td>0.160168</td>\n",
       "      <td>0.231034</td>\n",
       "      <td>0.092674</td>\n",
       "      <td>0.269050</td>\n",
       "      <td>0.247074</td>\n",
       "    </tr>\n",
       "    <tr>\n",
       "      <th>2014-01-16</th>\n",
       "      <td>0.261017</td>\n",
       "      <td>0.334213</td>\n",
       "      <td>0.293336</td>\n",
       "      <td>0.015744</td>\n",
       "      <td>0.095690</td>\n",
       "    </tr>\n",
       "    <tr>\n",
       "      <th>2014-01-15</th>\n",
       "      <td>0.225875</td>\n",
       "      <td>0.147861</td>\n",
       "      <td>0.151211</td>\n",
       "      <td>0.224074</td>\n",
       "      <td>0.250978</td>\n",
       "    </tr>\n",
       "    <tr>\n",
       "      <th>2014-01-14</th>\n",
       "      <td>0.184660</td>\n",
       "      <td>0.275706</td>\n",
       "      <td>0.303425</td>\n",
       "      <td>0.042841</td>\n",
       "      <td>0.193368</td>\n",
       "    </tr>\n",
       "  </tbody>\n",
       "</table>\n",
       "<p>1081 rows × 5 columns</p>\n",
       "</div>"
      ],
      "text/plain": [
       "            AT0000A18XM4 SW  BE0974268972 BB  US0527691069 US  \\\n",
       "2018-03-06         0.057699         0.352290         0.291162   \n",
       "2018-03-03         0.319902         0.277405         0.051719   \n",
       "2018-03-02         0.397155         0.362025         0.050554   \n",
       "2018-03-01         0.035043         0.289624         0.220871   \n",
       "2018-02-28         0.123821         0.167899         0.120844   \n",
       "...                     ...              ...              ...   \n",
       "2014-01-18         0.057162         0.254146         0.027286   \n",
       "2014-01-17         0.160168         0.231034         0.092674   \n",
       "2014-01-16         0.261017         0.334213         0.293336   \n",
       "2014-01-15         0.225875         0.147861         0.151211   \n",
       "2014-01-14         0.184660         0.275706         0.303425   \n",
       "\n",
       "            DE0007164600 GR  US6092071058 US  \n",
       "2018-03-06         0.197700         0.101148  \n",
       "2018-03-03         0.008164         0.342810  \n",
       "2018-03-02         0.020247         0.170019  \n",
       "2018-03-01         0.136366         0.318096  \n",
       "2018-02-28         0.088780         0.498657  \n",
       "...                     ...              ...  \n",
       "2014-01-18         0.480660         0.180746  \n",
       "2014-01-17         0.269050         0.247074  \n",
       "2014-01-16         0.015744         0.095690  \n",
       "2014-01-15         0.224074         0.250978  \n",
       "2014-01-14         0.042841         0.193368  \n",
       "\n",
       "[1081 rows x 5 columns]"
      ]
     },
     "execution_count": 131,
     "metadata": {},
     "output_type": "execute_result"
    }
   ],
   "source": [
    "weights_df.sort_index(ascending=False)"
   ]
  },
  {
   "cell_type": "code",
   "execution_count": 132,
   "id": "5ae27964",
   "metadata": {},
   "outputs": [],
   "source": [
    "df = weights_df"
   ]
  },
  {
   "cell_type": "code",
   "execution_count": 133,
   "id": "eec1c125",
   "metadata": {},
   "outputs": [
    {
     "data": {
      "text/plain": [
       "DatetimeIndex(['2014-01-14', '2014-01-15', '2014-01-16', '2014-01-17',\n",
       "               '2014-01-18', '2014-01-21', '2014-01-22', '2014-01-23',\n",
       "               '2014-01-24', '2014-01-25',\n",
       "               ...\n",
       "               '2018-02-21', '2018-02-22', '2018-02-23', '2018-02-24',\n",
       "               '2018-02-27', '2018-02-28', '2018-03-01', '2018-03-02',\n",
       "               '2018-03-03', '2018-03-06'],\n",
       "              dtype='datetime64[ns]', length=1081, freq=None)"
      ]
     },
     "execution_count": 133,
     "metadata": {},
     "output_type": "execute_result"
    }
   ],
   "source": [
    "df.index"
   ]
  },
  {
   "cell_type": "code",
   "execution_count": 134,
   "id": "256b16a5",
   "metadata": {},
   "outputs": [
    {
     "data": {
      "text/plain": [
       "Index(['AT0000A18XM4 SW', 'BE0974268972 BB', 'US0527691069 US',\n",
       "       'DE0007164600 GR', 'US6092071058 US'],\n",
       "      dtype='object')"
      ]
     },
     "execution_count": 134,
     "metadata": {},
     "output_type": "execute_result"
    }
   ],
   "source": [
    "df.columns"
   ]
  },
  {
   "cell_type": "code",
   "execution_count": 135,
   "id": "f9ff8549",
   "metadata": {},
   "outputs": [
    {
     "data": {
      "text/plain": [
       "2014-01-14    0.303425\n",
       "2014-01-15    0.151211\n",
       "2014-01-16    0.293336\n",
       "2014-01-17    0.092674\n",
       "2014-01-18    0.027286\n",
       "                ...   \n",
       "2018-02-28    0.120844\n",
       "2018-03-01    0.220871\n",
       "2018-03-02    0.050554\n",
       "2018-03-03    0.051719\n",
       "2018-03-06    0.291162\n",
       "Name: US0527691069 US, Length: 1081, dtype: float64"
      ]
     },
     "execution_count": 135,
     "metadata": {},
     "output_type": "execute_result"
    }
   ],
   "source": [
    "df['US0527691069 US']"
   ]
  },
  {
   "cell_type": "code",
   "execution_count": 136,
   "id": "0222c3cb",
   "metadata": {},
   "outputs": [
    {
     "data": {
      "text/plain": [
       "2014-01-14    0.303425\n",
       "2014-01-15    0.151211\n",
       "2014-01-16    0.293336\n",
       "2014-01-17    0.092674\n",
       "2014-01-18    0.027286\n",
       "Name: US0527691069 US, dtype: float64"
      ]
     },
     "execution_count": 136,
     "metadata": {},
     "output_type": "execute_result"
    }
   ],
   "source": [
    "df['US0527691069 US'].head()"
   ]
  },
  {
   "cell_type": "code",
   "execution_count": 137,
   "id": "fa2e4a35",
   "metadata": {},
   "outputs": [
    {
     "data": {
      "text/html": [
       "<div>\n",
       "<style scoped>\n",
       "    .dataframe tbody tr th:only-of-type {\n",
       "        vertical-align: middle;\n",
       "    }\n",
       "\n",
       "    .dataframe tbody tr th {\n",
       "        vertical-align: top;\n",
       "    }\n",
       "\n",
       "    .dataframe thead th {\n",
       "        text-align: right;\n",
       "    }\n",
       "</style>\n",
       "<table border=\"1\" class=\"dataframe\">\n",
       "  <thead>\n",
       "    <tr style=\"text-align: right;\">\n",
       "      <th></th>\n",
       "      <th>AT0000A18XM4 SW</th>\n",
       "      <th>BE0974268972 BB</th>\n",
       "      <th>US0527691069 US</th>\n",
       "      <th>DE0007164600 GR</th>\n",
       "      <th>US6092071058 US</th>\n",
       "    </tr>\n",
       "  </thead>\n",
       "  <tbody>\n",
       "    <tr>\n",
       "      <th>min</th>\n",
       "      <td>0.000063</td>\n",
       "      <td>0.000018</td>\n",
       "      <td>0.000331</td>\n",
       "      <td>2.895741e-07</td>\n",
       "      <td>0.000132</td>\n",
       "    </tr>\n",
       "    <tr>\n",
       "      <th>max</th>\n",
       "      <td>0.588783</td>\n",
       "      <td>0.638583</td>\n",
       "      <td>0.792982</td>\n",
       "      <td>8.555499e-01</td>\n",
       "      <td>0.621904</td>\n",
       "    </tr>\n",
       "    <tr>\n",
       "      <th>mean</th>\n",
       "      <td>0.192054</td>\n",
       "      <td>0.203109</td>\n",
       "      <td>0.204913</td>\n",
       "      <td>2.009432e-01</td>\n",
       "      <td>0.198981</td>\n",
       "    </tr>\n",
       "    <tr>\n",
       "      <th>median</th>\n",
       "      <td>0.188876</td>\n",
       "      <td>0.201496</td>\n",
       "      <td>0.200618</td>\n",
       "      <td>1.987364e-01</td>\n",
       "      <td>0.204044</td>\n",
       "    </tr>\n",
       "  </tbody>\n",
       "</table>\n",
       "</div>"
      ],
      "text/plain": [
       "        AT0000A18XM4 SW  BE0974268972 BB  US0527691069 US  DE0007164600 GR  \\\n",
       "min            0.000063         0.000018         0.000331     2.895741e-07   \n",
       "max            0.588783         0.638583         0.792982     8.555499e-01   \n",
       "mean           0.192054         0.203109         0.204913     2.009432e-01   \n",
       "median         0.188876         0.201496         0.200618     1.987364e-01   \n",
       "\n",
       "        US6092071058 US  \n",
       "min            0.000132  \n",
       "max            0.621904  \n",
       "mean           0.198981  \n",
       "median         0.204044  "
      ]
     },
     "execution_count": 137,
     "metadata": {},
     "output_type": "execute_result"
    }
   ],
   "source": [
    "df.agg(['min', 'max', 'mean', 'median'])"
   ]
  },
  {
   "cell_type": "code",
   "execution_count": 138,
   "id": "ead75463",
   "metadata": {},
   "outputs": [
    {
     "data": {
      "text/plain": [
       "AT0000A18XM4 SW   2017-05-06\n",
       "BE0974268972 BB   2014-10-08\n",
       "US0527691069 US   2017-08-24\n",
       "DE0007164600 GR   2017-01-25\n",
       "US6092071058 US   2016-06-15\n",
       "dtype: datetime64[ns]"
      ]
     },
     "execution_count": 138,
     "metadata": {},
     "output_type": "execute_result"
    }
   ],
   "source": [
    "df.idxmax()"
   ]
  },
  {
   "cell_type": "code",
   "execution_count": 139,
   "id": "21c2513b",
   "metadata": {},
   "outputs": [
    {
     "data": {
      "text/plain": [
       "AT0000A18XM4 SW   2015-03-14\n",
       "BE0974268972 BB   2015-07-04\n",
       "US0527691069 US   2016-04-20\n",
       "DE0007164600 GR   2018-01-23\n",
       "US6092071058 US   2015-08-21\n",
       "dtype: datetime64[ns]"
      ]
     },
     "execution_count": 139,
     "metadata": {},
     "output_type": "execute_result"
    }
   ],
   "source": [
    "df.idxmin()"
   ]
  },
  {
   "cell_type": "code",
   "execution_count": 140,
   "id": "d23f5dc1",
   "metadata": {},
   "outputs": [
    {
     "data": {
      "text/html": [
       "<div>\n",
       "<style scoped>\n",
       "    .dataframe tbody tr th:only-of-type {\n",
       "        vertical-align: middle;\n",
       "    }\n",
       "\n",
       "    .dataframe tbody tr th {\n",
       "        vertical-align: top;\n",
       "    }\n",
       "\n",
       "    .dataframe thead th {\n",
       "        text-align: right;\n",
       "    }\n",
       "</style>\n",
       "<table border=\"1\" class=\"dataframe\">\n",
       "  <thead>\n",
       "    <tr style=\"text-align: right;\">\n",
       "      <th></th>\n",
       "      <th>AT0000A18XM4 SW</th>\n",
       "      <th>BE0974268972 BB</th>\n",
       "      <th>US0527691069 US</th>\n",
       "      <th>DE0007164600 GR</th>\n",
       "      <th>US6092071058 US</th>\n",
       "    </tr>\n",
       "  </thead>\n",
       "  <tbody>\n",
       "    <tr>\n",
       "      <th>2015-03-14</th>\n",
       "      <td>0.000063</td>\n",
       "      <td>0.426246</td>\n",
       "      <td>0.013127</td>\n",
       "      <td>3.071502e-01</td>\n",
       "      <td>0.253414</td>\n",
       "    </tr>\n",
       "    <tr>\n",
       "      <th>2015-07-04</th>\n",
       "      <td>0.041093</td>\n",
       "      <td>0.000018</td>\n",
       "      <td>0.390096</td>\n",
       "      <td>2.017649e-01</td>\n",
       "      <td>0.367028</td>\n",
       "    </tr>\n",
       "    <tr>\n",
       "      <th>2016-04-20</th>\n",
       "      <td>0.178660</td>\n",
       "      <td>0.372705</td>\n",
       "      <td>0.000331</td>\n",
       "      <td>4.105506e-01</td>\n",
       "      <td>0.037754</td>\n",
       "    </tr>\n",
       "    <tr>\n",
       "      <th>2018-01-23</th>\n",
       "      <td>0.114776</td>\n",
       "      <td>0.064787</td>\n",
       "      <td>0.622151</td>\n",
       "      <td>2.895741e-07</td>\n",
       "      <td>0.198286</td>\n",
       "    </tr>\n",
       "    <tr>\n",
       "      <th>2015-08-21</th>\n",
       "      <td>0.101986</td>\n",
       "      <td>0.206050</td>\n",
       "      <td>0.344479</td>\n",
       "      <td>3.473532e-01</td>\n",
       "      <td>0.000132</td>\n",
       "    </tr>\n",
       "  </tbody>\n",
       "</table>\n",
       "</div>"
      ],
      "text/plain": [
       "            AT0000A18XM4 SW  BE0974268972 BB  US0527691069 US  \\\n",
       "2015-03-14         0.000063         0.426246         0.013127   \n",
       "2015-07-04         0.041093         0.000018         0.390096   \n",
       "2016-04-20         0.178660         0.372705         0.000331   \n",
       "2018-01-23         0.114776         0.064787         0.622151   \n",
       "2015-08-21         0.101986         0.206050         0.344479   \n",
       "\n",
       "            DE0007164600 GR  US6092071058 US  \n",
       "2015-03-14     3.071502e-01         0.253414  \n",
       "2015-07-04     2.017649e-01         0.367028  \n",
       "2016-04-20     4.105506e-01         0.037754  \n",
       "2018-01-23     2.895741e-07         0.198286  \n",
       "2015-08-21     3.473532e-01         0.000132  "
      ]
     },
     "execution_count": 140,
     "metadata": {},
     "output_type": "execute_result"
    }
   ],
   "source": [
    "df.loc[df.idxmin()]"
   ]
  },
  {
   "cell_type": "code",
   "execution_count": 141,
   "id": "69c2744b",
   "metadata": {},
   "outputs": [
    {
     "data": {
      "text/html": [
       "<div>\n",
       "<style scoped>\n",
       "    .dataframe tbody tr th:only-of-type {\n",
       "        vertical-align: middle;\n",
       "    }\n",
       "\n",
       "    .dataframe tbody tr th {\n",
       "        vertical-align: top;\n",
       "    }\n",
       "\n",
       "    .dataframe thead th {\n",
       "        text-align: right;\n",
       "    }\n",
       "</style>\n",
       "<table border=\"1\" class=\"dataframe\">\n",
       "  <thead>\n",
       "    <tr style=\"text-align: right;\">\n",
       "      <th></th>\n",
       "      <th>AT0000A18XM4 SW</th>\n",
       "      <th>BE0974268972 BB</th>\n",
       "      <th>US0527691069 US</th>\n",
       "      <th>DE0007164600 GR</th>\n",
       "      <th>US6092071058 US</th>\n",
       "    </tr>\n",
       "  </thead>\n",
       "  <tbody>\n",
       "    <tr>\n",
       "      <th>2017-05-06</th>\n",
       "      <td>0.588783</td>\n",
       "      <td>0.098971</td>\n",
       "      <td>0.065059</td>\n",
       "      <td>0.220716</td>\n",
       "      <td>0.026471</td>\n",
       "    </tr>\n",
       "    <tr>\n",
       "      <th>2014-10-08</th>\n",
       "      <td>0.055022</td>\n",
       "      <td>0.638583</td>\n",
       "      <td>0.087784</td>\n",
       "      <td>0.004366</td>\n",
       "      <td>0.214245</td>\n",
       "    </tr>\n",
       "    <tr>\n",
       "      <th>2017-08-24</th>\n",
       "      <td>0.016481</td>\n",
       "      <td>0.081014</td>\n",
       "      <td>0.792982</td>\n",
       "      <td>0.034498</td>\n",
       "      <td>0.075025</td>\n",
       "    </tr>\n",
       "    <tr>\n",
       "      <th>2017-01-25</th>\n",
       "      <td>0.033026</td>\n",
       "      <td>0.044487</td>\n",
       "      <td>0.063948</td>\n",
       "      <td>0.855550</td>\n",
       "      <td>0.002989</td>\n",
       "    </tr>\n",
       "    <tr>\n",
       "      <th>2016-06-15</th>\n",
       "      <td>0.089216</td>\n",
       "      <td>0.227885</td>\n",
       "      <td>0.007397</td>\n",
       "      <td>0.053598</td>\n",
       "      <td>0.621904</td>\n",
       "    </tr>\n",
       "  </tbody>\n",
       "</table>\n",
       "</div>"
      ],
      "text/plain": [
       "            AT0000A18XM4 SW  BE0974268972 BB  US0527691069 US  \\\n",
       "2017-05-06         0.588783         0.098971         0.065059   \n",
       "2014-10-08         0.055022         0.638583         0.087784   \n",
       "2017-08-24         0.016481         0.081014         0.792982   \n",
       "2017-01-25         0.033026         0.044487         0.063948   \n",
       "2016-06-15         0.089216         0.227885         0.007397   \n",
       "\n",
       "            DE0007164600 GR  US6092071058 US  \n",
       "2017-05-06         0.220716         0.026471  \n",
       "2014-10-08         0.004366         0.214245  \n",
       "2017-08-24         0.034498         0.075025  \n",
       "2017-01-25         0.855550         0.002989  \n",
       "2016-06-15         0.053598         0.621904  "
      ]
     },
     "execution_count": 141,
     "metadata": {},
     "output_type": "execute_result"
    }
   ],
   "source": [
    "df.loc[df.idxmax()]"
   ]
  },
  {
   "cell_type": "code",
   "execution_count": 142,
   "id": "b94c5220",
   "metadata": {},
   "outputs": [],
   "source": [
    "import json"
   ]
  },
  {
   "cell_type": "code",
   "execution_count": 143,
   "id": "3b0ab09d",
   "metadata": {},
   "outputs": [
    {
     "data": {
      "text/plain": [
       "dict_keys(['Message', 'ShowMessage', 'StateCode', 'TimeStamp', 'Value'])"
      ]
     },
     "execution_count": 143,
     "metadata": {},
     "output_type": "execute_result"
    }
   ],
   "source": [
    "with open('data/fines.json', 'r') as f:\n",
    "    fines_data = json.load(f)\n",
    "\n",
    "fines_data.keys()"
   ]
  },
  {
   "cell_type": "code",
   "execution_count": 144,
   "id": "0a6f8216",
   "metadata": {},
   "outputs": [
    {
     "data": {
      "text/plain": [
       "835"
      ]
     },
     "execution_count": 144,
     "metadata": {},
     "output_type": "execute_result"
    }
   ],
   "source": [
    "fines_values = json.loads(fines_data['Value'])['Fines']\n",
    "len(fines_values)"
   ]
  },
  {
   "cell_type": "code",
   "execution_count": 145,
   "id": "a0d56ba3",
   "metadata": {},
   "outputs": [
    {
     "data": {
      "text/plain": [
       "str"
      ]
     },
     "execution_count": 145,
     "metadata": {},
     "output_type": "execute_result"
    }
   ],
   "source": [
    "type('fines_values')"
   ]
  },
  {
   "cell_type": "code",
   "execution_count": 146,
   "id": "1fe93a22",
   "metadata": {},
   "outputs": [
    {
     "data": {
      "text/plain": [
       "list"
      ]
     },
     "execution_count": 146,
     "metadata": {},
     "output_type": "execute_result"
    }
   ],
   "source": [
    "type(fines_values)"
   ]
  },
  {
   "cell_type": "code",
   "execution_count": 147,
   "id": "e23d4c32",
   "metadata": {},
   "outputs": [
    {
     "name": "stdout",
     "output_type": "stream",
     "text": [
      "{'AdminOffensesTypeText': 'Штраф', 'AmountToPay': 0, 'ApnDetail': [{'AttrId': 'StAP', 'Name': 'Статья КоАП или закона субъекта РФ, состав правонарушения', 'Value': '12.17 ч.1.2 - Движение или остановка на полосе для маршрутных ТС в Москве или в Санкт-Петербурге'}, {'AttrId': 'MestoDAP', 'Name': 'Место составления документа', 'Value': 'САДОВАЯ-САМОТЕЧНАЯ,д.1,ТВЕРСКОЙ (ЦАО) Р-Н'}, {'AttrId': 'DatNar', 'Name': 'Дата и время нарушения', 'Value': '23.01.2018 00:21:00'}, {'AttrId': 'MestoNar', 'Name': 'Место нарушения', 'Value': 'МОСКВА Г.   МОХОВАЯ д.15/1'}, {'AttrId': 'OdpsName', 'Name': 'Орган власти, выявивший нарушение', 'Value': 'ЦАФАП ОДД ГИБДД ГУ МВД России по г.Москве'}, {'AttrId': 'FIONarush', 'Name': 'Нарушитель', 'Value': 'ЛЕОНИД ЭДУАРДОВИЧ'}, {'AttrId': 'GRZNarush', 'Name': 'Транспортное средство', 'Value': 'С700*****'}], 'DAP': '18810177180125209293', 'DAPName': 'Постановление по видеофиксации №18810177180125209293 от 25.01.2018', 'DateDAP': '25.01.2018', 'DiscountDate': '', 'DiscountSize': '', 'DiscountSizeAmountToPaySum': None, 'FineStatus': 1, 'FineSum': 3000, 'HasAdditionalActions': False, 'HasPhoto': True, 'IsFine': True, 'Latitude': '55,7563209999', 'Longitude': '37,614136', 'OdpsKod': '1145519', 'PayedAmountSum': None, 'PaymentId': '', 'Sh': '{\"DAP\":\"18810177180125209293\",\"DateDAP\":\"25.01.2018\",\"ODPS\":\"ЦАФАП ОДД ГИБДД ГУ МВД России по г.Москве\",\"PaymentID\":null,\"RsRschet\":\"40101810045250010041\",\"SgBuk\":\"044525000\",\"ShBankName\":\"ГУ Банка России по ЦФО\",\"ShInn\":\"7707089101\",\"ShKbk\":\"18811630020016000140\",\"ShKpp\":\"770731005\",\"ShOkato\":\"45379000\",\"ShPoluchName\":\"УФК по г. Москве (УГИБДД ГУ МВД России по г.Москве)\",\"Sum\":3000,\"Uin\":\"18810177180125209293\"}', 'Sts': '7741525886', 'Type': 0, 'UID': 'f9e58750-5f64-4138-942a-67e0967d4547', 'VidNak': '2', 'VstupDate': '', 'Vu': ''}\n"
     ]
    }
   ],
   "source": [
    "print(fines_values[0])"
   ]
  },
  {
   "cell_type": "code",
   "execution_count": 148,
   "id": "c435143b",
   "metadata": {},
   "outputs": [
    {
     "data": {
      "text/plain": [
       "{'Name': '12.17 ч.1.2 - Движение или остановка на полосе для маршрутных ТС в Москве или в Санкт-Петербурге',\n",
       " 'Place': 'МОСКВА Г.   МОХОВАЯ д.15/1',\n",
       " 'FineSum': 3000}"
      ]
     },
     "execution_count": 148,
     "metadata": {},
     "output_type": "execute_result"
    }
   ],
   "source": [
    "fines_prepared_data = [\n",
    "    {\n",
    "        'Name': data['ApnDetail'][0]['Value'].replace('\\t', ' - '),\n",
    "        'Place': data['ApnDetail'][3]['Value'],\n",
    "        'FineSum': data['FineSum'],\n",
    "        \n",
    "    }\n",
    "    for data in fines_values\n",
    "]\n",
    "\n",
    "fines_prepared_data[0]"
   ]
  },
  {
   "cell_type": "code",
   "execution_count": 149,
   "id": "e93de052",
   "metadata": {},
   "outputs": [
    {
     "data": {
      "text/html": [
       "<div>\n",
       "<style scoped>\n",
       "    .dataframe tbody tr th:only-of-type {\n",
       "        vertical-align: middle;\n",
       "    }\n",
       "\n",
       "    .dataframe tbody tr th {\n",
       "        vertical-align: top;\n",
       "    }\n",
       "\n",
       "    .dataframe thead th {\n",
       "        text-align: right;\n",
       "    }\n",
       "</style>\n",
       "<table border=\"1\" class=\"dataframe\">\n",
       "  <thead>\n",
       "    <tr style=\"text-align: right;\">\n",
       "      <th></th>\n",
       "      <th>Name</th>\n",
       "      <th>Place</th>\n",
       "      <th>FineSum</th>\n",
       "    </tr>\n",
       "  </thead>\n",
       "  <tbody>\n",
       "    <tr>\n",
       "      <th>0</th>\n",
       "      <td>12.17 ч.1.2 - Движение или остановка на полосе...</td>\n",
       "      <td>МОСКВА Г.   МОХОВАЯ д.15/1</td>\n",
       "      <td>3000</td>\n",
       "    </tr>\n",
       "    <tr>\n",
       "      <th>1</th>\n",
       "      <td>12.09.2 - Превышение скорости движения ТС от 2...</td>\n",
       "      <td>А/Д М-9 \"БАЛТИЯ\", 24КМ+750М, ИЗ МОСКВЫ</td>\n",
       "      <td>500</td>\n",
       "    </tr>\n",
       "    <tr>\n",
       "      <th>2</th>\n",
       "      <td>12.9.6 - Повторное превышение скорости на 40-6...</td>\n",
       "      <td>МОСКВА Г.   РУБЛЕВСКОЕ Ш. д.79</td>\n",
       "      <td>2000</td>\n",
       "    </tr>\n",
       "    <tr>\n",
       "      <th>3</th>\n",
       "      <td>12.15.1 - Наруш.правил расп.т/с на пр.части бе...</td>\n",
       "      <td>МОСКВА Г.   КУТУЗОВСКИЙ ПРОСП.</td>\n",
       "      <td>1500</td>\n",
       "    </tr>\n",
       "    <tr>\n",
       "      <th>4</th>\n",
       "      <td>12.9.6 - Повторное превышение скорости на 40-6...</td>\n",
       "      <td>МОСКВА Г.   НОВЫЙ АРБАТ д.36/9</td>\n",
       "      <td>2000</td>\n",
       "    </tr>\n",
       "    <tr>\n",
       "      <th>...</th>\n",
       "      <td>...</td>\n",
       "      <td>...</td>\n",
       "      <td>...</td>\n",
       "    </tr>\n",
       "    <tr>\n",
       "      <th>830</th>\n",
       "      <td>12.09.2 - Превышение скорости движения ТС от 2...</td>\n",
       "      <td>МОСКВА Г.   НОВЫЙ АРБАТ д.28</td>\n",
       "      <td>500</td>\n",
       "    </tr>\n",
       "    <tr>\n",
       "      <th>831</th>\n",
       "      <td>12.16.5 Нарушение, предусмотренное частью 4 на...</td>\n",
       "      <td>г. Москва, Тверская улица, 4</td>\n",
       "      <td>3000</td>\n",
       "    </tr>\n",
       "    <tr>\n",
       "      <th>832</th>\n",
       "      <td>12.16.5 Нарушение, предусмотренное частью 4 на...</td>\n",
       "      <td>г. Москва, Тверская улица, 4</td>\n",
       "      <td>3000</td>\n",
       "    </tr>\n",
       "    <tr>\n",
       "      <th>833</th>\n",
       "      <td>12.16.5 Нарушение, предусмотренное частью 4 на...</td>\n",
       "      <td>г. Москва, ул. Охотный Ряд, д. 2</td>\n",
       "      <td>3000</td>\n",
       "    </tr>\n",
       "    <tr>\n",
       "      <th>834</th>\n",
       "      <td>12.16.5 Нарушение, предусмотренное частью 4 на...</td>\n",
       "      <td>г. Москва, Тверская улица, 3</td>\n",
       "      <td>3000</td>\n",
       "    </tr>\n",
       "  </tbody>\n",
       "</table>\n",
       "<p>835 rows × 3 columns</p>\n",
       "</div>"
      ],
      "text/plain": [
       "                                                  Name  \\\n",
       "0    12.17 ч.1.2 - Движение или остановка на полосе...   \n",
       "1    12.09.2 - Превышение скорости движения ТС от 2...   \n",
       "2    12.9.6 - Повторное превышение скорости на 40-6...   \n",
       "3    12.15.1 - Наруш.правил расп.т/с на пр.части бе...   \n",
       "4    12.9.6 - Повторное превышение скорости на 40-6...   \n",
       "..                                                 ...   \n",
       "830  12.09.2 - Превышение скорости движения ТС от 2...   \n",
       "831  12.16.5 Нарушение, предусмотренное частью 4 на...   \n",
       "832  12.16.5 Нарушение, предусмотренное частью 4 на...   \n",
       "833  12.16.5 Нарушение, предусмотренное частью 4 на...   \n",
       "834  12.16.5 Нарушение, предусмотренное частью 4 на...   \n",
       "\n",
       "                                        Place  FineSum  \n",
       "0                  МОСКВА Г.   МОХОВАЯ д.15/1     3000  \n",
       "1      А/Д М-9 \"БАЛТИЯ\", 24КМ+750М, ИЗ МОСКВЫ      500  \n",
       "2              МОСКВА Г.   РУБЛЕВСКОЕ Ш. д.79     2000  \n",
       "3              МОСКВА Г.   КУТУЗОВСКИЙ ПРОСП.     1500  \n",
       "4              МОСКВА Г.   НОВЫЙ АРБАТ д.36/9     2000  \n",
       "..                                        ...      ...  \n",
       "830              МОСКВА Г.   НОВЫЙ АРБАТ д.28      500  \n",
       "831              г. Москва, Тверская улица, 4     3000  \n",
       "832              г. Москва, Тверская улица, 4     3000  \n",
       "833          г. Москва, ул. Охотный Ряд, д. 2     3000  \n",
       "834              г. Москва, Тверская улица, 3     3000  \n",
       "\n",
       "[835 rows x 3 columns]"
      ]
     },
     "execution_count": 149,
     "metadata": {},
     "output_type": "execute_result"
    }
   ],
   "source": [
    "df = fines_df = pd.DataFrame(fines_prepared_data)\n",
    "df"
   ]
  },
  {
   "cell_type": "code",
   "execution_count": 150,
   "id": "64d79f79",
   "metadata": {},
   "outputs": [
    {
     "data": {
      "text/html": [
       "<div>\n",
       "<style scoped>\n",
       "    .dataframe tbody tr th:only-of-type {\n",
       "        vertical-align: middle;\n",
       "    }\n",
       "\n",
       "    .dataframe tbody tr th {\n",
       "        vertical-align: top;\n",
       "    }\n",
       "\n",
       "    .dataframe thead th {\n",
       "        text-align: right;\n",
       "    }\n",
       "</style>\n",
       "<table border=\"1\" class=\"dataframe\">\n",
       "  <thead>\n",
       "    <tr style=\"text-align: right;\">\n",
       "      <th></th>\n",
       "      <th>count</th>\n",
       "      <th>sum</th>\n",
       "    </tr>\n",
       "    <tr>\n",
       "      <th>Name</th>\n",
       "      <th></th>\n",
       "      <th></th>\n",
       "    </tr>\n",
       "  </thead>\n",
       "  <tbody>\n",
       "    <tr>\n",
       "      <th>12.09.2 - Превышение скорости движения ТС от 20 до 40 км/ч</th>\n",
       "      <td>361</td>\n",
       "      <td>180500</td>\n",
       "    </tr>\n",
       "    <tr>\n",
       "      <th>12.09.3 - Превышение скорости движения ТС от 40 до 60 км/ч</th>\n",
       "      <td>7</td>\n",
       "      <td>7000</td>\n",
       "    </tr>\n",
       "    <tr>\n",
       "      <th>12.15.1 - Наруш.правил расп.т/с на пр.части без выезда на ст.встр.движ.,дв.по обоч.,пересечение колонны</th>\n",
       "      <td>95</td>\n",
       "      <td>142500</td>\n",
       "    </tr>\n",
       "    <tr>\n",
       "      <th>12.15.5 - Повторный выезд на сторону, предназначенную для встречного движения</th>\n",
       "      <td>21</td>\n",
       "      <td>105000</td>\n",
       "    </tr>\n",
       "    <tr>\n",
       "      <th>12.16.1 - Несоблюдение требований знаков или разметки, за искл.случаев, предусм.др.статьями гл.12</th>\n",
       "      <td>8</td>\n",
       "      <td>4000</td>\n",
       "    </tr>\n",
       "    <tr>\n",
       "      <th>12.16.2 - Поворот налево или разворот в нарушение знаков или разметки</th>\n",
       "      <td>1</td>\n",
       "      <td>1000</td>\n",
       "    </tr>\n",
       "    <tr>\n",
       "      <th>12.16.5 Нарушение, предусмотренное частью 4 настоящей статьи, совершенное в городе федерального значения Москве или Санкт-Петербурге</th>\n",
       "      <td>15</td>\n",
       "      <td>45000</td>\n",
       "    </tr>\n",
       "    <tr>\n",
       "      <th>12.17 ч.1.2 - Движение или остановка на полосе для маршрутных ТС в Москве или в Санкт-Петербурге</th>\n",
       "      <td>212</td>\n",
       "      <td>636000</td>\n",
       "    </tr>\n",
       "    <tr>\n",
       "      <th>12.19 ч.6 - Стоянка, остановка ТС на проезжей части, либо далее 1-й полосы в Москве или в Санкт-Петербурге</th>\n",
       "      <td>3</td>\n",
       "      <td>9000</td>\n",
       "    </tr>\n",
       "    <tr>\n",
       "      <th>12.9.6 - Повторное превышение скорости на 40-60 км/час</th>\n",
       "      <td>94</td>\n",
       "      <td>188000</td>\n",
       "    </tr>\n",
       "    <tr>\n",
       "      <th>12.9.7 - Повторное превышение скорости на 60-80 км/час и более 80 км/ч</th>\n",
       "      <td>17</td>\n",
       "      <td>85000</td>\n",
       "    </tr>\n",
       "    <tr>\n",
       "      <th>8.14.2  - Неуплата за размещение транспортного средства на платной городской парковке</th>\n",
       "      <td>1</td>\n",
       "      <td>2500</td>\n",
       "    </tr>\n",
       "  </tbody>\n",
       "</table>\n",
       "</div>"
      ],
      "text/plain": [
       "                                                    count     sum\n",
       "Name                                                             \n",
       "12.09.2 - Превышение скорости движения ТС от 20...    361  180500\n",
       "12.09.3 - Превышение скорости движения ТС от 40...      7    7000\n",
       "12.15.1 - Наруш.правил расп.т/с на пр.части без...     95  142500\n",
       "12.15.5 - Повторный выезд на сторону, предназна...     21  105000\n",
       "12.16.1 - Несоблюдение требований знаков или ра...      8    4000\n",
       "12.16.2 - Поворот налево или разворот в нарушен...      1    1000\n",
       "12.16.5 Нарушение, предусмотренное частью 4 нас...     15   45000\n",
       "12.17 ч.1.2 - Движение или остановка на полосе ...    212  636000\n",
       "12.19 ч.6 - Стоянка, остановка ТС на проезжей ч...      3    9000\n",
       "12.9.6 - Повторное превышение скорости на 40-60...     94  188000\n",
       "12.9.7 - Повторное превышение скорости на 60-80...     17   85000\n",
       "8.14.2  - Неуплата за размещение транспортного ...      1    2500"
      ]
     },
     "execution_count": 150,
     "metadata": {},
     "output_type": "execute_result"
    }
   ],
   "source": [
    "summary = df.groupby('Name')['FineSum'].agg(['count', 'sum'])\n",
    "summary"
   ]
  },
  {
   "cell_type": "code",
   "execution_count": 151,
   "id": "4dda6126",
   "metadata": {},
   "outputs": [
    {
     "data": {
      "text/html": [
       "<div>\n",
       "<style scoped>\n",
       "    .dataframe tbody tr th:only-of-type {\n",
       "        vertical-align: middle;\n",
       "    }\n",
       "\n",
       "    .dataframe tbody tr th {\n",
       "        vertical-align: top;\n",
       "    }\n",
       "\n",
       "    .dataframe thead th {\n",
       "        text-align: right;\n",
       "    }\n",
       "</style>\n",
       "<table border=\"1\" class=\"dataframe\">\n",
       "  <thead>\n",
       "    <tr style=\"text-align: right;\">\n",
       "      <th></th>\n",
       "      <th>count</th>\n",
       "      <th>sum</th>\n",
       "    </tr>\n",
       "    <tr>\n",
       "      <th>Name</th>\n",
       "      <th></th>\n",
       "      <th></th>\n",
       "    </tr>\n",
       "  </thead>\n",
       "  <tbody>\n",
       "    <tr>\n",
       "      <th>12.09.2 - Превышение скорости движения ТС от 20 до 40 км/ч</th>\n",
       "      <td>361</td>\n",
       "      <td>180500</td>\n",
       "    </tr>\n",
       "    <tr>\n",
       "      <th>12.17 ч.1.2 - Движение или остановка на полосе для маршрутных ТС в Москве или в Санкт-Петербурге</th>\n",
       "      <td>212</td>\n",
       "      <td>636000</td>\n",
       "    </tr>\n",
       "    <tr>\n",
       "      <th>12.15.1 - Наруш.правил расп.т/с на пр.части без выезда на ст.встр.движ.,дв.по обоч.,пересечение колонны</th>\n",
       "      <td>95</td>\n",
       "      <td>142500</td>\n",
       "    </tr>\n",
       "    <tr>\n",
       "      <th>12.9.6 - Повторное превышение скорости на 40-60 км/час</th>\n",
       "      <td>94</td>\n",
       "      <td>188000</td>\n",
       "    </tr>\n",
       "    <tr>\n",
       "      <th>12.15.5 - Повторный выезд на сторону, предназначенную для встречного движения</th>\n",
       "      <td>21</td>\n",
       "      <td>105000</td>\n",
       "    </tr>\n",
       "    <tr>\n",
       "      <th>12.9.7 - Повторное превышение скорости на 60-80 км/час и более 80 км/ч</th>\n",
       "      <td>17</td>\n",
       "      <td>85000</td>\n",
       "    </tr>\n",
       "    <tr>\n",
       "      <th>12.16.5 Нарушение, предусмотренное частью 4 настоящей статьи, совершенное в городе федерального значения Москве или Санкт-Петербурге</th>\n",
       "      <td>15</td>\n",
       "      <td>45000</td>\n",
       "    </tr>\n",
       "    <tr>\n",
       "      <th>12.16.1 - Несоблюдение требований знаков или разметки, за искл.случаев, предусм.др.статьями гл.12</th>\n",
       "      <td>8</td>\n",
       "      <td>4000</td>\n",
       "    </tr>\n",
       "    <tr>\n",
       "      <th>12.09.3 - Превышение скорости движения ТС от 40 до 60 км/ч</th>\n",
       "      <td>7</td>\n",
       "      <td>7000</td>\n",
       "    </tr>\n",
       "    <tr>\n",
       "      <th>12.19 ч.6 - Стоянка, остановка ТС на проезжей части, либо далее 1-й полосы в Москве или в Санкт-Петербурге</th>\n",
       "      <td>3</td>\n",
       "      <td>9000</td>\n",
       "    </tr>\n",
       "    <tr>\n",
       "      <th>12.16.2 - Поворот налево или разворот в нарушение знаков или разметки</th>\n",
       "      <td>1</td>\n",
       "      <td>1000</td>\n",
       "    </tr>\n",
       "    <tr>\n",
       "      <th>8.14.2  - Неуплата за размещение транспортного средства на платной городской парковке</th>\n",
       "      <td>1</td>\n",
       "      <td>2500</td>\n",
       "    </tr>\n",
       "  </tbody>\n",
       "</table>\n",
       "</div>"
      ],
      "text/plain": [
       "                                                    count     sum\n",
       "Name                                                             \n",
       "12.09.2 - Превышение скорости движения ТС от 20...    361  180500\n",
       "12.17 ч.1.2 - Движение или остановка на полосе ...    212  636000\n",
       "12.15.1 - Наруш.правил расп.т/с на пр.части без...     95  142500\n",
       "12.9.6 - Повторное превышение скорости на 40-60...     94  188000\n",
       "12.15.5 - Повторный выезд на сторону, предназна...     21  105000\n",
       "12.9.7 - Повторное превышение скорости на 60-80...     17   85000\n",
       "12.16.5 Нарушение, предусмотренное частью 4 нас...     15   45000\n",
       "12.16.1 - Несоблюдение требований знаков или ра...      8    4000\n",
       "12.09.3 - Превышение скорости движения ТС от 40...      7    7000\n",
       "12.19 ч.6 - Стоянка, остановка ТС на проезжей ч...      3    9000\n",
       "12.16.2 - Поворот налево или разворот в нарушен...      1    1000\n",
       "8.14.2  - Неуплата за размещение транспортного ...      1    2500"
      ]
     },
     "execution_count": 151,
     "metadata": {},
     "output_type": "execute_result"
    }
   ],
   "source": [
    "summary = summary.sort_values(['count'], ascending=False)\n",
    "summary"
   ]
  },
  {
   "cell_type": "code",
   "execution_count": 152,
   "id": "01a11319",
   "metadata": {},
   "outputs": [
    {
     "data": {
      "text/plain": [
       "count        835\n",
       "sum      1405500\n",
       "dtype: int64"
      ]
     },
     "execution_count": 152,
     "metadata": {},
     "output_type": "execute_result"
    }
   ],
   "source": [
    "summary.sum()"
   ]
  },
  {
   "cell_type": "code",
   "execution_count": 153,
   "id": "60dfd004",
   "metadata": {},
   "outputs": [],
   "source": [
    "total = pd.Series(\n",
    "    summary.sum(),\n",
    "    name='Full summary',\n",
    ")"
   ]
  },
  {
   "cell_type": "code",
   "execution_count": 154,
   "id": "f47642aa",
   "metadata": {},
   "outputs": [
    {
     "data": {
      "text/plain": [
       "count        835\n",
       "sum      1405500\n",
       "Name: Full summary, dtype: int64"
      ]
     },
     "execution_count": 154,
     "metadata": {},
     "output_type": "execute_result"
    }
   ],
   "source": [
    "total"
   ]
  },
  {
   "cell_type": "code",
   "execution_count": 155,
   "id": "49457085",
   "metadata": {},
   "outputs": [
    {
     "name": "stderr",
     "output_type": "stream",
     "text": [
      "/var/folders/r0/f247yh3j4djfkghshd5yf41m0000gn/T/ipykernel_91264/2212474553.py:1: FutureWarning: The frame.append method is deprecated and will be removed from pandas in a future version. Use pandas.concat instead.\n",
      "  summary.append(total)\n"
     ]
    },
    {
     "data": {
      "text/html": [
       "<div>\n",
       "<style scoped>\n",
       "    .dataframe tbody tr th:only-of-type {\n",
       "        vertical-align: middle;\n",
       "    }\n",
       "\n",
       "    .dataframe tbody tr th {\n",
       "        vertical-align: top;\n",
       "    }\n",
       "\n",
       "    .dataframe thead th {\n",
       "        text-align: right;\n",
       "    }\n",
       "</style>\n",
       "<table border=\"1\" class=\"dataframe\">\n",
       "  <thead>\n",
       "    <tr style=\"text-align: right;\">\n",
       "      <th></th>\n",
       "      <th>count</th>\n",
       "      <th>sum</th>\n",
       "    </tr>\n",
       "    <tr>\n",
       "      <th>Name</th>\n",
       "      <th></th>\n",
       "      <th></th>\n",
       "    </tr>\n",
       "  </thead>\n",
       "  <tbody>\n",
       "    <tr>\n",
       "      <th>12.09.2 - Превышение скорости движения ТС от 20 до 40 км/ч</th>\n",
       "      <td>361</td>\n",
       "      <td>180500</td>\n",
       "    </tr>\n",
       "    <tr>\n",
       "      <th>12.17 ч.1.2 - Движение или остановка на полосе для маршрутных ТС в Москве или в Санкт-Петербурге</th>\n",
       "      <td>212</td>\n",
       "      <td>636000</td>\n",
       "    </tr>\n",
       "    <tr>\n",
       "      <th>12.15.1 - Наруш.правил расп.т/с на пр.части без выезда на ст.встр.движ.,дв.по обоч.,пересечение колонны</th>\n",
       "      <td>95</td>\n",
       "      <td>142500</td>\n",
       "    </tr>\n",
       "    <tr>\n",
       "      <th>12.9.6 - Повторное превышение скорости на 40-60 км/час</th>\n",
       "      <td>94</td>\n",
       "      <td>188000</td>\n",
       "    </tr>\n",
       "    <tr>\n",
       "      <th>12.15.5 - Повторный выезд на сторону, предназначенную для встречного движения</th>\n",
       "      <td>21</td>\n",
       "      <td>105000</td>\n",
       "    </tr>\n",
       "    <tr>\n",
       "      <th>12.9.7 - Повторное превышение скорости на 60-80 км/час и более 80 км/ч</th>\n",
       "      <td>17</td>\n",
       "      <td>85000</td>\n",
       "    </tr>\n",
       "    <tr>\n",
       "      <th>12.16.5 Нарушение, предусмотренное частью 4 настоящей статьи, совершенное в городе федерального значения Москве или Санкт-Петербурге</th>\n",
       "      <td>15</td>\n",
       "      <td>45000</td>\n",
       "    </tr>\n",
       "    <tr>\n",
       "      <th>12.16.1 - Несоблюдение требований знаков или разметки, за искл.случаев, предусм.др.статьями гл.12</th>\n",
       "      <td>8</td>\n",
       "      <td>4000</td>\n",
       "    </tr>\n",
       "    <tr>\n",
       "      <th>12.09.3 - Превышение скорости движения ТС от 40 до 60 км/ч</th>\n",
       "      <td>7</td>\n",
       "      <td>7000</td>\n",
       "    </tr>\n",
       "    <tr>\n",
       "      <th>12.19 ч.6 - Стоянка, остановка ТС на проезжей части, либо далее 1-й полосы в Москве или в Санкт-Петербурге</th>\n",
       "      <td>3</td>\n",
       "      <td>9000</td>\n",
       "    </tr>\n",
       "    <tr>\n",
       "      <th>12.16.2 - Поворот налево или разворот в нарушение знаков или разметки</th>\n",
       "      <td>1</td>\n",
       "      <td>1000</td>\n",
       "    </tr>\n",
       "    <tr>\n",
       "      <th>8.14.2  - Неуплата за размещение транспортного средства на платной городской парковке</th>\n",
       "      <td>1</td>\n",
       "      <td>2500</td>\n",
       "    </tr>\n",
       "  </tbody>\n",
       "</table>\n",
       "</div>"
      ],
      "text/plain": [
       "                                                    count     sum\n",
       "Name                                                             \n",
       "12.09.2 - Превышение скорости движения ТС от 20...    361  180500\n",
       "12.17 ч.1.2 - Движение или остановка на полосе ...    212  636000\n",
       "12.15.1 - Наруш.правил расп.т/с на пр.части без...     95  142500\n",
       "12.9.6 - Повторное превышение скорости на 40-60...     94  188000\n",
       "12.15.5 - Повторный выезд на сторону, предназна...     21  105000\n",
       "12.9.7 - Повторное превышение скорости на 60-80...     17   85000\n",
       "12.16.5 Нарушение, предусмотренное частью 4 нас...     15   45000\n",
       "12.16.1 - Несоблюдение требований знаков или ра...      8    4000\n",
       "12.09.3 - Превышение скорости движения ТС от 40...      7    7000\n",
       "12.19 ч.6 - Стоянка, остановка ТС на проезжей ч...      3    9000\n",
       "12.16.2 - Поворот налево или разворот в нарушен...      1    1000\n",
       "8.14.2  - Неуплата за размещение транспортного ...      1    2500"
      ]
     },
     "execution_count": 155,
     "metadata": {},
     "output_type": "execute_result"
    }
   ],
   "source": [
    "summary.append(total)\n",
    "summary"
   ]
  },
  {
   "cell_type": "code",
   "execution_count": 156,
   "id": "2f82e81f",
   "metadata": {},
   "outputs": [
    {
     "data": {
      "text/html": [
       "<div>\n",
       "<style scoped>\n",
       "    .dataframe tbody tr th:only-of-type {\n",
       "        vertical-align: middle;\n",
       "    }\n",
       "\n",
       "    .dataframe tbody tr th {\n",
       "        vertical-align: top;\n",
       "    }\n",
       "\n",
       "    .dataframe thead th {\n",
       "        text-align: right;\n",
       "    }\n",
       "</style>\n",
       "<table border=\"1\" class=\"dataframe\">\n",
       "  <thead>\n",
       "    <tr style=\"text-align: right;\">\n",
       "      <th></th>\n",
       "      <th>count</th>\n",
       "      <th>sum</th>\n",
       "      <th>0</th>\n",
       "    </tr>\n",
       "  </thead>\n",
       "  <tbody>\n",
       "    <tr>\n",
       "      <th>12.09.2 - Превышение скорости движения ТС от 20 до 40 км/ч</th>\n",
       "      <td>361.0</td>\n",
       "      <td>180500.0</td>\n",
       "      <td>NaN</td>\n",
       "    </tr>\n",
       "    <tr>\n",
       "      <th>12.17 ч.1.2 - Движение или остановка на полосе для маршрутных ТС в Москве или в Санкт-Петербурге</th>\n",
       "      <td>212.0</td>\n",
       "      <td>636000.0</td>\n",
       "      <td>NaN</td>\n",
       "    </tr>\n",
       "    <tr>\n",
       "      <th>12.15.1 - Наруш.правил расп.т/с на пр.части без выезда на ст.встр.движ.,дв.по обоч.,пересечение колонны</th>\n",
       "      <td>95.0</td>\n",
       "      <td>142500.0</td>\n",
       "      <td>NaN</td>\n",
       "    </tr>\n",
       "    <tr>\n",
       "      <th>12.9.6 - Повторное превышение скорости на 40-60 км/час</th>\n",
       "      <td>94.0</td>\n",
       "      <td>188000.0</td>\n",
       "      <td>NaN</td>\n",
       "    </tr>\n",
       "    <tr>\n",
       "      <th>12.15.5 - Повторный выезд на сторону, предназначенную для встречного движения</th>\n",
       "      <td>21.0</td>\n",
       "      <td>105000.0</td>\n",
       "      <td>NaN</td>\n",
       "    </tr>\n",
       "    <tr>\n",
       "      <th>12.9.7 - Повторное превышение скорости на 60-80 км/час и более 80 км/ч</th>\n",
       "      <td>17.0</td>\n",
       "      <td>85000.0</td>\n",
       "      <td>NaN</td>\n",
       "    </tr>\n",
       "    <tr>\n",
       "      <th>12.16.5 Нарушение, предусмотренное частью 4 настоящей статьи, совершенное в городе федерального значения Москве или Санкт-Петербурге</th>\n",
       "      <td>15.0</td>\n",
       "      <td>45000.0</td>\n",
       "      <td>NaN</td>\n",
       "    </tr>\n",
       "    <tr>\n",
       "      <th>12.16.1 - Несоблюдение требований знаков или разметки, за искл.случаев, предусм.др.статьями гл.12</th>\n",
       "      <td>8.0</td>\n",
       "      <td>4000.0</td>\n",
       "      <td>NaN</td>\n",
       "    </tr>\n",
       "    <tr>\n",
       "      <th>12.09.3 - Превышение скорости движения ТС от 40 до 60 км/ч</th>\n",
       "      <td>7.0</td>\n",
       "      <td>7000.0</td>\n",
       "      <td>NaN</td>\n",
       "    </tr>\n",
       "    <tr>\n",
       "      <th>12.19 ч.6 - Стоянка, остановка ТС на проезжей части, либо далее 1-й полосы в Москве или в Санкт-Петербурге</th>\n",
       "      <td>3.0</td>\n",
       "      <td>9000.0</td>\n",
       "      <td>NaN</td>\n",
       "    </tr>\n",
       "    <tr>\n",
       "      <th>12.16.2 - Поворот налево или разворот в нарушение знаков или разметки</th>\n",
       "      <td>1.0</td>\n",
       "      <td>1000.0</td>\n",
       "      <td>NaN</td>\n",
       "    </tr>\n",
       "    <tr>\n",
       "      <th>8.14.2  - Неуплата за размещение транспортного средства на платной городской парковке</th>\n",
       "      <td>1.0</td>\n",
       "      <td>2500.0</td>\n",
       "      <td>NaN</td>\n",
       "    </tr>\n",
       "    <tr>\n",
       "      <th>count</th>\n",
       "      <td>NaN</td>\n",
       "      <td>NaN</td>\n",
       "      <td>835.0</td>\n",
       "    </tr>\n",
       "    <tr>\n",
       "      <th>sum</th>\n",
       "      <td>NaN</td>\n",
       "      <td>NaN</td>\n",
       "      <td>1405500.0</td>\n",
       "    </tr>\n",
       "  </tbody>\n",
       "</table>\n",
       "</div>"
      ],
      "text/plain": [
       "                                                    count       sum          0\n",
       "12.09.2 - Превышение скорости движения ТС от 20...  361.0  180500.0        NaN\n",
       "12.17 ч.1.2 - Движение или остановка на полосе ...  212.0  636000.0        NaN\n",
       "12.15.1 - Наруш.правил расп.т/с на пр.части без...   95.0  142500.0        NaN\n",
       "12.9.6 - Повторное превышение скорости на 40-60...   94.0  188000.0        NaN\n",
       "12.15.5 - Повторный выезд на сторону, предназна...   21.0  105000.0        NaN\n",
       "12.9.7 - Повторное превышение скорости на 60-80...   17.0   85000.0        NaN\n",
       "12.16.5 Нарушение, предусмотренное частью 4 нас...   15.0   45000.0        NaN\n",
       "12.16.1 - Несоблюдение требований знаков или ра...    8.0    4000.0        NaN\n",
       "12.09.3 - Превышение скорости движения ТС от 40...    7.0    7000.0        NaN\n",
       "12.19 ч.6 - Стоянка, остановка ТС на проезжей ч...    3.0    9000.0        NaN\n",
       "12.16.2 - Поворот налево или разворот в нарушен...    1.0    1000.0        NaN\n",
       "8.14.2  - Неуплата за размещение транспортного ...    1.0    2500.0        NaN\n",
       "count                                                 NaN       NaN      835.0\n",
       "sum                                                   NaN       NaN  1405500.0"
      ]
     },
     "execution_count": 156,
     "metadata": {},
     "output_type": "execute_result"
    }
   ],
   "source": [
    "pd.concat([summary, total])"
   ]
  },
  {
   "cell_type": "code",
   "execution_count": 157,
   "id": "342a39d0",
   "metadata": {},
   "outputs": [
    {
     "data": {
      "text/html": [
       "<div>\n",
       "<style scoped>\n",
       "    .dataframe tbody tr th:only-of-type {\n",
       "        vertical-align: middle;\n",
       "    }\n",
       "\n",
       "    .dataframe tbody tr th {\n",
       "        vertical-align: top;\n",
       "    }\n",
       "\n",
       "    .dataframe thead th {\n",
       "        text-align: right;\n",
       "    }\n",
       "</style>\n",
       "<table border=\"1\" class=\"dataframe\">\n",
       "  <thead>\n",
       "    <tr style=\"text-align: right;\">\n",
       "      <th></th>\n",
       "      <th>count</th>\n",
       "      <th>sum</th>\n",
       "      <th>0</th>\n",
       "    </tr>\n",
       "  </thead>\n",
       "  <tbody>\n",
       "    <tr>\n",
       "      <th>12.09.2 - Превышение скорости движения ТС от 20 до 40 км/ч</th>\n",
       "      <td>361.0</td>\n",
       "      <td>180500.0</td>\n",
       "      <td>NaN</td>\n",
       "    </tr>\n",
       "    <tr>\n",
       "      <th>12.17 ч.1.2 - Движение или остановка на полосе для маршрутных ТС в Москве или в Санкт-Петербурге</th>\n",
       "      <td>212.0</td>\n",
       "      <td>636000.0</td>\n",
       "      <td>NaN</td>\n",
       "    </tr>\n",
       "    <tr>\n",
       "      <th>12.15.1 - Наруш.правил расп.т/с на пр.части без выезда на ст.встр.движ.,дв.по обоч.,пересечение колонны</th>\n",
       "      <td>95.0</td>\n",
       "      <td>142500.0</td>\n",
       "      <td>NaN</td>\n",
       "    </tr>\n",
       "    <tr>\n",
       "      <th>12.9.6 - Повторное превышение скорости на 40-60 км/час</th>\n",
       "      <td>94.0</td>\n",
       "      <td>188000.0</td>\n",
       "      <td>NaN</td>\n",
       "    </tr>\n",
       "    <tr>\n",
       "      <th>12.15.5 - Повторный выезд на сторону, предназначенную для встречного движения</th>\n",
       "      <td>21.0</td>\n",
       "      <td>105000.0</td>\n",
       "      <td>NaN</td>\n",
       "    </tr>\n",
       "    <tr>\n",
       "      <th>12.9.7 - Повторное превышение скорости на 60-80 км/час и более 80 км/ч</th>\n",
       "      <td>17.0</td>\n",
       "      <td>85000.0</td>\n",
       "      <td>NaN</td>\n",
       "    </tr>\n",
       "    <tr>\n",
       "      <th>12.16.5 Нарушение, предусмотренное частью 4 настоящей статьи, совершенное в городе федерального значения Москве или Санкт-Петербурге</th>\n",
       "      <td>15.0</td>\n",
       "      <td>45000.0</td>\n",
       "      <td>NaN</td>\n",
       "    </tr>\n",
       "    <tr>\n",
       "      <th>12.16.1 - Несоблюдение требований знаков или разметки, за искл.случаев, предусм.др.статьями гл.12</th>\n",
       "      <td>8.0</td>\n",
       "      <td>4000.0</td>\n",
       "      <td>NaN</td>\n",
       "    </tr>\n",
       "    <tr>\n",
       "      <th>12.09.3 - Превышение скорости движения ТС от 40 до 60 км/ч</th>\n",
       "      <td>7.0</td>\n",
       "      <td>7000.0</td>\n",
       "      <td>NaN</td>\n",
       "    </tr>\n",
       "    <tr>\n",
       "      <th>12.19 ч.6 - Стоянка, остановка ТС на проезжей части, либо далее 1-й полосы в Москве или в Санкт-Петербурге</th>\n",
       "      <td>3.0</td>\n",
       "      <td>9000.0</td>\n",
       "      <td>NaN</td>\n",
       "    </tr>\n",
       "    <tr>\n",
       "      <th>12.16.2 - Поворот налево или разворот в нарушение знаков или разметки</th>\n",
       "      <td>1.0</td>\n",
       "      <td>1000.0</td>\n",
       "      <td>NaN</td>\n",
       "    </tr>\n",
       "    <tr>\n",
       "      <th>8.14.2  - Неуплата за размещение транспортного средства на платной городской парковке</th>\n",
       "      <td>1.0</td>\n",
       "      <td>2500.0</td>\n",
       "      <td>NaN</td>\n",
       "    </tr>\n",
       "    <tr>\n",
       "      <th>count</th>\n",
       "      <td>NaN</td>\n",
       "      <td>NaN</td>\n",
       "      <td>835.0</td>\n",
       "    </tr>\n",
       "    <tr>\n",
       "      <th>sum</th>\n",
       "      <td>NaN</td>\n",
       "      <td>NaN</td>\n",
       "      <td>1405500.0</td>\n",
       "    </tr>\n",
       "  </tbody>\n",
       "</table>\n",
       "</div>"
      ],
      "text/plain": [
       "                                                    count       sum          0\n",
       "12.09.2 - Превышение скорости движения ТС от 20...  361.0  180500.0        NaN\n",
       "12.17 ч.1.2 - Движение или остановка на полосе ...  212.0  636000.0        NaN\n",
       "12.15.1 - Наруш.правил расп.т/с на пр.части без...   95.0  142500.0        NaN\n",
       "12.9.6 - Повторное превышение скорости на 40-60...   94.0  188000.0        NaN\n",
       "12.15.5 - Повторный выезд на сторону, предназна...   21.0  105000.0        NaN\n",
       "12.9.7 - Повторное превышение скорости на 60-80...   17.0   85000.0        NaN\n",
       "12.16.5 Нарушение, предусмотренное частью 4 нас...   15.0   45000.0        NaN\n",
       "12.16.1 - Несоблюдение требований знаков или ра...    8.0    4000.0        NaN\n",
       "12.09.3 - Превышение скорости движения ТС от 40...    7.0    7000.0        NaN\n",
       "12.19 ч.6 - Стоянка, остановка ТС на проезжей ч...    3.0    9000.0        NaN\n",
       "12.16.2 - Поворот налево или разворот в нарушен...    1.0    1000.0        NaN\n",
       "8.14.2  - Неуплата за размещение транспортного ...    1.0    2500.0        NaN\n",
       "count                                                 NaN       NaN      835.0\n",
       "sum                                                   NaN       NaN  1405500.0"
      ]
     },
     "execution_count": 157,
     "metadata": {},
     "output_type": "execute_result"
    }
   ],
   "source": [
    "pd.concat([summary, total], join='outer')"
   ]
  },
  {
   "cell_type": "code",
   "execution_count": 158,
   "id": "e22fa7a6",
   "metadata": {},
   "outputs": [
    {
     "data": {
      "text/html": [
       "<div>\n",
       "<style scoped>\n",
       "    .dataframe tbody tr th:only-of-type {\n",
       "        vertical-align: middle;\n",
       "    }\n",
       "\n",
       "    .dataframe tbody tr th {\n",
       "        vertical-align: top;\n",
       "    }\n",
       "\n",
       "    .dataframe thead th {\n",
       "        text-align: right;\n",
       "    }\n",
       "</style>\n",
       "<table border=\"1\" class=\"dataframe\">\n",
       "  <thead>\n",
       "    <tr style=\"text-align: right;\">\n",
       "      <th></th>\n",
       "      <th>count</th>\n",
       "      <th>sum</th>\n",
       "    </tr>\n",
       "    <tr>\n",
       "      <th>Name</th>\n",
       "      <th></th>\n",
       "      <th></th>\n",
       "    </tr>\n",
       "  </thead>\n",
       "  <tbody>\n",
       "    <tr>\n",
       "      <th>12.09.2 - Превышение скорости движения ТС от 20 до 40 км/ч</th>\n",
       "      <td>361</td>\n",
       "      <td>180500</td>\n",
       "    </tr>\n",
       "    <tr>\n",
       "      <th>12.17 ч.1.2 - Движение или остановка на полосе для маршрутных ТС в Москве или в Санкт-Петербурге</th>\n",
       "      <td>212</td>\n",
       "      <td>636000</td>\n",
       "    </tr>\n",
       "    <tr>\n",
       "      <th>12.15.1 - Наруш.правил расп.т/с на пр.части без выезда на ст.встр.движ.,дв.по обоч.,пересечение колонны</th>\n",
       "      <td>95</td>\n",
       "      <td>142500</td>\n",
       "    </tr>\n",
       "    <tr>\n",
       "      <th>12.9.6 - Повторное превышение скорости на 40-60 км/час</th>\n",
       "      <td>94</td>\n",
       "      <td>188000</td>\n",
       "    </tr>\n",
       "    <tr>\n",
       "      <th>12.15.5 - Повторный выезд на сторону, предназначенную для встречного движения</th>\n",
       "      <td>21</td>\n",
       "      <td>105000</td>\n",
       "    </tr>\n",
       "    <tr>\n",
       "      <th>12.9.7 - Повторное превышение скорости на 60-80 км/час и более 80 км/ч</th>\n",
       "      <td>17</td>\n",
       "      <td>85000</td>\n",
       "    </tr>\n",
       "    <tr>\n",
       "      <th>12.16.5 Нарушение, предусмотренное частью 4 настоящей статьи, совершенное в городе федерального значения Москве или Санкт-Петербурге</th>\n",
       "      <td>15</td>\n",
       "      <td>45000</td>\n",
       "    </tr>\n",
       "    <tr>\n",
       "      <th>12.16.1 - Несоблюдение требований знаков или разметки, за искл.случаев, предусм.др.статьями гл.12</th>\n",
       "      <td>8</td>\n",
       "      <td>4000</td>\n",
       "    </tr>\n",
       "    <tr>\n",
       "      <th>12.09.3 - Превышение скорости движения ТС от 40 до 60 км/ч</th>\n",
       "      <td>7</td>\n",
       "      <td>7000</td>\n",
       "    </tr>\n",
       "    <tr>\n",
       "      <th>12.19 ч.6 - Стоянка, остановка ТС на проезжей части, либо далее 1-й полосы в Москве или в Санкт-Петербурге</th>\n",
       "      <td>3</td>\n",
       "      <td>9000</td>\n",
       "    </tr>\n",
       "    <tr>\n",
       "      <th>12.16.2 - Поворот налево или разворот в нарушение знаков или разметки</th>\n",
       "      <td>1</td>\n",
       "      <td>1000</td>\n",
       "    </tr>\n",
       "    <tr>\n",
       "      <th>8.14.2  - Неуплата за размещение транспортного средства на платной городской парковке</th>\n",
       "      <td>1</td>\n",
       "      <td>2500</td>\n",
       "    </tr>\n",
       "  </tbody>\n",
       "</table>\n",
       "</div>"
      ],
      "text/plain": [
       "                                                    count     sum\n",
       "Name                                                             \n",
       "12.09.2 - Превышение скорости движения ТС от 20...    361  180500\n",
       "12.17 ч.1.2 - Движение или остановка на полосе ...    212  636000\n",
       "12.15.1 - Наруш.правил расп.т/с на пр.части без...     95  142500\n",
       "12.9.6 - Повторное превышение скорости на 40-60...     94  188000\n",
       "12.15.5 - Повторный выезд на сторону, предназна...     21  105000\n",
       "12.9.7 - Повторное превышение скорости на 60-80...     17   85000\n",
       "12.16.5 Нарушение, предусмотренное частью 4 нас...     15   45000\n",
       "12.16.1 - Несоблюдение требований знаков или ра...      8    4000\n",
       "12.09.3 - Превышение скорости движения ТС от 40...      7    7000\n",
       "12.19 ч.6 - Стоянка, остановка ТС на проезжей ч...      3    9000\n",
       "12.16.2 - Поворот налево или разворот в нарушен...      1    1000\n",
       "8.14.2  - Неуплата за размещение транспортного ...      1    2500"
      ]
     },
     "execution_count": 158,
     "metadata": {},
     "output_type": "execute_result"
    }
   ],
   "source": [
    "summary"
   ]
  },
  {
   "cell_type": "code",
   "execution_count": 159,
   "id": "c71ac4c9",
   "metadata": {},
   "outputs": [
    {
     "data": {
      "text/html": [
       "<div>\n",
       "<style scoped>\n",
       "    .dataframe tbody tr th:only-of-type {\n",
       "        vertical-align: middle;\n",
       "    }\n",
       "\n",
       "    .dataframe tbody tr th {\n",
       "        vertical-align: top;\n",
       "    }\n",
       "\n",
       "    .dataframe thead th {\n",
       "        text-align: right;\n",
       "    }\n",
       "</style>\n",
       "<table border=\"1\" class=\"dataframe\">\n",
       "  <thead>\n",
       "    <tr style=\"text-align: right;\">\n",
       "      <th></th>\n",
       "      <th>count</th>\n",
       "      <th>sum</th>\n",
       "      <th>0</th>\n",
       "    </tr>\n",
       "  </thead>\n",
       "  <tbody>\n",
       "    <tr>\n",
       "      <th>12.09.2 - Превышение скорости движения ТС от 20 до 40 км/ч</th>\n",
       "      <td>361.0</td>\n",
       "      <td>180500.0</td>\n",
       "      <td>NaN</td>\n",
       "    </tr>\n",
       "    <tr>\n",
       "      <th>12.17 ч.1.2 - Движение или остановка на полосе для маршрутных ТС в Москве или в Санкт-Петербурге</th>\n",
       "      <td>212.0</td>\n",
       "      <td>636000.0</td>\n",
       "      <td>NaN</td>\n",
       "    </tr>\n",
       "    <tr>\n",
       "      <th>12.15.1 - Наруш.правил расп.т/с на пр.части без выезда на ст.встр.движ.,дв.по обоч.,пересечение колонны</th>\n",
       "      <td>95.0</td>\n",
       "      <td>142500.0</td>\n",
       "      <td>NaN</td>\n",
       "    </tr>\n",
       "    <tr>\n",
       "      <th>12.9.6 - Повторное превышение скорости на 40-60 км/час</th>\n",
       "      <td>94.0</td>\n",
       "      <td>188000.0</td>\n",
       "      <td>NaN</td>\n",
       "    </tr>\n",
       "    <tr>\n",
       "      <th>12.15.5 - Повторный выезд на сторону, предназначенную для встречного движения</th>\n",
       "      <td>21.0</td>\n",
       "      <td>105000.0</td>\n",
       "      <td>NaN</td>\n",
       "    </tr>\n",
       "    <tr>\n",
       "      <th>12.9.7 - Повторное превышение скорости на 60-80 км/час и более 80 км/ч</th>\n",
       "      <td>17.0</td>\n",
       "      <td>85000.0</td>\n",
       "      <td>NaN</td>\n",
       "    </tr>\n",
       "    <tr>\n",
       "      <th>12.16.5 Нарушение, предусмотренное частью 4 настоящей статьи, совершенное в городе федерального значения Москве или Санкт-Петербурге</th>\n",
       "      <td>15.0</td>\n",
       "      <td>45000.0</td>\n",
       "      <td>NaN</td>\n",
       "    </tr>\n",
       "    <tr>\n",
       "      <th>12.16.1 - Несоблюдение требований знаков или разметки, за искл.случаев, предусм.др.статьями гл.12</th>\n",
       "      <td>8.0</td>\n",
       "      <td>4000.0</td>\n",
       "      <td>NaN</td>\n",
       "    </tr>\n",
       "    <tr>\n",
       "      <th>12.09.3 - Превышение скорости движения ТС от 40 до 60 км/ч</th>\n",
       "      <td>7.0</td>\n",
       "      <td>7000.0</td>\n",
       "      <td>NaN</td>\n",
       "    </tr>\n",
       "    <tr>\n",
       "      <th>12.19 ч.6 - Стоянка, остановка ТС на проезжей части, либо далее 1-й полосы в Москве или в Санкт-Петербурге</th>\n",
       "      <td>3.0</td>\n",
       "      <td>9000.0</td>\n",
       "      <td>NaN</td>\n",
       "    </tr>\n",
       "    <tr>\n",
       "      <th>12.16.2 - Поворот налево или разворот в нарушение знаков или разметки</th>\n",
       "      <td>1.0</td>\n",
       "      <td>1000.0</td>\n",
       "      <td>NaN</td>\n",
       "    </tr>\n",
       "    <tr>\n",
       "      <th>8.14.2  - Неуплата за размещение транспортного средства на платной городской парковке</th>\n",
       "      <td>1.0</td>\n",
       "      <td>2500.0</td>\n",
       "      <td>NaN</td>\n",
       "    </tr>\n",
       "    <tr>\n",
       "      <th>count</th>\n",
       "      <td>NaN</td>\n",
       "      <td>NaN</td>\n",
       "      <td>835.0</td>\n",
       "    </tr>\n",
       "    <tr>\n",
       "      <th>sum</th>\n",
       "      <td>NaN</td>\n",
       "      <td>NaN</td>\n",
       "      <td>1405500.0</td>\n",
       "    </tr>\n",
       "  </tbody>\n",
       "</table>\n",
       "</div>"
      ],
      "text/plain": [
       "                                                    count       sum          0\n",
       "12.09.2 - Превышение скорости движения ТС от 20...  361.0  180500.0        NaN\n",
       "12.17 ч.1.2 - Движение или остановка на полосе ...  212.0  636000.0        NaN\n",
       "12.15.1 - Наруш.правил расп.т/с на пр.части без...   95.0  142500.0        NaN\n",
       "12.9.6 - Повторное превышение скорости на 40-60...   94.0  188000.0        NaN\n",
       "12.15.5 - Повторный выезд на сторону, предназна...   21.0  105000.0        NaN\n",
       "12.9.7 - Повторное превышение скорости на 60-80...   17.0   85000.0        NaN\n",
       "12.16.5 Нарушение, предусмотренное частью 4 нас...   15.0   45000.0        NaN\n",
       "12.16.1 - Несоблюдение требований знаков или ра...    8.0    4000.0        NaN\n",
       "12.09.3 - Превышение скорости движения ТС от 40...    7.0    7000.0        NaN\n",
       "12.19 ч.6 - Стоянка, остановка ТС на проезжей ч...    3.0    9000.0        NaN\n",
       "12.16.2 - Поворот налево или разворот в нарушен...    1.0    1000.0        NaN\n",
       "8.14.2  - Неуплата за размещение транспортного ...    1.0    2500.0        NaN\n",
       "count                                                 NaN       NaN      835.0\n",
       "sum                                                   NaN       NaN  1405500.0"
      ]
     },
     "execution_count": 159,
     "metadata": {},
     "output_type": "execute_result"
    }
   ],
   "source": [
    "pd.concat([summary, total], names=['count', 'sum'])"
   ]
  },
  {
   "cell_type": "code",
   "execution_count": 160,
   "id": "5cf6a1ee",
   "metadata": {},
   "outputs": [
    {
     "data": {
      "text/html": [
       "<div>\n",
       "<style scoped>\n",
       "    .dataframe tbody tr th:only-of-type {\n",
       "        vertical-align: middle;\n",
       "    }\n",
       "\n",
       "    .dataframe tbody tr th {\n",
       "        vertical-align: top;\n",
       "    }\n",
       "\n",
       "    .dataframe thead th {\n",
       "        text-align: right;\n",
       "    }\n",
       "</style>\n",
       "<table border=\"1\" class=\"dataframe\">\n",
       "  <thead>\n",
       "    <tr style=\"text-align: right;\">\n",
       "      <th></th>\n",
       "      <th></th>\n",
       "      <th>count</th>\n",
       "      <th>sum</th>\n",
       "      <th>0</th>\n",
       "    </tr>\n",
       "  </thead>\n",
       "  <tbody>\n",
       "    <tr>\n",
       "      <th rowspan=\"12\" valign=\"top\">sum</th>\n",
       "      <th>12.09.2 - Превышение скорости движения ТС от 20 до 40 км/ч</th>\n",
       "      <td>361.0</td>\n",
       "      <td>180500.0</td>\n",
       "      <td>NaN</td>\n",
       "    </tr>\n",
       "    <tr>\n",
       "      <th>12.17 ч.1.2 - Движение или остановка на полосе для маршрутных ТС в Москве или в Санкт-Петербурге</th>\n",
       "      <td>212.0</td>\n",
       "      <td>636000.0</td>\n",
       "      <td>NaN</td>\n",
       "    </tr>\n",
       "    <tr>\n",
       "      <th>12.15.1 - Наруш.правил расп.т/с на пр.части без выезда на ст.встр.движ.,дв.по обоч.,пересечение колонны</th>\n",
       "      <td>95.0</td>\n",
       "      <td>142500.0</td>\n",
       "      <td>NaN</td>\n",
       "    </tr>\n",
       "    <tr>\n",
       "      <th>12.9.6 - Повторное превышение скорости на 40-60 км/час</th>\n",
       "      <td>94.0</td>\n",
       "      <td>188000.0</td>\n",
       "      <td>NaN</td>\n",
       "    </tr>\n",
       "    <tr>\n",
       "      <th>12.15.5 - Повторный выезд на сторону, предназначенную для встречного движения</th>\n",
       "      <td>21.0</td>\n",
       "      <td>105000.0</td>\n",
       "      <td>NaN</td>\n",
       "    </tr>\n",
       "    <tr>\n",
       "      <th>12.9.7 - Повторное превышение скорости на 60-80 км/час и более 80 км/ч</th>\n",
       "      <td>17.0</td>\n",
       "      <td>85000.0</td>\n",
       "      <td>NaN</td>\n",
       "    </tr>\n",
       "    <tr>\n",
       "      <th>12.16.5 Нарушение, предусмотренное частью 4 настоящей статьи, совершенное в городе федерального значения Москве или Санкт-Петербурге</th>\n",
       "      <td>15.0</td>\n",
       "      <td>45000.0</td>\n",
       "      <td>NaN</td>\n",
       "    </tr>\n",
       "    <tr>\n",
       "      <th>12.16.1 - Несоблюдение требований знаков или разметки, за искл.случаев, предусм.др.статьями гл.12</th>\n",
       "      <td>8.0</td>\n",
       "      <td>4000.0</td>\n",
       "      <td>NaN</td>\n",
       "    </tr>\n",
       "    <tr>\n",
       "      <th>12.09.3 - Превышение скорости движения ТС от 40 до 60 км/ч</th>\n",
       "      <td>7.0</td>\n",
       "      <td>7000.0</td>\n",
       "      <td>NaN</td>\n",
       "    </tr>\n",
       "    <tr>\n",
       "      <th>12.19 ч.6 - Стоянка, остановка ТС на проезжей части, либо далее 1-й полосы в Москве или в Санкт-Петербурге</th>\n",
       "      <td>3.0</td>\n",
       "      <td>9000.0</td>\n",
       "      <td>NaN</td>\n",
       "    </tr>\n",
       "    <tr>\n",
       "      <th>12.16.2 - Поворот налево или разворот в нарушение знаков или разметки</th>\n",
       "      <td>1.0</td>\n",
       "      <td>1000.0</td>\n",
       "      <td>NaN</td>\n",
       "    </tr>\n",
       "    <tr>\n",
       "      <th>8.14.2  - Неуплата за размещение транспортного средства на платной городской парковке</th>\n",
       "      <td>1.0</td>\n",
       "      <td>2500.0</td>\n",
       "      <td>NaN</td>\n",
       "    </tr>\n",
       "    <tr>\n",
       "      <th rowspan=\"2\" valign=\"top\">count</th>\n",
       "      <th>count</th>\n",
       "      <td>NaN</td>\n",
       "      <td>NaN</td>\n",
       "      <td>835.0</td>\n",
       "    </tr>\n",
       "    <tr>\n",
       "      <th>sum</th>\n",
       "      <td>NaN</td>\n",
       "      <td>NaN</td>\n",
       "      <td>1405500.0</td>\n",
       "    </tr>\n",
       "  </tbody>\n",
       "</table>\n",
       "</div>"
      ],
      "text/plain": [
       "                                                          count       sum  \\\n",
       "sum   12.09.2 - Превышение скорости движения ТС от 20...  361.0  180500.0   \n",
       "      12.17 ч.1.2 - Движение или остановка на полосе ...  212.0  636000.0   \n",
       "      12.15.1 - Наруш.правил расп.т/с на пр.части без...   95.0  142500.0   \n",
       "      12.9.6 - Повторное превышение скорости на 40-60...   94.0  188000.0   \n",
       "      12.15.5 - Повторный выезд на сторону, предназна...   21.0  105000.0   \n",
       "      12.9.7 - Повторное превышение скорости на 60-80...   17.0   85000.0   \n",
       "      12.16.5 Нарушение, предусмотренное частью 4 нас...   15.0   45000.0   \n",
       "      12.16.1 - Несоблюдение требований знаков или ра...    8.0    4000.0   \n",
       "      12.09.3 - Превышение скорости движения ТС от 40...    7.0    7000.0   \n",
       "      12.19 ч.6 - Стоянка, остановка ТС на проезжей ч...    3.0    9000.0   \n",
       "      12.16.2 - Поворот налево или разворот в нарушен...    1.0    1000.0   \n",
       "      8.14.2  - Неуплата за размещение транспортного ...    1.0    2500.0   \n",
       "count count                                                 NaN       NaN   \n",
       "      sum                                                   NaN       NaN   \n",
       "\n",
       "                                                                  0  \n",
       "sum   12.09.2 - Превышение скорости движения ТС от 20...        NaN  \n",
       "      12.17 ч.1.2 - Движение или остановка на полосе ...        NaN  \n",
       "      12.15.1 - Наруш.правил расп.т/с на пр.части без...        NaN  \n",
       "      12.9.6 - Повторное превышение скорости на 40-60...        NaN  \n",
       "      12.15.5 - Повторный выезд на сторону, предназна...        NaN  \n",
       "      12.9.7 - Повторное превышение скорости на 60-80...        NaN  \n",
       "      12.16.5 Нарушение, предусмотренное частью 4 нас...        NaN  \n",
       "      12.16.1 - Несоблюдение требований знаков или ра...        NaN  \n",
       "      12.09.3 - Превышение скорости движения ТС от 40...        NaN  \n",
       "      12.19 ч.6 - Стоянка, остановка ТС на проезжей ч...        NaN  \n",
       "      12.16.2 - Поворот налево или разворот в нарушен...        NaN  \n",
       "      8.14.2  - Неуплата за размещение транспортного ...        NaN  \n",
       "count count                                                   835.0  \n",
       "      sum                                                 1405500.0  "
      ]
     },
     "execution_count": 160,
     "metadata": {},
     "output_type": "execute_result"
    }
   ],
   "source": [
    "pd.concat([summary, total], keys=['sum', 'count'])"
   ]
  },
  {
   "cell_type": "code",
   "execution_count": 161,
   "id": "0cbd6595",
   "metadata": {},
   "outputs": [
    {
     "data": {
      "text/plain": [
       "count        835\n",
       "sum      1405500\n",
       "Name: Full summary, dtype: int64"
      ]
     },
     "execution_count": 161,
     "metadata": {},
     "output_type": "execute_result"
    }
   ],
   "source": [
    "total"
   ]
  },
  {
   "cell_type": "code",
   "execution_count": 162,
   "id": "9a5ba5ce",
   "metadata": {},
   "outputs": [
    {
     "data": {
      "text/html": [
       "<div>\n",
       "<style scoped>\n",
       "    .dataframe tbody tr th:only-of-type {\n",
       "        vertical-align: middle;\n",
       "    }\n",
       "\n",
       "    .dataframe tbody tr th {\n",
       "        vertical-align: top;\n",
       "    }\n",
       "\n",
       "    .dataframe thead th {\n",
       "        text-align: right;\n",
       "    }\n",
       "</style>\n",
       "<table border=\"1\" class=\"dataframe\">\n",
       "  <thead>\n",
       "    <tr style=\"text-align: right;\">\n",
       "      <th></th>\n",
       "      <th>Full summary</th>\n",
       "    </tr>\n",
       "  </thead>\n",
       "  <tbody>\n",
       "    <tr>\n",
       "      <th>count</th>\n",
       "      <td>835</td>\n",
       "    </tr>\n",
       "    <tr>\n",
       "      <th>sum</th>\n",
       "      <td>1405500</td>\n",
       "    </tr>\n",
       "  </tbody>\n",
       "</table>\n",
       "</div>"
      ],
      "text/plain": [
       "       Full summary\n",
       "count           835\n",
       "sum         1405500"
      ]
     },
     "execution_count": 162,
     "metadata": {},
     "output_type": "execute_result"
    }
   ],
   "source": [
    "total.to_frame()"
   ]
  },
  {
   "cell_type": "code",
   "execution_count": 163,
   "id": "a6056f16",
   "metadata": {},
   "outputs": [
    {
     "data": {
      "text/html": [
       "<div>\n",
       "<style scoped>\n",
       "    .dataframe tbody tr th:only-of-type {\n",
       "        vertical-align: middle;\n",
       "    }\n",
       "\n",
       "    .dataframe tbody tr th {\n",
       "        vertical-align: top;\n",
       "    }\n",
       "\n",
       "    .dataframe thead th {\n",
       "        text-align: right;\n",
       "    }\n",
       "</style>\n",
       "<table border=\"1\" class=\"dataframe\">\n",
       "  <thead>\n",
       "    <tr style=\"text-align: right;\">\n",
       "      <th></th>\n",
       "      <th>count</th>\n",
       "      <th>sum</th>\n",
       "    </tr>\n",
       "  </thead>\n",
       "  <tbody>\n",
       "    <tr>\n",
       "      <th>Full summary</th>\n",
       "      <td>835</td>\n",
       "      <td>1405500</td>\n",
       "    </tr>\n",
       "  </tbody>\n",
       "</table>\n",
       "</div>"
      ],
      "text/plain": [
       "              count      sum\n",
       "Full summary    835  1405500"
      ]
     },
     "execution_count": 163,
     "metadata": {},
     "output_type": "execute_result"
    }
   ],
   "source": [
    "total.to_frame().T"
   ]
  },
  {
   "cell_type": "code",
   "execution_count": 164,
   "id": "11a36240",
   "metadata": {},
   "outputs": [
    {
     "data": {
      "text/html": [
       "<div>\n",
       "<style scoped>\n",
       "    .dataframe tbody tr th:only-of-type {\n",
       "        vertical-align: middle;\n",
       "    }\n",
       "\n",
       "    .dataframe tbody tr th {\n",
       "        vertical-align: top;\n",
       "    }\n",
       "\n",
       "    .dataframe thead th {\n",
       "        text-align: right;\n",
       "    }\n",
       "</style>\n",
       "<table border=\"1\" class=\"dataframe\">\n",
       "  <thead>\n",
       "    <tr style=\"text-align: right;\">\n",
       "      <th></th>\n",
       "      <th>count</th>\n",
       "      <th>sum</th>\n",
       "    </tr>\n",
       "  </thead>\n",
       "  <tbody>\n",
       "    <tr>\n",
       "      <th>12.09.2 - Превышение скорости движения ТС от 20 до 40 км/ч</th>\n",
       "      <td>361</td>\n",
       "      <td>180500</td>\n",
       "    </tr>\n",
       "    <tr>\n",
       "      <th>12.17 ч.1.2 - Движение или остановка на полосе для маршрутных ТС в Москве или в Санкт-Петербурге</th>\n",
       "      <td>212</td>\n",
       "      <td>636000</td>\n",
       "    </tr>\n",
       "    <tr>\n",
       "      <th>12.15.1 - Наруш.правил расп.т/с на пр.части без выезда на ст.встр.движ.,дв.по обоч.,пересечение колонны</th>\n",
       "      <td>95</td>\n",
       "      <td>142500</td>\n",
       "    </tr>\n",
       "    <tr>\n",
       "      <th>12.9.6 - Повторное превышение скорости на 40-60 км/час</th>\n",
       "      <td>94</td>\n",
       "      <td>188000</td>\n",
       "    </tr>\n",
       "    <tr>\n",
       "      <th>12.15.5 - Повторный выезд на сторону, предназначенную для встречного движения</th>\n",
       "      <td>21</td>\n",
       "      <td>105000</td>\n",
       "    </tr>\n",
       "    <tr>\n",
       "      <th>12.9.7 - Повторное превышение скорости на 60-80 км/час и более 80 км/ч</th>\n",
       "      <td>17</td>\n",
       "      <td>85000</td>\n",
       "    </tr>\n",
       "    <tr>\n",
       "      <th>12.16.5 Нарушение, предусмотренное частью 4 настоящей статьи, совершенное в городе федерального значения Москве или Санкт-Петербурге</th>\n",
       "      <td>15</td>\n",
       "      <td>45000</td>\n",
       "    </tr>\n",
       "    <tr>\n",
       "      <th>12.16.1 - Несоблюдение требований знаков или разметки, за искл.случаев, предусм.др.статьями гл.12</th>\n",
       "      <td>8</td>\n",
       "      <td>4000</td>\n",
       "    </tr>\n",
       "    <tr>\n",
       "      <th>12.09.3 - Превышение скорости движения ТС от 40 до 60 км/ч</th>\n",
       "      <td>7</td>\n",
       "      <td>7000</td>\n",
       "    </tr>\n",
       "    <tr>\n",
       "      <th>12.19 ч.6 - Стоянка, остановка ТС на проезжей части, либо далее 1-й полосы в Москве или в Санкт-Петербурге</th>\n",
       "      <td>3</td>\n",
       "      <td>9000</td>\n",
       "    </tr>\n",
       "    <tr>\n",
       "      <th>12.16.2 - Поворот налево или разворот в нарушение знаков или разметки</th>\n",
       "      <td>1</td>\n",
       "      <td>1000</td>\n",
       "    </tr>\n",
       "    <tr>\n",
       "      <th>8.14.2  - Неуплата за размещение транспортного средства на платной городской парковке</th>\n",
       "      <td>1</td>\n",
       "      <td>2500</td>\n",
       "    </tr>\n",
       "    <tr>\n",
       "      <th>Full summary</th>\n",
       "      <td>835</td>\n",
       "      <td>1405500</td>\n",
       "    </tr>\n",
       "  </tbody>\n",
       "</table>\n",
       "</div>"
      ],
      "text/plain": [
       "                                                    count      sum\n",
       "12.09.2 - Превышение скорости движения ТС от 20...    361   180500\n",
       "12.17 ч.1.2 - Движение или остановка на полосе ...    212   636000\n",
       "12.15.1 - Наруш.правил расп.т/с на пр.части без...     95   142500\n",
       "12.9.6 - Повторное превышение скорости на 40-60...     94   188000\n",
       "12.15.5 - Повторный выезд на сторону, предназна...     21   105000\n",
       "12.9.7 - Повторное превышение скорости на 60-80...     17    85000\n",
       "12.16.5 Нарушение, предусмотренное частью 4 нас...     15    45000\n",
       "12.16.1 - Несоблюдение требований знаков или ра...      8     4000\n",
       "12.09.3 - Превышение скорости движения ТС от 40...      7     7000\n",
       "12.19 ч.6 - Стоянка, остановка ТС на проезжей ч...      3     9000\n",
       "12.16.2 - Поворот налево или разворот в нарушен...      1     1000\n",
       "8.14.2  - Неуплата за размещение транспортного ...      1     2500\n",
       "Full summary                                          835  1405500"
      ]
     },
     "execution_count": 164,
     "metadata": {},
     "output_type": "execute_result"
    }
   ],
   "source": [
    "pd.concat([summary, total.to_frame().T])"
   ]
  }
 ],
 "metadata": {
  "kernelspec": {
   "display_name": "Python 3 (ipykernel)",
   "language": "python",
   "name": "python3"
  },
  "language_info": {
   "codemirror_mode": {
    "name": "ipython",
    "version": 3
   },
   "file_extension": ".py",
   "mimetype": "text/x-python",
   "name": "python",
   "nbconvert_exporter": "python",
   "pygments_lexer": "ipython3",
   "version": "3.10.4"
  }
 },
 "nbformat": 4,
 "nbformat_minor": 5
}
