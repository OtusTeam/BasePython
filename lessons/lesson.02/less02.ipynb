{
 "cells": [
  {
   "cell_type": "code",
   "execution_count": 3,
   "id": "initial_id",
   "metadata": {
    "ExecuteTime": {
     "end_time": "2023-09-06T16:46:45.889588559Z",
     "start_time": "2023-09-06T16:46:45.883437659Z"
    }
   },
   "outputs": [],
   "source": []
  },
  {
   "cell_type": "code",
   "execution_count": 39,
   "id": "0854141f-ebbb-4b6c-9568-d41ddbc034fe",
   "metadata": {},
   "outputs": [
    {
     "name": "stdout",
     "output_type": "stream",
     "text": [
      "4\n",
      "x=3\n",
      "END\n"
     ]
    }
   ],
   "source": [
    "x = 3\n",
    "y = 3\n",
    "age = 30\n",
    "if 0 < age < 10:\n",
    "    print('1')\n",
    "elif age < 20:\n",
    "    print('2')\n",
    "elif age < 30:\n",
    "    print('3')\n",
    "elif age < 40:\n",
    "    print('4')\n",
    "    if x == 3:\n",
    "        print('x=3')\n",
    "    else:\n",
    "        print('x!=3')\n",
    "        \n",
    "else:\n",
    "    print('NO')\n",
    "\n",
    "    \n",
    "print('END')"
   ]
  },
  {
   "cell_type": "markdown",
   "id": "5455b4dd-aab6-4582-bc53-fbef9e39c20c",
   "metadata": {},
   "source": [
    "Циклы"
   ]
  },
  {
   "cell_type": "code",
   "execution_count": 53,
   "id": "94f1e07c-ab07-4c5f-9c35-43018515ecc2",
   "metadata": {},
   "outputs": [
    {
     "name": "stdout",
     "output_type": "stream",
     "text": [
      "1111\n",
      "Итоговое значение 0\n"
     ]
    }
   ],
   "source": [
    "x = 0\n",
    "count = 5\n",
    "while count < 0:\n",
    "    x = x + 3\n",
    "    \n",
    "    count -= 1\n",
    "    if count == 3:\n",
    "        break\n",
    "    print(f'{count} - {x}')\n",
    "else:\n",
    "    print(1111)\n",
    "\n",
    "print(f'Итоговое значение {x}')"
   ]
  },
  {
   "cell_type": "markdown",
   "id": "190fc7ba-c6e1-467e-8112-f1be3180f388",
   "metadata": {},
   "source": [
    "Цикл for"
   ]
  },
  {
   "cell_type": "code",
   "execution_count": 58,
   "id": "9fe21e68-0428-437e-8333-a552a11c3755",
   "metadata": {},
   "outputs": [
    {
     "name": "stdout",
     "output_type": "stream",
     "text": [
      "1\n",
      "7\n",
      "3\n",
      "4\n",
      "5\n",
      "121\n",
      "trgb\n",
      "True\n",
      "[1, 7, 3, 4, 5, 121, 'trgb', True]\n"
     ]
    }
   ],
   "source": [
    "my_list = [1, 7, 3, 4, 5, 121, \"trgb\", True ]\n",
    "for item in my_list:\n",
    "    print(item)\n",
    "    item = 111\n",
    "print(my_list)"
   ]
  },
  {
   "cell_type": "code",
   "execution_count": 69,
   "id": "cfa7d627-5cf5-4a74-b059-30349e3e32c6",
   "metadata": {},
   "outputs": [
    {
     "name": "stdout",
     "output_type": "stream",
     "text": [
      "10 9 8 7 6 5 4 3 2 1 0 -1\n"
     ]
    }
   ],
   "source": [
    "nums = range(10, -2, -1)\n",
    "print(*nums)"
   ]
  },
  {
   "cell_type": "code",
   "execution_count": 73,
   "id": "2b7d58c4-b3ca-4694-8ccf-334aa704f44b",
   "metadata": {},
   "outputs": [
    {
     "name": "stdout",
     "output_type": "stream",
     "text": [
      "0 - 1\n",
      "1 - 7\n",
      "2 - 3\n",
      "3 - 4\n",
      "4 - 5\n",
      "5 - 121\n",
      "6 - trgb\n",
      "7 - True\n",
      "[111, 111, 111, 111, 111, 111, 111, 111]\n"
     ]
    }
   ],
   "source": [
    "my_list = [1, 7, 3, 4, 5, 121, \"trgb\", True ]\n",
    "for i in range(len(my_list)):\n",
    "    print(f'{i} - {my_list[i]}')\n",
    "    my_list[i] = 111\n",
    "\n",
    "print(my_list)"
   ]
  },
  {
   "cell_type": "code",
   "execution_count": 76,
   "id": "0b25faef-c38b-49e0-add1-8be8cf57b1bb",
   "metadata": {},
   "outputs": [
    {
     "name": "stdout",
     "output_type": "stream",
     "text": [
      "(1120, 1)\n",
      "(1121, 7)\n",
      "(1122, 3)\n",
      "(1123, 4)\n",
      "(1124, 5)\n",
      "(1125, 121)\n",
      "(1126, 'trgb')\n",
      "(1127, True)\n",
      "[1, 7, 3, 4, 5, 121, 'trgb', True]\n"
     ]
    }
   ],
   "source": [
    "my_list = [1, 7, 3, 4, 5, 121, \"trgb\", True ]\n",
    "for item in enumerate(my_list, start = 1120):\n",
    "    #print(f'{i} - {my_list[i-1]}')\n",
    "    # my_list[i] = 111\n",
    "    print(item)\n",
    "\n",
    "print(my_list)"
   ]
  },
  {
   "cell_type": "code",
   "execution_count": 77,
   "id": "d7f734c6-0489-4969-b74a-2443c88ac22e",
   "metadata": {},
   "outputs": [
    {
     "name": "stdout",
     "output_type": "stream",
     "text": [
      "Привет, Боб\n"
     ]
    }
   ],
   "source": [
    "print('Привет, Боб')"
   ]
  },
  {
   "cell_type": "code",
   "execution_count": 78,
   "id": "2e374604-d69f-4e94-94af-90cb60a6ad62",
   "metadata": {},
   "outputs": [
    {
     "name": "stdout",
     "output_type": "stream",
     "text": [
      "Привет, Боб\n",
      "Привет, Боб\n",
      "Привет, Боб\n"
     ]
    }
   ],
   "source": [
    "print('Привет, Боб')\n",
    "print('Привет, Боб')\n",
    "print('Привет, Боб')"
   ]
  },
  {
   "cell_type": "code",
   "execution_count": 90,
   "id": "aab86eb4-62e3-4d71-96bb-cf4f39207cca",
   "metadata": {},
   "outputs": [
    {
     "name": "stdout",
     "output_type": "stream",
     "text": [
      "Привет, Ann\n",
      "None\n",
      "Привет, Ann\n",
      "Привет, Ann\n",
      "Привет, Ann\n",
      "Привет, Ann\n"
     ]
    }
   ],
   "source": [
    "def greet1():\n",
    "    print('Привет, Ann')\n",
    "    \n",
    "print(greet1())\n",
    "greet1()\n",
    "greet1()\n",
    "greet1()\n",
    "greet1()"
   ]
  },
  {
   "cell_type": "code",
   "execution_count": 96,
   "id": "43e1cba2-de9a-41ab-89f6-aecb187a8145",
   "metadata": {},
   "outputs": [
    {
     "name": "stdout",
     "output_type": "stream",
     "text": [
      "Привет, Bob Bob2\n",
      "Привет, Ann Bob3\n",
      "Привет, John Bob4\n"
     ]
    }
   ],
   "source": [
    "def greet2(name1: str, name2) -> None:\n",
    "    print(f'Привет, {name1} {name2}')\n",
    "\n",
    "greet2('Bob', 'Bob2')\n",
    "greet2('Ann', 'Bob3')\n",
    "greet2('John', 'Bob4')\n"
   ]
  },
  {
   "cell_type": "code",
   "execution_count": 102,
   "id": "8ff59247-4f4b-43e3-87fb-05326c8781d1",
   "metadata": {},
   "outputs": [
    {
     "name": "stdout",
     "output_type": "stream",
     "text": [
      "list[34, 22, 12]\n"
     ]
    }
   ],
   "source": [
    "def greet3(num1, num2):\n",
    "    if num1 > num2:\n",
    "        result = num1 + num2\n",
    "        return list[result, num1, num2]\n",
    "    else:\n",
    "        result = num2 - num1\n",
    "    return result\n",
    "\n",
    "print(greet3(22, 12))\n",
    "\n"
   ]
  },
  {
   "cell_type": "code",
   "execution_count": 113,
   "id": "808f4bc3-62f2-4b2c-844c-f9c02529f11d",
   "metadata": {},
   "outputs": [
    {
     "name": "stdout",
     "output_type": "stream",
     "text": [
      "list[29, 22, 7]\n"
     ]
    }
   ],
   "source": [
    "NUMBER = 7\n",
    "def greet4(num1, num2=NUMBER):\n",
    "    if num1 > num2:\n",
    "        result = num1 + num2\n",
    "        return list[result, num1, num2]\n",
    "    else:\n",
    "        result = num2 - num1\n",
    "    return result\n",
    "\n",
    "print(greet4(22))"
   ]
  },
  {
   "cell_type": "code",
   "execution_count": 116,
   "id": "f3c2f5c2-815f-4141-9fc0-8b1dabfa5dd5",
   "metadata": {},
   "outputs": [
    {
     "name": "stdout",
     "output_type": "stream",
     "text": [
      "5\n"
     ]
    }
   ],
   "source": [
    "def greet5(num1, num2):\n",
    "    if num1 > num2:\n",
    "        result = num1 + num2\n",
    "        return list[result, num1, num2]\n",
    "    else:\n",
    "        result = num2 - num1\n",
    "    return result\n",
    "\n",
    "print(greet5(num2=22, num1=17))"
   ]
  },
  {
   "cell_type": "code",
   "execution_count": 124,
   "id": "30c49730-2c44-427a-a06d-101335aaf859",
   "metadata": {},
   "outputs": [
    {
     "name": "stdout",
     "output_type": "stream",
     "text": [
      "1\n",
      "2 3 4 5 7\n"
     ]
    }
   ],
   "source": [
    "def greet6(num1, *args):\n",
    "    print(num1)\n",
    "    return args\n",
    "\n",
    "print(*greet6(1, 2, 3, 4, 5, 7))"
   ]
  },
  {
   "cell_type": "code",
   "execution_count": 128,
   "id": "5a92a1d9-f09c-4e37-8d5a-f3892996a0f3",
   "metadata": {},
   "outputs": [
    {
     "name": "stdout",
     "output_type": "stream",
     "text": [
      "({'num1': 1},)\n",
      "{'num2': 3, 'num5': 7}\n"
     ]
    }
   ],
   "source": [
    "def greet7(*args, **kwargs):\n",
    "    print(args)\n",
    "    return kwargs\n",
    "\n",
    "print(greet7({'num1':1}, num2=3, num5=7))"
   ]
  },
  {
   "cell_type": "code",
   "execution_count": 131,
   "id": "23f2c878-e458-4549-8059-0fa9b04ab1c5",
   "metadata": {},
   "outputs": [
    {
     "name": "stdout",
     "output_type": "stream",
     "text": [
      "[1, 2, 3]\n"
     ]
    }
   ],
   "source": [
    "my_list1 = ['1', '2', '3']\n",
    "res = list(map(int, my_list1))\n",
    "print(res)"
   ]
  },
  {
   "cell_type": "code",
   "execution_count": 132,
   "id": "3bde5231-9217-4064-b375-a7fd8aaa6a63",
   "metadata": {},
   "outputs": [
    {
     "name": "stdout",
     "output_type": "stream",
     "text": [
      "<filter object at 0x7f82b03dab60>\n"
     ]
    }
   ],
   "source": [
    "my_list2 = [10, 7, 15]\n",
    "res = filter(lambda x: x > 9, my_list2)\n",
    "print(res)"
   ]
  },
  {
   "cell_type": "code",
   "execution_count": 134,
   "id": "917a9144-2819-405f-b363-1d12933b50d4",
   "metadata": {},
   "outputs": [
    {
     "name": "stdout",
     "output_type": "stream",
     "text": [
      "[10, 15]\n"
     ]
    }
   ],
   "source": [
    "my_list2 = [10, 7, 15]\n",
    "res = list(filter(lambda x: x > 9, my_list2))\n",
    "print(res)"
   ]
  },
  {
   "cell_type": "code",
   "execution_count": 135,
   "id": "dece6051-8934-4f04-8fd2-e81e2b765199",
   "metadata": {},
   "outputs": [
    {
     "name": "stdout",
     "output_type": "stream",
     "text": [
      "[10, 15]\n"
     ]
    }
   ],
   "source": [
    "def my_func(x):\n",
    "    return x > 9\n",
    "\n",
    "my_list3 = [10, 7, 15]\n",
    "res = list(filter(my_func, my_list3))\n",
    "print(res)"
   ]
  },
  {
   "cell_type": "code",
   "execution_count": null,
   "id": "52c82e8d-57f3-4a8d-a6aa-2e6ed95b688f",
   "metadata": {},
   "outputs": [],
   "source": []
  }
 ],
 "metadata": {
  "kernelspec": {
   "display_name": "Python 3 (ipykernel)",
   "language": "python",
   "name": "python3"
  },
  "language_info": {
   "codemirror_mode": {
    "name": "ipython",
    "version": 3
   },
   "file_extension": ".py",
   "mimetype": "text/x-python",
   "name": "python",
   "nbconvert_exporter": "python",
   "pygments_lexer": "ipython3",
   "version": "3.11.0rc1"
  }
 },
 "nbformat": 4,
 "nbformat_minor": 5
}
