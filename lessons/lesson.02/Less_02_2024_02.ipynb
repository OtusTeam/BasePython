{
 "cells": [
  {
   "cell_type": "markdown",
   "id": "c4968772-00c6-42c6-b9c4-8638aa25cf9d",
   "metadata": {
    "ExecuteTime": {
     "end_time": "2024-02-07T16:51:12.111898179Z",
     "start_time": "2024-02-07T16:51:12.097258530Z"
    },
    "collapsed": true,
    "jupyter": {
     "outputs_hidden": true
    }
   },
   "source": [
    "# Занятие 2"
   ]
  },
  {
   "cell_type": "markdown",
   "id": "f2debb11-039a-4aad-983e-0cc7f0e6cbe6",
   "metadata": {},
   "source": [
    "if else elif"
   ]
  },
  {
   "cell_type": "code",
   "execution_count": 1,
   "id": "720a84ca-381b-4a99-a1d4-d0472445d2be",
   "metadata": {},
   "outputs": [],
   "source": [
    "age = 20"
   ]
  },
  {
   "cell_type": "markdown",
   "id": "fe62d5af-3424-4d82-9998-4b5520af9af4",
   "metadata": {},
   "source": [
    "for while"
   ]
  },
  {
   "cell_type": "code",
   "execution_count": 3,
   "id": "ac666196-51d6-4b49-bb34-efefe364e3ee",
   "metadata": {},
   "outputs": [
    {
     "name": "stdout",
     "output_type": "stream",
     "text": [
      "1\n"
     ]
    }
   ],
   "source": [
    "if age >= 18:\n",
    "    print(1)\n",
    "    print(2)\n",
    "    "
   ]
  },
  {
   "cell_type": "markdown",
   "id": "040fa200-cb29-44b6-bab5-601d77f451d2",
   "metadata": {},
   "source": [
    "while условие"
   ]
  },
  {
   "cell_type": "code",
   "execution_count": 8,
   "id": "085dedcb-9e20-4271-9575-fe7d77cc5ce2",
   "metadata": {},
   "outputs": [
    {
     "name": "stdout",
     "output_type": "stream",
     "text": [
      "20\n",
      "19\n",
      "18\n",
      "END\n"
     ]
    }
   ],
   "source": [
    "age = 20\n",
    "while age >= 18:\n",
    "    print(age)\n",
    "    age -= 1\n",
    "print(\"END\")"
   ]
  },
  {
   "cell_type": "code",
   "execution_count": 9,
   "id": "e2fc0b67-bef2-4683-98fd-5b0c95211226",
   "metadata": {},
   "outputs": [
    {
     "name": "stdout",
     "output_type": "stream",
     "text": [
      "20\n",
      "count 10\n",
      "count 9\n",
      "count 8\n",
      "count 7\n",
      "count 6\n",
      "count 5\n",
      "19\n",
      "count 10\n",
      "count 9\n",
      "count 8\n",
      "count 7\n",
      "count 6\n",
      "count 5\n",
      "18\n",
      "count 10\n",
      "count 9\n",
      "count 8\n",
      "count 7\n",
      "count 6\n",
      "count 5\n",
      "END\n"
     ]
    }
   ],
   "source": [
    "age = 20\n",
    "while age >= 18:\n",
    "    print(age)\n",
    "    age -= 1\n",
    "    count = 10\n",
    "    while count >= 5:\n",
    "        print(f'count {count}')\n",
    "        count -= 1\n",
    "print(\"END\")"
   ]
  },
  {
   "cell_type": "code",
   "execution_count": 10,
   "id": "0157c07e-75b0-43f0-9c4d-08882b0d382e",
   "metadata": {},
   "outputs": [
    {
     "name": "stdout",
     "output_type": "stream",
     "text": [
      "1 2 3 4\n"
     ]
    }
   ],
   "source": [
    "print(1, 2, 3, 4)"
   ]
  },
  {
   "cell_type": "code",
   "execution_count": 11,
   "id": "64383f4b-bada-4c9b-ab89-29504724aa5c",
   "metadata": {},
   "outputs": [],
   "source": [
    "name = 'Bob'"
   ]
  },
  {
   "cell_type": "code",
   "execution_count": 12,
   "id": "2f2940d4-4ee1-40ca-b214-191a2605212d",
   "metadata": {},
   "outputs": [],
   "source": [
    "city = 'Moscow'"
   ]
  },
  {
   "cell_type": "code",
   "execution_count": 13,
   "id": "4b9a5fb4-96d6-461d-8cc1-464540b24d33",
   "metadata": {},
   "outputs": [
    {
     "name": "stdout",
     "output_type": "stream",
     "text": [
      "Bob Moscow\n"
     ]
    }
   ],
   "source": [
    "print(name, city)"
   ]
  },
  {
   "cell_type": "code",
   "execution_count": 14,
   "id": "651a138e-01fa-492b-a98d-6f5f8d330f88",
   "metadata": {},
   "outputs": [
    {
     "name": "stdout",
     "output_type": "stream",
     "text": [
      "BobMoscow\n"
     ]
    }
   ],
   "source": [
    "print(name + city)"
   ]
  },
  {
   "cell_type": "code",
   "execution_count": 15,
   "id": "c6b0e861-da59-46e1-a65f-c79a1061138a",
   "metadata": {},
   "outputs": [
    {
     "name": "stdout",
     "output_type": "stream",
     "text": [
      "Bob Moscow\n"
     ]
    }
   ],
   "source": [
    "print(name + ' ' + city)"
   ]
  },
  {
   "cell_type": "code",
   "execution_count": 16,
   "id": "b3a72a01-9921-4d4e-9cf9-28d83014a882",
   "metadata": {},
   "outputs": [
    {
     "name": "stdout",
     "output_type": "stream",
     "text": [
      "Bob живет в Moscow\n"
     ]
    }
   ],
   "source": [
    "print(f'{name} живет в {city}')"
   ]
  },
  {
   "cell_type": "code",
   "execution_count": 17,
   "id": "95eff7e1-2aed-420c-977f-842b5ed9f591",
   "metadata": {},
   "outputs": [
    {
     "name": "stdout",
     "output_type": "stream",
     "text": [
      "Bob живет в Moscow 3\n"
     ]
    }
   ],
   "source": [
    "print(f'{name} живет в {city} {1 + 2}')"
   ]
  },
  {
   "cell_type": "code",
   "execution_count": 18,
   "id": "a05d4c7b-879d-4b78-8a26-afc4d637e52b",
   "metadata": {},
   "outputs": [
    {
     "name": "stdout",
     "output_type": "stream",
     "text": [
      "Bob+++Moscow\n"
     ]
    }
   ],
   "source": [
    "print(name, city, sep='+++')"
   ]
  },
  {
   "cell_type": "code",
   "execution_count": 22,
   "id": "628f419b-a0fa-4cb1-9eb6-11cbbd588f2a",
   "metadata": {},
   "outputs": [
    {
     "name": "stdout",
     "output_type": "stream",
     "text": [
      "Bob+++Moscow===Bob+++Moscow!!!Bob+++Moscow---"
     ]
    }
   ],
   "source": [
    "print(name, city, sep='+++', end='===')\n",
    "print(name, city, sep='+++', end='!!!')\n",
    "print(name, city, sep='+++', end='---')"
   ]
  },
  {
   "cell_type": "code",
   "execution_count": 25,
   "id": "612da13c-d1e3-48a4-be6f-559977db3515",
   "metadata": {},
   "outputs": [
    {
     "name": "stdout",
     "output_type": "stream",
     "text": [
      "19\n",
      "17\n",
      "15\n",
      "13\n",
      "11\n",
      "9\n",
      "7\n",
      "5\n",
      "3\n",
      "1\n",
      "END\n"
     ]
    }
   ],
   "source": [
    "age = 20\n",
    "while age >= 1:\n",
    "    if age % 2 == 1:\n",
    "        print(age)\n",
    "    age -= 1\n",
    "\n",
    "print(\"END\")"
   ]
  },
  {
   "cell_type": "code",
   "execution_count": 33,
   "id": "512d95c0-9363-4774-a6b4-77685a21e1fe",
   "metadata": {},
   "outputs": [
    {
     "name": "stdout",
     "output_type": "stream",
     "text": [
      "19\n",
      "17\n",
      "15\n",
      "13\n",
      "11\n",
      "9\n",
      "7\n",
      "5\n",
      "3\n",
      "1\n",
      "END\n"
     ]
    }
   ],
   "source": [
    "age = 20\n",
    "while age >= 1:\n",
    "    if not age % 2:\n",
    "        print(age)\n",
    "    age -= 1\n",
    "\n",
    "print(\"END\")"
   ]
  },
  {
   "cell_type": "code",
   "execution_count": 32,
   "id": "10c11a4b-8690-4984-80e5-e20b797e8a55",
   "metadata": {},
   "outputs": [
    {
     "name": "stdout",
     "output_type": "stream",
     "text": [
      "111\n"
     ]
    }
   ],
   "source": [
    "if 1:\n",
    "    print(111)"
   ]
  },
  {
   "cell_type": "code",
   "execution_count": 36,
   "id": "f1dfce9d-9b9b-4b64-a13c-9e1414be8243",
   "metadata": {},
   "outputs": [
    {
     "name": "stdout",
     "output_type": "stream",
     "text": [
      "20\n",
      "18\n",
      "14\n",
      "12\n",
      "10\n",
      "6\n",
      "4\n",
      "2\n",
      "END\n"
     ]
    }
   ],
   "source": [
    "age = 20\n",
    "while age >= 1:\n",
    "    if age % 2 == 0 and age % 8 != 0:\n",
    "        print(age)\n",
    "    age -= 1\n",
    "\n",
    "print(\"END\")"
   ]
  },
  {
   "cell_type": "code",
   "execution_count": 37,
   "id": "265051cd-ac10-4007-b177-29abb8b32bad",
   "metadata": {},
   "outputs": [
    {
     "name": "stdout",
     "output_type": "stream",
     "text": [
      "20\n",
      "19\n",
      "18\n",
      "17\n",
      "16\n",
      "15\n",
      "14\n",
      "13\n",
      "12\n",
      "11\n",
      "10\n",
      "9\n",
      "8\n",
      "7\n",
      "6\n",
      "5\n",
      "4\n",
      "3\n",
      "2\n",
      "1\n",
      "END\n"
     ]
    }
   ],
   "source": [
    "age = 20\n",
    "while age >= 1:\n",
    "    if age % 2 == 0 or age % 8 != 0:\n",
    "        print(age)\n",
    "    age -= 1\n",
    "\n",
    "print(\"END\")"
   ]
  },
  {
   "cell_type": "markdown",
   "id": "1918854a-2ac8-4549-858e-c5e44db22ce1",
   "metadata": {},
   "source": [
    "1 or 1 = 1  \n",
    "1 or 0 = 1  \n",
    "0 or 1 = 1  \n",
    "0 or 0 = 0  "
   ]
  },
  {
   "cell_type": "markdown",
   "id": "b3802a37-3753-4ece-84d7-b9752c3519e0",
   "metadata": {},
   "source": [
    "1 and 1 = 1  \n",
    "1 and 0 = 0  \n",
    "0 and 1 = 0  \n",
    "0 and 0 = 0  "
   ]
  },
  {
   "cell_type": "code",
   "execution_count": null,
   "id": "27f4a76e-434b-4e59-aa4e-51f79041997d",
   "metadata": {},
   "outputs": [],
   "source": [
    "age = 20\n",
    "while age >= 1:\n",
    "    age -= 1\n",
    "    if age == 10:\n",
    "        continue\n",
    "    print(age)\n",
    "\n",
    "\n",
    "print(\"END\")"
   ]
  },
  {
   "cell_type": "code",
   "execution_count": 1,
   "id": "d2babd99-8538-4fbe-8634-da39b418ff9d",
   "metadata": {},
   "outputs": [
    {
     "name": "stdout",
     "output_type": "stream",
     "text": [
      "1\n"
     ]
    }
   ],
   "source": [
    "print(1)"
   ]
  },
  {
   "cell_type": "code",
   "execution_count": 3,
   "id": "2746d5fa-c7b6-4816-8b44-ffb601b53ab6",
   "metadata": {},
   "outputs": [
    {
     "name": "stdout",
     "output_type": "stream",
     "text": [
      "19\n",
      "18\n",
      "17\n",
      "16\n",
      "15\n",
      "14\n",
      "13\n",
      "12\n",
      "11\n",
      "9\n",
      "8\n",
      "7\n",
      "6\n",
      "5\n",
      "4\n",
      "3\n",
      "2\n",
      "1\n",
      "0\n",
      "END\n"
     ]
    }
   ],
   "source": [
    "age = 20\n",
    "while age >= 1:\n",
    "    age -= 1\n",
    "    if age == 10:\n",
    "        continue\n",
    "        print('Этот код никогда не выполнится')\n",
    "    print(age)\n",
    "\n",
    "\n",
    "print(\"END\")"
   ]
  },
  {
   "cell_type": "code",
   "execution_count": 4,
   "id": "f86285a7-236d-4eec-ac61-81a1ae97f24c",
   "metadata": {},
   "outputs": [
    {
     "name": "stdout",
     "output_type": "stream",
     "text": [
      "19\n",
      "18\n",
      "17\n",
      "16\n",
      "15\n",
      "14\n",
      "13\n",
      "12\n",
      "11\n",
      "END\n"
     ]
    }
   ],
   "source": [
    "age = 20\n",
    "while age >= 1:\n",
    "    age -= 1\n",
    "    if age == 10:\n",
    "        break\n",
    "        print('Этот код никогда не выполнится')\n",
    "    print(age)\n",
    "\n",
    "\n",
    "print(\"END\")"
   ]
  },
  {
   "cell_type": "code",
   "execution_count": 6,
   "id": "76d734f6-739d-4cca-a197-70c25e81aaf7",
   "metadata": {},
   "outputs": [
    {
     "name": "stdout",
     "output_type": "stream",
     "text": [
      "19\n",
      "18\n",
      "17\n",
      "16\n",
      "15\n",
      "14\n",
      "13\n",
      "12\n",
      "11\n",
      "9\n",
      "8\n",
      "7\n",
      "6\n",
      "5\n",
      "4\n",
      "3\n",
      "2\n",
      "1\n",
      "0\n",
      "Я вышел естественным образом\n",
      "END\n"
     ]
    }
   ],
   "source": [
    "age = 20\n",
    "while age >= 1:\n",
    "    age -= 1\n",
    "    if age == 10:\n",
    "        continue\n",
    "        print('Этот код никогда не выполнится')\n",
    "    print(age)\n",
    "else:\n",
    "    print(\"Я вышел естественным образом\")\n",
    "\n",
    "print(\"END\")"
   ]
  },
  {
   "cell_type": "code",
   "execution_count": 7,
   "id": "a24aaade-9cce-439b-afdf-2de546162662",
   "metadata": {},
   "outputs": [
    {
     "name": "stdout",
     "output_type": "stream",
     "text": [
      "1\n",
      "2\n",
      "3\n",
      "4\n",
      "6\n"
     ]
    }
   ],
   "source": [
    "for item in 1, 2, 3, 4, 6:\n",
    "    print(item)"
   ]
  },
  {
   "cell_type": "code",
   "execution_count": 8,
   "id": "60047b68-8224-43a3-a5ae-90bb4283e009",
   "metadata": {},
   "outputs": [
    {
     "name": "stdout",
     "output_type": "stream",
     "text": [
      "1\n",
      "2\n",
      "3\n",
      "4\n",
      "6\n",
      "True\n",
      "Строка\n"
     ]
    }
   ],
   "source": [
    "for item in 1, 2, 3, 4, 6, True, \"Строка\":\n",
    "    print(item)"
   ]
  },
  {
   "cell_type": "code",
   "execution_count": 10,
   "id": "ea90110f-cd26-4cf2-b89a-2263d342b1b6",
   "metadata": {},
   "outputs": [
    {
     "name": "stdout",
     "output_type": "stream",
     "text": [
      "С\n",
      "т\n",
      "р\n",
      "о\n",
      "к\n",
      "а\n"
     ]
    }
   ],
   "source": [
    "for item in \"Строка\":\n",
    "    print(item)"
   ]
  },
  {
   "cell_type": "markdown",
   "id": "a3a6bd49-335d-4aec-af95-d4789a4635e2",
   "metadata": {},
   "source": [
    "PEP8"
   ]
  },
  {
   "cell_type": "code",
   "execution_count": 11,
   "id": "906e6ac5-8c1b-4f10-8fc2-cb459558de0a",
   "metadata": {},
   "outputs": [],
   "source": [
    "names = ['Bob', 'Ann', 'John']"
   ]
  },
  {
   "cell_type": "code",
   "execution_count": 12,
   "id": "86f98308-0c04-4edf-b436-cb3aebebc431",
   "metadata": {},
   "outputs": [
    {
     "name": "stdout",
     "output_type": "stream",
     "text": [
      "Bob\n",
      "Ann\n",
      "John\n"
     ]
    }
   ],
   "source": [
    "for name in names:\n",
    "    print(name)"
   ]
  },
  {
   "cell_type": "code",
   "execution_count": 13,
   "id": "f4a0481b-9f5c-4f4d-b492-5331eb34b404",
   "metadata": {},
   "outputs": [],
   "source": [
    "numbers = [1, 2, 3, 4, 5, 6, 7]"
   ]
  },
  {
   "cell_type": "code",
   "execution_count": 15,
   "id": "0d01a225-93cd-4fc1-905f-343b907f2809",
   "metadata": {},
   "outputs": [
    {
     "name": "stdout",
     "output_type": "stream",
     "text": [
      "1\n",
      "3\n",
      "5\n",
      "7\n"
     ]
    }
   ],
   "source": [
    "for num in numbers:\n",
    "    if num % 2:\n",
    "        print(num)"
   ]
  },
  {
   "cell_type": "code",
   "execution_count": 16,
   "id": "05e30554-a9a7-4d54-911e-c3f06b77e076",
   "metadata": {},
   "outputs": [
    {
     "name": "stdout",
     "output_type": "stream",
     "text": [
      "0\n",
      "1\n",
      "2\n",
      "3\n",
      "4\n",
      "5\n",
      "6\n",
      "7\n",
      "8\n",
      "9\n"
     ]
    }
   ],
   "source": [
    "for i in range(10):\n",
    "    print(i)"
   ]
  },
  {
   "cell_type": "code",
   "execution_count": 25,
   "id": "8ac43e95-3942-495a-8297-67d274e58afa",
   "metadata": {},
   "outputs": [
    {
     "name": "stdout",
     "output_type": "stream",
     "text": [
      "4\n",
      "7\n",
      "10\n",
      "13\n",
      "16\n",
      "19\n"
     ]
    }
   ],
   "source": [
    "start = 2\n",
    "stop = 11\n",
    "step = 3\n",
    "for i in range(start + 2, stop + 10, step):\n",
    "    print(i)"
   ]
  },
  {
   "cell_type": "code",
   "execution_count": 19,
   "id": "c0900d72-f3df-401e-be1a-2b6f6286d865",
   "metadata": {},
   "outputs": [
    {
     "name": "stdout",
     "output_type": "stream",
     "text": [
      "2\n",
      "3\n",
      "4\n",
      "5\n",
      "6\n",
      "7\n",
      "8\n",
      "9\n"
     ]
    }
   ],
   "source": [
    "for i in range(2, 10):\n",
    "    print(i)"
   ]
  },
  {
   "cell_type": "code",
   "execution_count": 27,
   "id": "782db065-0784-4333-92f6-0276e2776ad7",
   "metadata": {},
   "outputs": [
    {
     "name": "stdout",
     "output_type": "stream",
     "text": [
      "20\n",
      "19\n",
      "18\n",
      "17\n",
      "16\n",
      "15\n",
      "14\n",
      "13\n",
      "12\n",
      "11\n",
      "10\n",
      "9\n",
      "8\n",
      "7\n",
      "6\n",
      "5\n",
      "4\n",
      "3\n",
      "2\n",
      "1\n"
     ]
    }
   ],
   "source": [
    "start = 20\n",
    "stop = 0\n",
    "step = -1\n",
    "for i in range(start, stop, step):\n",
    "    print(i)"
   ]
  },
  {
   "cell_type": "code",
   "execution_count": 30,
   "id": "70bb2f1f-0137-4de7-a15a-d3ce48206f7f",
   "metadata": {},
   "outputs": [
    {
     "name": "stdout",
     "output_type": "stream",
     "text": [
      "10 1\n",
      "11 2\n",
      "12 3\n",
      "13 4\n",
      "14 5\n",
      "15 6\n",
      "16 7\n"
     ]
    }
   ],
   "source": [
    "numbers = [1, 2, 3, 4, 5, 6, 7]\n",
    "for i, num in enumerate(numbers, start=10):\n",
    "    # if num % 2:\n",
    "    print(i, num)"
   ]
  },
  {
   "cell_type": "code",
   "execution_count": 31,
   "id": "84f080ae-006f-4320-b00f-8afcfd964fa1",
   "metadata": {},
   "outputs": [],
   "source": [
    "my_list = []"
   ]
  },
  {
   "cell_type": "code",
   "execution_count": 32,
   "id": "352183ab-ef93-44db-8a39-fda5c6269e87",
   "metadata": {},
   "outputs": [],
   "source": [
    "my_list1 = list()"
   ]
  },
  {
   "cell_type": "code",
   "execution_count": 40,
   "id": "1e0ab016-de06-484e-bc3c-541e0d496175",
   "metadata": {},
   "outputs": [],
   "source": [
    "numbers = [1, 2, 3, 4, 5, 6, 7]"
   ]
  },
  {
   "cell_type": "code",
   "execution_count": 41,
   "id": "6e312ece-d7bf-42e6-9e04-7d3018796c4b",
   "metadata": {},
   "outputs": [],
   "source": [
    "numbers.append(10)"
   ]
  },
  {
   "cell_type": "code",
   "execution_count": 42,
   "id": "1fcbafdd-9904-4551-bf58-94721796945e",
   "metadata": {},
   "outputs": [
    {
     "data": {
      "text/plain": [
       "[1, 2, 3, 4, 5, 6, 7, 10]"
      ]
     },
     "execution_count": 42,
     "metadata": {},
     "output_type": "execute_result"
    }
   ],
   "source": [
    "numbers"
   ]
  },
  {
   "cell_type": "code",
   "execution_count": 43,
   "id": "8cbdd22c-d717-4ee4-bdf4-63f518a94c73",
   "metadata": {},
   "outputs": [],
   "source": [
    "numbers.insert(2, 15)"
   ]
  },
  {
   "cell_type": "code",
   "execution_count": 44,
   "id": "10d2ea0f-73be-431b-a6e7-5fb3b8138f96",
   "metadata": {},
   "outputs": [
    {
     "data": {
      "text/plain": [
       "[1, 2, 15, 3, 4, 5, 6, 7, 10]"
      ]
     },
     "execution_count": 44,
     "metadata": {},
     "output_type": "execute_result"
    }
   ],
   "source": [
    "numbers"
   ]
  },
  {
   "cell_type": "code",
   "execution_count": 46,
   "id": "8faf1d1b-6353-42f3-87be-b905e1b32929",
   "metadata": {},
   "outputs": [
    {
     "data": {
      "text/plain": [
       "15"
      ]
     },
     "execution_count": 46,
     "metadata": {},
     "output_type": "execute_result"
    }
   ],
   "source": [
    "numbers[2]"
   ]
  },
  {
   "cell_type": "code",
   "execution_count": 47,
   "id": "d52102d1-dfc2-4f1e-8cfa-7ec076ccba97",
   "metadata": {},
   "outputs": [
    {
     "data": {
      "text/plain": [
       "9"
      ]
     },
     "execution_count": 47,
     "metadata": {},
     "output_type": "execute_result"
    }
   ],
   "source": [
    "len(numbers)"
   ]
  },
  {
   "cell_type": "code",
   "execution_count": 48,
   "id": "e7d78fb6-bf06-46a7-9f87-05a2101ad066",
   "metadata": {},
   "outputs": [
    {
     "data": {
      "text/plain": [
       "8"
      ]
     },
     "execution_count": 48,
     "metadata": {},
     "output_type": "execute_result"
    }
   ],
   "source": [
    "len(numbers) - 1"
   ]
  },
  {
   "cell_type": "code",
   "execution_count": 50,
   "id": "e279402c-6f2d-44ed-b39e-28c4ef2a0587",
   "metadata": {},
   "outputs": [
    {
     "name": "stdout",
     "output_type": "stream",
     "text": [
      "0\n",
      "1\n",
      "2\n",
      "3\n",
      "4\n",
      "5\n",
      "6\n",
      "7\n",
      "8\n"
     ]
    }
   ],
   "source": [
    "for i in range(len(numbers)):\n",
    "    print(i)"
   ]
  },
  {
   "cell_type": "code",
   "execution_count": 51,
   "id": "04f34f7b-345a-484f-90d1-b54c542efccc",
   "metadata": {},
   "outputs": [],
   "source": [
    "names = ['Bob', 'Ann', 'John']"
   ]
  },
  {
   "cell_type": "code",
   "execution_count": 52,
   "id": "a6122f2b-8767-410c-b456-b7cbf421ad28",
   "metadata": {},
   "outputs": [
    {
     "data": {
      "text/plain": [
       "'Bob'"
      ]
     },
     "execution_count": 52,
     "metadata": {},
     "output_type": "execute_result"
    }
   ],
   "source": [
    "names[0]"
   ]
  },
  {
   "cell_type": "code",
   "execution_count": 53,
   "id": "c5f4003a-d7c3-4295-8442-fe1433cbe43c",
   "metadata": {},
   "outputs": [],
   "source": [
    "names[0] = 'Mary'"
   ]
  },
  {
   "cell_type": "code",
   "execution_count": 54,
   "id": "3ded5ba1-6cce-4e89-a459-c35481f8d1ae",
   "metadata": {},
   "outputs": [
    {
     "data": {
      "text/plain": [
       "'Mary'"
      ]
     },
     "execution_count": 54,
     "metadata": {},
     "output_type": "execute_result"
    }
   ],
   "source": [
    "names[0]"
   ]
  },
  {
   "cell_type": "code",
   "execution_count": 55,
   "id": "c2313d9f-5b94-4066-b416-8b590e6cb286",
   "metadata": {},
   "outputs": [
    {
     "name": "stdout",
     "output_type": "stream",
     "text": [
      "Mary\n",
      "Ann\n",
      "John\n"
     ]
    }
   ],
   "source": [
    "for name in names:\n",
    "    print(name)"
   ]
  },
  {
   "cell_type": "code",
   "execution_count": 56,
   "id": "011bbc9a-6ba9-4c3c-8bf7-c2464b4bef51",
   "metadata": {},
   "outputs": [],
   "source": [
    "for name in names:\n",
    "    name = 'Bob'"
   ]
  },
  {
   "cell_type": "code",
   "execution_count": 57,
   "id": "f505bbdd-93a3-466f-ae7d-698bcc4d0c22",
   "metadata": {},
   "outputs": [
    {
     "data": {
      "text/plain": [
       "['Mary', 'Ann', 'John']"
      ]
     },
     "execution_count": 57,
     "metadata": {},
     "output_type": "execute_result"
    }
   ],
   "source": [
    "names"
   ]
  },
  {
   "cell_type": "code",
   "execution_count": 58,
   "id": "7567e451-02c6-4633-89df-70f9e7ab0bed",
   "metadata": {},
   "outputs": [],
   "source": [
    "for i in range(len(names)):\n",
    "    names[i] = f'Bob {i}'"
   ]
  },
  {
   "cell_type": "code",
   "execution_count": 59,
   "id": "1b48caa0-e5d3-4cb0-8e72-2ad407adee64",
   "metadata": {},
   "outputs": [
    {
     "data": {
      "text/plain": [
       "['Bob 0', 'Bob 1', 'Bob 2']"
      ]
     },
     "execution_count": 59,
     "metadata": {},
     "output_type": "execute_result"
    }
   ],
   "source": [
    "names"
   ]
  },
  {
   "cell_type": "code",
   "execution_count": 64,
   "id": "e89fd6c1-a95d-468e-9c61-75c527045307",
   "metadata": {},
   "outputs": [],
   "source": [
    "names = ['Bob', 'Ann', 'John', '']\n",
    "for i, name in enumerate(names, start=0):\n",
    "    if name != 'Ann':\n",
    "        names[i] = f'Mary {i}'"
   ]
  },
  {
   "cell_type": "code",
   "execution_count": 65,
   "id": "71dd2247-cbeb-4bad-8981-8cdcdeddd676",
   "metadata": {},
   "outputs": [
    {
     "data": {
      "text/plain": [
       "['Mary 0', 'Ann', 'Mary 2', 'Mary 3']"
      ]
     },
     "execution_count": 65,
     "metadata": {},
     "output_type": "execute_result"
    }
   ],
   "source": [
    "names"
   ]
  },
  {
   "cell_type": "markdown",
   "id": "7bbb8b18-3cb3-431a-be06-93b63b4da946",
   "metadata": {},
   "source": [
    "tuple()"
   ]
  },
  {
   "cell_type": "code",
   "execution_count": 66,
   "id": "8ec4f2c4-c413-47b5-89f3-7ca7ca38c653",
   "metadata": {},
   "outputs": [
    {
     "data": {
      "text/plain": [
       "['Mary 0', 'Ann', 'Mary 2', 'Mary 3']"
      ]
     },
     "execution_count": 66,
     "metadata": {},
     "output_type": "execute_result"
    }
   ],
   "source": [
    "names"
   ]
  },
  {
   "cell_type": "code",
   "execution_count": 67,
   "id": "8d17743d-43f7-4a60-9238-d838c57c1a83",
   "metadata": {},
   "outputs": [
    {
     "ename": "ValueError",
     "evalue": "list.remove(x): x not in list",
     "output_type": "error",
     "traceback": [
      "\u001b[0;31m---------------------------------------------------------------------------\u001b[0m",
      "\u001b[0;31mValueError\u001b[0m                                Traceback (most recent call last)",
      "Cell \u001b[0;32mIn[67], line 1\u001b[0m\n\u001b[0;32m----> 1\u001b[0m \u001b[43mnames\u001b[49m\u001b[38;5;241;43m.\u001b[39;49m\u001b[43mremove\u001b[49m\u001b[43m(\u001b[49m\u001b[38;5;241;43m1\u001b[39;49m\u001b[43m)\u001b[49m\n",
      "\u001b[0;31mValueError\u001b[0m: list.remove(x): x not in list"
     ]
    }
   ],
   "source": [
    "names.remove(1)"
   ]
  },
  {
   "cell_type": "code",
   "execution_count": 69,
   "id": "c1c61ad8-8779-4b74-978c-45cd7b5c4fe3",
   "metadata": {},
   "outputs": [
    {
     "data": {
      "text/plain": [
       "['Bob', 'Ann', 'John', 'Bob', 'Ann', 'John']"
      ]
     },
     "execution_count": 69,
     "metadata": {},
     "output_type": "execute_result"
    }
   ],
   "source": [
    "names = ['Bob', 'Ann', 'John', 'Bob', 'Ann', 'John']\n",
    "names"
   ]
  },
  {
   "cell_type": "code",
   "execution_count": 70,
   "id": "a0eeac15-bf89-470a-8da5-899e42a9d4df",
   "metadata": {},
   "outputs": [],
   "source": [
    "names.remove('Bob')"
   ]
  },
  {
   "cell_type": "code",
   "execution_count": 71,
   "id": "d910ea65-e17f-4bcc-a090-8904beaa3a73",
   "metadata": {},
   "outputs": [
    {
     "data": {
      "text/plain": [
       "['Ann', 'John', 'Bob', 'Ann', 'John']"
      ]
     },
     "execution_count": 71,
     "metadata": {},
     "output_type": "execute_result"
    }
   ],
   "source": [
    "names"
   ]
  },
  {
   "cell_type": "code",
   "execution_count": 72,
   "id": "a9906b34-2879-4552-9a6c-843e1777142e",
   "metadata": {},
   "outputs": [
    {
     "data": {
      "text/plain": [
       "'John'"
      ]
     },
     "execution_count": 72,
     "metadata": {},
     "output_type": "execute_result"
    }
   ],
   "source": [
    "names.pop()"
   ]
  },
  {
   "cell_type": "code",
   "execution_count": 73,
   "id": "b096d599-d289-4354-ac6e-1e18416c8212",
   "metadata": {},
   "outputs": [
    {
     "data": {
      "text/plain": [
       "['Ann', 'John', 'Bob', 'Ann']"
      ]
     },
     "execution_count": 73,
     "metadata": {},
     "output_type": "execute_result"
    }
   ],
   "source": [
    "names"
   ]
  },
  {
   "cell_type": "code",
   "execution_count": 74,
   "id": "6a3aade2-50d1-4920-91ed-e51783302ef0",
   "metadata": {},
   "outputs": [
    {
     "data": {
      "text/plain": [
       "'Bob'"
      ]
     },
     "execution_count": 74,
     "metadata": {},
     "output_type": "execute_result"
    }
   ],
   "source": [
    "names.pop(2)"
   ]
  },
  {
   "cell_type": "code",
   "execution_count": 75,
   "id": "50792e14-8eb4-4fa4-b2cd-7a163bd52932",
   "metadata": {},
   "outputs": [
    {
     "data": {
      "text/plain": [
       "['Ann', 'John', 'Ann']"
      ]
     },
     "execution_count": 75,
     "metadata": {},
     "output_type": "execute_result"
    }
   ],
   "source": [
    "names"
   ]
  },
  {
   "cell_type": "code",
   "execution_count": 76,
   "id": "db8d88fb-c380-42f2-965f-7df440635148",
   "metadata": {},
   "outputs": [
    {
     "name": "stdout",
     "output_type": "stream",
     "text": [
      "None\n"
     ]
    }
   ],
   "source": [
    "print(names.remove('John'))"
   ]
  },
  {
   "cell_type": "code",
   "execution_count": 78,
   "id": "e4a9601e-4e57-4963-add1-6d69710043f7",
   "metadata": {},
   "outputs": [],
   "source": [
    "names = ['Bob', 'Ann', 'John', 'Bob', 'Ann', 'John']"
   ]
  },
  {
   "cell_type": "code",
   "execution_count": 80,
   "id": "b42734de-d728-4e4c-b90e-21d3c02a933a",
   "metadata": {},
   "outputs": [
    {
     "data": {
      "text/plain": [
       "['Bob', 'Ann', 'John', 'Bob', 'Ann', 'John']"
      ]
     },
     "execution_count": 80,
     "metadata": {},
     "output_type": "execute_result"
    }
   ],
   "source": [
    "names"
   ]
  },
  {
   "cell_type": "code",
   "execution_count": 81,
   "id": "7ff60628-f75b-4a65-a459-4b7b1748a617",
   "metadata": {},
   "outputs": [
    {
     "data": {
      "text/plain": [
       "['Bob', 'Ann', 'John']"
      ]
     },
     "execution_count": 81,
     "metadata": {},
     "output_type": "execute_result"
    }
   ],
   "source": [
    "names[0:3]"
   ]
  },
  {
   "cell_type": "code",
   "execution_count": 82,
   "id": "b63277d3-752a-4807-8489-80da5b7449a4",
   "metadata": {},
   "outputs": [
    {
     "data": {
      "text/plain": [
       "['John', 'Bob', 'Ann', 'John']"
      ]
     },
     "execution_count": 82,
     "metadata": {},
     "output_type": "execute_result"
    }
   ],
   "source": [
    "names[2:]"
   ]
  },
  {
   "cell_type": "code",
   "execution_count": 83,
   "id": "03f63940-8c9b-4396-a0df-2fb81945805d",
   "metadata": {},
   "outputs": [
    {
     "data": {
      "text/plain": [
       "['John', 'Ann']"
      ]
     },
     "execution_count": 83,
     "metadata": {},
     "output_type": "execute_result"
    }
   ],
   "source": [
    "names[2::2]"
   ]
  },
  {
   "cell_type": "code",
   "execution_count": 84,
   "id": "a7522ec7-61e4-4934-936c-9393d50a0479",
   "metadata": {},
   "outputs": [
    {
     "data": {
      "text/plain": [
       "['Bob', 'Ann', 'John', 'Bob', 'Ann', 'John']"
      ]
     },
     "execution_count": 84,
     "metadata": {},
     "output_type": "execute_result"
    }
   ],
   "source": [
    "names"
   ]
  },
  {
   "cell_type": "code",
   "execution_count": 85,
   "id": "784a5083-fb06-4aa1-b2d6-3012e7f83bb6",
   "metadata": {},
   "outputs": [
    {
     "data": {
      "text/plain": [
       "['John', 'Ann', 'Bob', 'John', 'Ann', 'Bob']"
      ]
     },
     "execution_count": 85,
     "metadata": {},
     "output_type": "execute_result"
    }
   ],
   "source": [
    "names[::-1]"
   ]
  },
  {
   "cell_type": "code",
   "execution_count": 87,
   "id": "84dfa964-0b7d-4abb-880b-a638669acfbc",
   "metadata": {},
   "outputs": [
    {
     "data": {
      "text/plain": [
       "['Bob', 'Bob']"
      ]
     },
     "execution_count": 87,
     "metadata": {},
     "output_type": "execute_result"
    }
   ],
   "source": [
    "names[::3]"
   ]
  },
  {
   "cell_type": "code",
   "execution_count": 88,
   "id": "56418a5f-6018-43d3-a0d0-2b2740354450",
   "metadata": {},
   "outputs": [
    {
     "data": {
      "text/plain": [
       "['Bob', 'Ann', 'John', 'Bob', 'Ann', 'John']"
      ]
     },
     "execution_count": 88,
     "metadata": {},
     "output_type": "execute_result"
    }
   ],
   "source": [
    "names"
   ]
  },
  {
   "cell_type": "code",
   "execution_count": 90,
   "id": "ae6048ba-1a7b-41b8-b3e0-094687dec290",
   "metadata": {},
   "outputs": [],
   "source": [
    "names_dict = {'fr1': 'Bob',\n",
    "              'fr2': 'Ann',\n",
    "              'fr3': 'John',\n",
    "             }"
   ]
  },
  {
   "cell_type": "code",
   "execution_count": 91,
   "id": "480f2334-e059-491f-b8bd-8ec870147e02",
   "metadata": {},
   "outputs": [
    {
     "data": {
      "text/plain": [
       "{'fr1': 'Bob', 'fr2': 'Ann', 'fr3': 'John'}"
      ]
     },
     "execution_count": 91,
     "metadata": {},
     "output_type": "execute_result"
    }
   ],
   "source": [
    "names_dict"
   ]
  },
  {
   "cell_type": "code",
   "execution_count": 92,
   "id": "49fa151c-fb27-499d-b19b-b5887733fa0f",
   "metadata": {},
   "outputs": [
    {
     "data": {
      "text/plain": [
       "'Bob'"
      ]
     },
     "execution_count": 92,
     "metadata": {},
     "output_type": "execute_result"
    }
   ],
   "source": [
    "names_dict['fr1']"
   ]
  },
  {
   "cell_type": "code",
   "execution_count": 93,
   "id": "ae491dda-3891-4149-8d6b-2f26c35f6a63",
   "metadata": {},
   "outputs": [],
   "source": [
    "names_dict['fr1'] = 'Mary'"
   ]
  },
  {
   "cell_type": "code",
   "execution_count": 94,
   "id": "be0daf87-7461-4ba7-92b3-d4d460e5f2e4",
   "metadata": {},
   "outputs": [
    {
     "data": {
      "text/plain": [
       "'Mary'"
      ]
     },
     "execution_count": 94,
     "metadata": {},
     "output_type": "execute_result"
    }
   ],
   "source": [
    "names_dict['fr1']"
   ]
  },
  {
   "cell_type": "code",
   "execution_count": 95,
   "id": "496aa58d-b5d1-4529-b027-d42d2a86bd72",
   "metadata": {},
   "outputs": [
    {
     "data": {
      "text/plain": [
       "{'fr1': 'Mary', 'fr2': 'Ann', 'fr3': 'John'}"
      ]
     },
     "execution_count": 95,
     "metadata": {},
     "output_type": "execute_result"
    }
   ],
   "source": [
    "names_dict"
   ]
  },
  {
   "cell_type": "code",
   "execution_count": 96,
   "id": "d7b9a5ab-ddcf-4bf0-90f7-c154752e3f74",
   "metadata": {},
   "outputs": [],
   "source": [
    "names_dict1 = {1: 'Bob',\n",
    "              'fr2': 'Ann',\n",
    "              'fr3': 'John',\n",
    "             }"
   ]
  },
  {
   "cell_type": "code",
   "execution_count": 97,
   "id": "5c7a4753-ecce-4b73-88a6-f0ffa690bee7",
   "metadata": {},
   "outputs": [
    {
     "data": {
      "text/plain": [
       "{1: 'Bob', 'fr2': 'Ann', 'fr3': 'John'}"
      ]
     },
     "execution_count": 97,
     "metadata": {},
     "output_type": "execute_result"
    }
   ],
   "source": [
    "names_dict1"
   ]
  },
  {
   "cell_type": "code",
   "execution_count": 99,
   "id": "5bfb72ab-e061-471f-9082-05b106e4f9a2",
   "metadata": {},
   "outputs": [
    {
     "data": {
      "text/plain": [
       "dict_keys(['fr1', 'fr2', 'fr3'])"
      ]
     },
     "execution_count": 99,
     "metadata": {},
     "output_type": "execute_result"
    }
   ],
   "source": [
    "names_dict.keys()"
   ]
  },
  {
   "cell_type": "code",
   "execution_count": 100,
   "id": "4572dd6f-0379-41be-a0ac-999fc106ec6c",
   "metadata": {},
   "outputs": [
    {
     "data": {
      "text/plain": [
       "dict_values(['Mary', 'Ann', 'John'])"
      ]
     },
     "execution_count": 100,
     "metadata": {},
     "output_type": "execute_result"
    }
   ],
   "source": [
    "names_dict.values()"
   ]
  },
  {
   "cell_type": "code",
   "execution_count": 102,
   "id": "0dcf1328-d8a5-438e-b44f-d5af2c1e9cd3",
   "metadata": {},
   "outputs": [
    {
     "name": "stdout",
     "output_type": "stream",
     "text": [
      "fr1\n",
      "fr2\n",
      "fr3\n"
     ]
    }
   ],
   "source": [
    "for item in names_dict.keys():\n",
    "    print(item)"
   ]
  },
  {
   "cell_type": "code",
   "execution_count": 103,
   "id": "00214760-0583-44e1-8beb-2f472072c485",
   "metadata": {},
   "outputs": [
    {
     "name": "stdout",
     "output_type": "stream",
     "text": [
      "Mary\n",
      "Ann\n",
      "John\n"
     ]
    }
   ],
   "source": [
    "for item in names_dict.values():\n",
    "    print(item)"
   ]
  },
  {
   "cell_type": "code",
   "execution_count": 104,
   "id": "2d286dae-4172-4b91-ba93-44536bcb72df",
   "metadata": {},
   "outputs": [
    {
     "data": {
      "text/plain": [
       "dict_items([('fr1', 'Mary'), ('fr2', 'Ann'), ('fr3', 'John')])"
      ]
     },
     "execution_count": 104,
     "metadata": {},
     "output_type": "execute_result"
    }
   ],
   "source": [
    "names_dict.items()"
   ]
  },
  {
   "cell_type": "code",
   "execution_count": 106,
   "id": "24459680-1fa7-47f5-9243-3dd9d1be246b",
   "metadata": {},
   "outputs": [
    {
     "name": "stdout",
     "output_type": "stream",
     "text": [
      "fr1 Mary\n",
      "fr2 Ann\n",
      "fr3 John\n"
     ]
    }
   ],
   "source": [
    "for key, value in names_dict.items():\n",
    "    print(key, value)"
   ]
  },
  {
   "cell_type": "code",
   "execution_count": 110,
   "id": "b42c6a76-79e6-4f1a-9c0a-d22df45b47b5",
   "metadata": {},
   "outputs": [
    {
     "ename": "KeyError",
     "evalue": "'fr5'",
     "output_type": "error",
     "traceback": [
      "\u001b[0;31m---------------------------------------------------------------------------\u001b[0m",
      "\u001b[0;31mKeyError\u001b[0m                                  Traceback (most recent call last)",
      "Cell \u001b[0;32mIn[110], line 1\u001b[0m\n\u001b[0;32m----> 1\u001b[0m \u001b[43mnames_dict\u001b[49m\u001b[43m[\u001b[49m\u001b[38;5;124;43m'\u001b[39;49m\u001b[38;5;124;43mfr5\u001b[39;49m\u001b[38;5;124;43m'\u001b[39;49m\u001b[43m]\u001b[49m\n",
      "\u001b[0;31mKeyError\u001b[0m: 'fr5'"
     ]
    }
   ],
   "source": [
    "names_dict['fr5']"
   ]
  },
  {
   "cell_type": "code",
   "execution_count": 112,
   "id": "67175e1e-f599-4e40-b590-95109e7846a5",
   "metadata": {},
   "outputs": [
    {
     "name": "stdout",
     "output_type": "stream",
     "text": [
      "None\n"
     ]
    }
   ],
   "source": [
    "print(names_dict.get('fr5'))"
   ]
  },
  {
   "cell_type": "code",
   "execution_count": 115,
   "id": "72657a4e-2b43-4cfd-88f1-78487136e608",
   "metadata": {},
   "outputs": [
    {
     "name": "stdout",
     "output_type": "stream",
     "text": [
      "B\n",
      "o\n",
      "b\n",
      "\n",
      "A\n",
      "n\n",
      "n\n",
      "\n",
      "J\n",
      "o\n",
      "h\n",
      "n\n",
      "\n",
      "B\n",
      "o\n",
      "b\n",
      "\n",
      "A\n",
      "n\n",
      "n\n",
      "\n",
      "J\n",
      "o\n",
      "h\n",
      "n\n",
      "\n"
     ]
    }
   ],
   "source": [
    "names = ['Bob', 'Ann', 'John', 'Bob', 'Ann', 'John']\n",
    "for name in names:\n",
    "    for item in name:\n",
    "        print(item)\n",
    "    print()"
   ]
  },
  {
   "cell_type": "code",
   "execution_count": 116,
   "id": "75e08b35-a40d-4a75-8630-c28139c4f33d",
   "metadata": {},
   "outputs": [
    {
     "name": "stdout",
     "output_type": "stream",
     "text": [
      "n\n",
      "a\n",
      "m\n",
      "e\n",
      "m\n",
      "s\n"
     ]
    }
   ],
   "source": [
    "for item in \"namems\":\n",
    "    print(item)"
   ]
  },
  {
   "cell_type": "code",
   "execution_count": null,
   "id": "3659f23e-4bcb-4193-b5c4-3a23094da342",
   "metadata": {},
   "outputs": [],
   "source": []
  }
 ],
 "metadata": {
  "kernelspec": {
   "display_name": "Python 3 (ipykernel)",
   "language": "python",
   "name": "python3"
  },
  "language_info": {
   "codemirror_mode": {
    "name": "ipython",
    "version": 3
   },
   "file_extension": ".py",
   "mimetype": "text/x-python",
   "name": "python",
   "nbconvert_exporter": "python",
   "pygments_lexer": "ipython3",
   "version": "3.11.6"
  }
 },
 "nbformat": 4,
 "nbformat_minor": 5
}
