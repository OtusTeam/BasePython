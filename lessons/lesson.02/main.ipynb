{
 "cells": [
  {
   "cell_type": "code",
   "execution_count": 1,
   "id": "b8fa5b5e-4e43-4eaa-9cd7-8447b59ee1db",
   "metadata": {},
   "outputs": [
    {
     "data": {
      "text/plain": [
       "[1, 2, 3]"
      ]
     },
     "execution_count": 1,
     "metadata": {},
     "output_type": "execute_result"
    }
   ],
   "source": [
    "[1, 2, 3]"
   ]
  },
  {
   "cell_type": "code",
   "execution_count": 2,
   "id": "074b6219-fed1-49d4-b6ba-12d6431d76b6",
   "metadata": {},
   "outputs": [
    {
     "data": {
      "text/plain": [
       "[]"
      ]
     },
     "execution_count": 2,
     "metadata": {},
     "output_type": "execute_result"
    }
   ],
   "source": [
    "[]"
   ]
  },
  {
   "cell_type": "code",
   "execution_count": 3,
   "id": "fd300479-cfae-4683-a09d-0477f865b349",
   "metadata": {},
   "outputs": [
    {
     "data": {
      "text/plain": [
       "[1, 2, 3, 4, 5, 6, 7, 8, 9]"
      ]
     },
     "execution_count": 3,
     "metadata": {},
     "output_type": "execute_result"
    }
   ],
   "source": [
    "[1, 2, 3, 4, 5, 6, 7, 8, 9]"
   ]
  },
  {
   "cell_type": "code",
   "execution_count": 4,
   "id": "0e3eccee-8c74-42a2-83d5-28c821277194",
   "metadata": {},
   "outputs": [
    {
     "data": {
      "text/plain": [
       "[1, 2.5, 'abc', True, None, ['1123', 123]]"
      ]
     },
     "execution_count": 4,
     "metadata": {},
     "output_type": "execute_result"
    }
   ],
   "source": [
    "[1, 2.5, \"abc\", True, None, [\"1123\", 123]]"
   ]
  },
  {
   "cell_type": "code",
   "execution_count": 5,
   "id": "7b117866-440b-47ad-be13-4385ab2ffd45",
   "metadata": {},
   "outputs": [
    {
     "name": "stdout",
     "output_type": "stream",
     "text": [
      "<class 'list'>\n"
     ]
    }
   ],
   "source": [
    "print(type([]))"
   ]
  },
  {
   "cell_type": "code",
   "execution_count": 6,
   "id": "23b6f6a9-219a-476d-9309-4aec666408c9",
   "metadata": {},
   "outputs": [
    {
     "data": {
      "text/plain": [
       "True"
      ]
     },
     "execution_count": 6,
     "metadata": {},
     "output_type": "execute_result"
    }
   ],
   "source": [
    "bool(1)"
   ]
  },
  {
   "cell_type": "code",
   "execution_count": 7,
   "id": "8a61c48a-a42f-4861-b0b3-e2c6f392039a",
   "metadata": {},
   "outputs": [
    {
     "data": {
      "text/plain": [
       "False"
      ]
     },
     "execution_count": 7,
     "metadata": {},
     "output_type": "execute_result"
    }
   ],
   "source": [
    "bool(0)"
   ]
  },
  {
   "cell_type": "code",
   "execution_count": 8,
   "id": "b2ede921-4c62-4f27-ab1a-6093e8d4e1b3",
   "metadata": {},
   "outputs": [
    {
     "data": {
      "text/plain": [
       "True"
      ]
     },
     "execution_count": 8,
     "metadata": {},
     "output_type": "execute_result"
    }
   ],
   "source": [
    "bool(\"0\")"
   ]
  },
  {
   "cell_type": "code",
   "execution_count": 9,
   "id": "a7c7e8ca-ae0f-4f83-a66a-efc34c57e94d",
   "metadata": {},
   "outputs": [
    {
     "data": {
      "text/plain": [
       "False"
      ]
     },
     "execution_count": 9,
     "metadata": {},
     "output_type": "execute_result"
    }
   ],
   "source": [
    "bool(\"\")"
   ]
  },
  {
   "cell_type": "code",
   "execution_count": 10,
   "id": "8cf81908-c4db-4fb4-8019-296f8025f38e",
   "metadata": {},
   "outputs": [
    {
     "data": {
      "text/plain": [
       "True"
      ]
     },
     "execution_count": 10,
     "metadata": {},
     "output_type": "execute_result"
    }
   ],
   "source": [
    "bool([1])"
   ]
  },
  {
   "cell_type": "code",
   "execution_count": 11,
   "id": "41587e77-5fd7-4d35-98ee-a51887c25096",
   "metadata": {},
   "outputs": [
    {
     "data": {
      "text/plain": [
       "False"
      ]
     },
     "execution_count": 11,
     "metadata": {},
     "output_type": "execute_result"
    }
   ],
   "source": [
    "bool([])"
   ]
  },
  {
   "cell_type": "code",
   "execution_count": 12,
   "id": "cd017426-909b-4ebb-9236-70f84d981fe7",
   "metadata": {},
   "outputs": [
    {
     "data": {
      "text/plain": [
       "0"
      ]
     },
     "execution_count": 12,
     "metadata": {},
     "output_type": "execute_result"
    }
   ],
   "source": [
    "len([])"
   ]
  },
  {
   "cell_type": "code",
   "execution_count": 13,
   "id": "4791aa0a-e9a0-4ceb-bb8d-90d8005c5c04",
   "metadata": {},
   "outputs": [
    {
     "data": {
      "text/plain": [
       "3"
      ]
     },
     "execution_count": 13,
     "metadata": {},
     "output_type": "execute_result"
    }
   ],
   "source": [
    "len(\"abc\")"
   ]
  },
  {
   "cell_type": "code",
   "execution_count": 14,
   "id": "145b5780-8529-46e9-b423-f5fe2310af99",
   "metadata": {},
   "outputs": [
    {
     "data": {
      "text/plain": [
       "1"
      ]
     },
     "execution_count": 14,
     "metadata": {},
     "output_type": "execute_result"
    }
   ],
   "source": [
    "len(\"😁\")"
   ]
  },
  {
   "cell_type": "code",
   "execution_count": 15,
   "id": "9cd93704-c05a-47e7-9cfb-1d291f9d311a",
   "metadata": {},
   "outputs": [
    {
     "data": {
      "text/plain": [
       "3"
      ]
     },
     "execution_count": 15,
     "metadata": {},
     "output_type": "execute_result"
    }
   ],
   "source": [
    "len(\"👩‍💻\")"
   ]
  },
  {
   "cell_type": "code",
   "execution_count": 16,
   "id": "cf72cf0a-d0e5-4346-95d6-7893d63440bb",
   "metadata": {},
   "outputs": [
    {
     "data": {
      "text/plain": [
       "6"
      ]
     },
     "execution_count": 16,
     "metadata": {},
     "output_type": "execute_result"
    }
   ],
   "source": [
    "len(\"привет\")"
   ]
  },
  {
   "cell_type": "code",
   "execution_count": 17,
   "id": "4094cc33-0189-4f88-a8a5-4d3c6b0d1043",
   "metadata": {},
   "outputs": [
    {
     "data": {
      "text/plain": [
       "b'z'"
      ]
     },
     "execution_count": 17,
     "metadata": {},
     "output_type": "execute_result"
    }
   ],
   "source": [
    "\"z\".encode()"
   ]
  },
  {
   "cell_type": "code",
   "execution_count": 18,
   "id": "3ad14676-c75c-4de4-bced-74fd9ae8a933",
   "metadata": {},
   "outputs": [
    {
     "data": {
      "text/plain": [
       "b'\\xd1\\x8f'"
      ]
     },
     "execution_count": 18,
     "metadata": {},
     "output_type": "execute_result"
    }
   ],
   "source": [
    "\"я\".encode()"
   ]
  },
  {
   "cell_type": "code",
   "execution_count": 19,
   "id": "aa3c5b85-572e-4912-98ab-b82bca327357",
   "metadata": {},
   "outputs": [
    {
     "data": {
      "text/plain": [
       "2"
      ]
     },
     "execution_count": 19,
     "metadata": {},
     "output_type": "execute_result"
    }
   ],
   "source": [
    "len(\"я\".encode())"
   ]
  },
  {
   "cell_type": "code",
   "execution_count": 20,
   "id": "f6408a05-8b26-4460-9adb-3375f88fccdc",
   "metadata": {},
   "outputs": [
    {
     "data": {
      "text/plain": [
       "1"
      ]
     },
     "execution_count": 20,
     "metadata": {},
     "output_type": "execute_result"
    }
   ],
   "source": [
    "len(\"я\")"
   ]
  },
  {
   "cell_type": "code",
   "execution_count": 21,
   "id": "ddbf8ac8-63e0-411e-8a9a-bd0871c83d42",
   "metadata": {},
   "outputs": [
    {
     "data": {
      "text/plain": [
       "b'\\xf0\\x9f\\x91\\xa9\\xe2\\x80\\x8d\\xf0\\x9f\\x92\\xbb'"
      ]
     },
     "execution_count": 21,
     "metadata": {},
     "output_type": "execute_result"
    }
   ],
   "source": [
    "\"👩‍💻\".encode()"
   ]
  },
  {
   "cell_type": "code",
   "execution_count": 22,
   "id": "01708a13-404b-46df-8388-4c57c11b95ec",
   "metadata": {},
   "outputs": [
    {
     "data": {
      "text/plain": [
       "11"
      ]
     },
     "execution_count": 22,
     "metadata": {},
     "output_type": "execute_result"
    }
   ],
   "source": [
    "len(\"👩‍💻\".encode())"
   ]
  },
  {
   "cell_type": "code",
   "execution_count": 23,
   "id": "d1503edf-10ec-4266-98c5-2f5f765067de",
   "metadata": {},
   "outputs": [
    {
     "name": "stdout",
     "output_type": "stream",
     "text": [
      "[1, 2, 3, 4, 5]\n"
     ]
    }
   ],
   "source": [
    "numbers = [1, 2, 3, 4, 5]\n",
    "print(numbers)"
   ]
  },
  {
   "cell_type": "code",
   "execution_count": 25,
   "id": "c1e5cfe0-fc52-4e7e-aacb-f8d72c0d920f",
   "metadata": {},
   "outputs": [
    {
     "data": {
      "text/plain": [
       "1"
      ]
     },
     "execution_count": 25,
     "metadata": {},
     "output_type": "execute_result"
    }
   ],
   "source": [
    "numbers[0]"
   ]
  },
  {
   "cell_type": "code",
   "execution_count": 26,
   "id": "0e366a14-8faf-4d4a-aba1-b208b228dbf7",
   "metadata": {},
   "outputs": [
    {
     "data": {
      "text/plain": [
       "3"
      ]
     },
     "execution_count": 26,
     "metadata": {},
     "output_type": "execute_result"
    }
   ],
   "source": [
    "numbers[2]"
   ]
  },
  {
   "cell_type": "code",
   "execution_count": 27,
   "id": "f04313b5-13bf-4560-b3e5-eaff89a8a3ce",
   "metadata": {},
   "outputs": [
    {
     "name": "stdout",
     "output_type": "stream",
     "text": [
      "[2, 4, 6, 8]\n"
     ]
    }
   ],
   "source": [
    "evens = [2, 4, 6, 8]\n",
    "print(evens)"
   ]
  },
  {
   "cell_type": "code",
   "execution_count": 28,
   "id": "db40f674-b199-4333-b019-6d6e4a212dca",
   "metadata": {},
   "outputs": [
    {
     "data": {
      "text/plain": [
       "8"
      ]
     },
     "execution_count": 28,
     "metadata": {},
     "output_type": "execute_result"
    }
   ],
   "source": [
    "evens[3]"
   ]
  },
  {
   "cell_type": "code",
   "execution_count": 29,
   "id": "c3f933e8-aa5a-4ba2-baf3-9096d105c077",
   "metadata": {},
   "outputs": [
    {
     "data": {
      "text/plain": [
       "4"
      ]
     },
     "execution_count": 29,
     "metadata": {},
     "output_type": "execute_result"
    }
   ],
   "source": [
    "len(evens)"
   ]
  },
  {
   "cell_type": "code",
   "execution_count": 30,
   "id": "bfb94e17-60ab-4ac7-b4f1-8e4df8cca45c",
   "metadata": {},
   "outputs": [
    {
     "data": {
      "text/plain": [
       "8"
      ]
     },
     "execution_count": 30,
     "metadata": {},
     "output_type": "execute_result"
    }
   ],
   "source": [
    "evens[4 - 1]"
   ]
  },
  {
   "cell_type": "code",
   "execution_count": 31,
   "id": "4430b2cf-050f-40d3-b66c-3ce7492df13b",
   "metadata": {},
   "outputs": [
    {
     "data": {
      "text/plain": [
       "8"
      ]
     },
     "execution_count": 31,
     "metadata": {},
     "output_type": "execute_result"
    }
   ],
   "source": [
    "evens[len(evens) - 1]"
   ]
  },
  {
   "cell_type": "code",
   "execution_count": 32,
   "id": "538f270f-879a-45dc-83f8-cbc316649ae7",
   "metadata": {},
   "outputs": [
    {
     "data": {
      "text/plain": [
       "8"
      ]
     },
     "execution_count": 32,
     "metadata": {},
     "output_type": "execute_result"
    }
   ],
   "source": [
    "evens[-1]"
   ]
  },
  {
   "cell_type": "code",
   "execution_count": 33,
   "id": "d9b66ae1-20a5-4bd6-9100-42e129cdea2a",
   "metadata": {},
   "outputs": [
    {
     "data": {
      "text/plain": [
       "0"
      ]
     },
     "execution_count": 33,
     "metadata": {},
     "output_type": "execute_result"
    }
   ],
   "source": [
    "-0"
   ]
  },
  {
   "cell_type": "code",
   "execution_count": 34,
   "id": "3d37b923-15a9-467a-852a-823440e267ae",
   "metadata": {},
   "outputs": [
    {
     "data": {
      "text/plain": [
       "True"
      ]
     },
     "execution_count": 34,
     "metadata": {},
     "output_type": "execute_result"
    }
   ],
   "source": [
    "-0 == 0"
   ]
  },
  {
   "cell_type": "code",
   "execution_count": 35,
   "id": "a7ea078b-29c5-4d37-adf0-9cdabd33a517",
   "metadata": {},
   "outputs": [
    {
     "data": {
      "text/plain": [
       "2"
      ]
     },
     "execution_count": 35,
     "metadata": {},
     "output_type": "execute_result"
    }
   ],
   "source": [
    "evens[0]"
   ]
  },
  {
   "cell_type": "code",
   "execution_count": 36,
   "id": "90434b5d-5684-4c37-b4f0-81ffbdf7948a",
   "metadata": {},
   "outputs": [
    {
     "data": {
      "text/plain": [
       "2"
      ]
     },
     "execution_count": 36,
     "metadata": {},
     "output_type": "execute_result"
    }
   ],
   "source": [
    "evens[-0]"
   ]
  },
  {
   "cell_type": "code",
   "execution_count": 37,
   "id": "1f91150f-5c1c-4cba-935d-9689d668f01e",
   "metadata": {},
   "outputs": [
    {
     "data": {
      "text/plain": [
       "6"
      ]
     },
     "execution_count": 37,
     "metadata": {},
     "output_type": "execute_result"
    }
   ],
   "source": [
    "evens[-2]"
   ]
  },
  {
   "cell_type": "code",
   "execution_count": 38,
   "id": "6c2d719c-bd0c-42df-84e6-2eb44acff3dc",
   "metadata": {},
   "outputs": [
    {
     "data": {
      "text/plain": [
       "[2, 4, 6, 8]"
      ]
     },
     "execution_count": 38,
     "metadata": {},
     "output_type": "execute_result"
    }
   ],
   "source": [
    "evens"
   ]
  },
  {
   "cell_type": "code",
   "execution_count": 39,
   "id": "03e900d2-6ef7-4830-a9f4-71c70371d9f4",
   "metadata": {},
   "outputs": [
    {
     "data": {
      "text/plain": [
       "8"
      ]
     },
     "execution_count": 39,
     "metadata": {},
     "output_type": "execute_result"
    }
   ],
   "source": [
    "evens[-1]"
   ]
  },
  {
   "cell_type": "code",
   "execution_count": 40,
   "id": "0e39ab39-2b63-4912-874f-0f63fa6a89e5",
   "metadata": {},
   "outputs": [
    {
     "data": {
      "text/plain": [
       "4"
      ]
     },
     "execution_count": 40,
     "metadata": {},
     "output_type": "execute_result"
    }
   ],
   "source": [
    "evens[-3]"
   ]
  },
  {
   "cell_type": "code",
   "execution_count": 41,
   "id": "d00072bc-b96f-4208-acbe-c23bb87715bd",
   "metadata": {},
   "outputs": [
    {
     "data": {
      "text/plain": [
       "2"
      ]
     },
     "execution_count": 41,
     "metadata": {},
     "output_type": "execute_result"
    }
   ],
   "source": [
    "evens[-4]"
   ]
  },
  {
   "cell_type": "code",
   "execution_count": 42,
   "id": "b65a174c-37e5-4a58-a45f-6329d9a5da3b",
   "metadata": {},
   "outputs": [
    {
     "name": "stdout",
     "output_type": "stream",
     "text": [
      "John\n"
     ]
    }
   ],
   "source": [
    "name = \"John\"\n",
    "print(name)"
   ]
  },
  {
   "cell_type": "code",
   "execution_count": 43,
   "id": "647c6e90-75cc-4e64-aff7-5a2cbd7d5463",
   "metadata": {},
   "outputs": [
    {
     "name": "stdout",
     "output_type": "stream",
     "text": [
      "Sam\n"
     ]
    }
   ],
   "source": [
    "name = \"Sam\"\n",
    "print(name)"
   ]
  },
  {
   "cell_type": "code",
   "execution_count": 44,
   "id": "1139b9f2-3562-4168-b2fa-a9e4b66e084a",
   "metadata": {},
   "outputs": [
    {
     "data": {
      "text/plain": [
       "[2, 4, 6, 8]"
      ]
     },
     "execution_count": 44,
     "metadata": {},
     "output_type": "execute_result"
    }
   ],
   "source": [
    "evens"
   ]
  },
  {
   "cell_type": "code",
   "execution_count": 45,
   "id": "3dff137b-b744-4beb-b62f-58b22bba2496",
   "metadata": {},
   "outputs": [],
   "source": [
    "evens.append(10)"
   ]
  },
  {
   "cell_type": "code",
   "execution_count": 46,
   "id": "481eba3c-1926-4df4-880d-a3a4842ddd83",
   "metadata": {},
   "outputs": [
    {
     "data": {
      "text/plain": [
       "[2, 4, 6, 8, 10]"
      ]
     },
     "execution_count": 46,
     "metadata": {},
     "output_type": "execute_result"
    }
   ],
   "source": [
    "evens"
   ]
  },
  {
   "cell_type": "code",
   "execution_count": 47,
   "id": "3dc01ff9-9b5a-44a6-89ad-7d2fc99b4ce9",
   "metadata": {},
   "outputs": [
    {
     "data": {
      "text/plain": [
       "5"
      ]
     },
     "execution_count": 47,
     "metadata": {},
     "output_type": "execute_result"
    }
   ],
   "source": [
    "len(evens)"
   ]
  },
  {
   "cell_type": "code",
   "execution_count": 48,
   "id": "baf8c430-5877-47d0-8a08-a92a52930fb6",
   "metadata": {},
   "outputs": [
    {
     "data": {
      "text/plain": [
       "10"
      ]
     },
     "execution_count": 48,
     "metadata": {},
     "output_type": "execute_result"
    }
   ],
   "source": [
    "evens[-1]"
   ]
  },
  {
   "cell_type": "code",
   "execution_count": 49,
   "id": "30fcc746-89e4-43a6-a8f1-e8bccb335e01",
   "metadata": {},
   "outputs": [
    {
     "data": {
      "text/plain": [
       "[1, 2, 3, 4, 5]"
      ]
     },
     "execution_count": 49,
     "metadata": {},
     "output_type": "execute_result"
    }
   ],
   "source": [
    "numbers"
   ]
  },
  {
   "cell_type": "code",
   "execution_count": 50,
   "id": "a2a4b54b-a91e-4fde-b4a2-ffc9af88a4bd",
   "metadata": {},
   "outputs": [],
   "source": [
    "numbers.append(6)"
   ]
  },
  {
   "cell_type": "code",
   "execution_count": 51,
   "id": "cccc0ab7-422d-4bff-81e7-9d85ad899f66",
   "metadata": {},
   "outputs": [
    {
     "data": {
      "text/plain": [
       "[1, 2, 3, 4, 5, 6]"
      ]
     },
     "execution_count": 51,
     "metadata": {},
     "output_type": "execute_result"
    }
   ],
   "source": [
    "numbers"
   ]
  },
  {
   "cell_type": "code",
   "execution_count": 52,
   "id": "418fbc13-57f4-46a7-90b8-b1fe584683da",
   "metadata": {},
   "outputs": [],
   "source": [
    "name = \"John\"\n",
    "user_john_name = name"
   ]
  },
  {
   "cell_type": "code",
   "execution_count": 53,
   "id": "5441e5f7-9ddc-4812-b870-b033545294e9",
   "metadata": {},
   "outputs": [
    {
     "data": {
      "text/plain": [
       "'John'"
      ]
     },
     "execution_count": 53,
     "metadata": {},
     "output_type": "execute_result"
    }
   ],
   "source": [
    "name"
   ]
  },
  {
   "cell_type": "code",
   "execution_count": 54,
   "id": "73244c2b-e4df-424b-b5bc-afde8d0d7dc9",
   "metadata": {},
   "outputs": [
    {
     "data": {
      "text/plain": [
       "'John'"
      ]
     },
     "execution_count": 54,
     "metadata": {},
     "output_type": "execute_result"
    }
   ],
   "source": [
    "user_john_name"
   ]
  },
  {
   "cell_type": "code",
   "execution_count": 55,
   "id": "e4f38b21-43cc-4c42-99bc-478c504913ec",
   "metadata": {},
   "outputs": [],
   "source": [
    "name = \"Sam\""
   ]
  },
  {
   "cell_type": "code",
   "execution_count": 56,
   "id": "b0baf25f-e3d8-421d-a6d8-f946d7ab34d4",
   "metadata": {},
   "outputs": [
    {
     "data": {
      "text/plain": [
       "'Sam'"
      ]
     },
     "execution_count": 56,
     "metadata": {},
     "output_type": "execute_result"
    }
   ],
   "source": [
    "name"
   ]
  },
  {
   "cell_type": "code",
   "execution_count": 57,
   "id": "32d03071-bf32-4417-acd1-b87371bc89dc",
   "metadata": {},
   "outputs": [
    {
     "data": {
      "text/plain": [
       "'John'"
      ]
     },
     "execution_count": 57,
     "metadata": {},
     "output_type": "execute_result"
    }
   ],
   "source": [
    "user_john_name"
   ]
  },
  {
   "cell_type": "code",
   "execution_count": 58,
   "id": "7f669c14-c521-483e-87e1-287f51284e79",
   "metadata": {},
   "outputs": [],
   "source": [
    "abc = [1, 2, 3]\n",
    "qwe = abc"
   ]
  },
  {
   "cell_type": "code",
   "execution_count": 59,
   "id": "0d94fc99-9dc3-4522-b5be-4279e472c19c",
   "metadata": {},
   "outputs": [
    {
     "data": {
      "text/plain": [
       "[1, 2, 3]"
      ]
     },
     "execution_count": 59,
     "metadata": {},
     "output_type": "execute_result"
    }
   ],
   "source": [
    "abc"
   ]
  },
  {
   "cell_type": "code",
   "execution_count": 60,
   "id": "b4c72e45-aa79-4ca9-9e6a-3fc0c259df71",
   "metadata": {},
   "outputs": [
    {
     "data": {
      "text/plain": [
       "[1, 2, 3]"
      ]
     },
     "execution_count": 60,
     "metadata": {},
     "output_type": "execute_result"
    }
   ],
   "source": [
    "qwe"
   ]
  },
  {
   "cell_type": "code",
   "execution_count": 61,
   "id": "bf295e24-14c2-40bd-b624-f0fa45bb9790",
   "metadata": {},
   "outputs": [],
   "source": [
    "abc = [4, 5, 6]"
   ]
  },
  {
   "cell_type": "code",
   "execution_count": 62,
   "id": "ea9a2a24-1b42-4170-a324-9130182df1e0",
   "metadata": {},
   "outputs": [
    {
     "data": {
      "text/plain": [
       "[4, 5, 6]"
      ]
     },
     "execution_count": 62,
     "metadata": {},
     "output_type": "execute_result"
    }
   ],
   "source": [
    "abc"
   ]
  },
  {
   "cell_type": "code",
   "execution_count": 63,
   "id": "f86fb655-d12e-440c-a5d9-b57c67e61426",
   "metadata": {},
   "outputs": [
    {
     "data": {
      "text/plain": [
       "[1, 2, 3]"
      ]
     },
     "execution_count": 63,
     "metadata": {},
     "output_type": "execute_result"
    }
   ],
   "source": [
    "qwe"
   ]
  },
  {
   "cell_type": "code",
   "execution_count": 64,
   "id": "6405bd15-f68c-4d87-a260-865d077ebe17",
   "metadata": {},
   "outputs": [
    {
     "data": {
      "text/plain": [
       "[1, 2, 3, 4, 5, 6]"
      ]
     },
     "execution_count": 64,
     "metadata": {},
     "output_type": "execute_result"
    }
   ],
   "source": [
    "numbers"
   ]
  },
  {
   "cell_type": "code",
   "execution_count": 65,
   "id": "38f3bc1c-d645-492c-b871-e0c48f0edf6e",
   "metadata": {},
   "outputs": [],
   "source": [
    "nums = numbers"
   ]
  },
  {
   "cell_type": "code",
   "execution_count": 66,
   "id": "74d3619e-bed1-4d04-95b0-d06cf15899dd",
   "metadata": {},
   "outputs": [
    {
     "data": {
      "text/plain": [
       "[1, 2, 3, 4, 5, 6]"
      ]
     },
     "execution_count": 66,
     "metadata": {},
     "output_type": "execute_result"
    }
   ],
   "source": [
    "nums"
   ]
  },
  {
   "cell_type": "code",
   "execution_count": 67,
   "id": "1dec65e0-fc2d-4827-8c0a-34478ef49e6b",
   "metadata": {},
   "outputs": [],
   "source": [
    "numbers.append(7)"
   ]
  },
  {
   "cell_type": "code",
   "execution_count": 68,
   "id": "bc2aca1e-1a6b-4ab9-a372-bfb7f226a47b",
   "metadata": {},
   "outputs": [
    {
     "data": {
      "text/plain": [
       "[1, 2, 3, 4, 5, 6, 7]"
      ]
     },
     "execution_count": 68,
     "metadata": {},
     "output_type": "execute_result"
    }
   ],
   "source": [
    "numbers"
   ]
  },
  {
   "cell_type": "code",
   "execution_count": 69,
   "id": "ec9d1317-7757-43c4-b917-8b0817241cd7",
   "metadata": {},
   "outputs": [
    {
     "data": {
      "text/plain": [
       "[1, 2, 3, 4, 5, 6, 7]"
      ]
     },
     "execution_count": 69,
     "metadata": {},
     "output_type": "execute_result"
    }
   ],
   "source": [
    "nums"
   ]
  },
  {
   "cell_type": "code",
   "execution_count": 70,
   "id": "0be5dd83-8ca3-4b82-9dd6-0762d4a08f4a",
   "metadata": {},
   "outputs": [
    {
     "data": {
      "text/plain": [
       "True"
      ]
     },
     "execution_count": 70,
     "metadata": {},
     "output_type": "execute_result"
    }
   ],
   "source": [
    "nums is numbers"
   ]
  },
  {
   "cell_type": "code",
   "execution_count": 71,
   "id": "3d7b0184-1c3b-41d3-b943-de4c2b50956d",
   "metadata": {},
   "outputs": [
    {
     "data": {
      "text/plain": [
       "[2, 4, 6, 8, 10]"
      ]
     },
     "execution_count": 71,
     "metadata": {},
     "output_type": "execute_result"
    }
   ],
   "source": [
    "evens"
   ]
  },
  {
   "cell_type": "code",
   "execution_count": 72,
   "id": "b58301dd-fff8-4fc4-83be-061e8550b3ac",
   "metadata": {},
   "outputs": [
    {
     "data": {
      "text/plain": [
       "True"
      ]
     },
     "execution_count": 72,
     "metadata": {},
     "output_type": "execute_result"
    }
   ],
   "source": [
    "evens == [2, 4, 6, 8, 10]"
   ]
  },
  {
   "cell_type": "code",
   "execution_count": 73,
   "id": "272647d8-2657-49e3-b9aa-20037aa24c02",
   "metadata": {},
   "outputs": [
    {
     "data": {
      "text/plain": [
       "False"
      ]
     },
     "execution_count": 73,
     "metadata": {},
     "output_type": "execute_result"
    }
   ],
   "source": [
    "evens is [2, 4, 6, 8, 10]"
   ]
  },
  {
   "cell_type": "code",
   "execution_count": 74,
   "id": "7b563a64-9c5c-4c49-aedb-8fa363a43513",
   "metadata": {},
   "outputs": [
    {
     "data": {
      "text/plain": [
       "True"
      ]
     },
     "execution_count": 74,
     "metadata": {},
     "output_type": "execute_result"
    }
   ],
   "source": [
    "nums == numbers"
   ]
  },
  {
   "cell_type": "code",
   "execution_count": 75,
   "id": "37605585-9497-439f-81ed-f3d96f98694e",
   "metadata": {},
   "outputs": [
    {
     "data": {
      "text/plain": [
       "True"
      ]
     },
     "execution_count": 75,
     "metadata": {},
     "output_type": "execute_result"
    }
   ],
   "source": [
    "nums is numbers"
   ]
  },
  {
   "cell_type": "code",
   "execution_count": 76,
   "id": "5246331c-25b5-46c6-8612-b5e1ecef60b2",
   "metadata": {},
   "outputs": [
    {
     "data": {
      "text/plain": [
       "4432682880"
      ]
     },
     "execution_count": 76,
     "metadata": {},
     "output_type": "execute_result"
    }
   ],
   "source": [
    "id(nums)"
   ]
  },
  {
   "cell_type": "code",
   "execution_count": 77,
   "id": "40cb029a-760f-45f4-a2e0-ab9b91b96307",
   "metadata": {},
   "outputs": [
    {
     "data": {
      "text/plain": [
       "4432682880"
      ]
     },
     "execution_count": 77,
     "metadata": {},
     "output_type": "execute_result"
    }
   ],
   "source": [
    "id(numbers)"
   ]
  },
  {
   "cell_type": "code",
   "execution_count": 78,
   "id": "c60c995a-e295-4e6b-bad4-94681c3139fd",
   "metadata": {},
   "outputs": [
    {
     "data": {
      "text/plain": [
       "'Sam'"
      ]
     },
     "execution_count": 78,
     "metadata": {},
     "output_type": "execute_result"
    }
   ],
   "source": [
    "name"
   ]
  },
  {
   "cell_type": "code",
   "execution_count": 79,
   "id": "2d031c08-2f65-4731-b7e4-d859217375f2",
   "metadata": {},
   "outputs": [
    {
     "data": {
      "text/plain": [
       "'John'"
      ]
     },
     "execution_count": 79,
     "metadata": {},
     "output_type": "execute_result"
    }
   ],
   "source": [
    "user_john_name"
   ]
  },
  {
   "cell_type": "code",
   "execution_count": 80,
   "id": "f7e663c1-e6df-4b37-a048-882a324d548d",
   "metadata": {},
   "outputs": [
    {
     "data": {
      "text/plain": [
       "4438186224"
      ]
     },
     "execution_count": 80,
     "metadata": {},
     "output_type": "execute_result"
    }
   ],
   "source": [
    "id(name)"
   ]
  },
  {
   "cell_type": "code",
   "execution_count": 81,
   "id": "3ef8d38b-bf39-4879-a7ec-6a05bdb98013",
   "metadata": {},
   "outputs": [
    {
     "data": {
      "text/plain": [
       "4438180848"
      ]
     },
     "execution_count": 81,
     "metadata": {},
     "output_type": "execute_result"
    }
   ],
   "source": [
    "id(user_john_name)"
   ]
  },
  {
   "cell_type": "code",
   "execution_count": 82,
   "id": "c421eeb1-10dd-423f-b3b4-ccb44706605b",
   "metadata": {},
   "outputs": [
    {
     "data": {
      "text/plain": [
       "False"
      ]
     },
     "execution_count": 82,
     "metadata": {},
     "output_type": "execute_result"
    }
   ],
   "source": [
    "user_john_name == name"
   ]
  },
  {
   "cell_type": "code",
   "execution_count": 83,
   "id": "dd27ee32-36fb-4172-b312-7bcd3ed4eaa8",
   "metadata": {},
   "outputs": [
    {
     "data": {
      "text/plain": [
       "False"
      ]
     },
     "execution_count": 83,
     "metadata": {},
     "output_type": "execute_result"
    }
   ],
   "source": [
    "user_john_name is name"
   ]
  },
  {
   "cell_type": "code",
   "execution_count": 84,
   "id": "a8ae9c48-7f63-4f06-80e1-427c87751b20",
   "metadata": {},
   "outputs": [],
   "source": [
    "name = \"John\""
   ]
  },
  {
   "cell_type": "code",
   "execution_count": 85,
   "id": "41109d42-129d-44eb-9fb0-ff1ac7e191d0",
   "metadata": {},
   "outputs": [
    {
     "data": {
      "text/plain": [
       "'John'"
      ]
     },
     "execution_count": 85,
     "metadata": {},
     "output_type": "execute_result"
    }
   ],
   "source": [
    "name"
   ]
  },
  {
   "cell_type": "code",
   "execution_count": 86,
   "id": "27a158d4-d229-44b6-bd2a-6f2ea0f64b69",
   "metadata": {},
   "outputs": [
    {
     "data": {
      "text/plain": [
       "True"
      ]
     },
     "execution_count": 86,
     "metadata": {},
     "output_type": "execute_result"
    }
   ],
   "source": [
    "user_john_name == name"
   ]
  },
  {
   "cell_type": "code",
   "execution_count": 87,
   "id": "7cc271f8-50ed-4d7e-93bb-85935239dce7",
   "metadata": {},
   "outputs": [
    {
     "data": {
      "text/plain": [
       "True"
      ]
     },
     "execution_count": 87,
     "metadata": {},
     "output_type": "execute_result"
    }
   ],
   "source": [
    "user_john_name is name"
   ]
  },
  {
   "cell_type": "code",
   "execution_count": 88,
   "id": "205ad89c-40e4-41f9-bdc6-651f6e14fac6",
   "metadata": {},
   "outputs": [
    {
     "data": {
      "text/plain": [
       "4438180848"
      ]
     },
     "execution_count": 88,
     "metadata": {},
     "output_type": "execute_result"
    }
   ],
   "source": [
    "id(name)"
   ]
  },
  {
   "cell_type": "code",
   "execution_count": 89,
   "id": "6a9b4a93-8d76-4da9-909c-088646a9bd00",
   "metadata": {},
   "outputs": [
    {
     "name": "stderr",
     "output_type": "stream",
     "text": [
      "<>:1: SyntaxWarning: \"is\" with a literal. Did you mean \"==\"?\n",
      "<>:1: SyntaxWarning: \"is\" with a literal. Did you mean \"==\"?\n",
      "/var/folders/r0/f247yh3j4djfkghshd5yf41m0000gn/T/ipykernel_63523/1728060598.py:1: SyntaxWarning: \"is\" with a literal. Did you mean \"==\"?\n",
      "  1 is 1\n"
     ]
    },
    {
     "data": {
      "text/plain": [
       "True"
      ]
     },
     "execution_count": 89,
     "metadata": {},
     "output_type": "execute_result"
    }
   ],
   "source": [
    "1 is 1"
   ]
  },
  {
   "cell_type": "code",
   "execution_count": 90,
   "id": "b62b22a2-6e15-4c8f-95ae-c39d8c733fd8",
   "metadata": {},
   "outputs": [],
   "source": [
    "num_a = 1\n",
    "num_b = 1"
   ]
  },
  {
   "cell_type": "code",
   "execution_count": 91,
   "id": "e3f9ad5b-4392-4327-98bd-1895e71679fa",
   "metadata": {},
   "outputs": [
    {
     "data": {
      "text/plain": [
       "True"
      ]
     },
     "execution_count": 91,
     "metadata": {},
     "output_type": "execute_result"
    }
   ],
   "source": [
    "num_a == num_b"
   ]
  },
  {
   "cell_type": "code",
   "execution_count": 92,
   "id": "d6a66962-5e7e-4f8b-a820-083cc9451866",
   "metadata": {},
   "outputs": [
    {
     "data": {
      "text/plain": [
       "True"
      ]
     },
     "execution_count": 92,
     "metadata": {},
     "output_type": "execute_result"
    }
   ],
   "source": [
    "num_a is num_b"
   ]
  },
  {
   "cell_type": "code",
   "execution_count": 93,
   "id": "a41ef836-5b50-4a07-8b15-08d44ac84643",
   "metadata": {},
   "outputs": [],
   "source": [
    "num_a = 1001\n",
    "num_b = 1001"
   ]
  },
  {
   "cell_type": "code",
   "execution_count": 94,
   "id": "6b0649b4-db6f-4b67-bcd3-0f200928fef6",
   "metadata": {},
   "outputs": [
    {
     "data": {
      "text/plain": [
       "True"
      ]
     },
     "execution_count": 94,
     "metadata": {},
     "output_type": "execute_result"
    }
   ],
   "source": [
    "num_a == num_b"
   ]
  },
  {
   "cell_type": "code",
   "execution_count": 95,
   "id": "b385df2f-9ba2-4718-89fe-05c813244c1d",
   "metadata": {},
   "outputs": [
    {
     "data": {
      "text/plain": [
       "False"
      ]
     },
     "execution_count": 95,
     "metadata": {},
     "output_type": "execute_result"
    }
   ],
   "source": [
    "num_a is num_b"
   ]
  },
  {
   "cell_type": "code",
   "execution_count": 96,
   "id": "25505184-b9b3-4c8d-9b0a-b93465460fe9",
   "metadata": {},
   "outputs": [
    {
     "data": {
      "text/plain": [
       "4437841744"
      ]
     },
     "execution_count": 96,
     "metadata": {},
     "output_type": "execute_result"
    }
   ],
   "source": [
    "id(num_a)"
   ]
  },
  {
   "cell_type": "code",
   "execution_count": 97,
   "id": "6748b749-2426-43ed-b087-86b086c0fa6d",
   "metadata": {},
   "outputs": [
    {
     "data": {
      "text/plain": [
       "4437841136"
      ]
     },
     "execution_count": 97,
     "metadata": {},
     "output_type": "execute_result"
    }
   ],
   "source": [
    "id(num_b)"
   ]
  },
  {
   "cell_type": "code",
   "execution_count": 98,
   "id": "cd452c72-b680-4fdb-8806-1d6078ad9819",
   "metadata": {},
   "outputs": [
    {
     "data": {
      "text/plain": [
       "True"
      ]
     },
     "execution_count": 98,
     "metadata": {},
     "output_type": "execute_result"
    }
   ],
   "source": [
    "(num_a == 1001) is True"
   ]
  },
  {
   "cell_type": "code",
   "execution_count": 99,
   "id": "7d2c606f-b952-4d11-8cec-3297813a9f86",
   "metadata": {},
   "outputs": [
    {
     "data": {
      "text/plain": [
       "True"
      ]
     },
     "execution_count": 99,
     "metadata": {},
     "output_type": "execute_result"
    }
   ],
   "source": [
    "True == 1"
   ]
  },
  {
   "cell_type": "code",
   "execution_count": 100,
   "id": "9e39b0c6-5dfe-484d-abc3-c7f53a96b8ea",
   "metadata": {},
   "outputs": [
    {
     "name": "stderr",
     "output_type": "stream",
     "text": [
      "<>:1: SyntaxWarning: \"is\" with a literal. Did you mean \"==\"?\n",
      "<>:1: SyntaxWarning: \"is\" with a literal. Did you mean \"==\"?\n",
      "/var/folders/r0/f247yh3j4djfkghshd5yf41m0000gn/T/ipykernel_63523/812578685.py:1: SyntaxWarning: \"is\" with a literal. Did you mean \"==\"?\n",
      "  True is 1\n"
     ]
    },
    {
     "data": {
      "text/plain": [
       "False"
      ]
     },
     "execution_count": 100,
     "metadata": {},
     "output_type": "execute_result"
    }
   ],
   "source": [
    "True is 1"
   ]
  },
  {
   "cell_type": "code",
   "execution_count": 101,
   "id": "8671037a-8598-4bb5-80bf-c6043c6f1d88",
   "metadata": {},
   "outputs": [
    {
     "data": {
      "text/plain": [
       "False"
      ]
     },
     "execution_count": 101,
     "metadata": {},
     "output_type": "execute_result"
    }
   ],
   "source": [
    "num_a == -num_a"
   ]
  },
  {
   "cell_type": "code",
   "execution_count": 103,
   "id": "18772f6b-2103-44f5-b451-e6ff230a8d3a",
   "metadata": {},
   "outputs": [
    {
     "data": {
      "text/plain": [
       "True"
      ]
     },
     "execution_count": 103,
     "metadata": {},
     "output_type": "execute_result"
    }
   ],
   "source": [
    "(num_a == -num_a) is False"
   ]
  },
  {
   "cell_type": "code",
   "execution_count": 104,
   "id": "24da14de-fae4-448f-8bad-c007488ca10c",
   "metadata": {},
   "outputs": [
    {
     "name": "stdout",
     "output_type": "stream",
     "text": [
      "abc\n"
     ]
    }
   ],
   "source": [
    "print(\"abc\")"
   ]
  },
  {
   "cell_type": "code",
   "execution_count": 105,
   "id": "71ea04f1-19ef-49e4-99eb-153ca2f67f9b",
   "metadata": {},
   "outputs": [
    {
     "name": "stdout",
     "output_type": "stream",
     "text": [
      "abc\n",
      "None\n"
     ]
    }
   ],
   "source": [
    "print(print(\"abc\"))"
   ]
  },
  {
   "cell_type": "code",
   "execution_count": 106,
   "id": "dbe4c9f0-d60a-4b95-9ea6-49f747bc7aa8",
   "metadata": {},
   "outputs": [
    {
     "name": "stdout",
     "output_type": "stream",
     "text": [
      "abc\n"
     ]
    },
    {
     "data": {
      "text/plain": [
       "True"
      ]
     },
     "execution_count": 106,
     "metadata": {},
     "output_type": "execute_result"
    }
   ],
   "source": [
    "print(\"abc\") is None"
   ]
  },
  {
   "cell_type": "code",
   "execution_count": 107,
   "id": "6a1bc9f0-0cfe-4d77-b340-ea616de9a6fa",
   "metadata": {},
   "outputs": [
    {
     "data": {
      "text/plain": [
       "[1, 2, 3, 4, 5, 6, 7]"
      ]
     },
     "execution_count": 107,
     "metadata": {},
     "output_type": "execute_result"
    }
   ],
   "source": [
    "numbers"
   ]
  },
  {
   "cell_type": "code",
   "execution_count": 108,
   "id": "7967fb00-e72a-436e-bc56-3bc2ea638fc5",
   "metadata": {},
   "outputs": [
    {
     "data": {
      "text/plain": [
       "[1, 2, 3, 4, 5, 6, 7]"
      ]
     },
     "execution_count": 108,
     "metadata": {},
     "output_type": "execute_result"
    }
   ],
   "source": [
    "nums"
   ]
  },
  {
   "cell_type": "code",
   "execution_count": 109,
   "id": "8bf3c6dc-3e66-4ad4-b965-49eb02c1cdbd",
   "metadata": {},
   "outputs": [
    {
     "data": {
      "text/plain": [
       "True"
      ]
     },
     "execution_count": 109,
     "metadata": {},
     "output_type": "execute_result"
    }
   ],
   "source": [
    "nums == numbers"
   ]
  },
  {
   "cell_type": "code",
   "execution_count": 110,
   "id": "c77a86e4-3164-41a9-8e0f-48fda2a6bc66",
   "metadata": {},
   "outputs": [
    {
     "data": {
      "text/plain": [
       "True"
      ]
     },
     "execution_count": 110,
     "metadata": {},
     "output_type": "execute_result"
    }
   ],
   "source": [
    "nums is numbers"
   ]
  },
  {
   "cell_type": "code",
   "execution_count": 111,
   "id": "c96ab82f-62a8-43e6-9008-098565e639bc",
   "metadata": {},
   "outputs": [
    {
     "data": {
      "text/plain": [
       "4432682880"
      ]
     },
     "execution_count": 111,
     "metadata": {},
     "output_type": "execute_result"
    }
   ],
   "source": [
    "id(nums)"
   ]
  },
  {
   "cell_type": "code",
   "execution_count": 112,
   "id": "395b9c3d-9bcc-4f29-9fa0-63c548a13875",
   "metadata": {},
   "outputs": [],
   "source": [
    "a = []"
   ]
  },
  {
   "cell_type": "code",
   "execution_count": 113,
   "id": "d3c10520-4b26-43a6-9641-90db85043e68",
   "metadata": {},
   "outputs": [
    {
     "data": {
      "text/plain": [
       "0"
      ]
     },
     "execution_count": 113,
     "metadata": {},
     "output_type": "execute_result"
    }
   ],
   "source": [
    "len(a)"
   ]
  },
  {
   "cell_type": "code",
   "execution_count": 114,
   "id": "0d0dcebb-ae4f-485d-bfc3-018baa6db170",
   "metadata": {},
   "outputs": [
    {
     "data": {
      "text/plain": [
       "4437954816"
      ]
     },
     "execution_count": 114,
     "metadata": {},
     "output_type": "execute_result"
    }
   ],
   "source": [
    "id(a)"
   ]
  },
  {
   "cell_type": "code",
   "execution_count": 115,
   "id": "27e82ced-b374-4aa5-8668-003e784df63b",
   "metadata": {},
   "outputs": [],
   "source": [
    "a.append(1)"
   ]
  },
  {
   "cell_type": "code",
   "execution_count": 116,
   "id": "97bf5f37-055a-406a-8ea5-3c876515bb6f",
   "metadata": {},
   "outputs": [
    {
     "data": {
      "text/plain": [
       "[1]"
      ]
     },
     "execution_count": 116,
     "metadata": {},
     "output_type": "execute_result"
    }
   ],
   "source": [
    "a"
   ]
  },
  {
   "cell_type": "code",
   "execution_count": 117,
   "id": "ab4eff71-bb80-4bf3-9f1e-e224f7889344",
   "metadata": {},
   "outputs": [
    {
     "data": {
      "text/plain": [
       "4437954816"
      ]
     },
     "execution_count": 117,
     "metadata": {},
     "output_type": "execute_result"
    }
   ],
   "source": [
    "id(a)"
   ]
  },
  {
   "cell_type": "code",
   "execution_count": 118,
   "id": "df3d2ae8-1b1d-4833-b440-c3462f02be69",
   "metadata": {},
   "outputs": [],
   "source": [
    "a.append(2)"
   ]
  },
  {
   "cell_type": "code",
   "execution_count": 119,
   "id": "0d597428-73d9-4fee-8d5b-5de29ab2ff5a",
   "metadata": {},
   "outputs": [
    {
     "data": {
      "text/plain": [
       "[1, 2]"
      ]
     },
     "execution_count": 119,
     "metadata": {},
     "output_type": "execute_result"
    }
   ],
   "source": [
    "a"
   ]
  },
  {
   "cell_type": "code",
   "execution_count": 120,
   "id": "791bdcf4-3bae-44a7-b3f2-e359ebcadae3",
   "metadata": {},
   "outputs": [
    {
     "data": {
      "text/plain": [
       "4437954816"
      ]
     },
     "execution_count": 120,
     "metadata": {},
     "output_type": "execute_result"
    }
   ],
   "source": [
    "id(a)"
   ]
  },
  {
   "cell_type": "code",
   "execution_count": 121,
   "id": "5389d1f1-dc50-48ed-bf25-7d72f00ff84c",
   "metadata": {},
   "outputs": [],
   "source": [
    "a.append(3)\n",
    "a.append(4)"
   ]
  },
  {
   "cell_type": "code",
   "execution_count": 122,
   "id": "fd0975e2-511e-41a3-be24-790d0833c92b",
   "metadata": {},
   "outputs": [
    {
     "data": {
      "text/plain": [
       "[1, 2, 3, 4]"
      ]
     },
     "execution_count": 122,
     "metadata": {},
     "output_type": "execute_result"
    }
   ],
   "source": [
    "a"
   ]
  },
  {
   "cell_type": "code",
   "execution_count": 123,
   "id": "3e0e8c6d-7f5f-4ad9-bef1-a23e15d8858f",
   "metadata": {},
   "outputs": [
    {
     "data": {
      "text/plain": [
       "4437954816"
      ]
     },
     "execution_count": 123,
     "metadata": {},
     "output_type": "execute_result"
    }
   ],
   "source": [
    "id(a)"
   ]
  },
  {
   "cell_type": "code",
   "execution_count": 124,
   "id": "1d9c9d07-3c28-4425-94a5-ad718b750d95",
   "metadata": {},
   "outputs": [],
   "source": [
    "a.append(5)\n",
    "a.append(6)"
   ]
  },
  {
   "cell_type": "code",
   "execution_count": 125,
   "id": "cfb72f4a-ed4c-4144-9d26-53e573af0962",
   "metadata": {},
   "outputs": [
    {
     "data": {
      "text/plain": [
       "[1, 2, 3, 4, 5, 6]"
      ]
     },
     "execution_count": 125,
     "metadata": {},
     "output_type": "execute_result"
    }
   ],
   "source": [
    "a"
   ]
  },
  {
   "cell_type": "code",
   "execution_count": 126,
   "id": "b47670f4-9a3e-420a-bed0-ee4b5c766ec5",
   "metadata": {},
   "outputs": [
    {
     "data": {
      "text/plain": [
       "4437954816"
      ]
     },
     "execution_count": 126,
     "metadata": {},
     "output_type": "execute_result"
    }
   ],
   "source": [
    "id(a)"
   ]
  },
  {
   "cell_type": "code",
   "execution_count": 127,
   "id": "4f7de09d-3235-4940-9b06-5bd7d307263b",
   "metadata": {},
   "outputs": [],
   "source": [
    "import sys"
   ]
  },
  {
   "cell_type": "code",
   "execution_count": 128,
   "id": "2c5760f6-f13c-4fe4-b84b-fc73b69445d7",
   "metadata": {},
   "outputs": [
    {
     "data": {
      "text/plain": [
       "120"
      ]
     },
     "execution_count": 128,
     "metadata": {},
     "output_type": "execute_result"
    }
   ],
   "source": [
    "sys.getsizeof(a)"
   ]
  },
  {
   "cell_type": "code",
   "execution_count": 129,
   "id": "75196593-b1d0-4abf-b5c7-e831d6b1ffe7",
   "metadata": {},
   "outputs": [
    {
     "data": {
      "text/plain": [
       "[1, 2, 3, 4, 5, 6, 7, 8, 9, 10, 11, 12]"
      ]
     },
     "execution_count": 129,
     "metadata": {},
     "output_type": "execute_result"
    }
   ],
   "source": [
    "a.extend([7,8,9,10,11,12])\n",
    "a"
   ]
  },
  {
   "cell_type": "code",
   "execution_count": 130,
   "id": "e71b18dd-a19e-48d4-bc4b-aa9dddc60520",
   "metadata": {},
   "outputs": [
    {
     "data": {
      "text/plain": [
       "152"
      ]
     },
     "execution_count": 130,
     "metadata": {},
     "output_type": "execute_result"
    }
   ],
   "source": [
    "sys.getsizeof(a)"
   ]
  },
  {
   "cell_type": "code",
   "execution_count": 131,
   "id": "17c804f9-b1b0-48be-813e-afc2356af201",
   "metadata": {},
   "outputs": [],
   "source": [
    "a.append(13)"
   ]
  },
  {
   "cell_type": "code",
   "execution_count": 132,
   "id": "bb1923c3-6ce6-4b8d-bce7-9c2d2b19a09e",
   "metadata": {},
   "outputs": [
    {
     "data": {
      "text/plain": [
       "[1, 2, 3, 4, 5, 6, 7, 8, 9, 10, 11, 12, 13]"
      ]
     },
     "execution_count": 132,
     "metadata": {},
     "output_type": "execute_result"
    }
   ],
   "source": [
    "a"
   ]
  },
  {
   "cell_type": "code",
   "execution_count": 133,
   "id": "c3534d83-0daa-4560-88c6-7845930399ca",
   "metadata": {},
   "outputs": [
    {
     "data": {
      "text/plain": [
       "216"
      ]
     },
     "execution_count": 133,
     "metadata": {},
     "output_type": "execute_result"
    }
   ],
   "source": [
    "sys.getsizeof(a)"
   ]
  },
  {
   "cell_type": "code",
   "execution_count": 134,
   "id": "10503db6-bb90-4c48-b43d-b2b733e8856b",
   "metadata": {},
   "outputs": [],
   "source": [
    "a.append(14)"
   ]
  },
  {
   "cell_type": "code",
   "execution_count": 135,
   "id": "a2566734-f4d1-4e13-947a-0215101bea97",
   "metadata": {},
   "outputs": [
    {
     "data": {
      "text/plain": [
       "[1, 2, 3, 4, 5, 6, 7, 8, 9, 10, 11, 12, 13, 14]"
      ]
     },
     "execution_count": 135,
     "metadata": {},
     "output_type": "execute_result"
    }
   ],
   "source": [
    "a"
   ]
  },
  {
   "cell_type": "code",
   "execution_count": 136,
   "id": "4612ded5-7e2e-419d-9107-4028bb7ac4f0",
   "metadata": {},
   "outputs": [
    {
     "data": {
      "text/plain": [
       "216"
      ]
     },
     "execution_count": 136,
     "metadata": {},
     "output_type": "execute_result"
    }
   ],
   "source": [
    "sys.getsizeof(a)"
   ]
  },
  {
   "cell_type": "code",
   "execution_count": 137,
   "id": "641e2844-f02f-4a56-8e62-a2025cc7c2ad",
   "metadata": {},
   "outputs": [],
   "source": [
    "a.append(15)"
   ]
  },
  {
   "cell_type": "code",
   "execution_count": 138,
   "id": "a1b6c731-4190-4359-afd6-5dbfe2133fc2",
   "metadata": {},
   "outputs": [
    {
     "data": {
      "text/plain": [
       "216"
      ]
     },
     "execution_count": 138,
     "metadata": {},
     "output_type": "execute_result"
    }
   ],
   "source": [
    "sys.getsizeof(a)"
   ]
  },
  {
   "cell_type": "code",
   "execution_count": 139,
   "id": "027015c5-bea2-4b53-876c-5d79263c817b",
   "metadata": {},
   "outputs": [
    {
     "data": {
      "text/plain": [
       "4437954816"
      ]
     },
     "execution_count": 139,
     "metadata": {},
     "output_type": "execute_result"
    }
   ],
   "source": [
    "id(a)"
   ]
  },
  {
   "cell_type": "code",
   "execution_count": 140,
   "id": "fcfe5058-25b8-42e2-8b2d-614e9a0a9c90",
   "metadata": {},
   "outputs": [],
   "source": [
    "a = \"abc\""
   ]
  },
  {
   "cell_type": "code",
   "execution_count": 141,
   "id": "317a7c2a-4f3c-46b3-b124-a18a6c31c344",
   "metadata": {},
   "outputs": [
    {
     "data": {
      "text/plain": [
       "'abc'"
      ]
     },
     "execution_count": 141,
     "metadata": {},
     "output_type": "execute_result"
    }
   ],
   "source": [
    "a"
   ]
  },
  {
   "cell_type": "code",
   "execution_count": 142,
   "id": "7e8c794b-2f4b-4519-a387-1fb13ab4f595",
   "metadata": {},
   "outputs": [],
   "source": [
    "None"
   ]
  },
  {
   "cell_type": "code",
   "execution_count": 143,
   "id": "0f92fae2-3882-42fc-8740-99a0839c1edd",
   "metadata": {},
   "outputs": [
    {
     "data": {
      "text/plain": [
       "[1, 2, 3, 4, 5, 6, 7]"
      ]
     },
     "execution_count": 143,
     "metadata": {},
     "output_type": "execute_result"
    }
   ],
   "source": [
    "nums"
   ]
  },
  {
   "cell_type": "code",
   "execution_count": 144,
   "id": "c9b504a9-8d73-43c9-9d27-49f53e45333a",
   "metadata": {},
   "outputs": [
    {
     "data": {
      "text/plain": [
       "[1, 2, 3, 4, 5, 6, 7]"
      ]
     },
     "execution_count": 144,
     "metadata": {},
     "output_type": "execute_result"
    }
   ],
   "source": [
    "numbers"
   ]
  },
  {
   "cell_type": "code",
   "execution_count": 145,
   "id": "6d7a628b-e8cb-4ba6-9515-29c77075b22c",
   "metadata": {},
   "outputs": [],
   "source": [
    "nums.insert(0, 0)"
   ]
  },
  {
   "cell_type": "code",
   "execution_count": 146,
   "id": "5197ba42-c765-439b-9c88-ed302dbcfa10",
   "metadata": {},
   "outputs": [
    {
     "data": {
      "text/plain": [
       "[0, 1, 2, 3, 4, 5, 6, 7]"
      ]
     },
     "execution_count": 146,
     "metadata": {},
     "output_type": "execute_result"
    }
   ],
   "source": [
    "nums"
   ]
  },
  {
   "cell_type": "code",
   "execution_count": 147,
   "id": "6c8cfdab-1a5f-4d24-af20-30e112d62642",
   "metadata": {},
   "outputs": [],
   "source": [
    "nums.insert(0, -1)"
   ]
  },
  {
   "cell_type": "code",
   "execution_count": 148,
   "id": "384f6bc1-ef40-4830-83b0-beafbd4cc06d",
   "metadata": {},
   "outputs": [
    {
     "data": {
      "text/plain": [
       "[-1, 0, 1, 2, 3, 4, 5, 6, 7]"
      ]
     },
     "execution_count": 148,
     "metadata": {},
     "output_type": "execute_result"
    }
   ],
   "source": [
    "nums"
   ]
  },
  {
   "cell_type": "code",
   "execution_count": 149,
   "id": "585649e1-f974-4087-808c-85ef588c49a8",
   "metadata": {},
   "outputs": [
    {
     "data": {
      "text/plain": [
       "7"
      ]
     },
     "execution_count": 149,
     "metadata": {},
     "output_type": "execute_result"
    }
   ],
   "source": [
    "nums.pop()"
   ]
  },
  {
   "cell_type": "code",
   "execution_count": 151,
   "id": "aa32aaf5-4063-45e9-bfbf-aa77af125476",
   "metadata": {},
   "outputs": [
    {
     "data": {
      "text/plain": [
       "[-1, 0, 1, 2, 3, 4, 5, 6]"
      ]
     },
     "execution_count": 151,
     "metadata": {},
     "output_type": "execute_result"
    }
   ],
   "source": [
    "nums"
   ]
  },
  {
   "cell_type": "code",
   "execution_count": 152,
   "id": "fdc7e152-bc2d-4829-8056-21823593cd45",
   "metadata": {},
   "outputs": [
    {
     "data": {
      "text/plain": [
       "3"
      ]
     },
     "execution_count": 152,
     "metadata": {},
     "output_type": "execute_result"
    }
   ],
   "source": [
    "nums.pop(4)"
   ]
  },
  {
   "cell_type": "code",
   "execution_count": 153,
   "id": "2fd1e59f-5b93-454e-abe9-01102eb9ac86",
   "metadata": {},
   "outputs": [
    {
     "data": {
      "text/plain": [
       "[-1, 0, 1, 2, 4, 5, 6]"
      ]
     },
     "execution_count": 153,
     "metadata": {},
     "output_type": "execute_result"
    }
   ],
   "source": [
    "nums"
   ]
  },
  {
   "cell_type": "code",
   "execution_count": 154,
   "id": "d9327f69-4fcd-443d-b852-79dcd0f12953",
   "metadata": {},
   "outputs": [],
   "source": [
    "nums.insert(4, 3)"
   ]
  },
  {
   "cell_type": "code",
   "execution_count": 155,
   "id": "c07bc165-e0d9-447b-a086-35c7362914d7",
   "metadata": {},
   "outputs": [
    {
     "data": {
      "text/plain": [
       "[-1, 0, 1, 2, 3, 4, 5, 6]"
      ]
     },
     "execution_count": 155,
     "metadata": {},
     "output_type": "execute_result"
    }
   ],
   "source": [
    "nums"
   ]
  },
  {
   "cell_type": "code",
   "execution_count": 156,
   "id": "dcdd086a-ee76-4d0f-b65d-4428b4834d4e",
   "metadata": {},
   "outputs": [],
   "source": [
    "nums[-2] = 7"
   ]
  },
  {
   "cell_type": "code",
   "execution_count": 157,
   "id": "7502958c-45f5-4620-9c57-65296410ae20",
   "metadata": {},
   "outputs": [
    {
     "data": {
      "text/plain": [
       "[-1, 0, 1, 2, 3, 4, 7, 6]"
      ]
     },
     "execution_count": 157,
     "metadata": {},
     "output_type": "execute_result"
    }
   ],
   "source": [
    "nums"
   ]
  },
  {
   "cell_type": "code",
   "execution_count": 158,
   "id": "d459fad6-7691-42d4-86a2-62c64bd341e3",
   "metadata": {},
   "outputs": [
    {
     "data": {
      "text/plain": [
       "6"
      ]
     },
     "execution_count": 158,
     "metadata": {},
     "output_type": "execute_result"
    }
   ],
   "source": [
    "nums.pop()"
   ]
  },
  {
   "cell_type": "code",
   "execution_count": 159,
   "id": "62e58ca1-210f-4eb6-8cd9-70b35032c499",
   "metadata": {},
   "outputs": [
    {
     "data": {
      "text/plain": [
       "[-1, 0, 1, 2, 3, 4, 7]"
      ]
     },
     "execution_count": 159,
     "metadata": {},
     "output_type": "execute_result"
    }
   ],
   "source": [
    "nums"
   ]
  },
  {
   "cell_type": "code",
   "execution_count": 160,
   "id": "604b9ffc-5e53-4558-a20f-baca8c259697",
   "metadata": {},
   "outputs": [
    {
     "data": {
      "text/plain": [
       "[1, 2, 3]"
      ]
     },
     "execution_count": 160,
     "metadata": {},
     "output_type": "execute_result"
    }
   ],
   "source": [
    "nums[2:5]"
   ]
  },
  {
   "cell_type": "code",
   "execution_count": 161,
   "id": "5a9d3f00-e0f1-4fe1-89ae-62ac332a10ea",
   "metadata": {},
   "outputs": [
    {
     "data": {
      "text/plain": [
       "[3, 4, 7]"
      ]
     },
     "execution_count": 161,
     "metadata": {},
     "output_type": "execute_result"
    }
   ],
   "source": [
    "nums[4:]"
   ]
  },
  {
   "cell_type": "code",
   "execution_count": 162,
   "id": "9b008598-2b1b-47e4-860b-7566f42417b0",
   "metadata": {},
   "outputs": [
    {
     "data": {
      "text/plain": [
       "[-1, 0, 1, 2]"
      ]
     },
     "execution_count": 162,
     "metadata": {},
     "output_type": "execute_result"
    }
   ],
   "source": [
    "nums[0:4]"
   ]
  },
  {
   "cell_type": "code",
   "execution_count": 163,
   "id": "29082518-da60-460a-a523-8e8301c35360",
   "metadata": {},
   "outputs": [
    {
     "data": {
      "text/plain": [
       "[-1, 0, 1, 2]"
      ]
     },
     "execution_count": 163,
     "metadata": {},
     "output_type": "execute_result"
    }
   ],
   "source": [
    "nums[:4]"
   ]
  },
  {
   "cell_type": "code",
   "execution_count": 164,
   "id": "e0b563f9-aa90-4932-97f7-acfb394760cb",
   "metadata": {},
   "outputs": [
    {
     "data": {
      "text/plain": [
       "7"
      ]
     },
     "execution_count": 164,
     "metadata": {},
     "output_type": "execute_result"
    }
   ],
   "source": [
    "len(nums)"
   ]
  },
  {
   "cell_type": "code",
   "execution_count": 165,
   "id": "01f253bc-2200-420c-85d0-85135d255aad",
   "metadata": {},
   "outputs": [],
   "source": [
    "nums[6] = 8"
   ]
  },
  {
   "cell_type": "code",
   "execution_count": 166,
   "id": "06848da3-906a-48a0-9996-22f93fe86db4",
   "metadata": {},
   "outputs": [
    {
     "data": {
      "text/plain": [
       "[-1, 0, 1, 2, 3, 4, 8]"
      ]
     },
     "execution_count": 166,
     "metadata": {},
     "output_type": "execute_result"
    }
   ],
   "source": [
    "nums"
   ]
  },
  {
   "cell_type": "code",
   "execution_count": 167,
   "id": "4edb165e-52c5-488f-a169-6a3d3f1623a9",
   "metadata": {},
   "outputs": [
    {
     "data": {
      "text/plain": [
       "[4]"
      ]
     },
     "execution_count": 167,
     "metadata": {},
     "output_type": "execute_result"
    }
   ],
   "source": [
    "nums[-2:-1]"
   ]
  },
  {
   "cell_type": "code",
   "execution_count": 168,
   "id": "5dfcc8e5-6273-45cf-8d46-66ae6aba8a17",
   "metadata": {},
   "outputs": [
    {
     "data": {
      "text/plain": [
       "[4, 8]"
      ]
     },
     "execution_count": 168,
     "metadata": {},
     "output_type": "execute_result"
    }
   ],
   "source": [
    "nums[-2:]"
   ]
  },
  {
   "cell_type": "code",
   "execution_count": 169,
   "id": "b2414fa5-5708-4ec2-a788-2abb6694a659",
   "metadata": {},
   "outputs": [
    {
     "data": {
      "text/plain": [
       "[8]"
      ]
     },
     "execution_count": 169,
     "metadata": {},
     "output_type": "execute_result"
    }
   ],
   "source": [
    "nums[-1:]"
   ]
  },
  {
   "cell_type": "code",
   "execution_count": 170,
   "id": "21fd5f0a-b1d9-4aae-b4f6-d283bdb33aea",
   "metadata": {},
   "outputs": [],
   "source": [
    "nums[-1:] = [5, 6, 7, 8]"
   ]
  },
  {
   "cell_type": "code",
   "execution_count": 172,
   "id": "bfdc213a-4b15-45fb-b2d5-0f5b9a72cc42",
   "metadata": {},
   "outputs": [
    {
     "data": {
      "text/plain": [
       "[-1, 0, 1, 2, 3, 4, 5, 6, 7, 8]"
      ]
     },
     "execution_count": 172,
     "metadata": {},
     "output_type": "execute_result"
    }
   ],
   "source": [
    "nums"
   ]
  },
  {
   "cell_type": "code",
   "execution_count": 173,
   "id": "894cea82-f482-4c4f-8314-229778573835",
   "metadata": {},
   "outputs": [
    {
     "data": {
      "text/plain": [
       "4432682880"
      ]
     },
     "execution_count": 173,
     "metadata": {},
     "output_type": "execute_result"
    }
   ],
   "source": [
    "id(nums)"
   ]
  },
  {
   "cell_type": "code",
   "execution_count": 174,
   "id": "498f457e-10e0-41ec-8692-44822368c068",
   "metadata": {},
   "outputs": [
    {
     "data": {
      "text/plain": [
       "[-1, 0, 1, 2, 3, 4, 5, 6, 7, 8]"
      ]
     },
     "execution_count": 174,
     "metadata": {},
     "output_type": "execute_result"
    }
   ],
   "source": [
    "numbers"
   ]
  },
  {
   "cell_type": "code",
   "execution_count": 175,
   "id": "12bdaf5e-3007-495f-9542-89af392d5b2f",
   "metadata": {},
   "outputs": [
    {
     "data": {
      "text/plain": [
       "4432682880"
      ]
     },
     "execution_count": 175,
     "metadata": {},
     "output_type": "execute_result"
    }
   ],
   "source": [
    "id(numbers)"
   ]
  },
  {
   "cell_type": "code",
   "execution_count": 176,
   "id": "c5d46155-7a84-4f88-bcef-cf4ad97c1977",
   "metadata": {},
   "outputs": [
    {
     "data": {
      "text/plain": [
       "True"
      ]
     },
     "execution_count": 176,
     "metadata": {},
     "output_type": "execute_result"
    }
   ],
   "source": [
    "nums is numbers"
   ]
  },
  {
   "cell_type": "code",
   "execution_count": 177,
   "id": "07fc8852-9e5d-4930-89ff-660faa2bd161",
   "metadata": {},
   "outputs": [],
   "source": [
    "nums_copy = nums[:]"
   ]
  },
  {
   "cell_type": "code",
   "execution_count": 178,
   "id": "21a2ae7c-b68d-4f08-8f10-6d8f44b4a13d",
   "metadata": {},
   "outputs": [
    {
     "data": {
      "text/plain": [
       "[-1, 0, 1, 2, 3, 4, 5, 6, 7, 8]"
      ]
     },
     "execution_count": 178,
     "metadata": {},
     "output_type": "execute_result"
    }
   ],
   "source": [
    "nums"
   ]
  },
  {
   "cell_type": "code",
   "execution_count": 179,
   "id": "d1e49495-94b7-437f-a430-1f8c32a3fcd1",
   "metadata": {},
   "outputs": [
    {
     "data": {
      "text/plain": [
       "[-1, 0, 1, 2, 3, 4, 5, 6, 7, 8]"
      ]
     },
     "execution_count": 179,
     "metadata": {},
     "output_type": "execute_result"
    }
   ],
   "source": [
    "nums_copy"
   ]
  },
  {
   "cell_type": "code",
   "execution_count": 180,
   "id": "dd1f0637-14f6-4db2-abb7-84a3c8f93d1b",
   "metadata": {},
   "outputs": [
    {
     "data": {
      "text/plain": [
       "True"
      ]
     },
     "execution_count": 180,
     "metadata": {},
     "output_type": "execute_result"
    }
   ],
   "source": [
    "nums == nums_copy"
   ]
  },
  {
   "cell_type": "code",
   "execution_count": 181,
   "id": "0fbbb2d5-993c-4dbd-904c-9cb49840e294",
   "metadata": {},
   "outputs": [
    {
     "data": {
      "text/plain": [
       "False"
      ]
     },
     "execution_count": 181,
     "metadata": {},
     "output_type": "execute_result"
    }
   ],
   "source": [
    "nums is nums_copy"
   ]
  },
  {
   "cell_type": "code",
   "execution_count": 182,
   "id": "9ac96a76-9206-4e5f-b8df-79b467fc9226",
   "metadata": {},
   "outputs": [
    {
     "data": {
      "text/plain": [
       "list"
      ]
     },
     "execution_count": 182,
     "metadata": {},
     "output_type": "execute_result"
    }
   ],
   "source": [
    "list"
   ]
  },
  {
   "cell_type": "code",
   "execution_count": 183,
   "id": "3b2440e7-80ec-443e-b2e5-66f58c5e74d1",
   "metadata": {},
   "outputs": [
    {
     "name": "stdout",
     "output_type": "stream",
     "text": [
      "<class 'list'>\n"
     ]
    }
   ],
   "source": [
    "print(list)"
   ]
  },
  {
   "cell_type": "code",
   "execution_count": 184,
   "id": "29dbdc3d-da85-4687-9381-7c944644ca70",
   "metadata": {},
   "outputs": [
    {
     "data": {
      "text/plain": [
       "[]"
      ]
     },
     "execution_count": 184,
     "metadata": {},
     "output_type": "execute_result"
    }
   ],
   "source": [
    "list()"
   ]
  },
  {
   "cell_type": "code",
   "execution_count": 185,
   "id": "e386cc4e-b538-4f72-acd4-a8185808ef23",
   "metadata": {},
   "outputs": [
    {
     "data": {
      "text/plain": [
       "True"
      ]
     },
     "execution_count": 185,
     "metadata": {},
     "output_type": "execute_result"
    }
   ],
   "source": [
    "[] == list()"
   ]
  },
  {
   "cell_type": "code",
   "execution_count": 186,
   "id": "819f8b9d-7193-49a9-881e-0ec8659d2b77",
   "metadata": {},
   "outputs": [
    {
     "data": {
      "text/plain": [
       "True"
      ]
     },
     "execution_count": 186,
     "metadata": {},
     "output_type": "execute_result"
    }
   ],
   "source": [
    "list(nums) == nums"
   ]
  },
  {
   "cell_type": "code",
   "execution_count": 187,
   "id": "cd4dabad-ffc2-438d-804b-6b4ce127c340",
   "metadata": {},
   "outputs": [
    {
     "data": {
      "text/plain": [
       "[-1, 0, 1, 2, 3, 4, 5, 6, 7, 8]"
      ]
     },
     "execution_count": 187,
     "metadata": {},
     "output_type": "execute_result"
    }
   ],
   "source": [
    "list(nums)"
   ]
  },
  {
   "cell_type": "code",
   "execution_count": 188,
   "id": "be514922-82f6-40dd-a157-61f5925685fe",
   "metadata": {},
   "outputs": [
    {
     "data": {
      "text/plain": [
       "False"
      ]
     },
     "execution_count": 188,
     "metadata": {},
     "output_type": "execute_result"
    }
   ],
   "source": [
    "list(nums) is nums"
   ]
  },
  {
   "cell_type": "code",
   "execution_count": 189,
   "id": "7d6f958f-62b1-490b-bf11-d0723f8bd801",
   "metadata": {},
   "outputs": [
    {
     "data": {
      "text/plain": [
       "[2, 4, 6, 8, 10]"
      ]
     },
     "execution_count": 189,
     "metadata": {},
     "output_type": "execute_result"
    }
   ],
   "source": [
    "evens"
   ]
  },
  {
   "cell_type": "code",
   "execution_count": 190,
   "id": "ed49cde8-f158-497b-92be-9bacc0823507",
   "metadata": {},
   "outputs": [],
   "source": [
    "evens.append(\"twelve\")"
   ]
  },
  {
   "cell_type": "code",
   "execution_count": 191,
   "id": "1d5bb43c-dc29-4426-9b4b-38b913df991b",
   "metadata": {},
   "outputs": [
    {
     "data": {
      "text/plain": [
       "[2, 4, 6, 8, 10, 'twelve']"
      ]
     },
     "execution_count": 191,
     "metadata": {},
     "output_type": "execute_result"
    }
   ],
   "source": [
    "evens"
   ]
  },
  {
   "cell_type": "code",
   "execution_count": 192,
   "id": "fb1430c3-221a-41c7-a767-96a09818e4e0",
   "metadata": {},
   "outputs": [],
   "source": [
    "evens[-1] = 12"
   ]
  },
  {
   "cell_type": "code",
   "execution_count": 193,
   "id": "57429d89-8b94-4836-b73a-878ffab058e4",
   "metadata": {},
   "outputs": [
    {
     "data": {
      "text/plain": [
       "[2, 4, 6, 8, 10, 12]"
      ]
     },
     "execution_count": 193,
     "metadata": {},
     "output_type": "execute_result"
    }
   ],
   "source": [
    "evens"
   ]
  },
  {
   "cell_type": "code",
   "execution_count": 194,
   "id": "a2420f42-be48-4672-97e7-ebc97bf7f1a8",
   "metadata": {},
   "outputs": [],
   "source": [
    "empty = None"
   ]
  },
  {
   "cell_type": "code",
   "execution_count": 195,
   "id": "294941f1-86c8-465c-9834-0344357d8b9b",
   "metadata": {},
   "outputs": [],
   "source": [
    "empty"
   ]
  },
  {
   "cell_type": "code",
   "execution_count": 196,
   "id": "60098775-ef4d-4d9f-bdce-738dc6eea59b",
   "metadata": {},
   "outputs": [
    {
     "name": "stdout",
     "output_type": "stream",
     "text": [
      "None\n"
     ]
    }
   ],
   "source": [
    "print(empty)"
   ]
  },
  {
   "cell_type": "code",
   "execution_count": 197,
   "id": "020fc013-05dc-421c-ac24-d988a9a55709",
   "metadata": {},
   "outputs": [
    {
     "data": {
      "text/plain": [
       "True"
      ]
     },
     "execution_count": 197,
     "metadata": {},
     "output_type": "execute_result"
    }
   ],
   "source": [
    "isinstance(numbers, list)"
   ]
  },
  {
   "cell_type": "code",
   "execution_count": 198,
   "id": "714f9605-dd57-4309-9d59-c5bbef6b0d98",
   "metadata": {},
   "outputs": [
    {
     "data": {
      "text/plain": [
       "True"
      ]
     },
     "execution_count": 198,
     "metadata": {},
     "output_type": "execute_result"
    }
   ],
   "source": [
    "isinstance(numbers, object)"
   ]
  },
  {
   "cell_type": "code",
   "execution_count": 199,
   "id": "ecf931cd-0566-4ec1-ac83-43f9c52e7db6",
   "metadata": {},
   "outputs": [
    {
     "data": {
      "text/plain": [
       "True"
      ]
     },
     "execution_count": 199,
     "metadata": {},
     "output_type": "execute_result"
    }
   ],
   "source": [
    "isinstance(\"abc\", object)"
   ]
  },
  {
   "cell_type": "code",
   "execution_count": 200,
   "id": "fe505426-66a7-471c-88d7-3631bc389c7c",
   "metadata": {},
   "outputs": [
    {
     "data": {
      "text/plain": [
       "False"
      ]
     },
     "execution_count": 200,
     "metadata": {},
     "output_type": "execute_result"
    }
   ],
   "source": [
    "isinstance(\"abc\", list)"
   ]
  },
  {
   "cell_type": "code",
   "execution_count": 201,
   "id": "ff1b266f-f1f5-4cf9-a76b-ff2fb5bd1310",
   "metadata": {},
   "outputs": [
    {
     "data": {
      "text/plain": [
       "True"
      ]
     },
     "execution_count": 201,
     "metadata": {},
     "output_type": "execute_result"
    }
   ],
   "source": [
    "isinstance(\"abc\", str)"
   ]
  },
  {
   "cell_type": "code",
   "execution_count": 202,
   "id": "6ec873c0-4da1-4996-bd3a-2b59f16896c1",
   "metadata": {},
   "outputs": [
    {
     "data": {
      "text/plain": [
       "True"
      ]
     },
     "execution_count": 202,
     "metadata": {},
     "output_type": "execute_result"
    }
   ],
   "source": [
    "isinstance(None, object)"
   ]
  },
  {
   "cell_type": "code",
   "execution_count": 203,
   "id": "bbb38f92-07fb-4981-8a1f-ec547e3e6b40",
   "metadata": {},
   "outputs": [
    {
     "data": {
      "text/plain": [
       "(1, 2, 3)"
      ]
     },
     "execution_count": 203,
     "metadata": {},
     "output_type": "execute_result"
    }
   ],
   "source": [
    "(1, 2, 3)"
   ]
  },
  {
   "cell_type": "code",
   "execution_count": 204,
   "id": "7aadc6d1-601c-405f-b174-f2cf008617b1",
   "metadata": {},
   "outputs": [
    {
     "name": "stdout",
     "output_type": "stream",
     "text": [
      "<class 'tuple'>\n"
     ]
    }
   ],
   "source": [
    "print(type(()))"
   ]
  },
  {
   "cell_type": "code",
   "execution_count": 205,
   "id": "cddb86e4-a2f0-42e4-af5d-ed59511ea9be",
   "metadata": {},
   "outputs": [],
   "source": [
    "items = 1, 2, \"abc\", True"
   ]
  },
  {
   "cell_type": "code",
   "execution_count": 206,
   "id": "9a22a794-deae-4f48-94d1-719858696d35",
   "metadata": {},
   "outputs": [
    {
     "name": "stdout",
     "output_type": "stream",
     "text": [
      "(1, 2, 'abc', True)\n"
     ]
    }
   ],
   "source": [
    "print(items)"
   ]
  },
  {
   "cell_type": "code",
   "execution_count": 207,
   "id": "26a13455-0882-4305-9251-37a97d4ae54b",
   "metadata": {},
   "outputs": [
    {
     "name": "stdout",
     "output_type": "stream",
     "text": [
      "<class 'tuple'>\n"
     ]
    }
   ],
   "source": [
    "print(type(items))"
   ]
  },
  {
   "cell_type": "code",
   "execution_count": 208,
   "id": "cf140e62-f121-409b-9dda-102ebb13f2d2",
   "metadata": {},
   "outputs": [],
   "source": [
    "items_one_only = 1"
   ]
  },
  {
   "cell_type": "code",
   "execution_count": 209,
   "id": "09d4d7bd-d7c4-45e4-bc32-68e7504460be",
   "metadata": {},
   "outputs": [
    {
     "name": "stdout",
     "output_type": "stream",
     "text": [
      "<class 'int'>\n"
     ]
    }
   ],
   "source": [
    "print(type(items_one_only))"
   ]
  },
  {
   "cell_type": "code",
   "execution_count": 210,
   "id": "0e146056-0e1c-43e9-b314-fdbdb1c69999",
   "metadata": {},
   "outputs": [],
   "source": [
    "items_one_only = 1,"
   ]
  },
  {
   "cell_type": "code",
   "execution_count": 211,
   "id": "2656ac01-5af5-4335-9794-5cdd5038d717",
   "metadata": {},
   "outputs": [
    {
     "name": "stdout",
     "output_type": "stream",
     "text": [
      "<class 'tuple'>\n"
     ]
    }
   ],
   "source": [
    "print(type(items_one_only))"
   ]
  },
  {
   "cell_type": "code",
   "execution_count": 212,
   "id": "30534835-68b1-48ea-9472-ee7d8802fa35",
   "metadata": {},
   "outputs": [],
   "source": [
    "items_one_only = (1,)"
   ]
  },
  {
   "cell_type": "code",
   "execution_count": 213,
   "id": "20277e81-9b6e-4618-8f46-9e7f95115838",
   "metadata": {},
   "outputs": [
    {
     "name": "stdout",
     "output_type": "stream",
     "text": [
      "<class 'tuple'>\n"
     ]
    }
   ],
   "source": [
    "print(type(items_one_only))"
   ]
  },
  {
   "cell_type": "code",
   "execution_count": 214,
   "id": "20ba3e2b-812f-4bc6-9747-f8aa6957ba3d",
   "metadata": {},
   "outputs": [
    {
     "data": {
      "text/plain": [
       "(1, 2, 'abc', True)"
      ]
     },
     "execution_count": 214,
     "metadata": {},
     "output_type": "execute_result"
    }
   ],
   "source": [
    "items"
   ]
  },
  {
   "cell_type": "code",
   "execution_count": 215,
   "id": "79823a78-72cd-47c8-b0c0-ee541108f3cc",
   "metadata": {},
   "outputs": [
    {
     "data": {
      "text/plain": [
       "1"
      ]
     },
     "execution_count": 215,
     "metadata": {},
     "output_type": "execute_result"
    }
   ],
   "source": [
    "items[0]"
   ]
  },
  {
   "cell_type": "code",
   "execution_count": 216,
   "id": "cf49fa93-5429-4da1-84d0-9bb11cada9f9",
   "metadata": {},
   "outputs": [
    {
     "data": {
      "text/plain": [
       "'abc'"
      ]
     },
     "execution_count": 216,
     "metadata": {},
     "output_type": "execute_result"
    }
   ],
   "source": [
    "items[2]"
   ]
  },
  {
   "cell_type": "code",
   "execution_count": 217,
   "id": "32410f93-6b80-44d7-8a4f-da1ca3ab8c29",
   "metadata": {},
   "outputs": [],
   "source": [
    "some_items = (1, 2, [\"abc\", \"foo\"])"
   ]
  },
  {
   "cell_type": "code",
   "execution_count": 218,
   "id": "a43a6b2d-47b3-43c3-b63c-e6cc0800b951",
   "metadata": {},
   "outputs": [
    {
     "data": {
      "text/plain": [
       "(1, 2, ['abc', 'foo'])"
      ]
     },
     "execution_count": 218,
     "metadata": {},
     "output_type": "execute_result"
    }
   ],
   "source": [
    "some_items"
   ]
  },
  {
   "cell_type": "code",
   "execution_count": 219,
   "id": "1e9b62f0-9f2c-4cf5-b830-a0b93e89c7ca",
   "metadata": {},
   "outputs": [
    {
     "data": {
      "text/plain": [
       "1"
      ]
     },
     "execution_count": 219,
     "metadata": {},
     "output_type": "execute_result"
    }
   ],
   "source": [
    "some_items[0]"
   ]
  },
  {
   "cell_type": "code",
   "execution_count": 220,
   "id": "469b389f-34d1-46da-99ac-548b1a025f73",
   "metadata": {},
   "outputs": [
    {
     "data": {
      "text/plain": [
       "['abc', 'foo']"
      ]
     },
     "execution_count": 220,
     "metadata": {},
     "output_type": "execute_result"
    }
   ],
   "source": [
    "some_items[2]"
   ]
  },
  {
   "cell_type": "code",
   "execution_count": 221,
   "id": "c291e87d-d4d1-4264-a527-78efdeced553",
   "metadata": {},
   "outputs": [],
   "source": [
    "some_items[2].append(\"bar\")"
   ]
  },
  {
   "cell_type": "code",
   "execution_count": 222,
   "id": "d58c6a1d-a66d-46b4-93c9-c923679b1dc1",
   "metadata": {},
   "outputs": [
    {
     "data": {
      "text/plain": [
       "(1, 2, ['abc', 'foo', 'bar'])"
      ]
     },
     "execution_count": 222,
     "metadata": {},
     "output_type": "execute_result"
    }
   ],
   "source": [
    "some_items"
   ]
  },
  {
   "cell_type": "code",
   "execution_count": 223,
   "id": "ec8caaad-a3fa-4e1e-ab41-2521b81d23c2",
   "metadata": {},
   "outputs": [
    {
     "data": {
      "text/plain": [
       "3"
      ]
     },
     "execution_count": 223,
     "metadata": {},
     "output_type": "execute_result"
    }
   ],
   "source": [
    "len(some_items)"
   ]
  },
  {
   "cell_type": "code",
   "execution_count": 224,
   "id": "06471537-8ef4-4887-9710-3479cdc111f7",
   "metadata": {},
   "outputs": [
    {
     "data": {
      "text/plain": [
       "(1, 2)"
      ]
     },
     "execution_count": 224,
     "metadata": {},
     "output_type": "execute_result"
    }
   ],
   "source": [
    "some_items[:2]"
   ]
  },
  {
   "cell_type": "code",
   "execution_count": 225,
   "id": "4cbf6b96-0379-467e-844e-2e5e7f43de2d",
   "metadata": {},
   "outputs": [
    {
     "data": {
      "text/plain": [
       "{}"
      ]
     },
     "execution_count": 225,
     "metadata": {},
     "output_type": "execute_result"
    }
   ],
   "source": [
    "{}"
   ]
  },
  {
   "cell_type": "code",
   "execution_count": 226,
   "id": "93a65dcb-b393-4aa0-962e-97bdfc63cfc9",
   "metadata": {},
   "outputs": [
    {
     "data": {
      "text/plain": [
       "False"
      ]
     },
     "execution_count": 226,
     "metadata": {},
     "output_type": "execute_result"
    }
   ],
   "source": [
    "bool(())"
   ]
  },
  {
   "cell_type": "code",
   "execution_count": 227,
   "id": "8e525c01-3646-48ae-822f-669aec627ce5",
   "metadata": {},
   "outputs": [
    {
     "data": {
      "text/plain": [
       "False"
      ]
     },
     "execution_count": 227,
     "metadata": {},
     "output_type": "execute_result"
    }
   ],
   "source": [
    "bool({})"
   ]
  },
  {
   "cell_type": "code",
   "execution_count": 228,
   "id": "14d8474e-4d22-4bfb-9f7e-f3d723a1e85a",
   "metadata": {},
   "outputs": [
    {
     "data": {
      "text/plain": [
       "True"
      ]
     },
     "execution_count": 228,
     "metadata": {},
     "output_type": "execute_result"
    }
   ],
   "source": [
    "bool((1,))"
   ]
  },
  {
   "cell_type": "code",
   "execution_count": 229,
   "id": "4670489f-7063-4b6d-9a6a-41c6f48faf45",
   "metadata": {},
   "outputs": [],
   "source": [
    "data = {\"foo\": \"bar\"}"
   ]
  },
  {
   "cell_type": "code",
   "execution_count": 230,
   "id": "a4da4aec-5e9d-4e97-9518-33f9b2e4c8fe",
   "metadata": {},
   "outputs": [
    {
     "data": {
      "text/plain": [
       "{'foo': 'bar'}"
      ]
     },
     "execution_count": 230,
     "metadata": {},
     "output_type": "execute_result"
    }
   ],
   "source": [
    "data"
   ]
  },
  {
   "cell_type": "code",
   "execution_count": 231,
   "id": "cbf8518e-9780-416b-adf4-ee34274f6b7f",
   "metadata": {},
   "outputs": [
    {
     "name": "stdout",
     "output_type": "stream",
     "text": [
      "{'foo': 'bar', 'fizz': 'buzz'}\n"
     ]
    }
   ],
   "source": [
    "data = {\n",
    "    \"foo\": \"bar\",\n",
    "    \"fizz\": \"buzz\",\n",
    "}\n",
    "print(data)"
   ]
  },
  {
   "cell_type": "code",
   "execution_count": 232,
   "id": "38e5174d-0819-4ef4-9c2a-5a081e26d60c",
   "metadata": {},
   "outputs": [],
   "source": [
    "users_by_id = {\n",
    "    1: {\"username\": \"John\", \"id\": 1},\n",
    "    2: {\"username\": \"Sam\", \"id\": 2},\n",
    "}"
   ]
  },
  {
   "cell_type": "code",
   "execution_count": 234,
   "id": "5e3b99c4-3bf7-4c25-ad6b-811dbe9bca92",
   "metadata": {},
   "outputs": [
    {
     "data": {
      "text/plain": [
       "{1: {'username': 'John', 'id': 1}, 2: {'username': 'Sam', 'id': 2}}"
      ]
     },
     "execution_count": 234,
     "metadata": {},
     "output_type": "execute_result"
    }
   ],
   "source": [
    "users_by_id"
   ]
  },
  {
   "cell_type": "code",
   "execution_count": 235,
   "id": "bac6ced7-599f-471f-8003-649964433b8b",
   "metadata": {},
   "outputs": [
    {
     "data": {
      "text/plain": [
       "{'username': 'John', 'id': 1}"
      ]
     },
     "execution_count": 235,
     "metadata": {},
     "output_type": "execute_result"
    }
   ],
   "source": [
    "users_by_id[1]"
   ]
  },
  {
   "cell_type": "code",
   "execution_count": 236,
   "id": "75c96732-b015-4307-bae3-62a21213e8b8",
   "metadata": {},
   "outputs": [
    {
     "data": {
      "text/plain": [
       "'bar'"
      ]
     },
     "execution_count": 236,
     "metadata": {},
     "output_type": "execute_result"
    }
   ],
   "source": [
    "data[\"foo\"]"
   ]
  },
  {
   "cell_type": "code",
   "execution_count": 237,
   "id": "7c02d2de-3b31-4233-93ed-21fbba98088f",
   "metadata": {},
   "outputs": [
    {
     "data": {
      "text/plain": [
       "{'foo': 'bar', 'fizz': 'buzz'}"
      ]
     },
     "execution_count": 237,
     "metadata": {},
     "output_type": "execute_result"
    }
   ],
   "source": [
    "data"
   ]
  },
  {
   "cell_type": "code",
   "execution_count": 238,
   "id": "e29444e1-df9b-4028-afab-d73724ec9cd2",
   "metadata": {},
   "outputs": [],
   "source": [
    "data.get(\"spam\")"
   ]
  },
  {
   "cell_type": "code",
   "execution_count": 239,
   "id": "97b5b14c-67d9-4c1f-a0bd-6a35f196e133",
   "metadata": {},
   "outputs": [
    {
     "name": "stdout",
     "output_type": "stream",
     "text": [
      "None\n"
     ]
    }
   ],
   "source": [
    "print(data.get(\"spam\"))"
   ]
  },
  {
   "cell_type": "code",
   "execution_count": 240,
   "id": "87a94c7e-eab0-48ed-a099-5e2baa4c5dcc",
   "metadata": {},
   "outputs": [],
   "source": [
    "users_by_id.get(3)"
   ]
  },
  {
   "cell_type": "code",
   "execution_count": 241,
   "id": "eed4f526-4d05-416f-8e8f-1026d19385fe",
   "metadata": {},
   "outputs": [],
   "source": [
    "users_by_id[3] = {\"username\": \"Nick\", \"id\": 3}"
   ]
  },
  {
   "cell_type": "code",
   "execution_count": 242,
   "id": "ec0a5516-a79b-450b-a861-9e5784f7f348",
   "metadata": {},
   "outputs": [
    {
     "data": {
      "text/plain": [
       "{1: {'username': 'John', 'id': 1},\n",
       " 2: {'username': 'Sam', 'id': 2},\n",
       " 3: {'username': 'Nick', 'id': 3}}"
      ]
     },
     "execution_count": 242,
     "metadata": {},
     "output_type": "execute_result"
    }
   ],
   "source": [
    "users_by_id"
   ]
  },
  {
   "cell_type": "code",
   "execution_count": 243,
   "id": "73642122-d473-4f68-a625-88c27f500cd7",
   "metadata": {},
   "outputs": [
    {
     "data": {
      "text/plain": [
       "{'username': 'Nick', 'id': 3}"
      ]
     },
     "execution_count": 243,
     "metadata": {},
     "output_type": "execute_result"
    }
   ],
   "source": [
    "users_by_id.get(3)"
   ]
  },
  {
   "cell_type": "code",
   "execution_count": 244,
   "id": "d986dc2c-7868-41fd-b456-f5d5d24c78ed",
   "metadata": {},
   "outputs": [],
   "source": [
    "users_by_id[1] = {\"foo\": \"bar\"}"
   ]
  },
  {
   "cell_type": "code",
   "execution_count": 245,
   "id": "9ac83ed8-1d59-4339-8218-2708a9fe1039",
   "metadata": {},
   "outputs": [
    {
     "data": {
      "text/plain": [
       "{1: {'foo': 'bar'},\n",
       " 2: {'username': 'Sam', 'id': 2},\n",
       " 3: {'username': 'Nick', 'id': 3}}"
      ]
     },
     "execution_count": 245,
     "metadata": {},
     "output_type": "execute_result"
    }
   ],
   "source": [
    "users_by_id"
   ]
  },
  {
   "cell_type": "code",
   "execution_count": 246,
   "id": "2d4b4f89-fb58-42d7-8423-86d342c2b77b",
   "metadata": {},
   "outputs": [
    {
     "data": {
      "text/plain": [
       "{'foo': 'bar', 'fizz': 'buzz'}"
      ]
     },
     "execution_count": 246,
     "metadata": {},
     "output_type": "execute_result"
    }
   ],
   "source": [
    "data"
   ]
  },
  {
   "cell_type": "code",
   "execution_count": 247,
   "id": "19bda40d-f964-4d6f-9ef2-a2ad431518f7",
   "metadata": {},
   "outputs": [],
   "source": [
    "data.update(spam=\"eggs\")"
   ]
  },
  {
   "cell_type": "code",
   "execution_count": 248,
   "id": "96792975-dec0-43cc-829d-b6956f37bbef",
   "metadata": {},
   "outputs": [
    {
     "data": {
      "text/plain": [
       "{'foo': 'bar', 'fizz': 'buzz', 'spam': 'eggs'}"
      ]
     },
     "execution_count": 248,
     "metadata": {},
     "output_type": "execute_result"
    }
   ],
   "source": [
    "data"
   ]
  },
  {
   "cell_type": "code",
   "execution_count": 249,
   "id": "0e4c1a72-5d20-46b7-b06f-5d709bd83d5c",
   "metadata": {},
   "outputs": [
    {
     "data": {
      "text/plain": [
       "{'foo': 'bar', 'fizz': 'buzz', 'spam': 'eggs', 123: 'qwe'}"
      ]
     },
     "execution_count": 249,
     "metadata": {},
     "output_type": "execute_result"
    }
   ],
   "source": [
    "data.update({123: \"qwe\"})\n",
    "data"
   ]
  },
  {
   "cell_type": "code",
   "execution_count": 251,
   "id": "cd402765-b4b2-4260-a105-bc740b68843f",
   "metadata": {},
   "outputs": [],
   "source": [
    "data.update({1: \"one\", True: \"truth\", \"1\": \"number one\"})"
   ]
  },
  {
   "cell_type": "code",
   "execution_count": 252,
   "id": "14a657c9-0f49-4e6a-befc-dbaf65206302",
   "metadata": {},
   "outputs": [
    {
     "data": {
      "text/plain": [
       "{'foo': 'bar',\n",
       " 'fizz': 'buzz',\n",
       " 'spam': 'eggs',\n",
       " 123: 'qwe',\n",
       " 1: 'truth',\n",
       " '1': 'number one'}"
      ]
     },
     "execution_count": 252,
     "metadata": {},
     "output_type": "execute_result"
    }
   ],
   "source": [
    "data"
   ]
  },
  {
   "cell_type": "code",
   "execution_count": 253,
   "id": "70f60093-7db6-42ce-94a3-f2b73df5f74e",
   "metadata": {},
   "outputs": [
    {
     "data": {
      "text/plain": [
       "'truth'"
      ]
     },
     "execution_count": 253,
     "metadata": {},
     "output_type": "execute_result"
    }
   ],
   "source": [
    "data[True]"
   ]
  },
  {
   "cell_type": "code",
   "execution_count": 254,
   "id": "92d0c810-1b2d-4f38-bee1-6ec73492236a",
   "metadata": {},
   "outputs": [
    {
     "name": "stdout",
     "output_type": "stream",
     "text": [
      "(42, 13)\n"
     ]
    }
   ],
   "source": [
    "age = 42\n",
    "fav_number = 13\n",
    "user_key = age, fav_number\n",
    "\n",
    "print(user_key)"
   ]
  },
  {
   "cell_type": "code",
   "execution_count": 255,
   "id": "b7383a95-9f12-4b0e-bde8-7b1b4ffe6efc",
   "metadata": {},
   "outputs": [],
   "source": [
    "data[user_key] = []"
   ]
  },
  {
   "cell_type": "code",
   "execution_count": 256,
   "id": "a3d3f378-d3e7-4b38-82d9-f9a308d52acc",
   "metadata": {},
   "outputs": [
    {
     "data": {
      "text/plain": [
       "{'foo': 'bar',\n",
       " 'fizz': 'buzz',\n",
       " 'spam': 'eggs',\n",
       " 123: 'qwe',\n",
       " 1: 'truth',\n",
       " '1': 'number one',\n",
       " (42, 13): []}"
      ]
     },
     "execution_count": 256,
     "metadata": {},
     "output_type": "execute_result"
    }
   ],
   "source": [
    "data"
   ]
  },
  {
   "cell_type": "code",
   "execution_count": 257,
   "id": "28166bd3-e022-4470-a61b-c8966637bd3d",
   "metadata": {},
   "outputs": [],
   "source": [
    "data[user_key].append(\"user1\")"
   ]
  },
  {
   "cell_type": "code",
   "execution_count": 258,
   "id": "4052aa1f-d6b1-44db-823d-9c5475afd8be",
   "metadata": {},
   "outputs": [
    {
     "data": {
      "text/plain": [
       "{'foo': 'bar',\n",
       " 'fizz': 'buzz',\n",
       " 'spam': 'eggs',\n",
       " 123: 'qwe',\n",
       " 1: 'truth',\n",
       " '1': 'number one',\n",
       " (42, 13): ['user1']}"
      ]
     },
     "execution_count": 258,
     "metadata": {},
     "output_type": "execute_result"
    }
   ],
   "source": [
    "data"
   ]
  },
  {
   "cell_type": "code",
   "execution_count": 259,
   "id": "9fd442f9-473e-4576-a060-16278ea53f2f",
   "metadata": {},
   "outputs": [],
   "source": [
    "data[user_key].append(\"user2\")"
   ]
  },
  {
   "cell_type": "code",
   "execution_count": 260,
   "id": "759f20c4-89fa-46f2-b1eb-1df9597b772f",
   "metadata": {},
   "outputs": [
    {
     "data": {
      "text/plain": [
       "{'foo': 'bar',\n",
       " 'fizz': 'buzz',\n",
       " 'spam': 'eggs',\n",
       " 123: 'qwe',\n",
       " 1: 'truth',\n",
       " '1': 'number one',\n",
       " (42, 13): ['user1', 'user2']}"
      ]
     },
     "execution_count": 260,
     "metadata": {},
     "output_type": "execute_result"
    }
   ],
   "source": [
    "data"
   ]
  },
  {
   "cell_type": "code",
   "execution_count": 261,
   "id": "c2aa8c2e-a2be-4c71-9e28-daf7dff80fda",
   "metadata": {},
   "outputs": [
    {
     "ename": "TypeError",
     "evalue": "unhashable type: 'list'",
     "output_type": "error",
     "traceback": [
      "\u001b[0;31m---------------------------------------------------------------------------\u001b[0m",
      "\u001b[0;31mTypeError\u001b[0m                                 Traceback (most recent call last)",
      "Cell \u001b[0;32mIn[261], line 1\u001b[0m\n\u001b[0;32m----> 1\u001b[0m \u001b[43mdata\u001b[49m\u001b[43m[\u001b[49m\u001b[43m(\u001b[49m\u001b[38;5;241;43m1\u001b[39;49m\u001b[43m,\u001b[49m\u001b[43m \u001b[49m\u001b[38;5;241;43m2\u001b[39;49m\u001b[43m,\u001b[49m\u001b[43m \u001b[49m\u001b[43m[\u001b[49m\u001b[43m]\u001b[49m\u001b[43m)\u001b[49m\u001b[43m]\u001b[49m\n",
      "\u001b[0;31mTypeError\u001b[0m: unhashable type: 'list'"
     ]
    }
   ],
   "source": [
    "data[(1, 2, [])]"
   ]
  },
  {
   "cell_type": "code",
   "execution_count": 262,
   "id": "7f76aaa7-bf20-4ea0-ad91-cd1c46e93e6b",
   "metadata": {},
   "outputs": [
    {
     "data": {
      "text/plain": [
       "['user1', 'user2']"
      ]
     },
     "execution_count": 262,
     "metadata": {},
     "output_type": "execute_result"
    }
   ],
   "source": [
    "data[(42, 13)]"
   ]
  },
  {
   "cell_type": "code",
   "execution_count": 263,
   "id": "d1060c78-51b7-4238-8545-2dcd19ec351a",
   "metadata": {},
   "outputs": [
    {
     "data": {
      "text/plain": [
       "set()"
      ]
     },
     "execution_count": 263,
     "metadata": {},
     "output_type": "execute_result"
    }
   ],
   "source": [
    "set()"
   ]
  },
  {
   "cell_type": "code",
   "execution_count": 264,
   "id": "ad54469e-c111-4f0f-9e18-05d74ff7f750",
   "metadata": {},
   "outputs": [
    {
     "data": {
      "text/plain": [
       "{1, 2, 3}"
      ]
     },
     "execution_count": 264,
     "metadata": {},
     "output_type": "execute_result"
    }
   ],
   "source": [
    "{1, 2, 3}"
   ]
  },
  {
   "cell_type": "code",
   "execution_count": 265,
   "id": "688f0760-815a-49e0-8aac-5a4c71f070f5",
   "metadata": {},
   "outputs": [
    {
     "data": {
      "text/plain": [
       "set"
      ]
     },
     "execution_count": 265,
     "metadata": {},
     "output_type": "execute_result"
    }
   ],
   "source": [
    "type({1})"
   ]
  },
  {
   "cell_type": "code",
   "execution_count": 267,
   "id": "fcc40f08-ba4d-41cc-b8bc-0fe99dcd90d6",
   "metadata": {},
   "outputs": [
    {
     "data": {
      "text/plain": [
       "dict"
      ]
     },
     "execution_count": 267,
     "metadata": {},
     "output_type": "execute_result"
    }
   ],
   "source": [
    "type({})"
   ]
  },
  {
   "cell_type": "code",
   "execution_count": 268,
   "id": "841761ab-10a6-48e5-8765-6732b54ff305",
   "metadata": {},
   "outputs": [
    {
     "data": {
      "text/plain": [
       "set"
      ]
     },
     "execution_count": 268,
     "metadata": {},
     "output_type": "execute_result"
    }
   ],
   "source": [
    "type(set())"
   ]
  },
  {
   "cell_type": "code",
   "execution_count": 269,
   "id": "a0e1e224-2f1d-49db-a926-0d6da1cadd80",
   "metadata": {},
   "outputs": [],
   "source": [
    "odds = {1, 3}"
   ]
  },
  {
   "cell_type": "code",
   "execution_count": 270,
   "id": "e0de9d67-18e7-45f3-8430-04f1140a71ac",
   "metadata": {},
   "outputs": [
    {
     "data": {
      "text/plain": [
       "{1, 3}"
      ]
     },
     "execution_count": 270,
     "metadata": {},
     "output_type": "execute_result"
    }
   ],
   "source": [
    "odds"
   ]
  },
  {
   "cell_type": "code",
   "execution_count": 271,
   "id": "0cbfa176-ee3e-4525-b5c4-6ba0e17c0698",
   "metadata": {},
   "outputs": [],
   "source": [
    "odds.add(5)"
   ]
  },
  {
   "cell_type": "code",
   "execution_count": 272,
   "id": "a1132d61-59c6-46c5-8c8e-75faa4f02e03",
   "metadata": {},
   "outputs": [
    {
     "data": {
      "text/plain": [
       "{1, 3, 5}"
      ]
     },
     "execution_count": 272,
     "metadata": {},
     "output_type": "execute_result"
    }
   ],
   "source": [
    "odds"
   ]
  },
  {
   "cell_type": "code",
   "execution_count": 273,
   "id": "8ee105d0-a51c-4cea-9cdb-c0f5bdf7f299",
   "metadata": {},
   "outputs": [],
   "source": [
    "odds.add(-1)"
   ]
  },
  {
   "cell_type": "code",
   "execution_count": 274,
   "id": "9e3120f0-3b01-473f-a596-46fde26abd1a",
   "metadata": {},
   "outputs": [
    {
     "data": {
      "text/plain": [
       "{-1, 1, 3, 5}"
      ]
     },
     "execution_count": 274,
     "metadata": {},
     "output_type": "execute_result"
    }
   ],
   "source": [
    "odds"
   ]
  },
  {
   "cell_type": "code",
   "execution_count": 275,
   "id": "70dfd7be-ab41-4241-b05c-d9ec80dcfbbe",
   "metadata": {},
   "outputs": [
    {
     "name": "stdout",
     "output_type": "stream",
     "text": [
      "{1, 3, 5, -1}\n"
     ]
    }
   ],
   "source": [
    "print(odds)"
   ]
  },
  {
   "cell_type": "code",
   "execution_count": 276,
   "id": "5fedb740-2acb-41f4-b300-8397b490982f",
   "metadata": {},
   "outputs": [],
   "source": [
    "odds.add(3)"
   ]
  },
  {
   "cell_type": "code",
   "execution_count": 277,
   "id": "a765813d-1bea-4ffb-8710-2f3d6000a04b",
   "metadata": {},
   "outputs": [
    {
     "data": {
      "text/plain": [
       "{-1, 1, 3, 5}"
      ]
     },
     "execution_count": 277,
     "metadata": {},
     "output_type": "execute_result"
    }
   ],
   "source": [
    "odds"
   ]
  },
  {
   "cell_type": "code",
   "execution_count": 278,
   "id": "1bb518da-3e9c-45c1-9dda-d13a1b4eba78",
   "metadata": {},
   "outputs": [
    {
     "data": {
      "text/plain": [
       "True"
      ]
     },
     "execution_count": 278,
     "metadata": {},
     "output_type": "execute_result"
    }
   ],
   "source": [
    "1 in odds"
   ]
  },
  {
   "cell_type": "code",
   "execution_count": 279,
   "id": "70fb02ac-1cad-472d-a1ce-9cb6cf1e15d4",
   "metadata": {},
   "outputs": [
    {
     "data": {
      "text/plain": [
       "False"
      ]
     },
     "execution_count": 279,
     "metadata": {},
     "output_type": "execute_result"
    }
   ],
   "source": [
    "2 in odds"
   ]
  },
  {
   "cell_type": "code",
   "execution_count": 280,
   "id": "c6ae1204-130d-44c8-866f-358aa3e74915",
   "metadata": {},
   "outputs": [
    {
     "data": {
      "text/plain": [
       "True"
      ]
     },
     "execution_count": 280,
     "metadata": {},
     "output_type": "execute_result"
    }
   ],
   "source": [
    "\"foo\" in data"
   ]
  },
  {
   "cell_type": "code",
   "execution_count": 281,
   "id": "7593428c-50b1-47c7-b87f-490042861d87",
   "metadata": {},
   "outputs": [
    {
     "data": {
      "text/plain": [
       "False"
      ]
     },
     "execution_count": 281,
     "metadata": {},
     "output_type": "execute_result"
    }
   ],
   "source": [
    "\"bar\" in data"
   ]
  },
  {
   "cell_type": "code",
   "execution_count": 282,
   "id": "02d37e04-5be5-4e67-b2a6-2f1ddab3bd6b",
   "metadata": {},
   "outputs": [
    {
     "data": {
      "text/plain": [
       "{'foo': 'bar',\n",
       " 'fizz': 'buzz',\n",
       " 'spam': 'eggs',\n",
       " 123: 'qwe',\n",
       " 1: 'truth',\n",
       " '1': 'number one',\n",
       " (42, 13): ['user1', 'user2']}"
      ]
     },
     "execution_count": 282,
     "metadata": {},
     "output_type": "execute_result"
    }
   ],
   "source": [
    "data"
   ]
  },
  {
   "cell_type": "code",
   "execution_count": 284,
   "id": "32c1f8ba-7ea7-4113-bca7-cf84bd9a5ce2",
   "metadata": {},
   "outputs": [
    {
     "data": {
      "text/plain": [
       "[-1, 0, 1, 2, 3, 4, 5, 6, 7, 8]"
      ]
     },
     "execution_count": 284,
     "metadata": {},
     "output_type": "execute_result"
    }
   ],
   "source": [
    "numbers"
   ]
  },
  {
   "cell_type": "code",
   "execution_count": 285,
   "id": "80a773bd-fd72-4384-be33-c024192beb58",
   "metadata": {},
   "outputs": [
    {
     "data": {
      "text/plain": [
       "True"
      ]
     },
     "execution_count": 285,
     "metadata": {},
     "output_type": "execute_result"
    }
   ],
   "source": [
    "4 in numbers"
   ]
  },
  {
   "cell_type": "code",
   "execution_count": 286,
   "id": "323953f1-e2ce-42db-80f7-48931090f66b",
   "metadata": {},
   "outputs": [
    {
     "data": {
      "text/plain": [
       "False"
      ]
     },
     "execution_count": 286,
     "metadata": {},
     "output_type": "execute_result"
    }
   ],
   "source": [
    "9 in numbers"
   ]
  },
  {
   "cell_type": "code",
   "execution_count": 287,
   "id": "f179df30-1b59-46a2-91ee-f5bed0d0e462",
   "metadata": {},
   "outputs": [
    {
     "data": {
      "text/plain": [
       "{-1, 1, 3, 5}"
      ]
     },
     "execution_count": 287,
     "metadata": {},
     "output_type": "execute_result"
    }
   ],
   "source": [
    "odds"
   ]
  },
  {
   "cell_type": "code",
   "execution_count": 288,
   "id": "ed289a37-76c9-40ea-89e6-f398af808036",
   "metadata": {},
   "outputs": [],
   "source": [
    "odds.remove(-1)"
   ]
  },
  {
   "cell_type": "code",
   "execution_count": 289,
   "id": "67b5662e-e7df-4f7a-b005-66f3ccf6d457",
   "metadata": {},
   "outputs": [
    {
     "data": {
      "text/plain": [
       "{1, 3, 5}"
      ]
     },
     "execution_count": 289,
     "metadata": {},
     "output_type": "execute_result"
    }
   ],
   "source": [
    "odds"
   ]
  },
  {
   "cell_type": "code",
   "execution_count": 290,
   "id": "f0a9df3c-0726-4d57-8ea8-62b8095410d9",
   "metadata": {},
   "outputs": [
    {
     "data": {
      "text/plain": [
       "['user1', 'user2']"
      ]
     },
     "execution_count": 290,
     "metadata": {},
     "output_type": "execute_result"
    }
   ],
   "source": [
    "data[(42, 13)]"
   ]
  },
  {
   "cell_type": "code",
   "execution_count": 291,
   "id": "5bfd2f81-4672-4dfc-8100-ee4318e48d60",
   "metadata": {},
   "outputs": [],
   "source": [
    "users_list = data[(42, 13)]"
   ]
  },
  {
   "cell_type": "code",
   "execution_count": 292,
   "id": "96ea7955-c089-41b3-b7d7-e018cbac9da0",
   "metadata": {},
   "outputs": [],
   "source": [
    "data[(42, 13)].append(\"user3\")"
   ]
  },
  {
   "cell_type": "code",
   "execution_count": 293,
   "id": "97c585d2-e774-4524-a563-9ab3cbf733db",
   "metadata": {},
   "outputs": [
    {
     "data": {
      "text/plain": [
       "{'foo': 'bar',\n",
       " 'fizz': 'buzz',\n",
       " 'spam': 'eggs',\n",
       " 123: 'qwe',\n",
       " 1: 'truth',\n",
       " '1': 'number one',\n",
       " (42, 13): ['user1', 'user2', 'user3']}"
      ]
     },
     "execution_count": 293,
     "metadata": {},
     "output_type": "execute_result"
    }
   ],
   "source": [
    "data"
   ]
  },
  {
   "cell_type": "code",
   "execution_count": 294,
   "id": "57fc9083-cdd4-4992-a812-dae50b46c91c",
   "metadata": {},
   "outputs": [
    {
     "data": {
      "text/plain": [
       "['user1', 'user2', 'user3']"
      ]
     },
     "execution_count": 294,
     "metadata": {},
     "output_type": "execute_result"
    }
   ],
   "source": [
    "users_list"
   ]
  },
  {
   "cell_type": "code",
   "execution_count": 295,
   "id": "fe351e90-0da5-428a-9d1a-3a94a35a8064",
   "metadata": {},
   "outputs": [],
   "source": [
    "users_list[1] = \"user_2\""
   ]
  },
  {
   "cell_type": "code",
   "execution_count": 296,
   "id": "f14334bc-5474-4ea0-a4df-f1838af2c764",
   "metadata": {},
   "outputs": [
    {
     "data": {
      "text/plain": [
       "['user1', 'user_2', 'user3']"
      ]
     },
     "execution_count": 296,
     "metadata": {},
     "output_type": "execute_result"
    }
   ],
   "source": [
    "users_list"
   ]
  },
  {
   "cell_type": "code",
   "execution_count": 297,
   "id": "59f4b19d-384f-49b9-9ac4-21dad9787456",
   "metadata": {},
   "outputs": [
    {
     "data": {
      "text/plain": [
       "{'foo': 'bar',\n",
       " 'fizz': 'buzz',\n",
       " 'spam': 'eggs',\n",
       " 123: 'qwe',\n",
       " 1: 'truth',\n",
       " '1': 'number one',\n",
       " (42, 13): ['user1', 'user_2', 'user3']}"
      ]
     },
     "execution_count": 297,
     "metadata": {},
     "output_type": "execute_result"
    }
   ],
   "source": [
    "data"
   ]
  },
  {
   "cell_type": "code",
   "execution_count": 298,
   "id": "2e6f2169-3f56-427c-abb1-0bc824712caf",
   "metadata": {},
   "outputs": [
    {
     "name": "stdout",
     "output_type": "stream",
     "text": [
      "Ok\n"
     ]
    }
   ],
   "source": [
    "if True:\n",
    "    print(\"Ok\")"
   ]
  },
  {
   "cell_type": "code",
   "execution_count": 299,
   "id": "c6502b5c-4c19-4c07-b85a-d04655af3020",
   "metadata": {},
   "outputs": [
    {
     "name": "stdout",
     "output_type": "stream",
     "text": [
      "above 18\n"
     ]
    }
   ],
   "source": [
    "age = 21\n",
    "\n",
    "if age > 18:\n",
    "    print(\"above 18\")"
   ]
  },
  {
   "cell_type": "code",
   "execution_count": 300,
   "id": "15360092-77e6-416f-9b87-c82d6a317f28",
   "metadata": {},
   "outputs": [
    {
     "name": "stdout",
     "output_type": "stream",
     "text": [
      "above 18\n"
     ]
    }
   ],
   "source": [
    "if age > 18:\n",
    "    print(\"above 18\")\n",
    "    if age > 21:\n",
    "        print(\"above 21\")"
   ]
  },
  {
   "cell_type": "code",
   "execution_count": 301,
   "id": "c6651ad0-94a1-4da6-a4fc-a804a29c0743",
   "metadata": {},
   "outputs": [],
   "source": [
    "age += 1"
   ]
  },
  {
   "cell_type": "code",
   "execution_count": 302,
   "id": "bf5de244-110d-421c-8797-839b276d6798",
   "metadata": {},
   "outputs": [
    {
     "name": "stdout",
     "output_type": "stream",
     "text": [
      "above 18\n",
      "above 21\n"
     ]
    }
   ],
   "source": [
    "if age > 18:\n",
    "    print(\"above 18\")\n",
    "    if age > 21:\n",
    "        print(\"above 21\")"
   ]
  },
  {
   "cell_type": "code",
   "execution_count": 304,
   "id": "438ce2b2-3812-4204-9663-b7f4c3ff1d8a",
   "metadata": {},
   "outputs": [
    {
     "name": "stdout",
     "output_type": "stream",
     "text": [
      "above 21\n"
     ]
    }
   ],
   "source": [
    "if age > 21:\n",
    "    print(\"above 21\")\n",
    "else:\n",
    "    print(\"lower than 21 or equal to\")"
   ]
  },
  {
   "cell_type": "code",
   "execution_count": 305,
   "id": "fdcc6677-d462-4325-ac4a-1ff42d359e16",
   "metadata": {},
   "outputs": [
    {
     "name": "stdout",
     "output_type": "stream",
     "text": [
      "above 21 or equal to\n"
     ]
    }
   ],
   "source": [
    "age = 21\n",
    "\n",
    "if age >= 21:\n",
    "    print(\"above 21 or equal to\")\n",
    "else:\n",
    "    print(\"lower than 21\")"
   ]
  },
  {
   "cell_type": "code",
   "execution_count": 306,
   "id": "8dfb07e2-70ff-4829-aff9-e26341886df2",
   "metadata": {},
   "outputs": [
    {
     "name": "stdout",
     "output_type": "stream",
     "text": [
      "ok\n"
     ]
    }
   ],
   "source": [
    "if False:\n",
    "    print(\"never\")\n",
    "else:\n",
    "    print(\"ok\")"
   ]
  },
  {
   "cell_type": "code",
   "execution_count": 307,
   "id": "1ad48772-bd67-49f2-8817-42bd7c91f19e",
   "metadata": {},
   "outputs": [
    {
     "name": "stdout",
     "output_type": "stream",
     "text": [
      "ok\n"
     ]
    }
   ],
   "source": [
    "if not False:\n",
    "    print(\"ok\")"
   ]
  },
  {
   "cell_type": "code",
   "execution_count": 308,
   "id": "986e3233-7ebf-4c05-9d83-5d9f60bde02d",
   "metadata": {},
   "outputs": [],
   "source": [
    "is_adult = age >= 18\n",
    "\n",
    "if not is_adult:\n",
    "    print(\"too young\")"
   ]
  },
  {
   "cell_type": "code",
   "execution_count": 309,
   "id": "792d338b-c43e-4606-9d67-a6cda3303d49",
   "metadata": {},
   "outputs": [
    {
     "name": "stdout",
     "output_type": "stream",
     "text": [
      "too young\n"
     ]
    }
   ],
   "source": [
    "age = 15\n",
    "is_adult = age >= 18\n",
    "\n",
    "if not is_adult:\n",
    "    print(\"too young\")"
   ]
  },
  {
   "cell_type": "code",
   "execution_count": 310,
   "id": "1ccd0975-b4c4-4ae8-ac8a-433313e1f863",
   "metadata": {},
   "outputs": [
    {
     "name": "stdout",
     "output_type": "stream",
     "text": [
      "too young\n"
     ]
    }
   ],
   "source": [
    "if age >= 21:\n",
    "    print(\"above 21 or equal to\")\n",
    "elif age >= 18:\n",
    "    print(\"old enough\")\n",
    "else:\n",
    "    print(\"too young\")"
   ]
  },
  {
   "cell_type": "code",
   "execution_count": 312,
   "id": "b87d113e-2bb0-47c5-a2a9-76af22c38649",
   "metadata": {},
   "outputs": [
    {
     "name": "stdout",
     "output_type": "stream",
     "text": [
      "above 21 or equal to\n"
     ]
    }
   ],
   "source": [
    "age = 21\n",
    "\n",
    "if age >= 21:\n",
    "    print(\"above 21 or equal to\")\n",
    "elif age >= 18:\n",
    "    print(\"old enough\")\n",
    "else:\n",
    "    print(\"too young\")"
   ]
  },
  {
   "cell_type": "code",
   "execution_count": 313,
   "id": "aa66e503-6555-4808-9662-c7bbd039f28a",
   "metadata": {},
   "outputs": [
    {
     "name": "stdout",
     "output_type": "stream",
     "text": [
      "old enough\n"
     ]
    }
   ],
   "source": [
    "age = 20\n",
    "\n",
    "if age >= 21:\n",
    "    print(\"above 21 or equal to\")\n",
    "elif age >= 18:\n",
    "    print(\"old enough\")\n",
    "else:\n",
    "    print(\"too young\")"
   ]
  },
  {
   "cell_type": "code",
   "execution_count": 314,
   "id": "1f07535b-b32e-4aca-b587-2df5e64c9db5",
   "metadata": {},
   "outputs": [
    {
     "name": "stdout",
     "output_type": "stream",
     "text": [
      "above 21 or equal to\n",
      "old enough\n"
     ]
    }
   ],
   "source": [
    "age = 21\n",
    "\n",
    "if age >= 21:\n",
    "    print(\"above 21 or equal to\")\n",
    "if age >= 18:\n",
    "    print(\"old enough\")\n",
    "else:\n",
    "    print(\"too young\")"
   ]
  },
  {
   "cell_type": "code",
   "execution_count": 315,
   "id": "dcb0169f-2c11-4dec-b1f6-ef779d4cdfe0",
   "metadata": {},
   "outputs": [
    {
     "data": {
      "text/plain": [
       "[-1, 0, 1, 2, 3, 4, 5, 6, 7, 8]"
      ]
     },
     "execution_count": 315,
     "metadata": {},
     "output_type": "execute_result"
    }
   ],
   "source": [
    "numbers"
   ]
  },
  {
   "cell_type": "code",
   "execution_count": 316,
   "id": "4f727c54-1cca-4f24-91a1-ed7ed6519439",
   "metadata": {},
   "outputs": [
    {
     "name": "stdout",
     "output_type": "stream",
     "text": [
      "-1\n",
      "0\n",
      "1\n",
      "2\n",
      "3\n",
      "4\n",
      "5\n",
      "6\n",
      "7\n",
      "8\n"
     ]
    }
   ],
   "source": [
    "for num in numbers:\n",
    "    print(num)"
   ]
  },
  {
   "cell_type": "code",
   "execution_count": 317,
   "id": "8d09ddb0-567d-46ea-af3e-c6bb6c360a9c",
   "metadata": {},
   "outputs": [
    {
     "name": "stdout",
     "output_type": "stream",
     "text": [
      "2\n",
      "evens\n",
      "4\n",
      "evens\n",
      "6\n",
      "evens\n",
      "8\n",
      "evens\n",
      "10\n",
      "evens\n",
      "12\n",
      "evens\n"
     ]
    }
   ],
   "source": [
    "for num in evens:\n",
    "    print(num)\n",
    "    print(\"evens\")"
   ]
  },
  {
   "cell_type": "code",
   "execution_count": 318,
   "id": "fe808c6b-4dc3-49f2-a903-8fcd8deaff99",
   "metadata": {},
   "outputs": [
    {
     "name": "stdout",
     "output_type": "stream",
     "text": [
      "evens\n",
      "2\n",
      "evens\n",
      "4\n",
      "evens\n",
      "6\n",
      "evens\n",
      "8\n",
      "evens\n",
      "10\n",
      "evens\n",
      "12\n"
     ]
    }
   ],
   "source": [
    "for num in evens:\n",
    "    print(\"evens\")\n",
    "    print(num)"
   ]
  },
  {
   "cell_type": "code",
   "execution_count": 319,
   "id": "99693d41-1749-4e60-8bfe-015883ef1257",
   "metadata": {},
   "outputs": [
    {
     "name": "stdout",
     "output_type": "stream",
     "text": [
      "2\n",
      "4\n",
      "6\n",
      "8\n",
      "10\n",
      "12\n",
      "evens above\n"
     ]
    }
   ],
   "source": [
    "for num in evens:\n",
    "    print(num)\n",
    "print(\"evens above\")"
   ]
  },
  {
   "cell_type": "code",
   "execution_count": 320,
   "id": "268fd9a8-b781-4033-826c-af97ff6f6936",
   "metadata": {},
   "outputs": [
    {
     "name": "stdout",
     "output_type": "stream",
     "text": [
      "1 of type <class 'int'>\n",
      "2 of type <class 'int'>\n",
      "['abc', 'foo', 'bar'] of type <class 'list'>\n"
     ]
    }
   ],
   "source": [
    "for item in some_items:\n",
    "    print(item, \"of type\", type(item))"
   ]
  },
  {
   "cell_type": "code",
   "execution_count": 321,
   "id": "8d8256c7-a1ee-4e7e-aa33-c5ee5df6af74",
   "metadata": {},
   "outputs": [
    {
     "name": "stdout",
     "output_type": "stream",
     "text": [
      "1\n",
      "3\n",
      "5\n"
     ]
    }
   ],
   "source": [
    "for odd in odds:\n",
    "    print(odd)"
   ]
  },
  {
   "cell_type": "code",
   "execution_count": 323,
   "id": "09ee8109-dc7e-40c2-9770-826b947b82e7",
   "metadata": {},
   "outputs": [
    {
     "name": "stdout",
     "output_type": "stream",
     "text": [
      "h 'h' of type <class 'str'>\n",
      "e 'e' of type <class 'str'>\n",
      "l 'l' of type <class 'str'>\n",
      "l 'l' of type <class 'str'>\n",
      "o 'o' of type <class 'str'>\n",
      "  ' ' of type <class 'str'>\n",
      "w 'w' of type <class 'str'>\n",
      "o 'o' of type <class 'str'>\n",
      "r 'r' of type <class 'str'>\n",
      "l 'l' of type <class 'str'>\n",
      "d 'd' of type <class 'str'>\n",
      "! '!' of type <class 'str'>\n"
     ]
    }
   ],
   "source": [
    "for c in \"hello world!\":\n",
    "    print(c, repr(c), \"of type\", type(c))"
   ]
  },
  {
   "cell_type": "code",
   "execution_count": 324,
   "id": "a6d5a884-0076-4ffc-9231-a50313e77486",
   "metadata": {},
   "outputs": [
    {
     "name": "stdout",
     "output_type": "stream",
     "text": [
      "foo\n",
      "fizz\n",
      "spam\n",
      "123\n",
      "1\n",
      "1\n",
      "(42, 13)\n"
     ]
    }
   ],
   "source": [
    "for key in data:\n",
    "    print(key)"
   ]
  },
  {
   "cell_type": "code",
   "execution_count": 326,
   "id": "c2c58088-4b58-4e5c-8df0-99c7fb6cec5e",
   "metadata": {},
   "outputs": [
    {
     "name": "stdout",
     "output_type": "stream",
     "text": [
      "foo 'foo'\n",
      "fizz 'fizz'\n",
      "spam 'spam'\n",
      "123 123\n",
      "1 1\n",
      "1 '1'\n",
      "(42, 13) (42, 13)\n"
     ]
    }
   ],
   "source": [
    "for key in data:\n",
    "    print(key, repr(key))"
   ]
  },
  {
   "cell_type": "code",
   "execution_count": 327,
   "id": "d2f85945-2d44-49c4-be00-7498df2b2dbe",
   "metadata": {},
   "outputs": [
    {
     "name": "stdout",
     "output_type": "stream",
     "text": [
      "key='foo'\n",
      "key='fizz'\n",
      "key='spam'\n",
      "key=123\n",
      "key=1\n",
      "key='1'\n",
      "key=(42, 13)\n"
     ]
    }
   ],
   "source": [
    "for key in data:\n",
    "    print(f\"{key=}\")"
   ]
  },
  {
   "cell_type": "code",
   "execution_count": 328,
   "id": "5b6d9397-9f50-4a4f-b00c-3c19155d4e58",
   "metadata": {},
   "outputs": [
    {
     "name": "stdout",
     "output_type": "stream",
     "text": [
      "key='foo', value='bar'\n",
      "key='fizz', value='buzz'\n",
      "key='spam', value='eggs'\n",
      "key=123, value='qwe'\n",
      "key=1, value='truth'\n",
      "key='1', value='number one'\n",
      "key=(42, 13), value=['user1', 'user_2', 'user3']\n"
     ]
    }
   ],
   "source": [
    "for key in data:\n",
    "    value = data[key]\n",
    "    print(f\"{key=}, {value=}\")"
   ]
  },
  {
   "cell_type": "code",
   "execution_count": 329,
   "id": "5f159ce8-2470-4644-b36c-4762a47cbe9d",
   "metadata": {},
   "outputs": [
    {
     "name": "stdout",
     "output_type": "stream",
     "text": [
      "key='foo', value='bar'\n",
      "key='fizz', value='buzz'\n",
      "key='spam', value='eggs'\n",
      "key=123, value='qwe'\n",
      "key=1, value='truth'\n",
      "key='1', value='number one'\n",
      "key=(42, 13), value=['user1', 'user_2', 'user3']\n"
     ]
    }
   ],
   "source": [
    "for key, value in data.items():\n",
    "    print(f\"{key=}, {value=}\")"
   ]
  },
  {
   "cell_type": "code",
   "execution_count": 330,
   "id": "9500a747-4486-4510-9ff4-f66bdf4dd1e3",
   "metadata": {},
   "outputs": [
    {
     "data": {
      "text/plain": [
       "{1, 3, 5}"
      ]
     },
     "execution_count": 330,
     "metadata": {},
     "output_type": "execute_result"
    }
   ],
   "source": [
    "odds"
   ]
  },
  {
   "cell_type": "code",
   "execution_count": 331,
   "id": "a88e3f6b-c44d-4c64-8f02-1f084d4fc5ce",
   "metadata": {},
   "outputs": [
    {
     "data": {
      "text/plain": [
       "'odds={1, 3, 5}'"
      ]
     },
     "execution_count": 331,
     "metadata": {},
     "output_type": "execute_result"
    }
   ],
   "source": [
    "f\"{odds=}\""
   ]
  },
  {
   "cell_type": "code",
   "execution_count": 332,
   "id": "c1214416-8df7-4476-ba4f-2b7f4f7ceab6",
   "metadata": {},
   "outputs": [],
   "source": [
    "odds_var_repr = f\"{odds=}\""
   ]
  },
  {
   "cell_type": "code",
   "execution_count": 333,
   "id": "d27901c2-5a91-4122-86aa-7130356e666a",
   "metadata": {},
   "outputs": [
    {
     "data": {
      "text/plain": [
       "'odds={1, 3, 5}'"
      ]
     },
     "execution_count": 333,
     "metadata": {},
     "output_type": "execute_result"
    }
   ],
   "source": [
    "odds_var_repr"
   ]
  },
  {
   "cell_type": "code",
   "execution_count": null,
   "id": "ec73c654-5f06-496a-b559-0c1c98ddf147",
   "metadata": {},
   "outputs": [],
   "source": []
  }
 ],
 "metadata": {
  "kernelspec": {
   "display_name": "Python 3 (ipykernel)",
   "language": "python",
   "name": "python3"
  },
  "language_info": {
   "codemirror_mode": {
    "name": "ipython",
    "version": 3
   },
   "file_extension": ".py",
   "mimetype": "text/x-python",
   "name": "python",
   "nbconvert_exporter": "python",
   "pygments_lexer": "ipython3",
   "version": "3.11.4"
  }
 },
 "nbformat": 4,
 "nbformat_minor": 5
}
