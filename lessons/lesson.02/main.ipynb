{
 "cells": [
  {
   "cell_type": "code",
   "execution_count": 1,
   "id": "002b4cff",
   "metadata": {},
   "outputs": [
    {
     "data": {
      "text/plain": [
       "[123, 123.123, None, [], []]"
      ]
     },
     "execution_count": 1,
     "metadata": {},
     "output_type": "execute_result"
    }
   ],
   "source": [
    "list_of_strings = [123, 123.123, None, [], []]\n",
    "list_of_strings"
   ]
  },
  {
   "cell_type": "code",
   "execution_count": 2,
   "id": "a381c420",
   "metadata": {},
   "outputs": [],
   "source": [
    "list_of_strings = [\"hello\", \"world\", \"python\", \"code\", \"123\"]"
   ]
  },
  {
   "cell_type": "code",
   "execution_count": 3,
   "id": "78310577",
   "metadata": {},
   "outputs": [
    {
     "name": "stdout",
     "output_type": "stream",
     "text": [
      "['hello', 'world', 'python', 'code', '123']\n"
     ]
    }
   ],
   "source": [
    "print(list_of_strings)"
   ]
  },
  {
   "cell_type": "code",
   "execution_count": 4,
   "id": "f1d8cbdf",
   "metadata": {},
   "outputs": [
    {
     "data": {
      "text/plain": [
       "'hello'"
      ]
     },
     "execution_count": 4,
     "metadata": {},
     "output_type": "execute_result"
    }
   ],
   "source": [
    "list_of_strings[0]"
   ]
  },
  {
   "cell_type": "code",
   "execution_count": 5,
   "id": "59c8bd90",
   "metadata": {},
   "outputs": [
    {
     "data": {
      "text/plain": [
       "'world'"
      ]
     },
     "execution_count": 5,
     "metadata": {},
     "output_type": "execute_result"
    }
   ],
   "source": [
    "list_of_strings[1]"
   ]
  },
  {
   "cell_type": "code",
   "execution_count": 6,
   "id": "fcc571ac",
   "metadata": {},
   "outputs": [
    {
     "name": "stdout",
     "output_type": "stream",
     "text": [
      "hello\n",
      "world\n",
      "python\n",
      "code\n",
      "123\n"
     ]
    }
   ],
   "source": [
    "for elem in list_of_strings:\n",
    "    print(elem)"
   ]
  },
  {
   "cell_type": "code",
   "execution_count": 7,
   "id": "9762027b",
   "metadata": {},
   "outputs": [],
   "source": [
    "nothing = None"
   ]
  },
  {
   "cell_type": "code",
   "execution_count": 8,
   "id": "cecb1bd8",
   "metadata": {},
   "outputs": [],
   "source": [
    "nothing"
   ]
  },
  {
   "cell_type": "code",
   "execution_count": 9,
   "id": "e6f47355",
   "metadata": {},
   "outputs": [
    {
     "name": "stdout",
     "output_type": "stream",
     "text": [
      "None\n"
     ]
    }
   ],
   "source": [
    "print(nothing)"
   ]
  },
  {
   "cell_type": "code",
   "execution_count": 10,
   "id": "07e7cf00",
   "metadata": {},
   "outputs": [
    {
     "name": "stdout",
     "output_type": "stream",
     "text": [
      "2\n",
      "4\n",
      "6\n"
     ]
    }
   ],
   "source": [
    "evens = (2, 4, 6)\n",
    "for even in evens:\n",
    "    print(even)"
   ]
  },
  {
   "cell_type": "code",
   "execution_count": 11,
   "id": "d59b1aa8",
   "metadata": {},
   "outputs": [
    {
     "name": "stdout",
     "output_type": "stream",
     "text": [
      "2 ** 2 = 4\n",
      "4 ** 2 = 16\n",
      "6 ** 2 = 36\n"
     ]
    }
   ],
   "source": [
    "for even in evens:\n",
    "    print(even, \"**\", 2, \"=\", even ** 2)"
   ]
  },
  {
   "cell_type": "code",
   "execution_count": 12,
   "id": "f995acd2",
   "metadata": {},
   "outputs": [
    {
     "name": "stdout",
     "output_type": "stream",
     "text": [
      "2\n",
      "4\n",
      "6\n"
     ]
    }
   ],
   "source": [
    "for num in evens:\n",
    "    if num > 10:\n",
    "        break\n",
    "    print(num)"
   ]
  },
  {
   "cell_type": "code",
   "execution_count": 13,
   "id": "3f6574ab",
   "metadata": {},
   "outputs": [
    {
     "name": "stdout",
     "output_type": "stream",
     "text": [
      "(2, 4, 6, 8, 10, 12)\n"
     ]
    }
   ],
   "source": [
    "evens = evens + (8, 10, 12)\n",
    "print(evens)"
   ]
  },
  {
   "cell_type": "code",
   "execution_count": 14,
   "id": "5270f62d",
   "metadata": {},
   "outputs": [
    {
     "name": "stdout",
     "output_type": "stream",
     "text": [
      "2\n",
      "4\n",
      "6\n",
      "8\n",
      "10\n"
     ]
    }
   ],
   "source": [
    "for num in evens:\n",
    "    if num > 10:\n",
    "        break\n",
    "    print(num)"
   ]
  },
  {
   "cell_type": "code",
   "execution_count": 15,
   "id": "2d71934a",
   "metadata": {},
   "outputs": [
    {
     "name": "stdout",
     "output_type": "stream",
     "text": [
      "(2, 4, 6, 8, 10, 12, 14, 16, 18)\n"
     ]
    }
   ],
   "source": [
    "evens += (14, 16, 18)\n",
    "print(evens)"
   ]
  },
  {
   "cell_type": "code",
   "execution_count": 16,
   "id": "d142b7ba",
   "metadata": {},
   "outputs": [
    {
     "name": "stdout",
     "output_type": "stream",
     "text": [
      "2\n",
      "4\n",
      "6\n",
      "8\n",
      "10\n"
     ]
    }
   ],
   "source": [
    "for num in evens:\n",
    "    if num > 10:\n",
    "        break\n",
    "    print(num)"
   ]
  },
  {
   "cell_type": "code",
   "execution_count": 17,
   "id": "4c74bee2",
   "metadata": {},
   "outputs": [
    {
     "name": "stdout",
     "output_type": "stream",
     "text": [
      "2\n",
      "4\n",
      "6\n",
      "8\n",
      "10\n",
      "break on 12\n"
     ]
    }
   ],
   "source": [
    "for num in evens:\n",
    "    if num > 10:\n",
    "        print(\"break on\", num)\n",
    "        break\n",
    "    print(num)"
   ]
  },
  {
   "cell_type": "code",
   "execution_count": 18,
   "id": "4d490dd0",
   "metadata": {},
   "outputs": [
    {
     "data": {
      "text/plain": [
       "<function print>"
      ]
     },
     "execution_count": 18,
     "metadata": {},
     "output_type": "execute_result"
    }
   ],
   "source": [
    "print"
   ]
  },
  {
   "cell_type": "code",
   "execution_count": 19,
   "id": "e6da252a",
   "metadata": {},
   "outputs": [
    {
     "data": {
      "text/plain": [
       "type"
      ]
     },
     "execution_count": 19,
     "metadata": {},
     "output_type": "execute_result"
    }
   ],
   "source": [
    "type"
   ]
  },
  {
   "cell_type": "code",
   "execution_count": 20,
   "id": "f0dd5fea",
   "metadata": {},
   "outputs": [
    {
     "data": {
      "text/plain": [
       "(2, 4, 6, 8, 10, 12, 14, 16, 18)"
      ]
     },
     "execution_count": 20,
     "metadata": {},
     "output_type": "execute_result"
    }
   ],
   "source": [
    "evens"
   ]
  },
  {
   "cell_type": "code",
   "execution_count": 21,
   "id": "fe478280",
   "metadata": {},
   "outputs": [
    {
     "data": {
      "text/plain": [
       "9"
      ]
     },
     "execution_count": 21,
     "metadata": {},
     "output_type": "execute_result"
    }
   ],
   "source": [
    "len(evens)"
   ]
  },
  {
   "cell_type": "code",
   "execution_count": 22,
   "id": "ff022e43",
   "metadata": {},
   "outputs": [
    {
     "data": {
      "text/plain": [
       "5"
      ]
     },
     "execution_count": 22,
     "metadata": {},
     "output_type": "execute_result"
    }
   ],
   "source": [
    "len(list_of_strings)"
   ]
  },
  {
   "cell_type": "code",
   "execution_count": 23,
   "id": "15d48532",
   "metadata": {},
   "outputs": [],
   "source": [
    "def hello():\n",
    "    print(\"hello there\")"
   ]
  },
  {
   "cell_type": "code",
   "execution_count": 24,
   "id": "3f9adbed",
   "metadata": {},
   "outputs": [
    {
     "data": {
      "text/plain": [
       "<function __main__.hello()>"
      ]
     },
     "execution_count": 24,
     "metadata": {},
     "output_type": "execute_result"
    }
   ],
   "source": [
    "hello"
   ]
  },
  {
   "cell_type": "code",
   "execution_count": 25,
   "id": "6a2884d8",
   "metadata": {},
   "outputs": [
    {
     "name": "stdout",
     "output_type": "stream",
     "text": [
      "hello there\n"
     ]
    }
   ],
   "source": [
    "hello()"
   ]
  },
  {
   "cell_type": "code",
   "execution_count": 26,
   "id": "04ff4138",
   "metadata": {},
   "outputs": [
    {
     "name": "stdout",
     "output_type": "stream",
     "text": [
      "hello there\n"
     ]
    }
   ],
   "source": [
    "hello()"
   ]
  },
  {
   "cell_type": "code",
   "execution_count": 27,
   "id": "af06e6d9",
   "metadata": {},
   "outputs": [
    {
     "name": "stdout",
     "output_type": "stream",
     "text": [
      "hello there\n"
     ]
    }
   ],
   "source": [
    "hello()"
   ]
  },
  {
   "cell_type": "code",
   "execution_count": 28,
   "id": "310fbd31",
   "metadata": {},
   "outputs": [],
   "source": [
    "def square(number):\n",
    "    return number ** 2"
   ]
  },
  {
   "cell_type": "code",
   "execution_count": 29,
   "id": "e11ee504",
   "metadata": {},
   "outputs": [
    {
     "data": {
      "text/plain": [
       "<function __main__.square(number)>"
      ]
     },
     "execution_count": 29,
     "metadata": {},
     "output_type": "execute_result"
    }
   ],
   "source": [
    "square"
   ]
  },
  {
   "cell_type": "code",
   "execution_count": 30,
   "id": "6365e430",
   "metadata": {},
   "outputs": [
    {
     "data": {
      "text/plain": [
       "9"
      ]
     },
     "execution_count": 30,
     "metadata": {},
     "output_type": "execute_result"
    }
   ],
   "source": [
    "square(3)"
   ]
  },
  {
   "cell_type": "code",
   "execution_count": 31,
   "id": "76984b36",
   "metadata": {},
   "outputs": [
    {
     "name": "stdout",
     "output_type": "stream",
     "text": [
      "hello there\n",
      "None\n"
     ]
    }
   ],
   "source": [
    "print(hello())"
   ]
  },
  {
   "cell_type": "code",
   "execution_count": 32,
   "id": "aac80de2",
   "metadata": {},
   "outputs": [
    {
     "name": "stdout",
     "output_type": "stream",
     "text": [
      "16\n"
     ]
    }
   ],
   "source": [
    "print(square(4))"
   ]
  },
  {
   "cell_type": "code",
   "execution_count": 33,
   "id": "7ce6e618",
   "metadata": {},
   "outputs": [],
   "source": [
    "def power(num, e):\n",
    "    return num ** e"
   ]
  },
  {
   "cell_type": "code",
   "execution_count": 34,
   "id": "9603a2a6",
   "metadata": {},
   "outputs": [
    {
     "data": {
      "text/plain": [
       "8"
      ]
     },
     "execution_count": 34,
     "metadata": {},
     "output_type": "execute_result"
    }
   ],
   "source": [
    "power(2, 3)"
   ]
  },
  {
   "cell_type": "code",
   "execution_count": 35,
   "id": "abb60149",
   "metadata": {},
   "outputs": [],
   "source": [
    "x = 2\n",
    "\n",
    "\n",
    "def cube(x):\n",
    "    return x ** 3"
   ]
  },
  {
   "cell_type": "code",
   "execution_count": 36,
   "id": "194257df",
   "metadata": {},
   "outputs": [
    {
     "data": {
      "text/plain": [
       "27"
      ]
     },
     "execution_count": 36,
     "metadata": {},
     "output_type": "execute_result"
    }
   ],
   "source": [
    "cube(3)"
   ]
  },
  {
   "cell_type": "code",
   "execution_count": 37,
   "id": "ef415169",
   "metadata": {},
   "outputs": [
    {
     "data": {
      "text/plain": [
       "2"
      ]
     },
     "execution_count": 37,
     "metadata": {},
     "output_type": "execute_result"
    }
   ],
   "source": [
    "x"
   ]
  },
  {
   "cell_type": "code",
   "execution_count": 38,
   "id": "7600e7c9",
   "metadata": {},
   "outputs": [],
   "source": [
    "def new_x():\n",
    "    x = \"random\"\n",
    "    return x"
   ]
  },
  {
   "cell_type": "code",
   "execution_count": 39,
   "id": "8cbf2cd6",
   "metadata": {},
   "outputs": [
    {
     "data": {
      "text/plain": [
       "'random'"
      ]
     },
     "execution_count": 39,
     "metadata": {},
     "output_type": "execute_result"
    }
   ],
   "source": [
    "new_x()"
   ]
  },
  {
   "cell_type": "code",
   "execution_count": 40,
   "id": "d187e394",
   "metadata": {},
   "outputs": [
    {
     "data": {
      "text/plain": [
       "'random'"
      ]
     },
     "execution_count": 40,
     "metadata": {},
     "output_type": "execute_result"
    }
   ],
   "source": [
    "new_x()"
   ]
  },
  {
   "cell_type": "code",
   "execution_count": 41,
   "id": "8d0e60ea",
   "metadata": {},
   "outputs": [
    {
     "data": {
      "text/plain": [
       "2"
      ]
     },
     "execution_count": 41,
     "metadata": {},
     "output_type": "execute_result"
    }
   ],
   "source": [
    "x"
   ]
  },
  {
   "cell_type": "code",
   "execution_count": 42,
   "id": "6c764560",
   "metadata": {},
   "outputs": [
    {
     "data": {
      "text/plain": [
       "set()"
      ]
     },
     "execution_count": 42,
     "metadata": {},
     "output_type": "execute_result"
    }
   ],
   "source": [
    "set()"
   ]
  },
  {
   "cell_type": "code",
   "execution_count": 43,
   "id": "f376d420",
   "metadata": {},
   "outputs": [
    {
     "data": {
      "text/plain": [
       "1"
      ]
     },
     "execution_count": 43,
     "metadata": {},
     "output_type": "execute_result"
    }
   ],
   "source": [
    "hash(1)"
   ]
  },
  {
   "cell_type": "code",
   "execution_count": 44,
   "id": "db9ceb82",
   "metadata": {},
   "outputs": [
    {
     "data": {
      "text/plain": [
       "-4575821752993851901"
      ]
     },
     "execution_count": 44,
     "metadata": {},
     "output_type": "execute_result"
    }
   ],
   "source": [
    "hash('abc')"
   ]
  },
  {
   "cell_type": "code",
   "execution_count": 45,
   "id": "0726fc5f",
   "metadata": {},
   "outputs": [
    {
     "data": {
      "text/plain": [
       "-5532897743220688539"
      ]
     },
     "execution_count": 45,
     "metadata": {},
     "output_type": "execute_result"
    }
   ],
   "source": [
    "hash('qwerty')"
   ]
  },
  {
   "cell_type": "code",
   "execution_count": 46,
   "id": "04b35cd4",
   "metadata": {},
   "outputs": [
    {
     "data": {
      "text/plain": [
       "-2"
      ]
     },
     "execution_count": 46,
     "metadata": {},
     "output_type": "execute_result"
    }
   ],
   "source": [
    "hash(-1)"
   ]
  },
  {
   "cell_type": "code",
   "execution_count": 47,
   "id": "f706c47a",
   "metadata": {},
   "outputs": [
    {
     "data": {
      "text/plain": [
       "0"
      ]
     },
     "execution_count": 47,
     "metadata": {},
     "output_type": "execute_result"
    }
   ],
   "source": [
    "hash(0)"
   ]
  },
  {
   "cell_type": "code",
   "execution_count": 48,
   "id": "8b6e0ff1",
   "metadata": {},
   "outputs": [
    {
     "data": {
      "text/plain": [
       "-2"
      ]
     },
     "execution_count": 48,
     "metadata": {},
     "output_type": "execute_result"
    }
   ],
   "source": [
    "hash(-2)"
   ]
  },
  {
   "cell_type": "code",
   "execution_count": 49,
   "id": "3e453a4b",
   "metadata": {},
   "outputs": [
    {
     "data": {
      "text/plain": [
       "-2"
      ]
     },
     "execution_count": 49,
     "metadata": {},
     "output_type": "execute_result"
    }
   ],
   "source": [
    "hash(-2)"
   ]
  },
  {
   "cell_type": "code",
   "execution_count": 50,
   "id": "3d734f82",
   "metadata": {},
   "outputs": [
    {
     "data": {
      "text/plain": [
       "-2"
      ]
     },
     "execution_count": 50,
     "metadata": {},
     "output_type": "execute_result"
    }
   ],
   "source": [
    "hash(-1)"
   ]
  },
  {
   "cell_type": "code",
   "execution_count": 51,
   "id": "8203ab1d",
   "metadata": {},
   "outputs": [
    {
     "data": {
      "text/plain": [
       "True"
      ]
     },
     "execution_count": 51,
     "metadata": {},
     "output_type": "execute_result"
    }
   ],
   "source": [
    "hash(-1) == hash(-2)"
   ]
  },
  {
   "cell_type": "code",
   "execution_count": 52,
   "id": "484ea7ce",
   "metadata": {},
   "outputs": [
    {
     "name": "stdout",
     "output_type": "stream",
     "text": [
      "{1, 2, 3}\n"
     ]
    }
   ],
   "source": [
    "my_set = {1, 2, 3}\n",
    "print(my_set)"
   ]
  },
  {
   "cell_type": "code",
   "execution_count": 54,
   "id": "fec66d4e",
   "metadata": {},
   "outputs": [
    {
     "data": {
      "text/plain": [
       "{1, 2, 3, 4, 5}"
      ]
     },
     "execution_count": 54,
     "metadata": {},
     "output_type": "execute_result"
    }
   ],
   "source": [
    "my_set.add(3)\n",
    "my_set.add(4)\n",
    "my_set.add(5)\n",
    "my_set"
   ]
  },
  {
   "cell_type": "code",
   "execution_count": 55,
   "id": "ad230525",
   "metadata": {},
   "outputs": [
    {
     "name": "stdout",
     "output_type": "stream",
     "text": [
      "{1, 2, 3, 4, 5, -1}\n",
      "{1, 2, 3, 4, 5, -2, -1}\n"
     ]
    }
   ],
   "source": [
    "my_set.add(-1)\n",
    "print(my_set)\n",
    "my_set.add(-2)\n",
    "print(my_set)"
   ]
  },
  {
   "cell_type": "code",
   "execution_count": 58,
   "id": "214afb17",
   "metadata": {},
   "outputs": [
    {
     "name": "stdout",
     "output_type": "stream",
     "text": [
      "{1, 2, 3, 4, 5, -2}\n"
     ]
    }
   ],
   "source": [
    "my_set.add(-1)\n",
    "my_set.remove(-1)\n",
    "print(my_set)"
   ]
  },
  {
   "cell_type": "code",
   "execution_count": 59,
   "id": "3fc362ed",
   "metadata": {},
   "outputs": [
    {
     "data": {
      "text/plain": [
       "False"
      ]
     },
     "execution_count": 59,
     "metadata": {},
     "output_type": "execute_result"
    }
   ],
   "source": [
    "-1 in my_set"
   ]
  },
  {
   "cell_type": "code",
   "execution_count": 60,
   "id": "311ef548",
   "metadata": {},
   "outputs": [
    {
     "data": {
      "text/plain": [
       "True"
      ]
     },
     "execution_count": 60,
     "metadata": {},
     "output_type": "execute_result"
    }
   ],
   "source": [
    "-2 in my_set"
   ]
  },
  {
   "cell_type": "code",
   "execution_count": 61,
   "id": "1a44e912",
   "metadata": {},
   "outputs": [
    {
     "data": {
      "text/plain": [
       "True"
      ]
     },
     "execution_count": 61,
     "metadata": {},
     "output_type": "execute_result"
    }
   ],
   "source": [
    "2 in my_set"
   ]
  },
  {
   "cell_type": "code",
   "execution_count": 62,
   "id": "d4c94cd8",
   "metadata": {},
   "outputs": [
    {
     "data": {
      "text/plain": [
       "False"
      ]
     },
     "execution_count": 62,
     "metadata": {},
     "output_type": "execute_result"
    }
   ],
   "source": [
    "7 in my_set"
   ]
  },
  {
   "cell_type": "code",
   "execution_count": 63,
   "id": "6c8711f3",
   "metadata": {},
   "outputs": [
    {
     "data": {
      "text/plain": [
       "{-2, 1, 2, 3, 4, 5, 'abc', 'qwerty'}"
      ]
     },
     "execution_count": 63,
     "metadata": {},
     "output_type": "execute_result"
    }
   ],
   "source": [
    "my_set.add('abc')\n",
    "my_set.add('qwerty')\n",
    "my_set"
   ]
  },
  {
   "cell_type": "code",
   "execution_count": 64,
   "id": "70e6d2aa",
   "metadata": {},
   "outputs": [
    {
     "data": {
      "text/plain": [
       "{-1, -2, 1, 2, 3, 4, 5, 'abc', 'qwerty'}"
      ]
     },
     "execution_count": 64,
     "metadata": {},
     "output_type": "execute_result"
    }
   ],
   "source": [
    "my_set.add(-1)\n",
    "my_set"
   ]
  },
  {
   "cell_type": "code",
   "execution_count": 65,
   "id": "efb5b76d",
   "metadata": {},
   "outputs": [
    {
     "data": {
      "text/plain": [
       "{-1, -2, 0, 1, 2, 3, 4, 5, 'abc', 'qwerty'}"
      ]
     },
     "execution_count": 65,
     "metadata": {},
     "output_type": "execute_result"
    }
   ],
   "source": [
    "my_set.add(0)\n",
    "my_set"
   ]
  },
  {
   "cell_type": "code",
   "execution_count": 66,
   "id": "d026e931",
   "metadata": {},
   "outputs": [
    {
     "data": {
      "text/plain": [
       "{-1, -2, 0, 1, 2, 3, 4, 5, None, 'abc', 'qwerty'}"
      ]
     },
     "execution_count": 66,
     "metadata": {},
     "output_type": "execute_result"
    }
   ],
   "source": [
    "my_set.add(None)\n",
    "my_set"
   ]
  },
  {
   "cell_type": "code",
   "execution_count": 67,
   "id": "39a351c8",
   "metadata": {},
   "outputs": [
    {
     "data": {
      "text/plain": [
       "269287495"
      ]
     },
     "execution_count": 67,
     "metadata": {},
     "output_type": "execute_result"
    }
   ],
   "source": [
    "hash(None)"
   ]
  },
  {
   "cell_type": "code",
   "execution_count": 68,
   "id": "673188af",
   "metadata": {},
   "outputs": [
    {
     "data": {
      "text/plain": [
       "269287495"
      ]
     },
     "execution_count": 68,
     "metadata": {},
     "output_type": "execute_result"
    }
   ],
   "source": [
    "hash(None)"
   ]
  },
  {
   "cell_type": "code",
   "execution_count": 69,
   "id": "ea64a22a",
   "metadata": {},
   "outputs": [
    {
     "data": {
      "text/plain": [
       "True"
      ]
     },
     "execution_count": 69,
     "metadata": {},
     "output_type": "execute_result"
    }
   ],
   "source": [
    "None in my_set"
   ]
  },
  {
   "cell_type": "code",
   "execution_count": 70,
   "id": "3a2ccfb5",
   "metadata": {},
   "outputs": [
    {
     "name": "stdout",
     "output_type": "stream",
     "text": [
      "{0, 1, 2, 3, 4, 5, 'abc', 'qwerty', -2, -1}\n",
      "{0, 1, 2, 3, 4, 5, 'abc', 'qwerty', -2, -1}\n"
     ]
    }
   ],
   "source": [
    "another_set = my_set\n",
    "another_set.remove(None)\n",
    "print(another_set)\n",
    "print(my_set)"
   ]
  },
  {
   "cell_type": "code",
   "execution_count": 71,
   "id": "e8ef489e",
   "metadata": {},
   "outputs": [
    {
     "data": {
      "text/plain": [
       "True"
      ]
     },
     "execution_count": 71,
     "metadata": {},
     "output_type": "execute_result"
    }
   ],
   "source": [
    "my_set == another_set"
   ]
  },
  {
   "cell_type": "code",
   "execution_count": 72,
   "id": "ba4ab1d9",
   "metadata": {},
   "outputs": [
    {
     "data": {
      "text/plain": [
       "True"
      ]
     },
     "execution_count": 72,
     "metadata": {},
     "output_type": "execute_result"
    }
   ],
   "source": [
    "my_set is another_set"
   ]
  },
  {
   "cell_type": "code",
   "execution_count": 73,
   "id": "2929c5dc",
   "metadata": {},
   "outputs": [],
   "source": [
    "set2 = set(my_set)"
   ]
  },
  {
   "cell_type": "code",
   "execution_count": 74,
   "id": "8f78f1d8",
   "metadata": {},
   "outputs": [
    {
     "data": {
      "text/plain": [
       "True"
      ]
     },
     "execution_count": 74,
     "metadata": {},
     "output_type": "execute_result"
    }
   ],
   "source": [
    "set2 == my_set"
   ]
  },
  {
   "cell_type": "code",
   "execution_count": 75,
   "id": "8ebd394b",
   "metadata": {},
   "outputs": [
    {
     "data": {
      "text/plain": [
       "{-1, -2, 0, 1, 2, 3, 4, 5, 'abc', 'qwerty'}"
      ]
     },
     "execution_count": 75,
     "metadata": {},
     "output_type": "execute_result"
    }
   ],
   "source": [
    "set2"
   ]
  },
  {
   "cell_type": "code",
   "execution_count": 76,
   "id": "c45349ed",
   "metadata": {},
   "outputs": [
    {
     "data": {
      "text/plain": [
       "{-1, -2, 1, 2, 3, 4, 5, 'abc', 'qwerty'}"
      ]
     },
     "execution_count": 76,
     "metadata": {},
     "output_type": "execute_result"
    }
   ],
   "source": [
    "set2.remove(0)\n",
    "set2"
   ]
  },
  {
   "cell_type": "code",
   "execution_count": 77,
   "id": "af4f087b",
   "metadata": {},
   "outputs": [
    {
     "data": {
      "text/plain": [
       "{-1, -2, 0, 1, 2, 3, 4, 5, 'abc', 'qwerty'}"
      ]
     },
     "execution_count": 77,
     "metadata": {},
     "output_type": "execute_result"
    }
   ],
   "source": [
    "my_set"
   ]
  },
  {
   "cell_type": "code",
   "execution_count": 78,
   "id": "03b46f3e",
   "metadata": {},
   "outputs": [
    {
     "data": {
      "text/plain": [
       "False"
      ]
     },
     "execution_count": 78,
     "metadata": {},
     "output_type": "execute_result"
    }
   ],
   "source": [
    "set2 == my_set"
   ]
  },
  {
   "cell_type": "code",
   "execution_count": 79,
   "id": "e0b58b8b",
   "metadata": {},
   "outputs": [],
   "source": [
    "set2.add(0)"
   ]
  },
  {
   "cell_type": "code",
   "execution_count": 80,
   "id": "85765f94",
   "metadata": {},
   "outputs": [
    {
     "data": {
      "text/plain": [
       "{-1, -2, 0, 1, 2, 3, 4, 5, 'abc', 'qwerty'}"
      ]
     },
     "execution_count": 80,
     "metadata": {},
     "output_type": "execute_result"
    }
   ],
   "source": [
    "set2"
   ]
  },
  {
   "cell_type": "code",
   "execution_count": 81,
   "id": "316295dd",
   "metadata": {},
   "outputs": [],
   "source": [
    "set2.add(0)"
   ]
  },
  {
   "cell_type": "code",
   "execution_count": 82,
   "id": "01aa5bbd",
   "metadata": {},
   "outputs": [
    {
     "data": {
      "text/plain": [
       "{-1, -2, 0, 1, 2, 3, 4, 5, 'abc', 'qwerty'}"
      ]
     },
     "execution_count": 82,
     "metadata": {},
     "output_type": "execute_result"
    }
   ],
   "source": [
    "set2"
   ]
  },
  {
   "cell_type": "code",
   "execution_count": 83,
   "id": "934fb272",
   "metadata": {},
   "outputs": [
    {
     "name": "stdout",
     "output_type": "stream",
     "text": [
      "(1, 'qwe', ())\n"
     ]
    }
   ],
   "source": [
    "tuple_of_any = (1, \"qwe\", ())\n",
    "print(tuple_of_any)"
   ]
  },
  {
   "cell_type": "code",
   "execution_count": 84,
   "id": "0324b2ec",
   "metadata": {},
   "outputs": [
    {
     "data": {
      "text/plain": [
       "{(1, 'qwe', ()), 1, 2, 'qwe'}"
      ]
     },
     "execution_count": 84,
     "metadata": {},
     "output_type": "execute_result"
    }
   ],
   "source": [
    "some_set = {tuple_of_any, 1, 2, 'qwe'}\n",
    "some_set"
   ]
  },
  {
   "cell_type": "code",
   "execution_count": 85,
   "id": "f7a057ad",
   "metadata": {},
   "outputs": [
    {
     "data": {
      "text/plain": [
       "(1, 'qwe', (), ['a', 'b'])"
      ]
     },
     "execution_count": 85,
     "metadata": {},
     "output_type": "execute_result"
    }
   ],
   "source": [
    "tuple_of_any += ([\"a\", 'b'], )\n",
    "tuple_of_any"
   ]
  },
  {
   "cell_type": "code",
   "execution_count": 86,
   "id": "910b7808",
   "metadata": {},
   "outputs": [
    {
     "data": {
      "text/plain": [
       "['a', 'b']"
      ]
     },
     "execution_count": 86,
     "metadata": {},
     "output_type": "execute_result"
    }
   ],
   "source": [
    "tuple_of_any[3]"
   ]
  },
  {
   "cell_type": "code",
   "execution_count": 87,
   "id": "eda56354",
   "metadata": {},
   "outputs": [
    {
     "data": {
      "text/plain": [
       "(1, 'qwe', (), ['a', 'b', 'c'])"
      ]
     },
     "execution_count": 87,
     "metadata": {},
     "output_type": "execute_result"
    }
   ],
   "source": [
    "tuple_of_any[3].append('c')\n",
    "tuple_of_any"
   ]
  },
  {
   "cell_type": "code",
   "execution_count": 89,
   "id": "2ef5ac41",
   "metadata": {},
   "outputs": [],
   "source": [
    "some_numbers = [11,1,3,24,1,13,42,1,1,4, 3, 10]\n"
   ]
  },
  {
   "cell_type": "code",
   "execution_count": 90,
   "id": "09e1fdf5",
   "metadata": {},
   "outputs": [
    {
     "data": {
      "text/plain": [
       "{1, 3, 4, 10, 11, 13, 24, 42}"
      ]
     },
     "execution_count": 90,
     "metadata": {},
     "output_type": "execute_result"
    }
   ],
   "source": [
    "set(some_numbers)"
   ]
  },
  {
   "cell_type": "code",
   "execution_count": 91,
   "id": "17f9dd90",
   "metadata": {},
   "outputs": [
    {
     "name": "stdout",
     "output_type": "stream",
     "text": [
      "1\n",
      "3\n",
      "4\n",
      "42\n",
      "11\n",
      "10\n",
      "13\n",
      "24\n"
     ]
    }
   ],
   "source": [
    "for num in set(some_numbers):\n",
    "    print(num)"
   ]
  },
  {
   "cell_type": "code",
   "execution_count": 92,
   "id": "f60fb067",
   "metadata": {},
   "outputs": [],
   "source": [
    "s = set(some_numbers)"
   ]
  },
  {
   "cell_type": "code",
   "execution_count": 93,
   "id": "880d5619",
   "metadata": {},
   "outputs": [
    {
     "data": {
      "text/plain": [
       "{1, 3, 4, 10, 11, 13, 24, 42}"
      ]
     },
     "execution_count": 93,
     "metadata": {},
     "output_type": "execute_result"
    }
   ],
   "source": [
    "s"
   ]
  },
  {
   "cell_type": "code",
   "execution_count": 94,
   "id": "90be3152",
   "metadata": {},
   "outputs": [
    {
     "name": "stdout",
     "output_type": "stream",
     "text": [
      "1\n",
      "3\n",
      "4\n",
      "42\n",
      "11\n",
      "10\n",
      "13\n",
      "24\n"
     ]
    }
   ],
   "source": [
    "for num in s:\n",
    "    print(num) "
   ]
  },
  {
   "cell_type": "code",
   "execution_count": 95,
   "id": "f11ca286",
   "metadata": {},
   "outputs": [],
   "source": [
    "def get_unique_words(words):\n",
    "    return set(words)"
   ]
  },
  {
   "cell_type": "code",
   "execution_count": 96,
   "id": "1505cfac",
   "metadata": {},
   "outputs": [
    {
     "data": {
      "text/plain": [
       "{'abc', 'bar', 'eggs', 'foo', 'spam'}"
      ]
     },
     "execution_count": 96,
     "metadata": {},
     "output_type": "execute_result"
    }
   ],
   "source": [
    "get_unique_words(['abc', 'abc', 'foo', 'bar', 'foo', 'spam', 'spam', 'spam', 'eggs'])"
   ]
  },
  {
   "cell_type": "code",
   "execution_count": 101,
   "id": "45448997",
   "metadata": {},
   "outputs": [],
   "source": [
    "def show_unique_words(words):\n",
    "    known_words = set()\n",
    "    for word in words:\n",
    "        # if word in known_words:\n",
    "        #     pass\n",
    "        # else:\n",
    "        #     print(\"new word:\", word)\n",
    "        # if not (word in known_words)\n",
    "        if word not in known_words:\n",
    "            print(\"new word:\", word)\n",
    "        known_words.add(word)"
   ]
  },
  {
   "cell_type": "code",
   "execution_count": 98,
   "id": "192db78f",
   "metadata": {},
   "outputs": [],
   "source": [
    "some_words = ['abc', 'abc', 'foo', 'bar', 'foo', 'spam', 'spam', 'spam', 'eggs']"
   ]
  },
  {
   "cell_type": "code",
   "execution_count": 102,
   "id": "f56a2e05",
   "metadata": {},
   "outputs": [
    {
     "name": "stdout",
     "output_type": "stream",
     "text": [
      "new word: abc\n",
      "new word: foo\n",
      "new word: bar\n",
      "new word: spam\n",
      "new word: eggs\n"
     ]
    }
   ],
   "source": [
    "show_unique_words(some_words)"
   ]
  },
  {
   "cell_type": "code",
   "execution_count": 105,
   "id": "30ca6964",
   "metadata": {},
   "outputs": [],
   "source": [
    "def show_unique_words(words):\n",
    "    known_words = set()\n",
    "    for word in words:\n",
    "        if word in known_words:\n",
    "            continue\n",
    "\n",
    "        print(\"new word:\", word)\n",
    "        known_words.add(word)"
   ]
  },
  {
   "cell_type": "code",
   "execution_count": 104,
   "id": "b2162ef7",
   "metadata": {},
   "outputs": [
    {
     "name": "stdout",
     "output_type": "stream",
     "text": [
      "new word: abc\n",
      "new word: foo\n",
      "new word: bar\n",
      "new word: spam\n",
      "new word: eggs\n"
     ]
    }
   ],
   "source": [
    "show_unique_words(some_words)"
   ]
  },
  {
   "cell_type": "code",
   "execution_count": 106,
   "id": "372fdad9",
   "metadata": {},
   "outputs": [
    {
     "name": "stdout",
     "output_type": "stream",
     "text": [
      "{-1: 'minus one', -2: 'minus two', 1: 'number one', '1': 'number one', (): 'empty tuple', (1, 2): [1, 2], 'list_of_odds': [1, 3, 5], 'list_of_evens': [2, 4, 6], 'weather': {'temp': 12, 'humidity': '40%'}}\n"
     ]
    }
   ],
   "source": [
    "my_dict = {\n",
    "    -1: \"minus one\",\n",
    "    -2: \"minus two\",\n",
    "    1: \"number one\",\n",
    "    \"1\": \"number one\",\n",
    "    (): \"empty tuple\",\n",
    "    (1, 2): [1, 2],\n",
    "    \"list_of_odds\": [1, 3, 5],\n",
    "    \"list_of_evens\": [2, 4, 6],\n",
    "    \n",
    "    \"weather\": {\n",
    "        \"temp\": 12,\n",
    "        \"humidity\": \"40%\",\n",
    "    },\n",
    "}\n",
    "print(my_dict)"
   ]
  },
  {
   "cell_type": "code",
   "execution_count": 107,
   "id": "452c2107",
   "metadata": {},
   "outputs": [
    {
     "data": {
      "text/plain": [
       "{-1: 'minus one',\n",
       " -2: 'minus two',\n",
       " 1: 'number one',\n",
       " '1': 'number one',\n",
       " (): 'empty tuple',\n",
       " (1, 2): [1, 2],\n",
       " 'list_of_odds': [1, 3, 5],\n",
       " 'list_of_evens': [2, 4, 6],\n",
       " 'weather': {'temp': 12, 'humidity': '40%'}}"
      ]
     },
     "execution_count": 107,
     "metadata": {},
     "output_type": "execute_result"
    }
   ],
   "source": [
    "my_dict"
   ]
  },
  {
   "cell_type": "code",
   "execution_count": 108,
   "id": "73af04a0",
   "metadata": {},
   "outputs": [
    {
     "name": "stdout",
     "output_type": "stream",
     "text": [
      "-1\n",
      "-2\n",
      "1\n",
      "1\n",
      "()\n",
      "(1, 2)\n",
      "list_of_odds\n",
      "list_of_evens\n",
      "weather\n"
     ]
    }
   ],
   "source": [
    "for key in my_dict:\n",
    "    print(key)"
   ]
  },
  {
   "cell_type": "code",
   "execution_count": 109,
   "id": "34efdc8e",
   "metadata": {},
   "outputs": [
    {
     "data": {
      "text/plain": [
       "{'temp': 12, 'humidity': '40%'}"
      ]
     },
     "execution_count": 109,
     "metadata": {},
     "output_type": "execute_result"
    }
   ],
   "source": [
    "my_dict[\"weather\"]"
   ]
  },
  {
   "cell_type": "code",
   "execution_count": 110,
   "id": "980a1a84",
   "metadata": {},
   "outputs": [],
   "source": [
    "my_dict[\"weather\"][\"rain-chance\"] = \"70%\""
   ]
  },
  {
   "cell_type": "code",
   "execution_count": 111,
   "id": "4569dd23",
   "metadata": {},
   "outputs": [
    {
     "data": {
      "text/plain": [
       "{'temp': 12, 'humidity': '40%', 'rain-chance': '70%'}"
      ]
     },
     "execution_count": 111,
     "metadata": {},
     "output_type": "execute_result"
    }
   ],
   "source": [
    "my_dict[\"weather\"]"
   ]
  },
  {
   "cell_type": "code",
   "execution_count": 112,
   "id": "dbbcabc9",
   "metadata": {},
   "outputs": [
    {
     "data": {
      "text/plain": [
       "{-1: 'minus one',\n",
       " -2: 'minus two',\n",
       " 1: 'number one',\n",
       " '1': 'number one',\n",
       " (): 'empty tuple',\n",
       " (1, 2): [1, 2],\n",
       " 'list_of_odds': [1, 3, 5],\n",
       " 'list_of_evens': [2, 4, 6],\n",
       " 'weather': {'temp': 12, 'humidity': '40%', 'rain-chance': '70%'}}"
      ]
     },
     "execution_count": 112,
     "metadata": {},
     "output_type": "execute_result"
    }
   ],
   "source": [
    "my_dict"
   ]
  },
  {
   "cell_type": "code",
   "execution_count": 113,
   "id": "0cfec9e9",
   "metadata": {},
   "outputs": [
    {
     "data": {
      "text/plain": [
       "'number one'"
      ]
     },
     "execution_count": 113,
     "metadata": {},
     "output_type": "execute_result"
    }
   ],
   "source": [
    "my_dict[\"1\"]"
   ]
  },
  {
   "cell_type": "code",
   "execution_count": 114,
   "id": "202b67b7",
   "metadata": {},
   "outputs": [],
   "source": [
    "my_dict[\"1\"] = \"one string\""
   ]
  },
  {
   "cell_type": "code",
   "execution_count": 115,
   "id": "f06a4beb",
   "metadata": {},
   "outputs": [
    {
     "data": {
      "text/plain": [
       "{-1: 'minus one',\n",
       " -2: 'minus two',\n",
       " 1: 'number one',\n",
       " '1': 'one string',\n",
       " (): 'empty tuple',\n",
       " (1, 2): [1, 2],\n",
       " 'list_of_odds': [1, 3, 5],\n",
       " 'list_of_evens': [2, 4, 6],\n",
       " 'weather': {'temp': 12, 'humidity': '40%', 'rain-chance': '70%'}}"
      ]
     },
     "execution_count": 115,
     "metadata": {},
     "output_type": "execute_result"
    }
   ],
   "source": [
    "my_dict"
   ]
  },
  {
   "cell_type": "code",
   "execution_count": 116,
   "id": "27d9bdf6",
   "metadata": {},
   "outputs": [],
   "source": [
    "my_dict[1] = 'one num' "
   ]
  },
  {
   "cell_type": "code",
   "execution_count": 117,
   "id": "dd045c21",
   "metadata": {},
   "outputs": [
    {
     "data": {
      "text/plain": [
       "{-1: 'minus one',\n",
       " -2: 'minus two',\n",
       " 1: 'one num',\n",
       " '1': 'one string',\n",
       " (): 'empty tuple',\n",
       " (1, 2): [1, 2],\n",
       " 'list_of_odds': [1, 3, 5],\n",
       " 'list_of_evens': [2, 4, 6],\n",
       " 'weather': {'temp': 12, 'humidity': '40%', 'rain-chance': '70%'}}"
      ]
     },
     "execution_count": 117,
     "metadata": {},
     "output_type": "execute_result"
    }
   ],
   "source": [
    "my_dict"
   ]
  },
  {
   "cell_type": "code",
   "execution_count": 118,
   "id": "65b42789",
   "metadata": {},
   "outputs": [
    {
     "data": {
      "text/plain": [
       "'minus two'"
      ]
     },
     "execution_count": 118,
     "metadata": {},
     "output_type": "execute_result"
    }
   ],
   "source": [
    "my_dict.pop(-2)"
   ]
  },
  {
   "cell_type": "code",
   "execution_count": 119,
   "id": "722447da",
   "metadata": {},
   "outputs": [
    {
     "data": {
      "text/plain": [
       "{-1: 'minus one',\n",
       " 1: 'one num',\n",
       " '1': 'one string',\n",
       " (): 'empty tuple',\n",
       " (1, 2): [1, 2],\n",
       " 'list_of_odds': [1, 3, 5],\n",
       " 'list_of_evens': [2, 4, 6],\n",
       " 'weather': {'temp': 12, 'humidity': '40%', 'rain-chance': '70%'}}"
      ]
     },
     "execution_count": 119,
     "metadata": {},
     "output_type": "execute_result"
    }
   ],
   "source": [
    "my_dict"
   ]
  },
  {
   "cell_type": "code",
   "execution_count": 121,
   "id": "9ccd489f",
   "metadata": {},
   "outputs": [],
   "source": [
    "my_dict[\"spam\"] = 'eggs'"
   ]
  },
  {
   "cell_type": "code",
   "execution_count": 122,
   "id": "fe9fc522",
   "metadata": {},
   "outputs": [
    {
     "data": {
      "text/plain": [
       "{-1: 'minus one',\n",
       " 1: 'one num',\n",
       " '1': 'one string',\n",
       " (): 'empty tuple',\n",
       " (1, 2): [1, 2],\n",
       " 'list_of_odds': [1, 3, 5],\n",
       " 'list_of_evens': [2, 4, 6],\n",
       " 'weather': {'temp': 12, 'humidity': '40%', 'rain-chance': '70%'},\n",
       " 'spam': 'eggs'}"
      ]
     },
     "execution_count": 122,
     "metadata": {},
     "output_type": "execute_result"
    }
   ],
   "source": [
    "my_dict"
   ]
  },
  {
   "cell_type": "code",
   "execution_count": 123,
   "id": "c6f20652",
   "metadata": {},
   "outputs": [
    {
     "data": {
      "text/plain": [
       "(2, 4, 6, 8, 10, 12, 14, 16, 18)"
      ]
     },
     "execution_count": 123,
     "metadata": {},
     "output_type": "execute_result"
    }
   ],
   "source": [
    "evens"
   ]
  },
  {
   "cell_type": "code",
   "execution_count": 124,
   "id": "ffdf5032",
   "metadata": {},
   "outputs": [
    {
     "data": {
      "text/plain": [
       "['hello', 'world', 'python', 'code', '123']"
      ]
     },
     "execution_count": 124,
     "metadata": {},
     "output_type": "execute_result"
    }
   ],
   "source": [
    "list_of_strings"
   ]
  },
  {
   "cell_type": "code",
   "execution_count": 125,
   "id": "a3ce8a1e",
   "metadata": {},
   "outputs": [
    {
     "data": {
      "text/plain": [
       "range(0, 15)"
      ]
     },
     "execution_count": 125,
     "metadata": {},
     "output_type": "execute_result"
    }
   ],
   "source": [
    "range(15)"
   ]
  },
  {
   "cell_type": "code",
   "execution_count": 126,
   "id": "a9d77dcf",
   "metadata": {},
   "outputs": [
    {
     "name": "stdout",
     "output_type": "stream",
     "text": [
      "0\n",
      "1\n",
      "2\n",
      "3\n",
      "4\n",
      "5\n",
      "6\n",
      "7\n",
      "8\n",
      "9\n",
      "10\n",
      "11\n",
      "12\n",
      "13\n",
      "14\n"
     ]
    }
   ],
   "source": [
    "for i in range(15):\n",
    "    print(i)"
   ]
  },
  {
   "cell_type": "code",
   "execution_count": 127,
   "id": "c2ae1a7a",
   "metadata": {},
   "outputs": [
    {
     "data": {
      "text/plain": [
       "[0, 1, 2, 3, 4, 5, 6]"
      ]
     },
     "execution_count": 127,
     "metadata": {},
     "output_type": "execute_result"
    }
   ],
   "source": [
    "list(range(7))"
   ]
  },
  {
   "cell_type": "code",
   "execution_count": 128,
   "id": "7e8b889d",
   "metadata": {},
   "outputs": [
    {
     "data": {
      "text/plain": [
       "7"
      ]
     },
     "execution_count": 128,
     "metadata": {},
     "output_type": "execute_result"
    }
   ],
   "source": [
    "len(list(range(7)))"
   ]
  },
  {
   "cell_type": "code",
   "execution_count": 129,
   "id": "0c4ecf3d",
   "metadata": {},
   "outputs": [
    {
     "name": "stdout",
     "output_type": "stream",
     "text": [
      "[0, 1, 2, 3, 4, 5, 6, 7, 8, 9, 10, 11, 12, 13, 14, 15]\n"
     ]
    }
   ],
   "source": [
    "numbers = list(range(16))\n",
    "print(numbers)"
   ]
  },
  {
   "cell_type": "code",
   "execution_count": 130,
   "id": "ac36500a",
   "metadata": {},
   "outputs": [
    {
     "name": "stdout",
     "output_type": "stream",
     "text": [
      "[1, 3, 5, 7, 9, 11, 13, 15]\n"
     ]
    }
   ],
   "source": [
    "odds = []\n",
    "\n",
    "for number in numbers:\n",
    "    if number % 2 == 0:\n",
    "        continue\n",
    "    odds.append(number)\n",
    "    \n",
    "print(odds)"
   ]
  },
  {
   "cell_type": "code",
   "execution_count": 132,
   "id": "41c9b3aa",
   "metadata": {},
   "outputs": [
    {
     "name": "stdout",
     "output_type": "stream",
     "text": [
      "[1, 3, 5, 7, 9, 11, 13, 15, 17, 19]\n"
     ]
    }
   ],
   "source": [
    "odds = [i for i in range(20) if i % 2]\n",
    "print(odds)"
   ]
  },
  {
   "cell_type": "code",
   "execution_count": 133,
   "id": "db797e4b",
   "metadata": {},
   "outputs": [
    {
     "data": {
      "text/plain": [
       "[0, 1, 2, 3, 4, 5, 6, 7, 8, 9]"
      ]
     },
     "execution_count": 133,
     "metadata": {},
     "output_type": "execute_result"
    }
   ],
   "source": [
    "list(range(10))"
   ]
  },
  {
   "cell_type": "code",
   "execution_count": 134,
   "id": "c52d960e",
   "metadata": {},
   "outputs": [
    {
     "data": {
      "text/plain": [
       "[5, 6, 7, 8, 9]"
      ]
     },
     "execution_count": 134,
     "metadata": {},
     "output_type": "execute_result"
    }
   ],
   "source": [
    "list(range(5, 10))"
   ]
  },
  {
   "cell_type": "code",
   "execution_count": 136,
   "id": "d573bbe9",
   "metadata": {},
   "outputs": [
    {
     "data": {
      "text/plain": [
       "[5, 8, 11, 14, 17, 20]"
      ]
     },
     "execution_count": 136,
     "metadata": {},
     "output_type": "execute_result"
    }
   ],
   "source": [
    "list(range(5, 21, 3))"
   ]
  },
  {
   "cell_type": "code",
   "execution_count": 137,
   "id": "e26a97e8",
   "metadata": {},
   "outputs": [
    {
     "data": {
      "text/plain": [
       "{11, 13, 15, 17, 19}"
      ]
     },
     "execution_count": 137,
     "metadata": {},
     "output_type": "execute_result"
    }
   ],
   "source": [
    "odds_set = {i for i in range(10, 20) if i % 2}\n",
    "odds_set"
   ]
  },
  {
   "cell_type": "code",
   "execution_count": 138,
   "id": "ce1d65a4",
   "metadata": {},
   "outputs": [
    {
     "data": {
      "text/plain": [
       "{1: 1,\n",
       " 2: 4,\n",
       " 3: 9,\n",
       " 4: 16,\n",
       " 5: 25,\n",
       " 6: 36,\n",
       " 7: 49,\n",
       " 8: 64,\n",
       " 9: 81,\n",
       " 10: 100,\n",
       " 11: 121,\n",
       " 12: 144,\n",
       " 13: 169,\n",
       " 14: 196}"
      ]
     },
     "execution_count": 138,
     "metadata": {},
     "output_type": "execute_result"
    }
   ],
   "source": [
    "squares = {\n",
    "    i: i ** 2\n",
    "    for i in range(1, 15)\n",
    "}\n",
    "\n",
    "squares"
   ]
  },
  {
   "cell_type": "code",
   "execution_count": 139,
   "id": "a039d2bc",
   "metadata": {},
   "outputs": [],
   "source": [
    "squares_list = [i ** 2 for i in range(5)]"
   ]
  },
  {
   "cell_type": "code",
   "execution_count": 141,
   "id": "f99acfb6",
   "metadata": {},
   "outputs": [
    {
     "data": {
      "text/plain": [
       "[0, 1, 4, 9, 16]"
      ]
     },
     "execution_count": 141,
     "metadata": {},
     "output_type": "execute_result"
    }
   ],
   "source": [
    "squares_list"
   ]
  },
  {
   "cell_type": "code",
   "execution_count": 142,
   "id": "86426214",
   "metadata": {},
   "outputs": [
    {
     "data": {
      "text/plain": [
       "[4, 16, 36, 64]"
      ]
     },
     "execution_count": 142,
     "metadata": {},
     "output_type": "execute_result"
    }
   ],
   "source": [
    "evens_squares_list = [i ** 2 for i in range(1, 9) if i % 2 == 0]\n",
    "evens_squares_list"
   ]
  },
  {
   "cell_type": "code",
   "execution_count": 143,
   "id": "1e9682c0",
   "metadata": {},
   "outputs": [
    {
     "data": {
      "text/plain": [
       "{'1': 1,\n",
       " '2': 8,\n",
       " '4': 64,\n",
       " '5': 125,\n",
       " '7': 343,\n",
       " '8': 512,\n",
       " '10': 1000,\n",
       " '11': 1331,\n",
       " '13': 2197,\n",
       " '14': 2744}"
      ]
     },
     "execution_count": 143,
     "metadata": {},
     "output_type": "execute_result"
    }
   ],
   "source": [
    "cubes = {\n",
    "    str(i): i ** 3\n",
    "    for i in range(1, 15)\n",
    "    if i % 3 != 0\n",
    "}\n",
    "\n",
    "cubes"
   ]
  },
  {
   "cell_type": "code",
   "execution_count": 144,
   "id": "1cb2a8cd",
   "metadata": {},
   "outputs": [
    {
     "data": {
      "text/plain": [
       "[]"
      ]
     },
     "execution_count": 144,
     "metadata": {},
     "output_type": "execute_result"
    }
   ],
   "source": [
    "list(range(1, 10, -1))"
   ]
  },
  {
   "cell_type": "code",
   "execution_count": 145,
   "id": "d3f7e2d0",
   "metadata": {},
   "outputs": [
    {
     "data": {
      "text/plain": [
       "[10, 9, 8, 7, 6]"
      ]
     },
     "execution_count": 145,
     "metadata": {},
     "output_type": "execute_result"
    }
   ],
   "source": [
    "list(range(10, 5, -1))"
   ]
  },
  {
   "cell_type": "code",
   "execution_count": 146,
   "id": "36cb84ff",
   "metadata": {},
   "outputs": [
    {
     "data": {
      "text/plain": [
       "[10, 9, 8, 7, 6, 5, 4, 3, 2, 1, 0, -1, -2, -3, -4]"
      ]
     },
     "execution_count": 146,
     "metadata": {},
     "output_type": "execute_result"
    }
   ],
   "source": [
    "list(range(10, -5, -1))"
   ]
  },
  {
   "cell_type": "code",
   "execution_count": 147,
   "id": "43b72fb3",
   "metadata": {},
   "outputs": [
    {
     "data": {
      "text/plain": [
       "[-10, -8, -6, -4]"
      ]
     },
     "execution_count": 147,
     "metadata": {},
     "output_type": "execute_result"
    }
   ],
   "source": [
    "list(range(-10, -3, 2))"
   ]
  },
  {
   "cell_type": "code",
   "execution_count": 148,
   "id": "2c9fae64",
   "metadata": {},
   "outputs": [
    {
     "data": {
      "text/plain": [
       "[0, 1, 2, 3, 4, 5, 6, 7, 8, 9, 10, 11, 12, 13, 14, 15]"
      ]
     },
     "execution_count": 148,
     "metadata": {},
     "output_type": "execute_result"
    }
   ],
   "source": [
    "numbers"
   ]
  },
  {
   "cell_type": "code",
   "execution_count": 149,
   "id": "15f21827",
   "metadata": {},
   "outputs": [
    {
     "data": {
      "text/plain": [
       "0"
      ]
     },
     "execution_count": 149,
     "metadata": {},
     "output_type": "execute_result"
    }
   ],
   "source": [
    "numbers[0]"
   ]
  },
  {
   "cell_type": "code",
   "execution_count": 150,
   "id": "081f567a",
   "metadata": {},
   "outputs": [],
   "source": [
    "numbers = list(range(10, 21))"
   ]
  },
  {
   "cell_type": "code",
   "execution_count": 151,
   "id": "85d632d8",
   "metadata": {},
   "outputs": [
    {
     "data": {
      "text/plain": [
       "[10, 11, 12, 13, 14, 15, 16, 17, 18, 19, 20]"
      ]
     },
     "execution_count": 151,
     "metadata": {},
     "output_type": "execute_result"
    }
   ],
   "source": [
    "numbers"
   ]
  },
  {
   "cell_type": "code",
   "execution_count": 152,
   "id": "b64c7b51",
   "metadata": {},
   "outputs": [
    {
     "data": {
      "text/plain": [
       "10"
      ]
     },
     "execution_count": 152,
     "metadata": {},
     "output_type": "execute_result"
    }
   ],
   "source": [
    "numbers[0]"
   ]
  },
  {
   "cell_type": "code",
   "execution_count": 153,
   "id": "a3ff0be5",
   "metadata": {},
   "outputs": [
    {
     "data": {
      "text/plain": [
       "13"
      ]
     },
     "execution_count": 153,
     "metadata": {},
     "output_type": "execute_result"
    }
   ],
   "source": [
    "numbers[3]"
   ]
  },
  {
   "cell_type": "code",
   "execution_count": 154,
   "id": "63e92938",
   "metadata": {},
   "outputs": [
    {
     "data": {
      "text/plain": [
       "[13, 14, 15, 16]"
      ]
     },
     "execution_count": 154,
     "metadata": {},
     "output_type": "execute_result"
    }
   ],
   "source": [
    "numbers[3:7]"
   ]
  },
  {
   "cell_type": "code",
   "execution_count": 155,
   "id": "376c55b8",
   "metadata": {},
   "outputs": [
    {
     "data": {
      "text/plain": [
       "20"
      ]
     },
     "execution_count": 155,
     "metadata": {},
     "output_type": "execute_result"
    }
   ],
   "source": [
    "numbers[10]"
   ]
  },
  {
   "cell_type": "code",
   "execution_count": 156,
   "id": "3318aabe",
   "metadata": {},
   "outputs": [
    {
     "data": {
      "text/plain": [
       "[17, 18, 19, 20]"
      ]
     },
     "execution_count": 156,
     "metadata": {},
     "output_type": "execute_result"
    }
   ],
   "source": [
    "numbers[7:30]"
   ]
  },
  {
   "cell_type": "code",
   "execution_count": 157,
   "id": "20caa2fb",
   "metadata": {},
   "outputs": [
    {
     "data": {
      "text/plain": [
       "'lo wo'"
      ]
     },
     "execution_count": 157,
     "metadata": {},
     "output_type": "execute_result"
    }
   ],
   "source": [
    "\"hello world\"[3:8]"
   ]
  },
  {
   "cell_type": "code",
   "execution_count": 158,
   "id": "ea1bf9f3",
   "metadata": {},
   "outputs": [
    {
     "data": {
      "text/plain": [
       "('spam', 'eggs')"
      ]
     },
     "execution_count": 158,
     "metadata": {},
     "output_type": "execute_result"
    }
   ],
   "source": [
    "('foo', 'bar', 'spam', 'eggs')[2:4]"
   ]
  },
  {
   "cell_type": "code",
   "execution_count": 159,
   "id": "4ff1ad9d",
   "metadata": {},
   "outputs": [
    {
     "data": {
      "text/plain": [
       "('spam', 'eggs')"
      ]
     },
     "execution_count": 159,
     "metadata": {},
     "output_type": "execute_result"
    }
   ],
   "source": [
    "t = ('foo', 'bar', 'spam', 'eggs')\n",
    "t[2:4]"
   ]
  },
  {
   "cell_type": "code",
   "execution_count": 160,
   "id": "769563a2",
   "metadata": {},
   "outputs": [
    {
     "data": {
      "text/plain": [
       "('foo', 'bar', 'spam', 'eggs')"
      ]
     },
     "execution_count": 160,
     "metadata": {},
     "output_type": "execute_result"
    }
   ],
   "source": [
    "t"
   ]
  },
  {
   "cell_type": "code",
   "execution_count": 161,
   "id": "67373a9a",
   "metadata": {},
   "outputs": [
    {
     "data": {
      "text/plain": [
       "('spam', 'eggs')"
      ]
     },
     "execution_count": 161,
     "metadata": {},
     "output_type": "execute_result"
    }
   ],
   "source": [
    "t[2:]"
   ]
  },
  {
   "cell_type": "code",
   "execution_count": 162,
   "id": "b770a877",
   "metadata": {},
   "outputs": [
    {
     "data": {
      "text/plain": [
       "('bar', 'spam')"
      ]
     },
     "execution_count": 162,
     "metadata": {},
     "output_type": "execute_result"
    }
   ],
   "source": [
    "t[1:3]"
   ]
  },
  {
   "cell_type": "code",
   "execution_count": 163,
   "id": "d9c32290",
   "metadata": {},
   "outputs": [
    {
     "data": {
      "text/plain": [
       "('bar', 'spam', 'eggs')"
      ]
     },
     "execution_count": 163,
     "metadata": {},
     "output_type": "execute_result"
    }
   ],
   "source": [
    "t[1:]"
   ]
  },
  {
   "cell_type": "code",
   "execution_count": 164,
   "id": "bcb75ef6",
   "metadata": {},
   "outputs": [
    {
     "data": {
      "text/plain": [
       "('foo', 'bar', 'spam', 'eggs')"
      ]
     },
     "execution_count": 164,
     "metadata": {},
     "output_type": "execute_result"
    }
   ],
   "source": [
    "t[:]"
   ]
  },
  {
   "cell_type": "code",
   "execution_count": 165,
   "id": "95b0db9d",
   "metadata": {},
   "outputs": [
    {
     "data": {
      "text/plain": [
       "[10, 11, 12, 13, 14, 15, 16, 17, 18, 19, 20]"
      ]
     },
     "execution_count": 165,
     "metadata": {},
     "output_type": "execute_result"
    }
   ],
   "source": [
    "numbers"
   ]
  },
  {
   "cell_type": "code",
   "execution_count": 166,
   "id": "3b4d6637",
   "metadata": {},
   "outputs": [
    {
     "data": {
      "text/plain": [
       "True"
      ]
     },
     "execution_count": 166,
     "metadata": {},
     "output_type": "execute_result"
    }
   ],
   "source": [
    "numbers == numbers[:]"
   ]
  },
  {
   "cell_type": "code",
   "execution_count": 167,
   "id": "552de1f6",
   "metadata": {},
   "outputs": [
    {
     "data": {
      "text/plain": [
       "False"
      ]
     },
     "execution_count": 167,
     "metadata": {},
     "output_type": "execute_result"
    }
   ],
   "source": [
    "numbers is numbers[:]"
   ]
  },
  {
   "cell_type": "code",
   "execution_count": 169,
   "id": "5b393ac0",
   "metadata": {},
   "outputs": [
    {
     "data": {
      "text/plain": [
       "[10, 11, 12, 13, 14, 15, 16, 17, 18, 19, 20]"
      ]
     },
     "execution_count": 169,
     "metadata": {},
     "output_type": "execute_result"
    }
   ],
   "source": [
    "numbers[0:len(numbers)]"
   ]
  },
  {
   "cell_type": "code",
   "execution_count": 170,
   "id": "7da548ce",
   "metadata": {},
   "outputs": [
    {
     "data": {
      "text/plain": [
       "[10, 11, 12, 13, 14, 15, 16, 17, 18, 19, 20]"
      ]
     },
     "execution_count": 170,
     "metadata": {},
     "output_type": "execute_result"
    }
   ],
   "source": [
    "numbers[0:]"
   ]
  },
  {
   "cell_type": "code",
   "execution_count": 171,
   "id": "3e046cb7",
   "metadata": {},
   "outputs": [
    {
     "data": {
      "text/plain": [
       "('foo', 'bar', 'spam')"
      ]
     },
     "execution_count": 171,
     "metadata": {},
     "output_type": "execute_result"
    }
   ],
   "source": [
    "t[:3]"
   ]
  },
  {
   "cell_type": "code",
   "execution_count": 172,
   "id": "3360ccac",
   "metadata": {},
   "outputs": [
    {
     "data": {
      "text/plain": [
       "[11, 12, 13, 14, 15, 16]"
      ]
     },
     "execution_count": 172,
     "metadata": {},
     "output_type": "execute_result"
    }
   ],
   "source": [
    "numbers[1:7]"
   ]
  },
  {
   "cell_type": "code",
   "execution_count": 173,
   "id": "30795045",
   "metadata": {},
   "outputs": [
    {
     "data": {
      "text/plain": [
       "[11, 13, 15]"
      ]
     },
     "execution_count": 173,
     "metadata": {},
     "output_type": "execute_result"
    }
   ],
   "source": [
    "numbers[1:7:2]"
   ]
  },
  {
   "cell_type": "code",
   "execution_count": 174,
   "id": "4e711ad4",
   "metadata": {},
   "outputs": [
    {
     "data": {
      "text/plain": [
       "[]"
      ]
     },
     "execution_count": 174,
     "metadata": {},
     "output_type": "execute_result"
    }
   ],
   "source": [
    "numbers[1:7:-2]"
   ]
  },
  {
   "cell_type": "code",
   "execution_count": 175,
   "id": "46cd6f27",
   "metadata": {},
   "outputs": [
    {
     "data": {
      "text/plain": [
       "[17, 15, 13]"
      ]
     },
     "execution_count": 175,
     "metadata": {},
     "output_type": "execute_result"
    }
   ],
   "source": [
    "numbers[7:1:-2]"
   ]
  },
  {
   "cell_type": "code",
   "execution_count": 176,
   "id": "2aee6bd5",
   "metadata": {},
   "outputs": [
    {
     "data": {
      "text/plain": [
       "[10, 11, 12, 13, 14, 15, 16, 17, 18, 19, 20]"
      ]
     },
     "execution_count": 176,
     "metadata": {},
     "output_type": "execute_result"
    }
   ],
   "source": [
    "numbers"
   ]
  },
  {
   "cell_type": "code",
   "execution_count": 177,
   "id": "0ea46cb1",
   "metadata": {},
   "outputs": [
    {
     "data": {
      "text/plain": [
       "[10, 11, 12, 13, 14, 15, 16, 17, 18, 19, 20]"
      ]
     },
     "execution_count": 177,
     "metadata": {},
     "output_type": "execute_result"
    }
   ],
   "source": [
    "numbers[::]"
   ]
  },
  {
   "cell_type": "code",
   "execution_count": 178,
   "id": "203a7737",
   "metadata": {},
   "outputs": [
    {
     "data": {
      "text/plain": [
       "[20, 19, 18, 17, 16, 15, 14, 13, 12, 11, 10]"
      ]
     },
     "execution_count": 178,
     "metadata": {},
     "output_type": "execute_result"
    }
   ],
   "source": [
    "numbers[::-1]"
   ]
  },
  {
   "cell_type": "code",
   "execution_count": 179,
   "id": "73e6e1f8",
   "metadata": {},
   "outputs": [],
   "source": [
    "numbers.reverse()"
   ]
  },
  {
   "cell_type": "code",
   "execution_count": 180,
   "id": "bd618314",
   "metadata": {},
   "outputs": [
    {
     "data": {
      "text/plain": [
       "[20, 19, 18, 17, 16, 15, 14, 13, 12, 11, 10]"
      ]
     },
     "execution_count": 180,
     "metadata": {},
     "output_type": "execute_result"
    }
   ],
   "source": [
    "numbers"
   ]
  },
  {
   "cell_type": "code",
   "execution_count": 181,
   "id": "8b87ef92",
   "metadata": {
    "scrolled": true
   },
   "outputs": [
    {
     "data": {
      "text/plain": [
       "[10, 11, 12, 13, 14, 15, 16, 17, 18, 19, 20]"
      ]
     },
     "execution_count": 181,
     "metadata": {},
     "output_type": "execute_result"
    }
   ],
   "source": [
    "numbers[::-1]"
   ]
  },
  {
   "cell_type": "code",
   "execution_count": 182,
   "id": "001fc450",
   "metadata": {},
   "outputs": [
    {
     "name": "stdout",
     "output_type": "stream",
     "text": [
      "2\n"
     ]
    }
   ],
   "source": [
    "print(x)"
   ]
  },
  {
   "cell_type": "code",
   "execution_count": 183,
   "id": "8c597c3d",
   "metadata": {},
   "outputs": [],
   "source": [
    "def show_x():\n",
    "    print(\"x =\", x)"
   ]
  },
  {
   "cell_type": "code",
   "execution_count": 184,
   "id": "d3d5c8dc",
   "metadata": {},
   "outputs": [
    {
     "name": "stdout",
     "output_type": "stream",
     "text": [
      "x = 2\n"
     ]
    }
   ],
   "source": [
    "show_x()"
   ]
  },
  {
   "cell_type": "code",
   "execution_count": 185,
   "id": "daa191da",
   "metadata": {},
   "outputs": [],
   "source": [
    "x = 3"
   ]
  },
  {
   "cell_type": "code",
   "execution_count": 186,
   "id": "7f027cda",
   "metadata": {},
   "outputs": [
    {
     "name": "stdout",
     "output_type": "stream",
     "text": [
      "x = 3\n"
     ]
    }
   ],
   "source": [
    "show_x()"
   ]
  },
  {
   "cell_type": "code",
   "execution_count": null,
   "id": "a2c52152",
   "metadata": {},
   "outputs": [],
   "source": []
  }
 ],
 "metadata": {
  "kernelspec": {
   "display_name": "Python 3 (ipykernel)",
   "language": "python",
   "name": "python3"
  },
  "language_info": {
   "codemirror_mode": {
    "name": "ipython",
    "version": 3
   },
   "file_extension": ".py",
   "mimetype": "text/x-python",
   "name": "python",
   "nbconvert_exporter": "python",
   "pygments_lexer": "ipython3",
   "version": "3.10.4"
  }
 },
 "nbformat": 4,
 "nbformat_minor": 5
}
