{
 "cells": [
  {
   "cell_type": "code",
   "execution_count": 6,
   "id": "initial_id",
   "metadata": {
    "ExecuteTime": {
     "end_time": "2024-06-06T16:53:38.231298Z",
     "start_time": "2024-06-06T16:53:38.228676Z"
    }
   },
   "outputs": [],
   "source": [
    "my_str1 = 'Строка'"
   ]
  },
  {
   "cell_type": "markdown",
   "id": "5043f5cd-171f-472e-8647-f36811df087d",
   "metadata": {},
   "source": [
    "a b c d a1 n1   - не называем переменные"
   ]
  },
  {
   "cell_type": "code",
   "execution_count": 8,
   "id": "e3ce6f39-d9a3-4064-879b-e182a9898401",
   "metadata": {},
   "outputs": [],
   "source": [
    "my_str2 = \"Стр'ока\""
   ]
  },
  {
   "cell_type": "code",
   "execution_count": 9,
   "id": "38c2b154-c477-490b-ba11-a11e1f7b2178",
   "metadata": {},
   "outputs": [
    {
     "name": "stdout",
     "output_type": "stream",
     "text": [
      "Строка\n"
     ]
    }
   ],
   "source": [
    "print(my_str1)"
   ]
  },
  {
   "cell_type": "code",
   "execution_count": 10,
   "id": "37ebd91a-e958-4e0d-9ecb-686a0e52a88c",
   "metadata": {},
   "outputs": [
    {
     "name": "stdout",
     "output_type": "stream",
     "text": [
      "Стр'ока\n"
     ]
    }
   ],
   "source": [
    "print(my_str2)"
   ]
  },
  {
   "cell_type": "code",
   "execution_count": 11,
   "id": "e3fc1bc1-59c4-4eae-b05c-e0600af797de",
   "metadata": {},
   "outputs": [],
   "source": [
    "my_str2 = \"Стр'ока\\nСтрока2\""
   ]
  },
  {
   "cell_type": "code",
   "execution_count": 13,
   "id": "bd1a4f93-ee44-4cc9-998d-9762ebf144e7",
   "metadata": {},
   "outputs": [
    {
     "name": "stdout",
     "output_type": "stream",
     "text": [
      "Стр'ока\n",
      "Строка2\n"
     ]
    }
   ],
   "source": [
    "print(my_str2)"
   ]
  },
  {
   "cell_type": "code",
   "execution_count": 14,
   "id": "2b1bb7a5-6727-4611-83a6-69d8d025e022",
   "metadata": {},
   "outputs": [],
   "source": [
    "my_str3 = \"Стр'ока\\tСтрока2\""
   ]
  },
  {
   "cell_type": "code",
   "execution_count": 15,
   "id": "56713991-24c4-4203-99bf-161ac1be8633",
   "metadata": {},
   "outputs": [
    {
     "name": "stdout",
     "output_type": "stream",
     "text": [
      "Стр'ока\tСтрока2\n"
     ]
    }
   ],
   "source": [
    "print(my_str3)"
   ]
  },
  {
   "cell_type": "code",
   "execution_count": 16,
   "id": "9fa991bf-fcd5-422d-8f50-a61406ba7e69",
   "metadata": {},
   "outputs": [],
   "source": [
    "my_str4 = \"Стр'ока\\\\nСтрока2\""
   ]
  },
  {
   "cell_type": "code",
   "execution_count": 17,
   "id": "3bd8e4fa-52d4-4219-a7e9-a97ee9672f5b",
   "metadata": {},
   "outputs": [
    {
     "name": "stdout",
     "output_type": "stream",
     "text": [
      "Стр'ока\\nСтрока2\n"
     ]
    }
   ],
   "source": [
    "print(my_str4)"
   ]
  },
  {
   "cell_type": "code",
   "execution_count": 18,
   "id": "458286ae-6145-418e-9ced-7e1cbeacd594",
   "metadata": {},
   "outputs": [],
   "source": [
    "my_str5 = r\"Стр'ока\\nСтрока2\""
   ]
  },
  {
   "cell_type": "code",
   "execution_count": 19,
   "id": "77db78e6-f262-45da-ba14-873afea679b3",
   "metadata": {},
   "outputs": [
    {
     "name": "stdout",
     "output_type": "stream",
     "text": [
      "Стр'ока\\nСтрока2\n"
     ]
    }
   ],
   "source": [
    "print(my_str5)"
   ]
  },
  {
   "cell_type": "code",
   "execution_count": 21,
   "id": "8732e88c-fe60-4db9-aa6c-e3c06de4aff1",
   "metadata": {},
   "outputs": [],
   "source": [
    "my_str6 = \"\"\"Стр'ока\n",
    "Строка2\n",
    "Строка2\"\"\""
   ]
  },
  {
   "cell_type": "code",
   "execution_count": 22,
   "id": "7194bef0-3882-4581-bc02-68f760befb24",
   "metadata": {},
   "outputs": [
    {
     "name": "stdout",
     "output_type": "stream",
     "text": [
      "Стр'ока\n",
      "Строка2\n",
      "Строка2\n"
     ]
    }
   ],
   "source": [
    "print(my_str6)"
   ]
  },
  {
   "cell_type": "code",
   "execution_count": 23,
   "id": "a63f9638-3e15-4491-a32e-f6d1aa05a1aa",
   "metadata": {},
   "outputs": [],
   "source": [
    "my_str7 = \"\"\"\"\"Стр'ока\n",
    "Строка2\n",
    "Строка2\"\"\"\"\""
   ]
  },
  {
   "cell_type": "code",
   "execution_count": 24,
   "id": "c91c78f0-a90b-43da-824f-21fbaa168e3a",
   "metadata": {},
   "outputs": [
    {
     "name": "stdout",
     "output_type": "stream",
     "text": [
      "\"\"Стр'ока\n",
      "Строка2\n",
      "Строка2\n"
     ]
    }
   ],
   "source": [
    "print(my_str7)"
   ]
  },
  {
   "cell_type": "code",
   "execution_count": 25,
   "id": "e84d7694-320e-4fa6-a820-5432aa07e5f2",
   "metadata": {},
   "outputs": [],
   "source": [
    "my_str8 = r\"\"\"\"\"Стр'ока\n",
    "Строка2\n",
    "Строка2\"\"\"\"\""
   ]
  },
  {
   "cell_type": "code",
   "execution_count": 26,
   "id": "9ec53998-e706-478f-aee7-2c765d1878fe",
   "metadata": {},
   "outputs": [
    {
     "name": "stdout",
     "output_type": "stream",
     "text": [
      "\"\"Стр'ока\n",
      "Строка2\n",
      "Строка2\n"
     ]
    }
   ],
   "source": [
    "print(my_str8)"
   ]
  },
  {
   "cell_type": "code",
   "execution_count": 27,
   "id": "b86f3a60-d34e-43e1-8212-944ac5b5681e",
   "metadata": {},
   "outputs": [],
   "source": [
    "num = 123"
   ]
  },
  {
   "cell_type": "code",
   "execution_count": 32,
   "id": "1a7cb8fb-0037-48ba-9145-fa1891b10dd2",
   "metadata": {},
   "outputs": [],
   "source": [
    "my_str9 = f\"Строка {num + 100} \\nСтрока2\""
   ]
  },
  {
   "cell_type": "code",
   "execution_count": 33,
   "id": "0cc4c0b6-c2f8-4f84-9196-57255c39ff64",
   "metadata": {},
   "outputs": [
    {
     "name": "stdout",
     "output_type": "stream",
     "text": [
      "Строка 223 \n",
      "Строка2\n"
     ]
    }
   ],
   "source": [
    "print(my_str9)"
   ]
  },
  {
   "cell_type": "code",
   "execution_count": 34,
   "id": "9ecf9941-0cb2-4ae6-9fa6-c5dbccf10d2c",
   "metadata": {},
   "outputs": [
    {
     "name": "stdout",
     "output_type": "stream",
     "text": [
      "123\n"
     ]
    }
   ],
   "source": [
    "print(num)"
   ]
  },
  {
   "cell_type": "code",
   "execution_count": 35,
   "id": "c273553c-7b11-4310-b6f9-8fd86d1b17ae",
   "metadata": {},
   "outputs": [],
   "source": [
    "num = 200"
   ]
  },
  {
   "cell_type": "code",
   "execution_count": 36,
   "id": "84d8a435-a380-46cb-bfda-2977da0fcdf7",
   "metadata": {},
   "outputs": [
    {
     "name": "stdout",
     "output_type": "stream",
     "text": [
      "200\n"
     ]
    }
   ],
   "source": [
    "print(num)"
   ]
  },
  {
   "cell_type": "code",
   "execution_count": 37,
   "id": "e78b2a06-3c93-4bc0-b178-a0c7466a23d5",
   "metadata": {},
   "outputs": [],
   "source": [
    "num_f = 10.1"
   ]
  },
  {
   "cell_type": "code",
   "execution_count": 38,
   "id": "642e2a46-b7bb-4b7f-8f90-620c2aead4ae",
   "metadata": {},
   "outputs": [
    {
     "name": "stdout",
     "output_type": "stream",
     "text": [
      "10.1\n"
     ]
    }
   ],
   "source": [
    "print(num_f)"
   ]
  },
  {
   "cell_type": "code",
   "execution_count": 39,
   "id": "f3ce462d-8807-4858-88e2-7c24e0f1a87a",
   "metadata": {},
   "outputs": [
    {
     "name": "stdout",
     "output_type": "stream",
     "text": [
      "<class 'int'>\n"
     ]
    }
   ],
   "source": [
    "print(type(num))"
   ]
  },
  {
   "cell_type": "code",
   "execution_count": 40,
   "id": "8bedb281-edab-45ba-af4f-34bb10fc82b9",
   "metadata": {},
   "outputs": [
    {
     "name": "stdout",
     "output_type": "stream",
     "text": [
      "<class 'float'>\n"
     ]
    }
   ],
   "source": [
    "print(type(num_f))"
   ]
  },
  {
   "cell_type": "code",
   "execution_count": 41,
   "id": "1cd05749-9369-4188-af9f-6df266b35630",
   "metadata": {},
   "outputs": [
    {
     "name": "stdout",
     "output_type": "stream",
     "text": [
      "<class 'str'>\n"
     ]
    }
   ],
   "source": [
    "print(type(my_str9))"
   ]
  },
  {
   "cell_type": "code",
   "execution_count": 42,
   "id": "ee11d2e9-c3e6-455c-94be-f9fb53001797",
   "metadata": {},
   "outputs": [
    {
     "data": {
      "text/plain": [
       "200"
      ]
     },
     "execution_count": 42,
     "metadata": {},
     "output_type": "execute_result"
    }
   ],
   "source": [
    "num"
   ]
  },
  {
   "cell_type": "code",
   "execution_count": 43,
   "id": "7b616abc-e3c9-4cfa-9cc3-9183e560ad06",
   "metadata": {},
   "outputs": [
    {
     "data": {
      "text/plain": [
       "float"
      ]
     },
     "execution_count": 43,
     "metadata": {},
     "output_type": "execute_result"
    }
   ],
   "source": [
    "type(num_f)"
   ]
  },
  {
   "cell_type": "code",
   "execution_count": 44,
   "id": "0eacf54d-c306-4c60-b01b-221996d06a84",
   "metadata": {},
   "outputs": [],
   "source": [
    "num = 10"
   ]
  },
  {
   "cell_type": "code",
   "execution_count": 50,
   "id": "3476b4e9-af2f-447b-9e41-7389b32a2096",
   "metadata": {},
   "outputs": [
    {
     "name": "stdout",
     "output_type": "stream",
     "text": [
      "Хорошо\n",
      "1\n",
      "Конец услови\n"
     ]
    }
   ],
   "source": [
    "if num > 5:\n",
    "    print('Хорошо')\n",
    "    print(1)\n",
    "print(\"Конец услови\")"
   ]
  },
  {
   "cell_type": "code",
   "execution_count": 55,
   "id": "4198a0c4-0982-4045-9256-c26e7862289f",
   "metadata": {},
   "outputs": [
    {
     "name": "stdout",
     "output_type": "stream",
     "text": [
      "Хорошо\n",
      "1\n",
      "Конец условия\n"
     ]
    }
   ],
   "source": [
    "if num > 5:\n",
    "    print('Хорошо')\n",
    "    print(1)\n",
    "else:\n",
    "    print('Плохо')\n",
    "    print('Плохо')\n",
    "print(\"Конец условия\")"
   ]
  },
  {
   "cell_type": "code",
   "execution_count": 56,
   "id": "e33e45c2-b09a-4ef7-97e2-27db36580c92",
   "metadata": {},
   "outputs": [],
   "source": [
    "num = 3"
   ]
  },
  {
   "cell_type": "code",
   "execution_count": 58,
   "id": "824e2906-05ea-4241-85f0-7f2072886717",
   "metadata": {},
   "outputs": [
    {
     "name": "stdout",
     "output_type": "stream",
     "text": [
      "Плохо\n",
      "Конец условия\n"
     ]
    }
   ],
   "source": [
    "if num > 5:\n",
    "    print('Хорошо')\n",
    "    print(1)\n",
    "else:\n",
    "    print('Плохо')\n",
    "print(\"Конец условия\")"
   ]
  },
  {
   "cell_type": "code",
   "execution_count": 59,
   "id": "b8919ef9-25d3-43d0-af68-f336caae18e4",
   "metadata": {},
   "outputs": [],
   "source": [
    "my = num > 5"
   ]
  },
  {
   "cell_type": "code",
   "execution_count": 60,
   "id": "13495611-145a-46f6-9429-4eb86a1e13e3",
   "metadata": {},
   "outputs": [
    {
     "name": "stdout",
     "output_type": "stream",
     "text": [
      "False\n"
     ]
    }
   ],
   "source": [
    "print(my)"
   ]
  },
  {
   "cell_type": "code",
   "execution_count": 61,
   "id": "0560b5a1-f8da-4e06-8ac2-3655526392c8",
   "metadata": {},
   "outputs": [
    {
     "name": "stdout",
     "output_type": "stream",
     "text": [
      "<class 'bool'>\n"
     ]
    }
   ],
   "source": [
    "print(type(my))"
   ]
  },
  {
   "cell_type": "code",
   "execution_count": 63,
   "id": "5babb18a-9ad4-4a21-8a06-c040d1add2e7",
   "metadata": {},
   "outputs": [
    {
     "name": "stdout",
     "output_type": "stream",
     "text": [
      "Плохо\n",
      "Конец условия\n"
     ]
    }
   ],
   "source": [
    "if False:\n",
    "    print('Хорошо')\n",
    "    print(1)\n",
    "else:\n",
    "    print('Плохо')\n",
    "print(\"Конец условия\")"
   ]
  },
  {
   "cell_type": "code",
   "execution_count": 64,
   "id": "9a170216-0c37-417a-b076-3d1d316926a9",
   "metadata": {},
   "outputs": [
    {
     "name": "stdout",
     "output_type": "stream",
     "text": [
      "Плохо\n",
      "Хорошо\n",
      "1\n",
      "Конец условия\n"
     ]
    }
   ],
   "source": [
    "if num > 5:\n",
    "    print('Хорошо')\n",
    "    print(1)\n",
    "else:\n",
    "    print('Плохо')\n",
    "    if num != 2:\n",
    "        print('Хорошо')\n",
    "        print(1)\n",
    "    else:\n",
    "        print('Плохо')\n",
    "print(\"Конец условия\")\n"
   ]
  },
  {
   "cell_type": "code",
   "execution_count": 75,
   "id": "29149b6a-d1e5-4309-b4dd-f8a4d684e7d6",
   "metadata": {},
   "outputs": [],
   "source": [
    "num = 10"
   ]
  },
  {
   "cell_type": "code",
   "execution_count": 76,
   "id": "fab64102-6539-46c1-aac6-fa5b903ee35a",
   "metadata": {},
   "outputs": [
    {
     "name": "stdout",
     "output_type": "stream",
     "text": [
      "Плохо\n",
      "Конец условия\n"
     ]
    }
   ],
   "source": [
    "if num > 50:\n",
    "    print('Хорошо')\n",
    "    print(1)\n",
    "elif num > 40:\n",
    "    print('Хорошо')\n",
    "    print(2)\n",
    "elif num > 30:\n",
    "    print('Хорошо')\n",
    "    print(3)\n",
    "elif num > 20:\n",
    "    print('Хорошо')\n",
    "    print(4)\n",
    "else:\n",
    "    print('Плохо')\n",
    "print(\"Конец условия\")"
   ]
  },
  {
   "cell_type": "code",
   "execution_count": 77,
   "id": "b756ed50-cca6-4f2f-b13b-af4b9568047a",
   "metadata": {},
   "outputs": [],
   "source": [
    "age = 30"
   ]
  },
  {
   "cell_type": "code",
   "execution_count": 79,
   "id": "810d2ff8-928a-4613-a842-24ce31b9ff0a",
   "metadata": {},
   "outputs": [
    {
     "name": "stdout",
     "output_type": "stream",
     "text": [
      "Взрослый\n",
      "4\n",
      "Конец условия\n"
     ]
    }
   ],
   "source": [
    "if age < 0:\n",
    "    print('Нет такого возраста')\n",
    "elif age <= 10:\n",
    "    print('Вы детский сад')\n",
    "    print(2)\n",
    "elif age <= 25:\n",
    "    print('Школа')\n",
    "    print(3)\n",
    "elif age <= 40:\n",
    "    print('Взрослый')\n",
    "    print(4)\n",
    "else:\n",
    "    print('Вы пенсия')\n",
    "print(\"Конец условия\")"
   ]
  },
  {
   "cell_type": "markdown",
   "id": "73beb25b-a492-49a1-beb1-dd0e36ed8036",
   "metadata": {},
   "source": [
    "or and not"
   ]
  },
  {
   "cell_type": "code",
   "execution_count": 80,
   "id": "367a1508-7565-44d6-b75d-70c8f38734f1",
   "metadata": {},
   "outputs": [],
   "source": [
    "num1 = 1"
   ]
  },
  {
   "cell_type": "code",
   "execution_count": 81,
   "id": "8de9c688-e41c-4783-b204-ae73187faa5b",
   "metadata": {},
   "outputs": [],
   "source": [
    "num2 = 3"
   ]
  },
  {
   "cell_type": "code",
   "execution_count": 86,
   "id": "65d5471d-1f19-4e65-9dfb-fe3497e0710c",
   "metadata": {},
   "outputs": [
    {
     "name": "stdout",
     "output_type": "stream",
     "text": [
      "NO\n"
     ]
    }
   ],
   "source": [
    "if num1 == 3 and num2 == 3:\n",
    "    print('OK')\n",
    "else:\n",
    "    print('NO')"
   ]
  },
  {
   "cell_type": "code",
   "execution_count": 87,
   "id": "ac432f42-18a4-4077-b229-bf0050986be1",
   "metadata": {},
   "outputs": [
    {
     "name": "stdout",
     "output_type": "stream",
     "text": [
      "OK\n"
     ]
    }
   ],
   "source": [
    "if num1 == 3 or num2 == 3:\n",
    "    print('OK')\n",
    "else:\n",
    "    print('NO')"
   ]
  },
  {
   "cell_type": "code",
   "execution_count": 89,
   "id": "90c7f94f-5bc4-44c2-b958-126fb2c0e0e4",
   "metadata": {},
   "outputs": [
    {
     "name": "stdout",
     "output_type": "stream",
     "text": [
      "True\n"
     ]
    }
   ],
   "source": [
    "print(True and True)"
   ]
  },
  {
   "cell_type": "code",
   "execution_count": 90,
   "id": "c9593f6c-0aec-499a-a906-37f19ffe487c",
   "metadata": {},
   "outputs": [
    {
     "name": "stdout",
     "output_type": "stream",
     "text": [
      "False\n"
     ]
    }
   ],
   "source": [
    "print(True and False)"
   ]
  },
  {
   "cell_type": "code",
   "execution_count": 91,
   "id": "bfeb215e-aa74-40cb-9e6d-65ee00e5dfef",
   "metadata": {},
   "outputs": [
    {
     "name": "stdout",
     "output_type": "stream",
     "text": [
      "False\n"
     ]
    }
   ],
   "source": [
    "print(False and True)"
   ]
  },
  {
   "cell_type": "code",
   "execution_count": 92,
   "id": "efbd8913-a995-48d6-8b18-912762705a31",
   "metadata": {},
   "outputs": [
    {
     "name": "stdout",
     "output_type": "stream",
     "text": [
      "False\n"
     ]
    }
   ],
   "source": [
    "print(False and False)"
   ]
  },
  {
   "cell_type": "code",
   "execution_count": 93,
   "id": "d7aeabe0-553d-45cc-b453-4953a999b819",
   "metadata": {},
   "outputs": [
    {
     "name": "stdout",
     "output_type": "stream",
     "text": [
      "True\n"
     ]
    }
   ],
   "source": [
    "print(True or True)"
   ]
  },
  {
   "cell_type": "code",
   "execution_count": 94,
   "id": "9f13a587-a305-43d1-84f0-a27cda96a508",
   "metadata": {},
   "outputs": [
    {
     "name": "stdout",
     "output_type": "stream",
     "text": [
      "True\n"
     ]
    }
   ],
   "source": [
    "print(True or False)"
   ]
  },
  {
   "cell_type": "code",
   "execution_count": 95,
   "id": "9d4e1f51-f5ea-4f54-8d72-ac10355c39ce",
   "metadata": {},
   "outputs": [
    {
     "name": "stdout",
     "output_type": "stream",
     "text": [
      "False\n"
     ]
    }
   ],
   "source": [
    "print(False or False)"
   ]
  },
  {
   "cell_type": "code",
   "execution_count": 96,
   "id": "8dcba779-42bd-419c-8fb6-7d3554f69c92",
   "metadata": {},
   "outputs": [
    {
     "name": "stdout",
     "output_type": "stream",
     "text": [
      "True\n"
     ]
    }
   ],
   "source": [
    "print(False or True)"
   ]
  },
  {
   "cell_type": "code",
   "execution_count": 98,
   "id": "d7f0eabc-0428-4c38-acc5-cd23de49c892",
   "metadata": {},
   "outputs": [
    {
     "name": "stdout",
     "output_type": "stream",
     "text": [
      "NO\n"
     ]
    }
   ],
   "source": [
    "if num1 == 3 and (num2 == 3 or num1 == 1):\n",
    "    print('OK')\n",
    "else:\n",
    "    print('NO')"
   ]
  },
  {
   "cell_type": "markdown",
   "id": "109cf5c8-3880-4330-8be8-7b8a7b1971ab",
   "metadata": {},
   "source": [
    "list "
   ]
  },
  {
   "cell_type": "code",
   "execution_count": 99,
   "id": "99ff0924-7508-4f3e-9971-1bac9083476b",
   "metadata": {},
   "outputs": [],
   "source": [
    "my_list = []"
   ]
  },
  {
   "cell_type": "code",
   "execution_count": 100,
   "id": "d04718f5-84f3-46ac-8133-8381ad93b175",
   "metadata": {},
   "outputs": [],
   "source": [
    "my_list = list()"
   ]
  },
  {
   "cell_type": "code",
   "execution_count": 101,
   "id": "b252ebc2-8bbf-4172-ad38-d7c611cfcd94",
   "metadata": {},
   "outputs": [],
   "source": [
    "my_list = [1, 2, 3, 4, num1, num2, my_str]"
   ]
  },
  {
   "cell_type": "code",
   "execution_count": 102,
   "id": "d650bb96-28d9-491a-8097-ce7bcada18b2",
   "metadata": {},
   "outputs": [
    {
     "name": "stdout",
     "output_type": "stream",
     "text": [
      "[1, 2, 3, 4, 1, 3, 'Строка']\n"
     ]
    }
   ],
   "source": [
    "print(my_list)"
   ]
  },
  {
   "cell_type": "code",
   "execution_count": 103,
   "id": "c2445a85-5884-4e73-9753-13fd5368ba5b",
   "metadata": {},
   "outputs": [
    {
     "name": "stdout",
     "output_type": "stream",
     "text": [
      "<class 'list'>\n"
     ]
    }
   ],
   "source": [
    "print(type(my_list))"
   ]
  },
  {
   "cell_type": "code",
   "execution_count": 104,
   "id": "8aebbcf3-3000-4409-b887-aff187ba92d9",
   "metadata": {},
   "outputs": [],
   "source": [
    "my_list1 = [1, 2, 3, 4, num1, num2, my_str, my_list]"
   ]
  },
  {
   "cell_type": "code",
   "execution_count": 105,
   "id": "d0699ed0-45d8-427e-9cc2-8ffc47406770",
   "metadata": {},
   "outputs": [
    {
     "name": "stdout",
     "output_type": "stream",
     "text": [
      "<class 'list'>\n"
     ]
    }
   ],
   "source": [
    "print(type(my_list1))"
   ]
  },
  {
   "cell_type": "code",
   "execution_count": 106,
   "id": "f3453754-b72f-4628-a8ee-244e1228176b",
   "metadata": {},
   "outputs": [
    {
     "name": "stdout",
     "output_type": "stream",
     "text": [
      "[1, 2, 3, 4, 1, 3, 'Строка', [1, 2, 3, 4, 1, 3, 'Строка']]\n"
     ]
    }
   ],
   "source": [
    "print(my_list1)"
   ]
  },
  {
   "cell_type": "code",
   "execution_count": 107,
   "id": "7579c258-0ab9-4ebc-97f9-9bf216d20d41",
   "metadata": {},
   "outputs": [
    {
     "name": "stdout",
     "output_type": "stream",
     "text": [
      "1\n"
     ]
    }
   ],
   "source": [
    "print(my_list1[0])"
   ]
  },
  {
   "cell_type": "code",
   "execution_count": 108,
   "id": "859740ff-2b2a-477b-9e85-bc2b382deb49",
   "metadata": {},
   "outputs": [],
   "source": [
    "my_list1[0] = 10"
   ]
  },
  {
   "cell_type": "code",
   "execution_count": 109,
   "id": "31df6bfb-760c-4577-a5a2-77da9dc2a7ff",
   "metadata": {},
   "outputs": [
    {
     "name": "stdout",
     "output_type": "stream",
     "text": [
      "[10, 2, 3, 4, 1, 3, 'Строка', [1, 2, 3, 4, 1, 3, 'Строка']]\n"
     ]
    }
   ],
   "source": [
    "print(my_list1)"
   ]
  },
  {
   "cell_type": "code",
   "execution_count": 110,
   "id": "ba759582-dfb2-4695-87b0-1362ee55c47a",
   "metadata": {},
   "outputs": [
    {
     "name": "stdout",
     "output_type": "stream",
     "text": [
      "8\n"
     ]
    }
   ],
   "source": [
    "print(len(my_list1))"
   ]
  },
  {
   "cell_type": "code",
   "execution_count": 112,
   "id": "ba380ab3-f432-4b4a-9f59-c85ce5e76882",
   "metadata": {},
   "outputs": [
    {
     "name": "stdout",
     "output_type": "stream",
     "text": [
      "3\n"
     ]
    }
   ],
   "source": [
    "print(my_list1[7][2])"
   ]
  },
  {
   "cell_type": "code",
   "execution_count": 113,
   "id": "c7acb178-c464-40c9-8360-7e2aa34c0b6f",
   "metadata": {},
   "outputs": [],
   "source": [
    "my_list1.append(111)"
   ]
  },
  {
   "cell_type": "code",
   "execution_count": 114,
   "id": "52a49a2c-0a66-412b-848e-6a15ce28d41b",
   "metadata": {},
   "outputs": [
    {
     "name": "stdout",
     "output_type": "stream",
     "text": [
      "[10, 2, 3, 4, 1, 3, 'Строка', [1, 2, 3, 4, 1, 3, 'Строка'], 111]\n"
     ]
    }
   ],
   "source": [
    "print(my_list1)"
   ]
  },
  {
   "cell_type": "code",
   "execution_count": 115,
   "id": "ca0b86cb-0728-4910-8835-8be0842977d9",
   "metadata": {},
   "outputs": [
    {
     "data": {
      "text/plain": [
       "111"
      ]
     },
     "execution_count": 115,
     "metadata": {},
     "output_type": "execute_result"
    }
   ],
   "source": [
    "my_list1.pop()"
   ]
  },
  {
   "cell_type": "code",
   "execution_count": 116,
   "id": "33dea282-924a-4ddd-81ee-90493ace15c5",
   "metadata": {},
   "outputs": [],
   "source": [
    "x = my_list1.pop(0)"
   ]
  },
  {
   "cell_type": "code",
   "execution_count": 117,
   "id": "876ce557-ef05-4005-85c1-d1f0cb730858",
   "metadata": {},
   "outputs": [
    {
     "data": {
      "text/plain": [
       "10"
      ]
     },
     "execution_count": 117,
     "metadata": {},
     "output_type": "execute_result"
    }
   ],
   "source": [
    "x"
   ]
  },
  {
   "cell_type": "code",
   "execution_count": 118,
   "id": "4e4f1ca0-8885-403a-8368-635b63e41e38",
   "metadata": {},
   "outputs": [
    {
     "name": "stdout",
     "output_type": "stream",
     "text": [
      "[2, 3, 4, 1, 3, 'Строка', [1, 2, 3, 4, 1, 3, 'Строка']]\n"
     ]
    }
   ],
   "source": [
    "print(my_list1)"
   ]
  },
  {
   "cell_type": "code",
   "execution_count": 119,
   "id": "8bc420fb-cbf7-44a9-b82b-a1bbdd05139c",
   "metadata": {},
   "outputs": [
    {
     "ename": "ValueError",
     "evalue": "list.remove(x): x not in list",
     "output_type": "error",
     "traceback": [
      "\u001b[0;31m---------------------------------------------------------------------------\u001b[0m",
      "\u001b[0;31mValueError\u001b[0m                                Traceback (most recent call last)",
      "Cell \u001b[0;32mIn[119], line 1\u001b[0m\n\u001b[0;32m----> 1\u001b[0m \u001b[43mmy_list1\u001b[49m\u001b[38;5;241;43m.\u001b[39;49m\u001b[43mremove\u001b[49m\u001b[43m(\u001b[49m\u001b[38;5;241;43m123\u001b[39;49m\u001b[43m)\u001b[49m\n",
      "\u001b[0;31mValueError\u001b[0m: list.remove(x): x not in list"
     ]
    }
   ],
   "source": [
    "my_list1.remove(123)"
   ]
  },
  {
   "cell_type": "code",
   "execution_count": 120,
   "id": "d1061013-1ccf-43e2-8abc-00ec7a944db1",
   "metadata": {},
   "outputs": [],
   "source": [
    "my_list1.remove(3)"
   ]
  },
  {
   "cell_type": "code",
   "execution_count": 121,
   "id": "a4da0077-adff-47b1-9aad-d09d42913ec3",
   "metadata": {},
   "outputs": [
    {
     "name": "stdout",
     "output_type": "stream",
     "text": [
      "[2, 4, 1, 3, 'Строка', [1, 2, 3, 4, 1, 3, 'Строка']]\n"
     ]
    }
   ],
   "source": [
    "print(my_list1)"
   ]
  },
  {
   "cell_type": "markdown",
   "id": "a3445362-67bb-40ed-aed3-fe0f9aca7c33",
   "metadata": {},
   "source": [
    "tuple"
   ]
  },
  {
   "cell_type": "code",
   "execution_count": 123,
   "id": "65ee9f79-58ab-4824-b5dc-254872cbc1c3",
   "metadata": {},
   "outputs": [],
   "source": [
    "my_tuple = (1, 3, 5, 7)"
   ]
  },
  {
   "cell_type": "code",
   "execution_count": 124,
   "id": "51aea4fa-9923-440c-b04e-48518da93c82",
   "metadata": {},
   "outputs": [
    {
     "name": "stdout",
     "output_type": "stream",
     "text": [
      "3\n"
     ]
    }
   ],
   "source": [
    "print(my_tuple[1])"
   ]
  },
  {
   "cell_type": "code",
   "execution_count": 125,
   "id": "95af6eb6-45a6-4119-b17e-ab1426ce408a",
   "metadata": {},
   "outputs": [
    {
     "ename": "AttributeError",
     "evalue": "'tuple' object has no attribute 'pop'",
     "output_type": "error",
     "traceback": [
      "\u001b[0;31m---------------------------------------------------------------------------\u001b[0m",
      "\u001b[0;31mAttributeError\u001b[0m                            Traceback (most recent call last)",
      "Cell \u001b[0;32mIn[125], line 1\u001b[0m\n\u001b[0;32m----> 1\u001b[0m \u001b[43mmy_tuple\u001b[49m\u001b[38;5;241;43m.\u001b[39;49m\u001b[43mpop\u001b[49m(\u001b[38;5;241m1\u001b[39m)\n",
      "\u001b[0;31mAttributeError\u001b[0m: 'tuple' object has no attribute 'pop'"
     ]
    }
   ],
   "source": [
    "my_tuple.pop(1)"
   ]
  },
  {
   "cell_type": "code",
   "execution_count": 126,
   "id": "c8757d90-5ac4-4792-8aab-c14e0256d22a",
   "metadata": {},
   "outputs": [],
   "source": [
    "my_list2 = list(my_tuple)"
   ]
  },
  {
   "cell_type": "code",
   "execution_count": 127,
   "id": "3b72c530-e9e2-4449-96f4-fc7b0769fdd1",
   "metadata": {},
   "outputs": [
    {
     "name": "stdout",
     "output_type": "stream",
     "text": [
      "[1, 3, 5, 7]\n"
     ]
    }
   ],
   "source": [
    "print(my_list2)"
   ]
  },
  {
   "cell_type": "code",
   "execution_count": null,
   "id": "62f363a2-d4bc-4bc8-b65f-6d0bbcff624d",
   "metadata": {},
   "outputs": [],
   "source": []
  }
 ],
 "metadata": {
  "kernelspec": {
   "display_name": "Python 3 (ipykernel)",
   "language": "python",
   "name": "python3"
  },
  "language_info": {
   "codemirror_mode": {
    "name": "ipython",
    "version": 3
   },
   "file_extension": ".py",
   "mimetype": "text/x-python",
   "name": "python",
   "nbconvert_exporter": "python",
   "pygments_lexer": "ipython3",
   "version": "3.12.3"
  }
 },
 "nbformat": 4,
 "nbformat_minor": 5
}
