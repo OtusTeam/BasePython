{
 "cells": [
  {
   "cell_type": "code",
   "execution_count": 1,
   "id": "d749691a",
   "metadata": {},
   "outputs": [
    {
     "name": "stdout",
     "output_type": "stream",
     "text": [
      "Hello OTUS\n"
     ]
    }
   ],
   "source": [
    "print(\"Hello OTUS\")"
   ]
  },
  {
   "cell_type": "code",
   "execution_count": 2,
   "id": "8107b327",
   "metadata": {},
   "outputs": [
    {
     "data": {
      "text/plain": [
       "'hello'"
      ]
     },
     "execution_count": 2,
     "metadata": {},
     "output_type": "execute_result"
    }
   ],
   "source": [
    "\"hello\""
   ]
  },
  {
   "cell_type": "code",
   "execution_count": 3,
   "id": "59a494ca",
   "metadata": {},
   "outputs": [
    {
     "data": {
      "text/plain": [
       "'hello'"
      ]
     },
     "execution_count": 3,
     "metadata": {},
     "output_type": "execute_result"
    }
   ],
   "source": [
    "'hello'"
   ]
  },
  {
   "cell_type": "code",
   "execution_count": 4,
   "id": "999ef40f",
   "metadata": {},
   "outputs": [
    {
     "data": {
      "text/plain": [
       "True"
      ]
     },
     "execution_count": 4,
     "metadata": {},
     "output_type": "execute_result"
    }
   ],
   "source": [
    "\"hello\" == 'hello'"
   ]
  },
  {
   "cell_type": "code",
   "execution_count": 5,
   "id": "3db7911d",
   "metadata": {},
   "outputs": [
    {
     "data": {
      "text/plain": [
       "True"
      ]
     },
     "execution_count": 5,
     "metadata": {},
     "output_type": "execute_result"
    }
   ],
   "source": [
    "True"
   ]
  },
  {
   "cell_type": "code",
   "execution_count": 6,
   "id": "24a21893",
   "metadata": {},
   "outputs": [
    {
     "data": {
      "text/plain": [
       "False"
      ]
     },
     "execution_count": 6,
     "metadata": {},
     "output_type": "execute_result"
    }
   ],
   "source": [
    "False"
   ]
  },
  {
   "cell_type": "code",
   "execution_count": 7,
   "id": "9a5d6096",
   "metadata": {},
   "outputs": [
    {
     "data": {
      "text/plain": [
       "False"
      ]
     },
     "execution_count": 7,
     "metadata": {},
     "output_type": "execute_result"
    }
   ],
   "source": [
    "\"0\" == 0"
   ]
  },
  {
   "cell_type": "code",
   "execution_count": 8,
   "id": "28904765",
   "metadata": {},
   "outputs": [
    {
     "data": {
      "text/plain": [
       "True"
      ]
     },
     "execution_count": 8,
     "metadata": {},
     "output_type": "execute_result"
    }
   ],
   "source": [
    "0 == 0"
   ]
  },
  {
   "cell_type": "code",
   "execution_count": 9,
   "id": "2de9f078",
   "metadata": {},
   "outputs": [
    {
     "data": {
      "text/plain": [
       "True"
      ]
     },
     "execution_count": 9,
     "metadata": {},
     "output_type": "execute_result"
    }
   ],
   "source": [
    "\"0\" == \"0\""
   ]
  },
  {
   "cell_type": "code",
   "execution_count": 10,
   "id": "8cff4250",
   "metadata": {},
   "outputs": [
    {
     "data": {
      "text/plain": [
       "123"
      ]
     },
     "execution_count": 10,
     "metadata": {},
     "output_type": "execute_result"
    }
   ],
   "source": [
    "123"
   ]
  },
  {
   "cell_type": "code",
   "execution_count": 11,
   "id": "817468f0",
   "metadata": {},
   "outputs": [
    {
     "data": {
      "text/plain": [
       "123456789"
      ]
     },
     "execution_count": 11,
     "metadata": {},
     "output_type": "execute_result"
    }
   ],
   "source": [
    "123456789"
   ]
  },
  {
   "cell_type": "code",
   "execution_count": 12,
   "id": "eee97828",
   "metadata": {},
   "outputs": [
    {
     "data": {
      "text/plain": [
       "9876543212345678909876543212345678"
      ]
     },
     "execution_count": 12,
     "metadata": {},
     "output_type": "execute_result"
    }
   ],
   "source": [
    "9876543212345678909876543212345678"
   ]
  },
  {
   "cell_type": "code",
   "execution_count": 13,
   "id": "4b30105d",
   "metadata": {},
   "outputs": [
    {
     "data": {
      "text/plain": [
       "3131831307821.4355"
      ]
     },
     "execution_count": 13,
     "metadata": {},
     "output_type": "execute_result"
    }
   ],
   "source": [
    "98765432123456789098 / 60 / 60 / 24 / 365"
   ]
  },
  {
   "cell_type": "code",
   "execution_count": 14,
   "id": "e2dbc6b3",
   "metadata": {},
   "outputs": [
    {
     "data": {
      "text/plain": [
       "9999900"
      ]
     },
     "execution_count": 14,
     "metadata": {},
     "output_type": "execute_result"
    }
   ],
   "source": [
    "99999 * 100"
   ]
  },
  {
   "cell_type": "code",
   "execution_count": 15,
   "id": "b8279af4",
   "metadata": {},
   "outputs": [
    {
     "data": {
      "text/plain": [
       "905697844958667709741956562802753100901389806139609538815019658231017504097064752403846139892968390554024852396172082441213697329994395340901282449426848216146865935961454742677324005498146550510264840271813301125214581059267630055862747172378231729576039278689152963667155086263379780844149098999"
      ]
     },
     "execution_count": 15,
     "metadata": {},
     "output_type": "execute_result"
    }
   ],
   "source": [
    "999 ** 99"
   ]
  },
  {
   "cell_type": "code",
   "execution_count": 16,
   "id": "1636bef9",
   "metadata": {},
   "outputs": [
    {
     "data": {
      "text/plain": [
       "'abc foo bar abc foo bar abc foo bar abc foo bar abc foo bar abc foo bar abc foo bar abc foo bar abc foo bar abc foo bar '"
      ]
     },
     "execution_count": 16,
     "metadata": {},
     "output_type": "execute_result"
    }
   ],
   "source": [
    "\"abc foo bar \" * 10"
   ]
  },
  {
   "cell_type": "code",
   "execution_count": 17,
   "id": "2629f992",
   "metadata": {},
   "outputs": [],
   "source": [
    "num = \"123\""
   ]
  },
  {
   "cell_type": "code",
   "execution_count": 18,
   "id": "08d23ad3",
   "metadata": {},
   "outputs": [
    {
     "data": {
      "text/plain": [
       "'123'"
      ]
     },
     "execution_count": 18,
     "metadata": {},
     "output_type": "execute_result"
    }
   ],
   "source": [
    "num"
   ]
  },
  {
   "cell_type": "code",
   "execution_count": 19,
   "id": "f3062b8d",
   "metadata": {},
   "outputs": [],
   "source": [
    "num = 543"
   ]
  },
  {
   "cell_type": "code",
   "execution_count": 20,
   "id": "f144db22",
   "metadata": {},
   "outputs": [
    {
     "data": {
      "text/plain": [
       "543"
      ]
     },
     "execution_count": 20,
     "metadata": {},
     "output_type": "execute_result"
    }
   ],
   "source": [
    "num"
   ]
  },
  {
   "cell_type": "code",
   "execution_count": 21,
   "id": "2bb388e0",
   "metadata": {},
   "outputs": [
    {
     "data": {
      "text/plain": [
       "'a1'"
      ]
     },
     "execution_count": 21,
     "metadata": {},
     "output_type": "execute_result"
    }
   ],
   "source": [
    "\"a\" + \"1\""
   ]
  },
  {
   "cell_type": "code",
   "execution_count": 22,
   "id": "57ff0d05",
   "metadata": {},
   "outputs": [
    {
     "data": {
      "text/plain": [
       "4"
      ]
     },
     "execution_count": 22,
     "metadata": {},
     "output_type": "execute_result"
    }
   ],
   "source": [
    "1 + 3"
   ]
  },
  {
   "cell_type": "code",
   "execution_count": 23,
   "id": "58014a6b",
   "metadata": {},
   "outputs": [],
   "source": [
    "num = \"432\""
   ]
  },
  {
   "cell_type": "code",
   "execution_count": 24,
   "id": "3ea14b19",
   "metadata": {},
   "outputs": [
    {
     "data": {
      "text/plain": [
       "True"
      ]
     },
     "execution_count": 24,
     "metadata": {},
     "output_type": "execute_result"
    }
   ],
   "source": [
    "isinstance(num, str)"
   ]
  },
  {
   "cell_type": "code",
   "execution_count": 25,
   "id": "bab798ec",
   "metadata": {},
   "outputs": [
    {
     "data": {
      "text/plain": [
       "False"
      ]
     },
     "execution_count": 25,
     "metadata": {},
     "output_type": "execute_result"
    }
   ],
   "source": [
    "isinstance(num, int)"
   ]
  },
  {
   "cell_type": "code",
   "execution_count": 26,
   "id": "aec22216",
   "metadata": {},
   "outputs": [
    {
     "data": {
      "text/plain": [
       "str"
      ]
     },
     "execution_count": 26,
     "metadata": {},
     "output_type": "execute_result"
    }
   ],
   "source": [
    "type(num)"
   ]
  },
  {
   "cell_type": "code",
   "execution_count": 27,
   "id": "d019a74e",
   "metadata": {},
   "outputs": [
    {
     "data": {
      "text/plain": [
       "int"
      ]
     },
     "execution_count": 27,
     "metadata": {},
     "output_type": "execute_result"
    }
   ],
   "source": [
    "type(123)"
   ]
  },
  {
   "cell_type": "code",
   "execution_count": 28,
   "id": "eca731ff",
   "metadata": {},
   "outputs": [
    {
     "data": {
      "text/plain": [
       "'432'"
      ]
     },
     "execution_count": 28,
     "metadata": {},
     "output_type": "execute_result"
    }
   ],
   "source": [
    "num"
   ]
  },
  {
   "cell_type": "code",
   "execution_count": 29,
   "id": "037e175c",
   "metadata": {},
   "outputs": [
    {
     "data": {
      "text/plain": [
       "432"
      ]
     },
     "execution_count": 29,
     "metadata": {},
     "output_type": "execute_result"
    }
   ],
   "source": [
    "int(num)"
   ]
  },
  {
   "cell_type": "code",
   "execution_count": 30,
   "id": "aa5521d3",
   "metadata": {},
   "outputs": [
    {
     "data": {
      "text/plain": [
       "'432'"
      ]
     },
     "execution_count": 30,
     "metadata": {},
     "output_type": "execute_result"
    }
   ],
   "source": [
    "num"
   ]
  },
  {
   "cell_type": "code",
   "execution_count": 31,
   "id": "eb681a0c",
   "metadata": {},
   "outputs": [
    {
     "data": {
      "text/plain": [
       "True"
      ]
     },
     "execution_count": 31,
     "metadata": {},
     "output_type": "execute_result"
    }
   ],
   "source": [
    "isinstance(num, str)"
   ]
  },
  {
   "cell_type": "code",
   "execution_count": 32,
   "id": "544e3fb4",
   "metadata": {},
   "outputs": [
    {
     "data": {
      "text/plain": [
       "False"
      ]
     },
     "execution_count": 32,
     "metadata": {},
     "output_type": "execute_result"
    }
   ],
   "source": [
    "isinstance(num, int)"
   ]
  },
  {
   "cell_type": "code",
   "execution_count": 33,
   "id": "a531ab3c",
   "metadata": {},
   "outputs": [
    {
     "data": {
      "text/plain": [
       "True"
      ]
     },
     "execution_count": 33,
     "metadata": {},
     "output_type": "execute_result"
    }
   ],
   "source": [
    "num = int(num)\n",
    "isinstance(num, int)"
   ]
  },
  {
   "cell_type": "code",
   "execution_count": 34,
   "id": "ea650358",
   "metadata": {},
   "outputs": [
    {
     "data": {
      "text/plain": [
       "432"
      ]
     },
     "execution_count": 34,
     "metadata": {},
     "output_type": "execute_result"
    }
   ],
   "source": [
    "num"
   ]
  },
  {
   "cell_type": "code",
   "execution_count": 35,
   "id": "41d46072",
   "metadata": {},
   "outputs": [
    {
     "data": {
      "text/plain": [
       "144.0"
      ]
     },
     "execution_count": 35,
     "metadata": {},
     "output_type": "execute_result"
    }
   ],
   "source": [
    "num / 3"
   ]
  },
  {
   "cell_type": "code",
   "execution_count": 36,
   "id": "56c3b331",
   "metadata": {},
   "outputs": [
    {
     "data": {
      "text/plain": [
       "5.0"
      ]
     },
     "execution_count": 36,
     "metadata": {},
     "output_type": "execute_result"
    }
   ],
   "source": [
    "10 / 2"
   ]
  },
  {
   "cell_type": "code",
   "execution_count": 37,
   "id": "d98fce18",
   "metadata": {},
   "outputs": [
    {
     "data": {
      "text/plain": [
       "3.3333333333333335"
      ]
     },
     "execution_count": 37,
     "metadata": {},
     "output_type": "execute_result"
    }
   ],
   "source": [
    "10 / 3"
   ]
  },
  {
   "cell_type": "code",
   "execution_count": 38,
   "id": "58ded2d1",
   "metadata": {},
   "outputs": [
    {
     "data": {
      "text/plain": [
       "2.5"
      ]
     },
     "execution_count": 38,
     "metadata": {},
     "output_type": "execute_result"
    }
   ],
   "source": [
    "10 / 4"
   ]
  },
  {
   "cell_type": "code",
   "execution_count": 39,
   "id": "e1a82041",
   "metadata": {},
   "outputs": [],
   "source": [
    "a = 1.0"
   ]
  },
  {
   "cell_type": "code",
   "execution_count": 40,
   "id": "9fa76ce1",
   "metadata": {},
   "outputs": [],
   "source": [
    "b = 2"
   ]
  },
  {
   "cell_type": "code",
   "execution_count": 41,
   "id": "98760d55",
   "metadata": {},
   "outputs": [
    {
     "data": {
      "text/plain": [
       "3.0"
      ]
     },
     "execution_count": 41,
     "metadata": {},
     "output_type": "execute_result"
    }
   ],
   "source": [
    "a + b"
   ]
  },
  {
   "cell_type": "code",
   "execution_count": 42,
   "id": "27f6ec57",
   "metadata": {},
   "outputs": [],
   "source": [
    "a = 1.5"
   ]
  },
  {
   "cell_type": "code",
   "execution_count": 43,
   "id": "df463a2f",
   "metadata": {},
   "outputs": [
    {
     "data": {
      "text/plain": [
       "3.5"
      ]
     },
     "execution_count": 43,
     "metadata": {},
     "output_type": "execute_result"
    }
   ],
   "source": [
    "a + b"
   ]
  },
  {
   "cell_type": "code",
   "execution_count": 44,
   "id": "71d973b4",
   "metadata": {},
   "outputs": [
    {
     "data": {
      "text/plain": [
       "5.0"
      ]
     },
     "execution_count": 44,
     "metadata": {},
     "output_type": "execute_result"
    }
   ],
   "source": [
    "10 / 2"
   ]
  },
  {
   "cell_type": "code",
   "execution_count": 45,
   "id": "5170ad23",
   "metadata": {},
   "outputs": [
    {
     "data": {
      "text/plain": [
       "5"
      ]
     },
     "execution_count": 45,
     "metadata": {},
     "output_type": "execute_result"
    }
   ],
   "source": [
    "int(10 / 2)"
   ]
  },
  {
   "cell_type": "code",
   "execution_count": 46,
   "id": "f1c62e97",
   "metadata": {},
   "outputs": [
    {
     "data": {
      "text/plain": [
       "3.5"
      ]
     },
     "execution_count": 46,
     "metadata": {},
     "output_type": "execute_result"
    }
   ],
   "source": [
    "a + b"
   ]
  },
  {
   "cell_type": "code",
   "execution_count": 47,
   "id": "7e3298f8",
   "metadata": {},
   "outputs": [
    {
     "data": {
      "text/plain": [
       "3"
      ]
     },
     "execution_count": 47,
     "metadata": {},
     "output_type": "execute_result"
    }
   ],
   "source": [
    "int(a + b)"
   ]
  },
  {
   "cell_type": "code",
   "execution_count": 48,
   "id": "edd7d1cc",
   "metadata": {},
   "outputs": [],
   "source": [
    "c = a + b"
   ]
  },
  {
   "cell_type": "code",
   "execution_count": 49,
   "id": "539720a6",
   "metadata": {},
   "outputs": [
    {
     "data": {
      "text/plain": [
       "3.5"
      ]
     },
     "execution_count": 49,
     "metadata": {},
     "output_type": "execute_result"
    }
   ],
   "source": [
    "c"
   ]
  },
  {
   "cell_type": "code",
   "execution_count": 50,
   "id": "9a55cc64",
   "metadata": {},
   "outputs": [
    {
     "data": {
      "text/plain": [
       "False"
      ]
     },
     "execution_count": 50,
     "metadata": {},
     "output_type": "execute_result"
    }
   ],
   "source": [
    "isinstance(c, int)"
   ]
  },
  {
   "cell_type": "code",
   "execution_count": 51,
   "id": "8ee90c7e",
   "metadata": {},
   "outputs": [
    {
     "data": {
      "text/plain": [
       "True"
      ]
     },
     "execution_count": 51,
     "metadata": {},
     "output_type": "execute_result"
    }
   ],
   "source": [
    "isinstance(c, float)"
   ]
  },
  {
   "cell_type": "code",
   "execution_count": 52,
   "id": "bc1cf487",
   "metadata": {},
   "outputs": [
    {
     "data": {
      "text/plain": [
       "1.5"
      ]
     },
     "execution_count": 52,
     "metadata": {},
     "output_type": "execute_result"
    }
   ],
   "source": [
    "a"
   ]
  },
  {
   "cell_type": "code",
   "execution_count": 53,
   "id": "1d97827d",
   "metadata": {},
   "outputs": [
    {
     "data": {
      "text/plain": [
       "2"
      ]
     },
     "execution_count": 53,
     "metadata": {},
     "output_type": "execute_result"
    }
   ],
   "source": [
    "b"
   ]
  },
  {
   "cell_type": "code",
   "execution_count": 54,
   "id": "cb1b7213",
   "metadata": {},
   "outputs": [
    {
     "data": {
      "text/plain": [
       "5.5"
      ]
     },
     "execution_count": 54,
     "metadata": {},
     "output_type": "execute_result"
    }
   ],
   "source": [
    "b + c"
   ]
  },
  {
   "cell_type": "code",
   "execution_count": 55,
   "id": "70d48e40",
   "metadata": {},
   "outputs": [
    {
     "data": {
      "text/plain": [
       "False"
      ]
     },
     "execution_count": 55,
     "metadata": {},
     "output_type": "execute_result"
    }
   ],
   "source": [
    "isinstance(b, float)"
   ]
  },
  {
   "cell_type": "code",
   "execution_count": 56,
   "id": "2946903a",
   "metadata": {},
   "outputs": [
    {
     "data": {
      "text/plain": [
       "True"
      ]
     },
     "execution_count": 56,
     "metadata": {},
     "output_type": "execute_result"
    }
   ],
   "source": [
    "isinstance(c, (int, float))"
   ]
  },
  {
   "cell_type": "code",
   "execution_count": 57,
   "id": "8e4f94ca",
   "metadata": {},
   "outputs": [
    {
     "data": {
      "text/plain": [
       "True"
      ]
     },
     "execution_count": 57,
     "metadata": {},
     "output_type": "execute_result"
    }
   ],
   "source": [
    "isinstance(b, (int, float))"
   ]
  },
  {
   "cell_type": "code",
   "execution_count": 58,
   "id": "dfdcf04f",
   "metadata": {},
   "outputs": [],
   "source": [
    "t = (1, 2, True, \"abc\")"
   ]
  },
  {
   "cell_type": "code",
   "execution_count": 59,
   "id": "13c663e6",
   "metadata": {},
   "outputs": [
    {
     "data": {
      "text/plain": [
       "(1, 2, True, 'abc')"
      ]
     },
     "execution_count": 59,
     "metadata": {},
     "output_type": "execute_result"
    }
   ],
   "source": [
    "t"
   ]
  },
  {
   "cell_type": "code",
   "execution_count": 60,
   "id": "b7d7a3dc",
   "metadata": {},
   "outputs": [
    {
     "data": {
      "text/plain": [
       "tuple"
      ]
     },
     "execution_count": 60,
     "metadata": {},
     "output_type": "execute_result"
    }
   ],
   "source": [
    "type(t)"
   ]
  },
  {
   "cell_type": "code",
   "execution_count": 61,
   "id": "91c73413",
   "metadata": {},
   "outputs": [
    {
     "data": {
      "text/plain": [
       "False"
      ]
     },
     "execution_count": 61,
     "metadata": {},
     "output_type": "execute_result"
    }
   ],
   "source": [
    "isinstance(t, int)"
   ]
  },
  {
   "cell_type": "code",
   "execution_count": 62,
   "id": "8e0e7e99",
   "metadata": {},
   "outputs": [
    {
     "data": {
      "text/plain": [
       "True"
      ]
     },
     "execution_count": 62,
     "metadata": {},
     "output_type": "execute_result"
    }
   ],
   "source": [
    "isinstance(t, tuple)"
   ]
  },
  {
   "cell_type": "code",
   "execution_count": 63,
   "id": "dbae8d69",
   "metadata": {},
   "outputs": [
    {
     "data": {
      "text/plain": [
       "bool"
      ]
     },
     "execution_count": 63,
     "metadata": {},
     "output_type": "execute_result"
    }
   ],
   "source": [
    "type(False)"
   ]
  },
  {
   "cell_type": "code",
   "execution_count": 65,
   "id": "9c0f3125",
   "metadata": {},
   "outputs": [
    {
     "data": {
      "text/plain": [
       "True"
      ]
     },
     "execution_count": 65,
     "metadata": {},
     "output_type": "execute_result"
    }
   ],
   "source": [
    "isinstance(False, bool)"
   ]
  },
  {
   "cell_type": "code",
   "execution_count": 66,
   "id": "1096a47d",
   "metadata": {},
   "outputs": [
    {
     "data": {
      "text/plain": [
       "False"
      ]
     },
     "execution_count": 66,
     "metadata": {},
     "output_type": "execute_result"
    }
   ],
   "source": [
    "isinstance(False, str)"
   ]
  },
  {
   "cell_type": "code",
   "execution_count": 67,
   "id": "efb6a207",
   "metadata": {},
   "outputs": [
    {
     "data": {
      "text/plain": [
       "False"
      ]
     },
     "execution_count": 67,
     "metadata": {},
     "output_type": "execute_result"
    }
   ],
   "source": [
    "isinstance(True, str)"
   ]
  },
  {
   "cell_type": "code",
   "execution_count": 68,
   "id": "d7905be3",
   "metadata": {},
   "outputs": [
    {
     "data": {
      "text/plain": [
       "True"
      ]
     },
     "execution_count": 68,
     "metadata": {},
     "output_type": "execute_result"
    }
   ],
   "source": [
    "isinstance(True, int)"
   ]
  },
  {
   "cell_type": "code",
   "execution_count": 69,
   "id": "38406326",
   "metadata": {},
   "outputs": [
    {
     "data": {
      "text/plain": [
       "True"
      ]
     },
     "execution_count": 69,
     "metadata": {},
     "output_type": "execute_result"
    }
   ],
   "source": [
    "False == 0"
   ]
  },
  {
   "cell_type": "code",
   "execution_count": 70,
   "id": "f76ad6e2",
   "metadata": {},
   "outputs": [
    {
     "data": {
      "text/plain": [
       "True"
      ]
     },
     "execution_count": 70,
     "metadata": {},
     "output_type": "execute_result"
    }
   ],
   "source": [
    "True == 1"
   ]
  },
  {
   "cell_type": "code",
   "execution_count": 71,
   "id": "f5932c50",
   "metadata": {},
   "outputs": [
    {
     "data": {
      "text/plain": [
       "1"
      ]
     },
     "execution_count": 71,
     "metadata": {},
     "output_type": "execute_result"
    }
   ],
   "source": [
    "False + True"
   ]
  },
  {
   "cell_type": "code",
   "execution_count": 72,
   "id": "e890292c",
   "metadata": {},
   "outputs": [
    {
     "data": {
      "text/plain": [
       "2"
      ]
     },
     "execution_count": 72,
     "metadata": {},
     "output_type": "execute_result"
    }
   ],
   "source": [
    "True + True"
   ]
  },
  {
   "cell_type": "code",
   "execution_count": 73,
   "id": "3048107d",
   "metadata": {},
   "outputs": [
    {
     "data": {
      "text/plain": [
       "0"
      ]
     },
     "execution_count": 73,
     "metadata": {},
     "output_type": "execute_result"
    }
   ],
   "source": [
    "False + False"
   ]
  },
  {
   "cell_type": "code",
   "execution_count": 74,
   "id": "d364ec5c",
   "metadata": {},
   "outputs": [
    {
     "data": {
      "text/plain": [
       "0"
      ]
     },
     "execution_count": 74,
     "metadata": {},
     "output_type": "execute_result"
    }
   ],
   "source": [
    "int(False)"
   ]
  },
  {
   "cell_type": "code",
   "execution_count": 75,
   "id": "741e7291",
   "metadata": {},
   "outputs": [
    {
     "data": {
      "text/plain": [
       "1"
      ]
     },
     "execution_count": 75,
     "metadata": {},
     "output_type": "execute_result"
    }
   ],
   "source": [
    "int(True)"
   ]
  },
  {
   "cell_type": "code",
   "execution_count": 76,
   "id": "d1cacf71",
   "metadata": {},
   "outputs": [
    {
     "data": {
      "text/plain": [
       "True"
      ]
     },
     "execution_count": 76,
     "metadata": {},
     "output_type": "execute_result"
    }
   ],
   "source": [
    "bool(1)"
   ]
  },
  {
   "cell_type": "code",
   "execution_count": 77,
   "id": "7e0b13e6",
   "metadata": {},
   "outputs": [
    {
     "data": {
      "text/plain": [
       "False"
      ]
     },
     "execution_count": 77,
     "metadata": {},
     "output_type": "execute_result"
    }
   ],
   "source": [
    "bool(0)"
   ]
  },
  {
   "cell_type": "code",
   "execution_count": 78,
   "id": "7d3c28f1",
   "metadata": {},
   "outputs": [
    {
     "data": {
      "text/plain": [
       "True"
      ]
     },
     "execution_count": 78,
     "metadata": {},
     "output_type": "execute_result"
    }
   ],
   "source": [
    "bool(2)"
   ]
  },
  {
   "cell_type": "code",
   "execution_count": 79,
   "id": "760d0ccc",
   "metadata": {},
   "outputs": [
    {
     "data": {
      "text/plain": [
       "False"
      ]
     },
     "execution_count": 79,
     "metadata": {},
     "output_type": "execute_result"
    }
   ],
   "source": [
    "True == 45"
   ]
  },
  {
   "cell_type": "code",
   "execution_count": 80,
   "id": "7fc3741a",
   "metadata": {},
   "outputs": [
    {
     "data": {
      "text/plain": [
       "True"
      ]
     },
     "execution_count": 80,
     "metadata": {},
     "output_type": "execute_result"
    }
   ],
   "source": [
    "True == 1"
   ]
  },
  {
   "cell_type": "code",
   "execution_count": 81,
   "id": "b41afbe3",
   "metadata": {},
   "outputs": [
    {
     "data": {
      "text/plain": [
       "True"
      ]
     },
     "execution_count": 81,
     "metadata": {},
     "output_type": "execute_result"
    }
   ],
   "source": [
    "bool(\"abc\")"
   ]
  },
  {
   "cell_type": "code",
   "execution_count": 82,
   "id": "3fe9cee0",
   "metadata": {},
   "outputs": [
    {
     "data": {
      "text/plain": [
       "False"
      ]
     },
     "execution_count": 82,
     "metadata": {},
     "output_type": "execute_result"
    }
   ],
   "source": [
    "bool(0)"
   ]
  },
  {
   "cell_type": "code",
   "execution_count": 83,
   "id": "c9ca4de5",
   "metadata": {},
   "outputs": [
    {
     "data": {
      "text/plain": [
       "''"
      ]
     },
     "execution_count": 83,
     "metadata": {},
     "output_type": "execute_result"
    }
   ],
   "source": [
    "\"\""
   ]
  },
  {
   "cell_type": "code",
   "execution_count": 84,
   "id": "f57b6869",
   "metadata": {},
   "outputs": [
    {
     "data": {
      "text/plain": [
       "False"
      ]
     },
     "execution_count": 84,
     "metadata": {},
     "output_type": "execute_result"
    }
   ],
   "source": [
    "bool(\"\")"
   ]
  },
  {
   "cell_type": "code",
   "execution_count": 85,
   "id": "843bc48c",
   "metadata": {},
   "outputs": [
    {
     "data": {
      "text/plain": [
       "True"
      ]
     },
     "execution_count": 85,
     "metadata": {},
     "output_type": "execute_result"
    }
   ],
   "source": [
    "bool(\"1\")"
   ]
  },
  {
   "cell_type": "code",
   "execution_count": 86,
   "id": "cf2872ce",
   "metadata": {},
   "outputs": [
    {
     "data": {
      "text/plain": [
       "True"
      ]
     },
     "execution_count": 86,
     "metadata": {},
     "output_type": "execute_result"
    }
   ],
   "source": [
    "bool(\"0\")"
   ]
  },
  {
   "cell_type": "code",
   "execution_count": 87,
   "id": "51bdce80",
   "metadata": {},
   "outputs": [
    {
     "data": {
      "text/plain": [
       "1"
      ]
     },
     "execution_count": 87,
     "metadata": {},
     "output_type": "execute_result"
    }
   ],
   "source": [
    "len(\"0\")"
   ]
  },
  {
   "cell_type": "code",
   "execution_count": 88,
   "id": "e7e7b867",
   "metadata": {},
   "outputs": [
    {
     "data": {
      "text/plain": [
       "0"
      ]
     },
     "execution_count": 88,
     "metadata": {},
     "output_type": "execute_result"
    }
   ],
   "source": [
    "len(\"\")"
   ]
  },
  {
   "cell_type": "code",
   "execution_count": 89,
   "id": "04969647",
   "metadata": {},
   "outputs": [
    {
     "data": {
      "text/plain": [
       "0"
      ]
     },
     "execution_count": 89,
     "metadata": {},
     "output_type": "execute_result"
    }
   ],
   "source": [
    "len('')"
   ]
  },
  {
   "cell_type": "code",
   "execution_count": 90,
   "id": "77faede4",
   "metadata": {},
   "outputs": [
    {
     "data": {
      "text/plain": [
       "True"
      ]
     },
     "execution_count": 90,
     "metadata": {},
     "output_type": "execute_result"
    }
   ],
   "source": [
    "bool(\" \")"
   ]
  },
  {
   "cell_type": "code",
   "execution_count": 91,
   "id": "2d8ce98f",
   "metadata": {},
   "outputs": [],
   "source": [
    "None"
   ]
  },
  {
   "cell_type": "code",
   "execution_count": 92,
   "id": "c50c96be",
   "metadata": {},
   "outputs": [
    {
     "name": "stdout",
     "output_type": "stream",
     "text": [
      "True\n"
     ]
    }
   ],
   "source": [
    "print(True)"
   ]
  },
  {
   "cell_type": "code",
   "execution_count": 93,
   "id": "b6262800",
   "metadata": {},
   "outputs": [
    {
     "name": "stdout",
     "output_type": "stream",
     "text": [
      "None\n"
     ]
    }
   ],
   "source": [
    "print(None)"
   ]
  },
  {
   "cell_type": "code",
   "execution_count": 94,
   "id": "3870e6fe",
   "metadata": {},
   "outputs": [
    {
     "data": {
      "text/plain": [
       "True"
      ]
     },
     "execution_count": 94,
     "metadata": {},
     "output_type": "execute_result"
    }
   ],
   "source": [
    "True"
   ]
  },
  {
   "cell_type": "code",
   "execution_count": 95,
   "id": "a801818b",
   "metadata": {},
   "outputs": [],
   "source": [
    "None"
   ]
  },
  {
   "cell_type": "code",
   "execution_count": 96,
   "id": "b649282e",
   "metadata": {},
   "outputs": [],
   "source": [
    "spam = None"
   ]
  },
  {
   "cell_type": "code",
   "execution_count": 97,
   "id": "fa53c06a",
   "metadata": {},
   "outputs": [],
   "source": [
    "spam"
   ]
  },
  {
   "cell_type": "code",
   "execution_count": 98,
   "id": "4e4ccecc",
   "metadata": {},
   "outputs": [
    {
     "name": "stdout",
     "output_type": "stream",
     "text": [
      "None\n"
     ]
    }
   ],
   "source": [
    "print(spam)"
   ]
  },
  {
   "cell_type": "code",
   "execution_count": 99,
   "id": "f4d9d8ac",
   "metadata": {},
   "outputs": [
    {
     "data": {
      "text/plain": [
       "False"
      ]
     },
     "execution_count": 99,
     "metadata": {},
     "output_type": "execute_result"
    }
   ],
   "source": [
    "bool(spam)"
   ]
  },
  {
   "cell_type": "code",
   "execution_count": 100,
   "id": "7056dab7",
   "metadata": {},
   "outputs": [
    {
     "data": {
      "text/plain": [
       "True"
      ]
     },
     "execution_count": 100,
     "metadata": {},
     "output_type": "execute_result"
    }
   ],
   "source": [
    "bool(\"None\")"
   ]
  },
  {
   "cell_type": "code",
   "execution_count": 101,
   "id": "63da655c",
   "metadata": {},
   "outputs": [
    {
     "data": {
      "text/plain": [
       "False"
      ]
     },
     "execution_count": 101,
     "metadata": {},
     "output_type": "execute_result"
    }
   ],
   "source": [
    "bool(None)"
   ]
  },
  {
   "cell_type": "code",
   "execution_count": 102,
   "id": "abd97130",
   "metadata": {},
   "outputs": [
    {
     "data": {
      "text/plain": [
       "'eggs'"
      ]
     },
     "execution_count": 102,
     "metadata": {},
     "output_type": "execute_result"
    }
   ],
   "source": [
    "spam = \"eggs\"\n",
    "spam"
   ]
  },
  {
   "cell_type": "code",
   "execution_count": 103,
   "id": "ad66f67f",
   "metadata": {},
   "outputs": [
    {
     "data": {
      "text/plain": [
       "1.5"
      ]
     },
     "execution_count": 103,
     "metadata": {},
     "output_type": "execute_result"
    }
   ],
   "source": [
    "a"
   ]
  },
  {
   "cell_type": "code",
   "execution_count": 104,
   "id": "381e8dc9",
   "metadata": {},
   "outputs": [
    {
     "data": {
      "text/plain": [
       "2"
      ]
     },
     "execution_count": 104,
     "metadata": {},
     "output_type": "execute_result"
    }
   ],
   "source": [
    "b"
   ]
  },
  {
   "cell_type": "code",
   "execution_count": 105,
   "id": "bbb7617e",
   "metadata": {},
   "outputs": [
    {
     "data": {
      "text/plain": [
       "3.5"
      ]
     },
     "execution_count": 105,
     "metadata": {},
     "output_type": "execute_result"
    }
   ],
   "source": [
    "c"
   ]
  },
  {
   "cell_type": "code",
   "execution_count": 106,
   "id": "256d2ca4",
   "metadata": {},
   "outputs": [
    {
     "data": {
      "text/plain": [
       "3.5"
      ]
     },
     "execution_count": 106,
     "metadata": {},
     "output_type": "execute_result"
    }
   ],
   "source": [
    "c = a + b\n",
    "c"
   ]
  },
  {
   "cell_type": "code",
   "execution_count": 107,
   "id": "d70d5ae4",
   "metadata": {},
   "outputs": [
    {
     "data": {
      "text/plain": [
       "3.5"
      ]
     },
     "execution_count": 107,
     "metadata": {},
     "output_type": "execute_result"
    }
   ],
   "source": [
    "c"
   ]
  },
  {
   "cell_type": "code",
   "execution_count": 108,
   "id": "5e22c2d4",
   "metadata": {},
   "outputs": [
    {
     "data": {
      "text/plain": [
       "2.5"
      ]
     },
     "execution_count": 108,
     "metadata": {},
     "output_type": "execute_result"
    }
   ],
   "source": [
    "b = 2.5\n",
    "b"
   ]
  },
  {
   "cell_type": "code",
   "execution_count": 109,
   "id": "463c8c75",
   "metadata": {},
   "outputs": [
    {
     "data": {
      "text/plain": [
       "3.5"
      ]
     },
     "execution_count": 109,
     "metadata": {},
     "output_type": "execute_result"
    }
   ],
   "source": [
    "c"
   ]
  },
  {
   "cell_type": "code",
   "execution_count": 110,
   "id": "e859023f",
   "metadata": {},
   "outputs": [
    {
     "data": {
      "text/plain": [
       "True"
      ]
     },
     "execution_count": 110,
     "metadata": {},
     "output_type": "execute_result"
    }
   ],
   "source": [
    "c == 3.5"
   ]
  },
  {
   "cell_type": "code",
   "execution_count": 111,
   "id": "58c4f39c",
   "metadata": {},
   "outputs": [
    {
     "data": {
      "text/plain": [
       "4.0"
      ]
     },
     "execution_count": 111,
     "metadata": {},
     "output_type": "execute_result"
    }
   ],
   "source": [
    "c = a + b\n",
    "c"
   ]
  },
  {
   "cell_type": "code",
   "execution_count": 112,
   "id": "4f3b456e",
   "metadata": {},
   "outputs": [
    {
     "data": {
      "text/plain": [
       "(1, 2, True, 'abc')"
      ]
     },
     "execution_count": 112,
     "metadata": {},
     "output_type": "execute_result"
    }
   ],
   "source": [
    "t"
   ]
  },
  {
   "cell_type": "code",
   "execution_count": 113,
   "id": "c10add64",
   "metadata": {},
   "outputs": [
    {
     "data": {
      "text/plain": [
       "True"
      ]
     },
     "execution_count": 113,
     "metadata": {},
     "output_type": "execute_result"
    }
   ],
   "source": [
    "t[2]"
   ]
  },
  {
   "cell_type": "code",
   "execution_count": 114,
   "id": "5e22fc11",
   "metadata": {},
   "outputs": [
    {
     "data": {
      "text/plain": [
       "'abc'"
      ]
     },
     "execution_count": 114,
     "metadata": {},
     "output_type": "execute_result"
    }
   ],
   "source": [
    "t[3]"
   ]
  },
  {
   "cell_type": "code",
   "execution_count": 115,
   "id": "2094da06",
   "metadata": {},
   "outputs": [
    {
     "data": {
      "text/plain": [
       "1"
      ]
     },
     "execution_count": 115,
     "metadata": {},
     "output_type": "execute_result"
    }
   ],
   "source": [
    "t[0]"
   ]
  },
  {
   "cell_type": "code",
   "execution_count": 116,
   "id": "d0f64f1b",
   "metadata": {},
   "outputs": [],
   "source": [
    "t = (\"abc\", \"foo\", \"bar\")"
   ]
  },
  {
   "cell_type": "code",
   "execution_count": 117,
   "id": "56ad5774",
   "metadata": {},
   "outputs": [
    {
     "data": {
      "text/plain": [
       "('abc', 'foo', 'bar')"
      ]
     },
     "execution_count": 117,
     "metadata": {},
     "output_type": "execute_result"
    }
   ],
   "source": [
    "t"
   ]
  },
  {
   "cell_type": "code",
   "execution_count": 118,
   "id": "92cad8bf",
   "metadata": {},
   "outputs": [
    {
     "data": {
      "text/plain": [
       "'abc'"
      ]
     },
     "execution_count": 118,
     "metadata": {},
     "output_type": "execute_result"
    }
   ],
   "source": [
    "t[0]"
   ]
  },
  {
   "cell_type": "code",
   "execution_count": 119,
   "id": "3d087720",
   "metadata": {},
   "outputs": [
    {
     "data": {
      "text/plain": [
       "'bar'"
      ]
     },
     "execution_count": 119,
     "metadata": {},
     "output_type": "execute_result"
    }
   ],
   "source": [
    "t[2]"
   ]
  },
  {
   "cell_type": "code",
   "execution_count": 120,
   "id": "7b5f493f",
   "metadata": {},
   "outputs": [
    {
     "data": {
      "text/plain": [
       "'bar'"
      ]
     },
     "execution_count": 120,
     "metadata": {},
     "output_type": "execute_result"
    }
   ],
   "source": [
    "t[-1]"
   ]
  },
  {
   "cell_type": "code",
   "execution_count": 121,
   "id": "552b35c8",
   "metadata": {},
   "outputs": [
    {
     "data": {
      "text/plain": [
       "3"
      ]
     },
     "execution_count": 121,
     "metadata": {},
     "output_type": "execute_result"
    }
   ],
   "source": [
    "t_len = len(t)\n",
    "t_len"
   ]
  },
  {
   "cell_type": "code",
   "execution_count": 122,
   "id": "7ce01b1a",
   "metadata": {},
   "outputs": [
    {
     "data": {
      "text/plain": [
       "'bar'"
      ]
     },
     "execution_count": 122,
     "metadata": {},
     "output_type": "execute_result"
    }
   ],
   "source": [
    "t[t_len - 1]"
   ]
  },
  {
   "cell_type": "code",
   "execution_count": 123,
   "id": "28cabe31",
   "metadata": {},
   "outputs": [
    {
     "data": {
      "text/plain": [
       "2"
      ]
     },
     "execution_count": 123,
     "metadata": {},
     "output_type": "execute_result"
    }
   ],
   "source": [
    "t_len - 1"
   ]
  },
  {
   "cell_type": "code",
   "execution_count": 124,
   "id": "a3b06be4",
   "metadata": {},
   "outputs": [
    {
     "data": {
      "text/plain": [
       "'bar'"
      ]
     },
     "execution_count": 124,
     "metadata": {},
     "output_type": "execute_result"
    }
   ],
   "source": [
    "t[2]"
   ]
  },
  {
   "cell_type": "code",
   "execution_count": 125,
   "id": "79d794e3",
   "metadata": {},
   "outputs": [
    {
     "data": {
      "text/plain": [
       "'bar'"
      ]
     },
     "execution_count": 125,
     "metadata": {},
     "output_type": "execute_result"
    }
   ],
   "source": [
    "t[-1]"
   ]
  },
  {
   "cell_type": "code",
   "execution_count": 126,
   "id": "4d76ff29",
   "metadata": {},
   "outputs": [
    {
     "data": {
      "text/plain": [
       "'foo'"
      ]
     },
     "execution_count": 126,
     "metadata": {},
     "output_type": "execute_result"
    }
   ],
   "source": [
    "t[-2]"
   ]
  },
  {
   "cell_type": "code",
   "execution_count": 127,
   "id": "9f17fe9d",
   "metadata": {},
   "outputs": [
    {
     "data": {
      "text/plain": [
       "'abc'"
      ]
     },
     "execution_count": 127,
     "metadata": {},
     "output_type": "execute_result"
    }
   ],
   "source": [
    "t[-3]"
   ]
  },
  {
   "cell_type": "code",
   "execution_count": 128,
   "id": "72b7eb71",
   "metadata": {},
   "outputs": [
    {
     "data": {
      "text/plain": [
       "('abc', 'qwe', ('foo', 'bar'), 'spam')"
      ]
     },
     "execution_count": 128,
     "metadata": {},
     "output_type": "execute_result"
    }
   ],
   "source": [
    "t_with_nested = (\"abc\", \"qwe\", (\"foo\", \"bar\"), \"spam\")\n",
    "t_with_nested"
   ]
  },
  {
   "cell_type": "code",
   "execution_count": 129,
   "id": "a19de068",
   "metadata": {},
   "outputs": [
    {
     "data": {
      "text/plain": [
       "('foo', 'bar')"
      ]
     },
     "execution_count": 129,
     "metadata": {},
     "output_type": "execute_result"
    }
   ],
   "source": [
    "t_with_nested[2]"
   ]
  },
  {
   "cell_type": "code",
   "execution_count": 130,
   "id": "e9ba451b",
   "metadata": {},
   "outputs": [
    {
     "data": {
      "text/plain": [
       "('foo', 'bar')"
      ]
     },
     "execution_count": 130,
     "metadata": {},
     "output_type": "execute_result"
    }
   ],
   "source": [
    "t_nested = t_with_nested[2]\n",
    "t_nested"
   ]
  },
  {
   "cell_type": "code",
   "execution_count": 131,
   "id": "abd82e84",
   "metadata": {},
   "outputs": [
    {
     "data": {
      "text/plain": [
       "'foo'"
      ]
     },
     "execution_count": 131,
     "metadata": {},
     "output_type": "execute_result"
    }
   ],
   "source": [
    "t_nested[0]"
   ]
  },
  {
   "cell_type": "code",
   "execution_count": 132,
   "id": "86b1c6d4",
   "metadata": {},
   "outputs": [
    {
     "data": {
      "text/plain": [
       "'bar'"
      ]
     },
     "execution_count": 132,
     "metadata": {},
     "output_type": "execute_result"
    }
   ],
   "source": [
    "t_nested[1]"
   ]
  },
  {
   "cell_type": "code",
   "execution_count": 133,
   "id": "b9855e80",
   "metadata": {},
   "outputs": [
    {
     "data": {
      "text/plain": [
       "'bar'"
      ]
     },
     "execution_count": 133,
     "metadata": {},
     "output_type": "execute_result"
    }
   ],
   "source": [
    "t_with_nested[2][1]"
   ]
  },
  {
   "cell_type": "code",
   "execution_count": 134,
   "id": "b5d0d754",
   "metadata": {},
   "outputs": [
    {
     "data": {
      "text/plain": [
       "'b'"
      ]
     },
     "execution_count": 134,
     "metadata": {},
     "output_type": "execute_result"
    }
   ],
   "source": [
    "t_with_nested[2][1][0]"
   ]
  },
  {
   "cell_type": "code",
   "execution_count": 135,
   "id": "c5460ca5",
   "metadata": {},
   "outputs": [
    {
     "data": {
      "text/plain": [
       "''"
      ]
     },
     "execution_count": 135,
     "metadata": {},
     "output_type": "execute_result"
    }
   ],
   "source": [
    "\"\""
   ]
  },
  {
   "cell_type": "code",
   "execution_count": 136,
   "id": "98d52207",
   "metadata": {},
   "outputs": [
    {
     "data": {
      "text/plain": [
       "'b'"
      ]
     },
     "execution_count": 136,
     "metadata": {},
     "output_type": "execute_result"
    }
   ],
   "source": [
    "'b'"
   ]
  },
  {
   "cell_type": "code",
   "execution_count": 137,
   "id": "cacd8244",
   "metadata": {},
   "outputs": [
    {
     "data": {
      "text/plain": [
       "'a'"
      ]
     },
     "execution_count": 137,
     "metadata": {},
     "output_type": "execute_result"
    }
   ],
   "source": [
    "t_with_nested[2][1][1]"
   ]
  },
  {
   "cell_type": "code",
   "execution_count": 138,
   "id": "9173c3f4",
   "metadata": {},
   "outputs": [
    {
     "data": {
      "text/plain": [
       "'r'"
      ]
     },
     "execution_count": 138,
     "metadata": {},
     "output_type": "execute_result"
    }
   ],
   "source": [
    "t_with_nested[2][1][2]"
   ]
  },
  {
   "cell_type": "code",
   "execution_count": 139,
   "id": "af01e59e",
   "metadata": {},
   "outputs": [],
   "source": [
    "foo = \"spam\""
   ]
  },
  {
   "cell_type": "code",
   "execution_count": 140,
   "id": "50a1a3c6",
   "metadata": {},
   "outputs": [
    {
     "data": {
      "text/plain": [
       "'spam'"
      ]
     },
     "execution_count": 140,
     "metadata": {},
     "output_type": "execute_result"
    }
   ],
   "source": [
    "foo"
   ]
  },
  {
   "cell_type": "code",
   "execution_count": 141,
   "id": "99382f40",
   "metadata": {},
   "outputs": [
    {
     "data": {
      "text/plain": [
       "'m'"
      ]
     },
     "execution_count": 141,
     "metadata": {},
     "output_type": "execute_result"
    }
   ],
   "source": [
    "foo[3]"
   ]
  },
  {
   "cell_type": "code",
   "execution_count": 142,
   "id": "dc5f1b4d",
   "metadata": {},
   "outputs": [
    {
     "data": {
      "text/plain": [
       "('abc', 'foo', 'bar')"
      ]
     },
     "execution_count": 142,
     "metadata": {},
     "output_type": "execute_result"
    }
   ],
   "source": [
    "t"
   ]
  },
  {
   "cell_type": "code",
   "execution_count": 143,
   "id": "6b1d4cd4",
   "metadata": {},
   "outputs": [],
   "source": [
    "foo = foo + \" eggs\""
   ]
  },
  {
   "cell_type": "code",
   "execution_count": 144,
   "id": "8989e5b0",
   "metadata": {},
   "outputs": [
    {
     "data": {
      "text/plain": [
       "'spam eggs'"
      ]
     },
     "execution_count": 144,
     "metadata": {},
     "output_type": "execute_result"
    }
   ],
   "source": [
    "foo"
   ]
  },
  {
   "cell_type": "code",
   "execution_count": 145,
   "id": "541ad2dc",
   "metadata": {},
   "outputs": [
    {
     "data": {
      "text/plain": [
       "'spam eggs eggs'"
      ]
     },
     "execution_count": 145,
     "metadata": {},
     "output_type": "execute_result"
    }
   ],
   "source": [
    "foo + \" eggs\""
   ]
  },
  {
   "cell_type": "code",
   "execution_count": 146,
   "id": "eb206416",
   "metadata": {},
   "outputs": [
    {
     "data": {
      "text/plain": [
       "'spam eggs'"
      ]
     },
     "execution_count": 146,
     "metadata": {},
     "output_type": "execute_result"
    }
   ],
   "source": [
    "foo"
   ]
  },
  {
   "cell_type": "code",
   "execution_count": 147,
   "id": "00760b8b",
   "metadata": {},
   "outputs": [
    {
     "data": {
      "text/plain": [
       "['Sam', 'John']"
      ]
     },
     "execution_count": 147,
     "metadata": {},
     "output_type": "execute_result"
    }
   ],
   "source": [
    "names = [\"Sam\", \"John\"]\n",
    "names"
   ]
  },
  {
   "cell_type": "code",
   "execution_count": 148,
   "id": "b37a0ef4",
   "metadata": {},
   "outputs": [
    {
     "data": {
      "text/plain": [
       "['foo', 123, 'bar', None, ('abc', 'qwe'), False]"
      ]
     },
     "execution_count": 148,
     "metadata": {},
     "output_type": "execute_result"
    }
   ],
   "source": [
    "values = [\"foo\", 123, \"bar\", None, (\"abc\", \"qwe\"), False]\n",
    "values"
   ]
  },
  {
   "cell_type": "code",
   "execution_count": 149,
   "id": "eef8055f",
   "metadata": {},
   "outputs": [
    {
     "data": {
      "text/plain": [
       "list"
      ]
     },
     "execution_count": 149,
     "metadata": {},
     "output_type": "execute_result"
    }
   ],
   "source": [
    "type(values)"
   ]
  },
  {
   "cell_type": "code",
   "execution_count": 150,
   "id": "b54f401e",
   "metadata": {},
   "outputs": [
    {
     "data": {
      "text/plain": [
       "('abc', 'foo', 'bar')"
      ]
     },
     "execution_count": 150,
     "metadata": {},
     "output_type": "execute_result"
    }
   ],
   "source": [
    "t"
   ]
  },
  {
   "cell_type": "code",
   "execution_count": 151,
   "id": "e84797ca",
   "metadata": {},
   "outputs": [
    {
     "data": {
      "text/plain": [
       "['abc', 'foo', 'bar']"
      ]
     },
     "execution_count": 151,
     "metadata": {},
     "output_type": "execute_result"
    }
   ],
   "source": [
    "words = list(t)\n",
    "words"
   ]
  },
  {
   "cell_type": "code",
   "execution_count": 152,
   "id": "452da6ac",
   "metadata": {},
   "outputs": [
    {
     "data": {
      "text/plain": [
       "('abc', 'foo', 'bar')"
      ]
     },
     "execution_count": 152,
     "metadata": {},
     "output_type": "execute_result"
    }
   ],
   "source": [
    "t"
   ]
  },
  {
   "cell_type": "code",
   "execution_count": 153,
   "id": "8eb034ef",
   "metadata": {},
   "outputs": [
    {
     "data": {
      "text/plain": [
       "False"
      ]
     },
     "execution_count": 153,
     "metadata": {},
     "output_type": "execute_result"
    }
   ],
   "source": [
    "words == t"
   ]
  },
  {
   "cell_type": "code",
   "execution_count": 154,
   "id": "ecb7ca79",
   "metadata": {},
   "outputs": [
    {
     "data": {
      "text/plain": [
       "True"
      ]
     },
     "execution_count": 154,
     "metadata": {},
     "output_type": "execute_result"
    }
   ],
   "source": [
    "words == list(t)"
   ]
  },
  {
   "cell_type": "code",
   "execution_count": 155,
   "id": "23a006c1",
   "metadata": {},
   "outputs": [
    {
     "data": {
      "text/plain": [
       "True"
      ]
     },
     "execution_count": 155,
     "metadata": {},
     "output_type": "execute_result"
    }
   ],
   "source": [
    "tuple(words) == t"
   ]
  },
  {
   "cell_type": "code",
   "execution_count": 156,
   "id": "cfcce0ba",
   "metadata": {},
   "outputs": [
    {
     "data": {
      "text/plain": [
       "['abc', 'foo', 'bar']"
      ]
     },
     "execution_count": 156,
     "metadata": {},
     "output_type": "execute_result"
    }
   ],
   "source": [
    "list(t)"
   ]
  },
  {
   "cell_type": "code",
   "execution_count": 157,
   "id": "e9275e56",
   "metadata": {},
   "outputs": [
    {
     "data": {
      "text/plain": [
       "('abc', 'foo', 'bar')"
      ]
     },
     "execution_count": 157,
     "metadata": {},
     "output_type": "execute_result"
    }
   ],
   "source": [
    "tuple(words)"
   ]
  },
  {
   "cell_type": "code",
   "execution_count": 158,
   "id": "bb4d7a2f",
   "metadata": {},
   "outputs": [
    {
     "data": {
      "text/plain": [
       "1"
      ]
     },
     "execution_count": 158,
     "metadata": {},
     "output_type": "execute_result"
    }
   ],
   "source": [
    "int(1)"
   ]
  },
  {
   "cell_type": "code",
   "execution_count": 159,
   "id": "c0af3a78",
   "metadata": {},
   "outputs": [
    {
     "data": {
      "text/plain": [
       "['abc', 'foo', 'bar']"
      ]
     },
     "execution_count": 159,
     "metadata": {},
     "output_type": "execute_result"
    }
   ],
   "source": [
    "words"
   ]
  },
  {
   "cell_type": "code",
   "execution_count": 160,
   "id": "5834e6d4",
   "metadata": {},
   "outputs": [
    {
     "data": {
      "text/plain": [
       "['abc', 'foo', 'bar']"
      ]
     },
     "execution_count": 160,
     "metadata": {},
     "output_type": "execute_result"
    }
   ],
   "source": [
    "list(words)"
   ]
  },
  {
   "cell_type": "code",
   "execution_count": 161,
   "id": "a68b5abb",
   "metadata": {},
   "outputs": [
    {
     "data": {
      "text/plain": [
       "True"
      ]
     },
     "execution_count": 161,
     "metadata": {},
     "output_type": "execute_result"
    }
   ],
   "source": [
    "list(words) == words"
   ]
  },
  {
   "cell_type": "code",
   "execution_count": 162,
   "id": "f7616967",
   "metadata": {},
   "outputs": [
    {
     "data": {
      "text/plain": [
       "['Sam', 'John']"
      ]
     },
     "execution_count": 162,
     "metadata": {},
     "output_type": "execute_result"
    }
   ],
   "source": [
    "names"
   ]
  },
  {
   "cell_type": "code",
   "execution_count": 163,
   "id": "dc90d82e",
   "metadata": {},
   "outputs": [
    {
     "data": {
      "text/plain": [
       "['Sam', 'John', 'Alice']"
      ]
     },
     "execution_count": 163,
     "metadata": {},
     "output_type": "execute_result"
    }
   ],
   "source": [
    "names.append(\"Alice\")\n",
    "names"
   ]
  },
  {
   "cell_type": "code",
   "execution_count": 164,
   "id": "1d2754f1",
   "metadata": {},
   "outputs": [],
   "source": [
    "n = names"
   ]
  },
  {
   "cell_type": "code",
   "execution_count": 165,
   "id": "b829d9fb",
   "metadata": {},
   "outputs": [
    {
     "data": {
      "text/plain": [
       "['Sam', 'John', 'Alice']"
      ]
     },
     "execution_count": 165,
     "metadata": {},
     "output_type": "execute_result"
    }
   ],
   "source": [
    "n"
   ]
  },
  {
   "cell_type": "code",
   "execution_count": 166,
   "id": "d1709a41",
   "metadata": {},
   "outputs": [
    {
     "data": {
      "text/plain": [
       "True"
      ]
     },
     "execution_count": 166,
     "metadata": {},
     "output_type": "execute_result"
    }
   ],
   "source": [
    "n == names"
   ]
  },
  {
   "cell_type": "code",
   "execution_count": 167,
   "id": "03d92101",
   "metadata": {},
   "outputs": [
    {
     "data": {
      "text/plain": [
       "['Sam', 'John', 'Alice', 'Bob']"
      ]
     },
     "execution_count": 167,
     "metadata": {},
     "output_type": "execute_result"
    }
   ],
   "source": [
    "names.append('Bob')\n",
    "names"
   ]
  },
  {
   "cell_type": "code",
   "execution_count": 168,
   "id": "24b7bd6c",
   "metadata": {},
   "outputs": [
    {
     "data": {
      "text/plain": [
       "['Sam', 'John', 'Alice', 'Bob']"
      ]
     },
     "execution_count": 168,
     "metadata": {},
     "output_type": "execute_result"
    }
   ],
   "source": [
    "n"
   ]
  },
  {
   "cell_type": "code",
   "execution_count": 169,
   "id": "f5a2e9cb",
   "metadata": {},
   "outputs": [
    {
     "data": {
      "text/plain": [
       "['Sam', 'John', 'Alice', 'Bob']"
      ]
     },
     "execution_count": 169,
     "metadata": {},
     "output_type": "execute_result"
    }
   ],
   "source": [
    "new_names = list(names)\n",
    "new_names"
   ]
  },
  {
   "cell_type": "code",
   "execution_count": 170,
   "id": "e9411e7a",
   "metadata": {},
   "outputs": [
    {
     "data": {
      "text/plain": [
       "True"
      ]
     },
     "execution_count": 170,
     "metadata": {},
     "output_type": "execute_result"
    }
   ],
   "source": [
    "new_names == names"
   ]
  },
  {
   "cell_type": "code",
   "execution_count": 171,
   "id": "20cd323a",
   "metadata": {},
   "outputs": [
    {
     "data": {
      "text/plain": [
       "['Sam', 'John', 'Alice', 'Bob', 'Nick']"
      ]
     },
     "execution_count": 171,
     "metadata": {},
     "output_type": "execute_result"
    }
   ],
   "source": [
    "names.append(\"Nick\")\n",
    "names"
   ]
  },
  {
   "cell_type": "code",
   "execution_count": 172,
   "id": "b070ca90",
   "metadata": {},
   "outputs": [
    {
     "data": {
      "text/plain": [
       "['Sam', 'John', 'Alice', 'Bob', 'Nick']"
      ]
     },
     "execution_count": 172,
     "metadata": {},
     "output_type": "execute_result"
    }
   ],
   "source": [
    "n"
   ]
  },
  {
   "cell_type": "code",
   "execution_count": 173,
   "id": "8f0a9245",
   "metadata": {},
   "outputs": [
    {
     "data": {
      "text/plain": [
       "['Sam', 'John', 'Alice', 'Bob']"
      ]
     },
     "execution_count": 173,
     "metadata": {},
     "output_type": "execute_result"
    }
   ],
   "source": [
    "new_names"
   ]
  },
  {
   "cell_type": "code",
   "execution_count": 174,
   "id": "b785a28f",
   "metadata": {},
   "outputs": [
    {
     "data": {
      "text/plain": [
       "False"
      ]
     },
     "execution_count": 174,
     "metadata": {},
     "output_type": "execute_result"
    }
   ],
   "source": [
    "new_names == names"
   ]
  },
  {
   "cell_type": "code",
   "execution_count": 175,
   "id": "977352c6",
   "metadata": {},
   "outputs": [
    {
     "data": {
      "text/plain": [
       "True"
      ]
     },
     "execution_count": 175,
     "metadata": {},
     "output_type": "execute_result"
    }
   ],
   "source": [
    "n == names"
   ]
  },
  {
   "cell_type": "code",
   "execution_count": 176,
   "id": "bbbdcc6f",
   "metadata": {},
   "outputs": [],
   "source": [
    "other_names = list(names)"
   ]
  },
  {
   "cell_type": "code",
   "execution_count": 177,
   "id": "288b4d4c",
   "metadata": {},
   "outputs": [
    {
     "data": {
      "text/plain": [
       "True"
      ]
     },
     "execution_count": 177,
     "metadata": {},
     "output_type": "execute_result"
    }
   ],
   "source": [
    "other_names == names"
   ]
  },
  {
   "cell_type": "code",
   "execution_count": 178,
   "id": "81b24db7",
   "metadata": {},
   "outputs": [
    {
     "data": {
      "text/plain": [
       "['Sam', 'John', 'Alice', 'Bob', 'Nick']"
      ]
     },
     "execution_count": 178,
     "metadata": {},
     "output_type": "execute_result"
    }
   ],
   "source": [
    "other_names"
   ]
  },
  {
   "cell_type": "code",
   "execution_count": 179,
   "id": "ac9266b0",
   "metadata": {},
   "outputs": [
    {
     "data": {
      "text/plain": [
       "['Sam', 'John', 'Alice', 'Bob', 'Nick']"
      ]
     },
     "execution_count": 179,
     "metadata": {},
     "output_type": "execute_result"
    }
   ],
   "source": [
    "names"
   ]
  },
  {
   "cell_type": "code",
   "execution_count": 180,
   "id": "5231e250",
   "metadata": {},
   "outputs": [
    {
     "data": {
      "text/plain": [
       "False"
      ]
     },
     "execution_count": 180,
     "metadata": {},
     "output_type": "execute_result"
    }
   ],
   "source": [
    "other_names is names"
   ]
  },
  {
   "cell_type": "code",
   "execution_count": 181,
   "id": "f899d78b",
   "metadata": {},
   "outputs": [
    {
     "data": {
      "text/plain": [
       "4573391360"
      ]
     },
     "execution_count": 181,
     "metadata": {},
     "output_type": "execute_result"
    }
   ],
   "source": [
    "id(n)"
   ]
  },
  {
   "cell_type": "code",
   "execution_count": 182,
   "id": "2303873d",
   "metadata": {},
   "outputs": [
    {
     "data": {
      "text/plain": [
       "4573391360"
      ]
     },
     "execution_count": 182,
     "metadata": {},
     "output_type": "execute_result"
    }
   ],
   "source": [
    "id(names)"
   ]
  },
  {
   "cell_type": "code",
   "execution_count": 183,
   "id": "209f684b",
   "metadata": {},
   "outputs": [
    {
     "data": {
      "text/plain": [
       "4578700352"
      ]
     },
     "execution_count": 183,
     "metadata": {},
     "output_type": "execute_result"
    }
   ],
   "source": [
    "id(other_names)"
   ]
  },
  {
   "cell_type": "code",
   "execution_count": 184,
   "id": "68ff2080",
   "metadata": {},
   "outputs": [
    {
     "data": {
      "text/plain": [
       "4578456064"
      ]
     },
     "execution_count": 184,
     "metadata": {},
     "output_type": "execute_result"
    }
   ],
   "source": [
    "id(new_names)"
   ]
  },
  {
   "cell_type": "code",
   "execution_count": 185,
   "id": "1e2a035a",
   "metadata": {},
   "outputs": [
    {
     "data": {
      "text/plain": [
       "['Sam', 'John', 'Alice', 'Bob', 'Nick']"
      ]
     },
     "execution_count": 185,
     "metadata": {},
     "output_type": "execute_result"
    }
   ],
   "source": [
    "names"
   ]
  },
  {
   "cell_type": "code",
   "execution_count": 186,
   "id": "a22e17ab",
   "metadata": {},
   "outputs": [
    {
     "data": {
      "text/plain": [
       "'Sam'"
      ]
     },
     "execution_count": 186,
     "metadata": {},
     "output_type": "execute_result"
    }
   ],
   "source": [
    "names.pop(0)"
   ]
  },
  {
   "cell_type": "code",
   "execution_count": 187,
   "id": "3c104597",
   "metadata": {},
   "outputs": [
    {
     "data": {
      "text/plain": [
       "['John', 'Alice', 'Bob', 'Nick']"
      ]
     },
     "execution_count": 187,
     "metadata": {},
     "output_type": "execute_result"
    }
   ],
   "source": [
    "names"
   ]
  },
  {
   "cell_type": "code",
   "execution_count": 188,
   "id": "51c6a477",
   "metadata": {},
   "outputs": [
    {
     "data": {
      "text/plain": [
       "['John', 'Alice', 'Bob', 'Nick']"
      ]
     },
     "execution_count": 188,
     "metadata": {},
     "output_type": "execute_result"
    }
   ],
   "source": [
    "n"
   ]
  },
  {
   "cell_type": "code",
   "execution_count": 189,
   "id": "7293b80f",
   "metadata": {},
   "outputs": [
    {
     "data": {
      "text/plain": [
       "['John', 'Alice', 'Bob', 'Nick']"
      ]
     },
     "execution_count": 189,
     "metadata": {},
     "output_type": "execute_result"
    }
   ],
   "source": [
    "names"
   ]
  },
  {
   "cell_type": "code",
   "execution_count": 190,
   "id": "e6562a06",
   "metadata": {},
   "outputs": [
    {
     "data": {
      "text/plain": [
       "['Sam', 'John', 'Alice', 'Bob', 'Nick']"
      ]
     },
     "execution_count": 190,
     "metadata": {},
     "output_type": "execute_result"
    }
   ],
   "source": [
    "other_names"
   ]
  },
  {
   "cell_type": "code",
   "execution_count": 191,
   "id": "70f03ae6",
   "metadata": {},
   "outputs": [
    {
     "data": {
      "text/plain": [
       "['Sam', 'John', 'Alice', 'Bob']"
      ]
     },
     "execution_count": 191,
     "metadata": {},
     "output_type": "execute_result"
    }
   ],
   "source": [
    "new_names"
   ]
  },
  {
   "cell_type": "code",
   "execution_count": 192,
   "id": "b8893ba4",
   "metadata": {},
   "outputs": [
    {
     "data": {
      "text/plain": [
       "'Sam'"
      ]
     },
     "execution_count": 192,
     "metadata": {},
     "output_type": "execute_result"
    }
   ],
   "source": [
    "new_names.pop(0)"
   ]
  },
  {
   "cell_type": "code",
   "execution_count": 193,
   "id": "e749e20c",
   "metadata": {},
   "outputs": [
    {
     "data": {
      "text/plain": [
       "['John', 'Alice', 'Bob']"
      ]
     },
     "execution_count": 193,
     "metadata": {},
     "output_type": "execute_result"
    }
   ],
   "source": [
    "new_names"
   ]
  },
  {
   "cell_type": "code",
   "execution_count": 194,
   "id": "22513041",
   "metadata": {},
   "outputs": [],
   "source": [
    "abc = 123"
   ]
  },
  {
   "cell_type": "code",
   "execution_count": 195,
   "id": "625c62b5",
   "metadata": {},
   "outputs": [],
   "source": [
    "qwe = abc"
   ]
  },
  {
   "cell_type": "code",
   "execution_count": 196,
   "id": "bc059d85",
   "metadata": {},
   "outputs": [
    {
     "data": {
      "text/plain": [
       "True"
      ]
     },
     "execution_count": 196,
     "metadata": {},
     "output_type": "execute_result"
    }
   ],
   "source": [
    "abc == qwe"
   ]
  },
  {
   "cell_type": "code",
   "execution_count": 197,
   "id": "ad82f630",
   "metadata": {},
   "outputs": [
    {
     "data": {
      "text/plain": [
       "True"
      ]
     },
     "execution_count": 197,
     "metadata": {},
     "output_type": "execute_result"
    }
   ],
   "source": [
    "abc is qwe"
   ]
  },
  {
   "cell_type": "code",
   "execution_count": 198,
   "id": "2cad90c6",
   "metadata": {},
   "outputs": [
    {
     "data": {
      "text/plain": [
       "False"
      ]
     },
     "execution_count": 198,
     "metadata": {},
     "output_type": "execute_result"
    }
   ],
   "source": [
    "[] is []"
   ]
  },
  {
   "cell_type": "code",
   "execution_count": 199,
   "id": "89b20a15",
   "metadata": {},
   "outputs": [
    {
     "data": {
      "text/plain": [
       "True"
      ]
     },
     "execution_count": 199,
     "metadata": {},
     "output_type": "execute_result"
    }
   ],
   "source": [
    "[1] == [1]"
   ]
  },
  {
   "cell_type": "code",
   "execution_count": 200,
   "id": "bf5947e3",
   "metadata": {},
   "outputs": [
    {
     "data": {
      "text/plain": [
       "False"
      ]
     },
     "execution_count": 200,
     "metadata": {},
     "output_type": "execute_result"
    }
   ],
   "source": [
    "[1] is [1]"
   ]
  },
  {
   "cell_type": "code",
   "execution_count": 202,
   "id": "91fc7dde",
   "metadata": {},
   "outputs": [
    {
     "data": {
      "text/plain": [
       "True"
      ]
     },
     "execution_count": 202,
     "metadata": {},
     "output_type": "execute_result"
    }
   ],
   "source": [
    "abc = 1\n",
    "qwe = 1\n",
    "abc is qwe"
   ]
  },
  {
   "cell_type": "code",
   "execution_count": 203,
   "id": "6cfd09d2",
   "metadata": {},
   "outputs": [
    {
     "data": {
      "text/plain": [
       "4372044880"
      ]
     },
     "execution_count": 203,
     "metadata": {},
     "output_type": "execute_result"
    }
   ],
   "source": [
    "id(abc)"
   ]
  },
  {
   "cell_type": "code",
   "execution_count": 204,
   "id": "c76fa302",
   "metadata": {},
   "outputs": [
    {
     "data": {
      "text/plain": [
       "4372044880"
      ]
     },
     "execution_count": 204,
     "metadata": {},
     "output_type": "execute_result"
    }
   ],
   "source": [
    "id(qwe)"
   ]
  },
  {
   "cell_type": "code",
   "execution_count": 205,
   "id": "644daed9",
   "metadata": {},
   "outputs": [
    {
     "data": {
      "text/plain": [
       "False"
      ]
     },
     "execution_count": 205,
     "metadata": {},
     "output_type": "execute_result"
    }
   ],
   "source": [
    "abc = 1024\n",
    "qwe = 1024\n",
    "abc is qwe"
   ]
  },
  {
   "cell_type": "code",
   "execution_count": 206,
   "id": "730f3240",
   "metadata": {},
   "outputs": [
    {
     "data": {
      "text/plain": [
       "True"
      ]
     },
     "execution_count": 206,
     "metadata": {},
     "output_type": "execute_result"
    }
   ],
   "source": [
    "abc == qwe"
   ]
  },
  {
   "cell_type": "code",
   "execution_count": 207,
   "id": "cc2b981c",
   "metadata": {},
   "outputs": [],
   "source": [
    "abc = qwe"
   ]
  },
  {
   "cell_type": "code",
   "execution_count": 208,
   "id": "6aa98837",
   "metadata": {},
   "outputs": [
    {
     "data": {
      "text/plain": [
       "True"
      ]
     },
     "execution_count": 208,
     "metadata": {},
     "output_type": "execute_result"
    }
   ],
   "source": [
    "abc is qwe"
   ]
  },
  {
   "cell_type": "code",
   "execution_count": 209,
   "id": "367ecefa",
   "metadata": {},
   "outputs": [
    {
     "data": {
      "text/plain": [
       "False"
      ]
     },
     "execution_count": 209,
     "metadata": {},
     "output_type": "execute_result"
    }
   ],
   "source": [
    "abc = 1024\n",
    "qwe = 1024\n",
    "abc is qwe"
   ]
  },
  {
   "cell_type": "code",
   "execution_count": 210,
   "id": "2dfaed5b",
   "metadata": {},
   "outputs": [
    {
     "data": {
      "text/plain": [
       "4578550832"
      ]
     },
     "execution_count": 210,
     "metadata": {},
     "output_type": "execute_result"
    }
   ],
   "source": [
    "id(abc)"
   ]
  },
  {
   "cell_type": "code",
   "execution_count": 211,
   "id": "7d68f552",
   "metadata": {},
   "outputs": [
    {
     "data": {
      "text/plain": [
       "4578552880"
      ]
     },
     "execution_count": 211,
     "metadata": {},
     "output_type": "execute_result"
    }
   ],
   "source": [
    "id(qwe)"
   ]
  },
  {
   "cell_type": "code",
   "execution_count": 212,
   "id": "0d4dfa94",
   "metadata": {},
   "outputs": [],
   "source": [
    "abc = qwe"
   ]
  },
  {
   "cell_type": "code",
   "execution_count": 213,
   "id": "6021ee5b",
   "metadata": {},
   "outputs": [
    {
     "data": {
      "text/plain": [
       "4578552880"
      ]
     },
     "execution_count": 213,
     "metadata": {},
     "output_type": "execute_result"
    }
   ],
   "source": [
    "id(abc)"
   ]
  },
  {
   "cell_type": "code",
   "execution_count": 214,
   "id": "eac062bb",
   "metadata": {},
   "outputs": [
    {
     "data": {
      "text/plain": [
       "{'name': 'Sam White', 'email': 'sam@example.com'}"
      ]
     },
     "execution_count": 214,
     "metadata": {},
     "output_type": "execute_result"
    }
   ],
   "source": [
    "data = {\n",
    "    \"name\": \"Sam White\",\n",
    "    \"email\": \"sam@example.com\",\n",
    "}\n",
    "data"
   ]
  },
  {
   "cell_type": "code",
   "execution_count": 215,
   "id": "b6421217",
   "metadata": {},
   "outputs": [],
   "source": [
    "data2 = {\n",
    "    \"name\": \"john\",\n",
    "    \"username\": \"john\",\n",
    "}"
   ]
  },
  {
   "cell_type": "code",
   "execution_count": 216,
   "id": "811b7f6f",
   "metadata": {},
   "outputs": [
    {
     "data": {
      "text/plain": [
       "'Sam White'"
      ]
     },
     "execution_count": 216,
     "metadata": {},
     "output_type": "execute_result"
    }
   ],
   "source": [
    "data[\"name\"]"
   ]
  },
  {
   "cell_type": "code",
   "execution_count": 217,
   "id": "d15ebd6f",
   "metadata": {},
   "outputs": [
    {
     "data": {
      "text/plain": [
       "'sam@example.com'"
      ]
     },
     "execution_count": 217,
     "metadata": {},
     "output_type": "execute_result"
    }
   ],
   "source": [
    "data[\"email\"]"
   ]
  },
  {
   "cell_type": "code",
   "execution_count": 218,
   "id": "19f619ae",
   "metadata": {},
   "outputs": [
    {
     "data": {
      "text/plain": [
       "{'name': 'john', 'username': 'john'}"
      ]
     },
     "execution_count": 218,
     "metadata": {},
     "output_type": "execute_result"
    }
   ],
   "source": [
    "data2"
   ]
  },
  {
   "cell_type": "code",
   "execution_count": 219,
   "id": "96fa65c8",
   "metadata": {},
   "outputs": [
    {
     "data": {
      "text/plain": [
       "{'name': 'John Smith', 'username': 'john'}"
      ]
     },
     "execution_count": 219,
     "metadata": {},
     "output_type": "execute_result"
    }
   ],
   "source": [
    "data2[\"name\"] = \"John Smith\"\n",
    "data2"
   ]
  },
  {
   "cell_type": "code",
   "execution_count": 220,
   "id": "3ba747df",
   "metadata": {},
   "outputs": [
    {
     "data": {
      "text/plain": [
       "{'name': 'John Smith', 'username': 'john', 'email': 'john@example.com'}"
      ]
     },
     "execution_count": 220,
     "metadata": {},
     "output_type": "execute_result"
    }
   ],
   "source": [
    "data2[\"email\"] = \"john@example.com\"\n",
    "data2"
   ]
  },
  {
   "cell_type": "code",
   "execution_count": 221,
   "id": "47e96e6c",
   "metadata": {},
   "outputs": [
    {
     "data": {
      "text/plain": [
       "{'name': 'Sam White', 'email': 'sam@example.com'}"
      ]
     },
     "execution_count": 221,
     "metadata": {},
     "output_type": "execute_result"
    }
   ],
   "source": [
    "data"
   ]
  },
  {
   "cell_type": "code",
   "execution_count": 222,
   "id": "9aa03620",
   "metadata": {},
   "outputs": [
    {
     "data": {
      "text/plain": [
       "False"
      ]
     },
     "execution_count": 222,
     "metadata": {},
     "output_type": "execute_result"
    }
   ],
   "source": [
    "\"Name\" == \"name\""
   ]
  },
  {
   "cell_type": "code",
   "execution_count": 223,
   "id": "e41e9c8a",
   "metadata": {},
   "outputs": [
    {
     "data": {
      "text/plain": [
       "{123: 'num 123',\n",
       " False: 'this is False',\n",
       " True: True,\n",
       " None: 'none type',\n",
       " (0, 1): 'tuple key',\n",
       " 'name': 'Bob',\n",
       " 'ids': [1, 2, 3, 4],\n",
       " 'meta': {'foo': 'bar', 'fizz': 'buzz'}}"
      ]
     },
     "execution_count": 223,
     "metadata": {},
     "output_type": "execute_result"
    }
   ],
   "source": [
    "data_all = {\n",
    "    123: \"num 123\",\n",
    "    False: \"this is False\",\n",
    "    True: True,\n",
    "    None: \"none type\",\n",
    "    (0, 1): \"tuple key\",\n",
    "    \"name\": \"Bob\",\n",
    "    \"ids\": [1, 2, 3, 4],\n",
    "    \"meta\": {\n",
    "        \"foo\": \"bar\",\n",
    "        \"fizz\": \"buzz\",\n",
    "    },\n",
    "}\n",
    "data_all"
   ]
  },
  {
   "cell_type": "code",
   "execution_count": 224,
   "id": "1a4820ca",
   "metadata": {},
   "outputs": [
    {
     "data": {
      "text/plain": [
       "'tuple key'"
      ]
     },
     "execution_count": 224,
     "metadata": {},
     "output_type": "execute_result"
    }
   ],
   "source": [
    "data_all[(0, 1)]"
   ]
  },
  {
   "cell_type": "code",
   "execution_count": 225,
   "id": "55fa8117",
   "metadata": {},
   "outputs": [],
   "source": [
    "data_all[(0, 1)] = (\"tuple\", \"value\", \"abc\")"
   ]
  },
  {
   "cell_type": "code",
   "execution_count": 226,
   "id": "c0212c3d",
   "metadata": {},
   "outputs": [
    {
     "data": {
      "text/plain": [
       "{123: 'num 123',\n",
       " False: 'this is False',\n",
       " True: True,\n",
       " None: 'none type',\n",
       " (0, 1): ('tuple', 'value', 'abc'),\n",
       " 'name': 'Bob',\n",
       " 'ids': [1, 2, 3, 4],\n",
       " 'meta': {'foo': 'bar', 'fizz': 'buzz'}}"
      ]
     },
     "execution_count": 226,
     "metadata": {},
     "output_type": "execute_result"
    }
   ],
   "source": [
    "data_all"
   ]
  },
  {
   "cell_type": "code",
   "execution_count": 227,
   "id": "240fb0bb",
   "metadata": {},
   "outputs": [
    {
     "data": {
      "text/plain": [
       "{123: 'num 123',\n",
       " False: 'this is False',\n",
       " True: True,\n",
       " None: 'none type',\n",
       " (0, 1): ('tuple', 'value', 'abc'),\n",
       " 'name': 'Bob',\n",
       " 'ids': [1, 2, 3, 4, 5],\n",
       " 'meta': {'foo': 'bar', 'fizz': 'buzz'}}"
      ]
     },
     "execution_count": 227,
     "metadata": {},
     "output_type": "execute_result"
    }
   ],
   "source": [
    "data_all['ids'].append(5)\n",
    "data_all"
   ]
  },
  {
   "cell_type": "code",
   "execution_count": 228,
   "id": "ef3d0126",
   "metadata": {},
   "outputs": [
    {
     "data": {
      "text/plain": [
       "[1, 2, 3, 4, 5]"
      ]
     },
     "execution_count": 228,
     "metadata": {},
     "output_type": "execute_result"
    }
   ],
   "source": [
    "ids = data_all['ids']\n",
    "ids"
   ]
  },
  {
   "cell_type": "code",
   "execution_count": 229,
   "id": "19e6c594",
   "metadata": {},
   "outputs": [
    {
     "data": {
      "text/plain": [
       "[1, 2, 3, 4, 5, 6]"
      ]
     },
     "execution_count": 229,
     "metadata": {},
     "output_type": "execute_result"
    }
   ],
   "source": [
    "ids.append(6)\n",
    "ids"
   ]
  },
  {
   "cell_type": "code",
   "execution_count": 230,
   "id": "10f4c39b",
   "metadata": {},
   "outputs": [
    {
     "data": {
      "text/plain": [
       "{123: 'num 123',\n",
       " False: 'this is False',\n",
       " True: True,\n",
       " None: 'none type',\n",
       " (0, 1): ('tuple', 'value', 'abc'),\n",
       " 'name': 'Bob',\n",
       " 'ids': [1, 2, 3, 4, 5, 6],\n",
       " 'meta': {'foo': 'bar', 'fizz': 'buzz'}}"
      ]
     },
     "execution_count": 230,
     "metadata": {},
     "output_type": "execute_result"
    }
   ],
   "source": [
    "data_all"
   ]
  },
  {
   "cell_type": "code",
   "execution_count": 231,
   "id": "3d9da9a8",
   "metadata": {},
   "outputs": [
    {
     "data": {
      "text/plain": [
       "{'foo': 'bar', 'fizz': 'buzz'}"
      ]
     },
     "execution_count": 231,
     "metadata": {},
     "output_type": "execute_result"
    }
   ],
   "source": [
    "data_all['meta']"
   ]
  },
  {
   "cell_type": "code",
   "execution_count": 232,
   "id": "88259204",
   "metadata": {},
   "outputs": [
    {
     "data": {
      "text/plain": [
       "{123: 'num 123',\n",
       " False: 'this is False',\n",
       " True: True,\n",
       " None: 'none type',\n",
       " (0, 1): ('tuple', 'value', 'abc'),\n",
       " 'name': 'Bob',\n",
       " 'ids': [1, 2, 3, 4, 5, 6],\n",
       " 'meta': {'foo': 'bar', 'fizz': 'buzz', 'spam': 'eggs'}}"
      ]
     },
     "execution_count": 232,
     "metadata": {},
     "output_type": "execute_result"
    }
   ],
   "source": [
    "data_all['meta']['spam'] = 'eggs'\n",
    "data_all"
   ]
  },
  {
   "cell_type": "code",
   "execution_count": 233,
   "id": "995a7680",
   "metadata": {},
   "outputs": [],
   "source": [
    "foo = \"abc\""
   ]
  },
  {
   "cell_type": "code",
   "execution_count": 234,
   "id": "8d3f06b2",
   "metadata": {},
   "outputs": [
    {
     "data": {
      "text/plain": [
       "'abcqwe'"
      ]
     },
     "execution_count": 234,
     "metadata": {},
     "output_type": "execute_result"
    }
   ],
   "source": [
    "foo + \"qwe\""
   ]
  },
  {
   "cell_type": "code",
   "execution_count": 235,
   "id": "36e4264f",
   "metadata": {},
   "outputs": [
    {
     "data": {
      "text/plain": [
       "'abc'"
      ]
     },
     "execution_count": 235,
     "metadata": {},
     "output_type": "execute_result"
    }
   ],
   "source": [
    "foo"
   ]
  },
  {
   "cell_type": "code",
   "execution_count": 236,
   "id": "815203b2",
   "metadata": {},
   "outputs": [],
   "source": [
    "foo = foo + \"qwe\""
   ]
  },
  {
   "cell_type": "code",
   "execution_count": 237,
   "id": "922a826d",
   "metadata": {},
   "outputs": [
    {
     "data": {
      "text/plain": [
       "'abcqwe'"
      ]
     },
     "execution_count": 237,
     "metadata": {},
     "output_type": "execute_result"
    }
   ],
   "source": [
    "foo"
   ]
  },
  {
   "cell_type": "code",
   "execution_count": 238,
   "id": "7206be5e",
   "metadata": {},
   "outputs": [
    {
     "data": {
      "text/plain": [
       "{1, 2, 3}"
      ]
     },
     "execution_count": 238,
     "metadata": {},
     "output_type": "execute_result"
    }
   ],
   "source": [
    "{1, 2, 3}"
   ]
  },
  {
   "cell_type": "code",
   "execution_count": 239,
   "id": "17a35d68",
   "metadata": {},
   "outputs": [],
   "source": [
    "nums = {1, 2, 3}"
   ]
  },
  {
   "cell_type": "code",
   "execution_count": 240,
   "id": "11e86613",
   "metadata": {},
   "outputs": [],
   "source": [
    "nums.add(4)"
   ]
  },
  {
   "cell_type": "code",
   "execution_count": 241,
   "id": "51f18728",
   "metadata": {},
   "outputs": [
    {
     "data": {
      "text/plain": [
       "{1, 2, 3, 4}"
      ]
     },
     "execution_count": 241,
     "metadata": {},
     "output_type": "execute_result"
    }
   ],
   "source": [
    "nums"
   ]
  },
  {
   "cell_type": "code",
   "execution_count": 242,
   "id": "a6668c62",
   "metadata": {},
   "outputs": [],
   "source": [
    "nums.add(1)"
   ]
  },
  {
   "cell_type": "code",
   "execution_count": 243,
   "id": "d2d4b73c",
   "metadata": {},
   "outputs": [
    {
     "data": {
      "text/plain": [
       "{1, 2, 3, 4}"
      ]
     },
     "execution_count": 243,
     "metadata": {},
     "output_type": "execute_result"
    }
   ],
   "source": [
    "nums"
   ]
  },
  {
   "cell_type": "code",
   "execution_count": 244,
   "id": "60f6809d",
   "metadata": {},
   "outputs": [
    {
     "data": {
      "text/plain": [
       "set"
      ]
     },
     "execution_count": 244,
     "metadata": {},
     "output_type": "execute_result"
    }
   ],
   "source": [
    "type(nums)"
   ]
  },
  {
   "cell_type": "code",
   "execution_count": 245,
   "id": "40cda076",
   "metadata": {},
   "outputs": [
    {
     "data": {
      "text/plain": [
       "{1, 2, 3, 4}"
      ]
     },
     "execution_count": 245,
     "metadata": {},
     "output_type": "execute_result"
    }
   ],
   "source": [
    "nums"
   ]
  },
  {
   "cell_type": "code",
   "execution_count": 246,
   "id": "0dd3fe80",
   "metadata": {},
   "outputs": [
    {
     "data": {
      "text/plain": [
       "{1, 2, 'abc', 'qwe'}"
      ]
     },
     "execution_count": 246,
     "metadata": {},
     "output_type": "execute_result"
    }
   ],
   "source": [
    "random_values = {1, 2, \"abc\", \"qwe\"}\n",
    "random_values"
   ]
  },
  {
   "cell_type": "code",
   "execution_count": 247,
   "id": "3cedef18",
   "metadata": {},
   "outputs": [],
   "source": [
    "random_values.add(0)"
   ]
  },
  {
   "cell_type": "code",
   "execution_count": 248,
   "id": "24fd998a",
   "metadata": {},
   "outputs": [
    {
     "data": {
      "text/plain": [
       "{0, 1, 2, 'abc', 'qwe'}"
      ]
     },
     "execution_count": 248,
     "metadata": {},
     "output_type": "execute_result"
    }
   ],
   "source": [
    "random_values"
   ]
  },
  {
   "cell_type": "code",
   "execution_count": 249,
   "id": "c0c7858e",
   "metadata": {},
   "outputs": [],
   "source": [
    "random_values.add(\"a\")"
   ]
  },
  {
   "cell_type": "code",
   "execution_count": 250,
   "id": "3cefaac5",
   "metadata": {},
   "outputs": [
    {
     "data": {
      "text/plain": [
       "{0, 1, 2, 'a', 'abc', 'qwe'}"
      ]
     },
     "execution_count": 250,
     "metadata": {},
     "output_type": "execute_result"
    }
   ],
   "source": [
    "random_values"
   ]
  },
  {
   "cell_type": "code",
   "execution_count": 251,
   "id": "4ec2ca42",
   "metadata": {},
   "outputs": [
    {
     "data": {
      "text/plain": [
       "True"
      ]
     },
     "execution_count": 251,
     "metadata": {},
     "output_type": "execute_result"
    }
   ],
   "source": [
    "'a' in random_values"
   ]
  },
  {
   "cell_type": "code",
   "execution_count": 252,
   "id": "c4e70765",
   "metadata": {},
   "outputs": [
    {
     "data": {
      "text/plain": [
       "True"
      ]
     },
     "execution_count": 252,
     "metadata": {},
     "output_type": "execute_result"
    }
   ],
   "source": [
    "'abc' in random_values"
   ]
  },
  {
   "cell_type": "code",
   "execution_count": 253,
   "id": "2e9c2d07",
   "metadata": {},
   "outputs": [
    {
     "data": {
      "text/plain": [
       "False"
      ]
     },
     "execution_count": 253,
     "metadata": {},
     "output_type": "execute_result"
    }
   ],
   "source": [
    "'foo' in random_values"
   ]
  },
  {
   "cell_type": "code",
   "execution_count": 254,
   "id": "ba13ddc2",
   "metadata": {},
   "outputs": [
    {
     "data": {
      "text/plain": [
       "True"
      ]
     },
     "execution_count": 254,
     "metadata": {},
     "output_type": "execute_result"
    }
   ],
   "source": [
    "0 in random_values"
   ]
  },
  {
   "cell_type": "code",
   "execution_count": 255,
   "id": "0839982c",
   "metadata": {},
   "outputs": [
    {
     "data": {
      "text/plain": [
       "False"
      ]
     },
     "execution_count": 255,
     "metadata": {},
     "output_type": "execute_result"
    }
   ],
   "source": [
    "'0' in random_values"
   ]
  },
  {
   "cell_type": "code",
   "execution_count": 256,
   "id": "87356133",
   "metadata": {},
   "outputs": [
    {
     "data": {
      "text/plain": [
       "{'name': 'Sam White', 'email': 'sam@example.com'}"
      ]
     },
     "execution_count": 256,
     "metadata": {},
     "output_type": "execute_result"
    }
   ],
   "source": [
    "data"
   ]
  },
  {
   "cell_type": "code",
   "execution_count": 257,
   "id": "78227bcb",
   "metadata": {},
   "outputs": [
    {
     "data": {
      "text/plain": [
       "True"
      ]
     },
     "execution_count": 257,
     "metadata": {},
     "output_type": "execute_result"
    }
   ],
   "source": [
    "'name' in data"
   ]
  },
  {
   "cell_type": "code",
   "execution_count": 258,
   "id": "15de9858",
   "metadata": {},
   "outputs": [
    {
     "data": {
      "text/plain": [
       "{123: 'num 123',\n",
       " False: 'this is False',\n",
       " True: True,\n",
       " None: 'none type',\n",
       " (0, 1): ('tuple', 'value', 'abc'),\n",
       " 'name': 'Bob',\n",
       " 'ids': [1, 2, 3, 4, 5, 6],\n",
       " 'meta': {'foo': 'bar', 'fizz': 'buzz', 'spam': 'eggs'}}"
      ]
     },
     "execution_count": 258,
     "metadata": {},
     "output_type": "execute_result"
    }
   ],
   "source": [
    "data_all"
   ]
  },
  {
   "cell_type": "code",
   "execution_count": 259,
   "id": "e157221d",
   "metadata": {},
   "outputs": [
    {
     "data": {
      "text/plain": [
       "True"
      ]
     },
     "execution_count": 259,
     "metadata": {},
     "output_type": "execute_result"
    }
   ],
   "source": [
    "'name' in data_all"
   ]
  },
  {
   "cell_type": "code",
   "execution_count": 260,
   "id": "056ac75d",
   "metadata": {},
   "outputs": [
    {
     "data": {
      "text/plain": [
       "False"
      ]
     },
     "execution_count": 260,
     "metadata": {},
     "output_type": "execute_result"
    }
   ],
   "source": [
    "'Bob' in data_all"
   ]
  },
  {
   "cell_type": "code",
   "execution_count": 261,
   "id": "464e4335",
   "metadata": {},
   "outputs": [
    {
     "data": {
      "text/plain": [
       "{1, 2, 3, 4}"
      ]
     },
     "execution_count": 261,
     "metadata": {},
     "output_type": "execute_result"
    }
   ],
   "source": [
    "nums"
   ]
  },
  {
   "cell_type": "code",
   "execution_count": 262,
   "id": "4c9d3efe",
   "metadata": {},
   "outputs": [],
   "source": [
    "nums.remove(1)"
   ]
  },
  {
   "cell_type": "code",
   "execution_count": 263,
   "id": "bc5c8a4d",
   "metadata": {},
   "outputs": [
    {
     "data": {
      "text/plain": [
       "{2, 3, 4}"
      ]
     },
     "execution_count": 263,
     "metadata": {},
     "output_type": "execute_result"
    }
   ],
   "source": [
    "nums"
   ]
  },
  {
   "cell_type": "code",
   "execution_count": 264,
   "id": "c20c939d",
   "metadata": {},
   "outputs": [],
   "source": [
    "nums.remove(2)"
   ]
  },
  {
   "cell_type": "code",
   "execution_count": 265,
   "id": "0064574c",
   "metadata": {},
   "outputs": [
    {
     "data": {
      "text/plain": [
       "{3, 4}"
      ]
     },
     "execution_count": 265,
     "metadata": {},
     "output_type": "execute_result"
    }
   ],
   "source": [
    "nums"
   ]
  },
  {
   "cell_type": "code",
   "execution_count": null,
   "id": "ac960d84",
   "metadata": {},
   "outputs": [],
   "source": []
  }
 ],
 "metadata": {
  "kernelspec": {
   "display_name": "Python 3 (ipykernel)",
   "language": "python",
   "name": "python3"
  },
  "language_info": {
   "codemirror_mode": {
    "name": "ipython",
    "version": 3
   },
   "file_extension": ".py",
   "mimetype": "text/x-python",
   "name": "python",
   "nbconvert_exporter": "python",
   "pygments_lexer": "ipython3",
   "version": "3.11.2"
  }
 },
 "nbformat": 4,
 "nbformat_minor": 5
}
