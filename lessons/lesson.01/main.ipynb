{
  "metadata": {
    "kernelspec": {
      "name": "python",
      "display_name": "Python (Pyodide)",
      "language": "python"
    },
    "language_info": {
      "codemirror_mode": {
        "name": "python",
        "version": 3
      },
      "file_extension": ".py",
      "mimetype": "text/x-python",
      "name": "python",
      "nbconvert_exporter": "python",
      "pygments_lexer": "ipython3",
      "version": "3.8"
    }
  },
  "nbformat_minor": 5,
  "nbformat": 4,
  "cells": [
    {
      "id": "0beca751-b79a-4369-8b81-a2d48548554a",
      "cell_type": "code",
      "source": "print(\"Hello World!\")",
      "metadata": {
        "trusted": true
      },
      "outputs": [
        {
          "name": "stdout",
          "output_type": "stream",
          "text": "Hello World!\n"
        }
      ],
      "execution_count": 1
    },
    {
      "id": "c7b65615-bcb3-49f0-892f-4d7c237ec021",
      "cell_type": "code",
      "source": "print('Hello World!')",
      "metadata": {
        "trusted": true
      },
      "outputs": [
        {
          "name": "stdout",
          "output_type": "stream",
          "text": "Hello World!\n"
        }
      ],
      "execution_count": 2
    },
    {
      "id": "4577f51f-ec65-4fd9-9a8a-5f7fc2282385",
      "cell_type": "code",
      "source": "print(42)",
      "metadata": {
        "trusted": true
      },
      "outputs": [
        {
          "name": "stdout",
          "output_type": "stream",
          "text": "42\n"
        }
      ],
      "execution_count": 3
    },
    {
      "id": "95f5c4da-36ef-4086-ac21-dbfc6e1af254",
      "cell_type": "code",
      "source": "print(\"42\")",
      "metadata": {
        "trusted": true
      },
      "outputs": [
        {
          "name": "stdout",
          "output_type": "stream",
          "text": "42\n"
        }
      ],
      "execution_count": 4
    },
    {
      "id": "6fc45ec4-b1bf-4bf7-a4cd-68f870096c54",
      "cell_type": "code",
      "source": "print(\"hello\", 42)",
      "metadata": {
        "trusted": true
      },
      "outputs": [
        {
          "name": "stdout",
          "output_type": "stream",
          "text": "hello 42\n"
        }
      ],
      "execution_count": 5
    },
    {
      "id": "92fff184-5528-43e0-9975-692237705f90",
      "cell_type": "code",
      "source": "print(1 + 2)",
      "metadata": {
        "trusted": true
      },
      "outputs": [
        {
          "name": "stdout",
          "output_type": "stream",
          "text": "3\n"
        }
      ],
      "execution_count": 6
    },
    {
      "id": "b4bef833-9604-4579-82d9-d525cf57fadb",
      "cell_type": "code",
      "source": "1 + 2",
      "metadata": {
        "trusted": true
      },
      "outputs": [
        {
          "execution_count": 7,
          "output_type": "execute_result",
          "data": {
            "text/plain": "3"
          },
          "metadata": {}
        }
      ],
      "execution_count": 7
    },
    {
      "id": "d274cfa3-66e1-4b88-b742-4ae591ec3c14",
      "cell_type": "code",
      "source": "print(1 + 2)\n3 + 4",
      "metadata": {
        "trusted": true
      },
      "outputs": [
        {
          "name": "stdout",
          "output_type": "stream",
          "text": "3\n"
        },
        {
          "execution_count": 8,
          "output_type": "execute_result",
          "data": {
            "text/plain": "7"
          },
          "metadata": {}
        }
      ],
      "execution_count": 8
    },
    {
      "id": "0161a034-d14b-42e5-8d89-7ae0aab795f1",
      "cell_type": "code",
      "source": "foo = 2 + 3",
      "metadata": {
        "trusted": true
      },
      "outputs": [],
      "execution_count": 9
    },
    {
      "id": "b0827488-702e-4565-941b-5cbc9b47d639",
      "cell_type": "code",
      "source": "2 + 3",
      "metadata": {
        "trusted": true
      },
      "outputs": [
        {
          "execution_count": 10,
          "output_type": "execute_result",
          "data": {
            "text/plain": "5"
          },
          "metadata": {}
        }
      ],
      "execution_count": 10
    },
    {
      "id": "8abd96a8-b631-4ef4-8a1b-c886c3f517ac",
      "cell_type": "code",
      "source": "foo",
      "metadata": {
        "trusted": true
      },
      "outputs": [
        {
          "execution_count": 11,
          "output_type": "execute_result",
          "data": {
            "text/plain": "5"
          },
          "metadata": {}
        }
      ],
      "execution_count": 11
    },
    {
      "id": "b208c65d-aa62-4d4a-99d0-e7da0aad567d",
      "cell_type": "code",
      "source": "1 == 2",
      "metadata": {
        "trusted": true
      },
      "outputs": [
        {
          "execution_count": 12,
          "output_type": "execute_result",
          "data": {
            "text/plain": "False"
          },
          "metadata": {}
        }
      ],
      "execution_count": 12
    },
    {
      "id": "efc5e92e-9856-4e6a-aab2-2574334e965c",
      "cell_type": "code",
      "source": "1 == 1",
      "metadata": {
        "trusted": true
      },
      "outputs": [
        {
          "execution_count": 13,
          "output_type": "execute_result",
          "data": {
            "text/plain": "True"
          },
          "metadata": {}
        }
      ],
      "execution_count": 13
    },
    {
      "id": "523ec8be-4c5b-411a-a1a3-453482978c78",
      "cell_type": "code",
      "source": "'hello' == \"hello\"",
      "metadata": {
        "trusted": true
      },
      "outputs": [
        {
          "execution_count": 14,
          "output_type": "execute_result",
          "data": {
            "text/plain": "True"
          },
          "metadata": {}
        }
      ],
      "execution_count": 14
    },
    {
      "id": "067e65ad-f823-4195-9f3e-be71ad70cdd5",
      "cell_type": "code",
      "source": "\"Hi, it's me\"",
      "metadata": {
        "trusted": true
      },
      "outputs": [
        {
          "execution_count": 15,
          "output_type": "execute_result",
          "data": {
            "text/plain": "\"Hi, it's me\""
          },
          "metadata": {}
        }
      ],
      "execution_count": 15
    },
    {
      "id": "1d97db8b-e5d1-4284-8196-cb77a3db65c4",
      "cell_type": "code",
      "source": "\"it's\" == 'it\\'s'",
      "metadata": {
        "trusted": true
      },
      "outputs": [
        {
          "execution_count": 16,
          "output_type": "execute_result",
          "data": {
            "text/plain": "True"
          },
          "metadata": {}
        }
      ],
      "execution_count": 16
    },
    {
      "id": "5c0bf613-aedf-4ce9-9490-1f3be347eb03",
      "cell_type": "code",
      "source": "'it\\'s'",
      "metadata": {
        "trusted": true
      },
      "outputs": [
        {
          "execution_count": 17,
          "output_type": "execute_result",
          "data": {
            "text/plain": "\"it's\""
          },
          "metadata": {}
        }
      ],
      "execution_count": 17
    },
    {
      "id": "cf334141-747e-46d4-b62c-0307b8d51370",
      "cell_type": "code",
      "source": "\"it's\" == '''it's'''",
      "metadata": {
        "trusted": true
      },
      "outputs": [
        {
          "execution_count": 18,
          "output_type": "execute_result",
          "data": {
            "text/plain": "True"
          },
          "metadata": {}
        }
      ],
      "execution_count": 18
    },
    {
      "id": "5a60c2b6-5ddb-491c-922f-509b28c85da9",
      "cell_type": "code",
      "source": "'''hello\nit's me.'''",
      "metadata": {
        "trusted": true
      },
      "outputs": [
        {
          "execution_count": 19,
          "output_type": "execute_result",
          "data": {
            "text/plain": "\"hello\\nit's me.\""
          },
          "metadata": {}
        }
      ],
      "execution_count": 19
    },
    {
      "id": "592e2355-45fd-4cfd-af64-a5e778dcd42f",
      "cell_type": "code",
      "source": "print('''hello\nit's me.''')",
      "metadata": {
        "trusted": true
      },
      "outputs": [
        {
          "name": "stdout",
          "output_type": "stream",
          "text": "hello\nit's me.\n"
        }
      ],
      "execution_count": 20
    },
    {
      "id": "05904362-0495-4787-86dc-d882b127fde7",
      "cell_type": "code",
      "source": "print(\"hello\\nit's me.\")",
      "metadata": {
        "trusted": true
      },
      "outputs": [
        {
          "name": "stdout",
          "output_type": "stream",
          "text": "hello\nit's me.\n"
        }
      ],
      "execution_count": 21
    },
    {
      "id": "141ed2c2-13d8-4399-b5d9-d079e06f807d",
      "cell_type": "code",
      "source": "print(\"hello\\\\nit's me.\")",
      "metadata": {
        "trusted": true
      },
      "outputs": [
        {
          "name": "stdout",
          "output_type": "stream",
          "text": "hello\\nit's me.\n"
        }
      ],
      "execution_count": 22
    },
    {
      "id": "b202af2d-35db-4e41-94d7-7272459c2759",
      "cell_type": "code",
      "source": "print(r\"hello\\nit's me.\")",
      "metadata": {
        "trusted": true
      },
      "outputs": [
        {
          "name": "stdout",
          "output_type": "stream",
          "text": "hello\\nit's me.\n"
        }
      ],
      "execution_count": 23
    },
    {
      "id": "b936553e-6648-48ba-9ce7-37cb77febeee",
      "cell_type": "code",
      "source": "'a' == 'A'",
      "metadata": {
        "trusted": true
      },
      "outputs": [
        {
          "execution_count": 24,
          "output_type": "execute_result",
          "data": {
            "text/plain": "False"
          },
          "metadata": {}
        }
      ],
      "execution_count": 24
    },
    {
      "id": "53f27264-8b18-469a-8dcc-e5b52422280f",
      "cell_type": "code",
      "source": "'g' == 'G'",
      "metadata": {
        "trusted": true
      },
      "outputs": [
        {
          "execution_count": 25,
          "output_type": "execute_result",
          "data": {
            "text/plain": "False"
          },
          "metadata": {}
        }
      ],
      "execution_count": 25
    },
    {
      "id": "c8f333ac-b227-4d11-9ce4-f2edc56f13c5",
      "cell_type": "code",
      "source": "'g' == 'g'",
      "metadata": {
        "trusted": true
      },
      "outputs": [
        {
          "execution_count": 26,
          "output_type": "execute_result",
          "data": {
            "text/plain": "True"
          },
          "metadata": {}
        }
      ],
      "execution_count": 26
    },
    {
      "id": "43a092d5-c91d-400a-88f0-805445958506",
      "cell_type": "code",
      "source": "3 > 2",
      "metadata": {
        "trusted": true
      },
      "outputs": [
        {
          "execution_count": 27,
          "output_type": "execute_result",
          "data": {
            "text/plain": "True"
          },
          "metadata": {}
        }
      ],
      "execution_count": 27
    },
    {
      "id": "6b18f88e-e821-48f6-9a60-5a00d18fb95c",
      "cell_type": "code",
      "source": "1 < 2 < 3",
      "metadata": {
        "trusted": true
      },
      "outputs": [
        {
          "execution_count": 28,
          "output_type": "execute_result",
          "data": {
            "text/plain": "True"
          },
          "metadata": {}
        }
      ],
      "execution_count": 28
    },
    {
      "id": "81cee001-19a7-4c89-8b07-5f1f2471ff04",
      "cell_type": "code",
      "source": "2 > 1 < 0",
      "metadata": {
        "trusted": true
      },
      "outputs": [
        {
          "execution_count": 29,
          "output_type": "execute_result",
          "data": {
            "text/plain": "False"
          },
          "metadata": {}
        }
      ],
      "execution_count": 29
    },
    {
      "id": "cdb198e4-7ab4-489e-adbc-37085133a0dd",
      "cell_type": "code",
      "source": "2 > 1 < 3",
      "metadata": {
        "trusted": true
      },
      "outputs": [
        {
          "execution_count": 30,
          "output_type": "execute_result",
          "data": {
            "text/plain": "True"
          },
          "metadata": {}
        }
      ],
      "execution_count": 30
    },
    {
      "id": "580e7f8f-77e0-4591-a847-dc41feb80605",
      "cell_type": "code",
      "source": "1 > 0 > 0",
      "metadata": {
        "trusted": true
      },
      "outputs": [
        {
          "execution_count": 31,
          "output_type": "execute_result",
          "data": {
            "text/plain": "False"
          },
          "metadata": {}
        }
      ],
      "execution_count": 31
    },
    {
      "id": "403dd48c-f6ea-4031-8e3b-93639782a1b6",
      "cell_type": "code",
      "source": "0 > 0",
      "metadata": {
        "trusted": true
      },
      "outputs": [
        {
          "execution_count": 32,
          "output_type": "execute_result",
          "data": {
            "text/plain": "False"
          },
          "metadata": {}
        }
      ],
      "execution_count": 32
    },
    {
      "id": "6f85f89f-5dd2-4a44-940f-13e8d4808b11",
      "cell_type": "code",
      "source": "1 > 0",
      "metadata": {
        "trusted": true
      },
      "outputs": [
        {
          "execution_count": 33,
          "output_type": "execute_result",
          "data": {
            "text/plain": "True"
          },
          "metadata": {}
        }
      ],
      "execution_count": 33
    },
    {
      "id": "149a132b-f683-4759-80fa-7e37f22f7749",
      "cell_type": "code",
      "source": "1 > 0 and 2 > 1",
      "metadata": {
        "trusted": true
      },
      "outputs": [
        {
          "execution_count": 34,
          "output_type": "execute_result",
          "data": {
            "text/plain": "True"
          },
          "metadata": {}
        }
      ],
      "execution_count": 34
    },
    {
      "id": "d65fcf3c-08bd-4ca6-8b3e-c37bb55c21e7",
      "cell_type": "code",
      "source": "False",
      "metadata": {
        "trusted": true
      },
      "outputs": [
        {
          "execution_count": 35,
          "output_type": "execute_result",
          "data": {
            "text/plain": "False"
          },
          "metadata": {}
        }
      ],
      "execution_count": 35
    },
    {
      "id": "4ca99f7d-3b36-4632-afe6-9ac949d37042",
      "cell_type": "code",
      "source": "True",
      "metadata": {
        "trusted": true
      },
      "outputs": [
        {
          "execution_count": 36,
          "output_type": "execute_result",
          "data": {
            "text/plain": "True"
          },
          "metadata": {}
        }
      ],
      "execution_count": 36
    },
    {
      "id": "ccd639b2-1cd2-4d9a-870b-7ed68be1f512",
      "cell_type": "code",
      "source": "True == 1",
      "metadata": {
        "trusted": true
      },
      "outputs": [
        {
          "execution_count": 37,
          "output_type": "execute_result",
          "data": {
            "text/plain": "True"
          },
          "metadata": {}
        }
      ],
      "execution_count": 37
    },
    {
      "id": "99c70072-e03d-467c-aeb8-2dd3079c56ea",
      "cell_type": "code",
      "source": "False == 0",
      "metadata": {
        "trusted": true
      },
      "outputs": [
        {
          "execution_count": 38,
          "output_type": "execute_result",
          "data": {
            "text/plain": "True"
          },
          "metadata": {}
        }
      ],
      "execution_count": 38
    },
    {
      "id": "5ae09ccf-daa7-43bb-871b-e9f8a4f71ac1",
      "cell_type": "code",
      "source": "False + True",
      "metadata": {
        "trusted": true
      },
      "outputs": [
        {
          "execution_count": 39,
          "output_type": "execute_result",
          "data": {
            "text/plain": "1"
          },
          "metadata": {}
        }
      ],
      "execution_count": 39
    },
    {
      "id": "3a09ff8b-2138-49d1-8a10-920ea8a75b1e",
      "cell_type": "code",
      "source": "True + True",
      "metadata": {
        "trusted": true
      },
      "outputs": [
        {
          "execution_count": 40,
          "output_type": "execute_result",
          "data": {
            "text/plain": "2"
          },
          "metadata": {}
        }
      ],
      "execution_count": 40
    },
    {
      "id": "54ac2184-2720-4d95-afdc-74664114dfbb",
      "cell_type": "code",
      "source": "True and True",
      "metadata": {
        "trusted": true
      },
      "outputs": [
        {
          "execution_count": 41,
          "output_type": "execute_result",
          "data": {
            "text/plain": "True"
          },
          "metadata": {}
        }
      ],
      "execution_count": 41
    },
    {
      "id": "30c4b9ca-acb3-4c48-963b-c6ebe0d01d85",
      "cell_type": "code",
      "source": "True or True",
      "metadata": {
        "trusted": true
      },
      "outputs": [
        {
          "execution_count": 42,
          "output_type": "execute_result",
          "data": {
            "text/plain": "True"
          },
          "metadata": {}
        }
      ],
      "execution_count": 42
    },
    {
      "id": "bf7ab310-78a4-41a4-9f66-03d0ea79668c",
      "cell_type": "code",
      "source": "True or False",
      "metadata": {
        "trusted": true
      },
      "outputs": [
        {
          "execution_count": 43,
          "output_type": "execute_result",
          "data": {
            "text/plain": "True"
          },
          "metadata": {}
        }
      ],
      "execution_count": 43
    },
    {
      "id": "73b28c89-d489-4600-908d-111b351063f7",
      "cell_type": "code",
      "source": "True and False",
      "metadata": {
        "trusted": true
      },
      "outputs": [
        {
          "execution_count": 44,
          "output_type": "execute_result",
          "data": {
            "text/plain": "False"
          },
          "metadata": {}
        }
      ],
      "execution_count": 44
    },
    {
      "id": "366c6573-3fca-4339-bdd5-1937c57c051a",
      "cell_type": "code",
      "source": "11 * 3",
      "metadata": {
        "trusted": true
      },
      "outputs": [
        {
          "execution_count": 45,
          "output_type": "execute_result",
          "data": {
            "text/plain": "33"
          },
          "metadata": {}
        }
      ],
      "execution_count": 45
    },
    {
      "id": "88c78661-d10c-48d7-a3e0-79d55dbc08d9",
      "cell_type": "code",
      "source": "2**3",
      "metadata": {
        "trusted": true
      },
      "outputs": [
        {
          "execution_count": 46,
          "output_type": "execute_result",
          "data": {
            "text/plain": "8"
          },
          "metadata": {}
        }
      ],
      "execution_count": 46
    },
    {
      "id": "a10c77f0-6c00-4d23-b3bb-f14272f34b69",
      "cell_type": "code",
      "source": "10 / 4",
      "metadata": {
        "trusted": true
      },
      "outputs": [
        {
          "execution_count": 47,
          "output_type": "execute_result",
          "data": {
            "text/plain": "2.5"
          },
          "metadata": {}
        }
      ],
      "execution_count": 47
    },
    {
      "id": "cf832e6d-869a-49a7-9180-43101ac7c532",
      "cell_type": "code",
      "source": "7 / 2",
      "metadata": {
        "trusted": true
      },
      "outputs": [
        {
          "execution_count": 48,
          "output_type": "execute_result",
          "data": {
            "text/plain": "3.5"
          },
          "metadata": {}
        }
      ],
      "execution_count": 48
    },
    {
      "id": "4ba75f62-e4f3-45a6-b94d-28e4cf083dd2",
      "cell_type": "code",
      "source": "10 / 2",
      "metadata": {
        "trusted": true
      },
      "outputs": [
        {
          "execution_count": 49,
          "output_type": "execute_result",
          "data": {
            "text/plain": "5.0"
          },
          "metadata": {}
        }
      ],
      "execution_count": 49
    },
    {
      "id": "0fc8beea-a956-456c-8d55-310ad28bc7db",
      "cell_type": "code",
      "source": "10 // 2",
      "metadata": {
        "trusted": true
      },
      "outputs": [
        {
          "execution_count": 50,
          "output_type": "execute_result",
          "data": {
            "text/plain": "5"
          },
          "metadata": {}
        }
      ],
      "execution_count": 50
    },
    {
      "id": "6643d113-a0bd-4854-9bb2-9f0037677f48",
      "cell_type": "code",
      "source": "7 // 2",
      "metadata": {
        "trusted": true
      },
      "outputs": [
        {
          "execution_count": 51,
          "output_type": "execute_result",
          "data": {
            "text/plain": "3"
          },
          "metadata": {}
        }
      ],
      "execution_count": 51
    },
    {
      "id": "82f29b33-abf7-4fe2-b011-8b1df8aaf268",
      "cell_type": "code",
      "source": "19 / 10",
      "metadata": {
        "trusted": true
      },
      "outputs": [
        {
          "execution_count": 52,
          "output_type": "execute_result",
          "data": {
            "text/plain": "1.9"
          },
          "metadata": {}
        }
      ],
      "execution_count": 52
    },
    {
      "id": "6631713e-4f60-4af6-acc0-ffe663c9ddba",
      "cell_type": "code",
      "source": "19 // 10",
      "metadata": {
        "trusted": true
      },
      "outputs": [
        {
          "execution_count": 53,
          "output_type": "execute_result",
          "data": {
            "text/plain": "1"
          },
          "metadata": {}
        }
      ],
      "execution_count": 53
    },
    {
      "id": "f2ceb020-09d4-43c2-a677-f84b115f28d6",
      "cell_type": "code",
      "source": "7 % 2",
      "metadata": {
        "trusted": true
      },
      "outputs": [
        {
          "execution_count": 54,
          "output_type": "execute_result",
          "data": {
            "text/plain": "1"
          },
          "metadata": {}
        }
      ],
      "execution_count": 54
    },
    {
      "id": "c577c570-91a2-4a0a-93ea-f94bec5d74b2",
      "cell_type": "code",
      "source": "19 % 10",
      "metadata": {
        "trusted": true
      },
      "outputs": [
        {
          "execution_count": 55,
          "output_type": "execute_result",
          "data": {
            "text/plain": "9"
          },
          "metadata": {}
        }
      ],
      "execution_count": 55
    },
    {
      "id": "48f5a96e-6a48-400a-9a89-4c30363d99b6",
      "cell_type": "code",
      "source": "0.5 + 1.5",
      "metadata": {
        "trusted": true
      },
      "outputs": [
        {
          "execution_count": 56,
          "output_type": "execute_result",
          "data": {
            "text/plain": "2.0"
          },
          "metadata": {}
        }
      ],
      "execution_count": 56
    },
    {
      "id": "0c6292ad-7eb4-4854-a0db-b28bed245264",
      "cell_type": "code",
      "source": "1.4 + 0.8",
      "metadata": {
        "trusted": true
      },
      "outputs": [
        {
          "execution_count": 57,
          "output_type": "execute_result",
          "data": {
            "text/plain": "2.2"
          },
          "metadata": {}
        }
      ],
      "execution_count": 57
    },
    {
      "id": "0c12256c-e6b8-4dbe-854e-60715e4e2406",
      "cell_type": "code",
      "source": "0.1 + 0.2 == 0.3",
      "metadata": {
        "trusted": true
      },
      "outputs": [
        {
          "execution_count": 58,
          "output_type": "execute_result",
          "data": {
            "text/plain": "False"
          },
          "metadata": {}
        }
      ],
      "execution_count": 58
    },
    {
      "id": "6ec0514e-e461-4d95-8b01-a55972de75c9",
      "cell_type": "code",
      "source": "0.1 + 0.2",
      "metadata": {
        "trusted": true
      },
      "outputs": [
        {
          "execution_count": 59,
          "output_type": "execute_result",
          "data": {
            "text/plain": "0.30000000000000004"
          },
          "metadata": {}
        }
      ],
      "execution_count": 59
    },
    {
      "id": "5f4e971b-c8da-479b-9c0b-1541b7345db5",
      "cell_type": "code",
      "source": "1 + 2",
      "metadata": {
        "trusted": true
      },
      "outputs": [
        {
          "execution_count": 60,
          "output_type": "execute_result",
          "data": {
            "text/plain": "3"
          },
          "metadata": {}
        }
      ],
      "execution_count": 60
    },
    {
      "id": "5426cb90-f880-4efd-a64c-e9766ef9d638",
      "cell_type": "code",
      "source": "",
      "metadata": {
        "trusted": true
      },
      "outputs": [],
      "execution_count": null
    }
  ]
}