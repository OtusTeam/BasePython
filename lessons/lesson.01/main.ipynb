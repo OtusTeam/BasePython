{
 "cells": [
  {
   "cell_type": "code",
   "execution_count": 1,
   "id": "6a6d2c09-4194-43de-bc1c-96d6655ac8c2",
   "metadata": {},
   "outputs": [
    {
     "name": "stdout",
     "output_type": "stream",
     "text": [
      "Hello world!\n"
     ]
    }
   ],
   "source": [
    "print(\"Hello world!\")"
   ]
  },
  {
   "cell_type": "code",
   "execution_count": 2,
   "id": "4ad3ebd0-88a4-4df2-84ac-5430bf9605c5",
   "metadata": {},
   "outputs": [
    {
     "name": "stdout",
     "output_type": "stream",
     "text": [
      "\n"
     ]
    }
   ],
   "source": [
    "print()"
   ]
  },
  {
   "cell_type": "code",
   "execution_count": 3,
   "id": "7b3316aa-6aa8-4156-a2f3-a11a010fba8b",
   "metadata": {},
   "outputs": [
    {
     "name": "stdout",
     "output_type": "stream",
     "text": [
      "hello world\n"
     ]
    }
   ],
   "source": [
    "print(\"hello\", 'world')"
   ]
  },
  {
   "cell_type": "code",
   "execution_count": 4,
   "id": "7fe60c3d-a559-4443-9308-1e633b45532b",
   "metadata": {},
   "outputs": [
    {
     "name": "stdout",
     "output_type": "stream",
     "text": [
      "Hello, it's me\n"
     ]
    }
   ],
   "source": [
    "print(\"Hello, it's me\")"
   ]
  },
  {
   "cell_type": "code",
   "execution_count": 5,
   "id": "e6452f21-89f3-4818-a67e-aa75a64c8c1f",
   "metadata": {},
   "outputs": [
    {
     "name": "stdout",
     "output_type": "stream",
     "text": [
      "1 is \"one\", 2 is \"two\"\n"
     ]
    }
   ],
   "source": [
    "print('1 is \"one\", 2 is \"two\"')"
   ]
  },
  {
   "cell_type": "code",
   "execution_count": 6,
   "id": "d5157a44-3229-4d76-87f2-cb70e1fe2990",
   "metadata": {},
   "outputs": [
    {
     "name": "stdout",
     "output_type": "stream",
     "text": [
      "Hello, it's me\n"
     ]
    }
   ],
   "source": [
    "print('Hello, it\\'s me')"
   ]
  },
  {
   "cell_type": "code",
   "execution_count": 7,
   "id": "5b2b4184-cfd6-4ec1-8ffd-01477cbd82dc",
   "metadata": {},
   "outputs": [
    {
     "name": "stdout",
     "output_type": "stream",
     "text": [
      "It's me, my nick is \"bob\"\n"
     ]
    }
   ],
   "source": [
    "print('It\\'s me, my nick is \"bob\"')"
   ]
  },
  {
   "cell_type": "code",
   "execution_count": 8,
   "id": "e7a655ab-8a00-41f1-a635-c67b78dae2ff",
   "metadata": {},
   "outputs": [
    {
     "name": "stdout",
     "output_type": "stream",
     "text": [
      "It's me, my nick is \"bob\"\n"
     ]
    }
   ],
   "source": [
    "print('''It's me, my nick is \"bob\"''')"
   ]
  },
  {
   "cell_type": "code",
   "execution_count": 9,
   "id": "33104987-4a75-4179-872c-8135b5d01d54",
   "metadata": {},
   "outputs": [
    {
     "name": "stdout",
     "output_type": "stream",
     "text": [
      "my nick is \"bob\", it's me\n"
     ]
    }
   ],
   "source": [
    "print(\"\"\"my nick is \"bob\", it's me\"\"\")"
   ]
  },
  {
   "cell_type": "code",
   "execution_count": 10,
   "id": "38d0ac54-e7e6-42db-b2ab-0c8cc0e156b6",
   "metadata": {},
   "outputs": [
    {
     "name": "stdout",
     "output_type": "stream",
     "text": [
      "hello\n",
      "line two\n",
      "line three\n"
     ]
    }
   ],
   "source": [
    "print('''hello\n",
    "line two\n",
    "line three''')"
   ]
  },
  {
   "cell_type": "code",
   "execution_count": 11,
   "id": "705662b0-760e-4da8-bc59-6bb6244a8f4c",
   "metadata": {},
   "outputs": [
    {
     "data": {
      "text/plain": [
       "'hello'"
      ]
     },
     "execution_count": 11,
     "metadata": {},
     "output_type": "execute_result"
    }
   ],
   "source": [
    "'hello'"
   ]
  },
  {
   "cell_type": "code",
   "execution_count": 12,
   "id": "8cbab6d1-8c3c-4bac-987b-52d99a81d49a",
   "metadata": {},
   "outputs": [
    {
     "data": {
      "text/plain": [
       "'b'"
      ]
     },
     "execution_count": 12,
     "metadata": {},
     "output_type": "execute_result"
    }
   ],
   "source": [
    "'a'\n",
    "'b'"
   ]
  },
  {
   "cell_type": "code",
   "execution_count": 13,
   "id": "d7e0b1a3-87ef-4a30-a5d0-e22a76bba944",
   "metadata": {},
   "outputs": [
    {
     "name": "stdout",
     "output_type": "stream",
     "text": [
      "a\n",
      "b\n"
     ]
    }
   ],
   "source": [
    "print('a')\n",
    "print('b')"
   ]
  },
  {
   "cell_type": "code",
   "execution_count": 14,
   "id": "e7aa2f35-df30-499b-ba19-070901edda2d",
   "metadata": {},
   "outputs": [
    {
     "data": {
      "text/plain": [
       "'hello'"
      ]
     },
     "execution_count": 14,
     "metadata": {},
     "output_type": "execute_result"
    }
   ],
   "source": [
    "\"hello\""
   ]
  },
  {
   "cell_type": "code",
   "execution_count": 15,
   "id": "3cb6bc1c-b3f9-4ef8-ac6c-fd9422c129f0",
   "metadata": {},
   "outputs": [
    {
     "data": {
      "text/plain": [
       "\"it's me\""
      ]
     },
     "execution_count": 15,
     "metadata": {},
     "output_type": "execute_result"
    }
   ],
   "source": [
    "'it\\'s me'"
   ]
  },
  {
   "cell_type": "code",
   "execution_count": 16,
   "id": "704b6428-4a36-40a6-9fd2-ef9638bdfd32",
   "metadata": {},
   "outputs": [
    {
     "data": {
      "text/plain": [
       "\"it's me\""
      ]
     },
     "execution_count": 16,
     "metadata": {},
     "output_type": "execute_result"
    }
   ],
   "source": [
    "\"it's me\""
   ]
  },
  {
   "cell_type": "code",
   "execution_count": 17,
   "id": "1b5bc18a-552d-400d-a60c-a2edf14c6717",
   "metadata": {},
   "outputs": [
    {
     "data": {
      "text/plain": [
       "True"
      ]
     },
     "execution_count": 17,
     "metadata": {},
     "output_type": "execute_result"
    }
   ],
   "source": [
    "\"it's me\" == 'it\\'s me'"
   ]
  },
  {
   "cell_type": "code",
   "execution_count": 18,
   "id": "c3e2abad-bcd4-4960-aa7d-4ae77398ed0d",
   "metadata": {},
   "outputs": [
    {
     "data": {
      "text/plain": [
       "False"
      ]
     },
     "execution_count": 18,
     "metadata": {},
     "output_type": "execute_result"
    }
   ],
   "source": [
    "1 == 0"
   ]
  },
  {
   "cell_type": "code",
   "execution_count": 19,
   "id": "91e7a984-8c13-4ee1-9bbd-ba07e09f802a",
   "metadata": {},
   "outputs": [
    {
     "data": {
      "text/plain": [
       "'my nick is \"bob\", it\\'s me'"
      ]
     },
     "execution_count": 19,
     "metadata": {},
     "output_type": "execute_result"
    }
   ],
   "source": [
    "\"\"\"my nick is \"bob\", it's me\"\"\""
   ]
  },
  {
   "cell_type": "code",
   "execution_count": 20,
   "id": "a0eb831a-d0a0-4415-8417-11a681395675",
   "metadata": {},
   "outputs": [
    {
     "name": "stdout",
     "output_type": "stream",
     "text": [
      "my nick is \"bob\", it's me\n"
     ]
    }
   ],
   "source": [
    "print('my nick is \"bob\", it\\'s me')"
   ]
  },
  {
   "cell_type": "code",
   "execution_count": 21,
   "id": "9f7ef5e2-ffda-45f6-9559-1865c9c64106",
   "metadata": {},
   "outputs": [
    {
     "name": "stdout",
     "output_type": "stream",
     "text": [
      "123\n",
      "123\n"
     ]
    }
   ],
   "source": [
    "print(123)\n",
    "print(\"123\")"
   ]
  },
  {
   "cell_type": "code",
   "execution_count": 22,
   "id": "5ef6ee90-7a44-48f6-a525-6e305e470db4",
   "metadata": {},
   "outputs": [
    {
     "data": {
      "text/plain": [
       "False"
      ]
     },
     "execution_count": 22,
     "metadata": {},
     "output_type": "execute_result"
    }
   ],
   "source": [
    "123 == \"123\""
   ]
  },
  {
   "cell_type": "code",
   "execution_count": 23,
   "id": "9b64b80d-10e4-45b0-ad53-b986be4f599c",
   "metadata": {},
   "outputs": [
    {
     "data": {
      "text/plain": [
       "123"
      ]
     },
     "execution_count": 23,
     "metadata": {},
     "output_type": "execute_result"
    }
   ],
   "source": [
    "123"
   ]
  },
  {
   "cell_type": "code",
   "execution_count": 24,
   "id": "af8b028a-498c-47ae-b8bb-9a31ce431009",
   "metadata": {},
   "outputs": [
    {
     "data": {
      "text/plain": [
       "'123'"
      ]
     },
     "execution_count": 24,
     "metadata": {},
     "output_type": "execute_result"
    }
   ],
   "source": [
    "\"123\""
   ]
  },
  {
   "cell_type": "code",
   "execution_count": 25,
   "id": "8b27bcfa-06ab-485b-8755-83a7d916368c",
   "metadata": {},
   "outputs": [
    {
     "data": {
      "text/plain": [
       "int"
      ]
     },
     "execution_count": 25,
     "metadata": {},
     "output_type": "execute_result"
    }
   ],
   "source": [
    "type(123)"
   ]
  },
  {
   "cell_type": "code",
   "execution_count": 26,
   "id": "77cfdc60-b7ab-4bc1-8a60-dd7be549a072",
   "metadata": {},
   "outputs": [
    {
     "name": "stdout",
     "output_type": "stream",
     "text": [
      "<class 'int'>\n"
     ]
    }
   ],
   "source": [
    "print(type(123))"
   ]
  },
  {
   "cell_type": "code",
   "execution_count": 27,
   "id": "727a7df3-7db7-41f9-a13a-7333d497824b",
   "metadata": {},
   "outputs": [
    {
     "data": {
      "text/plain": [
       "str"
      ]
     },
     "execution_count": 27,
     "metadata": {},
     "output_type": "execute_result"
    }
   ],
   "source": [
    "type(\"123\")"
   ]
  },
  {
   "cell_type": "code",
   "execution_count": 28,
   "id": "bbcc5145-1b3f-45f8-a3a7-61a989364204",
   "metadata": {},
   "outputs": [
    {
     "name": "stdout",
     "output_type": "stream",
     "text": [
      "<class 'str'>\n"
     ]
    }
   ],
   "source": [
    "print(type(\"123\"))"
   ]
  },
  {
   "cell_type": "code",
   "execution_count": 29,
   "id": "385e57cc-7cb4-446a-a887-0c4f4c3d1a85",
   "metadata": {},
   "outputs": [
    {
     "name": "stdout",
     "output_type": "stream",
     "text": [
      "\\\n"
     ]
    }
   ],
   "source": [
    "print(\"\\\\\")"
   ]
  },
  {
   "cell_type": "code",
   "execution_count": 30,
   "id": "a358107a-a9ef-4db0-a409-7bda658b001e",
   "metadata": {},
   "outputs": [
    {
     "data": {
      "text/plain": [
       "'\\\\'"
      ]
     },
     "execution_count": 30,
     "metadata": {},
     "output_type": "execute_result"
    }
   ],
   "source": [
    "\"\\\\\""
   ]
  },
  {
   "cell_type": "code",
   "execution_count": 31,
   "id": "c643321c-41de-4c8b-ad8a-d388d030c203",
   "metadata": {},
   "outputs": [
    {
     "name": "stdout",
     "output_type": "stream",
     "text": [
      "\\\n"
     ]
    }
   ],
   "source": [
    "print('\\\\')"
   ]
  },
  {
   "cell_type": "code",
   "execution_count": 32,
   "id": "cadc4ad2-3c0c-46f6-ac7f-3f45481da959",
   "metadata": {},
   "outputs": [
    {
     "name": "stdout",
     "output_type": "stream",
     "text": [
      "foo\n",
      "bar\n"
     ]
    }
   ],
   "source": [
    "print(\"foo\\nbar\")"
   ]
  },
  {
   "cell_type": "code",
   "execution_count": 33,
   "id": "b2c5b67f-3791-417d-964b-9f0156efb1cb",
   "metadata": {},
   "outputs": [
    {
     "name": "stdout",
     "output_type": "stream",
     "text": [
      "new line symbol: \n",
      "\n",
      "do you see it?\n"
     ]
    }
   ],
   "source": [
    "print(\"\"\"new line symbol: \\n\n",
    "do you see it?\"\"\")"
   ]
  },
  {
   "cell_type": "code",
   "execution_count": 34,
   "id": "f11f67b0-64bd-498f-8f60-6df3dfba032c",
   "metadata": {},
   "outputs": [
    {
     "name": "stdout",
     "output_type": "stream",
     "text": [
      "new line symbol: \\n\n",
      "do you see it?\n"
     ]
    }
   ],
   "source": [
    "print(\"\"\"new line symbol: \\\\n\n",
    "do you see it?\"\"\")"
   ]
  },
  {
   "cell_type": "code",
   "execution_count": 35,
   "id": "0aa86fa9-663e-4e6f-9c4d-53a95778020c",
   "metadata": {},
   "outputs": [
    {
     "name": "stdout",
     "output_type": "stream",
     "text": [
      "new line symbol: '\\n'\n",
      "do you see it?\n"
     ]
    }
   ],
   "source": [
    "print(\"\"\"new line symbol: '\\\\n'\n",
    "do you see it?\"\"\")"
   ]
  },
  {
   "cell_type": "code",
   "execution_count": 36,
   "id": "9caf2e78-bf53-4141-b612-617eb9a3d3cb",
   "metadata": {},
   "outputs": [
    {
     "data": {
      "text/plain": [
       "True"
      ]
     },
     "execution_count": 36,
     "metadata": {},
     "output_type": "execute_result"
    }
   ],
   "source": [
    "\"a\" == 'a'"
   ]
  },
  {
   "cell_type": "code",
   "execution_count": 37,
   "id": "75fbf4f8-a284-44bb-8bc8-3bb02ee9532d",
   "metadata": {},
   "outputs": [
    {
     "data": {
      "text/plain": [
       "False"
      ]
     },
     "execution_count": 37,
     "metadata": {},
     "output_type": "execute_result"
    }
   ],
   "source": [
    "'A' == 'a'"
   ]
  },
  {
   "cell_type": "code",
   "execution_count": 38,
   "id": "d0d91032-c035-4738-b8d2-a7cd2128f9b2",
   "metadata": {},
   "outputs": [
    {
     "data": {
      "text/plain": [
       "False"
      ]
     },
     "execution_count": 38,
     "metadata": {},
     "output_type": "execute_result"
    }
   ],
   "source": [
    "'а' == 'a'"
   ]
  },
  {
   "cell_type": "code",
   "execution_count": 39,
   "id": "1da3bef4-211c-4f8a-90ac-8bdd9942eec3",
   "metadata": {},
   "outputs": [
    {
     "data": {
      "text/plain": [
       "1072"
      ]
     },
     "execution_count": 39,
     "metadata": {},
     "output_type": "execute_result"
    }
   ],
   "source": [
    "ord('а')"
   ]
  },
  {
   "cell_type": "code",
   "execution_count": 40,
   "id": "249a7112-f87d-4d85-bd3f-e46c42f63df7",
   "metadata": {},
   "outputs": [
    {
     "data": {
      "text/plain": [
       "97"
      ]
     },
     "execution_count": 40,
     "metadata": {},
     "output_type": "execute_result"
    }
   ],
   "source": [
    "ord('a')"
   ]
  },
  {
   "cell_type": "code",
   "execution_count": 41,
   "id": "9be513bf-9193-4841-ac7b-50d2ba56b9f3",
   "metadata": {},
   "outputs": [
    {
     "data": {
      "text/plain": [
       "True"
      ]
     },
     "execution_count": 41,
     "metadata": {},
     "output_type": "execute_result"
    }
   ],
   "source": [
    "'а' != 'a'"
   ]
  },
  {
   "cell_type": "code",
   "execution_count": 42,
   "id": "74c71c4b-585c-4abe-974b-576c8c513b5b",
   "metadata": {},
   "outputs": [
    {
     "data": {
      "text/plain": [
       "True"
      ]
     },
     "execution_count": 42,
     "metadata": {},
     "output_type": "execute_result"
    }
   ],
   "source": [
    "'abcdefg' == 'abcdefg'"
   ]
  },
  {
   "cell_type": "code",
   "execution_count": 43,
   "id": "0970e76a-355b-4ff2-9a7e-8ff4bd331c7e",
   "metadata": {},
   "outputs": [
    {
     "data": {
      "text/plain": [
       "False"
      ]
     },
     "execution_count": 43,
     "metadata": {},
     "output_type": "execute_result"
    }
   ],
   "source": [
    "'abcdefg' == 'abcdef'"
   ]
  },
  {
   "cell_type": "code",
   "execution_count": 44,
   "id": "bf12cf8a-1544-4ba4-bf7e-2e110bc4929a",
   "metadata": {},
   "outputs": [
    {
     "data": {
      "text/plain": [
       "3"
      ]
     },
     "execution_count": 44,
     "metadata": {},
     "output_type": "execute_result"
    }
   ],
   "source": [
    "1 + 2"
   ]
  },
  {
   "cell_type": "code",
   "execution_count": 45,
   "id": "2cc8bb14-6443-4019-9229-172e78e1f104",
   "metadata": {},
   "outputs": [
    {
     "data": {
      "text/plain": [
       "12"
      ]
     },
     "execution_count": 45,
     "metadata": {},
     "output_type": "execute_result"
    }
   ],
   "source": [
    "3 * 4"
   ]
  },
  {
   "cell_type": "code",
   "execution_count": 46,
   "id": "97980897-5f67-40e3-b168-2964757213fd",
   "metadata": {},
   "outputs": [
    {
     "data": {
      "text/plain": [
       "125"
      ]
     },
     "execution_count": 46,
     "metadata": {},
     "output_type": "execute_result"
    }
   ],
   "source": [
    "5**3"
   ]
  },
  {
   "cell_type": "code",
   "execution_count": 47,
   "id": "47a593eb-6118-4d43-9775-21796094b92c",
   "metadata": {},
   "outputs": [
    {
     "data": {
      "text/plain": [
       "7"
      ]
     },
     "execution_count": 47,
     "metadata": {},
     "output_type": "execute_result"
    }
   ],
   "source": [
    "10 - 3"
   ]
  },
  {
   "cell_type": "code",
   "execution_count": 48,
   "id": "a6db3092-66d8-430e-8e46-33eece9455d3",
   "metadata": {},
   "outputs": [
    {
     "data": {
      "text/plain": [
       "2.5"
      ]
     },
     "execution_count": 48,
     "metadata": {},
     "output_type": "execute_result"
    }
   ],
   "source": [
    "10 / 4"
   ]
  },
  {
   "cell_type": "code",
   "execution_count": 49,
   "id": "0a62bd5e-1025-4fa0-bc61-ef5f97ebb460",
   "metadata": {},
   "outputs": [
    {
     "data": {
      "text/plain": [
       "5.0"
      ]
     },
     "execution_count": 49,
     "metadata": {},
     "output_type": "execute_result"
    }
   ],
   "source": [
    "10 / 2"
   ]
  },
  {
   "cell_type": "code",
   "execution_count": 50,
   "id": "c2a9a0b7-aeab-4463-b25c-1abd3e3ea96c",
   "metadata": {},
   "outputs": [
    {
     "data": {
      "text/plain": [
       "5"
      ]
     },
     "execution_count": 50,
     "metadata": {},
     "output_type": "execute_result"
    }
   ],
   "source": [
    "10 // 2"
   ]
  },
  {
   "cell_type": "code",
   "execution_count": 51,
   "id": "ab0cfeed-d862-4bcf-8b58-a2c6294c1fba",
   "metadata": {},
   "outputs": [
    {
     "data": {
      "text/plain": [
       "2"
      ]
     },
     "execution_count": 51,
     "metadata": {},
     "output_type": "execute_result"
    }
   ],
   "source": [
    "10 // 4"
   ]
  },
  {
   "cell_type": "code",
   "execution_count": 52,
   "id": "36217a38-3c50-4bcf-9159-97424e2949b8",
   "metadata": {},
   "outputs": [
    {
     "data": {
      "text/plain": [
       "2.75"
      ]
     },
     "execution_count": 52,
     "metadata": {},
     "output_type": "execute_result"
    }
   ],
   "source": [
    "11 / 4"
   ]
  },
  {
   "cell_type": "code",
   "execution_count": 53,
   "id": "f48b09c3-e280-4db5-afa9-49a0890ec4fa",
   "metadata": {},
   "outputs": [
    {
     "data": {
      "text/plain": [
       "3"
      ]
     },
     "execution_count": 53,
     "metadata": {},
     "output_type": "execute_result"
    }
   ],
   "source": [
    "round(11 / 4)"
   ]
  },
  {
   "cell_type": "code",
   "execution_count": 54,
   "id": "9b2b9fd4-7cf8-44dd-9533-ec398dd6022e",
   "metadata": {},
   "outputs": [
    {
     "data": {
      "text/plain": [
       "2"
      ]
     },
     "execution_count": 54,
     "metadata": {},
     "output_type": "execute_result"
    }
   ],
   "source": [
    "11 // 4"
   ]
  },
  {
   "cell_type": "code",
   "execution_count": 55,
   "id": "b65bf282-649c-4af7-8516-4d5451515768",
   "metadata": {},
   "outputs": [
    {
     "name": "stdout",
     "output_type": "stream",
     "text": [
      "<class 'float'>\n"
     ]
    }
   ],
   "source": [
    "# operator.truediv(a, b) -> float\n",
    "print(type(11 / 4))"
   ]
  },
  {
   "cell_type": "code",
   "execution_count": 56,
   "id": "d024aafc-50c4-4ee1-9e1f-8fe2c048e5bf",
   "metadata": {},
   "outputs": [
    {
     "data": {
      "text/plain": [
       "True"
      ]
     },
     "execution_count": 56,
     "metadata": {},
     "output_type": "execute_result"
    }
   ],
   "source": [
    "isinstance(3, int)"
   ]
  },
  {
   "cell_type": "code",
   "execution_count": 57,
   "id": "69cad59b-a956-4cf9-af2d-45733ce19e3e",
   "metadata": {},
   "outputs": [
    {
     "data": {
      "text/plain": [
       "False"
      ]
     },
     "execution_count": 57,
     "metadata": {},
     "output_type": "execute_result"
    }
   ],
   "source": [
    "isinstance(3, float)"
   ]
  },
  {
   "cell_type": "code",
   "execution_count": 58,
   "id": "b1e04b8a-04f4-4041-afb9-142746347132",
   "metadata": {},
   "outputs": [
    {
     "data": {
      "text/plain": [
       "True"
      ]
     },
     "execution_count": 58,
     "metadata": {},
     "output_type": "execute_result"
    }
   ],
   "source": [
    "isinstance(3.5, float)"
   ]
  },
  {
   "cell_type": "code",
   "execution_count": 59,
   "id": "a861538c-f86a-4a77-b619-48be956ebb39",
   "metadata": {},
   "outputs": [
    {
     "data": {
      "text/plain": [
       "False"
      ]
     },
     "execution_count": 59,
     "metadata": {},
     "output_type": "execute_result"
    }
   ],
   "source": [
    "isinstance(3.5, int)"
   ]
  },
  {
   "cell_type": "code",
   "execution_count": 60,
   "id": "0be965ea-6f4f-45f7-b065-4212feadead6",
   "metadata": {},
   "outputs": [
    {
     "data": {
      "text/plain": [
       "True"
      ]
     },
     "execution_count": 60,
     "metadata": {},
     "output_type": "execute_result"
    }
   ],
   "source": [
    "isinstance(3.0, float)"
   ]
  },
  {
   "cell_type": "code",
   "execution_count": 61,
   "id": "211898ee-2980-47f7-acc2-7c593f0ae4aa",
   "metadata": {},
   "outputs": [
    {
     "data": {
      "text/plain": [
       "4.0"
      ]
     },
     "execution_count": 61,
     "metadata": {},
     "output_type": "execute_result"
    }
   ],
   "source": [
    "1.5 + 2.5"
   ]
  },
  {
   "cell_type": "code",
   "execution_count": 62,
   "id": "11546529-c8b2-4930-be32-6f5372dd8c29",
   "metadata": {},
   "outputs": [
    {
     "data": {
      "text/plain": [
       "5.5"
      ]
     },
     "execution_count": 62,
     "metadata": {},
     "output_type": "execute_result"
    }
   ],
   "source": [
    "# operator.add(a: int, b: int) -> int\n",
    "# operator.add(a: float, b: int) -> float\n",
    "# operator.add(a: int, b: float) -> float\n",
    "# operator.add(a: float, b: float) -> float\n",
    "\n",
    "2 + 3.5"
   ]
  },
  {
   "cell_type": "code",
   "execution_count": 63,
   "id": "dca43fd8-6c61-4076-b402-751d9918771b",
   "metadata": {},
   "outputs": [
    {
     "data": {
      "text/plain": [
       "'abcabcabc'"
      ]
     },
     "execution_count": 63,
     "metadata": {},
     "output_type": "execute_result"
    }
   ],
   "source": [
    "\"abc\" * 3"
   ]
  },
  {
   "cell_type": "code",
   "execution_count": 64,
   "id": "41157d52-a86a-490c-aca6-fc13ad81893b",
   "metadata": {},
   "outputs": [
    {
     "data": {
      "text/plain": [
       "'foobar'"
      ]
     },
     "execution_count": 64,
     "metadata": {},
     "output_type": "execute_result"
    }
   ],
   "source": [
    "# operator.add(a: str, b: str) -> str\n",
    "\n",
    "\"foo\" + \"bar\""
   ]
  },
  {
   "cell_type": "code",
   "execution_count": 65,
   "id": "7036d206-4251-4f9c-bf9e-3dd8ae7ad155",
   "metadata": {},
   "outputs": [
    {
     "data": {
      "text/plain": [
       "5.9"
      ]
     },
     "execution_count": 65,
     "metadata": {},
     "output_type": "execute_result"
    }
   ],
   "source": [
    "2.4 + 3.5"
   ]
  },
  {
   "cell_type": "code",
   "execution_count": 66,
   "id": "f9b60322-5833-4b1a-94e2-e4fa6b754e92",
   "metadata": {},
   "outputs": [
    {
     "data": {
      "text/plain": [
       "3"
      ]
     },
     "execution_count": 66,
     "metadata": {},
     "output_type": "execute_result"
    }
   ],
   "source": [
    "1 + 2"
   ]
  },
  {
   "cell_type": "code",
   "execution_count": 67,
   "id": "17bcad22-daa0-4600-a5e9-f0fafa58c54b",
   "metadata": {},
   "outputs": [
    {
     "data": {
      "text/plain": [
       "3.0"
      ]
     },
     "execution_count": 67,
     "metadata": {},
     "output_type": "execute_result"
    }
   ],
   "source": [
    "1 + 2.0"
   ]
  },
  {
   "cell_type": "code",
   "execution_count": 68,
   "id": "5ff822fa-c3e6-4685-948b-5d9972119ed8",
   "metadata": {},
   "outputs": [
    {
     "data": {
      "text/plain": [
       "0.30000000000000004"
      ]
     },
     "execution_count": 68,
     "metadata": {},
     "output_type": "execute_result"
    }
   ],
   "source": [
    "0.1 + 0.2"
   ]
  },
  {
   "cell_type": "code",
   "execution_count": 69,
   "id": "89c686ab-a0a7-4253-bfee-a98d4517bb10",
   "metadata": {},
   "outputs": [
    {
     "data": {
      "text/plain": [
       "0.3"
      ]
     },
     "execution_count": 69,
     "metadata": {},
     "output_type": "execute_result"
    }
   ],
   "source": [
    "round(0.1 + 0.2, 2)"
   ]
  },
  {
   "cell_type": "code",
   "execution_count": 70,
   "id": "a3a73196-fcf1-440b-b0d9-5598a97a131f",
   "metadata": {},
   "outputs": [
    {
     "data": {
      "text/plain": [
       "3.69"
      ]
     },
     "execution_count": 70,
     "metadata": {},
     "output_type": "execute_result"
    }
   ],
   "source": [
    "1.25 + 2.44"
   ]
  },
  {
   "cell_type": "code",
   "execution_count": 71,
   "id": "72e4ecf3-7d07-4d01-9d4e-0e481157e502",
   "metadata": {},
   "outputs": [
    {
     "data": {
      "text/plain": [
       "3.69"
      ]
     },
     "execution_count": 71,
     "metadata": {},
     "output_type": "execute_result"
    }
   ],
   "source": [
    "round(1.25 + 2.44, 2)"
   ]
  },
  {
   "cell_type": "code",
   "execution_count": 72,
   "id": "281174fc-6048-4fac-8f0d-c216d1194103",
   "metadata": {},
   "outputs": [
    {
     "data": {
      "text/plain": [
       "3.7"
      ]
     },
     "execution_count": 72,
     "metadata": {},
     "output_type": "execute_result"
    }
   ],
   "source": [
    "round(1.25 + 2.44, 1)"
   ]
  },
  {
   "cell_type": "code",
   "execution_count": 73,
   "id": "bb680682-eb7b-443d-aaa6-cf1c3ef7911f",
   "metadata": {},
   "outputs": [
    {
     "data": {
      "text/plain": [
       "3"
      ]
     },
     "execution_count": 73,
     "metadata": {},
     "output_type": "execute_result"
    }
   ],
   "source": [
    "1 + 2"
   ]
  },
  {
   "cell_type": "code",
   "execution_count": 74,
   "id": "99cf53ea-43f2-421b-9dfc-f39db705a521",
   "metadata": {},
   "outputs": [
    {
     "data": {
      "text/plain": [
       "3.6999999999999997"
      ]
     },
     "execution_count": 74,
     "metadata": {},
     "output_type": "execute_result"
    }
   ],
   "source": [
    "1.4 + 2.3"
   ]
  },
  {
   "cell_type": "code",
   "execution_count": 75,
   "id": "7a6f2beb-14d0-43c1-82d2-d154772c8ff5",
   "metadata": {},
   "outputs": [
    {
     "data": {
      "text/plain": [
       "False"
      ]
     },
     "execution_count": 75,
     "metadata": {},
     "output_type": "execute_result"
    }
   ],
   "source": [
    "0.1 + 0.2 == 0.3"
   ]
  },
  {
   "cell_type": "code",
   "execution_count": 76,
   "id": "95df8393-5c80-4000-9a0f-456f5267792a",
   "metadata": {},
   "outputs": [
    {
     "data": {
      "text/plain": [
       "True"
      ]
     },
     "execution_count": 76,
     "metadata": {},
     "output_type": "execute_result"
    }
   ],
   "source": [
    "1 + 2 == 3"
   ]
  },
  {
   "cell_type": "code",
   "execution_count": 77,
   "id": "5d5dae9f-5523-4eda-97a7-4f8db6dad66e",
   "metadata": {},
   "outputs": [
    {
     "data": {
      "text/plain": [
       "1881676377434183981909562699940347954480361860897069"
      ]
     },
     "execution_count": 77,
     "metadata": {},
     "output_type": "execute_result"
    }
   ],
   "source": [
    "123456789123456789 ** 3"
   ]
  },
  {
   "cell_type": "code",
   "execution_count": 78,
   "id": "86b6c4fa-1655-41f0-a299-169aa2a0e905",
   "metadata": {},
   "outputs": [
    {
     "name": "stdout",
     "output_type": "stream",
     "text": [
      "52\n"
     ]
    }
   ],
   "source": [
    "print(len(str(123456789123456789 ** 3)))"
   ]
  },
  {
   "cell_type": "code",
   "execution_count": 79,
   "id": "ff33c760-5e58-4668-910a-610534e7f63b",
   "metadata": {},
   "outputs": [
    {
     "data": {
      "text/plain": [
       "5.314410129140165e-52"
      ]
     },
     "execution_count": 79,
     "metadata": {},
     "output_type": "execute_result"
    }
   ],
   "source": [
    "1 / 123456789123456789 ** 3"
   ]
  },
  {
   "cell_type": "code",
   "execution_count": 80,
   "id": "ad455644-19dc-42bb-8626-fa9f1b7220ef",
   "metadata": {},
   "outputs": [
    {
     "name": "stdout",
     "output_type": "stream",
     "text": [
      "<class 'int'>\n"
     ]
    }
   ],
   "source": [
    "print(type(1))"
   ]
  },
  {
   "cell_type": "code",
   "execution_count": 81,
   "id": "573c5d89-67be-4c4b-ba5c-415210bc1271",
   "metadata": {},
   "outputs": [
    {
     "name": "stdout",
     "output_type": "stream",
     "text": [
      "<class 'float'>\n"
     ]
    }
   ],
   "source": [
    "print(type(1.0))"
   ]
  },
  {
   "cell_type": "code",
   "execution_count": 82,
   "id": "50f038fa-97ce-453f-b9cd-112aaa86b311",
   "metadata": {},
   "outputs": [
    {
     "data": {
      "text/plain": [
       "True"
      ]
     },
     "execution_count": 82,
     "metadata": {},
     "output_type": "execute_result"
    }
   ],
   "source": [
    "isinstance(1, int)"
   ]
  },
  {
   "cell_type": "code",
   "execution_count": 83,
   "id": "da2ca713-66a4-4765-a7b6-8a540c9da35f",
   "metadata": {},
   "outputs": [
    {
     "data": {
      "text/plain": [
       "False"
      ]
     },
     "execution_count": 83,
     "metadata": {},
     "output_type": "execute_result"
    }
   ],
   "source": [
    "isinstance(1, float)"
   ]
  },
  {
   "cell_type": "code",
   "execution_count": 84,
   "id": "d49a4df6-cc32-4d90-a50e-98dc9a4dac27",
   "metadata": {},
   "outputs": [
    {
     "data": {
      "text/plain": [
       "False"
      ]
     },
     "execution_count": 84,
     "metadata": {},
     "output_type": "execute_result"
    }
   ],
   "source": [
    "isinstance(1.0, int)"
   ]
  },
  {
   "cell_type": "code",
   "execution_count": 85,
   "id": "c60770f2-3ccc-4305-bc46-517c3c0cbdc6",
   "metadata": {},
   "outputs": [
    {
     "data": {
      "text/plain": [
       "True"
      ]
     },
     "execution_count": 85,
     "metadata": {},
     "output_type": "execute_result"
    }
   ],
   "source": [
    "isinstance(1.0, float)"
   ]
  },
  {
   "cell_type": "code",
   "execution_count": 86,
   "id": "461773cd-92cd-4020-b7cf-d5c87cb936c2",
   "metadata": {},
   "outputs": [
    {
     "data": {
      "text/plain": [
       "True"
      ]
     },
     "execution_count": 86,
     "metadata": {},
     "output_type": "execute_result"
    }
   ],
   "source": [
    "isinstance(1, int | float)"
   ]
  },
  {
   "cell_type": "code",
   "execution_count": 87,
   "id": "56f0f0ae-ce3e-46db-a8a7-9579022250a6",
   "metadata": {},
   "outputs": [
    {
     "data": {
      "text/plain": [
       "True"
      ]
     },
     "execution_count": 87,
     "metadata": {},
     "output_type": "execute_result"
    }
   ],
   "source": [
    "isinstance(1.0, int | float)"
   ]
  },
  {
   "cell_type": "code",
   "execution_count": 88,
   "id": "97a14904-4568-4cca-a1ac-50caf61c8007",
   "metadata": {},
   "outputs": [
    {
     "data": {
      "text/plain": [
       "True"
      ]
     },
     "execution_count": 88,
     "metadata": {},
     "output_type": "execute_result"
    }
   ],
   "source": [
    "isinstance(1, (int, float))"
   ]
  },
  {
   "cell_type": "code",
   "execution_count": 89,
   "id": "8420f15a-2cea-4c86-909c-6a1f1b486205",
   "metadata": {},
   "outputs": [
    {
     "name": "stdout",
     "output_type": "stream",
     "text": [
      "<class 'bool'>\n"
     ]
    }
   ],
   "source": [
    "print(type(1 == 1.0))"
   ]
  },
  {
   "cell_type": "code",
   "execution_count": 90,
   "id": "586b1ffe-08b0-4ca8-a978-4dc13f65f716",
   "metadata": {},
   "outputs": [
    {
     "name": "stdout",
     "output_type": "stream",
     "text": [
      "<class 'bool'>\n"
     ]
    }
   ],
   "source": [
    "print(type(1 == 1.2))"
   ]
  },
  {
   "cell_type": "code",
   "execution_count": 91,
   "id": "4366b833-4792-495c-aaf6-a514228cae89",
   "metadata": {},
   "outputs": [
    {
     "name": "stdout",
     "output_type": "stream",
     "text": [
      "<class 'bool'>\n"
     ]
    }
   ],
   "source": [
    "print(type(True))"
   ]
  },
  {
   "cell_type": "code",
   "execution_count": 92,
   "id": "e3c9a9ca-a0e9-4959-a377-c254046b4d0f",
   "metadata": {},
   "outputs": [
    {
     "data": {
      "text/plain": [
       "True"
      ]
     },
     "execution_count": 92,
     "metadata": {},
     "output_type": "execute_result"
    }
   ],
   "source": [
    "isinstance(True, bool)"
   ]
  },
  {
   "cell_type": "code",
   "execution_count": 93,
   "id": "f0bcf57b-529b-4efd-83ee-c2281b1d65f0",
   "metadata": {},
   "outputs": [
    {
     "data": {
      "text/plain": [
       "bool"
      ]
     },
     "execution_count": 93,
     "metadata": {},
     "output_type": "execute_result"
    }
   ],
   "source": [
    "type(True)"
   ]
  },
  {
   "cell_type": "code",
   "execution_count": 94,
   "id": "3f6cdb74-9e95-4f16-bc58-e310746b5355",
   "metadata": {},
   "outputs": [
    {
     "data": {
      "text/plain": [
       "False"
      ]
     },
     "execution_count": 94,
     "metadata": {},
     "output_type": "execute_result"
    }
   ],
   "source": [
    "isinstance(\"abc\", int)"
   ]
  },
  {
   "cell_type": "code",
   "execution_count": 95,
   "id": "cabfb095-5a7a-4595-b7fc-212a8fae3f2d",
   "metadata": {},
   "outputs": [
    {
     "data": {
      "text/plain": [
       "False"
      ]
     },
     "execution_count": 95,
     "metadata": {},
     "output_type": "execute_result"
    }
   ],
   "source": [
    "isinstance(\"abc\", int | float)"
   ]
  },
  {
   "cell_type": "code",
   "execution_count": 96,
   "id": "18d5691d-4c8f-44af-b017-bd11375ba744",
   "metadata": {},
   "outputs": [
    {
     "data": {
      "text/plain": [
       "False"
      ]
     },
     "execution_count": 96,
     "metadata": {},
     "output_type": "execute_result"
    }
   ],
   "source": [
    "isinstance(\"abc\", int | float | bool)"
   ]
  },
  {
   "cell_type": "code",
   "execution_count": 97,
   "id": "f3f4bc81-6313-424d-b8c5-24ba0015fe7c",
   "metadata": {},
   "outputs": [
    {
     "data": {
      "text/plain": [
       "True"
      ]
     },
     "execution_count": 97,
     "metadata": {},
     "output_type": "execute_result"
    }
   ],
   "source": [
    "isinstance(\"abc\", int | float | bool | str)"
   ]
  },
  {
   "cell_type": "code",
   "execution_count": 98,
   "id": "ef974e38-d4c9-4c79-be9b-546a4fd53d71",
   "metadata": {},
   "outputs": [
    {
     "data": {
      "text/plain": [
       "True"
      ]
     },
     "execution_count": 98,
     "metadata": {},
     "output_type": "execute_result"
    }
   ],
   "source": [
    "isinstance(False, int | float | bool | str)"
   ]
  },
  {
   "cell_type": "code",
   "execution_count": 99,
   "id": "5f59d959-857c-4ae2-a70c-35600ab844a0",
   "metadata": {},
   "outputs": [
    {
     "data": {
      "text/plain": [
       "True"
      ]
     },
     "execution_count": 99,
     "metadata": {},
     "output_type": "execute_result"
    }
   ],
   "source": [
    "1 == 1.0"
   ]
  },
  {
   "cell_type": "code",
   "execution_count": 100,
   "id": "e1aa51c1-7ca9-4d2a-897f-1704828a9978",
   "metadata": {},
   "outputs": [
    {
     "data": {
      "text/plain": [
       "False"
      ]
     },
     "execution_count": 100,
     "metadata": {},
     "output_type": "execute_result"
    }
   ],
   "source": [
    "4 > 5"
   ]
  },
  {
   "cell_type": "code",
   "execution_count": 101,
   "id": "604cd16d-be8a-46d6-9151-64bd1fd9bc69",
   "metadata": {},
   "outputs": [
    {
     "data": {
      "text/plain": [
       "True"
      ]
     },
     "execution_count": 101,
     "metadata": {},
     "output_type": "execute_result"
    }
   ],
   "source": [
    "5 >= 5"
   ]
  },
  {
   "cell_type": "code",
   "execution_count": 102,
   "id": "052ad4be-f864-4546-a396-27cc57fb5cd2",
   "metadata": {},
   "outputs": [
    {
     "data": {
      "text/plain": [
       "True"
      ]
     },
     "execution_count": 102,
     "metadata": {},
     "output_type": "execute_result"
    }
   ],
   "source": [
    "isinstance(False, int | float | bool | str)"
   ]
  },
  {
   "cell_type": "code",
   "execution_count": 103,
   "id": "391b6f0b-28a0-4313-b7ec-2b3c4b6929d9",
   "metadata": {},
   "outputs": [
    {
     "data": {
      "text/plain": [
       "bool"
      ]
     },
     "execution_count": 103,
     "metadata": {},
     "output_type": "execute_result"
    }
   ],
   "source": [
    "type(False)"
   ]
  },
  {
   "cell_type": "code",
   "execution_count": 104,
   "id": "3c57d698-dc03-48e2-b9f6-968a6f38d93f",
   "metadata": {},
   "outputs": [
    {
     "data": {
      "text/plain": [
       "True"
      ]
     },
     "execution_count": 104,
     "metadata": {},
     "output_type": "execute_result"
    }
   ],
   "source": [
    "isinstance(False, int | bool | str)"
   ]
  },
  {
   "cell_type": "code",
   "execution_count": 105,
   "id": "49a140f7-4723-4734-923e-969e6df21a66",
   "metadata": {},
   "outputs": [
    {
     "data": {
      "text/plain": [
       "True"
      ]
     },
     "execution_count": 105,
     "metadata": {},
     "output_type": "execute_result"
    }
   ],
   "source": [
    "isinstance(False, int | bool)"
   ]
  },
  {
   "cell_type": "code",
   "execution_count": 106,
   "id": "d5b66a57-96ab-49e1-a47e-bc3651fcab6b",
   "metadata": {},
   "outputs": [
    {
     "data": {
      "text/plain": [
       "True"
      ]
     },
     "execution_count": 106,
     "metadata": {},
     "output_type": "execute_result"
    }
   ],
   "source": [
    "isinstance(False, int)"
   ]
  },
  {
   "cell_type": "code",
   "execution_count": 107,
   "id": "46245a7d-bd18-4760-aafb-a22d0886b665",
   "metadata": {},
   "outputs": [
    {
     "data": {
      "text/plain": [
       "True"
      ]
     },
     "execution_count": 107,
     "metadata": {},
     "output_type": "execute_result"
    }
   ],
   "source": [
    "True == 1"
   ]
  },
  {
   "cell_type": "code",
   "execution_count": 108,
   "id": "07f39242-e425-4a4f-ac04-b59970fd9a27",
   "metadata": {},
   "outputs": [
    {
     "data": {
      "text/plain": [
       "True"
      ]
     },
     "execution_count": 108,
     "metadata": {},
     "output_type": "execute_result"
    }
   ],
   "source": [
    "False == 0"
   ]
  },
  {
   "cell_type": "code",
   "execution_count": 109,
   "id": "cf8a23ef-5d8e-4760-8e6e-0446fc698b14",
   "metadata": {},
   "outputs": [
    {
     "data": {
      "text/plain": [
       "False"
      ]
     },
     "execution_count": 109,
     "metadata": {},
     "output_type": "execute_result"
    }
   ],
   "source": [
    "True == 2"
   ]
  },
  {
   "cell_type": "code",
   "execution_count": 110,
   "id": "404500fb-4927-4a62-9e97-8423e3d3f966",
   "metadata": {},
   "outputs": [
    {
     "data": {
      "text/plain": [
       "2"
      ]
     },
     "execution_count": 110,
     "metadata": {},
     "output_type": "execute_result"
    }
   ],
   "source": [
    "True + True"
   ]
  },
  {
   "cell_type": "code",
   "execution_count": 111,
   "id": "22aaff35-8788-48c4-884a-484de384ce8a",
   "metadata": {},
   "outputs": [
    {
     "data": {
      "text/plain": [
       "4"
      ]
     },
     "execution_count": 111,
     "metadata": {},
     "output_type": "execute_result"
    }
   ],
   "source": [
    "True + 3"
   ]
  },
  {
   "cell_type": "code",
   "execution_count": 113,
   "id": "b931ffa7-d918-4b57-9387-58c1ad481242",
   "metadata": {},
   "outputs": [
    {
     "data": {
      "text/plain": [
       "1"
      ]
     },
     "execution_count": 113,
     "metadata": {},
     "output_type": "execute_result"
    }
   ],
   "source": [
    "True + False"
   ]
  },
  {
   "cell_type": "code",
   "execution_count": 114,
   "id": "f04bdbd6-94b7-433d-b9a2-486a14386f60",
   "metadata": {},
   "outputs": [
    {
     "data": {
      "text/plain": [
       "1"
      ]
     },
     "execution_count": 114,
     "metadata": {},
     "output_type": "execute_result"
    }
   ],
   "source": [
    "int(True)"
   ]
  },
  {
   "cell_type": "code",
   "execution_count": 116,
   "id": "4a349e53-11f7-477c-95a8-65430f6fc970",
   "metadata": {},
   "outputs": [
    {
     "data": {
      "text/plain": [
       "0"
      ]
     },
     "execution_count": 116,
     "metadata": {},
     "output_type": "execute_result"
    }
   ],
   "source": [
    "int(False)"
   ]
  },
  {
   "cell_type": "code",
   "execution_count": 117,
   "id": "74205dba-3414-4080-9cb2-cc093c3adeaf",
   "metadata": {},
   "outputs": [
    {
     "data": {
      "text/plain": [
       "123"
      ]
     },
     "execution_count": 117,
     "metadata": {},
     "output_type": "execute_result"
    }
   ],
   "source": [
    "int(\"123\")"
   ]
  },
  {
   "cell_type": "code",
   "execution_count": 118,
   "id": "ecaee3e9-95bf-49ec-8b2a-05533c4f35c1",
   "metadata": {},
   "outputs": [
    {
     "data": {
      "text/plain": [
       "0"
      ]
     },
     "execution_count": 118,
     "metadata": {},
     "output_type": "execute_result"
    }
   ],
   "source": [
    "int(\"0\")"
   ]
  },
  {
   "cell_type": "code",
   "execution_count": 119,
   "id": "0faad797-096c-4246-8a02-44aa2bdf6629",
   "metadata": {},
   "outputs": [
    {
     "data": {
      "text/plain": [
       "'0'"
      ]
     },
     "execution_count": 119,
     "metadata": {},
     "output_type": "execute_result"
    }
   ],
   "source": [
    "\"0\""
   ]
  },
  {
   "cell_type": "code",
   "execution_count": 120,
   "id": "6cdcbe14-1d83-4dd3-abf2-e7f8be1eebcb",
   "metadata": {},
   "outputs": [
    {
     "data": {
      "text/plain": [
       "False"
      ]
     },
     "execution_count": 120,
     "metadata": {},
     "output_type": "execute_result"
    }
   ],
   "source": [
    "int(\"0\") == \"0\""
   ]
  },
  {
   "cell_type": "code",
   "execution_count": 121,
   "id": "23e0b3ca-3fb7-4fa1-972a-e9ee5c8f2acf",
   "metadata": {},
   "outputs": [
    {
     "data": {
      "text/plain": [
       "'123'"
      ]
     },
     "execution_count": 121,
     "metadata": {},
     "output_type": "execute_result"
    }
   ],
   "source": [
    "str(123)"
   ]
  },
  {
   "cell_type": "code",
   "execution_count": 122,
   "id": "a9d87923-75cb-4401-bbc3-0116bf91b97c",
   "metadata": {},
   "outputs": [
    {
     "data": {
      "text/plain": [
       "'1.5'"
      ]
     },
     "execution_count": 122,
     "metadata": {},
     "output_type": "execute_result"
    }
   ],
   "source": [
    "str(1.5)"
   ]
  },
  {
   "cell_type": "code",
   "execution_count": 123,
   "id": "a96c3047-eba5-41fa-a41f-f4e5da03cbdc",
   "metadata": {},
   "outputs": [
    {
     "data": {
      "text/plain": [
       "'0.30000000000000004'"
      ]
     },
     "execution_count": 123,
     "metadata": {},
     "output_type": "execute_result"
    }
   ],
   "source": [
    "str(0.1 + 0.2)"
   ]
  },
  {
   "cell_type": "code",
   "execution_count": 124,
   "id": "e7967e10-7eb3-4b28-8488-a9c043907390",
   "metadata": {},
   "outputs": [
    {
     "data": {
      "text/plain": [
       "'foo=5'"
      ]
     },
     "execution_count": 124,
     "metadata": {},
     "output_type": "execute_result"
    }
   ],
   "source": [
    "f'foo={2 + 3}'"
   ]
  },
  {
   "cell_type": "code",
   "execution_count": 125,
   "id": "b89ab3be-de3b-4d2b-b242-88f87249c436",
   "metadata": {},
   "outputs": [
    {
     "data": {
      "text/plain": [
       "'is True an int? - True'"
      ]
     },
     "execution_count": 125,
     "metadata": {},
     "output_type": "execute_result"
    }
   ],
   "source": [
    "f'is True an int? - {isinstance(True, int)}'"
   ]
  },
  {
   "cell_type": "code",
   "execution_count": 126,
   "id": "f548455e-9beb-4899-a138-df06eb02f3ae",
   "metadata": {},
   "outputs": [
    {
     "data": {
      "text/plain": [
       "'is False an int? - True'"
      ]
     },
     "execution_count": 126,
     "metadata": {},
     "output_type": "execute_result"
    }
   ],
   "source": [
    "f\"is False an int? - {isinstance(False, int)}\""
   ]
  },
  {
   "cell_type": "code",
   "execution_count": 127,
   "id": "ed08809b-92f4-4045-9bf6-bd678fdfba74",
   "metadata": {},
   "outputs": [
    {
     "data": {
      "text/plain": [
       "'is False an int? - {isinstance(False, int)}'"
      ]
     },
     "execution_count": 127,
     "metadata": {},
     "output_type": "execute_result"
    }
   ],
   "source": [
    "\"is False an int? - {isinstance(False, int)}\""
   ]
  },
  {
   "cell_type": "code",
   "execution_count": 128,
   "id": "31aff827-3918-47cb-975b-08410add6da3",
   "metadata": {},
   "outputs": [
    {
     "data": {
      "text/plain": [
       "97"
      ]
     },
     "execution_count": 128,
     "metadata": {},
     "output_type": "execute_result"
    }
   ],
   "source": [
    "ord('a')"
   ]
  },
  {
   "cell_type": "code",
   "execution_count": 129,
   "id": "24ebec74-9eb3-4946-aeb8-2e24a50031a0",
   "metadata": {},
   "outputs": [
    {
     "data": {
      "text/plain": [
       "'a'"
      ]
     },
     "execution_count": 129,
     "metadata": {},
     "output_type": "execute_result"
    }
   ],
   "source": [
    "chr(97)"
   ]
  },
  {
   "cell_type": "code",
   "execution_count": 130,
   "id": "12e975cd-fe25-4fce-9ab0-7c95fed2d142",
   "metadata": {},
   "outputs": [
    {
     "data": {
      "text/plain": [
       "'b'"
      ]
     },
     "execution_count": 130,
     "metadata": {},
     "output_type": "execute_result"
    }
   ],
   "source": [
    "chr(98)"
   ]
  },
  {
   "cell_type": "code",
   "execution_count": null,
   "id": "3d51f5e4-84e4-4c96-84b4-817b1822f71e",
   "metadata": {},
   "outputs": [],
   "source": []
  }
 ],
 "metadata": {
  "kernelspec": {
   "display_name": "Python 3 (ipykernel)",
   "language": "python",
   "name": "python3"
  },
  "language_info": {
   "codemirror_mode": {
    "name": "ipython",
    "version": 3
   },
   "file_extension": ".py",
   "mimetype": "text/x-python",
   "name": "python",
   "nbconvert_exporter": "python",
   "pygments_lexer": "ipython3",
   "version": "3.12.3"
  }
 },
 "nbformat": 4,
 "nbformat_minor": 5
}
