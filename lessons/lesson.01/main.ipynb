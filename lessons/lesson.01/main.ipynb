{
 "cells": [
  {
   "cell_type": "code",
   "execution_count": 1,
   "id": "fd910022-c4f7-446e-8947-999966640e6a",
   "metadata": {},
   "outputs": [
    {
     "name": "stdout",
     "output_type": "stream",
     "text": [
      "hello world!\n"
     ]
    }
   ],
   "source": [
    "print('hello world!')"
   ]
  },
  {
   "cell_type": "code",
   "execution_count": 2,
   "id": "846a8058-34a6-46ba-ae09-7071d7f24a47",
   "metadata": {},
   "outputs": [
    {
     "data": {
      "text/plain": [
       "3"
      ]
     },
     "execution_count": 2,
     "metadata": {},
     "output_type": "execute_result"
    }
   ],
   "source": [
    "1 + 2"
   ]
  },
  {
   "cell_type": "code",
   "execution_count": 3,
   "id": "eabf6c8c-c424-45f7-859f-ff18baa6f6ec",
   "metadata": {},
   "outputs": [
    {
     "data": {
      "text/plain": [
       "6"
      ]
     },
     "execution_count": 3,
     "metadata": {},
     "output_type": "execute_result"
    }
   ],
   "source": [
    "3 * 2"
   ]
  },
  {
   "cell_type": "code",
   "execution_count": 4,
   "id": "e8040f09-8911-45b5-91ab-8398b2ec62c6",
   "metadata": {},
   "outputs": [
    {
     "data": {
      "text/plain": [
       "6"
      ]
     },
     "execution_count": 4,
     "metadata": {},
     "output_type": "execute_result"
    }
   ],
   "source": [
    "2 + 2 * 2"
   ]
  },
  {
   "cell_type": "code",
   "execution_count": 5,
   "id": "d43f6e17-3400-4bca-90a5-b68cc67342cf",
   "metadata": {},
   "outputs": [
    {
     "data": {
      "text/plain": [
       "7"
      ]
     },
     "execution_count": 5,
     "metadata": {},
     "output_type": "execute_result"
    }
   ],
   "source": [
    "10 - 3"
   ]
  },
  {
   "cell_type": "code",
   "execution_count": 6,
   "id": "e6f6803c-c66d-4107-812d-58f0389b31d4",
   "metadata": {},
   "outputs": [
    {
     "data": {
      "text/plain": [
       "5.0"
      ]
     },
     "execution_count": 6,
     "metadata": {},
     "output_type": "execute_result"
    }
   ],
   "source": [
    "10 / 2"
   ]
  },
  {
   "cell_type": "code",
   "execution_count": 7,
   "id": "0de29a9f-243d-4924-9760-afefe2b8663a",
   "metadata": {},
   "outputs": [
    {
     "data": {
      "text/plain": [
       "2.5"
      ]
     },
     "execution_count": 7,
     "metadata": {},
     "output_type": "execute_result"
    }
   ],
   "source": [
    "10 / 4"
   ]
  },
  {
   "cell_type": "code",
   "execution_count": 8,
   "id": "07402594-0f9b-423d-a41e-a77c76863325",
   "metadata": {},
   "outputs": [
    {
     "data": {
      "text/plain": [
       "3.3333333333333335"
      ]
     },
     "execution_count": 8,
     "metadata": {},
     "output_type": "execute_result"
    }
   ],
   "source": [
    "10 / 3"
   ]
  },
  {
   "cell_type": "code",
   "execution_count": 9,
   "id": "28f413da-c36e-4173-b9b5-c6bc948caec3",
   "metadata": {},
   "outputs": [
    {
     "data": {
      "text/plain": [
       "5"
      ]
     },
     "execution_count": 9,
     "metadata": {},
     "output_type": "execute_result"
    }
   ],
   "source": [
    "10 // 2"
   ]
  },
  {
   "cell_type": "code",
   "execution_count": 10,
   "id": "3ffe8d8a-5f27-4a08-a2ab-8473d72b49b1",
   "metadata": {},
   "outputs": [
    {
     "data": {
      "text/plain": [
       "3.5"
      ]
     },
     "execution_count": 10,
     "metadata": {},
     "output_type": "execute_result"
    }
   ],
   "source": [
    "7 / 2"
   ]
  },
  {
   "cell_type": "code",
   "execution_count": 11,
   "id": "f9918613-0d9f-4d9c-8dd8-97d1048d0ca8",
   "metadata": {},
   "outputs": [
    {
     "data": {
      "text/plain": [
       "3"
      ]
     },
     "execution_count": 11,
     "metadata": {},
     "output_type": "execute_result"
    }
   ],
   "source": [
    "7 // 2"
   ]
  },
  {
   "cell_type": "code",
   "execution_count": 12,
   "id": "da9a8a67-57da-44a3-b447-1ddc6acb5a77",
   "metadata": {},
   "outputs": [
    {
     "data": {
      "text/plain": [
       "1.9"
      ]
     },
     "execution_count": 12,
     "metadata": {},
     "output_type": "execute_result"
    }
   ],
   "source": [
    "19 / 10"
   ]
  },
  {
   "cell_type": "code",
   "execution_count": 13,
   "id": "cb8cd59b-86ff-4d6a-8346-da6a9cbbba5f",
   "metadata": {},
   "outputs": [
    {
     "data": {
      "text/plain": [
       "1"
      ]
     },
     "execution_count": 13,
     "metadata": {},
     "output_type": "execute_result"
    }
   ],
   "source": [
    "19 // 10"
   ]
  },
  {
   "cell_type": "code",
   "execution_count": 14,
   "id": "201eeacb-64d2-4260-8a77-65b5211cb5ef",
   "metadata": {},
   "outputs": [
    {
     "data": {
      "text/plain": [
       "2.5"
      ]
     },
     "execution_count": 14,
     "metadata": {},
     "output_type": "execute_result"
    }
   ],
   "source": [
    "10 / 4"
   ]
  },
  {
   "cell_type": "code",
   "execution_count": 15,
   "id": "fc09a401-90e1-47af-b65a-94a43f0ecd6c",
   "metadata": {},
   "outputs": [
    {
     "data": {
      "text/plain": [
       "2"
      ]
     },
     "execution_count": 15,
     "metadata": {},
     "output_type": "execute_result"
    }
   ],
   "source": [
    "10 % 4"
   ]
  },
  {
   "cell_type": "code",
   "execution_count": 16,
   "id": "437fc23e-113d-4d59-8431-1988b38a871f",
   "metadata": {},
   "outputs": [
    {
     "data": {
      "text/plain": [
       "3.75"
      ]
     },
     "execution_count": 16,
     "metadata": {},
     "output_type": "execute_result"
    }
   ],
   "source": [
    "15 / 4"
   ]
  },
  {
   "cell_type": "code",
   "execution_count": 17,
   "id": "db2a7502-2d05-4557-9d34-e025bc60a9e9",
   "metadata": {},
   "outputs": [
    {
     "data": {
      "text/plain": [
       "3"
      ]
     },
     "execution_count": 17,
     "metadata": {},
     "output_type": "execute_result"
    }
   ],
   "source": [
    "15 % 4"
   ]
  },
  {
   "cell_type": "code",
   "execution_count": 18,
   "id": "0d1b22a5-67fc-49fc-9176-3860eb9b2b6a",
   "metadata": {},
   "outputs": [
    {
     "data": {
      "text/plain": [
       "2"
      ]
     },
     "execution_count": 18,
     "metadata": {},
     "output_type": "execute_result"
    }
   ],
   "source": [
    "17 % 3"
   ]
  },
  {
   "cell_type": "code",
   "execution_count": 19,
   "id": "5897ec49-2d95-409d-9813-cf0b7de14afd",
   "metadata": {},
   "outputs": [
    {
     "data": {
      "text/plain": [
       "5.666666666666667"
      ]
     },
     "execution_count": 19,
     "metadata": {},
     "output_type": "execute_result"
    }
   ],
   "source": [
    "17 / 3"
   ]
  },
  {
   "cell_type": "code",
   "execution_count": 20,
   "id": "29b5075b-0235-4c5e-be65-5550d100d34b",
   "metadata": {},
   "outputs": [
    {
     "data": {
      "text/plain": [
       "'a'"
      ]
     },
     "execution_count": 20,
     "metadata": {},
     "output_type": "execute_result"
    }
   ],
   "source": [
    "\"a\""
   ]
  },
  {
   "cell_type": "code",
   "execution_count": 21,
   "id": "04f2587a-75e8-429c-a9c9-4e51aa6d0dba",
   "metadata": {},
   "outputs": [
    {
     "data": {
      "text/plain": [
       "'a'"
      ]
     },
     "execution_count": 21,
     "metadata": {},
     "output_type": "execute_result"
    }
   ],
   "source": [
    "'a'"
   ]
  },
  {
   "cell_type": "code",
   "execution_count": 22,
   "id": "65471579-303d-4e29-8a2e-3598ce88b537",
   "metadata": {},
   "outputs": [
    {
     "data": {
      "text/plain": [
       "\"Hello, it's me\""
      ]
     },
     "execution_count": 22,
     "metadata": {},
     "output_type": "execute_result"
    }
   ],
   "source": [
    "\"Hello, it's me\""
   ]
  },
  {
   "cell_type": "code",
   "execution_count": 23,
   "id": "8886c95b-b1aa-4f74-aae0-e5ad53dbe1f6",
   "metadata": {},
   "outputs": [
    {
     "data": {
      "text/plain": [
       "'phrase \"foo bar\" is common'"
      ]
     },
     "execution_count": 23,
     "metadata": {},
     "output_type": "execute_result"
    }
   ],
   "source": [
    "'phrase \"foo bar\" is common'"
   ]
  },
  {
   "cell_type": "code",
   "execution_count": 24,
   "id": "f1c7af9a-559e-4f56-8ccd-b257ebd0d115",
   "metadata": {},
   "outputs": [
    {
     "data": {
      "text/plain": [
       "'what phrase? \"foo bar\"? it\\'s common'"
      ]
     },
     "execution_count": 24,
     "metadata": {},
     "output_type": "execute_result"
    }
   ],
   "source": [
    "'what phrase? \"foo bar\"? it\\'s common'"
   ]
  },
  {
   "cell_type": "code",
   "execution_count": 25,
   "id": "6bc1fb2d-ca44-4fff-b756-99ad2b7726e4",
   "metadata": {},
   "outputs": [
    {
     "data": {
      "text/plain": [
       "\"single quote: '\""
      ]
     },
     "execution_count": 25,
     "metadata": {},
     "output_type": "execute_result"
    }
   ],
   "source": [
    "'single quote: \\''"
   ]
  },
  {
   "cell_type": "code",
   "execution_count": 26,
   "id": "2b23d614-dac8-495a-bd94-89380ea344f7",
   "metadata": {},
   "outputs": [
    {
     "data": {
      "text/plain": [
       "True"
      ]
     },
     "execution_count": 26,
     "metadata": {},
     "output_type": "execute_result"
    }
   ],
   "source": [
    "'hello' == \"hello\""
   ]
  },
  {
   "cell_type": "code",
   "execution_count": 27,
   "id": "a9837c32-8cdf-4d60-ad0e-f239848b1ce2",
   "metadata": {},
   "outputs": [
    {
     "data": {
      "text/plain": [
       "True"
      ]
     },
     "execution_count": 27,
     "metadata": {},
     "output_type": "execute_result"
    }
   ],
   "source": [
    "1 == 1"
   ]
  },
  {
   "cell_type": "code",
   "execution_count": 28,
   "id": "74144502-cbd9-4f76-99e0-0d45fb821885",
   "metadata": {},
   "outputs": [
    {
     "data": {
      "text/plain": [
       "True"
      ]
     },
     "execution_count": 28,
     "metadata": {},
     "output_type": "execute_result"
    }
   ],
   "source": [
    "4 == 2 + 2"
   ]
  },
  {
   "cell_type": "code",
   "execution_count": 29,
   "id": "99869c9e-c96b-4aed-b1d6-33ef0309356d",
   "metadata": {},
   "outputs": [
    {
     "data": {
      "text/plain": [
       "True"
      ]
     },
     "execution_count": 29,
     "metadata": {},
     "output_type": "execute_result"
    }
   ],
   "source": [
    "0.5 + 0.5 == 1"
   ]
  },
  {
   "cell_type": "code",
   "execution_count": 30,
   "id": "6cf0d8db-fdd0-4d04-9274-dce9609094b1",
   "metadata": {},
   "outputs": [
    {
     "data": {
      "text/plain": [
       "True"
      ]
     },
     "execution_count": 30,
     "metadata": {},
     "output_type": "execute_result"
    }
   ],
   "source": [
    "1 + 2 == 3"
   ]
  },
  {
   "cell_type": "code",
   "execution_count": 31,
   "id": "2d63e1a1-35f3-4fbd-9e01-63c1dbb4849c",
   "metadata": {},
   "outputs": [
    {
     "data": {
      "text/plain": [
       "False"
      ]
     },
     "execution_count": 31,
     "metadata": {},
     "output_type": "execute_result"
    }
   ],
   "source": [
    "0.1 + 0.2 == 0.3"
   ]
  },
  {
   "cell_type": "code",
   "execution_count": 32,
   "id": "43b33f4b-9ea2-4728-bfc1-4b1fcce25507",
   "metadata": {},
   "outputs": [
    {
     "data": {
      "text/plain": [
       "0.30000000000000004"
      ]
     },
     "execution_count": 32,
     "metadata": {},
     "output_type": "execute_result"
    }
   ],
   "source": [
    "0.1 + 0.2"
   ]
  },
  {
   "cell_type": "code",
   "execution_count": 33,
   "id": "af0e970f-19a6-4c56-afba-6f54e10935c5",
   "metadata": {},
   "outputs": [
    {
     "data": {
      "text/plain": [
       "3"
      ]
     },
     "execution_count": 33,
     "metadata": {},
     "output_type": "execute_result"
    }
   ],
   "source": [
    "1 + 2"
   ]
  },
  {
   "cell_type": "code",
   "execution_count": 34,
   "id": "f5d04fe0-cc31-4a00-9f07-3f696cb8c0e4",
   "metadata": {},
   "outputs": [
    {
     "data": {
      "text/plain": [
       "10000"
      ]
     },
     "execution_count": 34,
     "metadata": {},
     "output_type": "execute_result"
    }
   ],
   "source": [
    "100 * 100"
   ]
  },
  {
   "cell_type": "code",
   "execution_count": 35,
   "id": "3dea6ae0-321f-4063-9f2e-c7359f41de25",
   "metadata": {},
   "outputs": [
    {
     "data": {
      "text/plain": [
       "'foofoofoofoofoofoofoofoofoofoo'"
      ]
     },
     "execution_count": 35,
     "metadata": {},
     "output_type": "execute_result"
    }
   ],
   "source": [
    "\"foo\" * 10"
   ]
  },
  {
   "cell_type": "code",
   "execution_count": 36,
   "id": "6dfb9f5e-5a83-4d56-8b2d-605fce4cf3c4",
   "metadata": {},
   "outputs": [
    {
     "data": {
      "text/plain": [
       "'foo barfoo barfoo bar'"
      ]
     },
     "execution_count": 36,
     "metadata": {},
     "output_type": "execute_result"
    }
   ],
   "source": [
    "\"foo bar\" * 3"
   ]
  },
  {
   "cell_type": "code",
   "execution_count": 37,
   "id": "5035b4cc-cc1c-47b0-9f3b-89958c02ffcf",
   "metadata": {},
   "outputs": [
    {
     "data": {
      "text/plain": [
       "'foo bar foo bar foo bar '"
      ]
     },
     "execution_count": 37,
     "metadata": {},
     "output_type": "execute_result"
    }
   ],
   "source": [
    "\"foo bar \" * 3"
   ]
  },
  {
   "cell_type": "code",
   "execution_count": 38,
   "id": "a6cad91c-deed-4533-82c9-be3b395ec41c",
   "metadata": {},
   "outputs": [
    {
     "data": {
      "text/plain": [
       "'Hello 5'"
      ]
     },
     "execution_count": 38,
     "metadata": {},
     "output_type": "execute_result"
    }
   ],
   "source": [
    "f\"Hello {2 + 3}\""
   ]
  },
  {
   "cell_type": "code",
   "execution_count": 39,
   "id": "ae31a4e4-8f3e-43cf-a210-d11ecbc6626f",
   "metadata": {},
   "outputs": [],
   "source": [
    "name = \"John\""
   ]
  },
  {
   "cell_type": "code",
   "execution_count": 40,
   "id": "d1d6a05b-10a7-4c66-bfa0-17571c69f323",
   "metadata": {},
   "outputs": [],
   "source": [
    "age = 42"
   ]
  },
  {
   "cell_type": "code",
   "execution_count": 41,
   "id": "b3b5a272-13f7-4bfb-b2ec-722b683be194",
   "metadata": {},
   "outputs": [
    {
     "name": "stdout",
     "output_type": "stream",
     "text": [
      "I'm John of age 42\n"
     ]
    }
   ],
   "source": [
    "print(f\"I'm {name} of age {age}\")"
   ]
  },
  {
   "cell_type": "code",
   "execution_count": 42,
   "id": "4db9ae24-d6d3-4c6e-b5cb-42175bad00fb",
   "metadata": {},
   "outputs": [
    {
     "data": {
      "text/plain": [
       "'foo bar'"
      ]
     },
     "execution_count": 42,
     "metadata": {},
     "output_type": "execute_result"
    }
   ],
   "source": [
    "\"foo\" + ' ' + \"bar\""
   ]
  },
  {
   "cell_type": "code",
   "execution_count": 43,
   "id": "746d52fd-7f13-47d9-941f-d4bf7bfa8afc",
   "metadata": {},
   "outputs": [
    {
     "data": {
      "text/plain": [
       "'foo bar'"
      ]
     },
     "execution_count": 43,
     "metadata": {},
     "output_type": "execute_result"
    }
   ],
   "source": [
    "'foo ' + 'bar'"
   ]
  },
  {
   "cell_type": "code",
   "execution_count": 44,
   "id": "c3efb05d-b1ff-41e0-819b-9e21734086b5",
   "metadata": {},
   "outputs": [
    {
     "name": "stdout",
     "output_type": "stream",
     "text": [
      "I'm Bob of age 33\n"
     ]
    }
   ],
   "source": [
    "print(\"I'm {name} of age {age}\".format(name=\"Bob\", age=33))"
   ]
  },
  {
   "cell_type": "code",
   "execution_count": 45,
   "id": "100454bc-3a51-4ac7-9de5-37568dbb4330",
   "metadata": {},
   "outputs": [
    {
     "data": {
      "text/plain": [
       "False"
      ]
     },
     "execution_count": 45,
     "metadata": {},
     "output_type": "execute_result"
    }
   ],
   "source": [
    "1 == 2"
   ]
  },
  {
   "cell_type": "code",
   "execution_count": 46,
   "id": "63ab0945-5e27-413c-9cf2-9a74890d4bfc",
   "metadata": {},
   "outputs": [
    {
     "data": {
      "text/plain": [
       "True"
      ]
     },
     "execution_count": 46,
     "metadata": {},
     "output_type": "execute_result"
    }
   ],
   "source": [
    "0.1 == 0.10000000000000001"
   ]
  },
  {
   "cell_type": "code",
   "execution_count": 47,
   "id": "989dcab6-921b-45d4-8311-c7bb41e9ce38",
   "metadata": {},
   "outputs": [
    {
     "data": {
      "text/plain": [
       "0.1"
      ]
     },
     "execution_count": 47,
     "metadata": {},
     "output_type": "execute_result"
    }
   ],
   "source": [
    "0.10000000000000001"
   ]
  },
  {
   "cell_type": "code",
   "execution_count": 48,
   "id": "ce3bfb29-19a3-487d-83e1-be7ad7e06abf",
   "metadata": {},
   "outputs": [
    {
     "data": {
      "text/plain": [
       "0.100000000000001"
      ]
     },
     "execution_count": 48,
     "metadata": {},
     "output_type": "execute_result"
    }
   ],
   "source": [
    "0.100000000000001"
   ]
  },
  {
   "cell_type": "code",
   "execution_count": 49,
   "id": "982457a1-e715-4a17-88b0-36b453db8dcb",
   "metadata": {},
   "outputs": [
    {
     "data": {
      "text/plain": [
       "False"
      ]
     },
     "execution_count": 49,
     "metadata": {},
     "output_type": "execute_result"
    }
   ],
   "source": [
    "0.100000000000001 == 0.1"
   ]
  },
  {
   "cell_type": "code",
   "execution_count": 50,
   "id": "0fd4915f-17a7-4f5f-9d90-855e0ee1c112",
   "metadata": {},
   "outputs": [
    {
     "data": {
      "text/plain": [
       "True"
      ]
     },
     "execution_count": 50,
     "metadata": {},
     "output_type": "execute_result"
    }
   ],
   "source": [
    "True"
   ]
  },
  {
   "cell_type": "code",
   "execution_count": 51,
   "id": "54e272da-4546-4154-8a30-0db8daccf35b",
   "metadata": {},
   "outputs": [
    {
     "data": {
      "text/plain": [
       "False"
      ]
     },
     "execution_count": 51,
     "metadata": {},
     "output_type": "execute_result"
    }
   ],
   "source": [
    "False"
   ]
  },
  {
   "cell_type": "code",
   "execution_count": 52,
   "id": "988f0139-10cf-4dae-a342-299b98a1afcb",
   "metadata": {},
   "outputs": [
    {
     "data": {
      "text/plain": [
       "123"
      ]
     },
     "execution_count": 52,
     "metadata": {},
     "output_type": "execute_result"
    }
   ],
   "source": [
    "123"
   ]
  },
  {
   "cell_type": "code",
   "execution_count": 53,
   "id": "64835e30-d058-4ab3-827d-9efc75bf5aff",
   "metadata": {},
   "outputs": [
    {
     "data": {
      "text/plain": [
       "123.5"
      ]
     },
     "execution_count": 53,
     "metadata": {},
     "output_type": "execute_result"
    }
   ],
   "source": [
    "123.5"
   ]
  },
  {
   "cell_type": "code",
   "execution_count": 54,
   "id": "ac80e6db-eb81-4859-9808-620a2f80c778",
   "metadata": {},
   "outputs": [
    {
     "data": {
      "text/plain": [
       "int"
      ]
     },
     "execution_count": 54,
     "metadata": {},
     "output_type": "execute_result"
    }
   ],
   "source": [
    "type(123)"
   ]
  },
  {
   "cell_type": "code",
   "execution_count": 55,
   "id": "da381e4c-74b9-4576-8eb3-2f7cd7f7c54c",
   "metadata": {},
   "outputs": [
    {
     "name": "stdout",
     "output_type": "stream",
     "text": [
      "<class 'int'>\n"
     ]
    }
   ],
   "source": [
    "print(type(123))"
   ]
  },
  {
   "cell_type": "code",
   "execution_count": 56,
   "id": "39fbb745-0c9b-4669-85a8-a4edc9536057",
   "metadata": {},
   "outputs": [
    {
     "name": "stdout",
     "output_type": "stream",
     "text": [
      "<class 'float'>\n"
     ]
    }
   ],
   "source": [
    "print(type(1.23))"
   ]
  },
  {
   "cell_type": "code",
   "execution_count": 57,
   "id": "74ec2c0e-c2c7-4afd-bf30-ae408b2e409b",
   "metadata": {},
   "outputs": [
    {
     "name": "stdout",
     "output_type": "stream",
     "text": [
      "<class 'str'>\n"
     ]
    }
   ],
   "source": [
    "print(type(\"abc\"))"
   ]
  },
  {
   "cell_type": "code",
   "execution_count": 58,
   "id": "b1533e0d-f843-41c5-a141-40bccfe9150f",
   "metadata": {},
   "outputs": [
    {
     "name": "stdout",
     "output_type": "stream",
     "text": [
      "<class 'str'>\n"
     ]
    }
   ],
   "source": [
    "print(type(f'abc'))"
   ]
  },
  {
   "cell_type": "code",
   "execution_count": 59,
   "id": "1edc7a44-a01f-4566-b5f0-7b0e9ec5e341",
   "metadata": {},
   "outputs": [
    {
     "name": "stdout",
     "output_type": "stream",
     "text": [
      "<class 'bool'>\n"
     ]
    }
   ],
   "source": [
    "print(type(True))"
   ]
  },
  {
   "cell_type": "code",
   "execution_count": 60,
   "id": "c8dcddcc-4716-40b8-91e2-78d7ee60624a",
   "metadata": {},
   "outputs": [
    {
     "data": {
      "text/plain": [
       "42"
      ]
     },
     "execution_count": 60,
     "metadata": {},
     "output_type": "execute_result"
    }
   ],
   "source": [
    "age"
   ]
  },
  {
   "cell_type": "code",
   "execution_count": 61,
   "id": "22257a5a-ec9d-47c8-9caa-5b56358e1c9f",
   "metadata": {},
   "outputs": [],
   "source": [
    "number = 3.1415"
   ]
  },
  {
   "cell_type": "code",
   "execution_count": 62,
   "id": "8d96edbb-9e8d-420d-8148-3355fa985fd9",
   "metadata": {},
   "outputs": [
    {
     "name": "stdout",
     "output_type": "stream",
     "text": [
      "<class 'float'>\n"
     ]
    }
   ],
   "source": [
    "print(type(number))"
   ]
  },
  {
   "cell_type": "code",
   "execution_count": 63,
   "id": "e652071a-b610-4863-b1aa-5118d1c213f7",
   "metadata": {},
   "outputs": [
    {
     "name": "stdout",
     "output_type": "stream",
     "text": [
      "<class 'int'>\n"
     ]
    }
   ],
   "source": [
    "print(type(age))"
   ]
  },
  {
   "cell_type": "code",
   "execution_count": 64,
   "id": "775040db-c5b0-4669-b504-eb42daf335f1",
   "metadata": {},
   "outputs": [
    {
     "data": {
      "text/plain": [
       "45.1415"
      ]
     },
     "execution_count": 64,
     "metadata": {},
     "output_type": "execute_result"
    }
   ],
   "source": [
    "age + number"
   ]
  },
  {
   "cell_type": "code",
   "execution_count": 65,
   "id": "41903469-3613-4e56-aefe-a8740ae5278d",
   "metadata": {},
   "outputs": [
    {
     "data": {
      "text/plain": [
       "True"
      ]
     },
     "execution_count": 65,
     "metadata": {},
     "output_type": "execute_result"
    }
   ],
   "source": [
    "isinstance(age, int)"
   ]
  },
  {
   "cell_type": "code",
   "execution_count": 66,
   "id": "a9d03a74-27ec-4831-9c2e-abc476caee62",
   "metadata": {},
   "outputs": [
    {
     "data": {
      "text/plain": [
       "False"
      ]
     },
     "execution_count": 66,
     "metadata": {},
     "output_type": "execute_result"
    }
   ],
   "source": [
    "isinstance(age, float)"
   ]
  },
  {
   "cell_type": "code",
   "execution_count": 67,
   "id": "bc99c244-9e3f-4639-97a1-e9808f6b68f5",
   "metadata": {},
   "outputs": [
    {
     "data": {
      "text/plain": [
       "False"
      ]
     },
     "execution_count": 67,
     "metadata": {},
     "output_type": "execute_result"
    }
   ],
   "source": [
    "isinstance(number, int)"
   ]
  },
  {
   "cell_type": "code",
   "execution_count": 68,
   "id": "37c9c5a8-f549-4916-a3f8-66e6b182ded5",
   "metadata": {},
   "outputs": [
    {
     "data": {
      "text/plain": [
       "True"
      ]
     },
     "execution_count": 68,
     "metadata": {},
     "output_type": "execute_result"
    }
   ],
   "source": [
    "isinstance(number, float)"
   ]
  },
  {
   "cell_type": "code",
   "execution_count": 69,
   "id": "9d80cb89-a9ef-4499-ab87-986cfa7e8c89",
   "metadata": {},
   "outputs": [
    {
     "data": {
      "text/plain": [
       "True"
      ]
     },
     "execution_count": 69,
     "metadata": {},
     "output_type": "execute_result"
    }
   ],
   "source": [
    "isinstance(age, int | float)"
   ]
  },
  {
   "cell_type": "code",
   "execution_count": 70,
   "id": "dc783362-dcbd-45cb-8558-b316ce2ca1c8",
   "metadata": {},
   "outputs": [
    {
     "data": {
      "text/plain": [
       "True"
      ]
     },
     "execution_count": 70,
     "metadata": {},
     "output_type": "execute_result"
    }
   ],
   "source": [
    "isinstance(age, (int, float))"
   ]
  },
  {
   "cell_type": "code",
   "execution_count": 71,
   "id": "61ab12bf-51c0-4185-89cb-15d339af356a",
   "metadata": {},
   "outputs": [
    {
     "data": {
      "text/plain": [
       "True"
      ]
     },
     "execution_count": 71,
     "metadata": {},
     "output_type": "execute_result"
    }
   ],
   "source": [
    "isinstance(number, int | float)"
   ]
  },
  {
   "cell_type": "code",
   "execution_count": 72,
   "id": "de1c817b-b986-4e24-adb5-6ce6400b8c8e",
   "metadata": {},
   "outputs": [
    {
     "data": {
      "text/plain": [
       "False"
      ]
     },
     "execution_count": 72,
     "metadata": {},
     "output_type": "execute_result"
    }
   ],
   "source": [
    "isinstance(name, int | float)"
   ]
  },
  {
   "cell_type": "code",
   "execution_count": 73,
   "id": "0328bbc6-53bb-43a6-8405-d25ec1585dff",
   "metadata": {},
   "outputs": [
    {
     "data": {
      "text/plain": [
       "True"
      ]
     },
     "execution_count": 73,
     "metadata": {},
     "output_type": "execute_result"
    }
   ],
   "source": [
    "isinstance(name, int | float | str)"
   ]
  },
  {
   "cell_type": "code",
   "execution_count": 74,
   "id": "5b96c3bb-c668-4e34-9222-f99d84e270a0",
   "metadata": {},
   "outputs": [
    {
     "data": {
      "text/plain": [
       "True"
      ]
     },
     "execution_count": 74,
     "metadata": {},
     "output_type": "execute_result"
    }
   ],
   "source": [
    "isinstance(name, str)"
   ]
  },
  {
   "cell_type": "code",
   "execution_count": 75,
   "id": "2806a476-e5d0-4747-a149-e21a882e8a81",
   "metadata": {},
   "outputs": [
    {
     "data": {
      "text/plain": [
       "True"
      ]
     },
     "execution_count": 75,
     "metadata": {},
     "output_type": "execute_result"
    }
   ],
   "source": [
    "isinstance(age, int | str)"
   ]
  },
  {
   "cell_type": "code",
   "execution_count": 76,
   "id": "81137156-28a6-422b-9206-b17b2eedfdf8",
   "metadata": {},
   "outputs": [
    {
     "data": {
      "text/plain": [
       "True"
      ]
     },
     "execution_count": 76,
     "metadata": {},
     "output_type": "execute_result"
    }
   ],
   "source": [
    "isinstance(age, int | str | bool)"
   ]
  },
  {
   "cell_type": "code",
   "execution_count": 77,
   "id": "1bef4ca8-412f-4b1e-9681-5875ddba3eb4",
   "metadata": {},
   "outputs": [
    {
     "data": {
      "text/plain": [
       "True"
      ]
     },
     "execution_count": 77,
     "metadata": {},
     "output_type": "execute_result"
    }
   ],
   "source": [
    "isinstance(True, int | str | bool)"
   ]
  },
  {
   "cell_type": "code",
   "execution_count": 78,
   "id": "d31e0e26-51b3-4f02-bf9b-61155d13c544",
   "metadata": {},
   "outputs": [
    {
     "data": {
      "text/plain": [
       "True"
      ]
     },
     "execution_count": 78,
     "metadata": {},
     "output_type": "execute_result"
    }
   ],
   "source": [
    "isinstance(True, int | bool)"
   ]
  },
  {
   "cell_type": "code",
   "execution_count": 79,
   "id": "8a593ee7-0fdb-4aef-b145-1bafa53ca2ba",
   "metadata": {},
   "outputs": [
    {
     "data": {
      "text/plain": [
       "True"
      ]
     },
     "execution_count": 79,
     "metadata": {},
     "output_type": "execute_result"
    }
   ],
   "source": [
    "isinstance(True, bool)"
   ]
  },
  {
   "cell_type": "code",
   "execution_count": 80,
   "id": "75fa8d55-2865-4d00-954e-481004338e41",
   "metadata": {},
   "outputs": [
    {
     "data": {
      "text/plain": [
       "1"
      ]
     },
     "execution_count": 80,
     "metadata": {},
     "output_type": "execute_result"
    }
   ],
   "source": [
    "True + False"
   ]
  },
  {
   "cell_type": "code",
   "execution_count": 81,
   "id": "a4b0a194-1cc2-4b18-a710-60de24aec7ab",
   "metadata": {},
   "outputs": [
    {
     "data": {
      "text/plain": [
       "2"
      ]
     },
     "execution_count": 81,
     "metadata": {},
     "output_type": "execute_result"
    }
   ],
   "source": [
    "True + 1"
   ]
  },
  {
   "cell_type": "code",
   "execution_count": 82,
   "id": "8743b335-a1cf-41a4-ab05-039c6714aea1",
   "metadata": {},
   "outputs": [
    {
     "data": {
      "text/plain": [
       "2"
      ]
     },
     "execution_count": 82,
     "metadata": {},
     "output_type": "execute_result"
    }
   ],
   "source": [
    "True + True"
   ]
  },
  {
   "cell_type": "code",
   "execution_count": 83,
   "id": "4d01d63f-4f9e-4209-ad39-198bed302560",
   "metadata": {},
   "outputs": [
    {
     "data": {
      "text/plain": [
       "3"
      ]
     },
     "execution_count": 83,
     "metadata": {},
     "output_type": "execute_result"
    }
   ],
   "source": [
    "True * 3"
   ]
  },
  {
   "cell_type": "code",
   "execution_count": 84,
   "id": "e796cf65-681d-4de0-a13b-d37df4e9eee0",
   "metadata": {},
   "outputs": [
    {
     "data": {
      "text/plain": [
       "2"
      ]
     },
     "execution_count": 84,
     "metadata": {},
     "output_type": "execute_result"
    }
   ],
   "source": [
    "True + False + True"
   ]
  },
  {
   "cell_type": "code",
   "execution_count": 85,
   "id": "b011e05b-a1d8-4267-b346-be43a3739247",
   "metadata": {},
   "outputs": [
    {
     "data": {
      "text/plain": [
       "True"
      ]
     },
     "execution_count": 85,
     "metadata": {},
     "output_type": "execute_result"
    }
   ],
   "source": [
    "isinstance(True, int)"
   ]
  },
  {
   "cell_type": "code",
   "execution_count": 86,
   "id": "92a42ad8-2996-421d-97b4-4f7afa9175f1",
   "metadata": {},
   "outputs": [
    {
     "data": {
      "text/plain": [
       "True"
      ]
     },
     "execution_count": 86,
     "metadata": {},
     "output_type": "execute_result"
    }
   ],
   "source": [
    "1 == True"
   ]
  },
  {
   "cell_type": "code",
   "execution_count": 87,
   "id": "29f9948a-fdbf-4c1b-8263-ca18dcdbade0",
   "metadata": {},
   "outputs": [
    {
     "data": {
      "text/plain": [
       "True"
      ]
     },
     "execution_count": 87,
     "metadata": {},
     "output_type": "execute_result"
    }
   ],
   "source": [
    "0 == False"
   ]
  },
  {
   "cell_type": "code",
   "execution_count": 88,
   "id": "7069576f-67a4-4e7a-a904-05550cbf22f1",
   "metadata": {},
   "outputs": [
    {
     "data": {
      "text/plain": [
       "False"
      ]
     },
     "execution_count": 88,
     "metadata": {},
     "output_type": "execute_result"
    }
   ],
   "source": [
    "2 == True"
   ]
  },
  {
   "cell_type": "code",
   "execution_count": 89,
   "id": "43914647-b8cd-4497-9895-26cac00cc1c3",
   "metadata": {},
   "outputs": [
    {
     "data": {
      "text/plain": [
       "False"
      ]
     },
     "execution_count": 89,
     "metadata": {},
     "output_type": "execute_result"
    }
   ],
   "source": [
    "bool(0)"
   ]
  },
  {
   "cell_type": "code",
   "execution_count": 90,
   "id": "4da10956-1633-4909-a3c7-90d57ccebc6b",
   "metadata": {},
   "outputs": [
    {
     "data": {
      "text/plain": [
       "True"
      ]
     },
     "execution_count": 90,
     "metadata": {},
     "output_type": "execute_result"
    }
   ],
   "source": [
    "bool(1)"
   ]
  },
  {
   "cell_type": "code",
   "execution_count": 91,
   "id": "3d18cf96-f57b-4b30-9186-ddeb06560a10",
   "metadata": {},
   "outputs": [
    {
     "data": {
      "text/plain": [
       "True"
      ]
     },
     "execution_count": 91,
     "metadata": {},
     "output_type": "execute_result"
    }
   ],
   "source": [
    "bool(2)"
   ]
  },
  {
   "cell_type": "code",
   "execution_count": 92,
   "id": "945e509a-a03a-4125-a75c-9051d08a897e",
   "metadata": {},
   "outputs": [
    {
     "data": {
      "text/plain": [
       "True"
      ]
     },
     "execution_count": 92,
     "metadata": {},
     "output_type": "execute_result"
    }
   ],
   "source": [
    "bool(\"foo\")"
   ]
  },
  {
   "cell_type": "code",
   "execution_count": 93,
   "id": "9c8101d2-4e95-46a6-9c7a-fa788a3ae49b",
   "metadata": {},
   "outputs": [
    {
     "data": {
      "text/plain": [
       "True"
      ]
     },
     "execution_count": 93,
     "metadata": {},
     "output_type": "execute_result"
    }
   ],
   "source": [
    "bool(\"0\")"
   ]
  },
  {
   "cell_type": "code",
   "execution_count": 94,
   "id": "8ad59137-af04-4866-86de-5a4cd7e5f60c",
   "metadata": {},
   "outputs": [
    {
     "data": {
      "text/plain": [
       "True"
      ]
     },
     "execution_count": 94,
     "metadata": {},
     "output_type": "execute_result"
    }
   ],
   "source": [
    "bool('0')"
   ]
  },
  {
   "cell_type": "code",
   "execution_count": 95,
   "id": "0b806a70-93c2-4d4b-98c5-6fa43b39b6d6",
   "metadata": {},
   "outputs": [
    {
     "data": {
      "text/plain": [
       "False"
      ]
     },
     "execution_count": 95,
     "metadata": {},
     "output_type": "execute_result"
    }
   ],
   "source": [
    "bool('')"
   ]
  },
  {
   "cell_type": "code",
   "execution_count": 96,
   "id": "1aa6e878-ad34-4291-aa54-6a00a285f70a",
   "metadata": {},
   "outputs": [
    {
     "data": {
      "text/plain": [
       "False"
      ]
     },
     "execution_count": 96,
     "metadata": {},
     "output_type": "execute_result"
    }
   ],
   "source": [
    "bool(0.0)"
   ]
  },
  {
   "cell_type": "code",
   "execution_count": 97,
   "id": "6dcb30bf-82ba-400d-b523-d27c11b0b21e",
   "metadata": {},
   "outputs": [
    {
     "data": {
      "text/plain": [
       "True"
      ]
     },
     "execution_count": 97,
     "metadata": {},
     "output_type": "execute_result"
    }
   ],
   "source": [
    "bool(name)"
   ]
  },
  {
   "cell_type": "code",
   "execution_count": 98,
   "id": "61dc1d7d-a72e-44c6-be11-7bc2aa15069b",
   "metadata": {},
   "outputs": [
    {
     "data": {
      "text/plain": [
       "True"
      ]
     },
     "execution_count": 98,
     "metadata": {},
     "output_type": "execute_result"
    }
   ],
   "source": [
    "bool(age)"
   ]
  },
  {
   "cell_type": "code",
   "execution_count": 99,
   "id": "2c045f20-525c-431e-a7a2-b8fb42c3565e",
   "metadata": {},
   "outputs": [
    {
     "data": {
      "text/plain": [
       "True"
      ]
     },
     "execution_count": 99,
     "metadata": {},
     "output_type": "execute_result"
    }
   ],
   "source": [
    "bool(-100000)"
   ]
  },
  {
   "cell_type": "code",
   "execution_count": 100,
   "id": "09bd815e-620b-499c-9016-50748a3cef86",
   "metadata": {},
   "outputs": [
    {
     "data": {
      "text/plain": [
       "True"
      ]
     },
     "execution_count": 100,
     "metadata": {},
     "output_type": "execute_result"
    }
   ],
   "source": [
    "bool(-100_000)"
   ]
  },
  {
   "cell_type": "code",
   "execution_count": 101,
   "id": "07c414e2-c96c-445c-a9d4-3a276fd477ba",
   "metadata": {},
   "outputs": [],
   "source": [
    "num = 3_456_789"
   ]
  },
  {
   "cell_type": "code",
   "execution_count": 102,
   "id": "33f77524-a7db-43aa-a37f-21c264146695",
   "metadata": {},
   "outputs": [
    {
     "name": "stdout",
     "output_type": "stream",
     "text": [
      "3456789\n"
     ]
    }
   ],
   "source": [
    "print(num)"
   ]
  },
  {
   "cell_type": "code",
   "execution_count": 103,
   "id": "63426b3a-31d8-4920-b0e3-35df3f7b11b6",
   "metadata": {},
   "outputs": [
    {
     "data": {
      "text/plain": [
       "8"
      ]
     },
     "execution_count": 103,
     "metadata": {},
     "output_type": "execute_result"
    }
   ],
   "source": [
    "2**3"
   ]
  },
  {
   "cell_type": "code",
   "execution_count": 104,
   "id": "a159de53-e176-4101-a9fe-051ff52eb709",
   "metadata": {},
   "outputs": [],
   "source": [
    "p = num**num"
   ]
  },
  {
   "cell_type": "code",
   "execution_count": 105,
   "id": "f3923568-a5b6-4921-bb01-491bf55060cc",
   "metadata": {},
   "outputs": [
    {
     "data": {
      "text/plain": [
       "709"
      ]
     },
     "execution_count": 105,
     "metadata": {},
     "output_type": "execute_result"
    }
   ],
   "source": [
    "p % 1000"
   ]
  },
  {
   "cell_type": "code",
   "execution_count": 106,
   "id": "9be30b57-3caf-4172-ac97-6b1621496052",
   "metadata": {},
   "outputs": [
    {
     "ename": "ValueError",
     "evalue": "Exceeds the limit (4300 digits) for integer string conversion; use sys.set_int_max_str_digits() to increase the limit",
     "output_type": "error",
     "traceback": [
      "\u001b[0;31m---------------------------------------------------------------------------\u001b[0m",
      "\u001b[0;31mValueError\u001b[0m                                Traceback (most recent call last)",
      "Cell \u001b[0;32mIn[106], line 1\u001b[0m\n\u001b[0;32m----> 1\u001b[0m \u001b[38;5;28mlen\u001b[39m(\u001b[38;5;28;43mstr\u001b[39;49m\u001b[43m(\u001b[49m\u001b[43mp\u001b[49m\u001b[43m)\u001b[49m)\n",
      "\u001b[0;31mValueError\u001b[0m: Exceeds the limit (4300 digits) for integer string conversion; use sys.set_int_max_str_digits() to increase the limit"
     ]
    }
   ],
   "source": [
    "len(str(p))"
   ]
  },
  {
   "cell_type": "code",
   "execution_count": 107,
   "id": "2ba3239e-a092-4cfa-ac39-94d9aa77e66e",
   "metadata": {},
   "outputs": [],
   "source": [
    "import sys\n",
    "\n",
    "sys.set_int_max_str_digits(1_000_000)"
   ]
  },
  {
   "cell_type": "code",
   "execution_count": 108,
   "id": "23c00653-5010-467f-8276-d3ec51ae2fdf",
   "metadata": {},
   "outputs": [
    {
     "ename": "ValueError",
     "evalue": "Exceeds the limit (1000000 digits) for integer string conversion; use sys.set_int_max_str_digits() to increase the limit",
     "output_type": "error",
     "traceback": [
      "\u001b[0;31m---------------------------------------------------------------------------\u001b[0m",
      "\u001b[0;31mValueError\u001b[0m                                Traceback (most recent call last)",
      "Cell \u001b[0;32mIn[108], line 1\u001b[0m\n\u001b[0;32m----> 1\u001b[0m \u001b[38;5;28mlen\u001b[39m(\u001b[38;5;28;43mstr\u001b[39;49m\u001b[43m(\u001b[49m\u001b[43mp\u001b[49m\u001b[43m)\u001b[49m)\n",
      "\u001b[0;31mValueError\u001b[0m: Exceeds the limit (1000000 digits) for integer string conversion; use sys.set_int_max_str_digits() to increase the limit"
     ]
    }
   ],
   "source": [
    "len(str(p))"
   ]
  },
  {
   "cell_type": "code",
   "execution_count": 109,
   "id": "3244b683-076d-491f-8db3-cbebec9fdf85",
   "metadata": {},
   "outputs": [],
   "source": [
    "sys.set_int_max_str_digits(1_000_000_000)"
   ]
  },
  {
   "cell_type": "code",
   "execution_count": 110,
   "id": "40067f4f-0146-4b77-bb12-0186ed825667",
   "metadata": {},
   "outputs": [
    {
     "data": {
      "text/plain": [
       "22602813"
      ]
     },
     "execution_count": 110,
     "metadata": {},
     "output_type": "execute_result"
    }
   ],
   "source": [
    "len(str(p))"
   ]
  },
  {
   "cell_type": "code",
   "execution_count": 111,
   "id": "b64a680a-7a61-4f02-a402-e52e5678b67f",
   "metadata": {},
   "outputs": [
    {
     "data": {
      "text/plain": [
       "81"
      ]
     },
     "execution_count": 111,
     "metadata": {},
     "output_type": "execute_result"
    }
   ],
   "source": [
    "len(str(10**80))"
   ]
  },
  {
   "cell_type": "code",
   "execution_count": 112,
   "id": "8db54229-0d66-45f7-b1e1-fb289dd83a8f",
   "metadata": {},
   "outputs": [
    {
     "data": {
      "text/plain": [
       "83"
      ]
     },
     "execution_count": 112,
     "metadata": {},
     "output_type": "execute_result"
    }
   ],
   "source": [
    "len(str(10**82))"
   ]
  },
  {
   "cell_type": "code",
   "execution_count": 113,
   "id": "dab943df-502b-41e9-befa-3b8ce0c4de71",
   "metadata": {},
   "outputs": [
    {
     "data": {
      "text/plain": [
       "272323.0481927711"
      ]
     },
     "execution_count": 113,
     "metadata": {},
     "output_type": "execute_result"
    }
   ],
   "source": [
    "22602813 / 83"
   ]
  },
  {
   "cell_type": "code",
   "execution_count": null,
   "id": "1a5761ec-7b80-4b90-a889-c0a35a722280",
   "metadata": {},
   "outputs": [],
   "source": []
  }
 ],
 "metadata": {
  "kernelspec": {
   "display_name": "Python 3 (ipykernel)",
   "language": "python",
   "name": "python3"
  },
  "language_info": {
   "codemirror_mode": {
    "name": "ipython",
    "version": 3
   },
   "file_extension": ".py",
   "mimetype": "text/x-python",
   "name": "python",
   "nbconvert_exporter": "python",
   "pygments_lexer": "ipython3",
   "version": "3.12.3"
  }
 },
 "nbformat": 4,
 "nbformat_minor": 5
}
