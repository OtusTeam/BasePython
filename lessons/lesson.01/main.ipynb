{
 "cells": [
  {
   "cell_type": "code",
   "execution_count": 1,
   "id": "cfa4f57f-a4b2-4a76-8194-0ff6520f25e4",
   "metadata": {},
   "outputs": [
    {
     "name": "stdout",
     "output_type": "stream",
     "text": [
      "Hello World!\n"
     ]
    }
   ],
   "source": [
    "print(\"Hello World!\")"
   ]
  },
  {
   "cell_type": "code",
   "execution_count": 2,
   "id": "894272ab-1866-4a38-bff3-e74ddbc0c71b",
   "metadata": {},
   "outputs": [
    {
     "name": "stdout",
     "output_type": "stream",
     "text": [
      "\n"
     ]
    }
   ],
   "source": [
    "print()"
   ]
  },
  {
   "cell_type": "code",
   "execution_count": 3,
   "id": "154eeff4-0dd5-4a09-ae94-48e787507bc5",
   "metadata": {},
   "outputs": [
    {
     "name": "stdout",
     "output_type": "stream",
     "text": [
      "hello world\n"
     ]
    }
   ],
   "source": [
    "print('hello', \"world\")"
   ]
  },
  {
   "cell_type": "code",
   "execution_count": 4,
   "id": "9e1eeed8-03fb-4277-9f1e-d70f0745bda5",
   "metadata": {},
   "outputs": [
    {
     "name": "stdout",
     "output_type": "stream",
     "text": [
      "Hello, it's me!\n"
     ]
    }
   ],
   "source": [
    "print('Hello, it\\'s me!')"
   ]
  },
  {
   "cell_type": "code",
   "execution_count": 5,
   "id": "43748df5-b74a-4fb2-a80a-8a8fdf0d215d",
   "metadata": {},
   "outputs": [
    {
     "name": "stdout",
     "output_type": "stream",
     "text": [
      "Hello, it's me!\n"
     ]
    }
   ],
   "source": [
    "print(\"Hello, it's me!\")"
   ]
  },
  {
   "cell_type": "code",
   "execution_count": 6,
   "id": "76f7ab5b-235c-473f-b3f9-3a818c9836a4",
   "metadata": {},
   "outputs": [
    {
     "name": "stdout",
     "output_type": "stream",
     "text": [
      "1 is \"one\"\n"
     ]
    }
   ],
   "source": [
    "print('1 is \"one\"')"
   ]
  },
  {
   "cell_type": "code",
   "execution_count": 7,
   "id": "9c31b2ef-38d3-46ad-8816-4143b7f93dd2",
   "metadata": {},
   "outputs": [
    {
     "name": "stdout",
     "output_type": "stream",
     "text": [
      "it's me, \"John\"\n"
     ]
    }
   ],
   "source": [
    "print('it\\'s me, \"John\"')"
   ]
  },
  {
   "cell_type": "code",
   "execution_count": 8,
   "id": "da4a351d-1890-4335-873c-9e63a894aeb9",
   "metadata": {},
   "outputs": [
    {
     "name": "stdout",
     "output_type": "stream",
     "text": [
      "it's me, \"John\"\n"
     ]
    }
   ],
   "source": [
    "print('''it's me, \"John\"''')"
   ]
  },
  {
   "cell_type": "code",
   "execution_count": 9,
   "id": "c9c03c43-a7e8-49ce-887a-ae349bd7ee06",
   "metadata": {},
   "outputs": [
    {
     "name": "stdout",
     "output_type": "stream",
     "text": [
      "- hi!\n",
      "- hello\n",
      "- what's up\n",
      "- good, you?\n",
      "- ok, bye\n",
      "\n"
     ]
    }
   ],
   "source": [
    "print('''- hi!\n",
    "- hello\n",
    "- what's up\n",
    "- good, you?\n",
    "- ok, bye\n",
    "''')"
   ]
  },
  {
   "cell_type": "code",
   "execution_count": 10,
   "id": "79f4a94b-9c8a-46bc-a5de-33681649ef9d",
   "metadata": {},
   "outputs": [
    {
     "name": "stdout",
     "output_type": "stream",
     "text": [
      "- hi!\n",
      "- hello\n",
      "- what's up\n",
      "- good, you?\n",
      "- ok, bye\n"
     ]
    }
   ],
   "source": [
    "print('''- hi!\n",
    "- hello\n",
    "- what's up\n",
    "- good, you?\n",
    "- ok, bye''')"
   ]
  },
  {
   "cell_type": "code",
   "execution_count": 11,
   "id": "85a81aa2-69e7-41d0-b5aa-c44df600c399",
   "metadata": {},
   "outputs": [
    {
     "name": "stdout",
     "output_type": "stream",
     "text": [
      "\n",
      "- hi!\n",
      "- hello\n",
      "- what's up\n",
      "- good, you?\n",
      "- ok, bye\n",
      "\n"
     ]
    }
   ],
   "source": [
    "print('''\n",
    "- hi!\n",
    "- hello\n",
    "- what's up\n",
    "- good, you?\n",
    "- ok, bye\n",
    "''')"
   ]
  },
  {
   "cell_type": "code",
   "execution_count": 12,
   "id": "1f81b9e5-2560-452a-9d6d-44a464959ad0",
   "metadata": {},
   "outputs": [
    {
     "name": "stdout",
     "output_type": "stream",
     "text": [
      "- hi!\n",
      "- hello\n",
      "- what's up\n",
      "- good, you?\n",
      "- ok, bye\n",
      "\n"
     ]
    }
   ],
   "source": [
    "print('''\\\n",
    "- hi!\n",
    "- hello\n",
    "- what's up\n",
    "- good, you?\n",
    "- ok, bye\n",
    "''')"
   ]
  },
  {
   "cell_type": "code",
   "execution_count": 13,
   "id": "1fa589fb-5bdf-42ad-8424-ac30ff0bc02e",
   "metadata": {},
   "outputs": [
    {
     "name": "stdout",
     "output_type": "stream",
     "text": [
      "- hi!\n",
      "- hello\n",
      "- what's up\n",
      "- good, you?\n",
      "- ok, bye\n"
     ]
    }
   ],
   "source": [
    "print('''\\\n",
    "- hi!\n",
    "- hello\n",
    "- what's up\n",
    "- good, you?\n",
    "- ok, bye\\\n",
    "''')"
   ]
  },
  {
   "cell_type": "code",
   "execution_count": 14,
   "id": "6da4e665-7804-48a4-ba34-d58b04aa8329",
   "metadata": {},
   "outputs": [
    {
     "data": {
      "text/plain": [
       "3"
      ]
     },
     "execution_count": 14,
     "metadata": {},
     "output_type": "execute_result"
    }
   ],
   "source": [
    "1 + 2"
   ]
  },
  {
   "cell_type": "code",
   "execution_count": 15,
   "id": "d72427e5-bd9c-42fc-bbc4-83ee34937691",
   "metadata": {},
   "outputs": [
    {
     "data": {
      "text/plain": [
       "'Hello'"
      ]
     },
     "execution_count": 15,
     "metadata": {},
     "output_type": "execute_result"
    }
   ],
   "source": [
    "'Hello'"
   ]
  },
  {
   "cell_type": "code",
   "execution_count": 16,
   "id": "c9c58646-f01c-4982-ab63-4fe9f16d835f",
   "metadata": {},
   "outputs": [
    {
     "data": {
      "text/plain": [
       "'hello'"
      ]
     },
     "execution_count": 16,
     "metadata": {},
     "output_type": "execute_result"
    }
   ],
   "source": [
    "\"hello\""
   ]
  },
  {
   "cell_type": "code",
   "execution_count": 17,
   "id": "e8f5a975-43ee-4691-b03a-ca66dc863573",
   "metadata": {},
   "outputs": [
    {
     "data": {
      "text/plain": [
       "\"hello, it's me!\""
      ]
     },
     "execution_count": 17,
     "metadata": {},
     "output_type": "execute_result"
    }
   ],
   "source": [
    "\"hello, it's me!\""
   ]
  },
  {
   "cell_type": "code",
   "execution_count": 18,
   "id": "1057e8a0-84b7-4640-818b-512a6584395c",
   "metadata": {},
   "outputs": [
    {
     "data": {
      "text/plain": [
       "\"hello, it's me!\""
      ]
     },
     "execution_count": 18,
     "metadata": {},
     "output_type": "execute_result"
    }
   ],
   "source": [
    "'hello, it\\'s me!'"
   ]
  },
  {
   "cell_type": "code",
   "execution_count": 19,
   "id": "61cbad72-1e15-4ac2-89e3-107f9d51f7b4",
   "metadata": {},
   "outputs": [
    {
     "name": "stdout",
     "output_type": "stream",
     "text": [
      "one\n",
      "two\n"
     ]
    }
   ],
   "source": [
    "print(\"one\")\n",
    "print('two')"
   ]
  },
  {
   "cell_type": "code",
   "execution_count": 20,
   "id": "83dc8ea2-e355-4356-8977-ea0f70b209fb",
   "metadata": {},
   "outputs": [
    {
     "data": {
      "text/plain": [
       "1"
      ]
     },
     "execution_count": 20,
     "metadata": {},
     "output_type": "execute_result"
    }
   ],
   "source": [
    "1"
   ]
  },
  {
   "cell_type": "code",
   "execution_count": 21,
   "id": "1f88e304-5025-4483-8716-f2737b9de386",
   "metadata": {},
   "outputs": [
    {
     "data": {
      "text/plain": [
       "'2'"
      ]
     },
     "execution_count": 21,
     "metadata": {},
     "output_type": "execute_result"
    }
   ],
   "source": [
    "\"2\""
   ]
  },
  {
   "cell_type": "code",
   "execution_count": 22,
   "id": "ac104dfe-ad36-4d79-83e2-88a9e4c95a17",
   "metadata": {},
   "outputs": [
    {
     "data": {
      "text/plain": [
       "7"
      ]
     },
     "execution_count": 22,
     "metadata": {},
     "output_type": "execute_result"
    }
   ],
   "source": [
    "1 + 2 \n",
    "3 + 4"
   ]
  },
  {
   "cell_type": "code",
   "execution_count": 23,
   "id": "e7290e06-69ff-4745-bba4-d41a4ef3661f",
   "metadata": {},
   "outputs": [
    {
     "name": "stdout",
     "output_type": "stream",
     "text": [
      "3\n",
      "7\n"
     ]
    }
   ],
   "source": [
    "print(1 + 2)\n",
    "print(3 + 4)"
   ]
  },
  {
   "cell_type": "code",
   "execution_count": 24,
   "id": "ff8cf521-91b0-423a-a5cf-41e44d2d1d8a",
   "metadata": {},
   "outputs": [
    {
     "data": {
      "text/plain": [
       "False"
      ]
     },
     "execution_count": 24,
     "metadata": {},
     "output_type": "execute_result"
    }
   ],
   "source": [
    "1 == 2"
   ]
  },
  {
   "cell_type": "code",
   "execution_count": 25,
   "id": "d20f163d-05ab-4ea9-931c-ef3ffd759d14",
   "metadata": {},
   "outputs": [
    {
     "data": {
      "text/plain": [
       "True"
      ]
     },
     "execution_count": 25,
     "metadata": {},
     "output_type": "execute_result"
    }
   ],
   "source": [
    "1 == 1"
   ]
  },
  {
   "cell_type": "code",
   "execution_count": 26,
   "id": "f066470b-a902-493b-b177-79b5fc436fa1",
   "metadata": {},
   "outputs": [
    {
     "data": {
      "text/plain": [
       "True"
      ]
     },
     "execution_count": 26,
     "metadata": {},
     "output_type": "execute_result"
    }
   ],
   "source": [
    "'hello' == \"hello\""
   ]
  },
  {
   "cell_type": "code",
   "execution_count": 27,
   "id": "7daf8786-7633-422e-be0a-96a8b8b123e2",
   "metadata": {},
   "outputs": [
    {
     "data": {
      "text/plain": [
       "False"
      ]
     },
     "execution_count": 27,
     "metadata": {},
     "output_type": "execute_result"
    }
   ],
   "source": [
    "'hello ' == 'hello'"
   ]
  },
  {
   "cell_type": "code",
   "execution_count": 28,
   "id": "971ace67-1b55-4096-977e-e160da2dba53",
   "metadata": {},
   "outputs": [
    {
     "data": {
      "text/plain": [
       "False"
      ]
     },
     "execution_count": 28,
     "metadata": {},
     "output_type": "execute_result"
    }
   ],
   "source": [
    "'/hello/' == '/hello'"
   ]
  },
  {
   "cell_type": "code",
   "execution_count": 29,
   "id": "3a19edd1-ac65-433a-ae45-b472700b6154",
   "metadata": {},
   "outputs": [
    {
     "data": {
      "text/plain": [
       "True"
      ]
     },
     "execution_count": 29,
     "metadata": {},
     "output_type": "execute_result"
    }
   ],
   "source": [
    "1 != 2"
   ]
  },
  {
   "cell_type": "code",
   "execution_count": 30,
   "id": "6b59b306-c79b-4b3d-97e5-e67e647215a1",
   "metadata": {},
   "outputs": [
    {
     "data": {
      "text/plain": [
       "False"
      ]
     },
     "execution_count": 30,
     "metadata": {},
     "output_type": "execute_result"
    }
   ],
   "source": [
    "1 != 1"
   ]
  },
  {
   "cell_type": "code",
   "execution_count": 31,
   "id": "933af872-a1cc-4bf7-ab1b-0800c5e45578",
   "metadata": {},
   "outputs": [
    {
     "data": {
      "text/plain": [
       "False"
      ]
     },
     "execution_count": 31,
     "metadata": {},
     "output_type": "execute_result"
    }
   ],
   "source": [
    "1 > 2"
   ]
  },
  {
   "cell_type": "code",
   "execution_count": 32,
   "id": "fc3e0e4a-0c53-45cb-a9ac-32d6e97300cf",
   "metadata": {},
   "outputs": [
    {
     "data": {
      "text/plain": [
       "True"
      ]
     },
     "execution_count": 32,
     "metadata": {},
     "output_type": "execute_result"
    }
   ],
   "source": [
    "1 < 2"
   ]
  },
  {
   "cell_type": "code",
   "execution_count": 33,
   "id": "c8d3365e-7b5b-48c2-9932-a298819e1c78",
   "metadata": {},
   "outputs": [
    {
     "data": {
      "text/plain": [
       "True"
      ]
     },
     "execution_count": 33,
     "metadata": {},
     "output_type": "execute_result"
    }
   ],
   "source": [
    "1 <= 2"
   ]
  },
  {
   "cell_type": "code",
   "execution_count": 34,
   "id": "52eb1753-923a-44ba-99f0-d28f8e0522c7",
   "metadata": {},
   "outputs": [
    {
     "data": {
      "text/plain": [
       "True"
      ]
     },
     "execution_count": 34,
     "metadata": {},
     "output_type": "execute_result"
    }
   ],
   "source": [
    "2 <= 2"
   ]
  },
  {
   "cell_type": "code",
   "execution_count": 35,
   "id": "151fad55-79bf-4f05-93e5-de5004529439",
   "metadata": {},
   "outputs": [
    {
     "data": {
      "text/plain": [
       "False"
      ]
     },
     "execution_count": 35,
     "metadata": {},
     "output_type": "execute_result"
    }
   ],
   "source": [
    "3 <= 2"
   ]
  },
  {
   "cell_type": "code",
   "execution_count": 36,
   "id": "d5c7cda5-26d5-4373-82c1-320f1c3afb59",
   "metadata": {},
   "outputs": [],
   "source": [
    "None"
   ]
  },
  {
   "cell_type": "code",
   "execution_count": 37,
   "id": "46abaa28-3ee5-4d83-90c4-1be971fba7a0",
   "metadata": {},
   "outputs": [
    {
     "name": "stdout",
     "output_type": "stream",
     "text": [
      "None\n"
     ]
    }
   ],
   "source": [
    "print(None)"
   ]
  },
  {
   "cell_type": "code",
   "execution_count": 38,
   "id": "1a6bbe17-3d21-4ad0-81a1-ec5d2457d239",
   "metadata": {},
   "outputs": [
    {
     "data": {
      "text/plain": [
       "1"
      ]
     },
     "execution_count": 38,
     "metadata": {},
     "output_type": "execute_result"
    }
   ],
   "source": [
    "1"
   ]
  },
  {
   "cell_type": "code",
   "execution_count": 39,
   "id": "3eb924f3-f765-4d2c-b32b-eac2105760f4",
   "metadata": {},
   "outputs": [
    {
     "data": {
      "text/plain": [
       "''"
      ]
     },
     "execution_count": 39,
     "metadata": {},
     "output_type": "execute_result"
    }
   ],
   "source": [
    "''"
   ]
  },
  {
   "cell_type": "code",
   "execution_count": 40,
   "id": "e1105d6e-b052-461b-9e55-1ccc6e3d7586",
   "metadata": {},
   "outputs": [],
   "source": [
    "None"
   ]
  },
  {
   "cell_type": "code",
   "execution_count": 41,
   "id": "84718352-2273-41ce-8ce9-d1ece64aba57",
   "metadata": {},
   "outputs": [
    {
     "name": "stdout",
     "output_type": "stream",
     "text": [
      "abc\n",
      "None\n"
     ]
    }
   ],
   "source": [
    "print(print('abc'))"
   ]
  },
  {
   "cell_type": "code",
   "execution_count": 42,
   "id": "625c4c14-eb7c-4516-bb09-9d8da4cac189",
   "metadata": {},
   "outputs": [
    {
     "data": {
      "text/plain": [
       "3"
      ]
     },
     "execution_count": 42,
     "metadata": {},
     "output_type": "execute_result"
    }
   ],
   "source": [
    "1 + 2"
   ]
  },
  {
   "cell_type": "code",
   "execution_count": 43,
   "id": "d4d2f115-acdd-4b85-b5fb-d5edfe1050e1",
   "metadata": {},
   "outputs": [
    {
     "data": {
      "text/plain": [
       "1"
      ]
     },
     "execution_count": 43,
     "metadata": {},
     "output_type": "execute_result"
    }
   ],
   "source": [
    "3 - 2"
   ]
  },
  {
   "cell_type": "code",
   "execution_count": 44,
   "id": "2a943e58-6280-4cba-b86b-f40df5d0feaa",
   "metadata": {},
   "outputs": [
    {
     "data": {
      "text/plain": [
       "15"
      ]
     },
     "execution_count": 44,
     "metadata": {},
     "output_type": "execute_result"
    }
   ],
   "source": [
    "5 * 3"
   ]
  },
  {
   "cell_type": "code",
   "execution_count": 45,
   "id": "c851ce63-9727-415d-b414-961b2c14b0b1",
   "metadata": {},
   "outputs": [
    {
     "data": {
      "text/plain": [
       "2.5"
      ]
     },
     "execution_count": 45,
     "metadata": {},
     "output_type": "execute_result"
    }
   ],
   "source": [
    "10 / 4"
   ]
  },
  {
   "cell_type": "code",
   "execution_count": 46,
   "id": "52e27931-e14f-4ab1-8826-2c8290df4103",
   "metadata": {},
   "outputs": [
    {
     "data": {
      "text/plain": [
       "5.0"
      ]
     },
     "execution_count": 46,
     "metadata": {},
     "output_type": "execute_result"
    }
   ],
   "source": [
    "10 / 2"
   ]
  },
  {
   "cell_type": "code",
   "execution_count": 47,
   "id": "8dc08b3c-c8ea-435e-abdf-b0524ac80b73",
   "metadata": {},
   "outputs": [
    {
     "data": {
      "text/plain": [
       "4.5"
      ]
     },
     "execution_count": 47,
     "metadata": {},
     "output_type": "execute_result"
    }
   ],
   "source": [
    "2.5 + 2"
   ]
  },
  {
   "cell_type": "code",
   "execution_count": 48,
   "id": "7e3e3b5f-e711-4634-92b6-321d9c6d2b3e",
   "metadata": {},
   "outputs": [
    {
     "data": {
      "text/plain": [
       "4"
      ]
     },
     "execution_count": 48,
     "metadata": {},
     "output_type": "execute_result"
    }
   ],
   "source": [
    "2 + 2"
   ]
  },
  {
   "cell_type": "code",
   "execution_count": 49,
   "id": "53f9b7b7-a6bb-4b41-b4c4-c16e48bd3eec",
   "metadata": {},
   "outputs": [
    {
     "data": {
      "text/plain": [
       "4.0"
      ]
     },
     "execution_count": 49,
     "metadata": {},
     "output_type": "execute_result"
    }
   ],
   "source": [
    "2.0 + 2"
   ]
  },
  {
   "cell_type": "code",
   "execution_count": 50,
   "id": "946b576b-ceca-4255-b8ef-41482cb1cfc2",
   "metadata": {},
   "outputs": [
    {
     "data": {
      "text/plain": [
       "3.3333333333333335"
      ]
     },
     "execution_count": 50,
     "metadata": {},
     "output_type": "execute_result"
    }
   ],
   "source": [
    "10 / 3"
   ]
  },
  {
   "cell_type": "code",
   "execution_count": 51,
   "id": "c3362287-eea6-4a1c-9561-46581b175f42",
   "metadata": {},
   "outputs": [
    {
     "data": {
      "text/plain": [
       "3"
      ]
     },
     "execution_count": 51,
     "metadata": {},
     "output_type": "execute_result"
    }
   ],
   "source": [
    "10 // 3"
   ]
  },
  {
   "cell_type": "code",
   "execution_count": 52,
   "id": "06dda007-4b88-4029-aa46-105fd32c803a",
   "metadata": {},
   "outputs": [
    {
     "data": {
      "text/plain": [
       "1.1111111111111112"
      ]
     },
     "execution_count": 52,
     "metadata": {},
     "output_type": "execute_result"
    }
   ],
   "source": [
    "10 / 9"
   ]
  },
  {
   "cell_type": "code",
   "execution_count": 53,
   "id": "eaf81d11-7513-45f2-970f-70c4154a5564",
   "metadata": {},
   "outputs": [
    {
     "data": {
      "text/plain": [
       "1.9"
      ]
     },
     "execution_count": 53,
     "metadata": {},
     "output_type": "execute_result"
    }
   ],
   "source": [
    "19 / 10"
   ]
  },
  {
   "cell_type": "code",
   "execution_count": 54,
   "id": "a2ac3697-6e2d-4b91-9c8f-67fc77966913",
   "metadata": {},
   "outputs": [
    {
     "data": {
      "text/plain": [
       "1"
      ]
     },
     "execution_count": 54,
     "metadata": {},
     "output_type": "execute_result"
    }
   ],
   "source": [
    "19 // 10"
   ]
  },
  {
   "cell_type": "code",
   "execution_count": 55,
   "id": "3db5c462-7daa-434a-85f7-646809189e2b",
   "metadata": {},
   "outputs": [
    {
     "data": {
      "text/plain": [
       "5.0"
      ]
     },
     "execution_count": 55,
     "metadata": {},
     "output_type": "execute_result"
    }
   ],
   "source": [
    "10 / 2"
   ]
  },
  {
   "cell_type": "code",
   "execution_count": 56,
   "id": "38be9fb4-1677-43e8-95fd-9ffad0df2c7f",
   "metadata": {},
   "outputs": [
    {
     "data": {
      "text/plain": [
       "5"
      ]
     },
     "execution_count": 56,
     "metadata": {},
     "output_type": "execute_result"
    }
   ],
   "source": [
    "10 // 2"
   ]
  },
  {
   "cell_type": "code",
   "execution_count": 57,
   "id": "31be19f4-6916-4d89-b829-ddd55cc1ac90",
   "metadata": {},
   "outputs": [
    {
     "data": {
      "text/plain": [
       "5.1"
      ]
     },
     "execution_count": 57,
     "metadata": {},
     "output_type": "execute_result"
    }
   ],
   "source": [
    "3.1 + 2"
   ]
  },
  {
   "cell_type": "code",
   "execution_count": 58,
   "id": "f5a41eae-e7ab-46ff-b0d3-eb70fc8f3298",
   "metadata": {},
   "outputs": [
    {
     "data": {
      "text/plain": [
       "2.3333333333333335"
      ]
     },
     "execution_count": 58,
     "metadata": {},
     "output_type": "execute_result"
    }
   ],
   "source": [
    "7 / 3"
   ]
  },
  {
   "cell_type": "code",
   "execution_count": 59,
   "id": "cfd672aa-5475-45b9-9bfb-00d3028ee7f4",
   "metadata": {},
   "outputs": [
    {
     "data": {
      "text/plain": [
       "2"
      ]
     },
     "execution_count": 59,
     "metadata": {},
     "output_type": "execute_result"
    }
   ],
   "source": [
    "7 // 3"
   ]
  },
  {
   "cell_type": "code",
   "execution_count": 60,
   "id": "18f4683c-336d-4546-8177-df2ae33af0c8",
   "metadata": {},
   "outputs": [
    {
     "data": {
      "text/plain": [
       "1"
      ]
     },
     "execution_count": 60,
     "metadata": {},
     "output_type": "execute_result"
    }
   ],
   "source": [
    "7 % 3"
   ]
  },
  {
   "cell_type": "code",
   "execution_count": 61,
   "id": "dd4a8f37-68ea-4c73-a375-fce878d12434",
   "metadata": {},
   "outputs": [
    {
     "data": {
      "text/plain": [
       "0"
      ]
     },
     "execution_count": 61,
     "metadata": {},
     "output_type": "execute_result"
    }
   ],
   "source": [
    "10 % 2"
   ]
  },
  {
   "cell_type": "code",
   "execution_count": 62,
   "id": "61d00cc6-cc25-4241-9543-54c2c5c8b7f8",
   "metadata": {},
   "outputs": [
    {
     "data": {
      "text/plain": [
       "5"
      ]
     },
     "execution_count": 62,
     "metadata": {},
     "output_type": "execute_result"
    }
   ],
   "source": [
    "10 // 2"
   ]
  },
  {
   "cell_type": "code",
   "execution_count": 63,
   "id": "52f66889-7df1-4acd-a9e4-00fc1a30b5d0",
   "metadata": {},
   "outputs": [
    {
     "data": {
      "text/plain": [
       "1"
      ]
     },
     "execution_count": 63,
     "metadata": {},
     "output_type": "execute_result"
    }
   ],
   "source": [
    "11 % 2"
   ]
  },
  {
   "cell_type": "code",
   "execution_count": 64,
   "id": "fa332ebf-b472-4b4f-987a-1c8a1eca6cfe",
   "metadata": {},
   "outputs": [
    {
     "data": {
      "text/plain": [
       "'foobar'"
      ]
     },
     "execution_count": 64,
     "metadata": {},
     "output_type": "execute_result"
    }
   ],
   "source": [
    "\"foo\" + \"bar\""
   ]
  },
  {
   "cell_type": "code",
   "execution_count": 65,
   "id": "fcae1362-3f3b-4cdd-a5dd-732244fca6f5",
   "metadata": {},
   "outputs": [
    {
     "data": {
      "text/plain": [
       "'fizzbuzzspameggs'"
      ]
     },
     "execution_count": 65,
     "metadata": {},
     "output_type": "execute_result"
    }
   ],
   "source": [
    "\"fizz\" + \"buzz\" + \"spam\" + \"eggs\""
   ]
  },
  {
   "cell_type": "code",
   "execution_count": 66,
   "id": "369086da-4508-4118-97ff-3022ca8fe2db",
   "metadata": {},
   "outputs": [
    {
     "data": {
      "text/plain": [
       "'hellohellohello'"
      ]
     },
     "execution_count": 66,
     "metadata": {},
     "output_type": "execute_result"
    }
   ],
   "source": [
    "\"hello\" * 3"
   ]
  },
  {
   "cell_type": "code",
   "execution_count": 67,
   "id": "3b565709-420a-4bf9-8696-b7ae73fc32b3",
   "metadata": {},
   "outputs": [
    {
     "data": {
      "text/plain": [
       "0.5"
      ]
     },
     "execution_count": 67,
     "metadata": {},
     "output_type": "execute_result"
    }
   ],
   "source": [
    "0.4 + 0.1"
   ]
  },
  {
   "cell_type": "code",
   "execution_count": 68,
   "id": "fe4420fc-04ca-453c-a6c1-10d377e62717",
   "metadata": {},
   "outputs": [
    {
     "data": {
      "text/plain": [
       "0.1"
      ]
     },
     "execution_count": 68,
     "metadata": {},
     "output_type": "execute_result"
    }
   ],
   "source": [
    "0 + 0.1"
   ]
  },
  {
   "cell_type": "code",
   "execution_count": 69,
   "id": "c7ae6ade-f037-4ef7-88a1-834093cfda9f",
   "metadata": {},
   "outputs": [
    {
     "data": {
      "text/plain": [
       "0.4"
      ]
     },
     "execution_count": 69,
     "metadata": {},
     "output_type": "execute_result"
    }
   ],
   "source": [
    "0.2 + 0.2"
   ]
  },
  {
   "cell_type": "code",
   "execution_count": 70,
   "id": "aebe92f6-3a91-4432-8c33-67b102002e27",
   "metadata": {},
   "outputs": [
    {
     "data": {
      "text/plain": [
       "True"
      ]
     },
     "execution_count": 70,
     "metadata": {},
     "output_type": "execute_result"
    }
   ],
   "source": [
    "0.2 + 0.2 == 0.4"
   ]
  },
  {
   "cell_type": "code",
   "execution_count": 71,
   "id": "05523863-f588-497d-87cc-58f2726f0dcc",
   "metadata": {},
   "outputs": [
    {
     "data": {
      "text/plain": [
       "False"
      ]
     },
     "execution_count": 71,
     "metadata": {},
     "output_type": "execute_result"
    }
   ],
   "source": [
    "0.1 + 0.2 == 0.3"
   ]
  },
  {
   "cell_type": "code",
   "execution_count": 72,
   "id": "f712125c-c1d9-4449-b473-730c52bfddfa",
   "metadata": {},
   "outputs": [
    {
     "data": {
      "text/plain": [
       "0.30000000000000004"
      ]
     },
     "execution_count": 72,
     "metadata": {},
     "output_type": "execute_result"
    }
   ],
   "source": [
    "0.1 + 0.2"
   ]
  },
  {
   "cell_type": "code",
   "execution_count": 73,
   "id": "ec1971d4-a5f5-47b7-a9bd-b4468cd8a04e",
   "metadata": {},
   "outputs": [
    {
     "data": {
      "text/plain": [
       "3"
      ]
     },
     "execution_count": 73,
     "metadata": {},
     "output_type": "execute_result"
    }
   ],
   "source": [
    "1 + 2"
   ]
  },
  {
   "cell_type": "code",
   "execution_count": 74,
   "id": "33968e80-a6ee-4ebb-ba84-ec6346dd0d55",
   "metadata": {},
   "outputs": [
    {
     "data": {
      "text/plain": [
       "0.4"
      ]
     },
     "execution_count": 74,
     "metadata": {},
     "output_type": "execute_result"
    }
   ],
   "source": [
    "0.2 + 0.2"
   ]
  },
  {
   "cell_type": "code",
   "execution_count": 75,
   "id": "35f0b834-179c-49d2-af80-9ccd814dd1d8",
   "metadata": {},
   "outputs": [
    {
     "data": {
      "text/plain": [
       "float"
      ]
     },
     "execution_count": 75,
     "metadata": {},
     "output_type": "execute_result"
    }
   ],
   "source": [
    "type(0.1)"
   ]
  },
  {
   "cell_type": "code",
   "execution_count": 76,
   "id": "b9d6db9d-54b0-488f-ace6-69d1c082b2ab",
   "metadata": {},
   "outputs": [
    {
     "name": "stdout",
     "output_type": "stream",
     "text": [
      "<class 'float'>\n"
     ]
    }
   ],
   "source": [
    "print(type(0.1))"
   ]
  },
  {
   "cell_type": "code",
   "execution_count": 77,
   "id": "5d57efbf-f734-490f-b341-5a3034ffb960",
   "metadata": {},
   "outputs": [
    {
     "data": {
      "text/plain": [
       "(1, 1)"
      ]
     },
     "execution_count": 77,
     "metadata": {},
     "output_type": "execute_result"
    }
   ],
   "source": [
    "(1.0).as_integer_ratio()"
   ]
  },
  {
   "cell_type": "code",
   "execution_count": 78,
   "id": "3d02986c-a644-426a-9583-b5ae29be85eb",
   "metadata": {
    "scrolled": true
   },
   "outputs": [
    {
     "data": {
      "text/plain": [
       "(3602879701896397, 18014398509481984)"
      ]
     },
     "execution_count": 78,
     "metadata": {},
     "output_type": "execute_result"
    }
   ],
   "source": [
    "(0.2).as_integer_ratio()"
   ]
  },
  {
   "cell_type": "code",
   "execution_count": 79,
   "id": "340282b0-2439-4a9a-96fb-e26bf2386b92",
   "metadata": {},
   "outputs": [
    {
     "data": {
      "text/plain": [
       "0.2"
      ]
     },
     "execution_count": 79,
     "metadata": {},
     "output_type": "execute_result"
    }
   ],
   "source": [
    "3602879701896397 / 18014398509481984"
   ]
  },
  {
   "cell_type": "code",
   "execution_count": 80,
   "id": "58dca6f1-b0fa-4ff2-8ee9-dac307e56a29",
   "metadata": {},
   "outputs": [
    {
     "data": {
      "text/plain": [
       "(5404319552844595, 18014398509481984)"
      ]
     },
     "execution_count": 80,
     "metadata": {},
     "output_type": "execute_result"
    }
   ],
   "source": [
    "(0.3).as_integer_ratio()"
   ]
  },
  {
   "cell_type": "code",
   "execution_count": 81,
   "id": "0c90e4d5-b8b7-451d-9024-95c181d324b9",
   "metadata": {},
   "outputs": [
    {
     "data": {
      "text/plain": [
       "(3602879701896397, 36028797018963968)"
      ]
     },
     "execution_count": 81,
     "metadata": {},
     "output_type": "execute_result"
    }
   ],
   "source": [
    "(0.1).as_integer_ratio()"
   ]
  },
  {
   "cell_type": "code",
   "execution_count": 82,
   "id": "771a39ad-db67-4644-9fbd-c9f11ab29eae",
   "metadata": {},
   "outputs": [
    {
     "data": {
      "text/plain": [
       "1267650600228229401496703205376"
      ]
     },
     "execution_count": 82,
     "metadata": {},
     "output_type": "execute_result"
    }
   ],
   "source": [
    "1024**10"
   ]
  },
  {
   "cell_type": "code",
   "execution_count": 83,
   "id": "4306a6c4-d020-4dc8-933a-97941a80ecb0",
   "metadata": {},
   "outputs": [
    {
     "data": {
      "text/plain": [
       "(1351079888211149, 4503599627370496)"
      ]
     },
     "execution_count": 83,
     "metadata": {},
     "output_type": "execute_result"
    }
   ],
   "source": [
    "(0.1 + 0.2).as_integer_ratio()"
   ]
  },
  {
   "cell_type": "code",
   "execution_count": 84,
   "id": "d68206ad-7684-4fa8-b235-46ad0315bc61",
   "metadata": {},
   "outputs": [
    {
     "data": {
      "text/plain": [
       "(1351079888211149, 4503599627370496)"
      ]
     },
     "execution_count": 84,
     "metadata": {},
     "output_type": "execute_result"
    }
   ],
   "source": [
    "float.as_integer_ratio(0.1 + 0.2)"
   ]
  },
  {
   "cell_type": "code",
   "execution_count": 85,
   "id": "54d5dec7-2cc4-42b9-aca1-bae0a5445b4e",
   "metadata": {},
   "outputs": [
    {
     "name": "stdout",
     "output_type": "stream",
     "text": [
      "<class 'float'>\n"
     ]
    }
   ],
   "source": [
    "print(type(0.1))"
   ]
  },
  {
   "cell_type": "code",
   "execution_count": 86,
   "id": "33b76ba4-35ae-46ae-966a-8740e17f0fad",
   "metadata": {},
   "outputs": [
    {
     "name": "stdout",
     "output_type": "stream",
     "text": [
      "<class 'NoneType'>\n"
     ]
    }
   ],
   "source": [
    "print(type(None))"
   ]
  }
 ],
 "metadata": {
  "kernelspec": {
   "display_name": "Python 3 (ipykernel)",
   "language": "python",
   "name": "python3"
  },
  "language_info": {
   "codemirror_mode": {
    "name": "ipython",
    "version": 3
   },
   "file_extension": ".py",
   "mimetype": "text/x-python",
   "name": "python",
   "nbconvert_exporter": "python",
   "pygments_lexer": "ipython3",
   "version": "3.13.2"
  }
 },
 "nbformat": 4,
 "nbformat_minor": 5
}
