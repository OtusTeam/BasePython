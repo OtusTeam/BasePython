{
 "cells": [
  {
   "cell_type": "code",
   "execution_count": 1,
   "id": "895745b9-1720-4796-8f20-8c049ed09bdf",
   "metadata": {},
   "outputs": [
    {
     "name": "stdout",
     "output_type": "stream",
     "text": [
      "Hello World!\n"
     ]
    }
   ],
   "source": [
    "print(\"Hello World!\")"
   ]
  },
  {
   "cell_type": "code",
   "execution_count": 2,
   "id": "4d9cfcf3-5184-4402-93e7-8e10c464e8fb",
   "metadata": {},
   "outputs": [
    {
     "name": "stdout",
     "output_type": "stream",
     "text": [
      "42\n"
     ]
    }
   ],
   "source": [
    "print(42)"
   ]
  },
  {
   "cell_type": "code",
   "execution_count": 3,
   "id": "e435e03f-3774-4bd0-9540-7c3fa7ee4406",
   "metadata": {},
   "outputs": [
    {
     "name": "stdout",
     "output_type": "stream",
     "text": [
      "hello 42\n"
     ]
    }
   ],
   "source": [
    "print(\"hello\", 42)"
   ]
  },
  {
   "cell_type": "code",
   "execution_count": 4,
   "id": "58cf6af7-2aa7-472f-8010-50dccd8d7199",
   "metadata": {},
   "outputs": [
    {
     "name": "stdout",
     "output_type": "stream",
     "text": [
      "123 123\n"
     ]
    }
   ],
   "source": [
    "print(\"123\", 123)"
   ]
  },
  {
   "cell_type": "code",
   "execution_count": 5,
   "id": "2ade65a0-2e5c-4b32-a101-07a3357bb804",
   "metadata": {},
   "outputs": [
    {
     "data": {
      "text/plain": [
       "3"
      ]
     },
     "execution_count": 5,
     "metadata": {},
     "output_type": "execute_result"
    }
   ],
   "source": [
    "1 + 2"
   ]
  },
  {
   "cell_type": "code",
   "execution_count": 6,
   "id": "54f41ea8-2442-4413-8456-0a9f9ec0cfe5",
   "metadata": {},
   "outputs": [
    {
     "data": {
      "text/plain": [
       "'foo'"
      ]
     },
     "execution_count": 6,
     "metadata": {},
     "output_type": "execute_result"
    }
   ],
   "source": [
    "\"foo\""
   ]
  },
  {
   "cell_type": "code",
   "execution_count": 7,
   "id": "e2917f37-10bd-4e57-ba14-bc53b66f5519",
   "metadata": {},
   "outputs": [
    {
     "name": "stdout",
     "output_type": "stream",
     "text": [
      "foo\n"
     ]
    }
   ],
   "source": [
    "print(\"foo\")"
   ]
  },
  {
   "cell_type": "code",
   "execution_count": 8,
   "id": "b2fca89d-e663-4b38-bc2e-bb7e38271bbe",
   "metadata": {},
   "outputs": [
    {
     "data": {
      "text/plain": [
       "'foo'"
      ]
     },
     "execution_count": 8,
     "metadata": {},
     "output_type": "execute_result"
    }
   ],
   "source": [
    "'foo'"
   ]
  },
  {
   "cell_type": "code",
   "execution_count": 9,
   "id": "1a8036ea-ebe1-4e6c-ba19-c29a6d7d72e1",
   "metadata": {},
   "outputs": [
    {
     "name": "stdout",
     "output_type": "stream",
     "text": [
      "hello\n"
     ]
    }
   ],
   "source": [
    "print('hello')"
   ]
  },
  {
   "cell_type": "code",
   "execution_count": 10,
   "id": "e4fc90c9-f0c1-4d2a-a42b-e5244a20567a",
   "metadata": {},
   "outputs": [
    {
     "name": "stdout",
     "output_type": "stream",
     "text": [
      "hello\n"
     ]
    },
    {
     "data": {
      "text/plain": [
       "'world'"
      ]
     },
     "execution_count": 10,
     "metadata": {},
     "output_type": "execute_result"
    }
   ],
   "source": [
    "print('hello')\n",
    "'world'"
   ]
  },
  {
   "cell_type": "code",
   "execution_count": 11,
   "id": "0af4b7f8-40f9-4cc9-adaa-98ec72a0666a",
   "metadata": {},
   "outputs": [
    {
     "data": {
      "text/plain": [
       "'world'"
      ]
     },
     "execution_count": 11,
     "metadata": {},
     "output_type": "execute_result"
    }
   ],
   "source": [
    "'world'"
   ]
  },
  {
   "cell_type": "code",
   "execution_count": 12,
   "id": "b8e5ab05-81b7-4258-bdad-527634c09d34",
   "metadata": {},
   "outputs": [
    {
     "name": "stdout",
     "output_type": "stream",
     "text": [
      "world\n"
     ]
    }
   ],
   "source": [
    "print('world')"
   ]
  },
  {
   "cell_type": "code",
   "execution_count": 13,
   "id": "7becf711-157c-4d43-8e0f-d69e44e7c0ef",
   "metadata": {},
   "outputs": [
    {
     "name": "stdout",
     "output_type": "stream",
     "text": [
      "123\n"
     ]
    }
   ],
   "source": [
    "print(123)"
   ]
  },
  {
   "cell_type": "code",
   "execution_count": 14,
   "id": "b4ed7348-e073-4e19-aa51-44d9eae26cdc",
   "metadata": {},
   "outputs": [
    {
     "name": "stdout",
     "output_type": "stream",
     "text": [
      "123\n"
     ]
    }
   ],
   "source": [
    "print('123')"
   ]
  },
  {
   "cell_type": "code",
   "execution_count": 15,
   "id": "58ecf08e-81e0-44be-92fe-3c399b4a0984",
   "metadata": {},
   "outputs": [
    {
     "data": {
      "text/plain": [
       "123"
      ]
     },
     "execution_count": 15,
     "metadata": {},
     "output_type": "execute_result"
    }
   ],
   "source": [
    "123"
   ]
  },
  {
   "cell_type": "code",
   "execution_count": 16,
   "id": "40bed896-5fe1-49de-872a-4a84a8cd6db5",
   "metadata": {},
   "outputs": [
    {
     "data": {
      "text/plain": [
       "'123'"
      ]
     },
     "execution_count": 16,
     "metadata": {},
     "output_type": "execute_result"
    }
   ],
   "source": [
    "'123'"
   ]
  },
  {
   "cell_type": "code",
   "execution_count": 17,
   "id": "e07cc8d0-c54e-498b-b257-1677c9ee88d3",
   "metadata": {},
   "outputs": [
    {
     "data": {
      "text/plain": [
       "123"
      ]
     },
     "execution_count": 17,
     "metadata": {},
     "output_type": "execute_result"
    }
   ],
   "source": [
    "123"
   ]
  },
  {
   "cell_type": "code",
   "execution_count": 18,
   "id": "de2ce722-8589-47d2-b154-8bf20891b975",
   "metadata": {},
   "outputs": [
    {
     "data": {
      "text/plain": [
       "'123'"
      ]
     },
     "execution_count": 18,
     "metadata": {},
     "output_type": "execute_result"
    }
   ],
   "source": [
    "'123'"
   ]
  },
  {
   "cell_type": "code",
   "execution_count": 19,
   "id": "94c3aa7b-a81f-4ae2-aa6c-ac49234d882f",
   "metadata": {},
   "outputs": [
    {
     "data": {
      "text/plain": [
       "True"
      ]
     },
     "execution_count": 19,
     "metadata": {},
     "output_type": "execute_result"
    }
   ],
   "source": [
    "\"foo\" == 'foo'"
   ]
  },
  {
   "cell_type": "code",
   "execution_count": 20,
   "id": "142af68c-21d6-47f5-a5a4-1ed574eef620",
   "metadata": {},
   "outputs": [
    {
     "data": {
      "text/plain": [
       "True"
      ]
     },
     "execution_count": 20,
     "metadata": {},
     "output_type": "execute_result"
    }
   ],
   "source": [
    "'a' != 'b'"
   ]
  },
  {
   "cell_type": "code",
   "execution_count": 21,
   "id": "e2656b8f-7d0c-4161-b749-163bfd7308ab",
   "metadata": {},
   "outputs": [
    {
     "data": {
      "text/plain": [
       "False"
      ]
     },
     "execution_count": 21,
     "metadata": {},
     "output_type": "execute_result"
    }
   ],
   "source": [
    "'a' != \"a\""
   ]
  },
  {
   "cell_type": "code",
   "execution_count": 22,
   "id": "f1026ea5-6a02-453b-b983-04a7ca33aeb7",
   "metadata": {},
   "outputs": [
    {
     "name": "stdout",
     "output_type": "stream",
     "text": [
      "Hello, it's me\n"
     ]
    }
   ],
   "source": [
    "print(\"Hello, it's me\")"
   ]
  },
  {
   "cell_type": "code",
   "execution_count": 23,
   "id": "f5474aa1-1772-4cba-bce9-f9dfcd6491c3",
   "metadata": {},
   "outputs": [
    {
     "name": "stdout",
     "output_type": "stream",
     "text": [
      "Hello, it's me\n"
     ]
    }
   ],
   "source": [
    "print('Hello, it\\'s me')"
   ]
  },
  {
   "cell_type": "code",
   "execution_count": 24,
   "id": "39315b99-a0b2-4cb0-8e5a-cfe73ddf7196",
   "metadata": {},
   "outputs": [
    {
     "data": {
      "text/plain": [
       "\"Hello, it's me\""
      ]
     },
     "execution_count": 24,
     "metadata": {},
     "output_type": "execute_result"
    }
   ],
   "source": [
    "'Hello, it\\'s me'"
   ]
  },
  {
   "cell_type": "code",
   "execution_count": 25,
   "id": "900d3fcc-0a82-4a74-8e7b-39203693fe19",
   "metadata": {},
   "outputs": [
    {
     "data": {
      "text/plain": [
       "\"Hello, it's me\""
      ]
     },
     "execution_count": 25,
     "metadata": {},
     "output_type": "execute_result"
    }
   ],
   "source": [
    "\"Hello, it's me\""
   ]
  },
  {
   "cell_type": "code",
   "execution_count": 26,
   "id": "1065e7e9-433c-43d8-99a2-b6703af5b4d1",
   "metadata": {},
   "outputs": [
    {
     "name": "stdout",
     "output_type": "stream",
     "text": [
      "It's me, check \"Incoming\"\n"
     ]
    }
   ],
   "source": [
    "print('It\\'s me, check \"Incoming\"')"
   ]
  },
  {
   "cell_type": "code",
   "execution_count": 27,
   "id": "59e61cb3-4d2a-4540-91d8-6ab5016966d0",
   "metadata": {},
   "outputs": [
    {
     "data": {
      "text/plain": [
       "'It\\'s me, check \"Incoming\"'"
      ]
     },
     "execution_count": 27,
     "metadata": {},
     "output_type": "execute_result"
    }
   ],
   "source": [
    "'It\\'s me, check \"Incoming\"'"
   ]
  },
  {
   "cell_type": "code",
   "execution_count": 28,
   "id": "04327c6b-ce6c-482b-b6af-2d4299969806",
   "metadata": {},
   "outputs": [
    {
     "name": "stdout",
     "output_type": "stream",
     "text": [
      "Hello,\n",
      "It's me\n"
     ]
    }
   ],
   "source": [
    "print(\"Hello,\\nIt's me\")"
   ]
  },
  {
   "cell_type": "code",
   "execution_count": 29,
   "id": "5c9d0d98-178c-4207-bb22-b3c230e882bf",
   "metadata": {},
   "outputs": [
    {
     "name": "stdout",
     "output_type": "stream",
     "text": [
      "Hello,\n",
      "It's me.\n"
     ]
    }
   ],
   "source": [
    "print(\n",
    "\"\"\"Hello,\n",
    "It's me.\"\"\"\n",
    ")"
   ]
  },
  {
   "cell_type": "code",
   "execution_count": 30,
   "id": "50b701a1-1b73-4657-9356-86291d359c5b",
   "metadata": {},
   "outputs": [
    {
     "name": "stdout",
     "output_type": "stream",
     "text": [
      "\n",
      "Hello,\n",
      "It's me.\n",
      "\n"
     ]
    }
   ],
   "source": [
    "print(\n",
    "\"\"\"\n",
    "Hello,\n",
    "It's me.\n",
    "\"\"\"\n",
    ")"
   ]
  },
  {
   "cell_type": "code",
   "execution_count": 31,
   "id": "c9d025fe-86b3-421b-8ad7-cf21d1ad580f",
   "metadata": {},
   "outputs": [
    {
     "name": "stdout",
     "output_type": "stream",
     "text": [
      "\n",
      "Hello,\n",
      "It's me.\n",
      "\n",
      "Check \"inbox\" please\n",
      "\n"
     ]
    }
   ],
   "source": [
    "print(\n",
    "\"\"\"\n",
    "Hello,\n",
    "It's me.\n",
    "\n",
    "Check \"inbox\" please\n",
    "\"\"\"\n",
    ")"
   ]
  },
  {
   "cell_type": "code",
   "execution_count": 32,
   "id": "6c7f497d-8ce9-47d7-a201-dc9f38389ed6",
   "metadata": {},
   "outputs": [
    {
     "name": "stdout",
     "output_type": "stream",
     "text": [
      "Hello,\n",
      "It's me.\n",
      "\n",
      "Check \"inbox\" please\n"
     ]
    }
   ],
   "source": [
    "print(\n",
    "\"\"\"Hello,\n",
    "It's me.\n",
    "\n",
    "Check \"inbox\" please\"\"\"\n",
    ")"
   ]
  },
  {
   "cell_type": "code",
   "execution_count": 33,
   "id": "0eaab13e-93f3-4076-8407-1ae868c0666b",
   "metadata": {},
   "outputs": [
    {
     "name": "stdout",
     "output_type": "stream",
     "text": [
      "Hello,\n",
      "It's me.\n",
      "\n",
      "Check \"inbox\" please\n"
     ]
    }
   ],
   "source": [
    "print(\n",
    "\"\"\"\\\n",
    "Hello,\n",
    "It's me.\n",
    "\n",
    "Check \"inbox\" please\\\n",
    "\"\"\"\n",
    ")"
   ]
  },
  {
   "cell_type": "code",
   "execution_count": 34,
   "id": "ab984a4a-d97a-4e5c-89e5-46b8d852396d",
   "metadata": {},
   "outputs": [],
   "source": [
    "name = \"John\""
   ]
  },
  {
   "cell_type": "code",
   "execution_count": 35,
   "id": "7c96d52e-9f69-4510-a153-6bf58111c6fb",
   "metadata": {},
   "outputs": [
    {
     "name": "stdout",
     "output_type": "stream",
     "text": [
      "name\n"
     ]
    }
   ],
   "source": [
    "print(\"name\")"
   ]
  },
  {
   "cell_type": "code",
   "execution_count": 36,
   "id": "f0ee8617-7f8b-40e0-a6d7-23142c1ef587",
   "metadata": {},
   "outputs": [
    {
     "name": "stdout",
     "output_type": "stream",
     "text": [
      "John\n"
     ]
    }
   ],
   "source": [
    "print(name)"
   ]
  },
  {
   "cell_type": "code",
   "execution_count": 37,
   "id": "24b55dc3-095e-424e-89d0-7b73ff2e9918",
   "metadata": {},
   "outputs": [
    {
     "name": "stdout",
     "output_type": "stream",
     "text": [
      "John\n"
     ]
    }
   ],
   "source": [
    "print(\"John\")"
   ]
  },
  {
   "cell_type": "code",
   "execution_count": 38,
   "id": "21a904a0-cdab-4f5d-9a83-26261bb47b36",
   "metadata": {},
   "outputs": [],
   "source": [
    "name = \"Sam\""
   ]
  },
  {
   "cell_type": "code",
   "execution_count": 39,
   "id": "7f72bbf5-7e6f-48b7-815e-b51f82117f5d",
   "metadata": {},
   "outputs": [
    {
     "name": "stdout",
     "output_type": "stream",
     "text": [
      "Sam\n"
     ]
    }
   ],
   "source": [
    "print(name)"
   ]
  },
  {
   "cell_type": "code",
   "execution_count": 40,
   "id": "0ce7aa7a-c18d-4abd-9496-b17d1cca00a2",
   "metadata": {},
   "outputs": [],
   "source": [
    "pi = 3.14"
   ]
  },
  {
   "cell_type": "code",
   "execution_count": 41,
   "id": "4eca38ad-4476-4b92-a189-11ace7542844",
   "metadata": {},
   "outputs": [],
   "source": [
    "radius = 5"
   ]
  },
  {
   "cell_type": "code",
   "execution_count": 44,
   "id": "5af5bb0c-fb33-4c2e-b4fb-d34ce0a6b15c",
   "metadata": {},
   "outputs": [],
   "source": [
    "circle = pi * radius**2"
   ]
  },
  {
   "cell_type": "code",
   "execution_count": 45,
   "id": "d06d2b35-17dd-40d5-a524-c962ad0ab7f3",
   "metadata": {},
   "outputs": [
    {
     "data": {
      "text/plain": [
       "78.5"
      ]
     },
     "execution_count": 45,
     "metadata": {},
     "output_type": "execute_result"
    }
   ],
   "source": [
    "circle"
   ]
  },
  {
   "cell_type": "code",
   "execution_count": 46,
   "id": "92b255ab-b4de-44a3-a13f-34a4cf04ae9b",
   "metadata": {},
   "outputs": [],
   "source": [
    "radius = 10"
   ]
  },
  {
   "cell_type": "code",
   "execution_count": 47,
   "id": "f83078e9-d2fa-40dd-b32e-bfdd2d72930e",
   "metadata": {},
   "outputs": [],
   "source": [
    "circle = pi * radius**2"
   ]
  },
  {
   "cell_type": "code",
   "execution_count": 48,
   "id": "2290940f-4bce-4a98-b8e4-d3a00fa82e37",
   "metadata": {},
   "outputs": [
    {
     "data": {
      "text/plain": [
       "314.0"
      ]
     },
     "execution_count": 48,
     "metadata": {},
     "output_type": "execute_result"
    }
   ],
   "source": [
    "circle"
   ]
  },
  {
   "cell_type": "code",
   "execution_count": 49,
   "id": "d27f253c-8b52-4643-b3e5-021c019a1228",
   "metadata": {},
   "outputs": [],
   "source": [
    "radius = 7"
   ]
  },
  {
   "cell_type": "code",
   "execution_count": 50,
   "id": "f1e6506b-d363-4262-83f2-d71fc21e0e3c",
   "metadata": {},
   "outputs": [
    {
     "data": {
      "text/plain": [
       "314.0"
      ]
     },
     "execution_count": 50,
     "metadata": {},
     "output_type": "execute_result"
    }
   ],
   "source": [
    "circle"
   ]
  },
  {
   "cell_type": "code",
   "execution_count": 51,
   "id": "07538a6b-3e7e-454f-9962-0955b59d54c7",
   "metadata": {},
   "outputs": [
    {
     "data": {
      "text/plain": [
       "153.86"
      ]
     },
     "execution_count": 51,
     "metadata": {},
     "output_type": "execute_result"
    }
   ],
   "source": [
    "pi * radius**2"
   ]
  },
  {
   "cell_type": "code",
   "execution_count": 52,
   "id": "da59c14e-ee1a-4ff4-8ff2-6728a9f37042",
   "metadata": {},
   "outputs": [
    {
     "data": {
      "text/plain": [
       "314.0"
      ]
     },
     "execution_count": 52,
     "metadata": {},
     "output_type": "execute_result"
    }
   ],
   "source": [
    "circle"
   ]
  },
  {
   "cell_type": "code",
   "execution_count": 53,
   "id": "ebd3de21-1ebc-4cb9-ac1e-a9bca27b14cd",
   "metadata": {},
   "outputs": [],
   "source": [
    "circle = pi * radius**2"
   ]
  },
  {
   "cell_type": "code",
   "execution_count": 54,
   "id": "89d1505a-5c43-47b9-aaf2-e4983557580d",
   "metadata": {},
   "outputs": [
    {
     "data": {
      "text/plain": [
       "153.86"
      ]
     },
     "execution_count": 54,
     "metadata": {},
     "output_type": "execute_result"
    }
   ],
   "source": [
    "circle"
   ]
  },
  {
   "cell_type": "code",
   "execution_count": 55,
   "id": "797236f2-e22e-4f70-87a1-97a5ae5f723e",
   "metadata": {},
   "outputs": [],
   "source": [
    "number = 1024**1024"
   ]
  },
  {
   "cell_type": "code",
   "execution_count": 56,
   "id": "fa9ed9c6-8302-4e7c-b6cd-5ca715900dc5",
   "metadata": {},
   "outputs": [
    {
     "data": {
      "text/plain": [
       "1942219776"
      ]
     },
     "execution_count": 56,
     "metadata": {},
     "output_type": "execute_result"
    }
   ],
   "source": [
    "number % 10**10"
   ]
  },
  {
   "cell_type": "code",
   "execution_count": 57,
   "id": "0acf61db-fcff-4104-93a4-640208e7cdf6",
   "metadata": {},
   "outputs": [
    {
     "data": {
      "text/plain": [
       "2.4"
      ]
     },
     "execution_count": 57,
     "metadata": {},
     "output_type": "execute_result"
    }
   ],
   "source": [
    "12 / 5"
   ]
  },
  {
   "cell_type": "code",
   "execution_count": 58,
   "id": "171a34f8-e1e9-4b0e-8e61-cd7713361175",
   "metadata": {},
   "outputs": [
    {
     "data": {
      "text/plain": [
       "12.3"
      ]
     },
     "execution_count": 58,
     "metadata": {},
     "output_type": "execute_result"
    }
   ],
   "source": [
    "123 / 10"
   ]
  },
  {
   "cell_type": "code",
   "execution_count": 59,
   "id": "bfead28b-4dc5-4b61-94d7-1de02f156519",
   "metadata": {},
   "outputs": [
    {
     "data": {
      "text/plain": [
       "12.34"
      ]
     },
     "execution_count": 59,
     "metadata": {},
     "output_type": "execute_result"
    }
   ],
   "source": [
    "1234 / 100"
   ]
  },
  {
   "cell_type": "code",
   "execution_count": 60,
   "id": "7be07378-5bfb-4f26-a57f-543681f037f0",
   "metadata": {},
   "outputs": [
    {
     "data": {
      "text/plain": [
       "34"
      ]
     },
     "execution_count": 60,
     "metadata": {},
     "output_type": "execute_result"
    }
   ],
   "source": [
    "1234 % 100"
   ]
  },
  {
   "cell_type": "code",
   "execution_count": 61,
   "id": "fa182a71-9626-4577-b60a-e099d94fc26e",
   "metadata": {},
   "outputs": [
    {
     "data": {
      "text/plain": [
       "12"
      ]
     },
     "execution_count": 61,
     "metadata": {},
     "output_type": "execute_result"
    }
   ],
   "source": [
    "1234 // 100"
   ]
  },
  {
   "cell_type": "code",
   "execution_count": 62,
   "id": "c22bded5-716f-4f54-a592-ab94a9e6a725",
   "metadata": {},
   "outputs": [
    {
     "data": {
      "text/plain": [
       "2.5"
      ]
     },
     "execution_count": 62,
     "metadata": {},
     "output_type": "execute_result"
    }
   ],
   "source": [
    "10 / 4"
   ]
  },
  {
   "cell_type": "code",
   "execution_count": 63,
   "id": "0233ed19-f392-441c-b1cc-37a1f9dc8408",
   "metadata": {},
   "outputs": [
    {
     "data": {
      "text/plain": [
       "5.0"
      ]
     },
     "execution_count": 63,
     "metadata": {},
     "output_type": "execute_result"
    }
   ],
   "source": [
    "10 / 2"
   ]
  },
  {
   "cell_type": "code",
   "execution_count": 64,
   "id": "55f4d3bc-8794-40fe-a011-345b1629d907",
   "metadata": {},
   "outputs": [
    {
     "data": {
      "text/plain": [
       "True"
      ]
     },
     "execution_count": 64,
     "metadata": {},
     "output_type": "execute_result"
    }
   ],
   "source": [
    "5.0 == 5"
   ]
  },
  {
   "cell_type": "code",
   "execution_count": 65,
   "id": "17519f40-3f70-45cc-b69a-e230d3804c4d",
   "metadata": {},
   "outputs": [
    {
     "data": {
      "text/plain": [
       "3"
      ]
     },
     "execution_count": 65,
     "metadata": {},
     "output_type": "execute_result"
    }
   ],
   "source": [
    "1 + 2"
   ]
  },
  {
   "cell_type": "code",
   "execution_count": 66,
   "id": "3264ab97-d03f-4dc4-8130-64ceae93c558",
   "metadata": {},
   "outputs": [
    {
     "data": {
      "text/plain": [
       "3.5"
      ]
     },
     "execution_count": 66,
     "metadata": {},
     "output_type": "execute_result"
    }
   ],
   "source": [
    "1.5 + 2"
   ]
  },
  {
   "cell_type": "code",
   "execution_count": 67,
   "id": "6f3c17ee-f525-41d4-869d-94ebf6168c01",
   "metadata": {},
   "outputs": [
    {
     "data": {
      "text/plain": [
       "0.5"
      ]
     },
     "execution_count": 67,
     "metadata": {},
     "output_type": "execute_result"
    }
   ],
   "source": [
    "0.1 + 0.4"
   ]
  },
  {
   "cell_type": "code",
   "execution_count": 68,
   "id": "4e399103-d4fa-4c2d-84dc-52bf1f96fa9d",
   "metadata": {},
   "outputs": [
    {
     "data": {
      "text/plain": [
       "0.30000000000000004"
      ]
     },
     "execution_count": 68,
     "metadata": {},
     "output_type": "execute_result"
    }
   ],
   "source": [
    "0.1 + 0.2"
   ]
  },
  {
   "cell_type": "code",
   "execution_count": 69,
   "id": "a7b5e0de-95a4-4e61-8b05-9821e9b9212f",
   "metadata": {},
   "outputs": [
    {
     "data": {
      "text/plain": [
       "True"
      ]
     },
     "execution_count": 69,
     "metadata": {},
     "output_type": "execute_result"
    }
   ],
   "source": [
    "1 > 0"
   ]
  },
  {
   "cell_type": "code",
   "execution_count": 70,
   "id": "3841263f-22e5-40d2-aae0-cffb6bd5707f",
   "metadata": {},
   "outputs": [
    {
     "data": {
      "text/plain": [
       "False"
      ]
     },
     "execution_count": 70,
     "metadata": {},
     "output_type": "execute_result"
    }
   ],
   "source": [
    "0 > 0"
   ]
  },
  {
   "cell_type": "code",
   "execution_count": 71,
   "id": "c8c05593-6c49-407e-9542-3d50ecdeff79",
   "metadata": {},
   "outputs": [
    {
     "data": {
      "text/plain": [
       "True"
      ]
     },
     "execution_count": 71,
     "metadata": {},
     "output_type": "execute_result"
    }
   ],
   "source": [
    "2 >= 2"
   ]
  },
  {
   "cell_type": "code",
   "execution_count": 72,
   "id": "d61bc2fa-303c-4f71-9317-31f3f9a32eac",
   "metadata": {},
   "outputs": [
    {
     "data": {
      "text/plain": [
       "0.5"
      ]
     },
     "execution_count": 72,
     "metadata": {},
     "output_type": "execute_result"
    }
   ],
   "source": [
    "0.5"
   ]
  },
  {
   "cell_type": "code",
   "execution_count": 73,
   "id": "0075e5be-3e93-492b-bb80-f81912806bde",
   "metadata": {},
   "outputs": [],
   "source": [
    "num = 0.5"
   ]
  },
  {
   "cell_type": "code",
   "execution_count": 75,
   "id": "9a28992b-5451-43d6-b8b5-483ee3cfe0f6",
   "metadata": {},
   "outputs": [
    {
     "data": {
      "text/plain": [
       "(1, 2)"
      ]
     },
     "execution_count": 75,
     "metadata": {},
     "output_type": "execute_result"
    }
   ],
   "source": [
    "num.as_integer_ratio()"
   ]
  },
  {
   "cell_type": "code",
   "execution_count": 76,
   "id": "b4e27704-e86c-48dd-8e2c-85ed4c267a83",
   "metadata": {},
   "outputs": [
    {
     "data": {
      "text/plain": [
       "0.5"
      ]
     },
     "execution_count": 76,
     "metadata": {},
     "output_type": "execute_result"
    }
   ],
   "source": [
    "1 / 2"
   ]
  },
  {
   "cell_type": "code",
   "execution_count": 77,
   "id": "685e7129-052f-4366-8fa4-b28993388f7b",
   "metadata": {},
   "outputs": [
    {
     "data": {
      "text/plain": [
       "(3602879701896397, 36028797018963968)"
      ]
     },
     "execution_count": 77,
     "metadata": {},
     "output_type": "execute_result"
    }
   ],
   "source": [
    "(0.1).as_integer_ratio()"
   ]
  },
  {
   "cell_type": "code",
   "execution_count": 78,
   "id": "82f3f8ef-d260-4727-bb5a-6892f561fe52",
   "metadata": {},
   "outputs": [
    {
     "data": {
      "text/plain": [
       "0.1"
      ]
     },
     "execution_count": 78,
     "metadata": {},
     "output_type": "execute_result"
    }
   ],
   "source": [
    "3602879701896397 / 36028797018963968"
   ]
  },
  {
   "cell_type": "code",
   "execution_count": 79,
   "id": "d6153b73-0c0c-4294-bbf8-906b12835e00",
   "metadata": {},
   "outputs": [
    {
     "data": {
      "text/plain": [
       "(5404319552844595, 18014398509481984)"
      ]
     },
     "execution_count": 79,
     "metadata": {},
     "output_type": "execute_result"
    }
   ],
   "source": [
    "(0.3).as_integer_ratio()"
   ]
  },
  {
   "cell_type": "code",
   "execution_count": 80,
   "id": "358dd64a-2355-42ad-9e11-a95dabb887c2",
   "metadata": {},
   "outputs": [
    {
     "data": {
      "text/plain": [
       "(1351079888211149, 4503599627370496)"
      ]
     },
     "execution_count": 80,
     "metadata": {},
     "output_type": "execute_result"
    }
   ],
   "source": [
    "(0.1 + 0.2).as_integer_ratio()"
   ]
  },
  {
   "cell_type": "code",
   "execution_count": 81,
   "id": "5039fdd0-01ef-4a43-9c65-d094b28fb59d",
   "metadata": {},
   "outputs": [
    {
     "data": {
      "text/plain": [
       "(3602879701896397, 18014398509481984)"
      ]
     },
     "execution_count": 81,
     "metadata": {},
     "output_type": "execute_result"
    }
   ],
   "source": [
    "(0.2).as_integer_ratio()"
   ]
  },
  {
   "cell_type": "code",
   "execution_count": null,
   "id": "380824f8-72ec-4d21-b204-f319438d3284",
   "metadata": {},
   "outputs": [],
   "source": []
  }
 ],
 "metadata": {
  "kernelspec": {
   "display_name": "Python 3 (ipykernel)",
   "language": "python",
   "name": "python3"
  },
  "language_info": {
   "codemirror_mode": {
    "name": "ipython",
    "version": 3
   },
   "file_extension": ".py",
   "mimetype": "text/x-python",
   "name": "python",
   "nbconvert_exporter": "python",
   "pygments_lexer": "ipython3",
   "version": "3.13.2"
  }
 },
 "nbformat": 4,
 "nbformat_minor": 5
}
