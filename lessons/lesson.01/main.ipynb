{
 "cells": [
  {
   "cell_type": "code",
   "execution_count": 1,
   "id": "57b576b6-5e1f-4c2d-ab07-85d6c57b26c7",
   "metadata": {},
   "outputs": [
    {
     "name": "stdout",
     "output_type": "stream",
     "text": [
      "hello world\n"
     ]
    }
   ],
   "source": [
    "print(\"hello world\")"
   ]
  },
  {
   "cell_type": "code",
   "execution_count": 2,
   "id": "ef4a270f-6252-43a4-b1ff-fa5cf08bf060",
   "metadata": {},
   "outputs": [
    {
     "data": {
      "text/plain": [
       "3"
      ]
     },
     "execution_count": 2,
     "metadata": {},
     "output_type": "execute_result"
    }
   ],
   "source": [
    "1 + 2"
   ]
  },
  {
   "cell_type": "code",
   "execution_count": 3,
   "id": "3abf0ad1-a0a7-4c62-9c33-c8e5f912e83f",
   "metadata": {},
   "outputs": [
    {
     "name": "stdout",
     "output_type": "stream",
     "text": [
      "\n"
     ]
    }
   ],
   "source": [
    "print()"
   ]
  },
  {
   "cell_type": "code",
   "execution_count": 4,
   "id": "38d31bf4-a7ef-4035-aae5-cbebf7255a5f",
   "metadata": {},
   "outputs": [
    {
     "name": "stdout",
     "output_type": "stream",
     "text": [
      "hello world!\n"
     ]
    }
   ],
   "source": [
    "print('hello world!')"
   ]
  },
  {
   "cell_type": "code",
   "execution_count": 5,
   "id": "8005e610-4612-4ff5-96f3-71d731d91f12",
   "metadata": {},
   "outputs": [
    {
     "name": "stdout",
     "output_type": "stream",
     "text": [
      "The code word is \"Python\". Remeber it\n"
     ]
    }
   ],
   "source": [
    "print('The code word is \"Python\". Remeber it')"
   ]
  },
  {
   "cell_type": "code",
   "execution_count": 6,
   "id": "8580b66a-90ed-4bd7-ae80-3a55a1b66420",
   "metadata": {},
   "outputs": [
    {
     "name": "stdout",
     "output_type": "stream",
     "text": [
      "Hello, it's me!\n"
     ]
    }
   ],
   "source": [
    "print(\"Hello, it's me!\")"
   ]
  },
  {
   "cell_type": "code",
   "execution_count": 7,
   "id": "0e3a55ef-3194-41d4-a4a7-63617534115e",
   "metadata": {},
   "outputs": [
    {
     "name": "stdout",
     "output_type": "stream",
     "text": [
      "\"Привет, это я\" по-английски будет \"Hello, it's me\"\n"
     ]
    }
   ],
   "source": [
    "print('\"Привет, это я\" по-английски будет \"Hello, it\\'s me\"')"
   ]
  },
  {
   "cell_type": "code",
   "execution_count": 8,
   "id": "d3a48623-a96e-4d13-b00f-d7f2d4dbb216",
   "metadata": {},
   "outputs": [
    {
     "name": "stdout",
     "output_type": "stream",
     "text": [
      "\"Привет, это я\" по-английски будет \"Hello, it's me\"\n"
     ]
    }
   ],
   "source": [
    "print(\"\\\"Привет, это я\\\" по-английски будет \\\"Hello, it's me\\\"\")"
   ]
  },
  {
   "cell_type": "code",
   "execution_count": 9,
   "id": "c9061a73-0067-4af2-9f65-688592473eeb",
   "metadata": {},
   "outputs": [
    {
     "name": "stdout",
     "output_type": "stream",
     "text": [
      "\"Привет, это я\" по-английски будет \"Hello, it's me\"\n"
     ]
    }
   ],
   "source": [
    "print('''\"Привет, это я\" по-английски будет \"Hello, it's me\"''')"
   ]
  },
  {
   "cell_type": "code",
   "execution_count": 10,
   "id": "881c6382-7739-4f79-aed0-798f31de050f",
   "metadata": {},
   "outputs": [
    {
     "name": "stdout",
     "output_type": "stream",
     "text": [
      "кавычки одинарные: ''\n",
      "кавычки двойные: \"\"\n",
      "\n"
     ]
    }
   ],
   "source": [
    "print(\"\"\"кавычки одинарные: ''\n",
    "кавычки двойные: \"\"\n",
    "\"\"\")"
   ]
  },
  {
   "cell_type": "code",
   "execution_count": 11,
   "id": "74772ce4-a7a2-46be-bc2e-53bed1b80dbe",
   "metadata": {},
   "outputs": [
    {
     "name": "stdout",
     "output_type": "stream",
     "text": [
      "кавычки одинарные: ''\n",
      "кавычки двойные: \"\"\n"
     ]
    }
   ],
   "source": [
    "print('''кавычки одинарные: ''\n",
    "кавычки двойные: \"\"''')"
   ]
  },
  {
   "cell_type": "code",
   "execution_count": 12,
   "id": "e3924f10-ba89-4ffe-93b5-74d30dd4babe",
   "metadata": {},
   "outputs": [
    {
     "name": "stdout",
     "output_type": "stream",
     "text": [
      "\n",
      "кавычки одинарные: ''\n",
      "кавычки двойные: \"\"\n"
     ]
    }
   ],
   "source": [
    "print('''\n",
    "кавычки одинарные: ''\n",
    "кавычки двойные: \"\"''')"
   ]
  },
  {
   "cell_type": "code",
   "execution_count": 13,
   "id": "451322e9-695d-4b15-aad7-6a60ef6016c4",
   "metadata": {},
   "outputs": [
    {
     "name": "stdout",
     "output_type": "stream",
     "text": [
      "\n",
      "кавычки одинарные: ''\n",
      "кавычки двойные: \"\"\n",
      "\n"
     ]
    }
   ],
   "source": [
    "print('''\n",
    "кавычки одинарные: ''\n",
    "кавычки двойные: \"\"\n",
    "''')"
   ]
  },
  {
   "cell_type": "code",
   "execution_count": 14,
   "id": "1bb3359c-fca6-4d55-9799-5a5e8365087e",
   "metadata": {},
   "outputs": [
    {
     "name": "stdout",
     "output_type": "stream",
     "text": [
      "кавычки одинарные: ''\n",
      "кавычки двойные: \"\"\n"
     ]
    }
   ],
   "source": [
    "print('''\\\n",
    "кавычки одинарные: ''\n",
    "кавычки двойные: \"\"\\\n",
    "''')"
   ]
  },
  {
   "cell_type": "code",
   "execution_count": 15,
   "id": "a3d45f31-6894-4339-b2fa-2f2afa509052",
   "metadata": {},
   "outputs": [
    {
     "data": {
      "text/plain": [
       "'foobar'"
      ]
     },
     "execution_count": 15,
     "metadata": {},
     "output_type": "execute_result"
    }
   ],
   "source": [
    "'foo' + \"bar\""
   ]
  },
  {
   "cell_type": "code",
   "execution_count": 16,
   "id": "1546d7e6-7928-404f-9ad3-8016727e18b7",
   "metadata": {},
   "outputs": [
    {
     "name": "stdout",
     "output_type": "stream",
     "text": [
      "hello world\n"
     ]
    }
   ],
   "source": [
    "# Печатает \"hello world\" (без кавычек!!)\n",
    "print(\"hello world\")"
   ]
  },
  {
   "cell_type": "code",
   "execution_count": 17,
   "id": "dc6459de-6e6d-4c37-90bb-2ce7518e529b",
   "metadata": {},
   "outputs": [
    {
     "data": {
      "text/plain": [
       "'hello'"
      ]
     },
     "execution_count": 17,
     "metadata": {},
     "output_type": "execute_result"
    }
   ],
   "source": [
    "\"hello\""
   ]
  },
  {
   "cell_type": "code",
   "execution_count": 18,
   "id": "098100e2-0b0d-4206-8a2c-2c28ef9d79cd",
   "metadata": {},
   "outputs": [
    {
     "data": {
      "text/plain": [
       "123"
      ]
     },
     "execution_count": 18,
     "metadata": {},
     "output_type": "execute_result"
    }
   ],
   "source": [
    "123"
   ]
  },
  {
   "cell_type": "code",
   "execution_count": 19,
   "id": "023cd344-76cc-41fa-8f9a-2e8790df6fc8",
   "metadata": {},
   "outputs": [
    {
     "data": {
      "text/plain": [
       "'John'"
      ]
     },
     "execution_count": 19,
     "metadata": {},
     "output_type": "execute_result"
    }
   ],
   "source": [
    "\"John\""
   ]
  },
  {
   "cell_type": "code",
   "execution_count": 20,
   "id": "a9568149-43f0-4b9b-84ad-1c2315a5a279",
   "metadata": {},
   "outputs": [
    {
     "data": {
      "text/plain": [
       "3"
      ]
     },
     "execution_count": 20,
     "metadata": {},
     "output_type": "execute_result"
    }
   ],
   "source": [
    "1 + 2"
   ]
  },
  {
   "cell_type": "code",
   "execution_count": 21,
   "id": "6111170d-6de1-48d2-83a0-23fde43c6cf2",
   "metadata": {},
   "outputs": [
    {
     "data": {
      "text/plain": [
       "'12'"
      ]
     },
     "execution_count": 21,
     "metadata": {},
     "output_type": "execute_result"
    }
   ],
   "source": [
    "'1' + '2'"
   ]
  },
  {
   "cell_type": "code",
   "execution_count": 22,
   "id": "cee56476-9454-44e3-8fcf-52f9e5d40f54",
   "metadata": {},
   "outputs": [
    {
     "data": {
      "text/plain": [
       "'foobar'"
      ]
     },
     "execution_count": 22,
     "metadata": {},
     "output_type": "execute_result"
    }
   ],
   "source": [
    "\"foo\" + \"bar\""
   ]
  },
  {
   "cell_type": "code",
   "execution_count": 23,
   "id": "073c6042-3b1b-4451-a5e6-971f86bdfd52",
   "metadata": {},
   "outputs": [
    {
     "data": {
      "text/plain": [
       "123465168724135803785405"
      ]
     },
     "execution_count": 23,
     "metadata": {},
     "output_type": "execute_result"
    }
   ],
   "source": [
    "123465168724123456167582 + 12347617823"
   ]
  },
  {
   "cell_type": "code",
   "execution_count": 24,
   "id": "bbe87ea9-da89-4890-a521-4f789282a998",
   "metadata": {},
   "outputs": [
    {
     "data": {
      "text/plain": [
       "'jhkasdfjhkasfjkhasfjasdhksdjfhkasdfhj'"
      ]
     },
     "execution_count": 24,
     "metadata": {},
     "output_type": "execute_result"
    }
   ],
   "source": [
    "\"jhkasdfjhkasfjkhasfjasdhksdjfhkasdfhj\""
   ]
  },
  {
   "cell_type": "code",
   "execution_count": 25,
   "id": "7c4c9d2c-6420-4001-ab59-52cc35ef9a9b",
   "metadata": {},
   "outputs": [
    {
     "data": {
      "text/plain": [
       "3"
      ]
     },
     "execution_count": 25,
     "metadata": {},
     "output_type": "execute_result"
    }
   ],
   "source": [
    "len(\"abc\")"
   ]
  },
  {
   "cell_type": "code",
   "execution_count": 26,
   "id": "cc0caceb-37a4-4c87-bdc0-3548d4896318",
   "metadata": {},
   "outputs": [
    {
     "data": {
      "text/plain": [
       "4"
      ]
     },
     "execution_count": 26,
     "metadata": {},
     "output_type": "execute_result"
    }
   ],
   "source": [
    "len('it\\'s')"
   ]
  },
  {
   "cell_type": "code",
   "execution_count": 27,
   "id": "58c4a31b-2291-40cb-af35-1f72d513929b",
   "metadata": {},
   "outputs": [
    {
     "data": {
      "text/plain": [
       "'abcabcabc'"
      ]
     },
     "execution_count": 27,
     "metadata": {},
     "output_type": "execute_result"
    }
   ],
   "source": [
    "\"abc\" * 3"
   ]
  },
  {
   "cell_type": "code",
   "execution_count": 28,
   "id": "ca85bc6a-22f9-4c8f-9b47-1ce83139cacc",
   "metadata": {},
   "outputs": [
    {
     "data": {
      "text/plain": [
       "84"
      ]
     },
     "execution_count": 28,
     "metadata": {},
     "output_type": "execute_result"
    }
   ],
   "source": [
    "len(\"dsfasdf\" * 4 * 3)"
   ]
  },
  {
   "cell_type": "code",
   "execution_count": 29,
   "id": "6b842aa8-f0d4-4d52-953c-72af49dd752e",
   "metadata": {},
   "outputs": [],
   "source": [
    "name = \"Suren\""
   ]
  },
  {
   "cell_type": "code",
   "execution_count": 30,
   "id": "d585a752-5f74-4e97-bd72-d87aad518947",
   "metadata": {},
   "outputs": [
    {
     "name": "stdout",
     "output_type": "stream",
     "text": [
      "name\n"
     ]
    }
   ],
   "source": [
    "print(\"name\")"
   ]
  },
  {
   "cell_type": "code",
   "execution_count": 31,
   "id": "34c033d9-f0ea-4ff6-bb65-066b1961ddf5",
   "metadata": {},
   "outputs": [
    {
     "name": "stdout",
     "output_type": "stream",
     "text": [
      "Suren\n"
     ]
    }
   ],
   "source": [
    "print(name)"
   ]
  },
  {
   "cell_type": "code",
   "execution_count": 32,
   "id": "a6e67e62-d6db-465d-b069-85fc684a02ee",
   "metadata": {},
   "outputs": [],
   "source": [
    "name = \"John\""
   ]
  },
  {
   "cell_type": "code",
   "execution_count": 33,
   "id": "7bde75e1-e443-4fc1-8e2c-b899468655c4",
   "metadata": {},
   "outputs": [
    {
     "data": {
      "text/plain": [
       "'John'"
      ]
     },
     "execution_count": 33,
     "metadata": {},
     "output_type": "execute_result"
    }
   ],
   "source": [
    "name"
   ]
  },
  {
   "cell_type": "code",
   "execution_count": 34,
   "id": "c74f9073-a263-4633-a115-90898420af6b",
   "metadata": {},
   "outputs": [
    {
     "name": "stdout",
     "output_type": "stream",
     "text": [
      "John\n"
     ]
    }
   ],
   "source": [
    "print(name)"
   ]
  },
  {
   "cell_type": "code",
   "execution_count": 35,
   "id": "bf8e3230-142d-460f-aa33-5e3028d77839",
   "metadata": {},
   "outputs": [],
   "source": [
    "age = 42"
   ]
  },
  {
   "cell_type": "code",
   "execution_count": 36,
   "id": "15ebaccf-9450-484e-a9a5-04cc964dd02d",
   "metadata": {},
   "outputs": [
    {
     "name": "stdout",
     "output_type": "stream",
     "text": [
      "42\n"
     ]
    }
   ],
   "source": [
    "print(age)"
   ]
  },
  {
   "cell_type": "code",
   "execution_count": 37,
   "id": "5f63fd56-d4e0-427a-b302-95e2d1a01668",
   "metadata": {},
   "outputs": [
    {
     "name": "stdout",
     "output_type": "stream",
     "text": [
      "42\n",
      "42\n"
     ]
    }
   ],
   "source": [
    "print(42)\n",
    "print('42')"
   ]
  },
  {
   "cell_type": "code",
   "execution_count": 38,
   "id": "8d9dc04b-dbd5-43dd-8d9b-6266662dca02",
   "metadata": {},
   "outputs": [
    {
     "data": {
      "text/plain": [
       "int"
      ]
     },
     "execution_count": 38,
     "metadata": {},
     "output_type": "execute_result"
    }
   ],
   "source": [
    "type(age)"
   ]
  },
  {
   "cell_type": "code",
   "execution_count": 39,
   "id": "37616b32-723e-4e80-9165-f09ca5e4b633",
   "metadata": {},
   "outputs": [
    {
     "name": "stdout",
     "output_type": "stream",
     "text": [
      "<class 'int'>\n"
     ]
    }
   ],
   "source": [
    "print(type(age))"
   ]
  },
  {
   "cell_type": "code",
   "execution_count": 40,
   "id": "39b3df3d-1d8b-4ee0-be9c-306bc84f386d",
   "metadata": {},
   "outputs": [
    {
     "data": {
      "text/plain": [
       "False"
      ]
     },
     "execution_count": 40,
     "metadata": {},
     "output_type": "execute_result"
    }
   ],
   "source": [
    "'123' == 123"
   ]
  },
  {
   "cell_type": "code",
   "execution_count": 41,
   "id": "8600c558-62c9-4777-b2c6-142a59b32907",
   "metadata": {},
   "outputs": [],
   "source": [
    "age = \"fourty two\""
   ]
  },
  {
   "cell_type": "code",
   "execution_count": 42,
   "id": "d8c6740b-96c7-4878-9e31-3c48d16ad108",
   "metadata": {},
   "outputs": [
    {
     "name": "stdout",
     "output_type": "stream",
     "text": [
      "fourty two\n"
     ]
    }
   ],
   "source": [
    "print(age)"
   ]
  },
  {
   "cell_type": "code",
   "execution_count": 43,
   "id": "25b7e536-51bb-4aca-90ff-93029029311f",
   "metadata": {},
   "outputs": [
    {
     "name": "stdout",
     "output_type": "stream",
     "text": [
      "<class 'str'>\n"
     ]
    }
   ],
   "source": [
    "print(type(age))"
   ]
  },
  {
   "cell_type": "code",
   "execution_count": 44,
   "id": "eedb4add-b6bd-4576-9e8e-2a952bdb790c",
   "metadata": {},
   "outputs": [
    {
     "data": {
      "text/plain": [
       "4.5"
      ]
     },
     "execution_count": 44,
     "metadata": {},
     "output_type": "execute_result"
    }
   ],
   "source": [
    "2 + 2.5"
   ]
  },
  {
   "cell_type": "code",
   "execution_count": 45,
   "id": "5da469df-e617-4349-ae3a-34f31efbe854",
   "metadata": {},
   "outputs": [
    {
     "name": "stdout",
     "output_type": "stream",
     "text": [
      "<class 'float'>\n"
     ]
    }
   ],
   "source": [
    "print(type(1.5))"
   ]
  },
  {
   "cell_type": "code",
   "execution_count": 46,
   "id": "8364e852-c7da-4dab-b1f3-86bdb7965db9",
   "metadata": {},
   "outputs": [
    {
     "name": "stdout",
     "output_type": "stream",
     "text": [
      "<class 'int'>\n"
     ]
    }
   ],
   "source": [
    "print(type(1))"
   ]
  },
  {
   "cell_type": "code",
   "execution_count": 47,
   "id": "a3d1c787-b5b6-4c04-a8a3-fc640e48f53f",
   "metadata": {},
   "outputs": [
    {
     "name": "stdout",
     "output_type": "stream",
     "text": [
      "<class 'float'>\n"
     ]
    }
   ],
   "source": [
    "print(type(1.0))"
   ]
  },
  {
   "cell_type": "code",
   "execution_count": 48,
   "id": "30e15a22-049f-4986-ab50-0690577da88a",
   "metadata": {},
   "outputs": [
    {
     "data": {
      "text/plain": [
       "4.0"
      ]
     },
     "execution_count": 48,
     "metadata": {},
     "output_type": "execute_result"
    }
   ],
   "source": [
    "1.0 + 3.0"
   ]
  },
  {
   "cell_type": "code",
   "execution_count": 49,
   "id": "2fd6757b-85d2-4a52-b68a-b82436320e37",
   "metadata": {},
   "outputs": [
    {
     "data": {
      "text/plain": [
       "3.0"
      ]
     },
     "execution_count": 49,
     "metadata": {},
     "output_type": "execute_result"
    }
   ],
   "source": [
    "1.0 + 2.0"
   ]
  },
  {
   "cell_type": "code",
   "execution_count": 50,
   "id": "c7d9d212-2e7e-4923-80c2-8a3b2d5c791b",
   "metadata": {},
   "outputs": [
    {
     "data": {
      "text/plain": [
       "0.6000000000000001"
      ]
     },
     "execution_count": 50,
     "metadata": {},
     "output_type": "execute_result"
    }
   ],
   "source": [
    "0.2 + 0.4"
   ]
  },
  {
   "cell_type": "code",
   "execution_count": 51,
   "id": "4c36d254-5ab2-4515-81cf-416cfd3f3176",
   "metadata": {},
   "outputs": [
    {
     "data": {
      "text/plain": [
       "0.30000000000000004"
      ]
     },
     "execution_count": 51,
     "metadata": {},
     "output_type": "execute_result"
    }
   ],
   "source": [
    "0.1 + 0.2"
   ]
  },
  {
   "cell_type": "code",
   "execution_count": 52,
   "id": "8b294a66-2c01-4b8e-a859-8041a36664f3",
   "metadata": {},
   "outputs": [
    {
     "data": {
      "text/plain": [
       "False"
      ]
     },
     "execution_count": 52,
     "metadata": {},
     "output_type": "execute_result"
    }
   ],
   "source": [
    "0.1 + 0.2 == 0.3"
   ]
  },
  {
   "cell_type": "code",
   "execution_count": 53,
   "id": "13b26b31-4b42-4150-917c-0ab380ff7483",
   "metadata": {},
   "outputs": [
    {
     "data": {
      "text/plain": [
       "2.5"
      ]
     },
     "execution_count": 53,
     "metadata": {},
     "output_type": "execute_result"
    }
   ],
   "source": [
    "5 / 2"
   ]
  },
  {
   "cell_type": "code",
   "execution_count": 54,
   "id": "c91f7afc-e0c8-4256-8d41-68726984c014",
   "metadata": {},
   "outputs": [
    {
     "data": {
      "text/plain": [
       "5.0"
      ]
     },
     "execution_count": 54,
     "metadata": {},
     "output_type": "execute_result"
    }
   ],
   "source": [
    "10 / 2"
   ]
  },
  {
   "cell_type": "code",
   "execution_count": 55,
   "id": "b04c9bfc-b8d3-48be-9fea-4a04e60d4675",
   "metadata": {},
   "outputs": [
    {
     "data": {
      "text/plain": [
       "5"
      ]
     },
     "execution_count": 55,
     "metadata": {},
     "output_type": "execute_result"
    }
   ],
   "source": [
    "10 // 2"
   ]
  },
  {
   "cell_type": "code",
   "execution_count": 56,
   "id": "c0e712e4-e154-42f4-be2f-b86fb544e71c",
   "metadata": {},
   "outputs": [
    {
     "data": {
      "text/plain": [
       "1.6666666666666667"
      ]
     },
     "execution_count": 56,
     "metadata": {},
     "output_type": "execute_result"
    }
   ],
   "source": [
    "5 / 3 "
   ]
  },
  {
   "cell_type": "code",
   "execution_count": 57,
   "id": "6d9d6cd5-082c-45be-95e1-148301cda80c",
   "metadata": {},
   "outputs": [
    {
     "data": {
      "text/plain": [
       "1"
      ]
     },
     "execution_count": 57,
     "metadata": {},
     "output_type": "execute_result"
    }
   ],
   "source": [
    "5 // 3"
   ]
  },
  {
   "cell_type": "code",
   "execution_count": 58,
   "id": "31194184-4464-48d4-9c72-31511500dc5b",
   "metadata": {},
   "outputs": [
    {
     "data": {
      "text/plain": [
       "0.95"
      ]
     },
     "execution_count": 58,
     "metadata": {},
     "output_type": "execute_result"
    }
   ],
   "source": [
    "19 / 20"
   ]
  },
  {
   "cell_type": "code",
   "execution_count": 59,
   "id": "28f816a8-a011-4837-bb7e-1c098a36fd73",
   "metadata": {},
   "outputs": [
    {
     "data": {
      "text/plain": [
       "0"
      ]
     },
     "execution_count": 59,
     "metadata": {},
     "output_type": "execute_result"
    }
   ],
   "source": [
    "19 // 20"
   ]
  },
  {
   "cell_type": "code",
   "execution_count": 60,
   "id": "49d06750-1023-4089-8a8c-47b545aa45dc",
   "metadata": {},
   "outputs": [
    {
     "data": {
      "text/plain": [
       "19"
      ]
     },
     "execution_count": 60,
     "metadata": {},
     "output_type": "execute_result"
    }
   ],
   "source": [
    "19 % 20"
   ]
  },
  {
   "cell_type": "code",
   "execution_count": 61,
   "id": "8188fa35-fa86-4689-81ab-496c34005b0a",
   "metadata": {},
   "outputs": [
    {
     "data": {
      "text/plain": [
       "1"
      ]
     },
     "execution_count": 61,
     "metadata": {},
     "output_type": "execute_result"
    }
   ],
   "source": [
    "21 % 20"
   ]
  },
  {
   "cell_type": "code",
   "execution_count": 62,
   "id": "33184c52-e31a-4877-90a3-a4ecedcf958b",
   "metadata": {},
   "outputs": [
    {
     "data": {
      "text/plain": [
       "1.05"
      ]
     },
     "execution_count": 62,
     "metadata": {},
     "output_type": "execute_result"
    }
   ],
   "source": [
    "21 / 20"
   ]
  },
  {
   "cell_type": "code",
   "execution_count": 63,
   "id": "5649f69a-3a38-46de-9afa-8287283d8cd5",
   "metadata": {},
   "outputs": [
    {
     "data": {
      "text/plain": [
       "1"
      ]
     },
     "execution_count": 63,
     "metadata": {},
     "output_type": "execute_result"
    }
   ],
   "source": [
    "21 // 20"
   ]
  },
  {
   "cell_type": "code",
   "execution_count": 64,
   "id": "aeaa7678-bf80-464a-ac90-7a717b07592c",
   "metadata": {},
   "outputs": [
    {
     "data": {
      "text/plain": [
       "2.05"
      ]
     },
     "execution_count": 64,
     "metadata": {},
     "output_type": "execute_result"
    }
   ],
   "source": [
    "41 / 20"
   ]
  },
  {
   "cell_type": "code",
   "execution_count": 65,
   "id": "f3e8e918-2cfb-4ccd-ae41-31c0775a07e0",
   "metadata": {},
   "outputs": [
    {
     "data": {
      "text/plain": [
       "2"
      ]
     },
     "execution_count": 65,
     "metadata": {},
     "output_type": "execute_result"
    }
   ],
   "source": [
    "41 // 20"
   ]
  },
  {
   "cell_type": "code",
   "execution_count": 66,
   "id": "76b7453d-f230-4e73-bf84-bfd48f2878ae",
   "metadata": {},
   "outputs": [
    {
     "data": {
      "text/plain": [
       "1"
      ]
     },
     "execution_count": 66,
     "metadata": {},
     "output_type": "execute_result"
    }
   ],
   "source": [
    "41 % 20"
   ]
  },
  {
   "cell_type": "code",
   "execution_count": 67,
   "id": "06ca9ce9-9787-4752-8ec8-1dd301b29f5b",
   "metadata": {},
   "outputs": [
    {
     "data": {
      "text/plain": [
       "6"
      ]
     },
     "execution_count": 67,
     "metadata": {},
     "output_type": "execute_result"
    }
   ],
   "source": [
    "2 * 3"
   ]
  },
  {
   "cell_type": "code",
   "execution_count": 68,
   "id": "63744e8c-eb83-4ddd-8137-a90e08ce97d7",
   "metadata": {},
   "outputs": [
    {
     "data": {
      "text/plain": [
       "1024"
      ]
     },
     "execution_count": 68,
     "metadata": {},
     "output_type": "execute_result"
    }
   ],
   "source": [
    "2**10"
   ]
  },
  {
   "cell_type": "code",
   "execution_count": 69,
   "id": "0bfbb526-d314-4e5f-941e-3ad36d9abb14",
   "metadata": {},
   "outputs": [
    {
     "data": {
      "text/plain": [
       "8"
      ]
     },
     "execution_count": 69,
     "metadata": {},
     "output_type": "execute_result"
    }
   ],
   "source": [
    "10 - 2"
   ]
  },
  {
   "cell_type": "code",
   "execution_count": 70,
   "id": "33dbab2c-e6e9-4d49-a659-4d199bc2ff3f",
   "metadata": {},
   "outputs": [
    {
     "data": {
      "text/plain": [
       "7.5"
      ]
     },
     "execution_count": 70,
     "metadata": {},
     "output_type": "execute_result"
    }
   ],
   "source": [
    "10 - 2.5"
   ]
  },
  {
   "cell_type": "code",
   "execution_count": 71,
   "id": "4cebc3e8-2de6-4941-9fbb-dc497f7eb1d9",
   "metadata": {},
   "outputs": [
    {
     "data": {
      "text/plain": [
       "True"
      ]
     },
     "execution_count": 71,
     "metadata": {},
     "output_type": "execute_result"
    }
   ],
   "source": [
    "True"
   ]
  },
  {
   "cell_type": "code",
   "execution_count": 72,
   "id": "b9220834-20c8-4468-a985-58c2ca77a728",
   "metadata": {},
   "outputs": [
    {
     "data": {
      "text/plain": [
       "False"
      ]
     },
     "execution_count": 72,
     "metadata": {},
     "output_type": "execute_result"
    }
   ],
   "source": [
    "False"
   ]
  },
  {
   "cell_type": "code",
   "execution_count": 73,
   "id": "847c630c-b010-4007-b5d9-caa7f3c650f7",
   "metadata": {},
   "outputs": [
    {
     "data": {
      "text/plain": [
       "True"
      ]
     },
     "execution_count": 73,
     "metadata": {},
     "output_type": "execute_result"
    }
   ],
   "source": [
    "1 > 0"
   ]
  },
  {
   "cell_type": "code",
   "execution_count": 74,
   "id": "c11dcd5c-fa3f-4ae9-bd3f-192838af7fff",
   "metadata": {},
   "outputs": [
    {
     "data": {
      "text/plain": [
       "False"
      ]
     },
     "execution_count": 74,
     "metadata": {},
     "output_type": "execute_result"
    }
   ],
   "source": [
    "1 > 1"
   ]
  },
  {
   "cell_type": "code",
   "execution_count": 75,
   "id": "e186ecfc-df3e-4286-8485-593b6d0484c4",
   "metadata": {},
   "outputs": [
    {
     "data": {
      "text/plain": [
       "True"
      ]
     },
     "execution_count": 75,
     "metadata": {},
     "output_type": "execute_result"
    }
   ],
   "source": [
    "1 >= 1"
   ]
  },
  {
   "cell_type": "code",
   "execution_count": 76,
   "id": "1e2f2981-f86c-4f8c-b57e-0f05439dcec9",
   "metadata": {},
   "outputs": [
    {
     "name": "stdout",
     "output_type": "stream",
     "text": [
      "<class 'bool'>\n"
     ]
    }
   ],
   "source": [
    "print(type(True))"
   ]
  },
  {
   "cell_type": "code",
   "execution_count": 77,
   "id": "c14ebf2a-ae83-4cf9-8391-2263a1cef73a",
   "metadata": {},
   "outputs": [
    {
     "data": {
      "text/plain": [
       "True"
      ]
     },
     "execution_count": 77,
     "metadata": {},
     "output_type": "execute_result"
    }
   ],
   "source": [
    "isinstance(age, (str, int))"
   ]
  },
  {
   "cell_type": "code",
   "execution_count": 78,
   "id": "af6fcf89-36ce-408e-860a-d94ea490eefc",
   "metadata": {},
   "outputs": [
    {
     "data": {
      "text/plain": [
       "'fourty two'"
      ]
     },
     "execution_count": 78,
     "metadata": {},
     "output_type": "execute_result"
    }
   ],
   "source": [
    "age"
   ]
  },
  {
   "cell_type": "code",
   "execution_count": 79,
   "id": "4ec7aa76-d399-4723-a390-6f0e4bcee1bc",
   "metadata": {},
   "outputs": [
    {
     "data": {
      "text/plain": [
       "True"
      ]
     },
     "execution_count": 79,
     "metadata": {},
     "output_type": "execute_result"
    }
   ],
   "source": [
    "isinstance(age, str)"
   ]
  },
  {
   "cell_type": "code",
   "execution_count": 80,
   "id": "c89f6dd9-5039-4358-a28a-fe8f1d77128a",
   "metadata": {},
   "outputs": [
    {
     "data": {
      "text/plain": [
       "False"
      ]
     },
     "execution_count": 80,
     "metadata": {},
     "output_type": "execute_result"
    }
   ],
   "source": [
    "isinstance(age, int)"
   ]
  },
  {
   "cell_type": "code",
   "execution_count": 81,
   "id": "10eeef74-986d-4c59-894a-e175e5b9877d",
   "metadata": {},
   "outputs": [
    {
     "data": {
      "text/plain": [
       "True"
      ]
     },
     "execution_count": 81,
     "metadata": {},
     "output_type": "execute_result"
    }
   ],
   "source": [
    "isinstance(age, str | int)"
   ]
  },
  {
   "cell_type": "code",
   "execution_count": 82,
   "id": "fb1531a6-d719-4e15-9f3a-edfbaab2f4fe",
   "metadata": {},
   "outputs": [
    {
     "data": {
      "text/plain": [
       "False"
      ]
     },
     "execution_count": 82,
     "metadata": {},
     "output_type": "execute_result"
    }
   ],
   "source": [
    "isinstance(True, str)"
   ]
  },
  {
   "cell_type": "code",
   "execution_count": 85,
   "id": "25d36dc1-247b-43fa-a9f9-ca943424c606",
   "metadata": {},
   "outputs": [
    {
     "data": {
      "text/plain": [
       "False"
      ]
     },
     "execution_count": 85,
     "metadata": {},
     "output_type": "execute_result"
    }
   ],
   "source": [
    "isinstance(True, str | float)"
   ]
  },
  {
   "cell_type": "code",
   "execution_count": 86,
   "id": "f4cdb507-18a7-46a8-a0cc-c7b9eac9ce88",
   "metadata": {},
   "outputs": [
    {
     "data": {
      "text/plain": [
       "True"
      ]
     },
     "execution_count": 86,
     "metadata": {},
     "output_type": "execute_result"
    }
   ],
   "source": [
    "isinstance(True, str | float | bool)"
   ]
  },
  {
   "cell_type": "code",
   "execution_count": 87,
   "id": "b63d616e-97bf-474e-a868-e65cb7517d6f",
   "metadata": {},
   "outputs": [
    {
     "data": {
      "text/plain": [
       "True"
      ]
     },
     "execution_count": 87,
     "metadata": {},
     "output_type": "execute_result"
    }
   ],
   "source": [
    "isinstance(True, str | float | bool | int)"
   ]
  },
  {
   "cell_type": "code",
   "execution_count": 88,
   "id": "d111e4f2-c185-4cb3-a40f-b9980b72815c",
   "metadata": {},
   "outputs": [
    {
     "data": {
      "text/plain": [
       "True"
      ]
     },
     "execution_count": 88,
     "metadata": {},
     "output_type": "execute_result"
    }
   ],
   "source": [
    "isinstance(False, str | float | bool | int)"
   ]
  },
  {
   "cell_type": "code",
   "execution_count": 89,
   "id": "7fe4f1c2-9a69-4791-a135-716a93d662f9",
   "metadata": {},
   "outputs": [
    {
     "data": {
      "text/plain": [
       "True"
      ]
     },
     "execution_count": 89,
     "metadata": {},
     "output_type": "execute_result"
    }
   ],
   "source": [
    "isinstance(False, bool | int)"
   ]
  },
  {
   "cell_type": "code",
   "execution_count": 90,
   "id": "007848f5-35df-4fe3-9838-52daab3c301f",
   "metadata": {},
   "outputs": [
    {
     "data": {
      "text/plain": [
       "True"
      ]
     },
     "execution_count": 90,
     "metadata": {},
     "output_type": "execute_result"
    }
   ],
   "source": [
    "isinstance(False, int)"
   ]
  },
  {
   "cell_type": "code",
   "execution_count": 91,
   "id": "d05aa338-bb50-4d4d-860f-0af1dde47014",
   "metadata": {},
   "outputs": [
    {
     "data": {
      "text/plain": [
       "True"
      ]
     },
     "execution_count": 91,
     "metadata": {},
     "output_type": "execute_result"
    }
   ],
   "source": [
    "False == 0"
   ]
  },
  {
   "cell_type": "code",
   "execution_count": 92,
   "id": "8274e9f8-80ad-41f2-9507-d588cb0b0e2d",
   "metadata": {},
   "outputs": [
    {
     "data": {
      "text/plain": [
       "True"
      ]
     },
     "execution_count": 92,
     "metadata": {},
     "output_type": "execute_result"
    }
   ],
   "source": [
    "True == 1"
   ]
  },
  {
   "cell_type": "code",
   "execution_count": 93,
   "id": "5f5bf7a8-5f2f-4878-afb5-df0282ad3947",
   "metadata": {},
   "outputs": [
    {
     "data": {
      "text/plain": [
       "1"
      ]
     },
     "execution_count": 93,
     "metadata": {},
     "output_type": "execute_result"
    }
   ],
   "source": [
    "True + False"
   ]
  },
  {
   "cell_type": "code",
   "execution_count": 94,
   "id": "863d6143-2398-48a9-968a-87f50d7205f5",
   "metadata": {},
   "outputs": [
    {
     "data": {
      "text/plain": [
       "2"
      ]
     },
     "execution_count": 94,
     "metadata": {},
     "output_type": "execute_result"
    }
   ],
   "source": [
    "True + True"
   ]
  },
  {
   "cell_type": "code",
   "execution_count": 95,
   "id": "9307eb17-f6d9-4c85-9902-f16b1cce281f",
   "metadata": {},
   "outputs": [
    {
     "data": {
      "text/plain": [
       "0"
      ]
     },
     "execution_count": 95,
     "metadata": {},
     "output_type": "execute_result"
    }
   ],
   "source": [
    "False + False"
   ]
  },
  {
   "cell_type": "code",
   "execution_count": 96,
   "id": "1e7cbfaa-42cb-4cae-90b9-9ef9886b1559",
   "metadata": {},
   "outputs": [
    {
     "name": "stdout",
     "output_type": "stream",
     "text": [
      "<class 'type'>\n"
     ]
    }
   ],
   "source": [
    "print(type(bool))"
   ]
  },
  {
   "cell_type": "code",
   "execution_count": 97,
   "id": "eba9ad06-f3b2-42fe-bd56-f4f347163f6d",
   "metadata": {},
   "outputs": [
    {
     "name": "stdout",
     "output_type": "stream",
     "text": [
      "<class 'bool'>\n"
     ]
    }
   ],
   "source": [
    "print(type(False))"
   ]
  },
  {
   "cell_type": "code",
   "execution_count": 98,
   "id": "c4e81715-96e9-48c0-b610-2e8c33cf415b",
   "metadata": {},
   "outputs": [
    {
     "data": {
      "text/plain": [
       "False"
      ]
     },
     "execution_count": 98,
     "metadata": {},
     "output_type": "execute_result"
    }
   ],
   "source": [
    "False == True"
   ]
  },
  {
   "cell_type": "code",
   "execution_count": null,
   "id": "e071e3f6-318b-46f9-b496-133fd22bc715",
   "metadata": {},
   "outputs": [],
   "source": []
  }
 ],
 "metadata": {
  "kernelspec": {
   "display_name": "Python 3 (ipykernel)",
   "language": "python",
   "name": "python3"
  },
  "language_info": {
   "codemirror_mode": {
    "name": "ipython",
    "version": 3
   },
   "file_extension": ".py",
   "mimetype": "text/x-python",
   "name": "python",
   "nbconvert_exporter": "python",
   "pygments_lexer": "ipython3",
   "version": "3.12.3"
  }
 },
 "nbformat": 4,
 "nbformat_minor": 5
}
