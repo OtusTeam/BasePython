{
 "cells": [
  {
   "cell_type": "code",
   "execution_count": 1,
   "id": "initial_id",
   "metadata": {},
   "outputs": [
    {
     "name": "stdout",
     "output_type": "stream",
     "text": [
      "Hello world!\n"
     ]
    }
   ],
   "source": [
    "print(\"Hello world!\")"
   ]
  },
  {
   "cell_type": "code",
   "execution_count": 2,
   "id": "f9f0bdf3-6fbb-4799-97f3-2001da78f63b",
   "metadata": {},
   "outputs": [
    {
     "data": {
      "text/plain": [
       "'hello'"
      ]
     },
     "execution_count": 2,
     "metadata": {},
     "output_type": "execute_result"
    }
   ],
   "source": [
    "'hello'"
   ]
  },
  {
   "cell_type": "code",
   "execution_count": 3,
   "id": "7235b649-6fa8-4208-a959-fa8d8a89716c",
   "metadata": {},
   "outputs": [
    {
     "name": "stdout",
     "output_type": "stream",
     "text": [
      "hello\n"
     ]
    }
   ],
   "source": [
    "print('hello')"
   ]
  },
  {
   "cell_type": "code",
   "execution_count": 4,
   "id": "7f2b1153-64dc-4939-befb-5fab501e515b",
   "metadata": {},
   "outputs": [
    {
     "data": {
      "text/plain": [
       "'hello'"
      ]
     },
     "execution_count": 4,
     "metadata": {},
     "output_type": "execute_result"
    }
   ],
   "source": [
    "'hello'"
   ]
  },
  {
   "cell_type": "code",
   "execution_count": 5,
   "id": "fca6aa3d-0ef5-47b6-8dbd-91fa5e57c5bc",
   "metadata": {},
   "outputs": [
    {
     "data": {
      "text/plain": [
       "'hello'"
      ]
     },
     "execution_count": 5,
     "metadata": {},
     "output_type": "execute_result"
    }
   ],
   "source": [
    "\"hello\""
   ]
  },
  {
   "cell_type": "code",
   "execution_count": 6,
   "id": "96946226-0fbd-4593-a3ff-1be95b98ccdf",
   "metadata": {},
   "outputs": [
    {
     "name": "stdout",
     "output_type": "stream",
     "text": [
      "hello\n",
      "hello\n"
     ]
    }
   ],
   "source": [
    "print(\"hello\")\n",
    "print('hello')"
   ]
  },
  {
   "cell_type": "code",
   "execution_count": 7,
   "id": "d3ebf160-c54f-4c2e-8e68-041ad5b38e9d",
   "metadata": {},
   "outputs": [
    {
     "data": {
      "text/plain": [
       "True"
      ]
     },
     "execution_count": 7,
     "metadata": {},
     "output_type": "execute_result"
    }
   ],
   "source": [
    "'hello' == \"hello\""
   ]
  },
  {
   "cell_type": "code",
   "execution_count": 8,
   "id": "5ec9af26-e3fe-47e5-8274-211a848802ce",
   "metadata": {},
   "outputs": [
    {
     "data": {
      "text/plain": [
       "True"
      ]
     },
     "execution_count": 8,
     "metadata": {},
     "output_type": "execute_result"
    }
   ],
   "source": [
    "True"
   ]
  },
  {
   "cell_type": "code",
   "execution_count": 9,
   "id": "3a7a62a7-f925-4152-90e5-ded8545ace74",
   "metadata": {},
   "outputs": [
    {
     "data": {
      "text/plain": [
       "3"
      ]
     },
     "execution_count": 9,
     "metadata": {},
     "output_type": "execute_result"
    }
   ],
   "source": [
    "1 + 2"
   ]
  },
  {
   "cell_type": "code",
   "execution_count": 10,
   "id": "ec5ccd8d-655c-496e-b364-6d071bfa6a99",
   "metadata": {},
   "outputs": [
    {
     "data": {
      "text/plain": [
       "2.0"
      ]
     },
     "execution_count": 10,
     "metadata": {},
     "output_type": "execute_result"
    }
   ],
   "source": [
    "4 / 2"
   ]
  },
  {
   "cell_type": "code",
   "execution_count": 11,
   "id": "9b3e98ff-bc23-4fe8-93c1-2f407da2519f",
   "metadata": {},
   "outputs": [
    {
     "data": {
      "text/plain": [
       "2.5"
      ]
     },
     "execution_count": 11,
     "metadata": {},
     "output_type": "execute_result"
    }
   ],
   "source": [
    "10 / 4"
   ]
  },
  {
   "cell_type": "code",
   "execution_count": 12,
   "id": "5c528e6c-c083-42fa-93e4-95c2ecd83d98",
   "metadata": {},
   "outputs": [
    {
     "data": {
      "text/plain": [
       "5.0"
      ]
     },
     "execution_count": 12,
     "metadata": {},
     "output_type": "execute_result"
    }
   ],
   "source": [
    "10 / 2"
   ]
  },
  {
   "cell_type": "code",
   "execution_count": 13,
   "id": "ead12952-6824-41b7-8a2c-d37ad126e153",
   "metadata": {},
   "outputs": [
    {
     "data": {
      "text/plain": [
       "2.0"
      ]
     },
     "execution_count": 13,
     "metadata": {},
     "output_type": "execute_result"
    }
   ],
   "source": [
    "1.0 + 1"
   ]
  },
  {
   "cell_type": "code",
   "execution_count": 14,
   "id": "584705a2-91f1-4005-bcd9-244cdff6e024",
   "metadata": {},
   "outputs": [
    {
     "data": {
      "text/plain": [
       "'qweabc'"
      ]
     },
     "execution_count": 14,
     "metadata": {},
     "output_type": "execute_result"
    }
   ],
   "source": [
    "\"qwe\" + 'abc'"
   ]
  },
  {
   "cell_type": "code",
   "execution_count": 15,
   "id": "5316106e-1560-4ca4-868c-286f497408ba",
   "metadata": {},
   "outputs": [
    {
     "ename": "TypeError",
     "evalue": "can only concatenate str (not \"int\") to str",
     "output_type": "error",
     "traceback": [
      "\u001b[0;31m---------------------------------------------------------------------------\u001b[0m",
      "\u001b[0;31mTypeError\u001b[0m                                 Traceback (most recent call last)",
      "Cell \u001b[0;32mIn[15], line 1\u001b[0m\n\u001b[0;32m----> 1\u001b[0m \u001b[38;5;124;43m\"\u001b[39;49m\u001b[38;5;124;43m1\u001b[39;49m\u001b[38;5;124;43m\"\u001b[39;49m\u001b[43m \u001b[49m\u001b[38;5;241;43m+\u001b[39;49m\u001b[43m \u001b[49m\u001b[38;5;241;43m2\u001b[39;49m\n",
      "\u001b[0;31mTypeError\u001b[0m: can only concatenate str (not \"int\") to str"
     ]
    }
   ],
   "source": [
    "\"1\" + 2"
   ]
  },
  {
   "cell_type": "code",
   "execution_count": 16,
   "id": "c91407aa-eaf4-45c5-9d69-b824ab174795",
   "metadata": {},
   "outputs": [
    {
     "data": {
      "text/plain": [
       "2.5"
      ]
     },
     "execution_count": 16,
     "metadata": {},
     "output_type": "execute_result"
    }
   ],
   "source": [
    "1.5 + 1"
   ]
  },
  {
   "cell_type": "code",
   "execution_count": 17,
   "id": "56633cc3-9799-435c-9612-18fb2a185c09",
   "metadata": {},
   "outputs": [
    {
     "name": "stdout",
     "output_type": "stream",
     "text": [
      "42\n"
     ]
    }
   ],
   "source": [
    "number = 42\n",
    "print(number)"
   ]
  },
  {
   "cell_type": "code",
   "execution_count": 18,
   "id": "19868938-d737-4d2e-ba7c-e758dea8627e",
   "metadata": {},
   "outputs": [
    {
     "name": "stdout",
     "output_type": "stream",
     "text": [
      "60\n"
     ]
    }
   ],
   "source": [
    "number = 60\n",
    "print(number)"
   ]
  },
  {
   "cell_type": "code",
   "execution_count": 19,
   "id": "c07634d3-4cd7-4b49-aba7-1b848ed482a2",
   "metadata": {},
   "outputs": [
    {
     "data": {
      "text/plain": [
       "80"
      ]
     },
     "execution_count": 19,
     "metadata": {},
     "output_type": "execute_result"
    }
   ],
   "source": [
    "number + 20"
   ]
  },
  {
   "cell_type": "code",
   "execution_count": 20,
   "id": "ff0fe7fc-c22e-4e30-943a-2ccdeb7b4d32",
   "metadata": {},
   "outputs": [
    {
     "data": {
      "text/plain": [
       "240"
      ]
     },
     "execution_count": 20,
     "metadata": {},
     "output_type": "execute_result"
    }
   ],
   "source": [
    "number * 4"
   ]
  },
  {
   "cell_type": "code",
   "execution_count": 21,
   "id": "d8b0f71a-b8f1-4f39-a69b-2734e3640a88",
   "metadata": {},
   "outputs": [
    {
     "data": {
      "text/plain": [
       "True"
      ]
     },
     "execution_count": 21,
     "metadata": {},
     "output_type": "execute_result"
    }
   ],
   "source": [
    "number == 60"
   ]
  },
  {
   "cell_type": "code",
   "execution_count": 22,
   "id": "5d24728c-0608-41ce-8c3d-6dd33f44228a",
   "metadata": {},
   "outputs": [
    {
     "data": {
      "text/plain": [
       "False"
      ]
     },
     "execution_count": 22,
     "metadata": {},
     "output_type": "execute_result"
    }
   ],
   "source": [
    "number == \"60\""
   ]
  },
  {
   "cell_type": "code",
   "execution_count": 23,
   "id": "89645168-7f47-4b9e-800f-b045ab7fb98b",
   "metadata": {},
   "outputs": [
    {
     "name": "stdout",
     "output_type": "stream",
     "text": [
      "fourty two\n"
     ]
    }
   ],
   "source": [
    "number = \"fourty two\"\n",
    "print(number)"
   ]
  },
  {
   "cell_type": "code",
   "execution_count": 24,
   "id": "1b9a1a28-a31c-4983-b157-9a215d88f2b5",
   "metadata": {},
   "outputs": [
    {
     "data": {
      "text/plain": [
       "10.0"
      ]
     },
     "execution_count": 24,
     "metadata": {},
     "output_type": "execute_result"
    }
   ],
   "source": [
    "2.5 * 4"
   ]
  },
  {
   "cell_type": "code",
   "execution_count": 25,
   "id": "62bfaf3f-9793-4349-b81c-24dd80f402dc",
   "metadata": {},
   "outputs": [
    {
     "data": {
      "text/plain": [
       "5.0"
      ]
     },
     "execution_count": 25,
     "metadata": {},
     "output_type": "execute_result"
    }
   ],
   "source": [
    "10 / 2"
   ]
  },
  {
   "cell_type": "code",
   "execution_count": 26,
   "id": "fae16107-70f3-455d-9c3b-ed59d3fa0f79",
   "metadata": {},
   "outputs": [
    {
     "data": {
      "text/plain": [
       "123456789"
      ]
     },
     "execution_count": 26,
     "metadata": {},
     "output_type": "execute_result"
    }
   ],
   "source": [
    "123456789"
   ]
  },
  {
   "cell_type": "code",
   "execution_count": 27,
   "id": "dd997e9b-3c7f-41ee-95cc-e51fa7c8b037",
   "metadata": {},
   "outputs": [
    {
     "data": {
      "text/plain": [
       "1234567898765432123456789"
      ]
     },
     "execution_count": 27,
     "metadata": {},
     "output_type": "execute_result"
    }
   ],
   "source": [
    "1234567898765432123456789"
   ]
  },
  {
   "cell_type": "code",
   "execution_count": 28,
   "id": "9d2a3797-1930-44fa-996b-62820b3d5bde",
   "metadata": {},
   "outputs": [
    {
     "data": {
      "text/plain": [
       "82207405646327461794954634291560556640625"
      ]
     },
     "execution_count": 28,
     "metadata": {},
     "output_type": "execute_result"
    }
   ],
   "source": [
    "12345 ** 10"
   ]
  },
  {
   "cell_type": "code",
   "execution_count": 29,
   "id": "7a9ce568-8e32-4dc6-a660-8f7049f66980",
   "metadata": {},
   "outputs": [
    {
     "data": {
      "text/plain": [
       "6758057543099832246538913025974955939211204840442478677426191001091098785400390625"
      ]
     },
     "execution_count": 29,
     "metadata": {},
     "output_type": "execute_result"
    }
   ],
   "source": [
    "12345 ** 20"
   ]
  },
  {
   "cell_type": "code",
   "execution_count": 30,
   "id": "eed507b3-f30a-498d-ba75-685db76530a0",
   "metadata": {},
   "outputs": [
    {
     "data": {
      "text/plain": [
       "'123'"
      ]
     },
     "execution_count": 30,
     "metadata": {},
     "output_type": "execute_result"
    }
   ],
   "source": [
    "str(123)"
   ]
  },
  {
   "cell_type": "code",
   "execution_count": 31,
   "id": "951a5c42-f9ce-4447-bf07-8fdb09ccb994",
   "metadata": {},
   "outputs": [
    {
     "data": {
      "text/plain": [
       "123"
      ]
     },
     "execution_count": 31,
     "metadata": {},
     "output_type": "execute_result"
    }
   ],
   "source": [
    "123"
   ]
  },
  {
   "cell_type": "code",
   "execution_count": 32,
   "id": "536d2572-88c4-4554-9b75-f5b8c3c144f3",
   "metadata": {},
   "outputs": [
    {
     "data": {
      "text/plain": [
       "'6758057543099832246538913025974955939211204840442478677426191001091098785400390625'"
      ]
     },
     "execution_count": 32,
     "metadata": {},
     "output_type": "execute_result"
    }
   ],
   "source": [
    "str(12345 ** 20)"
   ]
  },
  {
   "cell_type": "code",
   "execution_count": 33,
   "id": "6b495b18-2f96-438a-9c1c-36aa2ca2f018",
   "metadata": {},
   "outputs": [
    {
     "data": {
      "text/plain": [
       "82"
      ]
     },
     "execution_count": 33,
     "metadata": {},
     "output_type": "execute_result"
    }
   ],
   "source": [
    "len(str(12345 ** 20))"
   ]
  },
  {
   "cell_type": "code",
   "execution_count": 34,
   "id": "fb6c539f-3203-4976-a485-111b8e20194c",
   "metadata": {},
   "outputs": [
    {
     "data": {
      "text/plain": [
       "1.826807469641225e-76"
      ]
     },
     "execution_count": 34,
     "metadata": {},
     "output_type": "execute_result"
    }
   ],
   "source": [
    "1234567 / (12345 ** 20)"
   ]
  },
  {
   "cell_type": "code",
   "execution_count": 35,
   "id": "f63254c6-ff7c-46d7-b583-622766015a4e",
   "metadata": {},
   "outputs": [
    {
     "data": {
      "text/plain": [
       "0.30000000000000004"
      ]
     },
     "execution_count": 35,
     "metadata": {},
     "output_type": "execute_result"
    }
   ],
   "source": [
    "0.1 + 0.2"
   ]
  },
  {
   "cell_type": "code",
   "execution_count": 36,
   "id": "057ef7eb-6447-4e52-a96b-435fd53a5b25",
   "metadata": {},
   "outputs": [
    {
     "data": {
      "text/plain": [
       "0.3"
      ]
     },
     "execution_count": 36,
     "metadata": {},
     "output_type": "execute_result"
    }
   ],
   "source": [
    "0.3"
   ]
  },
  {
   "cell_type": "code",
   "execution_count": 37,
   "id": "9e85ccc1-f346-4d34-b8b2-6a5eca00295c",
   "metadata": {},
   "outputs": [
    {
     "data": {
      "text/plain": [
       "False"
      ]
     },
     "execution_count": 37,
     "metadata": {},
     "output_type": "execute_result"
    }
   ],
   "source": [
    "0.3 == 0.1 + 0.2"
   ]
  },
  {
   "cell_type": "code",
   "execution_count": 38,
   "id": "fb3dd90b-1cb3-4774-97b3-ed6b218940f1",
   "metadata": {},
   "outputs": [
    {
     "data": {
      "text/plain": [
       "3"
      ]
     },
     "execution_count": 38,
     "metadata": {},
     "output_type": "execute_result"
    }
   ],
   "source": [
    "1 + 2"
   ]
  },
  {
   "cell_type": "code",
   "execution_count": 39,
   "id": "f9cc3d9a-4876-4c99-b8d5-9374090e0456",
   "metadata": {},
   "outputs": [
    {
     "data": {
      "text/plain": [
       "True"
      ]
     },
     "execution_count": 39,
     "metadata": {},
     "output_type": "execute_result"
    }
   ],
   "source": [
    "3 == 1 + 2"
   ]
  },
  {
   "cell_type": "code",
   "execution_count": 40,
   "id": "cb0c4bf9-91cc-47da-acc6-b23b5f403b47",
   "metadata": {},
   "outputs": [
    {
     "data": {
      "text/plain": [
       "1234.5"
      ]
     },
     "execution_count": 40,
     "metadata": {},
     "output_type": "execute_result"
    }
   ],
   "source": [
    "12345 / 10"
   ]
  },
  {
   "cell_type": "code",
   "execution_count": 41,
   "id": "6ceebfee-c8e7-4865-9d18-ba81b169daa5",
   "metadata": {},
   "outputs": [
    {
     "data": {
      "text/plain": [
       "12.345"
      ]
     },
     "execution_count": 41,
     "metadata": {},
     "output_type": "execute_result"
    }
   ],
   "source": [
    "12345 / 1000"
   ]
  },
  {
   "cell_type": "code",
   "execution_count": 42,
   "id": "a5fdc816-0b44-4e0e-81e1-c0b9a7802fb2",
   "metadata": {},
   "outputs": [
    {
     "data": {
      "text/plain": [
       "4115.0"
      ]
     },
     "execution_count": 42,
     "metadata": {},
     "output_type": "execute_result"
    }
   ],
   "source": [
    "12345 / 3"
   ]
  },
  {
   "cell_type": "code",
   "execution_count": 43,
   "id": "8dc45142-30f7-4736-aa8c-4ece8e58e22e",
   "metadata": {},
   "outputs": [
    {
     "data": {
      "text/plain": [
       "1371.6666666666667"
      ]
     },
     "execution_count": 43,
     "metadata": {},
     "output_type": "execute_result"
    }
   ],
   "source": [
    "12345 / 3 / 3"
   ]
  },
  {
   "cell_type": "code",
   "execution_count": 44,
   "id": "92af6eac-f59e-42b7-a82e-c8e8b57a66a3",
   "metadata": {},
   "outputs": [
    {
     "data": {
      "text/plain": [
       "457.22222222222223"
      ]
     },
     "execution_count": 44,
     "metadata": {},
     "output_type": "execute_result"
    }
   ],
   "source": [
    "12345 / 3 / 3 / 3"
   ]
  },
  {
   "cell_type": "code",
   "execution_count": 45,
   "id": "4a1db555-d661-4d15-a09d-131b80bc667f",
   "metadata": {},
   "outputs": [
    {
     "data": {
      "text/plain": [
       "4115.0"
      ]
     },
     "execution_count": 45,
     "metadata": {},
     "output_type": "execute_result"
    }
   ],
   "source": [
    "(12345 / 3 / 3 / 3) * 9"
   ]
  },
  {
   "cell_type": "code",
   "execution_count": 46,
   "id": "4f465213-fd22-4872-bbc6-bd711ba33f02",
   "metadata": {},
   "outputs": [
    {
     "data": {
      "text/plain": [
       "'qwe abcqwe abcqwe abcqwe abcqwe abcqwe abcqwe abcqwe abcqwe abcqwe abc'"
      ]
     },
     "execution_count": 46,
     "metadata": {},
     "output_type": "execute_result"
    }
   ],
   "source": [
    "\"qwe abc\" * 10"
   ]
  },
  {
   "cell_type": "code",
   "execution_count": 47,
   "id": "d94bc4d6-aa4d-4fbf-b70a-e92b9da2c6a0",
   "metadata": {},
   "outputs": [
    {
     "data": {
      "text/plain": [
       "'foo bar foo bar foo bar foo bar foo bar foo bar foo bar foo bar foo bar foo bar '"
      ]
     },
     "execution_count": 47,
     "metadata": {},
     "output_type": "execute_result"
    }
   ],
   "source": [
    "\"foo bar \" * 10"
   ]
  },
  {
   "cell_type": "code",
   "execution_count": 48,
   "id": "29f27ac5-0592-4690-a293-73cfe3cf75b3",
   "metadata": {},
   "outputs": [
    {
     "data": {
      "text/plain": [
       "'fourty two'"
      ]
     },
     "execution_count": 48,
     "metadata": {},
     "output_type": "execute_result"
    }
   ],
   "source": [
    "number"
   ]
  },
  {
   "cell_type": "code",
   "execution_count": 49,
   "id": "2c8f0771-b366-4e2e-828f-132a161b9334",
   "metadata": {},
   "outputs": [
    {
     "data": {
      "text/plain": [
       "False"
      ]
     },
     "execution_count": 49,
     "metadata": {},
     "output_type": "execute_result"
    }
   ],
   "source": [
    "isinstance(number, int)"
   ]
  },
  {
   "cell_type": "code",
   "execution_count": 50,
   "id": "6bee8bdf-3cfc-4084-ad0b-68539a460a8e",
   "metadata": {},
   "outputs": [
    {
     "data": {
      "text/plain": [
       "True"
      ]
     },
     "execution_count": 50,
     "metadata": {},
     "output_type": "execute_result"
    }
   ],
   "source": [
    "isinstance(number, str)"
   ]
  },
  {
   "cell_type": "code",
   "execution_count": 51,
   "id": "0d783980-8c36-4d98-bfea-44a8474aefc6",
   "metadata": {},
   "outputs": [
    {
     "data": {
      "text/plain": [
       "str"
      ]
     },
     "execution_count": 51,
     "metadata": {},
     "output_type": "execute_result"
    }
   ],
   "source": [
    "type(number)"
   ]
  },
  {
   "cell_type": "code",
   "execution_count": 52,
   "id": "f2e9a3d1-c5b3-4ab9-af22-74dcc6d74207",
   "metadata": {},
   "outputs": [
    {
     "name": "stdout",
     "output_type": "stream",
     "text": [
      "42\n"
     ]
    }
   ],
   "source": [
    "number = 42\n",
    "print(number)"
   ]
  },
  {
   "cell_type": "code",
   "execution_count": 53,
   "id": "580510e5-bfd1-4b6a-a2b2-425a6e509683",
   "metadata": {},
   "outputs": [
    {
     "data": {
      "text/plain": [
       "False"
      ]
     },
     "execution_count": 53,
     "metadata": {},
     "output_type": "execute_result"
    }
   ],
   "source": [
    "isinstance(number, str)"
   ]
  },
  {
   "cell_type": "code",
   "execution_count": 54,
   "id": "3d135fc6-6aea-4893-b9aa-4a2a96a4a939",
   "metadata": {},
   "outputs": [
    {
     "data": {
      "text/plain": [
       "True"
      ]
     },
     "execution_count": 54,
     "metadata": {},
     "output_type": "execute_result"
    }
   ],
   "source": [
    "isinstance(number, int)"
   ]
  },
  {
   "cell_type": "code",
   "execution_count": 55,
   "id": "cd1ac71b-3e7a-4928-b294-5bb0ea6ec715",
   "metadata": {},
   "outputs": [
    {
     "data": {
      "text/plain": [
       "False"
      ]
     },
     "execution_count": 55,
     "metadata": {},
     "output_type": "execute_result"
    }
   ],
   "source": [
    "isinstance(number, float)"
   ]
  },
  {
   "cell_type": "code",
   "execution_count": 56,
   "id": "d009497e-1a78-49a9-b841-bb369b08111d",
   "metadata": {},
   "outputs": [
    {
     "data": {
      "text/plain": [
       "True"
      ]
     },
     "execution_count": 56,
     "metadata": {},
     "output_type": "execute_result"
    }
   ],
   "source": [
    "number = 42.5\n",
    "isinstance(number, float)"
   ]
  },
  {
   "cell_type": "code",
   "execution_count": 57,
   "id": "ebcafa33-418e-4ef2-a574-32d5ab0652ab",
   "metadata": {},
   "outputs": [
    {
     "data": {
      "text/plain": [
       "False"
      ]
     },
     "execution_count": 57,
     "metadata": {},
     "output_type": "execute_result"
    }
   ],
   "source": [
    "isinstance(number, int)"
   ]
  },
  {
   "cell_type": "code",
   "execution_count": 58,
   "id": "117ae824-ecea-4199-ad0d-348e9d5dfdb6",
   "metadata": {},
   "outputs": [
    {
     "data": {
      "text/plain": [
       "True"
      ]
     },
     "execution_count": 58,
     "metadata": {},
     "output_type": "execute_result"
    }
   ],
   "source": [
    "isinstance(number, (int, float))"
   ]
  },
  {
   "cell_type": "code",
   "execution_count": 59,
   "id": "5d8dcd6d-935c-47fd-ad54-7799d361452b",
   "metadata": {},
   "outputs": [
    {
     "data": {
      "text/plain": [
       "False"
      ]
     },
     "execution_count": 59,
     "metadata": {},
     "output_type": "execute_result"
    }
   ],
   "source": [
    "isinstance(\"number\", (int, float))"
   ]
  },
  {
   "cell_type": "code",
   "execution_count": 60,
   "id": "d2fca37f-98af-49e9-8bcd-8b08e10d3c9b",
   "metadata": {},
   "outputs": [
    {
     "data": {
      "text/plain": [
       "False"
      ]
     },
     "execution_count": 60,
     "metadata": {},
     "output_type": "execute_result"
    }
   ],
   "source": [
    "False"
   ]
  },
  {
   "cell_type": "code",
   "execution_count": 61,
   "id": "7a95b372-07da-4827-9fe0-c335af8ac36d",
   "metadata": {},
   "outputs": [
    {
     "data": {
      "text/plain": [
       "True"
      ]
     },
     "execution_count": 61,
     "metadata": {},
     "output_type": "execute_result"
    }
   ],
   "source": [
    "True"
   ]
  },
  {
   "cell_type": "code",
   "execution_count": 62,
   "id": "f0c2ae54-594e-486a-bad5-7149c06eaabf",
   "metadata": {},
   "outputs": [
    {
     "name": "stdout",
     "output_type": "stream",
     "text": [
      "True\n"
     ]
    }
   ],
   "source": [
    "eq = number == 42.5\n",
    "print(eq)"
   ]
  },
  {
   "cell_type": "code",
   "execution_count": 63,
   "id": "a8dbbff7-deb5-4c7b-9937-77596b88ba67",
   "metadata": {},
   "outputs": [
    {
     "data": {
      "text/plain": [
       "bool"
      ]
     },
     "execution_count": 63,
     "metadata": {},
     "output_type": "execute_result"
    }
   ],
   "source": [
    "type(eq)"
   ]
  },
  {
   "cell_type": "code",
   "execution_count": 64,
   "id": "a5950c51-a6bc-4a5e-bf4d-75b510ee0978",
   "metadata": {},
   "outputs": [
    {
     "data": {
      "text/plain": [
       "True"
      ]
     },
     "execution_count": 64,
     "metadata": {},
     "output_type": "execute_result"
    }
   ],
   "source": [
    "isinstance(eq, bool)"
   ]
  },
  {
   "cell_type": "code",
   "execution_count": 65,
   "id": "9c49faf7-5885-4eae-80cb-f37e2218af8e",
   "metadata": {},
   "outputs": [
    {
     "data": {
      "text/plain": [
       "True"
      ]
     },
     "execution_count": 65,
     "metadata": {},
     "output_type": "execute_result"
    }
   ],
   "source": [
    "eq = False\n",
    "isinstance(eq, bool)"
   ]
  },
  {
   "cell_type": "code",
   "execution_count": 66,
   "id": "6dee0141-3d97-4ad9-9fea-d6c552d38451",
   "metadata": {},
   "outputs": [
    {
     "data": {
      "text/plain": [
       "False"
      ]
     },
     "execution_count": 66,
     "metadata": {},
     "output_type": "execute_result"
    }
   ],
   "source": [
    "isinstance(eq, float)"
   ]
  },
  {
   "cell_type": "code",
   "execution_count": 67,
   "id": "d37489dd-8ea5-495f-9620-d06fa737abff",
   "metadata": {},
   "outputs": [
    {
     "data": {
      "text/plain": [
       "True"
      ]
     },
     "execution_count": 67,
     "metadata": {},
     "output_type": "execute_result"
    }
   ],
   "source": [
    "isinstance(eq, int)"
   ]
  },
  {
   "cell_type": "code",
   "execution_count": 68,
   "id": "a2bedfe6-f0b6-456c-9bd7-f8441ddf57ed",
   "metadata": {},
   "outputs": [
    {
     "data": {
      "text/plain": [
       "True"
      ]
     },
     "execution_count": 68,
     "metadata": {},
     "output_type": "execute_result"
    }
   ],
   "source": [
    "isinstance(\"number\", str)"
   ]
  },
  {
   "cell_type": "code",
   "execution_count": 69,
   "id": "8cefbf35-6b97-45b9-9c6b-9cf8e0400ba6",
   "metadata": {},
   "outputs": [
    {
     "name": "stdout",
     "output_type": "stream",
     "text": [
      "False\n"
     ]
    }
   ],
   "source": [
    "print(eq)"
   ]
  },
  {
   "cell_type": "code",
   "execution_count": 70,
   "id": "19f07d72-d123-42c1-b65f-789a052a7a45",
   "metadata": {},
   "outputs": [
    {
     "data": {
      "text/plain": [
       "42.5"
      ]
     },
     "execution_count": 70,
     "metadata": {},
     "output_type": "execute_result"
    }
   ],
   "source": [
    "number"
   ]
  },
  {
   "cell_type": "code",
   "execution_count": 71,
   "id": "b645988f-54c1-4e15-b1df-f3a890701b20",
   "metadata": {},
   "outputs": [
    {
     "data": {
      "text/plain": [
       "True"
      ]
     },
     "execution_count": 71,
     "metadata": {},
     "output_type": "execute_result"
    }
   ],
   "source": [
    "number == 42.5"
   ]
  },
  {
   "cell_type": "code",
   "execution_count": 72,
   "id": "a79f7877-8092-47f3-9237-74d12363f841",
   "metadata": {},
   "outputs": [
    {
     "name": "stdout",
     "output_type": "stream",
     "text": [
      "False\n"
     ]
    }
   ],
   "source": [
    "print(eq)"
   ]
  },
  {
   "cell_type": "code",
   "execution_count": 73,
   "id": "c8f835fd-5df5-45bc-8889-542266deb1f9",
   "metadata": {},
   "outputs": [
    {
     "data": {
      "text/plain": [
       "1"
      ]
     },
     "execution_count": 73,
     "metadata": {},
     "output_type": "execute_result"
    }
   ],
   "source": [
    "True + False"
   ]
  },
  {
   "cell_type": "code",
   "execution_count": 74,
   "id": "39a3711e-d06a-4baf-89b9-5f73d0a137ba",
   "metadata": {},
   "outputs": [
    {
     "data": {
      "text/plain": [
       "1"
      ]
     },
     "execution_count": 74,
     "metadata": {},
     "output_type": "execute_result"
    }
   ],
   "source": [
    "int(True)"
   ]
  },
  {
   "cell_type": "code",
   "execution_count": 75,
   "id": "4c5efdd7-a00c-42c9-b13d-e93b6e164ac6",
   "metadata": {},
   "outputs": [
    {
     "data": {
      "text/plain": [
       "0"
      ]
     },
     "execution_count": 75,
     "metadata": {},
     "output_type": "execute_result"
    }
   ],
   "source": [
    "int(False)"
   ]
  },
  {
   "cell_type": "code",
   "execution_count": 76,
   "id": "3c5ed3c2-c9e1-4017-8aee-087a679a65ca",
   "metadata": {},
   "outputs": [
    {
     "data": {
      "text/plain": [
       "2"
      ]
     },
     "execution_count": 76,
     "metadata": {},
     "output_type": "execute_result"
    }
   ],
   "source": [
    "True + True"
   ]
  },
  {
   "cell_type": "code",
   "execution_count": 77,
   "id": "10c2195a-4188-4953-84b2-a3f44f804b89",
   "metadata": {},
   "outputs": [
    {
     "data": {
      "text/plain": [
       "1"
      ]
     },
     "execution_count": 77,
     "metadata": {},
     "output_type": "execute_result"
    }
   ],
   "source": [
    "True + 0"
   ]
  },
  {
   "cell_type": "code",
   "execution_count": 78,
   "id": "af9cb297-33c2-4650-b25b-f61d61eaf2eb",
   "metadata": {},
   "outputs": [
    {
     "data": {
      "text/plain": [
       "True"
      ]
     },
     "execution_count": 78,
     "metadata": {},
     "output_type": "execute_result"
    }
   ],
   "source": [
    "False == 0"
   ]
  },
  {
   "cell_type": "code",
   "execution_count": 79,
   "id": "3373918c-390d-4ae3-a156-ef74436a6955",
   "metadata": {},
   "outputs": [
    {
     "data": {
      "text/plain": [
       "False"
      ]
     },
     "execution_count": 79,
     "metadata": {},
     "output_type": "execute_result"
    }
   ],
   "source": [
    "True and False"
   ]
  },
  {
   "cell_type": "code",
   "execution_count": 80,
   "id": "bd4632be-6485-4fd9-a2c1-6b80785d8cf2",
   "metadata": {},
   "outputs": [
    {
     "data": {
      "text/plain": [
       "True"
      ]
     },
     "execution_count": 80,
     "metadata": {},
     "output_type": "execute_result"
    }
   ],
   "source": [
    "True and True"
   ]
  },
  {
   "cell_type": "code",
   "execution_count": 81,
   "id": "258bd77c-1e83-4f23-8cd6-58b46ca4c38f",
   "metadata": {},
   "outputs": [
    {
     "data": {
      "text/plain": [
       "False"
      ]
     },
     "execution_count": 81,
     "metadata": {},
     "output_type": "execute_result"
    }
   ],
   "source": [
    "False and False"
   ]
  },
  {
   "cell_type": "code",
   "execution_count": 82,
   "id": "c1f8ca85-b9ec-4739-af3b-760e2fec4fef",
   "metadata": {},
   "outputs": [
    {
     "data": {
      "text/plain": [
       "True"
      ]
     },
     "execution_count": 82,
     "metadata": {},
     "output_type": "execute_result"
    }
   ],
   "source": [
    "True or False"
   ]
  },
  {
   "cell_type": "code",
   "execution_count": 83,
   "id": "d4e2ba52-1662-467f-9aac-d3ed95134a70",
   "metadata": {},
   "outputs": [
    {
     "data": {
      "text/plain": [
       "False"
      ]
     },
     "execution_count": 83,
     "metadata": {},
     "output_type": "execute_result"
    }
   ],
   "source": [
    "False or False"
   ]
  },
  {
   "cell_type": "code",
   "execution_count": 84,
   "id": "3ad4ae82-1279-480c-a32a-ae1ee6837f12",
   "metadata": {},
   "outputs": [
    {
     "data": {
      "text/plain": [
       "True"
      ]
     },
     "execution_count": 84,
     "metadata": {},
     "output_type": "execute_result"
    }
   ],
   "source": [
    "True or True"
   ]
  },
  {
   "cell_type": "code",
   "execution_count": 85,
   "id": "159c4a5d-00db-451d-9a5c-fc5a34f9a333",
   "metadata": {},
   "outputs": [
    {
     "data": {
      "text/plain": [
       "42.5"
      ]
     },
     "execution_count": 85,
     "metadata": {},
     "output_type": "execute_result"
    }
   ],
   "source": [
    "number"
   ]
  },
  {
   "cell_type": "code",
   "execution_count": 86,
   "id": "f04566b8-15fc-43c6-a64b-d7cc3967f0ef",
   "metadata": {},
   "outputs": [],
   "source": [
    "num = 14"
   ]
  },
  {
   "cell_type": "code",
   "execution_count": 87,
   "id": "b600fe9d-ed2b-40ea-9367-8fa5ed0d03cb",
   "metadata": {},
   "outputs": [
    {
     "data": {
      "text/plain": [
       "14"
      ]
     },
     "execution_count": 87,
     "metadata": {},
     "output_type": "execute_result"
    }
   ],
   "source": [
    "num"
   ]
  },
  {
   "cell_type": "code",
   "execution_count": 88,
   "id": "8fe7ad5e-d7fd-4adc-bd05-238e320ace03",
   "metadata": {},
   "outputs": [
    {
     "data": {
      "text/plain": [
       "56.5"
      ]
     },
     "execution_count": 88,
     "metadata": {},
     "output_type": "execute_result"
    }
   ],
   "source": [
    "num + number"
   ]
  },
  {
   "cell_type": "code",
   "execution_count": 89,
   "id": "c2c05599-d1a8-4477-8c29-4a4977384b7e",
   "metadata": {},
   "outputs": [
    {
     "data": {
      "text/plain": [
       "5.0"
      ]
     },
     "execution_count": 89,
     "metadata": {},
     "output_type": "execute_result"
    }
   ],
   "source": [
    "10 / 2"
   ]
  },
  {
   "cell_type": "code",
   "execution_count": 90,
   "id": "7fd380fc-333e-42e2-af63-d2761792f2fa",
   "metadata": {},
   "outputs": [
    {
     "data": {
      "text/plain": [
       "5"
      ]
     },
     "execution_count": 90,
     "metadata": {},
     "output_type": "execute_result"
    }
   ],
   "source": [
    "int(10 / 2)"
   ]
  },
  {
   "cell_type": "code",
   "execution_count": 91,
   "id": "3320ae1b-3ad5-44b8-9dca-7b213dc39f24",
   "metadata": {},
   "outputs": [
    {
     "data": {
      "text/plain": [
       "2.5"
      ]
     },
     "execution_count": 91,
     "metadata": {},
     "output_type": "execute_result"
    }
   ],
   "source": [
    "10 / 4"
   ]
  },
  {
   "cell_type": "code",
   "execution_count": 92,
   "id": "90c1a7ec-2ba9-4d82-a912-ec018e2a4535",
   "metadata": {},
   "outputs": [
    {
     "data": {
      "text/plain": [
       "2"
      ]
     },
     "execution_count": 92,
     "metadata": {},
     "output_type": "execute_result"
    }
   ],
   "source": [
    "int(10 / 4)"
   ]
  },
  {
   "cell_type": "code",
   "execution_count": 93,
   "id": "6dbbd214-9c36-447c-a597-e0e3f825c004",
   "metadata": {},
   "outputs": [],
   "source": [
    "result = num + number"
   ]
  },
  {
   "cell_type": "code",
   "execution_count": 94,
   "id": "fcb7f5f2-a81e-43b3-85c8-2ba667ba39a1",
   "metadata": {},
   "outputs": [
    {
     "data": {
      "text/plain": [
       "56.5"
      ]
     },
     "execution_count": 94,
     "metadata": {},
     "output_type": "execute_result"
    }
   ],
   "source": [
    "result"
   ]
  },
  {
   "cell_type": "code",
   "execution_count": 95,
   "id": "f8d1c1a1-2cad-49b9-8216-726fd4fffc38",
   "metadata": {},
   "outputs": [
    {
     "data": {
      "text/plain": [
       "float"
      ]
     },
     "execution_count": 95,
     "metadata": {},
     "output_type": "execute_result"
    }
   ],
   "source": [
    "type(result)"
   ]
  },
  {
   "cell_type": "code",
   "execution_count": 96,
   "id": "ea8a3492-8eb6-43eb-813f-e173628d9399",
   "metadata": {},
   "outputs": [
    {
     "data": {
      "text/plain": [
       "True"
      ]
     },
     "execution_count": 96,
     "metadata": {},
     "output_type": "execute_result"
    }
   ],
   "source": [
    "isinstance(result, float)"
   ]
  },
  {
   "cell_type": "code",
   "execution_count": 97,
   "id": "39f9d84a-2df7-4c58-8bf8-22613f71ff25",
   "metadata": {},
   "outputs": [
    {
     "data": {
      "text/plain": [
       "14"
      ]
     },
     "execution_count": 97,
     "metadata": {},
     "output_type": "execute_result"
    }
   ],
   "source": [
    "num"
   ]
  },
  {
   "cell_type": "code",
   "execution_count": 98,
   "id": "7fb043a3-ff15-482b-ab24-8921778d8ba8",
   "metadata": {},
   "outputs": [
    {
     "name": "stdout",
     "output_type": "stream",
     "text": [
      "(3, 5, 7)\n"
     ]
    }
   ],
   "source": [
    "prime_numbers = 3, 5, 7\n",
    "print(prime_numbers)"
   ]
  },
  {
   "cell_type": "code",
   "execution_count": 99,
   "id": "18c74fc9-4eb3-4332-bdc3-23ab784b408a",
   "metadata": {},
   "outputs": [
    {
     "data": {
      "text/plain": [
       "(3, 5, 7)"
      ]
     },
     "execution_count": 99,
     "metadata": {},
     "output_type": "execute_result"
    }
   ],
   "source": [
    "(3, 5, 7)"
   ]
  },
  {
   "cell_type": "code",
   "execution_count": 100,
   "id": "9a4c5d37-91f2-4aad-ac23-f6b1f629dee5",
   "metadata": {},
   "outputs": [
    {
     "data": {
      "text/plain": [
       "tuple"
      ]
     },
     "execution_count": 100,
     "metadata": {},
     "output_type": "execute_result"
    }
   ],
   "source": [
    "type(prime_numbers)"
   ]
  },
  {
   "cell_type": "code",
   "execution_count": 101,
   "id": "96e362db-9f6c-4c6f-a4c0-5fd64771049c",
   "metadata": {},
   "outputs": [
    {
     "data": {
      "text/plain": [
       "5"
      ]
     },
     "execution_count": 101,
     "metadata": {},
     "output_type": "execute_result"
    }
   ],
   "source": [
    "prime_numbers[1]"
   ]
  },
  {
   "cell_type": "code",
   "execution_count": 102,
   "id": "39a42960-a509-4e54-9a3c-ad5c0f18cb62",
   "metadata": {},
   "outputs": [
    {
     "data": {
      "text/plain": [
       "3"
      ]
     },
     "execution_count": 102,
     "metadata": {},
     "output_type": "execute_result"
    }
   ],
   "source": [
    "prime_numbers[0]"
   ]
  },
  {
   "cell_type": "code",
   "execution_count": 103,
   "id": "074ed71b-4f8a-4c94-b8fb-bc3e99b01cc7",
   "metadata": {},
   "outputs": [
    {
     "data": {
      "text/plain": [
       "7"
      ]
     },
     "execution_count": 103,
     "metadata": {},
     "output_type": "execute_result"
    }
   ],
   "source": [
    "prime_numbers[2]"
   ]
  },
  {
   "cell_type": "code",
   "execution_count": 104,
   "id": "bdf443c8-1d65-4889-830e-a959f54f52be",
   "metadata": {},
   "outputs": [
    {
     "ename": "IndexError",
     "evalue": "tuple index out of range",
     "output_type": "error",
     "traceback": [
      "\u001b[0;31m---------------------------------------------------------------------------\u001b[0m",
      "\u001b[0;31mIndexError\u001b[0m                                Traceback (most recent call last)",
      "Cell \u001b[0;32mIn[104], line 1\u001b[0m\n\u001b[0;32m----> 1\u001b[0m \u001b[43mprime_numbers\u001b[49m\u001b[43m[\u001b[49m\u001b[38;5;241;43m3\u001b[39;49m\u001b[43m]\u001b[49m\n",
      "\u001b[0;31mIndexError\u001b[0m: tuple index out of range"
     ]
    }
   ],
   "source": [
    "prime_numbers[3]"
   ]
  },
  {
   "cell_type": "code",
   "execution_count": 105,
   "id": "cf949cb2-7bbc-4270-84c2-38b10c01a53d",
   "metadata": {},
   "outputs": [
    {
     "data": {
      "text/plain": [
       "7"
      ]
     },
     "execution_count": 105,
     "metadata": {},
     "output_type": "execute_result"
    }
   ],
   "source": [
    "prime_numbers[-1]"
   ]
  },
  {
   "cell_type": "code",
   "execution_count": 106,
   "id": "79ec2d56-500b-450c-9f70-45a3c24df550",
   "metadata": {},
   "outputs": [
    {
     "data": {
      "text/plain": [
       "5"
      ]
     },
     "execution_count": 106,
     "metadata": {},
     "output_type": "execute_result"
    }
   ],
   "source": [
    "prime_numbers[1]"
   ]
  },
  {
   "cell_type": "code",
   "execution_count": 107,
   "id": "c9419b60-a272-406f-b82b-386dec731706",
   "metadata": {},
   "outputs": [
    {
     "data": {
      "text/plain": [
       "(3, 5, 7)"
      ]
     },
     "execution_count": 107,
     "metadata": {},
     "output_type": "execute_result"
    }
   ],
   "source": [
    "prime_numbers"
   ]
  },
  {
   "cell_type": "code",
   "execution_count": 108,
   "id": "1cdccc21-dfb9-4174-9489-be82b7764f4c",
   "metadata": {},
   "outputs": [
    {
     "name": "stdout",
     "output_type": "stream",
     "text": [
      "3\n"
     ]
    }
   ],
   "source": [
    "print(len(prime_numbers))"
   ]
  },
  {
   "cell_type": "code",
   "execution_count": 110,
   "id": "c628984a-a366-4ffa-820c-ad2c4b43b1b4",
   "metadata": {},
   "outputs": [
    {
     "data": {
      "text/plain": [
       "7"
      ]
     },
     "execution_count": 110,
     "metadata": {},
     "output_type": "execute_result"
    }
   ],
   "source": [
    "prime_numbers[3 - 1]"
   ]
  },
  {
   "cell_type": "code",
   "execution_count": 111,
   "id": "f231a3b4-cc1a-493d-8a59-84f4d7aa77d9",
   "metadata": {},
   "outputs": [
    {
     "data": {
      "text/plain": [
       "7"
      ]
     },
     "execution_count": 111,
     "metadata": {},
     "output_type": "execute_result"
    }
   ],
   "source": [
    "prime_numbers[2]"
   ]
  },
  {
   "cell_type": "code",
   "execution_count": 112,
   "id": "b1c66172-5e0f-4eac-b399-b156e4287f17",
   "metadata": {},
   "outputs": [
    {
     "data": {
      "text/plain": [
       "(3, 5, 7)"
      ]
     },
     "execution_count": 112,
     "metadata": {},
     "output_type": "execute_result"
    }
   ],
   "source": [
    "prime_numbers"
   ]
  },
  {
   "cell_type": "code",
   "execution_count": 113,
   "id": "d00cdf34-ba06-4c3b-bb72-be1d6df66d72",
   "metadata": {},
   "outputs": [
    {
     "data": {
      "text/plain": [
       "7"
      ]
     },
     "execution_count": 113,
     "metadata": {},
     "output_type": "execute_result"
    }
   ],
   "source": [
    "prime_numbers[len(prime_numbers) - 1]"
   ]
  },
  {
   "cell_type": "code",
   "execution_count": 114,
   "id": "c2885b81-729d-4541-948c-ecdfb9025d07",
   "metadata": {},
   "outputs": [
    {
     "data": {
      "text/plain": [
       "7"
      ]
     },
     "execution_count": 114,
     "metadata": {},
     "output_type": "execute_result"
    }
   ],
   "source": [
    "prime_numbers[-1]"
   ]
  },
  {
   "cell_type": "code",
   "execution_count": 115,
   "id": "db22a911-769a-49ad-8924-459cad1732f3",
   "metadata": {},
   "outputs": [
    {
     "data": {
      "text/plain": [
       "5"
      ]
     },
     "execution_count": 115,
     "metadata": {},
     "output_type": "execute_result"
    }
   ],
   "source": [
    "prime_numbers[-2]"
   ]
  },
  {
   "cell_type": "code",
   "execution_count": 116,
   "id": "ed2a530a-c5b8-4f63-9c85-82c78aa6747a",
   "metadata": {},
   "outputs": [
    {
     "data": {
      "text/plain": [
       "(3, 5, 7)"
      ]
     },
     "execution_count": 116,
     "metadata": {},
     "output_type": "execute_result"
    }
   ],
   "source": [
    "prime_numbers"
   ]
  },
  {
   "cell_type": "code",
   "execution_count": 117,
   "id": "6cb730ba-0fd6-414c-b0ae-7df6d99f672e",
   "metadata": {},
   "outputs": [
    {
     "data": {
      "text/plain": [
       "3"
      ]
     },
     "execution_count": 117,
     "metadata": {},
     "output_type": "execute_result"
    }
   ],
   "source": [
    "prime_numbers[0]"
   ]
  },
  {
   "cell_type": "code",
   "execution_count": 118,
   "id": "237bb01e-ab3d-482e-b8b8-133d2d32c556",
   "metadata": {},
   "outputs": [
    {
     "data": {
      "text/plain": [
       "0"
      ]
     },
     "execution_count": 118,
     "metadata": {},
     "output_type": "execute_result"
    }
   ],
   "source": [
    "-0"
   ]
  },
  {
   "cell_type": "code",
   "execution_count": 119,
   "id": "1886ea69-9edc-4d8e-9da6-af0fb8731c59",
   "metadata": {},
   "outputs": [
    {
     "data": {
      "text/plain": [
       "True"
      ]
     },
     "execution_count": 119,
     "metadata": {},
     "output_type": "execute_result"
    }
   ],
   "source": [
    "-0 == 0"
   ]
  },
  {
   "cell_type": "code",
   "execution_count": 120,
   "id": "6816a17e-96ea-44da-8d5a-0ab1b1666091",
   "metadata": {},
   "outputs": [
    {
     "name": "stdout",
     "output_type": "stream",
     "text": [
      "('foo', 'bar', True, False, 123, 42, 5.5, 2.0)\n"
     ]
    }
   ],
   "source": [
    "any_items = (\"foo\", \"bar\", True, False, 123, 42, 5.5, 2.0)\n",
    "print(any_items)"
   ]
  },
  {
   "cell_type": "code",
   "execution_count": 121,
   "id": "d80d5939-2376-4409-8d36-bcba1bafdb44",
   "metadata": {},
   "outputs": [
    {
     "data": {
      "text/plain": [
       "tuple"
      ]
     },
     "execution_count": 121,
     "metadata": {},
     "output_type": "execute_result"
    }
   ],
   "source": [
    "type(any_items)"
   ]
  },
  {
   "cell_type": "code",
   "execution_count": 122,
   "id": "c3d0450a-a94c-47cc-9535-9cce169c7c7a",
   "metadata": {},
   "outputs": [
    {
     "data": {
      "text/plain": [
       "False"
      ]
     },
     "execution_count": 122,
     "metadata": {},
     "output_type": "execute_result"
    }
   ],
   "source": [
    "any_items[3]"
   ]
  },
  {
   "cell_type": "code",
   "execution_count": 123,
   "id": "a73004bb-0d06-44b6-8283-6aea19d04cf3",
   "metadata": {},
   "outputs": [
    {
     "data": {
      "text/plain": [
       "123"
      ]
     },
     "execution_count": 123,
     "metadata": {},
     "output_type": "execute_result"
    }
   ],
   "source": [
    "any_items[4]"
   ]
  },
  {
   "cell_type": "code",
   "execution_count": 124,
   "id": "2c7d00b8-f420-4570-8923-866f87215d73",
   "metadata": {},
   "outputs": [
    {
     "data": {
      "text/plain": [
       "\"('foo', 'bar', True, False, 123, 42, 5.5, 2.0)\""
      ]
     },
     "execution_count": 124,
     "metadata": {},
     "output_type": "execute_result"
    }
   ],
   "source": [
    "str(any_items)"
   ]
  },
  {
   "cell_type": "code",
   "execution_count": 125,
   "id": "c71a6c0d-f65c-4fbc-a55c-75d902b6716d",
   "metadata": {},
   "outputs": [
    {
     "data": {
      "text/plain": [
       "42"
      ]
     },
     "execution_count": 125,
     "metadata": {},
     "output_type": "execute_result"
    }
   ],
   "source": [
    "any_items[5]"
   ]
  },
  {
   "cell_type": "code",
   "execution_count": 126,
   "id": "4c45ddde-c9c8-48ac-83f3-db2f464b0920",
   "metadata": {},
   "outputs": [
    {
     "data": {
      "text/plain": [
       "(3, 5, 7)"
      ]
     },
     "execution_count": 126,
     "metadata": {},
     "output_type": "execute_result"
    }
   ],
   "source": [
    "prime_numbers"
   ]
  },
  {
   "cell_type": "code",
   "execution_count": 127,
   "id": "6865092c-2496-4613-bae9-137504fb1503",
   "metadata": {},
   "outputs": [
    {
     "data": {
      "text/plain": [
       "5"
      ]
     },
     "execution_count": 127,
     "metadata": {},
     "output_type": "execute_result"
    }
   ],
   "source": [
    "prime_numbers[-2]"
   ]
  },
  {
   "cell_type": "code",
   "execution_count": 128,
   "id": "a41fc008-d089-4077-9f8c-143833dcc467",
   "metadata": {},
   "outputs": [
    {
     "data": {
      "text/plain": [
       "3"
      ]
     },
     "execution_count": 128,
     "metadata": {},
     "output_type": "execute_result"
    }
   ],
   "source": [
    "prime_numbers[-3]"
   ]
  },
  {
   "cell_type": "code",
   "execution_count": 129,
   "id": "45654e35-a159-4a6a-bcb9-9c8287d9c541",
   "metadata": {},
   "outputs": [
    {
     "ename": "IndexError",
     "evalue": "tuple index out of range",
     "output_type": "error",
     "traceback": [
      "\u001b[0;31m---------------------------------------------------------------------------\u001b[0m",
      "\u001b[0;31mIndexError\u001b[0m                                Traceback (most recent call last)",
      "Cell \u001b[0;32mIn[129], line 1\u001b[0m\n\u001b[0;32m----> 1\u001b[0m \u001b[43mprime_numbers\u001b[49m\u001b[43m[\u001b[49m\u001b[38;5;241;43m-\u001b[39;49m\u001b[38;5;241;43m4\u001b[39;49m\u001b[43m]\u001b[49m\n",
      "\u001b[0;31mIndexError\u001b[0m: tuple index out of range"
     ]
    }
   ],
   "source": [
    "prime_numbers[-4]"
   ]
  },
  {
   "cell_type": "code",
   "execution_count": 130,
   "id": "75d41f20-f770-43f2-a755-ab5cbc37192e",
   "metadata": {},
   "outputs": [
    {
     "data": {
      "text/plain": [
       "'qwer'"
      ]
     },
     "execution_count": 130,
     "metadata": {},
     "output_type": "execute_result"
    }
   ],
   "source": [
    "str(\"qwer\")"
   ]
  },
  {
   "cell_type": "code",
   "execution_count": 131,
   "id": "e1de9db4-0cd7-4d25-9e0a-ac6d9c430a8d",
   "metadata": {},
   "outputs": [
    {
     "data": {
      "text/plain": [
       "'42'"
      ]
     },
     "execution_count": 131,
     "metadata": {},
     "output_type": "execute_result"
    }
   ],
   "source": [
    "str(42)"
   ]
  },
  {
   "cell_type": "code",
   "execution_count": 132,
   "id": "d0946661-5348-408c-aabc-c13e3f620279",
   "metadata": {},
   "outputs": [
    {
     "name": "stdout",
     "output_type": "stream",
     "text": [
      "('foo', 'bar', True, False, 123, 42, 5.5, 2.0)\n"
     ]
    }
   ],
   "source": [
    "print(any_items)"
   ]
  },
  {
   "cell_type": "code",
   "execution_count": 133,
   "id": "e6c94b48-eb93-4c72-9631-f1605b396301",
   "metadata": {},
   "outputs": [
    {
     "data": {
      "text/plain": [
       "2.0"
      ]
     },
     "execution_count": 133,
     "metadata": {},
     "output_type": "execute_result"
    }
   ],
   "source": [
    "any_items[7]"
   ]
  },
  {
   "cell_type": "code",
   "execution_count": 134,
   "id": "623fe495-f229-4d43-a950-cb9f69db4bb6",
   "metadata": {},
   "outputs": [
    {
     "data": {
      "text/plain": [
       "2.0"
      ]
     },
     "execution_count": 134,
     "metadata": {},
     "output_type": "execute_result"
    }
   ],
   "source": [
    "any_items[-1]"
   ]
  },
  {
   "cell_type": "code",
   "execution_count": 135,
   "id": "0d2d140e-51f0-476b-8b59-ecd54e30b1bb",
   "metadata": {},
   "outputs": [
    {
     "data": {
      "text/plain": [
       "2.0"
      ]
     },
     "execution_count": 135,
     "metadata": {},
     "output_type": "execute_result"
    }
   ],
   "source": [
    "any_items[len(any_items) - 1]"
   ]
  },
  {
   "cell_type": "code",
   "execution_count": 136,
   "id": "12a70c4e-4412-4259-9c62-d6878caa8d57",
   "metadata": {},
   "outputs": [
    {
     "data": {
      "text/plain": [
       "('foo', 'foo')"
      ]
     },
     "execution_count": 136,
     "metadata": {},
     "output_type": "execute_result"
    }
   ],
   "source": [
    "(\"foo\", \"foo\")"
   ]
  },
  {
   "cell_type": "code",
   "execution_count": 137,
   "id": "80ca7a42-dee9-4134-b660-c36bfa20b592",
   "metadata": {},
   "outputs": [],
   "source": [
    "None"
   ]
  },
  {
   "cell_type": "code",
   "execution_count": 138,
   "id": "b55465d8-9828-45a7-a4dc-5fd8db8c2876",
   "metadata": {},
   "outputs": [
    {
     "data": {
      "text/plain": [
       "'42'"
      ]
     },
     "execution_count": 138,
     "metadata": {},
     "output_type": "execute_result"
    }
   ],
   "source": [
    "str(42)"
   ]
  },
  {
   "cell_type": "code",
   "execution_count": 139,
   "id": "fbe5c4d6-92e6-4dd9-b838-6c316c23e5da",
   "metadata": {},
   "outputs": [
    {
     "name": "stdout",
     "output_type": "stream",
     "text": [
      "42\n"
     ]
    }
   ],
   "source": [
    "print(str(42))"
   ]
  },
  {
   "cell_type": "code",
   "execution_count": 140,
   "id": "861fbe80-0cf3-40fe-a75c-06cdfb2360e8",
   "metadata": {},
   "outputs": [
    {
     "name": "stdout",
     "output_type": "stream",
     "text": [
      "42\n"
     ]
    },
    {
     "data": {
      "text/plain": [
       "'13'"
      ]
     },
     "execution_count": 140,
     "metadata": {},
     "output_type": "execute_result"
    }
   ],
   "source": [
    "print(str(42))\n",
    "str(13)"
   ]
  },
  {
   "cell_type": "code",
   "execution_count": 141,
   "id": "6cf7a34a-d911-4a4a-a994-d8cff7ce249f",
   "metadata": {},
   "outputs": [
    {
     "name": "stdout",
     "output_type": "stream",
     "text": [
      "42\n",
      "None\n"
     ]
    }
   ],
   "source": [
    "print(\n",
    "    print(42)\n",
    ")"
   ]
  },
  {
   "cell_type": "code",
   "execution_count": 142,
   "id": "d6342e2d-915e-4d96-9ed1-f1a9d092cdab",
   "metadata": {},
   "outputs": [],
   "source": [
    "None"
   ]
  },
  {
   "cell_type": "code",
   "execution_count": 143,
   "id": "4f41872a-180a-4c31-89f5-967509c356d1",
   "metadata": {},
   "outputs": [
    {
     "name": "stdout",
     "output_type": "stream",
     "text": [
      "None\n"
     ]
    }
   ],
   "source": [
    "print(None)"
   ]
  },
  {
   "cell_type": "code",
   "execution_count": 144,
   "id": "0ff58caa-55b3-4224-8074-54c11a6a2faa",
   "metadata": {},
   "outputs": [],
   "source": [
    "spam = None"
   ]
  },
  {
   "cell_type": "code",
   "execution_count": 145,
   "id": "f36b3492-f4a9-4dfc-b67f-800d7f81274c",
   "metadata": {},
   "outputs": [],
   "source": [
    "spam"
   ]
  },
  {
   "cell_type": "code",
   "execution_count": 146,
   "id": "492a41c4-9d40-4615-9358-39c1be844fb2",
   "metadata": {},
   "outputs": [
    {
     "data": {
      "text/plain": [
       "'eggs'"
      ]
     },
     "execution_count": 146,
     "metadata": {},
     "output_type": "execute_result"
    }
   ],
   "source": [
    "spam = \"eggs\"\n",
    "spam"
   ]
  },
  {
   "cell_type": "code",
   "execution_count": 147,
   "id": "5e62bff9-0a12-49da-8068-a2164c33186c",
   "metadata": {},
   "outputs": [
    {
     "data": {
      "text/plain": [
       "\"Hello, it's me\""
      ]
     },
     "execution_count": 147,
     "metadata": {},
     "output_type": "execute_result"
    }
   ],
   "source": [
    "\"Hello, it's me\""
   ]
  },
  {
   "cell_type": "code",
   "execution_count": 148,
   "id": "7959a327-ab58-4b5d-8908-3e86c31f9a13",
   "metadata": {},
   "outputs": [
    {
     "name": "stdout",
     "output_type": "stream",
     "text": [
      "[2, 4, 6]\n"
     ]
    }
   ],
   "source": [
    "evens = [2, 4, 6]\n",
    "print(evens)"
   ]
  },
  {
   "cell_type": "code",
   "execution_count": 149,
   "id": "21e4f30d-c025-474f-868f-fe46b373dcbf",
   "metadata": {},
   "outputs": [
    {
     "data": {
      "text/plain": [
       "list"
      ]
     },
     "execution_count": 149,
     "metadata": {},
     "output_type": "execute_result"
    }
   ],
   "source": [
    "type(evens)"
   ]
  },
  {
   "cell_type": "code",
   "execution_count": 150,
   "id": "5c6a6285-6c2f-4dc1-ab63-484a5881a54b",
   "metadata": {},
   "outputs": [
    {
     "name": "stdout",
     "output_type": "stream",
     "text": [
      "[2, 4, 6, 8]\n"
     ]
    }
   ],
   "source": [
    "evens.append(8)\n",
    "print(evens)"
   ]
  },
  {
   "cell_type": "code",
   "execution_count": 151,
   "id": "c320f5ff-cd74-4111-b63f-621e2dbf7e18",
   "metadata": {},
   "outputs": [
    {
     "name": "stdout",
     "output_type": "stream",
     "text": [
      "[2, 4, 6, 8, 9]\n",
      "[2, 4, 6, 8]\n"
     ]
    }
   ],
   "source": [
    "evens.append(9)\n",
    "print(evens)\n",
    "evens.pop()\n",
    "print(evens)"
   ]
  },
  {
   "cell_type": "code",
   "execution_count": 152,
   "id": "d33c1cb2-a29a-4cf6-9560-82eaa817b6f1",
   "metadata": {},
   "outputs": [
    {
     "data": {
      "text/plain": [
       "8"
      ]
     },
     "execution_count": 152,
     "metadata": {},
     "output_type": "execute_result"
    }
   ],
   "source": [
    "evens.pop()"
   ]
  },
  {
   "cell_type": "code",
   "execution_count": 153,
   "id": "5ad5e9ff-5101-4bfc-b1ba-69af9f9a591e",
   "metadata": {},
   "outputs": [
    {
     "data": {
      "text/plain": [
       "True"
      ]
     },
     "execution_count": 153,
     "metadata": {},
     "output_type": "execute_result"
    }
   ],
   "source": [
    "evens == [2, 4, 6]"
   ]
  },
  {
   "cell_type": "code",
   "execution_count": 154,
   "id": "1354466a-c0e9-4c2d-9889-665c0f0ffbc1",
   "metadata": {},
   "outputs": [
    {
     "data": {
      "text/plain": [
       "True"
      ]
     },
     "execution_count": 154,
     "metadata": {},
     "output_type": "execute_result"
    }
   ],
   "source": [
    "evens.append(8)\n",
    "evens == [2, 4, 6, 8]"
   ]
  },
  {
   "cell_type": "code",
   "execution_count": 155,
   "id": "6bdae788-9eb5-4474-9701-1decd7320d9b",
   "metadata": {},
   "outputs": [
    {
     "name": "stdout",
     "output_type": "stream",
     "text": [
      "[2, 4, 6, 8]\n",
      "[2, 4, 6, 8]\n"
     ]
    }
   ],
   "source": [
    "nums = evens\n",
    "print(nums)\n",
    "print(evens)"
   ]
  },
  {
   "cell_type": "code",
   "execution_count": 156,
   "id": "6e42f3d6-e464-473a-88f3-94121ff116fe",
   "metadata": {},
   "outputs": [
    {
     "name": "stdout",
     "output_type": "stream",
     "text": [
      "[2, 4, 6, 8, 10, 12]\n",
      "[2, 4, 6, 8, 10, 12]\n"
     ]
    }
   ],
   "source": [
    "nums.append(10)\n",
    "evens.append(12)\n",
    "print(nums)\n",
    "print(evens)"
   ]
  },
  {
   "cell_type": "code",
   "execution_count": 157,
   "id": "26f11928-7348-4158-bbe3-2566c819b46a",
   "metadata": {},
   "outputs": [
    {
     "data": {
      "text/plain": [
       "('foo', 'bar', True, False, 123, 42, 5.5, 2.0)"
      ]
     },
     "execution_count": 157,
     "metadata": {},
     "output_type": "execute_result"
    }
   ],
   "source": [
    "any_items"
   ]
  },
  {
   "cell_type": "code",
   "execution_count": 158,
   "id": "18a0f83f-b4f4-4c2e-8ea7-158b04f55a5d",
   "metadata": {},
   "outputs": [
    {
     "ename": "TypeError",
     "evalue": "'tuple' object does not support item assignment",
     "output_type": "error",
     "traceback": [
      "\u001b[0;31m---------------------------------------------------------------------------\u001b[0m",
      "\u001b[0;31mTypeError\u001b[0m                                 Traceback (most recent call last)",
      "Cell \u001b[0;32mIn[158], line 1\u001b[0m\n\u001b[0;32m----> 1\u001b[0m \u001b[43many_items\u001b[49m\u001b[43m[\u001b[49m\u001b[38;5;241;43m0\u001b[39;49m\u001b[43m]\u001b[49m \u001b[38;5;241m=\u001b[39m \u001b[38;5;241m1\u001b[39m\n",
      "\u001b[0;31mTypeError\u001b[0m: 'tuple' object does not support item assignment"
     ]
    }
   ],
   "source": [
    "any_items[0] = 1"
   ]
  },
  {
   "cell_type": "code",
   "execution_count": 159,
   "id": "188d15db-c994-48b0-b8dd-f3dbf4da95af",
   "metadata": {},
   "outputs": [],
   "source": [
    "nums[3] = 7"
   ]
  },
  {
   "cell_type": "code",
   "execution_count": 160,
   "id": "fbf2dd65-e49d-4889-81b8-20303d36a3bd",
   "metadata": {},
   "outputs": [
    {
     "name": "stdout",
     "output_type": "stream",
     "text": [
      "[2, 4, 6, 7, 10, 12]\n"
     ]
    }
   ],
   "source": [
    "print(nums)"
   ]
  },
  {
   "cell_type": "code",
   "execution_count": 161,
   "id": "00c2fa40-8a6c-4ec2-9f68-9fb80a321ebb",
   "metadata": {},
   "outputs": [
    {
     "name": "stdout",
     "output_type": "stream",
     "text": [
      "[2, 4, 6, 7, 10, 12]\n"
     ]
    }
   ],
   "source": [
    "print(evens)"
   ]
  },
  {
   "cell_type": "code",
   "execution_count": 162,
   "id": "ee22501d-9d90-41eb-8575-e5ed664ac02a",
   "metadata": {},
   "outputs": [
    {
     "name": "stdout",
     "output_type": "stream",
     "text": [
      "[2, 4, 6, 8, 10, 12]\n",
      "[2, 4, 6, 8, 10, 12]\n"
     ]
    }
   ],
   "source": [
    "evens[3] = 8\n",
    "print(evens)\n",
    "print(nums)"
   ]
  },
  {
   "cell_type": "code",
   "execution_count": 163,
   "id": "e7040156-02f5-4424-8ef6-a76eadef7cb8",
   "metadata": {},
   "outputs": [
    {
     "data": {
      "text/plain": [
       "(1, 2, 'foo', 'bar')"
      ]
     },
     "execution_count": 163,
     "metadata": {},
     "output_type": "execute_result"
    }
   ],
   "source": [
    "(1, 2) + (\"foo\", \"bar\")"
   ]
  },
  {
   "cell_type": "code",
   "execution_count": 164,
   "id": "9b5cb193-3977-453f-ad68-0cb78bc29536",
   "metadata": {},
   "outputs": [
    {
     "data": {
      "text/plain": [
       "[1, 2, 'foo', 'bar']"
      ]
     },
     "execution_count": 164,
     "metadata": {},
     "output_type": "execute_result"
    }
   ],
   "source": [
    "[1, 2] + [\"foo\", \"bar\"]"
   ]
  },
  {
   "cell_type": "code",
   "execution_count": 165,
   "id": "df546cc8-d26f-424e-a87a-90e1e67ade33",
   "metadata": {},
   "outputs": [
    {
     "data": {
      "text/plain": [
       "True"
      ]
     },
     "execution_count": 165,
     "metadata": {},
     "output_type": "execute_result"
    }
   ],
   "source": [
    "nums == evens"
   ]
  },
  {
   "cell_type": "code",
   "execution_count": 166,
   "id": "1821627f-191e-4631-b223-e30677d79a6f",
   "metadata": {},
   "outputs": [
    {
     "data": {
      "text/plain": [
       "True"
      ]
     },
     "execution_count": 166,
     "metadata": {},
     "output_type": "execute_result"
    }
   ],
   "source": [
    "nums == nums"
   ]
  },
  {
   "cell_type": "code",
   "execution_count": 167,
   "id": "e0041107-2503-4911-aa71-a1ca5f5dbf97",
   "metadata": {},
   "outputs": [
    {
     "data": {
      "text/plain": [
       "(1,)"
      ]
     },
     "execution_count": 167,
     "metadata": {},
     "output_type": "execute_result"
    }
   ],
   "source": [
    "(1,)"
   ]
  },
  {
   "cell_type": "code",
   "execution_count": 168,
   "id": "4b303b6c-0d5d-4dca-b1c7-2473276e9485",
   "metadata": {},
   "outputs": [
    {
     "data": {
      "text/plain": [
       "1"
      ]
     },
     "execution_count": 168,
     "metadata": {},
     "output_type": "execute_result"
    }
   ],
   "source": [
    "(1)"
   ]
  },
  {
   "cell_type": "code",
   "execution_count": 169,
   "id": "83db17cc-af0a-424d-b63a-13c89a82fc74",
   "metadata": {},
   "outputs": [
    {
     "data": {
      "text/plain": [
       "(1, 'foo', 'bar', 2, 3)"
      ]
     },
     "execution_count": 169,
     "metadata": {},
     "output_type": "execute_result"
    }
   ],
   "source": [
    "(1,) + (\"foo\", \"bar\", 2, 3)"
   ]
  },
  {
   "cell_type": "code",
   "execution_count": 170,
   "id": "d7f2823b-40cc-41ac-827e-4776b0e031d6",
   "metadata": {},
   "outputs": [
    {
     "data": {
      "text/plain": [
       "[2, 4, 6, 8, 10, 12]"
      ]
     },
     "execution_count": 170,
     "metadata": {},
     "output_type": "execute_result"
    }
   ],
   "source": [
    "nums"
   ]
  },
  {
   "cell_type": "code",
   "execution_count": 171,
   "id": "512fc122-c7d0-4ba6-825f-b60b20c51b2d",
   "metadata": {},
   "outputs": [
    {
     "data": {
      "text/plain": [
       "True"
      ]
     },
     "execution_count": 171,
     "metadata": {},
     "output_type": "execute_result"
    }
   ],
   "source": [
    "nums == [2, 4, 6, 8, 10, 12]"
   ]
  },
  {
   "cell_type": "code",
   "execution_count": 172,
   "id": "c9c8ebd2-1302-463f-bf48-792cf08db157",
   "metadata": {},
   "outputs": [
    {
     "data": {
      "text/plain": [
       "12"
      ]
     },
     "execution_count": 172,
     "metadata": {},
     "output_type": "execute_result"
    }
   ],
   "source": [
    "nums.pop()"
   ]
  },
  {
   "cell_type": "code",
   "execution_count": 173,
   "id": "33f817aa-6d1a-45b6-b0bc-9dc19e3e0979",
   "metadata": {},
   "outputs": [
    {
     "data": {
      "text/plain": [
       "False"
      ]
     },
     "execution_count": 173,
     "metadata": {},
     "output_type": "execute_result"
    }
   ],
   "source": [
    "nums == [2, 4, 6, 8, 10, 12]"
   ]
  },
  {
   "cell_type": "code",
   "execution_count": 174,
   "id": "32852d99-110e-479f-b1b0-6804fcd3339b",
   "metadata": {},
   "outputs": [
    {
     "data": {
      "text/plain": [
       "[2, 4, 6, 8, 10]"
      ]
     },
     "execution_count": 174,
     "metadata": {},
     "output_type": "execute_result"
    }
   ],
   "source": [
    "nums"
   ]
  },
  {
   "cell_type": "code",
   "execution_count": 175,
   "id": "a6725a6f-a2d4-4d00-8f3b-62202732d300",
   "metadata": {},
   "outputs": [
    {
     "data": {
      "text/plain": [
       "True"
      ]
     },
     "execution_count": 175,
     "metadata": {},
     "output_type": "execute_result"
    }
   ],
   "source": [
    "evens == nums"
   ]
  },
  {
   "cell_type": "code",
   "execution_count": 176,
   "id": "9165202c-cd8b-4012-8244-e9738922e414",
   "metadata": {},
   "outputs": [
    {
     "data": {
      "text/plain": [
       "[2, 4, 6, 8, 10]"
      ]
     },
     "execution_count": 176,
     "metadata": {},
     "output_type": "execute_result"
    }
   ],
   "source": [
    "evens"
   ]
  },
  {
   "cell_type": "code",
   "execution_count": 177,
   "id": "859c9a0e-15af-46e6-bec1-14b85cb79918",
   "metadata": {},
   "outputs": [
    {
     "data": {
      "text/plain": [
       "True"
      ]
     },
     "execution_count": 177,
     "metadata": {},
     "output_type": "execute_result"
    }
   ],
   "source": [
    "evens is nums"
   ]
  },
  {
   "cell_type": "code",
   "execution_count": 178,
   "id": "07a79067-80b0-4d1d-bb6a-610962106d0f",
   "metadata": {},
   "outputs": [],
   "source": [
    "other_nums = list(nums)"
   ]
  },
  {
   "cell_type": "code",
   "execution_count": 179,
   "id": "3a69b1f7-e66c-475b-9765-30466da10846",
   "metadata": {},
   "outputs": [
    {
     "data": {
      "text/plain": [
       "[2, 4, 6, 8, 10]"
      ]
     },
     "execution_count": 179,
     "metadata": {},
     "output_type": "execute_result"
    }
   ],
   "source": [
    "other_nums"
   ]
  },
  {
   "cell_type": "code",
   "execution_count": 180,
   "id": "dfa2cce9-85ca-41c5-9bec-d539b8dff401",
   "metadata": {},
   "outputs": [
    {
     "data": {
      "text/plain": [
       "True"
      ]
     },
     "execution_count": 180,
     "metadata": {},
     "output_type": "execute_result"
    }
   ],
   "source": [
    "other_nums == nums"
   ]
  },
  {
   "cell_type": "code",
   "execution_count": 181,
   "id": "860300ec-11f5-4954-b888-18b1e5dea997",
   "metadata": {},
   "outputs": [
    {
     "data": {
      "text/plain": [
       "False"
      ]
     },
     "execution_count": 181,
     "metadata": {},
     "output_type": "execute_result"
    }
   ],
   "source": [
    "other_nums is nums"
   ]
  },
  {
   "cell_type": "code",
   "execution_count": 182,
   "id": "6e535c26-bdbb-4bb0-9f03-64ed729c948d",
   "metadata": {},
   "outputs": [
    {
     "name": "stdout",
     "output_type": "stream",
     "text": [
      "[2, 4, 6, 8, 10]\n"
     ]
    }
   ],
   "source": [
    "print(nums)"
   ]
  },
  {
   "cell_type": "code",
   "execution_count": 183,
   "id": "a63d4a6a-fb8f-4ebf-abd7-7684bdc3b59a",
   "metadata": {},
   "outputs": [
    {
     "name": "stdout",
     "output_type": "stream",
     "text": [
      "[2, 4, 6, 8, 10]\n"
     ]
    }
   ],
   "source": [
    "print(other_nums)"
   ]
  },
  {
   "cell_type": "code",
   "execution_count": 184,
   "id": "f98e9cd9-d04b-4f4c-a5ed-49ee11e33aed",
   "metadata": {},
   "outputs": [],
   "source": [
    "other_nums.append(13)"
   ]
  },
  {
   "cell_type": "code",
   "execution_count": 185,
   "id": "a6fe0b43-65f8-4224-85f8-eed8e01662a1",
   "metadata": {},
   "outputs": [
    {
     "name": "stdout",
     "output_type": "stream",
     "text": [
      "[2, 4, 6, 8, 10, 13]\n"
     ]
    }
   ],
   "source": [
    "print(other_nums)"
   ]
  },
  {
   "cell_type": "code",
   "execution_count": 186,
   "id": "7051b003-75ac-4f08-8afe-974d0356534d",
   "metadata": {},
   "outputs": [
    {
     "name": "stdout",
     "output_type": "stream",
     "text": [
      "[2, 4, 6, 8, 10]\n"
     ]
    }
   ],
   "source": [
    "print(nums)"
   ]
  },
  {
   "cell_type": "code",
   "execution_count": 187,
   "id": "503b3074-36b7-40e8-8d37-c49ad7b57f6b",
   "metadata": {},
   "outputs": [
    {
     "data": {
      "text/plain": [
       "{1, 2, 3}"
      ]
     },
     "execution_count": 187,
     "metadata": {},
     "output_type": "execute_result"
    }
   ],
   "source": [
    "{1, 2, 3}"
   ]
  },
  {
   "cell_type": "code",
   "execution_count": 188,
   "id": "acbce10c-2d09-42b0-8390-95e288faa881",
   "metadata": {},
   "outputs": [
    {
     "name": "stdout",
     "output_type": "stream",
     "text": [
      "{2, 3, 5}\n"
     ]
    }
   ],
   "source": [
    "nums = {2, 3, 5}\n",
    "print(nums)"
   ]
  },
  {
   "cell_type": "code",
   "execution_count": 189,
   "id": "1ef3e2e8-4a25-4be4-99ab-4dc7e0618753",
   "metadata": {},
   "outputs": [
    {
     "data": {
      "text/plain": [
       "set"
      ]
     },
     "execution_count": 189,
     "metadata": {},
     "output_type": "execute_result"
    }
   ],
   "source": [
    "type(nums)"
   ]
  },
  {
   "cell_type": "code",
   "execution_count": 190,
   "id": "7235886c-a13b-4db6-a2c0-f70c7289cfe1",
   "metadata": {},
   "outputs": [
    {
     "data": {
      "text/plain": [
       "{2, 3, 5}"
      ]
     },
     "execution_count": 190,
     "metadata": {},
     "output_type": "execute_result"
    }
   ],
   "source": [
    "nums"
   ]
  },
  {
   "cell_type": "code",
   "execution_count": 191,
   "id": "0dd5cf54-3aea-430d-9f5a-bd6af8051e66",
   "metadata": {},
   "outputs": [],
   "source": [
    "nums.add(7)"
   ]
  },
  {
   "cell_type": "code",
   "execution_count": 192,
   "id": "f9f6e366-d17b-44c8-8bfa-078fc2abf03e",
   "metadata": {},
   "outputs": [
    {
     "name": "stdout",
     "output_type": "stream",
     "text": [
      "{2, 3, 5, 7}\n"
     ]
    }
   ],
   "source": [
    "print(nums)"
   ]
  },
  {
   "cell_type": "code",
   "execution_count": 193,
   "id": "fc86244f-6ed8-45c9-8b80-b76c6aa49ff1",
   "metadata": {},
   "outputs": [],
   "source": [
    "nums.add(1)"
   ]
  },
  {
   "cell_type": "code",
   "execution_count": 194,
   "id": "7fdd7c34-b39b-4059-90e5-61a40d908a8a",
   "metadata": {},
   "outputs": [
    {
     "name": "stdout",
     "output_type": "stream",
     "text": [
      "{1, 2, 3, 5, 7}\n"
     ]
    }
   ],
   "source": [
    "print(nums)"
   ]
  },
  {
   "cell_type": "code",
   "execution_count": 195,
   "id": "db6b36a5-04e8-4c0f-a3e6-e4e617d769b1",
   "metadata": {},
   "outputs": [
    {
     "data": {
      "text/plain": [
       "True"
      ]
     },
     "execution_count": 195,
     "metadata": {},
     "output_type": "execute_result"
    }
   ],
   "source": [
    "3 in nums"
   ]
  },
  {
   "cell_type": "code",
   "execution_count": 196,
   "id": "41f69c97-7761-4999-bf24-ca5cfa33c6d1",
   "metadata": {},
   "outputs": [
    {
     "data": {
      "text/plain": [
       "[2, 4, 6, 8, 10]"
      ]
     },
     "execution_count": 196,
     "metadata": {},
     "output_type": "execute_result"
    }
   ],
   "source": [
    "evens"
   ]
  },
  {
   "cell_type": "code",
   "execution_count": 197,
   "id": "54b7135b-6382-413e-bba4-516befe2a1ed",
   "metadata": {},
   "outputs": [
    {
     "data": {
      "text/plain": [
       "True"
      ]
     },
     "execution_count": 197,
     "metadata": {},
     "output_type": "execute_result"
    }
   ],
   "source": [
    "4 in evens"
   ]
  },
  {
   "cell_type": "code",
   "execution_count": 198,
   "id": "e968ee0b-7b5d-4233-8b68-3bb549112521",
   "metadata": {},
   "outputs": [
    {
     "data": {
      "text/plain": [
       "False"
      ]
     },
     "execution_count": 198,
     "metadata": {},
     "output_type": "execute_result"
    }
   ],
   "source": [
    "3 in evens"
   ]
  },
  {
   "cell_type": "code",
   "execution_count": 199,
   "id": "a4774163-df64-42aa-bcfb-c93eb6936580",
   "metadata": {},
   "outputs": [
    {
     "name": "stdout",
     "output_type": "stream",
     "text": [
      "{1, 3, 5, 21, 8, 13}\n"
     ]
    }
   ],
   "source": [
    "fibs = {1, 1, 3, 5, 8, 13, 21}\n",
    "print(fibs)"
   ]
  },
  {
   "cell_type": "code",
   "execution_count": 200,
   "id": "c1149f4d-13d0-4429-a6f2-996614b42c78",
   "metadata": {},
   "outputs": [
    {
     "name": "stdout",
     "output_type": "stream",
     "text": [
      "{3, 5, 7}\n"
     ]
    }
   ],
   "source": [
    "primes = set(prime_numbers)\n",
    "print(primes)"
   ]
  },
  {
   "cell_type": "code",
   "execution_count": 201,
   "id": "77f44195-079f-4c07-bb4a-5be578de7e5f",
   "metadata": {},
   "outputs": [
    {
     "data": {
      "text/plain": [
       "{3, 5}"
      ]
     },
     "execution_count": 201,
     "metadata": {},
     "output_type": "execute_result"
    }
   ],
   "source": [
    "primes.intersection(fibs)"
   ]
  },
  {
   "cell_type": "code",
   "execution_count": 202,
   "id": "8e0a3c52-f9cf-4416-95b3-c08cf1a49a9f",
   "metadata": {},
   "outputs": [
    {
     "data": {
      "text/plain": [
       "{7}"
      ]
     },
     "execution_count": 202,
     "metadata": {},
     "output_type": "execute_result"
    }
   ],
   "source": [
    "primes.difference(fibs)"
   ]
  },
  {
   "cell_type": "code",
   "execution_count": 203,
   "id": "a18e11f7-ab45-4cbe-9568-8fd5db186147",
   "metadata": {},
   "outputs": [
    {
     "data": {
      "text/plain": [
       "{1, 8, 13, 21}"
      ]
     },
     "execution_count": 203,
     "metadata": {},
     "output_type": "execute_result"
    }
   ],
   "source": [
    "fibs.difference(primes)"
   ]
  },
  {
   "cell_type": "code",
   "execution_count": 204,
   "id": "844ee21b-15d4-46a6-b44b-f698be7a615c",
   "metadata": {},
   "outputs": [
    {
     "data": {
      "text/plain": [
       "{('one',), (), (1, 2, 'foo'), 1, 2, 3, 'abc', 'qwe'}"
      ]
     },
     "execution_count": 204,
     "metadata": {},
     "output_type": "execute_result"
    }
   ],
   "source": [
    "{1, 2, 3, \"qwe\", \"abc\", (1, 2, \"foo\"), (), (\"one\",)}"
   ]
  },
  {
   "cell_type": "code",
   "execution_count": 205,
   "id": "e64f53ad-4904-482a-9f76-f8efb1c4b135",
   "metadata": {},
   "outputs": [
    {
     "ename": "TypeError",
     "evalue": "unhashable type: 'list'",
     "output_type": "error",
     "traceback": [
      "\u001b[0;31m---------------------------------------------------------------------------\u001b[0m",
      "\u001b[0;31mTypeError\u001b[0m                                 Traceback (most recent call last)",
      "Cell \u001b[0;32mIn[205], line 1\u001b[0m\n\u001b[0;32m----> 1\u001b[0m {[\u001b[38;5;241m1\u001b[39m,]}\n",
      "\u001b[0;31mTypeError\u001b[0m: unhashable type: 'list'"
     ]
    }
   ],
   "source": [
    "{[1,]}"
   ]
  },
  {
   "cell_type": "code",
   "execution_count": 206,
   "id": "1f614015-6dd3-4714-9786-c12b548d2f2c",
   "metadata": {},
   "outputs": [
    {
     "data": {
      "text/plain": [
       "{'name': 'John', 'foo': 'bar', 'spam': 'bar', 1: 'qwe', 0: 'abc'}"
      ]
     },
     "execution_count": 206,
     "metadata": {},
     "output_type": "execute_result"
    }
   ],
   "source": [
    "{\n",
    "    \"name\": \"John\",\n",
    "    \"foo\": \"bar\",\n",
    "    \"spam\": \"bar\",\n",
    "    1: \"qwe\",\n",
    "    0: \"abc\"\n",
    "}"
   ]
  },
  {
   "cell_type": "code",
   "execution_count": 207,
   "id": "ddbd033e-6786-4936-b60c-6ce498ef2407",
   "metadata": {},
   "outputs": [
    {
     "name": "stdout",
     "output_type": "stream",
     "text": [
      "{'name': 'John', 'foo': 'bar', 'spam': 'bar', 1: 'qwe', 0: 'abc'}\n"
     ]
    }
   ],
   "source": [
    "data = {\n",
    "    \"name\": \"John\",\n",
    "    \"foo\": \"bar\",\n",
    "    \"spam\": \"bar\",\n",
    "    1: \"qwe\",\n",
    "    0: \"abc\"\n",
    "}\n",
    "print(data)"
   ]
  },
  {
   "cell_type": "code",
   "execution_count": 208,
   "id": "afff74c5-b090-4758-af6b-cc018f3cdaf3",
   "metadata": {},
   "outputs": [
    {
     "data": {
      "text/plain": [
       "'John'"
      ]
     },
     "execution_count": 208,
     "metadata": {},
     "output_type": "execute_result"
    }
   ],
   "source": [
    "data[\"name\"]"
   ]
  },
  {
   "cell_type": "code",
   "execution_count": 209,
   "id": "5979d9f9-9a20-4f58-a8c2-e8eb1b0e80cf",
   "metadata": {},
   "outputs": [
    {
     "data": {
      "text/plain": [
       "'abc'"
      ]
     },
     "execution_count": 209,
     "metadata": {},
     "output_type": "execute_result"
    }
   ],
   "source": [
    "data[0]"
   ]
  },
  {
   "cell_type": "code",
   "execution_count": 210,
   "id": "d1972d36-0789-4965-a74f-52c74105d9c9",
   "metadata": {},
   "outputs": [],
   "source": [
    "data['0'] = \"zero\""
   ]
  },
  {
   "cell_type": "code",
   "execution_count": 211,
   "id": "7a343bbe-4f35-4f79-9e0a-30e67dff8e84",
   "metadata": {},
   "outputs": [
    {
     "data": {
      "text/plain": [
       "{'name': 'John', 'foo': 'bar', 'spam': 'bar', 1: 'qwe', 0: 'abc', '0': 'zero'}"
      ]
     },
     "execution_count": 211,
     "metadata": {},
     "output_type": "execute_result"
    }
   ],
   "source": [
    "data"
   ]
  },
  {
   "cell_type": "code",
   "execution_count": 212,
   "id": "2435edb9-6f43-4b3a-97cc-7f0c76ff5db2",
   "metadata": {},
   "outputs": [
    {
     "data": {
      "text/plain": [
       "'abc'"
      ]
     },
     "execution_count": 212,
     "metadata": {},
     "output_type": "execute_result"
    }
   ],
   "source": [
    "data[0]"
   ]
  },
  {
   "cell_type": "code",
   "execution_count": 213,
   "id": "4cf71fe8-678f-4190-a8bb-30f795aa3dc8",
   "metadata": {},
   "outputs": [
    {
     "data": {
      "text/plain": [
       "'zero'"
      ]
     },
     "execution_count": 213,
     "metadata": {},
     "output_type": "execute_result"
    }
   ],
   "source": [
    "data['0']"
   ]
  },
  {
   "cell_type": "code",
   "execution_count": 214,
   "id": "5be4036b-766b-4f13-8073-da7d87f4d8c6",
   "metadata": {},
   "outputs": [],
   "source": [
    "data[0] = 0"
   ]
  },
  {
   "cell_type": "code",
   "execution_count": 215,
   "id": "1c6dd245-2ad5-4073-8266-6a38419b2336",
   "metadata": {},
   "outputs": [
    {
     "data": {
      "text/plain": [
       "{'name': 'John', 'foo': 'bar', 'spam': 'bar', 1: 'qwe', 0: 0, '0': 'zero'}"
      ]
     },
     "execution_count": 215,
     "metadata": {},
     "output_type": "execute_result"
    }
   ],
   "source": [
    "data"
   ]
  },
  {
   "cell_type": "code",
   "execution_count": 216,
   "id": "a655942b-38b0-4dd0-a3c3-811080791be2",
   "metadata": {},
   "outputs": [
    {
     "data": {
      "text/plain": [
       "'l'"
      ]
     },
     "execution_count": 216,
     "metadata": {},
     "output_type": "execute_result"
    }
   ],
   "source": [
    "\"hello\"[3]"
   ]
  },
  {
   "cell_type": "code",
   "execution_count": null,
   "id": "d7ac5b05-e752-4ed1-9c00-05504c9453db",
   "metadata": {},
   "outputs": [],
   "source": []
  }
 ],
 "metadata": {
  "kernelspec": {
   "display_name": "Python 3 (ipykernel)",
   "language": "python",
   "name": "python3"
  },
  "language_info": {
   "codemirror_mode": {
    "name": "ipython",
    "version": 3
   },
   "file_extension": ".py",
   "mimetype": "text/x-python",
   "name": "python",
   "nbconvert_exporter": "python",
   "pygments_lexer": "ipython3",
   "version": "3.11.4"
  }
 },
 "nbformat": 4,
 "nbformat_minor": 5
}
