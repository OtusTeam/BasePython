{
 "cells": [
  {
   "cell_type": "code",
   "execution_count": 1,
   "id": "de3ccb0c-ba3f-48e9-ac27-649cbb3fb445",
   "metadata": {},
   "outputs": [
    {
     "name": "stdout",
     "output_type": "stream",
     "text": [
      "Hello world!\n"
     ]
    }
   ],
   "source": [
    "print(\"Hello world!\")"
   ]
  },
  {
   "cell_type": "code",
   "execution_count": 2,
   "id": "cd050e26-fc1d-4197-8184-a7314dc23f8c",
   "metadata": {},
   "outputs": [
    {
     "name": "stdout",
     "output_type": "stream",
     "text": [
      "Hello world!\n"
     ]
    }
   ],
   "source": [
    "print('Hello world!')"
   ]
  },
  {
   "cell_type": "code",
   "execution_count": 3,
   "id": "237b7c32-ccac-44aa-919c-5708d72ed67f",
   "metadata": {},
   "outputs": [
    {
     "name": "stdout",
     "output_type": "stream",
     "text": [
      "Name \"foo\" is used often\n"
     ]
    }
   ],
   "source": [
    "print('Name \"foo\" is used often')"
   ]
  },
  {
   "cell_type": "code",
   "execution_count": 4,
   "id": "5c82b32f-f16e-4651-9b85-d4b557beaebf",
   "metadata": {},
   "outputs": [
    {
     "name": "stdout",
     "output_type": "stream",
     "text": [
      "Hello, it's me!\n"
     ]
    }
   ],
   "source": [
    "print(\"Hello, it's me!\")"
   ]
  },
  {
   "cell_type": "code",
   "execution_count": 5,
   "id": "6a2544fc-cc9d-494a-b9bc-473e58337b20",
   "metadata": {},
   "outputs": [
    {
     "name": "stdout",
     "output_type": "stream",
     "text": [
      "123\n"
     ]
    }
   ],
   "source": [
    "print(123)"
   ]
  },
  {
   "cell_type": "code",
   "execution_count": 6,
   "id": "6ff0996f-97ef-407b-a408-2a1365526c42",
   "metadata": {},
   "outputs": [
    {
     "name": "stdout",
     "output_type": "stream",
     "text": [
      "123\n"
     ]
    }
   ],
   "source": [
    "print(\"123\")"
   ]
  },
  {
   "cell_type": "code",
   "execution_count": 7,
   "id": "7975246e-d4c4-4e7b-8211-e2d1be779084",
   "metadata": {},
   "outputs": [
    {
     "name": "stdout",
     "output_type": "stream",
     "text": [
      "qwe123foobar\n"
     ]
    }
   ],
   "source": [
    "print(\"qwe123foobar\")"
   ]
  },
  {
   "cell_type": "code",
   "execution_count": 8,
   "id": "746bfb3a-1839-498e-aee3-0cd4c234f556",
   "metadata": {},
   "outputs": [
    {
     "data": {
      "text/plain": [
       "str"
      ]
     },
     "execution_count": 8,
     "metadata": {},
     "output_type": "execute_result"
    }
   ],
   "source": [
    "type(\"123\")"
   ]
  },
  {
   "cell_type": "code",
   "execution_count": 9,
   "id": "2f76a76e-236c-4394-a44d-81673c20e9c9",
   "metadata": {},
   "outputs": [
    {
     "data": {
      "text/plain": [
       "int"
      ]
     },
     "execution_count": 9,
     "metadata": {},
     "output_type": "execute_result"
    }
   ],
   "source": [
    "type(123)"
   ]
  },
  {
   "cell_type": "code",
   "execution_count": 10,
   "id": "6c4445cf-b646-40dc-ad91-7f66b1321336",
   "metadata": {},
   "outputs": [
    {
     "name": "stdout",
     "output_type": "stream",
     "text": [
      "<class 'int'>\n"
     ]
    }
   ],
   "source": [
    "print(type(5))"
   ]
  },
  {
   "cell_type": "code",
   "execution_count": 11,
   "id": "da27159e-55a2-47dc-a6bd-b94d8ffe325d",
   "metadata": {},
   "outputs": [
    {
     "data": {
      "text/plain": [
       "123"
      ]
     },
     "execution_count": 11,
     "metadata": {},
     "output_type": "execute_result"
    }
   ],
   "source": [
    "123"
   ]
  },
  {
   "cell_type": "code",
   "execution_count": 12,
   "id": "864a89bf-0206-472f-a51f-578362ca6b38",
   "metadata": {},
   "outputs": [
    {
     "data": {
      "text/plain": [
       "'foobar'"
      ]
     },
     "execution_count": 12,
     "metadata": {},
     "output_type": "execute_result"
    }
   ],
   "source": [
    "\"foobar\""
   ]
  },
  {
   "cell_type": "code",
   "execution_count": 13,
   "id": "bc53d7f5-fe7b-4374-bea5-6cd80f7896a7",
   "metadata": {},
   "outputs": [
    {
     "data": {
      "text/plain": [
       "\"It's me\""
      ]
     },
     "execution_count": 13,
     "metadata": {},
     "output_type": "execute_result"
    }
   ],
   "source": [
    "\"It's me\""
   ]
  },
  {
   "cell_type": "code",
   "execution_count": 14,
   "id": "07811185-8c53-4e43-8d20-74e422471542",
   "metadata": {},
   "outputs": [
    {
     "data": {
      "text/plain": [
       "'123'"
      ]
     },
     "execution_count": 14,
     "metadata": {},
     "output_type": "execute_result"
    }
   ],
   "source": [
    "\"123\""
   ]
  },
  {
   "cell_type": "code",
   "execution_count": 15,
   "id": "c6e0b6f9-0a73-42b8-b7d7-40fdf05b7d23",
   "metadata": {},
   "outputs": [],
   "source": [
    "text = \"Hello 'single' quotes and \\\"double\\\" quotes\""
   ]
  },
  {
   "cell_type": "code",
   "execution_count": 17,
   "id": "2b49a2d8-63d2-4bde-aa00-1f376381d515",
   "metadata": {},
   "outputs": [
    {
     "name": "stdout",
     "output_type": "stream",
     "text": [
      "Hello 'single' quotes and \"double\" quotes\n"
     ]
    }
   ],
   "source": [
    "print(text)"
   ]
  },
  {
   "cell_type": "code",
   "execution_count": 18,
   "id": "97c05c9b-399e-48f4-a7d5-39808a903ba0",
   "metadata": {},
   "outputs": [
    {
     "data": {
      "text/plain": [
       "'Hello \\'single\\' quotes and \"double\" quotes'"
      ]
     },
     "execution_count": 18,
     "metadata": {},
     "output_type": "execute_result"
    }
   ],
   "source": [
    "text"
   ]
  },
  {
   "cell_type": "code",
   "execution_count": 19,
   "id": "d24e28d7-9ca4-4580-b0da-be49aaea1b6c",
   "metadata": {},
   "outputs": [],
   "source": [
    "text = '''Hello 'single' quotes and \"double\" quotes'''"
   ]
  },
  {
   "cell_type": "code",
   "execution_count": 20,
   "id": "2b1dfedd-dde3-4305-a300-2ba03ba9449e",
   "metadata": {},
   "outputs": [
    {
     "data": {
      "text/plain": [
       "'Hello \\'single\\' quotes and \"double\" quotes'"
      ]
     },
     "execution_count": 20,
     "metadata": {},
     "output_type": "execute_result"
    }
   ],
   "source": [
    "text"
   ]
  },
  {
   "cell_type": "code",
   "execution_count": 21,
   "id": "9926b86b-6150-4a96-9ade-0a574494f150",
   "metadata": {},
   "outputs": [],
   "source": [
    "text = \"\"\"Triple single quotes: '''\"\"\""
   ]
  },
  {
   "cell_type": "code",
   "execution_count": 22,
   "id": "1ef5c659-57eb-4012-bbf1-4898d9608b22",
   "metadata": {},
   "outputs": [
    {
     "data": {
      "text/plain": [
       "\"Triple single quotes: '''\""
      ]
     },
     "execution_count": 22,
     "metadata": {},
     "output_type": "execute_result"
    }
   ],
   "source": [
    "text"
   ]
  },
  {
   "cell_type": "code",
   "execution_count": 23,
   "id": "bc74d031-408b-432d-85ce-5f9b86d65e5d",
   "metadata": {},
   "outputs": [
    {
     "data": {
      "text/plain": [
       "579"
      ]
     },
     "execution_count": 23,
     "metadata": {},
     "output_type": "execute_result"
    }
   ],
   "source": [
    "123 + 456"
   ]
  },
  {
   "cell_type": "code",
   "execution_count": 24,
   "id": "b4db88ef-49e0-4b00-9bfa-447df11e912b",
   "metadata": {},
   "outputs": [
    {
     "data": {
      "text/plain": [
       "150"
      ]
     },
     "execution_count": 24,
     "metadata": {},
     "output_type": "execute_result"
    }
   ],
   "source": [
    "200 - 50"
   ]
  },
  {
   "cell_type": "code",
   "execution_count": 25,
   "id": "09164415-afe4-47ab-b405-055d5ab426e8",
   "metadata": {},
   "outputs": [
    {
     "data": {
      "text/plain": [
       "35"
      ]
     },
     "execution_count": 25,
     "metadata": {},
     "output_type": "execute_result"
    }
   ],
   "source": [
    "5 * 7"
   ]
  },
  {
   "cell_type": "code",
   "execution_count": 26,
   "id": "22650f03-27dc-408c-a9bc-e31b86bff1a2",
   "metadata": {},
   "outputs": [
    {
     "data": {
      "text/plain": [
       "5.0"
      ]
     },
     "execution_count": 26,
     "metadata": {},
     "output_type": "execute_result"
    }
   ],
   "source": [
    "10 / 2"
   ]
  },
  {
   "cell_type": "code",
   "execution_count": 27,
   "id": "376387f4-bea1-4d70-b09f-906dfcd96394",
   "metadata": {},
   "outputs": [
    {
     "data": {
      "text/plain": [
       "2.5"
      ]
     },
     "execution_count": 27,
     "metadata": {},
     "output_type": "execute_result"
    }
   ],
   "source": [
    "10 / 4"
   ]
  },
  {
   "cell_type": "code",
   "execution_count": 28,
   "id": "32e42672-e56e-478b-aa04-795e34a79458",
   "metadata": {},
   "outputs": [
    {
     "name": "stdout",
     "output_type": "stream",
     "text": [
      "<class 'float'>\n"
     ]
    }
   ],
   "source": [
    "print(type(2/ 1))"
   ]
  },
  {
   "cell_type": "code",
   "execution_count": 29,
   "id": "3f1a3960-631c-41de-848c-39d29342c6c1",
   "metadata": {},
   "outputs": [
    {
     "data": {
      "text/plain": [
       "2.0"
      ]
     },
     "execution_count": 29,
     "metadata": {},
     "output_type": "execute_result"
    }
   ],
   "source": [
    "2 / 1"
   ]
  },
  {
   "cell_type": "code",
   "execution_count": 30,
   "id": "e4266266-9dee-4473-bc73-a87828a96ce7",
   "metadata": {},
   "outputs": [
    {
     "data": {
      "text/plain": [
       "3.9"
      ]
     },
     "execution_count": 30,
     "metadata": {},
     "output_type": "execute_result"
    }
   ],
   "source": [
    "1.5 + 2.4"
   ]
  },
  {
   "cell_type": "code",
   "execution_count": 31,
   "id": "2ce857bd-9e01-4921-8266-3ddb92dfeaf2",
   "metadata": {},
   "outputs": [
    {
     "data": {
      "text/plain": [
       "2.5"
      ]
     },
     "execution_count": 31,
     "metadata": {},
     "output_type": "execute_result"
    }
   ],
   "source": [
    "1.5 + 1"
   ]
  },
  {
   "cell_type": "code",
   "execution_count": 32,
   "id": "de4be2e9-40c5-4d3c-9a20-18484d60fef0",
   "metadata": {},
   "outputs": [
    {
     "data": {
      "text/plain": [
       "3.0"
      ]
     },
     "execution_count": 32,
     "metadata": {},
     "output_type": "execute_result"
    }
   ],
   "source": [
    "1.0 + 2"
   ]
  },
  {
   "cell_type": "code",
   "execution_count": 33,
   "id": "e45617e8-3afe-42c8-b2f4-6968b5d7cf22",
   "metadata": {},
   "outputs": [
    {
     "data": {
      "text/plain": [
       "0.5"
      ]
     },
     "execution_count": 33,
     "metadata": {},
     "output_type": "execute_result"
    }
   ],
   "source": [
    "0.1 + 0.4"
   ]
  },
  {
   "cell_type": "code",
   "execution_count": 34,
   "id": "af7ed1ad-044d-4b5c-9d62-2eae2961ca7f",
   "metadata": {},
   "outputs": [
    {
     "data": {
      "text/plain": [
       "0.30000000000000004"
      ]
     },
     "execution_count": 34,
     "metadata": {},
     "output_type": "execute_result"
    }
   ],
   "source": [
    "0.1 + 0.2"
   ]
  },
  {
   "cell_type": "code",
   "execution_count": 35,
   "id": "c009b0ec-cf0b-4925-9a17-883e43148cef",
   "metadata": {},
   "outputs": [
    {
     "data": {
      "text/plain": [
       "False"
      ]
     },
     "execution_count": 35,
     "metadata": {},
     "output_type": "execute_result"
    }
   ],
   "source": [
    "1 == 2"
   ]
  },
  {
   "cell_type": "code",
   "execution_count": 36,
   "id": "f1a3857d-d278-4a5b-8f38-1b0f84ca3df6",
   "metadata": {},
   "outputs": [
    {
     "data": {
      "text/plain": [
       "True"
      ]
     },
     "execution_count": 36,
     "metadata": {},
     "output_type": "execute_result"
    }
   ],
   "source": [
    "1 == 1"
   ]
  },
  {
   "cell_type": "code",
   "execution_count": 37,
   "id": "739c0af4-a43e-49d8-b6ca-5e1cd754845a",
   "metadata": {},
   "outputs": [
    {
     "data": {
      "text/plain": [
       "False"
      ]
     },
     "execution_count": 37,
     "metadata": {},
     "output_type": "execute_result"
    }
   ],
   "source": [
    "0.3 == 0.1 + 0.2"
   ]
  },
  {
   "cell_type": "code",
   "execution_count": 38,
   "id": "a39c2210-28ae-4b0b-8afa-8cfcb262d5fa",
   "metadata": {},
   "outputs": [
    {
     "data": {
      "text/plain": [
       "3"
      ]
     },
     "execution_count": 38,
     "metadata": {},
     "output_type": "execute_result"
    }
   ],
   "source": [
    "1 + 2"
   ]
  },
  {
   "cell_type": "code",
   "execution_count": 39,
   "id": "1ff3e2d8-5e74-4d89-8d6b-e21d227cd551",
   "metadata": {},
   "outputs": [
    {
     "data": {
      "text/plain": [
       "0.2"
      ]
     },
     "execution_count": 39,
     "metadata": {},
     "output_type": "execute_result"
    }
   ],
   "source": [
    "0.1 + 0.1"
   ]
  },
  {
   "cell_type": "code",
   "execution_count": 40,
   "id": "e8e8cc96-9f3a-45ec-81db-3a7e7d01041a",
   "metadata": {},
   "outputs": [
    {
     "data": {
      "text/plain": [
       "False"
      ]
     },
     "execution_count": 40,
     "metadata": {},
     "output_type": "execute_result"
    }
   ],
   "source": [
    "\"123\" == 123"
   ]
  },
  {
   "cell_type": "code",
   "execution_count": 41,
   "id": "4a923172-2034-4774-93ce-3b398dcf1e70",
   "metadata": {},
   "outputs": [
    {
     "data": {
      "text/plain": [
       "True"
      ]
     },
     "execution_count": 41,
     "metadata": {},
     "output_type": "execute_result"
    }
   ],
   "source": [
    "\"123\" != 123"
   ]
  },
  {
   "cell_type": "code",
   "execution_count": 42,
   "id": "1ef5d304-8c41-45f7-a634-889385542bca",
   "metadata": {},
   "outputs": [],
   "source": [
    "number = 42"
   ]
  },
  {
   "cell_type": "code",
   "execution_count": 43,
   "id": "83b348f6-270d-4b5d-be99-8c3d31e0c4ab",
   "metadata": {},
   "outputs": [
    {
     "name": "stdout",
     "output_type": "stream",
     "text": [
      "<class 'int'>\n"
     ]
    }
   ],
   "source": [
    "print(type(number))"
   ]
  },
  {
   "cell_type": "code",
   "execution_count": 44,
   "id": "723fab0e-68c0-43f8-887b-b39745d40086",
   "metadata": {},
   "outputs": [
    {
     "name": "stdout",
     "output_type": "stream",
     "text": [
      "True\n"
     ]
    }
   ],
   "source": [
    "print(isinstance(number, int))"
   ]
  },
  {
   "cell_type": "code",
   "execution_count": 45,
   "id": "d4e85d79-5b7f-48be-ae95-203b7957a5ef",
   "metadata": {},
   "outputs": [
    {
     "name": "stdout",
     "output_type": "stream",
     "text": [
      "False\n"
     ]
    }
   ],
   "source": [
    "print(isinstance(text, int))"
   ]
  },
  {
   "cell_type": "code",
   "execution_count": 46,
   "id": "e98e0e48-c509-446b-8b57-ce79f07fe645",
   "metadata": {},
   "outputs": [
    {
     "name": "stdout",
     "output_type": "stream",
     "text": [
      "True\n"
     ]
    }
   ],
   "source": [
    "print(isinstance(text, str))"
   ]
  },
  {
   "cell_type": "code",
   "execution_count": 47,
   "id": "d41c370a-4ad4-4db8-873c-f4a04946f475",
   "metadata": {},
   "outputs": [],
   "source": [
    "number = 1.5"
   ]
  },
  {
   "cell_type": "code",
   "execution_count": 48,
   "id": "1e68c65e-50d2-447f-9e72-c443a5ea529c",
   "metadata": {},
   "outputs": [
    {
     "data": {
      "text/plain": [
       "1.5"
      ]
     },
     "execution_count": 48,
     "metadata": {},
     "output_type": "execute_result"
    }
   ],
   "source": [
    "number"
   ]
  },
  {
   "cell_type": "code",
   "execution_count": 49,
   "id": "55f360ee-0fa0-4154-abf9-2aed43920e57",
   "metadata": {},
   "outputs": [
    {
     "name": "stdout",
     "output_type": "stream",
     "text": [
      "<class 'float'>\n"
     ]
    }
   ],
   "source": [
    "print(type(number))"
   ]
  },
  {
   "cell_type": "code",
   "execution_count": 50,
   "id": "c071d206-a636-4a64-bffa-1756e8f8c6eb",
   "metadata": {},
   "outputs": [
    {
     "name": "stdout",
     "output_type": "stream",
     "text": [
      "False\n"
     ]
    }
   ],
   "source": [
    "print(isinstance(text, int))"
   ]
  },
  {
   "cell_type": "code",
   "execution_count": 52,
   "id": "e4fba140-946a-4752-a1de-ac4ccb866d47",
   "metadata": {},
   "outputs": [
    {
     "name": "stdout",
     "output_type": "stream",
     "text": [
      "True\n"
     ]
    }
   ],
   "source": [
    "print(isinstance(number, float))"
   ]
  },
  {
   "cell_type": "code",
   "execution_count": 53,
   "id": "8fe99afa-570b-48a6-b620-71eb80542985",
   "metadata": {},
   "outputs": [
    {
     "name": "stdout",
     "output_type": "stream",
     "text": [
      "False\n"
     ]
    }
   ],
   "source": [
    "print(isinstance(number, int))"
   ]
  },
  {
   "cell_type": "code",
   "execution_count": 55,
   "id": "7046dfa1-56e3-4b0a-90db-c66a5be42789",
   "metadata": {},
   "outputs": [
    {
     "name": "stdout",
     "output_type": "stream",
     "text": [
      "True\n"
     ]
    }
   ],
   "source": [
    "print(isinstance(number, (int, float)))"
   ]
  },
  {
   "cell_type": "code",
   "execution_count": 56,
   "id": "9724a3f8-bc92-4313-a7ea-e628c9e4576d",
   "metadata": {},
   "outputs": [
    {
     "name": "stdout",
     "output_type": "stream",
     "text": [
      "True\n"
     ]
    }
   ],
   "source": [
    "print(isinstance(number, int | float))"
   ]
  },
  {
   "cell_type": "code",
   "execution_count": 57,
   "id": "81755243-3355-4af2-9281-42a68b398c1b",
   "metadata": {},
   "outputs": [
    {
     "name": "stdout",
     "output_type": "stream",
     "text": [
      "True\n"
     ]
    }
   ],
   "source": [
    "print(isinstance(number, int | float | bool))"
   ]
  },
  {
   "cell_type": "code",
   "execution_count": 58,
   "id": "f4dbe099-d94f-41e0-be26-adcf2ff3f5ce",
   "metadata": {},
   "outputs": [
    {
     "name": "stdout",
     "output_type": "stream",
     "text": [
      "True\n"
     ]
    }
   ],
   "source": [
    "print(isinstance(number, int | float | bool | str))"
   ]
  },
  {
   "cell_type": "code",
   "execution_count": 59,
   "id": "f8688b1a-624b-48b0-b39f-130093c03cca",
   "metadata": {},
   "outputs": [
    {
     "name": "stdout",
     "output_type": "stream",
     "text": [
      "True\n"
     ]
    }
   ],
   "source": [
    "print(isinstance(text, int | float | bool | str))"
   ]
  },
  {
   "cell_type": "code",
   "execution_count": 60,
   "id": "a02e271f-d713-4d86-9051-f63ff74a729c",
   "metadata": {},
   "outputs": [
    {
     "name": "stdout",
     "output_type": "stream",
     "text": [
      "False\n"
     ]
    }
   ],
   "source": [
    "print(isinstance(text, int | float | bool))"
   ]
  },
  {
   "cell_type": "code",
   "execution_count": 61,
   "id": "0987592b-92c6-4f91-9dc6-d87248dbe305",
   "metadata": {},
   "outputs": [
    {
     "name": "stdout",
     "output_type": "stream",
     "text": [
      "True\n"
     ]
    }
   ],
   "source": [
    "print(isinstance(False, int | float | bool))"
   ]
  },
  {
   "cell_type": "code",
   "execution_count": 62,
   "id": "1e54ac62-ed3d-426c-9c4c-9943263b9f5a",
   "metadata": {},
   "outputs": [
    {
     "name": "stdout",
     "output_type": "stream",
     "text": [
      "True\n"
     ]
    }
   ],
   "source": [
    "print(isinstance(False, bool))"
   ]
  },
  {
   "cell_type": "code",
   "execution_count": 63,
   "id": "7c6812f1-42d5-4399-aacc-13119b9fcc9b",
   "metadata": {},
   "outputs": [
    {
     "name": "stdout",
     "output_type": "stream",
     "text": [
      "True\n"
     ]
    }
   ],
   "source": [
    "print(isinstance(True, bool))"
   ]
  },
  {
   "cell_type": "code",
   "execution_count": 64,
   "id": "736b3571-b8d7-460b-af7d-c7bb2817c10f",
   "metadata": {},
   "outputs": [
    {
     "name": "stdout",
     "output_type": "stream",
     "text": [
      "True\n"
     ]
    }
   ],
   "source": [
    "print(isinstance(False, int))"
   ]
  },
  {
   "cell_type": "code",
   "execution_count": 65,
   "id": "6ef94f0d-0a3e-4bde-adc8-011c09a7006b",
   "metadata": {},
   "outputs": [
    {
     "data": {
      "text/plain": [
       "0"
      ]
     },
     "execution_count": 65,
     "metadata": {},
     "output_type": "execute_result"
    }
   ],
   "source": [
    "int(False)"
   ]
  },
  {
   "cell_type": "code",
   "execution_count": 66,
   "id": "2b99b3de-fe6e-4f70-8540-1106e7c3a26f",
   "metadata": {},
   "outputs": [
    {
     "data": {
      "text/plain": [
       "1"
      ]
     },
     "execution_count": 66,
     "metadata": {},
     "output_type": "execute_result"
    }
   ],
   "source": [
    "int(True)"
   ]
  },
  {
   "cell_type": "code",
   "execution_count": 67,
   "id": "32867872-ed21-427a-b3b5-f91f70c93d60",
   "metadata": {},
   "outputs": [
    {
     "data": {
      "text/plain": [
       "123"
      ]
     },
     "execution_count": 67,
     "metadata": {},
     "output_type": "execute_result"
    }
   ],
   "source": [
    "int(123)"
   ]
  },
  {
   "cell_type": "code",
   "execution_count": 68,
   "id": "c0d9bb5f-e509-40a1-99a2-7cf4aedebca4",
   "metadata": {},
   "outputs": [
    {
     "data": {
      "text/plain": [
       "2"
      ]
     },
     "execution_count": 68,
     "metadata": {},
     "output_type": "execute_result"
    }
   ],
   "source": [
    "int(2.5)"
   ]
  },
  {
   "cell_type": "code",
   "execution_count": 69,
   "id": "2d94e721-c784-4cc5-8991-7d43ccf7438b",
   "metadata": {},
   "outputs": [
    {
     "data": {
      "text/plain": [
       "123"
      ]
     },
     "execution_count": 69,
     "metadata": {},
     "output_type": "execute_result"
    }
   ],
   "source": [
    "int(\"123\")"
   ]
  },
  {
   "cell_type": "code",
   "execution_count": 70,
   "id": "81971353-f298-4af0-97c4-3ee87e928960",
   "metadata": {},
   "outputs": [
    {
     "data": {
      "text/plain": [
       "1"
      ]
     },
     "execution_count": 70,
     "metadata": {},
     "output_type": "execute_result"
    }
   ],
   "source": [
    "True + False"
   ]
  },
  {
   "cell_type": "code",
   "execution_count": 71,
   "id": "eff38642-2a89-4d28-abbc-788c8e5f1e3b",
   "metadata": {},
   "outputs": [
    {
     "data": {
      "text/plain": [
       "2"
      ]
     },
     "execution_count": 71,
     "metadata": {},
     "output_type": "execute_result"
    }
   ],
   "source": [
    "True + True"
   ]
  },
  {
   "cell_type": "code",
   "execution_count": 72,
   "id": "470eb921-24b2-49ff-9079-e5027016d35e",
   "metadata": {},
   "outputs": [
    {
     "data": {
      "text/plain": [
       "1"
      ]
     },
     "execution_count": 72,
     "metadata": {},
     "output_type": "execute_result"
    }
   ],
   "source": [
    "True + False + False"
   ]
  },
  {
   "cell_type": "code",
   "execution_count": 73,
   "id": "fc666b6d-a1ae-4bc8-b58c-b6d0e4dd0320",
   "metadata": {},
   "outputs": [
    {
     "data": {
      "text/plain": [
       "2"
      ]
     },
     "execution_count": 73,
     "metadata": {},
     "output_type": "execute_result"
    }
   ],
   "source": [
    "True + False + True"
   ]
  },
  {
   "cell_type": "code",
   "execution_count": 74,
   "id": "b177aa9d-8d39-4639-8269-e127fa29b3f4",
   "metadata": {},
   "outputs": [
    {
     "data": {
      "text/plain": [
       "0"
      ]
     },
     "execution_count": 74,
     "metadata": {},
     "output_type": "execute_result"
    }
   ],
   "source": [
    "False + False"
   ]
  },
  {
   "cell_type": "code",
   "execution_count": 75,
   "id": "fce5a870-0c0a-45ff-8842-ba140b8fa65f",
   "metadata": {},
   "outputs": [
    {
     "data": {
      "text/plain": [
       "1"
      ]
     },
     "execution_count": 75,
     "metadata": {},
     "output_type": "execute_result"
    }
   ],
   "source": [
    "False + True"
   ]
  },
  {
   "cell_type": "code",
   "execution_count": 76,
   "id": "e6643f44-3143-41a7-9bab-8f5a878e9764",
   "metadata": {},
   "outputs": [
    {
     "data": {
      "text/plain": [
       "2"
      ]
     },
     "execution_count": 76,
     "metadata": {},
     "output_type": "execute_result"
    }
   ],
   "source": [
    "True + True"
   ]
  },
  {
   "cell_type": "code",
   "execution_count": 77,
   "id": "2579140b-5bf9-48a4-b42c-d316d60ae70e",
   "metadata": {},
   "outputs": [
    {
     "data": {
      "text/plain": [
       "\"Triple single quotes: '''\""
      ]
     },
     "execution_count": 77,
     "metadata": {},
     "output_type": "execute_result"
    }
   ],
   "source": [
    "text"
   ]
  },
  {
   "cell_type": "code",
   "execution_count": 78,
   "id": "5a1c4f77-e734-425a-8677-f9fe6e81352d",
   "metadata": {},
   "outputs": [],
   "source": [
    "text = \"abc\""
   ]
  },
  {
   "cell_type": "code",
   "execution_count": 79,
   "id": "1d71a15a-6893-46ec-91a8-1c5f822b701e",
   "metadata": {},
   "outputs": [
    {
     "data": {
      "text/plain": [
       "1.5"
      ]
     },
     "execution_count": 79,
     "metadata": {},
     "output_type": "execute_result"
    }
   ],
   "source": [
    "number"
   ]
  },
  {
   "cell_type": "code",
   "execution_count": 80,
   "id": "318d707b-93ff-4f77-9d15-82578e15672a",
   "metadata": {},
   "outputs": [],
   "source": [
    "number = \"one\""
   ]
  },
  {
   "cell_type": "code",
   "execution_count": 81,
   "id": "d17eeac4-bdc4-4db9-8a53-3a9f5f633e45",
   "metadata": {},
   "outputs": [
    {
     "data": {
      "text/plain": [
       "'one'"
      ]
     },
     "execution_count": 81,
     "metadata": {},
     "output_type": "execute_result"
    }
   ],
   "source": [
    "number"
   ]
  },
  {
   "cell_type": "code",
   "execution_count": 82,
   "id": "5fd9ec48-7f9c-462f-a925-072d4aaa5c53",
   "metadata": {},
   "outputs": [
    {
     "data": {
      "text/plain": [
       "True"
      ]
     },
     "execution_count": 82,
     "metadata": {},
     "output_type": "execute_result"
    }
   ],
   "source": [
    "1 == True"
   ]
  },
  {
   "cell_type": "code",
   "execution_count": 83,
   "id": "9babafd1-6fbe-4fdc-b9d9-7ae5cdcba592",
   "metadata": {},
   "outputs": [
    {
     "data": {
      "text/plain": [
       "True"
      ]
     },
     "execution_count": 83,
     "metadata": {},
     "output_type": "execute_result"
    }
   ],
   "source": [
    "0 == False"
   ]
  },
  {
   "cell_type": "code",
   "execution_count": 84,
   "id": "06d20cf4-a429-45dc-8d53-1eaaa1dcfff7",
   "metadata": {},
   "outputs": [],
   "source": [
    "words = \"\"\"\n",
    "foo\n",
    "bar\n",
    "baz\n",
    "buz\n",
    "fizz\n",
    "buzz\n",
    "spam\n",
    "eggs\n",
    "\"\"\""
   ]
  },
  {
   "cell_type": "code",
   "execution_count": 85,
   "id": "71b72e76-588c-49ee-9ec3-1650ce8e00b2",
   "metadata": {},
   "outputs": [
    {
     "name": "stdout",
     "output_type": "stream",
     "text": [
      "\n",
      "foo\n",
      "bar\n",
      "baz\n",
      "buz\n",
      "fizz\n",
      "buzz\n",
      "spam\n",
      "eggs\n",
      "\n"
     ]
    }
   ],
   "source": [
    "print(words)"
   ]
  },
  {
   "cell_type": "code",
   "execution_count": 86,
   "id": "7f39a8de-35d8-49c4-b898-85c8cc064358",
   "metadata": {},
   "outputs": [
    {
     "data": {
      "text/plain": [
       "'\\nfoo\\nbar\\nbaz\\nbuz\\nfizz\\nbuzz\\nspam\\neggs\\n'"
      ]
     },
     "execution_count": 86,
     "metadata": {},
     "output_type": "execute_result"
    }
   ],
   "source": [
    "words"
   ]
  },
  {
   "cell_type": "code",
   "execution_count": 87,
   "id": "3e416a40-3447-4e30-a614-b1fadf139b53",
   "metadata": {},
   "outputs": [
    {
     "name": "stdout",
     "output_type": "stream",
     "text": [
      "a\n",
      "b\n"
     ]
    }
   ],
   "source": [
    "print(\"a\\nb\")"
   ]
  },
  {
   "cell_type": "code",
   "execution_count": 88,
   "id": "45a54311-a3aa-4883-861a-0abcf98eeaeb",
   "metadata": {},
   "outputs": [
    {
     "data": {
      "text/plain": [
       "1024"
      ]
     },
     "execution_count": 88,
     "metadata": {},
     "output_type": "execute_result"
    }
   ],
   "source": [
    "2**10"
   ]
  },
  {
   "cell_type": "code",
   "execution_count": 89,
   "id": "8a1825a3-72e6-48f8-8e4f-ca6a8f258567",
   "metadata": {},
   "outputs": [
    {
     "data": {
      "text/plain": [
       "16"
      ]
     },
     "execution_count": 89,
     "metadata": {},
     "output_type": "execute_result"
    }
   ],
   "source": [
    "2**4"
   ]
  },
  {
   "cell_type": "code",
   "execution_count": 90,
   "id": "34609161-348b-4db8-9671-843a2dd4e702",
   "metadata": {},
   "outputs": [
    {
     "data": {
      "text/plain": [
       "'foobarfoobarfoobar'"
      ]
     },
     "execution_count": 90,
     "metadata": {},
     "output_type": "execute_result"
    }
   ],
   "source": [
    "\"foobar\" * 3"
   ]
  },
  {
   "cell_type": "code",
   "execution_count": 91,
   "id": "94bb2501-90e0-415c-9709-7923f83ca07e",
   "metadata": {},
   "outputs": [
    {
     "data": {
      "text/plain": [
       "'helloworld'"
      ]
     },
     "execution_count": 91,
     "metadata": {},
     "output_type": "execute_result"
    }
   ],
   "source": [
    "\"hello\" + \"world\""
   ]
  },
  {
   "cell_type": "code",
   "execution_count": 92,
   "id": "c15c3da4-26ff-4d47-9722-f06ba00f3043",
   "metadata": {},
   "outputs": [
    {
     "data": {
      "text/plain": [
       "'hello world'"
      ]
     },
     "execution_count": 92,
     "metadata": {},
     "output_type": "execute_result"
    }
   ],
   "source": [
    "\"hello\" + \" \" + \"world\""
   ]
  },
  {
   "cell_type": "code",
   "execution_count": 93,
   "id": "33433426-aa00-4b54-aaef-807e58d939e8",
   "metadata": {},
   "outputs": [
    {
     "data": {
      "text/plain": [
       "'hello world'"
      ]
     },
     "execution_count": 93,
     "metadata": {},
     "output_type": "execute_result"
    }
   ],
   "source": [
    "\"hello\" + \" world\""
   ]
  },
  {
   "cell_type": "code",
   "execution_count": 94,
   "id": "b5896b98-9e36-40c7-a9ea-e58306772538",
   "metadata": {},
   "outputs": [
    {
     "data": {
      "text/plain": [
       "5"
      ]
     },
     "execution_count": 94,
     "metadata": {},
     "output_type": "execute_result"
    }
   ],
   "source": [
    "2 + 3"
   ]
  },
  {
   "cell_type": "code",
   "execution_count": 95,
   "id": "45d680e0-ecde-435a-b08b-d2d5a201434d",
   "metadata": {},
   "outputs": [
    {
     "data": {
      "text/plain": [
       "'hello '"
      ]
     },
     "execution_count": 95,
     "metadata": {},
     "output_type": "execute_result"
    }
   ],
   "source": [
    "\"hello\" + \" \""
   ]
  },
  {
   "cell_type": "code",
   "execution_count": 96,
   "id": "0fccc533-405b-4304-8e21-29251cb71a0c",
   "metadata": {},
   "outputs": [
    {
     "data": {
      "text/plain": [
       "'hello world'"
      ]
     },
     "execution_count": 96,
     "metadata": {},
     "output_type": "execute_result"
    }
   ],
   "source": [
    "'hello ' + \"world\""
   ]
  },
  {
   "cell_type": "code",
   "execution_count": 97,
   "id": "b1e5d02b-63b4-40e4-9dc4-f9052bd56d44",
   "metadata": {},
   "outputs": [
    {
     "data": {
      "text/plain": [
       "'one'"
      ]
     },
     "execution_count": 97,
     "metadata": {},
     "output_type": "execute_result"
    }
   ],
   "source": [
    "number"
   ]
  },
  {
   "cell_type": "code",
   "execution_count": 98,
   "id": "b8b021be-deb3-4013-810d-53113b48b728",
   "metadata": {},
   "outputs": [
    {
     "data": {
      "text/plain": [
       "'My number is one'"
      ]
     },
     "execution_count": 98,
     "metadata": {},
     "output_type": "execute_result"
    }
   ],
   "source": [
    "f\"My number is {number}\""
   ]
  },
  {
   "cell_type": "code",
   "execution_count": 99,
   "id": "60bb51c6-3750-47da-8b83-b3d1fe52986b",
   "metadata": {},
   "outputs": [
    {
     "data": {
      "text/plain": [
       "'My number is 3'"
      ]
     },
     "execution_count": 99,
     "metadata": {},
     "output_type": "execute_result"
    }
   ],
   "source": [
    "f\"My number is {1 + 2}\""
   ]
  },
  {
   "cell_type": "code",
   "execution_count": 100,
   "id": "d0556618-d4e2-474b-98ce-fcdc04dc349c",
   "metadata": {},
   "outputs": [
    {
     "data": {
      "text/plain": [
       "\"var number='one'\""
      ]
     },
     "execution_count": 100,
     "metadata": {},
     "output_type": "execute_result"
    }
   ],
   "source": [
    "f\"var {number=}\""
   ]
  },
  {
   "cell_type": "code",
   "execution_count": 101,
   "id": "50a2b002-e3c9-43d6-aa0d-3a1acb352a19",
   "metadata": {},
   "outputs": [
    {
     "data": {
      "text/plain": [
       "'one'"
      ]
     },
     "execution_count": 101,
     "metadata": {},
     "output_type": "execute_result"
    }
   ],
   "source": [
    "number"
   ]
  },
  {
   "cell_type": "code",
   "execution_count": 102,
   "id": "3f834308-f424-4244-a48a-ac96f43d25b8",
   "metadata": {},
   "outputs": [
    {
     "data": {
      "text/plain": [
       "6"
      ]
     },
     "execution_count": 102,
     "metadata": {},
     "output_type": "execute_result"
    }
   ],
   "source": [
    "2 + 2 * 2"
   ]
  },
  {
   "cell_type": "code",
   "execution_count": 103,
   "id": "f4291792-c01d-41e7-8b3d-a60824ca9d3f",
   "metadata": {},
   "outputs": [
    {
     "data": {
      "text/plain": [
       "8"
      ]
     },
     "execution_count": 103,
     "metadata": {},
     "output_type": "execute_result"
    }
   ],
   "source": [
    "(2 + 2) * 2"
   ]
  },
  {
   "cell_type": "code",
   "execution_count": 104,
   "id": "9a20e820-4579-4e61-850f-341609a016f9",
   "metadata": {},
   "outputs": [
    {
     "data": {
      "text/plain": [
       "2.5"
      ]
     },
     "execution_count": 104,
     "metadata": {},
     "output_type": "execute_result"
    }
   ],
   "source": [
    "10 / 4"
   ]
  },
  {
   "cell_type": "code",
   "execution_count": 105,
   "id": "f691125c-474d-4eaf-8351-e519386e3860",
   "metadata": {},
   "outputs": [
    {
     "data": {
      "text/plain": [
       "2"
      ]
     },
     "execution_count": 105,
     "metadata": {},
     "output_type": "execute_result"
    }
   ],
   "source": [
    "10 // 4"
   ]
  },
  {
   "cell_type": "code",
   "execution_count": 106,
   "id": "67827da8-e93e-42fe-92bc-23b61ab5ed3c",
   "metadata": {},
   "outputs": [
    {
     "data": {
      "text/plain": [
       "5"
      ]
     },
     "execution_count": 106,
     "metadata": {},
     "output_type": "execute_result"
    }
   ],
   "source": [
    "10 // 2"
   ]
  },
  {
   "cell_type": "code",
   "execution_count": 107,
   "id": "124fac14-b4f1-4e53-ba5a-0d93e2224bd1",
   "metadata": {},
   "outputs": [
    {
     "data": {
      "text/plain": [
       "3.3333333333333335"
      ]
     },
     "execution_count": 107,
     "metadata": {},
     "output_type": "execute_result"
    }
   ],
   "source": [
    "10 / 3"
   ]
  },
  {
   "cell_type": "code",
   "execution_count": 108,
   "id": "269199c2-33cd-4ebc-b64f-cdf854d65ce3",
   "metadata": {},
   "outputs": [
    {
     "data": {
      "text/plain": [
       "3"
      ]
     },
     "execution_count": 108,
     "metadata": {},
     "output_type": "execute_result"
    }
   ],
   "source": [
    "10 // 3"
   ]
  },
  {
   "cell_type": "code",
   "execution_count": 109,
   "id": "bd903029-97c3-4cee-aa02-6f4dc2d89899",
   "metadata": {},
   "outputs": [
    {
     "data": {
      "text/plain": [
       "1"
      ]
     },
     "execution_count": 109,
     "metadata": {},
     "output_type": "execute_result"
    }
   ],
   "source": [
    "10 % 3"
   ]
  },
  {
   "cell_type": "code",
   "execution_count": 110,
   "id": "11957a5f-14b1-48ca-9338-970783fa3303",
   "metadata": {},
   "outputs": [
    {
     "data": {
      "text/plain": [
       "1"
      ]
     },
     "execution_count": 110,
     "metadata": {},
     "output_type": "execute_result"
    }
   ],
   "source": [
    "13 % 3"
   ]
  },
  {
   "cell_type": "code",
   "execution_count": 111,
   "id": "986b9360-8e34-4997-b5ee-455d712b557e",
   "metadata": {},
   "outputs": [
    {
     "data": {
      "text/plain": [
       "4"
      ]
     },
     "execution_count": 111,
     "metadata": {},
     "output_type": "execute_result"
    }
   ],
   "source": [
    "13 // 3"
   ]
  },
  {
   "cell_type": "code",
   "execution_count": 112,
   "id": "2bf0a8f4-8aa6-4515-94f4-c0a7b70a6773",
   "metadata": {},
   "outputs": [
    {
     "data": {
      "text/plain": [
       "4"
      ]
     },
     "execution_count": 112,
     "metadata": {},
     "output_type": "execute_result"
    }
   ],
   "source": [
    "14 // 3"
   ]
  },
  {
   "cell_type": "code",
   "execution_count": 113,
   "id": "a145381c-b4fd-4b2a-9592-3113a3210a69",
   "metadata": {},
   "outputs": [
    {
     "data": {
      "text/plain": [
       "2"
      ]
     },
     "execution_count": 113,
     "metadata": {},
     "output_type": "execute_result"
    }
   ],
   "source": [
    "14 % 3"
   ]
  },
  {
   "cell_type": "code",
   "execution_count": 114,
   "id": "9d19b209-415d-46cf-9230-c34d543f4eaa",
   "metadata": {},
   "outputs": [
    {
     "data": {
      "text/plain": [
       "True"
      ]
     },
     "execution_count": 114,
     "metadata": {},
     "output_type": "execute_result"
    }
   ],
   "source": [
    "1 > 0"
   ]
  },
  {
   "cell_type": "code",
   "execution_count": 115,
   "id": "bc58028f-917f-45a2-9a48-d36f7e5bcdca",
   "metadata": {},
   "outputs": [
    {
     "data": {
      "text/plain": [
       "False"
      ]
     },
     "execution_count": 115,
     "metadata": {},
     "output_type": "execute_result"
    }
   ],
   "source": [
    "2 > 2"
   ]
  },
  {
   "cell_type": "code",
   "execution_count": 116,
   "id": "e62d6a0c-69d7-4122-8a6a-eb30fa63e35b",
   "metadata": {},
   "outputs": [
    {
     "data": {
      "text/plain": [
       "True"
      ]
     },
     "execution_count": 116,
     "metadata": {},
     "output_type": "execute_result"
    }
   ],
   "source": [
    "2 >= 2"
   ]
  },
  {
   "cell_type": "code",
   "execution_count": 117,
   "id": "d9285648-18a0-419b-a019-d16cf2874988",
   "metadata": {},
   "outputs": [
    {
     "data": {
      "text/plain": [
       "True"
      ]
     },
     "execution_count": 117,
     "metadata": {},
     "output_type": "execute_result"
    }
   ],
   "source": [
    "3 >= 2"
   ]
  },
  {
   "cell_type": "code",
   "execution_count": 118,
   "id": "860c4792-6371-480c-90a2-8d05f4be5c5f",
   "metadata": {},
   "outputs": [
    {
     "data": {
      "text/plain": [
       "True"
      ]
     },
     "execution_count": 118,
     "metadata": {},
     "output_type": "execute_result"
    }
   ],
   "source": [
    "2 <= 3"
   ]
  },
  {
   "cell_type": "code",
   "execution_count": 119,
   "id": "c5c2e16f-be58-4a52-a12e-3c59896ae6f6",
   "metadata": {},
   "outputs": [
    {
     "data": {
      "text/plain": [
       "True"
      ]
     },
     "execution_count": 119,
     "metadata": {},
     "output_type": "execute_result"
    }
   ],
   "source": [
    "2 <= 2"
   ]
  },
  {
   "cell_type": "code",
   "execution_count": 120,
   "id": "4d62e83c-7d45-4949-9cba-70727ae2eab3",
   "metadata": {},
   "outputs": [
    {
     "data": {
      "text/plain": [
       "False"
      ]
     },
     "execution_count": 120,
     "metadata": {},
     "output_type": "execute_result"
    }
   ],
   "source": [
    "2 <= 1"
   ]
  },
  {
   "cell_type": "code",
   "execution_count": 121,
   "id": "59593a6d-db21-4d87-a15b-1dbfa045439d",
   "metadata": {},
   "outputs": [],
   "source": [
    "number = 5"
   ]
  },
  {
   "cell_type": "code",
   "execution_count": 122,
   "id": "c84e67de-6c89-4c09-a64c-048845156634",
   "metadata": {},
   "outputs": [
    {
     "data": {
      "text/plain": [
       "6"
      ]
     },
     "execution_count": 122,
     "metadata": {},
     "output_type": "execute_result"
    }
   ],
   "source": [
    "number + 1"
   ]
  },
  {
   "cell_type": "code",
   "execution_count": 123,
   "id": "f6b8f413-f82c-403d-92fe-4c42b461d0e4",
   "metadata": {},
   "outputs": [
    {
     "data": {
      "text/plain": [
       "5"
      ]
     },
     "execution_count": 123,
     "metadata": {},
     "output_type": "execute_result"
    }
   ],
   "source": [
    "number"
   ]
  },
  {
   "cell_type": "code",
   "execution_count": 124,
   "id": "c33f243c-cb33-426f-9466-0d0fa3c2a24d",
   "metadata": {},
   "outputs": [],
   "source": [
    "number = number + 1"
   ]
  },
  {
   "cell_type": "code",
   "execution_count": 125,
   "id": "a07d2a98-fff8-4381-8ef2-9be729ce15e9",
   "metadata": {},
   "outputs": [
    {
     "data": {
      "text/plain": [
       "6"
      ]
     },
     "execution_count": 125,
     "metadata": {},
     "output_type": "execute_result"
    }
   ],
   "source": [
    "number"
   ]
  },
  {
   "cell_type": "code",
   "execution_count": 126,
   "id": "d123eda8-43a6-42a7-b58f-e390d1e7400c",
   "metadata": {},
   "outputs": [],
   "source": [
    "number += 1"
   ]
  },
  {
   "cell_type": "code",
   "execution_count": 127,
   "id": "9772f5dd-10d8-4846-81c3-b95f76afaa3c",
   "metadata": {},
   "outputs": [
    {
     "data": {
      "text/plain": [
       "7"
      ]
     },
     "execution_count": 127,
     "metadata": {},
     "output_type": "execute_result"
    }
   ],
   "source": [
    "number"
   ]
  },
  {
   "cell_type": "code",
   "execution_count": 128,
   "id": "11397ed2-cde6-4794-af88-99b4df1533f0",
   "metadata": {},
   "outputs": [],
   "source": [
    "number -= 2"
   ]
  },
  {
   "cell_type": "code",
   "execution_count": 129,
   "id": "de372119-52fc-4088-ae99-0e5b7ec7260f",
   "metadata": {},
   "outputs": [
    {
     "data": {
      "text/plain": [
       "5"
      ]
     },
     "execution_count": 129,
     "metadata": {},
     "output_type": "execute_result"
    }
   ],
   "source": [
    "number"
   ]
  },
  {
   "cell_type": "code",
   "execution_count": 130,
   "id": "c37c7b5d-b25f-4610-b898-1745b2e1a1fa",
   "metadata": {},
   "outputs": [],
   "source": [
    "number *= 2"
   ]
  },
  {
   "cell_type": "code",
   "execution_count": 131,
   "id": "cfe8af53-51c4-4185-ade0-fa68a3ca39f7",
   "metadata": {},
   "outputs": [
    {
     "data": {
      "text/plain": [
       "10"
      ]
     },
     "execution_count": 131,
     "metadata": {},
     "output_type": "execute_result"
    }
   ],
   "source": [
    "number"
   ]
  },
  {
   "cell_type": "code",
   "execution_count": 132,
   "id": "31796704-60e2-49cc-8027-25943922ab82",
   "metadata": {},
   "outputs": [],
   "source": [
    "number //=4"
   ]
  },
  {
   "cell_type": "code",
   "execution_count": 133,
   "id": "e0cca4c9-e3b7-4e46-b8fb-213eb874f2d6",
   "metadata": {},
   "outputs": [
    {
     "data": {
      "text/plain": [
       "2"
      ]
     },
     "execution_count": 133,
     "metadata": {},
     "output_type": "execute_result"
    }
   ],
   "source": [
    "number"
   ]
  },
  {
   "cell_type": "code",
   "execution_count": 134,
   "id": "9f094568-be25-4bac-a97d-6238d759a246",
   "metadata": {},
   "outputs": [],
   "source": [
    "number *= 3.5"
   ]
  },
  {
   "cell_type": "code",
   "execution_count": 135,
   "id": "2b0e3474-a6ca-46a7-905e-878066283a71",
   "metadata": {},
   "outputs": [
    {
     "data": {
      "text/plain": [
       "7.0"
      ]
     },
     "execution_count": 135,
     "metadata": {},
     "output_type": "execute_result"
    }
   ],
   "source": [
    "number"
   ]
  },
  {
   "cell_type": "code",
   "execution_count": 136,
   "id": "55d6eeab-aa59-4dfd-801a-e283251b93e1",
   "metadata": {},
   "outputs": [],
   "source": [
    "number %= 2"
   ]
  },
  {
   "cell_type": "code",
   "execution_count": 137,
   "id": "3b618ded-0247-4f59-a65c-c8f138c46fac",
   "metadata": {},
   "outputs": [
    {
     "data": {
      "text/plain": [
       "1.0"
      ]
     },
     "execution_count": 137,
     "metadata": {},
     "output_type": "execute_result"
    }
   ],
   "source": [
    "number"
   ]
  },
  {
   "cell_type": "code",
   "execution_count": 138,
   "id": "aa96aee3-4b0a-49d1-b307-553bcf8b2a18",
   "metadata": {},
   "outputs": [
    {
     "data": {
      "text/plain": [
       "123"
      ]
     },
     "execution_count": 138,
     "metadata": {},
     "output_type": "execute_result"
    }
   ],
   "source": [
    "int(\"123\")"
   ]
  },
  {
   "cell_type": "code",
   "execution_count": 139,
   "id": "1f3d8e21-20b0-4576-a8a6-e31da641f842",
   "metadata": {},
   "outputs": [
    {
     "data": {
      "text/plain": [
       "6"
      ]
     },
     "execution_count": 139,
     "metadata": {},
     "output_type": "execute_result"
    }
   ],
   "source": [
    "int(\"4\") + 2"
   ]
  },
  {
   "cell_type": "code",
   "execution_count": 140,
   "id": "6f4e8aa7-6832-40c3-9955-9f30c4d4ef5e",
   "metadata": {},
   "outputs": [
    {
     "data": {
      "text/plain": [
       "'1.0'"
      ]
     },
     "execution_count": 140,
     "metadata": {},
     "output_type": "execute_result"
    }
   ],
   "source": [
    "str(number)"
   ]
  },
  {
   "cell_type": "code",
   "execution_count": 141,
   "id": "ff6a6706-ccdc-4fe7-ba9e-5de1034f107a",
   "metadata": {},
   "outputs": [
    {
     "data": {
      "text/plain": [
       "1.5"
      ]
     },
     "execution_count": 141,
     "metadata": {},
     "output_type": "execute_result"
    }
   ],
   "source": [
    "float(\"1.5\")"
   ]
  },
  {
   "cell_type": "code",
   "execution_count": 142,
   "id": "b9a183b1-fcd2-4981-b7fd-95383b5dc7e3",
   "metadata": {},
   "outputs": [
    {
     "data": {
      "text/plain": [
       "'1.0'"
      ]
     },
     "execution_count": 142,
     "metadata": {},
     "output_type": "execute_result"
    }
   ],
   "source": [
    "str(number)"
   ]
  },
  {
   "cell_type": "code",
   "execution_count": 143,
   "id": "7df21a87-0871-4588-985e-4204942d2b94",
   "metadata": {},
   "outputs": [
    {
     "data": {
      "text/plain": [
       "'1.0'"
      ]
     },
     "execution_count": 143,
     "metadata": {},
     "output_type": "execute_result"
    }
   ],
   "source": [
    "f\"{number}\""
   ]
  },
  {
   "cell_type": "code",
   "execution_count": 144,
   "id": "1d8bb0ab-43ed-4bfe-8ede-42cdc1460bc5",
   "metadata": {},
   "outputs": [
    {
     "data": {
      "text/plain": [
       "5.0"
      ]
     },
     "execution_count": 144,
     "metadata": {},
     "output_type": "execute_result"
    }
   ],
   "source": [
    "10.5 // 2"
   ]
  }
 ],
 "metadata": {
  "kernelspec": {
   "display_name": "Python 3 (ipykernel)",
   "language": "python",
   "name": "python3"
  },
  "language_info": {
   "codemirror_mode": {
    "name": "ipython",
    "version": 3
   },
   "file_extension": ".py",
   "mimetype": "text/x-python",
   "name": "python",
   "nbconvert_exporter": "python",
   "pygments_lexer": "ipython3",
   "version": "3.12.3"
  }
 },
 "nbformat": 4,
 "nbformat_minor": 5
}
