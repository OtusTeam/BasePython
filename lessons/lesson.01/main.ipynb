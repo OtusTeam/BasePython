{
 "cells": [
  {
   "cell_type": "code",
   "execution_count": 1,
   "id": "714a8419-68c1-4ac5-a73d-053f8f88c17c",
   "metadata": {},
   "outputs": [
    {
     "name": "stdout",
     "output_type": "stream",
     "text": [
      "Hello World!\n"
     ]
    }
   ],
   "source": [
    "print(\"Hello World!\")"
   ]
  },
  {
   "cell_type": "code",
   "execution_count": 2,
   "id": "a91e416c-6f50-43f6-990b-7b3798478f21",
   "metadata": {},
   "outputs": [
    {
     "name": "stdout",
     "output_type": "stream",
     "text": [
      "Hellow World!\n"
     ]
    }
   ],
   "source": [
    "print('Hellow World!')"
   ]
  },
  {
   "cell_type": "code",
   "execution_count": 3,
   "id": "22f7bfe5-4f30-4ac0-96df-0d090523253b",
   "metadata": {},
   "outputs": [
    {
     "name": "stdout",
     "output_type": "stream",
     "text": [
      "123\n"
     ]
    }
   ],
   "source": [
    "print(123)"
   ]
  },
  {
   "cell_type": "code",
   "execution_count": 4,
   "id": "39a560b5-b1be-4578-9ef4-4651e4b9a4ce",
   "metadata": {},
   "outputs": [
    {
     "name": "stdout",
     "output_type": "stream",
     "text": [
      "abc\n"
     ]
    }
   ],
   "source": [
    "print(\"abc\")"
   ]
  },
  {
   "cell_type": "code",
   "execution_count": 5,
   "id": "3f4d6aeb-f4ab-4f75-a3a4-82f0cc99ab2e",
   "metadata": {},
   "outputs": [
    {
     "name": "stdout",
     "output_type": "stream",
     "text": [
      "123\n"
     ]
    }
   ],
   "source": [
    "print(\"123\")"
   ]
  },
  {
   "cell_type": "code",
   "execution_count": 6,
   "id": "c4d44596-e6be-4ab5-8b5e-3e7c35455825",
   "metadata": {},
   "outputs": [
    {
     "name": "stdout",
     "output_type": "stream",
     "text": [
      "123\n"
     ]
    }
   ],
   "source": [
    "print(123)"
   ]
  },
  {
   "cell_type": "code",
   "execution_count": 7,
   "id": "227c2da2-85db-4b6c-8058-73bc925426f3",
   "metadata": {},
   "outputs": [
    {
     "name": "stdout",
     "output_type": "stream",
     "text": [
      "hello'\n"
     ]
    }
   ],
   "source": [
    "print(\"hello'\")"
   ]
  },
  {
   "cell_type": "code",
   "execution_count": 8,
   "id": "f1e71183-ee55-4816-b7f4-1d26c3c251e3",
   "metadata": {},
   "outputs": [
    {
     "name": "stdout",
     "output_type": "stream",
     "text": [
      "Hello, it's me\n"
     ]
    }
   ],
   "source": [
    "print(\"Hello, it's me\")"
   ]
  },
  {
   "cell_type": "code",
   "execution_count": 9,
   "id": "76e6c16e-897f-45ea-8f88-398f819232e8",
   "metadata": {},
   "outputs": [
    {
     "name": "stdout",
     "output_type": "stream",
     "text": [
      "His nickname is \"super-john\"!\n"
     ]
    }
   ],
   "source": [
    "print('His nickname is \"super-john\"!')"
   ]
  },
  {
   "cell_type": "code",
   "execution_count": 10,
   "id": "1f91f41b-5cd0-4e28-89c3-418839503409",
   "metadata": {},
   "outputs": [
    {
     "name": "stdout",
     "output_type": "stream",
     "text": [
      "nickname is \"super-john\", it's me!\n"
     ]
    }
   ],
   "source": [
    "print('nickname is \"super-john\", it\\'s me!')"
   ]
  },
  {
   "cell_type": "code",
   "execution_count": 11,
   "id": "ed4c4417-8489-44db-9d91-dd86068b97b3",
   "metadata": {},
   "outputs": [
    {
     "name": "stdout",
     "output_type": "stream",
     "text": [
      "1\n"
     ]
    }
   ],
   "source": [
    "print(1)"
   ]
  },
  {
   "cell_type": "code",
   "execution_count": 12,
   "id": "2acd4c3b-237c-43dc-a929-d6dc55f0f69b",
   "metadata": {},
   "outputs": [
    {
     "name": "stdout",
     "output_type": "stream",
     "text": [
      "3\n"
     ]
    }
   ],
   "source": [
    "print(1 + 2)"
   ]
  },
  {
   "cell_type": "code",
   "execution_count": 13,
   "id": "63dc070e-e284-435e-b03e-0a9256c21a57",
   "metadata": {},
   "outputs": [
    {
     "data": {
      "text/plain": [
       "3"
      ]
     },
     "execution_count": 13,
     "metadata": {},
     "output_type": "execute_result"
    }
   ],
   "source": [
    "1 + 2"
   ]
  },
  {
   "cell_type": "code",
   "execution_count": 14,
   "id": "106db523-d829-4ea1-9742-abf5c0fe6aed",
   "metadata": {},
   "outputs": [
    {
     "data": {
      "text/plain": [
       "'Hello!'"
      ]
     },
     "execution_count": 14,
     "metadata": {},
     "output_type": "execute_result"
    }
   ],
   "source": [
    "\"Hello!\""
   ]
  },
  {
   "cell_type": "code",
   "execution_count": 15,
   "id": "b49a6c08-de67-4471-87a3-933c003a6124",
   "metadata": {},
   "outputs": [
    {
     "data": {
      "text/plain": [
       "\"it's me\""
      ]
     },
     "execution_count": 15,
     "metadata": {},
     "output_type": "execute_result"
    }
   ],
   "source": [
    "'it\\'s me'"
   ]
  },
  {
   "cell_type": "code",
   "execution_count": 16,
   "id": "a0f26213-94e3-4e82-93cb-02a334643dc5",
   "metadata": {},
   "outputs": [
    {
     "data": {
      "text/plain": [
       "'nickname is \"super-john\", it\\'s me!'"
      ]
     },
     "execution_count": 16,
     "metadata": {},
     "output_type": "execute_result"
    }
   ],
   "source": [
    "'nickname is \"super-john\", it\\'s me!'"
   ]
  },
  {
   "cell_type": "code",
   "execution_count": 17,
   "id": "03f42e2d-79ee-4a7f-b09c-5828b4b401b0",
   "metadata": {},
   "outputs": [
    {
     "data": {
      "text/plain": [
       "123"
      ]
     },
     "execution_count": 17,
     "metadata": {},
     "output_type": "execute_result"
    }
   ],
   "source": [
    "123"
   ]
  },
  {
   "cell_type": "code",
   "execution_count": 18,
   "id": "d06270e2-782e-4a05-8210-6a6133fac6e1",
   "metadata": {},
   "outputs": [
    {
     "data": {
      "text/plain": [
       "'123'"
      ]
     },
     "execution_count": 18,
     "metadata": {},
     "output_type": "execute_result"
    }
   ],
   "source": [
    "'123'"
   ]
  },
  {
   "cell_type": "code",
   "execution_count": 19,
   "id": "6278408b-466b-4a96-b029-c01bb436f83b",
   "metadata": {},
   "outputs": [
    {
     "data": {
      "text/plain": [
       "142"
      ]
     },
     "execution_count": 19,
     "metadata": {},
     "output_type": "execute_result"
    }
   ],
   "source": [
    "42 + 100"
   ]
  },
  {
   "cell_type": "code",
   "execution_count": 20,
   "id": "6576843d-4de9-4824-adfa-31f5fd97e8c2",
   "metadata": {},
   "outputs": [
    {
     "data": {
      "text/plain": [
       "'abcqwe'"
      ]
     },
     "execution_count": 20,
     "metadata": {},
     "output_type": "execute_result"
    }
   ],
   "source": [
    "\"abc\" + 'qwe'"
   ]
  },
  {
   "cell_type": "code",
   "execution_count": 21,
   "id": "adcef6ca-0913-4d7c-a16d-2cd59124b445",
   "metadata": {},
   "outputs": [
    {
     "data": {
      "text/plain": [
       "'helloworld'"
      ]
     },
     "execution_count": 21,
     "metadata": {},
     "output_type": "execute_result"
    }
   ],
   "source": [
    "'hello' + 'world'"
   ]
  },
  {
   "cell_type": "code",
   "execution_count": 22,
   "id": "26fd6c2b-7b27-464c-80c7-6443f19dc17c",
   "metadata": {},
   "outputs": [
    {
     "data": {
      "text/plain": [
       "'hello world'"
      ]
     },
     "execution_count": 22,
     "metadata": {},
     "output_type": "execute_result"
    }
   ],
   "source": [
    "'hello ' + 'world'"
   ]
  },
  {
   "cell_type": "code",
   "execution_count": 23,
   "id": "c35d3143-9f80-4574-90f7-ddee6e42489b",
   "metadata": {},
   "outputs": [
    {
     "data": {
      "text/plain": [
       "'hello  world'"
      ]
     },
     "execution_count": 23,
     "metadata": {},
     "output_type": "execute_result"
    }
   ],
   "source": [
    "'hello ' + ' world'"
   ]
  },
  {
   "cell_type": "code",
   "execution_count": 24,
   "id": "fe3bed2b-bf70-44a6-9a19-4f87ec717097",
   "metadata": {},
   "outputs": [
    {
     "data": {
      "text/plain": [
       "'hello world'"
      ]
     },
     "execution_count": 24,
     "metadata": {},
     "output_type": "execute_result"
    }
   ],
   "source": [
    "'hello' + ' ' + 'world'"
   ]
  },
  {
   "cell_type": "code",
   "execution_count": 25,
   "id": "dfc83612-a4a0-4200-a913-25c514412bd3",
   "metadata": {},
   "outputs": [
    {
     "name": "stdout",
     "output_type": "stream",
     "text": [
      "1\u0002 от числа\n"
     ]
    }
   ],
   "source": [
    "print(\"1\\2 от числа\")"
   ]
  },
  {
   "cell_type": "code",
   "execution_count": 26,
   "id": "8b50e09f-bf0a-48f4-9061-82f9f8c8b21f",
   "metadata": {},
   "outputs": [
    {
     "name": "stdout",
     "output_type": "stream",
     "text": [
      "1\\2 от числа\n"
     ]
    }
   ],
   "source": [
    "print(\"1\\\\2 от числа\")"
   ]
  },
  {
   "cell_type": "code",
   "execution_count": 27,
   "id": "e6f0ca1e-071e-4548-a9bf-0b47597632ea",
   "metadata": {},
   "outputs": [
    {
     "name": "stdout",
     "output_type": "stream",
     "text": [
      "1\\2 от числа\n"
     ]
    }
   ],
   "source": [
    "print(r'1\\2 от числа')"
   ]
  },
  {
   "cell_type": "code",
   "execution_count": 28,
   "id": "b1d5d919-1791-4691-9021-77975641ae75",
   "metadata": {},
   "outputs": [
    {
     "data": {
      "text/plain": [
       "3"
      ]
     },
     "execution_count": 28,
     "metadata": {},
     "output_type": "execute_result"
    }
   ],
   "source": [
    "1 + 2"
   ]
  },
  {
   "cell_type": "code",
   "execution_count": 29,
   "id": "5d28c94c-9991-45b4-aaa7-be98c133ef92",
   "metadata": {},
   "outputs": [
    {
     "data": {
      "text/plain": [
       "6"
      ]
     },
     "execution_count": 29,
     "metadata": {},
     "output_type": "execute_result"
    }
   ],
   "source": [
    "1 + 2 + 3"
   ]
  },
  {
   "cell_type": "code",
   "execution_count": 30,
   "id": "4f5b2c0e-793a-44a2-bd16-22d1bf587517",
   "metadata": {},
   "outputs": [],
   "source": [
    "number = 1 + 2"
   ]
  },
  {
   "cell_type": "code",
   "execution_count": 31,
   "id": "25ac9bb5-98d7-4ce7-8a80-aaa64eef3ef3",
   "metadata": {},
   "outputs": [
    {
     "data": {
      "text/plain": [
       "3"
      ]
     },
     "execution_count": 31,
     "metadata": {},
     "output_type": "execute_result"
    }
   ],
   "source": [
    "number"
   ]
  },
  {
   "cell_type": "code",
   "execution_count": 32,
   "id": "93325334-557b-466c-bac2-3990567c04ea",
   "metadata": {},
   "outputs": [],
   "source": [
    "number = \"one\""
   ]
  },
  {
   "cell_type": "code",
   "execution_count": 33,
   "id": "fedff6a9-047d-4b6c-b50f-c3e596774867",
   "metadata": {},
   "outputs": [
    {
     "data": {
      "text/plain": [
       "'one'"
      ]
     },
     "execution_count": 33,
     "metadata": {},
     "output_type": "execute_result"
    }
   ],
   "source": [
    "number"
   ]
  },
  {
   "cell_type": "code",
   "execution_count": 34,
   "id": "8e6cb795-41a8-4788-9534-50867e47cdf5",
   "metadata": {},
   "outputs": [],
   "source": [
    "number = 3"
   ]
  },
  {
   "cell_type": "code",
   "execution_count": 35,
   "id": "0127b947-1269-415a-b6a6-afc8869fc571",
   "metadata": {},
   "outputs": [
    {
     "data": {
      "text/plain": [
       "3"
      ]
     },
     "execution_count": 35,
     "metadata": {},
     "output_type": "execute_result"
    }
   ],
   "source": [
    "number"
   ]
  },
  {
   "cell_type": "code",
   "execution_count": 36,
   "id": "6d7db04a-ffdc-4857-b1fb-bdf03e7372d4",
   "metadata": {},
   "outputs": [
    {
     "data": {
      "text/plain": [
       "8"
      ]
     },
     "execution_count": 36,
     "metadata": {},
     "output_type": "execute_result"
    }
   ],
   "source": [
    "number + 5"
   ]
  },
  {
   "cell_type": "code",
   "execution_count": 37,
   "id": "60984ad4-3985-4eb1-aaae-86cd54ff6c7c",
   "metadata": {},
   "outputs": [
    {
     "data": {
      "text/plain": [
       "3"
      ]
     },
     "execution_count": 37,
     "metadata": {},
     "output_type": "execute_result"
    }
   ],
   "source": [
    "number"
   ]
  },
  {
   "cell_type": "code",
   "execution_count": 38,
   "id": "af3e7e68-8875-4ccc-a93d-a7616da85a15",
   "metadata": {},
   "outputs": [],
   "source": [
    "number = 3 + 5"
   ]
  },
  {
   "cell_type": "code",
   "execution_count": 39,
   "id": "c01200d7-3d5b-4962-9cca-a1143e26d2c6",
   "metadata": {},
   "outputs": [
    {
     "data": {
      "text/plain": [
       "8"
      ]
     },
     "execution_count": 39,
     "metadata": {},
     "output_type": "execute_result"
    }
   ],
   "source": [
    "number"
   ]
  },
  {
   "cell_type": "code",
   "execution_count": 40,
   "id": "29d9bd32-d8e9-4c90-8af4-d32a456ce99b",
   "metadata": {},
   "outputs": [],
   "source": [
    "number = number + 10"
   ]
  },
  {
   "cell_type": "code",
   "execution_count": 41,
   "id": "c2c79587-0b20-4382-86ed-bcbc7cac7b80",
   "metadata": {},
   "outputs": [
    {
     "data": {
      "text/plain": [
       "18"
      ]
     },
     "execution_count": 41,
     "metadata": {},
     "output_type": "execute_result"
    }
   ],
   "source": [
    "number"
   ]
  },
  {
   "cell_type": "code",
   "execution_count": 42,
   "id": "eb2e41f4-33d3-40a5-8fd4-e9eeeec6f26e",
   "metadata": {},
   "outputs": [],
   "source": [
    "number += 10"
   ]
  },
  {
   "cell_type": "code",
   "execution_count": 43,
   "id": "8e8ba615-8881-4975-ad13-5e5a71367415",
   "metadata": {},
   "outputs": [
    {
     "data": {
      "text/plain": [
       "28"
      ]
     },
     "execution_count": 43,
     "metadata": {},
     "output_type": "execute_result"
    }
   ],
   "source": [
    "number"
   ]
  },
  {
   "cell_type": "code",
   "execution_count": 44,
   "id": "b807bfc5-e289-4e03-9ca2-0f084df18a66",
   "metadata": {},
   "outputs": [
    {
     "data": {
      "text/plain": [
       "23"
      ]
     },
     "execution_count": 44,
     "metadata": {},
     "output_type": "execute_result"
    }
   ],
   "source": [
    "number - 5"
   ]
  },
  {
   "cell_type": "code",
   "execution_count": 45,
   "id": "134efced-cd5c-4acd-a68b-264b1d13f9bc",
   "metadata": {},
   "outputs": [
    {
     "data": {
      "text/plain": [
       "28"
      ]
     },
     "execution_count": 45,
     "metadata": {},
     "output_type": "execute_result"
    }
   ],
   "source": [
    "number"
   ]
  },
  {
   "cell_type": "code",
   "execution_count": 46,
   "id": "215c88a6-0b33-4c29-b668-f6d2867fa3f1",
   "metadata": {},
   "outputs": [],
   "source": [
    "number = number - 5"
   ]
  },
  {
   "cell_type": "code",
   "execution_count": 47,
   "id": "85a73226-539c-40be-8d22-debee002918c",
   "metadata": {},
   "outputs": [
    {
     "data": {
      "text/plain": [
       "23"
      ]
     },
     "execution_count": 47,
     "metadata": {},
     "output_type": "execute_result"
    }
   ],
   "source": [
    "number"
   ]
  },
  {
   "cell_type": "code",
   "execution_count": 48,
   "id": "6344a36e-718a-406f-b5d9-432f181d6075",
   "metadata": {},
   "outputs": [],
   "source": [
    "number -= 3"
   ]
  },
  {
   "cell_type": "code",
   "execution_count": 49,
   "id": "7d354afc-4bce-43b6-bdf7-7e8f9b373dfa",
   "metadata": {},
   "outputs": [
    {
     "data": {
      "text/plain": [
       "20"
      ]
     },
     "execution_count": 49,
     "metadata": {},
     "output_type": "execute_result"
    }
   ],
   "source": [
    "number"
   ]
  },
  {
   "cell_type": "code",
   "execution_count": 50,
   "id": "ca5e29fb-c05f-48c2-9bbb-0cd2c58750aa",
   "metadata": {},
   "outputs": [
    {
     "data": {
      "text/plain": [
       "15"
      ]
     },
     "execution_count": 50,
     "metadata": {},
     "output_type": "execute_result"
    }
   ],
   "source": [
    "3 * 5"
   ]
  },
  {
   "cell_type": "code",
   "execution_count": 51,
   "id": "5159b873-175d-43f1-af53-0eaae6aaebfc",
   "metadata": {},
   "outputs": [
    {
     "data": {
      "text/plain": [
       "8"
      ]
     },
     "execution_count": 51,
     "metadata": {},
     "output_type": "execute_result"
    }
   ],
   "source": [
    "2 ** 3"
   ]
  },
  {
   "cell_type": "code",
   "execution_count": 52,
   "id": "2b18209d-f434-49af-8d29-e0f1c3d1413b",
   "metadata": {},
   "outputs": [
    {
     "data": {
      "text/plain": [
       "2.5"
      ]
     },
     "execution_count": 52,
     "metadata": {},
     "output_type": "execute_result"
    }
   ],
   "source": [
    "5 / 2"
   ]
  },
  {
   "cell_type": "code",
   "execution_count": 53,
   "id": "c2b0a987-b116-4b0b-a604-0fa61cf3d161",
   "metadata": {},
   "outputs": [
    {
     "data": {
      "text/plain": [
       "5.0"
      ]
     },
     "execution_count": 53,
     "metadata": {},
     "output_type": "execute_result"
    }
   ],
   "source": [
    "10 / 2"
   ]
  },
  {
   "cell_type": "code",
   "execution_count": 54,
   "id": "1a1d8e36-abbe-488d-ad0f-807f17259b6f",
   "metadata": {},
   "outputs": [
    {
     "data": {
      "text/plain": [
       "'abcabcabc'"
      ]
     },
     "execution_count": 54,
     "metadata": {},
     "output_type": "execute_result"
    }
   ],
   "source": [
    "\"abc\" * 3"
   ]
  },
  {
   "cell_type": "code",
   "execution_count": 55,
   "id": "11a0b3aa-e173-4003-877c-84ccc54580c5",
   "metadata": {},
   "outputs": [
    {
     "data": {
      "text/plain": [
       "5"
      ]
     },
     "execution_count": 55,
     "metadata": {},
     "output_type": "execute_result"
    }
   ],
   "source": [
    "10 // 2"
   ]
  },
  {
   "cell_type": "code",
   "execution_count": 56,
   "id": "800395e6-6016-4002-85ce-2e69f2465758",
   "metadata": {},
   "outputs": [
    {
     "data": {
      "text/plain": [
       "2"
      ]
     },
     "execution_count": 56,
     "metadata": {},
     "output_type": "execute_result"
    }
   ],
   "source": [
    "5 // 2"
   ]
  },
  {
   "cell_type": "code",
   "execution_count": 57,
   "id": "b68d801a-d12d-43bb-8493-a3b9241d80c8",
   "metadata": {},
   "outputs": [
    {
     "data": {
      "text/plain": [
       "1"
      ]
     },
     "execution_count": 57,
     "metadata": {},
     "output_type": "execute_result"
    }
   ],
   "source": [
    "5 % 2"
   ]
  },
  {
   "cell_type": "code",
   "execution_count": 58,
   "id": "0dce6c15-ef45-4da1-8c14-1e2eff44f363",
   "metadata": {},
   "outputs": [
    {
     "data": {
      "text/plain": [
       "4.0"
      ]
     },
     "execution_count": 58,
     "metadata": {},
     "output_type": "execute_result"
    }
   ],
   "source": [
    "1.5 + 2.5"
   ]
  },
  {
   "cell_type": "code",
   "execution_count": 59,
   "id": "258179ed-5de8-4290-a141-f2a25ef2fe16",
   "metadata": {},
   "outputs": [
    {
     "data": {
      "text/plain": [
       "3.0999999999999996"
      ]
     },
     "execution_count": 59,
     "metadata": {},
     "output_type": "execute_result"
    }
   ],
   "source": [
    "1.4 + 1.7"
   ]
  },
  {
   "cell_type": "code",
   "execution_count": 60,
   "id": "ee833596-4fb9-4e64-94e5-d17b3aa18421",
   "metadata": {},
   "outputs": [
    {
     "data": {
      "text/plain": [
       "3.2"
      ]
     },
     "execution_count": 60,
     "metadata": {},
     "output_type": "execute_result"
    }
   ],
   "source": [
    "1.4 + 1.8"
   ]
  },
  {
   "cell_type": "code",
   "execution_count": 61,
   "id": "6529b813-3e5c-4616-b140-8a99272b0503",
   "metadata": {},
   "outputs": [
    {
     "data": {
      "text/plain": [
       "3"
      ]
     },
     "execution_count": 61,
     "metadata": {},
     "output_type": "execute_result"
    }
   ],
   "source": [
    "1 + 2"
   ]
  },
  {
   "cell_type": "code",
   "execution_count": 62,
   "id": "2c2bcc87-f5da-4935-ac1d-c6e6817b40dc",
   "metadata": {},
   "outputs": [
    {
     "data": {
      "text/plain": [
       "0.30000000000000004"
      ]
     },
     "execution_count": 62,
     "metadata": {},
     "output_type": "execute_result"
    }
   ],
   "source": [
    "0.1 + 0.2"
   ]
  },
  {
   "cell_type": "code",
   "execution_count": 63,
   "id": "71c2d9b0-115f-4097-8238-b3fcfaa6a07b",
   "metadata": {},
   "outputs": [
    {
     "data": {
      "text/plain": [
       "True"
      ]
     },
     "execution_count": 63,
     "metadata": {},
     "output_type": "execute_result"
    }
   ],
   "source": [
    "5 == 5.0"
   ]
  },
  {
   "cell_type": "code",
   "execution_count": 64,
   "id": "a6e7a223-4aa3-4736-9d9c-ae9a6ab604c4",
   "metadata": {},
   "outputs": [
    {
     "data": {
      "text/plain": [
       "False"
      ]
     },
     "execution_count": 64,
     "metadata": {},
     "output_type": "execute_result"
    }
   ],
   "source": [
    "0.3 == 0.1 + 0.2"
   ]
  },
  {
   "cell_type": "code",
   "execution_count": 65,
   "id": "6573098e-7d91-42c1-8073-409eeacd823c",
   "metadata": {},
   "outputs": [
    {
     "data": {
      "text/plain": [
       "0"
      ]
     },
     "execution_count": 65,
     "metadata": {},
     "output_type": "execute_result"
    }
   ],
   "source": [
    "round(0.1 + 0.2)"
   ]
  },
  {
   "cell_type": "code",
   "execution_count": 66,
   "id": "1cf4d867-5a87-4e92-aa90-47f26d593eb5",
   "metadata": {},
   "outputs": [
    {
     "data": {
      "text/plain": [
       "0.3"
      ]
     },
     "execution_count": 66,
     "metadata": {},
     "output_type": "execute_result"
    }
   ],
   "source": [
    "round(0.1 + 0.2, 2)"
   ]
  },
  {
   "cell_type": "code",
   "execution_count": 67,
   "id": "a02da579-461b-4703-a0a3-84d4c5645add",
   "metadata": {},
   "outputs": [
    {
     "data": {
      "text/plain": [
       "0.3"
      ]
     },
     "execution_count": 67,
     "metadata": {},
     "output_type": "execute_result"
    }
   ],
   "source": [
    "round(0.1 + 0.2, 1)"
   ]
  },
  {
   "cell_type": "code",
   "execution_count": 68,
   "id": "4683160f-310e-4a67-afb4-db4ce33da50b",
   "metadata": {},
   "outputs": [
    {
     "data": {
      "text/plain": [
       "True"
      ]
     },
     "execution_count": 68,
     "metadata": {},
     "output_type": "execute_result"
    }
   ],
   "source": [
    "1 == 1.0"
   ]
  },
  {
   "cell_type": "code",
   "execution_count": 69,
   "id": "2c54ae87-4b46-4b4d-897d-92167c137977",
   "metadata": {},
   "outputs": [
    {
     "data": {
      "text/plain": [
       "int"
      ]
     },
     "execution_count": 69,
     "metadata": {},
     "output_type": "execute_result"
    }
   ],
   "source": [
    "type(1)"
   ]
  },
  {
   "cell_type": "code",
   "execution_count": 70,
   "id": "611abb0b-5b4d-4fa6-b487-3101ef089acf",
   "metadata": {},
   "outputs": [
    {
     "name": "stdout",
     "output_type": "stream",
     "text": [
      "<class 'int'>\n"
     ]
    }
   ],
   "source": [
    "print(type(1))"
   ]
  },
  {
   "cell_type": "code",
   "execution_count": 71,
   "id": "bbaa40ca-5f9d-47ed-b104-a068bf2a6dc9",
   "metadata": {},
   "outputs": [
    {
     "name": "stdout",
     "output_type": "stream",
     "text": [
      "<class 'int'>\n"
     ]
    }
   ],
   "source": [
    "print(type(number))"
   ]
  },
  {
   "cell_type": "code",
   "execution_count": 72,
   "id": "c0d713ee-a191-4621-9fc9-07cc0c748fb6",
   "metadata": {},
   "outputs": [
    {
     "name": "stdout",
     "output_type": "stream",
     "text": [
      "<class 'float'>\n"
     ]
    }
   ],
   "source": [
    "print(type(0.1))"
   ]
  },
  {
   "cell_type": "code",
   "execution_count": 73,
   "id": "76add25b-6b63-468c-b425-c7baf4574e6d",
   "metadata": {},
   "outputs": [
    {
     "data": {
      "text/plain": [
       "False"
      ]
     },
     "execution_count": 73,
     "metadata": {},
     "output_type": "execute_result"
    }
   ],
   "source": [
    "2 > 3"
   ]
  },
  {
   "cell_type": "code",
   "execution_count": 74,
   "id": "766f6ace-884e-471b-96d4-8913cf8591e3",
   "metadata": {},
   "outputs": [
    {
     "data": {
      "text/plain": [
       "False"
      ]
     },
     "execution_count": 74,
     "metadata": {},
     "output_type": "execute_result"
    }
   ],
   "source": [
    "3 > 3"
   ]
  },
  {
   "cell_type": "code",
   "execution_count": 75,
   "id": "4cb8f716-28fc-485b-ad25-131d7c8372a7",
   "metadata": {},
   "outputs": [
    {
     "data": {
      "text/plain": [
       "True"
      ]
     },
     "execution_count": 75,
     "metadata": {},
     "output_type": "execute_result"
    }
   ],
   "source": [
    "3 > 2"
   ]
  },
  {
   "cell_type": "code",
   "execution_count": 76,
   "id": "ecf669a8-2874-445e-9505-73ef94e2444d",
   "metadata": {},
   "outputs": [
    {
     "data": {
      "text/plain": [
       "False"
      ]
     },
     "execution_count": 76,
     "metadata": {},
     "output_type": "execute_result"
    }
   ],
   "source": [
    "3 < 2"
   ]
  },
  {
   "cell_type": "code",
   "execution_count": 77,
   "id": "51db2016-d394-44cf-a947-bbd33f271dd9",
   "metadata": {},
   "outputs": [
    {
     "data": {
      "text/plain": [
       "True"
      ]
     },
     "execution_count": 77,
     "metadata": {},
     "output_type": "execute_result"
    }
   ],
   "source": [
    "3 < 4"
   ]
  },
  {
   "cell_type": "code",
   "execution_count": 78,
   "id": "d744ea5d-b9a8-4cda-938f-86e212ff83fc",
   "metadata": {},
   "outputs": [
    {
     "data": {
      "text/plain": [
       "True"
      ]
     },
     "execution_count": 78,
     "metadata": {},
     "output_type": "execute_result"
    }
   ],
   "source": [
    "5 >= 5"
   ]
  },
  {
   "cell_type": "code",
   "execution_count": 79,
   "id": "32bcd8c5-02ba-42fd-9309-f26c4ae9f849",
   "metadata": {},
   "outputs": [
    {
     "data": {
      "text/plain": [
       "True"
      ]
     },
     "execution_count": 79,
     "metadata": {},
     "output_type": "execute_result"
    }
   ],
   "source": [
    "5 >= 3"
   ]
  },
  {
   "cell_type": "code",
   "execution_count": 80,
   "id": "74bda21d-590b-4e15-ab1b-6ad090b6eda5",
   "metadata": {},
   "outputs": [
    {
     "data": {
      "text/plain": [
       "1024"
      ]
     },
     "execution_count": 80,
     "metadata": {},
     "output_type": "execute_result"
    }
   ],
   "source": [
    "2**10"
   ]
  },
  {
   "cell_type": "code",
   "execution_count": 81,
   "id": "0b3aa472-f14a-4bd1-8207-7d0819a74a6c",
   "metadata": {},
   "outputs": [
    {
     "data": {
      "text/plain": [
       "1267650600228229401496703205376"
      ]
     },
     "execution_count": 81,
     "metadata": {},
     "output_type": "execute_result"
    }
   ],
   "source": [
    "1024**10"
   ]
  },
  {
   "cell_type": "code",
   "execution_count": 82,
   "id": "1a4254b2-8515-4f71-a8d0-2e5def1df6e4",
   "metadata": {},
   "outputs": [
    {
     "data": {
      "text/plain": [
       "'abcabcabcabcabcabcabcabcabcabc'"
      ]
     },
     "execution_count": 82,
     "metadata": {},
     "output_type": "execute_result"
    }
   ],
   "source": [
    "\"abc\" * 10"
   ]
  },
  {
   "cell_type": "code",
   "execution_count": 83,
   "id": "5425220a-275c-4bac-96d3-e2dcdeca7c10",
   "metadata": {},
   "outputs": [
    {
     "data": {
      "text/plain": [
       "20"
      ]
     },
     "execution_count": 83,
     "metadata": {},
     "output_type": "execute_result"
    }
   ],
   "source": [
    "number"
   ]
  },
  {
   "cell_type": "code",
   "execution_count": 84,
   "id": "4ccb3f72-5071-40a0-b467-a2f7ac4d657f",
   "metadata": {},
   "outputs": [
    {
     "data": {
      "text/plain": [
       "50.0"
      ]
     },
     "execution_count": 84,
     "metadata": {},
     "output_type": "execute_result"
    }
   ],
   "source": [
    "number * 2.5"
   ]
  },
  {
   "cell_type": "code",
   "execution_count": 85,
   "id": "9ce1bff5-eea7-4425-8776-730c596e2dfd",
   "metadata": {},
   "outputs": [
    {
     "data": {
      "text/plain": [
       "True"
      ]
     },
     "execution_count": 85,
     "metadata": {},
     "output_type": "execute_result"
    }
   ],
   "source": [
    "isinstance(number, int)"
   ]
  },
  {
   "cell_type": "code",
   "execution_count": 86,
   "id": "cf98438f-206c-4612-aed2-90403a742e36",
   "metadata": {},
   "outputs": [
    {
     "data": {
      "text/plain": [
       "False"
      ]
     },
     "execution_count": 86,
     "metadata": {},
     "output_type": "execute_result"
    }
   ],
   "source": [
    "isinstance(1.0, int)"
   ]
  },
  {
   "cell_type": "code",
   "execution_count": 87,
   "id": "e54557c6-5d95-470d-8d12-99fcb69b5a16",
   "metadata": {},
   "outputs": [
    {
     "data": {
      "text/plain": [
       "True"
      ]
     },
     "execution_count": 87,
     "metadata": {},
     "output_type": "execute_result"
    }
   ],
   "source": [
    "isinstance(1.0, float)"
   ]
  },
  {
   "cell_type": "code",
   "execution_count": 88,
   "id": "5a8f5fc1-a0f1-4553-a8d7-01f8df9baebe",
   "metadata": {},
   "outputs": [
    {
     "data": {
      "text/plain": [
       "False"
      ]
     },
     "execution_count": 88,
     "metadata": {},
     "output_type": "execute_result"
    }
   ],
   "source": [
    "isinstance(number, float)"
   ]
  },
  {
   "cell_type": "code",
   "execution_count": 89,
   "id": "20e99b6d-d178-4890-b1e3-b7a772b08ff0",
   "metadata": {},
   "outputs": [
    {
     "data": {
      "text/plain": [
       "2.5"
      ]
     },
     "execution_count": 89,
     "metadata": {},
     "output_type": "execute_result"
    }
   ],
   "source": [
    "1 + 1.5"
   ]
  },
  {
   "cell_type": "code",
   "execution_count": 90,
   "id": "b481f1e1-5485-4d7d-b880-0d93bdbd8fb2",
   "metadata": {},
   "outputs": [
    {
     "data": {
      "text/plain": [
       "True"
      ]
     },
     "execution_count": 90,
     "metadata": {},
     "output_type": "execute_result"
    }
   ],
   "source": [
    "isinstance(number, (float, int))"
   ]
  },
  {
   "cell_type": "code",
   "execution_count": 91,
   "id": "5689d95f-f45b-4c7a-a232-3ddcb7265b2a",
   "metadata": {},
   "outputs": [],
   "source": [
    "number = 1.5"
   ]
  },
  {
   "cell_type": "code",
   "execution_count": 92,
   "id": "008f7d2c-058b-472b-a5b9-56e38415d8dd",
   "metadata": {},
   "outputs": [
    {
     "data": {
      "text/plain": [
       "True"
      ]
     },
     "execution_count": 92,
     "metadata": {},
     "output_type": "execute_result"
    }
   ],
   "source": [
    "isinstance(number, (float, int))"
   ]
  },
  {
   "cell_type": "code",
   "execution_count": 93,
   "id": "bcf3114d-8c5e-4217-911b-19cd03d8b703",
   "metadata": {},
   "outputs": [],
   "source": [
    "number = \"one\""
   ]
  },
  {
   "cell_type": "code",
   "execution_count": 94,
   "id": "795912db-8a16-4ee8-ba3c-0da654303a51",
   "metadata": {},
   "outputs": [
    {
     "data": {
      "text/plain": [
       "False"
      ]
     },
     "execution_count": 94,
     "metadata": {},
     "output_type": "execute_result"
    }
   ],
   "source": [
    "isinstance(number, (float, int))"
   ]
  },
  {
   "cell_type": "code",
   "execution_count": 95,
   "id": "f0d67fd0-fb8e-4781-b6f1-949d03685f0e",
   "metadata": {},
   "outputs": [],
   "source": [
    "number = \"1\""
   ]
  },
  {
   "cell_type": "code",
   "execution_count": 96,
   "id": "236e49a6-8478-49f0-a586-a3525e259a8f",
   "metadata": {},
   "outputs": [
    {
     "name": "stdout",
     "output_type": "stream",
     "text": [
      "<class 'str'>\n"
     ]
    }
   ],
   "source": [
    "print(type(number))"
   ]
  },
  {
   "cell_type": "code",
   "execution_count": 97,
   "id": "fc6b0da4-3421-452c-9cac-67b18918b0ee",
   "metadata": {},
   "outputs": [
    {
     "data": {
      "text/plain": [
       "False"
      ]
     },
     "execution_count": 97,
     "metadata": {},
     "output_type": "execute_result"
    }
   ],
   "source": [
    "isinstance(number, (float, int))"
   ]
  },
  {
   "cell_type": "code",
   "execution_count": 98,
   "id": "8856fee0-1ead-4247-b346-10222fa028d6",
   "metadata": {},
   "outputs": [
    {
     "data": {
      "text/plain": [
       "str"
      ]
     },
     "execution_count": 98,
     "metadata": {},
     "output_type": "execute_result"
    }
   ],
   "source": [
    "type(number)"
   ]
  },
  {
   "cell_type": "code",
   "execution_count": 99,
   "id": "cbadc147-764f-4a3f-a402-f5ab82c0020a",
   "metadata": {},
   "outputs": [
    {
     "data": {
      "text/plain": [
       "False"
      ]
     },
     "execution_count": 99,
     "metadata": {},
     "output_type": "execute_result"
    }
   ],
   "source": [
    "# а число ли number? да / нет\n",
    "isinstance(number, (float, int))"
   ]
  },
  {
   "cell_type": "code",
   "execution_count": 100,
   "id": "85d35b2e-87ca-45c6-9f59-b0d644b0902e",
   "metadata": {},
   "outputs": [
    {
     "data": {
      "text/plain": [
       "'1'"
      ]
     },
     "execution_count": 100,
     "metadata": {},
     "output_type": "execute_result"
    }
   ],
   "source": [
    "number"
   ]
  },
  {
   "cell_type": "code",
   "execution_count": 101,
   "id": "8ab2518b-bdd0-4f7e-bd9d-891ec56582f2",
   "metadata": {},
   "outputs": [],
   "source": [
    "number = 20"
   ]
  },
  {
   "cell_type": "code",
   "execution_count": 102,
   "id": "82727f8c-6fa2-49db-a06a-49f143c6dcba",
   "metadata": {},
   "outputs": [
    {
     "data": {
      "text/plain": [
       "True"
      ]
     },
     "execution_count": 102,
     "metadata": {},
     "output_type": "execute_result"
    }
   ],
   "source": [
    "# а число ли number? да / нет\n",
    "isinstance(number, (float, int))"
   ]
  },
  {
   "cell_type": "code",
   "execution_count": 103,
   "id": "cbee916e-5982-4874-a770-950f5ec10018",
   "metadata": {},
   "outputs": [
    {
     "data": {
      "text/plain": [
       "True"
      ]
     },
     "execution_count": 103,
     "metadata": {},
     "output_type": "execute_result"
    }
   ],
   "source": [
    "isinstance(True, bool)"
   ]
  },
  {
   "cell_type": "code",
   "execution_count": 104,
   "id": "c8bd88af-0b55-447b-81ec-4df90e26f88d",
   "metadata": {},
   "outputs": [
    {
     "data": {
      "text/plain": [
       "True"
      ]
     },
     "execution_count": 104,
     "metadata": {},
     "output_type": "execute_result"
    }
   ],
   "source": [
    "isinstance(False, bool)"
   ]
  },
  {
   "cell_type": "code",
   "execution_count": 105,
   "id": "1ebf44c1-cc9d-476b-98d5-b8f01e0dfcf3",
   "metadata": {},
   "outputs": [
    {
     "name": "stdout",
     "output_type": "stream",
     "text": [
      "<class 'bool'>\n"
     ]
    }
   ],
   "source": [
    "print(type(False))"
   ]
  },
  {
   "cell_type": "code",
   "execution_count": 106,
   "id": "6117c234-668f-4254-92e0-998e13498567",
   "metadata": {},
   "outputs": [
    {
     "data": {
      "text/plain": [
       "True"
      ]
     },
     "execution_count": 106,
     "metadata": {},
     "output_type": "execute_result"
    }
   ],
   "source": [
    "isinstance(False, (bool, str))"
   ]
  },
  {
   "cell_type": "code",
   "execution_count": 107,
   "id": "55f1a12c-5d2b-4561-83a4-7d94f36e1be1",
   "metadata": {},
   "outputs": [
    {
     "data": {
      "text/plain": [
       "False"
      ]
     },
     "execution_count": 107,
     "metadata": {},
     "output_type": "execute_result"
    }
   ],
   "source": [
    "isinstance(False, str)"
   ]
  },
  {
   "cell_type": "code",
   "execution_count": 108,
   "id": "cdc279cf-332d-45f3-8bfc-145c3ef28e2f",
   "metadata": {},
   "outputs": [
    {
     "data": {
      "text/plain": [
       "False"
      ]
     },
     "execution_count": 108,
     "metadata": {},
     "output_type": "execute_result"
    }
   ],
   "source": [
    "isinstance(True, str)"
   ]
  },
  {
   "cell_type": "code",
   "execution_count": 109,
   "id": "b41f4df0-6c85-4bf7-a4b9-20aa1213d867",
   "metadata": {},
   "outputs": [
    {
     "data": {
      "text/plain": [
       "True"
      ]
     },
     "execution_count": 109,
     "metadata": {},
     "output_type": "execute_result"
    }
   ],
   "source": [
    "isinstance(True, int)"
   ]
  },
  {
   "cell_type": "code",
   "execution_count": 110,
   "id": "ea6f70c8-8579-407b-aad0-0402e30b98fa",
   "metadata": {},
   "outputs": [
    {
     "data": {
      "text/plain": [
       "True"
      ]
     },
     "execution_count": 110,
     "metadata": {},
     "output_type": "execute_result"
    }
   ],
   "source": [
    "isinstance(False, int)"
   ]
  },
  {
   "cell_type": "code",
   "execution_count": 111,
   "id": "6fd69711-cb47-45cf-9af4-e1e6d0a1fb93",
   "metadata": {},
   "outputs": [
    {
     "data": {
      "text/plain": [
       "1"
      ]
     },
     "execution_count": 111,
     "metadata": {},
     "output_type": "execute_result"
    }
   ],
   "source": [
    "True + False"
   ]
  },
  {
   "cell_type": "code",
   "execution_count": 112,
   "id": "8b12e12e-9158-4f8d-ab79-cb93b19c4c8d",
   "metadata": {},
   "outputs": [
    {
     "data": {
      "text/plain": [
       "2"
      ]
     },
     "execution_count": 112,
     "metadata": {},
     "output_type": "execute_result"
    }
   ],
   "source": [
    "True + True"
   ]
  },
  {
   "cell_type": "code",
   "execution_count": 113,
   "id": "93d79891-d84a-474d-b265-b6b69dc409b1",
   "metadata": {},
   "outputs": [
    {
     "data": {
      "text/plain": [
       "0"
      ]
     },
     "execution_count": 113,
     "metadata": {},
     "output_type": "execute_result"
    }
   ],
   "source": [
    "False + False"
   ]
  },
  {
   "cell_type": "code",
   "execution_count": 114,
   "id": "657e3944-4c40-4c20-b14f-23545df77a43",
   "metadata": {},
   "outputs": [
    {
     "data": {
      "text/plain": [
       "1"
      ]
     },
     "execution_count": 114,
     "metadata": {},
     "output_type": "execute_result"
    }
   ],
   "source": [
    "int(True)"
   ]
  },
  {
   "cell_type": "code",
   "execution_count": 115,
   "id": "5516315b-8c46-45cb-b689-d1d20220924a",
   "metadata": {},
   "outputs": [
    {
     "data": {
      "text/plain": [
       "0"
      ]
     },
     "execution_count": 115,
     "metadata": {},
     "output_type": "execute_result"
    }
   ],
   "source": [
    "int(False)"
   ]
  },
  {
   "cell_type": "code",
   "execution_count": 116,
   "id": "f7fb38d7-7d0e-4845-b08c-fd3010711849",
   "metadata": {},
   "outputs": [
    {
     "data": {
      "text/plain": [
       "123"
      ]
     },
     "execution_count": 116,
     "metadata": {},
     "output_type": "execute_result"
    }
   ],
   "source": [
    "int(\"123\")"
   ]
  },
  {
   "cell_type": "code",
   "execution_count": 117,
   "id": "f9faafac-583a-4518-a2a8-7874c497a75c",
   "metadata": {},
   "outputs": [
    {
     "data": {
      "text/plain": [
       "1"
      ]
     },
     "execution_count": 117,
     "metadata": {},
     "output_type": "execute_result"
    }
   ],
   "source": [
    "int(1.5)"
   ]
  },
  {
   "cell_type": "code",
   "execution_count": 118,
   "id": "94d2fb7c-043c-467f-9ec5-a3c4a94ed11c",
   "metadata": {},
   "outputs": [
    {
     "data": {
      "text/plain": [
       "1.0"
      ]
     },
     "execution_count": 118,
     "metadata": {},
     "output_type": "execute_result"
    }
   ],
   "source": [
    "float(1)"
   ]
  },
  {
   "cell_type": "code",
   "execution_count": 119,
   "id": "351e9f61-b10a-4a35-a18e-2c6c2bb04466",
   "metadata": {},
   "outputs": [
    {
     "data": {
      "text/plain": [
       "1.5"
      ]
     },
     "execution_count": 119,
     "metadata": {},
     "output_type": "execute_result"
    }
   ],
   "source": [
    "float(\"1.5\")"
   ]
  },
  {
   "cell_type": "code",
   "execution_count": 120,
   "id": "865112a3-187a-4f8e-a9d6-fec86d7286e6",
   "metadata": {},
   "outputs": [
    {
     "data": {
      "text/plain": [
       "False"
      ]
     },
     "execution_count": 120,
     "metadata": {},
     "output_type": "execute_result"
    }
   ],
   "source": [
    "bool(0)"
   ]
  },
  {
   "cell_type": "code",
   "execution_count": 121,
   "id": "13cd4577-f083-48b2-a197-926157c3ca60",
   "metadata": {},
   "outputs": [
    {
     "data": {
      "text/plain": [
       "True"
      ]
     },
     "execution_count": 121,
     "metadata": {},
     "output_type": "execute_result"
    }
   ],
   "source": [
    "bool(1)"
   ]
  },
  {
   "cell_type": "code",
   "execution_count": 122,
   "id": "22eb8ad1-334f-4b65-aada-4e2dcc856044",
   "metadata": {},
   "outputs": [
    {
     "data": {
      "text/plain": [
       "True"
      ]
     },
     "execution_count": 122,
     "metadata": {},
     "output_type": "execute_result"
    }
   ],
   "source": [
    "bool(2)"
   ]
  },
  {
   "cell_type": "code",
   "execution_count": 123,
   "id": "5cebe97f-e7c0-49a6-93f6-eba4ea3d6184",
   "metadata": {},
   "outputs": [
    {
     "data": {
      "text/plain": [
       "True"
      ]
     },
     "execution_count": 123,
     "metadata": {},
     "output_type": "execute_result"
    }
   ],
   "source": [
    "bool(-1)"
   ]
  },
  {
   "cell_type": "code",
   "execution_count": 124,
   "id": "6314bd2a-d160-4d18-ad58-524c9a75dd34",
   "metadata": {},
   "outputs": [
    {
     "data": {
      "text/plain": [
       "False"
      ]
     },
     "execution_count": 124,
     "metadata": {},
     "output_type": "execute_result"
    }
   ],
   "source": [
    "bool(0.0)"
   ]
  },
  {
   "cell_type": "code",
   "execution_count": 125,
   "id": "7654477c-a404-4465-9465-0ef3460baf73",
   "metadata": {},
   "outputs": [
    {
     "data": {
      "text/plain": [
       "True"
      ]
     },
     "execution_count": 125,
     "metadata": {},
     "output_type": "execute_result"
    }
   ],
   "source": [
    "bool(0.00000000001)"
   ]
  },
  {
   "cell_type": "code",
   "execution_count": 126,
   "id": "663e8d10-da2c-44ce-ba1b-6366d98f423a",
   "metadata": {},
   "outputs": [
    {
     "data": {
      "text/plain": [
       "True"
      ]
     },
     "execution_count": 126,
     "metadata": {},
     "output_type": "execute_result"
    }
   ],
   "source": [
    "bool(\"abc\")"
   ]
  },
  {
   "cell_type": "code",
   "execution_count": 127,
   "id": "5f50a1f1-a877-49d7-8c12-18cde3bb0a1a",
   "metadata": {},
   "outputs": [
    {
     "data": {
      "text/plain": [
       "False"
      ]
     },
     "execution_count": 127,
     "metadata": {},
     "output_type": "execute_result"
    }
   ],
   "source": [
    "bool(\"\")"
   ]
  },
  {
   "cell_type": "code",
   "execution_count": 128,
   "id": "fbdd298f-b39c-4211-9d79-68d250babc07",
   "metadata": {},
   "outputs": [
    {
     "data": {
      "text/plain": [
       "False"
      ]
     },
     "execution_count": 128,
     "metadata": {},
     "output_type": "execute_result"
    }
   ],
   "source": [
    "bool('')"
   ]
  },
  {
   "cell_type": "code",
   "execution_count": 130,
   "id": "3d2646b0-ed4e-4e60-b0ff-e2ed2478443e",
   "metadata": {},
   "outputs": [
    {
     "name": "stdout",
     "output_type": "stream",
     "text": [
      "John\n"
     ]
    }
   ],
   "source": [
    "name = \"John\"\n",
    "print(name)"
   ]
  },
  {
   "cell_type": "code",
   "execution_count": 131,
   "id": "2ae315a1-5194-44d7-bcc4-6616d45829b7",
   "metadata": {},
   "outputs": [
    {
     "data": {
      "text/plain": [
       "'John'"
      ]
     },
     "execution_count": 131,
     "metadata": {},
     "output_type": "execute_result"
    }
   ],
   "source": [
    "name"
   ]
  },
  {
   "cell_type": "code",
   "execution_count": 132,
   "id": "d9a7c439-17e0-45ed-bf62-9ec2019848d2",
   "metadata": {},
   "outputs": [],
   "source": [
    "ANSWER = 42"
   ]
  },
  {
   "cell_type": "code",
   "execution_count": 133,
   "id": "725a3e9b-45df-4fd5-a5f3-891ad7aeec16",
   "metadata": {},
   "outputs": [
    {
     "data": {
      "text/plain": [
       "'Hello John!'"
      ]
     },
     "execution_count": 133,
     "metadata": {},
     "output_type": "execute_result"
    }
   ],
   "source": [
    "\"Hello \" + name + \"!\""
   ]
  },
  {
   "cell_type": "code",
   "execution_count": 134,
   "id": "9cbffad7-6a68-4ebd-a7ac-41bdc02a6cdd",
   "metadata": {},
   "outputs": [],
   "source": [
    "age = 33"
   ]
  },
  {
   "cell_type": "code",
   "execution_count": 135,
   "id": "c2502835-047b-4cf4-9225-4ede0b12327a",
   "metadata": {},
   "outputs": [
    {
     "data": {
      "text/plain": [
       "'Hello John of age 33!'"
      ]
     },
     "execution_count": 135,
     "metadata": {},
     "output_type": "execute_result"
    }
   ],
   "source": [
    "\"Hello \" + name + \" of age \" + str(age) + \"!\""
   ]
  },
  {
   "cell_type": "code",
   "execution_count": 136,
   "id": "0fd659e7-6f52-41d9-9d2e-654905cf42ef",
   "metadata": {},
   "outputs": [
    {
     "data": {
      "text/plain": [
       "'Hello John of age 33!'"
      ]
     },
     "execution_count": 136,
     "metadata": {},
     "output_type": "execute_result"
    }
   ],
   "source": [
    "f\"Hello {name} of age {age}!\""
   ]
  },
  {
   "cell_type": "code",
   "execution_count": 137,
   "id": "934f5e7d-2c04-4cb5-b417-3c30fc6cd834",
   "metadata": {},
   "outputs": [
    {
     "data": {
      "text/plain": [
       "20"
      ]
     },
     "execution_count": 137,
     "metadata": {},
     "output_type": "execute_result"
    }
   ],
   "source": [
    "number"
   ]
  },
  {
   "cell_type": "code",
   "execution_count": 138,
   "id": "40592e5a-56dc-4907-8e3f-1eee8cc048df",
   "metadata": {},
   "outputs": [
    {
     "data": {
      "text/plain": [
       "'20'"
      ]
     },
     "execution_count": 138,
     "metadata": {},
     "output_type": "execute_result"
    }
   ],
   "source": [
    "str(number)"
   ]
  },
  {
   "cell_type": "code",
   "execution_count": 140,
   "id": "385ca540-2cb0-49fc-b5bf-ba822ee085e5",
   "metadata": {},
   "outputs": [
    {
     "data": {
      "text/plain": [
       "'20'"
      ]
     },
     "execution_count": 140,
     "metadata": {},
     "output_type": "execute_result"
    }
   ],
   "source": [
    "f\"{number}\""
   ]
  },
  {
   "cell_type": "code",
   "execution_count": 141,
   "id": "4c8ae5c3-3a35-4e9b-aa99-845a094e4dad",
   "metadata": {},
   "outputs": [
    {
     "data": {
      "text/plain": [
       "'Hello John of age 34!'"
      ]
     },
     "execution_count": 141,
     "metadata": {},
     "output_type": "execute_result"
    }
   ],
   "source": [
    "f\"Hello {name} of age {age + 1}!\""
   ]
  },
  {
   "cell_type": "code",
   "execution_count": 142,
   "id": "fce2a4b4-7702-48dd-b2a0-2e01d734622b",
   "metadata": {},
   "outputs": [
    {
     "data": {
      "text/plain": [
       "33"
      ]
     },
     "execution_count": 142,
     "metadata": {},
     "output_type": "execute_result"
    }
   ],
   "source": [
    "age"
   ]
  },
  {
   "cell_type": "code",
   "execution_count": 144,
   "id": "4b33f4b0-4ba1-4839-8775-f166b4cc4e0f",
   "metadata": {},
   "outputs": [
    {
     "data": {
      "text/plain": [
       "'Hello John of age 34!'"
      ]
     },
     "execution_count": 144,
     "metadata": {},
     "output_type": "execute_result"
    }
   ],
   "source": [
    "f\"Hello {name} of {'a' + 'ge'} {age + 1}!\""
   ]
  },
  {
   "cell_type": "code",
   "execution_count": null,
   "id": "6b82c088-2bfa-4d68-82ac-b9f5f8744869",
   "metadata": {},
   "outputs": [],
   "source": []
  }
 ],
 "metadata": {
  "kernelspec": {
   "display_name": "Python 3 (ipykernel)",
   "language": "python",
   "name": "python3"
  },
  "language_info": {
   "codemirror_mode": {
    "name": "ipython",
    "version": 3
   },
   "file_extension": ".py",
   "mimetype": "text/x-python",
   "name": "python",
   "nbconvert_exporter": "python",
   "pygments_lexer": "ipython3",
   "version": "3.11.4"
  }
 },
 "nbformat": 4,
 "nbformat_minor": 5
}
