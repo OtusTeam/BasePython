{
 "cells": [
  {
   "cell_type": "code",
   "execution_count": 1,
   "id": "effbfe33-092f-47a8-b814-94df112746aa",
   "metadata": {},
   "outputs": [
    {
     "name": "stdout",
     "output_type": "stream",
     "text": [
      "hello world\n"
     ]
    }
   ],
   "source": [
    "print(\"hello world\")"
   ]
  },
  {
   "cell_type": "code",
   "execution_count": 2,
   "id": "b1e35357-65bb-4d4a-8ae4-bb1ee8316959",
   "metadata": {},
   "outputs": [
    {
     "name": "stdout",
     "output_type": "stream",
     "text": [
      "42\n"
     ]
    }
   ],
   "source": [
    "print(42)"
   ]
  },
  {
   "cell_type": "code",
   "execution_count": 3,
   "id": "5a3f7203-38d8-477e-a790-5cef6e8ef7b8",
   "metadata": {},
   "outputs": [
    {
     "name": "stdout",
     "output_type": "stream",
     "text": [
      "abc 123\n"
     ]
    }
   ],
   "source": [
    "print(\"abc\", 123)"
   ]
  },
  {
   "cell_type": "code",
   "execution_count": 4,
   "id": "ce7ea749-405a-46d5-bb0e-9b9513a39494",
   "metadata": {},
   "outputs": [
    {
     "name": "stdout",
     "output_type": "stream",
     "text": [
      "123 123\n"
     ]
    }
   ],
   "source": [
    "print(\"123\", 123)"
   ]
  },
  {
   "cell_type": "code",
   "execution_count": 5,
   "id": "76153fb6-df73-46af-a2ad-b0afa7a3c453",
   "metadata": {},
   "outputs": [
    {
     "data": {
      "text/plain": [
       "'foo'"
      ]
     },
     "execution_count": 5,
     "metadata": {},
     "output_type": "execute_result"
    }
   ],
   "source": [
    "\"foo\""
   ]
  },
  {
   "cell_type": "code",
   "execution_count": 6,
   "id": "6c06d0a7-9861-4a67-b8d0-059b153db11a",
   "metadata": {},
   "outputs": [
    {
     "data": {
      "text/plain": [
       "'asd'"
      ]
     },
     "execution_count": 6,
     "metadata": {},
     "output_type": "execute_result"
    }
   ],
   "source": [
    "'asd'"
   ]
  },
  {
   "cell_type": "code",
   "execution_count": 7,
   "id": "193ea2a9-3efa-4664-8b98-a6ba2a47a0a0",
   "metadata": {},
   "outputs": [
    {
     "data": {
      "text/plain": [
       "\"Hello, it's me\""
      ]
     },
     "execution_count": 7,
     "metadata": {},
     "output_type": "execute_result"
    }
   ],
   "source": [
    "\"Hello, it's me\""
   ]
  },
  {
   "cell_type": "code",
   "execution_count": 8,
   "id": "9ad3f211-c066-42cb-81c9-547b3e6f422f",
   "metadata": {},
   "outputs": [
    {
     "data": {
      "text/plain": [
       "\"Hello, it's me\""
      ]
     },
     "execution_count": 8,
     "metadata": {},
     "output_type": "execute_result"
    }
   ],
   "source": [
    "'Hello, it\\'s me'"
   ]
  },
  {
   "cell_type": "code",
   "execution_count": 9,
   "id": "3a375281-aa43-4989-98e3-68ddd85f1445",
   "metadata": {},
   "outputs": [
    {
     "name": "stdout",
     "output_type": "stream",
     "text": [
      "Hello, it's me\n"
     ]
    }
   ],
   "source": [
    "print('Hello, it\\'s me')"
   ]
  },
  {
   "cell_type": "code",
   "execution_count": 10,
   "id": "3a90228d-817b-41f7-879e-1d9d12551782",
   "metadata": {},
   "outputs": [
    {
     "data": {
      "text/plain": [
       "True"
      ]
     },
     "execution_count": 10,
     "metadata": {},
     "output_type": "execute_result"
    }
   ],
   "source": [
    "\"abc\" == 'abc'"
   ]
  },
  {
   "cell_type": "code",
   "execution_count": 11,
   "id": "db551b99-5cc8-4343-ae2d-96fb4ecfeabc",
   "metadata": {},
   "outputs": [
    {
     "data": {
      "text/plain": [
       "False"
      ]
     },
     "execution_count": 11,
     "metadata": {},
     "output_type": "execute_result"
    }
   ],
   "source": [
    "\"Abc\" == \"abc\""
   ]
  },
  {
   "cell_type": "code",
   "execution_count": 12,
   "id": "908a2425-7f86-42c9-b019-d56c0a423d76",
   "metadata": {},
   "outputs": [
    {
     "data": {
      "text/plain": [
       "True"
      ]
     },
     "execution_count": 12,
     "metadata": {},
     "output_type": "execute_result"
    }
   ],
   "source": [
    "2 > 1"
   ]
  },
  {
   "cell_type": "code",
   "execution_count": 13,
   "id": "4d0bc275-9254-49e9-9091-deae3a794fbd",
   "metadata": {},
   "outputs": [
    {
     "data": {
      "text/plain": [
       "True"
      ]
     },
     "execution_count": 13,
     "metadata": {},
     "output_type": "execute_result"
    }
   ],
   "source": [
    "3 > 2"
   ]
  },
  {
   "cell_type": "code",
   "execution_count": 14,
   "id": "2d5dbf9b-80cd-4f24-961b-202941178aca",
   "metadata": {},
   "outputs": [
    {
     "data": {
      "text/plain": [
       "False"
      ]
     },
     "execution_count": 14,
     "metadata": {},
     "output_type": "execute_result"
    }
   ],
   "source": [
    "3 > 3"
   ]
  },
  {
   "cell_type": "code",
   "execution_count": 15,
   "id": "a18f70e4-3621-43ca-a51a-008d2e59a149",
   "metadata": {},
   "outputs": [
    {
     "data": {
      "text/plain": [
       "True"
      ]
     },
     "execution_count": 15,
     "metadata": {},
     "output_type": "execute_result"
    }
   ],
   "source": [
    "3 >= 3"
   ]
  },
  {
   "cell_type": "code",
   "execution_count": 16,
   "id": "7e5edb10-89c5-41b9-8f44-efa9b3d260f1",
   "metadata": {},
   "outputs": [
    {
     "name": "stdout",
     "output_type": "stream",
     "text": [
      "hello\n",
      "It's me\n"
     ]
    }
   ],
   "source": [
    "print(\"hello\\nIt's me\")"
   ]
  },
  {
   "cell_type": "code",
   "execution_count": 17,
   "id": "082bbd11-8f43-42d9-ad9b-4bdf58662da8",
   "metadata": {},
   "outputs": [
    {
     "name": "stdout",
     "output_type": "stream",
     "text": [
      "hello\n",
      "It's me\n"
     ]
    }
   ],
   "source": [
    "line = \"hello\\nIt's me\"\n",
    "print(line)"
   ]
  },
  {
   "cell_type": "code",
   "execution_count": 18,
   "id": "d41b5927-c5c7-4aab-a5e0-463f777ecb98",
   "metadata": {},
   "outputs": [
    {
     "data": {
      "text/plain": [
       "13"
      ]
     },
     "execution_count": 18,
     "metadata": {},
     "output_type": "execute_result"
    }
   ],
   "source": [
    "len(line)"
   ]
  },
  {
   "cell_type": "code",
   "execution_count": 19,
   "id": "f3bc4dbb-7e95-485c-b2fc-bafb8551ebaf",
   "metadata": {},
   "outputs": [
    {
     "data": {
      "text/plain": [
       "\"hello\\nIt's me\""
      ]
     },
     "execution_count": 19,
     "metadata": {},
     "output_type": "execute_result"
    }
   ],
   "source": [
    "line"
   ]
  },
  {
   "cell_type": "code",
   "execution_count": 20,
   "id": "fc0a48ca-9a95-44b4-a872-14649e786d39",
   "metadata": {},
   "outputs": [
    {
     "name": "stdout",
     "output_type": "stream",
     "text": [
      "\n",
      "- hi\n",
      "- hello\n",
      "- what's up?\n",
      "- cool, what's up.\n",
      "- cool.\n",
      "\n"
     ]
    }
   ],
   "source": [
    "print('''\n",
    "- hi\n",
    "- hello\n",
    "- what's up?\n",
    "- cool, what's up.\n",
    "- cool.\n",
    "''')"
   ]
  },
  {
   "cell_type": "code",
   "execution_count": 21,
   "id": "385f17ef-b021-4481-9eb8-9966f85383ec",
   "metadata": {},
   "outputs": [
    {
     "name": "stdout",
     "output_type": "stream",
     "text": [
      "- hi\n",
      "- hello\n",
      "- what's up?\n",
      "- cool, what's up.\n",
      "- cool.\n"
     ]
    }
   ],
   "source": [
    "print('''- hi\n",
    "- hello\n",
    "- what's up?\n",
    "- cool, what's up.\n",
    "- cool.''')"
   ]
  },
  {
   "cell_type": "code",
   "execution_count": 22,
   "id": "67c1b405-e282-4c2d-9722-116b8352d45d",
   "metadata": {},
   "outputs": [
    {
     "name": "stdout",
     "output_type": "stream",
     "text": [
      "- hi\n",
      "- hello\n",
      "- what's up?\n",
      "- cool, what's up.\n",
      "- cool.\n"
     ]
    }
   ],
   "source": [
    "print('''\\\n",
    "- hi\n",
    "- hello\n",
    "- what's up?\n",
    "- cool, what's up.\n",
    "- cool.\\\n",
    "''')"
   ]
  },
  {
   "cell_type": "code",
   "execution_count": 23,
   "id": "3622bfb6-cab6-4631-a1df-dc97cdf9b819",
   "metadata": {},
   "outputs": [
    {
     "data": {
      "text/plain": [
       "\"- hi\\n- hello\\n- what's up?\\n- cool, what's up.\\n- cool.\""
      ]
     },
     "execution_count": 23,
     "metadata": {},
     "output_type": "execute_result"
    }
   ],
   "source": [
    "'''\\\n",
    "- hi\n",
    "- hello\n",
    "- what's up?\n",
    "- cool, what's up.\n",
    "- cool.\\\n",
    "'''"
   ]
  },
  {
   "cell_type": "code",
   "execution_count": 24,
   "id": "961511e5-d5da-47b2-9650-32ffda05f82e",
   "metadata": {},
   "outputs": [
    {
     "data": {
      "text/plain": [
       "\"\\n- hi\\n- hello\\n- what's up?\\n- cool, what's up.\\n- cool.\\n\""
      ]
     },
     "execution_count": 24,
     "metadata": {},
     "output_type": "execute_result"
    }
   ],
   "source": [
    "'''\n",
    "- hi\n",
    "- hello\n",
    "- what's up?\n",
    "- cool, what's up.\n",
    "- cool.\n",
    "'''"
   ]
  },
  {
   "cell_type": "code",
   "execution_count": 25,
   "id": "520431be-fb76-4733-8608-f9aa676bbf76",
   "metadata": {},
   "outputs": [
    {
     "data": {
      "text/plain": [
       "\"hello\\nIt's me\""
      ]
     },
     "execution_count": 25,
     "metadata": {},
     "output_type": "execute_result"
    }
   ],
   "source": [
    "line"
   ]
  },
  {
   "cell_type": "code",
   "execution_count": 26,
   "id": "30061da3-e35f-457a-94b3-69813d4ac5f7",
   "metadata": {},
   "outputs": [
    {
     "name": "stdout",
     "output_type": "stream",
     "text": [
      "hello\n",
      "It's me\n"
     ]
    }
   ],
   "source": [
    "print(\"hello\\nIt's me\")"
   ]
  },
  {
   "cell_type": "code",
   "execution_count": 27,
   "id": "cee243be-251f-4afa-9794-83b58e5863dc",
   "metadata": {},
   "outputs": [
    {
     "name": "stdout",
     "output_type": "stream",
     "text": [
      "hello\n",
      "It's me\n"
     ]
    }
   ],
   "source": [
    "print(line)"
   ]
  },
  {
   "cell_type": "code",
   "execution_count": 28,
   "id": "216663b7-01cf-465d-b32e-cfe60423fc36",
   "metadata": {},
   "outputs": [
    {
     "name": "stdout",
     "output_type": "stream",
     "text": [
      "\"hello\\nIt's me\"\n"
     ]
    }
   ],
   "source": [
    "print(repr(line))"
   ]
  },
  {
   "cell_type": "code",
   "execution_count": 29,
   "id": "eba7de32-fb91-42d3-a60a-6565f4e54c5e",
   "metadata": {},
   "outputs": [
    {
     "data": {
      "text/plain": [
       "\"hello\\nIt's me\""
      ]
     },
     "execution_count": 29,
     "metadata": {},
     "output_type": "execute_result"
    }
   ],
   "source": [
    "line"
   ]
  },
  {
   "cell_type": "code",
   "execution_count": 30,
   "id": "bc654e06-954a-496b-86e9-097822e602be",
   "metadata": {},
   "outputs": [
    {
     "data": {
      "text/plain": [
       "3"
      ]
     },
     "execution_count": 30,
     "metadata": {},
     "output_type": "execute_result"
    }
   ],
   "source": [
    "1 + 2"
   ]
  },
  {
   "cell_type": "code",
   "execution_count": 31,
   "id": "0225db0f-9214-404f-a752-da203927dbc0",
   "metadata": {},
   "outputs": [
    {
     "data": {
      "text/plain": [
       "7"
      ]
     },
     "execution_count": 31,
     "metadata": {},
     "output_type": "execute_result"
    }
   ],
   "source": [
    "3 + 4"
   ]
  },
  {
   "cell_type": "code",
   "execution_count": 32,
   "id": "76886379-7a3e-43d6-95bb-087d674c9d9a",
   "metadata": {},
   "outputs": [
    {
     "data": {
      "text/plain": [
       "2"
      ]
     },
     "execution_count": 32,
     "metadata": {},
     "output_type": "execute_result"
    }
   ],
   "source": [
    "4 - 2"
   ]
  },
  {
   "cell_type": "code",
   "execution_count": 33,
   "id": "801c3fda-af53-407a-b955-19f58e118cb5",
   "metadata": {},
   "outputs": [
    {
     "data": {
      "text/plain": [
       "4"
      ]
     },
     "execution_count": 33,
     "metadata": {},
     "output_type": "execute_result"
    }
   ],
   "source": [
    "5 - 1"
   ]
  },
  {
   "cell_type": "code",
   "execution_count": 34,
   "id": "815bd252-8ec4-4a99-91d3-6c49c8c4c032",
   "metadata": {},
   "outputs": [
    {
     "data": {
      "text/plain": [
       "15"
      ]
     },
     "execution_count": 34,
     "metadata": {},
     "output_type": "execute_result"
    }
   ],
   "source": [
    "3 * 5"
   ]
  },
  {
   "cell_type": "code",
   "execution_count": 35,
   "id": "8822a836-15cd-4fa1-99f7-e5eda87c18d4",
   "metadata": {},
   "outputs": [
    {
     "data": {
      "text/plain": [
       "2.5"
      ]
     },
     "execution_count": 35,
     "metadata": {},
     "output_type": "execute_result"
    }
   ],
   "source": [
    "10 / 4"
   ]
  },
  {
   "cell_type": "code",
   "execution_count": 36,
   "id": "9988ebf6-45ed-431c-8ee3-a7c7c4e1e11c",
   "metadata": {},
   "outputs": [
    {
     "data": {
      "text/plain": [
       "2.5"
      ]
     },
     "execution_count": 36,
     "metadata": {},
     "output_type": "execute_result"
    }
   ],
   "source": [
    "10.0 / 4.0"
   ]
  },
  {
   "cell_type": "code",
   "execution_count": 37,
   "id": "439ae5ca-c325-4869-bac5-524e65b1a1d5",
   "metadata": {},
   "outputs": [
    {
     "data": {
      "text/plain": [
       "5.0"
      ]
     },
     "execution_count": 37,
     "metadata": {},
     "output_type": "execute_result"
    }
   ],
   "source": [
    "10 / 2"
   ]
  },
  {
   "cell_type": "code",
   "execution_count": 38,
   "id": "8e0a3b76-69c7-484a-82e3-963d50bfc34d",
   "metadata": {},
   "outputs": [
    {
     "data": {
      "text/plain": [
       "5"
      ]
     },
     "execution_count": 38,
     "metadata": {},
     "output_type": "execute_result"
    }
   ],
   "source": [
    "10 // 2"
   ]
  },
  {
   "cell_type": "code",
   "execution_count": 39,
   "id": "e524d215-02b6-43ff-9906-3245b518f4fa",
   "metadata": {},
   "outputs": [
    {
     "data": {
      "text/plain": [
       "2"
      ]
     },
     "execution_count": 39,
     "metadata": {},
     "output_type": "execute_result"
    }
   ],
   "source": [
    "10 // 4"
   ]
  },
  {
   "cell_type": "code",
   "execution_count": 40,
   "id": "1d466a2d-86be-4c83-b09c-953f14bf407d",
   "metadata": {},
   "outputs": [
    {
     "data": {
      "text/plain": [
       "2.6666666666666665"
      ]
     },
     "execution_count": 40,
     "metadata": {},
     "output_type": "execute_result"
    }
   ],
   "source": [
    "8 / 3"
   ]
  },
  {
   "cell_type": "code",
   "execution_count": 41,
   "id": "22e386ba-9071-45cd-868a-f0054932e41b",
   "metadata": {},
   "outputs": [
    {
     "data": {
      "text/plain": [
       "3"
      ]
     },
     "execution_count": 41,
     "metadata": {},
     "output_type": "execute_result"
    }
   ],
   "source": [
    "round(8 / 3)"
   ]
  },
  {
   "cell_type": "code",
   "execution_count": 42,
   "id": "c483ed9d-25ca-460f-b83d-89d987fef008",
   "metadata": {},
   "outputs": [
    {
     "data": {
      "text/plain": [
       "2"
      ]
     },
     "execution_count": 42,
     "metadata": {},
     "output_type": "execute_result"
    }
   ],
   "source": [
    "8 // 3"
   ]
  },
  {
   "cell_type": "code",
   "execution_count": 43,
   "id": "4aea5227-2eb8-4b35-bb6f-eb709dc88a2c",
   "metadata": {},
   "outputs": [
    {
     "data": {
      "text/plain": [
       "True"
      ]
     },
     "execution_count": 43,
     "metadata": {},
     "output_type": "execute_result"
    }
   ],
   "source": [
    "(8 / 3) == 2.6666666666666665"
   ]
  },
  {
   "cell_type": "code",
   "execution_count": 44,
   "id": "2255d77b-25d4-422a-a114-e5f1af5b7912",
   "metadata": {},
   "outputs": [
    {
     "data": {
      "text/plain": [
       "False"
      ]
     },
     "execution_count": 44,
     "metadata": {},
     "output_type": "execute_result"
    }
   ],
   "source": [
    "(8 / 3) == 2.6666666666666661"
   ]
  },
  {
   "cell_type": "code",
   "execution_count": 45,
   "id": "584ead7a-a696-43ff-933b-4cd6f360b5b5",
   "metadata": {},
   "outputs": [
    {
     "data": {
      "text/plain": [
       "True"
      ]
     },
     "execution_count": 45,
     "metadata": {},
     "output_type": "execute_result"
    }
   ],
   "source": [
    "(8 / 3) == 2.66666666666666666661"
   ]
  },
  {
   "cell_type": "code",
   "execution_count": 46,
   "id": "bb57682a-4f7d-4dee-b961-94859cf4c964",
   "metadata": {},
   "outputs": [
    {
     "data": {
      "text/plain": [
       "True"
      ]
     },
     "execution_count": 46,
     "metadata": {},
     "output_type": "execute_result"
    }
   ],
   "source": [
    "(8 / 3) == 2.6666666666666666"
   ]
  },
  {
   "cell_type": "code",
   "execution_count": 47,
   "id": "003e6472-784b-42cd-b06b-cc00625d0da9",
   "metadata": {},
   "outputs": [
    {
     "name": "stdout",
     "output_type": "stream",
     "text": [
      "2.6666666667\n"
     ]
    }
   ],
   "source": [
    "print(round(8 / 3, 10))"
   ]
  },
  {
   "cell_type": "code",
   "execution_count": 48,
   "id": "6395fa67-00a5-42fc-bd70-1d4495aeaa98",
   "metadata": {},
   "outputs": [
    {
     "data": {
      "text/plain": [
       "0.5"
      ]
     },
     "execution_count": 48,
     "metadata": {},
     "output_type": "execute_result"
    }
   ],
   "source": [
    "0.2 + 0.3"
   ]
  },
  {
   "cell_type": "code",
   "execution_count": 49,
   "id": "a447135d-5b9f-40e2-81aa-e1201a25b91d",
   "metadata": {},
   "outputs": [
    {
     "data": {
      "text/plain": [
       "3"
      ]
     },
     "execution_count": 49,
     "metadata": {},
     "output_type": "execute_result"
    }
   ],
   "source": [
    "1 + 2"
   ]
  },
  {
   "cell_type": "code",
   "execution_count": 50,
   "id": "0f6f8c8b-f6d7-4d8a-b962-5aa69ee4e5e5",
   "metadata": {},
   "outputs": [
    {
     "data": {
      "text/plain": [
       "0.30000000000000004"
      ]
     },
     "execution_count": 50,
     "metadata": {},
     "output_type": "execute_result"
    }
   ],
   "source": [
    "0.1 + 0.2"
   ]
  },
  {
   "cell_type": "code",
   "execution_count": 51,
   "id": "1ff5ab77-0bc7-4f87-a0b8-f912496f9cff",
   "metadata": {},
   "outputs": [
    {
     "data": {
      "text/plain": [
       "False"
      ]
     },
     "execution_count": 51,
     "metadata": {},
     "output_type": "execute_result"
    }
   ],
   "source": [
    "0.1 + 0.2 == 0.3"
   ]
  },
  {
   "cell_type": "code",
   "execution_count": 52,
   "id": "381b082b-2639-46ab-b8a3-682b0092c2c0",
   "metadata": {},
   "outputs": [],
   "source": [
    "from sys import getsizeof"
   ]
  },
  {
   "cell_type": "code",
   "execution_count": 53,
   "id": "232c0b6f-fa72-463f-872d-0787ebff0bf1",
   "metadata": {},
   "outputs": [
    {
     "data": {
      "text/plain": [
       "28"
      ]
     },
     "execution_count": 53,
     "metadata": {},
     "output_type": "execute_result"
    }
   ],
   "source": [
    "getsizeof(1)"
   ]
  },
  {
   "cell_type": "code",
   "execution_count": 54,
   "id": "56a6b5bf-27dd-45fd-be12-df89b65efee5",
   "metadata": {},
   "outputs": [
    {
     "data": {
      "text/plain": [
       "24"
      ]
     },
     "execution_count": 54,
     "metadata": {},
     "output_type": "execute_result"
    }
   ],
   "source": [
    "getsizeof(1.0)"
   ]
  },
  {
   "cell_type": "code",
   "execution_count": 55,
   "id": "74461211-9d6b-4af4-9fa8-aba23292ea77",
   "metadata": {},
   "outputs": [],
   "source": [
    "val_int = 1\n",
    "val_float = 1.0"
   ]
  },
  {
   "cell_type": "code",
   "execution_count": 56,
   "id": "69308187-be73-41b4-8bbc-7ef1c8938a96",
   "metadata": {},
   "outputs": [
    {
     "data": {
      "text/plain": [
       "28"
      ]
     },
     "execution_count": 56,
     "metadata": {},
     "output_type": "execute_result"
    }
   ],
   "source": [
    "getsizeof(val_int)"
   ]
  },
  {
   "cell_type": "code",
   "execution_count": 58,
   "id": "2cce3f29-7746-4e5b-89e5-b317c9137a9a",
   "metadata": {},
   "outputs": [
    {
     "data": {
      "text/plain": [
       "24"
      ]
     },
     "execution_count": 58,
     "metadata": {},
     "output_type": "execute_result"
    }
   ],
   "source": [
    "getsizeof(val_float)"
   ]
  },
  {
   "cell_type": "code",
   "execution_count": 59,
   "id": "0508bb79-28a5-48ba-8c06-e69e26dcad9d",
   "metadata": {},
   "outputs": [],
   "source": [
    "val_int = 10_000_000\n",
    "val_float = 10_000_000.12345"
   ]
  },
  {
   "cell_type": "code",
   "execution_count": 60,
   "id": "05635a0f-587f-4dd1-8b2a-ba635dff3f06",
   "metadata": {},
   "outputs": [
    {
     "data": {
      "text/plain": [
       "28"
      ]
     },
     "execution_count": 60,
     "metadata": {},
     "output_type": "execute_result"
    }
   ],
   "source": [
    "getsizeof(val_int)"
   ]
  },
  {
   "cell_type": "code",
   "execution_count": 61,
   "id": "0b4eb5b1-8fe6-4ced-9340-e145bd76c751",
   "metadata": {},
   "outputs": [
    {
     "data": {
      "text/plain": [
       "24"
      ]
     },
     "execution_count": 61,
     "metadata": {},
     "output_type": "execute_result"
    }
   ],
   "source": [
    "getsizeof(val_float)"
   ]
  },
  {
   "cell_type": "code",
   "execution_count": 62,
   "id": "0149bd68-ab2d-4dbf-a8cf-cfcb7fa3147a",
   "metadata": {},
   "outputs": [
    {
     "data": {
      "text/plain": [
       "'220'"
      ]
     },
     "execution_count": 62,
     "metadata": {},
     "output_type": "execute_result"
    }
   ],
   "source": [
    "str(10 * 22)"
   ]
  },
  {
   "cell_type": "code",
   "execution_count": 63,
   "id": "90203945-7094-438a-b9ef-feb96299e60e",
   "metadata": {},
   "outputs": [
    {
     "data": {
      "text/plain": [
       "11"
      ]
     },
     "execution_count": 63,
     "metadata": {},
     "output_type": "execute_result"
    }
   ],
   "source": [
    "len(str(10**10))"
   ]
  },
  {
   "cell_type": "code",
   "execution_count": 64,
   "id": "35e202ce-4265-4083-a467-cfbc408d4cff",
   "metadata": {},
   "outputs": [
    {
     "data": {
      "text/plain": [
       "101"
      ]
     },
     "execution_count": 64,
     "metadata": {},
     "output_type": "execute_result"
    }
   ],
   "source": [
    "len(str(10**100))"
   ]
  },
  {
   "cell_type": "code",
   "execution_count": 65,
   "id": "35a1b603-819a-467d-a815-b9353328811d",
   "metadata": {},
   "outputs": [
    {
     "data": {
      "text/plain": [
       "1001"
      ]
     },
     "execution_count": 65,
     "metadata": {},
     "output_type": "execute_result"
    }
   ],
   "source": [
    "len(str(10**1000))"
   ]
  },
  {
   "cell_type": "code",
   "execution_count": 66,
   "id": "84b85914-6164-427c-8400-685aa33f5529",
   "metadata": {},
   "outputs": [
    {
     "name": "stdout",
     "output_type": "stream",
     "text": [
      "Help on built-in function getsizeof in module sys:\n",
      "\n",
      "getsizeof(...)\n",
      "    getsizeof(object [, default]) -> int\n",
      "\n",
      "    Return the size of object in bytes.\n",
      "\n"
     ]
    }
   ],
   "source": [
    "help(getsizeof)"
   ]
  },
  {
   "cell_type": "code",
   "execution_count": 67,
   "id": "5ddd3441-215f-441f-9be3-70359935e080",
   "metadata": {},
   "outputs": [
    {
     "data": {
      "text/plain": [
       "'abcqwe'"
      ]
     },
     "execution_count": 67,
     "metadata": {},
     "output_type": "execute_result"
    }
   ],
   "source": [
    "\"abc\" + \"qwe\""
   ]
  },
  {
   "cell_type": "code",
   "execution_count": 68,
   "id": "e795aa6d-8a9a-4ce2-b9dd-ad4903ae8cfd",
   "metadata": {},
   "outputs": [
    {
     "data": {
      "text/plain": [
       "'abcabcabcabcabcabcabcabcabcabc'"
      ]
     },
     "execution_count": 68,
     "metadata": {},
     "output_type": "execute_result"
    }
   ],
   "source": [
    "\"abc\" * 10"
   ]
  },
  {
   "cell_type": "code",
   "execution_count": 69,
   "id": "83662851-147f-42aa-905c-4c62926e8430",
   "metadata": {},
   "outputs": [
    {
     "data": {
      "text/plain": [
       "'helloworld'"
      ]
     },
     "execution_count": 69,
     "metadata": {},
     "output_type": "execute_result"
    }
   ],
   "source": [
    "\"hello\" + \"world\""
   ]
  },
  {
   "cell_type": "code",
   "execution_count": 70,
   "id": "cbaa3283-8ead-4419-9bd2-5ba77bc79ebd",
   "metadata": {},
   "outputs": [
    {
     "data": {
      "text/plain": [
       "'hello world'"
      ]
     },
     "execution_count": 70,
     "metadata": {},
     "output_type": "execute_result"
    }
   ],
   "source": [
    "\"hello\" + \" world\""
   ]
  },
  {
   "cell_type": "code",
   "execution_count": 71,
   "id": "50a3ed04-eb01-4c97-bfd6-d88a8f2b25f0",
   "metadata": {},
   "outputs": [
    {
     "name": "stdout",
     "output_type": "stream",
     "text": [
      "None\n"
     ]
    }
   ],
   "source": [
    "print(None)"
   ]
  },
  {
   "cell_type": "code",
   "execution_count": 72,
   "id": "3e115797-bef9-4e34-97bc-423e086a6fab",
   "metadata": {},
   "outputs": [
    {
     "name": "stdout",
     "output_type": "stream",
     "text": [
      "<class 'NoneType'>\n"
     ]
    }
   ],
   "source": [
    "print(type(None))"
   ]
  },
  {
   "cell_type": "code",
   "execution_count": 73,
   "id": "06186465-511d-446b-b080-6a58a72cec8b",
   "metadata": {},
   "outputs": [
    {
     "name": "stdout",
     "output_type": "stream",
     "text": [
      "<class 'int'>\n"
     ]
    }
   ],
   "source": [
    "print(type(1))"
   ]
  },
  {
   "cell_type": "code",
   "execution_count": 74,
   "id": "ad60588d-9894-4607-a240-d7ece6a81f95",
   "metadata": {},
   "outputs": [
    {
     "name": "stdout",
     "output_type": "stream",
     "text": [
      "<class 'float'>\n"
     ]
    }
   ],
   "source": [
    "print(type(1.0))"
   ]
  },
  {
   "cell_type": "code",
   "execution_count": 75,
   "id": "965e0bea-d66d-4420-98fd-8534bdb571f0",
   "metadata": {},
   "outputs": [
    {
     "name": "stdout",
     "output_type": "stream",
     "text": [
      "<class 'str'>\n"
     ]
    }
   ],
   "source": [
    "print(type('sdaf'))"
   ]
  },
  {
   "cell_type": "code",
   "execution_count": 76,
   "id": "abb76756-fe42-40aa-bf49-3330c5500c9f",
   "metadata": {},
   "outputs": [
    {
     "name": "stdout",
     "output_type": "stream",
     "text": [
      "<class 'bool'>\n"
     ]
    }
   ],
   "source": [
    "print(type(True))"
   ]
  },
  {
   "cell_type": "code",
   "execution_count": 77,
   "id": "9a777fb5-77f4-4dfc-b79c-22f182c20c2b",
   "metadata": {},
   "outputs": [
    {
     "data": {
      "text/plain": [
       "3.25"
      ]
     },
     "execution_count": 77,
     "metadata": {},
     "output_type": "execute_result"
    }
   ],
   "source": [
    "13 / 4"
   ]
  },
  {
   "cell_type": "code",
   "execution_count": 78,
   "id": "539623ec-af41-4719-a6e0-6b1748cc7051",
   "metadata": {},
   "outputs": [
    {
     "data": {
      "text/plain": [
       "1"
      ]
     },
     "execution_count": 78,
     "metadata": {},
     "output_type": "execute_result"
    }
   ],
   "source": [
    "13 % 4"
   ]
  },
  {
   "cell_type": "code",
   "execution_count": 79,
   "id": "a9c06897-f04d-401c-9858-8450363198be",
   "metadata": {},
   "outputs": [
    {
     "data": {
      "text/plain": [
       "2.6"
      ]
     },
     "execution_count": 79,
     "metadata": {},
     "output_type": "execute_result"
    }
   ],
   "source": [
    "13 / 5"
   ]
  },
  {
   "cell_type": "code",
   "execution_count": 80,
   "id": "bf0d7f96-16ea-4fef-b6e4-cdc0d5043f58",
   "metadata": {},
   "outputs": [
    {
     "data": {
      "text/plain": [
       "3"
      ]
     },
     "execution_count": 80,
     "metadata": {},
     "output_type": "execute_result"
    }
   ],
   "source": [
    "13 % 5"
   ]
  },
  {
   "cell_type": "code",
   "execution_count": 81,
   "id": "e4e64003-8050-4bc8-b876-472fc9b5c150",
   "metadata": {},
   "outputs": [
    {
     "data": {
      "text/plain": [
       "3.6"
      ]
     },
     "execution_count": 81,
     "metadata": {},
     "output_type": "execute_result"
    }
   ],
   "source": [
    "18 / 5"
   ]
  },
  {
   "cell_type": "code",
   "execution_count": null,
   "id": "a1ce30f7-ad89-44d1-9fbb-67d33428fcc5",
   "metadata": {},
   "outputs": [],
   "source": []
  }
 ],
 "metadata": {
  "kernelspec": {
   "display_name": "Python 3 (ipykernel)",
   "language": "python",
   "name": "python3"
  },
  "language_info": {
   "codemirror_mode": {
    "name": "ipython",
    "version": 3
   },
   "file_extension": ".py",
   "mimetype": "text/x-python",
   "name": "python",
   "nbconvert_exporter": "python",
   "pygments_lexer": "ipython3",
   "version": "3.13.2"
  }
 },
 "nbformat": 4,
 "nbformat_minor": 5
}
