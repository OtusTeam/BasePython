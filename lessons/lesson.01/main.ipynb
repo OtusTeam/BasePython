{
 "cells": [
  {
   "cell_type": "code",
   "execution_count": 1,
   "id": "694d6fb6-0af3-45f8-b6b2-79d34875bb22",
   "metadata": {},
   "outputs": [
    {
     "name": "stdout",
     "output_type": "stream",
     "text": [
      "hello world\n"
     ]
    }
   ],
   "source": [
    "print(\"hello world\")"
   ]
  },
  {
   "cell_type": "code",
   "execution_count": 2,
   "id": "1d40c851-f0fb-484e-b3ac-2c190f23b450",
   "metadata": {},
   "outputs": [
    {
     "name": "stdout",
     "output_type": "stream",
     "text": [
      "123\n"
     ]
    }
   ],
   "source": [
    "print(123)"
   ]
  },
  {
   "cell_type": "code",
   "execution_count": 3,
   "id": "9749830e-0f6f-4fca-95be-ac56f4c5959a",
   "metadata": {},
   "outputs": [
    {
     "data": {
      "text/plain": [
       "123"
      ]
     },
     "execution_count": 3,
     "metadata": {},
     "output_type": "execute_result"
    }
   ],
   "source": [
    "123"
   ]
  },
  {
   "cell_type": "code",
   "execution_count": 4,
   "id": "0f107b1f-c9c5-4dd7-931e-acc0dd27c933",
   "metadata": {},
   "outputs": [
    {
     "data": {
      "text/plain": [
       "'hello world!'"
      ]
     },
     "execution_count": 4,
     "metadata": {},
     "output_type": "execute_result"
    }
   ],
   "source": [
    "'hello world!'"
   ]
  },
  {
   "cell_type": "code",
   "execution_count": 5,
   "id": "01db5e1e-ce98-4219-926f-fb20a072821b",
   "metadata": {},
   "outputs": [
    {
     "data": {
      "text/plain": [
       "'hello!'"
      ]
     },
     "execution_count": 5,
     "metadata": {},
     "output_type": "execute_result"
    }
   ],
   "source": [
    "\"hello!\""
   ]
  },
  {
   "cell_type": "code",
   "execution_count": 6,
   "id": "39f013ea-f94b-46f5-9004-3bbd22fa79f9",
   "metadata": {},
   "outputs": [
    {
     "data": {
      "text/plain": [
       "'abc123'"
      ]
     },
     "execution_count": 6,
     "metadata": {},
     "output_type": "execute_result"
    }
   ],
   "source": [
    "\"abc123\""
   ]
  },
  {
   "cell_type": "code",
   "execution_count": 7,
   "id": "861407c4-e073-4f7f-bffa-1ee919b1d49b",
   "metadata": {},
   "outputs": [
    {
     "data": {
      "text/plain": [
       "'123'"
      ]
     },
     "execution_count": 7,
     "metadata": {},
     "output_type": "execute_result"
    }
   ],
   "source": [
    "'123'"
   ]
  },
  {
   "cell_type": "code",
   "execution_count": 8,
   "id": "fe48e97f-3255-4e32-8a76-ff0077495cfe",
   "metadata": {},
   "outputs": [
    {
     "data": {
      "text/plain": [
       "'Hello \"name\"'"
      ]
     },
     "execution_count": 8,
     "metadata": {},
     "output_type": "execute_result"
    }
   ],
   "source": [
    "'Hello \"name\"'"
   ]
  },
  {
   "cell_type": "code",
   "execution_count": 9,
   "id": "a8309589-b90d-496b-97b9-ff92350f5642",
   "metadata": {},
   "outputs": [
    {
     "data": {
      "text/plain": [
       "\"Hello 'name'\""
      ]
     },
     "execution_count": 9,
     "metadata": {},
     "output_type": "execute_result"
    }
   ],
   "source": [
    "\"Hello 'name'\""
   ]
  },
  {
   "cell_type": "code",
   "execution_count": 10,
   "id": "cab586a4-9f75-4ecb-b4ec-074e968fff7f",
   "metadata": {},
   "outputs": [
    {
     "data": {
      "text/plain": [
       "'hi \"foo\"hello \\'bar\\''"
      ]
     },
     "execution_count": 10,
     "metadata": {},
     "output_type": "execute_result"
    }
   ],
   "source": [
    "'hi \"foo\"' + \"hello 'bar'\""
   ]
  },
  {
   "cell_type": "code",
   "execution_count": 11,
   "id": "00b137e8-55b8-42a7-a779-b6f4804c80a9",
   "metadata": {},
   "outputs": [
    {
     "name": "stdout",
     "output_type": "stream",
     "text": [
      "hi \"foo\"hello 'bar'\n"
     ]
    }
   ],
   "source": [
    "print('hi \"foo\"' + \"hello 'bar'\")"
   ]
  },
  {
   "cell_type": "code",
   "execution_count": 12,
   "id": "29838a14-8e57-435d-a064-3af5db0f4bd2",
   "metadata": {},
   "outputs": [
    {
     "data": {
      "text/plain": [
       "'hi \"foo\" hello \\'bar\\''"
      ]
     },
     "execution_count": 12,
     "metadata": {},
     "output_type": "execute_result"
    }
   ],
   "source": [
    "'hi \"foo\"' + ' ' + \"hello 'bar'\""
   ]
  },
  {
   "cell_type": "code",
   "execution_count": 13,
   "id": "ab2d7ff3-de0e-41c9-a2d6-b967f86eaa41",
   "metadata": {},
   "outputs": [
    {
     "name": "stdout",
     "output_type": "stream",
     "text": [
      "hi \"foo\" hello 'bar'\n"
     ]
    }
   ],
   "source": [
    "print('hi \"foo\"' + ' ' + \"hello 'bar'\")"
   ]
  },
  {
   "cell_type": "code",
   "execution_count": 14,
   "id": "8e9e488d-b6be-431c-9b80-7b6dd8dfbec3",
   "metadata": {},
   "outputs": [
    {
     "data": {
      "text/plain": [
       "'helloworld'"
      ]
     },
     "execution_count": 14,
     "metadata": {},
     "output_type": "execute_result"
    }
   ],
   "source": [
    "\"hello\" + 'world'"
   ]
  },
  {
   "cell_type": "code",
   "execution_count": 15,
   "id": "30b173f3-e80d-43aa-b654-8d78eb42db30",
   "metadata": {},
   "outputs": [
    {
     "data": {
      "text/plain": [
       "'hi \"foo\" hello \\'bar\\''"
      ]
     },
     "execution_count": 15,
     "metadata": {},
     "output_type": "execute_result"
    }
   ],
   "source": [
    "'hi \"foo\" hello \\'bar\\''"
   ]
  },
  {
   "cell_type": "code",
   "execution_count": 16,
   "id": "5a6c7912-a8e8-4fc6-bba3-bfcc64db8423",
   "metadata": {},
   "outputs": [
    {
     "data": {
      "text/plain": [
       "'hello\\nworld'"
      ]
     },
     "execution_count": 16,
     "metadata": {},
     "output_type": "execute_result"
    }
   ],
   "source": [
    "\"hello\\nworld\""
   ]
  },
  {
   "cell_type": "code",
   "execution_count": 17,
   "id": "5feebba7-fc99-4f46-8429-3c69ae98baac",
   "metadata": {},
   "outputs": [
    {
     "name": "stdout",
     "output_type": "stream",
     "text": [
      "hello\n",
      "world\n"
     ]
    }
   ],
   "source": [
    "print('hello\\nworld')"
   ]
  },
  {
   "cell_type": "code",
   "execution_count": 18,
   "id": "072a3cf0-d682-44f0-9f50-5ae0ecb9c195",
   "metadata": {},
   "outputs": [
    {
     "name": "stdout",
     "output_type": "stream",
     "text": [
      "Hello\n",
      "abc\n",
      "foo bar\n",
      "Hello \"name\"\n",
      "Hi \"\" (no name)\n",
      "\n"
     ]
    }
   ],
   "source": [
    "print(\n",
    "\"\"\"Hello\n",
    "abc\n",
    "foo bar\n",
    "Hello \"name\"\n",
    "Hi \"\" (no name)\n",
    "\"\"\"\n",
    ")"
   ]
  },
  {
   "cell_type": "code",
   "execution_count": 19,
   "id": "8712b5b3-3ef5-47d1-8a6a-6780efeeafb4",
   "metadata": {},
   "outputs": [
    {
     "name": "stdout",
     "output_type": "stream",
     "text": [
      "Hello\n",
      "abc\n",
      "\t- foo\n",
      "\t- bar\n",
      "Hello \"name\"\n",
      "Hi \"\" (no name)\n",
      "\n"
     ]
    }
   ],
   "source": [
    "print(\n",
    "\"\"\"Hello\n",
    "abc\n",
    "\\t- foo\n",
    "\\t- bar\n",
    "Hello \"name\"\n",
    "Hi \"\" (no name)\n",
    "\"\"\"\n",
    ")"
   ]
  },
  {
   "cell_type": "code",
   "execution_count": 20,
   "id": "db37198a-467f-458d-9e10-40ad73856262",
   "metadata": {},
   "outputs": [
    {
     "name": "stdout",
     "output_type": "stream",
     "text": [
      "Hello\n",
      "abc- foo\n",
      "- bar\n",
      "Hello \"name\"\n",
      "Hi \"\" (no name)\n",
      "\n"
     ]
    }
   ],
   "source": [
    "print(\n",
    "\"\"\"Hello\n",
    "abc\\\n",
    "- foo\n",
    "- bar\n",
    "Hello \"name\"\n",
    "Hi \"\" (no name)\n",
    "\"\"\"\n",
    ")"
   ]
  },
  {
   "cell_type": "code",
   "execution_count": 21,
   "id": "9f8f7ce4-a5c5-4d35-ae98-349e86b11788",
   "metadata": {},
   "outputs": [
    {
     "name": "stdout",
     "output_type": "stream",
     "text": [
      "Hello\n",
      "abc\\\n",
      "- foo\n",
      "- bar\n",
      "Hello \"name\"\n",
      "Hi \"\" (no name)\n",
      "\n"
     ]
    }
   ],
   "source": [
    "print(\n",
    "\"\"\"Hello\n",
    "abc\\\\\n",
    "- foo\n",
    "- bar\n",
    "Hello \"name\"\n",
    "Hi \"\" (no name)\n",
    "\"\"\"\n",
    ")"
   ]
  },
  {
   "cell_type": "code",
   "execution_count": 22,
   "id": "61384136-748c-47a1-98bd-9868fad749f7",
   "metadata": {},
   "outputs": [
    {
     "name": "stdout",
     "output_type": "stream",
     "text": [
      "Hello\n",
      "abc\\- foo\n",
      "- bar\n",
      "Hello \"name\"\n",
      "Hi \"\" (no name)\n",
      "\n"
     ]
    }
   ],
   "source": [
    "print(\n",
    "\"\"\"Hello\n",
    "abc\\\\\\\n",
    "- foo\n",
    "- bar\n",
    "Hello \"name\"\n",
    "Hi \"\" (no name)\n",
    "\"\"\"\n",
    ")"
   ]
  },
  {
   "cell_type": "code",
   "execution_count": 23,
   "id": "67a3a1c6-eb64-40e9-92fc-d5f57635c64e",
   "metadata": {},
   "outputs": [
    {
     "data": {
      "text/plain": [
       "5"
      ]
     },
     "execution_count": 23,
     "metadata": {},
     "output_type": "execute_result"
    }
   ],
   "source": [
    "2 + 3"
   ]
  },
  {
   "cell_type": "code",
   "execution_count": 24,
   "id": "74534ae6-0da9-4b5a-bbc6-912c6f83a3b2",
   "metadata": {},
   "outputs": [
    {
     "data": {
      "text/plain": [
       "9"
      ]
     },
     "execution_count": 24,
     "metadata": {},
     "output_type": "execute_result"
    }
   ],
   "source": [
    "4 + 5"
   ]
  },
  {
   "cell_type": "code",
   "execution_count": 25,
   "id": "b8a5df64-11c2-4b90-af77-fa586a80dab4",
   "metadata": {},
   "outputs": [
    {
     "data": {
      "text/plain": [
       "20"
      ]
     },
     "execution_count": 25,
     "metadata": {},
     "output_type": "execute_result"
    }
   ],
   "source": [
    "4 * 5"
   ]
  },
  {
   "cell_type": "code",
   "execution_count": 26,
   "id": "d3fbc6ec-beab-43ca-903b-fa90afcc0065",
   "metadata": {},
   "outputs": [
    {
     "data": {
      "text/plain": [
       "42"
      ]
     },
     "execution_count": 26,
     "metadata": {},
     "output_type": "execute_result"
    }
   ],
   "source": [
    "6 * 7"
   ]
  },
  {
   "cell_type": "code",
   "execution_count": 27,
   "id": "fc9cf2a3-ff99-4d0a-94d9-cf2caaebf781",
   "metadata": {},
   "outputs": [
    {
     "data": {
      "text/plain": [
       "7"
      ]
     },
     "execution_count": 27,
     "metadata": {},
     "output_type": "execute_result"
    }
   ],
   "source": [
    "10 - 3"
   ]
  },
  {
   "cell_type": "code",
   "execution_count": 28,
   "id": "51967a3d-e463-4415-860d-72d490f7a878",
   "metadata": {},
   "outputs": [
    {
     "data": {
      "text/plain": [
       "-73"
      ]
     },
     "execution_count": 28,
     "metadata": {},
     "output_type": "execute_result"
    }
   ],
   "source": [
    "7 - 80"
   ]
  },
  {
   "cell_type": "code",
   "execution_count": 29,
   "id": "69598cd7-6c3d-4ad2-97d8-aec2c10db585",
   "metadata": {},
   "outputs": [
    {
     "data": {
      "text/plain": [
       "4"
      ]
     },
     "execution_count": 29,
     "metadata": {},
     "output_type": "execute_result"
    }
   ],
   "source": [
    "2 * 2"
   ]
  },
  {
   "cell_type": "code",
   "execution_count": 30,
   "id": "97ddde13-722d-4383-b6b2-cadf66c570cd",
   "metadata": {},
   "outputs": [
    {
     "data": {
      "text/plain": [
       "8"
      ]
     },
     "execution_count": 30,
     "metadata": {},
     "output_type": "execute_result"
    }
   ],
   "source": [
    "2 * 2 * 2"
   ]
  },
  {
   "cell_type": "code",
   "execution_count": 31,
   "id": "f670b0bc-e8a3-4373-a318-72c9c4805536",
   "metadata": {},
   "outputs": [
    {
     "data": {
      "text/plain": [
       "8"
      ]
     },
     "execution_count": 31,
     "metadata": {},
     "output_type": "execute_result"
    }
   ],
   "source": [
    "2**3"
   ]
  },
  {
   "cell_type": "code",
   "execution_count": 32,
   "id": "18706dd3-90a2-426a-8d0c-350a0f95cd6d",
   "metadata": {},
   "outputs": [
    {
     "data": {
      "text/plain": [
       "81"
      ]
     },
     "execution_count": 32,
     "metadata": {},
     "output_type": "execute_result"
    }
   ],
   "source": [
    "3 ** 4"
   ]
  },
  {
   "cell_type": "code",
   "execution_count": 33,
   "id": "872a05a8-ffe4-4219-922d-ed1a59374b0f",
   "metadata": {},
   "outputs": [
    {
     "data": {
      "text/plain": [
       "2.5"
      ]
     },
     "execution_count": 33,
     "metadata": {},
     "output_type": "execute_result"
    }
   ],
   "source": [
    "5 / 2"
   ]
  },
  {
   "cell_type": "code",
   "execution_count": 34,
   "id": "e7cea82d-fb1b-48a7-996b-22b039d09514",
   "metadata": {},
   "outputs": [
    {
     "data": {
      "text/plain": [
       "3.5"
      ]
     },
     "execution_count": 34,
     "metadata": {},
     "output_type": "execute_result"
    }
   ],
   "source": [
    "7 / 2"
   ]
  },
  {
   "cell_type": "code",
   "execution_count": 35,
   "id": "05c67b8b-5714-4824-8ffc-b5e9a24b5d8e",
   "metadata": {},
   "outputs": [
    {
     "data": {
      "text/plain": [
       "3.3333333333333335"
      ]
     },
     "execution_count": 35,
     "metadata": {},
     "output_type": "execute_result"
    }
   ],
   "source": [
    "10 / 3"
   ]
  },
  {
   "cell_type": "code",
   "execution_count": 36,
   "id": "16487f92-5fa0-4e5d-a5a2-64a352d3bf17",
   "metadata": {},
   "outputs": [
    {
     "data": {
      "text/plain": [
       "5.0"
      ]
     },
     "execution_count": 36,
     "metadata": {},
     "output_type": "execute_result"
    }
   ],
   "source": [
    "10 / 2"
   ]
  },
  {
   "cell_type": "code",
   "execution_count": 37,
   "id": "fc276456-edc0-4e27-bb2b-f6bd996ce23a",
   "metadata": {},
   "outputs": [
    {
     "data": {
      "text/plain": [
       "True"
      ]
     },
     "execution_count": 37,
     "metadata": {},
     "output_type": "execute_result"
    }
   ],
   "source": [
    "5 == 5.0"
   ]
  },
  {
   "cell_type": "code",
   "execution_count": 38,
   "id": "98dc069d-5a86-4376-8bc5-7ae37de04058",
   "metadata": {},
   "outputs": [
    {
     "data": {
      "text/plain": [
       "int"
      ]
     },
     "execution_count": 38,
     "metadata": {},
     "output_type": "execute_result"
    }
   ],
   "source": [
    "type(5)"
   ]
  },
  {
   "cell_type": "code",
   "execution_count": 39,
   "id": "d1212095-12f1-4fd4-b897-95bce551ccc7",
   "metadata": {},
   "outputs": [
    {
     "data": {
      "text/plain": [
       "float"
      ]
     },
     "execution_count": 39,
     "metadata": {},
     "output_type": "execute_result"
    }
   ],
   "source": [
    "type(5.0)"
   ]
  },
  {
   "cell_type": "code",
   "execution_count": 40,
   "id": "8301924b-aa79-4527-9b25-db95dd5cb71b",
   "metadata": {},
   "outputs": [
    {
     "name": "stdout",
     "output_type": "stream",
     "text": [
      "<class 'int'>\n"
     ]
    }
   ],
   "source": [
    "print(type(5))"
   ]
  },
  {
   "cell_type": "code",
   "execution_count": 41,
   "id": "d1e13037-4427-432b-b447-996740c14588",
   "metadata": {},
   "outputs": [
    {
     "name": "stdout",
     "output_type": "stream",
     "text": [
      "<class 'float'>\n"
     ]
    }
   ],
   "source": [
    "print(type(5.0))"
   ]
  },
  {
   "cell_type": "code",
   "execution_count": 42,
   "id": "56631828-6dfb-4e07-a355-ba6a9d39ca97",
   "metadata": {},
   "outputs": [
    {
     "name": "stdout",
     "output_type": "stream",
     "text": [
      "<class 'builtin_function_or_method'>\n"
     ]
    }
   ],
   "source": [
    "print(type(print))"
   ]
  },
  {
   "cell_type": "code",
   "execution_count": 43,
   "id": "1504c266-657a-46ed-aa7d-faf329dff2e2",
   "metadata": {},
   "outputs": [
    {
     "name": "stdout",
     "output_type": "stream",
     "text": [
      "<class 'str'>\n"
     ]
    }
   ],
   "source": [
    "print(type(''))"
   ]
  },
  {
   "cell_type": "code",
   "execution_count": 44,
   "id": "758f7fed-f11b-42a8-966b-ebb74de80486",
   "metadata": {},
   "outputs": [
    {
     "data": {
      "text/plain": [
       "4294967296"
      ]
     },
     "execution_count": 44,
     "metadata": {},
     "output_type": "execute_result"
    }
   ],
   "source": [
    "2**32"
   ]
  },
  {
   "cell_type": "code",
   "execution_count": 45,
   "id": "b4ea5fe3-e171-4df5-9c7e-0df0817cd627",
   "metadata": {},
   "outputs": [
    {
     "data": {
      "text/plain": [
       "18446744073709551616"
      ]
     },
     "execution_count": 45,
     "metadata": {},
     "output_type": "execute_result"
    }
   ],
   "source": [
    "2**64"
   ]
  },
  {
   "cell_type": "code",
   "execution_count": 46,
   "id": "c3bb155f-48e0-43a4-89e4-a726fde02a51",
   "metadata": {},
   "outputs": [
    {
     "data": {
      "text/plain": [
       "1267650600228229401496703205376"
      ]
     },
     "execution_count": 46,
     "metadata": {},
     "output_type": "execute_result"
    }
   ],
   "source": [
    "2**100"
   ]
  },
  {
   "cell_type": "code",
   "execution_count": 47,
   "id": "ecbfc8b7-3cae-472c-bd23-b18a2916b079",
   "metadata": {},
   "outputs": [
    {
     "data": {
      "text/plain": [
       "19950631168807583848837421626835850838234968318861924548520089498529438830221946631919961684036194597899331129423209124271556491349413781117593785932096323957855730046793794526765246551266059895520550086918193311542508608460618104685509074866089624888090489894838009253941633257850621568309473902556912388065225096643874441046759871626985453222868538161694315775629640762836880760732228535091641476183956381458969463899410840960536267821064621427333394036525565649530603142680234969400335934316651459297773279665775606172582031407994198179607378245683762280037302885487251900834464581454650557929601414833921615734588139257095379769119277800826957735674444123062018757836325502728323789270710373802866393031428133241401624195671690574061419654342324638801248856147305207431992259611796250130992860241708340807605932320161268492288496255841312844061536738951487114256315111089745514203313820202931640957596464756010405845841566072044962867016515061920631004186422275908670900574606417856951911456055068251250406007519842261898059237118054444788072906395242548339221982707404473162376760846613033778706039803413197133493654622700563169937455508241780972810983291314403571877524768509857276937926433221599399876886660808368837838027643282775172273657572744784112294389733810861607423253291974813120197604178281965697475898164531258434135959862784130128185406283476649088690521047580882615823961985770122407044330583075869039319604603404973156583208672105913300903752823415539745394397715257455290510212310947321610753474825740775273986348298498340756937955646638621874569499279016572103701364433135817214311791398222983845847334440270964182851005072927748364550578634501100852987812389473928699540834346158807043959118985815145779177143619698728131459483783202081474982171858011389071228250905826817436220577475921417653715687725614904582904992461028630081535583308130101987675856234343538955409175623400844887526162643568648833519463720377293240094456246923254350400678027273837755376406726898636241037491410966718557050759098100246789880178271925953381282421954028302759408448955014676668389697996886241636313376393903373455801407636741877711055384225739499110186468219696581651485130494222369947714763069155468217682876200362777257723781365331611196811280792669481887201298643660768551639860534602297871557517947385246369446923087894265948217008051120322365496288169035739121368338393591756418733850510970271613915439590991598154654417336311656936031122249937969999226781732358023111862644575299135758175008199839236284615249881088960232244362173771618086357015468484058622329792853875623486556440536962622018963571028812361567512543338303270029097668650568557157505516727518899194129711337690149916181315171544007728650573189557450920330185304847113818315407324053319038462084036421763703911550639789000742853672196280903477974533320468368795868580237952218629120080742819551317948157624448298518461509704888027274721574688131594750409732115080498190455803416826949787141316063210686391511681774304792596709376"
      ]
     },
     "execution_count": 47,
     "metadata": {},
     "output_type": "execute_result"
    }
   ],
   "source": [
    "2**10000"
   ]
  },
  {
   "cell_type": "code",
   "execution_count": 48,
   "id": "f5980cb9-8915-42c9-b3c3-60ef6a9db16e",
   "metadata": {},
   "outputs": [
    {
     "data": {
      "text/plain": [
       "'abc'"
      ]
     },
     "execution_count": 48,
     "metadata": {},
     "output_type": "execute_result"
    }
   ],
   "source": [
    "\"abc\""
   ]
  },
  {
   "cell_type": "code",
   "execution_count": 49,
   "id": "039e7ed0-9f78-4112-9d9e-e5d0d430766e",
   "metadata": {},
   "outputs": [
    {
     "data": {
      "text/plain": [
       "'abcabc'"
      ]
     },
     "execution_count": 49,
     "metadata": {},
     "output_type": "execute_result"
    }
   ],
   "source": [
    "\"abc\" * 2"
   ]
  },
  {
   "cell_type": "code",
   "execution_count": 50,
   "id": "2eee25e9-b5f3-42e2-a1e3-514e7a2c2972",
   "metadata": {},
   "outputs": [
    {
     "data": {
      "text/plain": [
       "'abcabcabcabcabcabcabcabcabcabcabcabcabcabcabcabcabcabcabcabc'"
      ]
     },
     "execution_count": 50,
     "metadata": {},
     "output_type": "execute_result"
    }
   ],
   "source": [
    "\"abc\" * 20"
   ]
  },
  {
   "cell_type": "code",
   "execution_count": 51,
   "id": "5c15f622-4f4e-4a45-9f10-ae0b3cd85a14",
   "metadata": {},
   "outputs": [
    {
     "data": {
      "text/plain": [
       "'abcabcabcabcabcabcabcabcabcabcabcabcabcabcabcabcabcabcabcabcabcabcabcabcabcabcabcabcabcabcabcabcabcabcabcabcabcabcabcabcabcabcabcabcabcabcabcabcabcabcabcabcabcabcabcabcabcabcabcabcabcabcabcabcabcabcabcabcabcabcabcabcabcabcabcabcabcabcabcabcabcabcabcabcabcabcabcabcabcabcabcabcabcabcabcabcabcabcabcabcabcabcabcabcabcabcabcabcabcabcabcabcabcabcabcabcabcabcabcabcabcabcabcabcabcabcabcabcabcabcabcabcabcabcabcabcabcabcabcabcabcabcabcabcabcabcabcabcabcabcabcabcabcabcabcabcabcabcabcabcabcabcabcabcabcabcabcabcabcabcabcabcabcabcabcabcabcabcabcabcabcabcabcabcabcabcabcabcabcabcabcabcabcabcabcabcabcabcabcabc'"
      ]
     },
     "execution_count": 51,
     "metadata": {},
     "output_type": "execute_result"
    }
   ],
   "source": [
    "\"abc\" * 200"
   ]
  },
  {
   "cell_type": "code",
   "execution_count": 52,
   "id": "22935e72-1660-49e7-b5f8-8c6a61093677",
   "metadata": {},
   "outputs": [
    {
     "data": {
      "text/plain": [
       "6"
      ]
     },
     "execution_count": 52,
     "metadata": {},
     "output_type": "execute_result"
    }
   ],
   "source": [
    "2 + 2 * 2"
   ]
  },
  {
   "cell_type": "code",
   "execution_count": 53,
   "id": "018827ca-6e0e-4982-9816-db3a126836d1",
   "metadata": {},
   "outputs": [
    {
     "data": {
      "text/plain": [
       "8"
      ]
     },
     "execution_count": 53,
     "metadata": {},
     "output_type": "execute_result"
    }
   ],
   "source": [
    "(2 + 2) * 2"
   ]
  },
  {
   "cell_type": "code",
   "execution_count": 54,
   "id": "8078378f-67e5-4cf8-9439-da06559755fe",
   "metadata": {},
   "outputs": [
    {
     "data": {
      "text/plain": [
       "1.0"
      ]
     },
     "execution_count": 54,
     "metadata": {},
     "output_type": "execute_result"
    }
   ],
   "source": [
    "2 / 2"
   ]
  },
  {
   "cell_type": "code",
   "execution_count": 55,
   "id": "c79a71ee-72df-4ac9-9224-e8160c36d6a9",
   "metadata": {},
   "outputs": [
    {
     "data": {
      "text/plain": [
       "4.0"
      ]
     },
     "execution_count": 55,
     "metadata": {},
     "output_type": "execute_result"
    }
   ],
   "source": [
    "5 - 2 / 2"
   ]
  },
  {
   "cell_type": "code",
   "execution_count": 56,
   "id": "161e4ba0-b441-4eeb-aff4-0227291747a5",
   "metadata": {},
   "outputs": [
    {
     "data": {
      "text/plain": [
       "5.0"
      ]
     },
     "execution_count": 56,
     "metadata": {},
     "output_type": "execute_result"
    }
   ],
   "source": [
    "10 / 2"
   ]
  },
  {
   "cell_type": "code",
   "execution_count": 57,
   "id": "c0959a82-f718-491f-88a3-0f8529103026",
   "metadata": {},
   "outputs": [
    {
     "data": {
      "text/plain": [
       "5"
      ]
     },
     "execution_count": 57,
     "metadata": {},
     "output_type": "execute_result"
    }
   ],
   "source": [
    "10 // 2"
   ]
  },
  {
   "cell_type": "code",
   "execution_count": 58,
   "id": "7e010d31-5e5c-49e3-8091-f4f62a85bfd9",
   "metadata": {},
   "outputs": [
    {
     "data": {
      "text/plain": [
       "1.1666666666666667"
      ]
     },
     "execution_count": 58,
     "metadata": {},
     "output_type": "execute_result"
    }
   ],
   "source": [
    "7 / 6"
   ]
  },
  {
   "cell_type": "code",
   "execution_count": 59,
   "id": "69be6bd9-28fc-4405-b50f-2956d2c804a3",
   "metadata": {},
   "outputs": [
    {
     "data": {
      "text/plain": [
       "1"
      ]
     },
     "execution_count": 59,
     "metadata": {},
     "output_type": "execute_result"
    }
   ],
   "source": [
    "7 // 6"
   ]
  },
  {
   "cell_type": "code",
   "execution_count": 60,
   "id": "8e3faa1c-b661-4e9b-8304-5f2dcaa7f831",
   "metadata": {},
   "outputs": [
    {
     "data": {
      "text/plain": [
       "2.75"
      ]
     },
     "execution_count": 60,
     "metadata": {},
     "output_type": "execute_result"
    }
   ],
   "source": [
    "11 / 4"
   ]
  },
  {
   "cell_type": "code",
   "execution_count": 61,
   "id": "8b98b396-607b-4dd7-ae56-70e515682a5c",
   "metadata": {},
   "outputs": [
    {
     "data": {
      "text/plain": [
       "2"
      ]
     },
     "execution_count": 61,
     "metadata": {},
     "output_type": "execute_result"
    }
   ],
   "source": [
    "11 // 4"
   ]
  },
  {
   "cell_type": "code",
   "execution_count": 62,
   "id": "a6500492-8656-4ed6-952c-ed225ff16f10",
   "metadata": {},
   "outputs": [
    {
     "data": {
      "text/plain": [
       "2.5"
      ]
     },
     "execution_count": 62,
     "metadata": {},
     "output_type": "execute_result"
    }
   ],
   "source": [
    "10 / 4"
   ]
  },
  {
   "cell_type": "code",
   "execution_count": 63,
   "id": "768669de-8573-41b8-801f-a82519ce73a3",
   "metadata": {},
   "outputs": [
    {
     "data": {
      "text/plain": [
       "2"
      ]
     },
     "execution_count": 63,
     "metadata": {},
     "output_type": "execute_result"
    }
   ],
   "source": [
    "10 % 4"
   ]
  },
  {
   "cell_type": "code",
   "execution_count": 64,
   "id": "3ac5a72d-6429-4741-a4a4-05d94c729c84",
   "metadata": {},
   "outputs": [
    {
     "data": {
      "text/plain": [
       "3"
      ]
     },
     "execution_count": 64,
     "metadata": {},
     "output_type": "execute_result"
    }
   ],
   "source": [
    "11 % 4"
   ]
  },
  {
   "cell_type": "code",
   "execution_count": 65,
   "id": "55f73865-9840-4d42-9078-eba69138adb2",
   "metadata": {},
   "outputs": [],
   "source": [
    "import math"
   ]
  },
  {
   "cell_type": "code",
   "execution_count": 66,
   "id": "1a28d216-2388-4472-9420-6a30b4a62e7c",
   "metadata": {},
   "outputs": [
    {
     "data": {
      "text/plain": [
       "<module 'math' from '/Users/suren/.pyenv/versions/3.11.4/lib/python3.11/lib-dynload/math.cpython-311-darwin.so'>"
      ]
     },
     "execution_count": 66,
     "metadata": {},
     "output_type": "execute_result"
    }
   ],
   "source": [
    "math"
   ]
  },
  {
   "cell_type": "code",
   "execution_count": 67,
   "id": "d35f7dc9-aa5f-4f8e-a804-d961538939e9",
   "metadata": {},
   "outputs": [
    {
     "data": {
      "text/plain": [
       "2"
      ]
     },
     "execution_count": 67,
     "metadata": {},
     "output_type": "execute_result"
    }
   ],
   "source": [
    "math.ceil(7/6)"
   ]
  },
  {
   "cell_type": "code",
   "execution_count": 68,
   "id": "cf16752c-a1b4-4c4b-9f1d-d91255eb7ebf",
   "metadata": {},
   "outputs": [
    {
     "data": {
      "text/plain": [
       "1.1666666666666667"
      ]
     },
     "execution_count": 68,
     "metadata": {},
     "output_type": "execute_result"
    }
   ],
   "source": [
    "7/6"
   ]
  },
  {
   "cell_type": "code",
   "execution_count": 69,
   "id": "f0e47482-b60a-4e2e-9b26-1d4ece74c161",
   "metadata": {},
   "outputs": [
    {
     "data": {
      "text/plain": [
       "3"
      ]
     },
     "execution_count": 69,
     "metadata": {},
     "output_type": "execute_result"
    }
   ],
   "source": [
    "math.ceil(11 / 4)"
   ]
  },
  {
   "cell_type": "code",
   "execution_count": 70,
   "id": "df97c660-d43c-471c-befa-bde5acfd8826",
   "metadata": {},
   "outputs": [
    {
     "data": {
      "text/plain": [
       "2"
      ]
     },
     "execution_count": 70,
     "metadata": {},
     "output_type": "execute_result"
    }
   ],
   "source": [
    "math.floor(11 / 4)"
   ]
  },
  {
   "cell_type": "code",
   "execution_count": 71,
   "id": "10fd47d1-bf5b-43e6-b530-534f4c9111fa",
   "metadata": {},
   "outputs": [
    {
     "data": {
      "text/plain": [
       "2"
      ]
     },
     "execution_count": 71,
     "metadata": {},
     "output_type": "execute_result"
    }
   ],
   "source": [
    "11 // 4"
   ]
  },
  {
   "cell_type": "code",
   "execution_count": 72,
   "id": "0cea072f-e713-43d5-a189-a2ec2fdd0d12",
   "metadata": {},
   "outputs": [
    {
     "data": {
      "text/plain": [
       "1"
      ]
     },
     "execution_count": 72,
     "metadata": {},
     "output_type": "execute_result"
    }
   ],
   "source": [
    "math.floor(7/6)"
   ]
  },
  {
   "cell_type": "code",
   "execution_count": 73,
   "id": "2cfc515f-9558-4d9d-9f12-577f5e113796",
   "metadata": {},
   "outputs": [
    {
     "data": {
      "text/plain": [
       "3"
      ]
     },
     "execution_count": 73,
     "metadata": {},
     "output_type": "execute_result"
    }
   ],
   "source": [
    "round(11 / 4)"
   ]
  },
  {
   "cell_type": "code",
   "execution_count": 74,
   "id": "5dc4f72d-50cc-4613-a873-9d08d5460497",
   "metadata": {},
   "outputs": [
    {
     "data": {
      "text/plain": [
       "2"
      ]
     },
     "execution_count": 74,
     "metadata": {},
     "output_type": "execute_result"
    }
   ],
   "source": [
    "round(10 / 4)"
   ]
  },
  {
   "cell_type": "code",
   "execution_count": 75,
   "id": "fcb26368-397b-4518-bfbb-45e77ae4303a",
   "metadata": {},
   "outputs": [
    {
     "data": {
      "text/plain": [
       "1"
      ]
     },
     "execution_count": 75,
     "metadata": {},
     "output_type": "execute_result"
    }
   ],
   "source": [
    "round(7/6)"
   ]
  },
  {
   "cell_type": "code",
   "execution_count": 76,
   "id": "c84a6f9e-783f-4cec-8212-8c193f9cb738",
   "metadata": {},
   "outputs": [
    {
     "data": {
      "text/plain": [
       "16"
      ]
     },
     "execution_count": 76,
     "metadata": {},
     "output_type": "execute_result"
    }
   ],
   "source": [
    "2**4"
   ]
  },
  {
   "cell_type": "code",
   "execution_count": 77,
   "id": "d3744493-4e2f-4a89-86ae-25accd87d36b",
   "metadata": {},
   "outputs": [],
   "source": [
    "num = 123456"
   ]
  },
  {
   "cell_type": "code",
   "execution_count": 78,
   "id": "e882460d-6d7a-462e-9600-0325e91791cc",
   "metadata": {},
   "outputs": [
    {
     "data": {
      "text/plain": [
       "123456"
      ]
     },
     "execution_count": 78,
     "metadata": {},
     "output_type": "execute_result"
    }
   ],
   "source": [
    "num"
   ]
  },
  {
   "cell_type": "code",
   "execution_count": 79,
   "id": "0437152c-6911-4039-877a-a62579c20cd1",
   "metadata": {},
   "outputs": [
    {
     "data": {
      "text/plain": [
       "123456"
      ]
     },
     "execution_count": 79,
     "metadata": {},
     "output_type": "execute_result"
    }
   ],
   "source": [
    "num"
   ]
  },
  {
   "cell_type": "code",
   "execution_count": 80,
   "id": "15d006b3-2ad8-4050-ad6b-da18da911fb8",
   "metadata": {},
   "outputs": [],
   "source": [
    "s = \"\""
   ]
  },
  {
   "cell_type": "code",
   "execution_count": 81,
   "id": "1b45b383-56be-496a-aedf-fb4c8901a623",
   "metadata": {},
   "outputs": [
    {
     "data": {
      "text/plain": [
       "''"
      ]
     },
     "execution_count": 81,
     "metadata": {},
     "output_type": "execute_result"
    }
   ],
   "source": [
    "s"
   ]
  },
  {
   "cell_type": "code",
   "execution_count": 82,
   "id": "17f661fd-41e9-4957-b02d-85089d912295",
   "metadata": {},
   "outputs": [
    {
     "name": "stdout",
     "output_type": "stream",
     "text": [
      "\n"
     ]
    }
   ],
   "source": [
    "print(s)"
   ]
  },
  {
   "cell_type": "code",
   "execution_count": 83,
   "id": "aadf0bc3-f301-4dc6-830a-90bbb7fc66cb",
   "metadata": {},
   "outputs": [],
   "source": [
    "s = \"hello\""
   ]
  },
  {
   "cell_type": "code",
   "execution_count": 84,
   "id": "50b46d41-dfad-489f-a3c0-6057116d3ab4",
   "metadata": {},
   "outputs": [
    {
     "data": {
      "text/plain": [
       "'hello'"
      ]
     },
     "execution_count": 84,
     "metadata": {},
     "output_type": "execute_result"
    }
   ],
   "source": [
    "s"
   ]
  },
  {
   "cell_type": "code",
   "execution_count": 85,
   "id": "9ce65106-e191-414a-9aa9-8f93bb120cda",
   "metadata": {},
   "outputs": [],
   "source": [
    "s = s + ' world'"
   ]
  },
  {
   "cell_type": "code",
   "execution_count": 86,
   "id": "15fa6ffe-b8ac-40d1-9fe2-79541f556dd7",
   "metadata": {},
   "outputs": [
    {
     "data": {
      "text/plain": [
       "'hello world'"
      ]
     },
     "execution_count": 86,
     "metadata": {},
     "output_type": "execute_result"
    }
   ],
   "source": [
    "s"
   ]
  },
  {
   "cell_type": "code",
   "execution_count": 87,
   "id": "2e58a161-9c8c-42a2-87f5-47a6467fd661",
   "metadata": {},
   "outputs": [],
   "source": [
    "s = 123"
   ]
  },
  {
   "cell_type": "code",
   "execution_count": 88,
   "id": "0301e96a-638b-4043-8e3c-835d1981e733",
   "metadata": {},
   "outputs": [
    {
     "data": {
      "text/plain": [
       "123"
      ]
     },
     "execution_count": 88,
     "metadata": {},
     "output_type": "execute_result"
    }
   ],
   "source": [
    "s"
   ]
  },
  {
   "cell_type": "code",
   "execution_count": 89,
   "id": "a50b7f47-ed95-42b8-8c74-4a06960eda83",
   "metadata": {},
   "outputs": [
    {
     "data": {
      "text/plain": [
       "int"
      ]
     },
     "execution_count": 89,
     "metadata": {},
     "output_type": "execute_result"
    }
   ],
   "source": [
    "type(s)"
   ]
  },
  {
   "cell_type": "code",
   "execution_count": 90,
   "id": "d9c38f61-2aba-45ad-91a1-441466131474",
   "metadata": {},
   "outputs": [],
   "source": [
    "s = \"\""
   ]
  },
  {
   "cell_type": "code",
   "execution_count": 91,
   "id": "aeef6610-ed43-48fd-b279-d35a10ef7525",
   "metadata": {},
   "outputs": [
    {
     "data": {
      "text/plain": [
       "str"
      ]
     },
     "execution_count": 91,
     "metadata": {},
     "output_type": "execute_result"
    }
   ],
   "source": [
    "type(s)"
   ]
  },
  {
   "cell_type": "code",
   "execution_count": 92,
   "id": "8027da79-c039-450d-b53c-cd9ffdf557d0",
   "metadata": {},
   "outputs": [
    {
     "data": {
      "text/plain": [
       "123456"
      ]
     },
     "execution_count": 92,
     "metadata": {},
     "output_type": "execute_result"
    }
   ],
   "source": [
    "num"
   ]
  },
  {
   "cell_type": "code",
   "execution_count": 93,
   "id": "20d891ec-07ea-444e-934f-c652fb7df3e4",
   "metadata": {},
   "outputs": [
    {
     "data": {
      "text/plain": [
       "'123456'"
      ]
     },
     "execution_count": 93,
     "metadata": {},
     "output_type": "execute_result"
    }
   ],
   "source": [
    "str(num)"
   ]
  },
  {
   "cell_type": "code",
   "execution_count": 94,
   "id": "d700e6ee-3f6f-4a27-b212-ab31f03f9ffb",
   "metadata": {},
   "outputs": [
    {
     "data": {
      "text/plain": [
       "123"
      ]
     },
     "execution_count": 94,
     "metadata": {},
     "output_type": "execute_result"
    }
   ],
   "source": [
    "int(\"123\")"
   ]
  },
  {
   "cell_type": "code",
   "execution_count": 95,
   "id": "6cce8fd6-b4a6-43b1-99d3-770792a0420d",
   "metadata": {},
   "outputs": [
    {
     "data": {
      "text/plain": [
       "123456"
      ]
     },
     "execution_count": 95,
     "metadata": {},
     "output_type": "execute_result"
    }
   ],
   "source": [
    "num"
   ]
  },
  {
   "cell_type": "code",
   "execution_count": 96,
   "id": "3b2a9fd3-f785-48dc-8fb6-cc330942f34f",
   "metadata": {},
   "outputs": [],
   "source": [
    "reversed_num = 0"
   ]
  },
  {
   "cell_type": "code",
   "execution_count": 97,
   "id": "4ff44949-5f89-450f-81fd-78e0772897fa",
   "metadata": {},
   "outputs": [
    {
     "data": {
      "text/plain": [
       "12345"
      ]
     },
     "execution_count": 97,
     "metadata": {},
     "output_type": "execute_result"
    }
   ],
   "source": [
    "num // 10"
   ]
  },
  {
   "cell_type": "code",
   "execution_count": 98,
   "id": "4fcf6568-cdcf-45e4-bb62-aba13a5ce432",
   "metadata": {},
   "outputs": [
    {
     "data": {
      "text/plain": [
       "6"
      ]
     },
     "execution_count": 98,
     "metadata": {},
     "output_type": "execute_result"
    }
   ],
   "source": [
    "num % 10"
   ]
  },
  {
   "cell_type": "code",
   "execution_count": 99,
   "id": "49ca2333-ebbf-4493-b3d4-f2a8571f8a0d",
   "metadata": {},
   "outputs": [],
   "source": [
    "reversed_num = reversed_num * 10 + num % 10"
   ]
  },
  {
   "cell_type": "code",
   "execution_count": 100,
   "id": "3f0fff4b-0be2-4d15-ad4d-a8603c782d2d",
   "metadata": {},
   "outputs": [
    {
     "data": {
      "text/plain": [
       "6"
      ]
     },
     "execution_count": 100,
     "metadata": {},
     "output_type": "execute_result"
    }
   ],
   "source": [
    "reversed_num"
   ]
  },
  {
   "cell_type": "code",
   "execution_count": 101,
   "id": "63145fdc-4b35-453e-8ad3-4a6c9c38947b",
   "metadata": {},
   "outputs": [],
   "source": [
    "num = num // 10"
   ]
  },
  {
   "cell_type": "code",
   "execution_count": 102,
   "id": "b54fe74f-7b09-4ad8-be17-abc5213fc5a9",
   "metadata": {},
   "outputs": [
    {
     "data": {
      "text/plain": [
       "12345"
      ]
     },
     "execution_count": 102,
     "metadata": {},
     "output_type": "execute_result"
    }
   ],
   "source": [
    "num"
   ]
  },
  {
   "cell_type": "code",
   "execution_count": 103,
   "id": "3cf61601-8919-4164-9847-86d50d17362b",
   "metadata": {},
   "outputs": [],
   "source": [
    "# reversed_num = reversed_num * 10\n",
    "reversed_num *= 10"
   ]
  },
  {
   "cell_type": "code",
   "execution_count": 104,
   "id": "bcc0b0a5-3cb1-42fe-bd80-d1634c54420d",
   "metadata": {},
   "outputs": [
    {
     "data": {
      "text/plain": [
       "60"
      ]
     },
     "execution_count": 104,
     "metadata": {},
     "output_type": "execute_result"
    }
   ],
   "source": [
    "reversed_num"
   ]
  },
  {
   "cell_type": "code",
   "execution_count": 105,
   "id": "546bd3f0-84fa-414a-9e24-eb61a83beec0",
   "metadata": {},
   "outputs": [],
   "source": [
    "reversed_num += num % 10"
   ]
  },
  {
   "cell_type": "code",
   "execution_count": 106,
   "id": "00f9260c-ab00-4dc2-b637-8acbd0cd31be",
   "metadata": {},
   "outputs": [
    {
     "data": {
      "text/plain": [
       "65"
      ]
     },
     "execution_count": 106,
     "metadata": {},
     "output_type": "execute_result"
    }
   ],
   "source": [
    "reversed_num"
   ]
  },
  {
   "cell_type": "code",
   "execution_count": 107,
   "id": "04c22a52-473d-4597-98bf-ec68b1f38de4",
   "metadata": {},
   "outputs": [
    {
     "data": {
      "text/plain": [
       "12345"
      ]
     },
     "execution_count": 107,
     "metadata": {},
     "output_type": "execute_result"
    }
   ],
   "source": [
    "num"
   ]
  },
  {
   "cell_type": "code",
   "execution_count": 108,
   "id": "360d0f63-5829-4bd3-b7a2-e1b08048fb5d",
   "metadata": {},
   "outputs": [],
   "source": [
    "num //= 10"
   ]
  },
  {
   "cell_type": "code",
   "execution_count": 109,
   "id": "d7ab93e2-89fd-4f11-a315-7f59881f8fbe",
   "metadata": {},
   "outputs": [
    {
     "data": {
      "text/plain": [
       "1234"
      ]
     },
     "execution_count": 109,
     "metadata": {},
     "output_type": "execute_result"
    }
   ],
   "source": [
    "num"
   ]
  },
  {
   "cell_type": "code",
   "execution_count": 110,
   "id": "f51c2946-47a9-42f8-92cf-ad7437bab7a3",
   "metadata": {},
   "outputs": [
    {
     "data": {
      "text/plain": [
       "True"
      ]
     },
     "execution_count": 110,
     "metadata": {},
     "output_type": "execute_result"
    }
   ],
   "source": [
    "1 == 1.0"
   ]
  },
  {
   "cell_type": "code",
   "execution_count": 111,
   "id": "f72ecbef-353d-4a10-a055-47f9529df0eb",
   "metadata": {},
   "outputs": [
    {
     "data": {
      "text/plain": [
       "True"
      ]
     },
     "execution_count": 111,
     "metadata": {},
     "output_type": "execute_result"
    }
   ],
   "source": [
    "1 + 2 == 3"
   ]
  },
  {
   "cell_type": "code",
   "execution_count": 112,
   "id": "1bdbb09d-3692-4e27-b1d9-c6da0acc7712",
   "metadata": {},
   "outputs": [
    {
     "data": {
      "text/plain": [
       "True"
      ]
     },
     "execution_count": 112,
     "metadata": {},
     "output_type": "execute_result"
    }
   ],
   "source": [
    "1 + 2 == 3 * 1"
   ]
  },
  {
   "cell_type": "code",
   "execution_count": 113,
   "id": "e0336c03-3157-42cd-bba5-8b57e25bf5fe",
   "metadata": {},
   "outputs": [
    {
     "data": {
      "text/plain": [
       "False"
      ]
     },
     "execution_count": 113,
     "metadata": {},
     "output_type": "execute_result"
    }
   ],
   "source": [
    "5.1 == 5"
   ]
  },
  {
   "cell_type": "code",
   "execution_count": 114,
   "id": "3a110310-3e74-492f-9e4b-ddbb75d54c44",
   "metadata": {},
   "outputs": [
    {
     "data": {
      "text/plain": [
       "True"
      ]
     },
     "execution_count": 114,
     "metadata": {},
     "output_type": "execute_result"
    }
   ],
   "source": [
    "5.0 == 5"
   ]
  },
  {
   "cell_type": "code",
   "execution_count": 115,
   "id": "2a3ac976-393c-44b7-b837-d2155488a840",
   "metadata": {},
   "outputs": [
    {
     "data": {
      "text/plain": [
       "False"
      ]
     },
     "execution_count": 115,
     "metadata": {},
     "output_type": "execute_result"
    }
   ],
   "source": [
    "5.000001 == 5.0"
   ]
  },
  {
   "cell_type": "code",
   "execution_count": 116,
   "id": "9ebc9619-7992-4674-aec8-c396e5b3e7c8",
   "metadata": {},
   "outputs": [
    {
     "data": {
      "text/plain": [
       "False"
      ]
     },
     "execution_count": 116,
     "metadata": {},
     "output_type": "execute_result"
    }
   ],
   "source": [
    "5.0000000001 == 5.0"
   ]
  },
  {
   "cell_type": "code",
   "execution_count": 117,
   "id": "d3267d57-bcc7-4211-a0bb-161255669be5",
   "metadata": {},
   "outputs": [
    {
     "data": {
      "text/plain": [
       "False"
      ]
     },
     "execution_count": 117,
     "metadata": {},
     "output_type": "execute_result"
    }
   ],
   "source": [
    "5.0000000000001 == 5.0"
   ]
  },
  {
   "cell_type": "code",
   "execution_count": 118,
   "id": "3e1f5030-576d-46bd-bf1a-629a3fb6c1b8",
   "metadata": {},
   "outputs": [
    {
     "data": {
      "text/plain": [
       "True"
      ]
     },
     "execution_count": 118,
     "metadata": {},
     "output_type": "execute_result"
    }
   ],
   "source": [
    "5.00000000000000001 == 5.0"
   ]
  },
  {
   "cell_type": "code",
   "execution_count": 119,
   "id": "072f567a-b314-4f5c-b313-7776cf7c2dc1",
   "metadata": {},
   "outputs": [
    {
     "data": {
      "text/plain": [
       "False"
      ]
     },
     "execution_count": 119,
     "metadata": {},
     "output_type": "execute_result"
    }
   ],
   "source": [
    "0.1 + 0.2 == 0.3"
   ]
  },
  {
   "cell_type": "code",
   "execution_count": 120,
   "id": "2ee8e59d-b63b-45f5-9dc8-fe235ab34bb6",
   "metadata": {},
   "outputs": [
    {
     "data": {
      "text/plain": [
       "0.3"
      ]
     },
     "execution_count": 120,
     "metadata": {},
     "output_type": "execute_result"
    }
   ],
   "source": [
    "0.3"
   ]
  },
  {
   "cell_type": "code",
   "execution_count": 121,
   "id": "b01305b7-c0b1-4ea5-974a-211728bdf565",
   "metadata": {},
   "outputs": [
    {
     "data": {
      "text/plain": [
       "0.1"
      ]
     },
     "execution_count": 121,
     "metadata": {},
     "output_type": "execute_result"
    }
   ],
   "source": [
    "0.1"
   ]
  },
  {
   "cell_type": "code",
   "execution_count": 122,
   "id": "22cea974-aa7d-405e-8e99-18a7b31aeb0e",
   "metadata": {},
   "outputs": [
    {
     "data": {
      "text/plain": [
       "0.2"
      ]
     },
     "execution_count": 122,
     "metadata": {},
     "output_type": "execute_result"
    }
   ],
   "source": [
    "0.2"
   ]
  },
  {
   "cell_type": "code",
   "execution_count": 123,
   "id": "f4779834-113f-43cb-93be-3b54364aef4e",
   "metadata": {},
   "outputs": [
    {
     "data": {
      "text/plain": [
       "0.30000000000000004"
      ]
     },
     "execution_count": 123,
     "metadata": {},
     "output_type": "execute_result"
    }
   ],
   "source": [
    "0.1 + 0.2"
   ]
  },
  {
   "cell_type": "code",
   "execution_count": 124,
   "id": "1e2d622c-7470-4dae-833f-7d52aa004a29",
   "metadata": {},
   "outputs": [
    {
     "name": "stdout",
     "output_type": "stream",
     "text": [
      "<class 'type'>\n"
     ]
    }
   ],
   "source": [
    "print(type(int))"
   ]
  },
  {
   "cell_type": "code",
   "execution_count": 125,
   "id": "6b5cac94-3e09-403f-a66f-d4224ace221e",
   "metadata": {},
   "outputs": [
    {
     "name": "stdout",
     "output_type": "stream",
     "text": [
      "<class 'int'>\n"
     ]
    }
   ],
   "source": [
    "print(type(1))"
   ]
  },
  {
   "cell_type": "code",
   "execution_count": 127,
   "id": "a7b9fc76-47f6-47f8-894b-30062c03dc11",
   "metadata": {},
   "outputs": [
    {
     "name": "stdout",
     "output_type": "stream",
     "text": [
      "<class 'float'>\n"
     ]
    }
   ],
   "source": [
    "print(type(1.0))"
   ]
  },
  {
   "cell_type": "code",
   "execution_count": 128,
   "id": "d5638be0-bc67-484e-92a6-9aeae98105bf",
   "metadata": {},
   "outputs": [
    {
     "name": "stdout",
     "output_type": "stream",
     "text": [
      "<class 'bool'>\n"
     ]
    }
   ],
   "source": [
    "print(type(1 == 1.0))"
   ]
  },
  {
   "cell_type": "code",
   "execution_count": 129,
   "id": "698283e5-af5e-414d-9fef-e51d7adc89fe",
   "metadata": {},
   "outputs": [
    {
     "name": "stdout",
     "output_type": "stream",
     "text": [
      "<class 'str'>\n"
     ]
    }
   ],
   "source": [
    "print(type(\"abc\"))"
   ]
  },
  {
   "cell_type": "code",
   "execution_count": 130,
   "id": "875595aa-82a6-422a-b865-764bac64e978",
   "metadata": {},
   "outputs": [],
   "source": [
    "age = 10"
   ]
  },
  {
   "cell_type": "code",
   "execution_count": 131,
   "id": "84139e1b-c3d3-42d5-9514-055aac7846ec",
   "metadata": {},
   "outputs": [
    {
     "name": "stdout",
     "output_type": "stream",
     "text": [
      "Пора в школу\n"
     ]
    }
   ],
   "source": [
    "if age > 6:\n",
    "    print(\"Пора в школу\")"
   ]
  },
  {
   "cell_type": "code",
   "execution_count": 132,
   "id": "a78b32bb-7d2c-463e-842e-21e01e83f68e",
   "metadata": {},
   "outputs": [
    {
     "name": "stdout",
     "output_type": "stream",
     "text": [
      "Пора в школу\n"
     ]
    }
   ],
   "source": [
    "if 18 > age > 6:\n",
    "    print(\"Пора в школу\")"
   ]
  },
  {
   "cell_type": "code",
   "execution_count": 133,
   "id": "4b4ef656-8f5c-45da-b315-5c38a4972971",
   "metadata": {},
   "outputs": [
    {
     "name": "stdout",
     "output_type": "stream",
     "text": [
      "Пора в школу\n"
     ]
    }
   ],
   "source": [
    "if 6 < age < 18:\n",
    "    print(\"Пора в школу\")"
   ]
  },
  {
   "cell_type": "code",
   "execution_count": 134,
   "id": "7069d4c1-80ab-49c7-af51-b362837e8af6",
   "metadata": {},
   "outputs": [
    {
     "data": {
      "text/plain": [
       "True"
      ]
     },
     "execution_count": 134,
     "metadata": {},
     "output_type": "execute_result"
    }
   ],
   "source": [
    "age == 10"
   ]
  },
  {
   "cell_type": "code",
   "execution_count": 135,
   "id": "186af8d2-e80d-4579-abbc-0d0ba02e8bc7",
   "metadata": {},
   "outputs": [],
   "source": [
    "age = 6"
   ]
  },
  {
   "cell_type": "code",
   "execution_count": 136,
   "id": "f2d72d60-fb89-4e55-a7c7-ec513e93f9da",
   "metadata": {},
   "outputs": [
    {
     "data": {
      "text/plain": [
       "True"
      ]
     },
     "execution_count": 136,
     "metadata": {},
     "output_type": "execute_result"
    }
   ],
   "source": [
    "age == 6"
   ]
  },
  {
   "cell_type": "code",
   "execution_count": 137,
   "id": "8efb9ae9-7392-4b68-bbbc-cc286d6f6314",
   "metadata": {},
   "outputs": [
    {
     "data": {
      "text/plain": [
       "False"
      ]
     },
     "execution_count": 137,
     "metadata": {},
     "output_type": "execute_result"
    }
   ],
   "source": [
    "age > 6"
   ]
  },
  {
   "cell_type": "code",
   "execution_count": 138,
   "id": "b838e67e-2867-425a-ab68-6ecf0b1ea105",
   "metadata": {},
   "outputs": [],
   "source": [
    "if 6 < age < 18:\n",
    "    print(\"Пора в школу\")"
   ]
  },
  {
   "cell_type": "code",
   "execution_count": 139,
   "id": "908e6dec-f8f7-484b-8b60-85a93dcb1b28",
   "metadata": {},
   "outputs": [
    {
     "data": {
      "text/plain": [
       "False"
      ]
     },
     "execution_count": 139,
     "metadata": {},
     "output_type": "execute_result"
    }
   ],
   "source": [
    "6 < age < 18"
   ]
  },
  {
   "cell_type": "code",
   "execution_count": 140,
   "id": "5fcb070e-9793-44ab-a4eb-66dd3fd50198",
   "metadata": {},
   "outputs": [
    {
     "name": "stdout",
     "output_type": "stream",
     "text": [
      "OK\n"
     ]
    }
   ],
   "source": [
    "if 6 < age < 18:\n",
    "    print(\"Пора в школу\")\n",
    "else:\n",
    "    print(\"OK\")"
   ]
  },
  {
   "cell_type": "code",
   "execution_count": 143,
   "id": "0c0b0ba9-fbb3-4ccf-bef8-1f5e7d56a622",
   "metadata": {},
   "outputs": [
    {
     "name": "stdout",
     "output_type": "stream",
     "text": [
      "old enough\n"
     ]
    }
   ],
   "source": [
    "age = 30\n",
    "\n",
    "if age >= 21:\n",
    "    print(\"old enough\")\n",
    "else:\n",
    "    if age >= 18:\n",
    "        print(\"ok, you're adult now\")"
   ]
  },
  {
   "cell_type": "code",
   "execution_count": 144,
   "id": "da5b8d6f-842b-4450-b958-c25ac7719669",
   "metadata": {},
   "outputs": [
    {
     "name": "stdout",
     "output_type": "stream",
     "text": [
      "ok, you're adult now\n"
     ]
    }
   ],
   "source": [
    "age = 20\n",
    "\n",
    "if age >= 21:\n",
    "    print(\"old enough\")\n",
    "else:\n",
    "    if age >= 18:\n",
    "        print(\"ok, you're adult now\")"
   ]
  },
  {
   "cell_type": "code",
   "execution_count": 145,
   "id": "9d53a50d-33df-4b94-bfba-12b193a2c935",
   "metadata": {},
   "outputs": [],
   "source": [
    "age = 20\n",
    "\n",
    "if age >= 21:\n",
    "    print(\"old enough\")"
   ]
  },
  {
   "cell_type": "code",
   "execution_count": 146,
   "id": "878a485a-ab34-4273-a1d5-4a3b3756eff7",
   "metadata": {},
   "outputs": [
    {
     "name": "stdout",
     "output_type": "stream",
     "text": [
      "ok, bye!\n"
     ]
    }
   ],
   "source": [
    "age = 20\n",
    "\n",
    "if age >= 21:\n",
    "    print(\"old enough\")\n",
    "print(\"ok, bye!\")"
   ]
  },
  {
   "cell_type": "code",
   "execution_count": 147,
   "id": "a88f4d35-305c-4542-87a9-90f1e05fe248",
   "metadata": {},
   "outputs": [
    {
     "name": "stdout",
     "output_type": "stream",
     "text": [
      "old enough\n",
      "ok, bye!\n"
     ]
    }
   ],
   "source": [
    "age = 21\n",
    "\n",
    "if age >= 21:\n",
    "    print(\"old enough\")\n",
    "print(\"ok, bye!\")"
   ]
  },
  {
   "cell_type": "code",
   "execution_count": 148,
   "id": "b39644d7-6861-41c4-aedb-f3402aea31a7",
   "metadata": {},
   "outputs": [
    {
     "name": "stdout",
     "output_type": "stream",
     "text": [
      "ok, you're adult now\n"
     ]
    }
   ],
   "source": [
    "age = 20\n",
    "\n",
    "if age >= 21:\n",
    "    print(\"old enough\")\n",
    "else:\n",
    "    if age >= 18:\n",
    "        print(\"ok, you're adult now\")\n",
    "    else:\n",
    "        if age >= 12:\n",
    "            print(\"you're not a teenager yet\")\n",
    "        else:\n",
    "            if age >= 10:\n",
    "                print(\"two digits, nice!\")\n",
    "            else:\n",
    "                print(\"Hi, kid\")"
   ]
  },
  {
   "cell_type": "code",
   "execution_count": 149,
   "id": "8a5cad1d-566b-4568-b2f7-25c2a11fae98",
   "metadata": {},
   "outputs": [
    {
     "name": "stdout",
     "output_type": "stream",
     "text": [
      "two digits, nice!\n"
     ]
    }
   ],
   "source": [
    "age = 10\n",
    "\n",
    "if age >= 21:\n",
    "    print(\"old enough\")\n",
    "else:\n",
    "    if age >= 18:\n",
    "        print(\"ok, you're adult now\")\n",
    "    else:\n",
    "        if age >= 12:\n",
    "            print(\"you're not a teenager yet\")\n",
    "        else:\n",
    "            if age >= 10:\n",
    "                print(\"two digits, nice!\")\n",
    "            else:\n",
    "                print(\"Hi, kid\")"
   ]
  },
  {
   "cell_type": "code",
   "execution_count": 150,
   "id": "86f208dc-fe29-4464-927a-956112cd8750",
   "metadata": {},
   "outputs": [
    {
     "name": "stdout",
     "output_type": "stream",
     "text": [
      "Hi, kid\n"
     ]
    }
   ],
   "source": [
    "age = 8\n",
    "\n",
    "if age >= 21:\n",
    "    print(\"old enough\")\n",
    "else:\n",
    "    if age >= 18:\n",
    "        print(\"ok, you're adult now\")\n",
    "    else:\n",
    "        if age >= 12:\n",
    "            print(\"you're not a teenager yet\")\n",
    "        else:\n",
    "            if age >= 10:\n",
    "                print(\"two digits, nice!\")\n",
    "            else:\n",
    "                print(\"Hi, kid\")"
   ]
  },
  {
   "cell_type": "code",
   "execution_count": 151,
   "id": "b6e3e3b0-639d-4e46-b476-cbf84731c297",
   "metadata": {},
   "outputs": [
    {
     "name": "stdout",
     "output_type": "stream",
     "text": [
      "Hi, kid\n"
     ]
    }
   ],
   "source": [
    "age = 8\n",
    "\n",
    "if age >= 21:\n",
    "    print(\"old enough\")\n",
    "elif age >= 18:\n",
    "    print(\"ok, you're adult now\")\n",
    "elif age >= 12:\n",
    "    print(\"you're not a teenager yet\")\n",
    "elif age >= 10:\n",
    "    print(\"two digits, nice!\")\n",
    "else:\n",
    "    print(\"Hi, kid\")"
   ]
  },
  {
   "cell_type": "code",
   "execution_count": 152,
   "id": "885547d9-e49d-4c73-a38f-96dd522680a7",
   "metadata": {},
   "outputs": [
    {
     "name": "stdout",
     "output_type": "stream",
     "text": [
      "ok, you're adult now\n"
     ]
    }
   ],
   "source": [
    "age = 20\n",
    "\n",
    "if age >= 21:\n",
    "    print(\"old enough\")\n",
    "elif age >= 18:\n",
    "    print(\"ok, you're adult now\")\n",
    "elif age >= 12:\n",
    "    print(\"you're not a teenager yet\")\n",
    "elif age >= 10:\n",
    "    print(\"two digits, nice!\")\n",
    "else:\n",
    "    print(\"Hi, kid\")"
   ]
  },
  {
   "cell_type": "code",
   "execution_count": 153,
   "id": "665b1238-6540-4e51-9747-2476dd2ac16e",
   "metadata": {},
   "outputs": [
    {
     "data": {
      "text/plain": [
       "True"
      ]
     },
     "execution_count": 153,
     "metadata": {},
     "output_type": "execute_result"
    }
   ],
   "source": [
    "isinstance(123, int)"
   ]
  },
  {
   "cell_type": "code",
   "execution_count": 154,
   "id": "c6c8fd48-c7f6-4f35-8db9-d0606c014af9",
   "metadata": {},
   "outputs": [
    {
     "data": {
      "text/plain": [
       "False"
      ]
     },
     "execution_count": 154,
     "metadata": {},
     "output_type": "execute_result"
    }
   ],
   "source": [
    "isinstance(123.0, int)"
   ]
  },
  {
   "cell_type": "code",
   "execution_count": 155,
   "id": "91b53c6d-5e9e-46ce-a99c-4551f7094484",
   "metadata": {},
   "outputs": [
    {
     "data": {
      "text/plain": [
       "True"
      ]
     },
     "execution_count": 155,
     "metadata": {},
     "output_type": "execute_result"
    }
   ],
   "source": [
    "isinstance(123.0, float)"
   ]
  },
  {
   "cell_type": "code",
   "execution_count": 156,
   "id": "9825e366-d498-4908-ae5b-31efd7f35369",
   "metadata": {},
   "outputs": [
    {
     "data": {
      "text/plain": [
       "True"
      ]
     },
     "execution_count": 156,
     "metadata": {},
     "output_type": "execute_result"
    }
   ],
   "source": [
    "isinstance(123.0, (int, float))"
   ]
  },
  {
   "cell_type": "code",
   "execution_count": 157,
   "id": "57104990-a5d8-4b58-9dcd-ee7f8d6919c4",
   "metadata": {},
   "outputs": [
    {
     "data": {
      "text/plain": [
       "True"
      ]
     },
     "execution_count": 157,
     "metadata": {},
     "output_type": "execute_result"
    }
   ],
   "source": [
    "isinstance(123, (int, float))"
   ]
  },
  {
   "cell_type": "code",
   "execution_count": 158,
   "id": "b8b19d00-9d73-4134-9a28-7e56c48c75ad",
   "metadata": {},
   "outputs": [
    {
     "data": {
      "text/plain": [
       "False"
      ]
     },
     "execution_count": 158,
     "metadata": {},
     "output_type": "execute_result"
    }
   ],
   "source": [
    "isinstance(123, str)"
   ]
  },
  {
   "cell_type": "code",
   "execution_count": 159,
   "id": "034207d4-c3f6-4a2c-899f-50617914a16c",
   "metadata": {},
   "outputs": [
    {
     "data": {
      "text/plain": [
       "True"
      ]
     },
     "execution_count": 159,
     "metadata": {},
     "output_type": "execute_result"
    }
   ],
   "source": [
    "isinstance(\"123\", str)"
   ]
  },
  {
   "cell_type": "code",
   "execution_count": 160,
   "id": "1eff3063-7ecc-46e5-abd4-3f6f7a70eccd",
   "metadata": {},
   "outputs": [
    {
     "data": {
      "text/plain": [
       "True"
      ]
     },
     "execution_count": 160,
     "metadata": {},
     "output_type": "execute_result"
    }
   ],
   "source": [
    "True"
   ]
  },
  {
   "cell_type": "code",
   "execution_count": 161,
   "id": "5403c69d-7c55-470d-be8a-1055988e74e3",
   "metadata": {},
   "outputs": [
    {
     "data": {
      "text/plain": [
       "False"
      ]
     },
     "execution_count": 161,
     "metadata": {},
     "output_type": "execute_result"
    }
   ],
   "source": [
    "False"
   ]
  },
  {
   "cell_type": "code",
   "execution_count": 162,
   "id": "44e754f0-db8f-4641-9bce-be3be9f4c3ef",
   "metadata": {},
   "outputs": [
    {
     "data": {
      "text/plain": [
       "True"
      ]
     },
     "execution_count": 162,
     "metadata": {},
     "output_type": "execute_result"
    }
   ],
   "source": [
    "1 == 1"
   ]
  },
  {
   "cell_type": "code",
   "execution_count": 163,
   "id": "a5baf6ee-3df3-44d8-a401-e54c7d9d827f",
   "metadata": {},
   "outputs": [
    {
     "data": {
      "text/plain": [
       "False"
      ]
     },
     "execution_count": 163,
     "metadata": {},
     "output_type": "execute_result"
    }
   ],
   "source": [
    "1 == 2"
   ]
  },
  {
   "cell_type": "code",
   "execution_count": 164,
   "id": "54cf2437-a9ca-4f1d-8852-2166ea91e2af",
   "metadata": {},
   "outputs": [
    {
     "data": {
      "text/plain": [
       "True"
      ]
     },
     "execution_count": 164,
     "metadata": {},
     "output_type": "execute_result"
    }
   ],
   "source": [
    "isinstance(True, bool)"
   ]
  },
  {
   "cell_type": "code",
   "execution_count": 165,
   "id": "29e090ea-fdad-425d-b2b0-15b643841d4d",
   "metadata": {},
   "outputs": [
    {
     "data": {
      "text/plain": [
       "True"
      ]
     },
     "execution_count": 165,
     "metadata": {},
     "output_type": "execute_result"
    }
   ],
   "source": [
    "isinstance(False, bool)"
   ]
  },
  {
   "cell_type": "code",
   "execution_count": 166,
   "id": "18d2e1d7-7930-43ad-a3ad-7d268e5c5e4e",
   "metadata": {},
   "outputs": [
    {
     "data": {
      "text/plain": [
       "False"
      ]
     },
     "execution_count": 166,
     "metadata": {},
     "output_type": "execute_result"
    }
   ],
   "source": [
    "isinstance(True, str)"
   ]
  },
  {
   "cell_type": "code",
   "execution_count": 167,
   "id": "01c249f1-2a75-45d7-bc0a-bcfefd20377a",
   "metadata": {},
   "outputs": [
    {
     "data": {
      "text/plain": [
       "False"
      ]
     },
     "execution_count": 167,
     "metadata": {},
     "output_type": "execute_result"
    }
   ],
   "source": [
    "isinstance(True, float)"
   ]
  },
  {
   "cell_type": "code",
   "execution_count": 168,
   "id": "6f32dc3f-bd0a-4d5e-a2a3-f475ada49806",
   "metadata": {},
   "outputs": [
    {
     "data": {
      "text/plain": [
       "True"
      ]
     },
     "execution_count": 168,
     "metadata": {},
     "output_type": "execute_result"
    }
   ],
   "source": [
    "isinstance(True, int)"
   ]
  },
  {
   "cell_type": "code",
   "execution_count": 169,
   "id": "4ac0344a-9695-46cc-960a-ccbe8ba610eb",
   "metadata": {},
   "outputs": [
    {
     "data": {
      "text/plain": [
       "True"
      ]
     },
     "execution_count": 169,
     "metadata": {},
     "output_type": "execute_result"
    }
   ],
   "source": [
    "True == 1"
   ]
  },
  {
   "cell_type": "code",
   "execution_count": 170,
   "id": "2ec8c8f4-cb81-4df1-82be-0e9c7a92a3c8",
   "metadata": {},
   "outputs": [
    {
     "data": {
      "text/plain": [
       "True"
      ]
     },
     "execution_count": 170,
     "metadata": {},
     "output_type": "execute_result"
    }
   ],
   "source": [
    "False == 0"
   ]
  },
  {
   "cell_type": "code",
   "execution_count": 171,
   "id": "fefe22aa-78ef-4d6b-ace9-b028fe8a8c7e",
   "metadata": {},
   "outputs": [
    {
     "data": {
      "text/plain": [
       "2"
      ]
     },
     "execution_count": 171,
     "metadata": {},
     "output_type": "execute_result"
    }
   ],
   "source": [
    "True + 1"
   ]
  },
  {
   "cell_type": "code",
   "execution_count": 172,
   "id": "de6d861b-42e2-4cb0-9bd4-7cc4328867d6",
   "metadata": {},
   "outputs": [
    {
     "data": {
      "text/plain": [
       "2"
      ]
     },
     "execution_count": 172,
     "metadata": {},
     "output_type": "execute_result"
    }
   ],
   "source": [
    "True + True"
   ]
  },
  {
   "cell_type": "code",
   "execution_count": 173,
   "id": "18148d23-074d-4fcd-8998-b7b0cce9c2ff",
   "metadata": {},
   "outputs": [
    {
     "data": {
      "text/plain": [
       "1"
      ]
     },
     "execution_count": 173,
     "metadata": {},
     "output_type": "execute_result"
    }
   ],
   "source": [
    "True + False"
   ]
  },
  {
   "cell_type": "code",
   "execution_count": 174,
   "id": "46b36dbb-17c2-4c0b-aa68-25fc81c8dc46",
   "metadata": {},
   "outputs": [
    {
     "data": {
      "text/plain": [
       "True"
      ]
     },
     "execution_count": 174,
     "metadata": {},
     "output_type": "execute_result"
    }
   ],
   "source": [
    "1 == True"
   ]
  },
  {
   "cell_type": "code",
   "execution_count": null,
   "id": "42a0742b-9900-413c-b6d9-a8ae36fbe7ad",
   "metadata": {},
   "outputs": [],
   "source": []
  }
 ],
 "metadata": {
  "kernelspec": {
   "display_name": "Python 3 (ipykernel)",
   "language": "python",
   "name": "python3"
  },
  "language_info": {
   "codemirror_mode": {
    "name": "ipython",
    "version": 3
   },
   "file_extension": ".py",
   "mimetype": "text/x-python",
   "name": "python",
   "nbconvert_exporter": "python",
   "pygments_lexer": "ipython3",
   "version": "3.11.4"
  }
 },
 "nbformat": 4,
 "nbformat_minor": 5
}
