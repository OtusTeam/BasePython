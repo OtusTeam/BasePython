{
 "cells": [
  {
   "cell_type": "code",
   "execution_count": 1,
   "id": "fc0b27d5-7e75-4e58-91ce-c93ac364b490",
   "metadata": {},
   "outputs": [
    {
     "name": "stdout",
     "output_type": "stream",
     "text": [
      "hello world!\n"
     ]
    }
   ],
   "source": [
    "print('hello world!')"
   ]
  },
  {
   "cell_type": "code",
   "execution_count": 2,
   "id": "2ab843b6-6b20-45cf-93a8-469d2757766b",
   "metadata": {},
   "outputs": [
    {
     "name": "stdout",
     "output_type": "stream",
     "text": [
      "\n"
     ]
    }
   ],
   "source": [
    "print()"
   ]
  },
  {
   "cell_type": "code",
   "execution_count": 3,
   "id": "ea557a83-f18e-4ac5-9bd4-afc5dc6fe096",
   "metadata": {},
   "outputs": [
    {
     "name": "stdout",
     "output_type": "stream",
     "text": [
      "hello world!\n"
     ]
    }
   ],
   "source": [
    "print(\"hello world!\")"
   ]
  },
  {
   "cell_type": "code",
   "execution_count": 4,
   "id": "e9947cd5-f0f9-43e2-9ae2-7d8de25f4155",
   "metadata": {},
   "outputs": [
    {
     "name": "stdout",
     "output_type": "stream",
     "text": [
      "Hello, it's me!\n"
     ]
    }
   ],
   "source": [
    "print(\"Hello, it's me!\")"
   ]
  },
  {
   "cell_type": "code",
   "execution_count": 5,
   "id": "9ff33910-6d5b-4b79-9797-c20c703c0604",
   "metadata": {},
   "outputs": [
    {
     "name": "stdout",
     "output_type": "stream",
     "text": [
      "Hi, one: \"foo\", two: 'bar'\n"
     ]
    }
   ],
   "source": [
    "print('Hi, one: \"foo\", two: \\'bar\\'')"
   ]
  },
  {
   "cell_type": "code",
   "execution_count": 6,
   "id": "5570f6f4-60c4-4a10-b8dd-8af590e4ac61",
   "metadata": {},
   "outputs": [
    {
     "name": "stdout",
     "output_type": "stream",
     "text": [
      "Hello, it's me\n"
     ]
    }
   ],
   "source": [
    "print('''Hello, it's me''')"
   ]
  },
  {
   "cell_type": "code",
   "execution_count": 8,
   "id": "becd3a90-d47c-4f86-a72c-20c1243eedda",
   "metadata": {},
   "outputs": [
    {
     "name": "stdout",
     "output_type": "stream",
     "text": [
      "foo=\"bar\".\n"
     ]
    }
   ],
   "source": [
    "print(\"\"\"foo=\"bar\".\"\"\")"
   ]
  },
  {
   "cell_type": "code",
   "execution_count": 9,
   "id": "3e24735b-2615-43db-9263-f63789300a1a",
   "metadata": {},
   "outputs": [
    {
     "data": {
      "text/plain": [
       "'hello'"
      ]
     },
     "execution_count": 9,
     "metadata": {},
     "output_type": "execute_result"
    }
   ],
   "source": [
    "'hello'"
   ]
  },
  {
   "cell_type": "code",
   "execution_count": 10,
   "id": "c92e3f2c-455d-4af1-86ad-6ca684de9926",
   "metadata": {},
   "outputs": [
    {
     "name": "stdout",
     "output_type": "stream",
     "text": [
      "123\n"
     ]
    }
   ],
   "source": [
    "print(123)"
   ]
  },
  {
   "cell_type": "code",
   "execution_count": 11,
   "id": "c4de457d-4025-4416-907a-a03428e4e4e3",
   "metadata": {},
   "outputs": [
    {
     "name": "stdout",
     "output_type": "stream",
     "text": [
      "123\n"
     ]
    }
   ],
   "source": [
    "print('123')"
   ]
  },
  {
   "cell_type": "code",
   "execution_count": 12,
   "id": "079c7698-b1ca-45b7-8e11-7fc53d952a50",
   "metadata": {},
   "outputs": [
    {
     "data": {
      "text/plain": [
       "123"
      ]
     },
     "execution_count": 12,
     "metadata": {},
     "output_type": "execute_result"
    }
   ],
   "source": [
    "123"
   ]
  },
  {
   "cell_type": "code",
   "execution_count": 13,
   "id": "b5fb4641-39ef-4bab-a317-8883ec91faf3",
   "metadata": {},
   "outputs": [
    {
     "data": {
      "text/plain": [
       "'123'"
      ]
     },
     "execution_count": 13,
     "metadata": {},
     "output_type": "execute_result"
    }
   ],
   "source": [
    "'123'"
   ]
  },
  {
   "cell_type": "code",
   "execution_count": 14,
   "id": "e15eadea-4bb9-4288-a331-43391d07698b",
   "metadata": {},
   "outputs": [
    {
     "data": {
      "text/plain": [
       "'hello'"
      ]
     },
     "execution_count": 14,
     "metadata": {},
     "output_type": "execute_result"
    }
   ],
   "source": [
    "\"hello\""
   ]
  },
  {
   "cell_type": "code",
   "execution_count": 15,
   "id": "2effcde7-2a80-412c-b52e-e21fd26b7bae",
   "metadata": {},
   "outputs": [
    {
     "data": {
      "text/plain": [
       "\"Hello, it's me\""
      ]
     },
     "execution_count": 15,
     "metadata": {},
     "output_type": "execute_result"
    }
   ],
   "source": [
    "\"Hello, it's me\""
   ]
  },
  {
   "cell_type": "code",
   "execution_count": 16,
   "id": "770acc3e-6dda-43c9-8a45-881e5501b668",
   "metadata": {},
   "outputs": [
    {
     "data": {
      "text/plain": [
       "\"Hello, it's me\""
      ]
     },
     "execution_count": 16,
     "metadata": {},
     "output_type": "execute_result"
    }
   ],
   "source": [
    "'Hello, it\\'s me'"
   ]
  },
  {
   "cell_type": "code",
   "execution_count": 17,
   "id": "59076219-764b-46f9-a10d-0d80f63f8e76",
   "metadata": {},
   "outputs": [
    {
     "data": {
      "text/plain": [
       "'foo=\"bar\", spam=\\'eggs\\''"
      ]
     },
     "execution_count": 17,
     "metadata": {},
     "output_type": "execute_result"
    }
   ],
   "source": [
    "\"\"\"foo=\"bar\", spam='eggs'\"\"\""
   ]
  },
  {
   "cell_type": "code",
   "execution_count": 18,
   "id": "4ecf2668-88f1-42e0-b79a-21b191d7befc",
   "metadata": {},
   "outputs": [
    {
     "name": "stdout",
     "output_type": "stream",
     "text": [
      "foo=\"bar\", spam='eggs'\n"
     ]
    }
   ],
   "source": [
    "print(\"\"\"foo=\"bar\", spam='eggs'\"\"\")"
   ]
  },
  {
   "cell_type": "code",
   "execution_count": 19,
   "id": "ed25fb4d-4548-4f82-863f-7a00d9da6d4f",
   "metadata": {},
   "outputs": [
    {
     "data": {
      "text/plain": [
       "'first line\\nsecond line\\nsingle quotes: \\'\\'\\ndouble quotes: \"\"\\n'"
      ]
     },
     "execution_count": 19,
     "metadata": {},
     "output_type": "execute_result"
    }
   ],
   "source": [
    "'''first line\n",
    "second line\n",
    "single quotes: ''\n",
    "double quotes: \"\"\n",
    "'''"
   ]
  },
  {
   "cell_type": "code",
   "execution_count": 20,
   "id": "b8c448ec-d26f-4c0b-8467-cdc32a4fcd14",
   "metadata": {},
   "outputs": [
    {
     "name": "stdout",
     "output_type": "stream",
     "text": [
      "first line\n",
      "second line\n",
      "single quotes: ''\n",
      "double quotes: \"\"\n",
      "\n"
     ]
    }
   ],
   "source": [
    "print('''first line\n",
    "second line\n",
    "single quotes: ''\n",
    "double quotes: \"\"\n",
    "''')"
   ]
  },
  {
   "cell_type": "code",
   "execution_count": 21,
   "id": "59485549-8d3d-42db-b28b-72a97ce5e2b0",
   "metadata": {},
   "outputs": [
    {
     "name": "stdout",
     "output_type": "stream",
     "text": [
      "first line\n",
      "second line\n",
      "single quotes: ''\n",
      "double quotes: \"\"\n",
      "\n"
     ]
    }
   ],
   "source": [
    "print('first line\\nsecond line\\nsingle quotes: \\'\\'\\ndouble quotes: \"\"\\n')"
   ]
  },
  {
   "cell_type": "code",
   "execution_count": 22,
   "id": "508881d1-5cbe-4739-ae01-418cf88f6955",
   "metadata": {},
   "outputs": [
    {
     "name": "stdout",
     "output_type": "stream",
     "text": [
      "\\\n"
     ]
    }
   ],
   "source": [
    "print(\"\\\\\")"
   ]
  },
  {
   "cell_type": "code",
   "execution_count": 23,
   "id": "883cb72a-5203-4b64-ba04-d54f25371fcc",
   "metadata": {},
   "outputs": [
    {
     "name": "stdout",
     "output_type": "stream",
     "text": [
      "it's me\n"
     ]
    }
   ],
   "source": [
    "print('it\\'s me')"
   ]
  },
  {
   "cell_type": "code",
   "execution_count": 24,
   "id": "d31fb8fc-4860-4586-b05e-56206e94bb76",
   "metadata": {},
   "outputs": [
    {
     "data": {
      "text/plain": [
       "\"it's me\""
      ]
     },
     "execution_count": 24,
     "metadata": {},
     "output_type": "execute_result"
    }
   ],
   "source": [
    "'it\\'s me'"
   ]
  },
  {
   "cell_type": "code",
   "execution_count": 25,
   "id": "0bb6c1bd-e3b6-4c42-ab52-42f600a1318b",
   "metadata": {},
   "outputs": [
    {
     "data": {
      "text/plain": [
       "\"backslash: ' hello\""
      ]
     },
     "execution_count": 25,
     "metadata": {},
     "output_type": "execute_result"
    }
   ],
   "source": [
    "'backslash: \\' hello'"
   ]
  },
  {
   "cell_type": "code",
   "execution_count": 26,
   "id": "47cfb735-4206-4cc1-bfef-967c8d338cfb",
   "metadata": {},
   "outputs": [
    {
     "data": {
      "text/plain": [
       "'backslash: \\\\'"
      ]
     },
     "execution_count": 26,
     "metadata": {},
     "output_type": "execute_result"
    }
   ],
   "source": [
    "'backslash: \\\\'"
   ]
  },
  {
   "cell_type": "code",
   "execution_count": 27,
   "id": "f3331299-d3ae-40b6-a035-39cc77f332ba",
   "metadata": {},
   "outputs": [
    {
     "name": "stdout",
     "output_type": "stream",
     "text": [
      "backslash: \\\n"
     ]
    }
   ],
   "source": [
    "print('backslash: \\\\')"
   ]
  },
  {
   "cell_type": "code",
   "execution_count": 28,
   "id": "9ba04faf-304f-41e1-a607-8a62810d42c2",
   "metadata": {},
   "outputs": [
    {
     "name": "stdout",
     "output_type": "stream",
     "text": [
      "foo\n",
      "bar\n"
     ]
    }
   ],
   "source": [
    "print(\"foo\\nbar\")"
   ]
  },
  {
   "cell_type": "code",
   "execution_count": 29,
   "id": "a267d5b8-0954-4030-9de7-c170681541ee",
   "metadata": {},
   "outputs": [
    {
     "data": {
      "text/plain": [
       "7"
      ]
     },
     "execution_count": 29,
     "metadata": {},
     "output_type": "execute_result"
    }
   ],
   "source": [
    "len(\"foo\\nbar\")"
   ]
  },
  {
   "cell_type": "code",
   "execution_count": 30,
   "id": "257b617b-eb86-44ac-b77f-11d0946cd409",
   "metadata": {},
   "outputs": [
    {
     "name": "stdout",
     "output_type": "stream",
     "text": [
      "\\n - new line\n"
     ]
    }
   ],
   "source": [
    "print(\"\\\\n - new line\")"
   ]
  },
  {
   "cell_type": "code",
   "execution_count": 31,
   "id": "39928bb8-0717-4e1c-b381-fb4c1413491b",
   "metadata": {},
   "outputs": [
    {
     "name": "stdout",
     "output_type": "stream",
     "text": [
      "'\\n' - new line\n"
     ]
    }
   ],
   "source": [
    "print(\"'\\\\n' - new line\")"
   ]
  },
  {
   "cell_type": "code",
   "execution_count": 32,
   "id": "d44cf5e9-28cb-40d2-b207-8552d38999de",
   "metadata": {},
   "outputs": [
    {
     "name": "stdout",
     "output_type": "stream",
     "text": [
      "raw - сырая строка\n"
     ]
    }
   ],
   "source": [
    "print(r'raw - сырая строка')"
   ]
  },
  {
   "cell_type": "code",
   "execution_count": 33,
   "id": "0c1229d8-d5dd-49e2-9025-c84b7e9c0d55",
   "metadata": {},
   "outputs": [
    {
     "name": "stdout",
     "output_type": "stream",
     "text": [
      "\\n - новая строка\n"
     ]
    }
   ],
   "source": [
    "print(r'\\n - новая строка')"
   ]
  },
  {
   "cell_type": "code",
   "execution_count": 34,
   "id": "293e9090-2afb-4825-9c93-01a913decfe3",
   "metadata": {},
   "outputs": [
    {
     "data": {
      "text/plain": [
       "'foo\\nbar'"
      ]
     },
     "execution_count": 34,
     "metadata": {},
     "output_type": "execute_result"
    }
   ],
   "source": [
    "'foo\\nbar'"
   ]
  },
  {
   "cell_type": "code",
   "execution_count": 35,
   "id": "9bdee567-f2d2-4e65-b35e-c088819e9af3",
   "metadata": {},
   "outputs": [
    {
     "data": {
      "text/plain": [
       "'foo\\\\nbar'"
      ]
     },
     "execution_count": 35,
     "metadata": {},
     "output_type": "execute_result"
    }
   ],
   "source": [
    "r'foo\\nbar'"
   ]
  },
  {
   "cell_type": "code",
   "execution_count": 36,
   "id": "2bccfdcc-8e12-4ccf-b954-ac6544ec66b1",
   "metadata": {},
   "outputs": [
    {
     "name": "stdout",
     "output_type": "stream",
     "text": [
      "foo\n",
      "bar\n"
     ]
    }
   ],
   "source": [
    "print('foo\\nbar')"
   ]
  },
  {
   "cell_type": "code",
   "execution_count": 37,
   "id": "345f4d06-9e20-4101-b726-ce1e2e4bc19a",
   "metadata": {},
   "outputs": [
    {
     "name": "stdout",
     "output_type": "stream",
     "text": [
      "foo\\nbar\n"
     ]
    }
   ],
   "source": [
    "print('foo\\\\nbar')"
   ]
  },
  {
   "cell_type": "code",
   "execution_count": 38,
   "id": "335ce2b5-d698-4e79-a19c-edaad73379d3",
   "metadata": {},
   "outputs": [
    {
     "name": "stdout",
     "output_type": "stream",
     "text": [
      "foo\\nbar\n"
     ]
    }
   ],
   "source": [
    "print(r'foo\\nbar')"
   ]
  },
  {
   "cell_type": "code",
   "execution_count": 39,
   "id": "fad8b48b-5b89-46e0-96fe-8cd36c8161b0",
   "metadata": {},
   "outputs": [
    {
     "data": {
      "text/plain": [
       "True"
      ]
     },
     "execution_count": 39,
     "metadata": {},
     "output_type": "execute_result"
    }
   ],
   "source": [
    "'a' == \"a\""
   ]
  },
  {
   "cell_type": "code",
   "execution_count": 40,
   "id": "d3bc776a-8915-41ec-a36b-ea8ee0431373",
   "metadata": {},
   "outputs": [
    {
     "data": {
      "text/plain": [
       "False"
      ]
     },
     "execution_count": 40,
     "metadata": {},
     "output_type": "execute_result"
    }
   ],
   "source": [
    "'A' == 'a'"
   ]
  },
  {
   "cell_type": "code",
   "execution_count": 41,
   "id": "0ee18403-32d0-4544-8b28-ff48eadbda77",
   "metadata": {},
   "outputs": [
    {
     "data": {
      "text/plain": [
       "True"
      ]
     },
     "execution_count": 41,
     "metadata": {},
     "output_type": "execute_result"
    }
   ],
   "source": [
    "'foo\\\\nbar' == r'foo\\nbar'"
   ]
  },
  {
   "cell_type": "code",
   "execution_count": 42,
   "id": "d756296f-b9d2-4b51-b1c9-3975992179aa",
   "metadata": {},
   "outputs": [
    {
     "data": {
      "text/plain": [
       "False"
      ]
     },
     "execution_count": 42,
     "metadata": {},
     "output_type": "execute_result"
    }
   ],
   "source": [
    "'foo\\nbar' == 'foo\\\\nbar'"
   ]
  },
  {
   "cell_type": "code",
   "execution_count": 43,
   "id": "c71424e4-95f5-431f-b39a-ab93cdf65ac6",
   "metadata": {},
   "outputs": [
    {
     "data": {
      "text/plain": [
       "True"
      ]
     },
     "execution_count": 43,
     "metadata": {},
     "output_type": "execute_result"
    }
   ],
   "source": [
    "'abc' == 'abc'"
   ]
  },
  {
   "cell_type": "code",
   "execution_count": 44,
   "id": "18e5c282-e177-4c07-9569-125c262f70e9",
   "metadata": {},
   "outputs": [
    {
     "data": {
      "text/plain": [
       "False"
      ]
     },
     "execution_count": 44,
     "metadata": {},
     "output_type": "execute_result"
    }
   ],
   "source": [
    "'abcd' == 'abca'"
   ]
  },
  {
   "cell_type": "code",
   "execution_count": 45,
   "id": "c07ab499-956e-4921-8dbe-16b9bac1df0e",
   "metadata": {},
   "outputs": [
    {
     "data": {
      "text/plain": [
       "False"
      ]
     },
     "execution_count": 45,
     "metadata": {},
     "output_type": "execute_result"
    }
   ],
   "source": [
    "'abcd' == 'abcD'"
   ]
  },
  {
   "cell_type": "code",
   "execution_count": 46,
   "id": "f056ab5a-9847-4a90-8e69-12ee872919ff",
   "metadata": {},
   "outputs": [
    {
     "data": {
      "text/plain": [
       "True"
      ]
     },
     "execution_count": 46,
     "metadata": {},
     "output_type": "execute_result"
    }
   ],
   "source": [
    "True"
   ]
  },
  {
   "cell_type": "code",
   "execution_count": 47,
   "id": "41f6ec23-c290-44ab-8951-55588a0ae096",
   "metadata": {},
   "outputs": [
    {
     "data": {
      "text/plain": [
       "True"
      ]
     },
     "execution_count": 47,
     "metadata": {},
     "output_type": "execute_result"
    }
   ],
   "source": [
    "'a' == 'a'"
   ]
  },
  {
   "cell_type": "code",
   "execution_count": 48,
   "id": "d23d9deb-13e9-4209-a189-afc61314e137",
   "metadata": {},
   "outputs": [
    {
     "data": {
      "text/plain": [
       "False"
      ]
     },
     "execution_count": 48,
     "metadata": {},
     "output_type": "execute_result"
    }
   ],
   "source": [
    "'b' == 'd'"
   ]
  },
  {
   "cell_type": "code",
   "execution_count": 49,
   "id": "d29b608c-91e6-4cc5-99d8-e52efc80e5da",
   "metadata": {},
   "outputs": [
    {
     "data": {
      "text/plain": [
       "True"
      ]
     },
     "execution_count": 49,
     "metadata": {},
     "output_type": "execute_result"
    }
   ],
   "source": [
    "'b' != 'd'"
   ]
  },
  {
   "cell_type": "code",
   "execution_count": 50,
   "id": "8fcacbeb-7377-42d3-9261-8ca0fb85c02e",
   "metadata": {},
   "outputs": [
    {
     "data": {
      "text/plain": [
       "False"
      ]
     },
     "execution_count": 50,
     "metadata": {},
     "output_type": "execute_result"
    }
   ],
   "source": [
    "'123' == 123"
   ]
  },
  {
   "cell_type": "code",
   "execution_count": 51,
   "id": "7f4a7be6-257e-485d-937e-0cfc9e8db870",
   "metadata": {},
   "outputs": [
    {
     "name": "stdout",
     "output_type": "stream",
     "text": [
      "<class 'str'>\n"
     ]
    }
   ],
   "source": [
    "print(type('123'))"
   ]
  },
  {
   "cell_type": "code",
   "execution_count": 52,
   "id": "86c94742-2e97-4318-bd1b-eda512102980",
   "metadata": {},
   "outputs": [
    {
     "name": "stdout",
     "output_type": "stream",
     "text": [
      "<class 'int'>\n"
     ]
    }
   ],
   "source": [
    "print(type(123))"
   ]
  },
  {
   "cell_type": "code",
   "execution_count": 53,
   "id": "05623734-df5f-4232-8b14-bdedd48b3e3b",
   "metadata": {},
   "outputs": [
    {
     "data": {
      "text/plain": [
       "3.6999999999999997"
      ]
     },
     "execution_count": 53,
     "metadata": {},
     "output_type": "execute_result"
    }
   ],
   "source": [
    "1.4 + 2.3"
   ]
  },
  {
   "cell_type": "code",
   "execution_count": 54,
   "id": "c6412f59-be5a-41b2-ba82-16eae8bf0556",
   "metadata": {},
   "outputs": [
    {
     "data": {
      "text/plain": [
       "2.4"
      ]
     },
     "execution_count": 54,
     "metadata": {},
     "output_type": "execute_result"
    }
   ],
   "source": [
    "1.2 + 1.2"
   ]
  },
  {
   "cell_type": "code",
   "execution_count": 55,
   "id": "5c32add4-6927-4475-aef3-c0f0df29611b",
   "metadata": {},
   "outputs": [
    {
     "data": {
      "text/plain": [
       "3"
      ]
     },
     "execution_count": 55,
     "metadata": {},
     "output_type": "execute_result"
    }
   ],
   "source": [
    "1 + 2"
   ]
  },
  {
   "cell_type": "code",
   "execution_count": 56,
   "id": "81389b43-0a2d-4d77-a954-f3ec7484c414",
   "metadata": {},
   "outputs": [
    {
     "data": {
      "text/plain": [
       "0.30000000000000004"
      ]
     },
     "execution_count": 56,
     "metadata": {},
     "output_type": "execute_result"
    }
   ],
   "source": [
    "0.1 + 0.2"
   ]
  },
  {
   "cell_type": "code",
   "execution_count": 57,
   "id": "d7889dc8-32d4-4157-981b-3c0235f13dc3",
   "metadata": {},
   "outputs": [
    {
     "data": {
      "text/plain": [
       "3.3333333333333335"
      ]
     },
     "execution_count": 57,
     "metadata": {},
     "output_type": "execute_result"
    }
   ],
   "source": [
    "10 / 3"
   ]
  },
  {
   "cell_type": "code",
   "execution_count": 58,
   "id": "9725e7bc-4c2f-49f3-b77c-91d5b98c6bc0",
   "metadata": {},
   "outputs": [
    {
     "data": {
      "text/plain": [
       "False"
      ]
     },
     "execution_count": 58,
     "metadata": {},
     "output_type": "execute_result"
    }
   ],
   "source": [
    "0.1 + 0.2 == 0.3"
   ]
  },
  {
   "cell_type": "code",
   "execution_count": 59,
   "id": "e41b01b6-d4ad-45bd-8c04-8778ecebe220",
   "metadata": {},
   "outputs": [
    {
     "data": {
      "text/plain": [
       "True"
      ]
     },
     "execution_count": 59,
     "metadata": {},
     "output_type": "execute_result"
    }
   ],
   "source": [
    "1 + 2 == 3"
   ]
  },
  {
   "cell_type": "code",
   "execution_count": 60,
   "id": "3dd276a2-e908-412f-bbb7-6be17f98df27",
   "metadata": {},
   "outputs": [
    {
     "name": "stdout",
     "output_type": "stream",
     "text": [
      "<class 'float'>\n"
     ]
    }
   ],
   "source": [
    "print(type(0.1))"
   ]
  },
  {
   "cell_type": "code",
   "execution_count": 61,
   "id": "68bef67f-610d-4aec-87cf-4d6c00461e6d",
   "metadata": {},
   "outputs": [
    {
     "data": {
      "text/plain": [
       "2.5"
      ]
     },
     "execution_count": 61,
     "metadata": {},
     "output_type": "execute_result"
    }
   ],
   "source": [
    "10 / 4"
   ]
  },
  {
   "cell_type": "code",
   "execution_count": 62,
   "id": "748b6731-294e-41b3-96b8-7d8c10cd689a",
   "metadata": {},
   "outputs": [
    {
     "data": {
      "text/plain": [
       "5.0"
      ]
     },
     "execution_count": 62,
     "metadata": {},
     "output_type": "execute_result"
    }
   ],
   "source": [
    "10 / 2"
   ]
  },
  {
   "cell_type": "code",
   "execution_count": 63,
   "id": "b75820e1-42b0-4ba0-b291-147331e8083b",
   "metadata": {},
   "outputs": [
    {
     "data": {
      "text/plain": [
       "3.5"
      ]
     },
     "execution_count": 63,
     "metadata": {},
     "output_type": "execute_result"
    }
   ],
   "source": [
    "1 + 2.5"
   ]
  },
  {
   "cell_type": "code",
   "execution_count": 64,
   "id": "78db67a9-ecd2-42b1-bed7-52b90a343f94",
   "metadata": {},
   "outputs": [
    {
     "data": {
      "text/plain": [
       "3.0"
      ]
     },
     "execution_count": 64,
     "metadata": {},
     "output_type": "execute_result"
    }
   ],
   "source": [
    "1.0 + 2"
   ]
  },
  {
   "cell_type": "code",
   "execution_count": 65,
   "id": "c73406f8-7a26-44df-879d-b8db48cd791d",
   "metadata": {},
   "outputs": [
    {
     "data": {
      "text/plain": [
       "5"
      ]
     },
     "execution_count": 65,
     "metadata": {},
     "output_type": "execute_result"
    }
   ],
   "source": [
    "10 // 2"
   ]
  },
  {
   "cell_type": "code",
   "execution_count": 66,
   "id": "8c14f1d9-7325-46a9-bd60-4e05d0307a69",
   "metadata": {},
   "outputs": [
    {
     "data": {
      "text/plain": [
       "2"
      ]
     },
     "execution_count": 66,
     "metadata": {},
     "output_type": "execute_result"
    }
   ],
   "source": [
    "10 // 4"
   ]
  },
  {
   "cell_type": "code",
   "execution_count": 67,
   "id": "9ea247ef-7654-4a1e-ba23-9756e95a366c",
   "metadata": {},
   "outputs": [
    {
     "data": {
      "text/plain": [
       "3"
      ]
     },
     "execution_count": 67,
     "metadata": {},
     "output_type": "execute_result"
    }
   ],
   "source": [
    "11 // 3"
   ]
  },
  {
   "cell_type": "code",
   "execution_count": 68,
   "id": "56d45a94-22fd-4f4b-a878-f30fb4624190",
   "metadata": {},
   "outputs": [
    {
     "data": {
      "text/plain": [
       "2"
      ]
     },
     "execution_count": 68,
     "metadata": {},
     "output_type": "execute_result"
    }
   ],
   "source": [
    "11 // 4"
   ]
  },
  {
   "cell_type": "code",
   "execution_count": 69,
   "id": "b2c2a05f-eb47-4dc5-9e15-3331a2f1c0ac",
   "metadata": {},
   "outputs": [
    {
     "data": {
      "text/plain": [
       "3.6666666666666665"
      ]
     },
     "execution_count": 69,
     "metadata": {},
     "output_type": "execute_result"
    }
   ],
   "source": [
    "11 / 3"
   ]
  },
  {
   "cell_type": "code",
   "execution_count": 70,
   "id": "2634760d-0a43-4308-ba28-d2805e24ffef",
   "metadata": {},
   "outputs": [
    {
     "data": {
      "text/plain": [
       "2.75"
      ]
     },
     "execution_count": 70,
     "metadata": {},
     "output_type": "execute_result"
    }
   ],
   "source": [
    "11 / 4"
   ]
  },
  {
   "cell_type": "code",
   "execution_count": 71,
   "id": "90d1b09e-846f-4993-9754-697fe9339a54",
   "metadata": {},
   "outputs": [
    {
     "data": {
      "text/plain": [
       "True"
      ]
     },
     "execution_count": 71,
     "metadata": {},
     "output_type": "execute_result"
    }
   ],
   "source": [
    "isinstance(\"abc\", str)"
   ]
  },
  {
   "cell_type": "code",
   "execution_count": 72,
   "id": "9d6908f7-7218-4225-9517-e53038ec5e52",
   "metadata": {},
   "outputs": [
    {
     "data": {
      "text/plain": [
       "False"
      ]
     },
     "execution_count": 72,
     "metadata": {},
     "output_type": "execute_result"
    }
   ],
   "source": [
    "isinstance(123, str)"
   ]
  },
  {
   "cell_type": "code",
   "execution_count": 73,
   "id": "4d51aa6b-c7e2-40d2-9616-07e6664ce138",
   "metadata": {},
   "outputs": [
    {
     "data": {
      "text/plain": [
       "True"
      ]
     },
     "execution_count": 73,
     "metadata": {},
     "output_type": "execute_result"
    }
   ],
   "source": [
    "isinstance('123', str)"
   ]
  },
  {
   "cell_type": "code",
   "execution_count": 74,
   "id": "b6a6953c-ad51-4c9d-83bc-a7f5013d50c5",
   "metadata": {},
   "outputs": [
    {
     "data": {
      "text/plain": [
       "True"
      ]
     },
     "execution_count": 74,
     "metadata": {},
     "output_type": "execute_result"
    }
   ],
   "source": [
    "isinstance('z123a', str)"
   ]
  },
  {
   "cell_type": "code",
   "execution_count": 75,
   "id": "86643cd4-d0c4-46eb-a942-6e0d36ce2b97",
   "metadata": {},
   "outputs": [
    {
     "data": {
      "text/plain": [
       "False"
      ]
     },
     "execution_count": 75,
     "metadata": {},
     "output_type": "execute_result"
    }
   ],
   "source": [
    "isinstance(123, str)"
   ]
  },
  {
   "cell_type": "code",
   "execution_count": 76,
   "id": "f3b66d8f-b5cc-48d5-82ee-ef0e4f63a5a0",
   "metadata": {},
   "outputs": [
    {
     "data": {
      "text/plain": [
       "True"
      ]
     },
     "execution_count": 76,
     "metadata": {},
     "output_type": "execute_result"
    }
   ],
   "source": [
    "isinstance(123, int)"
   ]
  },
  {
   "cell_type": "code",
   "execution_count": 77,
   "id": "54b297aa-39e5-4bdf-882c-7a61d5385cb6",
   "metadata": {},
   "outputs": [
    {
     "data": {
      "text/plain": [
       "False"
      ]
     },
     "execution_count": 77,
     "metadata": {},
     "output_type": "execute_result"
    }
   ],
   "source": [
    "isinstance(123, float)"
   ]
  },
  {
   "cell_type": "code",
   "execution_count": 78,
   "id": "9b0d6666-d183-4f12-b1c0-b8daa0dbfdc0",
   "metadata": {},
   "outputs": [
    {
     "data": {
      "text/plain": [
       "5.0"
      ]
     },
     "execution_count": 78,
     "metadata": {},
     "output_type": "execute_result"
    }
   ],
   "source": [
    "10 / 2"
   ]
  },
  {
   "cell_type": "code",
   "execution_count": 79,
   "id": "83df62cb-c716-4485-82c6-6c4fb28a07a5",
   "metadata": {},
   "outputs": [
    {
     "data": {
      "text/plain": [
       "3.5"
      ]
     },
     "execution_count": 79,
     "metadata": {},
     "output_type": "execute_result"
    }
   ],
   "source": [
    "1.5 + 2"
   ]
  },
  {
   "cell_type": "code",
   "execution_count": 80,
   "id": "1c4c43d5-b02b-4151-9c25-a5d68ecf92fc",
   "metadata": {},
   "outputs": [
    {
     "data": {
      "text/plain": [
       "True"
      ]
     },
     "execution_count": 80,
     "metadata": {},
     "output_type": "execute_result"
    }
   ],
   "source": [
    "isinstance(123, (int, float))"
   ]
  },
  {
   "cell_type": "code",
   "execution_count": 81,
   "id": "f57de223-5946-47d2-9178-3d3a711b70c6",
   "metadata": {},
   "outputs": [
    {
     "data": {
      "text/plain": [
       "True"
      ]
     },
     "execution_count": 81,
     "metadata": {},
     "output_type": "execute_result"
    }
   ],
   "source": [
    "isinstance(123, int | float)"
   ]
  },
  {
   "cell_type": "code",
   "execution_count": 82,
   "id": "bf2a4930-0f2b-4154-b7c5-b5b5fa3818b3",
   "metadata": {},
   "outputs": [
    {
     "data": {
      "text/plain": [
       "True"
      ]
     },
     "execution_count": 82,
     "metadata": {},
     "output_type": "execute_result"
    }
   ],
   "source": [
    "isinstance(123.5, int | float)"
   ]
  },
  {
   "cell_type": "code",
   "execution_count": 83,
   "id": "26d5b29a-028c-4960-8ca6-4eeba9fc7a8d",
   "metadata": {},
   "outputs": [
    {
     "data": {
      "text/plain": [
       "True"
      ]
     },
     "execution_count": 83,
     "metadata": {},
     "output_type": "execute_result"
    }
   ],
   "source": [
    "isinstance('123', (int, str))"
   ]
  },
  {
   "cell_type": "code",
   "execution_count": 84,
   "id": "0662de51-8e2c-4435-94f1-c39d5dbf2351",
   "metadata": {},
   "outputs": [
    {
     "data": {
      "text/plain": [
       "False"
      ]
     },
     "execution_count": 84,
     "metadata": {},
     "output_type": "execute_result"
    }
   ],
   "source": [
    "isinstance('123', int)"
   ]
  },
  {
   "cell_type": "code",
   "execution_count": 85,
   "id": "fb9fe2f2-84d0-46d8-8c75-4a24ab0d8e9d",
   "metadata": {},
   "outputs": [
    {
     "data": {
      "text/plain": [
       "False"
      ]
     },
     "execution_count": 85,
     "metadata": {},
     "output_type": "execute_result"
    }
   ],
   "source": [
    "isinstance(True, float)"
   ]
  },
  {
   "cell_type": "code",
   "execution_count": 86,
   "id": "afa6e6fb-b2bc-4098-a145-b1245f12325b",
   "metadata": {},
   "outputs": [
    {
     "name": "stdout",
     "output_type": "stream",
     "text": [
      "<class 'bool'>\n"
     ]
    }
   ],
   "source": [
    "print(type(True))"
   ]
  },
  {
   "cell_type": "code",
   "execution_count": 87,
   "id": "861c7e59-eeb4-49ed-842f-bb87ac401265",
   "metadata": {},
   "outputs": [
    {
     "data": {
      "text/plain": [
       "True"
      ]
     },
     "execution_count": 87,
     "metadata": {},
     "output_type": "execute_result"
    }
   ],
   "source": [
    "isinstance(True, float | bool )"
   ]
  },
  {
   "cell_type": "code",
   "execution_count": 88,
   "id": "f2ee1082-34c3-4017-bf98-8949a9f74c12",
   "metadata": {},
   "outputs": [
    {
     "data": {
      "text/plain": [
       "True"
      ]
     },
     "execution_count": 88,
     "metadata": {},
     "output_type": "execute_result"
    }
   ],
   "source": [
    "isinstance(True, bool | int)"
   ]
  },
  {
   "cell_type": "code",
   "execution_count": 89,
   "id": "5c9a3ebb-bd84-442e-b22c-415ce742cdf9",
   "metadata": {},
   "outputs": [
    {
     "data": {
      "text/plain": [
       "True"
      ]
     },
     "execution_count": 89,
     "metadata": {},
     "output_type": "execute_result"
    }
   ],
   "source": [
    "isinstance(True, int)"
   ]
  },
  {
   "cell_type": "code",
   "execution_count": 90,
   "id": "b38afd7e-40b9-4608-8687-38417719998f",
   "metadata": {},
   "outputs": [
    {
     "data": {
      "text/plain": [
       "1"
      ]
     },
     "execution_count": 90,
     "metadata": {},
     "output_type": "execute_result"
    }
   ],
   "source": [
    "int(True)"
   ]
  },
  {
   "cell_type": "code",
   "execution_count": 91,
   "id": "effba173-758f-44a3-b83d-c26a6454d8e2",
   "metadata": {},
   "outputs": [
    {
     "data": {
      "text/plain": [
       "123"
      ]
     },
     "execution_count": 91,
     "metadata": {},
     "output_type": "execute_result"
    }
   ],
   "source": [
    "int('123')"
   ]
  },
  {
   "cell_type": "code",
   "execution_count": 92,
   "id": "0647b363-d071-4c52-a19b-aaf28ec14b20",
   "metadata": {},
   "outputs": [
    {
     "data": {
      "text/plain": [
       "0"
      ]
     },
     "execution_count": 92,
     "metadata": {},
     "output_type": "execute_result"
    }
   ],
   "source": [
    "int(False)"
   ]
  },
  {
   "cell_type": "code",
   "execution_count": 93,
   "id": "8076d435-0b4a-468c-9ec7-8465cae67b7e",
   "metadata": {},
   "outputs": [
    {
     "data": {
      "text/plain": [
       "1"
      ]
     },
     "execution_count": 93,
     "metadata": {},
     "output_type": "execute_result"
    }
   ],
   "source": [
    "True + False"
   ]
  },
  {
   "cell_type": "code",
   "execution_count": 94,
   "id": "a300db26-a073-4838-970f-7fa97611a44f",
   "metadata": {},
   "outputs": [
    {
     "data": {
      "text/plain": [
       "True"
      ]
     },
     "execution_count": 94,
     "metadata": {},
     "output_type": "execute_result"
    }
   ],
   "source": [
    "True == 1"
   ]
  },
  {
   "cell_type": "code",
   "execution_count": 95,
   "id": "8b33a524-25ff-48c3-a63e-86e5634589d5",
   "metadata": {},
   "outputs": [
    {
     "data": {
      "text/plain": [
       "2"
      ]
     },
     "execution_count": 95,
     "metadata": {},
     "output_type": "execute_result"
    }
   ],
   "source": [
    "True + True"
   ]
  },
  {
   "cell_type": "code",
   "execution_count": 96,
   "id": "f5e6b118-fa0e-483d-ade6-23febeed3361",
   "metadata": {},
   "outputs": [
    {
     "data": {
      "text/plain": [
       "0"
      ]
     },
     "execution_count": 96,
     "metadata": {},
     "output_type": "execute_result"
    }
   ],
   "source": [
    "False + False"
   ]
  },
  {
   "cell_type": "code",
   "execution_count": 98,
   "id": "02f994ae-0ffd-45d2-b3e4-2f27bfea3b08",
   "metadata": {},
   "outputs": [
    {
     "data": {
      "text/plain": [
       "2"
      ]
     },
     "execution_count": 98,
     "metadata": {},
     "output_type": "execute_result"
    }
   ],
   "source": [
    "True + False + True"
   ]
  },
  {
   "cell_type": "code",
   "execution_count": 99,
   "id": "0095c784-f6c9-44d3-9355-b99a39cea278",
   "metadata": {},
   "outputs": [
    {
     "name": "stdout",
     "output_type": "stream",
     "text": [
      "True\n"
     ]
    }
   ],
   "source": [
    "print('abc' == 'abc')"
   ]
  },
  {
   "cell_type": "code",
   "execution_count": null,
   "id": "6ac1474d-e658-46a8-afa6-702e79ec9cd7",
   "metadata": {},
   "outputs": [],
   "source": []
  }
 ],
 "metadata": {
  "kernelspec": {
   "display_name": "Python 3 (ipykernel)",
   "language": "python",
   "name": "python3"
  },
  "language_info": {
   "codemirror_mode": {
    "name": "ipython",
    "version": 3
   },
   "file_extension": ".py",
   "mimetype": "text/x-python",
   "name": "python",
   "nbconvert_exporter": "python",
   "pygments_lexer": "ipython3",
   "version": "3.12.3"
  }
 },
 "nbformat": 4,
 "nbformat_minor": 5
}
