{
 "cells": [
  {
   "cell_type": "code",
   "execution_count": 1,
   "id": "9e7ec651-360d-47cc-8dff-249677ed5319",
   "metadata": {},
   "outputs": [
    {
     "data": {
      "text/plain": [
       "123"
      ]
     },
     "execution_count": 1,
     "metadata": {},
     "output_type": "execute_result"
    }
   ],
   "source": [
    "123"
   ]
  },
  {
   "cell_type": "code",
   "execution_count": 2,
   "id": "d140d1ff-e6e3-4ffc-b3cf-332e972d2e69",
   "metadata": {},
   "outputs": [
    {
     "data": {
      "text/plain": [
       "456"
      ]
     },
     "execution_count": 2,
     "metadata": {},
     "output_type": "execute_result"
    }
   ],
   "source": [
    "456"
   ]
  },
  {
   "cell_type": "code",
   "execution_count": 3,
   "id": "1845619f-cd57-4026-aea1-f0e725c4c449",
   "metadata": {},
   "outputs": [
    {
     "data": {
      "text/plain": [
       "'hello'"
      ]
     },
     "execution_count": 3,
     "metadata": {},
     "output_type": "execute_result"
    }
   ],
   "source": [
    "\"hello\""
   ]
  },
  {
   "cell_type": "code",
   "execution_count": 4,
   "id": "d60b2351-eda6-4afd-b268-e2c6f5c9ea99",
   "metadata": {},
   "outputs": [
    {
     "data": {
      "text/plain": [
       "'hello'"
      ]
     },
     "execution_count": 4,
     "metadata": {},
     "output_type": "execute_result"
    }
   ],
   "source": [
    "'hello'"
   ]
  },
  {
   "cell_type": "code",
   "execution_count": 5,
   "id": "d1b0cbb9-deca-40a2-9072-861bda800b96",
   "metadata": {},
   "outputs": [
    {
     "name": "stdout",
     "output_type": "stream",
     "text": [
      "hello world!\n"
     ]
    }
   ],
   "source": [
    "print(\"hello world!\")"
   ]
  },
  {
   "cell_type": "code",
   "execution_count": 6,
   "id": "1641521e-6992-4419-b899-1ea7b5b1e5ba",
   "metadata": {},
   "outputs": [
    {
     "name": "stdout",
     "output_type": "stream",
     "text": [
      "123\n"
     ]
    }
   ],
   "source": [
    "print(123)"
   ]
  },
  {
   "cell_type": "code",
   "execution_count": 7,
   "id": "370b14ed-cb5b-4de1-81d1-fa14f1654cce",
   "metadata": {},
   "outputs": [
    {
     "name": "stdout",
     "output_type": "stream",
     "text": [
      "456\n"
     ]
    }
   ],
   "source": [
    "print(456)"
   ]
  },
  {
   "cell_type": "code",
   "execution_count": 8,
   "id": "9e2479b2-d68c-4e79-a5a7-4daa50ea048e",
   "metadata": {},
   "outputs": [
    {
     "name": "stdout",
     "output_type": "stream",
     "text": [
      "123\n"
     ]
    }
   ],
   "source": [
    "print(\"123\")"
   ]
  },
  {
   "cell_type": "code",
   "execution_count": 9,
   "id": "cd7afa73-63a7-4c79-9617-c2b7f2e8fd32",
   "metadata": {},
   "outputs": [
    {
     "name": "stdout",
     "output_type": "stream",
     "text": [
      "123\n"
     ]
    }
   ],
   "source": [
    "print('123')"
   ]
  },
  {
   "cell_type": "code",
   "execution_count": 10,
   "id": "ad9dca0c-87e0-4fb1-aa89-0136c1b33069",
   "metadata": {},
   "outputs": [
    {
     "data": {
      "text/plain": [
       "15"
      ]
     },
     "execution_count": 10,
     "metadata": {},
     "output_type": "execute_result"
    }
   ],
   "source": [
    "10 + 5"
   ]
  },
  {
   "cell_type": "code",
   "execution_count": 11,
   "id": "49ecdabd-218c-45a0-8b1d-4b9923aa35f2",
   "metadata": {},
   "outputs": [
    {
     "data": {
      "text/plain": [
       "4"
      ]
     },
     "execution_count": 11,
     "metadata": {},
     "output_type": "execute_result"
    }
   ],
   "source": [
    "7 - 3"
   ]
  },
  {
   "cell_type": "code",
   "execution_count": 12,
   "id": "14f5d4a4-37cf-4435-9651-1ffd4413e1c9",
   "metadata": {},
   "outputs": [
    {
     "data": {
      "text/plain": [
       "15"
      ]
     },
     "execution_count": 12,
     "metadata": {},
     "output_type": "execute_result"
    }
   ],
   "source": [
    "5 * 3"
   ]
  },
  {
   "cell_type": "code",
   "execution_count": 13,
   "id": "1fb75569-9134-447c-93dd-0f2810966bc6",
   "metadata": {},
   "outputs": [
    {
     "data": {
      "text/plain": [
       "5.0"
      ]
     },
     "execution_count": 13,
     "metadata": {},
     "output_type": "execute_result"
    }
   ],
   "source": [
    "10 / 2"
   ]
  },
  {
   "cell_type": "code",
   "execution_count": 14,
   "id": "814ad8a9-7e4c-4f11-8448-c1b968dfd3af",
   "metadata": {},
   "outputs": [
    {
     "data": {
      "text/plain": [
       "3.5"
      ]
     },
     "execution_count": 14,
     "metadata": {},
     "output_type": "execute_result"
    }
   ],
   "source": [
    "7 / 2"
   ]
  },
  {
   "cell_type": "code",
   "execution_count": 15,
   "id": "7987f318-0bd4-4c6e-8ffb-df4e05c0bd71",
   "metadata": {},
   "outputs": [
    {
     "data": {
      "text/plain": [
       "5"
      ]
     },
     "execution_count": 15,
     "metadata": {},
     "output_type": "execute_result"
    }
   ],
   "source": [
    "10 // 2"
   ]
  },
  {
   "cell_type": "code",
   "execution_count": 16,
   "id": "e4f1f26a-3929-43ed-9972-eb227e9e36e4",
   "metadata": {},
   "outputs": [
    {
     "data": {
      "text/plain": [
       "3"
      ]
     },
     "execution_count": 16,
     "metadata": {},
     "output_type": "execute_result"
    }
   ],
   "source": [
    "7 // 2"
   ]
  },
  {
   "cell_type": "code",
   "execution_count": 17,
   "id": "7465a66f-fcbd-4537-b902-c693b4493491",
   "metadata": {},
   "outputs": [
    {
     "data": {
      "text/plain": [
       "4.666666666666667"
      ]
     },
     "execution_count": 17,
     "metadata": {},
     "output_type": "execute_result"
    }
   ],
   "source": [
    "14 / 3"
   ]
  },
  {
   "cell_type": "code",
   "execution_count": 18,
   "id": "fa5dacb6-259a-468f-86fc-03f651a43672",
   "metadata": {},
   "outputs": [
    {
     "data": {
      "text/plain": [
       "4"
      ]
     },
     "execution_count": 18,
     "metadata": {},
     "output_type": "execute_result"
    }
   ],
   "source": [
    "14 // 3"
   ]
  },
  {
   "cell_type": "code",
   "execution_count": 19,
   "id": "ce9a828a-8d63-4f70-aed5-3fc60bdb2aa3",
   "metadata": {},
   "outputs": [
    {
     "data": {
      "text/plain": [
       "int"
      ]
     },
     "execution_count": 19,
     "metadata": {},
     "output_type": "execute_result"
    }
   ],
   "source": [
    "type(5)"
   ]
  },
  {
   "cell_type": "code",
   "execution_count": 20,
   "id": "20a860c3-4cb3-434f-a75a-92b80d5b3801",
   "metadata": {},
   "outputs": [
    {
     "name": "stdout",
     "output_type": "stream",
     "text": [
      "<class 'int'>\n"
     ]
    }
   ],
   "source": [
    "print(type(5))"
   ]
  },
  {
   "cell_type": "code",
   "execution_count": 21,
   "id": "399b9848-db85-42c0-90f9-d04ef8a0f386",
   "metadata": {},
   "outputs": [
    {
     "name": "stdout",
     "output_type": "stream",
     "text": [
      "<class 'float'>\n"
     ]
    }
   ],
   "source": [
    "print(type(5.0))"
   ]
  },
  {
   "cell_type": "code",
   "execution_count": 22,
   "id": "c695ac90-92da-46f4-a7dc-db68f52d01cf",
   "metadata": {},
   "outputs": [
    {
     "name": "stdout",
     "output_type": "stream",
     "text": [
      "<class 'str'>\n"
     ]
    }
   ],
   "source": [
    "print(type(''))"
   ]
  },
  {
   "cell_type": "code",
   "execution_count": 23,
   "id": "b8599fcb-e8b9-4f8c-a5b4-43238501c016",
   "metadata": {},
   "outputs": [
    {
     "name": "stdout",
     "output_type": "stream",
     "text": [
      "<class 'type'>\n"
     ]
    }
   ],
   "source": [
    "print(type(type))"
   ]
  },
  {
   "cell_type": "code",
   "execution_count": 24,
   "id": "4f2dd6ee-d5db-4fef-be7a-0521b5e1fe2f",
   "metadata": {},
   "outputs": [
    {
     "name": "stdout",
     "output_type": "stream",
     "text": [
      "<class 'builtin_function_or_method'>\n"
     ]
    }
   ],
   "source": [
    "print(type(print))"
   ]
  },
  {
   "cell_type": "code",
   "execution_count": 25,
   "id": "97abf3fd-8294-4858-9217-f03829420be5",
   "metadata": {},
   "outputs": [
    {
     "data": {
      "text/plain": [
       "81"
      ]
     },
     "execution_count": 25,
     "metadata": {},
     "output_type": "execute_result"
    }
   ],
   "source": [
    "3 ** 4"
   ]
  },
  {
   "cell_type": "code",
   "execution_count": 26,
   "id": "88ea5c9a-e9a0-4326-9bbe-2b092bab002d",
   "metadata": {},
   "outputs": [
    {
     "data": {
      "text/plain": [
       "1024"
      ]
     },
     "execution_count": 26,
     "metadata": {},
     "output_type": "execute_result"
    }
   ],
   "source": [
    "2 ** 10"
   ]
  },
  {
   "cell_type": "code",
   "execution_count": 27,
   "id": "9138bb9c-abc4-4797-a64b-82a67a745223",
   "metadata": {},
   "outputs": [
    {
     "data": {
      "text/plain": [
       "6"
      ]
     },
     "execution_count": 27,
     "metadata": {},
     "output_type": "execute_result"
    }
   ],
   "source": [
    "2 + 2 * 2"
   ]
  },
  {
   "cell_type": "code",
   "execution_count": 28,
   "id": "5f8d9746-0c62-4f87-aabc-cc27dbfe6842",
   "metadata": {},
   "outputs": [
    {
     "data": {
      "text/plain": [
       "8"
      ]
     },
     "execution_count": 28,
     "metadata": {},
     "output_type": "execute_result"
    }
   ],
   "source": [
    "(2 + 2) * 2"
   ]
  },
  {
   "cell_type": "code",
   "execution_count": 29,
   "id": "a2294356-f49c-43da-9f68-658bddbd2158",
   "metadata": {},
   "outputs": [
    {
     "data": {
      "text/plain": [
       "4.0"
      ]
     },
     "execution_count": 29,
     "metadata": {},
     "output_type": "execute_result"
    }
   ],
   "source": [
    "5 - 2 / 2"
   ]
  },
  {
   "cell_type": "code",
   "execution_count": 30,
   "id": "ebaa7603-a5c1-4483-9f3e-b3c32d96971e",
   "metadata": {},
   "outputs": [
    {
     "data": {
      "text/plain": [
       "1.5"
      ]
     },
     "execution_count": 30,
     "metadata": {},
     "output_type": "execute_result"
    }
   ],
   "source": [
    "(5 - 2) / 2"
   ]
  },
  {
   "cell_type": "code",
   "execution_count": 31,
   "id": "dafca8ff-3934-49b3-99c6-ac1ad47aab41",
   "metadata": {},
   "outputs": [
    {
     "data": {
      "text/plain": [
       "'HelloWorld'"
      ]
     },
     "execution_count": 31,
     "metadata": {},
     "output_type": "execute_result"
    }
   ],
   "source": [
    "\"Hello\" + \"World\""
   ]
  },
  {
   "cell_type": "code",
   "execution_count": 32,
   "id": "0d16dbbd-d223-412f-85ba-9c84c8d27946",
   "metadata": {},
   "outputs": [
    {
     "data": {
      "text/plain": [
       "' '"
      ]
     },
     "execution_count": 32,
     "metadata": {},
     "output_type": "execute_result"
    }
   ],
   "source": [
    "\" \""
   ]
  },
  {
   "cell_type": "code",
   "execution_count": 33,
   "id": "078fbeb7-802a-405d-9ba2-81f7ac62d9d9",
   "metadata": {},
   "outputs": [
    {
     "data": {
      "text/plain": [
       "'  '"
      ]
     },
     "execution_count": 33,
     "metadata": {},
     "output_type": "execute_result"
    }
   ],
   "source": [
    "'  '"
   ]
  },
  {
   "cell_type": "code",
   "execution_count": 34,
   "id": "24f22c06-e5b4-409b-8baa-e374d7046c6c",
   "metadata": {},
   "outputs": [
    {
     "name": "stdout",
     "output_type": "stream",
     "text": [
      "Hello World\n"
     ]
    }
   ],
   "source": [
    "print(\"Hello\" + \" World\")"
   ]
  },
  {
   "cell_type": "code",
   "execution_count": 35,
   "id": "5d621341-a075-4936-8105-85ae22de2ad5",
   "metadata": {},
   "outputs": [
    {
     "name": "stdout",
     "output_type": "stream",
     "text": [
      "Hello World\n"
     ]
    }
   ],
   "source": [
    "print(\"Hello\" + \" \" + \"World\")"
   ]
  },
  {
   "cell_type": "code",
   "execution_count": 36,
   "id": "8d6590f0-779f-41c6-acc5-a345677976ec",
   "metadata": {},
   "outputs": [
    {
     "name": "stdout",
     "output_type": "stream",
     "text": [
      "Hello World\n"
     ]
    }
   ],
   "source": [
    "print('Hello' + \" \" + 'World')"
   ]
  },
  {
   "cell_type": "code",
   "execution_count": 37,
   "id": "78a611cf-ead3-40d1-ae19-b741622354be",
   "metadata": {},
   "outputs": [
    {
     "name": "stdout",
     "output_type": "stream",
     "text": [
      "Code word is 'Python', use it ..\n"
     ]
    }
   ],
   "source": [
    "print(\"Code word is 'Python', use it ..\")"
   ]
  },
  {
   "cell_type": "code",
   "execution_count": 38,
   "id": "29118ed8-a421-4993-bdfc-2e175e2f1134",
   "metadata": {},
   "outputs": [
    {
     "name": "stdout",
     "output_type": "stream",
     "text": [
      "Кодовое слово \"Питон\", используй его..\n"
     ]
    }
   ],
   "source": [
    "print('Кодовое слово \"Питон\", используй его..')"
   ]
  },
  {
   "cell_type": "code",
   "execution_count": 39,
   "id": "005ed457-83ed-44de-9d80-a241d11c5de1",
   "metadata": {},
   "outputs": [
    {
     "data": {
      "text/plain": [
       "'hello'"
      ]
     },
     "execution_count": 39,
     "metadata": {},
     "output_type": "execute_result"
    }
   ],
   "source": [
    "\"hello\""
   ]
  },
  {
   "cell_type": "code",
   "execution_count": 40,
   "id": "3a479855-d0b7-4ddc-bd74-c9721f1ea105",
   "metadata": {},
   "outputs": [
    {
     "data": {
      "text/plain": [
       "'hello'"
      ]
     },
     "execution_count": 40,
     "metadata": {},
     "output_type": "execute_result"
    }
   ],
   "source": [
    "'hello'"
   ]
  },
  {
   "cell_type": "code",
   "execution_count": 41,
   "id": "4ab11139-b3f4-40fa-b1da-5a19d92e9179",
   "metadata": {},
   "outputs": [
    {
     "data": {
      "text/plain": [
       "True"
      ]
     },
     "execution_count": 41,
     "metadata": {},
     "output_type": "execute_result"
    }
   ],
   "source": [
    "'hello' == \"hello\""
   ]
  },
  {
   "cell_type": "code",
   "execution_count": 42,
   "id": "43edd572-42e7-4204-90e5-7e714fd81681",
   "metadata": {},
   "outputs": [
    {
     "data": {
      "text/plain": [
       "True"
      ]
     },
     "execution_count": 42,
     "metadata": {},
     "output_type": "execute_result"
    }
   ],
   "source": [
    "True"
   ]
  },
  {
   "cell_type": "code",
   "execution_count": 43,
   "id": "631062be-5751-4401-92db-64b8b3c3c772",
   "metadata": {},
   "outputs": [
    {
     "data": {
      "text/plain": [
       "False"
      ]
     },
     "execution_count": 43,
     "metadata": {},
     "output_type": "execute_result"
    }
   ],
   "source": [
    "False"
   ]
  },
  {
   "cell_type": "code",
   "execution_count": 44,
   "id": "ddff2dc6-1f4b-4340-89a5-5ef8fdd6e12a",
   "metadata": {},
   "outputs": [
    {
     "data": {
      "text/plain": [
       "False"
      ]
     },
     "execution_count": 44,
     "metadata": {},
     "output_type": "execute_result"
    }
   ],
   "source": [
    "123 == \"123\""
   ]
  },
  {
   "cell_type": "code",
   "execution_count": 45,
   "id": "e0c8fc3d-e312-4efd-a237-48425b321639",
   "metadata": {},
   "outputs": [
    {
     "data": {
      "text/plain": [
       "False"
      ]
     },
     "execution_count": 45,
     "metadata": {},
     "output_type": "execute_result"
    }
   ],
   "source": [
    "\"a\" == \"b\""
   ]
  },
  {
   "cell_type": "code",
   "execution_count": 46,
   "id": "ef0a3ecf-664f-4630-87f9-79355281a5a7",
   "metadata": {},
   "outputs": [
    {
     "data": {
      "text/plain": [
       "False"
      ]
     },
     "execution_count": 46,
     "metadata": {},
     "output_type": "execute_result"
    }
   ],
   "source": [
    "\"a\" == \"A\""
   ]
  },
  {
   "cell_type": "code",
   "execution_count": 47,
   "id": "729c5e13-83b9-4231-839f-09713f2b465f",
   "metadata": {},
   "outputs": [
    {
     "data": {
      "text/plain": [
       "False"
      ]
     },
     "execution_count": 47,
     "metadata": {},
     "output_type": "execute_result"
    }
   ],
   "source": [
    "1 == 2"
   ]
  },
  {
   "cell_type": "code",
   "execution_count": 48,
   "id": "447adfcf-30e8-42a0-ac74-4f45c27e1f1c",
   "metadata": {},
   "outputs": [
    {
     "data": {
      "text/plain": [
       "True"
      ]
     },
     "execution_count": 48,
     "metadata": {},
     "output_type": "execute_result"
    }
   ],
   "source": [
    "5 == 5"
   ]
  },
  {
   "cell_type": "code",
   "execution_count": 49,
   "id": "c7e3fdc9-a469-4a88-a06f-aa9a05e14926",
   "metadata": {},
   "outputs": [
    {
     "data": {
      "text/plain": [
       "True"
      ]
     },
     "execution_count": 49,
     "metadata": {},
     "output_type": "execute_result"
    }
   ],
   "source": [
    "5 == 5.0"
   ]
  },
  {
   "cell_type": "code",
   "execution_count": 50,
   "id": "f0e97c3b-a4c0-48e3-bb4e-c12bc1c219e2",
   "metadata": {},
   "outputs": [
    {
     "data": {
      "text/plain": [
       "True"
      ]
     },
     "execution_count": 50,
     "metadata": {},
     "output_type": "execute_result"
    }
   ],
   "source": [
    "2 == 10 / 5"
   ]
  },
  {
   "cell_type": "code",
   "execution_count": 51,
   "id": "44378e6b-dcee-4e92-b201-92d13ad2c31a",
   "metadata": {},
   "outputs": [
    {
     "data": {
      "text/plain": [
       "2.0"
      ]
     },
     "execution_count": 51,
     "metadata": {},
     "output_type": "execute_result"
    }
   ],
   "source": [
    "10 / 5"
   ]
  },
  {
   "cell_type": "code",
   "execution_count": 52,
   "id": "82b1d131-fda3-480d-8bc4-d476fa263b7c",
   "metadata": {},
   "outputs": [
    {
     "data": {
      "text/plain": [
       "True"
      ]
     },
     "execution_count": 52,
     "metadata": {},
     "output_type": "execute_result"
    }
   ],
   "source": [
    "2.0 == 2"
   ]
  },
  {
   "cell_type": "code",
   "execution_count": 53,
   "id": "2edebce2-29af-472e-9e5b-d440bcf70d78",
   "metadata": {},
   "outputs": [
    {
     "data": {
      "text/plain": [
       "False"
      ]
     },
     "execution_count": 53,
     "metadata": {},
     "output_type": "execute_result"
    }
   ],
   "source": [
    "2.00000000001 == 2"
   ]
  },
  {
   "cell_type": "code",
   "execution_count": 54,
   "id": "bb64720c-1c49-4363-bda9-8948ea87d8e5",
   "metadata": {},
   "outputs": [
    {
     "data": {
      "text/plain": [
       "False"
      ]
     },
     "execution_count": 54,
     "metadata": {},
     "output_type": "execute_result"
    }
   ],
   "source": [
    "2.00_000_000_001 == 2"
   ]
  },
  {
   "cell_type": "code",
   "execution_count": 55,
   "id": "9cd9620a-1af9-409c-9298-ba3d3a5eb712",
   "metadata": {},
   "outputs": [
    {
     "data": {
      "text/plain": [
       "12345678912345678"
      ]
     },
     "execution_count": 55,
     "metadata": {},
     "output_type": "execute_result"
    }
   ],
   "source": [
    "12_345_678_912_345_678"
   ]
  },
  {
   "cell_type": "code",
   "execution_count": 56,
   "id": "67559eda-72e8-4293-a914-be142a3daea9",
   "metadata": {},
   "outputs": [],
   "source": [
    "num = 12_345_678_912_345_678"
   ]
  },
  {
   "cell_type": "code",
   "execution_count": 57,
   "id": "29ff0c18-98e8-4e85-8d9f-88913eecce75",
   "metadata": {},
   "outputs": [
    {
     "name": "stdout",
     "output_type": "stream",
     "text": [
      "12345678912345678\n"
     ]
    }
   ],
   "source": [
    "print(num)"
   ]
  },
  {
   "cell_type": "code",
   "execution_count": 58,
   "id": "2a427afe-bab5-43cc-b0c6-a5fe01d357f4",
   "metadata": {},
   "outputs": [
    {
     "data": {
      "text/plain": [
       "152415787806736762934004165279684"
      ]
     },
     "execution_count": 58,
     "metadata": {},
     "output_type": "execute_result"
    }
   ],
   "source": [
    "num * num"
   ]
  },
  {
   "cell_type": "code",
   "execution_count": 59,
   "id": "f3d12c0d-eee1-4b4e-91e1-a67b6ee0344e",
   "metadata": {},
   "outputs": [
    {
     "data": {
      "text/plain": [
       "1881676377434183570386935621751058032669358605752"
      ]
     },
     "execution_count": 59,
     "metadata": {},
     "output_type": "execute_result"
    }
   ],
   "source": [
    "num ** 3"
   ]
  },
  {
   "cell_type": "code",
   "execution_count": 60,
   "id": "25de89e0-cc08-4a6f-a134-ca63c93dbbb7",
   "metadata": {},
   "outputs": [
    {
     "data": {
      "text/plain": [
       "'hello'"
      ]
     },
     "execution_count": 60,
     "metadata": {},
     "output_type": "execute_result"
    }
   ],
   "source": [
    "'hello'"
   ]
  },
  {
   "cell_type": "code",
   "execution_count": 61,
   "id": "5b1c6678-e41e-46fd-913b-153743af9a28",
   "metadata": {},
   "outputs": [
    {
     "data": {
      "text/plain": [
       "'hello'"
      ]
     },
     "execution_count": 61,
     "metadata": {},
     "output_type": "execute_result"
    }
   ],
   "source": [
    "\"hello\""
   ]
  },
  {
   "cell_type": "code",
   "execution_count": 63,
   "id": "b2f8970d-c2e8-4bc8-b28f-5ed931e2938b",
   "metadata": {},
   "outputs": [
    {
     "data": {
      "text/plain": [
       "'word \"Python\" is secret word'"
      ]
     },
     "execution_count": 63,
     "metadata": {},
     "output_type": "execute_result"
    }
   ],
   "source": [
    "'word \"Python\" is secret word'"
   ]
  },
  {
   "cell_type": "code",
   "execution_count": 64,
   "id": "68ab3908-92ac-4beb-b7de-98d19c795ba2",
   "metadata": {},
   "outputs": [
    {
     "data": {
      "text/plain": [
       "\"word 'Python' is secret word\""
      ]
     },
     "execution_count": 64,
     "metadata": {},
     "output_type": "execute_result"
    }
   ],
   "source": [
    "\"word 'Python' is secret word\""
   ]
  },
  {
   "cell_type": "code",
   "execution_count": 65,
   "id": "468d2706-c682-4be4-b825-bbaa406d9787",
   "metadata": {},
   "outputs": [],
   "source": [
    "line = \"we have two types of quotes: one ', two: \\\". ok? \""
   ]
  },
  {
   "cell_type": "code",
   "execution_count": 66,
   "id": "90f55501-cc17-4d00-a560-8679bc821e1e",
   "metadata": {},
   "outputs": [
    {
     "name": "stdout",
     "output_type": "stream",
     "text": [
      "we have two types of quotes: one ', two: \". ok? \n"
     ]
    }
   ],
   "source": [
    "print(line)"
   ]
  },
  {
   "cell_type": "code",
   "execution_count": 67,
   "id": "92467182-f74b-4041-8848-3fbc807aa163",
   "metadata": {},
   "outputs": [
    {
     "data": {
      "text/plain": [
       "'we have two types of quotes: one \\', two: \". ok? '"
      ]
     },
     "execution_count": 67,
     "metadata": {},
     "output_type": "execute_result"
    }
   ],
   "source": [
    "line"
   ]
  },
  {
   "cell_type": "code",
   "execution_count": 68,
   "id": "f5fc7022-ea40-4525-9664-8f62d0a487b7",
   "metadata": {},
   "outputs": [
    {
     "name": "stdout",
     "output_type": "stream",
     "text": [
      "hello\n"
     ]
    }
   ],
   "source": [
    "print(\"hello\")"
   ]
  },
  {
   "cell_type": "code",
   "execution_count": 69,
   "id": "4dffbdcf-c135-43c0-a413-3ac112603b20",
   "metadata": {},
   "outputs": [],
   "source": [
    "word = \"hello\""
   ]
  },
  {
   "cell_type": "code",
   "execution_count": 70,
   "id": "a29edce3-e72a-40e2-9e23-0872ea45c372",
   "metadata": {},
   "outputs": [
    {
     "name": "stdout",
     "output_type": "stream",
     "text": [
      "hello\n"
     ]
    }
   ],
   "source": [
    "print(word)"
   ]
  },
  {
   "cell_type": "code",
   "execution_count": 71,
   "id": "12cc8217-ed76-4e26-9ff9-d386119945e6",
   "metadata": {},
   "outputs": [
    {
     "name": "stdout",
     "output_type": "stream",
     "text": [
      "5\n"
     ]
    }
   ],
   "source": [
    "print(len(word))"
   ]
  },
  {
   "cell_type": "code",
   "execution_count": 72,
   "id": "40b63fee-f9ec-436a-90d3-759672d3d372",
   "metadata": {},
   "outputs": [
    {
     "name": "stdout",
     "output_type": "stream",
     "text": [
      "quote: \"\n"
     ]
    }
   ],
   "source": [
    "word = \"quote: \\\"\"\n",
    "print(word)"
   ]
  },
  {
   "cell_type": "code",
   "execution_count": 73,
   "id": "34335950-0921-47e1-b204-581985e063b3",
   "metadata": {},
   "outputs": [
    {
     "data": {
      "text/plain": [
       "'quote: \"'"
      ]
     },
     "execution_count": 73,
     "metadata": {},
     "output_type": "execute_result"
    }
   ],
   "source": [
    "word"
   ]
  },
  {
   "cell_type": "code",
   "execution_count": 74,
   "id": "32103c60-0151-4f79-86a2-c3c8941e5a78",
   "metadata": {},
   "outputs": [
    {
     "data": {
      "text/plain": [
       "8"
      ]
     },
     "execution_count": 74,
     "metadata": {},
     "output_type": "execute_result"
    }
   ],
   "source": [
    "len(word)"
   ]
  },
  {
   "cell_type": "code",
   "execution_count": 76,
   "id": "90e15b18-e9e5-4bff-841f-43d9379c290e",
   "metadata": {},
   "outputs": [
    {
     "data": {
      "text/plain": [
       "12345678912345678"
      ]
     },
     "execution_count": 76,
     "metadata": {},
     "output_type": "execute_result"
    }
   ],
   "source": [
    "num"
   ]
  },
  {
   "cell_type": "code",
   "execution_count": 77,
   "id": "81c25b76-0e4c-46b2-ad34-2fc7cec8dd63",
   "metadata": {},
   "outputs": [],
   "source": [
    "num = \"number: 123\""
   ]
  },
  {
   "cell_type": "code",
   "execution_count": 78,
   "id": "d23d8106-8ebe-43c1-88c2-a779b15efc00",
   "metadata": {},
   "outputs": [
    {
     "data": {
      "text/plain": [
       "'number: 123'"
      ]
     },
     "execution_count": 78,
     "metadata": {},
     "output_type": "execute_result"
    }
   ],
   "source": [
    "num"
   ]
  },
  {
   "cell_type": "code",
   "execution_count": 79,
   "id": "489ee969-caec-4299-9a43-3931dcbe7675",
   "metadata": {},
   "outputs": [],
   "source": [
    "num = \"123\""
   ]
  },
  {
   "cell_type": "code",
   "execution_count": 80,
   "id": "59d1e11e-db16-42b1-8e12-2bc1ef395de9",
   "metadata": {},
   "outputs": [
    {
     "data": {
      "text/plain": [
       "'123'"
      ]
     },
     "execution_count": 80,
     "metadata": {},
     "output_type": "execute_result"
    }
   ],
   "source": [
    "num"
   ]
  },
  {
   "cell_type": "code",
   "execution_count": 81,
   "id": "4be84f90-aa14-41a2-be73-e02e0dd7e04c",
   "metadata": {},
   "outputs": [
    {
     "name": "stdout",
     "output_type": "stream",
     "text": [
      "<class 'str'>\n"
     ]
    }
   ],
   "source": [
    "print(type(num))"
   ]
  },
  {
   "cell_type": "code",
   "execution_count": 82,
   "id": "9e5f746d-ebeb-4366-90db-b0ce6fe149e9",
   "metadata": {},
   "outputs": [
    {
     "data": {
      "text/plain": [
       "True"
      ]
     },
     "execution_count": 82,
     "metadata": {},
     "output_type": "execute_result"
    }
   ],
   "source": [
    "isinstance(123, int)"
   ]
  },
  {
   "cell_type": "code",
   "execution_count": 84,
   "id": "095b7e9d-f5fc-4c97-9b57-bef537cccbdf",
   "metadata": {},
   "outputs": [
    {
     "data": {
      "text/plain": [
       "False"
      ]
     },
     "execution_count": 84,
     "metadata": {},
     "output_type": "execute_result"
    }
   ],
   "source": [
    "isinstance(123, float)"
   ]
  },
  {
   "cell_type": "code",
   "execution_count": 85,
   "id": "be936265-8d8b-4b1e-bcd8-59d6ece55357",
   "metadata": {},
   "outputs": [
    {
     "data": {
      "text/plain": [
       "False"
      ]
     },
     "execution_count": 85,
     "metadata": {},
     "output_type": "execute_result"
    }
   ],
   "source": [
    "isinstance(\"123\", int)"
   ]
  },
  {
   "cell_type": "code",
   "execution_count": 86,
   "id": "94b4fae0-ac8d-4d18-9085-8c0a8728be8e",
   "metadata": {},
   "outputs": [
    {
     "data": {
      "text/plain": [
       "True"
      ]
     },
     "execution_count": 86,
     "metadata": {},
     "output_type": "execute_result"
    }
   ],
   "source": [
    "isinstance(\"123\", str)"
   ]
  },
  {
   "cell_type": "code",
   "execution_count": 87,
   "id": "160f2eeb-1060-4c64-9116-5cdfb2c2b0d1",
   "metadata": {},
   "outputs": [
    {
     "name": "stdout",
     "output_type": "stream",
     "text": [
      "True\n",
      "False\n"
     ]
    }
   ],
   "source": [
    "a = 5\n",
    "b = 7.5\n",
    "print(isinstance(a, int))\n",
    "print(isinstance(b, int))"
   ]
  },
  {
   "cell_type": "code",
   "execution_count": 88,
   "id": "63d0661e-d054-47d3-9996-f162f356cda8",
   "metadata": {},
   "outputs": [
    {
     "data": {
      "text/plain": [
       "12.5"
      ]
     },
     "execution_count": 88,
     "metadata": {},
     "output_type": "execute_result"
    }
   ],
   "source": [
    "a + b"
   ]
  },
  {
   "cell_type": "code",
   "execution_count": 89,
   "id": "a418171d-96fc-45c7-aecb-efb7268187d4",
   "metadata": {},
   "outputs": [
    {
     "name": "stdout",
     "output_type": "stream",
     "text": [
      "True\n"
     ]
    }
   ],
   "source": [
    "print(isinstance(b, float))"
   ]
  },
  {
   "cell_type": "code",
   "execution_count": 91,
   "id": "5a0e7f32-cdba-426d-9ca5-c79e39043409",
   "metadata": {},
   "outputs": [
    {
     "name": "stdout",
     "output_type": "stream",
     "text": [
      "True\n"
     ]
    }
   ],
   "source": [
    "print(isinstance(b, (int, float)))"
   ]
  },
  {
   "cell_type": "code",
   "execution_count": 92,
   "id": "074446d9-86e7-4573-ab00-4f9bcc9119ac",
   "metadata": {},
   "outputs": [
    {
     "name": "stdout",
     "output_type": "stream",
     "text": [
      "it's true!, sum: 12.5\n"
     ]
    }
   ],
   "source": [
    "if isinstance(a, (int, float)) and isinstance(b, (int, float)):\n",
    "    print(\"it's true!, sum:\", a + b)"
   ]
  },
  {
   "cell_type": "code",
   "execution_count": 93,
   "id": "b4fdb344-9587-4f15-aba0-5ee4dd202beb",
   "metadata": {},
   "outputs": [
    {
     "name": "stdout",
     "output_type": "stream",
     "text": [
      "is num\n"
     ]
    }
   ],
   "source": [
    "if isinstance(b, (int, float)):\n",
    "    print(\"is num\")"
   ]
  },
  {
   "cell_type": "code",
   "execution_count": 94,
   "id": "6bd6240e-07e7-4e4c-ad51-b3b89c833871",
   "metadata": {},
   "outputs": [
    {
     "data": {
      "text/plain": [
       "True"
      ]
     },
     "execution_count": 94,
     "metadata": {},
     "output_type": "execute_result"
    }
   ],
   "source": [
    "isinstance(b, (int, float))"
   ]
  },
  {
   "cell_type": "code",
   "execution_count": 95,
   "id": "73e965f3-fc6e-4b10-8d42-00f4bcdbdf2c",
   "metadata": {},
   "outputs": [
    {
     "data": {
      "text/plain": [
       "'123'"
      ]
     },
     "execution_count": 95,
     "metadata": {},
     "output_type": "execute_result"
    }
   ],
   "source": [
    "num"
   ]
  },
  {
   "cell_type": "code",
   "execution_count": 96,
   "id": "010e10b3-6cbf-4031-8518-f4cbbcd08ebb",
   "metadata": {},
   "outputs": [
    {
     "data": {
      "text/plain": [
       "False"
      ]
     },
     "execution_count": 96,
     "metadata": {},
     "output_type": "execute_result"
    }
   ],
   "source": [
    "isinstance(num, (int, float))"
   ]
  },
  {
   "cell_type": "code",
   "execution_count": 102,
   "id": "03b8d61d-e35e-4c3b-9704-0ea6e3c6ecfc",
   "metadata": {},
   "outputs": [
    {
     "name": "stdout",
     "output_type": "stream",
     "text": [
      "something else (not a number): <class 'str'>\n"
     ]
    }
   ],
   "source": [
    "if isinstance(num, (int, float)):\n",
    "    print(\"is a number\")\n",
    "else:\n",
    "    print(\"something else (not a number):\", type(num))"
   ]
  },
  {
   "cell_type": "code",
   "execution_count": 103,
   "id": "8bb62dce-4396-4324-846a-ed2a65dfc671",
   "metadata": {},
   "outputs": [],
   "source": [
    "if isinstance(num, (int, float)):\n",
    "    print(\"is a number\")"
   ]
  },
  {
   "cell_type": "code",
   "execution_count": 104,
   "id": "26aaca43-dd75-474e-9704-abed362e1529",
   "metadata": {},
   "outputs": [],
   "source": [
    "if isinstance(num, (int, float)):\n",
    "    print(\"is a number\")\n",
    "    print(\"bye!\")"
   ]
  },
  {
   "cell_type": "code",
   "execution_count": 105,
   "id": "f67f850e-d9e4-4d00-9a7d-6b91703e4921",
   "metadata": {},
   "outputs": [
    {
     "name": "stdout",
     "output_type": "stream",
     "text": [
      "bye!\n"
     ]
    }
   ],
   "source": [
    "if isinstance(num, (int, float)):\n",
    "    print(\"is a number\")\n",
    "print(\"bye!\")"
   ]
  },
  {
   "cell_type": "code",
   "execution_count": 107,
   "id": "736bca06-8d28-4e2d-abcd-aeb837b917d2",
   "metadata": {},
   "outputs": [
    {
     "name": "stdout",
     "output_type": "stream",
     "text": [
      "is a number: 5\n",
      "bye!\n"
     ]
    }
   ],
   "source": [
    "if isinstance(a, (int, float)):\n",
    "    print(\"is a number:\", a)\n",
    "print(\"bye!\")"
   ]
  },
  {
   "cell_type": "code",
   "execution_count": 108,
   "id": "b1168017-9290-41b3-a235-405cb7330434",
   "metadata": {},
   "outputs": [
    {
     "data": {
      "text/plain": [
       "False"
      ]
     },
     "execution_count": 108,
     "metadata": {},
     "output_type": "execute_result"
    }
   ],
   "source": [
    "True\n",
    "False"
   ]
  },
  {
   "cell_type": "code",
   "execution_count": 109,
   "id": "f44e8cf3-d705-429d-9e5c-b790543f076d",
   "metadata": {},
   "outputs": [
    {
     "data": {
      "text/plain": [
       "True"
      ]
     },
     "execution_count": 109,
     "metadata": {},
     "output_type": "execute_result"
    }
   ],
   "source": [
    "True"
   ]
  },
  {
   "cell_type": "code",
   "execution_count": 110,
   "id": "d0097e6b-0cd0-42d1-8e88-075ae4194797",
   "metadata": {},
   "outputs": [
    {
     "data": {
      "text/plain": [
       "1"
      ]
     },
     "execution_count": 110,
     "metadata": {},
     "output_type": "execute_result"
    }
   ],
   "source": [
    "True + False"
   ]
  },
  {
   "cell_type": "code",
   "execution_count": 112,
   "id": "5f3f93ad-a6cd-4acd-b752-05fd94b058a9",
   "metadata": {},
   "outputs": [
    {
     "data": {
      "text/plain": [
       "True"
      ]
     },
     "execution_count": 112,
     "metadata": {},
     "output_type": "execute_result"
    }
   ],
   "source": [
    "isinstance(True, bool)"
   ]
  },
  {
   "cell_type": "code",
   "execution_count": 113,
   "id": "cc6b3f9b-5439-477f-b31b-a60195270ab9",
   "metadata": {},
   "outputs": [
    {
     "data": {
      "text/plain": [
       "True"
      ]
     },
     "execution_count": 113,
     "metadata": {},
     "output_type": "execute_result"
    }
   ],
   "source": [
    "isinstance(True, int)"
   ]
  },
  {
   "cell_type": "code",
   "execution_count": 114,
   "id": "da6f9738-01ac-4ba1-be95-bce2ed3399ed",
   "metadata": {},
   "outputs": [
    {
     "data": {
      "text/plain": [
       "True"
      ]
     },
     "execution_count": 114,
     "metadata": {},
     "output_type": "execute_result"
    }
   ],
   "source": [
    "isinstance(False, int)"
   ]
  },
  {
   "cell_type": "code",
   "execution_count": 115,
   "id": "b2c4011f-debb-4898-bff2-7705f977c400",
   "metadata": {},
   "outputs": [
    {
     "data": {
      "text/plain": [
       "2"
      ]
     },
     "execution_count": 115,
     "metadata": {},
     "output_type": "execute_result"
    }
   ],
   "source": [
    "True + True"
   ]
  },
  {
   "cell_type": "code",
   "execution_count": 116,
   "id": "8ee8c7f9-5e3d-4c41-93ac-fbf923f4aa50",
   "metadata": {},
   "outputs": [
    {
     "data": {
      "text/plain": [
       "0"
      ]
     },
     "execution_count": 116,
     "metadata": {},
     "output_type": "execute_result"
    }
   ],
   "source": [
    "False + False"
   ]
  },
  {
   "cell_type": "code",
   "execution_count": 117,
   "id": "2ccd8df4-b2b4-4701-81a2-db9e71ea5d0b",
   "metadata": {},
   "outputs": [
    {
     "data": {
      "text/plain": [
       "0"
      ]
     },
     "execution_count": 117,
     "metadata": {},
     "output_type": "execute_result"
    }
   ],
   "source": [
    "int(False)"
   ]
  },
  {
   "cell_type": "code",
   "execution_count": 118,
   "id": "0904cbb6-fe37-4490-93c3-eae19af0e708",
   "metadata": {},
   "outputs": [
    {
     "data": {
      "text/plain": [
       "1"
      ]
     },
     "execution_count": 118,
     "metadata": {},
     "output_type": "execute_result"
    }
   ],
   "source": [
    "int(True)"
   ]
  },
  {
   "cell_type": "code",
   "execution_count": 119,
   "id": "f6138abf-3a86-432d-86ae-10edd56bb778",
   "metadata": {},
   "outputs": [
    {
     "data": {
      "text/plain": [
       "123"
      ]
     },
     "execution_count": 119,
     "metadata": {},
     "output_type": "execute_result"
    }
   ],
   "source": [
    "int(\"123\")"
   ]
  },
  {
   "cell_type": "code",
   "execution_count": 120,
   "id": "ee9e1952-ba4a-4e4f-b2cb-13227ec084d2",
   "metadata": {},
   "outputs": [
    {
     "data": {
      "text/plain": [
       "579"
      ]
     },
     "execution_count": 120,
     "metadata": {},
     "output_type": "execute_result"
    }
   ],
   "source": [
    "123 + 456"
   ]
  },
  {
   "cell_type": "code",
   "execution_count": 121,
   "id": "c7fcd4f7-8459-4a3e-86e5-1ca67eeb93b3",
   "metadata": {},
   "outputs": [
    {
     "data": {
      "text/plain": [
       "579"
      ]
     },
     "execution_count": 121,
     "metadata": {},
     "output_type": "execute_result"
    }
   ],
   "source": [
    "int(\"123\") + 456"
   ]
  },
  {
   "cell_type": "code",
   "execution_count": 122,
   "id": "fc484fbc-232c-44b9-9feb-6e40af6ee501",
   "metadata": {},
   "outputs": [
    {
     "data": {
      "text/plain": [
       "'5432'"
      ]
     },
     "execution_count": 122,
     "metadata": {},
     "output_type": "execute_result"
    }
   ],
   "source": [
    "str(5432)"
   ]
  },
  {
   "cell_type": "code",
   "execution_count": 123,
   "id": "408b807d-3992-4e70-b3bc-97c5e7a3db26",
   "metadata": {},
   "outputs": [
    {
     "data": {
      "text/plain": [
       "[123, 12345, 5465]"
      ]
     },
     "execution_count": 123,
     "metadata": {},
     "output_type": "execute_result"
    }
   ],
   "source": [
    "[123, 12345, 5465]"
   ]
  },
  {
   "cell_type": "code",
   "execution_count": 124,
   "id": "6dc3ac06-3a8c-432f-9b76-19aedf2e328d",
   "metadata": {},
   "outputs": [
    {
     "data": {
      "text/plain": [
       "[45, 65, 'sdfds', True, False, [1, 0]]"
      ]
     },
     "execution_count": 124,
     "metadata": {},
     "output_type": "execute_result"
    }
   ],
   "source": [
    "[45, 65, \"sdfds\", True, False, [1, 0]]"
   ]
  },
  {
   "cell_type": "code",
   "execution_count": 125,
   "id": "a446a361-a5c2-49af-92ff-df8da49b7b2e",
   "metadata": {},
   "outputs": [
    {
     "data": {
      "text/plain": [
       "True"
      ]
     },
     "execution_count": 125,
     "metadata": {},
     "output_type": "execute_result"
    }
   ],
   "source": [
    "isinstance([], list)"
   ]
  },
  {
   "cell_type": "code",
   "execution_count": 126,
   "id": "bec49aaa-285a-42a9-a2a5-b83fc2ba98c6",
   "metadata": {},
   "outputs": [
    {
     "name": "stdout",
     "output_type": "stream",
     "text": [
      "<class 'list'>\n"
     ]
    }
   ],
   "source": [
    "print(list)"
   ]
  },
  {
   "cell_type": "code",
   "execution_count": 127,
   "id": "afdb1bcc-8887-4d9b-b85a-fd8904819263",
   "metadata": {},
   "outputs": [],
   "source": [
    "elems = [1, 5, \"abc\", True]"
   ]
  },
  {
   "cell_type": "code",
   "execution_count": 128,
   "id": "d97c95e4-bc02-43c9-8a43-f041bb9163ec",
   "metadata": {},
   "outputs": [
    {
     "data": {
      "text/plain": [
       "'abc'"
      ]
     },
     "execution_count": 128,
     "metadata": {},
     "output_type": "execute_result"
    }
   ],
   "source": [
    "elems[2]"
   ]
  },
  {
   "cell_type": "code",
   "execution_count": 129,
   "id": "cf944e15-21e8-4914-abc5-f95b2a3c1678",
   "metadata": {},
   "outputs": [
    {
     "data": {
      "text/plain": [
       "1"
      ]
     },
     "execution_count": 129,
     "metadata": {},
     "output_type": "execute_result"
    }
   ],
   "source": [
    "elems[0]"
   ]
  },
  {
   "cell_type": "code",
   "execution_count": 130,
   "id": "67375440-9ec2-435f-a105-f081712361ea",
   "metadata": {},
   "outputs": [
    {
     "data": {
      "text/plain": [
       "[1, 5, 'abc', True]"
      ]
     },
     "execution_count": 130,
     "metadata": {},
     "output_type": "execute_result"
    }
   ],
   "source": [
    "elems"
   ]
  },
  {
   "cell_type": "code",
   "execution_count": 131,
   "id": "2332f27c-9286-47ae-b571-4b879f6519cf",
   "metadata": {},
   "outputs": [],
   "source": [
    "elems[0] = 'qwerty'"
   ]
  },
  {
   "cell_type": "code",
   "execution_count": 132,
   "id": "e22c0845-dc5b-478f-aaf5-fbb31a026b1f",
   "metadata": {},
   "outputs": [
    {
     "data": {
      "text/plain": [
       "['qwerty', 5, 'abc', True]"
      ]
     },
     "execution_count": 132,
     "metadata": {},
     "output_type": "execute_result"
    }
   ],
   "source": [
    "elems"
   ]
  },
  {
   "cell_type": "code",
   "execution_count": 133,
   "id": "c549adb7-8d7e-4139-8ada-4ec635f3eabd",
   "metadata": {},
   "outputs": [
    {
     "data": {
      "text/plain": [
       "'qwerty'"
      ]
     },
     "execution_count": 133,
     "metadata": {},
     "output_type": "execute_result"
    }
   ],
   "source": [
    "elems[0]"
   ]
  },
  {
   "cell_type": "code",
   "execution_count": 134,
   "id": "595faad2-4882-4799-b063-6dd759d7257e",
   "metadata": {},
   "outputs": [
    {
     "data": {
      "text/plain": [
       "5"
      ]
     },
     "execution_count": 134,
     "metadata": {},
     "output_type": "execute_result"
    }
   ],
   "source": [
    "a"
   ]
  },
  {
   "cell_type": "code",
   "execution_count": 135,
   "id": "19e487f6-fe9e-46fc-9980-82664cc0bb75",
   "metadata": {},
   "outputs": [
    {
     "data": {
      "text/plain": [
       "7.5"
      ]
     },
     "execution_count": 135,
     "metadata": {},
     "output_type": "execute_result"
    }
   ],
   "source": [
    "b"
   ]
  },
  {
   "cell_type": "code",
   "execution_count": 136,
   "id": "9abbb204-057a-4bd0-9484-b645523d9247",
   "metadata": {},
   "outputs": [],
   "source": [
    "b = a"
   ]
  },
  {
   "cell_type": "code",
   "execution_count": 137,
   "id": "b94e5854-cf44-4df3-b078-0413d89a4ca4",
   "metadata": {},
   "outputs": [
    {
     "data": {
      "text/plain": [
       "5"
      ]
     },
     "execution_count": 137,
     "metadata": {},
     "output_type": "execute_result"
    }
   ],
   "source": [
    "a"
   ]
  },
  {
   "cell_type": "code",
   "execution_count": 138,
   "id": "8df8a7ac-ef80-4837-9d24-c077be15ef76",
   "metadata": {},
   "outputs": [
    {
     "data": {
      "text/plain": [
       "5"
      ]
     },
     "execution_count": 138,
     "metadata": {},
     "output_type": "execute_result"
    }
   ],
   "source": [
    "b"
   ]
  },
  {
   "cell_type": "code",
   "execution_count": 139,
   "id": "dacb6be9-028d-46f6-8e8d-1aab4c99ca9c",
   "metadata": {},
   "outputs": [],
   "source": [
    "a = 7"
   ]
  },
  {
   "cell_type": "code",
   "execution_count": 140,
   "id": "c918ecbc-f551-4f8d-9652-7a31c3d924f6",
   "metadata": {},
   "outputs": [
    {
     "data": {
      "text/plain": [
       "7"
      ]
     },
     "execution_count": 140,
     "metadata": {},
     "output_type": "execute_result"
    }
   ],
   "source": [
    "a"
   ]
  },
  {
   "cell_type": "code",
   "execution_count": 141,
   "id": "a00fa0bc-e625-4935-84c6-4491f036631d",
   "metadata": {},
   "outputs": [
    {
     "data": {
      "text/plain": [
       "5"
      ]
     },
     "execution_count": 141,
     "metadata": {},
     "output_type": "execute_result"
    }
   ],
   "source": [
    "b"
   ]
  },
  {
   "cell_type": "code",
   "execution_count": 142,
   "id": "c141f517-b32a-48d2-ba63-930b6574ad9f",
   "metadata": {},
   "outputs": [],
   "source": [
    "b = 9"
   ]
  },
  {
   "cell_type": "code",
   "execution_count": 143,
   "id": "14536e2d-226d-4057-9e2f-a75803922649",
   "metadata": {},
   "outputs": [
    {
     "data": {
      "text/plain": [
       "7"
      ]
     },
     "execution_count": 143,
     "metadata": {},
     "output_type": "execute_result"
    }
   ],
   "source": [
    "a"
   ]
  },
  {
   "cell_type": "code",
   "execution_count": 144,
   "id": "2cb2e445-001e-4750-9e18-8c6058413ab6",
   "metadata": {},
   "outputs": [
    {
     "data": {
      "text/plain": [
       "9"
      ]
     },
     "execution_count": 144,
     "metadata": {},
     "output_type": "execute_result"
    }
   ],
   "source": [
    "b"
   ]
  },
  {
   "cell_type": "code",
   "execution_count": 145,
   "id": "a96d808e-172b-4b9f-ab8f-a020a18201c7",
   "metadata": {},
   "outputs": [
    {
     "data": {
      "text/plain": [
       "['qwerty', 5, 'abc', True]"
      ]
     },
     "execution_count": 145,
     "metadata": {},
     "output_type": "execute_result"
    }
   ],
   "source": [
    "elems"
   ]
  },
  {
   "cell_type": "code",
   "execution_count": 146,
   "id": "eace49ef-115b-446c-99bd-7ad69c4b8bdb",
   "metadata": {},
   "outputs": [],
   "source": [
    "items = elems"
   ]
  },
  {
   "cell_type": "code",
   "execution_count": 147,
   "id": "cc44bd36-ae9e-4ef4-ab1e-02d94c7f76ce",
   "metadata": {},
   "outputs": [
    {
     "data": {
      "text/plain": [
       "['qwerty', 5, 'abc', True]"
      ]
     },
     "execution_count": 147,
     "metadata": {},
     "output_type": "execute_result"
    }
   ],
   "source": [
    "items"
   ]
  },
  {
   "cell_type": "code",
   "execution_count": 148,
   "id": "1e2efe2c-ecf3-4409-9928-d270a89258dd",
   "metadata": {},
   "outputs": [
    {
     "data": {
      "text/plain": [
       "['qwerty', 5, 'abc', True]"
      ]
     },
     "execution_count": 148,
     "metadata": {},
     "output_type": "execute_result"
    }
   ],
   "source": [
    "elems"
   ]
  },
  {
   "cell_type": "code",
   "execution_count": 149,
   "id": "f6783f2c-4a49-4c07-a3b1-aacee6f492f6",
   "metadata": {},
   "outputs": [],
   "source": [
    "elems[1] = \"foo\""
   ]
  },
  {
   "cell_type": "code",
   "execution_count": 150,
   "id": "dbe66cd5-85df-4f97-95ae-01066b23de45",
   "metadata": {},
   "outputs": [
    {
     "data": {
      "text/plain": [
       "['qwerty', 'foo', 'abc', True]"
      ]
     },
     "execution_count": 150,
     "metadata": {},
     "output_type": "execute_result"
    }
   ],
   "source": [
    "elems"
   ]
  },
  {
   "cell_type": "code",
   "execution_count": 151,
   "id": "aa67bfcf-901d-4727-9f43-0eb4dd30f58a",
   "metadata": {},
   "outputs": [
    {
     "data": {
      "text/plain": [
       "['qwerty', 'foo', 'abc', True]"
      ]
     },
     "execution_count": 151,
     "metadata": {},
     "output_type": "execute_result"
    }
   ],
   "source": [
    "items"
   ]
  },
  {
   "cell_type": "code",
   "execution_count": 152,
   "id": "e9dbca16-302f-438a-999b-c756527627b8",
   "metadata": {},
   "outputs": [
    {
     "data": {
      "text/plain": [
       "['qwerty', 'foo', 'abc', True]"
      ]
     },
     "execution_count": 152,
     "metadata": {},
     "output_type": "execute_result"
    }
   ],
   "source": [
    "things = list(items)\n",
    "things"
   ]
  },
  {
   "cell_type": "code",
   "execution_count": 153,
   "id": "dff59215-d45d-4a74-9efe-f2f9477f19bb",
   "metadata": {},
   "outputs": [
    {
     "data": {
      "text/plain": [
       "True"
      ]
     },
     "execution_count": 153,
     "metadata": {},
     "output_type": "execute_result"
    }
   ],
   "source": [
    "things == items"
   ]
  },
  {
   "cell_type": "code",
   "execution_count": 154,
   "id": "a6aeb3e5-b023-4b1b-8a1d-fc611c9618c7",
   "metadata": {},
   "outputs": [
    {
     "data": {
      "text/plain": [
       "True"
      ]
     },
     "execution_count": 154,
     "metadata": {},
     "output_type": "execute_result"
    }
   ],
   "source": [
    "items == elems"
   ]
  },
  {
   "cell_type": "code",
   "execution_count": 155,
   "id": "e65e6c0d-67dc-4ce1-9ad0-c658b22f35d9",
   "metadata": {},
   "outputs": [
    {
     "data": {
      "text/plain": [
       "True"
      ]
     },
     "execution_count": 155,
     "metadata": {},
     "output_type": "execute_result"
    }
   ],
   "source": [
    "items is elems"
   ]
  },
  {
   "cell_type": "code",
   "execution_count": 156,
   "id": "cedd06c8-f5af-422b-85da-a7eef19ca693",
   "metadata": {},
   "outputs": [
    {
     "data": {
      "text/plain": [
       "False"
      ]
     },
     "execution_count": 156,
     "metadata": {},
     "output_type": "execute_result"
    }
   ],
   "source": [
    "things is items"
   ]
  },
  {
   "cell_type": "code",
   "execution_count": 157,
   "id": "f4158a21-2dcb-4c02-9b8c-bf0785dba063",
   "metadata": {},
   "outputs": [
    {
     "data": {
      "text/plain": [
       "['qwerty', 'foo', 'abc', True]"
      ]
     },
     "execution_count": 157,
     "metadata": {},
     "output_type": "execute_result"
    }
   ],
   "source": [
    "items"
   ]
  },
  {
   "cell_type": "code",
   "execution_count": 158,
   "id": "4ae6f476-f55c-4732-8b33-19cc8f59c943",
   "metadata": {},
   "outputs": [
    {
     "data": {
      "text/plain": [
       "['qwerty', 'foo', 'abc', True]"
      ]
     },
     "execution_count": 158,
     "metadata": {},
     "output_type": "execute_result"
    }
   ],
   "source": [
    "elems"
   ]
  },
  {
   "cell_type": "code",
   "execution_count": 159,
   "id": "07882e53-61ef-4cf6-9437-0433e992b66d",
   "metadata": {},
   "outputs": [
    {
     "data": {
      "text/plain": [
       "['qwerty', 'foo', 'abc', True]"
      ]
     },
     "execution_count": 159,
     "metadata": {},
     "output_type": "execute_result"
    }
   ],
   "source": [
    "things"
   ]
  },
  {
   "cell_type": "code",
   "execution_count": 160,
   "id": "53f49dbe-a80d-492d-96c5-a14e78870e4b",
   "metadata": {},
   "outputs": [],
   "source": [
    "items[-1] = \"bar\""
   ]
  },
  {
   "cell_type": "code",
   "execution_count": 161,
   "id": "615ea1e5-57a7-4b8b-b364-619e224244e9",
   "metadata": {},
   "outputs": [
    {
     "data": {
      "text/plain": [
       "['qwerty', 'foo', 'abc', 'bar']"
      ]
     },
     "execution_count": 161,
     "metadata": {},
     "output_type": "execute_result"
    }
   ],
   "source": [
    "items"
   ]
  },
  {
   "cell_type": "code",
   "execution_count": 162,
   "id": "3df1dc48-7ae1-4d58-9a7b-90aecde5e0c1",
   "metadata": {},
   "outputs": [
    {
     "data": {
      "text/plain": [
       "['qwerty', 'foo', 'abc', 'bar']"
      ]
     },
     "execution_count": 162,
     "metadata": {},
     "output_type": "execute_result"
    }
   ],
   "source": [
    "elems"
   ]
  },
  {
   "cell_type": "code",
   "execution_count": 163,
   "id": "f761369e-8cf8-4a84-9ebf-f663b38e829b",
   "metadata": {},
   "outputs": [
    {
     "data": {
      "text/plain": [
       "['qwerty', 'foo', 'abc', True]"
      ]
     },
     "execution_count": 163,
     "metadata": {},
     "output_type": "execute_result"
    }
   ],
   "source": [
    "things"
   ]
  },
  {
   "cell_type": "code",
   "execution_count": 164,
   "id": "13957f4e-2e8a-4c83-b12f-a1a1b55d07e7",
   "metadata": {},
   "outputs": [
    {
     "ename": "IndexError",
     "evalue": "list index out of range",
     "output_type": "error",
     "traceback": [
      "\u001b[0;31m---------------------------------------------------------------------------\u001b[0m",
      "\u001b[0;31mIndexError\u001b[0m                                Traceback (most recent call last)",
      "Cell \u001b[0;32mIn[164], line 1\u001b[0m\n\u001b[0;32m----> 1\u001b[0m \u001b[43mitems\u001b[49m\u001b[43m[\u001b[49m\u001b[38;5;241;43m-\u001b[39;49m\u001b[38;5;241;43m500\u001b[39;49m\u001b[43m]\u001b[49m\n",
      "\u001b[0;31mIndexError\u001b[0m: list index out of range"
     ]
    }
   ],
   "source": [
    "items[-500]"
   ]
  },
  {
   "cell_type": "code",
   "execution_count": 165,
   "id": "51c03aed-b698-4e4c-b4c0-9e3a90401dc3",
   "metadata": {},
   "outputs": [
    {
     "ename": "IndexError",
     "evalue": "list index out of range",
     "output_type": "error",
     "traceback": [
      "\u001b[0;31m---------------------------------------------------------------------------\u001b[0m",
      "\u001b[0;31mIndexError\u001b[0m                                Traceback (most recent call last)",
      "Cell \u001b[0;32mIn[165], line 1\u001b[0m\n\u001b[0;32m----> 1\u001b[0m \u001b[43mitems\u001b[49m\u001b[43m[\u001b[49m\u001b[38;5;241;43m4\u001b[39;49m\u001b[43m]\u001b[49m\n",
      "\u001b[0;31mIndexError\u001b[0m: list index out of range"
     ]
    }
   ],
   "source": [
    "items[4]"
   ]
  },
  {
   "cell_type": "code",
   "execution_count": null,
   "id": "f01c56b3-0001-4a49-b5e0-788d5cdfbcd1",
   "metadata": {},
   "outputs": [],
   "source": []
  }
 ],
 "metadata": {
  "kernelspec": {
   "display_name": "Python 3 (ipykernel)",
   "language": "python",
   "name": "python3"
  },
  "language_info": {
   "codemirror_mode": {
    "name": "ipython",
    "version": 3
   },
   "file_extension": ".py",
   "mimetype": "text/x-python",
   "name": "python",
   "nbconvert_exporter": "python",
   "pygments_lexer": "ipython3",
   "version": "3.11.4"
  }
 },
 "nbformat": 4,
 "nbformat_minor": 5
}
