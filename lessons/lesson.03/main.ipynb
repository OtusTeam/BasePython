{
 "cells": [
  {
   "cell_type": "code",
   "execution_count": 1,
   "id": "2424ffd8",
   "metadata": {},
   "outputs": [
    {
     "data": {
      "text/plain": [
       "range(0, 10)"
      ]
     },
     "execution_count": 1,
     "metadata": {},
     "output_type": "execute_result"
    }
   ],
   "source": [
    "range(10)"
   ]
  },
  {
   "cell_type": "code",
   "execution_count": 2,
   "id": "fc2586ca",
   "metadata": {},
   "outputs": [
    {
     "name": "stdout",
     "output_type": "stream",
     "text": [
      "0\n",
      "1\n",
      "2\n",
      "3\n",
      "4\n",
      "5\n",
      "6\n",
      "7\n",
      "8\n",
      "9\n"
     ]
    }
   ],
   "source": [
    "for i in range(10):\n",
    "    print(i)"
   ]
  },
  {
   "cell_type": "code",
   "execution_count": 3,
   "id": "8fea7bd8",
   "metadata": {},
   "outputs": [
    {
     "name": "stdout",
     "output_type": "stream",
     "text": [
      "[0, 1, 2, 3, 4, 5, 6, 7, 8, 9]\n"
     ]
    }
   ],
   "source": [
    "nums = []\n",
    "for i in range(10):\n",
    "    nums.append(i)\n",
    "\n",
    "print(nums)"
   ]
  },
  {
   "cell_type": "code",
   "execution_count": 4,
   "id": "7e7409f8",
   "metadata": {},
   "outputs": [
    {
     "name": "stdout",
     "output_type": "stream",
     "text": [
      "[0, 1, 2, 3, 4, 5, 6, 7, 8, 9, 10]\n"
     ]
    }
   ],
   "source": [
    "nums = [i for i in range(11)]\n",
    "print(nums)"
   ]
  },
  {
   "cell_type": "code",
   "execution_count": 5,
   "id": "89c7eff3",
   "metadata": {},
   "outputs": [
    {
     "data": {
      "text/plain": [
       "{2: 4, 3: 9, 4: 16, 5: 25, 6: 36, 7: 49, 8: 64, 9: 81}"
      ]
     },
     "execution_count": 5,
     "metadata": {},
     "output_type": "execute_result"
    }
   ],
   "source": [
    "squares_map = {\n",
    "    i: i * i\n",
    "    for i in range(2, 10)\n",
    "}\n",
    "squares_map"
   ]
  },
  {
   "cell_type": "code",
   "execution_count": 6,
   "id": "aee96fc3",
   "metadata": {},
   "outputs": [
    {
     "data": {
      "text/plain": [
       "{1, 2, 3}"
      ]
     },
     "execution_count": 6,
     "metadata": {},
     "output_type": "execute_result"
    }
   ],
   "source": [
    "{1, 2, 3}"
   ]
  },
  {
   "cell_type": "code",
   "execution_count": 7,
   "id": "318b17bc",
   "metadata": {},
   "outputs": [
    {
     "data": {
      "text/plain": [
       "set"
      ]
     },
     "execution_count": 7,
     "metadata": {},
     "output_type": "execute_result"
    }
   ],
   "source": [
    "type({1, 2})"
   ]
  },
  {
   "cell_type": "code",
   "execution_count": 8,
   "id": "99e6d69e",
   "metadata": {},
   "outputs": [
    {
     "name": "stdout",
     "output_type": "stream",
     "text": [
      "{0, 1, 2, 3, 4, 5, 6, 7, 8, 9}\n"
     ]
    }
   ],
   "source": [
    "nums_set = {\n",
    "    i\n",
    "    for i in range(10)\n",
    "}\n",
    "print(nums_set)"
   ]
  },
  {
   "cell_type": "code",
   "execution_count": 9,
   "id": "6cfffca0",
   "metadata": {},
   "outputs": [
    {
     "data": {
      "text/plain": [
       "{0, 1, 2, 3, 4, 5, 6, 7, 8, 9, 15}"
      ]
     },
     "execution_count": 9,
     "metadata": {},
     "output_type": "execute_result"
    }
   ],
   "source": [
    "nums_set.add(5)\n",
    "nums_set.add(15)\n",
    "nums_set"
   ]
  },
  {
   "cell_type": "code",
   "execution_count": 10,
   "id": "6aaed33e",
   "metadata": {},
   "outputs": [
    {
     "name": "stdout",
     "output_type": "stream",
     "text": [
      "'h'\n",
      "'e'\n",
      "'l'\n",
      "'l'\n",
      "'o'\n"
     ]
    }
   ],
   "source": [
    "for char in \"hello\":\n",
    "    print(repr(char))"
   ]
  },
  {
   "cell_type": "code",
   "execution_count": 11,
   "id": "0dddec2c",
   "metadata": {},
   "outputs": [
    {
     "name": "stdout",
     "output_type": "stream",
     "text": [
      "'w'\n",
      "<class 'str'>\n"
     ]
    }
   ],
   "source": [
    "for char in \"w\":\n",
    "    print(repr(char))\n",
    "    print(type(char))"
   ]
  },
  {
   "cell_type": "code",
   "execution_count": 12,
   "id": "bee15824",
   "metadata": {},
   "outputs": [
    {
     "name": "stdout",
     "output_type": "stream",
     "text": [
      "hi\n",
      "hi\n",
      "'hi'\n"
     ]
    }
   ],
   "source": [
    "print('hi')\n",
    "print(str('hi'))\n",
    "print(repr('hi'))"
   ]
  },
  {
   "cell_type": "code",
   "execution_count": 13,
   "id": "b2506b3c",
   "metadata": {},
   "outputs": [
    {
     "data": {
      "text/plain": [
       "'hi'"
      ]
     },
     "execution_count": 13,
     "metadata": {},
     "output_type": "execute_result"
    }
   ],
   "source": [
    "'hi'"
   ]
  },
  {
   "cell_type": "code",
   "execution_count": 14,
   "id": "374af320",
   "metadata": {},
   "outputs": [
    {
     "name": "stdout",
     "output_type": "stream",
     "text": [
      "[1, '1']\n"
     ]
    }
   ],
   "source": [
    "print([1, \"1\"])"
   ]
  },
  {
   "cell_type": "code",
   "execution_count": 15,
   "id": "2906b43c",
   "metadata": {},
   "outputs": [
    {
     "name": "stdout",
     "output_type": "stream",
     "text": [
      "1\n",
      "1\n"
     ]
    }
   ],
   "source": [
    "print(1)\n",
    "print('1')"
   ]
  },
  {
   "cell_type": "code",
   "execution_count": 16,
   "id": "6ed44a2a",
   "metadata": {},
   "outputs": [
    {
     "name": "stdout",
     "output_type": "stream",
     "text": [
      "{1: 'hi', '1': 'hello'}\n"
     ]
    }
   ],
   "source": [
    "print({1: \"hi\", \"1\": \"hello\"})"
   ]
  },
  {
   "cell_type": "code",
   "execution_count": 17,
   "id": "bb492577",
   "metadata": {},
   "outputs": [
    {
     "data": {
      "text/plain": [
       "['h', 'e', 'l', 'l', 'o']"
      ]
     },
     "execution_count": 17,
     "metadata": {},
     "output_type": "execute_result"
    }
   ],
   "source": [
    "[c for c in \"hello\"]"
   ]
  },
  {
   "cell_type": "code",
   "execution_count": 18,
   "id": "a3ab157c",
   "metadata": {},
   "outputs": [
    {
     "data": {
      "text/plain": [
       "['h', 'e', 'l', 'l', 'o']"
      ]
     },
     "execution_count": 18,
     "metadata": {},
     "output_type": "execute_result"
    }
   ],
   "source": [
    "list(\"hello\")"
   ]
  },
  {
   "cell_type": "code",
   "execution_count": 19,
   "id": "652f2567",
   "metadata": {},
   "outputs": [
    {
     "data": {
      "text/plain": [
       "(1, 2, 3)"
      ]
     },
     "execution_count": 19,
     "metadata": {},
     "output_type": "execute_result"
    }
   ],
   "source": [
    "(1, 2, 3)"
   ]
  },
  {
   "cell_type": "code",
   "execution_count": 20,
   "id": "c59d091e",
   "metadata": {},
   "outputs": [
    {
     "data": {
      "text/plain": [
       "{}"
      ]
     },
     "execution_count": 20,
     "metadata": {},
     "output_type": "execute_result"
    }
   ],
   "source": [
    "{}"
   ]
  },
  {
   "cell_type": "code",
   "execution_count": 21,
   "id": "ee06f690",
   "metadata": {},
   "outputs": [
    {
     "data": {
      "text/plain": [
       "{1: 1}"
      ]
     },
     "execution_count": 21,
     "metadata": {},
     "output_type": "execute_result"
    }
   ],
   "source": [
    "{1: 1}"
   ]
  },
  {
   "cell_type": "code",
   "execution_count": 22,
   "id": "d618af55",
   "metadata": {},
   "outputs": [
    {
     "data": {
      "text/plain": [
       "['h', 'e', 'l', 'l', 'o']"
      ]
     },
     "execution_count": 22,
     "metadata": {},
     "output_type": "execute_result"
    }
   ],
   "source": [
    "list(c for c in \"hello\")"
   ]
  },
  {
   "cell_type": "code",
   "execution_count": 23,
   "id": "ed28117f",
   "metadata": {},
   "outputs": [
    {
     "data": {
      "text/plain": [
       "'0123456789'"
      ]
     },
     "execution_count": 23,
     "metadata": {},
     "output_type": "execute_result"
    }
   ],
   "source": [
    "\"\".join(str(c) for c in range(10))"
   ]
  },
  {
   "cell_type": "code",
   "execution_count": 24,
   "id": "83ac38b3",
   "metadata": {},
   "outputs": [
    {
     "data": {
      "text/plain": [
       "()"
      ]
     },
     "execution_count": 24,
     "metadata": {},
     "output_type": "execute_result"
    }
   ],
   "source": [
    "tuple()"
   ]
  },
  {
   "cell_type": "code",
   "execution_count": 25,
   "id": "20956e99",
   "metadata": {},
   "outputs": [
    {
     "data": {
      "text/plain": [
       "()"
      ]
     },
     "execution_count": 25,
     "metadata": {},
     "output_type": "execute_result"
    }
   ],
   "source": [
    "()"
   ]
  },
  {
   "cell_type": "code",
   "execution_count": 26,
   "id": "d52e9b77",
   "metadata": {},
   "outputs": [
    {
     "data": {
      "text/plain": [
       "(1, 2, 3)"
      ]
     },
     "execution_count": 26,
     "metadata": {},
     "output_type": "execute_result"
    }
   ],
   "source": [
    "(1, 2, 3)"
   ]
  },
  {
   "cell_type": "code",
   "execution_count": 27,
   "id": "ea91484c",
   "metadata": {},
   "outputs": [
    {
     "data": {
      "text/plain": [
       "<generator object <genexpr> at 0x106d4ef60>"
      ]
     },
     "execution_count": 27,
     "metadata": {},
     "output_type": "execute_result"
    }
   ],
   "source": [
    "(i for i in range(10))"
   ]
  },
  {
   "cell_type": "code",
   "execution_count": 28,
   "id": "ab7bd326",
   "metadata": {},
   "outputs": [
    {
     "data": {
      "text/plain": [
       "(0, 1, 2, 3, 4, 5, 6, 7, 8, 9)"
      ]
     },
     "execution_count": 28,
     "metadata": {},
     "output_type": "execute_result"
    }
   ],
   "source": [
    "tuple(i for i in range(10))"
   ]
  },
  {
   "cell_type": "code",
   "execution_count": 29,
   "id": "16605e47",
   "metadata": {},
   "outputs": [
    {
     "data": {
      "text/plain": [
       "[0, 1, 2, 3, 4, 5, 6, 7, 8, 9]"
      ]
     },
     "execution_count": 29,
     "metadata": {},
     "output_type": "execute_result"
    }
   ],
   "source": [
    "list(i for i in range(10))"
   ]
  },
  {
   "cell_type": "code",
   "execution_count": 30,
   "id": "915f0a44",
   "metadata": {},
   "outputs": [],
   "source": [
    "g = (i for i in range(10))"
   ]
  },
  {
   "cell_type": "code",
   "execution_count": 31,
   "id": "c1515281",
   "metadata": {},
   "outputs": [
    {
     "data": {
      "text/plain": [
       "<generator object <genexpr> at 0x106d4edc0>"
      ]
     },
     "execution_count": 31,
     "metadata": {},
     "output_type": "execute_result"
    }
   ],
   "source": [
    "g"
   ]
  },
  {
   "cell_type": "code",
   "execution_count": 32,
   "id": "305359fe",
   "metadata": {},
   "outputs": [
    {
     "name": "stdout",
     "output_type": "stream",
     "text": [
      "0\n",
      "1\n",
      "2\n",
      "3\n",
      "4\n",
      "5\n",
      "6\n",
      "7\n",
      "8\n",
      "9\n"
     ]
    }
   ],
   "source": [
    "for num in g:\n",
    "    print(num)"
   ]
  },
  {
   "cell_type": "code",
   "execution_count": 33,
   "id": "508c4e81",
   "metadata": {},
   "outputs": [],
   "source": [
    "for num in g:\n",
    "    print(num)"
   ]
  },
  {
   "cell_type": "code",
   "execution_count": 34,
   "id": "32643444",
   "metadata": {},
   "outputs": [],
   "source": [
    "g = (i for i in range(10))"
   ]
  },
  {
   "cell_type": "code",
   "execution_count": 35,
   "id": "2774d2e9",
   "metadata": {},
   "outputs": [
    {
     "data": {
      "text/plain": [
       "<generator object <genexpr> at 0x106d4f510>"
      ]
     },
     "execution_count": 35,
     "metadata": {},
     "output_type": "execute_result"
    }
   ],
   "source": [
    "g"
   ]
  },
  {
   "cell_type": "code",
   "execution_count": 36,
   "id": "664abdac",
   "metadata": {},
   "outputs": [
    {
     "data": {
      "text/plain": [
       "0"
      ]
     },
     "execution_count": 36,
     "metadata": {},
     "output_type": "execute_result"
    }
   ],
   "source": [
    "next(g)"
   ]
  },
  {
   "cell_type": "code",
   "execution_count": 37,
   "id": "55a4a0b0",
   "metadata": {},
   "outputs": [
    {
     "data": {
      "text/plain": [
       "1"
      ]
     },
     "execution_count": 37,
     "metadata": {},
     "output_type": "execute_result"
    }
   ],
   "source": [
    "next(g)"
   ]
  },
  {
   "cell_type": "code",
   "execution_count": 38,
   "id": "f4be65fc",
   "metadata": {},
   "outputs": [
    {
     "data": {
      "text/plain": [
       "2"
      ]
     },
     "execution_count": 38,
     "metadata": {},
     "output_type": "execute_result"
    }
   ],
   "source": [
    "next(g)"
   ]
  },
  {
   "cell_type": "code",
   "execution_count": 39,
   "id": "e025b217",
   "metadata": {},
   "outputs": [
    {
     "data": {
      "text/plain": [
       "3"
      ]
     },
     "execution_count": 39,
     "metadata": {},
     "output_type": "execute_result"
    }
   ],
   "source": [
    "next(g)"
   ]
  },
  {
   "cell_type": "code",
   "execution_count": 40,
   "id": "b9f9ecfd",
   "metadata": {},
   "outputs": [
    {
     "name": "stdout",
     "output_type": "stream",
     "text": [
      "4\n",
      "5\n",
      "6\n",
      "7\n",
      "8\n",
      "9\n"
     ]
    }
   ],
   "source": [
    "for i in g:\n",
    "    print(i)"
   ]
  },
  {
   "cell_type": "code",
   "execution_count": 41,
   "id": "2d92257d",
   "metadata": {},
   "outputs": [],
   "source": [
    "g = (i for i in range(3))"
   ]
  },
  {
   "cell_type": "code",
   "execution_count": 42,
   "id": "846b8b0e",
   "metadata": {},
   "outputs": [
    {
     "data": {
      "text/plain": [
       "0"
      ]
     },
     "execution_count": 42,
     "metadata": {},
     "output_type": "execute_result"
    }
   ],
   "source": [
    "next(g)"
   ]
  },
  {
   "cell_type": "code",
   "execution_count": 43,
   "id": "b41094a5",
   "metadata": {},
   "outputs": [
    {
     "data": {
      "text/plain": [
       "1"
      ]
     },
     "execution_count": 43,
     "metadata": {},
     "output_type": "execute_result"
    }
   ],
   "source": [
    "next(g)"
   ]
  },
  {
   "cell_type": "code",
   "execution_count": 44,
   "id": "a14dfe89",
   "metadata": {},
   "outputs": [
    {
     "data": {
      "text/plain": [
       "2"
      ]
     },
     "execution_count": 44,
     "metadata": {},
     "output_type": "execute_result"
    }
   ],
   "source": [
    "next(g)"
   ]
  },
  {
   "cell_type": "code",
   "execution_count": 45,
   "id": "48d37a3f",
   "metadata": {},
   "outputs": [
    {
     "ename": "StopIteration",
     "evalue": "",
     "output_type": "error",
     "traceback": [
      "\u001b[0;31m---------------------------------------------------------------------------\u001b[0m",
      "\u001b[0;31mStopIteration\u001b[0m                             Traceback (most recent call last)",
      "Cell \u001b[0;32mIn[45], line 1\u001b[0m\n\u001b[0;32m----> 1\u001b[0m \u001b[38;5;28;43mnext\u001b[39;49m\u001b[43m(\u001b[49m\u001b[43mg\u001b[49m\u001b[43m)\u001b[49m\n",
      "\u001b[0;31mStopIteration\u001b[0m: "
     ]
    }
   ],
   "source": [
    "next(g)"
   ]
  },
  {
   "cell_type": "code",
   "execution_count": 46,
   "id": "3999f415",
   "metadata": {},
   "outputs": [],
   "source": [
    "def make_squares(range_num):\n",
    "    print(\"Start make squares with\", range_num)\n",
    "    for i in range(range_num):\n",
    "        print(\"+ process num\", i)\n",
    "        yield i ** 2"
   ]
  },
  {
   "cell_type": "code",
   "execution_count": 47,
   "id": "b646ff8f",
   "metadata": {},
   "outputs": [
    {
     "data": {
      "text/plain": [
       "<generator object make_squares at 0x110029d20>"
      ]
     },
     "execution_count": 47,
     "metadata": {},
     "output_type": "execute_result"
    }
   ],
   "source": [
    "make_squares(4)"
   ]
  },
  {
   "cell_type": "code",
   "execution_count": 48,
   "id": "0c08289c",
   "metadata": {},
   "outputs": [
    {
     "data": {
      "text/plain": [
       "<generator object make_squares at 0x110029ee0>"
      ]
     },
     "execution_count": 48,
     "metadata": {},
     "output_type": "execute_result"
    }
   ],
   "source": [
    "squares_gen = make_squares(4)\n",
    "squares_gen"
   ]
  },
  {
   "cell_type": "code",
   "execution_count": 49,
   "id": "68922cf4",
   "metadata": {},
   "outputs": [
    {
     "name": "stdout",
     "output_type": "stream",
     "text": [
      "Start make squares with 4\n",
      "+ process num 0\n",
      "0\n",
      "+ process num 1\n",
      "1\n",
      "+ process num 2\n",
      "4\n",
      "+ process num 3\n",
      "9\n"
     ]
    }
   ],
   "source": [
    "for i in squares_gen:\n",
    "    print(i)"
   ]
  },
  {
   "cell_type": "code",
   "execution_count": 50,
   "id": "0efc0bce",
   "metadata": {},
   "outputs": [],
   "source": [
    "squares_gen = make_squares(4)"
   ]
  },
  {
   "cell_type": "code",
   "execution_count": 51,
   "id": "1c8b5160",
   "metadata": {},
   "outputs": [
    {
     "name": "stdout",
     "output_type": "stream",
     "text": [
      "Start make squares with 4\n",
      "+ process num 0\n"
     ]
    },
    {
     "data": {
      "text/plain": [
       "0"
      ]
     },
     "execution_count": 51,
     "metadata": {},
     "output_type": "execute_result"
    }
   ],
   "source": [
    "next(squares_gen)"
   ]
  },
  {
   "cell_type": "code",
   "execution_count": 52,
   "id": "98d71d69",
   "metadata": {},
   "outputs": [
    {
     "name": "stdout",
     "output_type": "stream",
     "text": [
      "+ process num 1\n"
     ]
    },
    {
     "data": {
      "text/plain": [
       "1"
      ]
     },
     "execution_count": 52,
     "metadata": {},
     "output_type": "execute_result"
    }
   ],
   "source": [
    "next(squares_gen)"
   ]
  },
  {
   "cell_type": "code",
   "execution_count": 53,
   "id": "19431f16",
   "metadata": {},
   "outputs": [
    {
     "name": "stdout",
     "output_type": "stream",
     "text": [
      "+ process num 2\n"
     ]
    },
    {
     "data": {
      "text/plain": [
       "4"
      ]
     },
     "execution_count": 53,
     "metadata": {},
     "output_type": "execute_result"
    }
   ],
   "source": [
    "next(squares_gen)"
   ]
  },
  {
   "cell_type": "code",
   "execution_count": 54,
   "id": "9d96db6f",
   "metadata": {},
   "outputs": [],
   "source": [
    "def gen_mini():\n",
    "    print(\"start\")\n",
    "    yield \"foo\"\n",
    "    print(\"hello\")\n",
    "    yield \"spam\"\n",
    "    print(\"done\")"
   ]
  },
  {
   "cell_type": "code",
   "execution_count": 55,
   "id": "e737c275",
   "metadata": {},
   "outputs": [
    {
     "data": {
      "text/plain": [
       "<generator object gen_mini at 0x106dce380>"
      ]
     },
     "execution_count": 55,
     "metadata": {},
     "output_type": "execute_result"
    }
   ],
   "source": [
    "gen_mini()"
   ]
  },
  {
   "cell_type": "code",
   "execution_count": 56,
   "id": "c73619f3",
   "metadata": {},
   "outputs": [],
   "source": [
    "g = gen_mini()"
   ]
  },
  {
   "cell_type": "code",
   "execution_count": 57,
   "id": "699a4ba6",
   "metadata": {},
   "outputs": [
    {
     "name": "stdout",
     "output_type": "stream",
     "text": [
      "start\n",
      "value: foo\n",
      "hello\n",
      "value: spam\n",
      "done\n"
     ]
    }
   ],
   "source": [
    "for i in g:\n",
    "    print(\"value:\", i)"
   ]
  },
  {
   "cell_type": "code",
   "execution_count": 58,
   "id": "a90400c9",
   "metadata": {},
   "outputs": [],
   "source": [
    "g = gen_mini()"
   ]
  },
  {
   "cell_type": "code",
   "execution_count": 59,
   "id": "ed79e832",
   "metadata": {},
   "outputs": [
    {
     "data": {
      "text/plain": [
       "<generator object gen_mini at 0x106dcde40>"
      ]
     },
     "execution_count": 59,
     "metadata": {},
     "output_type": "execute_result"
    }
   ],
   "source": [
    "g"
   ]
  },
  {
   "cell_type": "code",
   "execution_count": 60,
   "id": "5eb3dcf6",
   "metadata": {},
   "outputs": [
    {
     "name": "stdout",
     "output_type": "stream",
     "text": [
      "start\n"
     ]
    },
    {
     "data": {
      "text/plain": [
       "'foo'"
      ]
     },
     "execution_count": 60,
     "metadata": {},
     "output_type": "execute_result"
    }
   ],
   "source": [
    "next(g)"
   ]
  },
  {
   "cell_type": "code",
   "execution_count": 61,
   "id": "3cee28f0",
   "metadata": {},
   "outputs": [
    {
     "name": "stdout",
     "output_type": "stream",
     "text": [
      "hello\n"
     ]
    },
    {
     "data": {
      "text/plain": [
       "'spam'"
      ]
     },
     "execution_count": 61,
     "metadata": {},
     "output_type": "execute_result"
    }
   ],
   "source": [
    "next(g)"
   ]
  },
  {
   "cell_type": "code",
   "execution_count": 62,
   "id": "b8a76458",
   "metadata": {},
   "outputs": [
    {
     "name": "stdout",
     "output_type": "stream",
     "text": [
      "done\n"
     ]
    },
    {
     "ename": "StopIteration",
     "evalue": "",
     "output_type": "error",
     "traceback": [
      "\u001b[0;31m---------------------------------------------------------------------------\u001b[0m",
      "\u001b[0;31mStopIteration\u001b[0m                             Traceback (most recent call last)",
      "Cell \u001b[0;32mIn[62], line 1\u001b[0m\n\u001b[0;32m----> 1\u001b[0m \u001b[38;5;28;43mnext\u001b[39;49m\u001b[43m(\u001b[49m\u001b[43mg\u001b[49m\u001b[43m)\u001b[49m\n",
      "\u001b[0;31mStopIteration\u001b[0m: "
     ]
    }
   ],
   "source": [
    "next(g)"
   ]
  },
  {
   "cell_type": "code",
   "execution_count": 63,
   "id": "711ae2ff",
   "metadata": {},
   "outputs": [],
   "source": [
    "def gen_w_return():\n",
    "    print(\"start\")\n",
    "    yield \"foo\"\n",
    "    print(\"hello\")\n",
    "    yield \"spam\"\n",
    "    print(\"done\")\n",
    "    return \"eggs\""
   ]
  },
  {
   "cell_type": "code",
   "execution_count": 64,
   "id": "b70b3c59",
   "metadata": {},
   "outputs": [
    {
     "data": {
      "text/plain": [
       "<generator object gen_w_return at 0x106dce200>"
      ]
     },
     "execution_count": 64,
     "metadata": {},
     "output_type": "execute_result"
    }
   ],
   "source": [
    "gen_w_return()"
   ]
  },
  {
   "cell_type": "code",
   "execution_count": 65,
   "id": "fd63f986",
   "metadata": {},
   "outputs": [
    {
     "name": "stdout",
     "output_type": "stream",
     "text": [
      "start\n",
      "val: foo\n",
      "hello\n",
      "val: spam\n",
      "done\n"
     ]
    }
   ],
   "source": [
    "for val in gen_w_return():\n",
    "    print(\"val:\", val)"
   ]
  },
  {
   "cell_type": "code",
   "execution_count": 66,
   "id": "c81fac7d",
   "metadata": {},
   "outputs": [],
   "source": [
    "g = gen_w_return()"
   ]
  },
  {
   "cell_type": "code",
   "execution_count": 67,
   "id": "8c44e552",
   "metadata": {},
   "outputs": [
    {
     "name": "stdout",
     "output_type": "stream",
     "text": [
      "start\n"
     ]
    },
    {
     "data": {
      "text/plain": [
       "'foo'"
      ]
     },
     "execution_count": 67,
     "metadata": {},
     "output_type": "execute_result"
    }
   ],
   "source": [
    "next(g)"
   ]
  },
  {
   "cell_type": "code",
   "execution_count": 68,
   "id": "c53f8d43",
   "metadata": {},
   "outputs": [
    {
     "name": "stdout",
     "output_type": "stream",
     "text": [
      "hello\n"
     ]
    },
    {
     "data": {
      "text/plain": [
       "'spam'"
      ]
     },
     "execution_count": 68,
     "metadata": {},
     "output_type": "execute_result"
    }
   ],
   "source": [
    "next(g)"
   ]
  },
  {
   "cell_type": "code",
   "execution_count": 69,
   "id": "1c9baf01",
   "metadata": {},
   "outputs": [
    {
     "name": "stdout",
     "output_type": "stream",
     "text": [
      "done\n"
     ]
    },
    {
     "ename": "StopIteration",
     "evalue": "eggs",
     "output_type": "error",
     "traceback": [
      "\u001b[0;31m---------------------------------------------------------------------------\u001b[0m",
      "\u001b[0;31mStopIteration\u001b[0m                             Traceback (most recent call last)",
      "Cell \u001b[0;32mIn[69], line 1\u001b[0m\n\u001b[0;32m----> 1\u001b[0m \u001b[38;5;28;43mnext\u001b[39;49m\u001b[43m(\u001b[49m\u001b[43mg\u001b[49m\u001b[43m)\u001b[49m\n",
      "\u001b[0;31mStopIteration\u001b[0m: eggs"
     ]
    }
   ],
   "source": [
    "next(g)"
   ]
  },
  {
   "cell_type": "code",
   "execution_count": 70,
   "id": "53dc50d6",
   "metadata": {},
   "outputs": [
    {
     "name": "stdout",
     "output_type": "stream",
     "text": [
      "0 0\n",
      "1 1\n",
      "2 4\n",
      "3 9\n",
      "4 16\n",
      "5 25\n",
      "6 36\n",
      "7 49\n",
      "8 64\n",
      "9 81\n",
      "10 100\n",
      "11 121\n"
     ]
    }
   ],
   "source": [
    "g = ((i, i**2) for i in range(10000))\n",
    "for i, sq in g:\n",
    "    print(i, sq)\n",
    "    if sq > 100:\n",
    "        break"
   ]
  },
  {
   "cell_type": "code",
   "execution_count": 71,
   "id": "181384ab",
   "metadata": {},
   "outputs": [
    {
     "data": {
      "text/plain": [
       "[1, 3, 5, 7, 9, 11, 13]"
      ]
     },
     "execution_count": 71,
     "metadata": {},
     "output_type": "execute_result"
    }
   ],
   "source": [
    "odds = [i for i in range(15) if i % 2]\n",
    "odds"
   ]
  },
  {
   "cell_type": "code",
   "execution_count": 72,
   "id": "69d5cb5d",
   "metadata": {},
   "outputs": [],
   "source": [
    "def get_odds(up_to):\n",
    "    for i in range(up_to):\n",
    "        print(\"check for odd\", i)\n",
    "        if i % 2:\n",
    "            yield i"
   ]
  },
  {
   "cell_type": "code",
   "execution_count": 73,
   "id": "b88cb51c",
   "metadata": {},
   "outputs": [
    {
     "data": {
      "text/plain": [
       "<generator object get_odds at 0x11002a500>"
      ]
     },
     "execution_count": 73,
     "metadata": {},
     "output_type": "execute_result"
    }
   ],
   "source": [
    "get_odds(5)"
   ]
  },
  {
   "cell_type": "code",
   "execution_count": 74,
   "id": "23e89017",
   "metadata": {},
   "outputs": [
    {
     "name": "stdout",
     "output_type": "stream",
     "text": [
      "check for odd 0\n",
      "check for odd 1\n",
      "check for odd 2\n",
      "check for odd 3\n",
      "check for odd 4\n",
      "check for odd 5\n",
      "check for odd 6\n",
      "check for odd 7\n",
      "check for odd 8\n",
      "check for odd 9\n",
      "check for odd 10\n",
      "check for odd 11\n",
      "check for odd 12\n",
      "check for odd 13\n",
      "check for odd 14\n"
     ]
    },
    {
     "data": {
      "text/plain": [
       "[1, 3, 5, 7, 9, 11, 13]"
      ]
     },
     "execution_count": 74,
     "metadata": {},
     "output_type": "execute_result"
    }
   ],
   "source": [
    "list(get_odds(15))"
   ]
  },
  {
   "cell_type": "code",
   "execution_count": 75,
   "id": "8a222ad5",
   "metadata": {},
   "outputs": [
    {
     "data": {
      "text/plain": [
       "True"
      ]
     },
     "execution_count": 75,
     "metadata": {},
     "output_type": "execute_result"
    }
   ],
   "source": [
    "True"
   ]
  },
  {
   "cell_type": "code",
   "execution_count": 76,
   "id": "715c11bc",
   "metadata": {},
   "outputs": [
    {
     "data": {
      "text/plain": [
       "False"
      ]
     },
     "execution_count": 76,
     "metadata": {},
     "output_type": "execute_result"
    }
   ],
   "source": [
    "False"
   ]
  },
  {
   "cell_type": "code",
   "execution_count": 77,
   "id": "9cd16729",
   "metadata": {},
   "outputs": [
    {
     "data": {
      "text/plain": [
       "True"
      ]
     },
     "execution_count": 77,
     "metadata": {},
     "output_type": "execute_result"
    }
   ],
   "source": [
    "bool(1)"
   ]
  },
  {
   "cell_type": "code",
   "execution_count": 78,
   "id": "2f35409c",
   "metadata": {},
   "outputs": [
    {
     "data": {
      "text/plain": [
       "False"
      ]
     },
     "execution_count": 78,
     "metadata": {},
     "output_type": "execute_result"
    }
   ],
   "source": [
    "bool(0)"
   ]
  },
  {
   "cell_type": "code",
   "execution_count": 79,
   "id": "f2c4a900",
   "metadata": {},
   "outputs": [
    {
     "data": {
      "text/plain": [
       "False"
      ]
     },
     "execution_count": 79,
     "metadata": {},
     "output_type": "execute_result"
    }
   ],
   "source": [
    "bool(\"\")"
   ]
  },
  {
   "cell_type": "code",
   "execution_count": 80,
   "id": "cc793b57",
   "metadata": {},
   "outputs": [
    {
     "data": {
      "text/plain": [
       "False"
      ]
     },
     "execution_count": 80,
     "metadata": {},
     "output_type": "execute_result"
    }
   ],
   "source": [
    "bool([])"
   ]
  },
  {
   "cell_type": "code",
   "execution_count": 81,
   "id": "c38cbeb1",
   "metadata": {},
   "outputs": [
    {
     "data": {
      "text/plain": [
       "False"
      ]
     },
     "execution_count": 81,
     "metadata": {},
     "output_type": "execute_result"
    }
   ],
   "source": [
    "bool({})"
   ]
  },
  {
   "cell_type": "code",
   "execution_count": 82,
   "id": "16eae980",
   "metadata": {},
   "outputs": [
    {
     "data": {
      "text/plain": [
       "True"
      ]
     },
     "execution_count": 82,
     "metadata": {},
     "output_type": "execute_result"
    }
   ],
   "source": [
    "bool(-1)"
   ]
  },
  {
   "cell_type": "code",
   "execution_count": 83,
   "id": "855af84a",
   "metadata": {},
   "outputs": [
    {
     "data": {
      "text/plain": [
       "True"
      ]
     },
     "execution_count": 83,
     "metadata": {},
     "output_type": "execute_result"
    }
   ],
   "source": [
    "bool([0])"
   ]
  },
  {
   "cell_type": "code",
   "execution_count": 84,
   "id": "a700a6d3",
   "metadata": {},
   "outputs": [
    {
     "data": {
      "text/plain": [
       "True"
      ]
     },
     "execution_count": 84,
     "metadata": {},
     "output_type": "execute_result"
    }
   ],
   "source": [
    "bool(\"0\")"
   ]
  },
  {
   "cell_type": "code",
   "execution_count": 85,
   "id": "d85c917c",
   "metadata": {},
   "outputs": [
    {
     "data": {
      "text/plain": [
       "False"
      ]
     },
     "execution_count": 85,
     "metadata": {},
     "output_type": "execute_result"
    }
   ],
   "source": [
    "bool(None)"
   ]
  },
  {
   "cell_type": "code",
   "execution_count": 86,
   "id": "4a1b8458",
   "metadata": {},
   "outputs": [
    {
     "data": {
      "text/plain": [
       "1"
      ]
     },
     "execution_count": 86,
     "metadata": {},
     "output_type": "execute_result"
    }
   ],
   "source": [
    "3 % 2"
   ]
  },
  {
   "cell_type": "code",
   "execution_count": 87,
   "id": "f36199f1",
   "metadata": {},
   "outputs": [
    {
     "data": {
      "text/plain": [
       "0"
      ]
     },
     "execution_count": 87,
     "metadata": {},
     "output_type": "execute_result"
    }
   ],
   "source": [
    "2 % 2"
   ]
  },
  {
   "cell_type": "code",
   "execution_count": 88,
   "id": "7a346b46",
   "metadata": {},
   "outputs": [
    {
     "data": {
      "text/plain": [
       "True"
      ]
     },
     "execution_count": 88,
     "metadata": {},
     "output_type": "execute_result"
    }
   ],
   "source": [
    "bool(3 % 2)"
   ]
  },
  {
   "cell_type": "code",
   "execution_count": 89,
   "id": "fc130da0",
   "metadata": {},
   "outputs": [
    {
     "data": {
      "text/plain": [
       "True"
      ]
     },
     "execution_count": 89,
     "metadata": {},
     "output_type": "execute_result"
    }
   ],
   "source": [
    "bool(3 % 2 != 0)"
   ]
  },
  {
   "cell_type": "code",
   "execution_count": 90,
   "id": "53db10b8",
   "metadata": {},
   "outputs": [
    {
     "data": {
      "text/plain": [
       "True"
      ]
     },
     "execution_count": 90,
     "metadata": {},
     "output_type": "execute_result"
    }
   ],
   "source": [
    "3 % 2 != 0"
   ]
  },
  {
   "cell_type": "code",
   "execution_count": 91,
   "id": "074dec7c",
   "metadata": {},
   "outputs": [
    {
     "data": {
      "text/plain": [
       "False"
      ]
     },
     "execution_count": 91,
     "metadata": {},
     "output_type": "execute_result"
    }
   ],
   "source": [
    "bool(\"\")"
   ]
  },
  {
   "cell_type": "code",
   "execution_count": 92,
   "id": "30d692ad",
   "metadata": {},
   "outputs": [],
   "source": [
    "if \"\":\n",
    "    print(\"never\")"
   ]
  },
  {
   "cell_type": "code",
   "execution_count": 93,
   "id": "36e00490",
   "metadata": {},
   "outputs": [],
   "source": [
    "if bool(\"\"):\n",
    "    print(\"never\")"
   ]
  },
  {
   "cell_type": "code",
   "execution_count": 94,
   "id": "701f5440",
   "metadata": {},
   "outputs": [
    {
     "name": "stdout",
     "output_type": "stream",
     "text": [
      "John\n",
      "Sam\n"
     ]
    }
   ],
   "source": [
    "names = [\"john\", \"sam\"]\n",
    "for name in names:\n",
    "    print(name.title())"
   ]
  },
  {
   "cell_type": "code",
   "execution_count": 95,
   "id": "1fcec7b9",
   "metadata": {},
   "outputs": [
    {
     "name": "stdout",
     "output_type": "stream",
     "text": [
      "john@google.com\n",
      "sam.white@yahoo.com\n"
     ]
    }
   ],
   "source": [
    "emails = [\"John@Google.com\", \"Sam.White@Yahoo.com\"]\n",
    "for email in emails:\n",
    "    email = email.lower()\n",
    "    print(email)"
   ]
  },
  {
   "cell_type": "code",
   "execution_count": 96,
   "id": "7f6f108c",
   "metadata": {},
   "outputs": [],
   "source": [
    "def check_domains(emails):\n",
    "    print(\"check\", emails)\n",
    "    for email in emails:\n",
    "        print(\"process\", email)\n",
    "        name, _, domain = email.partition(\"@\")\n",
    "        print(domain)"
   ]
  },
  {
   "cell_type": "code",
   "execution_count": 97,
   "id": "f5882127",
   "metadata": {},
   "outputs": [
    {
     "name": "stdout",
     "output_type": "stream",
     "text": [
      "check <generator object <genexpr> at 0x11048fd30>\n",
      "process john@google.com\n",
      "google.com\n",
      "process sam.white@yahoo.com\n",
      "yahoo.com\n"
     ]
    }
   ],
   "source": [
    "check_domains(email.lower() for email in emails)"
   ]
  },
  {
   "cell_type": "code",
   "execution_count": 98,
   "id": "d43913f9",
   "metadata": {},
   "outputs": [],
   "source": [
    "a = 1\n",
    "b = 2"
   ]
  },
  {
   "cell_type": "code",
   "execution_count": 99,
   "id": "4f0c5cd7",
   "metadata": {},
   "outputs": [],
   "source": [
    "c = a\n",
    "a = b\n",
    "b = c"
   ]
  },
  {
   "cell_type": "code",
   "execution_count": 100,
   "id": "4aa7d56c",
   "metadata": {},
   "outputs": [
    {
     "data": {
      "text/plain": [
       "(2, 1)"
      ]
     },
     "execution_count": 100,
     "metadata": {},
     "output_type": "execute_result"
    }
   ],
   "source": [
    "a, b"
   ]
  },
  {
   "cell_type": "code",
   "execution_count": 101,
   "id": "8603b9cd",
   "metadata": {},
   "outputs": [],
   "source": [
    "(a, b) = (b, a)"
   ]
  },
  {
   "cell_type": "code",
   "execution_count": 102,
   "id": "d0b770e4",
   "metadata": {},
   "outputs": [
    {
     "data": {
      "text/plain": [
       "(1, 2)"
      ]
     },
     "execution_count": 102,
     "metadata": {},
     "output_type": "execute_result"
    }
   ],
   "source": [
    "a, b"
   ]
  },
  {
   "cell_type": "code",
   "execution_count": 103,
   "id": "34797b5a",
   "metadata": {},
   "outputs": [],
   "source": [
    "a, b = b, a"
   ]
  },
  {
   "cell_type": "code",
   "execution_count": 104,
   "id": "d9d73cf7",
   "metadata": {},
   "outputs": [
    {
     "data": {
      "text/plain": [
       "(2, 1)"
      ]
     },
     "execution_count": 104,
     "metadata": {},
     "output_type": "execute_result"
    }
   ],
   "source": [
    "a, b"
   ]
  },
  {
   "cell_type": "code",
   "execution_count": 105,
   "id": "d43e4b94",
   "metadata": {},
   "outputs": [],
   "source": [
    "t = (4, 5)"
   ]
  },
  {
   "cell_type": "code",
   "execution_count": 106,
   "id": "05ffa353",
   "metadata": {},
   "outputs": [
    {
     "data": {
      "text/plain": [
       "(4, 5)"
      ]
     },
     "execution_count": 106,
     "metadata": {},
     "output_type": "execute_result"
    }
   ],
   "source": [
    "t"
   ]
  },
  {
   "cell_type": "code",
   "execution_count": 107,
   "id": "8ce6d175",
   "metadata": {},
   "outputs": [
    {
     "data": {
      "text/plain": [
       "4"
      ]
     },
     "execution_count": 107,
     "metadata": {},
     "output_type": "execute_result"
    }
   ],
   "source": [
    "t[0]"
   ]
  },
  {
   "cell_type": "code",
   "execution_count": 108,
   "id": "6bfeb82f",
   "metadata": {},
   "outputs": [
    {
     "data": {
      "text/plain": [
       "5"
      ]
     },
     "execution_count": 108,
     "metadata": {},
     "output_type": "execute_result"
    }
   ],
   "source": [
    "t[1]"
   ]
  },
  {
   "cell_type": "code",
   "execution_count": 109,
   "id": "de9388ff",
   "metadata": {},
   "outputs": [],
   "source": [
    "t2 = t"
   ]
  },
  {
   "cell_type": "code",
   "execution_count": 110,
   "id": "d305eff0",
   "metadata": {},
   "outputs": [
    {
     "data": {
      "text/plain": [
       "(4, 5)"
      ]
     },
     "execution_count": 110,
     "metadata": {},
     "output_type": "execute_result"
    }
   ],
   "source": [
    "t2"
   ]
  },
  {
   "cell_type": "code",
   "execution_count": 111,
   "id": "f0e9c5db",
   "metadata": {},
   "outputs": [],
   "source": [
    "k, j = t"
   ]
  },
  {
   "cell_type": "code",
   "execution_count": 112,
   "id": "a6ccc1f7",
   "metadata": {},
   "outputs": [
    {
     "data": {
      "text/plain": [
       "4"
      ]
     },
     "execution_count": 112,
     "metadata": {},
     "output_type": "execute_result"
    }
   ],
   "source": [
    "k"
   ]
  },
  {
   "cell_type": "code",
   "execution_count": 113,
   "id": "1773d7fd",
   "metadata": {},
   "outputs": [
    {
     "data": {
      "text/plain": [
       "5"
      ]
     },
     "execution_count": 113,
     "metadata": {},
     "output_type": "execute_result"
    }
   ],
   "source": [
    "j"
   ]
  },
  {
   "cell_type": "code",
   "execution_count": 114,
   "id": "4c9ada47",
   "metadata": {},
   "outputs": [],
   "source": [
    "(a, b) = t"
   ]
  },
  {
   "cell_type": "code",
   "execution_count": 115,
   "id": "d206963f",
   "metadata": {},
   "outputs": [
    {
     "data": {
      "text/plain": [
       "(4, 5)"
      ]
     },
     "execution_count": 115,
     "metadata": {},
     "output_type": "execute_result"
    }
   ],
   "source": [
    "a, b"
   ]
  },
  {
   "cell_type": "code",
   "execution_count": 116,
   "id": "36eff877",
   "metadata": {},
   "outputs": [
    {
     "data": {
      "text/plain": [
       "4"
      ]
     },
     "execution_count": 116,
     "metadata": {},
     "output_type": "execute_result"
    }
   ],
   "source": [
    "a"
   ]
  },
  {
   "cell_type": "code",
   "execution_count": 117,
   "id": "2c51fea8",
   "metadata": {},
   "outputs": [
    {
     "data": {
      "text/plain": [
       "5"
      ]
     },
     "execution_count": 117,
     "metadata": {},
     "output_type": "execute_result"
    }
   ],
   "source": [
    "b"
   ]
  },
  {
   "cell_type": "code",
   "execution_count": 118,
   "id": "e62c71db",
   "metadata": {},
   "outputs": [],
   "source": [
    "def fib(n):\n",
    "    \"\"\"\n",
    "    0, 1, 1, 2, 3, 5, 8, 13, 21, ...\n",
    "    \"\"\"\n",
    "    if n < 2:\n",
    "        return n\n",
    "    return fib(n - 1) + fib(n - 2)"
   ]
  },
  {
   "cell_type": "code",
   "execution_count": 119,
   "id": "122ad756",
   "metadata": {},
   "outputs": [
    {
     "data": {
      "text/plain": [
       "5"
      ]
     },
     "execution_count": 119,
     "metadata": {},
     "output_type": "execute_result"
    }
   ],
   "source": [
    "fib(5)"
   ]
  },
  {
   "cell_type": "code",
   "execution_count": 120,
   "id": "6ce4166d",
   "metadata": {},
   "outputs": [
    {
     "data": {
      "text/plain": [
       "8"
      ]
     },
     "execution_count": 120,
     "metadata": {},
     "output_type": "execute_result"
    }
   ],
   "source": [
    "fib(6)"
   ]
  },
  {
   "cell_type": "code",
   "execution_count": 121,
   "id": "a1eaeb29",
   "metadata": {},
   "outputs": [
    {
     "data": {
      "text/plain": [
       "[0, 1, 1, 2, 3, 5, 8, 13]"
      ]
     },
     "execution_count": 121,
     "metadata": {},
     "output_type": "execute_result"
    }
   ],
   "source": [
    "[fib(i) for i in range(8)]"
   ]
  },
  {
   "cell_type": "code",
   "execution_count": 122,
   "id": "43d563e5",
   "metadata": {},
   "outputs": [
    {
     "data": {
      "text/plain": [
       "[0, 1, 1, 2, 3, 5, 8, 13, 21, 34]"
      ]
     },
     "execution_count": 122,
     "metadata": {},
     "output_type": "execute_result"
    }
   ],
   "source": [
    "[fib(i) for i in range(10)]"
   ]
  },
  {
   "cell_type": "code",
   "execution_count": 123,
   "id": "456c0b8f",
   "metadata": {},
   "outputs": [],
   "source": [
    "def fib():\n",
    "    cur = 0\n",
    "    nxt = 1\n",
    "    while True:\n",
    "        yield cur\n",
    "        cur, nxt = nxt, cur + nxt"
   ]
  },
  {
   "cell_type": "code",
   "execution_count": 124,
   "id": "80602fc4",
   "metadata": {},
   "outputs": [
    {
     "data": {
      "text/plain": [
       "<generator object fib at 0x11048fc60>"
      ]
     },
     "execution_count": 124,
     "metadata": {},
     "output_type": "execute_result"
    }
   ],
   "source": [
    "fib()"
   ]
  },
  {
   "cell_type": "code",
   "execution_count": 125,
   "id": "03b8852f",
   "metadata": {},
   "outputs": [
    {
     "data": {
      "text/plain": [
       "[0,\n",
       " 1,\n",
       " 1,\n",
       " 2,\n",
       " 3,\n",
       " 5,\n",
       " 8,\n",
       " 13,\n",
       " 21,\n",
       " 34,\n",
       " 55,\n",
       " 89,\n",
       " 144,\n",
       " 233,\n",
       " 377,\n",
       " 610,\n",
       " 987,\n",
       " 1597,\n",
       " 2584,\n",
       " 4181,\n",
       " 6765,\n",
       " 10946,\n",
       " 17711,\n",
       " 28657,\n",
       " 46368,\n",
       " 75025,\n",
       " 121393,\n",
       " 196418,\n",
       " 317811,\n",
       " 514229,\n",
       " 832040,\n",
       " 1346269,\n",
       " 2178309,\n",
       " 3524578,\n",
       " 5702887,\n",
       " 9227465,\n",
       " 14930352,\n",
       " 24157817,\n",
       " 39088169,\n",
       " 63245986,\n",
       " 102334155,\n",
       " 165580141,\n",
       " 267914296,\n",
       " 433494437,\n",
       " 701408733,\n",
       " 1134903170,\n",
       " 1836311903,\n",
       " 2971215073,\n",
       " 4807526976,\n",
       " 7778742049]"
      ]
     },
     "execution_count": 125,
     "metadata": {},
     "output_type": "execute_result"
    }
   ],
   "source": [
    "fib_gen = fib()\n",
    "[next(fib_gen) for i in range(50)]"
   ]
  },
  {
   "cell_type": "code",
   "execution_count": 127,
   "id": "a8ab5692",
   "metadata": {},
   "outputs": [],
   "source": [
    "def get_first_n_fib(n):\n",
    "    fib_gen = fib()\n",
    "    return [next(fib_gen) for i in range(n)]"
   ]
  },
  {
   "cell_type": "code",
   "execution_count": 128,
   "id": "bf567eb5",
   "metadata": {},
   "outputs": [
    {
     "data": {
      "text/plain": [
       "[0, 1, 1, 2, 3, 5, 8, 13, 21, 34]"
      ]
     },
     "execution_count": 128,
     "metadata": {},
     "output_type": "execute_result"
    }
   ],
   "source": [
    "get_first_n_fib(10)"
   ]
  },
  {
   "cell_type": "code",
   "execution_count": 129,
   "id": "4a1acffa",
   "metadata": {},
   "outputs": [
    {
     "data": {
      "text/plain": [
       "[0, 0, 0, 0]"
      ]
     },
     "execution_count": 129,
     "metadata": {},
     "output_type": "execute_result"
    }
   ],
   "source": [
    "[next(fib()) for i in range(4)]"
   ]
  },
  {
   "cell_type": "code",
   "execution_count": 130,
   "id": "a9e3b100",
   "metadata": {},
   "outputs": [],
   "source": [
    "from typing import Generator"
   ]
  },
  {
   "cell_type": "code",
   "execution_count": 132,
   "id": "506f1202",
   "metadata": {},
   "outputs": [],
   "source": [
    "def fib() -> Generator[None, None, None]:\n",
    "    cur = 0\n",
    "    nxt = 1\n",
    "    while True:\n",
    "        yield cur\n",
    "        cur, nxt = nxt, cur + nxt"
   ]
  },
  {
   "cell_type": "code",
   "execution_count": 133,
   "id": "3ffb2cc6",
   "metadata": {},
   "outputs": [],
   "source": [
    "from typing import Iterable\n",
    "\n",
    "\n",
    "def squares(nums: Iterable[int]):\n",
    "    return [i ** 2 for i in nums]"
   ]
  },
  {
   "cell_type": "code",
   "execution_count": 134,
   "id": "971f7bdc",
   "metadata": {},
   "outputs": [
    {
     "data": {
      "text/plain": [
       "[1, 4, 25, 49]"
      ]
     },
     "execution_count": 134,
     "metadata": {},
     "output_type": "execute_result"
    }
   ],
   "source": [
    "squares([1,2, 5, 7])"
   ]
  },
  {
   "cell_type": "code",
   "execution_count": 135,
   "id": "52ff31aa",
   "metadata": {},
   "outputs": [
    {
     "data": {
      "text/plain": [
       "[9, 16, 25, 36, 49]"
      ]
     },
     "execution_count": 135,
     "metadata": {},
     "output_type": "execute_result"
    }
   ],
   "source": [
    "squares(range(3, 8))"
   ]
  },
  {
   "cell_type": "code",
   "execution_count": 136,
   "id": "02d82d89",
   "metadata": {},
   "outputs": [],
   "source": [
    "def squares(*nums: int):\n",
    "    print(type(nums))\n",
    "    print(nums)\n",
    "    return [i ** 2 for i in nums]"
   ]
  },
  {
   "cell_type": "code",
   "execution_count": 137,
   "id": "56d4a53d",
   "metadata": {},
   "outputs": [
    {
     "name": "stdout",
     "output_type": "stream",
     "text": [
      "<class 'tuple'>\n",
      "(1, 5, 8)\n"
     ]
    },
    {
     "data": {
      "text/plain": [
       "[1, 25, 64]"
      ]
     },
     "execution_count": 137,
     "metadata": {},
     "output_type": "execute_result"
    }
   ],
   "source": [
    "squares(1, 5, 8)"
   ]
  },
  {
   "cell_type": "code",
   "execution_count": 138,
   "id": "6911f6c4",
   "metadata": {},
   "outputs": [
    {
     "name": "stdout",
     "output_type": "stream",
     "text": [
      "<class 'tuple'>\n",
      "(1,)\n"
     ]
    },
    {
     "data": {
      "text/plain": [
       "[1]"
      ]
     },
     "execution_count": 138,
     "metadata": {},
     "output_type": "execute_result"
    }
   ],
   "source": [
    "squares(1)"
   ]
  },
  {
   "cell_type": "code",
   "execution_count": 139,
   "id": "401395ed",
   "metadata": {},
   "outputs": [
    {
     "name": "stdout",
     "output_type": "stream",
     "text": [
      "<class 'tuple'>\n",
      "()\n"
     ]
    },
    {
     "data": {
      "text/plain": [
       "[]"
      ]
     },
     "execution_count": 139,
     "metadata": {},
     "output_type": "execute_result"
    }
   ],
   "source": [
    "squares()"
   ]
  },
  {
   "cell_type": "code",
   "execution_count": 144,
   "id": "003131d8",
   "metadata": {},
   "outputs": [],
   "source": [
    "def show_kwargs(**data):\n",
    "    print(data)\n",
    "    for key, value in data.items():\n",
    "        print(f\"{key}={value!r}\")"
   ]
  },
  {
   "cell_type": "code",
   "execution_count": 145,
   "id": "73cde30f",
   "metadata": {},
   "outputs": [
    {
     "name": "stdout",
     "output_type": "stream",
     "text": [
      "{}\n"
     ]
    }
   ],
   "source": [
    "show_kwargs()"
   ]
  },
  {
   "cell_type": "code",
   "execution_count": 146,
   "id": "b1e5b572",
   "metadata": {},
   "outputs": [
    {
     "name": "stdout",
     "output_type": "stream",
     "text": [
      "{'spam': 'eggs'}\n",
      "spam='eggs'\n"
     ]
    }
   ],
   "source": [
    "show_kwargs(spam=\"eggs\")"
   ]
  },
  {
   "cell_type": "code",
   "execution_count": 147,
   "id": "b0b6f983",
   "metadata": {},
   "outputs": [
    {
     "name": "stdout",
     "output_type": "stream",
     "text": [
      "{'spam': 'eggs', 'foo': 'bar', 'fizz': 'buzz', 'age': 42, 'bio': None}\n",
      "spam='eggs'\n",
      "foo='bar'\n",
      "fizz='buzz'\n",
      "age=42\n",
      "bio=None\n"
     ]
    }
   ],
   "source": [
    "show_kwargs(spam=\"eggs\", foo=\"bar\", fizz=\"buzz\", age=42, bio=None)"
   ]
  },
  {
   "cell_type": "code",
   "execution_count": 148,
   "id": "9836443e",
   "metadata": {},
   "outputs": [],
   "source": [
    "def new_user(user_base, **kwargs):\n",
    "    return user_base | kwargs"
   ]
  },
  {
   "cell_type": "code",
   "execution_count": 149,
   "id": "273be7f8",
   "metadata": {},
   "outputs": [
    {
     "data": {
      "text/plain": [
       "{}"
      ]
     },
     "execution_count": 149,
     "metadata": {},
     "output_type": "execute_result"
    }
   ],
   "source": [
    "new_user({})"
   ]
  },
  {
   "cell_type": "code",
   "execution_count": 150,
   "id": "f5dddb07",
   "metadata": {},
   "outputs": [
    {
     "data": {
      "text/plain": [
       "{'username': 'nick'}"
      ]
     },
     "execution_count": 150,
     "metadata": {},
     "output_type": "execute_result"
    }
   ],
   "source": [
    "new_user({\"username\": \"nick\"})"
   ]
  },
  {
   "cell_type": "code",
   "execution_count": 151,
   "id": "f8571cac",
   "metadata": {},
   "outputs": [
    {
     "data": {
      "text/plain": [
       "{'username': '', 'age': 42, 'email': 'nick@example.com'}"
      ]
     },
     "execution_count": 151,
     "metadata": {},
     "output_type": "execute_result"
    }
   ],
   "source": [
    "user_data = {\"username\": \"\", \"age\": \"\"}\n",
    "new_user(user_data, age=42, email=\"nick@example.com\")"
   ]
  },
  {
   "cell_type": "code",
   "execution_count": 152,
   "id": "863de478",
   "metadata": {},
   "outputs": [
    {
     "data": {
      "text/plain": [
       "{'username': '', 'age': 42, 'email': 'nick@example.com'}"
      ]
     },
     "execution_count": 152,
     "metadata": {},
     "output_type": "execute_result"
    }
   ],
   "source": [
    "new_user(user_base=user_data, age=42, email=\"nick@example.com\")"
   ]
  },
  {
   "cell_type": "code",
   "execution_count": 153,
   "id": "a375e6d2",
   "metadata": {},
   "outputs": [],
   "source": [
    "def power(*nums, power):\n",
    "    return [num ** power for num in nums]"
   ]
  },
  {
   "cell_type": "code",
   "execution_count": 154,
   "id": "9b4bb102",
   "metadata": {},
   "outputs": [
    {
     "data": {
      "text/plain": [
       "[1, 4, 9]"
      ]
     },
     "execution_count": 154,
     "metadata": {},
     "output_type": "execute_result"
    }
   ],
   "source": [
    "power(1, 2, 3, power=2)"
   ]
  },
  {
   "cell_type": "code",
   "execution_count": 155,
   "id": "ea2a3d89",
   "metadata": {},
   "outputs": [
    {
     "ename": "TypeError",
     "evalue": "power() missing 1 required keyword-only argument: 'power'",
     "output_type": "error",
     "traceback": [
      "\u001b[0;31m---------------------------------------------------------------------------\u001b[0m",
      "\u001b[0;31mTypeError\u001b[0m                                 Traceback (most recent call last)",
      "Cell \u001b[0;32mIn[155], line 1\u001b[0m\n\u001b[0;32m----> 1\u001b[0m \u001b[43mpower\u001b[49m\u001b[43m(\u001b[49m\u001b[38;5;241;43m1\u001b[39;49m\u001b[43m,\u001b[49m\u001b[43m \u001b[49m\u001b[38;5;241;43m2\u001b[39;49m\u001b[43m,\u001b[49m\u001b[43m \u001b[49m\u001b[38;5;241;43m3\u001b[39;49m\u001b[43m,\u001b[49m\u001b[43m \u001b[49m\u001b[38;5;241;43m2\u001b[39;49m\u001b[43m)\u001b[49m\n",
      "\u001b[0;31mTypeError\u001b[0m: power() missing 1 required keyword-only argument: 'power'"
     ]
    }
   ],
   "source": [
    "power(1, 2, 3, 2)"
   ]
  },
  {
   "cell_type": "code",
   "execution_count": 156,
   "id": "bcfd0b29",
   "metadata": {},
   "outputs": [],
   "source": [
    "def power(*nums, power=2):\n",
    "    return [num ** power for num in nums]"
   ]
  },
  {
   "cell_type": "code",
   "execution_count": 157,
   "id": "706c3d39",
   "metadata": {},
   "outputs": [
    {
     "data": {
      "text/plain": [
       "[1, 4, 9, 25]"
      ]
     },
     "execution_count": 157,
     "metadata": {},
     "output_type": "execute_result"
    }
   ],
   "source": [
    "power(1, 2, 3, 5)"
   ]
  },
  {
   "cell_type": "code",
   "execution_count": 158,
   "id": "dee40604",
   "metadata": {},
   "outputs": [
    {
     "data": {
      "text/plain": [
       "[8, 64]"
      ]
     },
     "execution_count": 158,
     "metadata": {},
     "output_type": "execute_result"
    }
   ],
   "source": [
    "power(2, 4, power=3)"
   ]
  },
  {
   "cell_type": "code",
   "execution_count": 159,
   "id": "22f399a7",
   "metadata": {},
   "outputs": [],
   "source": [
    "def accept_all(*args, **kwargs):\n",
    "    for a in args:\n",
    "        print(a)\n",
    "    for item in kwargs.items():\n",
    "        print(item)"
   ]
  },
  {
   "cell_type": "code",
   "execution_count": 160,
   "id": "3e114934",
   "metadata": {},
   "outputs": [
    {
     "name": "stdout",
     "output_type": "stream",
     "text": [
      "1\n",
      "2\n",
      "None\n",
      "spam\n",
      "('spam', 'eeggs')\n",
      "('foo', 123)\n",
      "('bar', 'biz')\n"
     ]
    }
   ],
   "source": [
    "accept_all(1, 2, None, \"spam\", spam=\"eeggs\", foo=123, bar=\"biz\")"
   ]
  },
  {
   "cell_type": "code",
   "execution_count": 161,
   "id": "8d794491",
   "metadata": {},
   "outputs": [],
   "source": [
    "def add_items(*new_items, base_list=[]):\n",
    "    base_list.extend(new_items)\n",
    "    return base_list"
   ]
  },
  {
   "cell_type": "code",
   "execution_count": 162,
   "id": "50a69431",
   "metadata": {},
   "outputs": [
    {
     "name": "stdout",
     "output_type": "stream",
     "text": [
      "['John', 'Sam', 'Nick', 'Kate', 'Bob']\n"
     ]
    }
   ],
   "source": [
    "names = [\"John\", \"Sam\"]\n",
    "names = add_items(\"Nick\", \"Kate\", \"Bob\", base_list=names)\n",
    "print(names)"
   ]
  },
  {
   "cell_type": "code",
   "execution_count": 163,
   "id": "f397f722",
   "metadata": {},
   "outputs": [
    {
     "name": "stdout",
     "output_type": "stream",
     "text": [
      "[15, 16, 14]\n"
     ]
    }
   ],
   "source": [
    "daily_temps = [15, 16]\n",
    "daily_temps = add_items(14, base_list=daily_temps)\n",
    "print(daily_temps)"
   ]
  },
  {
   "cell_type": "code",
   "execution_count": 164,
   "id": "07a535b3",
   "metadata": {},
   "outputs": [
    {
     "name": "stdout",
     "output_type": "stream",
     "text": [
      "['Alice', 'George']\n"
     ]
    }
   ],
   "source": [
    "new_friends = add_items(\"Alice\", \"George\")\n",
    "print(new_friends)"
   ]
  },
  {
   "cell_type": "code",
   "execution_count": 165,
   "id": "1121cd53",
   "metadata": {},
   "outputs": [
    {
     "name": "stdout",
     "output_type": "stream",
     "text": [
      "['Alice', 'George', 'Ivan', 'Petr']\n"
     ]
    }
   ],
   "source": [
    "new_teammates = add_items(\"Ivan\", \"Petr\")\n",
    "print(new_teammates)"
   ]
  },
  {
   "cell_type": "code",
   "execution_count": 166,
   "id": "6f17f9dd",
   "metadata": {},
   "outputs": [],
   "source": [
    "def add_items(*new_items, base_list=None):\n",
    "    if base_list is None:\n",
    "        base_list = []\n",
    "    base_list.extend(new_items)\n",
    "    return base_list"
   ]
  },
  {
   "cell_type": "code",
   "execution_count": 167,
   "id": "bff6153c",
   "metadata": {},
   "outputs": [
    {
     "name": "stdout",
     "output_type": "stream",
     "text": [
      "['Alice', 'George']\n"
     ]
    }
   ],
   "source": [
    "new_friends = add_items(\"Alice\", \"George\")\n",
    "print(new_friends)"
   ]
  },
  {
   "cell_type": "code",
   "execution_count": 168,
   "id": "64235736",
   "metadata": {},
   "outputs": [
    {
     "name": "stdout",
     "output_type": "stream",
     "text": [
      "['Ivan', 'Petr']\n"
     ]
    }
   ],
   "source": [
    "new_teammates = add_items(\"Ivan\", \"Petr\")\n",
    "print(new_teammates)"
   ]
  },
  {
   "cell_type": "code",
   "execution_count": 169,
   "id": "eaa47ced",
   "metadata": {},
   "outputs": [],
   "source": [
    "\n",
    "def square(num):\n",
    "    return num ** 2"
   ]
  },
  {
   "cell_type": "code",
   "execution_count": 171,
   "id": "13f2a55d",
   "metadata": {},
   "outputs": [
    {
     "data": {
      "text/plain": [
       "49"
      ]
     },
     "execution_count": 171,
     "metadata": {},
     "output_type": "execute_result"
    }
   ],
   "source": [
    "square(7)"
   ]
  },
  {
   "cell_type": "code",
   "execution_count": 173,
   "id": "45cd78ef",
   "metadata": {},
   "outputs": [],
   "source": [
    "def print_detailed_info(func):\n",
    "    print(\"process func\", func)\n",
    "\n",
    "    def inner(a):\n",
    "        print(\"call func\", func, \"with a =\", a)\n",
    "        result = func(a)\n",
    "        print(\"result:\", result)\n",
    "        return result\n",
    "\n",
    "    print(\"done process func\", func)\n",
    "    return inner"
   ]
  },
  {
   "cell_type": "code",
   "execution_count": 174,
   "id": "d41d388f",
   "metadata": {},
   "outputs": [
    {
     "name": "stdout",
     "output_type": "stream",
     "text": [
      "process func <function square at 0x1104fafc0>\n",
      "done process func <function square at 0x1104fafc0>\n"
     ]
    }
   ],
   "source": [
    "new_square = print_detailed_info(square)"
   ]
  },
  {
   "cell_type": "code",
   "execution_count": 175,
   "id": "8917e60c",
   "metadata": {},
   "outputs": [
    {
     "data": {
      "text/plain": [
       "<function __main__.print_detailed_info.<locals>.inner(a)>"
      ]
     },
     "execution_count": 175,
     "metadata": {},
     "output_type": "execute_result"
    }
   ],
   "source": [
    "new_square"
   ]
  },
  {
   "cell_type": "code",
   "execution_count": 176,
   "id": "51dd5a31",
   "metadata": {},
   "outputs": [
    {
     "name": "stdout",
     "output_type": "stream",
     "text": [
      "call func <function square at 0x1104fafc0> with a = 7\n",
      "result: 49\n"
     ]
    },
    {
     "data": {
      "text/plain": [
       "49"
      ]
     },
     "execution_count": 176,
     "metadata": {},
     "output_type": "execute_result"
    }
   ],
   "source": [
    "new_square(7)"
   ]
  },
  {
   "cell_type": "code",
   "execution_count": 177,
   "id": "ceafee21",
   "metadata": {},
   "outputs": [
    {
     "name": "stdout",
     "output_type": "stream",
     "text": [
      "process func <function cube at 0x1104f93a0>\n",
      "done process func <function cube at 0x1104f93a0>\n"
     ]
    }
   ],
   "source": [
    "@print_detailed_info\n",
    "def cube(n):\n",
    "    return n ** 3"
   ]
  },
  {
   "cell_type": "code",
   "execution_count": 178,
   "id": "19df3102",
   "metadata": {},
   "outputs": [
    {
     "name": "stdout",
     "output_type": "stream",
     "text": [
      "call func <function cube at 0x1104f93a0> with a = 3\n",
      "result: 27\n"
     ]
    },
    {
     "data": {
      "text/plain": [
       "27"
      ]
     },
     "execution_count": 178,
     "metadata": {},
     "output_type": "execute_result"
    }
   ],
   "source": [
    "cube(3)"
   ]
  },
  {
   "cell_type": "code",
   "execution_count": 180,
   "id": "adca8c8d",
   "metadata": {},
   "outputs": [
    {
     "name": "stdout",
     "output_type": "stream",
     "text": [
      "<class 'tuple'>\n",
      "(1, 2, 3)\n"
     ]
    },
    {
     "data": {
      "text/plain": [
       "[1, 4, 9]"
      ]
     },
     "execution_count": 180,
     "metadata": {},
     "output_type": "execute_result"
    }
   ],
   "source": [
    "squares(1, 2, 3)"
   ]
  },
  {
   "cell_type": "code",
   "execution_count": 181,
   "id": "a717ad33",
   "metadata": {},
   "outputs": [
    {
     "name": "stdout",
     "output_type": "stream",
     "text": [
      "<class 'tuple'>\n",
      "(1, 2, 3)\n"
     ]
    },
    {
     "data": {
      "text/plain": [
       "[1, 4, 9]"
      ]
     },
     "execution_count": 181,
     "metadata": {},
     "output_type": "execute_result"
    }
   ],
   "source": [
    "squares(*range(1, 4))"
   ]
  },
  {
   "cell_type": "code",
   "execution_count": 182,
   "id": "7277e346",
   "metadata": {},
   "outputs": [
    {
     "name": "stdout",
     "output_type": "stream",
     "text": [
      "<class 'tuple'>\n",
      "(3, 4, 5)\n"
     ]
    },
    {
     "data": {
      "text/plain": [
       "[9, 16, 25]"
      ]
     },
     "execution_count": 182,
     "metadata": {},
     "output_type": "execute_result"
    }
   ],
   "source": [
    "nums = [3, 4, 5]\n",
    "squares(*nums)"
   ]
  },
  {
   "cell_type": "code",
   "execution_count": 183,
   "id": "2dbdcd64",
   "metadata": {},
   "outputs": [],
   "source": [
    "from functools import wraps\n",
    "\n",
    "\n",
    "def show_info_all_funcs(func):\n",
    "    \n",
    "    @wraps(func)\n",
    "    def wrapper(*a, **kw):\n",
    "        result = func(*a, **kw)\n",
    "        print(\"call\", func, \"with\", a, kw, \"res:\", result)\n",
    "        return result\n",
    "    \n",
    "    return wrapper"
   ]
  },
  {
   "cell_type": "code",
   "execution_count": 184,
   "id": "e2f306bf",
   "metadata": {},
   "outputs": [],
   "source": [
    "def power(num, e=2):\n",
    "    return num ** e"
   ]
  },
  {
   "cell_type": "code",
   "execution_count": 185,
   "id": "c7d13e63",
   "metadata": {},
   "outputs": [
    {
     "data": {
      "text/plain": [
       "4"
      ]
     },
     "execution_count": 185,
     "metadata": {},
     "output_type": "execute_result"
    }
   ],
   "source": [
    "power(2)"
   ]
  },
  {
   "cell_type": "code",
   "execution_count": 186,
   "id": "b180eff2",
   "metadata": {},
   "outputs": [
    {
     "data": {
      "text/plain": [
       "81"
      ]
     },
     "execution_count": 186,
     "metadata": {},
     "output_type": "execute_result"
    }
   ],
   "source": [
    "power(3, 4)"
   ]
  },
  {
   "cell_type": "code",
   "execution_count": 187,
   "id": "f1cb0e73",
   "metadata": {},
   "outputs": [],
   "source": [
    "@show_info_all_funcs\n",
    "def power(num, e=2):\n",
    "    return num ** e"
   ]
  },
  {
   "cell_type": "code",
   "execution_count": 188,
   "id": "b5194252",
   "metadata": {},
   "outputs": [
    {
     "name": "stdout",
     "output_type": "stream",
     "text": [
      "call <function power at 0x1104f9120> with (2,) {} res: 4\n"
     ]
    },
    {
     "data": {
      "text/plain": [
       "4"
      ]
     },
     "execution_count": 188,
     "metadata": {},
     "output_type": "execute_result"
    }
   ],
   "source": [
    "power(2)"
   ]
  },
  {
   "cell_type": "code",
   "execution_count": 189,
   "id": "e5a3def3",
   "metadata": {},
   "outputs": [
    {
     "name": "stdout",
     "output_type": "stream",
     "text": [
      "call <function power at 0x1104f9120> with (2,) {'e': 3} res: 8\n"
     ]
    },
    {
     "data": {
      "text/plain": [
       "8"
      ]
     },
     "execution_count": 189,
     "metadata": {},
     "output_type": "execute_result"
    }
   ],
   "source": [
    "power(2, e=3)"
   ]
  },
  {
   "cell_type": "code",
   "execution_count": 190,
   "id": "1ea9cf43",
   "metadata": {},
   "outputs": [
    {
     "name": "stdout",
     "output_type": "stream",
     "text": [
      "call <function power at 0x1104f9120> with (2, 3) {} res: 8\n"
     ]
    },
    {
     "data": {
      "text/plain": [
       "8"
      ]
     },
     "execution_count": 190,
     "metadata": {},
     "output_type": "execute_result"
    }
   ],
   "source": [
    "power(2, 3)"
   ]
  },
  {
   "cell_type": "code",
   "execution_count": 191,
   "id": "13d9c096",
   "metadata": {},
   "outputs": [
    {
     "name": "stdout",
     "output_type": "stream",
     "text": [
      "call <function power at 0x1104f9120> with () {'num': 2, 'e': 3} res: 8\n"
     ]
    },
    {
     "data": {
      "text/plain": [
       "8"
      ]
     },
     "execution_count": 191,
     "metadata": {},
     "output_type": "execute_result"
    }
   ],
   "source": [
    "power(num=2, e=3)"
   ]
  },
  {
   "cell_type": "code",
   "execution_count": 192,
   "id": "910bd866",
   "metadata": {},
   "outputs": [
    {
     "data": {
      "text/plain": [
       "<function __main__.power(num, e=2)>"
      ]
     },
     "execution_count": 192,
     "metadata": {},
     "output_type": "execute_result"
    }
   ],
   "source": [
    "power"
   ]
  },
  {
   "cell_type": "code",
   "execution_count": null,
   "id": "1b17dfdf",
   "metadata": {},
   "outputs": [],
   "source": []
  }
 ],
 "metadata": {
  "kernelspec": {
   "display_name": "Python 3 (ipykernel)",
   "language": "python",
   "name": "python3"
  },
  "language_info": {
   "codemirror_mode": {
    "name": "ipython",
    "version": 3
   },
   "file_extension": ".py",
   "mimetype": "text/x-python",
   "name": "python",
   "nbconvert_exporter": "python",
   "pygments_lexer": "ipython3",
   "version": "3.11.2"
  }
 },
 "nbformat": 4,
 "nbformat_minor": 5
}
