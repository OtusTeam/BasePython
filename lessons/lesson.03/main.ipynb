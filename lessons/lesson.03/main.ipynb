{
 "cells": [
  {
   "cell_type": "code",
   "execution_count": 1,
   "id": "49ec1e4b-1450-44ed-b7bd-94081b5cc40f",
   "metadata": {},
   "outputs": [],
   "source": [
    "nums = [1, 2, 4, 7, 5, 3]"
   ]
  },
  {
   "cell_type": "code",
   "execution_count": 2,
   "id": "b6806412-af39-4266-a3a4-f3b9116e0fbf",
   "metadata": {},
   "outputs": [
    {
     "data": {
      "text/plain": [
       "[1, 2, 4, 7, 5, 3]"
      ]
     },
     "execution_count": 2,
     "metadata": {},
     "output_type": "execute_result"
    }
   ],
   "source": [
    "nums"
   ]
  },
  {
   "cell_type": "code",
   "execution_count": 3,
   "id": "e53491d8-ad70-41a7-907c-65d892bc491b",
   "metadata": {},
   "outputs": [
    {
     "name": "stdout",
     "output_type": "stream",
     "text": [
      "[1, 2, 4, 7, 5, 3]\n"
     ]
    }
   ],
   "source": [
    "print(nums)"
   ]
  },
  {
   "cell_type": "code",
   "execution_count": 4,
   "id": "81cf5570-d9f7-4587-8ae9-737d301e9b88",
   "metadata": {},
   "outputs": [
    {
     "name": "stdout",
     "output_type": "stream",
     "text": [
      "1\n",
      "2\n",
      "4\n",
      "7\n",
      "5\n",
      "3\n"
     ]
    }
   ],
   "source": [
    "for num in nums:\n",
    "    print(num)"
   ]
  },
  {
   "cell_type": "code",
   "execution_count": 5,
   "id": "e8977ef8-a184-431f-8420-fd245e4f1176",
   "metadata": {},
   "outputs": [
    {
     "data": {
      "text/plain": [
       "3"
      ]
     },
     "execution_count": 5,
     "metadata": {},
     "output_type": "execute_result"
    }
   ],
   "source": [
    "num"
   ]
  },
  {
   "cell_type": "code",
   "execution_count": 6,
   "id": "8435d96a-468e-437e-887e-15a04d1f41d7",
   "metadata": {},
   "outputs": [
    {
     "name": "stdout",
     "output_type": "stream",
     "text": [
      "number:\n",
      "1\n",
      "number:\n",
      "2\n",
      "number:\n",
      "4\n",
      "number:\n",
      "7\n",
      "number:\n",
      "5\n",
      "number:\n",
      "3\n"
     ]
    }
   ],
   "source": [
    "for num in nums:\n",
    "    print(\"number:\")\n",
    "    print(num)"
   ]
  },
  {
   "cell_type": "code",
   "execution_count": 7,
   "id": "6f74e6b3-8d86-4797-b0a6-47cc93090c74",
   "metadata": {},
   "outputs": [
    {
     "name": "stdout",
     "output_type": "stream",
     "text": [
      "1\n",
      "2\n",
      "4\n",
      "7\n",
      "5\n",
      "3\n",
      "numbers\n"
     ]
    }
   ],
   "source": [
    "for num in nums:\n",
    "    print(num)\n",
    "print(\"numbers\")"
   ]
  },
  {
   "cell_type": "code",
   "execution_count": 8,
   "id": "8094fcdf-dd20-4bf5-be45-610a1d07240f",
   "metadata": {},
   "outputs": [
    {
     "name": "stdout",
     "output_type": "stream",
     "text": [
      "total: 22\n"
     ]
    }
   ],
   "source": [
    "result = 0\n",
    "for num in nums:\n",
    "    result += num\n",
    "print(\"total:\", result)"
   ]
  },
  {
   "cell_type": "code",
   "execution_count": 9,
   "id": "185137d0-97b0-4cb9-b47e-ac4acbb5a043",
   "metadata": {},
   "outputs": [
    {
     "data": {
      "text/plain": [
       "[1, 2, 4, 7, 5, 3]"
      ]
     },
     "execution_count": 9,
     "metadata": {},
     "output_type": "execute_result"
    }
   ],
   "source": [
    "nums"
   ]
  },
  {
   "cell_type": "code",
   "execution_count": 10,
   "id": "eef7b05e-bcd8-4b72-98b1-da83291eccf3",
   "metadata": {},
   "outputs": [
    {
     "data": {
      "text/plain": [
       "1"
      ]
     },
     "execution_count": 10,
     "metadata": {},
     "output_type": "execute_result"
    }
   ],
   "source": [
    "nums.pop(0)"
   ]
  },
  {
   "cell_type": "code",
   "execution_count": 11,
   "id": "6665cc6c-cc6e-4040-8d74-529be922e3b3",
   "metadata": {},
   "outputs": [
    {
     "data": {
      "text/plain": [
       "[2, 4, 7, 5, 3]"
      ]
     },
     "execution_count": 11,
     "metadata": {},
     "output_type": "execute_result"
    }
   ],
   "source": [
    "nums"
   ]
  },
  {
   "cell_type": "code",
   "execution_count": 12,
   "id": "e0cfabcc-7ca6-4b0d-bcd1-2b45eaa43fac",
   "metadata": {},
   "outputs": [
    {
     "name": "stdout",
     "output_type": "stream",
     "text": [
      "total evens: 6\n"
     ]
    }
   ],
   "source": [
    "result = 0\n",
    "for num in nums:\n",
    "    if num % 2 == 0:\n",
    "        result += num\n",
    "print(\"total evens:\", result)"
   ]
  },
  {
   "cell_type": "code",
   "execution_count": 13,
   "id": "cdd47009-564d-4611-9ff5-3790740fe014",
   "metadata": {},
   "outputs": [
    {
     "data": {
      "text/plain": [
       "[1, 2, 4, 7, 5, 3, 6]"
      ]
     },
     "execution_count": 13,
     "metadata": {},
     "output_type": "execute_result"
    }
   ],
   "source": [
    "nums.insert(0, 1)\n",
    "nums.append(6)\n",
    "nums"
   ]
  },
  {
   "cell_type": "code",
   "execution_count": 14,
   "id": "4ac0da33-8619-44b7-b3c5-245196def783",
   "metadata": {},
   "outputs": [
    {
     "name": "stdout",
     "output_type": "stream",
     "text": [
      "total evens: 12\n"
     ]
    }
   ],
   "source": [
    "result = 0\n",
    "for num in nums:\n",
    "    if num % 2 == 0:\n",
    "        result += num\n",
    "print(\"total evens:\", result)"
   ]
  },
  {
   "cell_type": "code",
   "execution_count": 15,
   "id": "118da73f-053d-42d5-aaa8-67a6b51f39b0",
   "metadata": {},
   "outputs": [
    {
     "data": {
      "text/plain": [
       "[2, 4, 7, 5, 3, 6]"
      ]
     },
     "execution_count": 15,
     "metadata": {},
     "output_type": "execute_result"
    }
   ],
   "source": [
    "nums.pop(0)\n",
    "nums"
   ]
  },
  {
   "cell_type": "code",
   "execution_count": 16,
   "id": "b845c60a-7d7a-496c-b03d-e425439dc2ef",
   "metadata": {},
   "outputs": [
    {
     "name": "stdout",
     "output_type": "stream",
     "text": [
      "total: 2\n"
     ]
    }
   ],
   "source": [
    "result = 0\n",
    "for num in nums:\n",
    "    result += num\n",
    "    break\n",
    "print(\"total:\", result)"
   ]
  },
  {
   "cell_type": "code",
   "execution_count": 17,
   "id": "3f05bce0-2335-4027-a6a1-4a67460b1004",
   "metadata": {},
   "outputs": [
    {
     "name": "stdout",
     "output_type": "stream",
     "text": [
      "total: 6\n"
     ]
    }
   ],
   "source": [
    "result = 0\n",
    "for num in nums:\n",
    "    if num % 2:\n",
    "        break\n",
    "    result += num\n",
    "print(\"total:\", result)"
   ]
  },
  {
   "cell_type": "code",
   "execution_count": 18,
   "id": "cdc764c0-0c8f-48a9-a3ec-65ee17571df1",
   "metadata": {},
   "outputs": [
    {
     "name": "stdout",
     "output_type": "stream",
     "text": [
      "process num 2\n",
      "process num 4\n",
      "process num 7\n",
      "total: 6\n"
     ]
    }
   ],
   "source": [
    "result = 0\n",
    "for num in nums:\n",
    "    print(\"process num\", num)\n",
    "    if num % 2:\n",
    "        break\n",
    "    result += num\n",
    "print(\"total:\", result)"
   ]
  },
  {
   "cell_type": "code",
   "execution_count": 19,
   "id": "c23acebb-329d-4044-bf71-cad417923929",
   "metadata": {},
   "outputs": [
    {
     "name": "stdout",
     "output_type": "stream",
     "text": [
      "total: 12\n"
     ]
    }
   ],
   "source": [
    "result = 0\n",
    "for num in nums:\n",
    "    if num % 2 == 0:\n",
    "        result += num\n",
    "print(\"total:\", result)"
   ]
  },
  {
   "cell_type": "code",
   "execution_count": 20,
   "id": "2f56f409-da42-4e80-99e4-9143f1174048",
   "metadata": {},
   "outputs": [
    {
     "data": {
      "text/plain": [
       "[2, 4, 7, 5, 3, 6]"
      ]
     },
     "execution_count": 20,
     "metadata": {},
     "output_type": "execute_result"
    }
   ],
   "source": [
    "nums"
   ]
  },
  {
   "cell_type": "code",
   "execution_count": 21,
   "id": "53d9c974-9e17-4a89-b833-ce9d16cefd07",
   "metadata": {},
   "outputs": [
    {
     "name": "stdout",
     "output_type": "stream",
     "text": [
      "added number 2\n",
      "now result = 2\n",
      "added number 4\n",
      "now result = 6\n",
      "added number 6\n",
      "now result = 12\n",
      "total: 12\n"
     ]
    }
   ],
   "source": [
    "result = 0\n",
    "for num in nums:\n",
    "    if num % 2 == 0:\n",
    "        result += num\n",
    "        print(\"added number\", num)\n",
    "        print(\"now result =\", result)\n",
    "print(\"total:\", result)"
   ]
  },
  {
   "cell_type": "code",
   "execution_count": 22,
   "id": "27a8651e-926e-49de-9941-8f388d56be48",
   "metadata": {},
   "outputs": [
    {
     "name": "stdout",
     "output_type": "stream",
     "text": [
      "- process 2\n",
      "added number 2\n",
      "now result = 2\n",
      "- process 4\n",
      "added number 4\n",
      "now result = 6\n",
      "- process 7\n",
      "- process 5\n",
      "- process 3\n",
      "- process 6\n",
      "added number 6\n",
      "now result = 12\n",
      "total: 12\n"
     ]
    }
   ],
   "source": [
    "result = 0\n",
    "for num in nums:\n",
    "    print(\"- process\", num)\n",
    "    if num % 2:\n",
    "        continue\n",
    "    result += num\n",
    "    print(\"added number\", num)\n",
    "    print(\"now result =\", result)\n",
    "print(\"total:\", result)"
   ]
  },
  {
   "cell_type": "code",
   "execution_count": 23,
   "id": "2f704dcc-2a28-406a-be3f-cb80d3b4b425",
   "metadata": {},
   "outputs": [
    {
     "data": {
      "text/plain": [
       "[2, 4, 7, 5, 3, 6, 1]"
      ]
     },
     "execution_count": 23,
     "metadata": {},
     "output_type": "execute_result"
    }
   ],
   "source": [
    "nums.append(1)\n",
    "nums"
   ]
  },
  {
   "cell_type": "code",
   "execution_count": 24,
   "id": "6bd02010-1c00-4220-8138-538267eb84dd",
   "metadata": {},
   "outputs": [
    {
     "name": "stdout",
     "output_type": "stream",
     "text": [
      "- process 2\n",
      "added number 2\n",
      "now result = 2\n",
      "- process 4\n",
      "added number 4\n",
      "now result = 6\n",
      "- process 7\n",
      "- process 5\n",
      "- process 3\n",
      "- process 6\n",
      "added number 6\n",
      "now result = 12\n",
      "- process 1\n",
      "total: 12\n"
     ]
    }
   ],
   "source": [
    "result = 0\n",
    "for num in nums:\n",
    "    print(\"- process\", num)\n",
    "    if num % 2:\n",
    "        continue\n",
    "    result += num\n",
    "    print(\"added number\", num)\n",
    "    print(\"now result =\", result)\n",
    "print(\"total:\", result)"
   ]
  },
  {
   "cell_type": "code",
   "execution_count": 25,
   "id": "d1a6e13f-a493-4b86-a499-60ac66606905",
   "metadata": {},
   "outputs": [
    {
     "name": "stdout",
     "output_type": "stream",
     "text": [
      "0\n",
      "1\n",
      "2\n",
      "3\n",
      "4\n",
      "5\n",
      "6\n",
      "7\n",
      "8\n",
      "9\n"
     ]
    }
   ],
   "source": [
    "for num in range(10):\n",
    "    print(num)"
   ]
  },
  {
   "cell_type": "code",
   "execution_count": 26,
   "id": "f770d6fb-c026-4e3f-ade3-2bfae3d70d71",
   "metadata": {},
   "outputs": [
    {
     "name": "stdout",
     "output_type": "stream",
     "text": [
      "[0, 2, 4, 6, 8]\n"
     ]
    }
   ],
   "source": [
    "evens = []\n",
    "for num in range(10):\n",
    "    if num % 2 == 0:\n",
    "        evens.append(num)\n",
    "\n",
    "print(evens)"
   ]
  },
  {
   "cell_type": "code",
   "execution_count": 27,
   "id": "7db5e9e7-9bef-4d8f-b4df-6ca85b662e5a",
   "metadata": {},
   "outputs": [
    {
     "name": "stdout",
     "output_type": "stream",
     "text": [
      "1\n",
      "2\n",
      "3\n",
      "4\n",
      "5\n",
      "6\n",
      "7\n",
      "8\n",
      "9\n"
     ]
    }
   ],
   "source": [
    "for num in range(1, 10):\n",
    "    print(num)"
   ]
  },
  {
   "cell_type": "code",
   "execution_count": 28,
   "id": "7cb98ac7-a03d-4037-b106-338793023528",
   "metadata": {},
   "outputs": [
    {
     "name": "stdout",
     "output_type": "stream",
     "text": [
      "[2, 4, 6, 8]\n"
     ]
    }
   ],
   "source": [
    "evens = []\n",
    "for num in range(1, 10):\n",
    "    if num % 2 == 0:\n",
    "        evens.append(num)\n",
    "\n",
    "print(evens)"
   ]
  },
  {
   "cell_type": "code",
   "execution_count": 29,
   "id": "02506a87-cc7f-4f44-af3f-b429f43829df",
   "metadata": {},
   "outputs": [
    {
     "name": "stdout",
     "output_type": "stream",
     "text": [
      "1\n",
      "3\n",
      "5\n",
      "7\n",
      "9\n"
     ]
    }
   ],
   "source": [
    "for num in range(1, 10, 2):\n",
    "    print(num)"
   ]
  },
  {
   "cell_type": "code",
   "execution_count": 30,
   "id": "ff43d411-6f81-44a9-8d49-f0c43b7ae7ba",
   "metadata": {},
   "outputs": [
    {
     "name": "stdout",
     "output_type": "stream",
     "text": [
      "2\n",
      "4\n",
      "6\n",
      "8\n"
     ]
    }
   ],
   "source": [
    "for num in range(2, 10, 2):\n",
    "    print(num)"
   ]
  },
  {
   "cell_type": "code",
   "execution_count": 31,
   "id": "1b88b0a8-b85f-4976-802e-fc18ce5adf8b",
   "metadata": {},
   "outputs": [
    {
     "data": {
      "text/plain": [
       "['a', 's', 'd']"
      ]
     },
     "execution_count": 31,
     "metadata": {},
     "output_type": "execute_result"
    }
   ],
   "source": [
    "list(\"asd\")"
   ]
  },
  {
   "cell_type": "code",
   "execution_count": 32,
   "id": "fde4ea82-1a78-43b2-99a3-2045ed722426",
   "metadata": {},
   "outputs": [
    {
     "name": "stdout",
     "output_type": "stream",
     "text": [
      "a\n",
      "b\n",
      "c\n"
     ]
    }
   ],
   "source": [
    "for c in \"abc\":\n",
    "    print(c)"
   ]
  },
  {
   "cell_type": "code",
   "execution_count": 33,
   "id": "21c8e887-5917-48c8-ad9c-6aa2e828f123",
   "metadata": {},
   "outputs": [
    {
     "data": {
      "text/plain": [
       "[2, 4, 6, 8]"
      ]
     },
     "execution_count": 33,
     "metadata": {},
     "output_type": "execute_result"
    }
   ],
   "source": [
    "list(range(2, 10, 2))"
   ]
  },
  {
   "cell_type": "code",
   "execution_count": 34,
   "id": "dae24f44-bb10-4cd4-ba95-93ce99b2789e",
   "metadata": {},
   "outputs": [
    {
     "data": {
      "text/plain": [
       "(2, 4, 6, 8, 10)"
      ]
     },
     "execution_count": 34,
     "metadata": {},
     "output_type": "execute_result"
    }
   ],
   "source": [
    "tuple(range(2, 11, 2))"
   ]
  },
  {
   "cell_type": "code",
   "execution_count": 35,
   "id": "f6492aa1-b078-4135-aaeb-f1bad6361d56",
   "metadata": {},
   "outputs": [
    {
     "data": {
      "text/plain": [
       "[0, 2, 4, 6, 8]"
      ]
     },
     "execution_count": 35,
     "metadata": {},
     "output_type": "execute_result"
    }
   ],
   "source": [
    "list(range(0, 10, 2))"
   ]
  },
  {
   "cell_type": "code",
   "execution_count": 36,
   "id": "3da054c2-aeab-403f-ab29-f1baf53a64b7",
   "metadata": {},
   "outputs": [
    {
     "name": "stdout",
     "output_type": "stream",
     "text": [
      "number: 000\n",
      "number: 007\n",
      "number: 014\n",
      "number: 021\n",
      "number: 028\n",
      "number: 035\n",
      "number: 042\n",
      "number: 049\n",
      "number: 056\n",
      "number: 063\n",
      "number: 070\n",
      "number: 077\n",
      "number: 084\n",
      "number: 091\n",
      "number: 098\n",
      "number: 105\n",
      "number: 112\n",
      "number: 119\n"
     ]
    }
   ],
   "source": [
    "for num in range(0, 125, 7):\n",
    "    line = f\"{num:03d}\"\n",
    "    print(\"number:\", line)"
   ]
  },
  {
   "cell_type": "code",
   "execution_count": 37,
   "id": "6b195fb1-12d2-4f21-ac1a-a9f1cc2c3bbf",
   "metadata": {},
   "outputs": [
    {
     "data": {
      "text/plain": [
       "[2, 4, 7, 5, 3, 6, 1]"
      ]
     },
     "execution_count": 37,
     "metadata": {},
     "output_type": "execute_result"
    }
   ],
   "source": [
    "nums"
   ]
  },
  {
   "cell_type": "code",
   "execution_count": 38,
   "id": "bf15bc4c-7273-4f8d-9935-c2cc89160873",
   "metadata": {},
   "outputs": [],
   "source": [
    "def hello():\n",
    "    print(\"hello world!\")"
   ]
  },
  {
   "cell_type": "code",
   "execution_count": 39,
   "id": "35ea8bfb-b570-40a0-977b-4d6b48b15fed",
   "metadata": {},
   "outputs": [
    {
     "name": "stdout",
     "output_type": "stream",
     "text": [
      "hello world!\n"
     ]
    }
   ],
   "source": [
    "hello()"
   ]
  },
  {
   "cell_type": "code",
   "execution_count": 40,
   "id": "b2d46b2a-e6c5-4872-8c19-090c204c4af3",
   "metadata": {},
   "outputs": [
    {
     "name": "stdout",
     "output_type": "stream",
     "text": [
      "hello world!\n"
     ]
    }
   ],
   "source": [
    "hello()"
   ]
  },
  {
   "cell_type": "code",
   "execution_count": 41,
   "id": "25bd7e3d-c737-4437-a770-fc918f0ea0ed",
   "metadata": {},
   "outputs": [
    {
     "name": "stdout",
     "output_type": "stream",
     "text": [
      "hello world!\n"
     ]
    }
   ],
   "source": [
    "hello()"
   ]
  },
  {
   "cell_type": "code",
   "execution_count": 42,
   "id": "705ca7a0-f745-48c5-95cc-af741661881b",
   "metadata": {},
   "outputs": [],
   "source": [
    "def hello():\n",
    "    name = \"World\"\n",
    "    print(\"Hello\", name)"
   ]
  },
  {
   "cell_type": "code",
   "execution_count": 43,
   "id": "6857b318-7a3d-40bc-89fa-10c9de2a429b",
   "metadata": {},
   "outputs": [
    {
     "name": "stdout",
     "output_type": "stream",
     "text": [
      "Hello World\n"
     ]
    }
   ],
   "source": [
    "hello()"
   ]
  },
  {
   "cell_type": "code",
   "execution_count": 44,
   "id": "6710eab8-9542-47a6-8d0a-54ba82d6d649",
   "metadata": {},
   "outputs": [],
   "source": [
    "name = \"OTUS\""
   ]
  },
  {
   "cell_type": "code",
   "execution_count": 45,
   "id": "6851ea00-2603-4362-90f0-41a42ae105d9",
   "metadata": {},
   "outputs": [
    {
     "name": "stdout",
     "output_type": "stream",
     "text": [
      "Hello World\n"
     ]
    }
   ],
   "source": [
    "hello()"
   ]
  },
  {
   "cell_type": "code",
   "execution_count": 46,
   "id": "22a02a75-fe23-4e4c-a6fe-eaa54fe00028",
   "metadata": {},
   "outputs": [],
   "source": [
    "def hello(name):\n",
    "    print(\"Hello\", name)"
   ]
  },
  {
   "cell_type": "code",
   "execution_count": 47,
   "id": "6897e171-cb78-4c36-990a-9bce7ae2fc07",
   "metadata": {},
   "outputs": [
    {
     "name": "stdout",
     "output_type": "stream",
     "text": [
      "Hello John\n"
     ]
    }
   ],
   "source": [
    "hello(\"John\")"
   ]
  },
  {
   "cell_type": "code",
   "execution_count": 48,
   "id": "51ec3d5b-ae55-4f18-a555-c790f1599748",
   "metadata": {},
   "outputs": [
    {
     "name": "stdout",
     "output_type": "stream",
     "text": [
      "Hello OTUS\n"
     ]
    }
   ],
   "source": [
    "hello(name)"
   ]
  },
  {
   "cell_type": "code",
   "execution_count": 50,
   "id": "6a3539b3-882b-4860-bcb1-6f8fe5ea6429",
   "metadata": {},
   "outputs": [],
   "source": [
    "full_name = \"John Smith\""
   ]
  },
  {
   "cell_type": "code",
   "execution_count": 51,
   "id": "ffd1e1a8-483e-4fcc-b987-cd9838ccf33e",
   "metadata": {},
   "outputs": [
    {
     "name": "stdout",
     "output_type": "stream",
     "text": [
      "Hello John Smith\n"
     ]
    }
   ],
   "source": [
    "hello(full_name)"
   ]
  },
  {
   "cell_type": "code",
   "execution_count": 52,
   "id": "37cf7301-aeb2-4533-8e18-5f2798f4e5f0",
   "metadata": {},
   "outputs": [],
   "source": [
    "def add(a, b):\n",
    "    total = a + b"
   ]
  },
  {
   "cell_type": "code",
   "execution_count": 53,
   "id": "03dc9a98-95a4-4ce1-b09d-8ed1ceaf0ad4",
   "metadata": {},
   "outputs": [],
   "source": [
    "add(1, 2)"
   ]
  },
  {
   "cell_type": "code",
   "execution_count": 54,
   "id": "f13adc79-fa30-475e-87c7-817ba68c46c9",
   "metadata": {},
   "outputs": [
    {
     "name": "stdout",
     "output_type": "stream",
     "text": [
      "None\n"
     ]
    }
   ],
   "source": [
    "print(add(1, 2))"
   ]
  },
  {
   "cell_type": "code",
   "execution_count": 55,
   "id": "767966e3-a66f-4a96-8bbf-39cb9325a1d2",
   "metadata": {},
   "outputs": [],
   "source": [
    "def add(a, b):\n",
    "    total = a + b\n",
    "    return total"
   ]
  },
  {
   "cell_type": "code",
   "execution_count": 56,
   "id": "29521d82-d3b6-4adf-b66b-38eb79c5a367",
   "metadata": {},
   "outputs": [
    {
     "data": {
      "text/plain": [
       "3"
      ]
     },
     "execution_count": 56,
     "metadata": {},
     "output_type": "execute_result"
    }
   ],
   "source": [
    "add(1, 2)"
   ]
  },
  {
   "cell_type": "code",
   "execution_count": 57,
   "id": "bc1e5a50-f3b3-4579-9492-009adfbdef1e",
   "metadata": {},
   "outputs": [],
   "source": [
    "def add(a, b):\n",
    "    return a + b"
   ]
  },
  {
   "cell_type": "code",
   "execution_count": 58,
   "id": "41bf4e0c-85a0-473e-9cf2-64ab8844f038",
   "metadata": {},
   "outputs": [
    {
     "data": {
      "text/plain": [
       "3"
      ]
     },
     "execution_count": 58,
     "metadata": {},
     "output_type": "execute_result"
    }
   ],
   "source": [
    "add(1, 2)"
   ]
  },
  {
   "cell_type": "code",
   "execution_count": 59,
   "id": "bbb348ca-f6b9-42a3-948f-99cbdd9a0af8",
   "metadata": {},
   "outputs": [],
   "source": [
    "def create_user():\n",
    "    name = \"John\"\n",
    "    email = \"john@example.com\"\n",
    "    return name, email"
   ]
  },
  {
   "cell_type": "code",
   "execution_count": 60,
   "id": "c57f47a0-0942-44c9-ad7a-16a9fb61addc",
   "metadata": {},
   "outputs": [
    {
     "data": {
      "text/plain": [
       "('John', 'john@example.com')"
      ]
     },
     "execution_count": 60,
     "metadata": {},
     "output_type": "execute_result"
    }
   ],
   "source": [
    "create_user()"
   ]
  },
  {
   "cell_type": "code",
   "execution_count": 61,
   "id": "eeb3c49e-06aa-4456-9269-67d144cc8533",
   "metadata": {},
   "outputs": [],
   "source": [
    "user_name, user_email = create_user()"
   ]
  },
  {
   "cell_type": "code",
   "execution_count": 62,
   "id": "83d29e22-11a4-4e7b-972b-8c2848760f3d",
   "metadata": {},
   "outputs": [
    {
     "data": {
      "text/plain": [
       "'John'"
      ]
     },
     "execution_count": 62,
     "metadata": {},
     "output_type": "execute_result"
    }
   ],
   "source": [
    "user_name"
   ]
  },
  {
   "cell_type": "code",
   "execution_count": 63,
   "id": "e99cf835-211d-418c-ab9b-a299f1968518",
   "metadata": {},
   "outputs": [
    {
     "data": {
      "text/plain": [
       "'john@example.com'"
      ]
     },
     "execution_count": 63,
     "metadata": {},
     "output_type": "execute_result"
    }
   ],
   "source": [
    "user_email"
   ]
  },
  {
   "cell_type": "code",
   "execution_count": 64,
   "id": "2171a93d-ef1a-4b24-b758-0307cfb361d8",
   "metadata": {},
   "outputs": [
    {
     "name": "stdout",
     "output_type": "stream",
     "text": [
      "7 3\n",
      "3 7\n"
     ]
    }
   ],
   "source": [
    "a = 7\n",
    "b = 3\n",
    "print(a, b)\n",
    "a, b = b, a\n",
    "print(a, b)"
   ]
  },
  {
   "cell_type": "code",
   "execution_count": 68,
   "id": "dd697d13-df40-4480-9a74-e12bbf0684ba",
   "metadata": {},
   "outputs": [],
   "source": [
    "def make_squares(numbers):\n",
    "    result = []\n",
    "    for number in numbers:\n",
    "        result.append(number * number)\n",
    "    return result"
   ]
  },
  {
   "cell_type": "code",
   "execution_count": 69,
   "id": "20999e30-1bee-4b05-95fd-b0048bd1def1",
   "metadata": {},
   "outputs": [
    {
     "data": {
      "text/plain": [
       "[4, 16, 49, 25, 9, 36, 1]"
      ]
     },
     "execution_count": 69,
     "metadata": {},
     "output_type": "execute_result"
    }
   ],
   "source": [
    "make_squares(nums)"
   ]
  },
  {
   "cell_type": "code",
   "execution_count": 70,
   "id": "7acd3b96-4f70-4159-8b62-9ef8496422b8",
   "metadata": {},
   "outputs": [
    {
     "data": {
      "text/plain": [
       "[2, 4, 7, 5, 3, 6, 1]"
      ]
     },
     "execution_count": 70,
     "metadata": {},
     "output_type": "execute_result"
    }
   ],
   "source": [
    "nums"
   ]
  },
  {
   "cell_type": "code",
   "execution_count": 71,
   "id": "e099ac17-c370-40ce-b516-c82e2ec6ec84",
   "metadata": {},
   "outputs": [],
   "source": [
    "def make_squares(numbers):\n",
    "    return [number * number for number in numbers]"
   ]
  },
  {
   "cell_type": "code",
   "execution_count": 72,
   "id": "64fd4e09-d53b-4fec-9234-9769680e0fda",
   "metadata": {},
   "outputs": [
    {
     "data": {
      "text/plain": [
       "[4, 16, 49, 25, 9, 36, 1]"
      ]
     },
     "execution_count": 72,
     "metadata": {},
     "output_type": "execute_result"
    }
   ],
   "source": [
    "make_squares(nums)"
   ]
  },
  {
   "cell_type": "code",
   "execution_count": 73,
   "id": "10c08bc9-dcbb-4ab5-b23d-ea23e5b98c71",
   "metadata": {},
   "outputs": [
    {
     "data": {
      "text/plain": [
       "{1, 2, 5}"
      ]
     },
     "execution_count": 73,
     "metadata": {},
     "output_type": "execute_result"
    }
   ],
   "source": [
    "{1, 2, 5, 2}"
   ]
  },
  {
   "cell_type": "code",
   "execution_count": 74,
   "id": "8681892b-39c5-4a72-8f10-31396dbd032a",
   "metadata": {},
   "outputs": [
    {
     "data": {
      "text/plain": [
       "{1, 8, 27, 64, 125, 216, 343}"
      ]
     },
     "execution_count": 74,
     "metadata": {},
     "output_type": "execute_result"
    }
   ],
   "source": [
    "{num**3 for num in nums}"
   ]
  },
  {
   "cell_type": "code",
   "execution_count": 75,
   "id": "2e1521e5-29dd-43d4-b6ce-61332b6af5b3",
   "metadata": {},
   "outputs": [
    {
     "data": {
      "text/plain": [
       "[2, 4, 7, 5, 3, 6, 1]"
      ]
     },
     "execution_count": 75,
     "metadata": {},
     "output_type": "execute_result"
    }
   ],
   "source": [
    "nums"
   ]
  },
  {
   "cell_type": "code",
   "execution_count": 76,
   "id": "fbd369da-49ad-4b86-928b-f711e4a26bb2",
   "metadata": {},
   "outputs": [],
   "source": [
    "nums.append(4)"
   ]
  },
  {
   "cell_type": "code",
   "execution_count": 77,
   "id": "5ae72eaa-dabe-49b5-91a6-1b1b42df775c",
   "metadata": {},
   "outputs": [
    {
     "data": {
      "text/plain": [
       "[2, 4, 7, 5, 3, 6, 1, 4]"
      ]
     },
     "execution_count": 77,
     "metadata": {},
     "output_type": "execute_result"
    }
   ],
   "source": [
    "nums"
   ]
  },
  {
   "cell_type": "code",
   "execution_count": 78,
   "id": "7f0c1301-dae5-403b-8f5b-e8fb46e5259f",
   "metadata": {},
   "outputs": [
    {
     "data": {
      "text/plain": [
       "8"
      ]
     },
     "execution_count": 78,
     "metadata": {},
     "output_type": "execute_result"
    }
   ],
   "source": [
    "len(nums)"
   ]
  },
  {
   "cell_type": "code",
   "execution_count": 79,
   "id": "f69dd6ce-da44-4b42-935d-fe8dd8a52d59",
   "metadata": {},
   "outputs": [
    {
     "data": {
      "text/plain": [
       "{1, 8, 27, 64, 125, 216, 343}"
      ]
     },
     "execution_count": 79,
     "metadata": {},
     "output_type": "execute_result"
    }
   ],
   "source": [
    "{num**3 for num in nums}"
   ]
  },
  {
   "cell_type": "code",
   "execution_count": 80,
   "id": "9662ac7d-e6a4-4733-9490-fe3000e0bac9",
   "metadata": {},
   "outputs": [
    {
     "data": {
      "text/plain": [
       "7"
      ]
     },
     "execution_count": 80,
     "metadata": {},
     "output_type": "execute_result"
    }
   ],
   "source": [
    "len({num**3 for num in nums})"
   ]
  },
  {
   "cell_type": "code",
   "execution_count": 81,
   "id": "692fa27b-8bde-4141-968b-572147c16b43",
   "metadata": {},
   "outputs": [
    {
     "data": {
      "text/plain": [
       "[2, 4, 6, 8, 10]"
      ]
     },
     "execution_count": 81,
     "metadata": {},
     "output_type": "execute_result"
    }
   ],
   "source": [
    "[num for num in range(2, 11, 2)]"
   ]
  },
  {
   "cell_type": "code",
   "execution_count": 82,
   "id": "68bdc1af-c85e-4c50-a19a-e1bcc7b109e7",
   "metadata": {},
   "outputs": [
    {
     "data": {
      "text/plain": [
       "[4, 16, 36, 64, 100]"
      ]
     },
     "execution_count": 82,
     "metadata": {},
     "output_type": "execute_result"
    }
   ],
   "source": [
    "[num**2 for num in range(2, 11, 2)]"
   ]
  },
  {
   "cell_type": "code",
   "execution_count": 83,
   "id": "b78b4c73-e3a2-49dc-9bab-4878b51da711",
   "metadata": {},
   "outputs": [
    {
     "data": {
      "text/plain": [
       "[4, 16, 36, 64, 100, 144, 196, 256, 324]"
      ]
     },
     "execution_count": 83,
     "metadata": {},
     "output_type": "execute_result"
    }
   ],
   "source": [
    "[num**2 for num in range(2, 19, 2)]"
   ]
  },
  {
   "cell_type": "code",
   "execution_count": 84,
   "id": "9b14efef-1c6d-4845-b6ad-c35104a4db2f",
   "metadata": {},
   "outputs": [
    {
     "data": {
      "text/plain": [
       "[2, 4, 6, 8, 10, 12, 14, 16, 18]"
      ]
     },
     "execution_count": 84,
     "metadata": {},
     "output_type": "execute_result"
    }
   ],
   "source": [
    "[num for num in range(2, 19, 2)]"
   ]
  },
  {
   "cell_type": "code",
   "execution_count": 86,
   "id": "acde12d2-afa3-4a53-9a91-61148f388586",
   "metadata": {},
   "outputs": [
    {
     "data": {
      "text/plain": [
       "[2, 4, 8, 10, 14, 16, 20]"
      ]
     },
     "execution_count": 86,
     "metadata": {},
     "output_type": "execute_result"
    }
   ],
   "source": [
    "[num for num in range(2, 21, 2) if num % 3]"
   ]
  },
  {
   "cell_type": "code",
   "execution_count": 87,
   "id": "0199aabe-8dad-4505-89e9-3e90e6ce9eaf",
   "metadata": {},
   "outputs": [
    {
     "data": {
      "text/plain": [
       "[4, 16, 64, 100, 196, 256, 400]"
      ]
     },
     "execution_count": 87,
     "metadata": {},
     "output_type": "execute_result"
    }
   ],
   "source": [
    "[num**2 for num in range(2, 21, 2) if num % 3]"
   ]
  },
  {
   "cell_type": "code",
   "execution_count": 88,
   "id": "b0501ec2-d64d-4073-922b-7683146dd31d",
   "metadata": {},
   "outputs": [],
   "source": [
    "def square(num):\n",
    "    print(\"square num\", num)\n",
    "    return num**2"
   ]
  },
  {
   "cell_type": "code",
   "execution_count": 89,
   "id": "d3c29a85-a251-4b2e-85bf-c944c32435a6",
   "metadata": {},
   "outputs": [
    {
     "name": "stdout",
     "output_type": "stream",
     "text": [
      "square num 119\n"
     ]
    },
    {
     "data": {
      "text/plain": [
       "14161"
      ]
     },
     "execution_count": 89,
     "metadata": {},
     "output_type": "execute_result"
    }
   ],
   "source": [
    "square(num)"
   ]
  },
  {
   "cell_type": "code",
   "execution_count": 90,
   "id": "f8058566-55c7-4a98-99a5-f8af297c45a7",
   "metadata": {},
   "outputs": [
    {
     "name": "stdout",
     "output_type": "stream",
     "text": [
      "square num 2\n"
     ]
    },
    {
     "data": {
      "text/plain": [
       "4"
      ]
     },
     "execution_count": 90,
     "metadata": {},
     "output_type": "execute_result"
    }
   ],
   "source": [
    "square(2)"
   ]
  },
  {
   "cell_type": "code",
   "execution_count": 91,
   "id": "22850168-f343-478f-a321-d6403071d768",
   "metadata": {},
   "outputs": [
    {
     "name": "stdout",
     "output_type": "stream",
     "text": [
      "square num 5\n"
     ]
    },
    {
     "data": {
      "text/plain": [
       "25"
      ]
     },
     "execution_count": 91,
     "metadata": {},
     "output_type": "execute_result"
    }
   ],
   "source": [
    "square(5)"
   ]
  },
  {
   "cell_type": "code",
   "execution_count": 92,
   "id": "ca243196-21c8-493c-86a7-a6c6f01648b2",
   "metadata": {},
   "outputs": [
    {
     "name": "stdout",
     "output_type": "stream",
     "text": [
      "square num 5\n"
     ]
    }
   ],
   "source": [
    "num = square(5)"
   ]
  },
  {
   "cell_type": "code",
   "execution_count": 93,
   "id": "838c1c25-a5f0-4812-9ac3-5131ebc06ebe",
   "metadata": {},
   "outputs": [
    {
     "data": {
      "text/plain": [
       "25"
      ]
     },
     "execution_count": 93,
     "metadata": {},
     "output_type": "execute_result"
    }
   ],
   "source": [
    "num"
   ]
  },
  {
   "cell_type": "code",
   "execution_count": 94,
   "id": "bded3abb-0120-4543-9fe6-a6f777f43185",
   "metadata": {},
   "outputs": [
    {
     "name": "stdout",
     "output_type": "stream",
     "text": [
      "square num 2\n",
      "square num 4\n",
      "square num 8\n",
      "square num 10\n",
      "square num 14\n",
      "square num 16\n",
      "square num 20\n"
     ]
    },
    {
     "data": {
      "text/plain": [
       "[4, 16, 64, 100, 196, 256, 400]"
      ]
     },
     "execution_count": 94,
     "metadata": {},
     "output_type": "execute_result"
    }
   ],
   "source": [
    "[square(num) for num in range(2, 21, 2) if num % 3]"
   ]
  },
  {
   "cell_type": "code",
   "execution_count": 95,
   "id": "2e9c496d-ad0c-4a87-aff3-58613ea9714a",
   "metadata": {},
   "outputs": [
    {
     "name": "stdout",
     "output_type": "stream",
     "text": [
      "square num 2\n",
      "square num 4\n",
      "square num 7\n",
      "square num 5\n",
      "square num 3\n",
      "square num 6\n",
      "square num 1\n",
      "square num 4\n"
     ]
    },
    {
     "data": {
      "text/plain": [
       "{1, 4, 9, 16, 25, 36, 49}"
      ]
     },
     "execution_count": 95,
     "metadata": {},
     "output_type": "execute_result"
    }
   ],
   "source": [
    "{square(num) for num in nums}"
   ]
  },
  {
   "cell_type": "code",
   "execution_count": 96,
   "id": "383c5206-2caa-47fe-b3e5-612d47fa9f2c",
   "metadata": {},
   "outputs": [
    {
     "data": {
      "text/plain": [
       "[2, 4, 7, 5, 3, 6, 1, 4]"
      ]
     },
     "execution_count": 96,
     "metadata": {},
     "output_type": "execute_result"
    }
   ],
   "source": [
    "nums"
   ]
  },
  {
   "cell_type": "code",
   "execution_count": 97,
   "id": "8c6dda65-921c-4458-9d09-48346a8111cc",
   "metadata": {},
   "outputs": [
    {
     "data": {
      "text/plain": [
       "[2, 4, 7, 5, 3, 6, 1, 4]"
      ]
     },
     "execution_count": 97,
     "metadata": {},
     "output_type": "execute_result"
    }
   ],
   "source": [
    "nums"
   ]
  },
  {
   "cell_type": "code",
   "execution_count": 98,
   "id": "2381f512-b261-4efa-acbc-9c6e8e9c368b",
   "metadata": {},
   "outputs": [
    {
     "name": "stdout",
     "output_type": "stream",
     "text": [
      "square num 2\n",
      "square num 4\n",
      "square num 7\n",
      "square num 5\n",
      "square num 3\n",
      "square num 6\n",
      "square num 1\n",
      "square num 4\n",
      "4\n",
      "16\n",
      "49\n",
      "25\n",
      "9\n",
      "36\n",
      "1\n",
      "16\n"
     ]
    }
   ],
   "source": [
    "for num in [square(num) for num in nums]:\n",
    "    print(num)"
   ]
  },
  {
   "cell_type": "code",
   "execution_count": 99,
   "id": "36835ca6-66e2-4ae0-af18-48b8dc267a10",
   "metadata": {},
   "outputs": [
    {
     "name": "stdout",
     "output_type": "stream",
     "text": [
      "square num 2\n",
      "square num 4\n",
      "square num 7\n",
      "square num 5\n",
      "square num 3\n",
      "square num 6\n",
      "square num 1\n",
      "square num 4\n"
     ]
    },
    {
     "data": {
      "text/plain": [
       "[4, 16, 49, 25, 9, 36, 1, 16]"
      ]
     },
     "execution_count": 99,
     "metadata": {},
     "output_type": "execute_result"
    }
   ],
   "source": [
    "[square(num) for num in nums]"
   ]
  },
  {
   "cell_type": "code",
   "execution_count": 100,
   "id": "e858d950-3d34-4d52-b8f3-fc43069abe23",
   "metadata": {},
   "outputs": [
    {
     "name": "stdout",
     "output_type": "stream",
     "text": [
      "square num 2\n",
      "square num 4\n",
      "square num 7\n",
      "square num 5\n",
      "square num 3\n",
      "square num 6\n",
      "square num 1\n",
      "square num 4\n",
      "[4, 16, 49, 25, 9, 36, 1, 16]\n"
     ]
    }
   ],
   "source": [
    "squares_list = [square(num) for num in nums]\n",
    "print(squares_list)"
   ]
  },
  {
   "cell_type": "code",
   "execution_count": 101,
   "id": "a58bec46-57c2-4f88-bafa-7bf3df50af92",
   "metadata": {},
   "outputs": [
    {
     "name": "stdout",
     "output_type": "stream",
     "text": [
      "4\n",
      "16\n",
      "49\n",
      "25\n",
      "9\n",
      "36\n",
      "1\n",
      "16\n"
     ]
    }
   ],
   "source": [
    "for sq in squares_list:\n",
    "    print(sq)"
   ]
  },
  {
   "cell_type": "code",
   "execution_count": 102,
   "id": "ec7d2f3b-480b-4ddb-83ce-1d401225645a",
   "metadata": {},
   "outputs": [
    {
     "name": "stdout",
     "output_type": "stream",
     "text": [
      "<map object at 0x104bd98d0>\n"
     ]
    }
   ],
   "source": [
    "nums_squares = map(square, nums)\n",
    "print(nums_squares)"
   ]
  },
  {
   "cell_type": "code",
   "execution_count": 103,
   "id": "3a8d2077-1ad2-42da-9ea9-2426d39fd5c3",
   "metadata": {},
   "outputs": [
    {
     "name": "stdout",
     "output_type": "stream",
     "text": [
      "square num 3\n"
     ]
    },
    {
     "data": {
      "text/plain": [
       "9"
      ]
     },
     "execution_count": 103,
     "metadata": {},
     "output_type": "execute_result"
    }
   ],
   "source": [
    "square(3)"
   ]
  },
  {
   "cell_type": "code",
   "execution_count": 104,
   "id": "54b899fd-2f9a-45cc-8e8f-55a5d0275f4a",
   "metadata": {},
   "outputs": [
    {
     "name": "stdout",
     "output_type": "stream",
     "text": [
      "square num 2\n",
      "4\n",
      "square num 4\n",
      "16\n",
      "square num 7\n",
      "49\n",
      "square num 5\n",
      "25\n",
      "square num 3\n",
      "9\n",
      "square num 6\n",
      "36\n",
      "square num 1\n",
      "1\n",
      "square num 4\n",
      "16\n"
     ]
    }
   ],
   "source": [
    "for sq in nums_squares:\n",
    "    print(sq)"
   ]
  },
  {
   "cell_type": "code",
   "execution_count": 105,
   "id": "0c0348d0-a541-411f-903a-63efe2e76539",
   "metadata": {},
   "outputs": [
    {
     "name": "stdout",
     "output_type": "stream",
     "text": [
      "square num 2\n",
      "sq: 4\n",
      "square num 4\n",
      "sq: 16\n",
      "square num 7\n",
      "sq: 49\n"
     ]
    }
   ],
   "source": [
    "for sq in map(square, nums):\n",
    "    print(\"sq:\", sq)\n",
    "    if sq % 2:\n",
    "        break"
   ]
  },
  {
   "cell_type": "code",
   "execution_count": 106,
   "id": "4c1bb945-1d88-4295-83bc-4a0683ce212e",
   "metadata": {},
   "outputs": [],
   "source": [
    "def is_even(num):\n",
    "    return num % 2 == 0"
   ]
  },
  {
   "cell_type": "code",
   "execution_count": 107,
   "id": "58eb0555-55be-4d00-b4d0-64dfd2c35ada",
   "metadata": {},
   "outputs": [
    {
     "data": {
      "text/plain": [
       "True"
      ]
     },
     "execution_count": 107,
     "metadata": {},
     "output_type": "execute_result"
    }
   ],
   "source": [
    "is_even(2)"
   ]
  },
  {
   "cell_type": "code",
   "execution_count": 108,
   "id": "de692227-1857-4fc6-a830-9efb41899aac",
   "metadata": {},
   "outputs": [
    {
     "data": {
      "text/plain": [
       "False"
      ]
     },
     "execution_count": 108,
     "metadata": {},
     "output_type": "execute_result"
    }
   ],
   "source": [
    "is_even(3)"
   ]
  },
  {
   "cell_type": "code",
   "execution_count": 109,
   "id": "ef917819-1104-4490-8fb1-a7246ac4078d",
   "metadata": {},
   "outputs": [
    {
     "data": {
      "text/plain": [
       "[2, 4, 7, 5, 3, 6, 1, 4]"
      ]
     },
     "execution_count": 109,
     "metadata": {},
     "output_type": "execute_result"
    }
   ],
   "source": [
    "nums"
   ]
  },
  {
   "cell_type": "code",
   "execution_count": 110,
   "id": "cd9fcc50-6890-4dc9-9edc-f1c50a2481ec",
   "metadata": {},
   "outputs": [
    {
     "data": {
      "text/plain": [
       "[2, 4, 6, 4]"
      ]
     },
     "execution_count": 110,
     "metadata": {},
     "output_type": "execute_result"
    }
   ],
   "source": [
    "[num for num in nums if is_even(num)]"
   ]
  },
  {
   "cell_type": "code",
   "execution_count": 111,
   "id": "4714a219-b485-429c-bdbb-bdb550ccca92",
   "metadata": {},
   "outputs": [
    {
     "data": {
      "text/plain": [
       "[True, True, False, False, False, True, False, True]"
      ]
     },
     "execution_count": 111,
     "metadata": {},
     "output_type": "execute_result"
    }
   ],
   "source": [
    "[is_even(num) for num in nums]"
   ]
  },
  {
   "cell_type": "code",
   "execution_count": 112,
   "id": "695706c7-d524-41f4-8ec4-1781408dccae",
   "metadata": {},
   "outputs": [
    {
     "data": {
      "text/plain": [
       "[2, 4, 6, 4]"
      ]
     },
     "execution_count": 112,
     "metadata": {},
     "output_type": "execute_result"
    }
   ],
   "source": [
    "list(filter(is_even, nums))"
   ]
  },
  {
   "cell_type": "code",
   "execution_count": 113,
   "id": "06dfa52a-7237-4b6d-adf1-3788c5d48b8b",
   "metadata": {},
   "outputs": [
    {
     "name": "stdout",
     "output_type": "stream",
     "text": [
      "2\n",
      "4\n",
      "6\n",
      "4\n"
     ]
    }
   ],
   "source": [
    "for num in filter(is_even, nums):\n",
    "    print(num)"
   ]
  },
  {
   "cell_type": "code",
   "execution_count": 114,
   "id": "18056765-d431-4663-ba30-e0a970d3178e",
   "metadata": {},
   "outputs": [
    {
     "data": {
      "text/plain": [
       "[2, 4, 7, 5, 3, 6, 1, 4]"
      ]
     },
     "execution_count": 114,
     "metadata": {},
     "output_type": "execute_result"
    }
   ],
   "source": [
    "nums"
   ]
  },
  {
   "cell_type": "code",
   "execution_count": 115,
   "id": "48eb5b9b-d005-4b97-9191-17adb21436cb",
   "metadata": {},
   "outputs": [
    {
     "name": "stdout",
     "output_type": "stream",
     "text": [
      "0 2\n",
      "1 4\n",
      "2 7\n",
      "3 5\n",
      "4 3\n",
      "5 6\n",
      "6 1\n",
      "7 4\n"
     ]
    }
   ],
   "source": [
    "# NEVER!!!!!\n",
    "for idx in range(len(nums)):\n",
    "    print(idx, nums[idx])\n",
    "# NEVER!!!!!"
   ]
  },
  {
   "cell_type": "code",
   "execution_count": 116,
   "id": "b9e99835-61d3-4f17-9462-671687927263",
   "metadata": {},
   "outputs": [
    {
     "name": "stdout",
     "output_type": "stream",
     "text": [
      "2\n",
      "4\n",
      "7\n",
      "5\n",
      "3\n",
      "6\n",
      "1\n",
      "4\n"
     ]
    }
   ],
   "source": [
    "for num in nums:\n",
    "    print(num)"
   ]
  },
  {
   "cell_type": "code",
   "execution_count": 117,
   "id": "fc9d0251-38b5-454c-bdd1-5509a2428f9c",
   "metadata": {},
   "outputs": [
    {
     "name": "stdout",
     "output_type": "stream",
     "text": [
      "0 2\n",
      "1 4\n",
      "2 7\n",
      "3 5\n",
      "4 3\n",
      "5 6\n",
      "6 1\n",
      "7 4\n"
     ]
    }
   ],
   "source": [
    "for idx, num in enumerate(nums):\n",
    "    print(idx, num)"
   ]
  },
  {
   "cell_type": "code",
   "execution_count": 118,
   "id": "824707fb-1e2f-40f5-a0ae-e2116161dfc8",
   "metadata": {},
   "outputs": [],
   "source": [
    "names = [\"john\", \"sam\", \"nick\"]"
   ]
  },
  {
   "cell_type": "code",
   "execution_count": 119,
   "id": "029d8c6d-1a2b-446c-b061-82373433c07f",
   "metadata": {},
   "outputs": [],
   "source": [
    "for idx, name in enumerate(names):\n",
    "    names[idx] = name.title()"
   ]
  },
  {
   "cell_type": "code",
   "execution_count": 120,
   "id": "a8ec6c1f-14c2-487a-81f7-ace3540b74f2",
   "metadata": {},
   "outputs": [
    {
     "name": "stdout",
     "output_type": "stream",
     "text": [
      "['John', 'Sam', 'Nick']\n"
     ]
    }
   ],
   "source": [
    "print(names)"
   ]
  },
  {
   "cell_type": "code",
   "execution_count": 121,
   "id": "721fc906-839a-4ae3-82ff-029590f2b109",
   "metadata": {},
   "outputs": [],
   "source": [
    "names = [\"john\", \"sam\", \"nick\"]"
   ]
  },
  {
   "cell_type": "code",
   "execution_count": 122,
   "id": "c29a2fc6-eb09-4eed-93b3-aab6b3afb84a",
   "metadata": {},
   "outputs": [
    {
     "name": "stdout",
     "output_type": "stream",
     "text": [
      "0 John\n",
      "1 Sam\n",
      "2 Nick\n"
     ]
    }
   ],
   "source": [
    "for idx, name in enumerate(names):\n",
    "    print(idx, name.title())"
   ]
  },
  {
   "cell_type": "code",
   "execution_count": 123,
   "id": "38e8042a-86e8-4970-bc89-6e5f192a1a9b",
   "metadata": {},
   "outputs": [
    {
     "name": "stdout",
     "output_type": "stream",
     "text": [
      "1 John\n",
      "2 Sam\n",
      "3 Nick\n"
     ]
    }
   ],
   "source": [
    "# NEVER!!!\n",
    "for idx, name in enumerate(names):\n",
    "    print(idx + 1, name.title())\n",
    "# NEVER!!!"
   ]
  },
  {
   "cell_type": "code",
   "execution_count": 125,
   "id": "b7c92d1a-ea3a-4106-98a8-c31bd015358e",
   "metadata": {},
   "outputs": [
    {
     "name": "stdout",
     "output_type": "stream",
     "text": [
      "1 John\n",
      "2 Sam\n",
      "3 Nick\n"
     ]
    }
   ],
   "source": [
    "for idx, name in enumerate(names, start=1):\n",
    "    print(idx, name.title())"
   ]
  },
  {
   "cell_type": "code",
   "execution_count": 126,
   "id": "7ef01694-eb4b-42a7-b791-a2d447f95569",
   "metadata": {},
   "outputs": [
    {
     "data": {
      "text/plain": [
       "<enumerate at 0x1049d5e90>"
      ]
     },
     "execution_count": 126,
     "metadata": {},
     "output_type": "execute_result"
    }
   ],
   "source": [
    "enumerate(names, start=1)"
   ]
  },
  {
   "cell_type": "code",
   "execution_count": 127,
   "id": "ea6d6107-bccf-4b32-93d3-7b68c539e2d4",
   "metadata": {},
   "outputs": [
    {
     "data": {
      "text/plain": [
       "[(1, 'john'), (2, 'sam'), (3, 'nick')]"
      ]
     },
     "execution_count": 127,
     "metadata": {},
     "output_type": "execute_result"
    }
   ],
   "source": [
    "list(enumerate(names, start=1))"
   ]
  },
  {
   "cell_type": "code",
   "execution_count": 128,
   "id": "93aa173a-af70-458d-80af-7e84a05465f0",
   "metadata": {},
   "outputs": [
    {
     "name": "stdout",
     "output_type": "stream",
     "text": [
      "10 John\n",
      "11 Sam\n",
      "12 Nick\n"
     ]
    }
   ],
   "source": [
    "for idx, name in enumerate(names, start=10):\n",
    "    print(idx, name.title())"
   ]
  },
  {
   "cell_type": "code",
   "execution_count": 130,
   "id": "2cb89461-a42b-4e1f-a951-f0a92829258e",
   "metadata": {},
   "outputs": [
    {
     "name": "stdout",
     "output_type": "stream",
     "text": [
      "- 11 John\n",
      "- 12 Sam\n",
      "- 13 Nick\n"
     ]
    }
   ],
   "source": [
    "for point, name in enumerate(names, start=11):\n",
    "    print(\"-\", point, name.title())"
   ]
  },
  {
   "cell_type": "code",
   "execution_count": 135,
   "id": "1b1238a7-d5ef-4ffe-8d44-8fbcc1805475",
   "metadata": {},
   "outputs": [
    {
     "name": "stdout",
     "output_type": "stream",
     "text": [
      " ids\n",
      "   7\n",
      "  15\n",
      " 113\n"
     ]
    }
   ],
   "source": [
    "ids = [7, 15, 113]\n",
    "print(\"ids\".rjust(4))\n",
    "for id_ in ids:\n",
    "    print(str(id_).rjust(4))"
   ]
  },
  {
   "cell_type": "code",
   "execution_count": 136,
   "id": "f4788dd3-af8b-49ef-bbcf-abd51d959c22",
   "metadata": {},
   "outputs": [
    {
     "name": "stdout",
     "output_type": "stream",
     "text": [
      "abc qwe wasd\n"
     ]
    }
   ],
   "source": [
    "print(\"abc\", end=\" \")\n",
    "print(\"qwe\", end=\" \")\n",
    "print(\"wasd\")"
   ]
  },
  {
   "cell_type": "code",
   "execution_count": 137,
   "id": "9ed2cbf6-e28a-4f30-9366-a8d5d3b0c49d",
   "metadata": {},
   "outputs": [],
   "source": [
    "def mul_matrix(number):\n",
    "    start = 1\n",
    "    to = number + 1\n",
    "    width = len(str(number)) + 1\n",
    "    for a in range(start, to):\n",
    "        for b in range(start, to):\n",
    "            num = a * b\n",
    "            print(str(num).rjust(width), end=\" \")\n",
    "        print()"
   ]
  },
  {
   "cell_type": "code",
   "execution_count": 138,
   "id": "3f033085-5ec6-4646-b8d7-9ad57678d749",
   "metadata": {},
   "outputs": [
    {
     "name": "stdout",
     "output_type": "stream",
     "text": [
      " 1  2  3  4  5 \n",
      " 2  4  6  8 10 \n",
      " 3  6  9 12 15 \n",
      " 4  8 12 16 20 \n",
      " 5 10 15 20 25 \n"
     ]
    }
   ],
   "source": [
    "mul_matrix(5)"
   ]
  },
  {
   "cell_type": "code",
   "execution_count": 139,
   "id": "a6adf7c1-27f7-4a4a-9d0e-7b1ec19f86a2",
   "metadata": {},
   "outputs": [
    {
     "name": "stdout",
     "output_type": "stream",
     "text": [
      "  1   2   3   4   5   6   7   8   9  10 \n",
      "  2   4   6   8  10  12  14  16  18  20 \n",
      "  3   6   9  12  15  18  21  24  27  30 \n",
      "  4   8  12  16  20  24  28  32  36  40 \n",
      "  5  10  15  20  25  30  35  40  45  50 \n",
      "  6  12  18  24  30  36  42  48  54  60 \n",
      "  7  14  21  28  35  42  49  56  63  70 \n",
      "  8  16  24  32  40  48  56  64  72  80 \n",
      "  9  18  27  36  45  54  63  72  81  90 \n",
      " 10  20  30  40  50  60  70  80  90 100 \n"
     ]
    }
   ],
   "source": [
    "mul_matrix(10)"
   ]
  },
  {
   "cell_type": "code",
   "execution_count": 140,
   "id": "44868f9b-5341-4a17-b7e9-667264d0d469",
   "metadata": {},
   "outputs": [
    {
     "name": "stdout",
     "output_type": "stream",
     "text": [
      "  1   2   3   4   5   6   7   8   9  10  11  12  13  14  15 \n",
      "  2   4   6   8  10  12  14  16  18  20  22  24  26  28  30 \n",
      "  3   6   9  12  15  18  21  24  27  30  33  36  39  42  45 \n",
      "  4   8  12  16  20  24  28  32  36  40  44  48  52  56  60 \n",
      "  5  10  15  20  25  30  35  40  45  50  55  60  65  70  75 \n",
      "  6  12  18  24  30  36  42  48  54  60  66  72  78  84  90 \n",
      "  7  14  21  28  35  42  49  56  63  70  77  84  91  98 105 \n",
      "  8  16  24  32  40  48  56  64  72  80  88  96 104 112 120 \n",
      "  9  18  27  36  45  54  63  72  81  90  99 108 117 126 135 \n",
      " 10  20  30  40  50  60  70  80  90 100 110 120 130 140 150 \n",
      " 11  22  33  44  55  66  77  88  99 110 121 132 143 154 165 \n",
      " 12  24  36  48  60  72  84  96 108 120 132 144 156 168 180 \n",
      " 13  26  39  52  65  78  91 104 117 130 143 156 169 182 195 \n",
      " 14  28  42  56  70  84  98 112 126 140 154 168 182 196 210 \n",
      " 15  30  45  60  75  90 105 120 135 150 165 180 195 210 225 \n"
     ]
    }
   ],
   "source": [
    "mul_matrix(15)"
   ]
  },
  {
   "cell_type": "code",
   "execution_count": 141,
   "id": "5bda421e-b0d9-49ac-9427-050209ed874e",
   "metadata": {},
   "outputs": [
    {
     "name": "stdin",
     "output_type": "stream",
     "text": [
      "Enter your name:  Suren\n"
     ]
    }
   ],
   "source": [
    "your_name = input(\"Enter your name: \")"
   ]
  },
  {
   "cell_type": "code",
   "execution_count": 142,
   "id": "a20349ed-8acf-4adb-b354-80a3679e228f",
   "metadata": {},
   "outputs": [
    {
     "name": "stdout",
     "output_type": "stream",
     "text": [
      "Name: Suren\n"
     ]
    }
   ],
   "source": [
    "print(\"Name:\", your_name)"
   ]
  },
  {
   "cell_type": "code",
   "execution_count": null,
   "id": "3ef97bb2-2e85-4960-93cc-9f6b1c6f0d5f",
   "metadata": {},
   "outputs": [],
   "source": []
  }
 ],
 "metadata": {
  "kernelspec": {
   "display_name": "Python 3 (ipykernel)",
   "language": "python",
   "name": "python3"
  },
  "language_info": {
   "codemirror_mode": {
    "name": "ipython",
    "version": 3
   },
   "file_extension": ".py",
   "mimetype": "text/x-python",
   "name": "python",
   "nbconvert_exporter": "python",
   "pygments_lexer": "ipython3",
   "version": "3.12.2"
  }
 },
 "nbformat": 4,
 "nbformat_minor": 5
}
