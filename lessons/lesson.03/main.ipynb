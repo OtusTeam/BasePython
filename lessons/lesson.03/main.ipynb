{
 "cells": [
  {
   "cell_type": "code",
   "execution_count": 1,
   "id": "3ba070d4",
   "metadata": {},
   "outputs": [
    {
     "data": {
      "text/plain": [
       "[0, 1, 2, 3, 4, 5, 6, 7, 8, 9]"
      ]
     },
     "execution_count": 1,
     "metadata": {},
     "output_type": "execute_result"
    }
   ],
   "source": [
    "[i for i in range(10)]"
   ]
  },
  {
   "cell_type": "code",
   "execution_count": 2,
   "id": "3e8c8c50",
   "metadata": {},
   "outputs": [
    {
     "data": {
      "text/plain": [
       "[2, 6, 10, 14, 18]"
      ]
     },
     "execution_count": 2,
     "metadata": {},
     "output_type": "execute_result"
    }
   ],
   "source": [
    "[i * 2 for i in range(10) if i % 2]"
   ]
  },
  {
   "cell_type": "code",
   "execution_count": 3,
   "id": "d772ab92",
   "metadata": {},
   "outputs": [
    {
     "data": {
      "text/plain": [
       "{0, 4, 16, 36, 64}"
      ]
     },
     "execution_count": 3,
     "metadata": {},
     "output_type": "execute_result"
    }
   ],
   "source": [
    "{i**2 for i in range(10) if i % 2 == 0}"
   ]
  },
  {
   "cell_type": "code",
   "execution_count": 4,
   "id": "3f89296e",
   "metadata": {},
   "outputs": [
    {
     "data": {
      "text/plain": [
       "{0: '0',\n",
       " 1: '1',\n",
       " 2: '2',\n",
       " 3: '3',\n",
       " 4: '4',\n",
       " 5: '5',\n",
       " 6: '6',\n",
       " 7: '7',\n",
       " 8: '8',\n",
       " 9: '9'}"
      ]
     },
     "execution_count": 4,
     "metadata": {},
     "output_type": "execute_result"
    }
   ],
   "source": [
    "{\n",
    "    i: str(i)\n",
    "    for i in range(10)\n",
    "}"
   ]
  },
  {
   "cell_type": "code",
   "execution_count": 5,
   "id": "aab447d2",
   "metadata": {},
   "outputs": [
    {
     "data": {
      "text/plain": [
       "<generator object <genexpr> at 0x106ff5770>"
      ]
     },
     "execution_count": 5,
     "metadata": {},
     "output_type": "execute_result"
    }
   ],
   "source": [
    "(i for i in range(5))"
   ]
  },
  {
   "cell_type": "code",
   "execution_count": 6,
   "id": "832cab9b",
   "metadata": {},
   "outputs": [
    {
     "name": "stdout",
     "output_type": "stream",
     "text": [
      "0\n",
      "1\n",
      "2\n",
      "3\n",
      "4\n"
     ]
    }
   ],
   "source": [
    "for i in range(5):\n",
    "    print(i)"
   ]
  },
  {
   "cell_type": "code",
   "execution_count": 7,
   "id": "3959e8bc",
   "metadata": {},
   "outputs": [
    {
     "name": "stdout",
     "output_type": "stream",
     "text": [
      "0\n",
      "1\n",
      "2\n",
      "3\n",
      "4\n"
     ]
    }
   ],
   "source": [
    "for i in list(range(5)):\n",
    "    print(i)"
   ]
  },
  {
   "cell_type": "code",
   "execution_count": 8,
   "id": "064583d9",
   "metadata": {},
   "outputs": [
    {
     "name": "stdout",
     "output_type": "stream",
     "text": [
      "1\n",
      "3\n",
      "5\n",
      "7\n",
      "9\n"
     ]
    }
   ],
   "source": [
    "for i in (i for i in range(10) if i % 2):\n",
    "    print(i)"
   ]
  },
  {
   "cell_type": "code",
   "execution_count": 9,
   "id": "096b8d3b",
   "metadata": {},
   "outputs": [
    {
     "name": "stdout",
     "output_type": "stream",
     "text": [
      "1\n",
      "3\n",
      "5\n",
      "7\n",
      "9\n"
     ]
    }
   ],
   "source": [
    "for i in [i for i in range(10) if i % 2]:\n",
    "    print(i)"
   ]
  },
  {
   "cell_type": "code",
   "execution_count": 10,
   "id": "67802d42",
   "metadata": {},
   "outputs": [
    {
     "data": {
      "text/plain": [
       "1000"
      ]
     },
     "execution_count": 10,
     "metadata": {},
     "output_type": "execute_result"
    }
   ],
   "source": [
    "len(list(range(1000)))"
   ]
  },
  {
   "cell_type": "code",
   "execution_count": 11,
   "id": "573b4418",
   "metadata": {},
   "outputs": [
    {
     "name": "stdout",
     "output_type": "stream",
     "text": [
      "0\n",
      "1\n",
      "2\n",
      "3\n",
      "4\n",
      "5\n",
      "6\n",
      "7\n",
      "8\n",
      "9\n",
      "10\n",
      "11\n"
     ]
    }
   ],
   "source": [
    "list_of_nums = list(range(1000))\n",
    "for i in list_of_nums:\n",
    "    print(i)\n",
    "    if i > 10:\n",
    "        break"
   ]
  },
  {
   "cell_type": "code",
   "execution_count": 12,
   "id": "3d589332",
   "metadata": {},
   "outputs": [
    {
     "data": {
      "text/plain": [
       "1000"
      ]
     },
     "execution_count": 12,
     "metadata": {},
     "output_type": "execute_result"
    }
   ],
   "source": [
    "len(list_of_nums)"
   ]
  },
  {
   "cell_type": "code",
   "execution_count": 13,
   "id": "54f63328",
   "metadata": {},
   "outputs": [],
   "source": [
    "import sys"
   ]
  },
  {
   "cell_type": "code",
   "execution_count": 14,
   "id": "54b0ce71",
   "metadata": {},
   "outputs": [
    {
     "data": {
      "text/plain": [
       "<module 'sys' (built-in)>"
      ]
     },
     "execution_count": 14,
     "metadata": {},
     "output_type": "execute_result"
    }
   ],
   "source": [
    "sys"
   ]
  },
  {
   "cell_type": "code",
   "execution_count": 15,
   "id": "f58aa1fd",
   "metadata": {},
   "outputs": [
    {
     "data": {
      "text/plain": [
       "['__breakpointhook__',\n",
       " '__displayhook__',\n",
       " '__doc__',\n",
       " '__excepthook__',\n",
       " '__interactivehook__',\n",
       " '__loader__',\n",
       " '__name__',\n",
       " '__package__',\n",
       " '__spec__',\n",
       " '__stderr__',\n",
       " '__stdin__',\n",
       " '__stdout__',\n",
       " '__unraisablehook__',\n",
       " '_base_executable',\n",
       " '_clear_type_cache',\n",
       " '_current_exceptions',\n",
       " '_current_frames',\n",
       " '_deactivate_opcache',\n",
       " '_debugmallocstats',\n",
       " '_framework',\n",
       " '_getframe',\n",
       " '_git',\n",
       " '_home',\n",
       " '_xoptions',\n",
       " 'abiflags',\n",
       " 'addaudithook',\n",
       " 'api_version',\n",
       " 'argv',\n",
       " 'audit',\n",
       " 'base_exec_prefix',\n",
       " 'base_prefix',\n",
       " 'breakpointhook',\n",
       " 'builtin_module_names',\n",
       " 'byteorder',\n",
       " 'call_tracing',\n",
       " 'copyright',\n",
       " 'displayhook',\n",
       " 'dont_write_bytecode',\n",
       " 'exc_info',\n",
       " 'excepthook',\n",
       " 'exec_prefix',\n",
       " 'executable',\n",
       " 'exit',\n",
       " 'flags',\n",
       " 'float_info',\n",
       " 'float_repr_style',\n",
       " 'get_asyncgen_hooks',\n",
       " 'get_coroutine_origin_tracking_depth',\n",
       " 'getallocatedblocks',\n",
       " 'getdefaultencoding',\n",
       " 'getdlopenflags',\n",
       " 'getfilesystemencodeerrors',\n",
       " 'getfilesystemencoding',\n",
       " 'getprofile',\n",
       " 'getrecursionlimit',\n",
       " 'getrefcount',\n",
       " 'getsizeof',\n",
       " 'getswitchinterval',\n",
       " 'gettrace',\n",
       " 'hash_info',\n",
       " 'hexversion',\n",
       " 'implementation',\n",
       " 'int_info',\n",
       " 'intern',\n",
       " 'is_finalizing',\n",
       " 'maxsize',\n",
       " 'maxunicode',\n",
       " 'meta_path',\n",
       " 'modules',\n",
       " 'orig_argv',\n",
       " 'path',\n",
       " 'path_hooks',\n",
       " 'path_importer_cache',\n",
       " 'platform',\n",
       " 'platlibdir',\n",
       " 'prefix',\n",
       " 'ps1',\n",
       " 'ps2',\n",
       " 'ps3',\n",
       " 'pycache_prefix',\n",
       " 'set_asyncgen_hooks',\n",
       " 'set_coroutine_origin_tracking_depth',\n",
       " 'setdlopenflags',\n",
       " 'setprofile',\n",
       " 'setrecursionlimit',\n",
       " 'setswitchinterval',\n",
       " 'settrace',\n",
       " 'stderr',\n",
       " 'stdin',\n",
       " 'stdlib_module_names',\n",
       " 'stdout',\n",
       " 'thread_info',\n",
       " 'unraisablehook',\n",
       " 'version',\n",
       " 'version_info',\n",
       " 'warnoptions']"
      ]
     },
     "execution_count": 15,
     "metadata": {},
     "output_type": "execute_result"
    }
   ],
   "source": [
    "dir(sys)"
   ]
  },
  {
   "cell_type": "code",
   "execution_count": 16,
   "id": "d3a8c2ea",
   "metadata": {},
   "outputs": [
    {
     "data": {
      "text/plain": [
       "8056"
      ]
     },
     "execution_count": 16,
     "metadata": {},
     "output_type": "execute_result"
    }
   ],
   "source": [
    "sys.getsizeof(list_of_nums)"
   ]
  },
  {
   "cell_type": "code",
   "execution_count": 17,
   "id": "0e0e626f",
   "metadata": {},
   "outputs": [
    {
     "name": "stdout",
     "output_type": "stream",
     "text": [
      "0\n",
      "1\n",
      "2\n",
      "3\n",
      "4\n",
      "5\n",
      "6\n",
      "7\n",
      "8\n",
      "9\n",
      "10\n",
      "11\n"
     ]
    }
   ],
   "source": [
    "for i in range(1000):\n",
    "    print(i)\n",
    "    if i > 10:\n",
    "        break"
   ]
  },
  {
   "cell_type": "code",
   "execution_count": 18,
   "id": "c8f7f4d1",
   "metadata": {},
   "outputs": [
    {
     "data": {
      "text/plain": [
       "<generator object <genexpr> at 0x106ff6260>"
      ]
     },
     "execution_count": 18,
     "metadata": {},
     "output_type": "execute_result"
    }
   ],
   "source": [
    "(i for i in range(0, 100) if i % 2 == 0)"
   ]
  },
  {
   "cell_type": "code",
   "execution_count": 19,
   "id": "a672bc07",
   "metadata": {},
   "outputs": [],
   "source": [
    "g = (i for i in range(0, 2000) if i % 2 == 0)"
   ]
  },
  {
   "cell_type": "code",
   "execution_count": 20,
   "id": "d7505477",
   "metadata": {},
   "outputs": [
    {
     "data": {
      "text/plain": [
       "104"
      ]
     },
     "execution_count": 20,
     "metadata": {},
     "output_type": "execute_result"
    }
   ],
   "source": [
    "sys.getsizeof(g)"
   ]
  },
  {
   "cell_type": "code",
   "execution_count": 21,
   "id": "fbeb3d6f",
   "metadata": {},
   "outputs": [
    {
     "data": {
      "text/plain": [
       "0"
      ]
     },
     "execution_count": 21,
     "metadata": {},
     "output_type": "execute_result"
    }
   ],
   "source": [
    "next(g)"
   ]
  },
  {
   "cell_type": "code",
   "execution_count": 22,
   "id": "72f00732",
   "metadata": {},
   "outputs": [
    {
     "data": {
      "text/plain": [
       "2"
      ]
     },
     "execution_count": 22,
     "metadata": {},
     "output_type": "execute_result"
    }
   ],
   "source": [
    "next(g)"
   ]
  },
  {
   "cell_type": "code",
   "execution_count": 23,
   "id": "59875cb8",
   "metadata": {},
   "outputs": [
    {
     "name": "stdout",
     "output_type": "stream",
     "text": [
      "4\n",
      "6\n",
      "8\n",
      "10\n",
      "12\n"
     ]
    }
   ],
   "source": [
    "for i in g:\n",
    "    print(i)\n",
    "    if i > 10:\n",
    "        break"
   ]
  },
  {
   "cell_type": "code",
   "execution_count": 24,
   "id": "6fc9bc78",
   "metadata": {},
   "outputs": [
    {
     "data": {
      "text/plain": [
       "14"
      ]
     },
     "execution_count": 24,
     "metadata": {},
     "output_type": "execute_result"
    }
   ],
   "source": [
    "next(g)"
   ]
  },
  {
   "cell_type": "code",
   "execution_count": 25,
   "id": "cc703d6f",
   "metadata": {},
   "outputs": [
    {
     "data": {
      "text/plain": [
       "0"
      ]
     },
     "execution_count": 25,
     "metadata": {},
     "output_type": "execute_result"
    }
   ],
   "source": [
    "g = (i for i in range(3))\n",
    "next(g)"
   ]
  },
  {
   "cell_type": "code",
   "execution_count": 26,
   "id": "23e8d99f",
   "metadata": {},
   "outputs": [
    {
     "data": {
      "text/plain": [
       "1"
      ]
     },
     "execution_count": 26,
     "metadata": {},
     "output_type": "execute_result"
    }
   ],
   "source": [
    "next(g)"
   ]
  },
  {
   "cell_type": "code",
   "execution_count": 27,
   "id": "12ec519f",
   "metadata": {},
   "outputs": [
    {
     "data": {
      "text/plain": [
       "2"
      ]
     },
     "execution_count": 27,
     "metadata": {},
     "output_type": "execute_result"
    }
   ],
   "source": [
    "next(g)"
   ]
  },
  {
   "cell_type": "code",
   "execution_count": 28,
   "id": "21246068",
   "metadata": {},
   "outputs": [
    {
     "ename": "StopIteration",
     "evalue": "",
     "output_type": "error",
     "traceback": [
      "\u001b[0;31m---------------------------------------------------------------------------\u001b[0m",
      "\u001b[0;31mStopIteration\u001b[0m                             Traceback (most recent call last)",
      "Cell \u001b[0;32mIn [28], line 1\u001b[0m\n\u001b[0;32m----> 1\u001b[0m \u001b[38;5;28;43mnext\u001b[39;49m\u001b[43m(\u001b[49m\u001b[43mg\u001b[49m\u001b[43m)\u001b[49m\n",
      "\u001b[0;31mStopIteration\u001b[0m: "
     ]
    }
   ],
   "source": [
    "next(g)"
   ]
  },
  {
   "cell_type": "code",
   "execution_count": 29,
   "id": "dcb019de",
   "metadata": {},
   "outputs": [],
   "source": [
    "def fib():\n",
    "    print('starting func fib')\n",
    "    yield 0\n",
    "    print('finishing..')"
   ]
  },
  {
   "cell_type": "code",
   "execution_count": 30,
   "id": "bdcf8c5a",
   "metadata": {},
   "outputs": [
    {
     "data": {
      "text/plain": [
       "<generator object fib at 0x10bcc9540>"
      ]
     },
     "execution_count": 30,
     "metadata": {},
     "output_type": "execute_result"
    }
   ],
   "source": [
    "fib()"
   ]
  },
  {
   "cell_type": "code",
   "execution_count": 31,
   "id": "18f7e1fe",
   "metadata": {},
   "outputs": [
    {
     "name": "stdout",
     "output_type": "stream",
     "text": [
      "starting func fib\n"
     ]
    },
    {
     "data": {
      "text/plain": [
       "0"
      ]
     },
     "execution_count": 31,
     "metadata": {},
     "output_type": "execute_result"
    }
   ],
   "source": [
    "f = fib()\n",
    "next(f)"
   ]
  },
  {
   "cell_type": "code",
   "execution_count": 32,
   "id": "fdca5b0f",
   "metadata": {},
   "outputs": [
    {
     "name": "stdout",
     "output_type": "stream",
     "text": [
      "finishing..\n"
     ]
    },
    {
     "ename": "StopIteration",
     "evalue": "",
     "output_type": "error",
     "traceback": [
      "\u001b[0;31m---------------------------------------------------------------------------\u001b[0m",
      "\u001b[0;31mStopIteration\u001b[0m                             Traceback (most recent call last)",
      "Cell \u001b[0;32mIn [32], line 1\u001b[0m\n\u001b[0;32m----> 1\u001b[0m \u001b[38;5;28mprint\u001b[39m(\u001b[38;5;28;43mnext\u001b[39;49m\u001b[43m(\u001b[49m\u001b[43mf\u001b[49m\u001b[43m)\u001b[49m)\n",
      "\u001b[0;31mStopIteration\u001b[0m: "
     ]
    }
   ],
   "source": [
    "print(next(f))"
   ]
  },
  {
   "cell_type": "code",
   "execution_count": 33,
   "id": "0434b1c0",
   "metadata": {},
   "outputs": [],
   "source": [
    "def fib():\n",
    "    yield 0\n",
    "    yield 1"
   ]
  },
  {
   "cell_type": "code",
   "execution_count": 34,
   "id": "e4a86a07",
   "metadata": {},
   "outputs": [
    {
     "name": "stdout",
     "output_type": "stream",
     "text": [
      "0\n",
      "1\n"
     ]
    }
   ],
   "source": [
    "for i in fib():\n",
    "    print(i)"
   ]
  },
  {
   "cell_type": "code",
   "execution_count": 35,
   "id": "2bed214f",
   "metadata": {},
   "outputs": [],
   "source": [
    "def fib():\n",
    "    print(\"before 0\")\n",
    "    yield 0\n",
    "    print(\"after 0, before 1\")\n",
    "    yield 1\n",
    "    print(\"after 1\")"
   ]
  },
  {
   "cell_type": "code",
   "execution_count": 36,
   "id": "e74de093",
   "metadata": {},
   "outputs": [
    {
     "name": "stdout",
     "output_type": "stream",
     "text": [
      "before 0\n",
      "0\n",
      "after 0, before 1\n",
      "1\n",
      "after 1\n"
     ]
    }
   ],
   "source": [
    "for i in fib():\n",
    "    print(i)"
   ]
  },
  {
   "cell_type": "code",
   "execution_count": 37,
   "id": "3941cd3a",
   "metadata": {},
   "outputs": [],
   "source": [
    "def fib():\n",
    "    print(\"before 0\")\n",
    "    yield 0\n",
    "    print(\"after 0, before return\")\n",
    "    return 2\n",
    "    yield 1\n",
    "    print(\"after 1\")"
   ]
  },
  {
   "cell_type": "code",
   "execution_count": 38,
   "id": "fe8500a7",
   "metadata": {},
   "outputs": [
    {
     "name": "stdout",
     "output_type": "stream",
     "text": [
      "before 0\n",
      "0\n",
      "after 0, before return\n"
     ]
    }
   ],
   "source": [
    "for i in fib():\n",
    "    print(i)"
   ]
  },
  {
   "cell_type": "code",
   "execution_count": 39,
   "id": "ba51f33b",
   "metadata": {},
   "outputs": [],
   "source": [
    "f = fib()"
   ]
  },
  {
   "cell_type": "code",
   "execution_count": 40,
   "id": "b8faf993",
   "metadata": {},
   "outputs": [
    {
     "name": "stdout",
     "output_type": "stream",
     "text": [
      "before 0\n"
     ]
    },
    {
     "data": {
      "text/plain": [
       "0"
      ]
     },
     "execution_count": 40,
     "metadata": {},
     "output_type": "execute_result"
    }
   ],
   "source": [
    "next(f)"
   ]
  },
  {
   "cell_type": "code",
   "execution_count": 41,
   "id": "5b183751",
   "metadata": {},
   "outputs": [
    {
     "name": "stdout",
     "output_type": "stream",
     "text": [
      "after 0, before return\n"
     ]
    },
    {
     "ename": "StopIteration",
     "evalue": "2",
     "output_type": "error",
     "traceback": [
      "\u001b[0;31m---------------------------------------------------------------------------\u001b[0m",
      "\u001b[0;31mStopIteration\u001b[0m                             Traceback (most recent call last)",
      "Cell \u001b[0;32mIn [41], line 1\u001b[0m\n\u001b[0;32m----> 1\u001b[0m \u001b[38;5;28;43mnext\u001b[39;49m\u001b[43m(\u001b[49m\u001b[43mf\u001b[49m\u001b[43m)\u001b[49m\n",
      "\u001b[0;31mStopIteration\u001b[0m: 2"
     ]
    }
   ],
   "source": [
    "next(f)"
   ]
  },
  {
   "cell_type": "code",
   "execution_count": 42,
   "id": "40bf0f93",
   "metadata": {},
   "outputs": [],
   "source": [
    "def fib():\n",
    "    #     yield 0\n",
    "    #     yield 1\n",
    "    a, b = 0, 1\n",
    "    yield a\n",
    "    yield b\n",
    "    while True:\n",
    "        a, b = b, a + b\n",
    "        yield b\n"
   ]
  },
  {
   "cell_type": "code",
   "execution_count": 43,
   "id": "92ce5394",
   "metadata": {},
   "outputs": [
    {
     "name": "stdout",
     "output_type": "stream",
     "text": [
      "0\n",
      "1\n",
      "1\n",
      "2\n",
      "3\n",
      "5\n",
      "8\n",
      "13\n",
      "21\n",
      "34\n"
     ]
    }
   ],
   "source": [
    "for i in fib():\n",
    "    print(i)\n",
    "    if i > 25:\n",
    "        break"
   ]
  },
  {
   "cell_type": "code",
   "execution_count": 44,
   "id": "1cc20010",
   "metadata": {},
   "outputs": [
    {
     "data": {
      "text/plain": [
       "[3919377061614427623668052985592742430389065042819420493170692719480242247392252775480208752179017313071371501566248877239254299341332131655760767122899079117071192049598939666199865808814650408864891823186505,\n",
       " 6341685300418834712936873743652479702279493077782703784593930186219165735154458712792650716708440646016361617676315200611489358319848695671037772054859840711063922357900430130265783715452104982240098275933872,\n",
       " 10261062362033262336604926729245222132668558120602124277764622905699407982546711488272859468887457959087733119242564077850743657661180827326798539177758919828135114407499369796465649524266755391104990099120377,\n",
       " 16602747662452097049541800472897701834948051198384828062358553091918573717701170201065510185595898605104094736918879278462233015981029522997836311232618760539199036765399799926731433239718860373345088375054249,\n",
       " 26863810024485359386146727202142923967616609318986952340123175997617981700247881689338369654483356564191827856161443356312976673642210350324634850410377680367334151172899169723197082763985615764450078474174626]"
      ]
     },
     "execution_count": 44,
     "metadata": {},
     "output_type": "execute_result"
    }
   ],
   "source": [
    "f = fib()\n",
    "[next(f) for i in range(1000)][-5:]"
   ]
  },
  {
   "cell_type": "code",
   "execution_count": 45,
   "id": "323dab90",
   "metadata": {},
   "outputs": [
    {
     "name": "stdout",
     "output_type": "stream",
     "text": [
      "1 2\n"
     ]
    }
   ],
   "source": [
    "a = 1\n",
    "b = 2\n",
    "\n",
    "c = a\n",
    "a = b\n",
    "b = c\n",
    "# t1 = (a, b)\n",
    "# b, a = t1\n",
    "a, b = b, a\n",
    "print(a, b)"
   ]
  },
  {
   "cell_type": "code",
   "execution_count": 46,
   "id": "366cd100",
   "metadata": {},
   "outputs": [],
   "source": [
    "def fib_r(n):\n",
    "    if n < 2:\n",
    "        return n\n",
    "    return fib_r(n - 1) + fib_r(n - 2)"
   ]
  },
  {
   "cell_type": "code",
   "execution_count": 47,
   "id": "e3825e74",
   "metadata": {},
   "outputs": [
    {
     "data": {
      "text/plain": [
       "5"
      ]
     },
     "execution_count": 47,
     "metadata": {},
     "output_type": "execute_result"
    }
   ],
   "source": [
    "fib_r(5)"
   ]
  },
  {
   "cell_type": "code",
   "execution_count": 48,
   "id": "d1312046",
   "metadata": {},
   "outputs": [
    {
     "data": {
      "text/plain": [
       "[0, 1, 1, 2, 3, 5, 8, 13, 21, 34]"
      ]
     },
     "execution_count": 48,
     "metadata": {},
     "output_type": "execute_result"
    }
   ],
   "source": [
    "[fib_r(i) for i in range(10)]"
   ]
  },
  {
   "cell_type": "code",
   "execution_count": 49,
   "id": "b840f660",
   "metadata": {},
   "outputs": [
    {
     "data": {
      "text/plain": [
       "<map at 0x107216380>"
      ]
     },
     "execution_count": 49,
     "metadata": {},
     "output_type": "execute_result"
    }
   ],
   "source": [
    "map(fib_r, range(10))"
   ]
  },
  {
   "cell_type": "code",
   "execution_count": 50,
   "id": "3ecfd8ac",
   "metadata": {},
   "outputs": [
    {
     "data": {
      "text/plain": [
       "[0, 1, 1, 2, 3, 5, 8, 13, 21, 34]"
      ]
     },
     "execution_count": 50,
     "metadata": {},
     "output_type": "execute_result"
    }
   ],
   "source": [
    "list(map(fib_r, range(10)))"
   ]
  },
  {
   "cell_type": "code",
   "execution_count": 51,
   "id": "70647488",
   "metadata": {},
   "outputs": [],
   "source": [
    "def squares(nums):\n",
    "    for n in nums:\n",
    "        yield n ** 2"
   ]
  },
  {
   "cell_type": "code",
   "execution_count": 52,
   "id": "42db69c6",
   "metadata": {},
   "outputs": [
    {
     "data": {
      "text/plain": [
       "<generator object squares at 0x10bcca180>"
      ]
     },
     "execution_count": 52,
     "metadata": {},
     "output_type": "execute_result"
    }
   ],
   "source": [
    "squares(range(10))"
   ]
  },
  {
   "cell_type": "code",
   "execution_count": 53,
   "id": "9e1b5917",
   "metadata": {},
   "outputs": [
    {
     "name": "stdout",
     "output_type": "stream",
     "text": [
      "0\n",
      "1\n",
      "4\n",
      "9\n",
      "16\n",
      "25\n",
      "36\n",
      "49\n",
      "64\n",
      "81\n"
     ]
    }
   ],
   "source": [
    "for n in squares(range(10)):\n",
    "    print(n)"
   ]
  },
  {
   "cell_type": "code",
   "execution_count": 54,
   "id": "bd87f016",
   "metadata": {},
   "outputs": [
    {
     "data": {
      "text/plain": [
       "[0, 1, 4, 9, 16, 25, 36, 49, 64, 81]"
      ]
     },
     "execution_count": 54,
     "metadata": {},
     "output_type": "execute_result"
    }
   ],
   "source": [
    "list(squares(range(10)))"
   ]
  },
  {
   "cell_type": "code",
   "execution_count": 55,
   "id": "3f6e341e",
   "metadata": {},
   "outputs": [],
   "source": [
    "from contextlib import contextmanager"
   ]
  },
  {
   "cell_type": "code",
   "execution_count": 56,
   "id": "8598dc79",
   "metadata": {},
   "outputs": [],
   "source": [
    "@contextmanager\n",
    "def session(param):\n",
    "    print(\"start session with param\", param)\n",
    "    yield (\"session\", param)\n",
    "    print(\"closing session\")"
   ]
  },
  {
   "cell_type": "code",
   "execution_count": 57,
   "id": "8b2461ed",
   "metadata": {},
   "outputs": [
    {
     "data": {
      "text/plain": [
       "<contextlib._GeneratorContextManager at 0x107216950>"
      ]
     },
     "execution_count": 57,
     "metadata": {},
     "output_type": "execute_result"
    }
   ],
   "source": [
    "session(\"qwe\")"
   ]
  },
  {
   "cell_type": "code",
   "execution_count": 58,
   "id": "9c980a81",
   "metadata": {},
   "outputs": [
    {
     "name": "stdout",
     "output_type": "stream",
     "text": [
      "- before context\n",
      "start session with param abc\n",
      "working with session\n",
      "finishing..\n",
      "closing session\n",
      "+ out of context\n"
     ]
    }
   ],
   "source": [
    "print(\"- before context\")\n",
    "with session(\"abc\"):\n",
    "    print(\"working with session\")\n",
    "    print(\"finishing..\")\n",
    "print(\"+ out of context\")"
   ]
  },
  {
   "cell_type": "code",
   "execution_count": 59,
   "id": "7d9ab8a1",
   "metadata": {},
   "outputs": [
    {
     "name": "stdout",
     "output_type": "stream",
     "text": [
      "- before context\n",
      "start session with param abc\n",
      "working with session ('session', 'abc')\n",
      "finishing.. ('session', 'abc')\n",
      "closing session\n",
      "+ out of context ('session', 'abc')\n"
     ]
    }
   ],
   "source": [
    "print(\"- before context\")\n",
    "with session(\"abc\") as sess:\n",
    "    print(\"working with session\", sess)\n",
    "    print(\"finishing..\", sess)\n",
    "print(\"+ out of context\", sess)"
   ]
  },
  {
   "cell_type": "code",
   "execution_count": 60,
   "id": "e6fa5ba5",
   "metadata": {},
   "outputs": [
    {
     "name": "stdout",
     "output_type": "stream",
     "text": [
      "before inst\n",
      " - before context\n",
      "start session with param qwerty\n",
      "s <contextlib._GeneratorContextManager object at 0x107216500>\n",
      "sess ('session', 'qwerty')\n",
      "closing session\n",
      " + after context\n"
     ]
    }
   ],
   "source": [
    "print(\"before inst\")\n",
    "s = session(\"qwerty\")\n",
    "print(\" - before context\")\n",
    "with s as sess:\n",
    "    print(\"s\", s)\n",
    "    print(\"sess\", sess)\n",
    "print(\" + after context\")"
   ]
  },
  {
   "cell_type": "code",
   "execution_count": 61,
   "id": "3f5b8ea4",
   "metadata": {},
   "outputs": [
    {
     "ename": "ZeroDivisionError",
     "evalue": "division by zero",
     "output_type": "error",
     "traceback": [
      "\u001b[0;31m---------------------------------------------------------------------------\u001b[0m",
      "\u001b[0;31mZeroDivisionError\u001b[0m                         Traceback (most recent call last)",
      "Cell \u001b[0;32mIn [61], line 1\u001b[0m\n\u001b[0;32m----> 1\u001b[0m \u001b[38;5;241;43m1\u001b[39;49m\u001b[38;5;241;43m/\u001b[39;49m\u001b[38;5;241;43m0\u001b[39;49m\n",
      "\u001b[0;31mZeroDivisionError\u001b[0m: division by zero"
     ]
    }
   ],
   "source": [
    "1/0"
   ]
  },
  {
   "cell_type": "code",
   "execution_count": 62,
   "id": "daf255e0",
   "metadata": {},
   "outputs": [
    {
     "ename": "ZeroDivisionError",
     "evalue": "division by zero",
     "output_type": "error",
     "traceback": [
      "\u001b[0;31m---------------------------------------------------------------------------\u001b[0m",
      "\u001b[0;31mZeroDivisionError\u001b[0m                         Traceback (most recent call last)",
      "Cell \u001b[0;32mIn [62], line 2\u001b[0m\n\u001b[1;32m      1\u001b[0m s \u001b[38;5;241m=\u001b[39m \u001b[38;5;241m.\u001b[39m\u001b[38;5;241m.\u001b[39m\u001b[38;5;241m.\u001b[39m\n\u001b[0;32m----> 2\u001b[0m \u001b[38;5;241;43m1\u001b[39;49m\u001b[38;5;241;43m/\u001b[39;49m\u001b[38;5;241;43m0\u001b[39;49m\n\u001b[1;32m      3\u001b[0m \u001b[38;5;28mprint\u001b[39m(\u001b[38;5;124m\"\u001b[39m\u001b[38;5;124mclose\u001b[39m\u001b[38;5;124m\"\u001b[39m)\n",
      "\u001b[0;31mZeroDivisionError\u001b[0m: division by zero"
     ]
    }
   ],
   "source": [
    "s = ...\n",
    "1/0\n",
    "print(\"close\")"
   ]
  },
  {
   "cell_type": "code",
   "execution_count": 63,
   "id": "b50ce7ae",
   "metadata": {},
   "outputs": [
    {
     "name": "stdout",
     "output_type": "stream",
     "text": [
      "start session with param example\n"
     ]
    },
    {
     "ename": "ZeroDivisionError",
     "evalue": "division by zero",
     "output_type": "error",
     "traceback": [
      "\u001b[0;31m---------------------------------------------------------------------------\u001b[0m",
      "\u001b[0;31mZeroDivisionError\u001b[0m                         Traceback (most recent call last)",
      "Cell \u001b[0;32mIn [63], line 2\u001b[0m\n\u001b[1;32m      1\u001b[0m \u001b[38;5;28;01mwith\u001b[39;00m session(\u001b[38;5;124m\"\u001b[39m\u001b[38;5;124mexample\u001b[39m\u001b[38;5;124m\"\u001b[39m):\n\u001b[0;32m----> 2\u001b[0m     \u001b[38;5;241;43m1\u001b[39;49m\u001b[38;5;241;43m/\u001b[39;49m\u001b[38;5;241;43m0\u001b[39;49m\n",
      "\u001b[0;31mZeroDivisionError\u001b[0m: division by zero"
     ]
    }
   ],
   "source": [
    "with session(\"example\"):\n",
    "    1/0"
   ]
  },
  {
   "cell_type": "code",
   "execution_count": 64,
   "id": "9354b557",
   "metadata": {},
   "outputs": [
    {
     "data": {
      "text/plain": [
       "[0,\n",
       " 1,\n",
       " 1,\n",
       " 2,\n",
       " 3,\n",
       " 5,\n",
       " 8,\n",
       " 13,\n",
       " 21,\n",
       " 34,\n",
       " 55,\n",
       " 89,\n",
       " 144,\n",
       " 233,\n",
       " 377,\n",
       " 610,\n",
       " 987,\n",
       " 1597,\n",
       " 2584,\n",
       " 4181,\n",
       " 6765,\n",
       " 10946,\n",
       " 17711,\n",
       " 28657,\n",
       " 46368,\n",
       " 75025,\n",
       " 121393,\n",
       " 196418,\n",
       " 317811,\n",
       " 514229,\n",
       " 832040,\n",
       " 1346269,\n",
       " 2178309,\n",
       " 3524578,\n",
       " 5702887]"
      ]
     },
     "execution_count": 64,
     "metadata": {},
     "output_type": "execute_result"
    }
   ],
   "source": [
    "[fib_r(i) for i in range(35)]"
   ]
  },
  {
   "cell_type": "code",
   "execution_count": 65,
   "id": "6116f244",
   "metadata": {},
   "outputs": [],
   "source": [
    "from functools import cache\n",
    "\n",
    "\n",
    "@cache\n",
    "def fib_r(n):\n",
    "    if n < 2:\n",
    "        return n\n",
    "    return fib_r(n - 1) + fib_r(n - 2)"
   ]
  },
  {
   "cell_type": "code",
   "execution_count": 66,
   "id": "6e2ca5f9",
   "metadata": {},
   "outputs": [
    {
     "data": {
      "text/plain": [
       "<functools._lru_cache_wrapper at 0x10bc635e0>"
      ]
     },
     "execution_count": 66,
     "metadata": {},
     "output_type": "execute_result"
    }
   ],
   "source": [
    "fib_r"
   ]
  },
  {
   "cell_type": "code",
   "execution_count": 67,
   "id": "9e65bf00",
   "metadata": {},
   "outputs": [
    {
     "data": {
      "text/plain": [
       "1"
      ]
     },
     "execution_count": 67,
     "metadata": {},
     "output_type": "execute_result"
    }
   ],
   "source": [
    "fib_r(2)"
   ]
  },
  {
   "cell_type": "code",
   "execution_count": 68,
   "id": "9bfc842d",
   "metadata": {},
   "outputs": [
    {
     "data": {
      "text/plain": [
       "5"
      ]
     },
     "execution_count": 68,
     "metadata": {},
     "output_type": "execute_result"
    }
   ],
   "source": [
    "fib_r(5)"
   ]
  },
  {
   "cell_type": "code",
   "execution_count": 69,
   "id": "3f1bb427",
   "metadata": {},
   "outputs": [
    {
     "data": {
      "text/plain": [
       "8"
      ]
     },
     "execution_count": 69,
     "metadata": {},
     "output_type": "execute_result"
    }
   ],
   "source": [
    "fib_r(6)"
   ]
  },
  {
   "cell_type": "code",
   "execution_count": 70,
   "id": "1264ec7a",
   "metadata": {},
   "outputs": [
    {
     "data": {
      "text/plain": [
       "[83621143489848422977, 135301852344706746049, 218922995834555169026]"
      ]
     },
     "execution_count": 70,
     "metadata": {},
     "output_type": "execute_result"
    }
   ],
   "source": [
    "[fib_r(i) for i in range(100)][-3:]"
   ]
  },
  {
   "cell_type": "code",
   "execution_count": 71,
   "id": "b8d4cd13",
   "metadata": {},
   "outputs": [
    {
     "data": {
      "text/plain": [
       "CacheInfo(hits=199, misses=100, maxsize=None, currsize=100)"
      ]
     },
     "execution_count": 71,
     "metadata": {},
     "output_type": "execute_result"
    }
   ],
   "source": [
    "fib_r.cache_info()"
   ]
  },
  {
   "cell_type": "code",
   "execution_count": 72,
   "id": "9f0036fa",
   "metadata": {},
   "outputs": [
    {
     "data": {
      "text/plain": [
       "12586269025"
      ]
     },
     "execution_count": 72,
     "metadata": {},
     "output_type": "execute_result"
    }
   ],
   "source": [
    "fib_r(50)"
   ]
  },
  {
   "cell_type": "code",
   "execution_count": 73,
   "id": "5aba89bf",
   "metadata": {},
   "outputs": [
    {
     "data": {
      "text/plain": [
       "CacheInfo(hits=200, misses=100, maxsize=None, currsize=100)"
      ]
     },
     "execution_count": 73,
     "metadata": {},
     "output_type": "execute_result"
    }
   ],
   "source": [
    "fib_r.cache_info()"
   ]
  },
  {
   "cell_type": "code",
   "execution_count": 74,
   "id": "a3086999",
   "metadata": {},
   "outputs": [
    {
     "data": {
      "text/plain": [
       "354224848179261915075"
      ]
     },
     "execution_count": 74,
     "metadata": {},
     "output_type": "execute_result"
    }
   ],
   "source": [
    "fib_r(100)"
   ]
  },
  {
   "cell_type": "code",
   "execution_count": 75,
   "id": "e9229c67",
   "metadata": {},
   "outputs": [
    {
     "data": {
      "text/plain": [
       "CacheInfo(hits=202, misses=101, maxsize=None, currsize=101)"
      ]
     },
     "execution_count": 75,
     "metadata": {},
     "output_type": "execute_result"
    }
   ],
   "source": [
    "fib_r.cache_info()"
   ]
  },
  {
   "cell_type": "code",
   "execution_count": 76,
   "id": "e924a3e8",
   "metadata": {},
   "outputs": [],
   "source": [
    "fib_r.cache_clear()"
   ]
  },
  {
   "cell_type": "code",
   "execution_count": 77,
   "id": "1a9823b9",
   "metadata": {},
   "outputs": [
    {
     "data": {
      "text/plain": [
       "CacheInfo(hits=0, misses=0, maxsize=None, currsize=0)"
      ]
     },
     "execution_count": 77,
     "metadata": {},
     "output_type": "execute_result"
    }
   ],
   "source": [
    "fib_r.cache_info()"
   ]
  },
  {
   "cell_type": "code",
   "execution_count": 78,
   "id": "19d20a8b",
   "metadata": {},
   "outputs": [],
   "source": [
    "def my_dec(func):\n",
    "    print(func)\n",
    "    return func"
   ]
  },
  {
   "cell_type": "code",
   "execution_count": 79,
   "id": "30141921",
   "metadata": {},
   "outputs": [
    {
     "name": "stdout",
     "output_type": "stream",
     "text": [
      "<function hello at 0x10bc97a30>\n"
     ]
    }
   ],
   "source": [
    "@my_dec\n",
    "def hello():\n",
    "    print('hello')"
   ]
  },
  {
   "cell_type": "code",
   "execution_count": 80,
   "id": "b13e0f88",
   "metadata": {},
   "outputs": [
    {
     "name": "stdout",
     "output_type": "stream",
     "text": [
      "hello\n"
     ]
    }
   ],
   "source": [
    "hello()"
   ]
  },
  {
   "cell_type": "code",
   "execution_count": 81,
   "id": "74ec867e",
   "metadata": {},
   "outputs": [
    {
     "name": "stdout",
     "output_type": "stream",
     "text": [
      "<function hello at 0x10bc97a30>\n"
     ]
    }
   ],
   "source": [
    "hello = my_dec(hello)"
   ]
  },
  {
   "cell_type": "code",
   "execution_count": 82,
   "id": "2ddff687",
   "metadata": {},
   "outputs": [],
   "source": [
    "def my_dec(func):\n",
    "    func.cache = {}\n",
    "    return func"
   ]
  },
  {
   "cell_type": "code",
   "execution_count": 83,
   "id": "e144e820",
   "metadata": {},
   "outputs": [],
   "source": [
    "getattr(hello, \"cache\", None)"
   ]
  },
  {
   "cell_type": "code",
   "execution_count": 84,
   "id": "56b9a97c",
   "metadata": {},
   "outputs": [],
   "source": [
    "@my_dec\n",
    "def hello2():\n",
    "    print(\"hello2\")"
   ]
  },
  {
   "cell_type": "code",
   "execution_count": 85,
   "id": "3c3d765a",
   "metadata": {},
   "outputs": [
    {
     "data": {
      "text/plain": [
       "{}"
      ]
     },
     "execution_count": 85,
     "metadata": {},
     "output_type": "execute_result"
    }
   ],
   "source": [
    "hello2.cache"
   ]
  },
  {
   "cell_type": "code",
   "execution_count": 86,
   "id": "7622d0e2",
   "metadata": {},
   "outputs": [],
   "source": [
    "hello = my_dec(hello)"
   ]
  },
  {
   "cell_type": "code",
   "execution_count": 87,
   "id": "1ce39638",
   "metadata": {},
   "outputs": [
    {
     "data": {
      "text/plain": [
       "{}"
      ]
     },
     "execution_count": 87,
     "metadata": {},
     "output_type": "execute_result"
    }
   ],
   "source": [
    "getattr(hello, \"cache\", None)"
   ]
  },
  {
   "cell_type": "code",
   "execution_count": 88,
   "id": "7b3623d8",
   "metadata": {},
   "outputs": [],
   "source": [
    "def cache_one(func):\n",
    "    func.cache = {}\n",
    "    \n",
    "    def wrapper(n):\n",
    "        if n in func.cache:\n",
    "            return func.cache[n]\n",
    "\n",
    "        result = func(n)\n",
    "        func.cache[n] = result\n",
    "        return result\n",
    "    \n",
    "    return wrapper"
   ]
  },
  {
   "cell_type": "code",
   "execution_count": 89,
   "id": "f7234f36",
   "metadata": {},
   "outputs": [
    {
     "name": "stdout",
     "output_type": "stream",
     "text": [
      "<function fib_r at 0x10bc940d0>\n"
     ]
    }
   ],
   "source": [
    "def fib_r(n):\n",
    "    if n < 2:\n",
    "        return n\n",
    "    return fib_r(n - 1) + fib_r(n - 2)\n",
    "\n",
    "print(fib_r)"
   ]
  },
  {
   "cell_type": "code",
   "execution_count": 90,
   "id": "b550a245",
   "metadata": {},
   "outputs": [
    {
     "name": "stdout",
     "output_type": "stream",
     "text": [
      "<function cache_one.<locals>.wrapper at 0x10bc96290>\n"
     ]
    }
   ],
   "source": [
    "@cache_one\n",
    "def fib_r(n):\n",
    "    if n < 2:\n",
    "        return n\n",
    "    return fib_r(n - 1) + fib_r(n - 2)\n",
    "\n",
    "print(fib_r)"
   ]
  },
  {
   "cell_type": "code",
   "execution_count": 91,
   "id": "a70eea81",
   "metadata": {},
   "outputs": [
    {
     "data": {
      "text/plain": [
       "1"
      ]
     },
     "execution_count": 91,
     "metadata": {},
     "output_type": "execute_result"
    }
   ],
   "source": [
    "fib_r(2)"
   ]
  },
  {
   "cell_type": "code",
   "execution_count": 92,
   "id": "f68d2faa",
   "metadata": {},
   "outputs": [
    {
     "data": {
      "text/plain": [
       "5"
      ]
     },
     "execution_count": 92,
     "metadata": {},
     "output_type": "execute_result"
    }
   ],
   "source": [
    "fib_r(5)"
   ]
  },
  {
   "cell_type": "code",
   "execution_count": 93,
   "id": "960dac8f",
   "metadata": {},
   "outputs": [
    {
     "data": {
      "text/plain": [
       "354224848179261915075"
      ]
     },
     "execution_count": 93,
     "metadata": {},
     "output_type": "execute_result"
    }
   ],
   "source": [
    "fib_r(100)"
   ]
  },
  {
   "cell_type": "code",
   "execution_count": 94,
   "id": "c87a3857",
   "metadata": {},
   "outputs": [],
   "source": [
    "from functools import wraps\n",
    "\n",
    "\n",
    "def cache_one(func):\n",
    "    func.cache = {}\n",
    "    \n",
    "    @wraps(func)\n",
    "    def wrapper(n):\n",
    "        if n in func.cache:\n",
    "            return func.cache[n]\n",
    "\n",
    "        result = func(n)\n",
    "        func.cache[n] = result\n",
    "        return result\n",
    "    \n",
    "    ## wraps does this:\n",
    "    # wrapper.__name__ = func.__name__\n",
    "    # wrapper.__doc__ = func.__doc__\n",
    "    # wrapper.__wrapped__ = func\n",
    "    \n",
    "    return wrapper"
   ]
  },
  {
   "cell_type": "code",
   "execution_count": 95,
   "id": "c59ce2a2",
   "metadata": {},
   "outputs": [
    {
     "name": "stdout",
     "output_type": "stream",
     "text": [
      "<function fib_r at 0x10bc97f40>\n"
     ]
    }
   ],
   "source": [
    "@cache_one\n",
    "def fib_r(n):\n",
    "    if n < 2:\n",
    "        return n\n",
    "    return fib_r(n - 1) + fib_r(n - 2)\n",
    "\n",
    "print(fib_r)"
   ]
  },
  {
   "cell_type": "code",
   "execution_count": 96,
   "id": "6ad239d1",
   "metadata": {},
   "outputs": [
    {
     "data": {
      "text/plain": [
       "'fib_r'"
      ]
     },
     "execution_count": 96,
     "metadata": {},
     "output_type": "execute_result"
    }
   ],
   "source": [
    "fib_r.__name__"
   ]
  },
  {
   "cell_type": "code",
   "execution_count": 97,
   "id": "d55e6b92",
   "metadata": {},
   "outputs": [
    {
     "data": {
      "text/plain": [
       "<function __main__.fib_r(n)>"
      ]
     },
     "execution_count": 97,
     "metadata": {},
     "output_type": "execute_result"
    }
   ],
   "source": [
    "fib_r"
   ]
  },
  {
   "cell_type": "code",
   "execution_count": 98,
   "id": "b0763bb7",
   "metadata": {},
   "outputs": [
    {
     "data": {
      "text/plain": [
       "354224848179261915075"
      ]
     },
     "execution_count": 98,
     "metadata": {},
     "output_type": "execute_result"
    }
   ],
   "source": [
    "fib_r(100)"
   ]
  },
  {
   "cell_type": "code",
   "execution_count": 99,
   "id": "376b202b",
   "metadata": {},
   "outputs": [
    {
     "data": {
      "text/plain": [
       "<function __main__.fib_r(n)>"
      ]
     },
     "execution_count": 99,
     "metadata": {},
     "output_type": "execute_result"
    }
   ],
   "source": [
    "fib_r.__wrapped__"
   ]
  },
  {
   "cell_type": "code",
   "execution_count": 100,
   "id": "712429d9",
   "metadata": {},
   "outputs": [
    {
     "data": {
      "text/plain": [
       "9227465"
      ]
     },
     "execution_count": 100,
     "metadata": {},
     "output_type": "execute_result"
    }
   ],
   "source": [
    "fib_r.__wrapped__(35)"
   ]
  },
  {
   "cell_type": "code",
   "execution_count": 101,
   "id": "7ed87fe0",
   "metadata": {},
   "outputs": [
    {
     "data": {
      "text/plain": [
       "{1: 1,\n",
       " 0: 0,\n",
       " 2: 1,\n",
       " 3: 2,\n",
       " 4: 3,\n",
       " 5: 5,\n",
       " 6: 8,\n",
       " 7: 13,\n",
       " 8: 21,\n",
       " 9: 34,\n",
       " 10: 55,\n",
       " 11: 89,\n",
       " 12: 144,\n",
       " 13: 233,\n",
       " 14: 377,\n",
       " 15: 610,\n",
       " 16: 987,\n",
       " 17: 1597,\n",
       " 18: 2584,\n",
       " 19: 4181,\n",
       " 20: 6765,\n",
       " 21: 10946,\n",
       " 22: 17711,\n",
       " 23: 28657,\n",
       " 24: 46368,\n",
       " 25: 75025,\n",
       " 26: 121393,\n",
       " 27: 196418,\n",
       " 28: 317811,\n",
       " 29: 514229,\n",
       " 30: 832040,\n",
       " 31: 1346269,\n",
       " 32: 2178309,\n",
       " 33: 3524578,\n",
       " 34: 5702887,\n",
       " 35: 9227465,\n",
       " 36: 14930352,\n",
       " 37: 24157817,\n",
       " 38: 39088169,\n",
       " 39: 63245986,\n",
       " 40: 102334155,\n",
       " 41: 165580141,\n",
       " 42: 267914296,\n",
       " 43: 433494437,\n",
       " 44: 701408733,\n",
       " 45: 1134903170,\n",
       " 46: 1836311903,\n",
       " 47: 2971215073,\n",
       " 48: 4807526976,\n",
       " 49: 7778742049,\n",
       " 50: 12586269025,\n",
       " 51: 20365011074,\n",
       " 52: 32951280099,\n",
       " 53: 53316291173,\n",
       " 54: 86267571272,\n",
       " 55: 139583862445,\n",
       " 56: 225851433717,\n",
       " 57: 365435296162,\n",
       " 58: 591286729879,\n",
       " 59: 956722026041,\n",
       " 60: 1548008755920,\n",
       " 61: 2504730781961,\n",
       " 62: 4052739537881,\n",
       " 63: 6557470319842,\n",
       " 64: 10610209857723,\n",
       " 65: 17167680177565,\n",
       " 66: 27777890035288,\n",
       " 67: 44945570212853,\n",
       " 68: 72723460248141,\n",
       " 69: 117669030460994,\n",
       " 70: 190392490709135,\n",
       " 71: 308061521170129,\n",
       " 72: 498454011879264,\n",
       " 73: 806515533049393,\n",
       " 74: 1304969544928657,\n",
       " 75: 2111485077978050,\n",
       " 76: 3416454622906707,\n",
       " 77: 5527939700884757,\n",
       " 78: 8944394323791464,\n",
       " 79: 14472334024676221,\n",
       " 80: 23416728348467685,\n",
       " 81: 37889062373143906,\n",
       " 82: 61305790721611591,\n",
       " 83: 99194853094755497,\n",
       " 84: 160500643816367088,\n",
       " 85: 259695496911122585,\n",
       " 86: 420196140727489673,\n",
       " 87: 679891637638612258,\n",
       " 88: 1100087778366101931,\n",
       " 89: 1779979416004714189,\n",
       " 90: 2880067194370816120,\n",
       " 91: 4660046610375530309,\n",
       " 92: 7540113804746346429,\n",
       " 93: 12200160415121876738,\n",
       " 94: 19740274219868223167,\n",
       " 95: 31940434634990099905,\n",
       " 96: 51680708854858323072,\n",
       " 97: 83621143489848422977,\n",
       " 98: 135301852344706746049,\n",
       " 99: 218922995834555169026,\n",
       " 100: 354224848179261915075}"
      ]
     },
     "execution_count": 101,
     "metadata": {},
     "output_type": "execute_result"
    }
   ],
   "source": [
    "fib_r.__wrapped__.cache"
   ]
  },
  {
   "cell_type": "code",
   "execution_count": 102,
   "id": "bc9586e6",
   "metadata": {},
   "outputs": [
    {
     "data": {
      "text/plain": [
       "102334155"
      ]
     },
     "execution_count": 102,
     "metadata": {},
     "output_type": "execute_result"
    }
   ],
   "source": [
    "fib_r.__wrapped__(40)"
   ]
  },
  {
   "cell_type": "code",
   "execution_count": 103,
   "id": "6d579077",
   "metadata": {},
   "outputs": [],
   "source": [
    "def dec1(func):\n",
    "    print(\"dec func 1\", func)\n",
    "    def func_wrap(a):\n",
    "        print(\"wrap 1\")\n",
    "        return func(a)\n",
    "    return func_wrap\n",
    "\n",
    "def dec2(func):\n",
    "    print(\"dec func 2\", func)\n",
    "    def func_wrap2(b):\n",
    "        print(\"wrap 2\")\n",
    "        return func(b)\n",
    "    return func_wrap2"
   ]
  },
  {
   "cell_type": "code",
   "execution_count": 104,
   "id": "92464b41",
   "metadata": {},
   "outputs": [
    {
     "name": "stdout",
     "output_type": "stream",
     "text": [
      "dec func 2 <function square at 0x10bc956c0>\n",
      "dec func 1 <function dec2.<locals>.func_wrap2 at 0x10bc94b80>\n"
     ]
    }
   ],
   "source": [
    "@dec1\n",
    "@dec2\n",
    "def square(n):\n",
    "    return n ** 2"
   ]
  },
  {
   "cell_type": "code",
   "execution_count": 105,
   "id": "136c3bb0",
   "metadata": {},
   "outputs": [
    {
     "data": {
      "text/plain": [
       "<function __main__.dec1.<locals>.func_wrap(a)>"
      ]
     },
     "execution_count": 105,
     "metadata": {},
     "output_type": "execute_result"
    }
   ],
   "source": [
    "square"
   ]
  },
  {
   "cell_type": "code",
   "execution_count": 106,
   "id": "8f2463d2",
   "metadata": {},
   "outputs": [
    {
     "name": "stdout",
     "output_type": "stream",
     "text": [
      "wrap 1\n",
      "wrap 2\n"
     ]
    },
    {
     "data": {
      "text/plain": [
       "9"
      ]
     },
     "execution_count": 106,
     "metadata": {},
     "output_type": "execute_result"
    }
   ],
   "source": [
    "square(3)"
   ]
  },
  {
   "cell_type": "code",
   "execution_count": 107,
   "id": "72f85693",
   "metadata": {},
   "outputs": [],
   "source": [
    "@cache_one\n",
    "def cube(a):\n",
    "    return a ** 3"
   ]
  },
  {
   "cell_type": "code",
   "execution_count": 108,
   "id": "b3dffa3f",
   "metadata": {},
   "outputs": [
    {
     "data": {
      "text/plain": [
       "1"
      ]
     },
     "execution_count": 108,
     "metadata": {},
     "output_type": "execute_result"
    }
   ],
   "source": [
    "cube(a)"
   ]
  },
  {
   "cell_type": "code",
   "execution_count": 109,
   "id": "b12216d6",
   "metadata": {},
   "outputs": [
    {
     "data": {
      "text/plain": [
       "8"
      ]
     },
     "execution_count": 109,
     "metadata": {},
     "output_type": "execute_result"
    }
   ],
   "source": [
    "cube(2)"
   ]
  },
  {
   "cell_type": "code",
   "execution_count": 110,
   "id": "2277cbdc",
   "metadata": {},
   "outputs": [],
   "source": [
    "@cache\n",
    "def power(num, p):\n",
    "    return num ** p"
   ]
  },
  {
   "cell_type": "code",
   "execution_count": 111,
   "id": "00e3ea47",
   "metadata": {},
   "outputs": [
    {
     "data": {
      "text/plain": [
       "81"
      ]
     },
     "execution_count": 111,
     "metadata": {},
     "output_type": "execute_result"
    }
   ],
   "source": [
    "power(3, 4)"
   ]
  },
  {
   "cell_type": "code",
   "execution_count": 112,
   "id": "6ec04e53",
   "metadata": {},
   "outputs": [
    {
     "data": {
      "text/plain": [
       "CacheInfo(hits=0, misses=1, maxsize=None, currsize=1)"
      ]
     },
     "execution_count": 112,
     "metadata": {},
     "output_type": "execute_result"
    }
   ],
   "source": [
    "power.cache_info()"
   ]
  },
  {
   "cell_type": "code",
   "execution_count": 113,
   "id": "190e9391",
   "metadata": {},
   "outputs": [],
   "source": [
    "def squares(*nums):\n",
    "    print(nums)\n",
    "    return [i ** 2 for i in nums]"
   ]
  },
  {
   "cell_type": "code",
   "execution_count": 114,
   "id": "4dca934d",
   "metadata": {},
   "outputs": [
    {
     "name": "stdout",
     "output_type": "stream",
     "text": [
      "(1, 2, 3)\n"
     ]
    },
    {
     "data": {
      "text/plain": [
       "[1, 4, 9]"
      ]
     },
     "execution_count": 114,
     "metadata": {},
     "output_type": "execute_result"
    }
   ],
   "source": [
    "squares(1, 2, 3)"
   ]
  },
  {
   "cell_type": "code",
   "execution_count": 115,
   "id": "7e525fa2",
   "metadata": {},
   "outputs": [
    {
     "name": "stdout",
     "output_type": "stream",
     "text": [
      "()\n"
     ]
    },
    {
     "data": {
      "text/plain": [
       "[]"
      ]
     },
     "execution_count": 115,
     "metadata": {},
     "output_type": "execute_result"
    }
   ],
   "source": [
    "squares()"
   ]
  },
  {
   "cell_type": "code",
   "execution_count": 116,
   "id": "f1c4099f",
   "metadata": {},
   "outputs": [
    {
     "name": "stdout",
     "output_type": "stream",
     "text": [
      "(1, 2, 3, 4, 5, 6)\n"
     ]
    },
    {
     "data": {
      "text/plain": [
       "[1, 4, 9, 16, 25, 36]"
      ]
     },
     "execution_count": 116,
     "metadata": {},
     "output_type": "execute_result"
    }
   ],
   "source": [
    "s = squares(1,2,3,4,5,6)\n",
    "s"
   ]
  },
  {
   "cell_type": "code",
   "execution_count": 117,
   "id": "02d714bb",
   "metadata": {},
   "outputs": [
    {
     "name": "stdout",
     "output_type": "stream",
     "text": [
      "([1, 4, 9, 16, 25, 36],)\n"
     ]
    },
    {
     "ename": "TypeError",
     "evalue": "unsupported operand type(s) for ** or pow(): 'list' and 'int'",
     "output_type": "error",
     "traceback": [
      "\u001b[0;31m---------------------------------------------------------------------------\u001b[0m",
      "\u001b[0;31mTypeError\u001b[0m                                 Traceback (most recent call last)",
      "Cell \u001b[0;32mIn [117], line 1\u001b[0m\n\u001b[0;32m----> 1\u001b[0m \u001b[43msquares\u001b[49m\u001b[43m(\u001b[49m\u001b[43ms\u001b[49m\u001b[43m)\u001b[49m\n",
      "Cell \u001b[0;32mIn [113], line 3\u001b[0m, in \u001b[0;36msquares\u001b[0;34m(*nums)\u001b[0m\n\u001b[1;32m      1\u001b[0m \u001b[38;5;28;01mdef\u001b[39;00m \u001b[38;5;21msquares\u001b[39m(\u001b[38;5;241m*\u001b[39mnums):\n\u001b[1;32m      2\u001b[0m     \u001b[38;5;28mprint\u001b[39m(nums)\n\u001b[0;32m----> 3\u001b[0m     \u001b[38;5;28;01mreturn\u001b[39;00m [i \u001b[38;5;241m*\u001b[39m\u001b[38;5;241m*\u001b[39m \u001b[38;5;241m2\u001b[39m \u001b[38;5;28;01mfor\u001b[39;00m i \u001b[38;5;129;01min\u001b[39;00m nums]\n",
      "Cell \u001b[0;32mIn [113], line 3\u001b[0m, in \u001b[0;36m<listcomp>\u001b[0;34m(.0)\u001b[0m\n\u001b[1;32m      1\u001b[0m \u001b[38;5;28;01mdef\u001b[39;00m \u001b[38;5;21msquares\u001b[39m(\u001b[38;5;241m*\u001b[39mnums):\n\u001b[1;32m      2\u001b[0m     \u001b[38;5;28mprint\u001b[39m(nums)\n\u001b[0;32m----> 3\u001b[0m     \u001b[38;5;28;01mreturn\u001b[39;00m [\u001b[43mi\u001b[49m\u001b[43m \u001b[49m\u001b[38;5;241;43m*\u001b[39;49m\u001b[38;5;241;43m*\u001b[39;49m\u001b[43m \u001b[49m\u001b[38;5;241;43m2\u001b[39;49m \u001b[38;5;28;01mfor\u001b[39;00m i \u001b[38;5;129;01min\u001b[39;00m nums]\n",
      "\u001b[0;31mTypeError\u001b[0m: unsupported operand type(s) for ** or pow(): 'list' and 'int'"
     ]
    }
   ],
   "source": [
    "squares(s)"
   ]
  },
  {
   "cell_type": "code",
   "execution_count": 118,
   "id": "71b57b7e",
   "metadata": {},
   "outputs": [
    {
     "name": "stdout",
     "output_type": "stream",
     "text": [
      "(1, 4, 9, 16, 25, 36)\n"
     ]
    },
    {
     "data": {
      "text/plain": [
       "[1, 16, 81, 256, 625, 1296]"
      ]
     },
     "execution_count": 118,
     "metadata": {},
     "output_type": "execute_result"
    }
   ],
   "source": [
    "squares(*s)"
   ]
  },
  {
   "cell_type": "code",
   "execution_count": 119,
   "id": "bdfeb38a",
   "metadata": {},
   "outputs": [
    {
     "data": {
      "text/plain": [
       "8"
      ]
     },
     "execution_count": 119,
     "metadata": {},
     "output_type": "execute_result"
    }
   ],
   "source": [
    "power(num=2, p=3)"
   ]
  },
  {
   "cell_type": "code",
   "execution_count": 120,
   "id": "56b3af69",
   "metadata": {},
   "outputs": [
    {
     "data": {
      "text/plain": [
       "8"
      ]
     },
     "execution_count": 120,
     "metadata": {},
     "output_type": "execute_result"
    }
   ],
   "source": [
    "power(p=3, num=2)"
   ]
  },
  {
   "cell_type": "code",
   "execution_count": 121,
   "id": "ae94c8f8",
   "metadata": {},
   "outputs": [
    {
     "data": {
      "text/plain": [
       "9"
      ]
     },
     "execution_count": 121,
     "metadata": {},
     "output_type": "execute_result"
    }
   ],
   "source": [
    "power(3, 2)"
   ]
  },
  {
   "cell_type": "code",
   "execution_count": 122,
   "id": "2f740308",
   "metadata": {},
   "outputs": [],
   "source": [
    "def show_kwargs(**kwargs):\n",
    "    print(kwargs)"
   ]
  },
  {
   "cell_type": "code",
   "execution_count": 123,
   "id": "69760dcd",
   "metadata": {},
   "outputs": [
    {
     "name": "stdout",
     "output_type": "stream",
     "text": [
      "{}\n"
     ]
    }
   ],
   "source": [
    "show_kwargs()"
   ]
  },
  {
   "cell_type": "code",
   "execution_count": 124,
   "id": "8d2d8ff0",
   "metadata": {},
   "outputs": [
    {
     "name": "stdout",
     "output_type": "stream",
     "text": [
      "{'spam': 'eggs', 'foo': 'bar', 'baz': 123}\n"
     ]
    }
   ],
   "source": [
    "show_kwargs(spam=\"eggs\", foo=\"bar\", baz=123)"
   ]
  },
  {
   "cell_type": "code",
   "execution_count": 125,
   "id": "9df10a8b",
   "metadata": {},
   "outputs": [],
   "source": [
    "def func_any(*args, **kwargs):\n",
    "    print(args)\n",
    "    print(kwargs)"
   ]
  },
  {
   "cell_type": "code",
   "execution_count": 126,
   "id": "d379a1fb",
   "metadata": {},
   "outputs": [
    {
     "name": "stdout",
     "output_type": "stream",
     "text": [
      "(1, 2, 3, 'spam')\n",
      "{'spam': 'eggs', 'foo': 'bar'}\n"
     ]
    }
   ],
   "source": [
    "func_any(1, 2, 3, \"spam\", spam=\"eggs\", foo=\"bar\")"
   ]
  },
  {
   "cell_type": "code",
   "execution_count": 127,
   "id": "f8248b9e",
   "metadata": {},
   "outputs": [
    {
     "name": "stdout",
     "output_type": "stream",
     "text": [
      "()\n",
      "{}\n"
     ]
    }
   ],
   "source": [
    "func_any()"
   ]
  },
  {
   "cell_type": "code",
   "execution_count": 128,
   "id": "9e9729f0",
   "metadata": {},
   "outputs": [
    {
     "name": "stdout",
     "output_type": "stream",
     "text": [
      "(2, 3)\n",
      "{}\n"
     ]
    }
   ],
   "source": [
    "func_any(2, 3)"
   ]
  },
  {
   "cell_type": "code",
   "execution_count": 129,
   "id": "e5e8c226",
   "metadata": {},
   "outputs": [
    {
     "name": "stdout",
     "output_type": "stream",
     "text": [
      "()\n",
      "{'name': 'OTUS'}\n"
     ]
    }
   ],
   "source": [
    "func_any(name=\"OTUS\")"
   ]
  },
  {
   "cell_type": "code",
   "execution_count": 130,
   "id": "a122908d",
   "metadata": {},
   "outputs": [],
   "source": [
    "def func(a, b, *args, **kwargs):\n",
    "    print(\"a, b\", a, b)\n",
    "    print(args)\n",
    "    print(kwargs)"
   ]
  },
  {
   "cell_type": "code",
   "execution_count": 131,
   "id": "4f90da26",
   "metadata": {},
   "outputs": [
    {
     "name": "stdout",
     "output_type": "stream",
     "text": [
      "a, b aaaa bbbbbb\n",
      "(233, 'wefw')\n",
      "{'name': 'Suren'}\n"
     ]
    }
   ],
   "source": [
    "func(\"aaaa\", \"bbbbbb\", 233, \"wefw\", name=\"Suren\")"
   ]
  },
  {
   "cell_type": "code",
   "execution_count": 132,
   "id": "2d292d15",
   "metadata": {},
   "outputs": [
    {
     "name": "stdout",
     "output_type": "stream",
     "text": [
      "a, b aa bbb\n",
      "()\n",
      "{'c': 'cccc', 'd': 'ddddd'}\n"
     ]
    }
   ],
   "source": [
    "func(a=\"aa\", b=\"bbb\", c=\"cccc\", d=\"ddddd\")"
   ]
  },
  {
   "cell_type": "code",
   "execution_count": 133,
   "id": "f8be7d07",
   "metadata": {},
   "outputs": [
    {
     "name": "stdout",
     "output_type": "stream",
     "text": [
      "a, b aa bbb\n",
      "()\n",
      "{'c': 'cccc', 'd': 'ddddd'}\n"
     ]
    }
   ],
   "source": [
    "func(c=\"cccc\", d=\"ddddd\", b=\"bbb\", a=\"aa\")"
   ]
  },
  {
   "cell_type": "code",
   "execution_count": 134,
   "id": "8e45ee60",
   "metadata": {},
   "outputs": [],
   "source": [
    "def func(b=0, **kwargs):\n",
    "    print(\"b\", b)\n",
    "    print(kwargs)"
   ]
  },
  {
   "cell_type": "code",
   "execution_count": 135,
   "id": "d86112d5",
   "metadata": {},
   "outputs": [
    {
     "name": "stdout",
     "output_type": "stream",
     "text": [
      "b 0\n",
      "{}\n"
     ]
    }
   ],
   "source": [
    "func()"
   ]
  },
  {
   "cell_type": "code",
   "execution_count": 136,
   "id": "701cf7d3",
   "metadata": {},
   "outputs": [
    {
     "name": "stdout",
     "output_type": "stream",
     "text": [
      "b 0\n",
      "{'a': 'abc'}\n"
     ]
    }
   ],
   "source": [
    "func(a=\"abc\")"
   ]
  },
  {
   "cell_type": "code",
   "execution_count": 137,
   "id": "4c996279",
   "metadata": {},
   "outputs": [],
   "source": [
    "def log_func(func):\n",
    "    \n",
    "    @wraps(func)\n",
    "    def wrapper(*a, **kw):\n",
    "        print(\"call func\", func.__name__, \n",
    "              \"with args\", a, \"and kwargs\", kw)\n",
    "        result = func(*a, **kw)\n",
    "        print(\"result\", result)\n",
    "        return result\n",
    "    \n",
    "    return wrapper"
   ]
  },
  {
   "cell_type": "code",
   "execution_count": 138,
   "id": "df4b6eb4",
   "metadata": {},
   "outputs": [],
   "source": [
    "@log_func\n",
    "def power(num, p=2):\n",
    "    return num ** p"
   ]
  },
  {
   "cell_type": "code",
   "execution_count": 139,
   "id": "4f5e6e29",
   "metadata": {},
   "outputs": [
    {
     "name": "stdout",
     "output_type": "stream",
     "text": [
      "call func power with args (2,) and kwargs {}\n",
      "result 4\n"
     ]
    },
    {
     "data": {
      "text/plain": [
       "4"
      ]
     },
     "execution_count": 139,
     "metadata": {},
     "output_type": "execute_result"
    }
   ],
   "source": [
    "power(2)"
   ]
  },
  {
   "cell_type": "code",
   "execution_count": 140,
   "id": "3d846ec3",
   "metadata": {},
   "outputs": [
    {
     "name": "stdout",
     "output_type": "stream",
     "text": [
      "call func power with args (3,) and kwargs {}\n",
      "result 9\n"
     ]
    },
    {
     "data": {
      "text/plain": [
       "9"
      ]
     },
     "execution_count": 140,
     "metadata": {},
     "output_type": "execute_result"
    }
   ],
   "source": [
    "power(3)"
   ]
  },
  {
   "cell_type": "code",
   "execution_count": 141,
   "id": "0e6dc87a",
   "metadata": {},
   "outputs": [
    {
     "name": "stdout",
     "output_type": "stream",
     "text": [
      "call func power with args (2, 4) and kwargs {}\n",
      "result 16\n"
     ]
    },
    {
     "data": {
      "text/plain": [
       "16"
      ]
     },
     "execution_count": 141,
     "metadata": {},
     "output_type": "execute_result"
    }
   ],
   "source": [
    "power(2, 4)"
   ]
  },
  {
   "cell_type": "code",
   "execution_count": 142,
   "id": "01bac9ec",
   "metadata": {},
   "outputs": [
    {
     "name": "stdout",
     "output_type": "stream",
     "text": [
      "call func power with args () and kwargs {'num': 3}\n",
      "result 9\n"
     ]
    },
    {
     "data": {
      "text/plain": [
       "9"
      ]
     },
     "execution_count": 142,
     "metadata": {},
     "output_type": "execute_result"
    }
   ],
   "source": [
    "power(num=3)"
   ]
  },
  {
   "cell_type": "code",
   "execution_count": 143,
   "id": "5d9f7bea",
   "metadata": {},
   "outputs": [
    {
     "name": "stdout",
     "output_type": "stream",
     "text": [
      "call func power with args () and kwargs {'p': 3, 'num': 4}\n",
      "result 64\n"
     ]
    },
    {
     "data": {
      "text/plain": [
       "64"
      ]
     },
     "execution_count": 143,
     "metadata": {},
     "output_type": "execute_result"
    }
   ],
   "source": [
    "power(p=3, num=4)"
   ]
  },
  {
   "cell_type": "code",
   "execution_count": 144,
   "id": "e29f57da",
   "metadata": {},
   "outputs": [
    {
     "name": "stdout",
     "output_type": "stream",
     "text": [
      "call func power with args (2,) and kwargs {'p': 4}\n",
      "result 16\n"
     ]
    },
    {
     "data": {
      "text/plain": [
       "16"
      ]
     },
     "execution_count": 144,
     "metadata": {},
     "output_type": "execute_result"
    }
   ],
   "source": [
    "power(2, p=4)"
   ]
  },
  {
   "cell_type": "code",
   "execution_count": 145,
   "id": "c5e81f1a",
   "metadata": {},
   "outputs": [
    {
     "name": "stdout",
     "output_type": "stream",
     "text": [
      "2\n"
     ]
    }
   ],
   "source": [
    "print(2)"
   ]
  },
  {
   "cell_type": "code",
   "execution_count": 146,
   "id": "707422ea",
   "metadata": {},
   "outputs": [],
   "source": [
    "def show_var(a):\n",
    "    print(a)\n",
    "    print(type(a))"
   ]
  },
  {
   "cell_type": "code",
   "execution_count": 147,
   "id": "717b02dc",
   "metadata": {},
   "outputs": [
    {
     "name": "stdout",
     "output_type": "stream",
     "text": [
      "1\n",
      "<class 'int'>\n"
     ]
    }
   ],
   "source": [
    "show_var(1)"
   ]
  },
  {
   "cell_type": "code",
   "execution_count": 148,
   "id": "f3d44ce9",
   "metadata": {},
   "outputs": [
    {
     "name": "stdout",
     "output_type": "stream",
     "text": [
      "2\n",
      "<class 'int'>\n"
     ]
    }
   ],
   "source": [
    "show_var(2)"
   ]
  },
  {
   "cell_type": "code",
   "execution_count": 149,
   "id": "9d7c90c8",
   "metadata": {},
   "outputs": [
    {
     "name": "stdout",
     "output_type": "stream",
     "text": [
      "100\n",
      "<class 'int'>\n"
     ]
    }
   ],
   "source": [
    "show_var(100)"
   ]
  },
  {
   "cell_type": "code",
   "execution_count": 150,
   "id": "ebbdfafb",
   "metadata": {},
   "outputs": [
    {
     "name": "stdout",
     "output_type": "stream",
     "text": [
      "[]\n",
      "<class 'list'>\n"
     ]
    }
   ],
   "source": [
    "show_var([])"
   ]
  },
  {
   "cell_type": "code",
   "execution_count": 151,
   "id": "351d179f",
   "metadata": {},
   "outputs": [
    {
     "name": "stdout",
     "output_type": "stream",
     "text": [
      "{}\n",
      "<class 'dict'>\n"
     ]
    }
   ],
   "source": [
    "show_var({})"
   ]
  },
  {
   "cell_type": "code",
   "execution_count": 152,
   "id": "72c15fe0",
   "metadata": {},
   "outputs": [
    {
     "name": "stdout",
     "output_type": "stream",
     "text": [
      "()\n",
      "<class 'tuple'>\n"
     ]
    }
   ],
   "source": [
    "show_var(())"
   ]
  },
  {
   "cell_type": "code",
   "execution_count": 153,
   "id": "a1421c40",
   "metadata": {},
   "outputs": [
    {
     "name": "stdout",
     "output_type": "stream",
     "text": [
      "[1, 2]\n",
      "<class 'list'>\n"
     ]
    }
   ],
   "source": [
    "show_var([1, 2])"
   ]
  },
  {
   "cell_type": "code",
   "execution_count": 154,
   "id": "d099e48c",
   "metadata": {},
   "outputs": [
    {
     "name": "stdout",
     "output_type": "stream",
     "text": [
      "(1, 2)\n",
      "<class 'tuple'>\n"
     ]
    }
   ],
   "source": [
    "show_var((1, 2))"
   ]
  },
  {
   "cell_type": "code",
   "execution_count": 155,
   "id": "26ad8308",
   "metadata": {},
   "outputs": [
    {
     "name": "stdout",
     "output_type": "stream",
     "text": [
      "1\n",
      "<class 'int'>\n"
     ]
    }
   ],
   "source": [
    "show_var((1))"
   ]
  },
  {
   "cell_type": "code",
   "execution_count": 156,
   "id": "c6610b48",
   "metadata": {},
   "outputs": [
    {
     "name": "stdout",
     "output_type": "stream",
     "text": [
      "12\n",
      "<class 'int'>\n"
     ]
    }
   ],
   "source": [
    "show_var(4 * (1 + 2))"
   ]
  },
  {
   "cell_type": "code",
   "execution_count": 157,
   "id": "6bbba37b",
   "metadata": {},
   "outputs": [
    {
     "name": "stdout",
     "output_type": "stream",
     "text": [
      "3\n",
      "<class 'int'>\n"
     ]
    }
   ],
   "source": [
    "show_var((1 + 2))"
   ]
  },
  {
   "cell_type": "code",
   "execution_count": 158,
   "id": "525128a3",
   "metadata": {},
   "outputs": [
    {
     "name": "stdout",
     "output_type": "stream",
     "text": [
      "2\n",
      "<class 'int'>\n"
     ]
    }
   ],
   "source": [
    "show_var((2))"
   ]
  },
  {
   "cell_type": "code",
   "execution_count": 159,
   "id": "594822b7",
   "metadata": {},
   "outputs": [
    {
     "name": "stdout",
     "output_type": "stream",
     "text": [
      "(2,)\n",
      "<class 'tuple'>\n"
     ]
    }
   ],
   "source": [
    "show_var((2,))"
   ]
  },
  {
   "cell_type": "code",
   "execution_count": null,
   "id": "33504f17",
   "metadata": {},
   "outputs": [],
   "source": []
  }
 ],
 "metadata": {
  "kernelspec": {
   "display_name": "Python 3 (ipykernel)",
   "language": "python",
   "name": "python3"
  },
  "language_info": {
   "codemirror_mode": {
    "name": "ipython",
    "version": 3
   },
   "file_extension": ".py",
   "mimetype": "text/x-python",
   "name": "python",
   "nbconvert_exporter": "python",
   "pygments_lexer": "ipython3",
   "version": "3.10.4"
  }
 },
 "nbformat": 4,
 "nbformat_minor": 5
}
