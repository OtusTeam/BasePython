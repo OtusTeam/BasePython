{
 "cells": [
  {
   "cell_type": "code",
   "execution_count": 1,
   "id": "c42e7637-74b4-46a7-992d-f92a834833ec",
   "metadata": {},
   "outputs": [],
   "source": [
    "nums = [1, 2, 3, 4]"
   ]
  },
  {
   "cell_type": "code",
   "execution_count": 2,
   "id": "d3bf4184-7eee-40cd-8be3-be801deca11a",
   "metadata": {},
   "outputs": [
    {
     "data": {
      "text/plain": [
       "[1, 2, 3, 4]"
      ]
     },
     "execution_count": 2,
     "metadata": {},
     "output_type": "execute_result"
    }
   ],
   "source": [
    "nums"
   ]
  },
  {
   "cell_type": "code",
   "execution_count": 3,
   "id": "8c98b2b4-7727-42d3-ab74-3d333fa50fd6",
   "metadata": {},
   "outputs": [],
   "source": [
    "nums.append(5)"
   ]
  },
  {
   "cell_type": "code",
   "execution_count": 4,
   "id": "be338f25-0356-45f1-a71c-cc9a421619b1",
   "metadata": {},
   "outputs": [
    {
     "data": {
      "text/plain": [
       "[1, 2, 3, 4, 5]"
      ]
     },
     "execution_count": 4,
     "metadata": {},
     "output_type": "execute_result"
    }
   ],
   "source": [
    "nums"
   ]
  },
  {
   "cell_type": "code",
   "execution_count": 5,
   "id": "7daa09ee-108a-4e6a-b722-03d956e0eac0",
   "metadata": {},
   "outputs": [],
   "source": [
    "nums.append(1)"
   ]
  },
  {
   "cell_type": "code",
   "execution_count": 6,
   "id": "3c1d7192-234f-4fe9-bed6-57a8a0cff205",
   "metadata": {},
   "outputs": [
    {
     "data": {
      "text/plain": [
       "[1, 2, 3, 4, 5, 1]"
      ]
     },
     "execution_count": 6,
     "metadata": {},
     "output_type": "execute_result"
    }
   ],
   "source": [
    "nums"
   ]
  },
  {
   "cell_type": "code",
   "execution_count": 7,
   "id": "1913ec60-5992-4cbb-8bc8-100bd99de34b",
   "metadata": {},
   "outputs": [
    {
     "name": "stdout",
     "output_type": "stream",
     "text": [
      "[1, 2, 3, 4, 5, 1]\n"
     ]
    }
   ],
   "source": [
    "print(nums)"
   ]
  },
  {
   "cell_type": "code",
   "execution_count": 8,
   "id": "c992edc5-641f-43c4-a3e8-5cfd5ae10785",
   "metadata": {},
   "outputs": [
    {
     "name": "stdout",
     "output_type": "stream",
     "text": [
      "123\n"
     ]
    }
   ],
   "source": [
    "print(\"123\")"
   ]
  },
  {
   "cell_type": "code",
   "execution_count": 9,
   "id": "cceeb937-dd33-4776-bd6b-e878e48e0ccb",
   "metadata": {},
   "outputs": [
    {
     "data": {
      "text/plain": [
       "'123'"
      ]
     },
     "execution_count": 9,
     "metadata": {},
     "output_type": "execute_result"
    }
   ],
   "source": [
    "\"123\""
   ]
  },
  {
   "cell_type": "code",
   "execution_count": 10,
   "id": "6dbdb7cf-3211-4acd-aa56-1983c1739024",
   "metadata": {},
   "outputs": [],
   "source": [
    "data = {'foo': 'bar'}"
   ]
  },
  {
   "cell_type": "code",
   "execution_count": 11,
   "id": "3b7cb7a4-e834-40ab-a09f-6f8278037ca5",
   "metadata": {},
   "outputs": [
    {
     "data": {
      "text/plain": [
       "{'foo': 'bar'}"
      ]
     },
     "execution_count": 11,
     "metadata": {},
     "output_type": "execute_result"
    }
   ],
   "source": [
    "data"
   ]
  },
  {
   "cell_type": "code",
   "execution_count": 12,
   "id": "fa9c5386-fc3c-493a-a8c8-4dc84c23843f",
   "metadata": {},
   "outputs": [
    {
     "data": {
      "text/plain": [
       "{}"
      ]
     },
     "execution_count": 12,
     "metadata": {},
     "output_type": "execute_result"
    }
   ],
   "source": [
    "{}"
   ]
  },
  {
   "cell_type": "code",
   "execution_count": 13,
   "id": "cbd8f897-2074-45d1-a586-e178ae81bedb",
   "metadata": {},
   "outputs": [],
   "source": [
    "data = {\n",
    "    'fizz': 'buzz',\n",
    "    'spam': 'eggs',\n",
    "}"
   ]
  },
  {
   "cell_type": "code",
   "execution_count": 14,
   "id": "559c0c73-2023-45c7-b983-167d53fa4c6f",
   "metadata": {},
   "outputs": [
    {
     "data": {
      "text/plain": [
       "{'fizz': 'buzz', 'spam': 'eggs'}"
      ]
     },
     "execution_count": 14,
     "metadata": {},
     "output_type": "execute_result"
    }
   ],
   "source": [
    "data"
   ]
  },
  {
   "cell_type": "code",
   "execution_count": 15,
   "id": "37804dd9-64d0-4055-b6a6-a46e55461dae",
   "metadata": {},
   "outputs": [],
   "source": [
    "data['foo'] = 'bar'"
   ]
  },
  {
   "cell_type": "code",
   "execution_count": 16,
   "id": "72c0c4ab-6548-42a5-9025-7ddb9669b4ff",
   "metadata": {},
   "outputs": [
    {
     "data": {
      "text/plain": [
       "{'fizz': 'buzz', 'spam': 'eggs', 'foo': 'bar'}"
      ]
     },
     "execution_count": 16,
     "metadata": {},
     "output_type": "execute_result"
    }
   ],
   "source": [
    "data"
   ]
  },
  {
   "cell_type": "code",
   "execution_count": 17,
   "id": "71227126-78fd-46a3-86dd-17c4d89a8141",
   "metadata": {},
   "outputs": [],
   "source": [
    "info = {\n",
    "    'first_name': 'John',\n",
    "    'last_name': 'Smith',\n",
    "}\n",
    "data.update(info)"
   ]
  },
  {
   "cell_type": "code",
   "execution_count": 18,
   "id": "56b557a1-5d08-42fe-978c-87e3ab8781e7",
   "metadata": {},
   "outputs": [
    {
     "data": {
      "text/plain": [
       "{'fizz': 'buzz',\n",
       " 'spam': 'eggs',\n",
       " 'foo': 'bar',\n",
       " 'first_name': 'John',\n",
       " 'last_name': 'Smith'}"
      ]
     },
     "execution_count": 18,
     "metadata": {},
     "output_type": "execute_result"
    }
   ],
   "source": [
    "data"
   ]
  },
  {
   "cell_type": "code",
   "execution_count": 19,
   "id": "ba7d887a-10a8-47e8-8dba-732bff2ca65e",
   "metadata": {},
   "outputs": [],
   "source": [
    "data['first_name'] = 'Sam'"
   ]
  },
  {
   "cell_type": "code",
   "execution_count": 20,
   "id": "92cdac8d-64d6-4c14-8edc-3881eca5613c",
   "metadata": {},
   "outputs": [
    {
     "data": {
      "text/plain": [
       "{'fizz': 'buzz',\n",
       " 'spam': 'eggs',\n",
       " 'foo': 'bar',\n",
       " 'first_name': 'Sam',\n",
       " 'last_name': 'Smith'}"
      ]
     },
     "execution_count": 20,
     "metadata": {},
     "output_type": "execute_result"
    }
   ],
   "source": [
    "data"
   ]
  },
  {
   "cell_type": "code",
   "execution_count": 21,
   "id": "0a38ba50-10df-4e11-91c2-899e30970ff7",
   "metadata": {},
   "outputs": [
    {
     "data": {
      "text/plain": [
       "{'first_name': 'John', 'last_name': 'Smith'}"
      ]
     },
     "execution_count": 21,
     "metadata": {},
     "output_type": "execute_result"
    }
   ],
   "source": [
    "info"
   ]
  },
  {
   "cell_type": "code",
   "execution_count": 22,
   "id": "d7f375b8-018b-4419-a7c9-eadefa311f91",
   "metadata": {},
   "outputs": [],
   "source": [
    "data.update(info)"
   ]
  },
  {
   "cell_type": "code",
   "execution_count": 23,
   "id": "06e485c9-823a-4f78-81de-ff63a8026f4a",
   "metadata": {},
   "outputs": [
    {
     "data": {
      "text/plain": [
       "{'fizz': 'buzz',\n",
       " 'spam': 'eggs',\n",
       " 'foo': 'bar',\n",
       " 'first_name': 'John',\n",
       " 'last_name': 'Smith'}"
      ]
     },
     "execution_count": 23,
     "metadata": {},
     "output_type": "execute_result"
    }
   ],
   "source": [
    "data"
   ]
  },
  {
   "cell_type": "code",
   "execution_count": 24,
   "id": "1d3261d0-1207-4ccd-8fcd-ae07e80f826c",
   "metadata": {},
   "outputs": [],
   "source": [
    "data.update(number=42)"
   ]
  },
  {
   "cell_type": "code",
   "execution_count": 25,
   "id": "a349978b-746d-4f6f-8073-7244365f4bcd",
   "metadata": {},
   "outputs": [
    {
     "data": {
      "text/plain": [
       "{'fizz': 'buzz',\n",
       " 'spam': 'eggs',\n",
       " 'foo': 'bar',\n",
       " 'first_name': 'John',\n",
       " 'last_name': 'Smith',\n",
       " 'number': 42}"
      ]
     },
     "execution_count": 25,
     "metadata": {},
     "output_type": "execute_result"
    }
   ],
   "source": [
    "data"
   ]
  },
  {
   "cell_type": "code",
   "execution_count": 27,
   "id": "eed19251-988d-467e-b81b-fb11008c3586",
   "metadata": {},
   "outputs": [
    {
     "data": {
      "text/plain": [
       "[1, 2, 0.5, 'foo', 'bar', int, float, None, True, False, (1, 2, 3), ['a', 'b']]"
      ]
     },
     "execution_count": 27,
     "metadata": {},
     "output_type": "execute_result"
    }
   ],
   "source": [
    "[1, 2, 0.5, 'foo', \"bar\", int, float, None, True, False, (1, 2, 3), [\"a\", \"b\"]]"
   ]
  },
  {
   "cell_type": "code",
   "execution_count": 28,
   "id": "f7f00f66-cf85-408b-a37a-adbe64ea48bf",
   "metadata": {},
   "outputs": [],
   "source": [
    "data.update(age=42)"
   ]
  },
  {
   "cell_type": "code",
   "execution_count": 29,
   "id": "9fb8792f-3e7e-4d6d-a0c6-0edfb1a02d2c",
   "metadata": {},
   "outputs": [
    {
     "data": {
      "text/plain": [
       "{'fizz': 'buzz',\n",
       " 'spam': 'eggs',\n",
       " 'foo': 'bar',\n",
       " 'first_name': 'John',\n",
       " 'last_name': 'Smith',\n",
       " 'number': 42,\n",
       " 'age': 42}"
      ]
     },
     "execution_count": 29,
     "metadata": {},
     "output_type": "execute_result"
    }
   ],
   "source": [
    "data"
   ]
  },
  {
   "cell_type": "code",
   "execution_count": 30,
   "id": "02cbd23d-6a3c-48ed-8806-cdb26dcc0bfb",
   "metadata": {},
   "outputs": [],
   "source": [
    "data['number'] += 1"
   ]
  },
  {
   "cell_type": "code",
   "execution_count": 31,
   "id": "1decdc59-96e0-444c-9dfb-3e22b5cf4785",
   "metadata": {},
   "outputs": [
    {
     "data": {
      "text/plain": [
       "{'fizz': 'buzz',\n",
       " 'spam': 'eggs',\n",
       " 'foo': 'bar',\n",
       " 'first_name': 'John',\n",
       " 'last_name': 'Smith',\n",
       " 'number': 43,\n",
       " 'age': 42}"
      ]
     },
     "execution_count": 31,
     "metadata": {},
     "output_type": "execute_result"
    }
   ],
   "source": [
    "data"
   ]
  },
  {
   "cell_type": "code",
   "execution_count": 32,
   "id": "61658b12-8050-4749-982d-3f66cb4aaaac",
   "metadata": {},
   "outputs": [],
   "source": [
    "data[0] = 'zero'"
   ]
  },
  {
   "cell_type": "code",
   "execution_count": 33,
   "id": "e0ff5864-aec1-4b05-b38a-3592201fc4f2",
   "metadata": {},
   "outputs": [
    {
     "data": {
      "text/plain": [
       "{'fizz': 'buzz',\n",
       " 'spam': 'eggs',\n",
       " 'foo': 'bar',\n",
       " 'first_name': 'John',\n",
       " 'last_name': 'Smith',\n",
       " 'number': 43,\n",
       " 'age': 42,\n",
       " 0: 'zero'}"
      ]
     },
     "execution_count": 33,
     "metadata": {},
     "output_type": "execute_result"
    }
   ],
   "source": [
    "data"
   ]
  },
  {
   "cell_type": "code",
   "execution_count": 34,
   "id": "19bf4b29-f5ed-4eed-8bc4-10c8c1a97d08",
   "metadata": {},
   "outputs": [
    {
     "data": {
      "text/plain": [
       "'zero'"
      ]
     },
     "execution_count": 34,
     "metadata": {},
     "output_type": "execute_result"
    }
   ],
   "source": [
    "data[0]"
   ]
  },
  {
   "cell_type": "code",
   "execution_count": 35,
   "id": "404d5fff-ea39-4ada-bb27-653f269f63dc",
   "metadata": {},
   "outputs": [],
   "source": [
    "data[99] = 'ninty-nine'"
   ]
  },
  {
   "cell_type": "code",
   "execution_count": 36,
   "id": "75aafd42-b179-42a3-a2ff-1401ca178cbe",
   "metadata": {},
   "outputs": [
    {
     "data": {
      "text/plain": [
       "{'fizz': 'buzz',\n",
       " 'spam': 'eggs',\n",
       " 'foo': 'bar',\n",
       " 'first_name': 'John',\n",
       " 'last_name': 'Smith',\n",
       " 'number': 43,\n",
       " 'age': 42,\n",
       " 0: 'zero',\n",
       " 99: 'ninty-nine'}"
      ]
     },
     "execution_count": 36,
     "metadata": {},
     "output_type": "execute_result"
    }
   ],
   "source": [
    "data"
   ]
  },
  {
   "cell_type": "code",
   "execution_count": 37,
   "id": "18051fe2-e2ac-45e6-8e94-c94699560623",
   "metadata": {},
   "outputs": [],
   "source": [
    "numbers = (1, 2, 3)"
   ]
  },
  {
   "cell_type": "code",
   "execution_count": 38,
   "id": "cebc79b0-9997-47da-8f10-1c1181511dfb",
   "metadata": {},
   "outputs": [
    {
     "data": {
      "text/plain": [
       "(1, 2, 3)"
      ]
     },
     "execution_count": 38,
     "metadata": {},
     "output_type": "execute_result"
    }
   ],
   "source": [
    "numbers"
   ]
  },
  {
   "cell_type": "code",
   "execution_count": 39,
   "id": "08346a9c-a41e-4de3-a04c-380c8330335b",
   "metadata": {},
   "outputs": [],
   "source": [
    "data[numbers] = 'some info'"
   ]
  },
  {
   "cell_type": "code",
   "execution_count": 40,
   "id": "9f7d54c2-234b-4975-a3d9-003add6304bf",
   "metadata": {},
   "outputs": [
    {
     "data": {
      "text/plain": [
       "{'fizz': 'buzz',\n",
       " 'spam': 'eggs',\n",
       " 'foo': 'bar',\n",
       " 'first_name': 'John',\n",
       " 'last_name': 'Smith',\n",
       " 'number': 43,\n",
       " 'age': 42,\n",
       " 0: 'zero',\n",
       " 99: 'ninty-nine',\n",
       " (1, 2, 3): 'some info'}"
      ]
     },
     "execution_count": 40,
     "metadata": {},
     "output_type": "execute_result"
    }
   ],
   "source": [
    "data"
   ]
  },
  {
   "cell_type": "code",
   "execution_count": 41,
   "id": "fb1deaa6-1b47-46db-9e4e-a6130816a0c6",
   "metadata": {},
   "outputs": [
    {
     "data": {
      "text/plain": [
       "(1, 2, 3)"
      ]
     },
     "execution_count": 41,
     "metadata": {},
     "output_type": "execute_result"
    }
   ],
   "source": [
    "numbers"
   ]
  },
  {
   "cell_type": "code",
   "execution_count": 42,
   "id": "24810137-c7c1-4195-85f1-b5e72c0b1c67",
   "metadata": {},
   "outputs": [
    {
     "data": {
      "text/plain": [
       "[1, 2, 3, 4, 5, 1]"
      ]
     },
     "execution_count": 42,
     "metadata": {},
     "output_type": "execute_result"
    }
   ],
   "source": [
    "nums"
   ]
  },
  {
   "cell_type": "code",
   "execution_count": 43,
   "id": "9f00d321-ffb0-44e4-8c9d-0017fd65946a",
   "metadata": {},
   "outputs": [
    {
     "name": "stdout",
     "output_type": "stream",
     "text": [
      "[1, 2, 3, 4, 5, 1]\n"
     ]
    }
   ],
   "source": [
    "print(nums)"
   ]
  },
  {
   "cell_type": "code",
   "execution_count": 44,
   "id": "8c36d8bc-41b8-45c3-b11e-96ab1a5c0d25",
   "metadata": {},
   "outputs": [],
   "source": [
    "words = [\"My\", \"name\", \"is\", \"Bob\"]"
   ]
  },
  {
   "cell_type": "code",
   "execution_count": 45,
   "id": "039d3fcb-1a3f-4482-946c-76c14f74ec5a",
   "metadata": {},
   "outputs": [
    {
     "data": {
      "text/plain": [
       "['My', 'name', 'is', 'Bob']"
      ]
     },
     "execution_count": 45,
     "metadata": {},
     "output_type": "execute_result"
    }
   ],
   "source": [
    "words"
   ]
  },
  {
   "cell_type": "code",
   "execution_count": 46,
   "id": "bafac8e5-79cd-44b1-a419-4b435bbb7c90",
   "metadata": {},
   "outputs": [
    {
     "name": "stdout",
     "output_type": "stream",
     "text": [
      "My\n",
      "name\n",
      "is\n"
     ]
    }
   ],
   "source": [
    "print(words[0])\n",
    "print(words[1])\n",
    "print(words[2])"
   ]
  },
  {
   "cell_type": "code",
   "execution_count": 47,
   "id": "99bf330d-2ea7-425e-bea2-83c108b4a5e3",
   "metadata": {},
   "outputs": [
    {
     "name": "stdout",
     "output_type": "stream",
     "text": [
      "MY\n",
      "NAME\n",
      "IS\n"
     ]
    }
   ],
   "source": [
    "print(words[0].upper())\n",
    "print(words[1].upper())\n",
    "print(words[2].upper())"
   ]
  },
  {
   "cell_type": "code",
   "execution_count": 49,
   "id": "6e96aa1c-4726-47cf-9077-688f80cc5f71",
   "metadata": {},
   "outputs": [
    {
     "name": "stdout",
     "output_type": "stream",
     "text": [
      "My\n",
      "name\n",
      "is\n",
      "Bob\n"
     ]
    }
   ],
   "source": [
    "for word in words:\n",
    "    print(word)"
   ]
  },
  {
   "cell_type": "code",
   "execution_count": 50,
   "id": "c40c9971-3056-4aff-8c6b-535b3fbbf2c2",
   "metadata": {},
   "outputs": [
    {
     "name": "stdout",
     "output_type": "stream",
     "text": [
      "1\n",
      "2\n",
      "3\n",
      "4\n",
      "5\n",
      "1\n",
      "[1, 2, 3, 4, 5, 1]\n"
     ]
    }
   ],
   "source": [
    "for num in nums:\n",
    "    print(num)\n",
    "\n",
    "print(nums)"
   ]
  },
  {
   "cell_type": "code",
   "execution_count": 51,
   "id": "75f9c82f-c000-460c-9671-c5eaad3ab8ee",
   "metadata": {},
   "outputs": [
    {
     "name": "stdout",
     "output_type": "stream",
     "text": [
      "1\n",
      "2\n",
      "3\n"
     ]
    }
   ],
   "source": [
    "for n in numbers:\n",
    "    print(n)"
   ]
  },
  {
   "cell_type": "code",
   "execution_count": 52,
   "id": "cf9d18b1-181b-4674-8dcc-4d05312032d3",
   "metadata": {},
   "outputs": [
    {
     "data": {
      "text/plain": [
       "(1, 2, 3)"
      ]
     },
     "execution_count": 52,
     "metadata": {},
     "output_type": "execute_result"
    }
   ],
   "source": [
    "numbers"
   ]
  },
  {
   "cell_type": "code",
   "execution_count": 53,
   "id": "ade376ae-d9ec-4661-bf55-26bfb51340d5",
   "metadata": {},
   "outputs": [
    {
     "name": "stdout",
     "output_type": "stream",
     "text": [
      "My\n",
      "name\n",
      "is\n",
      "found `is` on idx 2\n",
      "Bob\n"
     ]
    }
   ],
   "source": [
    "for idx, word in enumerate(words):\n",
    "    print(word)\n",
    "    if word == 'is':\n",
    "        print('found `is` on idx', idx)"
   ]
  },
  {
   "cell_type": "code",
   "execution_count": 54,
   "id": "6edbce4d-9e99-4215-a894-9e71c5b15572",
   "metadata": {},
   "outputs": [
    {
     "name": "stdout",
     "output_type": "stream",
     "text": [
      "My\n",
      "name\n",
      "is\n",
      "-- found `is` on line 3\n",
      "Bob\n"
     ]
    }
   ],
   "source": [
    "for line, word in enumerate(words, start=1):\n",
    "    print(word)\n",
    "    if word == 'is':\n",
    "        print('-- found `is` on line', line)"
   ]
  },
  {
   "cell_type": "code",
   "execution_count": 55,
   "id": "84f723e7-74db-40a5-bf75-d3db61530487",
   "metadata": {},
   "outputs": [
    {
     "name": "stdout",
     "output_type": "stream",
     "text": [
      "1 My\n",
      "2 name\n",
      "3 is\n",
      "4 Bob\n"
     ]
    }
   ],
   "source": [
    "for line_number, word in enumerate(words, start=1):\n",
    "    print(line_number, word)"
   ]
  },
  {
   "cell_type": "code",
   "execution_count": 56,
   "id": "b036ffd6-9aac-4e6d-8715-326cf180f68a",
   "metadata": {},
   "outputs": [
    {
     "name": "stdout",
     "output_type": "stream",
     "text": [
      "h\n",
      "e\n",
      "l\n",
      "l\n",
      "o\n"
     ]
    }
   ],
   "source": [
    "for char in \"hello\":\n",
    "    print(char)"
   ]
  },
  {
   "cell_type": "code",
   "execution_count": 57,
   "id": "4a6b1dd1-11fe-4cca-8baf-86b9885736a6",
   "metadata": {},
   "outputs": [
    {
     "name": "stdout",
     "output_type": "stream",
     "text": [
      "0 h 1 e 2 l 3 l 4 o \n"
     ]
    }
   ],
   "source": [
    "for idx, char in enumerate(\"hello\"):\n",
    "    print(idx, char, end=\" \")\n",
    "print()"
   ]
  },
  {
   "cell_type": "code",
   "execution_count": 58,
   "id": "b6bf9169-140f-41d6-81a5-79741df0cf5f",
   "metadata": {},
   "outputs": [
    {
     "name": "stdout",
     "output_type": "stream",
     "text": [
      "hello\n"
     ]
    }
   ],
   "source": [
    "for idx, char in enumerate(\"hello\"):\n",
    "    print(char, end=\"\")\n",
    "print()"
   ]
  },
  {
   "cell_type": "code",
   "execution_count": 60,
   "id": "b5fa86d2-33eb-470c-9f6b-38f4da4dd404",
   "metadata": {},
   "outputs": [
    {
     "name": "stdout",
     "output_type": "stream",
     "text": [
      "hElLo\n"
     ]
    }
   ],
   "source": [
    "for idx, char in enumerate(\"hello\"):\n",
    "    text = char.upper() if idx % 2 else char.lower()\n",
    "    print(text, end=\"\")\n",
    "print()"
   ]
  },
  {
   "cell_type": "code",
   "execution_count": 61,
   "id": "0859dec7-7071-4c9b-9ac8-086567183b82",
   "metadata": {},
   "outputs": [
    {
     "name": "stdout",
     "output_type": "stream",
     "text": [
      "hElLo mY NaMe iS BoB\n"
     ]
    }
   ],
   "source": [
    "for idx, char in enumerate(\"HelLO mY NAme IS BOB\"):\n",
    "    text = char.upper() if idx % 2 else char.lower()\n",
    "    print(text, end=\"\")\n",
    "print()"
   ]
  },
  {
   "cell_type": "code",
   "execution_count": 62,
   "id": "13949114-3dc5-45e6-a4a2-d3087d306d43",
   "metadata": {},
   "outputs": [
    {
     "name": "stdout",
     "output_type": "stream",
     "text": [
      "0 : 0\n",
      "1 : 1\n",
      "2 : 0\n",
      "3 : 1\n",
      "4 : 0\n"
     ]
    }
   ],
   "source": [
    "for idx in range(5):\n",
    "    print(idx, \":\", idx % 2)"
   ]
  },
  {
   "cell_type": "code",
   "execution_count": 63,
   "id": "76780bde-a142-45b6-ab75-e7accb15a8f4",
   "metadata": {},
   "outputs": [
    {
     "data": {
      "text/plain": [
       "{'fizz': 'buzz',\n",
       " 'spam': 'eggs',\n",
       " 'foo': 'bar',\n",
       " 'first_name': 'John',\n",
       " 'last_name': 'Smith',\n",
       " 'number': 43,\n",
       " 'age': 42,\n",
       " 0: 'zero',\n",
       " 99: 'ninty-nine',\n",
       " (1, 2, 3): 'some info'}"
      ]
     },
     "execution_count": 63,
     "metadata": {},
     "output_type": "execute_result"
    }
   ],
   "source": [
    "data"
   ]
  },
  {
   "cell_type": "code",
   "execution_count": 64,
   "id": "cc264cac-4c59-456c-8535-330b0f4e98d6",
   "metadata": {},
   "outputs": [
    {
     "name": "stdout",
     "output_type": "stream",
     "text": [
      "fizz\n",
      "spam\n",
      "foo\n",
      "first_name\n",
      "last_name\n",
      "number\n",
      "age\n",
      "0\n",
      "99\n",
      "(1, 2, 3)\n"
     ]
    }
   ],
   "source": [
    "for a in data:\n",
    "    print(a)"
   ]
  },
  {
   "cell_type": "code",
   "execution_count": 66,
   "id": "c95032ca-0b12-48eb-95bd-fb09c098dd43",
   "metadata": {},
   "outputs": [
    {
     "name": "stdout",
     "output_type": "stream",
     "text": [
      "fizz : buzz\n",
      "spam : eggs\n",
      "foo : bar\n",
      "first_name : John\n",
      "last_name : Smith\n",
      "number : 43\n",
      "age : 42\n",
      "0 : zero\n",
      "99 : ninty-nine\n",
      "(1, 2, 3) : some info\n"
     ]
    }
   ],
   "source": [
    "for key, val in data.items():\n",
    "    print(key, \":\", val)"
   ]
  },
  {
   "cell_type": "code",
   "execution_count": 67,
   "id": "e8d6fac0-7c61-4806-985c-abe8ddf304c3",
   "metadata": {},
   "outputs": [
    {
     "name": "stdout",
     "output_type": "stream",
     "text": [
      "fizz : buzz\n",
      "spam : eggs\n",
      "foo : bar\n",
      "first_name : John\n",
      "last_name : Smith\n",
      "number : 44\n",
      "age : 43\n",
      "0 : zero\n",
      "99 : ninty-nine\n",
      "(1, 2, 3) : some info\n"
     ]
    }
   ],
   "source": [
    "for key, val in data.items():\n",
    "    if isinstance(val, int):\n",
    "        val += 1\n",
    "    print(key, \":\", val)"
   ]
  },
  {
   "cell_type": "code",
   "execution_count": 68,
   "id": "e283ceaa-2b95-4bca-8789-262aa7c798d3",
   "metadata": {},
   "outputs": [
    {
     "data": {
      "text/plain": [
       "{'fizz': 'buzz',\n",
       " 'spam': 'eggs',\n",
       " 'foo': 'bar',\n",
       " 'first_name': 'John',\n",
       " 'last_name': 'Smith',\n",
       " 'number': 43,\n",
       " 'age': 42,\n",
       " 0: 'zero',\n",
       " 99: 'ninty-nine',\n",
       " (1, 2, 3): 'some info'}"
      ]
     },
     "execution_count": 68,
     "metadata": {},
     "output_type": "execute_result"
    }
   ],
   "source": [
    "data"
   ]
  },
  {
   "cell_type": "code",
   "execution_count": 69,
   "id": "29763013-f526-40e0-b309-e633b9e6feca",
   "metadata": {},
   "outputs": [
    {
     "name": "stdout",
     "output_type": "stream",
     "text": [
      "fizz : buzz\n",
      "spam : eggs\n",
      "foo : bar\n",
      "first_name : John\n",
      "last_name : Smith\n",
      "number : 44\n",
      "age : 43\n",
      "0 : zero\n",
      "99 : ninty-nine\n",
      "(1, 2, 3) : some info\n"
     ]
    }
   ],
   "source": [
    "for key, val in data.items():\n",
    "    if isinstance(val, int):\n",
    "        val += 1\n",
    "    data[key] = val\n",
    "    print(key, \":\", val)"
   ]
  },
  {
   "cell_type": "code",
   "execution_count": 70,
   "id": "7638525f-a9a1-432c-ab8d-2de837199350",
   "metadata": {},
   "outputs": [
    {
     "data": {
      "text/plain": [
       "{'fizz': 'buzz',\n",
       " 'spam': 'eggs',\n",
       " 'foo': 'bar',\n",
       " 'first_name': 'John',\n",
       " 'last_name': 'Smith',\n",
       " 'number': 44,\n",
       " 'age': 43,\n",
       " 0: 'zero',\n",
       " 99: 'ninty-nine',\n",
       " (1, 2, 3): 'some info'}"
      ]
     },
     "execution_count": 70,
     "metadata": {},
     "output_type": "execute_result"
    }
   ],
   "source": [
    "data"
   ]
  },
  {
   "cell_type": "code",
   "execution_count": 72,
   "id": "e3fdf758-11bc-484b-b3f5-c88a81fe6e85",
   "metadata": {},
   "outputs": [
    {
     "name": "stdout",
     "output_type": "stream",
     "text": [
      "87\n"
     ]
    }
   ],
   "source": [
    "total = 0\n",
    "for val in data.values():\n",
    "    if isinstance(val, int):\n",
    "        total += val\n",
    "print(total)"
   ]
  },
  {
   "cell_type": "code",
   "execution_count": 73,
   "id": "df02f13c-aefb-4148-a18c-28de7cc71abb",
   "metadata": {},
   "outputs": [
    {
     "data": {
      "text/plain": [
       "(1, 2, 3)"
      ]
     },
     "execution_count": 73,
     "metadata": {},
     "output_type": "execute_result"
    }
   ],
   "source": [
    "numbers"
   ]
  },
  {
   "cell_type": "code",
   "execution_count": 74,
   "id": "220e39e5-bed2-434b-a5e6-88d84a879a83",
   "metadata": {},
   "outputs": [
    {
     "data": {
      "text/plain": [
       "6"
      ]
     },
     "execution_count": 74,
     "metadata": {},
     "output_type": "execute_result"
    }
   ],
   "source": [
    "sum(numbers)"
   ]
  },
  {
   "cell_type": "code",
   "execution_count": 75,
   "id": "31bc98d7-21e8-411a-a776-6e694f31a3ab",
   "metadata": {},
   "outputs": [
    {
     "name": "stdout",
     "output_type": "stream",
     "text": [
      "0\n",
      "1\n",
      "2\n",
      "3\n",
      "4\n"
     ]
    }
   ],
   "source": [
    "for idx in range(5):\n",
    "    print(idx)"
   ]
  },
  {
   "cell_type": "code",
   "execution_count": 76,
   "id": "04359070-45ab-4ad9-ba66-2cb610932e28",
   "metadata": {},
   "outputs": [
    {
     "data": {
      "text/plain": [
       "10"
      ]
     },
     "execution_count": 76,
     "metadata": {},
     "output_type": "execute_result"
    }
   ],
   "source": [
    "sum(range(5))"
   ]
  },
  {
   "cell_type": "code",
   "execution_count": 77,
   "id": "3a4ea11e-9e2b-4be3-8db9-27ac612f8b68",
   "metadata": {},
   "outputs": [
    {
     "data": {
      "text/plain": [
       "['My', 'name', 'is', 'Bob']"
      ]
     },
     "execution_count": 77,
     "metadata": {},
     "output_type": "execute_result"
    }
   ],
   "source": [
    "words"
   ]
  },
  {
   "cell_type": "code",
   "execution_count": 78,
   "id": "05878ce9-dc44-4bf7-bd79-b5fee5601f47",
   "metadata": {},
   "outputs": [
    {
     "name": "stdout",
     "output_type": "stream",
     "text": [
      "11\n"
     ]
    }
   ],
   "source": [
    "total = 0\n",
    "for word in words:\n",
    "    total += len(word)\n",
    "\n",
    "print(total)"
   ]
  },
  {
   "cell_type": "code",
   "execution_count": 79,
   "id": "7646f42c-4eb5-4962-a7bf-925719f6ec6f",
   "metadata": {},
   "outputs": [
    {
     "data": {
      "text/plain": [
       "[2, 4, 2, 3]"
      ]
     },
     "execution_count": 79,
     "metadata": {},
     "output_type": "execute_result"
    }
   ],
   "source": [
    "[len(word) for word in words]"
   ]
  },
  {
   "cell_type": "code",
   "execution_count": 80,
   "id": "88e93ebe-7560-43ad-a5bc-13c1809c8e91",
   "metadata": {},
   "outputs": [
    {
     "name": "stdout",
     "output_type": "stream",
     "text": [
      "11\n"
     ]
    }
   ],
   "source": [
    "total = sum([len(word) for word in words])\n",
    "print(total)"
   ]
  },
  {
   "cell_type": "code",
   "execution_count": 81,
   "id": "f4347ac1-6bd5-4411-8e25-fedf4a35ba4b",
   "metadata": {},
   "outputs": [
    {
     "name": "stdout",
     "output_type": "stream",
     "text": [
      "11\n"
     ]
    }
   ],
   "source": [
    "total = sum(len(word) for word in words)\n",
    "print(total)"
   ]
  },
  {
   "cell_type": "code",
   "execution_count": 82,
   "id": "11ed3273-5de2-4335-8079-469d8928801d",
   "metadata": {},
   "outputs": [
    {
     "data": {
      "text/plain": [
       "{1: 1, 2: 4, 3: 9, 4: 16, 5: 25, 6: 36, 7: 49, 8: 64, 9: 81, 10: 100}"
      ]
     },
     "execution_count": 82,
     "metadata": {},
     "output_type": "execute_result"
    }
   ],
   "source": [
    "{\n",
    "    num: num * num\n",
    "    for num in range(1, 11)\n",
    "}"
   ]
  },
  {
   "cell_type": "code",
   "execution_count": 84,
   "id": "93340374-3343-4772-9d6e-39922d64fd7b",
   "metadata": {},
   "outputs": [
    {
     "data": {
      "text/plain": [
       "{1: 1, 2: 4, 4: 16, 5: 25, 7: 49, 8: 64, 10: 100}"
      ]
     },
     "execution_count": 84,
     "metadata": {},
     "output_type": "execute_result"
    }
   ],
   "source": [
    "{\n",
    "    num: num * num\n",
    "    for num in range(1, 11)\n",
    "    if num % 3\n",
    "}"
   ]
  },
  {
   "cell_type": "code",
   "execution_count": 85,
   "id": "d558b009-9aa0-498d-9246-53f0750f6a9f",
   "metadata": {},
   "outputs": [
    {
     "data": {
      "text/plain": [
       "['My', 'name', 'is', 'Bob']"
      ]
     },
     "execution_count": 85,
     "metadata": {},
     "output_type": "execute_result"
    }
   ],
   "source": [
    "words"
   ]
  },
  {
   "cell_type": "code",
   "execution_count": 86,
   "id": "d4ae5b3d-8600-47bd-b8b8-87204196ba4b",
   "metadata": {},
   "outputs": [
    {
     "data": {
      "text/plain": [
       "['name', 'Bob']"
      ]
     },
     "execution_count": 86,
     "metadata": {},
     "output_type": "execute_result"
    }
   ],
   "source": [
    "[word for word in words if len(word) > 2]"
   ]
  },
  {
   "cell_type": "code",
   "execution_count": 87,
   "id": "15f3b920-aafd-4f41-92ec-856220062ee6",
   "metadata": {},
   "outputs": [
    {
     "data": {
      "text/plain": [
       "['My', 'Bob']"
      ]
     },
     "execution_count": 87,
     "metadata": {},
     "output_type": "execute_result"
    }
   ],
   "source": [
    "[word for word in words if word and word[0].isupper()]"
   ]
  },
  {
   "cell_type": "code",
   "execution_count": 88,
   "id": "75aa22f4-770d-4521-895c-7e248940e55a",
   "metadata": {},
   "outputs": [
    {
     "data": {
      "text/plain": [
       "['my', 'bob']"
      ]
     },
     "execution_count": 88,
     "metadata": {},
     "output_type": "execute_result"
    }
   ],
   "source": [
    "[word.lower() for word in words if word and word[0].isupper()]"
   ]
  },
  {
   "cell_type": "code",
   "execution_count": 89,
   "id": "d58ff024-c8a3-4b78-99b8-e6bc737fbd09",
   "metadata": {},
   "outputs": [
    {
     "data": {
      "text/plain": [
       "['my', 'bob']"
      ]
     },
     "execution_count": 89,
     "metadata": {},
     "output_type": "execute_result"
    }
   ],
   "source": [
    "[\n",
    "    # we need lowercase ...\n",
    "    word.lower()\n",
    "    # check each word\n",
    "    for word in words\n",
    "    # if is not empty and first char is in upper case\n",
    "    if word and word[0].isupper()\n",
    "]"
   ]
  },
  {
   "cell_type": "code",
   "execution_count": 90,
   "id": "c4557922-898e-4bee-aa1e-006c665e6d13",
   "metadata": {},
   "outputs": [
    {
     "data": {
      "text/plain": [
       "{'fizz': 'buzz',\n",
       " 'spam': 'eggs',\n",
       " 'foo': 'bar',\n",
       " 'first_name': 'John',\n",
       " 'last_name': 'Smith',\n",
       " 'number': 44,\n",
       " 'age': 43,\n",
       " 0: 'zero',\n",
       " 99: 'ninty-nine',\n",
       " (1, 2, 3): 'some info'}"
      ]
     },
     "execution_count": 90,
     "metadata": {},
     "output_type": "execute_result"
    }
   ],
   "source": [
    "data"
   ]
  },
  {
   "cell_type": "code",
   "execution_count": 91,
   "id": "a9b7f1c2-d230-40d0-a6ea-ac8962c18f6a",
   "metadata": {},
   "outputs": [
    {
     "data": {
      "text/plain": [
       "set()"
      ]
     },
     "execution_count": 91,
     "metadata": {},
     "output_type": "execute_result"
    }
   ],
   "source": [
    "set()"
   ]
  },
  {
   "cell_type": "code",
   "execution_count": 92,
   "id": "362ed1b0-37be-4a32-b48b-6d8856b90542",
   "metadata": {},
   "outputs": [
    {
     "data": {
      "text/plain": [
       "{1, 2, 3}"
      ]
     },
     "execution_count": 92,
     "metadata": {},
     "output_type": "execute_result"
    }
   ],
   "source": [
    "{1, 2, 3}"
   ]
  },
  {
   "cell_type": "code",
   "execution_count": 93,
   "id": "ae7fb14c-74c3-4001-a666-d901c7276204",
   "metadata": {},
   "outputs": [],
   "source": [
    "vowels = set()"
   ]
  },
  {
   "cell_type": "code",
   "execution_count": 94,
   "id": "0be73d4d-84cb-4b05-ac0e-d3c8ce8ea1b2",
   "metadata": {},
   "outputs": [
    {
     "data": {
      "text/plain": [
       "set()"
      ]
     },
     "execution_count": 94,
     "metadata": {},
     "output_type": "execute_result"
    }
   ],
   "source": [
    "vowels"
   ]
  },
  {
   "cell_type": "code",
   "execution_count": 95,
   "id": "fc4faa78-54c3-476b-8e8b-9c52dc57adf8",
   "metadata": {},
   "outputs": [],
   "source": [
    "vowels.add(\"a\")"
   ]
  },
  {
   "cell_type": "code",
   "execution_count": 96,
   "id": "9308bc88-115b-439a-93b7-07e0c0fa71f7",
   "metadata": {},
   "outputs": [
    {
     "data": {
      "text/plain": [
       "{'a'}"
      ]
     },
     "execution_count": 96,
     "metadata": {},
     "output_type": "execute_result"
    }
   ],
   "source": [
    "vowels"
   ]
  },
  {
   "cell_type": "code",
   "execution_count": 97,
   "id": "8c4211e8-4a41-4008-86fc-54b48e3ed1ed",
   "metadata": {},
   "outputs": [],
   "source": [
    "vowels.add(\"e\")"
   ]
  },
  {
   "cell_type": "code",
   "execution_count": 98,
   "id": "e58f7a24-7538-481c-b9e3-23487e60a086",
   "metadata": {},
   "outputs": [
    {
     "data": {
      "text/plain": [
       "{'a', 'e'}"
      ]
     },
     "execution_count": 98,
     "metadata": {},
     "output_type": "execute_result"
    }
   ],
   "source": [
    "vowels"
   ]
  },
  {
   "cell_type": "code",
   "execution_count": 99,
   "id": "64a45f4e-a0b1-4c67-b93e-6a435df4fe5e",
   "metadata": {},
   "outputs": [
    {
     "data": {
      "text/plain": [
       "True"
      ]
     },
     "execution_count": 99,
     "metadata": {},
     "output_type": "execute_result"
    }
   ],
   "source": [
    "\"a\" in vowels"
   ]
  },
  {
   "cell_type": "code",
   "execution_count": 100,
   "id": "76914622-4ba5-4dd9-a89c-5b72df0108bf",
   "metadata": {},
   "outputs": [
    {
     "data": {
      "text/plain": [
       "False"
      ]
     },
     "execution_count": 100,
     "metadata": {},
     "output_type": "execute_result"
    }
   ],
   "source": [
    "\"b\" in vowels"
   ]
  },
  {
   "cell_type": "code",
   "execution_count": 102,
   "id": "deabd387-e4c8-453e-b143-5b87b3bd45b3",
   "metadata": {},
   "outputs": [
    {
     "data": {
      "text/plain": [
       "{'a', 'e'}"
      ]
     },
     "execution_count": 102,
     "metadata": {},
     "output_type": "execute_result"
    }
   ],
   "source": [
    "vowels"
   ]
  },
  {
   "cell_type": "code",
   "execution_count": 103,
   "id": "aa613721-6772-49fb-886d-589d177c1fd8",
   "metadata": {},
   "outputs": [],
   "source": [
    "some_numbers = [1, 2, 3, 4, 5]"
   ]
  },
  {
   "cell_type": "code",
   "execution_count": 104,
   "id": "7befae24-2c82-4448-81d9-2d72c458f104",
   "metadata": {},
   "outputs": [
    {
     "data": {
      "text/plain": [
       "True"
      ]
     },
     "execution_count": 104,
     "metadata": {},
     "output_type": "execute_result"
    }
   ],
   "source": [
    "5 in some_numbers"
   ]
  },
  {
   "cell_type": "code",
   "execution_count": 105,
   "id": "c8ae8c0a-227d-4da4-9db0-01e63f78aa1c",
   "metadata": {},
   "outputs": [
    {
     "data": {
      "text/plain": [
       "False"
      ]
     },
     "execution_count": 105,
     "metadata": {},
     "output_type": "execute_result"
    }
   ],
   "source": [
    "6 in some_numbers"
   ]
  },
  {
   "cell_type": "code",
   "execution_count": 106,
   "id": "7a59acaa-5ef7-4f8f-a7cc-45cf5b9ad898",
   "metadata": {},
   "outputs": [
    {
     "data": {
      "text/plain": [
       "True"
      ]
     },
     "execution_count": 106,
     "metadata": {},
     "output_type": "execute_result"
    }
   ],
   "source": [
    "'foo' in data"
   ]
  },
  {
   "cell_type": "code",
   "execution_count": 107,
   "id": "86d95bb9-2bcb-4fe7-b409-e6495f73bed9",
   "metadata": {},
   "outputs": [
    {
     "data": {
      "text/plain": [
       "{(), (1,)}"
      ]
     },
     "execution_count": 107,
     "metadata": {},
     "output_type": "execute_result"
    }
   ],
   "source": [
    "{(), (1,)}"
   ]
  },
  {
   "cell_type": "code",
   "execution_count": 108,
   "id": "c779bd16-ec95-45a7-9787-42258fa012f7",
   "metadata": {},
   "outputs": [],
   "source": [
    "def foo():\n",
    "    pass"
   ]
  },
  {
   "cell_type": "code",
   "execution_count": 109,
   "id": "62e4b5e4-a8cc-4cbd-8c88-fd3fa9b139f0",
   "metadata": {},
   "outputs": [],
   "source": [
    "foo()"
   ]
  },
  {
   "cell_type": "code",
   "execution_count": 110,
   "id": "f99c6890-e838-4f83-b062-669592177bd3",
   "metadata": {},
   "outputs": [
    {
     "name": "stdout",
     "output_type": "stream",
     "text": [
      "\n"
     ]
    }
   ],
   "source": [
    "print()"
   ]
  },
  {
   "cell_type": "code",
   "execution_count": 111,
   "id": "75db78fe-40d5-4ad1-93a3-5f7250dbfb30",
   "metadata": {},
   "outputs": [],
   "source": [
    "def foo():\n",
    "    print(\"hello foo\")"
   ]
  },
  {
   "cell_type": "code",
   "execution_count": 112,
   "id": "1e5bbdcb-1696-4cc2-96b0-ef5c5ae065a0",
   "metadata": {},
   "outputs": [
    {
     "name": "stdout",
     "output_type": "stream",
     "text": [
      "hello foo\n"
     ]
    }
   ],
   "source": [
    "foo()"
   ]
  },
  {
   "cell_type": "code",
   "execution_count": 113,
   "id": "4894b769-0f8e-434d-b992-c00aad539c69",
   "metadata": {},
   "outputs": [
    {
     "name": "stdout",
     "output_type": "stream",
     "text": [
      "hello foo\n"
     ]
    }
   ],
   "source": [
    "foo()"
   ]
  },
  {
   "cell_type": "code",
   "execution_count": 114,
   "id": "a6293855-ee8f-48a5-a156-2067440113ce",
   "metadata": {},
   "outputs": [],
   "source": [
    "def hello(name):\n",
    "    print(\"Hello,\", name)"
   ]
  },
  {
   "cell_type": "code",
   "execution_count": 115,
   "id": "e5b04323-c071-498f-b500-32bddbb8dbfc",
   "metadata": {},
   "outputs": [
    {
     "name": "stdout",
     "output_type": "stream",
     "text": [
      "John Smith\n"
     ]
    }
   ],
   "source": [
    "user = \"John Smith\"\n",
    "print(user)"
   ]
  },
  {
   "cell_type": "code",
   "execution_count": 116,
   "id": "8888c019-a4d1-474e-b85f-b17072981700",
   "metadata": {},
   "outputs": [
    {
     "name": "stdout",
     "output_type": "stream",
     "text": [
      "Hello, John Smith\n"
     ]
    }
   ],
   "source": [
    "hello(user)"
   ]
  },
  {
   "cell_type": "code",
   "execution_count": 117,
   "id": "2e068df4-4f70-4b84-9e8a-08406d58996b",
   "metadata": {},
   "outputs": [
    {
     "name": "stdout",
     "output_type": "stream",
     "text": [
      "Hello, Sam\n"
     ]
    }
   ],
   "source": [
    "hello('Sam')"
   ]
  },
  {
   "cell_type": "code",
   "execution_count": 119,
   "id": "de5f949d-0997-461a-a14c-753beb10438f",
   "metadata": {},
   "outputs": [
    {
     "name": "stdout",
     "output_type": "stream",
     "text": [
      "Hello, John Smith\n",
      "Hello, Sam\n"
     ]
    }
   ],
   "source": [
    "name = \"Sam\"\n",
    "\n",
    "hello(user)\n",
    "hello(name)"
   ]
  },
  {
   "cell_type": "code",
   "execution_count": 120,
   "id": "a5b697c9-215d-4916-b456-404bb1b94f26",
   "metadata": {},
   "outputs": [
    {
     "name": "stdout",
     "output_type": "stream",
     "text": [
      ";"
     ]
    }
   ],
   "source": [
    "print(end=\";\")"
   ]
  },
  {
   "cell_type": "code",
   "execution_count": 121,
   "id": "320170ba-53e5-40bc-8cf6-4d29573a72f5",
   "metadata": {},
   "outputs": [
    {
     "name": "stdout",
     "output_type": "stream",
     "text": [
      "Hello, Sam\n",
      "Hello, John Smith\n"
     ]
    }
   ],
   "source": [
    "hello(name=name)\n",
    "hello(name=user)"
   ]
  },
  {
   "cell_type": "code",
   "execution_count": 122,
   "id": "dfb11a22-c8d8-4537-87c5-c3bd882cf4f6",
   "metadata": {},
   "outputs": [
    {
     "data": {
      "text/plain": [
       "'Sam'"
      ]
     },
     "execution_count": 122,
     "metadata": {},
     "output_type": "execute_result"
    }
   ],
   "source": [
    "name"
   ]
  },
  {
   "cell_type": "code",
   "execution_count": 123,
   "id": "c07e062b-2c4b-4257-b7b2-bb6ceddab5a2",
   "metadata": {},
   "outputs": [
    {
     "name": "stdout",
     "output_type": "stream",
     "text": [
      "Hello, foobar\n",
      "None\n"
     ]
    }
   ],
   "source": [
    "print(hello('foobar'))"
   ]
  },
  {
   "cell_type": "code",
   "execution_count": 124,
   "id": "c8e2fcbd-a062-472f-b8b5-be33b2a30c63",
   "metadata": {},
   "outputs": [
    {
     "name": "stdout",
     "output_type": "stream",
     "text": [
      "Hello, abc\n"
     ]
    }
   ],
   "source": [
    "res = hello('abc')"
   ]
  },
  {
   "cell_type": "code",
   "execution_count": 125,
   "id": "b075c555-95b8-4fef-9186-a15995df742a",
   "metadata": {},
   "outputs": [
    {
     "name": "stdout",
     "output_type": "stream",
     "text": [
      "None\n"
     ]
    }
   ],
   "source": [
    "print(res)"
   ]
  },
  {
   "cell_type": "code",
   "execution_count": 126,
   "id": "2dcbd08f-44e8-41b4-b471-8f98fbee31b1",
   "metadata": {},
   "outputs": [
    {
     "data": {
      "text/plain": [
       "True"
      ]
     },
     "execution_count": 126,
     "metadata": {},
     "output_type": "execute_result"
    }
   ],
   "source": [
    "res is None"
   ]
  },
  {
   "cell_type": "code",
   "execution_count": 127,
   "id": "25095564-7aeb-48af-84ae-8f5defd3b405",
   "metadata": {},
   "outputs": [],
   "source": [
    "def square(num):\n",
    "    return num**2"
   ]
  },
  {
   "cell_type": "code",
   "execution_count": 128,
   "id": "a197e5bf-3ca5-4ebd-bf32-d5e0e9673a2b",
   "metadata": {},
   "outputs": [
    {
     "data": {
      "text/plain": [
       "9"
      ]
     },
     "execution_count": 128,
     "metadata": {},
     "output_type": "execute_result"
    }
   ],
   "source": [
    "square(3)"
   ]
  },
  {
   "cell_type": "code",
   "execution_count": 129,
   "id": "bb3ce702-216f-4de3-8d7a-8b09eab7780e",
   "metadata": {},
   "outputs": [
    {
     "name": "stdout",
     "output_type": "stream",
     "text": [
      "16\n"
     ]
    }
   ],
   "source": [
    "print(square(4))"
   ]
  },
  {
   "cell_type": "code",
   "execution_count": 130,
   "id": "87811425-e02c-406b-a195-787fc973233f",
   "metadata": {},
   "outputs": [],
   "source": [
    "def some_func():\n",
    "    return \"abc\", \"foo\", \"bar\", 1, 0, False"
   ]
  },
  {
   "cell_type": "code",
   "execution_count": 131,
   "id": "bbd63579-f885-43fa-8450-3a3c56a39c51",
   "metadata": {},
   "outputs": [
    {
     "data": {
      "text/plain": [
       "('abc', 'foo', 'bar', 1, 0, False)"
      ]
     },
     "execution_count": 131,
     "metadata": {},
     "output_type": "execute_result"
    }
   ],
   "source": [
    "some_func()"
   ]
  },
  {
   "cell_type": "code",
   "execution_count": 132,
   "id": "7e6a3550-56d8-41f4-9d6f-d7ff91722322",
   "metadata": {},
   "outputs": [
    {
     "data": {
      "text/plain": [
       "(1, 2)"
      ]
     },
     "execution_count": 132,
     "metadata": {},
     "output_type": "execute_result"
    }
   ],
   "source": [
    "1, 2"
   ]
  },
  {
   "cell_type": "code",
   "execution_count": 133,
   "id": "2359cebc-586d-4425-8f89-b8dc3bf29648",
   "metadata": {},
   "outputs": [],
   "source": [
    "def dynamic_case_string(line):\n",
    "    return ''.join(\n",
    "        char.upper() if idx % 2 else char.lower()\n",
    "        for idx, char in enumerate(line)\n",
    "    )"
   ]
  },
  {
   "cell_type": "code",
   "execution_count": 134,
   "id": "87774848-f41a-4516-b830-ecf81b9ac688",
   "metadata": {},
   "outputs": [
    {
     "data": {
      "text/plain": [
       "'fOoBaR'"
      ]
     },
     "execution_count": 134,
     "metadata": {},
     "output_type": "execute_result"
    }
   ],
   "source": [
    "dynamic_case_string('foobar')"
   ]
  },
  {
   "cell_type": "code",
   "execution_count": 135,
   "id": "2f8b1b30-607e-4abc-b3da-c27198109b14",
   "metadata": {},
   "outputs": [
    {
     "data": {
      "text/plain": [
       "'hElLo wOrLd!'"
      ]
     },
     "execution_count": 135,
     "metadata": {},
     "output_type": "execute_result"
    }
   ],
   "source": [
    "dynamic_case_string('hello world!')"
   ]
  },
  {
   "cell_type": "code",
   "execution_count": 137,
   "id": "ba8aca2e-8873-47dc-a440-e14d83a79a98",
   "metadata": {},
   "outputs": [
    {
     "data": {
      "text/plain": [
       "['f', 'O', 'o', 'B', 'a', 'R']"
      ]
     },
     "execution_count": 137,
     "metadata": {},
     "output_type": "execute_result"
    }
   ],
   "source": [
    "[\n",
    "    char.upper() if idx % 2 else char.lower()\n",
    "    for idx, char in enumerate('foobar')\n",
    "]"
   ]
  },
  {
   "cell_type": "code",
   "execution_count": 138,
   "id": "0b37182b-0be1-4c8d-b40b-d9151fcc902c",
   "metadata": {},
   "outputs": [],
   "source": [
    "def dynamic_case_string(line, sep=\"\"):\n",
    "    return sep.join(\n",
    "        char.upper() if idx % 2 else char.lower()\n",
    "        for idx, char in enumerate(line)\n",
    "    )"
   ]
  },
  {
   "cell_type": "code",
   "execution_count": 139,
   "id": "8a85422d-2c9f-40a9-8e0e-6f69d4fd25fc",
   "metadata": {},
   "outputs": [
    {
     "data": {
      "text/plain": [
       "'f-O-o-B-a-R'"
      ]
     },
     "execution_count": 139,
     "metadata": {},
     "output_type": "execute_result"
    }
   ],
   "source": [
    "dynamic_case_string('foobar', sep=\"-\")"
   ]
  },
  {
   "cell_type": "code",
   "execution_count": 140,
   "id": "116323ba-263a-484a-89db-cc3ad83082e7",
   "metadata": {},
   "outputs": [
    {
     "data": {
      "text/plain": [
       "'f*O*o*B*a*R'"
      ]
     },
     "execution_count": 140,
     "metadata": {},
     "output_type": "execute_result"
    }
   ],
   "source": [
    "dynamic_case_string('foobar', \"*\")"
   ]
  },
  {
   "cell_type": "code",
   "execution_count": 141,
   "id": "9424d0a5-ae5b-4dff-8505-a7b2bf59c0ed",
   "metadata": {},
   "outputs": [
    {
     "data": {
      "text/plain": [
       "'f=O=o=B=a=R'"
      ]
     },
     "execution_count": 141,
     "metadata": {},
     "output_type": "execute_result"
    }
   ],
   "source": [
    "dynamic_case_string(sep=\"=\", line='foobar')"
   ]
  },
  {
   "cell_type": "code",
   "execution_count": 142,
   "id": "48c96aaa-f82f-4187-b1d1-68d1bbe9bed1",
   "metadata": {},
   "outputs": [],
   "source": [
    "def check_for_duplicates(items):\n",
    "    duplicates = set()\n",
    "    known = set()\n",
    "    for item in items:\n",
    "        if item in known:\n",
    "            duplicates.add(item)\n",
    "        else:\n",
    "            known.add(item)\n",
    "    return duplicates"
   ]
  },
  {
   "cell_type": "code",
   "execution_count": 143,
   "id": "061e94e1-8df0-43db-90c5-23d6a397bd7b",
   "metadata": {},
   "outputs": [
    {
     "data": {
      "text/plain": [
       "set()"
      ]
     },
     "execution_count": 143,
     "metadata": {},
     "output_type": "execute_result"
    }
   ],
   "source": [
    "check_for_duplicates([1, 2, 3])"
   ]
  },
  {
   "cell_type": "code",
   "execution_count": 144,
   "id": "4bd8f4d4-ef3b-46b4-b273-a2ee0d495b9f",
   "metadata": {},
   "outputs": [
    {
     "data": {
      "text/plain": [
       "{1}"
      ]
     },
     "execution_count": 144,
     "metadata": {},
     "output_type": "execute_result"
    }
   ],
   "source": [
    "check_for_duplicates([1, 2, 3, 1])"
   ]
  },
  {
   "cell_type": "code",
   "execution_count": 145,
   "id": "0136703c-b8d9-41f7-8074-61af0b4900b7",
   "metadata": {},
   "outputs": [
    {
     "data": {
      "text/plain": [
       "{1, 2}"
      ]
     },
     "execution_count": 145,
     "metadata": {},
     "output_type": "execute_result"
    }
   ],
   "source": [
    "check_for_duplicates([1, 2, 3, 2, 1])"
   ]
  },
  {
   "cell_type": "code",
   "execution_count": 146,
   "id": "6518c945-7ba3-4ee1-b6fd-996b2b620d24",
   "metadata": {},
   "outputs": [
    {
     "data": {
      "text/plain": [
       "{'l', 'o'}"
      ]
     },
     "execution_count": 146,
     "metadata": {},
     "output_type": "execute_result"
    }
   ],
   "source": [
    "check_for_duplicates('hello world')"
   ]
  },
  {
   "cell_type": "code",
   "execution_count": 147,
   "id": "1c0eaac5-40ab-4827-9945-f0feafaa847c",
   "metadata": {},
   "outputs": [],
   "source": [
    "lorem = \"\"\"Netus et malesuada fames ac turpis egestas integer eget. Tincidunt eget nullam non nisi est. Tortor at auctor urna nunc id cursus. Id velit ut tortor pretium viverra suspendisse potenti nullam. Tellus id interdum velit laoreet. Turpis egestas integer eget aliquet nibh. Non odio euismod lacinia at quis risus sed. Enim neque volutpat ac tincidunt vitae semper quis lectus. Eleifend mi in nulla posuere sollicitudin aliquam ultrices sagittis orci. Sit amet luctus venenatis lectus. Sed id semper risus in hendrerit gravida rutrum quisque non. Quisque sagittis purus sit amet volutpat consequat mauris nunc congue. Pretium lectus quam id leo in vitae. Mauris vitae ultricies leo integer malesuada. Arcu dictum varius duis at.\"\"\""
   ]
  },
  {
   "cell_type": "code",
   "execution_count": 148,
   "id": "2c6d4fd3-7692-4dd7-a8d6-072593ca844c",
   "metadata": {},
   "outputs": [
    {
     "data": {
      "text/plain": [
       "723"
      ]
     },
     "execution_count": 148,
     "metadata": {},
     "output_type": "execute_result"
    }
   ],
   "source": [
    "len(lorem)"
   ]
  },
  {
   "cell_type": "code",
   "execution_count": 150,
   "id": "1b147bef-c086-40d3-ba6d-26423a5086e8",
   "metadata": {},
   "outputs": [
    {
     "data": {
      "text/plain": [
       "112"
      ]
     },
     "execution_count": 150,
     "metadata": {},
     "output_type": "execute_result"
    }
   ],
   "source": [
    "len(lorem.split(\" \"))"
   ]
  },
  {
   "cell_type": "code",
   "execution_count": 151,
   "id": "260c382c-711f-436a-8956-eb35537dee1f",
   "metadata": {},
   "outputs": [],
   "source": [
    "cleaned_lorem = lorem.lower().replace(\".\", \"\").replace(\",\", \"\").split(\" \")"
   ]
  },
  {
   "cell_type": "code",
   "execution_count": 152,
   "id": "6b053371-e97b-4ac0-9d4d-315f5e1630b7",
   "metadata": {},
   "outputs": [
    {
     "data": {
      "text/plain": [
       "112"
      ]
     },
     "execution_count": 152,
     "metadata": {},
     "output_type": "execute_result"
    }
   ],
   "source": [
    "len(cleaned_lorem)"
   ]
  },
  {
   "cell_type": "code",
   "execution_count": 153,
   "id": "fd3a4947-1460-4d97-8c3b-8a0bd406647d",
   "metadata": {},
   "outputs": [
    {
     "name": "stdout",
     "output_type": "stream",
     "text": [
      "['netus', 'et', 'malesuada', 'fames', 'ac', 'turpis', 'egestas', 'integer', 'eget', 'tincidunt', 'eget', 'nullam', 'non', 'nisi', 'est', 'tortor', 'at', 'auctor', 'urna', 'nunc', 'id', 'cursus', 'id', 'velit', 'ut', 'tortor', 'pretium', 'viverra', 'suspendisse', 'potenti', 'nullam', 'tellus', 'id', 'interdum', 'velit', 'laoreet', 'turpis', 'egestas', 'integer', 'eget', 'aliquet', 'nibh', 'non', 'odio', 'euismod', 'lacinia', 'at', 'quis', 'risus', 'sed', 'enim', 'neque', 'volutpat', 'ac', 'tincidunt', 'vitae', 'semper', 'quis', 'lectus', 'eleifend', 'mi', 'in', 'nulla', 'posuere', 'sollicitudin', 'aliquam', 'ultrices', 'sagittis', 'orci', 'sit', 'amet', 'luctus', 'venenatis', 'lectus', 'sed', 'id', 'semper', 'risus', 'in', 'hendrerit', 'gravida', 'rutrum', 'quisque', 'non', 'quisque', 'sagittis', 'purus', 'sit', 'amet', 'volutpat', 'consequat', 'mauris', 'nunc', 'congue', 'pretium', 'lectus', 'quam', 'id', 'leo', 'in', 'vitae', 'mauris', 'vitae', 'ultricies', 'leo', 'integer', 'malesuada', 'arcu', 'dictum', 'varius', 'duis', 'at']\n"
     ]
    }
   ],
   "source": [
    "print(cleaned_lorem)"
   ]
  },
  {
   "cell_type": "code",
   "execution_count": 154,
   "id": "fcbd9848-b1f5-4d5f-8bd9-9bc4b4c3dba0",
   "metadata": {},
   "outputs": [
    {
     "data": {
      "text/plain": [
       "{'ac',\n",
       " 'amet',\n",
       " 'at',\n",
       " 'egestas',\n",
       " 'eget',\n",
       " 'id',\n",
       " 'in',\n",
       " 'integer',\n",
       " 'lectus',\n",
       " 'leo',\n",
       " 'malesuada',\n",
       " 'mauris',\n",
       " 'non',\n",
       " 'nullam',\n",
       " 'nunc',\n",
       " 'pretium',\n",
       " 'quis',\n",
       " 'quisque',\n",
       " 'risus',\n",
       " 'sagittis',\n",
       " 'sed',\n",
       " 'semper',\n",
       " 'sit',\n",
       " 'tincidunt',\n",
       " 'tortor',\n",
       " 'turpis',\n",
       " 'velit',\n",
       " 'vitae',\n",
       " 'volutpat'}"
      ]
     },
     "execution_count": 154,
     "metadata": {},
     "output_type": "execute_result"
    }
   ],
   "source": [
    "check_for_duplicates(cleaned_lorem)"
   ]
  },
  {
   "cell_type": "code",
   "execution_count": 155,
   "id": "d401e0f3-ed38-44f0-826b-fb46c50b6d0c",
   "metadata": {},
   "outputs": [
    {
     "data": {
      "text/plain": [
       "29"
      ]
     },
     "execution_count": 155,
     "metadata": {},
     "output_type": "execute_result"
    }
   ],
   "source": [
    "len(check_for_duplicates(cleaned_lorem))"
   ]
  },
  {
   "cell_type": "code",
   "execution_count": 158,
   "id": "1b750172-a099-4190-8412-d723efff5ae1",
   "metadata": {},
   "outputs": [],
   "source": [
    "lorem_words = lorem.split(\" \")"
   ]
  },
  {
   "cell_type": "code",
   "execution_count": 159,
   "id": "48543004-652d-4a4b-8d51-83b038c19b8b",
   "metadata": {},
   "outputs": [
    {
     "data": {
      "text/plain": [
       "18"
      ]
     },
     "execution_count": 159,
     "metadata": {},
     "output_type": "execute_result"
    }
   ],
   "source": [
    "len(check_for_duplicates(lorem_words))"
   ]
  },
  {
   "cell_type": "code",
   "execution_count": 160,
   "id": "ad0086a9-668a-4fb2-b656-8dc74f53a573",
   "metadata": {},
   "outputs": [
    {
     "data": {
      "text/plain": [
       "{'ac',\n",
       " 'amet',\n",
       " 'at',\n",
       " 'egestas',\n",
       " 'eget',\n",
       " 'id',\n",
       " 'in',\n",
       " 'integer',\n",
       " 'lectus.',\n",
       " 'leo',\n",
       " 'nunc',\n",
       " 'quis',\n",
       " 'risus',\n",
       " 'sagittis',\n",
       " 'semper',\n",
       " 'velit',\n",
       " 'vitae',\n",
       " 'volutpat'}"
      ]
     },
     "execution_count": 160,
     "metadata": {},
     "output_type": "execute_result"
    }
   ],
   "source": [
    "check_for_duplicates(lorem_words)"
   ]
  },
  {
   "cell_type": "code",
   "execution_count": 161,
   "id": "9da11ea5-29c5-4418-8792-13c73794d16a",
   "metadata": {},
   "outputs": [],
   "source": [
    "def get_unique(items):\n",
    "    return set(items)"
   ]
  },
  {
   "cell_type": "code",
   "execution_count": 162,
   "id": "691e76a1-a04e-40d5-ad8d-c6fb79b37e7e",
   "metadata": {},
   "outputs": [
    {
     "data": {
      "text/plain": [
       "{1, 2, 3}"
      ]
     },
     "execution_count": 162,
     "metadata": {},
     "output_type": "execute_result"
    }
   ],
   "source": [
    "get_unique(numbers)"
   ]
  },
  {
   "cell_type": "code",
   "execution_count": 163,
   "id": "77b247bf-8d77-44d2-96ec-1f8e8b30fc7a",
   "metadata": {},
   "outputs": [
    {
     "data": {
      "text/plain": [
       "(1, 2, 3)"
      ]
     },
     "execution_count": 163,
     "metadata": {},
     "output_type": "execute_result"
    }
   ],
   "source": [
    "numbers"
   ]
  },
  {
   "cell_type": "code",
   "execution_count": 164,
   "id": "68055e0a-b88b-4b5f-bae3-873b43c9f711",
   "metadata": {},
   "outputs": [
    {
     "data": {
      "text/plain": [
       "[1, 2, 3, 4, 5, 1]"
      ]
     },
     "execution_count": 164,
     "metadata": {},
     "output_type": "execute_result"
    }
   ],
   "source": [
    "nums"
   ]
  },
  {
   "cell_type": "code",
   "execution_count": 165,
   "id": "65a5e549-13d5-49a8-9f52-2868a88e77d9",
   "metadata": {},
   "outputs": [
    {
     "data": {
      "text/plain": [
       "{1, 2, 3, 4, 5}"
      ]
     },
     "execution_count": 165,
     "metadata": {},
     "output_type": "execute_result"
    }
   ],
   "source": [
    "get_unique(nums)"
   ]
  },
  {
   "cell_type": "code",
   "execution_count": 166,
   "id": "110430d9-1ba9-4319-bdc0-7522a282b98e",
   "metadata": {},
   "outputs": [
    {
     "data": {
      "text/plain": [
       "{' ', '!', 'd', 'e', 'h', 'l', 'o', 'r', 'w'}"
      ]
     },
     "execution_count": 166,
     "metadata": {},
     "output_type": "execute_result"
    }
   ],
   "source": [
    "get_unique('hello world!')"
   ]
  },
  {
   "cell_type": "code",
   "execution_count": 167,
   "id": "61aa8eb2-1434-4cdb-9ccc-bd463a8e5898",
   "metadata": {},
   "outputs": [],
   "source": [
    "def get_unique(items):\n",
    "    result = []\n",
    "    known = set()\n",
    "    for item in items:\n",
    "        if item in known:\n",
    "            continue\n",
    "        known.add(item)\n",
    "        result.append(item)\n",
    "    return result"
   ]
  },
  {
   "cell_type": "code",
   "execution_count": 168,
   "id": "54caff4f-7450-47c9-8793-bc4b9d07d4b7",
   "metadata": {},
   "outputs": [
    {
     "data": {
      "text/plain": [
       "['h', 'e', 'l', 'o', ' ', 'w', 'r', 'd', '!']"
      ]
     },
     "execution_count": 168,
     "metadata": {},
     "output_type": "execute_result"
    }
   ],
   "source": [
    "get_unique('hello world!')"
   ]
  },
  {
   "cell_type": "code",
   "execution_count": 169,
   "id": "f97a3081-3ab0-44a5-a10b-7453f7c53f1e",
   "metadata": {},
   "outputs": [
    {
     "name": "stdout",
     "output_type": "stream",
     "text": [
      "1\n",
      "3\n",
      "5\n",
      "7\n",
      "9\n"
     ]
    }
   ],
   "source": [
    "for idx in range(10):\n",
    "    if idx % 2:\n",
    "        print(idx)"
   ]
  },
  {
   "cell_type": "code",
   "execution_count": 170,
   "id": "8d3cfc0e-da25-4097-af2f-aa84498009d7",
   "metadata": {},
   "outputs": [
    {
     "name": "stdout",
     "output_type": "stream",
     "text": [
      "0\n",
      "2\n",
      "4\n",
      "6\n",
      "8\n"
     ]
    }
   ],
   "source": [
    "for idx in range(10):\n",
    "    if idx % 2:\n",
    "        continue\n",
    "    print(idx)"
   ]
  },
  {
   "cell_type": "code",
   "execution_count": 171,
   "id": "671fab4d-96b0-4614-bc86-de8ce6cf2131",
   "metadata": {},
   "outputs": [
    {
     "name": "stdout",
     "output_type": "stream",
     "text": [
      "0\n",
      "2\n",
      "4\n",
      "6\n",
      "8\n"
     ]
    }
   ],
   "source": [
    "for idx in range(0, 10, 2):\n",
    "    print(idx)"
   ]
  },
  {
   "cell_type": "code",
   "execution_count": 172,
   "id": "c6cdd0e7-e382-4970-90ac-de43196ddff2",
   "metadata": {},
   "outputs": [
    {
     "name": "stdout",
     "output_type": "stream",
     "text": [
      "1\n",
      "3\n",
      "5\n",
      "7\n",
      "9\n"
     ]
    }
   ],
   "source": [
    "for idx in range(1, 10, 2):\n",
    "    print(idx)"
   ]
  },
  {
   "cell_type": "code",
   "execution_count": 173,
   "id": "c48908f5-f77b-4524-b15c-421722c6b017",
   "metadata": {},
   "outputs": [
    {
     "name": "stdout",
     "output_type": "stream",
     "text": [
      "36\n"
     ]
    }
   ],
   "source": [
    "for idx in range(100_000):\n",
    "    if idx**2 > 1234:\n",
    "        print(idx)\n",
    "        break"
   ]
  },
  {
   "cell_type": "code",
   "execution_count": 174,
   "id": "e47d75cf-1c5a-4687-a826-af45b0cedd6d",
   "metadata": {},
   "outputs": [
    {
     "name": "stdout",
     "output_type": "stream",
     "text": [
      "36 1296\n"
     ]
    }
   ],
   "source": [
    "for idx in range(100_000):\n",
    "    if idx**2 > 1234:\n",
    "        print(idx, idx**2)\n",
    "        break"
   ]
  },
  {
   "cell_type": "code",
   "execution_count": 175,
   "id": "41caa2fb-b10f-4640-a5de-bd13572e593b",
   "metadata": {},
   "outputs": [
    {
     "name": "stdout",
     "output_type": "stream",
     "text": [
      "36 1296\n"
     ]
    }
   ],
   "source": [
    "for idx in range(100_000):\n",
    "    sq = idx**2\n",
    "    if sq > 1234:\n",
    "        print(idx, sq)\n",
    "        break"
   ]
  },
  {
   "cell_type": "code",
   "execution_count": 176,
   "id": "cf09069f-4aae-4242-a18f-8f7246d711db",
   "metadata": {},
   "outputs": [
    {
     "name": "stdout",
     "output_type": "stream",
     "text": [
      "36 1296\n"
     ]
    }
   ],
   "source": [
    "for idx in range(100_000):\n",
    "    if (sq := idx**2) > 1234:\n",
    "        print(idx, sq)\n",
    "        break"
   ]
  },
  {
   "cell_type": "code",
   "execution_count": 177,
   "id": "095954c8-df78-4bbd-a761-0d5bd4bfd831",
   "metadata": {},
   "outputs": [
    {
     "name": "stdout",
     "output_type": "stream",
     "text": [
      "37 1369\n"
     ]
    }
   ],
   "source": [
    "for idx in range(100_000):\n",
    "    if idx % 3 == 0:\n",
    "        continue\n",
    "    if (sq := idx**2) > 1234:\n",
    "        print(idx, sq)\n",
    "        break"
   ]
  },
  {
   "cell_type": "code",
   "execution_count": 179,
   "id": "c6f9b481-5587-4f10-a7fd-4ca11a27e29c",
   "metadata": {},
   "outputs": [
    {
     "name": "stdout",
     "output_type": "stream",
     "text": [
      "36\n"
     ]
    }
   ],
   "source": [
    "idx = 1\n",
    "while idx ** 2 < 1234:\n",
    "    idx += 1\n",
    "print(idx)"
   ]
  },
  {
   "cell_type": "code",
   "execution_count": 180,
   "id": "5f033eb0-2e7c-41a5-8c77-1d45d9a1f8da",
   "metadata": {},
   "outputs": [
    {
     "name": "stdout",
     "output_type": "stream",
     "text": [
      "36 1296\n"
     ]
    }
   ],
   "source": [
    "idx = 1\n",
    "while (sq := idx ** 2) < 1234:\n",
    "    idx += 1\n",
    "print(idx, sq)"
   ]
  },
  {
   "cell_type": "code",
   "execution_count": 181,
   "id": "9324ca35-8506-486d-9ca2-307b8a0dbcd7",
   "metadata": {},
   "outputs": [],
   "source": [
    "while True:\n",
    "    break"
   ]
  },
  {
   "cell_type": "code",
   "execution_count": 183,
   "id": "499a9b30-a8b1-4c2e-b56c-7607aacd6ef1",
   "metadata": {},
   "outputs": [
    {
     "name": "stdout",
     "output_type": "stream",
     "text": [
      "2\n",
      "3\n",
      "4\n",
      "5\n",
      "6\n"
     ]
    }
   ],
   "source": [
    "idx = 1\n",
    "while True:\n",
    "    idx += 1\n",
    "    print(idx)\n",
    "    if idx > 5:\n",
    "        break"
   ]
  },
  {
   "cell_type": "code",
   "execution_count": 184,
   "id": "d8eae271-0e97-48c6-830c-ce310a265ec1",
   "metadata": {},
   "outputs": [
    {
     "name": "stdout",
     "output_type": "stream",
     "text": [
      "2\n",
      "3\n",
      "4\n",
      "5\n",
      "6\n"
     ]
    }
   ],
   "source": [
    "idx = 1\n",
    "while idx <= 5:\n",
    "    idx += 1\n",
    "    print(idx)"
   ]
  },
  {
   "cell_type": "code",
   "execution_count": null,
   "id": "5e591605-b198-4a32-81ba-18bf68dc6505",
   "metadata": {},
   "outputs": [],
   "source": []
  }
 ],
 "metadata": {
  "kernelspec": {
   "display_name": "Python 3 (ipykernel)",
   "language": "python",
   "name": "python3"
  },
  "language_info": {
   "codemirror_mode": {
    "name": "ipython",
    "version": 3
   },
   "file_extension": ".py",
   "mimetype": "text/x-python",
   "name": "python",
   "nbconvert_exporter": "python",
   "pygments_lexer": "ipython3",
   "version": "3.12.3"
  }
 },
 "nbformat": 4,
 "nbformat_minor": 5
}
