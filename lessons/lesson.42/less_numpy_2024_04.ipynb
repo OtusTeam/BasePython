{
 "cells": [
  {
   "cell_type": "markdown",
   "id": "be191cf8-13d5-4877-bc67-128993712d63",
   "metadata": {
    "ExecuteTime": {
     "end_time": "2024-04-16T16:41:46.317432Z",
     "start_time": "2024-04-16T16:41:46.315226Z"
    },
    "collapsed": true,
    "jupyter": {
     "outputs_hidden": true
    }
   },
   "source": [
    "pip install numpy"
   ]
  },
  {
   "cell_type": "code",
   "execution_count": 2,
   "id": "6a34f8a028f3a56b",
   "metadata": {},
   "outputs": [],
   "source": [
    "import numpy as np"
   ]
  },
  {
   "cell_type": "code",
   "execution_count": 3,
   "id": "4ff9e969-d906-47fe-a07f-12c35bf4fa68",
   "metadata": {},
   "outputs": [
    {
     "data": {
      "text/plain": [
       "array([1, 2, 3])"
      ]
     },
     "execution_count": 3,
     "metadata": {},
     "output_type": "execute_result"
    }
   ],
   "source": [
    "np.array([1, 2, 3])"
   ]
  },
  {
   "cell_type": "code",
   "execution_count": 7,
   "id": "4265ae7c-58aa-45f1-b9c5-183c2df94031",
   "metadata": {},
   "outputs": [],
   "source": [
    "array1 = np.array([[1, 2, 3], [4, 5, 6], [7, 8, 9]])"
   ]
  },
  {
   "cell_type": "code",
   "execution_count": 8,
   "id": "bf74002b-2425-402e-8e51-a5cd6e06b140",
   "metadata": {},
   "outputs": [
    {
     "data": {
      "text/plain": [
       "array([[1, 2, 3],\n",
       "       [4, 5, 6],\n",
       "       [7, 8, 9]])"
      ]
     },
     "execution_count": 8,
     "metadata": {},
     "output_type": "execute_result"
    }
   ],
   "source": [
    "array1"
   ]
  },
  {
   "cell_type": "code",
   "execution_count": 10,
   "id": "519b9db2-145c-44f7-bb94-9a401856ff13",
   "metadata": {},
   "outputs": [],
   "source": [
    "array2 = np.array([[1, 2, 3], [4, 5, 6], [7, 8, 10]])"
   ]
  },
  {
   "cell_type": "code",
   "execution_count": 11,
   "id": "e881f117-42b4-4005-bb4e-8766d03cc6a1",
   "metadata": {},
   "outputs": [
    {
     "data": {
      "text/plain": [
       "array([1., 1., 1.])"
      ]
     },
     "execution_count": 11,
     "metadata": {},
     "output_type": "execute_result"
    }
   ],
   "source": [
    "np.ones(3)"
   ]
  },
  {
   "cell_type": "code",
   "execution_count": 12,
   "id": "f7994b36-e2a7-4e16-ba39-7bc1f7a29b28",
   "metadata": {},
   "outputs": [
    {
     "data": {
      "text/plain": [
       "array([0., 0., 0.])"
      ]
     },
     "execution_count": 12,
     "metadata": {},
     "output_type": "execute_result"
    }
   ],
   "source": [
    "np.zeros(3)"
   ]
  },
  {
   "cell_type": "code",
   "execution_count": 13,
   "id": "57055ea7-8fd8-48e4-99ac-09c0b2fac585",
   "metadata": {},
   "outputs": [
    {
     "data": {
      "text/plain": [
       "array([0.05574139, 0.36415461, 0.0146302 , 0.52599944, 0.97801303])"
      ]
     },
     "execution_count": 13,
     "metadata": {},
     "output_type": "execute_result"
    }
   ],
   "source": [
    "np.random.random(5)"
   ]
  },
  {
   "cell_type": "code",
   "execution_count": 14,
   "id": "80246ff2-589d-4ae1-8f8a-6bdb3fa3ab20",
   "metadata": {},
   "outputs": [
    {
     "data": {
      "text/plain": [
       "array([10, 15, 20, 25])"
      ]
     },
     "execution_count": 14,
     "metadata": {},
     "output_type": "execute_result"
    }
   ],
   "source": [
    "np.arange(10, 30, 5)"
   ]
  },
  {
   "cell_type": "code",
   "execution_count": 15,
   "id": "47ed30d3-2955-4b20-929e-33edc35f9a5a",
   "metadata": {},
   "outputs": [
    {
     "data": {
      "text/plain": [
       "array([10, 15, 20, 25, 30])"
      ]
     },
     "execution_count": 15,
     "metadata": {},
     "output_type": "execute_result"
    }
   ],
   "source": [
    "np.arange(10, 31, 5)"
   ]
  },
  {
   "cell_type": "code",
   "execution_count": 16,
   "id": "f5b562f7-e588-4f6d-a0ed-30054d9b2f69",
   "metadata": {},
   "outputs": [
    {
     "data": {
      "text/plain": [
       "array([0.  , 0.25, 0.5 , 0.75, 1.  , 1.25, 1.5 , 1.75, 2.  ])"
      ]
     },
     "execution_count": 16,
     "metadata": {},
     "output_type": "execute_result"
    }
   ],
   "source": [
    "np.linspace(0, 2, 9)"
   ]
  },
  {
   "cell_type": "code",
   "execution_count": 18,
   "id": "69ed9a26-0608-4f89-a379-0eb5146403ea",
   "metadata": {},
   "outputs": [
    {
     "data": {
      "text/plain": [
       "array([[0., 0.],\n",
       "       [0., 0.],\n",
       "       [0., 0.]])"
      ]
     },
     "execution_count": 18,
     "metadata": {},
     "output_type": "execute_result"
    }
   ],
   "source": [
    "np.zeros([3, 2])"
   ]
  },
  {
   "cell_type": "code",
   "execution_count": 22,
   "id": "6db51439-338b-46bf-a23c-935d5d1a957a",
   "metadata": {},
   "outputs": [],
   "source": [
    "array_zeros = np.zeros([4, 3, 2])"
   ]
  },
  {
   "cell_type": "code",
   "execution_count": 20,
   "id": "f88a4d80-307e-48a9-b121-046e46dede7e",
   "metadata": {},
   "outputs": [],
   "source": [
    "array1 = np.array([[1, 2, 3], [4, 5, 6], [7, 8, 9]])"
   ]
  },
  {
   "cell_type": "code",
   "execution_count": 21,
   "id": "ee9b9f76-23b9-430d-a80e-5ad453d7c7fc",
   "metadata": {},
   "outputs": [
    {
     "data": {
      "text/plain": [
       "2"
      ]
     },
     "execution_count": 21,
     "metadata": {},
     "output_type": "execute_result"
    }
   ],
   "source": [
    "array1.ndim"
   ]
  },
  {
   "cell_type": "code",
   "execution_count": 23,
   "id": "ef987b4c-00be-41a3-9268-77f0ae59b80b",
   "metadata": {},
   "outputs": [
    {
     "data": {
      "text/plain": [
       "3"
      ]
     },
     "execution_count": 23,
     "metadata": {},
     "output_type": "execute_result"
    }
   ],
   "source": [
    "array_zeros.ndim"
   ]
  },
  {
   "cell_type": "code",
   "execution_count": 24,
   "id": "c1160201-a2db-4d85-a734-59a487abfa89",
   "metadata": {},
   "outputs": [
    {
     "data": {
      "text/plain": [
       "(3, 3)"
      ]
     },
     "execution_count": 24,
     "metadata": {},
     "output_type": "execute_result"
    }
   ],
   "source": [
    "array1.shape"
   ]
  },
  {
   "cell_type": "code",
   "execution_count": 25,
   "id": "d14bc42c-cbc3-4988-adea-7f2feb4e2231",
   "metadata": {},
   "outputs": [
    {
     "data": {
      "text/plain": [
       "(4, 3, 2)"
      ]
     },
     "execution_count": 25,
     "metadata": {},
     "output_type": "execute_result"
    }
   ],
   "source": [
    "array_zeros.shape"
   ]
  },
  {
   "cell_type": "code",
   "execution_count": 26,
   "id": "9d024274-cca7-47c7-a2c1-c48f3ef391ca",
   "metadata": {},
   "outputs": [
    {
     "data": {
      "text/plain": [
       "9"
      ]
     },
     "execution_count": 26,
     "metadata": {},
     "output_type": "execute_result"
    }
   ],
   "source": [
    "array1.size"
   ]
  },
  {
   "cell_type": "code",
   "execution_count": 27,
   "id": "acaa5b65-9d62-4918-b755-e2adae8cd74a",
   "metadata": {},
   "outputs": [
    {
     "data": {
      "text/plain": [
       "24"
      ]
     },
     "execution_count": 27,
     "metadata": {},
     "output_type": "execute_result"
    }
   ],
   "source": [
    "array_zeros.size"
   ]
  },
  {
   "cell_type": "code",
   "execution_count": 28,
   "id": "a54dfef6-d1ad-4a3a-a924-b4464bb31f82",
   "metadata": {},
   "outputs": [
    {
     "data": {
      "text/plain": [
       "dtype('int64')"
      ]
     },
     "execution_count": 28,
     "metadata": {},
     "output_type": "execute_result"
    }
   ],
   "source": [
    "array1."
   ]
  },
  {
   "cell_type": "code",
   "execution_count": 29,
   "id": "ffacae7d-cc31-4d8f-b49e-c45dd299fb23",
   "metadata": {},
   "outputs": [
    {
     "data": {
      "text/plain": [
       "dtype('float64')"
      ]
     },
     "execution_count": 29,
     "metadata": {},
     "output_type": "execute_result"
    }
   ],
   "source": [
    "array_zeros.dtype"
   ]
  },
  {
   "cell_type": "code",
   "execution_count": 31,
   "id": "57b17f89-398d-4773-9387-930c5c05cad7",
   "metadata": {},
   "outputs": [],
   "source": [
    "a1 = np.array([1, 2, 3])"
   ]
  },
  {
   "cell_type": "code",
   "execution_count": 32,
   "id": "86146066-1493-4bba-8bdf-a5677d1afdc5",
   "metadata": {},
   "outputs": [],
   "source": [
    "a2 = np.array([10, 20, 30])"
   ]
  },
  {
   "cell_type": "code",
   "execution_count": 33,
   "id": "beb1fc78-e097-408f-b71d-03fe25f81e4f",
   "metadata": {},
   "outputs": [
    {
     "data": {
      "text/plain": [
       "array([11, 22, 33])"
      ]
     },
     "execution_count": 33,
     "metadata": {},
     "output_type": "execute_result"
    }
   ],
   "source": [
    "a1 + a2"
   ]
  },
  {
   "cell_type": "code",
   "execution_count": 34,
   "id": "dc07c2f1-fb9c-42c0-a400-b45ebbfdca59",
   "metadata": {},
   "outputs": [
    {
     "data": {
      "text/plain": [
       "array([ -9, -18, -27])"
      ]
     },
     "execution_count": 34,
     "metadata": {},
     "output_type": "execute_result"
    }
   ],
   "source": [
    "a1 - a2"
   ]
  },
  {
   "cell_type": "code",
   "execution_count": 35,
   "id": "dc20fce3-ee3b-4931-945d-836c8fc18c55",
   "metadata": {},
   "outputs": [
    {
     "data": {
      "text/plain": [
       "array([10, 40, 90])"
      ]
     },
     "execution_count": 35,
     "metadata": {},
     "output_type": "execute_result"
    }
   ],
   "source": [
    "a1 * a2"
   ]
  },
  {
   "cell_type": "code",
   "execution_count": 36,
   "id": "f8d70949-f02b-4539-a6d9-7a59508e6636",
   "metadata": {},
   "outputs": [
    {
     "data": {
      "text/plain": [
       "array([0.1, 0.1, 0.1])"
      ]
     },
     "execution_count": 36,
     "metadata": {},
     "output_type": "execute_result"
    }
   ],
   "source": [
    "a1 / a2"
   ]
  },
  {
   "cell_type": "code",
   "execution_count": 37,
   "id": "09e93854-4282-4190-a4c6-c7d7425f27ff",
   "metadata": {},
   "outputs": [
    {
     "data": {
      "text/plain": [
       "array([2, 4, 6])"
      ]
     },
     "execution_count": 37,
     "metadata": {},
     "output_type": "execute_result"
    }
   ],
   "source": [
    "a1 * 2"
   ]
  },
  {
   "cell_type": "code",
   "execution_count": 38,
   "id": "9c52c6cb-ab5f-4b36-b236-b04be2fae32c",
   "metadata": {},
   "outputs": [
    {
     "data": {
      "text/plain": [
       "array([0.5, 1. , 1.5])"
      ]
     },
     "execution_count": 38,
     "metadata": {},
     "output_type": "execute_result"
    }
   ],
   "source": [
    "a1 / 2"
   ]
  },
  {
   "cell_type": "code",
   "execution_count": 39,
   "id": "92495b9c-3375-4e3d-8615-9beca0a239f7",
   "metadata": {},
   "outputs": [],
   "source": [
    "a3 = np.array([1, 2, 3, 4, 5, 6, 7, 8, 9])"
   ]
  },
  {
   "cell_type": "code",
   "execution_count": 40,
   "id": "ea0162ec-0d1a-414c-8d0d-ed9cea10638d",
   "metadata": {},
   "outputs": [
    {
     "data": {
      "text/plain": [
       "array([1, 2, 3, 4, 5, 6, 7, 8, 9])"
      ]
     },
     "execution_count": 40,
     "metadata": {},
     "output_type": "execute_result"
    }
   ],
   "source": [
    "a3"
   ]
  },
  {
   "cell_type": "code",
   "execution_count": 41,
   "id": "906686fd-c4c8-4c6c-a531-3acd8e8248f2",
   "metadata": {},
   "outputs": [
    {
     "data": {
      "text/plain": [
       "3"
      ]
     },
     "execution_count": 41,
     "metadata": {},
     "output_type": "execute_result"
    }
   ],
   "source": [
    "a3[2]"
   ]
  },
  {
   "cell_type": "code",
   "execution_count": 42,
   "id": "a02f6188-b2be-4b4f-ab72-ce33398e6078",
   "metadata": {},
   "outputs": [
    {
     "data": {
      "text/plain": [
       "9"
      ]
     },
     "execution_count": 42,
     "metadata": {},
     "output_type": "execute_result"
    }
   ],
   "source": [
    "a3[-1]"
   ]
  },
  {
   "cell_type": "code",
   "execution_count": 43,
   "id": "4b3d597c-52bf-42a1-aec2-9dc0ca7457ea",
   "metadata": {},
   "outputs": [
    {
     "data": {
      "text/plain": [
       "array([1, 2])"
      ]
     },
     "execution_count": 43,
     "metadata": {},
     "output_type": "execute_result"
    }
   ],
   "source": [
    "a3[0:2]"
   ]
  },
  {
   "cell_type": "code",
   "execution_count": 44,
   "id": "18dbc2f0-a766-4932-80d4-b684f8cce5ab",
   "metadata": {},
   "outputs": [
    {
     "data": {
      "text/plain": [
       "array([3, 4, 5, 6, 7, 8, 9])"
      ]
     },
     "execution_count": 44,
     "metadata": {},
     "output_type": "execute_result"
    }
   ],
   "source": [
    "a3[2:]"
   ]
  },
  {
   "cell_type": "code",
   "execution_count": 45,
   "id": "625dc038-bca8-4ef4-bf2f-9d8d3e187d45",
   "metadata": {},
   "outputs": [
    {
     "data": {
      "text/plain": [
       "1"
      ]
     },
     "execution_count": 45,
     "metadata": {},
     "output_type": "execute_result"
    }
   ],
   "source": [
    "a3.min()"
   ]
  },
  {
   "cell_type": "code",
   "execution_count": 46,
   "id": "d74a387c-bfbf-478c-b054-31f6ea683289",
   "metadata": {},
   "outputs": [
    {
     "data": {
      "text/plain": [
       "9"
      ]
     },
     "execution_count": 46,
     "metadata": {},
     "output_type": "execute_result"
    }
   ],
   "source": [
    "a3.max()"
   ]
  },
  {
   "cell_type": "code",
   "execution_count": 47,
   "id": "50b3a3de-27a3-4080-8e0c-fb11b4360e0b",
   "metadata": {},
   "outputs": [
    {
     "data": {
      "text/plain": [
       "45"
      ]
     },
     "execution_count": 47,
     "metadata": {},
     "output_type": "execute_result"
    }
   ],
   "source": [
    "a3.sum()"
   ]
  },
  {
   "cell_type": "code",
   "execution_count": 48,
   "id": "d0b384ae-c5e8-4835-8a90-e9ed50ca00e3",
   "metadata": {},
   "outputs": [
    {
     "data": {
      "text/plain": [
       "5.0"
      ]
     },
     "execution_count": 48,
     "metadata": {},
     "output_type": "execute_result"
    }
   ],
   "source": [
    "a3.mean()"
   ]
  },
  {
   "cell_type": "code",
   "execution_count": 49,
   "id": "54da038f-50de-47ab-9488-cb04c2987f7e",
   "metadata": {},
   "outputs": [
    {
     "data": {
      "text/plain": [
       "362880"
      ]
     },
     "execution_count": 49,
     "metadata": {},
     "output_type": "execute_result"
    }
   ],
   "source": [
    "a3.prod()"
   ]
  },
  {
   "cell_type": "code",
   "execution_count": 50,
   "id": "ed4951f4-6cb4-4295-8423-f6d1a9bd84c9",
   "metadata": {},
   "outputs": [],
   "source": [
    "array1 = np.array([[1, 2, 3], [4, 5, 6], [7, 8, 9]])"
   ]
  },
  {
   "cell_type": "code",
   "execution_count": 51,
   "id": "a08651c7-5265-4e05-ac8b-44158345e9cd",
   "metadata": {},
   "outputs": [],
   "source": [
    "array2 = np.array([[10, 20, 30], [40, 50, 60], [70, 80, 90]])"
   ]
  },
  {
   "cell_type": "code",
   "execution_count": 52,
   "id": "f80a9424-9617-437e-94e1-6b054e837262",
   "metadata": {},
   "outputs": [
    {
     "data": {
      "text/plain": [
       "array([[11, 22, 33],\n",
       "       [44, 55, 66],\n",
       "       [77, 88, 99]])"
      ]
     },
     "execution_count": 52,
     "metadata": {},
     "output_type": "execute_result"
    }
   ],
   "source": [
    "array1 + array2"
   ]
  },
  {
   "cell_type": "code",
   "execution_count": 53,
   "id": "d8fff9e0-31ae-47e3-8f92-6cee20240cef",
   "metadata": {},
   "outputs": [
    {
     "data": {
      "text/plain": [
       "array([[ 9, 18, 27],\n",
       "       [36, 45, 54],\n",
       "       [63, 72, 81]])"
      ]
     },
     "execution_count": 53,
     "metadata": {},
     "output_type": "execute_result"
    }
   ],
   "source": [
    "array2 - array1"
   ]
  },
  {
   "cell_type": "code",
   "execution_count": 54,
   "id": "9d6861d7-a5bd-4105-b4e3-0b6229a00662",
   "metadata": {},
   "outputs": [
    {
     "data": {
      "text/plain": [
       "array([[1, 2, 3],\n",
       "       [4, 5, 6],\n",
       "       [7, 8, 9]])"
      ]
     },
     "execution_count": 54,
     "metadata": {},
     "output_type": "execute_result"
    }
   ],
   "source": [
    "array1"
   ]
  },
  {
   "cell_type": "code",
   "execution_count": 56,
   "id": "55c13851-ad50-4d5d-b6b2-9c094a29f25f",
   "metadata": {},
   "outputs": [],
   "source": [
    "array3 = np.array([[10, 20, 30, 45], [40, 50, 60, 75], [70, 80, 90, 100]])"
   ]
  },
  {
   "cell_type": "code",
   "execution_count": 57,
   "id": "1e15d580-3d78-4aa1-9679-dc01a1640ed3",
   "metadata": {},
   "outputs": [
    {
     "ename": "ValueError",
     "evalue": "operands could not be broadcast together with shapes (3,4) (3,3) ",
     "output_type": "error",
     "traceback": [
      "\u001b[0;31m---------------------------------------------------------------------------\u001b[0m",
      "\u001b[0;31mValueError\u001b[0m                                Traceback (most recent call last)",
      "Cell \u001b[0;32mIn[57], line 1\u001b[0m\n\u001b[0;32m----> 1\u001b[0m \u001b[43marray3\u001b[49m\u001b[43m \u001b[49m\u001b[38;5;241;43m+\u001b[39;49m\u001b[43m \u001b[49m\u001b[43marray1\u001b[49m\n",
      "\u001b[0;31mValueError\u001b[0m: operands could not be broadcast together with shapes (3,4) (3,3) "
     ]
    }
   ],
   "source": [
    "array3 + array1"
   ]
  },
  {
   "cell_type": "code",
   "execution_count": 58,
   "id": "8750db45-4459-4002-8b96-f02ee4d82c7c",
   "metadata": {},
   "outputs": [
    {
     "data": {
      "text/plain": [
       "3"
      ]
     },
     "execution_count": 58,
     "metadata": {},
     "output_type": "execute_result"
    }
   ],
   "source": [
    "array1[0][2]"
   ]
  },
  {
   "cell_type": "code",
   "execution_count": 59,
   "id": "4c1e9a6d-8d5a-41b2-b5f2-1f506e255f2d",
   "metadata": {},
   "outputs": [
    {
     "data": {
      "text/plain": [
       "3"
      ]
     },
     "execution_count": 59,
     "metadata": {},
     "output_type": "execute_result"
    }
   ],
   "source": [
    "array1[0,2]"
   ]
  },
  {
   "cell_type": "code",
   "execution_count": 60,
   "id": "aabcbfc1-ffe2-4391-b4e1-e5f2ceab2c9d",
   "metadata": {},
   "outputs": [
    {
     "data": {
      "text/plain": [
       "array([[4, 5, 6],\n",
       "       [7, 8, 9]])"
      ]
     },
     "execution_count": 60,
     "metadata": {},
     "output_type": "execute_result"
    }
   ],
   "source": [
    "array1[1:3]"
   ]
  },
  {
   "cell_type": "code",
   "execution_count": 61,
   "id": "f01da8ba-1bc6-48bd-9ec2-8c0380bc54ed",
   "metadata": {},
   "outputs": [
    {
     "data": {
      "text/plain": [
       "array([1, 4])"
      ]
     },
     "execution_count": 61,
     "metadata": {},
     "output_type": "execute_result"
    }
   ],
   "source": [
    "array1[0:2,0]"
   ]
  },
  {
   "cell_type": "code",
   "execution_count": 64,
   "id": "72d31420-1592-4720-b299-c73270cf6d07",
   "metadata": {},
   "outputs": [],
   "source": [
    "array1 = np.array([[11, 2, 33], [4, 15, 6], [7, 8, 9]])"
   ]
  },
  {
   "cell_type": "code",
   "execution_count": 66,
   "id": "124f27a1-a5c9-4825-b2e1-7300e9e40467",
   "metadata": {},
   "outputs": [
    {
     "data": {
      "text/plain": [
       "2"
      ]
     },
     "execution_count": 66,
     "metadata": {},
     "output_type": "execute_result"
    }
   ],
   "source": [
    "array1.min()"
   ]
  },
  {
   "cell_type": "code",
   "execution_count": 67,
   "id": "26352546-db80-461e-87db-a763b7e569a4",
   "metadata": {},
   "outputs": [
    {
     "data": {
      "text/plain": [
       "33"
      ]
     },
     "execution_count": 67,
     "metadata": {},
     "output_type": "execute_result"
    }
   ],
   "source": [
    "array1.max()"
   ]
  },
  {
   "cell_type": "code",
   "execution_count": 69,
   "id": "0fcc702e-28e9-4a00-bc17-85b9248f092d",
   "metadata": {},
   "outputs": [],
   "source": [
    "a3 = np.array([1, 2, 3, 4, 5, 6, 7, 8, 9, 10, 11, 12])"
   ]
  },
  {
   "cell_type": "code",
   "execution_count": 70,
   "id": "5a147fb9-f5c2-40ad-bea0-3a45fc4c75b7",
   "metadata": {},
   "outputs": [],
   "source": [
    "temp1 = a3.reshape(4, 3)"
   ]
  },
  {
   "cell_type": "code",
   "execution_count": 71,
   "id": "3882bdd1-fb40-4281-8178-56a52bf7ed25",
   "metadata": {},
   "outputs": [
    {
     "data": {
      "text/plain": [
       "array([[ 1,  2,  3],\n",
       "       [ 4,  5,  6],\n",
       "       [ 7,  8,  9],\n",
       "       [10, 11, 12]])"
      ]
     },
     "execution_count": 71,
     "metadata": {},
     "output_type": "execute_result"
    }
   ],
   "source": [
    "temp1"
   ]
  },
  {
   "cell_type": "code",
   "execution_count": 72,
   "id": "40f38955-0d0a-41ba-b011-0c3caf445aae",
   "metadata": {},
   "outputs": [
    {
     "data": {
      "text/plain": [
       "(4, 3)"
      ]
     },
     "execution_count": 72,
     "metadata": {},
     "output_type": "execute_result"
    }
   ],
   "source": [
    "temp1.shape"
   ]
  },
  {
   "cell_type": "code",
   "execution_count": 73,
   "id": "6602e2ac-cd12-41df-bdcb-38c3af50bdab",
   "metadata": {},
   "outputs": [],
   "source": [
    "temp2 = temp1.reshape(-1)"
   ]
  },
  {
   "cell_type": "code",
   "execution_count": 74,
   "id": "8ebd52d9-97fa-4003-a7cf-3a10bfd14f09",
   "metadata": {},
   "outputs": [
    {
     "data": {
      "text/plain": [
       "array([ 1,  2,  3,  4,  5,  6,  7,  8,  9, 10, 11, 12])"
      ]
     },
     "execution_count": 74,
     "metadata": {},
     "output_type": "execute_result"
    }
   ],
   "source": [
    "temp2"
   ]
  },
  {
   "cell_type": "code",
   "execution_count": 75,
   "id": "f8dad96f-f60e-447a-9a62-4cbb865ec052",
   "metadata": {},
   "outputs": [],
   "source": [
    "temp3 = temp1.reshape(3, 4)"
   ]
  },
  {
   "cell_type": "code",
   "execution_count": 76,
   "id": "c469c045-0297-42fa-946c-c7b30f06d950",
   "metadata": {},
   "outputs": [
    {
     "data": {
      "text/plain": [
       "array([[ 1,  2,  3,  4],\n",
       "       [ 5,  6,  7,  8],\n",
       "       [ 9, 10, 11, 12]])"
      ]
     },
     "execution_count": 76,
     "metadata": {},
     "output_type": "execute_result"
    }
   ],
   "source": [
    "temp3"
   ]
  },
  {
   "cell_type": "markdown",
   "id": "7b108d92-e2f0-4b21-ad7c-303d7a99b015",
   "metadata": {},
   "source": []
  },
  {
   "cell_type": "code",
   "execution_count": null,
   "id": "04a04be4-e1cc-4961-85db-96b194c5f4a9",
   "metadata": {},
   "outputs": [],
   "source": []
  },
  {
   "cell_type": "markdown",
   "id": "9562008a-66d2-40d7-b0e6-f081f226e38f",
   "metadata": {},
   "source": [
    "pip install pandas"
   ]
  },
  {
   "cell_type": "code",
   "execution_count": 77,
   "id": "8bf77ede-4720-452b-9cfa-6f41aaf6b4b3",
   "metadata": {},
   "outputs": [],
   "source": [
    "import pandas as pd"
   ]
  },
  {
   "cell_type": "code",
   "execution_count": 78,
   "id": "0504f9e3-388d-46ad-ac4a-6f2e66737ada",
   "metadata": {},
   "outputs": [],
   "source": [
    "d = pd.Series([1, 2, 3, 4])"
   ]
  },
  {
   "cell_type": "code",
   "execution_count": 79,
   "id": "30e88c6c-3e1b-47dd-9815-2aced4c70ab9",
   "metadata": {},
   "outputs": [
    {
     "data": {
      "text/plain": [
       "0    1\n",
       "1    2\n",
       "2    3\n",
       "3    4\n",
       "dtype: int64"
      ]
     },
     "execution_count": 79,
     "metadata": {},
     "output_type": "execute_result"
    }
   ],
   "source": [
    "d"
   ]
  },
  {
   "cell_type": "code",
   "execution_count": 80,
   "id": "81b2d831-4457-451a-89ef-17083436f0a4",
   "metadata": {},
   "outputs": [],
   "source": [
    "d = pd.Series([1, 2, 3, 4], index=['a', 's', 'd', 'f'])"
   ]
  },
  {
   "cell_type": "code",
   "execution_count": 81,
   "id": "d35ca2b0-48ea-45d7-b2d0-aa0ad07115a4",
   "metadata": {},
   "outputs": [
    {
     "data": {
      "text/plain": [
       "a    1\n",
       "s    2\n",
       "d    3\n",
       "f    4\n",
       "dtype: int64"
      ]
     },
     "execution_count": 81,
     "metadata": {},
     "output_type": "execute_result"
    }
   ],
   "source": [
    "d"
   ]
  },
  {
   "cell_type": "code",
   "execution_count": 82,
   "id": "7fea0c8f-3f28-45e5-81cd-feed6e5fd56c",
   "metadata": {},
   "outputs": [
    {
     "data": {
      "text/plain": [
       "Index(['a', 's', 'd', 'f'], dtype='object')"
      ]
     },
     "execution_count": 82,
     "metadata": {},
     "output_type": "execute_result"
    }
   ],
   "source": [
    "d.index"
   ]
  },
  {
   "cell_type": "code",
   "execution_count": 83,
   "id": "79815620-87d4-4ea5-a56f-267cf8ddfaea",
   "metadata": {},
   "outputs": [
    {
     "data": {
      "text/plain": [
       "array([1, 2, 3, 4])"
      ]
     },
     "execution_count": 83,
     "metadata": {},
     "output_type": "execute_result"
    }
   ],
   "source": [
    "d.values"
   ]
  },
  {
   "cell_type": "code",
   "execution_count": 84,
   "id": "2ec7f5fa-532f-475d-a72d-35aa42b9e2bf",
   "metadata": {},
   "outputs": [
    {
     "name": "stderr",
     "output_type": "stream",
     "text": [
      "/tmp/ipykernel_39450/464593666.py:1: FutureWarning: Series.__getitem__ treating keys as positions is deprecated. In a future version, integer keys will always be treated as labels (consistent with DataFrame behavior). To access a value by position, use `ser.iloc[pos]`\n",
      "  d[2]\n"
     ]
    },
    {
     "data": {
      "text/plain": [
       "3"
      ]
     },
     "execution_count": 84,
     "metadata": {},
     "output_type": "execute_result"
    }
   ],
   "source": [
    "d[2]"
   ]
  },
  {
   "cell_type": "code",
   "execution_count": 85,
   "id": "f3715379-95b0-44d9-bd78-c42670d212df",
   "metadata": {},
   "outputs": [],
   "source": [
    "df = pd.DataFrame({'Count':[ 10, 20, 30], 'Toys': ['t1', 't2', 't3']})"
   ]
  },
  {
   "cell_type": "code",
   "execution_count": 86,
   "id": "10e1624d-cdf5-47e8-8bb3-7d927e7c2390",
   "metadata": {},
   "outputs": [
    {
     "data": {
      "text/html": [
       "<div>\n",
       "<style scoped>\n",
       "    .dataframe tbody tr th:only-of-type {\n",
       "        vertical-align: middle;\n",
       "    }\n",
       "\n",
       "    .dataframe tbody tr th {\n",
       "        vertical-align: top;\n",
       "    }\n",
       "\n",
       "    .dataframe thead th {\n",
       "        text-align: right;\n",
       "    }\n",
       "</style>\n",
       "<table border=\"1\" class=\"dataframe\">\n",
       "  <thead>\n",
       "    <tr style=\"text-align: right;\">\n",
       "      <th></th>\n",
       "      <th>Count</th>\n",
       "      <th>Toys</th>\n",
       "    </tr>\n",
       "  </thead>\n",
       "  <tbody>\n",
       "    <tr>\n",
       "      <th>0</th>\n",
       "      <td>10</td>\n",
       "      <td>t1</td>\n",
       "    </tr>\n",
       "    <tr>\n",
       "      <th>1</th>\n",
       "      <td>20</td>\n",
       "      <td>t2</td>\n",
       "    </tr>\n",
       "    <tr>\n",
       "      <th>2</th>\n",
       "      <td>30</td>\n",
       "      <td>t3</td>\n",
       "    </tr>\n",
       "  </tbody>\n",
       "</table>\n",
       "</div>"
      ],
      "text/plain": [
       "   Count Toys\n",
       "0     10   t1\n",
       "1     20   t2\n",
       "2     30   t3"
      ]
     },
     "execution_count": 86,
     "metadata": {},
     "output_type": "execute_result"
    }
   ],
   "source": [
    "df"
   ]
  },
  {
   "cell_type": "code",
   "execution_count": 87,
   "id": "a9eec556-cfa4-4d07-bbc6-b06cb6e81e7f",
   "metadata": {},
   "outputs": [],
   "source": [
    "new_dict = {\"Город\": [\"Москва\", \"Сочи\", \"Краснодар\", \"Тула\", \"Орёл\", \"Спб\", \"Тверь\"],\n",
    "\t\t\"Кол-во магазинов\": [17, 2, 5, 3, 1, 10, 4],\n",
    "\t\t\"Товар\": [\"Продукты\", \"Всё для дома\", \"Аптека\", \"Детский\", \"Стройматериалы\", \"Продукты\", \"Аптека\"],\n",
    "\t\t\"Доход\": [100000, 20300, 75000, 17000, 5700, 75000, 5700]}"
   ]
  },
  {
   "cell_type": "code",
   "execution_count": 88,
   "id": "9194b659-7d67-432b-89aa-0a84dc868b52",
   "metadata": {},
   "outputs": [
    {
     "data": {
      "text/plain": [
       "{'Город': ['Москва', 'Сочи', 'Краснодар', 'Тула', 'Орёл', 'Спб', 'Тверь'],\n",
       " 'Кол-во магазинов': [17, 2, 5, 3, 1, 10, 4],\n",
       " 'Товар': ['Продукты',\n",
       "  'Всё для дома',\n",
       "  'Аптека',\n",
       "  'Детский',\n",
       "  'Стройматериалы',\n",
       "  'Продукты',\n",
       "  'Аптека'],\n",
       " 'Доход': [100000, 20300, 75000, 17000, 5700, 75000, 5700]}"
      ]
     },
     "execution_count": 88,
     "metadata": {},
     "output_type": "execute_result"
    }
   ],
   "source": [
    "new_dict"
   ]
  },
  {
   "cell_type": "code",
   "execution_count": 89,
   "id": "1c27613f-01a4-432a-b013-7f76ff900392",
   "metadata": {},
   "outputs": [],
   "source": [
    "df = pd.DataFrame(new_dict)"
   ]
  },
  {
   "cell_type": "code",
   "execution_count": 90,
   "id": "deeeb207-e63f-4693-92be-0182b717a895",
   "metadata": {},
   "outputs": [
    {
     "data": {
      "text/html": [
       "<div>\n",
       "<style scoped>\n",
       "    .dataframe tbody tr th:only-of-type {\n",
       "        vertical-align: middle;\n",
       "    }\n",
       "\n",
       "    .dataframe tbody tr th {\n",
       "        vertical-align: top;\n",
       "    }\n",
       "\n",
       "    .dataframe thead th {\n",
       "        text-align: right;\n",
       "    }\n",
       "</style>\n",
       "<table border=\"1\" class=\"dataframe\">\n",
       "  <thead>\n",
       "    <tr style=\"text-align: right;\">\n",
       "      <th></th>\n",
       "      <th>Город</th>\n",
       "      <th>Кол-во магазинов</th>\n",
       "      <th>Товар</th>\n",
       "      <th>Доход</th>\n",
       "    </tr>\n",
       "  </thead>\n",
       "  <tbody>\n",
       "    <tr>\n",
       "      <th>0</th>\n",
       "      <td>Москва</td>\n",
       "      <td>17</td>\n",
       "      <td>Продукты</td>\n",
       "      <td>100000</td>\n",
       "    </tr>\n",
       "    <tr>\n",
       "      <th>1</th>\n",
       "      <td>Сочи</td>\n",
       "      <td>2</td>\n",
       "      <td>Всё для дома</td>\n",
       "      <td>20300</td>\n",
       "    </tr>\n",
       "    <tr>\n",
       "      <th>2</th>\n",
       "      <td>Краснодар</td>\n",
       "      <td>5</td>\n",
       "      <td>Аптека</td>\n",
       "      <td>75000</td>\n",
       "    </tr>\n",
       "    <tr>\n",
       "      <th>3</th>\n",
       "      <td>Тула</td>\n",
       "      <td>3</td>\n",
       "      <td>Детский</td>\n",
       "      <td>17000</td>\n",
       "    </tr>\n",
       "    <tr>\n",
       "      <th>4</th>\n",
       "      <td>Орёл</td>\n",
       "      <td>1</td>\n",
       "      <td>Стройматериалы</td>\n",
       "      <td>5700</td>\n",
       "    </tr>\n",
       "    <tr>\n",
       "      <th>5</th>\n",
       "      <td>Спб</td>\n",
       "      <td>10</td>\n",
       "      <td>Продукты</td>\n",
       "      <td>75000</td>\n",
       "    </tr>\n",
       "    <tr>\n",
       "      <th>6</th>\n",
       "      <td>Тверь</td>\n",
       "      <td>4</td>\n",
       "      <td>Аптека</td>\n",
       "      <td>5700</td>\n",
       "    </tr>\n",
       "  </tbody>\n",
       "</table>\n",
       "</div>"
      ],
      "text/plain": [
       "       Город  Кол-во магазинов           Товар   Доход\n",
       "0     Москва                17        Продукты  100000\n",
       "1       Сочи                 2    Всё для дома   20300\n",
       "2  Краснодар                 5          Аптека   75000\n",
       "3       Тула                 3         Детский   17000\n",
       "4       Орёл                 1  Стройматериалы    5700\n",
       "5        Спб                10        Продукты   75000\n",
       "6      Тверь                 4          Аптека    5700"
      ]
     },
     "execution_count": 90,
     "metadata": {},
     "output_type": "execute_result"
    }
   ],
   "source": [
    "df"
   ]
  },
  {
   "cell_type": "code",
   "execution_count": 92,
   "id": "c993086b-80ee-40aa-9a5c-28b3803c55b9",
   "metadata": {},
   "outputs": [
    {
     "data": {
      "text/plain": [
       "0          Продукты\n",
       "1      Всё для дома\n",
       "2            Аптека\n",
       "3           Детский\n",
       "4    Стройматериалы\n",
       "5          Продукты\n",
       "6            Аптека\n",
       "Name: Товар, dtype: object"
      ]
     },
     "execution_count": 92,
     "metadata": {},
     "output_type": "execute_result"
    }
   ],
   "source": [
    "df['Товар']"
   ]
  },
  {
   "cell_type": "code",
   "execution_count": 93,
   "id": "3d59ca66-b394-4dee-919f-6f9df0595256",
   "metadata": {},
   "outputs": [
    {
     "data": {
      "text/plain": [
       "0    100000\n",
       "1     20300\n",
       "2     75000\n",
       "3     17000\n",
       "4      5700\n",
       "5     75000\n",
       "6      5700\n",
       "Name: Доход, dtype: int64"
      ]
     },
     "execution_count": 93,
     "metadata": {},
     "output_type": "execute_result"
    }
   ],
   "source": [
    "df['Доход']"
   ]
  },
  {
   "cell_type": "code",
   "execution_count": 96,
   "id": "52b62d91-329e-4640-bbe6-7f8bc8595f93",
   "metadata": {},
   "outputs": [
    {
     "data": {
      "text/plain": [
       "1    Всё для дома\n",
       "2          Аптека\n",
       "3         Детский\n",
       "Name: Товар, dtype: object"
      ]
     },
     "execution_count": 96,
     "metadata": {},
     "output_type": "execute_result"
    }
   ],
   "source": [
    "df['Товар'][1:4]"
   ]
  },
  {
   "cell_type": "code",
   "execution_count": 97,
   "id": "12c635b7-a223-4139-89ed-16ede3b33e90",
   "metadata": {},
   "outputs": [
    {
     "data": {
      "text/html": [
       "<div>\n",
       "<style scoped>\n",
       "    .dataframe tbody tr th:only-of-type {\n",
       "        vertical-align: middle;\n",
       "    }\n",
       "\n",
       "    .dataframe tbody tr th {\n",
       "        vertical-align: top;\n",
       "    }\n",
       "\n",
       "    .dataframe thead th {\n",
       "        text-align: right;\n",
       "    }\n",
       "</style>\n",
       "<table border=\"1\" class=\"dataframe\">\n",
       "  <thead>\n",
       "    <tr style=\"text-align: right;\">\n",
       "      <th></th>\n",
       "      <th>Доход</th>\n",
       "      <th>Товар</th>\n",
       "    </tr>\n",
       "  </thead>\n",
       "  <tbody>\n",
       "    <tr>\n",
       "      <th>0</th>\n",
       "      <td>100000</td>\n",
       "      <td>Продукты</td>\n",
       "    </tr>\n",
       "    <tr>\n",
       "      <th>1</th>\n",
       "      <td>20300</td>\n",
       "      <td>Всё для дома</td>\n",
       "    </tr>\n",
       "    <tr>\n",
       "      <th>2</th>\n",
       "      <td>75000</td>\n",
       "      <td>Аптека</td>\n",
       "    </tr>\n",
       "    <tr>\n",
       "      <th>3</th>\n",
       "      <td>17000</td>\n",
       "      <td>Детский</td>\n",
       "    </tr>\n",
       "    <tr>\n",
       "      <th>4</th>\n",
       "      <td>5700</td>\n",
       "      <td>Стройматериалы</td>\n",
       "    </tr>\n",
       "    <tr>\n",
       "      <th>5</th>\n",
       "      <td>75000</td>\n",
       "      <td>Продукты</td>\n",
       "    </tr>\n",
       "    <tr>\n",
       "      <th>6</th>\n",
       "      <td>5700</td>\n",
       "      <td>Аптека</td>\n",
       "    </tr>\n",
       "  </tbody>\n",
       "</table>\n",
       "</div>"
      ],
      "text/plain": [
       "    Доход           Товар\n",
       "0  100000        Продукты\n",
       "1   20300    Всё для дома\n",
       "2   75000          Аптека\n",
       "3   17000         Детский\n",
       "4    5700  Стройматериалы\n",
       "5   75000        Продукты\n",
       "6    5700          Аптека"
      ]
     },
     "execution_count": 97,
     "metadata": {},
     "output_type": "execute_result"
    }
   ],
   "source": [
    "df[['Доход', 'Товар']]"
   ]
  },
  {
   "cell_type": "code",
   "execution_count": 98,
   "id": "62ea111f-78a1-4d03-ad0f-6f1abd89183d",
   "metadata": {},
   "outputs": [
    {
     "data": {
      "text/html": [
       "<div>\n",
       "<style scoped>\n",
       "    .dataframe tbody tr th:only-of-type {\n",
       "        vertical-align: middle;\n",
       "    }\n",
       "\n",
       "    .dataframe tbody tr th {\n",
       "        vertical-align: top;\n",
       "    }\n",
       "\n",
       "    .dataframe thead th {\n",
       "        text-align: right;\n",
       "    }\n",
       "</style>\n",
       "<table border=\"1\" class=\"dataframe\">\n",
       "  <thead>\n",
       "    <tr style=\"text-align: right;\">\n",
       "      <th></th>\n",
       "      <th>Товар</th>\n",
       "      <th>Доход</th>\n",
       "    </tr>\n",
       "  </thead>\n",
       "  <tbody>\n",
       "    <tr>\n",
       "      <th>0</th>\n",
       "      <td>Продукты</td>\n",
       "      <td>100000</td>\n",
       "    </tr>\n",
       "    <tr>\n",
       "      <th>1</th>\n",
       "      <td>Всё для дома</td>\n",
       "      <td>20300</td>\n",
       "    </tr>\n",
       "    <tr>\n",
       "      <th>2</th>\n",
       "      <td>Аптека</td>\n",
       "      <td>75000</td>\n",
       "    </tr>\n",
       "    <tr>\n",
       "      <th>3</th>\n",
       "      <td>Детский</td>\n",
       "      <td>17000</td>\n",
       "    </tr>\n",
       "    <tr>\n",
       "      <th>4</th>\n",
       "      <td>Стройматериалы</td>\n",
       "      <td>5700</td>\n",
       "    </tr>\n",
       "    <tr>\n",
       "      <th>5</th>\n",
       "      <td>Продукты</td>\n",
       "      <td>75000</td>\n",
       "    </tr>\n",
       "    <tr>\n",
       "      <th>6</th>\n",
       "      <td>Аптека</td>\n",
       "      <td>5700</td>\n",
       "    </tr>\n",
       "  </tbody>\n",
       "</table>\n",
       "</div>"
      ],
      "text/plain": [
       "            Товар   Доход\n",
       "0        Продукты  100000\n",
       "1    Всё для дома   20300\n",
       "2          Аптека   75000\n",
       "3         Детский   17000\n",
       "4  Стройматериалы    5700\n",
       "5        Продукты   75000\n",
       "6          Аптека    5700"
      ]
     },
     "execution_count": 98,
     "metadata": {},
     "output_type": "execute_result"
    }
   ],
   "source": [
    "df[['Товар', 'Доход']]"
   ]
  },
  {
   "cell_type": "code",
   "execution_count": 99,
   "id": "8a605964-5a76-4368-8bd3-30d20badb753",
   "metadata": {},
   "outputs": [
    {
     "data": {
      "text/html": [
       "<div>\n",
       "<style scoped>\n",
       "    .dataframe tbody tr th:only-of-type {\n",
       "        vertical-align: middle;\n",
       "    }\n",
       "\n",
       "    .dataframe tbody tr th {\n",
       "        vertical-align: top;\n",
       "    }\n",
       "\n",
       "    .dataframe thead th {\n",
       "        text-align: right;\n",
       "    }\n",
       "</style>\n",
       "<table border=\"1\" class=\"dataframe\">\n",
       "  <thead>\n",
       "    <tr style=\"text-align: right;\">\n",
       "      <th></th>\n",
       "      <th>Город</th>\n",
       "      <th>Кол-во магазинов</th>\n",
       "      <th>Товар</th>\n",
       "      <th>Доход</th>\n",
       "    </tr>\n",
       "  </thead>\n",
       "  <tbody>\n",
       "    <tr>\n",
       "      <th>0</th>\n",
       "      <td>Москва</td>\n",
       "      <td>17</td>\n",
       "      <td>Продукты</td>\n",
       "      <td>100000</td>\n",
       "    </tr>\n",
       "    <tr>\n",
       "      <th>1</th>\n",
       "      <td>Сочи</td>\n",
       "      <td>2</td>\n",
       "      <td>Всё для дома</td>\n",
       "      <td>20300</td>\n",
       "    </tr>\n",
       "    <tr>\n",
       "      <th>2</th>\n",
       "      <td>Краснодар</td>\n",
       "      <td>5</td>\n",
       "      <td>Аптека</td>\n",
       "      <td>75000</td>\n",
       "    </tr>\n",
       "  </tbody>\n",
       "</table>\n",
       "</div>"
      ],
      "text/plain": [
       "       Город  Кол-во магазинов         Товар   Доход\n",
       "0     Москва                17      Продукты  100000\n",
       "1       Сочи                 2  Всё для дома   20300\n",
       "2  Краснодар                 5        Аптека   75000"
      ]
     },
     "execution_count": 99,
     "metadata": {},
     "output_type": "execute_result"
    }
   ],
   "source": [
    "df[0:3]"
   ]
  },
  {
   "cell_type": "code",
   "execution_count": 100,
   "id": "85461345-c698-49f6-a1ee-8c868eb6f4c2",
   "metadata": {},
   "outputs": [
    {
     "data": {
      "text/plain": [
       "Город                 Москва\n",
       "Кол-во магазинов          17\n",
       "Товар               Продукты\n",
       "Доход                 100000\n",
       "Name: 0, dtype: object"
      ]
     },
     "execution_count": 100,
     "metadata": {},
     "output_type": "execute_result"
    }
   ],
   "source": [
    "df.iloc[0]"
   ]
  },
  {
   "cell_type": "code",
   "execution_count": 101,
   "id": "ce769aec-42bd-460a-8e6a-eee1db0c0187",
   "metadata": {},
   "outputs": [
    {
     "data": {
      "text/html": [
       "<div>\n",
       "<style scoped>\n",
       "    .dataframe tbody tr th:only-of-type {\n",
       "        vertical-align: middle;\n",
       "    }\n",
       "\n",
       "    .dataframe tbody tr th {\n",
       "        vertical-align: top;\n",
       "    }\n",
       "\n",
       "    .dataframe thead th {\n",
       "        text-align: right;\n",
       "    }\n",
       "</style>\n",
       "<table border=\"1\" class=\"dataframe\">\n",
       "  <thead>\n",
       "    <tr style=\"text-align: right;\">\n",
       "      <th></th>\n",
       "      <th>Город</th>\n",
       "      <th>Кол-во магазинов</th>\n",
       "      <th>Товар</th>\n",
       "      <th>Доход</th>\n",
       "    </tr>\n",
       "  </thead>\n",
       "  <tbody>\n",
       "    <tr>\n",
       "      <th>1</th>\n",
       "      <td>Сочи</td>\n",
       "      <td>2</td>\n",
       "      <td>Всё для дома</td>\n",
       "      <td>20300</td>\n",
       "    </tr>\n",
       "    <tr>\n",
       "      <th>2</th>\n",
       "      <td>Краснодар</td>\n",
       "      <td>5</td>\n",
       "      <td>Аптека</td>\n",
       "      <td>75000</td>\n",
       "    </tr>\n",
       "  </tbody>\n",
       "</table>\n",
       "</div>"
      ],
      "text/plain": [
       "       Город  Кол-во магазинов         Товар  Доход\n",
       "1       Сочи                 2  Всё для дома  20300\n",
       "2  Краснодар                 5        Аптека  75000"
      ]
     },
     "execution_count": 101,
     "metadata": {},
     "output_type": "execute_result"
    }
   ],
   "source": [
    "df.iloc[1: 3]"
   ]
  },
  {
   "cell_type": "code",
   "execution_count": 102,
   "id": "3006a593-79bf-4244-aca6-38420e16483f",
   "metadata": {},
   "outputs": [
    {
     "data": {
      "text/html": [
       "<div>\n",
       "<style scoped>\n",
       "    .dataframe tbody tr th:only-of-type {\n",
       "        vertical-align: middle;\n",
       "    }\n",
       "\n",
       "    .dataframe tbody tr th {\n",
       "        vertical-align: top;\n",
       "    }\n",
       "\n",
       "    .dataframe thead th {\n",
       "        text-align: right;\n",
       "    }\n",
       "</style>\n",
       "<table border=\"1\" class=\"dataframe\">\n",
       "  <thead>\n",
       "    <tr style=\"text-align: right;\">\n",
       "      <th></th>\n",
       "      <th>Кол-во магазинов</th>\n",
       "      <th>Товар</th>\n",
       "    </tr>\n",
       "  </thead>\n",
       "  <tbody>\n",
       "    <tr>\n",
       "      <th>1</th>\n",
       "      <td>2</td>\n",
       "      <td>Всё для дома</td>\n",
       "    </tr>\n",
       "    <tr>\n",
       "      <th>2</th>\n",
       "      <td>5</td>\n",
       "      <td>Аптека</td>\n",
       "    </tr>\n",
       "  </tbody>\n",
       "</table>\n",
       "</div>"
      ],
      "text/plain": [
       "   Кол-во магазинов         Товар\n",
       "1                 2  Всё для дома\n",
       "2                 5        Аптека"
      ]
     },
     "execution_count": 102,
     "metadata": {},
     "output_type": "execute_result"
    }
   ],
   "source": [
    "df.iloc[1: 3, 1: 3]"
   ]
  },
  {
   "cell_type": "code",
   "execution_count": 103,
   "id": "49b5cc94-a0f9-4574-b5f0-3c22ff8e60a7",
   "metadata": {},
   "outputs": [
    {
     "data": {
      "text/html": [
       "<div>\n",
       "<style scoped>\n",
       "    .dataframe tbody tr th:only-of-type {\n",
       "        vertical-align: middle;\n",
       "    }\n",
       "\n",
       "    .dataframe tbody tr th {\n",
       "        vertical-align: top;\n",
       "    }\n",
       "\n",
       "    .dataframe thead th {\n",
       "        text-align: right;\n",
       "    }\n",
       "</style>\n",
       "<table border=\"1\" class=\"dataframe\">\n",
       "  <thead>\n",
       "    <tr style=\"text-align: right;\">\n",
       "      <th></th>\n",
       "      <th>Город</th>\n",
       "      <th>Кол-во магазинов</th>\n",
       "      <th>Товар</th>\n",
       "      <th>Доход</th>\n",
       "    </tr>\n",
       "  </thead>\n",
       "  <tbody>\n",
       "    <tr>\n",
       "      <th>0</th>\n",
       "      <td>Москва</td>\n",
       "      <td>17</td>\n",
       "      <td>Продукты</td>\n",
       "      <td>100000</td>\n",
       "    </tr>\n",
       "    <tr>\n",
       "      <th>1</th>\n",
       "      <td>Сочи</td>\n",
       "      <td>2</td>\n",
       "      <td>Всё для дома</td>\n",
       "      <td>20300</td>\n",
       "    </tr>\n",
       "    <tr>\n",
       "      <th>2</th>\n",
       "      <td>Краснодар</td>\n",
       "      <td>5</td>\n",
       "      <td>Аптека</td>\n",
       "      <td>75000</td>\n",
       "    </tr>\n",
       "    <tr>\n",
       "      <th>3</th>\n",
       "      <td>Тула</td>\n",
       "      <td>3</td>\n",
       "      <td>Детский</td>\n",
       "      <td>17000</td>\n",
       "    </tr>\n",
       "    <tr>\n",
       "      <th>4</th>\n",
       "      <td>Орёл</td>\n",
       "      <td>1</td>\n",
       "      <td>Стройматериалы</td>\n",
       "      <td>5700</td>\n",
       "    </tr>\n",
       "  </tbody>\n",
       "</table>\n",
       "</div>"
      ],
      "text/plain": [
       "       Город  Кол-во магазинов           Товар   Доход\n",
       "0     Москва                17        Продукты  100000\n",
       "1       Сочи                 2    Всё для дома   20300\n",
       "2  Краснодар                 5          Аптека   75000\n",
       "3       Тула                 3         Детский   17000\n",
       "4       Орёл                 1  Стройматериалы    5700"
      ]
     },
     "execution_count": 103,
     "metadata": {},
     "output_type": "execute_result"
    }
   ],
   "source": [
    "df.head()"
   ]
  },
  {
   "cell_type": "code",
   "execution_count": 104,
   "id": "331a70b8-2153-447c-aa0c-6279e23c0fd7",
   "metadata": {},
   "outputs": [
    {
     "data": {
      "text/html": [
       "<div>\n",
       "<style scoped>\n",
       "    .dataframe tbody tr th:only-of-type {\n",
       "        vertical-align: middle;\n",
       "    }\n",
       "\n",
       "    .dataframe tbody tr th {\n",
       "        vertical-align: top;\n",
       "    }\n",
       "\n",
       "    .dataframe thead th {\n",
       "        text-align: right;\n",
       "    }\n",
       "</style>\n",
       "<table border=\"1\" class=\"dataframe\">\n",
       "  <thead>\n",
       "    <tr style=\"text-align: right;\">\n",
       "      <th></th>\n",
       "      <th>Город</th>\n",
       "      <th>Кол-во магазинов</th>\n",
       "      <th>Товар</th>\n",
       "      <th>Доход</th>\n",
       "    </tr>\n",
       "  </thead>\n",
       "  <tbody>\n",
       "    <tr>\n",
       "      <th>0</th>\n",
       "      <td>Москва</td>\n",
       "      <td>17</td>\n",
       "      <td>Продукты</td>\n",
       "      <td>100000</td>\n",
       "    </tr>\n",
       "    <tr>\n",
       "      <th>1</th>\n",
       "      <td>Сочи</td>\n",
       "      <td>2</td>\n",
       "      <td>Всё для дома</td>\n",
       "      <td>20300</td>\n",
       "    </tr>\n",
       "    <tr>\n",
       "      <th>2</th>\n",
       "      <td>Краснодар</td>\n",
       "      <td>5</td>\n",
       "      <td>Аптека</td>\n",
       "      <td>75000</td>\n",
       "    </tr>\n",
       "  </tbody>\n",
       "</table>\n",
       "</div>"
      ],
      "text/plain": [
       "       Город  Кол-во магазинов         Товар   Доход\n",
       "0     Москва                17      Продукты  100000\n",
       "1       Сочи                 2  Всё для дома   20300\n",
       "2  Краснодар                 5        Аптека   75000"
      ]
     },
     "execution_count": 104,
     "metadata": {},
     "output_type": "execute_result"
    }
   ],
   "source": [
    "df.head(3)"
   ]
  },
  {
   "cell_type": "code",
   "execution_count": 105,
   "id": "0a0ec0c8-bf8e-46cc-ad04-0ab11a8ba79f",
   "metadata": {},
   "outputs": [
    {
     "data": {
      "text/html": [
       "<div>\n",
       "<style scoped>\n",
       "    .dataframe tbody tr th:only-of-type {\n",
       "        vertical-align: middle;\n",
       "    }\n",
       "\n",
       "    .dataframe tbody tr th {\n",
       "        vertical-align: top;\n",
       "    }\n",
       "\n",
       "    .dataframe thead th {\n",
       "        text-align: right;\n",
       "    }\n",
       "</style>\n",
       "<table border=\"1\" class=\"dataframe\">\n",
       "  <thead>\n",
       "    <tr style=\"text-align: right;\">\n",
       "      <th></th>\n",
       "      <th>Город</th>\n",
       "      <th>Кол-во магазинов</th>\n",
       "      <th>Товар</th>\n",
       "      <th>Доход</th>\n",
       "    </tr>\n",
       "  </thead>\n",
       "  <tbody>\n",
       "    <tr>\n",
       "      <th>2</th>\n",
       "      <td>Краснодар</td>\n",
       "      <td>5</td>\n",
       "      <td>Аптека</td>\n",
       "      <td>75000</td>\n",
       "    </tr>\n",
       "    <tr>\n",
       "      <th>3</th>\n",
       "      <td>Тула</td>\n",
       "      <td>3</td>\n",
       "      <td>Детский</td>\n",
       "      <td>17000</td>\n",
       "    </tr>\n",
       "    <tr>\n",
       "      <th>4</th>\n",
       "      <td>Орёл</td>\n",
       "      <td>1</td>\n",
       "      <td>Стройматериалы</td>\n",
       "      <td>5700</td>\n",
       "    </tr>\n",
       "    <tr>\n",
       "      <th>5</th>\n",
       "      <td>Спб</td>\n",
       "      <td>10</td>\n",
       "      <td>Продукты</td>\n",
       "      <td>75000</td>\n",
       "    </tr>\n",
       "    <tr>\n",
       "      <th>6</th>\n",
       "      <td>Тверь</td>\n",
       "      <td>4</td>\n",
       "      <td>Аптека</td>\n",
       "      <td>5700</td>\n",
       "    </tr>\n",
       "  </tbody>\n",
       "</table>\n",
       "</div>"
      ],
      "text/plain": [
       "       Город  Кол-во магазинов           Товар  Доход\n",
       "2  Краснодар                 5          Аптека  75000\n",
       "3       Тула                 3         Детский  17000\n",
       "4       Орёл                 1  Стройматериалы   5700\n",
       "5        Спб                10        Продукты  75000\n",
       "6      Тверь                 4          Аптека   5700"
      ]
     },
     "execution_count": 105,
     "metadata": {},
     "output_type": "execute_result"
    }
   ],
   "source": [
    "df.tail()"
   ]
  },
  {
   "cell_type": "code",
   "execution_count": 106,
   "id": "b66d9e42-fc05-4d8e-88f1-76b032675b00",
   "metadata": {},
   "outputs": [
    {
     "data": {
      "text/html": [
       "<div>\n",
       "<style scoped>\n",
       "    .dataframe tbody tr th:only-of-type {\n",
       "        vertical-align: middle;\n",
       "    }\n",
       "\n",
       "    .dataframe tbody tr th {\n",
       "        vertical-align: top;\n",
       "    }\n",
       "\n",
       "    .dataframe thead th {\n",
       "        text-align: right;\n",
       "    }\n",
       "</style>\n",
       "<table border=\"1\" class=\"dataframe\">\n",
       "  <thead>\n",
       "    <tr style=\"text-align: right;\">\n",
       "      <th></th>\n",
       "      <th>Город</th>\n",
       "      <th>Кол-во магазинов</th>\n",
       "      <th>Товар</th>\n",
       "      <th>Доход</th>\n",
       "    </tr>\n",
       "  </thead>\n",
       "  <tbody>\n",
       "    <tr>\n",
       "      <th>5</th>\n",
       "      <td>Спб</td>\n",
       "      <td>10</td>\n",
       "      <td>Продукты</td>\n",
       "      <td>75000</td>\n",
       "    </tr>\n",
       "    <tr>\n",
       "      <th>6</th>\n",
       "      <td>Тверь</td>\n",
       "      <td>4</td>\n",
       "      <td>Аптека</td>\n",
       "      <td>5700</td>\n",
       "    </tr>\n",
       "  </tbody>\n",
       "</table>\n",
       "</div>"
      ],
      "text/plain": [
       "   Город  Кол-во магазинов     Товар  Доход\n",
       "5    Спб                10  Продукты  75000\n",
       "6  Тверь                 4    Аптека   5700"
      ]
     },
     "execution_count": 106,
     "metadata": {},
     "output_type": "execute_result"
    }
   ],
   "source": [
    "df.tail(2)"
   ]
  },
  {
   "cell_type": "code",
   "execution_count": 107,
   "id": "2b57398c-fda1-49e6-9f7f-59596735f5e9",
   "metadata": {},
   "outputs": [
    {
     "data": {
      "text/html": [
       "<div>\n",
       "<style scoped>\n",
       "    .dataframe tbody tr th:only-of-type {\n",
       "        vertical-align: middle;\n",
       "    }\n",
       "\n",
       "    .dataframe tbody tr th {\n",
       "        vertical-align: top;\n",
       "    }\n",
       "\n",
       "    .dataframe thead th {\n",
       "        text-align: right;\n",
       "    }\n",
       "</style>\n",
       "<table border=\"1\" class=\"dataframe\">\n",
       "  <thead>\n",
       "    <tr style=\"text-align: right;\">\n",
       "      <th></th>\n",
       "      <th>Город</th>\n",
       "      <th>Кол-во магазинов</th>\n",
       "      <th>Товар</th>\n",
       "      <th>Доход</th>\n",
       "    </tr>\n",
       "  </thead>\n",
       "  <tbody>\n",
       "    <tr>\n",
       "      <th>6</th>\n",
       "      <td>Тверь</td>\n",
       "      <td>4</td>\n",
       "      <td>Аптека</td>\n",
       "      <td>5700</td>\n",
       "    </tr>\n",
       "    <tr>\n",
       "      <th>0</th>\n",
       "      <td>Москва</td>\n",
       "      <td>17</td>\n",
       "      <td>Продукты</td>\n",
       "      <td>100000</td>\n",
       "    </tr>\n",
       "  </tbody>\n",
       "</table>\n",
       "</div>"
      ],
      "text/plain": [
       "    Город  Кол-во магазинов     Товар   Доход\n",
       "6   Тверь                 4    Аптека    5700\n",
       "0  Москва                17  Продукты  100000"
      ]
     },
     "execution_count": 107,
     "metadata": {},
     "output_type": "execute_result"
    }
   ],
   "source": [
    "df.sample(2)"
   ]
  },
  {
   "cell_type": "code",
   "execution_count": 108,
   "id": "b98ab341-7443-4bdf-a619-82e35b2f2749",
   "metadata": {},
   "outputs": [
    {
     "data": {
      "text/html": [
       "<div>\n",
       "<style scoped>\n",
       "    .dataframe tbody tr th:only-of-type {\n",
       "        vertical-align: middle;\n",
       "    }\n",
       "\n",
       "    .dataframe tbody tr th {\n",
       "        vertical-align: top;\n",
       "    }\n",
       "\n",
       "    .dataframe thead th {\n",
       "        text-align: right;\n",
       "    }\n",
       "</style>\n",
       "<table border=\"1\" class=\"dataframe\">\n",
       "  <thead>\n",
       "    <tr style=\"text-align: right;\">\n",
       "      <th></th>\n",
       "      <th>Город</th>\n",
       "      <th>Кол-во магазинов</th>\n",
       "      <th>Товар</th>\n",
       "      <th>Доход</th>\n",
       "    </tr>\n",
       "  </thead>\n",
       "  <tbody>\n",
       "    <tr>\n",
       "      <th>3</th>\n",
       "      <td>Тула</td>\n",
       "      <td>3</td>\n",
       "      <td>Детский</td>\n",
       "      <td>17000</td>\n",
       "    </tr>\n",
       "    <tr>\n",
       "      <th>1</th>\n",
       "      <td>Сочи</td>\n",
       "      <td>2</td>\n",
       "      <td>Всё для дома</td>\n",
       "      <td>20300</td>\n",
       "    </tr>\n",
       "  </tbody>\n",
       "</table>\n",
       "</div>"
      ],
      "text/plain": [
       "  Город  Кол-во магазинов         Товар  Доход\n",
       "3  Тула                 3       Детский  17000\n",
       "1  Сочи                 2  Всё для дома  20300"
      ]
     },
     "execution_count": 108,
     "metadata": {},
     "output_type": "execute_result"
    }
   ],
   "source": [
    "df.sample(2)"
   ]
  },
  {
   "cell_type": "code",
   "execution_count": 109,
   "id": "232c1db9-6a0f-495b-9860-cd770d94e8d2",
   "metadata": {},
   "outputs": [
    {
     "data": {
      "text/html": [
       "<div>\n",
       "<style scoped>\n",
       "    .dataframe tbody tr th:only-of-type {\n",
       "        vertical-align: middle;\n",
       "    }\n",
       "\n",
       "    .dataframe tbody tr th {\n",
       "        vertical-align: top;\n",
       "    }\n",
       "\n",
       "    .dataframe thead th {\n",
       "        text-align: right;\n",
       "    }\n",
       "</style>\n",
       "<table border=\"1\" class=\"dataframe\">\n",
       "  <thead>\n",
       "    <tr style=\"text-align: right;\">\n",
       "      <th></th>\n",
       "      <th>Город</th>\n",
       "      <th>Кол-во магазинов</th>\n",
       "      <th>Товар</th>\n",
       "      <th>Доход</th>\n",
       "    </tr>\n",
       "  </thead>\n",
       "  <tbody>\n",
       "    <tr>\n",
       "      <th>5</th>\n",
       "      <td>Спб</td>\n",
       "      <td>10</td>\n",
       "      <td>Продукты</td>\n",
       "      <td>75000</td>\n",
       "    </tr>\n",
       "    <tr>\n",
       "      <th>3</th>\n",
       "      <td>Тула</td>\n",
       "      <td>3</td>\n",
       "      <td>Детский</td>\n",
       "      <td>17000</td>\n",
       "    </tr>\n",
       "  </tbody>\n",
       "</table>\n",
       "</div>"
      ],
      "text/plain": [
       "  Город  Кол-во магазинов     Товар  Доход\n",
       "5   Спб                10  Продукты  75000\n",
       "3  Тула                 3   Детский  17000"
      ]
     },
     "execution_count": 109,
     "metadata": {},
     "output_type": "execute_result"
    }
   ],
   "source": [
    "df.sample(2)"
   ]
  },
  {
   "cell_type": "code",
   "execution_count": 110,
   "id": "47fdc148-38b0-4d05-bbe9-8932d44a4fed",
   "metadata": {},
   "outputs": [
    {
     "data": {
      "text/plain": [
       "(7, 4)"
      ]
     },
     "execution_count": 110,
     "metadata": {},
     "output_type": "execute_result"
    }
   ],
   "source": [
    "df.shape"
   ]
  },
  {
   "cell_type": "code",
   "execution_count": 111,
   "id": "efb24153-972c-4919-8609-c68c20f07430",
   "metadata": {},
   "outputs": [
    {
     "data": {
      "text/plain": [
       "Index(['Город', 'Кол-во магазинов', 'Товар', 'Доход'], dtype='object')"
      ]
     },
     "execution_count": 111,
     "metadata": {},
     "output_type": "execute_result"
    }
   ],
   "source": [
    "df.columns"
   ]
  },
  {
   "cell_type": "code",
   "execution_count": 112,
   "id": "eeff22da-e12a-44cf-a931-16277959c93a",
   "metadata": {},
   "outputs": [
    {
     "data": {
      "text/plain": [
       "array([['Москва', 17, 'Продукты', 100000],\n",
       "       ['Сочи', 2, 'Всё для дома', 20300],\n",
       "       ['Краснодар', 5, 'Аптека', 75000],\n",
       "       ['Тула', 3, 'Детский', 17000],\n",
       "       ['Орёл', 1, 'Стройматериалы', 5700],\n",
       "       ['Спб', 10, 'Продукты', 75000],\n",
       "       ['Тверь', 4, 'Аптека', 5700]], dtype=object)"
      ]
     },
     "execution_count": 112,
     "metadata": {},
     "output_type": "execute_result"
    }
   ],
   "source": [
    "df.values"
   ]
  },
  {
   "cell_type": "code",
   "execution_count": 113,
   "id": "0cef89cf-549b-4e9b-8868-15b76331ba4f",
   "metadata": {},
   "outputs": [
    {
     "data": {
      "text/html": [
       "<div>\n",
       "<style scoped>\n",
       "    .dataframe tbody tr th:only-of-type {\n",
       "        vertical-align: middle;\n",
       "    }\n",
       "\n",
       "    .dataframe tbody tr th {\n",
       "        vertical-align: top;\n",
       "    }\n",
       "\n",
       "    .dataframe thead th {\n",
       "        text-align: right;\n",
       "    }\n",
       "</style>\n",
       "<table border=\"1\" class=\"dataframe\">\n",
       "  <thead>\n",
       "    <tr style=\"text-align: right;\">\n",
       "      <th></th>\n",
       "      <th>Город</th>\n",
       "      <th>Кол-во магазинов</th>\n",
       "      <th>Товар</th>\n",
       "      <th>Доход</th>\n",
       "    </tr>\n",
       "  </thead>\n",
       "  <tbody>\n",
       "    <tr>\n",
       "      <th>0</th>\n",
       "      <td>Москва</td>\n",
       "      <td>17</td>\n",
       "      <td>Продукты</td>\n",
       "      <td>100000</td>\n",
       "    </tr>\n",
       "    <tr>\n",
       "      <th>1</th>\n",
       "      <td>Сочи</td>\n",
       "      <td>2</td>\n",
       "      <td>Всё для дома</td>\n",
       "      <td>20300</td>\n",
       "    </tr>\n",
       "    <tr>\n",
       "      <th>2</th>\n",
       "      <td>Краснодар</td>\n",
       "      <td>5</td>\n",
       "      <td>Аптека</td>\n",
       "      <td>75000</td>\n",
       "    </tr>\n",
       "    <tr>\n",
       "      <th>3</th>\n",
       "      <td>Тула</td>\n",
       "      <td>3</td>\n",
       "      <td>Детский</td>\n",
       "      <td>17000</td>\n",
       "    </tr>\n",
       "    <tr>\n",
       "      <th>4</th>\n",
       "      <td>Орёл</td>\n",
       "      <td>1</td>\n",
       "      <td>Стройматериалы</td>\n",
       "      <td>5700</td>\n",
       "    </tr>\n",
       "    <tr>\n",
       "      <th>5</th>\n",
       "      <td>Спб</td>\n",
       "      <td>10</td>\n",
       "      <td>Продукты</td>\n",
       "      <td>75000</td>\n",
       "    </tr>\n",
       "    <tr>\n",
       "      <th>6</th>\n",
       "      <td>Тверь</td>\n",
       "      <td>4</td>\n",
       "      <td>Аптека</td>\n",
       "      <td>5700</td>\n",
       "    </tr>\n",
       "  </tbody>\n",
       "</table>\n",
       "</div>"
      ],
      "text/plain": [
       "       Город  Кол-во магазинов           Товар   Доход\n",
       "0     Москва                17        Продукты  100000\n",
       "1       Сочи                 2    Всё для дома   20300\n",
       "2  Краснодар                 5          Аптека   75000\n",
       "3       Тула                 3         Детский   17000\n",
       "4       Орёл                 1  Стройматериалы    5700\n",
       "5        Спб                10        Продукты   75000\n",
       "6      Тверь                 4          Аптека    5700"
      ]
     },
     "execution_count": 113,
     "metadata": {},
     "output_type": "execute_result"
    }
   ],
   "source": [
    "df"
   ]
  },
  {
   "cell_type": "code",
   "execution_count": 114,
   "id": "0d94c944-7b1b-4c9f-b3d0-6fb678d6d135",
   "metadata": {},
   "outputs": [
    {
     "data": {
      "text/html": [
       "<div>\n",
       "<style scoped>\n",
       "    .dataframe tbody tr th:only-of-type {\n",
       "        vertical-align: middle;\n",
       "    }\n",
       "\n",
       "    .dataframe tbody tr th {\n",
       "        vertical-align: top;\n",
       "    }\n",
       "\n",
       "    .dataframe thead th {\n",
       "        text-align: right;\n",
       "    }\n",
       "</style>\n",
       "<table border=\"1\" class=\"dataframe\">\n",
       "  <thead>\n",
       "    <tr style=\"text-align: right;\">\n",
       "      <th></th>\n",
       "      <th>Город</th>\n",
       "      <th>Кол-во магазинов</th>\n",
       "      <th>Товар</th>\n",
       "      <th>Доход</th>\n",
       "    </tr>\n",
       "  </thead>\n",
       "  <tbody>\n",
       "    <tr>\n",
       "      <th>4</th>\n",
       "      <td>Орёл</td>\n",
       "      <td>1</td>\n",
       "      <td>Стройматериалы</td>\n",
       "      <td>5700</td>\n",
       "    </tr>\n",
       "    <tr>\n",
       "      <th>1</th>\n",
       "      <td>Сочи</td>\n",
       "      <td>2</td>\n",
       "      <td>Всё для дома</td>\n",
       "      <td>20300</td>\n",
       "    </tr>\n",
       "    <tr>\n",
       "      <th>3</th>\n",
       "      <td>Тула</td>\n",
       "      <td>3</td>\n",
       "      <td>Детский</td>\n",
       "      <td>17000</td>\n",
       "    </tr>\n",
       "    <tr>\n",
       "      <th>6</th>\n",
       "      <td>Тверь</td>\n",
       "      <td>4</td>\n",
       "      <td>Аптека</td>\n",
       "      <td>5700</td>\n",
       "    </tr>\n",
       "    <tr>\n",
       "      <th>2</th>\n",
       "      <td>Краснодар</td>\n",
       "      <td>5</td>\n",
       "      <td>Аптека</td>\n",
       "      <td>75000</td>\n",
       "    </tr>\n",
       "    <tr>\n",
       "      <th>5</th>\n",
       "      <td>Спб</td>\n",
       "      <td>10</td>\n",
       "      <td>Продукты</td>\n",
       "      <td>75000</td>\n",
       "    </tr>\n",
       "    <tr>\n",
       "      <th>0</th>\n",
       "      <td>Москва</td>\n",
       "      <td>17</td>\n",
       "      <td>Продукты</td>\n",
       "      <td>100000</td>\n",
       "    </tr>\n",
       "  </tbody>\n",
       "</table>\n",
       "</div>"
      ],
      "text/plain": [
       "       Город  Кол-во магазинов           Товар   Доход\n",
       "4       Орёл                 1  Стройматериалы    5700\n",
       "1       Сочи                 2    Всё для дома   20300\n",
       "3       Тула                 3         Детский   17000\n",
       "6      Тверь                 4          Аптека    5700\n",
       "2  Краснодар                 5          Аптека   75000\n",
       "5        Спб                10        Продукты   75000\n",
       "0     Москва                17        Продукты  100000"
      ]
     },
     "execution_count": 114,
     "metadata": {},
     "output_type": "execute_result"
    }
   ],
   "source": [
    "df.sort_values(by='Кол-во магазинов')"
   ]
  },
  {
   "cell_type": "code",
   "execution_count": 115,
   "id": "af556a5f-15d5-4194-a39c-158512e629d9",
   "metadata": {},
   "outputs": [
    {
     "data": {
      "text/html": [
       "<div>\n",
       "<style scoped>\n",
       "    .dataframe tbody tr th:only-of-type {\n",
       "        vertical-align: middle;\n",
       "    }\n",
       "\n",
       "    .dataframe tbody tr th {\n",
       "        vertical-align: top;\n",
       "    }\n",
       "\n",
       "    .dataframe thead th {\n",
       "        text-align: right;\n",
       "    }\n",
       "</style>\n",
       "<table border=\"1\" class=\"dataframe\">\n",
       "  <thead>\n",
       "    <tr style=\"text-align: right;\">\n",
       "      <th></th>\n",
       "      <th>Город</th>\n",
       "      <th>Кол-во магазинов</th>\n",
       "      <th>Товар</th>\n",
       "      <th>Доход</th>\n",
       "    </tr>\n",
       "  </thead>\n",
       "  <tbody>\n",
       "    <tr>\n",
       "      <th>4</th>\n",
       "      <td>Орёл</td>\n",
       "      <td>1</td>\n",
       "      <td>Стройматериалы</td>\n",
       "      <td>5700</td>\n",
       "    </tr>\n",
       "    <tr>\n",
       "      <th>6</th>\n",
       "      <td>Тверь</td>\n",
       "      <td>4</td>\n",
       "      <td>Аптека</td>\n",
       "      <td>5700</td>\n",
       "    </tr>\n",
       "    <tr>\n",
       "      <th>3</th>\n",
       "      <td>Тула</td>\n",
       "      <td>3</td>\n",
       "      <td>Детский</td>\n",
       "      <td>17000</td>\n",
       "    </tr>\n",
       "    <tr>\n",
       "      <th>1</th>\n",
       "      <td>Сочи</td>\n",
       "      <td>2</td>\n",
       "      <td>Всё для дома</td>\n",
       "      <td>20300</td>\n",
       "    </tr>\n",
       "    <tr>\n",
       "      <th>2</th>\n",
       "      <td>Краснодар</td>\n",
       "      <td>5</td>\n",
       "      <td>Аптека</td>\n",
       "      <td>75000</td>\n",
       "    </tr>\n",
       "    <tr>\n",
       "      <th>5</th>\n",
       "      <td>Спб</td>\n",
       "      <td>10</td>\n",
       "      <td>Продукты</td>\n",
       "      <td>75000</td>\n",
       "    </tr>\n",
       "    <tr>\n",
       "      <th>0</th>\n",
       "      <td>Москва</td>\n",
       "      <td>17</td>\n",
       "      <td>Продукты</td>\n",
       "      <td>100000</td>\n",
       "    </tr>\n",
       "  </tbody>\n",
       "</table>\n",
       "</div>"
      ],
      "text/plain": [
       "       Город  Кол-во магазинов           Товар   Доход\n",
       "4       Орёл                 1  Стройматериалы    5700\n",
       "6      Тверь                 4          Аптека    5700\n",
       "3       Тула                 3         Детский   17000\n",
       "1       Сочи                 2    Всё для дома   20300\n",
       "2  Краснодар                 5          Аптека   75000\n",
       "5        Спб                10        Продукты   75000\n",
       "0     Москва                17        Продукты  100000"
      ]
     },
     "execution_count": 115,
     "metadata": {},
     "output_type": "execute_result"
    }
   ],
   "source": [
    "df.sort_values(by='Доход')"
   ]
  },
  {
   "cell_type": "code",
   "execution_count": 116,
   "id": "c19780cf-4355-43f1-bae3-0a158fc93bb1",
   "metadata": {},
   "outputs": [
    {
     "data": {
      "text/html": [
       "<div>\n",
       "<style scoped>\n",
       "    .dataframe tbody tr th:only-of-type {\n",
       "        vertical-align: middle;\n",
       "    }\n",
       "\n",
       "    .dataframe tbody tr th {\n",
       "        vertical-align: top;\n",
       "    }\n",
       "\n",
       "    .dataframe thead th {\n",
       "        text-align: right;\n",
       "    }\n",
       "</style>\n",
       "<table border=\"1\" class=\"dataframe\">\n",
       "  <thead>\n",
       "    <tr style=\"text-align: right;\">\n",
       "      <th></th>\n",
       "      <th>Город</th>\n",
       "      <th>Кол-во магазинов</th>\n",
       "      <th>Товар</th>\n",
       "      <th>Доход</th>\n",
       "    </tr>\n",
       "  </thead>\n",
       "  <tbody>\n",
       "    <tr>\n",
       "      <th>2</th>\n",
       "      <td>Краснодар</td>\n",
       "      <td>5</td>\n",
       "      <td>Аптека</td>\n",
       "      <td>75000</td>\n",
       "    </tr>\n",
       "    <tr>\n",
       "      <th>0</th>\n",
       "      <td>Москва</td>\n",
       "      <td>17</td>\n",
       "      <td>Продукты</td>\n",
       "      <td>100000</td>\n",
       "    </tr>\n",
       "    <tr>\n",
       "      <th>4</th>\n",
       "      <td>Орёл</td>\n",
       "      <td>1</td>\n",
       "      <td>Стройматериалы</td>\n",
       "      <td>5700</td>\n",
       "    </tr>\n",
       "    <tr>\n",
       "      <th>1</th>\n",
       "      <td>Сочи</td>\n",
       "      <td>2</td>\n",
       "      <td>Всё для дома</td>\n",
       "      <td>20300</td>\n",
       "    </tr>\n",
       "    <tr>\n",
       "      <th>5</th>\n",
       "      <td>Спб</td>\n",
       "      <td>10</td>\n",
       "      <td>Продукты</td>\n",
       "      <td>75000</td>\n",
       "    </tr>\n",
       "    <tr>\n",
       "      <th>6</th>\n",
       "      <td>Тверь</td>\n",
       "      <td>4</td>\n",
       "      <td>Аптека</td>\n",
       "      <td>5700</td>\n",
       "    </tr>\n",
       "    <tr>\n",
       "      <th>3</th>\n",
       "      <td>Тула</td>\n",
       "      <td>3</td>\n",
       "      <td>Детский</td>\n",
       "      <td>17000</td>\n",
       "    </tr>\n",
       "  </tbody>\n",
       "</table>\n",
       "</div>"
      ],
      "text/plain": [
       "       Город  Кол-во магазинов           Товар   Доход\n",
       "2  Краснодар                 5          Аптека   75000\n",
       "0     Москва                17        Продукты  100000\n",
       "4       Орёл                 1  Стройматериалы    5700\n",
       "1       Сочи                 2    Всё для дома   20300\n",
       "5        Спб                10        Продукты   75000\n",
       "6      Тверь                 4          Аптека    5700\n",
       "3       Тула                 3         Детский   17000"
      ]
     },
     "execution_count": 116,
     "metadata": {},
     "output_type": "execute_result"
    }
   ],
   "source": [
    "df.sort_values(by='Город')"
   ]
  },
  {
   "cell_type": "code",
   "execution_count": 120,
   "id": "20b81415-7b45-453d-bb1a-5c02879da34f",
   "metadata": {},
   "outputs": [
    {
     "data": {
      "text/html": [
       "<div>\n",
       "<style scoped>\n",
       "    .dataframe tbody tr th:only-of-type {\n",
       "        vertical-align: middle;\n",
       "    }\n",
       "\n",
       "    .dataframe tbody tr th {\n",
       "        vertical-align: top;\n",
       "    }\n",
       "\n",
       "    .dataframe thead th {\n",
       "        text-align: right;\n",
       "    }\n",
       "</style>\n",
       "<table border=\"1\" class=\"dataframe\">\n",
       "  <thead>\n",
       "    <tr style=\"text-align: right;\">\n",
       "      <th></th>\n",
       "      <th>Город</th>\n",
       "      <th>Кол-во магазинов</th>\n",
       "      <th>Товар</th>\n",
       "      <th>Доход</th>\n",
       "    </tr>\n",
       "  </thead>\n",
       "  <tbody>\n",
       "    <tr>\n",
       "      <th>0</th>\n",
       "      <td>Москва</td>\n",
       "      <td>17</td>\n",
       "      <td>Продукты</td>\n",
       "      <td>100000</td>\n",
       "    </tr>\n",
       "    <tr>\n",
       "      <th>2</th>\n",
       "      <td>Краснодар</td>\n",
       "      <td>5</td>\n",
       "      <td>Аптека</td>\n",
       "      <td>75000</td>\n",
       "    </tr>\n",
       "    <tr>\n",
       "      <th>5</th>\n",
       "      <td>Спб</td>\n",
       "      <td>10</td>\n",
       "      <td>Продукты</td>\n",
       "      <td>75000</td>\n",
       "    </tr>\n",
       "    <tr>\n",
       "      <th>1</th>\n",
       "      <td>Сочи</td>\n",
       "      <td>2</td>\n",
       "      <td>Всё для дома</td>\n",
       "      <td>20300</td>\n",
       "    </tr>\n",
       "    <tr>\n",
       "      <th>3</th>\n",
       "      <td>Тула</td>\n",
       "      <td>3</td>\n",
       "      <td>Детский</td>\n",
       "      <td>17000</td>\n",
       "    </tr>\n",
       "    <tr>\n",
       "      <th>6</th>\n",
       "      <td>Тверь</td>\n",
       "      <td>4</td>\n",
       "      <td>Аптека</td>\n",
       "      <td>5700</td>\n",
       "    </tr>\n",
       "    <tr>\n",
       "      <th>4</th>\n",
       "      <td>Орёл</td>\n",
       "      <td>1</td>\n",
       "      <td>Стройматериалы</td>\n",
       "      <td>5700</td>\n",
       "    </tr>\n",
       "  </tbody>\n",
       "</table>\n",
       "</div>"
      ],
      "text/plain": [
       "       Город  Кол-во магазинов           Товар   Доход\n",
       "0     Москва                17        Продукты  100000\n",
       "2  Краснодар                 5          Аптека   75000\n",
       "5        Спб                10        Продукты   75000\n",
       "1       Сочи                 2    Всё для дома   20300\n",
       "3       Тула                 3         Детский   17000\n",
       "6      Тверь                 4          Аптека    5700\n",
       "4       Орёл                 1  Стройматериалы    5700"
      ]
     },
     "execution_count": 120,
     "metadata": {},
     "output_type": "execute_result"
    }
   ],
   "source": [
    "df.sort_values(by=['Доход', 'Товар'], ascending=[False, True])"
   ]
  },
  {
   "cell_type": "code",
   "execution_count": 121,
   "id": "d23ccad8-1ea7-4e74-a6c0-552bc2e026da",
   "metadata": {},
   "outputs": [
    {
     "name": "stdout",
     "output_type": "stream",
     "text": [
      "<class 'pandas.core.frame.DataFrame'>\n",
      "RangeIndex: 7 entries, 0 to 6\n",
      "Data columns (total 4 columns):\n",
      " #   Column            Non-Null Count  Dtype \n",
      "---  ------            --------------  ----- \n",
      " 0   Город             7 non-null      object\n",
      " 1   Кол-во магазинов  7 non-null      int64 \n",
      " 2   Товар             7 non-null      object\n",
      " 3   Доход             7 non-null      int64 \n",
      "dtypes: int64(2), object(2)\n",
      "memory usage: 356.0+ bytes\n"
     ]
    }
   ],
   "source": [
    "df.info()"
   ]
  },
  {
   "cell_type": "code",
   "execution_count": 122,
   "id": "1aed4c79-78b5-4205-a1a9-c46978c24010",
   "metadata": {},
   "outputs": [
    {
     "data": {
      "text/html": [
       "<div>\n",
       "<style scoped>\n",
       "    .dataframe tbody tr th:only-of-type {\n",
       "        vertical-align: middle;\n",
       "    }\n",
       "\n",
       "    .dataframe tbody tr th {\n",
       "        vertical-align: top;\n",
       "    }\n",
       "\n",
       "    .dataframe thead th {\n",
       "        text-align: right;\n",
       "    }\n",
       "</style>\n",
       "<table border=\"1\" class=\"dataframe\">\n",
       "  <thead>\n",
       "    <tr style=\"text-align: right;\">\n",
       "      <th></th>\n",
       "      <th>Кол-во магазинов</th>\n",
       "      <th>Доход</th>\n",
       "    </tr>\n",
       "  </thead>\n",
       "  <tbody>\n",
       "    <tr>\n",
       "      <th>count</th>\n",
       "      <td>7.000000</td>\n",
       "      <td>7.000000</td>\n",
       "    </tr>\n",
       "    <tr>\n",
       "      <th>mean</th>\n",
       "      <td>6.000000</td>\n",
       "      <td>42671.428571</td>\n",
       "    </tr>\n",
       "    <tr>\n",
       "      <th>std</th>\n",
       "      <td>5.656854</td>\n",
       "      <td>39306.730309</td>\n",
       "    </tr>\n",
       "    <tr>\n",
       "      <th>min</th>\n",
       "      <td>1.000000</td>\n",
       "      <td>5700.000000</td>\n",
       "    </tr>\n",
       "    <tr>\n",
       "      <th>25%</th>\n",
       "      <td>2.500000</td>\n",
       "      <td>11350.000000</td>\n",
       "    </tr>\n",
       "    <tr>\n",
       "      <th>50%</th>\n",
       "      <td>4.000000</td>\n",
       "      <td>20300.000000</td>\n",
       "    </tr>\n",
       "    <tr>\n",
       "      <th>75%</th>\n",
       "      <td>7.500000</td>\n",
       "      <td>75000.000000</td>\n",
       "    </tr>\n",
       "    <tr>\n",
       "      <th>max</th>\n",
       "      <td>17.000000</td>\n",
       "      <td>100000.000000</td>\n",
       "    </tr>\n",
       "  </tbody>\n",
       "</table>\n",
       "</div>"
      ],
      "text/plain": [
       "       Кол-во магазинов          Доход\n",
       "count          7.000000       7.000000\n",
       "mean           6.000000   42671.428571\n",
       "std            5.656854   39306.730309\n",
       "min            1.000000    5700.000000\n",
       "25%            2.500000   11350.000000\n",
       "50%            4.000000   20300.000000\n",
       "75%            7.500000   75000.000000\n",
       "max           17.000000  100000.000000"
      ]
     },
     "execution_count": 122,
     "metadata": {},
     "output_type": "execute_result"
    }
   ],
   "source": [
    "df.describe()"
   ]
  },
  {
   "cell_type": "code",
   "execution_count": 123,
   "id": "8aea83b3-b41e-44c7-932c-43029616ac29",
   "metadata": {},
   "outputs": [
    {
     "data": {
      "text/html": [
       "<div>\n",
       "<style scoped>\n",
       "    .dataframe tbody tr th:only-of-type {\n",
       "        vertical-align: middle;\n",
       "    }\n",
       "\n",
       "    .dataframe tbody tr th {\n",
       "        vertical-align: top;\n",
       "    }\n",
       "\n",
       "    .dataframe thead th {\n",
       "        text-align: right;\n",
       "    }\n",
       "</style>\n",
       "<table border=\"1\" class=\"dataframe\">\n",
       "  <thead>\n",
       "    <tr style=\"text-align: right;\">\n",
       "      <th></th>\n",
       "      <th>Город</th>\n",
       "      <th>Кол-во магазинов</th>\n",
       "      <th>Товар</th>\n",
       "      <th>Доход</th>\n",
       "    </tr>\n",
       "  </thead>\n",
       "  <tbody>\n",
       "    <tr>\n",
       "      <th>0</th>\n",
       "      <td>Москва</td>\n",
       "      <td>17</td>\n",
       "      <td>Продукты</td>\n",
       "      <td>100000</td>\n",
       "    </tr>\n",
       "    <tr>\n",
       "      <th>1</th>\n",
       "      <td>Сочи</td>\n",
       "      <td>2</td>\n",
       "      <td>Всё для дома</td>\n",
       "      <td>20300</td>\n",
       "    </tr>\n",
       "    <tr>\n",
       "      <th>2</th>\n",
       "      <td>Краснодар</td>\n",
       "      <td>5</td>\n",
       "      <td>Аптека</td>\n",
       "      <td>75000</td>\n",
       "    </tr>\n",
       "    <tr>\n",
       "      <th>3</th>\n",
       "      <td>Тула</td>\n",
       "      <td>3</td>\n",
       "      <td>Детский</td>\n",
       "      <td>17000</td>\n",
       "    </tr>\n",
       "    <tr>\n",
       "      <th>4</th>\n",
       "      <td>Орёл</td>\n",
       "      <td>1</td>\n",
       "      <td>Стройматериалы</td>\n",
       "      <td>5700</td>\n",
       "    </tr>\n",
       "    <tr>\n",
       "      <th>5</th>\n",
       "      <td>Спб</td>\n",
       "      <td>10</td>\n",
       "      <td>Продукты</td>\n",
       "      <td>75000</td>\n",
       "    </tr>\n",
       "    <tr>\n",
       "      <th>6</th>\n",
       "      <td>Тверь</td>\n",
       "      <td>4</td>\n",
       "      <td>Аптека</td>\n",
       "      <td>5700</td>\n",
       "    </tr>\n",
       "  </tbody>\n",
       "</table>\n",
       "</div>"
      ],
      "text/plain": [
       "       Город  Кол-во магазинов           Товар   Доход\n",
       "0     Москва                17        Продукты  100000\n",
       "1       Сочи                 2    Всё для дома   20300\n",
       "2  Краснодар                 5          Аптека   75000\n",
       "3       Тула                 3         Детский   17000\n",
       "4       Орёл                 1  Стройматериалы    5700\n",
       "5        Спб                10        Продукты   75000\n",
       "6      Тверь                 4          Аптека    5700"
      ]
     },
     "execution_count": 123,
     "metadata": {},
     "output_type": "execute_result"
    }
   ],
   "source": [
    "df"
   ]
  },
  {
   "cell_type": "code",
   "execution_count": 124,
   "id": "d251f019-c5fa-41d0-a792-75d48a178701",
   "metadata": {},
   "outputs": [
    {
     "data": {
      "text/plain": [
       "0    100000\n",
       "1     20300\n",
       "2     75000\n",
       "3     17000\n",
       "4      5700\n",
       "5     75000\n",
       "6      5700\n",
       "Name: Доход, dtype: int64"
      ]
     },
     "execution_count": 124,
     "metadata": {},
     "output_type": "execute_result"
    }
   ],
   "source": [
    "df['Доход']"
   ]
  },
  {
   "cell_type": "code",
   "execution_count": 125,
   "id": "1d4b615f-2a4f-48ed-917a-574c54ab1756",
   "metadata": {},
   "outputs": [
    {
     "data": {
      "text/plain": [
       "0     True\n",
       "1     True\n",
       "2     True\n",
       "3     True\n",
       "4    False\n",
       "5     True\n",
       "6    False\n",
       "Name: Доход, dtype: bool"
      ]
     },
     "execution_count": 125,
     "metadata": {},
     "output_type": "execute_result"
    }
   ],
   "source": [
    "df['Доход'] > 10000"
   ]
  },
  {
   "cell_type": "code",
   "execution_count": 126,
   "id": "62ae06e3-5fcd-4435-a2bd-94ad6c68eeb9",
   "metadata": {},
   "outputs": [],
   "source": [
    "list_1 = df['Доход'] > 10000"
   ]
  },
  {
   "cell_type": "code",
   "execution_count": 127,
   "id": "01f6e0f6-0a94-48c9-ad21-fa316d0f8526",
   "metadata": {},
   "outputs": [
    {
     "data": {
      "text/html": [
       "<div>\n",
       "<style scoped>\n",
       "    .dataframe tbody tr th:only-of-type {\n",
       "        vertical-align: middle;\n",
       "    }\n",
       "\n",
       "    .dataframe tbody tr th {\n",
       "        vertical-align: top;\n",
       "    }\n",
       "\n",
       "    .dataframe thead th {\n",
       "        text-align: right;\n",
       "    }\n",
       "</style>\n",
       "<table border=\"1\" class=\"dataframe\">\n",
       "  <thead>\n",
       "    <tr style=\"text-align: right;\">\n",
       "      <th></th>\n",
       "      <th>Город</th>\n",
       "      <th>Кол-во магазинов</th>\n",
       "      <th>Товар</th>\n",
       "      <th>Доход</th>\n",
       "    </tr>\n",
       "  </thead>\n",
       "  <tbody>\n",
       "    <tr>\n",
       "      <th>0</th>\n",
       "      <td>Москва</td>\n",
       "      <td>17</td>\n",
       "      <td>Продукты</td>\n",
       "      <td>100000</td>\n",
       "    </tr>\n",
       "    <tr>\n",
       "      <th>1</th>\n",
       "      <td>Сочи</td>\n",
       "      <td>2</td>\n",
       "      <td>Всё для дома</td>\n",
       "      <td>20300</td>\n",
       "    </tr>\n",
       "    <tr>\n",
       "      <th>2</th>\n",
       "      <td>Краснодар</td>\n",
       "      <td>5</td>\n",
       "      <td>Аптека</td>\n",
       "      <td>75000</td>\n",
       "    </tr>\n",
       "    <tr>\n",
       "      <th>3</th>\n",
       "      <td>Тула</td>\n",
       "      <td>3</td>\n",
       "      <td>Детский</td>\n",
       "      <td>17000</td>\n",
       "    </tr>\n",
       "    <tr>\n",
       "      <th>5</th>\n",
       "      <td>Спб</td>\n",
       "      <td>10</td>\n",
       "      <td>Продукты</td>\n",
       "      <td>75000</td>\n",
       "    </tr>\n",
       "  </tbody>\n",
       "</table>\n",
       "</div>"
      ],
      "text/plain": [
       "       Город  Кол-во магазинов         Товар   Доход\n",
       "0     Москва                17      Продукты  100000\n",
       "1       Сочи                 2  Всё для дома   20300\n",
       "2  Краснодар                 5        Аптека   75000\n",
       "3       Тула                 3       Детский   17000\n",
       "5        Спб                10      Продукты   75000"
      ]
     },
     "execution_count": 127,
     "metadata": {},
     "output_type": "execute_result"
    }
   ],
   "source": [
    "df[list_1]"
   ]
  },
  {
   "cell_type": "code",
   "execution_count": 128,
   "id": "316e448d-2d3a-4366-99df-eccb3f80c267",
   "metadata": {},
   "outputs": [
    {
     "data": {
      "text/html": [
       "<div>\n",
       "<style scoped>\n",
       "    .dataframe tbody tr th:only-of-type {\n",
       "        vertical-align: middle;\n",
       "    }\n",
       "\n",
       "    .dataframe tbody tr th {\n",
       "        vertical-align: top;\n",
       "    }\n",
       "\n",
       "    .dataframe thead th {\n",
       "        text-align: right;\n",
       "    }\n",
       "</style>\n",
       "<table border=\"1\" class=\"dataframe\">\n",
       "  <thead>\n",
       "    <tr style=\"text-align: right;\">\n",
       "      <th></th>\n",
       "      <th>Город</th>\n",
       "      <th>Кол-во магазинов</th>\n",
       "      <th>Товар</th>\n",
       "      <th>Доход</th>\n",
       "    </tr>\n",
       "  </thead>\n",
       "  <tbody>\n",
       "    <tr>\n",
       "      <th>0</th>\n",
       "      <td>Москва</td>\n",
       "      <td>17</td>\n",
       "      <td>Продукты</td>\n",
       "      <td>100000</td>\n",
       "    </tr>\n",
       "    <tr>\n",
       "      <th>1</th>\n",
       "      <td>Сочи</td>\n",
       "      <td>2</td>\n",
       "      <td>Всё для дома</td>\n",
       "      <td>20300</td>\n",
       "    </tr>\n",
       "    <tr>\n",
       "      <th>2</th>\n",
       "      <td>Краснодар</td>\n",
       "      <td>5</td>\n",
       "      <td>Аптека</td>\n",
       "      <td>75000</td>\n",
       "    </tr>\n",
       "    <tr>\n",
       "      <th>5</th>\n",
       "      <td>Спб</td>\n",
       "      <td>10</td>\n",
       "      <td>Продукты</td>\n",
       "      <td>75000</td>\n",
       "    </tr>\n",
       "  </tbody>\n",
       "</table>\n",
       "</div>"
      ],
      "text/plain": [
       "       Город  Кол-во магазинов         Товар   Доход\n",
       "0     Москва                17      Продукты  100000\n",
       "1       Сочи                 2  Всё для дома   20300\n",
       "2  Краснодар                 5        Аптека   75000\n",
       "5        Спб                10      Продукты   75000"
      ]
     },
     "execution_count": 128,
     "metadata": {},
     "output_type": "execute_result"
    }
   ],
   "source": [
    "df[df['Доход'] > 20000]"
   ]
  },
  {
   "cell_type": "code",
   "execution_count": null,
   "id": "159ad7f0-899d-4a0c-a5a8-82758d3adfd0",
   "metadata": {},
   "outputs": [],
   "source": []
  }
 ],
 "metadata": {
  "kernelspec": {
   "display_name": "Python 3 (ipykernel)",
   "language": "python",
   "name": "python3"
  },
  "language_info": {
   "codemirror_mode": {
    "name": "ipython",
    "version": 3
   },
   "file_extension": ".py",
   "mimetype": "text/x-python",
   "name": "python",
   "nbconvert_exporter": "python",
   "pygments_lexer": "ipython3",
   "version": "3.11.6"
  }
 },
 "nbformat": 4,
 "nbformat_minor": 5
}
