{
 "cells": [
  {
   "metadata": {
    "ExecuteTime": {
     "end_time": "2025-08-25T17:11:16.921806Z",
     "start_time": "2025-08-25T17:11:16.833117Z"
    }
   },
   "cell_type": "code",
   "source": "print(\"Hello decorators\")",
   "id": "fe1473162b6abfc",
   "outputs": [
    {
     "name": "stdout",
     "output_type": "stream",
     "text": [
      "Hello decorators\n"
     ]
    }
   ],
   "execution_count": 1
  },
  {
   "metadata": {
    "ExecuteTime": {
     "end_time": "2025-08-25T17:11:48.506203Z",
     "start_time": "2025-08-25T17:11:48.490331Z"
    }
   },
   "cell_type": "code",
   "source": [
    "def hello():\n",
    "    print(\"Hello decorators\")"
   ],
   "id": "86b1e7c925baafa",
   "outputs": [],
   "execution_count": 2
  },
  {
   "metadata": {
    "ExecuteTime": {
     "end_time": "2025-08-25T17:11:51.967528Z",
     "start_time": "2025-08-25T17:11:51.965363Z"
    }
   },
   "cell_type": "code",
   "source": "hello()",
   "id": "3331f02e059c4eb2",
   "outputs": [
    {
     "name": "stdout",
     "output_type": "stream",
     "text": [
      "Hello decorators\n"
     ]
    }
   ],
   "execution_count": 3
  },
  {
   "metadata": {
    "ExecuteTime": {
     "end_time": "2025-08-25T17:12:51.847660Z",
     "start_time": "2025-08-25T17:12:51.840719Z"
    }
   },
   "cell_type": "code",
   "source": [
    "def verbose_hello():\n",
    "    print(\"Running hello...\")\n",
    "    hello()\n",
    "    print(\"Done running hello.\")"
   ],
   "id": "8043c85ea97b69ee",
   "outputs": [],
   "execution_count": 4
  },
  {
   "metadata": {
    "ExecuteTime": {
     "end_time": "2025-08-25T17:13:06.879176Z",
     "start_time": "2025-08-25T17:13:06.876410Z"
    }
   },
   "cell_type": "code",
   "source": "verbose_hello()",
   "id": "5632a5957458be3c",
   "outputs": [
    {
     "name": "stdout",
     "output_type": "stream",
     "text": [
      "Running hello...\n",
      "Hello decorators\n",
      "Done running hello.\n"
     ]
    }
   ],
   "execution_count": 5
  },
  {
   "metadata": {
    "ExecuteTime": {
     "end_time": "2025-08-25T17:13:38.914016Z",
     "start_time": "2025-08-25T17:13:38.907768Z"
    }
   },
   "cell_type": "code",
   "source": [
    "def hello(name):\n",
    "    print(\"Hello\", name)"
   ],
   "id": "c503e636a4c07d07",
   "outputs": [],
   "execution_count": 6
  },
  {
   "metadata": {
    "ExecuteTime": {
     "end_time": "2025-08-25T17:13:42.711727Z",
     "start_time": "2025-08-25T17:13:42.709393Z"
    }
   },
   "cell_type": "code",
   "source": "hello(\"OTUS\")",
   "id": "4db98a9310d8478a",
   "outputs": [
    {
     "name": "stdout",
     "output_type": "stream",
     "text": [
      "Hello OTUS\n"
     ]
    }
   ],
   "execution_count": 7
  },
  {
   "metadata": {
    "ExecuteTime": {
     "end_time": "2025-08-25T17:14:05.716954Z",
     "start_time": "2025-08-25T17:14:05.714157Z"
    }
   },
   "cell_type": "code",
   "source": [
    "def verbose_hello(name):\n",
    "    print(\"Running hello with name\", name)\n",
    "    hello(name)\n",
    "    print(\"Done running hello.\")"
   ],
   "id": "7c2e2e683d88442d",
   "outputs": [],
   "execution_count": 8
  },
  {
   "metadata": {
    "ExecuteTime": {
     "end_time": "2025-08-25T17:14:09.931974Z",
     "start_time": "2025-08-25T17:14:09.929060Z"
    }
   },
   "cell_type": "code",
   "source": "verbose_hello(\"Suren\")",
   "id": "465e2fa0833b52d3",
   "outputs": [
    {
     "name": "stdout",
     "output_type": "stream",
     "text": [
      "Running hello with name Suren\n",
      "Hello Suren\n",
      "Done running hello.\n"
     ]
    }
   ],
   "execution_count": 9
  },
  {
   "metadata": {
    "ExecuteTime": {
     "end_time": "2025-08-25T17:15:13.294835Z",
     "start_time": "2025-08-25T17:15:13.287322Z"
    }
   },
   "cell_type": "code",
   "source": [
    "def verbose_call(func, arg):\n",
    "    print(\"Running func\", func, \"with\", arg)\n",
    "    func(arg)\n",
    "    print(\"Done running func\")"
   ],
   "id": "46c809b26fad4408",
   "outputs": [],
   "execution_count": 10
  },
  {
   "metadata": {
    "ExecuteTime": {
     "end_time": "2025-08-25T17:15:34.035294Z",
     "start_time": "2025-08-25T17:15:34.025578Z"
    }
   },
   "cell_type": "code",
   "source": "verbose_call(hello, \"Ivan\")",
   "id": "abe2e667dad5cdba",
   "outputs": [
    {
     "name": "stdout",
     "output_type": "stream",
     "text": [
      "Running func <function hello at 0x106e9e200> with Ivan\n",
      "Hello Ivan\n",
      "Done running func\n"
     ]
    }
   ],
   "execution_count": 11
  },
  {
   "metadata": {
    "ExecuteTime": {
     "end_time": "2025-08-25T17:18:23.540315Z",
     "start_time": "2025-08-25T17:18:23.523052Z"
    }
   },
   "cell_type": "code",
   "source": [
    "def create_verbose_call(func):\n",
    "\n",
    "    def new_verbose_call(arg):\n",
    "        print(\"Running func\", func, \"with\", arg)\n",
    "        func(arg)\n",
    "        print(\"Done running func\")\n",
    "\n",
    "    return new_verbose_call"
   ],
   "id": "624f7a3339869f61",
   "outputs": [],
   "execution_count": 12
  },
  {
   "metadata": {
    "ExecuteTime": {
     "end_time": "2025-08-25T17:18:49.553803Z",
     "start_time": "2025-08-25T17:18:49.537706Z"
    }
   },
   "cell_type": "code",
   "source": [
    "v_call = create_verbose_call(hello)\n",
    "v_call"
   ],
   "id": "bfa97ba0bae63245",
   "outputs": [
    {
     "data": {
      "text/plain": [
       "<function __main__.create_verbose_call.<locals>.new_verbose_call(arg)>"
      ]
     },
     "execution_count": 13,
     "metadata": {},
     "output_type": "execute_result"
    }
   ],
   "execution_count": 13
  },
  {
   "metadata": {
    "ExecuteTime": {
     "end_time": "2025-08-25T17:19:19.466696Z",
     "start_time": "2025-08-25T17:19:19.463834Z"
    }
   },
   "cell_type": "code",
   "source": "v_call(\"John\")",
   "id": "eb06b985ebee425f",
   "outputs": [
    {
     "name": "stdout",
     "output_type": "stream",
     "text": [
      "Running func <function hello at 0x106e9e200> with John\n",
      "Hello John\n",
      "Done running func\n"
     ]
    }
   ],
   "execution_count": 14
  },
  {
   "metadata": {
    "ExecuteTime": {
     "end_time": "2025-08-25T17:22:08.138327Z",
     "start_time": "2025-08-25T17:22:08.132980Z"
    }
   },
   "cell_type": "code",
   "source": [
    "def hello(name):\n",
    "    print(f\"Hello, {name}!\")\n",
    "\n",
    "\n",
    "hello = create_verbose_call(hello)"
   ],
   "id": "a98c7e417a5ce04e",
   "outputs": [],
   "execution_count": 15
  },
  {
   "metadata": {
    "ExecuteTime": {
     "end_time": "2025-08-25T17:22:10.266827Z",
     "start_time": "2025-08-25T17:22:10.263594Z"
    }
   },
   "cell_type": "code",
   "source": "hello",
   "id": "bda494897dd470f7",
   "outputs": [
    {
     "data": {
      "text/plain": [
       "<function __main__.create_verbose_call.<locals>.new_verbose_call(arg)>"
      ]
     },
     "execution_count": 16,
     "metadata": {},
     "output_type": "execute_result"
    }
   ],
   "execution_count": 16
  },
  {
   "metadata": {
    "ExecuteTime": {
     "end_time": "2025-08-25T17:22:21.559011Z",
     "start_time": "2025-08-25T17:22:21.556401Z"
    }
   },
   "cell_type": "code",
   "source": "hello(\"Bob\")",
   "id": "543c94a2bbdf2f66",
   "outputs": [
    {
     "name": "stdout",
     "output_type": "stream",
     "text": [
      "Running func <function hello at 0x106e9eac0> with Bob\n",
      "Hello, Bob!\n",
      "Done running func\n"
     ]
    }
   ],
   "execution_count": 17
  },
  {
   "metadata": {
    "ExecuteTime": {
     "end_time": "2025-08-25T17:22:49.203271Z",
     "start_time": "2025-08-25T17:22:49.200336Z"
    }
   },
   "cell_type": "code",
   "source": "v_call(\"Alice\")",
   "id": "332ca1916fedb565",
   "outputs": [
    {
     "name": "stdout",
     "output_type": "stream",
     "text": [
      "Running func <function hello at 0x106e9e200> with Alice\n",
      "Hello Alice\n",
      "Done running func\n"
     ]
    }
   ],
   "execution_count": 18
  },
  {
   "metadata": {
    "ExecuteTime": {
     "end_time": "2025-08-25T17:24:17.120355Z",
     "start_time": "2025-08-25T17:24:17.117522Z"
    }
   },
   "cell_type": "code",
   "source": [
    "@create_verbose_call\n",
    "def hello(name):\n",
    "    print(f\"Hello, dear {name}!!!\")"
   ],
   "id": "8288e2dd9c3a23c7",
   "outputs": [],
   "execution_count": 20
  },
  {
   "metadata": {
    "ExecuteTime": {
     "end_time": "2025-08-25T17:24:21.360278Z",
     "start_time": "2025-08-25T17:24:21.357571Z"
    }
   },
   "cell_type": "code",
   "source": "hello(\"Sam\")",
   "id": "26654b718f3de752",
   "outputs": [
    {
     "name": "stdout",
     "output_type": "stream",
     "text": [
      "Running func <function hello at 0x106e9ea20> with Sam\n",
      "Hello, dear Sam!!!\n",
      "Done running func\n"
     ]
    }
   ],
   "execution_count": 21
  },
  {
   "metadata": {
    "ExecuteTime": {
     "end_time": "2025-08-25T17:27:18.236873Z",
     "start_time": "2025-08-25T17:27:18.227197Z"
    }
   },
   "cell_type": "code",
   "source": "hello",
   "id": "1a8e3c66ae294b61",
   "outputs": [
    {
     "data": {
      "text/plain": [
       "<function __main__.create_verbose_call.<locals>.new_verbose_call(arg)>"
      ]
     },
     "execution_count": 22,
     "metadata": {},
     "output_type": "execute_result"
    }
   ],
   "execution_count": 22
  },
  {
   "metadata": {
    "ExecuteTime": {
     "end_time": "2025-08-25T17:27:25.465944Z",
     "start_time": "2025-08-25T17:27:25.462382Z"
    }
   },
   "cell_type": "code",
   "source": "print(hello)",
   "id": "8b7a9b9f5e27a1c4",
   "outputs": [
    {
     "name": "stdout",
     "output_type": "stream",
     "text": [
      "<function create_verbose_call.<locals>.new_verbose_call at 0x106e9ed40>\n"
     ]
    }
   ],
   "execution_count": 23
  },
  {
   "metadata": {
    "ExecuteTime": {
     "end_time": "2025-08-25T17:31:57.763227Z",
     "start_time": "2025-08-25T17:31:57.753296Z"
    }
   },
   "cell_type": "code",
   "source": [
    "from functools import wraps\n",
    "\n",
    "\n",
    "def verbose_call(func):\n",
    "\n",
    "    @wraps(func)\n",
    "    def wrapper(arg):\n",
    "        print(\"Running func\", func, \"with\", arg)\n",
    "        res = func(arg)\n",
    "        print(\"Done running func, res:\", res)\n",
    "        return res\n",
    "\n",
    "    return wrapper"
   ],
   "id": "102ed1f6bd486be2",
   "outputs": [],
   "execution_count": 25
  },
  {
   "metadata": {
    "ExecuteTime": {
     "end_time": "2025-08-25T17:32:21.480436Z",
     "start_time": "2025-08-25T17:32:21.477461Z"
    }
   },
   "cell_type": "code",
   "source": [
    "@verbose_call\n",
    "def hello(name):\n",
    "    print(f\"Hello, my dear friend {name}!\")"
   ],
   "id": "48927d8336efe745",
   "outputs": [],
   "execution_count": 26
  },
  {
   "metadata": {
    "ExecuteTime": {
     "end_time": "2025-08-25T17:32:23.537890Z",
     "start_time": "2025-08-25T17:32:23.534494Z"
    }
   },
   "cell_type": "code",
   "source": "hello",
   "id": "20de0b31c6f5a44d",
   "outputs": [
    {
     "data": {
      "text/plain": [
       "<function __main__.hello(name)>"
      ]
     },
     "execution_count": 27,
     "metadata": {},
     "output_type": "execute_result"
    }
   ],
   "execution_count": 27
  },
  {
   "metadata": {
    "ExecuteTime": {
     "end_time": "2025-08-25T17:32:26.566330Z",
     "start_time": "2025-08-25T17:32:26.564288Z"
    }
   },
   "cell_type": "code",
   "source": "print(hello)",
   "id": "4c6c69c2eda26de3",
   "outputs": [
    {
     "name": "stdout",
     "output_type": "stream",
     "text": [
      "<function hello at 0x106e9ede0>\n"
     ]
    }
   ],
   "execution_count": 28
  },
  {
   "metadata": {
    "ExecuteTime": {
     "end_time": "2025-08-25T17:32:39.590316Z",
     "start_time": "2025-08-25T17:32:39.584088Z"
    }
   },
   "cell_type": "code",
   "source": "print(hello.__wrapped__)",
   "id": "1aa7119b30c49cf9",
   "outputs": [
    {
     "name": "stdout",
     "output_type": "stream",
     "text": [
      "<function hello at 0x106e9ec00>\n"
     ]
    }
   ],
   "execution_count": 29
  },
  {
   "metadata": {
    "ExecuteTime": {
     "end_time": "2025-08-25T17:32:52.602688Z",
     "start_time": "2025-08-25T17:32:52.599449Z"
    }
   },
   "cell_type": "code",
   "source": "hello.__wrapped__",
   "id": "f491363926afda60",
   "outputs": [
    {
     "data": {
      "text/plain": [
       "<function __main__.hello(name)>"
      ]
     },
     "execution_count": 30,
     "metadata": {},
     "output_type": "execute_result"
    }
   ],
   "execution_count": 30
  },
  {
   "metadata": {
    "ExecuteTime": {
     "end_time": "2025-08-25T17:33:06.745017Z",
     "start_time": "2025-08-25T17:33:06.720756Z"
    }
   },
   "cell_type": "code",
   "source": "hello(\"Kyle\")",
   "id": "76ca7f4275b8dc5d",
   "outputs": [
    {
     "name": "stdout",
     "output_type": "stream",
     "text": [
      "Running func <function hello at 0x106e9ec00> with Kyle\n",
      "Hello, my dear friend Kyle!\n",
      "Done running func, res: None\n"
     ]
    }
   ],
   "execution_count": 31
  },
  {
   "metadata": {
    "ExecuteTime": {
     "end_time": "2025-08-25T17:33:39.684138Z",
     "start_time": "2025-08-25T17:33:39.679330Z"
    }
   },
   "cell_type": "code",
   "source": [
    "@verbose_call\n",
    "def square(num):\n",
    "    return num * num"
   ],
   "id": "16a80cd1a90ac5be",
   "outputs": [],
   "execution_count": 32
  },
  {
   "metadata": {
    "ExecuteTime": {
     "end_time": "2025-08-25T17:33:42.877486Z",
     "start_time": "2025-08-25T17:33:42.874394Z"
    }
   },
   "cell_type": "code",
   "source": "square(5)",
   "id": "3aa69f6a2b48fe7f",
   "outputs": [
    {
     "name": "stdout",
     "output_type": "stream",
     "text": [
      "Running func <function square at 0x106e9ee80> with 5\n",
      "Done running func, res: 25\n"
     ]
    },
    {
     "data": {
      "text/plain": [
       "25"
      ]
     },
     "execution_count": 33,
     "metadata": {},
     "output_type": "execute_result"
    }
   ],
   "execution_count": 33
  },
  {
   "metadata": {
    "ExecuteTime": {
     "end_time": "2025-08-25T17:33:54.638735Z",
     "start_time": "2025-08-25T17:33:54.632988Z"
    }
   },
   "cell_type": "code",
   "source": "square.__wrapped__(5)",
   "id": "835982b40a453246",
   "outputs": [
    {
     "data": {
      "text/plain": [
       "25"
      ]
     },
     "execution_count": 34,
     "metadata": {},
     "output_type": "execute_result"
    }
   ],
   "execution_count": 34
  },
  {
   "metadata": {
    "ExecuteTime": {
     "end_time": "2025-08-25T17:39:21.756724Z",
     "start_time": "2025-08-25T17:39:21.747176Z"
    }
   },
   "cell_type": "code",
   "source": [
    "def cached(func):\n",
    "\n",
    "    func.cache = {}\n",
    "\n",
    "    @wraps(func)\n",
    "    def wrapper(*args):\n",
    "        if args not in func.cache:\n",
    "            func.cache[args] = func(*args)\n",
    "        return func.cache[args]\n",
    "\n",
    "    return wrapper"
   ],
   "id": "49363d4e568ddd2a",
   "outputs": [],
   "execution_count": 35
  },
  {
   "metadata": {
    "ExecuteTime": {
     "end_time": "2025-08-25T17:40:40.524504Z",
     "start_time": "2025-08-25T17:40:40.517583Z"
    }
   },
   "cell_type": "code",
   "source": [
    "def fib(n):\n",
    "    if n < 2:\n",
    "        return n\n",
    "    return fib(n - 1) + fib(n - 2)"
   ],
   "id": "3f55df13aae6dc29",
   "outputs": [],
   "execution_count": 36
  },
  {
   "metadata": {
    "ExecuteTime": {
     "end_time": "2025-08-25T17:40:44.671231Z",
     "start_time": "2025-08-25T17:40:44.668530Z"
    }
   },
   "cell_type": "code",
   "source": "fib(5)",
   "id": "344ab063d797b76d",
   "outputs": [
    {
     "data": {
      "text/plain": [
       "5"
      ]
     },
     "execution_count": 37,
     "metadata": {},
     "output_type": "execute_result"
    }
   ],
   "execution_count": 37
  },
  {
   "metadata": {
    "ExecuteTime": {
     "end_time": "2025-08-25T17:40:52.401225Z",
     "start_time": "2025-08-25T17:40:52.398151Z"
    }
   },
   "cell_type": "code",
   "source": "fib(6)",
   "id": "a2da96a18ebd3270",
   "outputs": [
    {
     "data": {
      "text/plain": [
       "8"
      ]
     },
     "execution_count": 38,
     "metadata": {},
     "output_type": "execute_result"
    }
   ],
   "execution_count": 38
  },
  {
   "metadata": {
    "ExecuteTime": {
     "end_time": "2025-08-25T17:40:57.135441Z",
     "start_time": "2025-08-25T17:40:57.122381Z"
    }
   },
   "cell_type": "code",
   "source": "fib(10)",
   "id": "1dd645ec09d7d2b7",
   "outputs": [
    {
     "data": {
      "text/plain": [
       "55"
      ]
     },
     "execution_count": 39,
     "metadata": {},
     "output_type": "execute_result"
    }
   ],
   "execution_count": 39
  },
  {
   "metadata": {
    "ExecuteTime": {
     "end_time": "2025-08-25T17:41:04.178849Z",
     "start_time": "2025-08-25T17:41:04.175271Z"
    }
   },
   "cell_type": "code",
   "source": "fib(13)",
   "id": "1f47bd67d37a25c8",
   "outputs": [
    {
     "data": {
      "text/plain": [
       "233"
      ]
     },
     "execution_count": 40,
     "metadata": {},
     "output_type": "execute_result"
    }
   ],
   "execution_count": 40
  },
  {
   "metadata": {
    "ExecuteTime": {
     "end_time": "2025-08-25T17:41:10.105408Z",
     "start_time": "2025-08-25T17:41:10.100578Z"
    }
   },
   "cell_type": "code",
   "source": "fib(20)",
   "id": "aeb31a7af36c3a8f",
   "outputs": [
    {
     "data": {
      "text/plain": [
       "6765"
      ]
     },
     "execution_count": 41,
     "metadata": {},
     "output_type": "execute_result"
    }
   ],
   "execution_count": 41
  },
  {
   "metadata": {
    "ExecuteTime": {
     "end_time": "2025-08-25T17:41:15.890905Z",
     "start_time": "2025-08-25T17:41:15.767687Z"
    }
   },
   "cell_type": "code",
   "source": "fib(30)",
   "id": "abb29665e122bd58",
   "outputs": [
    {
     "data": {
      "text/plain": [
       "832040"
      ]
     },
     "execution_count": 42,
     "metadata": {},
     "output_type": "execute_result"
    }
   ],
   "execution_count": 42
  },
  {
   "metadata": {
    "ExecuteTime": {
     "end_time": "2025-08-25T17:41:31.902242Z",
     "start_time": "2025-08-25T17:41:20.894540Z"
    }
   },
   "cell_type": "code",
   "source": "fib(40)",
   "id": "e7cb20fb66d86887",
   "outputs": [
    {
     "data": {
      "text/plain": [
       "102334155"
      ]
     },
     "execution_count": 43,
     "metadata": {},
     "output_type": "execute_result"
    }
   ],
   "execution_count": 43
  },
  {
   "metadata": {
    "ExecuteTime": {
     "end_time": "2025-08-25T17:41:53.511549Z",
     "start_time": "2025-08-25T17:41:53.508318Z"
    }
   },
   "cell_type": "code",
   "source": [
    "@cached\n",
    "def fib(n):\n",
    "    if n < 2:\n",
    "        return n\n",
    "    return fib(n - 1) + fib(n - 2)"
   ],
   "id": "892218b7a3be8910",
   "outputs": [],
   "execution_count": 44
  },
  {
   "metadata": {
    "ExecuteTime": {
     "end_time": "2025-08-25T17:41:57.632677Z",
     "start_time": "2025-08-25T17:41:57.629225Z"
    }
   },
   "cell_type": "code",
   "source": "fib(10)",
   "id": "931a5139e702dfb0",
   "outputs": [
    {
     "data": {
      "text/plain": [
       "55"
      ]
     },
     "execution_count": 45,
     "metadata": {},
     "output_type": "execute_result"
    }
   ],
   "execution_count": 45
  },
  {
   "metadata": {
    "ExecuteTime": {
     "end_time": "2025-08-25T17:42:05.752443Z",
     "start_time": "2025-08-25T17:42:05.748349Z"
    }
   },
   "cell_type": "code",
   "source": "fib.cache",
   "id": "40c8266338647a12",
   "outputs": [
    {
     "data": {
      "text/plain": [
       "{(1,): 1,\n",
       " (0,): 0,\n",
       " (2,): 1,\n",
       " (3,): 2,\n",
       " (4,): 3,\n",
       " (5,): 5,\n",
       " (6,): 8,\n",
       " (7,): 13,\n",
       " (8,): 21,\n",
       " (9,): 34,\n",
       " (10,): 55}"
      ]
     },
     "execution_count": 46,
     "metadata": {},
     "output_type": "execute_result"
    }
   ],
   "execution_count": 46
  },
  {
   "metadata": {
    "ExecuteTime": {
     "end_time": "2025-08-25T17:42:19.734162Z",
     "start_time": "2025-08-25T17:42:19.730226Z"
    }
   },
   "cell_type": "code",
   "source": "fib(50)",
   "id": "97eb3562de104292",
   "outputs": [
    {
     "data": {
      "text/plain": [
       "12586269025"
      ]
     },
     "execution_count": 47,
     "metadata": {},
     "output_type": "execute_result"
    }
   ],
   "execution_count": 47
  },
  {
   "metadata": {
    "ExecuteTime": {
     "end_time": "2025-08-25T17:42:21.974715Z",
     "start_time": "2025-08-25T17:42:21.970996Z"
    }
   },
   "cell_type": "code",
   "source": "fib.cache",
   "id": "fb095397748cfc10",
   "outputs": [
    {
     "data": {
      "text/plain": [
       "{(1,): 1,\n",
       " (0,): 0,\n",
       " (2,): 1,\n",
       " (3,): 2,\n",
       " (4,): 3,\n",
       " (5,): 5,\n",
       " (6,): 8,\n",
       " (7,): 13,\n",
       " (8,): 21,\n",
       " (9,): 34,\n",
       " (10,): 55,\n",
       " (11,): 89,\n",
       " (12,): 144,\n",
       " (13,): 233,\n",
       " (14,): 377,\n",
       " (15,): 610,\n",
       " (16,): 987,\n",
       " (17,): 1597,\n",
       " (18,): 2584,\n",
       " (19,): 4181,\n",
       " (20,): 6765,\n",
       " (21,): 10946,\n",
       " (22,): 17711,\n",
       " (23,): 28657,\n",
       " (24,): 46368,\n",
       " (25,): 75025,\n",
       " (26,): 121393,\n",
       " (27,): 196418,\n",
       " (28,): 317811,\n",
       " (29,): 514229,\n",
       " (30,): 832040,\n",
       " (31,): 1346269,\n",
       " (32,): 2178309,\n",
       " (33,): 3524578,\n",
       " (34,): 5702887,\n",
       " (35,): 9227465,\n",
       " (36,): 14930352,\n",
       " (37,): 24157817,\n",
       " (38,): 39088169,\n",
       " (39,): 63245986,\n",
       " (40,): 102334155,\n",
       " (41,): 165580141,\n",
       " (42,): 267914296,\n",
       " (43,): 433494437,\n",
       " (44,): 701408733,\n",
       " (45,): 1134903170,\n",
       " (46,): 1836311903,\n",
       " (47,): 2971215073,\n",
       " (48,): 4807526976,\n",
       " (49,): 7778742049,\n",
       " (50,): 12586269025}"
      ]
     },
     "execution_count": 48,
     "metadata": {},
     "output_type": "execute_result"
    }
   ],
   "execution_count": 48
  },
  {
   "metadata": {
    "ExecuteTime": {
     "end_time": "2025-08-25T17:52:25.947515Z",
     "start_time": "2025-08-25T17:52:25.944249Z"
    }
   },
   "cell_type": "code",
   "source": [
    "from timeit import default_timer\n",
    "\n",
    "\n",
    "def log_time(func):\n",
    "\n",
    "    @wraps(func)\n",
    "    def wrapper(*args, **kwargs):\n",
    "        start = default_timer()\n",
    "        try:\n",
    "            return func(*args, **kwargs)\n",
    "        finally:\n",
    "            total_time = default_timer() - start\n",
    "            print(f\"[{func.__name__}(*{args}, **{kwargs})] Total time: {total_time:.10f}\",)\n",
    "\n",
    "    return wrapper"
   ],
   "id": "3c29953719c9c12c",
   "outputs": [],
   "execution_count": 52
  },
  {
   "metadata": {
    "ExecuteTime": {
     "end_time": "2025-08-25T17:52:26.291121Z",
     "start_time": "2025-08-25T17:52:26.288639Z"
    }
   },
   "cell_type": "code",
   "source": [
    "from random import random, randint\n",
    "\n",
    "\n",
    "@log_time\n",
    "def get_random(from_int, to_int):\n",
    "    if random() < 0.3:\n",
    "        1/0\n",
    "    return randint(from_int, to_int)"
   ],
   "id": "f7b6813721108eb0",
   "outputs": [],
   "execution_count": 53
  },
  {
   "metadata": {
    "ExecuteTime": {
     "end_time": "2025-08-25T17:52:27.063487Z",
     "start_time": "2025-08-25T17:52:26.874832Z"
    }
   },
   "cell_type": "code",
   "source": "get_random(1, 2)",
   "id": "b0a48cc9bc3962c2",
   "outputs": [
    {
     "name": "stdout",
     "output_type": "stream",
     "text": [
      "[get_random(*(1, 2), **{})] Total time: 0.0000023330\n"
     ]
    },
    {
     "ename": "ZeroDivisionError",
     "evalue": "division by zero",
     "output_type": "error",
     "traceback": [
      "\u001B[31m---------------------------------------------------------------------------\u001B[39m",
      "\u001B[31mZeroDivisionError\u001B[39m                         Traceback (most recent call last)",
      "\u001B[36mCell\u001B[39m\u001B[36m \u001B[39m\u001B[32mIn[54]\u001B[39m\u001B[32m, line 1\u001B[39m\n\u001B[32m----> \u001B[39m\u001B[32m1\u001B[39m \u001B[43mget_random\u001B[49m\u001B[43m(\u001B[49m\u001B[32;43m1\u001B[39;49m\u001B[43m,\u001B[49m\u001B[43m \u001B[49m\u001B[32;43m2\u001B[39;49m\u001B[43m)\u001B[49m\n",
      "\u001B[36mCell\u001B[39m\u001B[36m \u001B[39m\u001B[32mIn[52]\u001B[39m\u001B[32m, line 10\u001B[39m, in \u001B[36mlog_time.<locals>.wrapper\u001B[39m\u001B[34m(*args, **kwargs)\u001B[39m\n\u001B[32m      8\u001B[39m start = default_timer()\n\u001B[32m      9\u001B[39m \u001B[38;5;28;01mtry\u001B[39;00m:\n\u001B[32m---> \u001B[39m\u001B[32m10\u001B[39m     \u001B[38;5;28;01mreturn\u001B[39;00m \u001B[43mfunc\u001B[49m\u001B[43m(\u001B[49m\u001B[43m*\u001B[49m\u001B[43margs\u001B[49m\u001B[43m,\u001B[49m\u001B[43m \u001B[49m\u001B[43m*\u001B[49m\u001B[43m*\u001B[49m\u001B[43mkwargs\u001B[49m\u001B[43m)\u001B[49m\n\u001B[32m     11\u001B[39m \u001B[38;5;28;01mfinally\u001B[39;00m:\n\u001B[32m     12\u001B[39m     total_time = default_timer() - start\n",
      "\u001B[36mCell\u001B[39m\u001B[36m \u001B[39m\u001B[32mIn[53]\u001B[39m\u001B[32m, line 7\u001B[39m, in \u001B[36mget_random\u001B[39m\u001B[34m(from_int, to_int)\u001B[39m\n\u001B[32m      4\u001B[39m \u001B[38;5;129m@log_time\u001B[39m\n\u001B[32m      5\u001B[39m \u001B[38;5;28;01mdef\u001B[39;00m\u001B[38;5;250m \u001B[39m\u001B[34mget_random\u001B[39m(from_int, to_int):\n\u001B[32m      6\u001B[39m     \u001B[38;5;28;01mif\u001B[39;00m random() < \u001B[32m0.3\u001B[39m:\n\u001B[32m----> \u001B[39m\u001B[32m7\u001B[39m         \u001B[32;43m1\u001B[39;49m\u001B[43m/\u001B[49m\u001B[32;43m0\u001B[39;49m\n\u001B[32m      8\u001B[39m     \u001B[38;5;28;01mreturn\u001B[39;00m randint(from_int, to_int)\n",
      "\u001B[31mZeroDivisionError\u001B[39m: division by zero"
     ]
    }
   ],
   "execution_count": 54
  },
  {
   "metadata": {
    "ExecuteTime": {
     "end_time": "2025-08-25T17:52:40.545817Z",
     "start_time": "2025-08-25T17:52:40.541839Z"
    }
   },
   "cell_type": "code",
   "source": "get_random(1, to_int=10)",
   "id": "2e3761c667599c77",
   "outputs": [
    {
     "name": "stdout",
     "output_type": "stream",
     "text": [
      "[get_random(*(1,), **{'to_int': 10})] Total time: 0.0000067500\n"
     ]
    },
    {
     "data": {
      "text/plain": [
       "10"
      ]
     },
     "execution_count": 55,
     "metadata": {},
     "output_type": "execute_result"
    }
   ],
   "execution_count": 55
  },
  {
   "metadata": {
    "ExecuteTime": {
     "end_time": "2025-08-25T17:52:59.876454Z",
     "start_time": "2025-08-25T17:52:59.868392Z"
    }
   },
   "cell_type": "code",
   "source": "get_random(from_int=100, to_int=10000)",
   "id": "ae038cc70d313e5f",
   "outputs": [
    {
     "name": "stdout",
     "output_type": "stream",
     "text": [
      "[get_random(*(), **{'from_int': 100, 'to_int': 10000})] Total time: 0.0000091250\n"
     ]
    },
    {
     "data": {
      "text/plain": [
       "3518"
      ]
     },
     "execution_count": 56,
     "metadata": {},
     "output_type": "execute_result"
    }
   ],
   "execution_count": 56
  },
  {
   "metadata": {
    "ExecuteTime": {
     "end_time": "2025-08-25T17:53:25.599289Z",
     "start_time": "2025-08-25T17:53:25.565999Z"
    }
   },
   "cell_type": "code",
   "source": "get_random(from_int=10, to_int=1000)",
   "id": "e9cdc4fe7515b12b",
   "outputs": [
    {
     "name": "stdout",
     "output_type": "stream",
     "text": [
      "[get_random(*(), **{'from_int': 10, 'to_int': 1000})] Total time: 0.0000031670\n"
     ]
    },
    {
     "ename": "ZeroDivisionError",
     "evalue": "division by zero",
     "output_type": "error",
     "traceback": [
      "\u001B[31m---------------------------------------------------------------------------\u001B[39m",
      "\u001B[31mZeroDivisionError\u001B[39m                         Traceback (most recent call last)",
      "\u001B[36mCell\u001B[39m\u001B[36m \u001B[39m\u001B[32mIn[60]\u001B[39m\u001B[32m, line 1\u001B[39m\n\u001B[32m----> \u001B[39m\u001B[32m1\u001B[39m \u001B[43mget_random\u001B[49m\u001B[43m(\u001B[49m\u001B[43mfrom_int\u001B[49m\u001B[43m=\u001B[49m\u001B[32;43m10\u001B[39;49m\u001B[43m,\u001B[49m\u001B[43m \u001B[49m\u001B[43mto_int\u001B[49m\u001B[43m=\u001B[49m\u001B[32;43m1000\u001B[39;49m\u001B[43m)\u001B[49m\n",
      "\u001B[36mCell\u001B[39m\u001B[36m \u001B[39m\u001B[32mIn[52]\u001B[39m\u001B[32m, line 10\u001B[39m, in \u001B[36mlog_time.<locals>.wrapper\u001B[39m\u001B[34m(*args, **kwargs)\u001B[39m\n\u001B[32m      8\u001B[39m start = default_timer()\n\u001B[32m      9\u001B[39m \u001B[38;5;28;01mtry\u001B[39;00m:\n\u001B[32m---> \u001B[39m\u001B[32m10\u001B[39m     \u001B[38;5;28;01mreturn\u001B[39;00m \u001B[43mfunc\u001B[49m\u001B[43m(\u001B[49m\u001B[43m*\u001B[49m\u001B[43margs\u001B[49m\u001B[43m,\u001B[49m\u001B[43m \u001B[49m\u001B[43m*\u001B[49m\u001B[43m*\u001B[49m\u001B[43mkwargs\u001B[49m\u001B[43m)\u001B[49m\n\u001B[32m     11\u001B[39m \u001B[38;5;28;01mfinally\u001B[39;00m:\n\u001B[32m     12\u001B[39m     total_time = default_timer() - start\n",
      "\u001B[36mCell\u001B[39m\u001B[36m \u001B[39m\u001B[32mIn[53]\u001B[39m\u001B[32m, line 7\u001B[39m, in \u001B[36mget_random\u001B[39m\u001B[34m(from_int, to_int)\u001B[39m\n\u001B[32m      4\u001B[39m \u001B[38;5;129m@log_time\u001B[39m\n\u001B[32m      5\u001B[39m \u001B[38;5;28;01mdef\u001B[39;00m\u001B[38;5;250m \u001B[39m\u001B[34mget_random\u001B[39m(from_int, to_int):\n\u001B[32m      6\u001B[39m     \u001B[38;5;28;01mif\u001B[39;00m random() < \u001B[32m0.3\u001B[39m:\n\u001B[32m----> \u001B[39m\u001B[32m7\u001B[39m         \u001B[32;43m1\u001B[39;49m\u001B[43m/\u001B[49m\u001B[32;43m0\u001B[39;49m\n\u001B[32m      8\u001B[39m     \u001B[38;5;28;01mreturn\u001B[39;00m randint(from_int, to_int)\n",
      "\u001B[31mZeroDivisionError\u001B[39m: division by zero"
     ]
    }
   ],
   "execution_count": 60
  },
  {
   "metadata": {
    "ExecuteTime": {
     "end_time": "2025-08-25T17:53:40.622772Z",
     "start_time": "2025-08-25T17:53:40.620108Z"
    }
   },
   "cell_type": "code",
   "source": "get_random",
   "id": "95dac2d7f16cd558",
   "outputs": [
    {
     "data": {
      "text/plain": [
       "<function __main__.get_random(from_int, to_int)>"
      ]
     },
     "execution_count": 61,
     "metadata": {},
     "output_type": "execute_result"
    }
   ],
   "execution_count": 61
  },
  {
   "metadata": {
    "ExecuteTime": {
     "end_time": "2025-08-25T17:55:16.947343Z",
     "start_time": "2025-08-25T17:55:16.944405Z"
    }
   },
   "cell_type": "code",
   "source": [
    "@log_time\n",
    "@cached\n",
    "def fib(n):\n",
    "    if n < 2:\n",
    "        return n\n",
    "    return fib(n - 1) + fib(n - 2)"
   ],
   "id": "1fd8016cec033034",
   "outputs": [],
   "execution_count": 62
  },
  {
   "metadata": {
    "ExecuteTime": {
     "end_time": "2025-08-25T17:55:22.607335Z",
     "start_time": "2025-08-25T17:55:22.601772Z"
    }
   },
   "cell_type": "code",
   "source": "fib(100)",
   "id": "58e87ea6f2c1fa6b",
   "outputs": [
    {
     "name": "stdout",
     "output_type": "stream",
     "text": [
      "[fib(*(1,), **{})] Total time: 0.0000008750\n",
      "[fib(*(0,), **{})] Total time: 0.0000007500\n",
      "[fib(*(2,), **{})] Total time: 0.0000842500\n",
      "[fib(*(1,), **{})] Total time: 0.0000005000\n",
      "[fib(*(3,), **{})] Total time: 0.0001102910\n",
      "[fib(*(2,), **{})] Total time: 0.0000004590\n",
      "[fib(*(4,), **{})] Total time: 0.0001297920\n",
      "[fib(*(3,), **{})] Total time: 0.0000004160\n",
      "[fib(*(5,), **{})] Total time: 0.0001480830\n",
      "[fib(*(4,), **{})] Total time: 0.0000003340\n",
      "[fib(*(6,), **{})] Total time: 0.0001656670\n",
      "[fib(*(5,), **{})] Total time: 0.0000003330\n",
      "[fib(*(7,), **{})] Total time: 0.0001828750\n",
      "[fib(*(6,), **{})] Total time: 0.0000003340\n",
      "[fib(*(8,), **{})] Total time: 0.0001986250\n",
      "[fib(*(7,), **{})] Total time: 0.0000002920\n",
      "[fib(*(9,), **{})] Total time: 0.0002147090\n",
      "[fib(*(8,), **{})] Total time: 0.0000003330\n",
      "[fib(*(10,), **{})] Total time: 0.0002305410\n",
      "[fib(*(9,), **{})] Total time: 0.0000003330\n",
      "[fib(*(11,), **{})] Total time: 0.0002470000\n",
      "[fib(*(10,), **{})] Total time: 0.0000002920\n",
      "[fib(*(12,), **{})] Total time: 0.0002631670\n",
      "[fib(*(11,), **{})] Total time: 0.0000002920\n",
      "[fib(*(13,), **{})] Total time: 0.0002793340\n",
      "[fib(*(12,), **{})] Total time: 0.0000003340\n",
      "[fib(*(14,), **{})] Total time: 0.0002948750\n",
      "[fib(*(13,), **{})] Total time: 0.0000003750\n",
      "[fib(*(15,), **{})] Total time: 0.0003105420\n",
      "[fib(*(14,), **{})] Total time: 0.0000003750\n",
      "[fib(*(16,), **{})] Total time: 0.0003265420\n",
      "[fib(*(15,), **{})] Total time: 0.0000003330\n",
      "[fib(*(17,), **{})] Total time: 0.0003424580\n",
      "[fib(*(16,), **{})] Total time: 0.0000002920\n",
      "[fib(*(18,), **{})] Total time: 0.0003581670\n",
      "[fib(*(17,), **{})] Total time: 0.0000003340\n",
      "[fib(*(19,), **{})] Total time: 0.0003738750\n",
      "[fib(*(18,), **{})] Total time: 0.0000003330\n",
      "[fib(*(20,), **{})] Total time: 0.0003897500\n",
      "[fib(*(19,), **{})] Total time: 0.0000003330\n",
      "[fib(*(21,), **{})] Total time: 0.0004059580\n",
      "[fib(*(20,), **{})] Total time: 0.0000003340\n",
      "[fib(*(22,), **{})] Total time: 0.0004216250\n",
      "[fib(*(21,), **{})] Total time: 0.0000003330\n",
      "[fib(*(23,), **{})] Total time: 0.0004426660\n",
      "[fib(*(22,), **{})] Total time: 0.0000003330\n",
      "[fib(*(24,), **{})] Total time: 0.0004582920\n",
      "[fib(*(23,), **{})] Total time: 0.0000002920\n",
      "[fib(*(25,), **{})] Total time: 0.0004742920\n",
      "[fib(*(24,), **{})] Total time: 0.0000002920\n",
      "[fib(*(26,), **{})] Total time: 0.0004898340\n",
      "[fib(*(25,), **{})] Total time: 0.0000003330\n",
      "[fib(*(27,), **{})] Total time: 0.0005119170\n",
      "[fib(*(26,), **{})] Total time: 0.0000003330\n",
      "[fib(*(28,), **{})] Total time: 0.0005277910\n",
      "[fib(*(27,), **{})] Total time: 0.0000004590\n",
      "[fib(*(29,), **{})] Total time: 0.0005436670\n",
      "[fib(*(28,), **{})] Total time: 0.0000003330\n",
      "[fib(*(30,), **{})] Total time: 0.0005593340\n",
      "[fib(*(29,), **{})] Total time: 0.0000003330\n",
      "[fib(*(31,), **{})] Total time: 0.0005749170\n",
      "[fib(*(30,), **{})] Total time: 0.0000002910\n",
      "[fib(*(32,), **{})] Total time: 0.0005907920\n",
      "[fib(*(31,), **{})] Total time: 0.0000002920\n",
      "[fib(*(33,), **{})] Total time: 0.0006141250\n",
      "[fib(*(32,), **{})] Total time: 0.0000004170\n",
      "[fib(*(34,), **{})] Total time: 0.0007051250\n",
      "[fib(*(33,), **{})] Total time: 0.0000003340\n",
      "[fib(*(35,), **{})] Total time: 0.0007218750\n",
      "[fib(*(34,), **{})] Total time: 0.0000005000\n",
      "[fib(*(36,), **{})] Total time: 0.0007376250\n",
      "[fib(*(35,), **{})] Total time: 0.0000002910\n",
      "[fib(*(37,), **{})] Total time: 0.0007530840\n",
      "[fib(*(36,), **{})] Total time: 0.0000002920\n",
      "[fib(*(38,), **{})] Total time: 0.0007687090\n",
      "[fib(*(37,), **{})] Total time: 0.0000002920\n",
      "[fib(*(39,), **{})] Total time: 0.0007845410\n",
      "[fib(*(38,), **{})] Total time: 0.0000002920\n",
      "[fib(*(40,), **{})] Total time: 0.0007999580\n",
      "[fib(*(39,), **{})] Total time: 0.0000004160\n",
      "[fib(*(41,), **{})] Total time: 0.0008160000\n",
      "[fib(*(40,), **{})] Total time: 0.0000003330\n",
      "[fib(*(42,), **{})] Total time: 0.0008318750\n",
      "[fib(*(41,), **{})] Total time: 0.0000002920\n",
      "[fib(*(43,), **{})] Total time: 0.0008477500\n",
      "[fib(*(42,), **{})] Total time: 0.0000002920\n",
      "[fib(*(44,), **{})] Total time: 0.0008634170\n",
      "[fib(*(43,), **{})] Total time: 0.0000002920\n",
      "[fib(*(45,), **{})] Total time: 0.0008789170\n",
      "[fib(*(44,), **{})] Total time: 0.0000012080\n",
      "[fib(*(46,), **{})] Total time: 0.0009580420\n",
      "[fib(*(45,), **{})] Total time: 0.0000003750\n",
      "[fib(*(47,), **{})] Total time: 0.0009767910\n",
      "[fib(*(46,), **{})] Total time: 0.0000002500\n",
      "[fib(*(48,), **{})] Total time: 0.0009945420\n",
      "[fib(*(47,), **{})] Total time: 0.0000005000\n",
      "[fib(*(49,), **{})] Total time: 0.0010110830\n",
      "[fib(*(48,), **{})] Total time: 0.0000002910\n",
      "[fib(*(50,), **{})] Total time: 0.0010270840\n",
      "[fib(*(49,), **{})] Total time: 0.0000003750\n",
      "[fib(*(51,), **{})] Total time: 0.0010432500\n",
      "[fib(*(50,), **{})] Total time: 0.0000003750\n",
      "[fib(*(52,), **{})] Total time: 0.0010645000\n",
      "[fib(*(51,), **{})] Total time: 0.0000002920\n",
      "[fib(*(53,), **{})] Total time: 0.0010807080\n",
      "[fib(*(52,), **{})] Total time: 0.0000003340\n",
      "[fib(*(54,), **{})] Total time: 0.0010966250\n",
      "[fib(*(53,), **{})] Total time: 0.0000003340\n",
      "[fib(*(55,), **{})] Total time: 0.0011123340\n",
      "[fib(*(54,), **{})] Total time: 0.0000003330\n",
      "[fib(*(56,), **{})] Total time: 0.0011285830\n",
      "[fib(*(55,), **{})] Total time: 0.0000003340\n",
      "[fib(*(57,), **{})] Total time: 0.0011445830\n",
      "[fib(*(56,), **{})] Total time: 0.0000010420\n",
      "[fib(*(58,), **{})] Total time: 0.0012116250\n",
      "[fib(*(57,), **{})] Total time: 0.0000004170\n",
      "[fib(*(59,), **{})] Total time: 0.0012305420\n",
      "[fib(*(58,), **{})] Total time: 0.0000003750\n",
      "[fib(*(60,), **{})] Total time: 0.0012678330\n",
      "[fib(*(59,), **{})] Total time: 0.0000003330\n",
      "[fib(*(61,), **{})] Total time: 0.0012856250\n",
      "[fib(*(60,), **{})] Total time: 0.0000003750\n",
      "[fib(*(62,), **{})] Total time: 0.0013021660\n",
      "[fib(*(61,), **{})] Total time: 0.0000003750\n",
      "[fib(*(63,), **{})] Total time: 0.0013194160\n",
      "[fib(*(62,), **{})] Total time: 0.0000003330\n",
      "[fib(*(64,), **{})] Total time: 0.0013365830\n",
      "[fib(*(63,), **{})] Total time: 0.0000003330\n",
      "[fib(*(65,), **{})] Total time: 0.0013525420\n",
      "[fib(*(64,), **{})] Total time: 0.0000003330\n",
      "[fib(*(66,), **{})] Total time: 0.0013687090\n",
      "[fib(*(65,), **{})] Total time: 0.0000002920\n",
      "[fib(*(67,), **{})] Total time: 0.0013847910\n",
      "[fib(*(66,), **{})] Total time: 0.0000004170\n",
      "[fib(*(68,), **{})] Total time: 0.0014012500\n",
      "[fib(*(67,), **{})] Total time: 0.0000003340\n",
      "[fib(*(69,), **{})] Total time: 0.0014365420\n",
      "[fib(*(68,), **{})] Total time: 0.0000042080\n",
      "[fib(*(70,), **{})] Total time: 0.0014785830\n",
      "[fib(*(69,), **{})] Total time: 0.0000004170\n",
      "[fib(*(71,), **{})] Total time: 0.0015508750\n",
      "[fib(*(70,), **{})] Total time: 0.0000004160\n",
      "[fib(*(72,), **{})] Total time: 0.0015726250\n",
      "[fib(*(71,), **{})] Total time: 0.0000002500\n",
      "[fib(*(73,), **{})] Total time: 0.0015886250\n",
      "[fib(*(72,), **{})] Total time: 0.0000004160\n",
      "[fib(*(74,), **{})] Total time: 0.0016046670\n",
      "[fib(*(73,), **{})] Total time: 0.0000005000\n",
      "[fib(*(75,), **{})] Total time: 0.0016225000\n",
      "[fib(*(74,), **{})] Total time: 0.0000003330\n",
      "[fib(*(76,), **{})] Total time: 0.0016387500\n",
      "[fib(*(75,), **{})] Total time: 0.0000003750\n",
      "[fib(*(77,), **{})] Total time: 0.0016551670\n",
      "[fib(*(76,), **{})] Total time: 0.0000003750\n",
      "[fib(*(78,), **{})] Total time: 0.0016710830\n",
      "[fib(*(77,), **{})] Total time: 0.0000002500\n",
      "[fib(*(79,), **{})] Total time: 0.0016872920\n",
      "[fib(*(78,), **{})] Total time: 0.0000003330\n",
      "[fib(*(80,), **{})] Total time: 0.0017042500\n",
      "[fib(*(79,), **{})] Total time: 0.0000002920\n",
      "[fib(*(81,), **{})] Total time: 0.0017210000\n",
      "[fib(*(80,), **{})] Total time: 0.0000003750\n",
      "[fib(*(82,), **{})] Total time: 0.0017377500\n",
      "[fib(*(81,), **{})] Total time: 0.0000002910\n",
      "[fib(*(83,), **{})] Total time: 0.0017540830\n",
      "[fib(*(82,), **{})] Total time: 0.0000003750\n",
      "[fib(*(84,), **{})] Total time: 0.0017702500\n",
      "[fib(*(83,), **{})] Total time: 0.0000002910\n",
      "[fib(*(85,), **{})] Total time: 0.0017872500\n",
      "[fib(*(84,), **{})] Total time: 0.0000003750\n",
      "[fib(*(86,), **{})] Total time: 0.0018038750\n",
      "[fib(*(85,), **{})] Total time: 0.0000003330\n",
      "[fib(*(87,), **{})] Total time: 0.0018200000\n",
      "[fib(*(86,), **{})] Total time: 0.0000003750\n",
      "[fib(*(88,), **{})] Total time: 0.0018360420\n",
      "[fib(*(87,), **{})] Total time: 0.0000003750\n",
      "[fib(*(89,), **{})] Total time: 0.0018569580\n",
      "[fib(*(88,), **{})] Total time: 0.0000002500\n",
      "[fib(*(90,), **{})] Total time: 0.0018797500\n",
      "[fib(*(89,), **{})] Total time: 0.0000003750\n",
      "[fib(*(91,), **{})] Total time: 0.0018959590\n",
      "[fib(*(90,), **{})] Total time: 0.0000003330\n",
      "[fib(*(92,), **{})] Total time: 0.0019236670\n",
      "[fib(*(91,), **{})] Total time: 0.0000002920\n",
      "[fib(*(93,), **{})] Total time: 0.0019398330\n",
      "[fib(*(92,), **{})] Total time: 0.0000002920\n",
      "[fib(*(94,), **{})] Total time: 0.0019562080\n",
      "[fib(*(93,), **{})] Total time: 0.0000003330\n",
      "[fib(*(95,), **{})] Total time: 0.0019780420\n",
      "[fib(*(94,), **{})] Total time: 0.0000003330\n",
      "[fib(*(96,), **{})] Total time: 0.0019944170\n",
      "[fib(*(95,), **{})] Total time: 0.0000002920\n",
      "[fib(*(97,), **{})] Total time: 0.0020110000\n",
      "[fib(*(96,), **{})] Total time: 0.0000002910\n",
      "[fib(*(98,), **{})] Total time: 0.0020281250\n",
      "[fib(*(97,), **{})] Total time: 0.0000002920\n",
      "[fib(*(99,), **{})] Total time: 0.0020444580\n",
      "[fib(*(98,), **{})] Total time: 0.0000002500\n",
      "[fib(*(100,), **{})] Total time: 0.0020621250\n"
     ]
    },
    {
     "data": {
      "text/plain": [
       "354224848179261915075"
      ]
     },
     "execution_count": 63,
     "metadata": {},
     "output_type": "execute_result"
    }
   ],
   "execution_count": 63
  },
  {
   "metadata": {
    "ExecuteTime": {
     "end_time": "2025-08-25T17:55:42.714447Z",
     "start_time": "2025-08-25T17:55:42.711021Z"
    }
   },
   "cell_type": "code",
   "source": "fib(100)",
   "id": "63519a6845eb4f83",
   "outputs": [
    {
     "name": "stdout",
     "output_type": "stream",
     "text": [
      "[fib(*(100,), **{})] Total time: 0.0000021660\n"
     ]
    },
    {
     "data": {
      "text/plain": [
       "354224848179261915075"
      ]
     },
     "execution_count": 64,
     "metadata": {},
     "output_type": "execute_result"
    }
   ],
   "execution_count": 64
  },
  {
   "metadata": {
    "ExecuteTime": {
     "end_time": "2025-08-25T18:03:40.599689Z",
     "start_time": "2025-08-25T18:03:40.593872Z"
    }
   },
   "cell_type": "code",
   "source": [
    "def trace(separator=\" \", size=2):\n",
    "\n",
    "    def decorator(func):\n",
    "        func.counts = 0\n",
    "\n",
    "        @wraps(func)\n",
    "        def wrapper(*args, **kwargs):\n",
    "            func.counts += 1\n",
    "            print(separator * size * func.counts, f\"-> {func.__name__}(*{args}, **{kwargs})\")\n",
    "            start = default_timer()\n",
    "            try:\n",
    "                return func(*args, **kwargs)\n",
    "            finally:\n",
    "                total_time = default_timer() - start\n",
    "                print(separator * size * func.counts, f\"<- {func.__name__}(*{args}, **{kwargs}) - {total_time:.10f}\")\n",
    "                func.counts -= 1\n",
    "\n",
    "        return wrapper\n",
    "\n",
    "    return decorator"
   ],
   "id": "e93dad453b18a32",
   "outputs": [],
   "execution_count": 65
  },
  {
   "metadata": {
    "ExecuteTime": {
     "end_time": "2025-08-25T18:04:02.532715Z",
     "start_time": "2025-08-25T18:04:02.529761Z"
    }
   },
   "cell_type": "code",
   "source": [
    "@trace()\n",
    "def fib(n):\n",
    "    if n < 2:\n",
    "        return n\n",
    "    return fib(n - 1) + fib(n - 2)"
   ],
   "id": "4bbe175556a9cbf6",
   "outputs": [],
   "execution_count": 66
  },
  {
   "metadata": {
    "ExecuteTime": {
     "end_time": "2025-08-25T18:04:05.390929Z",
     "start_time": "2025-08-25T18:04:05.382473Z"
    }
   },
   "cell_type": "code",
   "source": "fib(10)",
   "id": "14af67b046dff2d2",
   "outputs": [
    {
     "name": "stdout",
     "output_type": "stream",
     "text": [
      "   -> fib(*(10,), **{})\n",
      "     -> fib(*(9,), **{})\n",
      "       -> fib(*(8,), **{})\n",
      "         -> fib(*(7,), **{})\n",
      "           -> fib(*(6,), **{})\n",
      "             -> fib(*(5,), **{})\n",
      "               -> fib(*(4,), **{})\n",
      "                 -> fib(*(3,), **{})\n",
      "                   -> fib(*(2,), **{})\n",
      "                     -> fib(*(1,), **{})\n",
      "                     <- fib(*(1,), **{}) - 0.0000002500\n",
      "                     -> fib(*(0,), **{})\n",
      "                     <- fib(*(0,), **{}) - 0.0000002500\n",
      "                   <- fib(*(2,), **{}) - 0.0000586670\n",
      "                   -> fib(*(1,), **{})\n",
      "                   <- fib(*(1,), **{}) - 0.0000002080\n",
      "                 <- fib(*(3,), **{}) - 0.0001112920\n",
      "                 -> fib(*(2,), **{})\n",
      "                   -> fib(*(1,), **{})\n",
      "                   <- fib(*(1,), **{}) - 0.0000001660\n",
      "                   -> fib(*(0,), **{})\n",
      "                   <- fib(*(0,), **{}) - 0.0000001250\n",
      "                 <- fib(*(2,), **{}) - 0.0000500000\n",
      "               <- fib(*(4,), **{}) - 0.0002125840\n",
      "               -> fib(*(3,), **{})\n",
      "                 -> fib(*(2,), **{})\n",
      "                   -> fib(*(1,), **{})\n",
      "                   <- fib(*(1,), **{}) - 0.0000001250\n",
      "                   -> fib(*(0,), **{})\n",
      "                   <- fib(*(0,), **{}) - 0.0000001660\n",
      "                 <- fib(*(2,), **{}) - 0.0000500000\n",
      "                 -> fib(*(1,), **{})\n",
      "                 <- fib(*(1,), **{}) - 0.0000001250\n",
      "               <- fib(*(3,), **{}) - 0.0001003340\n",
      "             <- fib(*(5,), **{}) - 0.0003637910\n",
      "             -> fib(*(4,), **{})\n",
      "               -> fib(*(3,), **{})\n",
      "                 -> fib(*(2,), **{})\n",
      "                   -> fib(*(1,), **{})\n",
      "                   <- fib(*(1,), **{}) - 0.0000001250\n",
      "                   -> fib(*(0,), **{})\n",
      "                   <- fib(*(0,), **{}) - 0.0000001250\n",
      "                 <- fib(*(2,), **{}) - 0.0000494170\n",
      "                 -> fib(*(1,), **{})\n",
      "                 <- fib(*(1,), **{}) - 0.0000001250\n",
      "               <- fib(*(3,), **{}) - 0.0000989160\n",
      "               -> fib(*(2,), **{})\n",
      "                 -> fib(*(1,), **{})\n",
      "                 <- fib(*(1,), **{}) - 0.0000000840\n",
      "                 -> fib(*(0,), **{})\n",
      "                 <- fib(*(0,), **{}) - 0.0000001250\n",
      "               <- fib(*(2,), **{}) - 0.0000497910\n",
      "             <- fib(*(4,), **{}) - 0.0002046670\n",
      "           <- fib(*(6,), **{}) - 0.0006313330\n",
      "           -> fib(*(5,), **{})\n",
      "             -> fib(*(4,), **{})\n",
      "               -> fib(*(3,), **{})\n",
      "                 -> fib(*(2,), **{})\n",
      "                   -> fib(*(1,), **{})\n",
      "                   <- fib(*(1,), **{}) - 0.0000001250\n",
      "                   -> fib(*(0,), **{})\n",
      "                   <- fib(*(0,), **{}) - 0.0000001670\n",
      "                 <- fib(*(2,), **{}) - 0.0000497090\n",
      "                 -> fib(*(1,), **{})\n",
      "                 <- fib(*(1,), **{}) - 0.0000001250\n",
      "               <- fib(*(3,), **{}) - 0.0000993330\n",
      "               -> fib(*(2,), **{})\n",
      "                 -> fib(*(1,), **{})\n",
      "                 <- fib(*(1,), **{}) - 0.0000001250\n",
      "                 -> fib(*(0,), **{})\n",
      "                 <- fib(*(0,), **{}) - 0.0000001250\n",
      "               <- fib(*(2,), **{}) - 0.0000501670\n",
      "             <- fib(*(4,), **{}) - 0.0001989590\n",
      "             -> fib(*(3,), **{})\n",
      "               -> fib(*(2,), **{})\n",
      "                 -> fib(*(1,), **{})\n",
      "                 <- fib(*(1,), **{}) - 0.0000001250\n",
      "                 -> fib(*(0,), **{})\n",
      "                 <- fib(*(0,), **{}) - 0.0000001660\n",
      "               <- fib(*(2,), **{}) - 0.0000497500\n",
      "               -> fib(*(1,), **{})\n",
      "               <- fib(*(1,), **{}) - 0.0000001250\n",
      "             <- fib(*(3,), **{}) - 0.0000994160\n",
      "           <- fib(*(5,), **{}) - 0.0003484580\n",
      "         <- fib(*(7,), **{}) - 0.0010309580\n",
      "         -> fib(*(6,), **{})\n",
      "           -> fib(*(5,), **{})\n",
      "             -> fib(*(4,), **{})\n",
      "               -> fib(*(3,), **{})\n",
      "                 -> fib(*(2,), **{})\n",
      "                   -> fib(*(1,), **{})\n",
      "                   <- fib(*(1,), **{}) - 0.0000001670\n",
      "                   -> fib(*(0,), **{})\n",
      "                   <- fib(*(0,), **{}) - 0.0000002090\n",
      "                 <- fib(*(2,), **{}) - 0.0000499580\n",
      "                 -> fib(*(1,), **{})\n",
      "                 <- fib(*(1,), **{}) - 0.0000004580\n",
      "               <- fib(*(3,), **{}) - 0.0001373340\n",
      "               -> fib(*(2,), **{})\n",
      "                 -> fib(*(1,), **{})\n",
      "                 <- fib(*(1,), **{}) - 0.0000002080\n",
      "                 -> fib(*(0,), **{})\n",
      "                 <- fib(*(0,), **{}) - 0.0000001660\n",
      "               <- fib(*(2,), **{}) - 0.0000517080\n",
      "             <- fib(*(4,), **{}) - 0.0002406670\n",
      "             -> fib(*(3,), **{})\n",
      "               -> fib(*(2,), **{})\n",
      "                 -> fib(*(1,), **{})\n",
      "                 <- fib(*(1,), **{}) - 0.0000001250\n",
      "                 -> fib(*(0,), **{})\n",
      "                 <- fib(*(0,), **{}) - 0.0000001660\n",
      "               <- fib(*(2,), **{}) - 0.0000517500\n",
      "               -> fib(*(1,), **{})\n",
      "               <- fib(*(1,), **{}) - 0.0000001670\n",
      "             <- fib(*(3,), **{}) - 0.0001023330\n",
      "           <- fib(*(5,), **{}) - 0.0004016250\n",
      "           -> fib(*(4,), **{})\n",
      "             -> fib(*(3,), **{})\n",
      "               -> fib(*(2,), **{})\n",
      "                 -> fib(*(1,), **{})\n",
      "                 <- fib(*(1,), **{}) - 0.0000001670\n",
      "                 -> fib(*(0,), **{})\n",
      "                 <- fib(*(0,), **{}) - 0.0000001670\n",
      "               <- fib(*(2,), **{}) - 0.0000507500\n",
      "               -> fib(*(1,), **{})\n",
      "               <- fib(*(1,), **{}) - 0.0000001660\n",
      "             <- fib(*(3,), **{}) - 0.0001011670\n",
      "             -> fib(*(2,), **{})\n",
      "               -> fib(*(1,), **{})\n",
      "               <- fib(*(1,), **{}) - 0.0000001250\n",
      "               -> fib(*(0,), **{})\n",
      "               <- fib(*(0,), **{}) - 0.0000001250\n",
      "             <- fib(*(2,), **{}) - 0.0000505000\n",
      "           <- fib(*(4,), **{}) - 0.0002020840\n",
      "         <- fib(*(6,), **{}) - 0.0006550840\n",
      "       <- fib(*(8,), **{}) - 0.0017441670\n",
      "       -> fib(*(7,), **{})\n",
      "         -> fib(*(6,), **{})\n",
      "           -> fib(*(5,), **{})\n",
      "             -> fib(*(4,), **{})\n",
      "               -> fib(*(3,), **{})\n",
      "                 -> fib(*(2,), **{})\n",
      "                   -> fib(*(1,), **{})\n",
      "                   <- fib(*(1,), **{}) - 0.0000001250\n",
      "                   -> fib(*(0,), **{})\n",
      "                   <- fib(*(0,), **{}) - 0.0000001250\n",
      "                 <- fib(*(2,), **{}) - 0.0000515420\n",
      "                 -> fib(*(1,), **{})\n",
      "                 <- fib(*(1,), **{}) - 0.0000001660\n",
      "               <- fib(*(3,), **{}) - 0.0001075410\n",
      "               -> fib(*(2,), **{})\n",
      "                 -> fib(*(1,), **{})\n",
      "                 <- fib(*(1,), **{}) - 0.0000001660\n",
      "                 -> fib(*(0,), **{})\n",
      "                 <- fib(*(0,), **{}) - 0.0000001250\n",
      "               <- fib(*(2,), **{}) - 0.0000519580\n",
      "             <- fib(*(4,), **{}) - 0.0002268330\n",
      "             -> fib(*(3,), **{})\n",
      "               -> fib(*(2,), **{})\n",
      "                 -> fib(*(1,), **{})\n",
      "                 <- fib(*(1,), **{}) - 0.0000001660\n",
      "                 -> fib(*(0,), **{})\n",
      "                 <- fib(*(0,), **{}) - 0.0000000840\n",
      "               <- fib(*(2,), **{}) - 0.0000507080\n",
      "               -> fib(*(1,), **{})\n",
      "               <- fib(*(1,), **{}) - 0.0000001250\n",
      "             <- fib(*(3,), **{}) - 0.0001017500\n",
      "           <- fib(*(5,), **{}) - 0.0003793330\n",
      "           -> fib(*(4,), **{})\n",
      "             -> fib(*(3,), **{})\n",
      "               -> fib(*(2,), **{})\n",
      "                 -> fib(*(1,), **{})\n",
      "                 <- fib(*(1,), **{}) - 0.0000001670\n",
      "                 -> fib(*(0,), **{})\n",
      "                 <- fib(*(0,), **{}) - 0.0000001250\n",
      "               <- fib(*(2,), **{}) - 0.0000512080\n",
      "               -> fib(*(1,), **{})\n",
      "               <- fib(*(1,), **{}) - 0.0000001250\n",
      "             <- fib(*(3,), **{}) - 0.0001020000\n",
      "             -> fib(*(2,), **{})\n",
      "               -> fib(*(1,), **{})\n",
      "               <- fib(*(1,), **{}) - 0.0000001250\n",
      "               -> fib(*(0,), **{})\n",
      "               <- fib(*(0,), **{}) - 0.0000001250\n",
      "             <- fib(*(2,), **{}) - 0.0000517920\n",
      "           <- fib(*(4,), **{}) - 0.0002053750\n",
      "         <- fib(*(6,), **{}) - 0.0006355840\n",
      "         -> fib(*(5,), **{})\n",
      "           -> fib(*(4,), **{})\n",
      "             -> fib(*(3,), **{})\n",
      "               -> fib(*(2,), **{})\n",
      "                 -> fib(*(1,), **{})\n",
      "                 <- fib(*(1,), **{}) - 0.0000001670\n",
      "                 -> fib(*(0,), **{})\n",
      "                 <- fib(*(0,), **{}) - 0.0000001660\n",
      "               <- fib(*(2,), **{}) - 0.0000514170\n",
      "               -> fib(*(1,), **{})\n",
      "               <- fib(*(1,), **{}) - 0.0000001250\n",
      "             <- fib(*(3,), **{}) - 0.0001030840\n",
      "             -> fib(*(2,), **{})\n",
      "               -> fib(*(1,), **{})\n",
      "               <- fib(*(1,), **{}) - 0.0000001250\n",
      "               -> fib(*(0,), **{})\n",
      "               <- fib(*(0,), **{}) - 0.0000001250\n",
      "             <- fib(*(2,), **{}) - 0.0000537500\n",
      "           <- fib(*(4,), **{}) - 0.0002086250\n",
      "           -> fib(*(3,), **{})\n",
      "             -> fib(*(2,), **{})\n",
      "               -> fib(*(1,), **{})\n",
      "               <- fib(*(1,), **{}) - 0.0000001250\n",
      "               -> fib(*(0,), **{})\n",
      "               <- fib(*(0,), **{}) - 0.0000001250\n",
      "             <- fib(*(2,), **{}) - 0.0000513330\n",
      "             -> fib(*(1,), **{})\n",
      "             <- fib(*(1,), **{}) - 0.0000001660\n",
      "           <- fib(*(3,), **{}) - 0.0001036670\n",
      "         <- fib(*(5,), **{}) - 0.0003642080\n",
      "       <- fib(*(7,), **{}) - 0.0010514170\n",
      "     <- fib(*(9,), **{}) - 0.0028520840\n",
      "     -> fib(*(8,), **{})\n",
      "       -> fib(*(7,), **{})\n",
      "         -> fib(*(6,), **{})\n",
      "           -> fib(*(5,), **{})\n",
      "             -> fib(*(4,), **{})\n",
      "               -> fib(*(3,), **{})\n",
      "                 -> fib(*(2,), **{})\n",
      "                   -> fib(*(1,), **{})\n",
      "                   <- fib(*(1,), **{}) - 0.0000001670\n",
      "                   -> fib(*(0,), **{})\n",
      "                   <- fib(*(0,), **{}) - 0.0000001660\n",
      "                 <- fib(*(2,), **{}) - 0.0000528750\n",
      "                 -> fib(*(1,), **{})\n",
      "                 <- fib(*(1,), **{}) - 0.0000001250\n",
      "               <- fib(*(3,), **{}) - 0.0001045420\n",
      "               -> fib(*(2,), **{})\n",
      "                 -> fib(*(1,), **{})\n",
      "                 <- fib(*(1,), **{}) - 0.0000001660\n",
      "                 -> fib(*(0,), **{})\n",
      "                 <- fib(*(0,), **{}) - 0.0000001250\n",
      "               <- fib(*(2,), **{}) - 0.0000516250\n",
      "             <- fib(*(4,), **{}) - 0.0002408750\n",
      "             -> fib(*(3,), **{})\n",
      "               -> fib(*(2,), **{})\n",
      "                 -> fib(*(1,), **{})\n",
      "                 <- fib(*(1,), **{}) - 0.0000001250\n",
      "                 -> fib(*(0,), **{})\n",
      "                 <- fib(*(0,), **{}) - 0.0000001250\n",
      "               <- fib(*(2,), **{}) - 0.0000523330\n",
      "               -> fib(*(1,), **{})\n",
      "               <- fib(*(1,), **{}) - 0.0000000830\n",
      "             <- fib(*(3,), **{}) - 0.0001047910\n",
      "           <- fib(*(5,), **{}) - 0.0004024590\n",
      "           -> fib(*(4,), **{})\n",
      "             -> fib(*(3,), **{})\n",
      "               -> fib(*(2,), **{})\n",
      "                 -> fib(*(1,), **{})\n",
      "                 <- fib(*(1,), **{}) - 0.0000001670\n",
      "                 -> fib(*(0,), **{})\n",
      "                 <- fib(*(0,), **{}) - 0.0000001250\n",
      "               <- fib(*(2,), **{}) - 0.0000527500\n",
      "               -> fib(*(1,), **{})\n",
      "               <- fib(*(1,), **{}) - 0.0000001250\n",
      "             <- fib(*(3,), **{}) - 0.0001050420\n",
      "             -> fib(*(2,), **{})\n",
      "               -> fib(*(1,), **{})\n",
      "               <- fib(*(1,), **{}) - 0.0000001250\n",
      "               -> fib(*(0,), **{})\n",
      "               <- fib(*(0,), **{}) - 0.0000001250\n",
      "             <- fib(*(2,), **{}) - 0.0000533330\n",
      "           <- fib(*(4,), **{}) - 0.0002120830\n",
      "         <- fib(*(6,), **{}) - 0.0006746250\n",
      "         -> fib(*(5,), **{})\n",
      "           -> fib(*(4,), **{})\n",
      "             -> fib(*(3,), **{})\n",
      "               -> fib(*(2,), **{})\n",
      "                 -> fib(*(1,), **{})\n",
      "                 <- fib(*(1,), **{}) - 0.0000001250\n",
      "                 -> fib(*(0,), **{})\n",
      "                 <- fib(*(0,), **{}) - 0.0000001660\n",
      "               <- fib(*(2,), **{}) - 0.0000534170\n",
      "               -> fib(*(1,), **{})\n",
      "               <- fib(*(1,), **{}) - 0.0000001250\n",
      "             <- fib(*(3,), **{}) - 0.0001061250\n",
      "             -> fib(*(2,), **{})\n",
      "               -> fib(*(1,), **{})\n",
      "               <- fib(*(1,), **{}) - 0.0000001250\n",
      "               -> fib(*(0,), **{})\n",
      "               <- fib(*(0,), **{}) - 0.0000001250\n",
      "             <- fib(*(2,), **{}) - 0.0000534590\n",
      "           <- fib(*(4,), **{}) - 0.0002133330\n",
      "           -> fib(*(3,), **{})\n",
      "             -> fib(*(2,), **{})\n",
      "               -> fib(*(1,), **{})\n",
      "               <- fib(*(1,), **{}) - 0.0000001250\n",
      "               -> fib(*(0,), **{})\n",
      "               <- fib(*(0,), **{}) - 0.0000001250\n",
      "             <- fib(*(2,), **{}) - 0.0000529580\n",
      "             -> fib(*(1,), **{})\n",
      "             <- fib(*(1,), **{}) - 0.0000001250\n",
      "           <- fib(*(3,), **{}) - 0.0001064160\n",
      "         <- fib(*(5,), **{}) - 0.0003751670\n",
      "       <- fib(*(7,), **{}) - 0.0011036250\n",
      "       -> fib(*(6,), **{})\n",
      "         -> fib(*(5,), **{})\n",
      "           -> fib(*(4,), **{})\n",
      "             -> fib(*(3,), **{})\n",
      "               -> fib(*(2,), **{})\n",
      "                 -> fib(*(1,), **{})\n",
      "                 <- fib(*(1,), **{}) - 0.0000001670\n",
      "                 -> fib(*(0,), **{})\n",
      "                 <- fib(*(0,), **{}) - 0.0000001250\n",
      "               <- fib(*(2,), **{}) - 0.0000537080\n",
      "               -> fib(*(1,), **{})\n",
      "               <- fib(*(1,), **{}) - 0.0000001250\n",
      "             <- fib(*(3,), **{}) - 0.0001073340\n",
      "             -> fib(*(2,), **{})\n",
      "               -> fib(*(1,), **{})\n",
      "               <- fib(*(1,), **{}) - 0.0000001250\n",
      "               -> fib(*(0,), **{})\n",
      "               <- fib(*(0,), **{}) - 0.0000001250\n",
      "             <- fib(*(2,), **{}) - 0.0000542090\n",
      "           <- fib(*(4,), **{}) - 0.0002158340\n",
      "           -> fib(*(3,), **{})\n",
      "             -> fib(*(2,), **{})\n",
      "               -> fib(*(1,), **{})\n",
      "               <- fib(*(1,), **{}) - 0.0000001250\n",
      "               -> fib(*(0,), **{})\n",
      "               <- fib(*(0,), **{}) - 0.0000000840\n",
      "             <- fib(*(2,), **{}) - 0.0000553750\n",
      "             -> fib(*(1,), **{})\n",
      "             <- fib(*(1,), **{}) - 0.0000001250\n",
      "           <- fib(*(3,), **{}) - 0.0001091250\n",
      "         <- fib(*(5,), **{}) - 0.0003789580\n",
      "         -> fib(*(4,), **{})\n",
      "           -> fib(*(3,), **{})\n",
      "             -> fib(*(2,), **{})\n",
      "               -> fib(*(1,), **{})\n",
      "               <- fib(*(1,), **{}) - 0.0000001250\n",
      "               -> fib(*(0,), **{})\n",
      "               <- fib(*(0,), **{}) - 0.0000001250\n",
      "             <- fib(*(2,), **{}) - 0.0000563750\n",
      "             -> fib(*(1,), **{})\n",
      "             <- fib(*(1,), **{}) - 0.0000001670\n",
      "           <- fib(*(3,), **{}) - 0.0001115000\n",
      "           -> fib(*(2,), **{})\n",
      "             -> fib(*(1,), **{})\n",
      "             <- fib(*(1,), **{}) - 0.0000001250\n",
      "             -> fib(*(0,), **{})\n",
      "             <- fib(*(0,), **{}) - 0.0000001250\n",
      "           <- fib(*(2,), **{}) - 0.0000549170\n",
      "         <- fib(*(4,), **{}) - 0.0002212080\n",
      "       <- fib(*(6,), **{}) - 0.0006796250\n",
      "     <- fib(*(8,), **{}) - 0.0018445000\n",
      "   <- fib(*(10,), **{}) - 0.0047826670\n"
     ]
    },
    {
     "data": {
      "text/plain": [
       "55"
      ]
     },
     "execution_count": 67,
     "metadata": {},
     "output_type": "execute_result"
    }
   ],
   "execution_count": 67
  },
  {
   "metadata": {
    "ExecuteTime": {
     "end_time": "2025-08-25T18:05:12.775895Z",
     "start_time": "2025-08-25T18:05:12.770563Z"
    }
   },
   "cell_type": "code",
   "source": [
    "@trace(separator=\"•\", size=1)\n",
    "def fib(n):\n",
    "    if n < 2:\n",
    "        return n\n",
    "    return fib(n - 1) + fib(n - 2)"
   ],
   "id": "a5f2d70deb9c89c",
   "outputs": [],
   "execution_count": 68
  },
  {
   "metadata": {
    "ExecuteTime": {
     "end_time": "2025-08-25T18:05:15.059823Z",
     "start_time": "2025-08-25T18:05:15.052274Z"
    }
   },
   "cell_type": "code",
   "source": "fib(10)",
   "id": "499a79c25483c39e",
   "outputs": [
    {
     "name": "stdout",
     "output_type": "stream",
     "text": [
      "• -> fib(*(10,), **{})\n",
      "•• -> fib(*(9,), **{})\n",
      "••• -> fib(*(8,), **{})\n",
      "•••• -> fib(*(7,), **{})\n",
      "••••• -> fib(*(6,), **{})\n",
      "•••••• -> fib(*(5,), **{})\n",
      "••••••• -> fib(*(4,), **{})\n",
      "•••••••• -> fib(*(3,), **{})\n",
      "••••••••• -> fib(*(2,), **{})\n",
      "•••••••••• -> fib(*(1,), **{})\n",
      "•••••••••• <- fib(*(1,), **{}) - 0.0000002080\n",
      "•••••••••• -> fib(*(0,), **{})\n",
      "•••••••••• <- fib(*(0,), **{}) - 0.0000001250\n",
      "••••••••• <- fib(*(2,), **{}) - 0.0000459170\n",
      "••••••••• -> fib(*(1,), **{})\n",
      "••••••••• <- fib(*(1,), **{}) - 0.0000001660\n",
      "•••••••• <- fib(*(3,), **{}) - 0.0000862090\n",
      "•••••••• -> fib(*(2,), **{})\n",
      "••••••••• -> fib(*(1,), **{})\n",
      "••••••••• <- fib(*(1,), **{}) - 0.0000001670\n",
      "••••••••• -> fib(*(0,), **{})\n",
      "••••••••• <- fib(*(0,), **{}) - 0.0000001250\n",
      "•••••••• <- fib(*(2,), **{}) - 0.0000398750\n",
      "••••••• <- fib(*(4,), **{}) - 0.0001661660\n",
      "••••••• -> fib(*(3,), **{})\n",
      "•••••••• -> fib(*(2,), **{})\n",
      "••••••••• -> fib(*(1,), **{})\n",
      "••••••••• <- fib(*(1,), **{}) - 0.0000001250\n",
      "••••••••• -> fib(*(0,), **{})\n",
      "••••••••• <- fib(*(0,), **{}) - 0.0000001670\n",
      "•••••••• <- fib(*(2,), **{}) - 0.0000396250\n",
      "•••••••• -> fib(*(1,), **{})\n",
      "•••••••• <- fib(*(1,), **{}) - 0.0000001670\n",
      "••••••• <- fib(*(3,), **{}) - 0.0000792500\n",
      "•••••• <- fib(*(5,), **{}) - 0.0002914590\n",
      "•••••• -> fib(*(4,), **{})\n",
      "••••••• -> fib(*(3,), **{})\n",
      "•••••••• -> fib(*(2,), **{})\n",
      "••••••••• -> fib(*(1,), **{})\n",
      "••••••••• <- fib(*(1,), **{}) - 0.0000001250\n",
      "••••••••• -> fib(*(0,), **{})\n",
      "••••••••• <- fib(*(0,), **{}) - 0.0000001250\n",
      "•••••••• <- fib(*(2,), **{}) - 0.0000382920\n",
      "•••••••• -> fib(*(1,), **{})\n",
      "•••••••• <- fib(*(1,), **{}) - 0.0000000830\n",
      "••••••• <- fib(*(3,), **{}) - 0.0000767080\n",
      "••••••• -> fib(*(2,), **{})\n",
      "•••••••• -> fib(*(1,), **{})\n",
      "•••••••• <- fib(*(1,), **{}) - 0.0000001250\n",
      "•••••••• -> fib(*(0,), **{})\n",
      "•••••••• <- fib(*(0,), **{}) - 0.0000001250\n",
      "••••••• <- fib(*(2,), **{}) - 0.0000386670\n",
      "•••••• <- fib(*(4,), **{}) - 0.0001537080\n",
      "••••• <- fib(*(6,), **{}) - 0.0004853750\n",
      "••••• -> fib(*(5,), **{})\n",
      "•••••• -> fib(*(4,), **{})\n",
      "••••••• -> fib(*(3,), **{})\n",
      "•••••••• -> fib(*(2,), **{})\n",
      "••••••••• -> fib(*(1,), **{})\n",
      "••••••••• <- fib(*(1,), **{}) - 0.0000001660\n",
      "••••••••• -> fib(*(0,), **{})\n",
      "••••••••• <- fib(*(0,), **{}) - 0.0000001250\n",
      "•••••••• <- fib(*(2,), **{}) - 0.0000385000\n",
      "•••••••• -> fib(*(1,), **{})\n",
      "•••••••• <- fib(*(1,), **{}) - 0.0000001250\n",
      "••••••• <- fib(*(3,), **{}) - 0.0000775000\n",
      "••••••• -> fib(*(2,), **{})\n",
      "•••••••• -> fib(*(1,), **{})\n",
      "•••••••• <- fib(*(1,), **{}) - 0.0000001250\n",
      "•••••••• -> fib(*(0,), **{})\n",
      "•••••••• <- fib(*(0,), **{}) - 0.0000001250\n",
      "••••••• <- fib(*(2,), **{}) - 0.0000391250\n",
      "•••••• <- fib(*(4,), **{}) - 0.0001555000\n",
      "•••••• -> fib(*(3,), **{})\n",
      "••••••• -> fib(*(2,), **{})\n",
      "•••••••• -> fib(*(1,), **{})\n",
      "•••••••• <- fib(*(1,), **{}) - 0.0000001250\n",
      "•••••••• -> fib(*(0,), **{})\n",
      "•••••••• <- fib(*(0,), **{}) - 0.0000001250\n",
      "••••••• <- fib(*(2,), **{}) - 0.0000423330\n",
      "••••••• -> fib(*(1,), **{})\n",
      "••••••• <- fib(*(1,), **{}) - 0.0000001250\n",
      "•••••• <- fib(*(3,), **{}) - 0.0000815410\n",
      "••••• <- fib(*(5,), **{}) - 0.0002763330\n",
      "•••• <- fib(*(7,), **{}) - 0.0008012090\n",
      "•••• -> fib(*(6,), **{})\n",
      "••••• -> fib(*(5,), **{})\n",
      "•••••• -> fib(*(4,), **{})\n",
      "••••••• -> fib(*(3,), **{})\n",
      "•••••••• -> fib(*(2,), **{})\n",
      "••••••••• -> fib(*(1,), **{})\n",
      "••••••••• <- fib(*(1,), **{}) - 0.0000001250\n",
      "••••••••• -> fib(*(0,), **{})\n",
      "••••••••• <- fib(*(0,), **{}) - 0.0000001250\n",
      "•••••••• <- fib(*(2,), **{}) - 0.0000392090\n",
      "•••••••• -> fib(*(1,), **{})\n",
      "•••••••• <- fib(*(1,), **{}) - 0.0000000840\n",
      "••••••• <- fib(*(3,), **{}) - 0.0000785000\n",
      "••••••• -> fib(*(2,), **{})\n",
      "•••••••• -> fib(*(1,), **{})\n",
      "•••••••• <- fib(*(1,), **{}) - 0.0000001250\n",
      "•••••••• -> fib(*(0,), **{})\n",
      "•••••••• <- fib(*(0,), **{}) - 0.0000001250\n",
      "••••••• <- fib(*(2,), **{}) - 0.0000399580\n",
      "•••••• <- fib(*(4,), **{}) - 0.0001577920\n",
      "•••••• -> fib(*(3,), **{})\n",
      "••••••• -> fib(*(2,), **{})\n",
      "•••••••• -> fib(*(1,), **{})\n",
      "•••••••• <- fib(*(1,), **{}) - 0.0000001670\n",
      "•••••••• -> fib(*(0,), **{})\n",
      "•••••••• <- fib(*(0,), **{}) - 0.0000001250\n",
      "••••••• <- fib(*(2,), **{}) - 0.0000392920\n",
      "••••••• -> fib(*(1,), **{})\n",
      "••••••• <- fib(*(1,), **{}) - 0.0000001250\n",
      "•••••• <- fib(*(3,), **{}) - 0.0000792920\n",
      "••••• <- fib(*(5,), **{}) - 0.0002765420\n",
      "••••• -> fib(*(4,), **{})\n",
      "•••••• -> fib(*(3,), **{})\n",
      "••••••• -> fib(*(2,), **{})\n",
      "•••••••• -> fib(*(1,), **{})\n",
      "•••••••• <- fib(*(1,), **{}) - 0.0000000830\n",
      "•••••••• -> fib(*(0,), **{})\n",
      "•••••••• <- fib(*(0,), **{}) - 0.0000001250\n",
      "••••••• <- fib(*(2,), **{}) - 0.0000398330\n",
      "••••••• -> fib(*(1,), **{})\n",
      "••••••• <- fib(*(1,), **{}) - 0.0000001250\n",
      "•••••• <- fib(*(3,), **{}) - 0.0000793750\n",
      "•••••• -> fib(*(2,), **{})\n",
      "••••••• -> fib(*(1,), **{})\n",
      "••••••• <- fib(*(1,), **{}) - 0.0000001250\n",
      "••••••• -> fib(*(0,), **{})\n",
      "••••••• <- fib(*(0,), **{}) - 0.0000000830\n",
      "•••••• <- fib(*(2,), **{}) - 0.0000395830\n",
      "••••• <- fib(*(4,), **{}) - 0.0001585000\n",
      "•••• <- fib(*(6,), **{}) - 0.0004745410\n",
      "••• <- fib(*(8,), **{}) - 0.0013171670\n",
      "••• -> fib(*(7,), **{})\n",
      "•••• -> fib(*(6,), **{})\n",
      "••••• -> fib(*(5,), **{})\n",
      "•••••• -> fib(*(4,), **{})\n",
      "••••••• -> fib(*(3,), **{})\n",
      "•••••••• -> fib(*(2,), **{})\n",
      "••••••••• -> fib(*(1,), **{})\n",
      "••••••••• <- fib(*(1,), **{}) - 0.0000001250\n",
      "••••••••• -> fib(*(0,), **{})\n",
      "••••••••• <- fib(*(0,), **{}) - 0.0000001250\n",
      "•••••••• <- fib(*(2,), **{}) - 0.0000461660\n",
      "•••••••• -> fib(*(1,), **{})\n",
      "•••••••• <- fib(*(1,), **{}) - 0.0000001250\n",
      "••••••• <- fib(*(3,), **{}) - 0.0000865830\n",
      "••••••• -> fib(*(2,), **{})\n",
      "•••••••• -> fib(*(1,), **{})\n",
      "•••••••• <- fib(*(1,), **{}) - 0.0000001250\n",
      "•••••••• -> fib(*(0,), **{})\n",
      "•••••••• <- fib(*(0,), **{}) - 0.0000001250\n",
      "••••••• <- fib(*(2,), **{}) - 0.0000403750\n",
      "•••••• <- fib(*(4,), **{}) - 0.0001673750\n",
      "•••••• -> fib(*(3,), **{})\n",
      "••••••• -> fib(*(2,), **{})\n",
      "•••••••• -> fib(*(1,), **{})\n",
      "•••••••• <- fib(*(1,), **{}) - 0.0000001250\n",
      "•••••••• -> fib(*(0,), **{})\n",
      "•••••••• <- fib(*(0,), **{}) - 0.0000000830\n",
      "••••••• <- fib(*(2,), **{}) - 0.0000407090\n",
      "••••••• -> fib(*(1,), **{})\n",
      "••••••• <- fib(*(1,), **{}) - 0.0000000830\n",
      "•••••• <- fib(*(3,), **{}) - 0.0000825410\n",
      "••••• <- fib(*(5,), **{}) - 0.0002911670\n",
      "••••• -> fib(*(4,), **{})\n",
      "•••••• -> fib(*(3,), **{})\n",
      "••••••• -> fib(*(2,), **{})\n",
      "•••••••• -> fib(*(1,), **{})\n",
      "•••••••• <- fib(*(1,), **{}) - 0.0000001250\n",
      "•••••••• -> fib(*(0,), **{})\n",
      "•••••••• <- fib(*(0,), **{}) - 0.0000001250\n",
      "••••••• <- fib(*(2,), **{}) - 0.0000451250\n",
      "••••••• -> fib(*(1,), **{})\n",
      "••••••• <- fib(*(1,), **{}) - 0.0000001250\n",
      "•••••• <- fib(*(3,), **{}) - 0.0000869170\n",
      "•••••• -> fib(*(2,), **{})\n",
      "••••••• -> fib(*(1,), **{})\n",
      "••••••• <- fib(*(1,), **{}) - 0.0000000840\n",
      "••••••• -> fib(*(0,), **{})\n",
      "••••••• <- fib(*(0,), **{}) - 0.0000000840\n",
      "•••••• <- fib(*(2,), **{}) - 0.0000416250\n",
      "••••• <- fib(*(4,), **{}) - 0.0001708750\n",
      "•••• <- fib(*(6,), **{}) - 0.0005047500\n",
      "•••• -> fib(*(5,), **{})\n",
      "••••• -> fib(*(4,), **{})\n",
      "•••••• -> fib(*(3,), **{})\n",
      "••••••• -> fib(*(2,), **{})\n",
      "•••••••• -> fib(*(1,), **{})\n",
      "•••••••• <- fib(*(1,), **{}) - 0.0000000840\n",
      "•••••••• -> fib(*(0,), **{})\n",
      "•••••••• <- fib(*(0,), **{}) - 0.0000001250\n",
      "••••••• <- fib(*(2,), **{}) - 0.0000446670\n",
      "••••••• -> fib(*(1,), **{})\n",
      "••••••• <- fib(*(1,), **{}) - 0.0000000840\n",
      "•••••• <- fib(*(3,), **{}) - 0.0000871670\n",
      "•••••• -> fib(*(2,), **{})\n",
      "••••••• -> fib(*(1,), **{})\n",
      "••••••• <- fib(*(1,), **{}) - 0.0000000830\n",
      "••••••• -> fib(*(0,), **{})\n",
      "••••••• <- fib(*(0,), **{}) - 0.0000000840\n",
      "•••••• <- fib(*(2,), **{}) - 0.0000645830\n",
      "••••• <- fib(*(4,), **{}) - 0.0002200410\n",
      "••••• -> fib(*(3,), **{})\n",
      "•••••• -> fib(*(2,), **{})\n",
      "••••••• -> fib(*(1,), **{})\n",
      "••••••• <- fib(*(1,), **{}) - 0.0000001660\n",
      "••••••• -> fib(*(0,), **{})\n",
      "••••••• <- fib(*(0,), **{}) - 0.0000001250\n",
      "•••••• <- fib(*(2,), **{}) - 0.0000447500\n",
      "•••••• -> fib(*(1,), **{})\n",
      "•••••• <- fib(*(1,), **{}) - 0.0000000840\n",
      "••••• <- fib(*(3,), **{}) - 0.0000995000\n",
      "•••• <- fib(*(5,), **{}) - 0.0003721250\n",
      "••• <- fib(*(7,), **{}) - 0.0009200410\n",
      "•• <- fib(*(9,), **{}) - 0.0022809160\n",
      "•• -> fib(*(8,), **{})\n",
      "••• -> fib(*(7,), **{})\n",
      "•••• -> fib(*(6,), **{})\n",
      "••••• -> fib(*(5,), **{})\n",
      "•••••• -> fib(*(4,), **{})\n",
      "••••••• -> fib(*(3,), **{})\n",
      "•••••••• -> fib(*(2,), **{})\n",
      "••••••••• -> fib(*(1,), **{})\n",
      "••••••••• <- fib(*(1,), **{}) - 0.0000001250\n",
      "••••••••• -> fib(*(0,), **{})\n",
      "••••••••• <- fib(*(0,), **{}) - 0.0000001250\n",
      "•••••••• <- fib(*(2,), **{}) - 0.0000445000\n",
      "•••••••• -> fib(*(1,), **{})\n",
      "•••••••• <- fib(*(1,), **{}) - 0.0000001250\n",
      "••••••• <- fib(*(3,), **{}) - 0.0000967500\n",
      "••••••• -> fib(*(2,), **{})\n",
      "•••••••• -> fib(*(1,), **{})\n",
      "•••••••• <- fib(*(1,), **{}) - 0.0000000830\n",
      "•••••••• -> fib(*(0,), **{})\n",
      "•••••••• <- fib(*(0,), **{}) - 0.0000000840\n",
      "••••••• <- fib(*(2,), **{}) - 0.0000464580\n",
      "•••••• <- fib(*(4,), **{}) - 0.0001880420\n",
      "•••••• -> fib(*(3,), **{})\n",
      "••••••• -> fib(*(2,), **{})\n",
      "•••••••• -> fib(*(1,), **{})\n",
      "•••••••• <- fib(*(1,), **{}) - 0.0000001250\n",
      "•••••••• -> fib(*(0,), **{})\n",
      "•••••••• <- fib(*(0,), **{}) - 0.0000000840\n",
      "••••••• <- fib(*(2,), **{}) - 0.0000478330\n",
      "••••••• -> fib(*(1,), **{})\n",
      "••••••• <- fib(*(1,), **{}) - 0.0000001250\n",
      "•••••• <- fib(*(3,), **{}) - 0.0000925000\n",
      "••••• <- fib(*(5,), **{}) - 0.0003256670\n",
      "••••• -> fib(*(4,), **{})\n",
      "•••••• -> fib(*(3,), **{})\n",
      "••••••• -> fib(*(2,), **{})\n",
      "•••••••• -> fib(*(1,), **{})\n",
      "•••••••• <- fib(*(1,), **{}) - 0.0000001250\n",
      "•••••••• -> fib(*(0,), **{})\n",
      "•••••••• <- fib(*(0,), **{}) - 0.0000000840\n",
      "••••••• <- fib(*(2,), **{}) - 0.0000447910\n",
      "••••••• -> fib(*(1,), **{})\n",
      "••••••• <- fib(*(1,), **{}) - 0.0000000840\n",
      "•••••• <- fib(*(3,), **{}) - 0.0000929170\n",
      "•••••• -> fib(*(2,), **{})\n",
      "••••••• -> fib(*(1,), **{})\n",
      "••••••• <- fib(*(1,), **{}) - 0.0000000840\n",
      "••••••• -> fib(*(0,), **{})\n",
      "••••••• <- fib(*(0,), **{}) - 0.0000001250\n",
      "•••••• <- fib(*(2,), **{}) - 0.0000498330\n",
      "••••• <- fib(*(4,), **{}) - 0.0001894160\n",
      "•••• <- fib(*(6,), **{}) - 0.0005674170\n",
      "•••• -> fib(*(5,), **{})\n",
      "••••• -> fib(*(4,), **{})\n",
      "•••••• -> fib(*(3,), **{})\n",
      "••••••• -> fib(*(2,), **{})\n",
      "•••••••• -> fib(*(1,), **{})\n",
      "•••••••• <- fib(*(1,), **{}) - 0.0000001250\n",
      "•••••••• -> fib(*(0,), **{})\n",
      "•••••••• <- fib(*(0,), **{}) - 0.0000001250\n",
      "••••••• <- fib(*(2,), **{}) - 0.0000479580\n",
      "••••••• -> fib(*(1,), **{})\n",
      "••••••• <- fib(*(1,), **{}) - 0.0000000830\n",
      "•••••• <- fib(*(3,), **{}) - 0.0000983750\n",
      "•••••• -> fib(*(2,), **{})\n",
      "••••••• -> fib(*(1,), **{})\n",
      "••••••• <- fib(*(1,), **{}) - 0.0000001250\n",
      "••••••• -> fib(*(0,), **{})\n",
      "••••••• <- fib(*(0,), **{}) - 0.0000001250\n",
      "•••••• <- fib(*(2,), **{}) - 0.0000487080\n",
      "••••• <- fib(*(4,), **{}) - 0.0002042920\n",
      "••••• -> fib(*(3,), **{})\n",
      "•••••• -> fib(*(2,), **{})\n",
      "••••••• -> fib(*(1,), **{})\n",
      "••••••• <- fib(*(1,), **{}) - 0.0000001250\n",
      "••••••• -> fib(*(0,), **{})\n",
      "••••••• <- fib(*(0,), **{}) - 0.0000001250\n",
      "•••••• <- fib(*(2,), **{}) - 0.0000526670\n",
      "•••••• -> fib(*(1,), **{})\n",
      "•••••• <- fib(*(1,), **{}) - 0.0000001250\n",
      "••••• <- fib(*(3,), **{}) - 0.0001027500\n",
      "•••• <- fib(*(5,), **{}) - 0.0003544590\n",
      "••• <- fib(*(7,), **{}) - 0.0009680830\n",
      "••• -> fib(*(6,), **{})\n",
      "•••• -> fib(*(5,), **{})\n",
      "••••• -> fib(*(4,), **{})\n",
      "•••••• -> fib(*(3,), **{})\n",
      "••••••• -> fib(*(2,), **{})\n",
      "•••••••• -> fib(*(1,), **{})\n",
      "•••••••• <- fib(*(1,), **{}) - 0.0000001250\n",
      "•••••••• -> fib(*(0,), **{})\n",
      "•••••••• <- fib(*(0,), **{}) - 0.0000001250\n",
      "••••••• <- fib(*(2,), **{}) - 0.0000499590\n",
      "••••••• -> fib(*(1,), **{})\n",
      "••••••• <- fib(*(1,), **{}) - 0.0000001250\n",
      "•••••• <- fib(*(3,), **{}) - 0.0000980420\n",
      "•••••• -> fib(*(2,), **{})\n",
      "••••••• -> fib(*(1,), **{})\n",
      "••••••• <- fib(*(1,), **{}) - 0.0000001250\n",
      "••••••• -> fib(*(0,), **{})\n",
      "••••••• <- fib(*(0,), **{}) - 0.0000000830\n",
      "•••••• <- fib(*(2,), **{}) - 0.0000490420\n",
      "••••• <- fib(*(4,), **{}) - 0.0001952910\n",
      "••••• -> fib(*(3,), **{})\n",
      "•••••• -> fib(*(2,), **{})\n",
      "••••••• -> fib(*(1,), **{})\n",
      "••••••• <- fib(*(1,), **{}) - 0.0000001250\n",
      "••••••• -> fib(*(0,), **{})\n",
      "••••••• <- fib(*(0,), **{}) - 0.0000000840\n",
      "•••••• <- fib(*(2,), **{}) - 0.0000570420\n",
      "•••••• -> fib(*(1,), **{})\n",
      "•••••• <- fib(*(1,), **{}) - 0.0000001250\n",
      "••••• <- fib(*(3,), **{}) - 0.0001063750\n",
      "•••• <- fib(*(5,), **{}) - 0.0003506670\n",
      "•••• -> fib(*(4,), **{})\n",
      "••••• -> fib(*(3,), **{})\n",
      "•••••• -> fib(*(2,), **{})\n",
      "••••••• -> fib(*(1,), **{})\n",
      "••••••• <- fib(*(1,), **{}) - 0.0000000830\n",
      "••••••• -> fib(*(0,), **{})\n",
      "••••••• <- fib(*(0,), **{}) - 0.0000001250\n",
      "•••••• <- fib(*(2,), **{}) - 0.0000512080\n",
      "•••••• -> fib(*(1,), **{})\n",
      "•••••• <- fib(*(1,), **{}) - 0.0000001250\n",
      "••••• <- fib(*(3,), **{}) - 0.0001041670\n",
      "••••• -> fib(*(2,), **{})\n",
      "•••••• -> fib(*(1,), **{})\n",
      "•••••• <- fib(*(1,), **{}) - 0.0000001250\n",
      "•••••• -> fib(*(0,), **{})\n",
      "•••••• <- fib(*(0,), **{}) - 0.0000001250\n",
      "••••• <- fib(*(2,), **{}) - 0.0000556670\n",
      "•••• <- fib(*(4,), **{}) - 0.0002089170\n",
      "••• <- fib(*(6,), **{}) - 0.0006130830\n",
      "•• <- fib(*(8,), **{}) - 0.0016323750\n",
      "• <- fib(*(10,), **{}) - 0.0039611670\n"
     ]
    },
    {
     "data": {
      "text/plain": [
       "55"
      ]
     },
     "execution_count": 69,
     "metadata": {},
     "output_type": "execute_result"
    }
   ],
   "execution_count": 69
  },
  {
   "metadata": {},
   "cell_type": "markdown",
   "source": [
    "```python\n",
    "class Helpers:\n",
    "    trace = trace\n",
    "\n",
    "\n",
    "Helpers.trace\n",
    "h = Helpers()\n",
    "\n",
    "@h.trace(separator=\"\")\n",
    "def foo():\n",
    "    pass\n",
    "\n",
    "```"
   ],
   "id": "117973986579ff07"
  },
  {
   "metadata": {
    "ExecuteTime": {
     "end_time": "2025-08-25T18:10:55.176593Z",
     "start_time": "2025-08-25T18:10:55.168675Z"
    }
   },
   "cell_type": "code",
   "source": [
    "class App:\n",
    "    def __init__(self):\n",
    "        self.routes = {}\n",
    "\n",
    "    def route(self, path):\n",
    "        def decorator(func):\n",
    "            self.routes[path] = func\n",
    "            return func\n",
    "        return decorator\n",
    "\n",
    "\n",
    "app = App()\n",
    "\n",
    "@app.route(\"/home\")\n",
    "def home_view():\n",
    "    return \"<h1>Hello home</h1>\"\n",
    "\n",
    "app.routes"
   ],
   "id": "563c742c78897716",
   "outputs": [
    {
     "data": {
      "text/plain": [
       "{'/home': <function __main__.home_view()>}"
      ]
     },
     "execution_count": 71,
     "metadata": {},
     "output_type": "execute_result"
    }
   ],
   "execution_count": 71
  },
  {
   "metadata": {
    "ExecuteTime": {
     "end_time": "2025-08-25T18:11:01.987090Z",
     "start_time": "2025-08-25T18:11:01.981785Z"
    }
   },
   "cell_type": "code",
   "source": "print(home_view)",
   "id": "d25ea053913193b5",
   "outputs": [
    {
     "name": "stdout",
     "output_type": "stream",
     "text": [
      "<function home_view at 0x106fbf560>\n"
     ]
    }
   ],
   "execution_count": 72
  },
  {
   "metadata": {},
   "cell_type": "markdown",
   "source": [
    "```python\n",
    "class RouteCreator:\n",
    "    def __call__(self, func):\n",
    "        pass\n",
    "\n",
    "class App:\n",
    "    def __init__(self):\n",
    "        self.routes = {}\n",
    "        self.route = RouteCreator()\n",
    "\n",
    "app = App()\n",
    "\n",
    "@app.route(\"/home\")\n",
    "def home_view():\n",
    "    pass\n",
    "```"
   ],
   "id": "7e99b6c2e4601212"
  }
 ],
 "metadata": {
  "kernelspec": {
   "display_name": "Python 3",
   "language": "python",
   "name": "python3"
  },
  "language_info": {
   "codemirror_mode": {
    "name": "ipython",
    "version": 2
   },
   "file_extension": ".py",
   "mimetype": "text/x-python",
   "name": "python",
   "nbconvert_exporter": "python",
   "pygments_lexer": "ipython2",
   "version": "2.7.6"
  }
 },
 "nbformat": 4,
 "nbformat_minor": 5
}
